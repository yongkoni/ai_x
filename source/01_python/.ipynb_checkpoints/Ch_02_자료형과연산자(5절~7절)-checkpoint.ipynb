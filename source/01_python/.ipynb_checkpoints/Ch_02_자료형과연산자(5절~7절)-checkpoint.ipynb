{
 "cells": [
  {
   "cell_type": "code",
   "execution_count": 1,
   "id": "27672578",
   "metadata": {},
   "outputs": [
    {
     "data": {
      "text/html": [
       "<style>\n",
       "div.container{width:86% !important;}\n",
       "div.cell.code_cell.rendered{width:100%;}\n",
       "div.CodeMirror {font-family:Consolas; font-size:12pt;}\n",
       "div.output {font-size:12pt; font-weight:bold;}\n",
       "div.input {font-family:Consolas; font-size:12pt;}\n",
       "div.prompt {min-width:70px;}\n",
       "div#toc-wrapper{padding-top:120px;}\n",
       "div.text_cell_render ul li{fontsize:12pt;padding:5px;}\n",
       "table.dataframe{font-size:12px;}))\n",
       "</style>\n"
      ],
      "text/plain": [
       "<IPython.core.display.HTML object>"
      ]
     },
     "metadata": {},
     "output_type": "display_data"
    }
   ],
   "source": [
    "from IPython.display import display, HTML\n",
    "display(HTML(\"\"\"<style>\n",
    "div.container{width:86% !important;}\n",
    "div.cell.code_cell.rendered{width:100%;}\n",
    "div.CodeMirror {font-family:Consolas; font-size:12pt;}\n",
    "div.output {font-size:12pt; font-weight:bold;}\n",
    "div.input {font-family:Consolas; font-size:12pt;}\n",
    "div.prompt {min-width:70px;}\n",
    "div#toc-wrapper{padding-top:120px;}\n",
    "div.text_cell_render ul li{fontsize:12pt;padding:5px;}\n",
    "table.dataframe{font-size:12px;}))\n",
    "</style>\n",
    "\"\"\"))"
   ]
  },
  {
   "cell_type": "markdown",
   "id": "4d9eb90a",
   "metadata": {},
   "source": [
    "<font size=\"5\" color=\"red\">ch02 자료형과 연산자</font>\n",
    "\n",
    "# 5절. 연산자\n",
    "\n",
    "## 5.1 산술연산자 : +, -, *, /, //(몫), %(나머지), **(제곱)"
   ]
  },
  {
   "cell_type": "code",
   "execution_count": 2,
   "id": "04a75290",
   "metadata": {},
   "outputs": [
    {
     "name": "stdout",
     "output_type": "stream",
     "text": [
      "10의 5승 : 100000\n",
      "4/2(결과 실수) : 2.0\n",
      "4//2(몫) : 2\n",
      "4%2(나머지) : 0\n"
     ]
    }
   ],
   "source": [
    "print('10의 5승 :', 10**5)\n",
    "print('4/2(결과 실수) :', 4/2)\n",
    "print('4//2(몫) :', 4//2)\n",
    "print('4%2(나머지) :', 4%2)"
   ]
  },
  {
   "cell_type": "code",
   "execution_count": 1,
   "id": "a436c6b5",
   "metadata": {},
   "outputs": [
    {
     "name": "stdout",
     "output_type": "stream",
     "text": [
      "정수를 입력하세요 :5\n",
      "입력하신 수는 5, 2로 나눈 나머지는 1, 그래서 홀수를 입력하셨군요\n"
     ]
    }
   ],
   "source": [
    "# Quiz 1. 정수를 입력받아 짝수인지 홀수인지 여부를 출력\n",
    "\n",
    "num = int(input('정수를 입력하세요 :'))\n",
    "result = num % 2\n",
    "if result :\n",
    "    temp = \"홀수\"\n",
    "else :\n",
    "    temp = \"짝수\"\n",
    "print(f\"입력하신 수는 {num}, 2로 나눈 나머지는 {result}, 그래서 {temp}를 입력하셨군요\")"
   ]
  },
  {
   "cell_type": "code",
   "execution_count": 8,
   "id": "2444dc54",
   "metadata": {},
   "outputs": [
    {
     "name": "stdout",
     "output_type": "stream",
     "text": [
      "정수를 입력하세요 :9\n",
      "입력하신 수는 9, 5로 나눈 나머지는 4, 그래서 5의 배수가 아닙니다\n"
     ]
    }
   ],
   "source": [
    "# Quiz 2. 정수를 입력받아 5의 배수인지 여부를 출력\n",
    "\n",
    "num = int(input('정수를 입력하세요 :'))\n",
    "result = num % 5\n",
    "if result == 0 :\n",
    "    temp = \"5의 배수입니다\"\n",
    "else :\n",
    "    temp = \"5의 배수가 아닙니다\"\n",
    "print(f\"입력하신 수는 {num}, 5로 나눈 나머지는 {result}, 그래서 {temp}\")"
   ]
  },
  {
   "cell_type": "code",
   "execution_count": 31,
   "id": "cb733017",
   "metadata": {},
   "outputs": [
    {
     "name": "stdout",
     "output_type": "stream",
     "text": [
      "국어, 영어, 수학 점수를 입력하시오\n",
      "78 88 99\n",
      "국어 :   78점\t영어 :   88점\t수학 :   99점\n",
      "총점 :  265점\t평균 : 88.3점\n"
     ]
    }
   ],
   "source": [
    "# Quiz 3. 국어, 영어, 수학 점수를 입력받아 다음셀에서 다음과 같이 출력하도록 구현하십시오\n",
    "\n",
    "# korean = int(input('국어 점수를 입력하세요 :'))\n",
    "# english = int(input('영어 점수를 입력하세요 :'))\n",
    "# math = int(input('정수 점수를 입력하세요 :'))\n",
    "\n",
    "score_list = list(map(int, input(\"국어, 영어, 수학 점수를 입력하시오\\n\").split()))\n",
    "\n",
    "score_sum = sum(score_list)\n",
    "length = len(score_list)\n",
    "score_avg = float(score_sum / length)\n",
    "\n",
    "print(\"국어 : {:4d}점\\t영어 : {:4d}점\\t수학 : {:4d}점\".format(score_list[0], score_list[1], score_list[2]))\n",
    "print(\"총점 : {:4d}점\\t평균 : {:4.1f}점\".format(score_sum, score_avg))"
   ]
  },
  {
   "cell_type": "markdown",
   "id": "9d897663",
   "metadata": {},
   "source": [
    "## 5.2 할당연산자 : =, +=, -=, *=, /=, //=, %="
   ]
  },
  {
   "cell_type": "code",
   "execution_count": 34,
   "id": "db0545f3",
   "metadata": {},
   "outputs": [
    {
     "name": "stdout",
     "output_type": "stream",
     "text": [
      "5더하기 : 15\n"
     ]
    }
   ],
   "source": [
    "a = 10\n",
    "a += 5 # a = a+5\n",
    "print('5더하기 :', a)"
   ]
  },
  {
   "cell_type": "code",
   "execution_count": 35,
   "id": "db87cdd7",
   "metadata": {},
   "outputs": [
    {
     "name": "stdout",
     "output_type": "stream",
     "text": [
      "5빼기 : 10\n",
      "5배 : 50\n"
     ]
    }
   ],
   "source": [
    "a -= 5 # a = a-5\n",
    "print('5빼기 :', a)\n",
    "a *= 5 # a = a*5\n",
    "print('5배 :', a)"
   ]
  },
  {
   "cell_type": "markdown",
   "id": "835d24f2",
   "metadata": {},
   "source": [
    "## 5.3 논리연산자 : &, and, |, or, not"
   ]
  },
  {
   "cell_type": "code",
   "execution_count": 32,
   "id": "15486e2a",
   "metadata": {},
   "outputs": [
    {
     "name": "stdout",
     "output_type": "stream",
     "text": [
      "True\n",
      "0\n"
     ]
    }
   ],
   "source": [
    "# & 논리연산\n",
    "\n",
    "print((10 > 3) & (10 > 5))  # 논리연산 True & True\n",
    "print(12 & 1)               # 비트연산 12 : 0000 1100\n",
    "                            #           1 : 0000 0001\n",
    "                            #      12 & 1 : 0000 0001"
   ]
  },
  {
   "cell_type": "code",
   "execution_count": 36,
   "id": "72b6dca7",
   "metadata": {},
   "outputs": [
    {
     "name": "stdout",
     "output_type": "stream",
     "text": [
      "3\n",
      "0\n",
      "[]\n"
     ]
    }
   ],
   "source": [
    "# and : False로 판별되는 첫번째 항을 반환\n",
    "#       모든 항이 참이면 마지막 항을 반환\n",
    "\n",
    "print(True and 1 and 3)\n",
    "print(0 and True)\n",
    "print(True and [] and True and True and True)"
   ]
  },
  {
   "cell_type": "code",
   "execution_count": 37,
   "id": "e1d82437",
   "metadata": {},
   "outputs": [
    {
     "name": "stdout",
     "output_type": "stream",
     "text": [
      "논리연산(연산자 앞뒤에 논리형일 때) : True\n",
      "비트연산(연산자 앞이나 뒤에 숫자일 때) : 3\n"
     ]
    }
   ],
   "source": [
    "# | : 논리연산, 비트연산\n",
    "\n",
    "result = False | True\n",
    "print('논리연산(연산자 앞뒤에 논리형일 때) :', result)\n",
    "result = False | 3 # 0000 0000 (False)\n",
    "                   # 0000 0011 (3)\n",
    "print('비트연산(연산자 앞이나 뒤에 숫자일 때) :', result)"
   ]
  },
  {
   "cell_type": "code",
   "execution_count": 38,
   "id": "df340723",
   "metadata": {},
   "outputs": [
    {
     "name": "stdout",
     "output_type": "stream",
     "text": [
      "None\n",
      "Hong\n"
     ]
    }
   ],
   "source": [
    "# or : 논리연산, 참으로 판별되는 첫번째 항을 반환\n",
    "#      모든 항이 거짓이면, 마지막항을 반환\n",
    "\n",
    "print(False or False or None)\n",
    "print('Hong' or ' ' or False)"
   ]
  },
  {
   "cell_type": "code",
   "execution_count": 39,
   "id": "01568d53",
   "metadata": {},
   "outputs": [
    {
     "name": "stdout",
     "output_type": "stream",
     "text": [
      "False\n"
     ]
    }
   ],
   "source": [
    "print(not True)"
   ]
  },
  {
   "cell_type": "markdown",
   "id": "50e2a219",
   "metadata": {},
   "source": [
    "## 5.4 비교연산자 : >, >=, <, <=, ==(같다), !=(다르다)"
   ]
  },
  {
   "cell_type": "code",
   "execution_count": 40,
   "id": "c2d71750",
   "metadata": {},
   "outputs": [
    {
     "name": "stdout",
     "output_type": "stream",
     "text": [
      "True\n",
      "True\n"
     ]
    }
   ],
   "source": [
    "# 비교연산자는 이항, 삼항, 사항, ... 다항연산자\n",
    "\n",
    "x = 5\n",
    "print((4 < x) & (x < 10))\n",
    "print(4 < x < 10)"
   ]
  },
  {
   "cell_type": "code",
   "execution_count": 43,
   "id": "87682ae1",
   "metadata": {},
   "outputs": [
    {
     "name": "stdout",
     "output_type": "stream",
     "text": [
      "True\n",
      "False\n",
      "False\n",
      "True\n"
     ]
    }
   ],
   "source": [
    "# 비교연산자(<)의 우선순위가 논리연산(&)의 우선순위보다 낮다\n",
    "\n",
    "print((10 > 5) & (10 > 7))\n",
    "print(10 > 5 & 10 > 7)      # 0101(5)\n",
    "                            # 1010(10)\n",
    "print( 10> 0 >7)\n",
    "print( 10>5 and 10>7)"
   ]
  },
  {
   "cell_type": "code",
   "execution_count": 44,
   "id": "3095f261",
   "metadata": {},
   "outputs": [
    {
     "name": "stdout",
     "output_type": "stream",
     "text": [
      "False\n",
      "False\n"
     ]
    }
   ],
   "source": [
    "address = '서울'\n",
    "age = 29\n",
    "# print(address == '서울' & age >= 30)      ()를 안 넣을 경우 == 보다 & 가 우선순위이므로 error \n",
    "print((address == '서울') & (age >= 30))\n",
    "print((address != '서울') & (age >= 30))"
   ]
  },
  {
   "cell_type": "code",
   "execution_count": 46,
   "id": "c497068c",
   "metadata": {},
   "outputs": [
    {
     "name": "stdout",
     "output_type": "stream",
     "text": [
      "True\n",
      "True\n",
      "True\n"
     ]
    }
   ],
   "source": [
    "# 문자 비교 : ASCII 코드 순으로 비교 가능 : 특수문자 < 숫자 < 대문자 < 소문자\n",
    "\n",
    "print('scott' < 'sctiger')\n",
    "print('9' > '10')\n",
    "print('김길동김수한무거북이와' < '홍길동')"
   ]
  },
  {
   "cell_type": "markdown",
   "id": "c4d61d80",
   "metadata": {},
   "source": [
    "## 5.5 비트연산자 ; &, |, ^(XOR), ~\n",
    "\n",
    "```\n",
    " x   y   x&Y   X^Y\n",
    " 0   0    0     0\n",
    " 0   1    0     1\n",
    " 1   0    0     1\n",
    " 1   1    1     0\n",
    " ```"
   ]
  },
  {
   "cell_type": "code",
   "execution_count": 47,
   "id": "cf38363d",
   "metadata": {},
   "outputs": [
    {
     "name": "stdout",
     "output_type": "stream",
     "text": [
      " a  = 15 : 1111\n",
      " b  =  2 : 0010\n",
      "a^b = 13 : 1101\n"
     ]
    }
   ],
   "source": [
    "a = 15  # 1111\n",
    "b = 2   # 0010\n",
    "print(\" a  = {0:2} : {0:04b}\".format(a))\n",
    "print(\" b  = {0:2} : {0:04b}\".format(b))\n",
    "print(\"a^b = {0:2} : {0:04b}\".format(a^b))"
   ]
  },
  {
   "cell_type": "markdown",
   "id": "a1bc9a8c",
   "metadata": {},
   "source": [
    "- 연산자\n",
    "    - 산술연산 : + - * / // % **\n",
    "    - 할당연산 : = += -= *= /= //= %=\n",
    "    - 논리연산 : & and | or not\n",
    "    - 비교연산 : > >= < <= == !=\n",
    "    - 비트연산 : & | ^\n",
    "    - &와 |은 비교연산자보다 우선순위가 높다"
   ]
  },
  {
   "cell_type": "markdown",
   "id": "8bb06f5e",
   "metadata": {},
   "source": [
    "# 6절. 문자열 다루기\n",
    "- 문자열 슬라이싱 변수[from:stop:step]\n",
    "- len(문자열변수) : 문자갯수\n",
    "- upper() : 대문자로\n",
    "- lower() : 소문자로\n",
    "- title() : 각 어절의 첫글자만 대문자로\n",
    "- capitalize() : 첫문자만 대문자로\n",
    "- count('찾을문자열') : '찾을문자열'이 몇개 들어있는지 갯수 변환\n",
    "- find('찾을문자열') : '찾을문자열'이 왼쪽부터 시작하여 몇번째 인덱스에 있는지 인덱스를 반환\n",
    "- rfind('찾을문자열') : '찾을문자열'이 오른쪽부터 시작하여 몇번째 인덱스에 있는지 인덱스를 반환\n",
    "        **찾을문자열이 없으면 -1을 반환**\n",
    "    cf) index('찾을문자열') : 찾을문자열의 인덱스를 반환, 찾을문자열이 없으면 오류  =>  오류가 날 수도 있으므로 거의 안씀\n",
    "- startswith('특정문자열') : 특정문자열로 시작하는지 여부\n",
    "- endswith('특정문자열') : 특정문자열로 끝나는지 여부\n",
    "- strip() : 좌우 공백 제거\n",
    "- rstrip() : 오른쪽 공백 제거\n",
    "- lstrip() : 왼쪽 공백 제거\n",
    "- isdigit() : 숫자문자열인지 여부\n",
    "- islower() : 소문자문자열인지 여부\n",
    "- isupper() : 대문자문자열인지 여부\n",
    "- replace(oldStr, newStr) : oldStr을 newStr로 변경"
   ]
  },
  {
   "cell_type": "code",
   "execution_count": 54,
   "id": "58215c1f",
   "metadata": {},
   "outputs": [
    {
     "name": "stdout",
     "output_type": "stream",
     "text": [
      "Python is easy. Python is smart. Python 39\n",
      "PYTHON IS EASY. PYTHON IS SMART. PYTHON\n",
      "python is easy. python is smart. python\n"
     ]
    }
   ],
   "source": [
    "temp = \"Python is easy. Python is smart. Python\"\n",
    "print(temp, len(temp))\n",
    "print(temp.upper())\n",
    "print(temp.lower())"
   ]
  },
  {
   "cell_type": "code",
   "execution_count": 64,
   "id": "ab3574fb",
   "metadata": {},
   "outputs": [
    {
     "name": "stdout",
     "output_type": "stream",
     "text": [
      "1. 글자수 39\n",
      "2. 대문자로 : PYTHON IS EASY. PYTHON IS SMART. PYTHON\n",
      "3. 소문자로 : python is easy. python is smart. python\n",
      "4. title : Python Is Easy. Python Is Smart. Python\n",
      "5. capitalize : Python is easy. python is smart. python\n",
      "6. python이 몇번 나오는지 : 2\n",
      "7-1. 대소문자구분없이 python이 몇번 나오는지 : 3\n",
      "7-2. 대소문자구분없이 python이 몇번 나오는지 : 0\n",
      "7-3. 대소문자구분없이 python이 몇번 나오는지 : 0\n",
      "8-1. python이 나오는 첫 index 위치 : 0\n",
      "8-2. python이 나오는 마지막 index 위치 : 33\n",
      "8-3. java가 나오는 마지막 index 위치 : -1\n",
      "8-4. python이 나오는 마지막 index 위치 : 0\n",
      "9-1. python으로 시작하는지 여부 : True\n",
      "9-2. python으로 끝나는지 여부 : False\n",
      "9-3. 대소문자 구분 없이 python으로 끝나는지 여부 : True\n"
     ]
    }
   ],
   "source": [
    "temp = \"python is easy. pYThon is smart. python\"\n",
    "#       012345678901234567890123456789012345678\n",
    "print('1. 글자수', len(temp))\n",
    "print('2. 대문자로 :', temp.upper())\n",
    "print('3. 소문자로 :', temp.lower())\n",
    "print('4. title :', temp.title())\n",
    "print('5. capitalize :', temp.capitalize())\n",
    "print('6. python이 몇번 나오는지 :', temp.count('python'))\n",
    "print('7-1. 대소문자구분없이 python이 몇번 나오는지 :', temp.lower().count('python'))\n",
    "print('7-2. 대소문자구분없이 python이 몇번 나오는지 :', temp.upper().count('python'))\n",
    "print('7-3. 대소문자구분없이 python이 몇번 나오는지 :', temp.title().count('python'))\n",
    "print('8-1. python이 나오는 첫 index 위치 :', temp.find('python'))\n",
    "print('8-2. python이 나오는 마지막 index 위치 :', temp.rfind('python'))\n",
    "print('8-3. java가 나오는 마지막 index 위치 :', temp.rfind('java'))\n",
    "print('8-4. python이 나오는 마지막 index 위치 :', temp.index('python'))\n",
    "# print('8-5. java가 나오는 마지막 index 위치 :', temp.index('java'))  에러\n",
    "print('9-1. python으로 시작하는지 여부 :', temp.startswith('python'))\n",
    "print('9-2. python으로 끝나는지 여부 :', temp.endswith('PYTHON'))  # 대문자와 소문자가 다름\n",
    "print('9-3. 대소문자 구분 없이 python으로 끝나는지 여부 :', temp.upper().endswith('PYTHON'))"
   ]
  },
  {
   "cell_type": "code",
   "execution_count": 71,
   "id": "c9db4f7b",
   "metadata": {},
   "outputs": [
    {
     "name": "stdout",
     "output_type": "stream",
     "text": [
      "10-1. 좌우공백제거 : [Python is easy.]\n",
      "10-2. 좌우공백제거 : [Python is easy.     ]\n",
      "10-3. 좌우공백제거 : [     Python is easy.]\n",
      "11-1. 숫자문자열인지 여부 : False\n",
      "11-1. 숫자문자열인지 여부 : True\n",
      "11-2. 소문자문자열인지 여부 : False\n",
      "11-3. 대문자문자열인지 여부 : False\n",
      "12-1. notdisit에서 ,를 제거 : 1000\n",
      "12-2. num_str에서 ,를 제거 : 1000\n"
     ]
    }
   ],
   "source": [
    "temp = '     Python is easy.     '\n",
    "notdisit = '1,000'\n",
    "num_str = '1000'\n",
    "print('10-1. 좌우공백제거 : [{}]'.format(temp.strip()))\n",
    "print('10-2. 좌우공백제거 : [{}]'.format(temp.lstrip()))\n",
    "print('10-3. 좌우공백제거 : [{}]'.format(temp.rstrip()))\n",
    "print('11-1. 숫자문자열인지 여부 :', notdisit.isdigit())  # ,가 있어서 숫자문자열이 아님\n",
    "print('11-1. 숫자문자열인지 여부 :', num_str.isdigit())\n",
    "print('11-2. 소문자문자열인지 여부 :', temp.islower())  # 전부 소문자문자열이여야 True\n",
    "print('11-3. 대문자문자열인지 여부 :', temp.isupper())  # 전부 대문자문자열이여야 True\n",
    "print('12-1. notdisit에서 ,를 제거 :', notdisit.replace(',', ''))\n",
    "print('12-2. num_str에서 ,를 제거 :', notdisit.replace(',', ''))  # 바꿀 ,가 없으므로 그대로 출력"
   ]
  },
  {
   "cell_type": "code",
   "execution_count": 73,
   "id": "5ea73193",
   "metadata": {},
   "outputs": [
    {
     "name": "stdout",
     "output_type": "stream",
     "text": [
      "space단위로 temp를 분리 : ['홍길동', '김길동', '신길동', '유길동']\n"
     ]
    }
   ],
   "source": [
    "temp = \" 홍길동   김길동 신길동 유길동\"\n",
    "print('space 단위로 temp를 분리 :', temp.split())  # 기본이 space 단위로 분리"
   ]
  },
  {
   "cell_type": "code",
   "execution_count": 86,
   "id": "8793ae6b",
   "metadata": {},
   "outputs": [
    {
     "name": "stdout",
     "output_type": "stream",
     "text": [
      " - 단위로 data를 분리(결과 : list)\n",
      "2025 04 10 "
     ]
    }
   ],
   "source": [
    "data = \"2025-04-10\"\n",
    "print(' - 단위로 data를 분리(결과 : list)')\n",
    "data_list = data.split('-')\n",
    "for i in data_list :\n",
    "    print(i, end=' ')"
   ]
  },
  {
   "cell_type": "code",
   "execution_count": 87,
   "id": "662bc565",
   "metadata": {},
   "outputs": [
    {
     "name": "stdout",
     "output_type": "stream",
     "text": [
      "원 데이터 : Python - HTML/CSS - JavaScript - DBMS\n",
      "분리된 데이터 : ['Python', 'HTML/CSS', 'JavaScript', 'DBMS']\n",
      "join된 데이터 : Python/HTML/CSS/JavaScript/DBMS\n"
     ]
    }
   ],
   "source": [
    "# ' - '을 '/'로 바꾸기\n",
    "\n",
    "temp = \"Python - HTML/CSS - JavaScript - DBMS\"\n",
    "# temp.replace(' - ', '/')\n",
    "print('원 데이터 :', temp)\n",
    "splited_temp = temp.split(' - ')\n",
    "print('분리된 데이터 :', splited_temp)\n",
    "joined_temp = '/'.join(splited_temp)\n",
    "print('join된 데이터 :', joined_temp)"
   ]
  },
  {
   "cell_type": "code",
   "execution_count": 89,
   "id": "f249232c",
   "metadata": {},
   "outputs": [
    {
     "data": {
      "text/plain": [
       "['__add__',\n",
       " '__class__',\n",
       " '__contains__',\n",
       " '__delattr__',\n",
       " '__dir__',\n",
       " '__doc__',\n",
       " '__eq__',\n",
       " '__format__',\n",
       " '__ge__',\n",
       " '__getattribute__',\n",
       " '__getitem__',\n",
       " '__getnewargs__',\n",
       " '__gt__',\n",
       " '__hash__',\n",
       " '__init__',\n",
       " '__init_subclass__',\n",
       " '__iter__',\n",
       " '__le__',\n",
       " '__len__',\n",
       " '__lt__',\n",
       " '__mod__',\n",
       " '__mul__',\n",
       " '__ne__',\n",
       " '__new__',\n",
       " '__reduce__',\n",
       " '__reduce_ex__',\n",
       " '__repr__',\n",
       " '__rmod__',\n",
       " '__rmul__',\n",
       " '__setattr__',\n",
       " '__sizeof__',\n",
       " '__str__',\n",
       " '__subclasshook__',\n",
       " 'capitalize',\n",
       " 'casefold',\n",
       " 'center',\n",
       " 'count',\n",
       " 'encode',\n",
       " 'endswith',\n",
       " 'expandtabs',\n",
       " 'find',\n",
       " 'format',\n",
       " 'format_map',\n",
       " 'index',\n",
       " 'isalnum',\n",
       " 'isalpha',\n",
       " 'isascii',\n",
       " 'isdecimal',\n",
       " 'isdigit',\n",
       " 'isidentifier',\n",
       " 'islower',\n",
       " 'isnumeric',\n",
       " 'isprintable',\n",
       " 'isspace',\n",
       " 'istitle',\n",
       " 'isupper',\n",
       " 'join',\n",
       " 'ljust',\n",
       " 'lower',\n",
       " 'lstrip',\n",
       " 'maketrans',\n",
       " 'partition',\n",
       " 'removeprefix',\n",
       " 'removesuffix',\n",
       " 'replace',\n",
       " 'rfind',\n",
       " 'rindex',\n",
       " 'rjust',\n",
       " 'rpartition',\n",
       " 'rsplit',\n",
       " 'rstrip',\n",
       " 'split',\n",
       " 'splitlines',\n",
       " 'startswith',\n",
       " 'strip',\n",
       " 'swapcase',\n",
       " 'title',\n",
       " 'translate',\n",
       " 'upper',\n",
       " 'zfill']"
      ]
     },
     "execution_count": 89,
     "metadata": {},
     "output_type": "execute_result"
    }
   ],
   "source": [
    "# 문자열이 다룰 수 있는 함수들과 변수들 목록\n",
    "\n",
    "str_ = 'ABC' \n",
    "# str_ = ['A','B','C']\n",
    "dir(str)"
   ]
  },
  {
   "cell_type": "markdown",
   "id": "423fad92",
   "metadata": {},
   "source": [
    "# 7절 시간,날짜, 날짜시간 다루기"
   ]
  },
  {
   "cell_type": "code",
   "execution_count": null,
   "id": "cb79b20e",
   "metadata": {},
   "outputs": [],
   "source": []
  },
  {
   "cell_type": "markdown",
   "id": "eb7f8a97",
   "metadata": {},
   "source": [
    "# 8절. 연습문제"
   ]
  },
  {
   "cell_type": "code",
   "execution_count": 91,
   "id": "6a8e53c1",
   "metadata": {},
   "outputs": [
    {
     "name": "stdout",
     "output_type": "stream",
     "text": [
      "이름을 입력하시오 :홍길동\n",
      "나이를 입력하시오 :23\n",
      "[홍길동님의 나이는 23살입니다]\n"
     ]
    }
   ],
   "source": [
    "# 1. 이름과 나이 변수를 다음 형식으로 출력하도록 format() 함수를 이용해 형식화하세요\n",
    "# [출력형식 : 홍길동님의 나이는 23살입니다]\n",
    "\n",
    "name = input('이름을 입력하시오 :')\n",
    "age = int(input('나이를 입력하시오 :'))\n",
    "\n",
    "print('[{}님의 나이는 {}살입니다]'.format(name, age))"
   ]
  },
  {
   "cell_type": "code",
   "execution_count": 129,
   "id": "8cfb546c",
   "metadata": {},
   "outputs": [
    {
     "name": "stdout",
     "output_type": "stream",
     "text": [
      "두 정수를 입력하시오 :123045 746\n",
      "123045 746\n",
      "덧셈 : 123791\t 뺄셈 : 122299\t 곱셈 : 91791570\n",
      "나눗셈 : 164.940\t 몫 : 164\t 나머지 : 701\n"
     ]
    }
   ],
   "source": [
    "# 2. 두 정수를 입력받아 두 수의 덧셈, 뺄셈, 곱셈, 나눗셈, 몫, 나머지를 출력하세요\n",
    "\n",
    "num1, num2 = map(int,input('두 정수를 입력하시오 :').split())\n",
    "temp = 0\n",
    "\n",
    "if num1 < num2 :\n",
    "    temp = num1\n",
    "    num1 = num2\n",
    "    num2 = temp\n",
    "\n",
    "print('덧셈 : {:3d}\\t 뺄셈 : {:3d}\\t 곱셈 : {:3d}'.format(num1+num2, num1-num2, num1*num2))\n",
    "print('나눗셈 : {:3.3f}\\t 몫 : {:3d}\\t 나머지 : {:3d}'.format(float(num1/num2), num1//num2, num1%num2))"
   ]
  },
  {
   "cell_type": "code",
   "execution_count": 142,
   "id": "de3a28fb",
   "metadata": {},
   "outputs": [
    {
     "name": "stdout",
     "output_type": "stream",
     "text": [
      "World Hello\n"
     ]
    }
   ],
   "source": [
    "# 3. 문자열의 분리하기와 합치기 기능을 이용하여 ‘Hello World’가 할당된 변수를 이용하여 World Hello’로 출력하세요\n",
    "\n",
    "str1 = \"Hello World\"\n",
    "str1_list = str1.split()\n",
    "str2_list = str1_list[::-1]\n",
    "str2 = \" \".join(str2_list)\n",
    "print(str2)"
   ]
  },
  {
   "cell_type": "code",
   "execution_count": 155,
   "id": "a9b79a2f",
   "metadata": {},
   "outputs": [
    {
     "name": "stdout",
     "output_type": "stream",
     "text": [
      "bcdefa\n"
     ]
    }
   ],
   "source": [
    "# 4. x = 'abcdef＇를 이용하여 ‘bcdefa’로 출력하세요(문자 슬라이싱이용)\n",
    "\n",
    "x = 'abcdef'\n",
    "print(x[1:] + x[0])"
   ]
  },
  {
   "cell_type": "code",
   "execution_count": 150,
   "id": "193c558c",
   "metadata": {},
   "outputs": [
    {
     "name": "stdout",
     "output_type": "stream",
     "text": [
      "fedcba\n",
      "fedcba\n"
     ]
    }
   ],
   "source": [
    "# 5. x = ‘abcdef’를 이용하여 ‘fedcba’로 출력하세요\n",
    "\n",
    "x = 'abcdef'\n",
    "print(x[::-1])"
   ]
  },
  {
   "cell_type": "code",
   "execution_count": 162,
   "id": "c527cdb1",
   "metadata": {},
   "outputs": [
    {
     "name": "stdout",
     "output_type": "stream",
     "text": [
      "섭씨온도를 입력하시오 :12\n",
      "화씨 온도 : 53.60F\n"
     ]
    }
   ],
   "source": [
    "# 6. 오늘의 온도를 섭씨온도로 입력받아 화씨 온도로 변환하는 프로그램을 작성하세요. \n",
    "#    화씨 온도는 소수점이 있을 경우만 두번째 자리까지 출력되고, 소수점이하 값이 없는 경우 소수점을 출력하지 않도록 합니다.\n",
    "#    (다음은 섭씨와 화씨의 변환 공식입니다. C는 섭씨, F는 화씨)\n",
    "#    C = (F-32) / 1.8   F = (C*1.8) + 32\n",
    "\n",
    "c_temperature = int(input('섭씨온도를 입력하시오 :'))\n",
    "f_temperature = c_temperature * 1.8 + 32\n",
    "\n",
    "if int(f_temperature) == f_temperature :\n",
    "    print('화씨 온도 : {}F'.format(int(f_temperature)))\n",
    "else :\n",
    "    print('화씨 온도 : {:0.2f}F'.format(f_temperature))"
   ]
  },
  {
   "cell_type": "code",
   "execution_count": null,
   "id": "fc0d37c1",
   "metadata": {},
   "outputs": [],
   "source": [
    "# 7. 다음 중 변수 선언으로 잘못된 것을 모두 고르시오?\n",
    "#   ① for\n",
    "#   ② 10th\n",
    "#   ③ Student.name\n",
    "#   ④ _1234\n",
    "\n",
    "print('정답 : 1,2,3)"
   ]
  },
  {
   "cell_type": "code",
   "execution_count": 163,
   "id": "75e8970a",
   "metadata": {},
   "outputs": [
    {
     "name": "stdout",
     "output_type": "stream",
     "text": [
      "SeounSeoul\n",
      "Seou n Seoul\n"
     ]
    }
   ],
   "source": [
    "# 8. 다음의 코드의 실행결과는?\n",
    "\n",
    "text = \"Seoul A001 - programming with python\"\n",
    "print(text[:4]+text[-1]+text.split()[0])\n",
    "print(text[:4], text[-1], text.split()[0])"
   ]
  },
  {
   "cell_type": "code",
   "execution_count": null,
   "id": "831d4970",
   "metadata": {},
   "outputs": [],
   "source": [
    "9. 다음 중 파이썬 3.x 버전에서 연산식과 그 결과의 출력이 잘못된 것은?\n",
    "① 수식 8//2 결과 4\n",
    "② 수식 8/2 결과 4\n",
    "③ 수식 8 **2 결과 64"
   ]
  },
  {
   "cell_type": "code",
   "execution_count": null,
   "id": "9fd8bbb1",
   "metadata": {},
   "outputs": [],
   "source": [
    "10. 아래 프로그램의 결과는?"
   ]
  },
  {
   "cell_type": "code",
   "execution_count": null,
   "id": "f2c0d971",
   "metadata": {},
   "outputs": [],
   "source": [
    "11. split()함수를 이용하여 str_의 값 중 ＂나라＂를 출력하는 프로그램을 완성하시오"
   ]
  }
 ],
 "metadata": {
  "kernelspec": {
   "display_name": "Python 3 (ipykernel)",
   "language": "python",
   "name": "python3"
  },
  "language_info": {
   "codemirror_mode": {
    "name": "ipython",
    "version": 3
   },
   "file_extension": ".py",
   "mimetype": "text/x-python",
   "name": "python",
   "nbconvert_exporter": "python",
   "pygments_lexer": "ipython3",
   "version": "3.10.9"
  },
  "toc": {
   "base_numbering": 1,
   "nav_menu": {},
   "number_sections": false,
   "sideBar": true,
   "skip_h1_title": false,
   "title_cell": "Table of Contents",
   "title_sidebar": "Contents",
   "toc_cell": false,
   "toc_position": {
    "height": "calc(100% - 180px)",
    "left": "10px",
    "top": "150px",
    "width": "227.55px"
   },
   "toc_section_display": true,
   "toc_window_display": true
  }
 },
 "nbformat": 4,
 "nbformat_minor": 5
}
