{
 "cells": [
  {
   "cell_type": "code",
   "execution_count": 3,
   "id": "84b72c7d",
   "metadata": {},
   "outputs": [
    {
     "data": {
      "text/html": [
       "<style>\n",
       "div.container{width:86% !important;}\n",
       "div.cell.code_cell.rendered{width:100%;}\n",
       "div.CodeMirror {font-family:Consolas; font-size:12pt;}\n",
       "div.output {font-size:12pt; font-weight:bold;}\n",
       "div.input {font-family:Consolas; font-size:12pt;}\n",
       "div.prompt {min-width:70px;}\n",
       "div#toc-wrapper{padding-top:120px;}\n",
       "div.text_cell_render ul li{fontsize:12pt;padding:5px;}\n",
       "table.dataframe{font-size:12px;}))\n",
       "</style>\n"
      ],
      "text/plain": [
       "<IPython.core.display.HTML object>"
      ]
     },
     "metadata": {},
     "output_type": "display_data"
    }
   ],
   "source": [
    "from IPython.display import display, HTML\n",
    "display(HTML(\"\"\"<style>\n",
    "div.container{width:86% !important;}\n",
    "div.cell.code_cell.rendered{width:100%;}\n",
    "div.CodeMirror {font-family:Consolas; font-size:12pt;}\n",
    "div.output {font-size:12pt; font-weight:bold;}\n",
    "div.input {font-family:Consolas; font-size:12pt;}\n",
    "div.prompt {min-width:70px;}\n",
    "div#toc-wrapper{padding-top:120px;}\n",
    "div.text_cell_render ul li{fontsize:12pt;padding:5px;}\n",
    "table.dataframe{font-size:12px;}))\n",
    "</style>\n",
    "\"\"\"))"
   ]
  },
  {
   "cell_type": "markdown",
   "id": "0f3f04a6",
   "metadata": {},
   "source": [
    "<font size=\"5\" color=\"red\">ch01 파이썬 개요 및 환경 설정</font>"
   ]
  },
  {
   "cell_type": "markdown",
   "id": "a860e071",
   "metadata": {},
   "source": [
    "# 1절. 주피터 노트북 사용법\n",
    "- shift+Enter : 선택된 셀이 실행되고, 다음셀로 이동\n",
    "- alt+Enter   : 선택된 셀이 실행되고, 다음셀이 생성된 후 다음셀로 이동\n",
    "- ctrl+Enter  : 선택된 셀이 실행되고, 해당셀에 있음\n",
    "- Enter(셀 클릭) : 다시 편집상태로 돌아감"
   ]
  },
  {
   "cell_type": "code",
   "execution_count": 5,
   "id": "251d6c97",
   "metadata": {},
   "outputs": [
    {
     "name": "stdout",
     "output_type": "stream",
     "text": [
      "Hello, World\n",
      "홍길동\n"
     ]
    }
   ],
   "source": [
    "print(\"Hello, World\\n홍길동\")"
   ]
  },
  {
   "cell_type": "code",
   "execution_count": 7,
   "id": "17bccd66",
   "metadata": {},
   "outputs": [
    {
     "name": "stdout",
     "output_type": "stream",
     "text": [
      "252\n",
      "27\n"
     ]
    }
   ],
   "source": [
    "age = 25\n",
    "duration = \"2\"\n",
    "print(str(age) + duration)\n",
    "print(age + int(duration))"
   ]
  },
  {
   "cell_type": "code",
   "execution_count": 12,
   "id": "12d114fe",
   "metadata": {},
   "outputs": [],
   "source": [
    "# 반보가는 명령(주석:실행하지 않고 개발자가 보는 용도)\n",
    "# for i in range(10000000):\n",
    "#     print(i)"
   ]
  },
  {
   "cell_type": "code",
   "execution_count": 13,
   "id": "2123afbc",
   "metadata": {},
   "outputs": [],
   "source": [
    "print = 10"
   ]
  },
  {
   "cell_type": "code",
   "execution_count": 14,
   "id": "e49bc9e2",
   "metadata": {},
   "outputs": [],
   "source": [
    "# 실수로 print를 변수로 지정했을 경우 취소하는 방법\n",
    "# 1. 커널 재시작\n",
    "# print 변수만 제거\n",
    "del print"
   ]
  },
  {
   "cell_type": "markdown",
   "id": "f54ec2c9",
   "metadata": {},
   "source": [
    "# 2절. ESC 키 누르고(핫키)\n",
    "- dd : 삭제\n",
    "- a  : 윗셀 추가\n",
    "- b  : 아렛셀 추가\n",
    "- m  : 마크다운셀(문서셀)로 변경\n",
    "- y  : 코드셀로 변경\n",
    "- o  : 실행결과 접기/펴기(토글가능)"
   ]
  },
  {
   "cell_type": "markdown",
   "id": "a97d2218",
   "metadata": {},
   "source": [
    "# 3절. 마크다운이란?\n",
    "- 코드와 함께 문서화 할 수 있음\n",
    "- 다양한 문서화 문법 ex. README.md"
   ]
  },
  {
   "cell_type": "code",
   "execution_count": 20,
   "id": "04443b9e",
   "metadata": {},
   "outputs": [
    {
     "name": "stdout",
     "output_type": "stream",
     "text": [
      " C 드라이브의 볼륨에는 이름이 없습니다.\n",
      " 볼륨 일련 번호: 3664-591E\n",
      "\n",
      " C:\\ai_x\\source\\01_python 디렉터리\n",
      "\n",
      "2025-04-08  오후 12:40    <DIR>          .\n",
      "2025-04-08  오후 12:40    <DIR>          ..\n",
      "2025-04-08  오전 11:37    <DIR>          .ipynb_checkpoints\n",
      "2025-04-08  오후 12:40             6,389 Ch_01_파이썬개요및환경설정.ipynb\n",
      "2025-04-08  오전 11:17                21 test.py\n",
      "               2개 파일               6,410 바이트\n",
      "               3개 디렉터리  161,304,018,944 바이트 남음\n"
     ]
    }
   ],
   "source": [
    "# 주피터 노트북에서 cmd 명령을 실행하는 방법\n",
    "# 파이썬 버전\n",
    "! dir"
   ]
  },
  {
   "cell_type": "code",
   "execution_count": 22,
   "id": "00d064c2",
   "metadata": {},
   "outputs": [
    {
     "name": "stdout",
     "output_type": "stream",
     "text": [
      " C 드라이브의 볼륨에는 이름이 없습니다.\n",
      " 볼륨 일련 번호: 3664-591E\n",
      "\n",
      " C:\\ai_x\\source\\01_python 디렉터리\n",
      "\n",
      "2025-04-08  오후 12:40    <DIR>          .\n",
      "2025-04-08  오후 12:40    <DIR>          ..\n",
      "2025-04-08  오전 11:37    <DIR>          .ipynb_checkpoints\n",
      "2025-04-08  오후 12:40             6,389 Ch_01_파이썬개요및환경설정.ipynb\n",
      "2025-04-08  오전 11:17                21 test.py\n",
      "               2개 파일               6,410 바이트\n",
      "               3개 디렉터리  161,302,507,520 바이트 남음\n"
     ]
    }
   ],
   "source": [
    "# 리눅스 버전\n",
    "%ls"
   ]
  },
  {
   "cell_type": "code",
   "execution_count": 23,
   "id": "f8e64e7b",
   "metadata": {},
   "outputs": [
    {
     "name": "stdout",
     "output_type": "stream",
     "text": [
      "Hello, World\n",
      "홍길동\n"
     ]
    }
   ],
   "source": [
    "print(\"Hello, World\\n홍길동\")"
   ]
  }
 ],
 "metadata": {
  "kernelspec": {
   "display_name": "Python 3 (ipykernel)",
   "language": "python",
   "name": "python3"
  },
  "language_info": {
   "codemirror_mode": {
    "name": "ipython",
    "version": 3
   },
   "file_extension": ".py",
   "mimetype": "text/x-python",
   "name": "python",
   "nbconvert_exporter": "python",
   "pygments_lexer": "ipython3",
   "version": "3.10.9"
  },
  "toc": {
   "base_numbering": 1,
   "nav_menu": {
    "height": "77.8px",
    "width": "175.8px"
   },
   "number_sections": false,
   "sideBar": true,
   "skip_h1_title": false,
   "title_cell": "Table of Contents",
   "title_sidebar": "Contents",
   "toc_cell": false,
   "toc_position": {
    "height": "calc(100% - 180px)",
    "left": "10px",
    "top": "150px",
    "width": "232.55px"
   },
   "toc_section_display": true,
   "toc_window_display": true
  }
 },
 "nbformat": 4,
 "nbformat_minor": 5
}
