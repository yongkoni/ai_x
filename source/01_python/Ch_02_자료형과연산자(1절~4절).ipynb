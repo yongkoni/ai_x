{
 "cells": [
  {
   "cell_type": "code",
   "execution_count": 1,
   "id": "864f22f2",
   "metadata": {},
   "outputs": [
    {
     "data": {
      "text/html": [
       "<style>\n",
       "div.container{width:86% !important;}\n",
       "div.cell.code_cell.rendered{width:100%;}\n",
       "div.CodeMirror {font-family:Consolas; font-size:12pt;}\n",
       "div.output {font-size:12pt; font-weight:bold;}\n",
       "div.input {font-family:Consolas; font-size:12pt;}\n",
       "div.prompt {min-width:70px;}\n",
       "div#toc-wrapper{padding-top:120px;}\n",
       "div.text_cell_render ul li{fontsize:12pt;padding:5px;}\n",
       "table.dataframe{font-size:12px;}))\n",
       "</style>\n"
      ],
      "text/plain": [
       "<IPython.core.display.HTML object>"
      ]
     },
     "metadata": {},
     "output_type": "display_data"
    }
   ],
   "source": [
    "from IPython.display import display, HTML\n",
    "display(HTML(\"\"\"<style>\n",
    "div.container{width:86% !important;}\n",
    "div.cell.code_cell.rendered{width:100%;}\n",
    "div.CodeMirror {font-family:Consolas; font-size:12pt;}\n",
    "div.output {font-size:12pt; font-weight:bold;}\n",
    "div.input {font-family:Consolas; font-size:12pt;}\n",
    "div.prompt {min-width:70px;}\n",
    "div#toc-wrapper{padding-top:120px;}\n",
    "div.text_cell_render ul li{fontsize:12pt;padding:5px;}\n",
    "table.dataframe{font-size:12px;}))\n",
    "</style>\n",
    "\"\"\"))"
   ]
  },
  {
   "cell_type": "markdown",
   "id": "c1f9d3b7",
   "metadata": {},
   "source": [
    "<font size=\"5\" color=\"red\">ch02 자료형과 연산자</font>\n",
    "# 1절. 변수\n",
    "- 파이썬은 변수선언을 위한 과정이 없음 (변수지정과 동시에 타입이 지정되고 값이 할당됨)\n",
    "\n",
    "## 1.1 변수할당\n",
    "- 할당연산자(=)를 이용해서 갑을 할당하면 타입이 셋팅\n",
    "- 파이썬에서의 모든 변수는 객체로 저장"
   ]
  },
  {
   "cell_type": "code",
   "execution_count": 8,
   "id": "555662ae",
   "metadata": {},
   "outputs": [
    {
     "name": "stdout",
     "output_type": "stream",
     "text": [
      "계산된 넓이 = 78.5\n"
     ]
    }
   ],
   "source": [
    "r = 5\n",
    "area = 3.14 * r * r\n",
    "print(\"계산된 넓이 =\", area)"
   ]
  },
  {
   "cell_type": "code",
   "execution_count": 12,
   "id": "789cc7c7",
   "metadata": {},
   "outputs": [
    {
     "name": "stdout",
     "output_type": "stream",
     "text": [
      "계산된 넓이 = 78.53981633974483\n"
     ]
    }
   ],
   "source": [
    "import numpy as np\n",
    "\n",
    "area = np.pi * r * r\n",
    "print(\"계산된 넓이 =\", area)"
   ]
  },
  {
   "cell_type": "code",
   "execution_count": 14,
   "id": "481ec989",
   "metadata": {},
   "outputs": [
    {
     "data": {
      "text/plain": [
       "False"
      ]
     },
     "execution_count": 14,
     "metadata": {},
     "output_type": "execute_result"
    }
   ],
   "source": [
    "area.is_integer() # area가 integer인지 여부를 반환"
   ]
  },
  {
   "cell_type": "code",
   "execution_count": 15,
   "id": "0190530f",
   "metadata": {},
   "outputs": [
    {
     "name": "stdout",
     "output_type": "stream",
     "text": [
      "area의 주소 : 3097652557488\n",
      "area의 타입 : <class 'float'>\n"
     ]
    }
   ],
   "source": [
    "print('area의 주소 :', id(area))   # id(area) : area 변수의 주소값\n",
    "print('area의 타입 :', type(area)) # type(area) : area 변수의 타입값"
   ]
  },
  {
   "cell_type": "code",
   "execution_count": 16,
   "id": "7f45d93a",
   "metadata": {},
   "outputs": [
    {
     "name": "stdout",
     "output_type": "stream",
     "text": [
      "area의 주소 : 3097569722896\n",
      "area의 타입 : <class 'int'>\n"
     ]
    }
   ],
   "source": [
    "area = 10\n",
    "\n",
    "print('area의 주소 :', id(area))   # id(area) : area 변수의 주소값\n",
    "print('area의 타입 :', type(area)) # type(area) : area 변수의 타입값"
   ]
  },
  {
   "cell_type": "code",
   "execution_count": 17,
   "id": "d9c61866",
   "metadata": {},
   "outputs": [
    {
     "name": "stdout",
     "output_type": "stream",
     "text": [
      "area의 주소 : 3097690278960\n",
      "area의 타입 : <class 'str'>\n"
     ]
    }
   ],
   "source": [
    "area = \"파이썬\"\n",
    "\n",
    "print('area의 주소 :', id(area))   # id(area) : area 변수의 주소값\n",
    "print('area의 타입 :', type(area)) # type(area) : area 변수의 타입값"
   ]
  },
  {
   "cell_type": "markdown",
   "id": "510ea1b5",
   "metadata": {},
   "source": [
    "## 1.2 변수이름 규치\n",
    "- 문자로 시작 (숫자시작불가)\n",
    "- 문자, 숫자, _로 변수명 작성\n",
    "- 함수명은 변수이름으로 가능하나 피한다 (써야한다면 int_식으로 _를 이용)\n",
    "- 파이썬 예약어(for, while, ...)는 변수이름 사용 불가\n",
    "- 한글변수는 꼭 필요시에만 이용\n",
    "- 대문자로 시작하는 변수이름 매우 비추 (Class의 이름을 대부분 대문자로 시작)"
   ]
  },
  {
   "cell_type": "code",
   "execution_count": 26,
   "id": "52762fd7",
   "metadata": {},
   "outputs": [
    {
     "name": "stdout",
     "output_type": "stream",
     "text": [
      "홍길동\n"
     ]
    }
   ],
   "source": [
    "이름 = \"홍길동\" # 비추\n",
    "print(이름)"
   ]
  },
  {
   "cell_type": "code",
   "execution_count": 27,
   "id": "96188fd6",
   "metadata": {},
   "outputs": [
    {
     "data": {
      "text/plain": [
       "'홍길동'"
      ]
     },
     "execution_count": 27,
     "metadata": {},
     "output_type": "execute_result"
    }
   ],
   "source": [
    "이름"
   ]
  },
  {
   "cell_type": "code",
   "execution_count": 28,
   "id": "9e6f6e52",
   "metadata": {},
   "outputs": [
    {
     "ename": "SyntaxError",
     "evalue": "invalid syntax (3039934606.py, line 1)",
     "output_type": "error",
     "traceback": [
      "\u001b[1;36m  Cell \u001b[1;32mIn[28], line 1\u001b[1;36m\u001b[0m\n\u001b[1;33m    for = 5\u001b[0m\n\u001b[1;37m        ^\u001b[0m\n\u001b[1;31mSyntaxError\u001b[0m\u001b[1;31m:\u001b[0m invalid syntax\n"
     ]
    }
   ],
   "source": [
    "for = 5"
   ]
  },
  {
   "cell_type": "code",
   "execution_count": 20,
   "id": "ce1c8aff",
   "metadata": {},
   "outputs": [],
   "source": [
    "# member.name = \"홍길동\"\n",
    "member_name = \"홍길동\"\n",
    "memberName = \"홍길동\""
   ]
  },
  {
   "cell_type": "code",
   "execution_count": 22,
   "id": "483fb8a4",
   "metadata": {},
   "outputs": [
    {
     "name": "stdout",
     "output_type": "stream",
     "text": [
      "10\n"
     ]
    }
   ],
   "source": [
    "Print = 10 # 대문자로 시작하는 변수이름 강력하게 비추\n",
    "print(Print)"
   ]
  },
  {
   "cell_type": "code",
   "execution_count": 23,
   "id": "e10b0515",
   "metadata": {},
   "outputs": [
    {
     "data": {
      "text/plain": [
       "complex"
      ]
     },
     "execution_count": 23,
     "metadata": {},
     "output_type": "execute_result"
    }
   ],
   "source": [
    "# 파이썬에서의 숫자 : 정수, 실수, 복소수\n",
    "\n",
    "i = 3 + 3j # 복소수\n",
    "type(i)"
   ]
  },
  {
   "cell_type": "code",
   "execution_count": 25,
   "id": "3ed77a12",
   "metadata": {},
   "outputs": [
    {
     "data": {
      "text/plain": [
       "True"
      ]
     },
     "execution_count": 25,
     "metadata": {},
     "output_type": "execute_result"
    }
   ],
   "source": [
    "isinstance(i, complex)   # i변수(객체)가 complex인지 여부"
   ]
  },
  {
   "cell_type": "markdown",
   "id": "c8fb630c",
   "metadata": {},
   "source": [
    "## 1.3 도움말\n",
    "- help의 사용법 2가지\n",
    "- 도움말 핫키 : shift+tab키 tab키"
   ]
  },
  {
   "cell_type": "code",
   "execution_count": 29,
   "id": "21e600dd",
   "metadata": {},
   "outputs": [
    {
     "name": "stdout",
     "output_type": "stream",
     "text": [
      "Help on built-in function print in module builtins:\n",
      "\n",
      "print(...)\n",
      "    print(value, ..., sep=' ', end='\\n', file=sys.stdout, flush=False)\n",
      "    \n",
      "    Prints the values to a stream, or to sys.stdout by default.\n",
      "    Optional keyword arguments:\n",
      "    file:  a file-like object (stream); defaults to the current sys.stdout.\n",
      "    sep:   string inserted between values, default a space.\n",
      "    end:   string appended after the last value, default a newline.\n",
      "    flush: whether to forcibly flush the stream.\n",
      "\n"
     ]
    }
   ],
   "source": [
    "help(print)"
   ]
  },
  {
   "cell_type": "code",
   "execution_count": 31,
   "id": "56a19817",
   "metadata": {
    "collapsed": true
   },
   "outputs": [
    {
     "name": "stdout",
     "output_type": "stream",
     "text": [
      "\n",
      "Welcome to Python 3.10's help utility!\n",
      "\n",
      "If this is your first time using Python, you should definitely check out\n",
      "the tutorial on the internet at https://docs.python.org/3.10/tutorial/.\n",
      "\n",
      "Enter the name of any module, keyword, or topic to get help on writing\n",
      "Python programs and using Python modules.  To quit this help utility and\n",
      "return to the interpreter, just type \"quit\".\n",
      "\n",
      "To get a list of available modules, keywords, symbols, or topics, type\n",
      "\"modules\", \"keywords\", \"symbols\", or \"topics\".  Each module also comes\n",
      "with a one-line summary of what it does; to list the modules whose name\n",
      "or summary contain a given string such as \"spam\", type \"modules spam\".\n",
      "\n",
      "help> print\n",
      "Help on built-in function print in module builtins:\n",
      "\n",
      "print(...)\n",
      "    print(value, ..., sep=' ', end='\\n', file=sys.stdout, flush=False)\n",
      "    \n",
      "    Prints the values to a stream, or to sys.stdout by default.\n",
      "    Optional keyword arguments:\n",
      "    file:  a file-like object (stream); defaults to the current sys.stdout.\n",
      "    sep:   string inserted between values, default a space.\n",
      "    end:   string appended after the last value, default a newline.\n",
      "    flush: whether to forcibly flush the stream.\n",
      "\n",
      "help> q\n",
      "\n",
      "You are now leaving help and returning to the Python interpreter.\n",
      "If you want to ask for help on a particular object directly from the\n",
      "interpreter, you can type \"help(object)\".  Executing \"help('string')\"\n",
      "has the same effect as typing a particular string at the help> prompt.\n"
     ]
    }
   ],
   "source": [
    "help()\n",
    "# help를 빠져나오려면 q입력\n",
    "# Esc+o : 결과 접기/펴기"
   ]
  },
  {
   "cell_type": "code",
   "execution_count": 32,
   "id": "24c6a55b",
   "metadata": {},
   "outputs": [
    {
     "name": "stdout",
     "output_type": "stream",
     "text": [
      "\n"
     ]
    }
   ],
   "source": [
    "# 도움말 기능 : shift+tab키 tab키\n",
    "print()"
   ]
  },
  {
   "cell_type": "code",
   "execution_count": 36,
   "id": "34377aa5",
   "metadata": {},
   "outputs": [],
   "source": [
    "def add_ex(x, y=0):\n",
    "    '''\n",
    "    매개변수 2개를 받아 두자리 숫자로 만듭니다\n",
    "    x = 10의 자리수가 됨\n",
    "    y = 1의 자리수가 됨\n",
    "    사용법 : add_ex(2, 3) => 23\n",
    "    '''\n",
    "    return x * 10 + y"
   ]
  },
  {
   "cell_type": "code",
   "execution_count": 37,
   "id": "50008d71",
   "metadata": {},
   "outputs": [
    {
     "name": "stdout",
     "output_type": "stream",
     "text": [
      "21 30\n"
     ]
    }
   ],
   "source": [
    "print(add_ex(2, 1), add_ex(3,))"
   ]
  },
  {
   "cell_type": "code",
   "execution_count": 38,
   "id": "378a78a0",
   "metadata": {},
   "outputs": [
    {
     "data": {
      "text/plain": [
       "23"
      ]
     },
     "execution_count": 38,
     "metadata": {},
     "output_type": "execute_result"
    }
   ],
   "source": [
    "a = add_ex\n",
    "a(2, 3)"
   ]
  },
  {
   "cell_type": "markdown",
   "id": "a38eb88c",
   "metadata": {},
   "source": [
    "## 1.4 다중 변수 할당"
   ]
  },
  {
   "cell_type": "code",
   "execution_count": 51,
   "id": "3e8e5ca5",
   "metadata": {},
   "outputs": [],
   "source": [
    "a = 10\n",
    "b = 20"
   ]
  },
  {
   "cell_type": "code",
   "execution_count": 39,
   "id": "5ddff8e7",
   "metadata": {
    "scrolled": true
   },
   "outputs": [
    {
     "name": "stdout",
     "output_type": "stream",
     "text": [
      "10 20\n"
     ]
    }
   ],
   "source": [
    "a, b = 10, 20\n",
    "print(a, b)"
   ]
  },
  {
   "cell_type": "code",
   "execution_count": 40,
   "id": "a4435a57",
   "metadata": {},
   "outputs": [
    {
     "name": "stdout",
     "output_type": "stream",
     "text": [
      "20 30\n"
     ]
    }
   ],
   "source": [
    "# 다중 변수 할당시 순차적 할당이 아니고, 일괄 동시 할당\n",
    "a, b = b, a+b\n",
    "print(a, b)"
   ]
  },
  {
   "cell_type": "markdown",
   "id": "9bbaad15",
   "metadata": {},
   "source": [
    "# 2절. 화면입출력(i/o)"
   ]
  },
  {
   "cell_type": "code",
   "execution_count": 43,
   "id": "093ef7e2",
   "metadata": {},
   "outputs": [
    {
     "name": "stdout",
     "output_type": "stream",
     "text": [
      "첫번째 숫자는? 8\n"
     ]
    },
    {
     "data": {
      "text/plain": [
       "'8'"
      ]
     },
     "execution_count": 43,
     "metadata": {},
     "output_type": "execute_result"
    }
   ],
   "source": [
    "# input() : 사용자로부터 값을 입력받기 위한 함수 (문자열로 입력)\n",
    "\n",
    "first = input(\"첫번째 숫자는? \")\n",
    "first"
   ]
  },
  {
   "cell_type": "code",
   "execution_count": 44,
   "id": "35d4d29f",
   "metadata": {},
   "outputs": [
    {
     "name": "stdout",
     "output_type": "stream",
     "text": [
      "두번째 숫자는? 2\n"
     ]
    }
   ],
   "source": [
    "second = input(\"두번째 숫자는? \")"
   ]
  },
  {
   "cell_type": "code",
   "execution_count": 45,
   "id": "cf38e4bd",
   "metadata": {},
   "outputs": [
    {
     "name": "stdout",
     "output_type": "stream",
     "text": [
      "합: 10\n"
     ]
    }
   ],
   "source": [
    "sum = int(first) + int(second)\n",
    "print(\"합:\", sum)"
   ]
  },
  {
   "cell_type": "code",
   "execution_count": 48,
   "id": "897d637f",
   "metadata": {},
   "outputs": [
    {
     "name": "stdout",
     "output_type": "stream",
     "text": [
      "첫번째 숫자는? 27\n",
      "두번째 숫자는? 73\n",
      "합 : 100\n"
     ]
    }
   ],
   "source": [
    "first = int(input(\"첫번째 숫자는? \"))\n",
    "second = int(input(\"두번째 숫자는? \"))\n",
    "sum = first + second\n",
    "print(\"합 :\", sum)"
   ]
  },
  {
   "cell_type": "code",
   "execution_count": 55,
   "id": "282e368a",
   "metadata": {},
   "outputs": [
    {
     "name": "stdout",
     "output_type": "stream",
     "text": [
      "합 = 100, 합 : 100, 합은 100\n"
     ]
    }
   ],
   "source": [
    "print(\"합\", sum, sep = ' = ', end = ', ')\n",
    "print(\"합\", sum, sep = ' : ', end = ', ')\n",
    "print(\"합\", sum, sep = '은 ')"
   ]
  },
  {
   "cell_type": "code",
   "execution_count": 57,
   "id": "ab4e9169",
   "metadata": {},
   "outputs": [
    {
     "name": "stdout",
     "output_type": "stream",
     "text": [
      "Hello, World\n"
     ]
    }
   ],
   "source": [
    "import sys\n",
    "\n",
    "print('Hello', 'World', sep = \", \", file = sys.stdout)"
   ]
  },
  {
   "cell_type": "markdown",
   "id": "f332af5d",
   "metadata": {},
   "source": [
    "# 3절. 기본 자료형\n",
    "- 자료형에 따라 값의 크기와 저장방식이 달라짐\n",
    "        - 숫자 : int, float, complex\n",
    "        - 문자 : str\n",
    "        - 논리 : bool(True/False)"
   ]
  },
  {
   "cell_type": "markdown",
   "id": "60832208",
   "metadata": {},
   "source": [
    "## 3.1 숫자형"
   ]
  },
  {
   "cell_type": "code",
   "execution_count": 59,
   "id": "4745748d",
   "metadata": {},
   "outputs": [
    {
     "data": {
      "text/plain": [
       "9223372036854775807"
      ]
     },
     "execution_count": 59,
     "metadata": {},
     "output_type": "execute_result"
    }
   ],
   "source": [
    "import sys\n",
    "\n",
    "sys.maxsize  # 정수의 최대값 2의 63승 - 1 (2**63 - 1)"
   ]
  },
  {
   "cell_type": "code",
   "execution_count": 61,
   "id": "3011352c",
   "metadata": {},
   "outputs": [
    {
     "name": "stdout",
     "output_type": "stream",
     "text": [
      "9223372046854775807\n",
      "<class 'int'>\n"
     ]
    }
   ],
   "source": [
    "i = sys.maxsize + 10000000000\n",
    "print(i)\n",
    "print(type(i))"
   ]
  },
  {
   "cell_type": "code",
   "execution_count": 63,
   "id": "b8749fbf",
   "metadata": {},
   "outputs": [
    {
     "name": "stdout",
     "output_type": "stream",
     "text": [
      "2.0\n"
     ]
    }
   ],
   "source": [
    "f = 4 / 2 # 정수/정수는 무조건 실수\n",
    "print(f)"
   ]
  },
  {
   "cell_type": "code",
   "execution_count": 71,
   "id": "239bc03f",
   "metadata": {},
   "outputs": [
    {
     "name": "stdout",
     "output_type": "stream",
     "text": [
      "2.0\n",
      "2\n"
     ]
    }
   ],
   "source": [
    "# 자바처럼 정수/정수의 결과를 정수로\n",
    "f = 4 / 2\n",
    "print(f)\n",
    "f = int(4 / 2)\n",
    "print(f)"
   ]
  },
  {
   "cell_type": "code",
   "execution_count": 66,
   "id": "04d40912",
   "metadata": {},
   "outputs": [
    {
     "name": "stdout",
     "output_type": "stream",
     "text": [
      "1j\n",
      "(-1+0j)\n"
     ]
    }
   ],
   "source": [
    "c = 1j  # 수학시간의 0 + 1j\n",
    "print(c)\n",
    "print(c**2)"
   ]
  },
  {
   "cell_type": "code",
   "execution_count": 73,
   "id": "8ca14386",
   "metadata": {},
   "outputs": [
    {
     "name": "stdout",
     "output_type": "stream",
     "text": [
      "지수형 표현할당시 실수형으로 저장 : 1120000000000.0\n",
      "지수형 표현할당시 실수형으로 저장 : 1.12e-12\n"
     ]
    }
   ],
   "source": [
    "f = 1.12e12  # 1.12의 10의 12승 1120000000000\n",
    "print('지수형 표현할당시 실수형으로 저장 :', f)\n",
    "f = 1.12e-12 # 0.00000000000112\n",
    "print('지수형 표현할당시 실수형으로 저장 :', f)"
   ]
  },
  {
   "cell_type": "markdown",
   "id": "2082907b",
   "metadata": {},
   "source": [
    "## 3.2 문자형\n",
    "- 쌍따옴표(\"\")나 홑따음표('') 이용"
   ]
  },
  {
   "cell_type": "code",
   "execution_count": 80,
   "id": "026c3a76",
   "metadata": {},
   "outputs": [
    {
     "name": "stdout",
     "output_type": "stream",
     "text": [
      "홍길동\"짱\" 서울시 관악구 '신림동'\n",
      "홍길동\"짱\" 서울시 관악구 '신림동'\n"
     ]
    }
   ],
   "source": [
    "name_1 = \"홍길동\\\"짱\\\"\"  # 홍길동\"짱\"\n",
    "name_2 = '홍길동\\\"짱\\\"'\n",
    "address_1 = '서울시 관악구 \\'신림동\\''  # 서울시 관악구 '신길동'\n",
    "address_2 = \"서울시 관악구 \\'신림동\\'\"  \n",
    "print(name_1, address_1)  # 1과 2 둘 다 같은 결과값을 가지지만\n",
    "print(name_2, address_2)  # 가독성이 2가 더 좋으므로 1은 비추"
   ]
  },
  {
   "cell_type": "code",
   "execution_count": 82,
   "id": "38dc8a84",
   "metadata": {},
   "outputs": [
    {
     "name": "stdout",
     "output_type": "stream",
     "text": [
      "여러 줄짜리 내용\n",
      "줄바꿈문자를 쓰지 않고 따옴표 3개로 처리\n",
      "이처럼 쓰는 경우가 많습니다\n"
     ]
    }
   ],
   "source": [
    "# 문자형 변수 여러 줄\n",
    "\n",
    "text = '''여러 줄짜리 내용\n",
    "줄바꿈문자를 쓰지 않고 따옴표 3개로 처리\n",
    "이처럼 쓰는 경우가 많습니다'''\n",
    "\n",
    "print(text)"
   ]
  },
  {
   "cell_type": "markdown",
   "id": "933f4a2d",
   "metadata": {},
   "source": [
    "### ※ 문자열 연산"
   ]
  },
  {
   "cell_type": "code",
   "execution_count": 83,
   "id": "1c085e9a",
   "metadata": {},
   "outputs": [
    {
     "name": "stdout",
     "output_type": "stream",
     "text": [
      "홍길동동해 번쩍 서해 번쩍\n"
     ]
    }
   ],
   "source": [
    "'''\n",
    "    여러 줄 주석 용도\n",
    "    2025.04.08 문자열 연산 소스 by 아무개\n",
    "'''\n",
    "\n",
    "name1 = \"홍길동\"\n",
    "name2 = \"동해 번쩍 서해 번쩍\"\n",
    "\n",
    "print(name1 + name2)"
   ]
  },
  {
   "cell_type": "code",
   "execution_count": 84,
   "id": "3ab66517",
   "metadata": {},
   "outputs": [
    {
     "name": "stdout",
     "output_type": "stream",
     "text": [
      "홍길동홍길동홍길동\n"
     ]
    }
   ],
   "source": [
    "print(name1 * 3)  # 문자열을 곱하면 반복"
   ]
  },
  {
   "cell_type": "markdown",
   "id": "31c8ebd7",
   "metadata": {},
   "source": [
    "### ※ raw 데이터\n",
    "- 용도 : 정규표현식 이용, directory 경로 표현시 이용"
   ]
  },
  {
   "cell_type": "code",
   "execution_count": 90,
   "id": "698e1a2e",
   "metadata": {},
   "outputs": [
    {
     "name": "stdout",
     "output_type": "stream",
     "text": [
      "Hello\n",
      "World\n",
      "Hello\\nWorld\n",
      "Hello\\nWorld\n"
     ]
    }
   ],
   "source": [
    "print('Hello\\nWorld')\n",
    "\n",
    "print(r'Hello\\nWorld')\n",
    "print('Hello\\\\nWorld')  # 1이 2보다 가독성이 좋음"
   ]
  },
  {
   "cell_type": "markdown",
   "id": "cd6b335b",
   "metadata": {},
   "source": [
    "정규표현식\n",
    "```\n",
    "(마크업 셀에서 백틱은 블록을 만들 때 사용)\n",
    "1. 의미: 문자열의 일정한 패턴을 표현하는 일종의 형식 언어\n",
    "2. 간략한 문법 : \n",
    "   \\d (숫자와 매치, [0-9]와 동일)\n",
    "   \\D (숫자가 아닌것)\n",
    "   \\w (영문자나 숫자, [a-zA-z0-9])\n",
    "   \\W (영문자나 숫자가 아닌 문자)\n",
    "   .  (문자)\n",
    "   \\. (. 의미)\n",
    "   \\- (- 의미)\n",
    "   \\s (space 의미)\n",
    "   {a, b} (a~b번 반복)\n",
    "   {a}    (a번 반복)\n",
    "   {a, }  (a번 이상 반복)\n",
    "   +      (1번 이상 반복)\n",
    "   *      (0번 이상 반복)\n",
    "   ?      (0번 또는 1번 반복)\n",
    "3. 정규표현식 연승장(https://regexr.com/)\n",
    "   ex1. 전화번호 : 010-9999-9999 02-7777-7777 0108886666 0277775555\n",
    "                   02)333-4444 010 1234 4321 010.9876.5432\n",
    "                   \"\\d{2,3}[\\-) .]?[0-9]{3,4}.?\\d{4}\"\n",
    "   ex2. 이메일 : abcd11@naver.com / zxcv123@to7.co.kr / qwer123@한국.com\n",
    "                 \"\\w+@[a-zA-Z0-9가-힣]+\\.\\w+[\\.\\w]*\"\n",
    "4. 소스 구현\n",
    "```\n",
    "                                                       ※ 참조 : 위키피아"
   ]
  },
  {
   "cell_type": "code",
   "execution_count": 43,
   "id": "c98312bb",
   "metadata": {},
   "outputs": [
    {
     "name": "stdout",
     "output_type": "stream",
     "text": [
      "홍길동인데 전화번호가 031)789-4567이고 휴대폰은 010.5544.1234 오늘 날씨가 엄청 좋네요 ㅋㅋ ㅠㅠ\n"
     ]
    }
   ],
   "source": [
    "import re\n",
    "\n",
    "data = \"홍길동인데 전화번호가 031)789-4567이고 \\\n",
    "휴대폰은 010.5544.1234 \\\n",
    "오늘 날씨가 엄청 좋네요 ㅋㅋ ㅠㅠ\"\n",
    "print(data)"
   ]
  },
  {
   "cell_type": "code",
   "execution_count": 44,
   "id": "9c814886",
   "metadata": {},
   "outputs": [],
   "source": [
    "data2 = \"가나다라마바사아자차카타파하\""
   ]
  },
  {
   "cell_type": "code",
   "execution_count": 45,
   "id": "4bfbf96a",
   "metadata": {},
   "outputs": [],
   "source": [
    "tel_pattern = r\"\\d{2,3}[\\-) .]?[0-9]{3,4}.?\\d{4}\"\n",
    "email_pattern = r\"\\w+@[a-zA-Z0-9가-힣]+\\.\\w+[\\.\\w]*\""
   ]
  },
  {
   "cell_type": "code",
   "execution_count": 46,
   "id": "6d418c72",
   "metadata": {},
   "outputs": [
    {
     "data": {
      "text/plain": [
       "['031)789-4567', '010.5544.1234']"
      ]
     },
     "execution_count": 46,
     "metadata": {},
     "output_type": "execute_result"
    }
   ],
   "source": [
    "# re.findall()은 해당 패턴을 전부 찾아줌, 해당 패턴이 없을 경우 []반환\n",
    "tels = re.findall(tel_pattern, data)\n",
    "tels"
   ]
  },
  {
   "cell_type": "code",
   "execution_count": 47,
   "id": "f26dbb89",
   "metadata": {},
   "outputs": [
    {
     "data": {
      "text/plain": [
       "[]"
      ]
     },
     "execution_count": 47,
     "metadata": {},
     "output_type": "execute_result"
    }
   ],
   "source": [
    "tels2 = re.findall(tel_pattern, data2)\n",
    "tels2"
   ]
  },
  {
   "cell_type": "code",
   "execution_count": 48,
   "id": "71072871",
   "metadata": {},
   "outputs": [
    {
     "data": {
      "text/plain": [
       "<re.Match object; span=(12, 24), match='031)789-4567'>"
      ]
     },
     "execution_count": 48,
     "metadata": {},
     "output_type": "execute_result"
    }
   ],
   "source": [
    "# re.search() : 정규표현식 패턴과 일치하는 처음 단어만 찾음\n",
    "pattern = \"(\\d{2,3}).?([0-9]{3,4})-(\\d{4})\"\n",
    "firstTel = re.search(pattern, data)\n",
    "firstTel"
   ]
  },
  {
   "cell_type": "code",
   "execution_count": 49,
   "id": "37110192",
   "metadata": {},
   "outputs": [
    {
     "data": {
      "text/plain": [
       "'031)789-4567'"
      ]
     },
     "execution_count": 49,
     "metadata": {},
     "output_type": "execute_result"
    }
   ],
   "source": [
    "data[12:24]  # 문자 슬라이싱"
   ]
  },
  {
   "cell_type": "code",
   "execution_count": 50,
   "id": "8d847bd3",
   "metadata": {},
   "outputs": [
    {
     "name": "stdout",
     "output_type": "stream",
     "text": [
      "전화번호 전체 : 031)789-4567\n",
      "국번 : 031\n",
      "중간번호 : 789\n",
      "끝번호 : 4567\n"
     ]
    }
   ],
   "source": [
    "print(\"전화번호 전체 :\", firstTel.group(0))\n",
    "print(\"국번 :\", firstTel.group(1))\n",
    "print(\"중간번호 :\", firstTel.group(2))\n",
    "print(\"끝번호 :\", firstTel.group(3))"
   ]
  },
  {
   "cell_type": "code",
   "execution_count": 54,
   "id": "3c1f5b6f",
   "metadata": {},
   "outputs": [
    {
     "data": {
      "text/plain": [
       "'홍길동인데 전화번호가 031-789-4567이고 휴대폰은 010-5544-1234 오늘 날씨가 엄청 좋네요  '"
      ]
     },
     "execution_count": 54,
     "metadata": {},
     "output_type": "execute_result"
    }
   ],
   "source": [
    "# re.sub() : 문자열에서 특정 패턴을 찾아 다른 문자열로 변경\n",
    "data = re.sub(r'[)\\.]','-',data)\n",
    "re.sub(r'[^\\d가-힣\\s\\-]','',data)  # 특수문자, 자음, 모음 없애기"
   ]
  },
  {
   "cell_type": "code",
   "execution_count": 38,
   "id": "c43026d8",
   "metadata": {},
   "outputs": [],
   "source": [
    "# 파일 경로에는 반드시 r,\\\\, /중 하나를 사용\n",
    "file_path = r\"C:\\ai_x\\source\\01_python\\text.txt\"\n",
    "file_path = \"C:\\\\ai_x\\\\source\\\\01_python\\\\text.txt\"\n",
    "file_path = \"C:/ai_x/source/01_python/text.txt\"           # 1,3을 주로 사용"
   ]
  },
  {
   "cell_type": "code",
   "execution_count": 39,
   "id": "dbdac931",
   "metadata": {},
   "outputs": [
    {
     "name": "stdout",
     "output_type": "stream",
     "text": [
      "Hello ~ world\n"
     ]
    }
   ],
   "source": [
    "file_stream = open(file_path, 'w')\n",
    "print(\"Hello\", \"world\", sep = \" ~ \")  # 콘솔 출력\n",
    "print(\"Hello\", \"world\", sep = \" ~ \", file = file_stream)  # 파일 출력\n",
    "file_stream.close()  # close를 하지 않으면 파일 저장이 안 됨"
   ]
  },
  {
   "cell_type": "markdown",
   "id": "9f510279",
   "metadata": {},
   "source": [
    "### ※문자열 슬라이싱"
   ]
  },
  {
   "cell_type": "code",
   "execution_count": 59,
   "id": "5ddcec61",
   "metadata": {},
   "outputs": [
    {
     "data": {
      "text/plain": [
       "'abcdefghijklmnopqrstuvwxyz'"
      ]
     },
     "execution_count": 59,
     "metadata": {},
     "output_type": "execute_result"
    }
   ],
   "source": [
    "str_ = 'abcdefghijklmnopqrstuvwxyz'\n",
    "str_"
   ]
  },
  {
   "cell_type": "code",
   "execution_count": 60,
   "id": "07d65fe2",
   "metadata": {},
   "outputs": [
    {
     "data": {
      "text/plain": [
       "('a', 'c', 'z', 'x')"
      ]
     },
     "execution_count": 60,
     "metadata": {},
     "output_type": "execute_result"
    }
   ],
   "source": [
    "# 문자 인덱싱\n",
    "str_[0], str_[2], str_[-1], str_[-3]"
   ]
  },
  {
   "cell_type": "code",
   "execution_count": 62,
   "id": "f9f450c8",
   "metadata": {},
   "outputs": [
    {
     "ename": "IndexError",
     "evalue": "string index out of range",
     "output_type": "error",
     "traceback": [
      "\u001b[1;31m---------------------------------------------------------------------------\u001b[0m",
      "\u001b[1;31mIndexError\u001b[0m                                Traceback (most recent call last)",
      "Cell \u001b[1;32mIn[62], line 1\u001b[0m\n\u001b[1;32m----> 1\u001b[0m \u001b[43mstr_\u001b[49m\u001b[43m[\u001b[49m\u001b[38;5;241;43m30\u001b[39;49m\u001b[43m]\u001b[49m\n",
      "\u001b[1;31mIndexError\u001b[0m: string index out of range"
     ]
    }
   ],
   "source": [
    "str_[30]  # 없는 인덱싱은 error"
   ]
  },
  {
   "cell_type": "markdown",
   "id": "fe40196d",
   "metadata": {},
   "source": [
    "문자열(Index)\n",
    "```\n",
    "첫 문자의 index = 0\n",
    "음수는 맨뒤의 문자부터 의미\n",
    "    Ex.  P  y  t  h  o  n\n",
    "         0  1  2  3  4  5\n",
    "        -6 -5 -4 -3 -2 -1\n",
    "```\n",
    "\n",
    "문자변수\n",
    "```\n",
    "문자변수[from:stop] : from부터 stop 앞까지 추출\n",
    "문자변수[from:stop:step] : from부터 stop 앞까지 step씩 건너뛰며 추출\n",
    "    from 생략시 처음부터\n",
    "    stop 생략시 끝까지     ※인덱스 범위를 벗아나면 끝까지를 의미\n",
    "    step 생략시 1\n",
    "```"
   ]
  },
  {
   "cell_type": "code",
   "execution_count": 74,
   "id": "cbe2808e",
   "metadata": {},
   "outputs": [
    {
     "name": "stdout",
     "output_type": "stream",
     "text": [
      "abcde\n",
      "aceg\n",
      "adgjmpsvy\n",
      "vwxy\n",
      "wxyz\n",
      "pnljhfdb\n"
     ]
    }
   ],
   "source": [
    "print(str_[0:5])\n",
    "print(str_[0:8:2])\n",
    "print(str_[::3])\n",
    "print(str_[-5:-1])\n",
    "print(str_[-4:])\n",
    "print(str_[-6:50])\n",
    "print(str_[15:0:-2])"
   ]
  },
  {
   "cell_type": "code",
   "execution_count": 80,
   "id": "9226efa4",
   "metadata": {},
   "outputs": [
    {
     "name": "stdout",
     "output_type": "stream",
     "text": [
      "abcdefg\n",
      "fghijklmnopqrstuvwxyz\n",
      "zyxwvutsrqponmlkjihgfedcba\n"
     ]
    }
   ],
   "source": [
    "# 처음부터 6번 인덱스까지 추출\n",
    "print(str_[:7])\n",
    "# 5번 인데스부터 끝까지 추출\n",
    "print(str_[5:])\n",
    "# str_ 거꾸로 출력\n",
    "print(str_[::-1])"
   ]
  },
  {
   "cell_type": "markdown",
   "id": "472abddd",
   "metadata": {},
   "source": [
    "## 3.3 논리형(True/False)"
   ]
  },
  {
   "cell_type": "code",
   "execution_count": 88,
   "id": "1a19f054",
   "metadata": {},
   "outputs": [
    {
     "name": "stdout",
     "output_type": "stream",
     "text": [
      "True\n",
      "<class 'bool'>\n",
      "True\n",
      "a 주소 : 140711178946768\n",
      "b 주소 : 140711178946768\n",
      "b 주소 : 140711178946800\n"
     ]
    }
   ],
   "source": [
    "a = True\n",
    "print(a)                    # a : 매개변수는 = 인자\n",
    "print(type(a))              # a변수의 타입\n",
    "print(isinstance(a, bool))  # isinstance(변수, 타입)\n",
    "print('a 주소 :', id(a))\n",
    "b = True\n",
    "print('b 주소 :', id(b))\n",
    "b = False\n",
    "print('b 주소 :', id(b))"
   ]
  },
  {
   "cell_type": "code",
   "execution_count": 83,
   "id": "93b4ede1",
   "metadata": {},
   "outputs": [
    {
     "data": {
      "text/plain": [
       "(1, 0)"
      ]
     },
     "execution_count": 83,
     "metadata": {},
     "output_type": "execute_result"
    }
   ],
   "source": [
    "int(True), int(False)"
   ]
  },
  {
   "cell_type": "code",
   "execution_count": 84,
   "id": "3f316922",
   "metadata": {},
   "outputs": [],
   "source": [
    "# False로 간주되는 것 : 0,\"\"(빈스트림), None, [], (), {}\n",
    "# False외의 값은 다 True \" \""
   ]
  },
  {
   "cell_type": "code",
   "execution_count": 90,
   "id": "b1d3318d",
   "metadata": {},
   "outputs": [
    {
     "name": "stdout",
     "output_type": "stream",
     "text": [
      "False다\n"
     ]
    }
   ],
   "source": [
    "if []:\n",
    "    print('True다')\n",
    "else:\n",
    "    print('False다')"
   ]
  },
  {
   "cell_type": "markdown",
   "id": "d5a40d4e",
   "metadata": {},
   "source": [
    "## 3.4 자료형 확인 및 형변환 함수\n",
    "- type(변수)\n",
    "- isinstance(변수, 타입)\n",
    "\n",
    "- int()   : 정수형으로 변환\n",
    "- float() : 실수형으로 변환\n",
    "- str()   : 문자형으로 변환\n",
    "- bool()  : 논리형으로 변환"
   ]
  },
  {
   "cell_type": "code",
   "execution_count": 91,
   "id": "50956937",
   "metadata": {},
   "outputs": [
    {
     "data": {
      "text/plain": [
       "(123, 123, 1)"
      ]
     },
     "execution_count": 91,
     "metadata": {},
     "output_type": "execute_result"
    }
   ],
   "source": [
    "int(\"123\"), int(123.9), int(True), int(\"10 \")"
   ]
  },
  {
   "cell_type": "code",
   "execution_count": 95,
   "id": "4f45eb89",
   "metadata": {},
   "outputs": [
    {
     "data": {
      "text/plain": [
       "(123.5, 123.0, 1.0, 123.0, 123.0)"
      ]
     },
     "execution_count": 95,
     "metadata": {},
     "output_type": "execute_result"
    }
   ],
   "source": [
    "float(\"123.5\"), float(123), float(True), float(\"123\"), float(\"  123   \")"
   ]
  },
  {
   "cell_type": "code",
   "execution_count": 93,
   "id": "d3504abe",
   "metadata": {},
   "outputs": [],
   "source": [
    "# int() 에러나는 것들\n",
    "# int(\"123.5\")\n",
    "# int(' ')\n",
    "# int(\"\")\n",
    "# int(\"1,000\")"
   ]
  },
  {
   "cell_type": "code",
   "execution_count": 96,
   "id": "f8d4616d",
   "metadata": {},
   "outputs": [],
   "source": [
    "# float() 에러나는 것들\n",
    "# float(\"1,000.0\")\n",
    "# float(\" \")\n",
    "# float('')"
   ]
  },
  {
   "cell_type": "code",
   "execution_count": 97,
   "id": "47c0bdee",
   "metadata": {},
   "outputs": [
    {
     "data": {
      "text/plain": [
       "('10', '10.5', 'True', '1120000000000.0')"
      ]
     },
     "execution_count": 97,
     "metadata": {},
     "output_type": "execute_result"
    }
   ],
   "source": [
    "str(10), str(10.5), str(True), str(1.12e12)"
   ]
  },
  {
   "cell_type": "code",
   "execution_count": 98,
   "id": "c7ace070",
   "metadata": {},
   "outputs": [
    {
     "data": {
      "text/plain": [
       "(False, False, False, False, False, False, False)"
      ]
     },
     "execution_count": 98,
     "metadata": {},
     "output_type": "execute_result"
    }
   ],
   "source": [
    "bool(\"\"), bool(0), bool(0.0), bool([]), bool(()), bool({}), bool(None)"
   ]
  },
  {
   "cell_type": "markdown",
   "id": "65f4e717",
   "metadata": {},
   "source": [
    "파이썬 기본 자료형(정리)\n",
    "1. 숫자 - int, float, complex\n",
    "2. 문자 - str, 문자슬라이싱, raw데이터(정규표현식, 파일경로)\n",
    "3. 논리 - False로 판별되는 경우"
   ]
  },
  {
   "cell_type": "markdown",
   "id": "89a66e2e",
   "metadata": {},
   "source": [
    "# 4절. 포맷팅\n",
    "- 포맷팅이란, 출력할 문자, 숫자, 날짜 데이터의 형식을 지정하는 것\n",
    "- 변수와 텍스트를 결합해서 보기 좋은 형식의 새로운 텍스트를 만들 수 있음"
   ]
  },
  {
   "cell_type": "markdown",
   "id": "df5c9eff",
   "metadata": {},
   "source": [
    "## 4.1 문자열에 출력형식 지정"
   ]
  },
  {
   "cell_type": "code",
   "execution_count": 99,
   "id": "5c24593d",
   "metadata": {},
   "outputs": [
    {
     "name": "stdout",
     "output_type": "stream",
     "text": [
      "홍길동님의 나이는 30살입니다\n"
     ]
    }
   ],
   "source": [
    "name = \"홍길동\"\n",
    "age = 30\n",
    "print(name, '님의 나이는 ', age, '살입니다', sep = '')"
   ]
  },
  {
   "cell_type": "code",
   "execution_count": 105,
   "id": "c8a0f448",
   "metadata": {},
   "outputs": [
    {
     "name": "stdout",
     "output_type": "stream",
     "text": [
      "홍길동님의 나이는 30살입니다\n",
      "홍길동님의 나이는 30살입니다\n",
      "홍길동님의 나이는 30살입니다\n"
     ]
    }
   ],
   "source": [
    "print(\"%s님의 나이는 %d살입니다\"%(name, age))    # %s : 문자, %d : 정수, %f : 실수\n",
    "        # 요즘은 잘 안쓰임\n",
    "print(f\"{name}님의 나이는 {age}살입니다\")\n",
    "        # 두번째로 많이 쓰임\n",
    "print(\"{}님의 나이는 {}살입니다\".format(name, age))\n",
    "        # 제일 많이 쓰임"
   ]
  },
  {
   "cell_type": "markdown",
   "id": "df72b127",
   "metadata": {},
   "source": [
    "## 4.2 format() 문법\n",
    "- \"{[인덱스]:[자릿수][타입]}\".format(변수)\n",
    "- 인덱스 : format함수 안의 매개변수의 순서\n",
    "- 정렬방식 : <(왼쪽정렬), >(오른쪽정렬), ^(중앙정렬)\n",
    "- 정수자릿수 : 출력될 자릿수, 변수 내용보다 작은 자릿수가 지정되면 자릿수 무시\n",
    "- 실수자릿수 : 출력될 자릿수.소수점이하 출력자릿수f\n",
    "- 문자자릿수 : 전체확보될 자릿수[.변수 중 출력할 자릿수]s\n",
    "- 타입 : d(10진수 정수), b(2진수), x(16진수), f(실수), s(문자)\n",
    "- 2진수 1100 1000 1001 0011 => 16진수로 변환시 4자리씩 끊어서 계산 => C893\n",
    "- 공백대체문자를 쓸 경우 정렬방식을 반드시 기입해야 함"
   ]
  },
  {
   "cell_type": "code",
   "execution_count": 109,
   "id": "9547a136",
   "metadata": {},
   "outputs": [
    {
     "name": "stdout",
     "output_type": "stream",
     "text": [
      "이름은? 홍길동\n",
      "나이는? 30\n",
      "30살 홍길동님 반갑습니다\n",
      "*30*살 _______홍길동님 반갑습니다\n"
     ]
    }
   ],
   "source": [
    "name = input('이름은? ')\n",
    "age = int(input('나이는? '))\n",
    "print(\"{}살 {}님 반갑습니다\".format(age, name))\n",
    "print(\"{1:*^4d}살 {0:_>10}님 반갑습니다\".format(name, age))"
   ]
  },
  {
   "cell_type": "code",
   "execution_count": 110,
   "id": "0dd4c37f",
   "metadata": {},
   "outputs": [
    {
     "name": "stdout",
     "output_type": "stream",
     "text": [
      "[12345], [     12345], [12345]\n",
      "[Hello], [Hello     ], [Hello]\n"
     ]
    }
   ],
   "source": [
    "# 숫자의 경우 : 오른쪽정렬(기본값)\n",
    "# 문자의 경우 : 왼쪽정렬(기본값)\n",
    "# 변수보다 작은 자릿수를 지정하면 자릿수가 무시되고 다 출력(정수 자릿수)\n",
    "\n",
    "i = 12345\n",
    "s = \"Hello\"\n",
    "print(\"[{0}], [{0:10}], [{0:3}]\".format(i))\n",
    "print(\"[{0}], [{0:10}], [{0:3}]\".format(s))"
   ]
  },
  {
   "cell_type": "code",
   "execution_count": 114,
   "id": "87ced673",
   "metadata": {},
   "outputs": [
    {
     "name": "stdout",
     "output_type": "stream",
     "text": [
      "f = [ 2.76]\n",
      "s = [He   ]\n",
      "f = [$2.76]\n",
      "s = [He***]\n"
     ]
    }
   ],
   "source": [
    "# 문자 : 전체자릿수.표현자릿수\n",
    "# 실수 : 전체자릿수.소수점이하 표현될 자릿수\n",
    "\n",
    "f = 2.758\n",
    "s = \"Hello\"\n",
    "print(\"f = [{:5.2f}]\".format(f))\n",
    "print(\"s = [{:5.2}]\".format(s))\n",
    "print(\"f = [{:$>5.2f}]\".format(f))\n",
    "print(\"s = [{:*<5.2}]\".format(s))"
   ]
  },
  {
   "cell_type": "code",
   "execution_count": 140,
   "id": "0787aec2",
   "metadata": {},
   "outputs": [
    {
     "name": "stdout",
     "output_type": "stream",
     "text": [
      "[  123], [ -123]\n",
      "[ +123], [ -123]\n",
      "[+ 123], [- 123]\n"
     ]
    }
   ],
   "source": [
    "# + : 부호를 출력\n",
    "\n",
    "a, b = 123, -123\n",
    "print(\"[{:5}], [{:5}]\".format(a, b))\n",
    "print(\"[{:+5}], [{:+5}]\".format(a, b))\n",
    "print(\"[{:=+5}], [{:=+5}]\".format(a, b))"
   ]
  },
  {
   "cell_type": "code",
   "execution_count": 143,
   "id": "1bfcabaf",
   "metadata": {},
   "outputs": [
    {
     "name": "stdout",
     "output_type": "stream",
     "text": [
      "f = [     +2.79]\n"
     ]
    }
   ],
   "source": [
    "f = 2.785\n",
    "print(\"f = [{:+10.2f}]\".format(f))"
   ]
  },
  {
   "cell_type": "code",
   "execution_count": 145,
   "id": "1b6123a9",
   "metadata": {},
   "outputs": [
    {
     "name": "stdout",
     "output_type": "stream",
     "text": [
      "[    +2.785]\n"
     ]
    }
   ],
   "source": [
    "sign = '+'\n",
    "width = 10\n",
    "precision = 3\n",
    "print(\"[{:{}{}.{}f}]\".format(f,\n",
    "                             sign,\n",
    "                             width,\n",
    "                             precision))"
   ]
  },
  {
   "cell_type": "code",
   "execution_count": 146,
   "id": "7d02cdda",
   "metadata": {},
   "outputs": [
    {
     "name": "stdout",
     "output_type": "stream",
     "text": [
      "[    +2.785]\n"
     ]
    }
   ],
   "source": [
    "print(\"[{:{sign}{width}.{precision}f}]\".format(f,\n",
    "                                               sign = sign,\n",
    "                                               width = width,\n",
    "                                               precision = precision))"
   ]
  },
  {
   "cell_type": "code",
   "execution_count": 124,
   "id": "7ddf9690",
   "metadata": {},
   "outputs": [
    {
     "name": "stdout",
     "output_type": "stream",
     "text": [
      "10진수 a = [   15]\n",
      "16진수 a = [    f]\n",
      " 2진수 a = [ 1111]\n"
     ]
    }
   ],
   "source": [
    "a = 15\n",
    "print(\"10진수 a = [{:5d}]\".format(a))\n",
    "print(\"16진수 a = [{:5x}]\".format(a))\n",
    "print(\" 2진수 a = [{:5b}]\".format(a))"
   ]
  },
  {
   "cell_type": "markdown",
   "id": "f4ba5e95",
   "metadata": {},
   "source": [
    "## 4.3 날짜출력"
   ]
  },
  {
   "cell_type": "code",
   "execution_count": 127,
   "id": "3c4a8ae8",
   "metadata": {},
   "outputs": [
    {
     "data": {
      "text/plain": [
       "datetime.datetime(2025, 4, 9, 17, 45, 15, 386798)"
      ]
     },
     "execution_count": 127,
     "metadata": {},
     "output_type": "execute_result"
    }
   ],
   "source": [
    "import datetime\n",
    "from datetime import datetime\n",
    "\n",
    "now = datetime.now()\n",
    "now"
   ]
  },
  {
   "cell_type": "code",
   "execution_count": 139,
   "id": "233228f4",
   "metadata": {},
   "outputs": [
    {
     "name": "stdout",
     "output_type": "stream",
     "text": [
      "2025-04-09 17:45:15.386798\n",
      "2025년04월09일 PM 05시45분15초\n",
      "2025년04월09일 17시45분15초\n",
      "2025년04월09일 17시45분15초\n"
     ]
    }
   ],
   "source": [
    "print(\"{}\".format(now))\n",
    "print(\"{:%Y년%m월%d일 %p %I시%M분%S초}\".format(now))\n",
    "print(\"{:%Y년%m월%d일 %H시%M분%S초}\".format(now))\n",
    "print(now.strftime(\"%Y년%m월%d일 %H시%M분%S초\"))"
   ]
  }
 ],
 "metadata": {
  "kernelspec": {
   "display_name": "Python 3 (ipykernel)",
   "language": "python",
   "name": "python3"
  },
  "language_info": {
   "codemirror_mode": {
    "name": "ipython",
    "version": 3
   },
   "file_extension": ".py",
   "mimetype": "text/x-python",
   "name": "python",
   "nbconvert_exporter": "python",
   "pygments_lexer": "ipython3",
   "version": "3.10.9"
  },
  "toc": {
   "base_numbering": 1,
   "nav_menu": {},
   "number_sections": false,
   "sideBar": true,
   "skip_h1_title": false,
   "title_cell": "Table of Contents",
   "title_sidebar": "Contents",
   "toc_cell": false,
   "toc_position": {
    "height": "calc(100% - 180px)",
    "left": "10px",
    "top": "150px",
    "width": "219.55px"
   },
   "toc_section_display": true,
   "toc_window_display": true
  }
 },
 "nbformat": 4,
 "nbformat_minor": 5
}
