{
 "cells": [
  {
   "cell_type": "code",
   "execution_count": 1,
   "id": "d1412460",
   "metadata": {},
   "outputs": [
    {
     "data": {
      "text/html": [
       "<style>\n",
       "div.container{width:86% !important;}\n",
       "div.cell.code_cell.rendered{width:100%;}\n",
       "div.CodeMirror {font-family:Consolas; font-size:12pt;}\n",
       "div.output {font-size:12pt; font-weight:bold;}\n",
       "div.input {font-family:Consolas; font-size:12pt;}\n",
       "div.prompt {min-width:70px;}\n",
       "div#toc-wrapper{padding-top:120px;}\n",
       "div.text_cell_render ul li{fontsize:12pt;padding:5px;}\n",
       "table.dataframe{font-size:12px;}))\n",
       "</style>\n"
      ],
      "text/plain": [
       "<IPython.core.display.HTML object>"
      ]
     },
     "metadata": {},
     "output_type": "display_data"
    }
   ],
   "source": [
    "from IPython.display import display, HTML\n",
    "display(HTML(\"\"\"<style>\n",
    "div.container{width:86% !important;}\n",
    "div.cell.code_cell.rendered{width:100%;}\n",
    "div.CodeMirror {font-family:Consolas; font-size:12pt;}\n",
    "div.output {font-size:12pt; font-weight:bold;}\n",
    "div.input {font-family:Consolas; font-size:12pt;}\n",
    "div.prompt {min-width:70px;}\n",
    "div#toc-wrapper{padding-top:120px;}\n",
    "div.text_cell_render ul li{fontsize:12pt;padding:5px;}\n",
    "table.dataframe{font-size:12px;}))\n",
    "</style>\n",
    "\"\"\"))"
   ]
  },
  {
   "cell_type": "markdown",
   "id": "071e3a76",
   "metadata": {},
   "source": [
    "<font size=\"5\" color=\"red\">ch03 데이터 구조</font>\n",
    "- 리스트[], 튜플(), 딕셔너리{}, 셋\n",
    "- list[], tuple(), dictionary{}, set"
   ]
  },
  {
   "cell_type": "markdown",
   "id": "5f8faa47",
   "metadata": {},
   "source": [
    "#  1절. 리스트\n",
    "## 1.1 리스트 만들기\n",
    "\n",
    "- []를 이용해서 만들며, 여러개 값(여러 타입)을 하나의 변수에 저장/관리할 수 있음\n",
    "- list(리스트로 변환 가능한 자료)함수 이용도 가능\n",
    "- index : 각 요소의 위치, 0부터 시작, 맨 마지막 index는 -1\n",
    "- 슬라이싱([from: stop: step]) : 부분 데이터셋 추출\n",
    "- 인덱스와 슬라이싱을 이용해서 읽기/쓰기 지원"
   ]
  },
  {
   "cell_type": "code",
   "execution_count": 2,
   "id": "de2df0ca",
   "metadata": {},
   "outputs": [
    {
     "data": {
      "text/plain": [
       "list"
      ]
     },
     "execution_count": 2,
     "metadata": {},
     "output_type": "execute_result"
    }
   ],
   "source": [
    "fruits = ['banana', 'apple', 'orange', 'grape']\n",
    "type(fruits)"
   ]
  },
  {
   "cell_type": "code",
   "execution_count": 3,
   "id": "5f40d6e8",
   "metadata": {},
   "outputs": [
    {
     "name": "stdout",
     "output_type": "stream",
     "text": [
      "['banana', 'apple', 'orange', 'grape']\n",
      "banana\n"
     ]
    }
   ],
   "source": [
    "print(fruits)\n",
    "print(fruits[0])"
   ]
  },
  {
   "cell_type": "code",
   "execution_count": 4,
   "id": "8a0b5168",
   "metadata": {},
   "outputs": [
    {
     "name": "stdout",
     "output_type": "stream",
     "text": [
      "['mango', 'apple', 'orange', 'grape']\n"
     ]
    }
   ],
   "source": [
    "fruits[0] = 'mango'\n",
    "print(fruits)"
   ]
  },
  {
   "cell_type": "code",
   "execution_count": 5,
   "id": "d5c15ec1",
   "metadata": {},
   "outputs": [
    {
     "name": "stdout",
     "output_type": "stream",
     "text": [
      "x = mango\n",
      "y = apple\n",
      "z = orange\n",
      "fruits = ['mango', 'apple', 'orange']\n"
     ]
    }
   ],
   "source": [
    "fruits = ['mango', 'apple', 'orange']\n",
    "x, y, z = fruits\n",
    "print(f'x = {x}')\n",
    "print(f'y = {y}')\n",
    "print(f'z = {z}')\n",
    "print(f'fruits = {fruits}')"
   ]
  },
  {
   "cell_type": "code",
   "execution_count": 14,
   "id": "a019ad73",
   "metadata": {},
   "outputs": [
    {
     "data": {
      "text/plain": [
       "[0, 1, 2, 3, 4, 5, 6, 7, 8, 9]"
      ]
     },
     "execution_count": 14,
     "metadata": {},
     "output_type": "execute_result"
    }
   ],
   "source": [
    "# range(from, to, by) : from부터 to앞까지 by씩 증가하면서 지정된 범위의 정수\n",
    "        # from 생략시 : 0\n",
    "        # by 생략시 : 1\n",
    "\n",
    "list(range(10))"
   ]
  },
  {
   "cell_type": "code",
   "execution_count": 15,
   "id": "b73f9761",
   "metadata": {},
   "outputs": [
    {
     "data": {
      "text/plain": [
       "[101, 102, 103, 104, 105, 106, 107, 108, 109, 110]"
      ]
     },
     "execution_count": 15,
     "metadata": {},
     "output_type": "execute_result"
    }
   ],
   "source": [
    "list(range(101, 111))"
   ]
  },
  {
   "cell_type": "code",
   "execution_count": 16,
   "id": "d73f6fca",
   "metadata": {},
   "outputs": [
    {
     "data": {
      "text/plain": [
       "[10, 8, 6, 4, 2, 0]"
      ]
     },
     "execution_count": 16,
     "metadata": {},
     "output_type": "execute_result"
    }
   ],
   "source": [
    "list(range(10, -1, -2))"
   ]
  },
  {
   "cell_type": "code",
   "execution_count": 9,
   "id": "ef0d227d",
   "metadata": {},
   "outputs": [
    {
     "name": "stdout",
     "output_type": "stream",
     "text": [
      "0\n",
      "1\n",
      "2\n"
     ]
    }
   ],
   "source": [
    "# 반복문(3회)\n",
    "\n",
    "for i in range(3):\n",
    "    print(i)"
   ]
  },
  {
   "cell_type": "code",
   "execution_count": 17,
   "id": "02402cf5",
   "metadata": {},
   "outputs": [
    {
     "name": "stdout",
     "output_type": "stream",
     "text": [
      "0번째 과일은 mango입니다\n",
      "1번째 과일은 apple입니다\n",
      "2번째 과일은 orange입니다\n",
      "3번째 과일은 grape입니다\n"
     ]
    }
   ],
   "source": [
    "# len() : list 데이터 수\n",
    "\n",
    "fruits = ['mango', 'apple', 'orange', 'grape']\n",
    "\n",
    "for i in range(len(fruits)) :\n",
    "    print(\"{}번째 과일은 {}입니다\".format(i, fruits[i]))"
   ]
  },
  {
   "cell_type": "code",
   "execution_count": 19,
   "id": "e052ed0c",
   "metadata": {},
   "outputs": [
    {
     "name": "stdout",
     "output_type": "stream",
     "text": [
      "mango\n",
      "apple\n",
      "orange\n",
      "grape\n"
     ]
    }
   ],
   "source": [
    "for value in fruits :\n",
    "    print(value)"
   ]
  },
  {
   "cell_type": "code",
   "execution_count": 25,
   "id": "dcbb6680",
   "metadata": {},
   "outputs": [
    {
     "data": {
      "text/plain": [
       "[(0, 'mango'), (1, 'apple'), (2, 'orange'), (3, 'grape')]"
      ]
     },
     "execution_count": 25,
     "metadata": {},
     "output_type": "execute_result"
    }
   ],
   "source": [
    "# enumerate(나열가능한 자료) : (index, 값)들의 셋들\n",
    "\n",
    "list(enumerate(fruits))"
   ]
  },
  {
   "cell_type": "code",
   "execution_count": 26,
   "id": "73ce5cfc",
   "metadata": {},
   "outputs": [
    {
     "name": "stdout",
     "output_type": "stream",
     "text": [
      "0번째 과일은 mango입니다\n",
      "1번째 과일은 apple입니다\n",
      "2번째 과일은 orange입니다\n",
      "3번째 과일은 grape입니다\n",
      "0번째 과일은 mango입니다\n",
      "1번째 과일은 apple입니다\n",
      "2번째 과일은 orange입니다\n",
      "3번째 과일은 grape입니다\n"
     ]
    }
   ],
   "source": [
    "for idx, value in [[0, 'mango'], [1, 'apple'], [2, 'orange'], [3, 'grape']] :\n",
    "    print(\"{}번째 과일은 {}입니다\".format(idx, value))\n",
    "\n",
    "for idx, value in enumerate(fruits) :\n",
    "    print(\"{}번째 과일은 {}입니다\".format(idx, value))"
   ]
  },
  {
   "cell_type": "code",
   "execution_count": 31,
   "id": "0604e094",
   "metadata": {},
   "outputs": [
    {
     "name": "stdout",
     "output_type": "stream",
     "text": [
      "[0, True, '2', 3, [4, 5, 6]]\n",
      "True 5\n"
     ]
    }
   ],
   "source": [
    "# list는 여러 타입의 데이터를 담을 수 있음\n",
    "\n",
    "numbers = [0, True, '2', 3, [4, 5, 6]]\n",
    "print(numbers)\n",
    "print(numbers[1], numbers[4][1])"
   ]
  },
  {
   "cell_type": "code",
   "execution_count": 83,
   "id": "0ff79492",
   "metadata": {},
   "outputs": [
    {
     "data": {
      "text/plain": [
       "(3, 4)"
      ]
     },
     "execution_count": 83,
     "metadata": {},
     "output_type": "execute_result"
    }
   ],
   "source": [
    "# 2차원 list\n",
    "\n",
    "# numbers_2d = [[90, 91, 92, 93], [80, 81, 82, 83], [70, 71, 72, 73]]\n",
    "numbers_2d = [[90, 91, 92, 93], \n",
    "              [80, 81, 82, 83], \n",
    "              [70, 71, 72, 73]]\n",
    "len(numbers_2d), len(numbers_2d[0])"
   ]
  },
  {
   "cell_type": "code",
   "execution_count": 84,
   "id": "f90bb27b",
   "metadata": {},
   "outputs": [
    {
     "name": "stdout",
     "output_type": "stream",
     "text": [
      "(0번째 학생의 0번째 과목의 점수는 90이다)\n",
      "(0번째 학생의 1번째 과목의 점수는 91이다)\n",
      "(0번째 학생의 2번째 과목의 점수는 92이다)\n",
      "(0번째 학생의 3번째 과목의 점수는 93이다)\n",
      "(1번째 학생의 0번째 과목의 점수는 80이다)\n",
      "(1번째 학생의 1번째 과목의 점수는 81이다)\n",
      "(1번째 학생의 2번째 과목의 점수는 82이다)\n",
      "(1번째 학생의 3번째 과목의 점수는 83이다)\n",
      "(2번째 학생의 0번째 과목의 점수는 70이다)\n",
      "(2번째 학생의 1번째 과목의 점수는 71이다)\n",
      "(2번째 학생의 2번째 과목의 점수는 72이다)\n",
      "(2번째 학생의 3번째 과목의 점수는 73이다)\n"
     ]
    }
   ],
   "source": [
    "for idx1, value1 in enumerate(numbers_2d) :\n",
    "#     print(value1)\n",
    "    for idx2, value2 in enumerate(numbers_2d[idx1]) :\n",
    "        print('({}번째 학생의 {}번째 과목의 점수는 {}이다)'.format(idx1, idx2, value2))"
   ]
  },
  {
   "cell_type": "code",
   "execution_count": 85,
   "id": "239c2583",
   "metadata": {},
   "outputs": [
    {
     "name": "stdout",
     "output_type": "stream",
     "text": [
      "0행0열 : 90\t0행1열 : 91\t0행2열 : 92\t0행3열 : 93\t\n",
      "1행0열 : 80\t1행1열 : 81\t1행2열 : 82\t1행3열 : 83\t\n",
      "2행0열 : 70\t2행1열 : 71\t2행2열 : 72\t2행3열 : 73\t\n"
     ]
    }
   ],
   "source": [
    "for i, row in enumerate(numbers_2d) :\n",
    "    for j, value in enumerate(row) :\n",
    "        print('{}행{}열 : {}'.format(i, j, value), end = '\\t')\n",
    "    print()  # 개행"
   ]
  },
  {
   "cell_type": "code",
   "execution_count": 86,
   "id": "17f8f2e2",
   "metadata": {},
   "outputs": [
    {
     "name": "stdout",
     "output_type": "stream",
     "text": [
      "90 91 92 93 \n",
      "80 81 82 83 \n",
      "70 71 72 73 \n"
     ]
    }
   ],
   "source": [
    "for row in numbers_2d :\n",
    "    for item in row :\n",
    "        print(item, end = ' ')\n",
    "    print()"
   ]
  },
  {
   "cell_type": "markdown",
   "id": "c9f6bb99",
   "metadata": {},
   "source": [
    "## 1.2 기본 정보 조회"
   ]
  },
  {
   "cell_type": "code",
   "execution_count": 74,
   "id": "cf5ba6f1",
   "metadata": {},
   "outputs": [],
   "source": [
    "numbers = [1, 12, 3, 5, 4]\n",
    "numbers_2d = [[100, 0],\n",
    "              [9, 100, 1, 2, 3],\n",
    "              [50, 54]]"
   ]
  },
  {
   "cell_type": "code",
   "execution_count": 75,
   "id": "be4c5f8e",
   "metadata": {},
   "outputs": [
    {
     "name": "stdout",
     "output_type": "stream",
     "text": [
      "5 3\n"
     ]
    }
   ],
   "source": [
    "# 요소의 수\n",
    "\n",
    "print(len(numbers), len(numbers_2d))"
   ]
  },
  {
   "cell_type": "code",
   "execution_count": 76,
   "id": "5c683886",
   "metadata": {},
   "outputs": [
    {
     "data": {
      "text/plain": [
       "(1, 12)"
      ]
     },
     "execution_count": 76,
     "metadata": {},
     "output_type": "execute_result"
    }
   ],
   "source": [
    "# 최소값, 최대값\n",
    "\n",
    "min(numbers), max(numbers)"
   ]
  },
  {
   "cell_type": "code",
   "execution_count": 77,
   "id": "e77b3111",
   "metadata": {},
   "outputs": [
    {
     "data": {
      "text/plain": [
       "([9, 100, 1, 2, 3], [100, 0])"
      ]
     },
     "execution_count": 77,
     "metadata": {},
     "output_type": "execute_result"
    }
   ],
   "source": [
    "# 2차원 list의 min() : 0번 인덱스 요소가 가장 작은 값\n",
    "# 2차원 list의 max() : 0번 인덱스 요소가 가장 큰 값\n",
    "\n",
    "min(numbers_2d), max(numbers_2d)"
   ]
  },
  {
   "cell_type": "code",
   "execution_count": 78,
   "id": "02cd86b6",
   "metadata": {},
   "outputs": [
    {
     "data": {
      "text/plain": [
       "('APPLE', 'orange')"
      ]
     },
     "execution_count": 78,
     "metadata": {},
     "output_type": "execute_result"
    }
   ],
   "source": [
    "# 문자 list일 경우 ascii 코드값으로 min(), max() 적용\n",
    "\n",
    "fruits = ['mango', 'apple', 'orange', 'APPLE']\n",
    "min(fruits), max(fruits)"
   ]
  },
  {
   "cell_type": "code",
   "execution_count": 71,
   "id": "30d6687e",
   "metadata": {},
   "outputs": [
    {
     "name": "stdout",
     "output_type": "stream",
     "text": [
      "오른차순 : [1, 3, 4, 5, 12]\n",
      "내림차순 : [12, 5, 4, 3, 1]\n",
      "sorted함수 사용시 list 내용이 바뀌지 않음 : [1, 12, 3, 5, 4]\n",
      "합 : 25\n"
     ]
    }
   ],
   "source": [
    "# 정렬(오름차순, 내림차순)\n",
    "\n",
    "numbers = [1, 12, 3, 5, 4]\n",
    "\n",
    "print(\"오른차순 :\", sorted(numbers))\n",
    "print(\"내림차순 :\", sorted(numbers, reverse = True))\n",
    "print(\"sorted함수 사용시 list 내용이 바뀌지 않음 :\", numbers)\n",
    "print(\"합 :\", sum(numbers))"
   ]
  },
  {
   "cell_type": "markdown",
   "id": "22da5975",
   "metadata": {},
   "source": [
    "## 1.3 요소 추가\n",
    "```\n",
    "+ : 두 list 연결\n",
    "* : list를 곱한 수만 반복\n",
    "append() : 맨 뒤에 요소 추가\n",
    "extend() : 맨 뒤에 리스트를 요소별로 추가\n",
    "insert(idx, 값) : idx번째 인데스 위치에 추가(기존 데이터는 shift)\n",
    "```"
   ]
  },
  {
   "cell_type": "code",
   "execution_count": 73,
   "id": "605460cd",
   "metadata": {},
   "outputs": [
    {
     "name": "stdout",
     "output_type": "stream",
     "text": [
      "[1, 2, 3, 1, 2, 3]\n"
     ]
    }
   ],
   "source": [
    "numbers = [1, 2, 3]\n",
    "numbers = numbers + numbers\n",
    "print(numbers)"
   ]
  },
  {
   "cell_type": "code",
   "execution_count": 79,
   "id": "6577f008",
   "metadata": {},
   "outputs": [
    {
     "name": "stdout",
     "output_type": "stream",
     "text": [
      "[1, 2, 3, 1, 2, 3, 1, 2, 3]\n"
     ]
    }
   ],
   "source": [
    "numbers = [1, 2, 3]\n",
    "print(numbers * 3)"
   ]
  },
  {
   "cell_type": "code",
   "execution_count": 87,
   "id": "31e2827c",
   "metadata": {},
   "outputs": [
    {
     "name": "stdout",
     "output_type": "stream",
     "text": [
      "[1, 2, 3, 4]\n"
     ]
    }
   ],
   "source": [
    "# 추가\n",
    "\n",
    "numbers.append(4)\n",
    "print(numbers)"
   ]
  },
  {
   "cell_type": "code",
   "execution_count": 88,
   "id": "64dcacd6",
   "metadata": {},
   "outputs": [
    {
     "name": "stdout",
     "output_type": "stream",
     "text": [
      "[1, 2, 3, 4, [5, 6, 7]]\n"
     ]
    }
   ],
   "source": [
    "numbers.append([5, 6, 7])  # 맨 뒤에 하나의 요소를 추가\n",
    "print(numbers)"
   ]
  },
  {
   "cell_type": "code",
   "execution_count": 95,
   "id": "9e14c663",
   "metadata": {},
   "outputs": [
    {
     "name": "stdout",
     "output_type": "stream",
     "text": [
      "[1, 2, 3, [4, 5, 6]]\n",
      "[1, 2, 3, 4, 5, 6]\n"
     ]
    }
   ],
   "source": [
    "# 요소별로 각기 추가\n",
    "\n",
    "num1, num2 = [1, 2, 3], [1, 2, 3]\n",
    "num1.append([4, 5, 6])\n",
    "print(num1)\n",
    "\n",
    "num2.extend([4, 5, 6])\n",
    "print(num2)"
   ]
  },
  {
   "cell_type": "code",
   "execution_count": 97,
   "id": "f2c28814",
   "metadata": {},
   "outputs": [
    {
     "name": "stdout",
     "output_type": "stream",
     "text": [
      "[1, 2, 'X', 'X', 3, 4, 5, 6]\n"
     ]
    }
   ],
   "source": [
    "# idx번째 인데스 위치에 추가(기존 데이터는 shift)\n",
    "\n",
    "num2.insert(2, 'X')\n",
    "print(num2)"
   ]
  },
  {
   "cell_type": "markdown",
   "id": "682fc13c",
   "metadata": {},
   "source": [
    "## 1.4 인덱싱과 요소 갯수\n",
    "- 변수[index] : 인덱스를 이용한 접근\n",
    "- index(찾을데이터) : 해당 찾을 데이터가 있는 요소의 index를 반환\n",
    "- count(찾을데이터) : 리스트에서 찾을데이터의 갯수 반환"
   ]
  },
  {
   "cell_type": "code",
   "execution_count": 98,
   "id": "eb07bf2d",
   "metadata": {},
   "outputs": [
    {
     "data": {
      "text/plain": [
       "(2, 0)"
      ]
     },
     "execution_count": 98,
     "metadata": {},
     "output_type": "execute_result"
    }
   ],
   "source": [
    "numbers = [1, 2, 3, [1, 2, 3], 1, 2, 3]\n",
    "numbers.count(2), numbers.count(9)"
   ]
  },
  {
   "cell_type": "code",
   "execution_count": 99,
   "id": "d171dea1",
   "metadata": {},
   "outputs": [
    {
     "name": "stdout",
     "output_type": "stream",
     "text": [
      "1\n",
      "5\n"
     ]
    }
   ],
   "source": [
    "print(numbers.index(2))  # 0번째 index부터 2가 처음 나오는 index를 반환\n",
    "print(numbers.index(2, 3))  # 3번째 index부터 2가 처음 나오는 index를 반환"
   ]
  },
  {
   "cell_type": "code",
   "execution_count": 119,
   "id": "77093b4c",
   "metadata": {},
   "outputs": [
    {
     "name": "stdout",
     "output_type": "stream",
     "text": [
      "9가 없어요\n"
     ]
    }
   ],
   "source": [
    "numbers = [1, 2, 3, [1, 2, 3], 1, 2, 3]\n",
    "if 9 in numbers:\n",
    "    print(numbers.index(9))\n",
    "else:\n",
    "    print('9가 없어요')"
   ]
  },
  {
   "cell_type": "code",
   "execution_count": 120,
   "id": "f84909e2",
   "metadata": {},
   "outputs": [
    {
     "data": {
      "text/plain": [
       "False"
      ]
     },
     "execution_count": 120,
     "metadata": {},
     "output_type": "execute_result"
    }
   ],
   "source": [
    "9 in numbers  # numbers 리스트에 9가 존재하는지 여부"
   ]
  },
  {
   "cell_type": "code",
   "execution_count": 121,
   "id": "3a4a4e2a",
   "metadata": {},
   "outputs": [],
   "source": [
    "def safe_index(lst, data):\n",
    "    if data in lst: # lst안에 data 있는지 여부\n",
    "        return lst.index(data)\n",
    "    else:\n",
    "        return -1"
   ]
  },
  {
   "cell_type": "code",
   "execution_count": 122,
   "id": "fbc06f56",
   "metadata": {},
   "outputs": [
    {
     "data": {
      "text/plain": [
       "-1"
      ]
     },
     "execution_count": 122,
     "metadata": {},
     "output_type": "execute_result"
    }
   ],
   "source": [
    "safe_index(numbers, 9)"
   ]
  },
  {
   "cell_type": "code",
   "execution_count": 123,
   "id": "1bc9b959",
   "metadata": {},
   "outputs": [
    {
     "data": {
      "text/plain": [
       "[1, 2, 3, [1, 2, 3], 1, 2, 3]"
      ]
     },
     "execution_count": 123,
     "metadata": {},
     "output_type": "execute_result"
    }
   ],
   "source": [
    "# numbers.index(9)\n",
    "# numbers[20]\n",
    "numbers[0:20]"
   ]
  },
  {
   "cell_type": "markdown",
   "id": "15926207",
   "metadata": {},
   "source": [
    "## 1.5 원하는 요소 추출\n",
    "1. 리스트 슬라이싱 : 리스트에서 원하는 index의 데이터를 추출 (인데스의 범위를 벗어나도 에러 안 남)\n",
    "    - [from: stop: step] from부터 stop앞까지 step씩 증가하는 index의 값을 추출\n",
    "    - from 생략시 처음, stop 생략시 끝, step 생략시 1 (모두 생략 가능)\n",
    "2. <font color=\"red\">리스트 컴프리헨션</font> : 리스트에서 원하는 데이터를 추출"
   ]
  },
  {
   "cell_type": "code",
   "execution_count": 106,
   "id": "f8d8fcff",
   "metadata": {},
   "outputs": [
    {
     "name": "stdout",
     "output_type": "stream",
     "text": [
      "[1, 5, 10, 13]\n",
      "[20, 13, 12, 10, 9, 5, 3, 1]\n"
     ]
    }
   ],
   "source": [
    "numbers = [1, 3, 5, 9, 10, 12, 13, 20]\n",
    "# 짝수번째 인덱스 값 출력\n",
    "print(numbers[::2])\n",
    "# 거꾸로 출력\n",
    "print(numbers[::-1])"
   ]
  },
  {
   "cell_type": "code",
   "execution_count": 117,
   "id": "fb5cc45d",
   "metadata": {},
   "outputs": [
    {
     "name": "stdout",
     "output_type": "stream",
     "text": [
      "[1, 3, 5, 9, 10, 12, 13, 20]\n",
      "[10, 12, 20]\n"
     ]
    }
   ],
   "source": [
    "numbers = [1, 3, 5, 9, 10, 12, 13, 20]\n",
    "\n",
    "# 리스트에서 모든 데이터를 변수에 담아 출력하시오.\n",
    "\n",
    "result = []\n",
    "\n",
    "for data in numbers:\n",
    "    result.append(data)\n",
    "print(result)\n",
    "\n",
    "# 리스트에서 짝수 데이터만 변수에 담아 출력하시오\n",
    "\n",
    "result = []\n",
    "for data in numbers :\n",
    "    if data % 2 == 0 :\n",
    "        result.append(data)\n",
    "        \n",
    "print(result)"
   ]
  },
  {
   "cell_type": "markdown",
   "id": "abb34675",
   "metadata": {},
   "source": [
    "**리스트컴프리헨션**"
   ]
  },
  {
   "cell_type": "code",
   "execution_count": 115,
   "id": "8b28bcc7",
   "metadata": {},
   "outputs": [
    {
     "data": {
      "text/plain": [
       "[1, 3, 5, 9, 10, 12, 13, 20]"
      ]
     },
     "execution_count": 115,
     "metadata": {},
     "output_type": "execute_result"
    }
   ],
   "source": [
    "# numbers의 모든 데이터를 리스트컴프리헨션으로 추출\n",
    "\n",
    "[data for data in numbers]"
   ]
  },
  {
   "cell_type": "code",
   "execution_count": 116,
   "id": "432ec92b",
   "metadata": {},
   "outputs": [
    {
     "data": {
      "text/plain": [
       "[10, 12, 20]"
      ]
     },
     "execution_count": 116,
     "metadata": {},
     "output_type": "execute_result"
    }
   ],
   "source": [
    "# numbers의 짝수 데이터를 리스트컴프리헨션으로 추출\n",
    "\n",
    "[data for data in numbers if data % 2 == 0]"
   ]
  },
  {
   "cell_type": "code",
   "execution_count": 126,
   "id": "c0bd1700",
   "metadata": {},
   "outputs": [
    {
     "data": {
      "text/plain": [
       "[10, 12, 13, 20]"
      ]
     },
     "execution_count": 126,
     "metadata": {},
     "output_type": "execute_result"
    }
   ],
   "source": [
    "# ex1. numbers에서 10이상만 추출\n",
    "\n",
    "numbers = [1, 3, 5, 9, 10, 12, 13, 20]\n",
    "\n",
    "[data for data in numbers if data >= 10]"
   ]
  },
  {
   "cell_type": "code",
   "execution_count": 129,
   "id": "87cde806",
   "metadata": {},
   "outputs": [
    {
     "data": {
      "text/plain": [
       "['orange']"
      ]
     },
     "execution_count": 129,
     "metadata": {},
     "output_type": "execute_result"
    }
   ],
   "source": [
    "# ex2. fruits에서 5글자가 넘는 과일만 추출\n",
    "\n",
    "fruits = ['mango', 'apple', 'orange', 'kiwi']\n",
    "\n",
    "[data for data in fruits if len(data) > 5]"
   ]
  },
  {
   "cell_type": "code",
   "execution_count": 135,
   "id": "999e5201",
   "metadata": {},
   "outputs": [
    {
     "data": {
      "text/plain": [
       "[9, 16, 25]"
      ]
     },
     "execution_count": 135,
     "metadata": {},
     "output_type": "execute_result"
    }
   ],
   "source": [
    "# ex3. 3이상의 요소들의 제곱을 추출\n",
    "\n",
    "L = [1, 2, 3, 4, 5]\n",
    "\n",
    "[data ** 2 for data in L if data >= 3]"
   ]
  },
  {
   "cell_type": "markdown",
   "id": "7eaa6c3a",
   "metadata": {},
   "source": [
    "## 1.6 요소 수정하기"
   ]
  },
  {
   "cell_type": "code",
   "execution_count": 137,
   "id": "6bd624f2",
   "metadata": {},
   "outputs": [
    {
     "data": {
      "text/plain": [
       "[0, 1, 222, 3, 4, 5, 6, 7, 8, 9]"
      ]
     },
     "execution_count": 137,
     "metadata": {},
     "output_type": "execute_result"
    }
   ],
   "source": [
    "# 인덱스를 이용해서 요소 수정\n",
    "\n",
    "numbers = [0, 1, 2, 3, 4, 5, 6, 7, 8, 9]\n",
    "numbers[2]=222\n",
    "numbers"
   ]
  },
  {
   "cell_type": "code",
   "execution_count": 138,
   "id": "a261239d",
   "metadata": {},
   "outputs": [
    {
     "data": {
      "text/plain": [
       "[0, 'X', 'Y', 'Z', 'ㅋ', 'ㅎ', 4, 5, 6, 7, 8, 9]"
      ]
     },
     "execution_count": 138,
     "metadata": {},
     "output_type": "execute_result"
    }
   ],
   "source": [
    "# 슬라이싱을 이용해서 요소 수정 (step부분이 미포함 : 부분 list가 통채로 수정)\n",
    "\n",
    "numbers[1:4] = ['X', 'Y', 'Z', 'ㅋ', 'ㅎ']\n",
    "numbers"
   ]
  },
  {
   "cell_type": "code",
   "execution_count": 139,
   "id": "998ece99",
   "metadata": {},
   "outputs": [
    {
     "data": {
      "text/plain": [
       "[99, 1, 99, 3, 99, 5, 99, 7, 99, 9]"
      ]
     },
     "execution_count": 139,
     "metadata": {},
     "output_type": "execute_result"
    }
   ],
   "source": [
    "# 슬라이싱을 이용해서 요소 수정 (step부분 포함 : 요소 갯수가 맞아야 함, 갯수가 안맞을 겨우 에러)\n",
    "\n",
    "numbers = [0, 1, 2, 3, 4, 5, 6, 7, 8, 9]\n",
    "numbers[::2] = [99, 99, 99, 99, 99]\n",
    "numbers"
   ]
  },
  {
   "cell_type": "markdown",
   "id": "0926edf2",
   "metadata": {},
   "source": [
    "## 1.7 요소 삭제\n",
    "- pop() : 가장 마지막 인덱스 요소가 반환되고 삭제\n",
    "- pop(idx) : idx번째 요소가 반환되고 삭제\n",
    "- remove(지울data) : 리스트안의 data가 삭제\n",
    "- del 변수[idx] : idx번째 요소가 삭제"
   ]
  },
  {
   "cell_type": "code",
   "execution_count": 148,
   "id": "5035a172",
   "metadata": {},
   "outputs": [
    {
     "name": "stdout",
     "output_type": "stream",
     "text": [
      "삭제된 데이터 : 5, 리스트 : [1, 2, 3, 4]\n",
      "삭제된 데이터 : 1, 리스트 : [2, 3, 4]\n",
      "numbers : [2, 3]\n"
     ]
    }
   ],
   "source": [
    "numbers = [1, 2, 3, 4, 5]\n",
    "\n",
    "delte_data = numbers.pop()\n",
    "print(\"삭제된 데이터 : {}, 리스트 : {}\".format(delte_data, numbers))\n",
    "\n",
    "delte_data2 = numbers.pop(0)\n",
    "print(\"삭제된 데이터 : {}, 리스트 : {}\".format(delte_data2, numbers))\n",
    "\n",
    "del numbers[2]\n",
    "print('numbers :', numbers)"
   ]
  },
  {
   "cell_type": "code",
   "execution_count": 149,
   "id": "8227c66a",
   "metadata": {},
   "outputs": [
    {
     "name": "stdout",
     "output_type": "stream",
     "text": [
      "[1, 2, 4, 5]\n"
     ]
    }
   ],
   "source": [
    "# remove()는 반환값이 없고, 해당 데이터만 삭제 (해당 데이터가 없으면 에러)\n",
    "\n",
    "numbers = [1, 2, 3, 4, 5]\n",
    "numbers.remove(3)\n",
    "print(numbers)"
   ]
  },
  {
   "cell_type": "code",
   "execution_count": 150,
   "id": "cc47dace",
   "metadata": {},
   "outputs": [
    {
     "ename": "ValueError",
     "evalue": "list.remove(x): x not in list",
     "output_type": "error",
     "traceback": [
      "\u001b[1;31m---------------------------------------------------------------------------\u001b[0m",
      "\u001b[1;31mValueError\u001b[0m                                Traceback (most recent call last)",
      "Cell \u001b[1;32mIn[150], line 1\u001b[0m\n\u001b[1;32m----> 1\u001b[0m \u001b[43mnumbers\u001b[49m\u001b[38;5;241;43m.\u001b[39;49m\u001b[43mremove\u001b[49m\u001b[43m(\u001b[49m\u001b[38;5;241;43m9\u001b[39;49m\u001b[43m)\u001b[49m\n",
      "\u001b[1;31mValueError\u001b[0m: list.remove(x): x not in list"
     ]
    }
   ],
   "source": [
    "numbers.remove(9)"
   ]
  },
  {
   "cell_type": "code",
   "execution_count": 151,
   "id": "0320ba1f",
   "metadata": {},
   "outputs": [
    {
     "name": "stdout",
     "output_type": "stream",
     "text": [
      "해당 데이터가 없습니다\n"
     ]
    }
   ],
   "source": [
    "if 9 in numbers : \n",
    "    numbers.remove(9)\n",
    "else : \n",
    "    print('해당 데이터가 없습니다')"
   ]
  },
  {
   "cell_type": "code",
   "execution_count": 152,
   "id": "50400368",
   "metadata": {},
   "outputs": [],
   "source": [
    "def safe_remove(lst, remove_data):\n",
    "    if remove_data in lst:\n",
    "        lst.remove(remove_data)\n",
    "        print(remove_data, \"삭제 완료\")\n",
    "    else : \n",
    "        print(f'{remove_data}는 없는 아이템입니다')"
   ]
  },
  {
   "cell_type": "code",
   "execution_count": 154,
   "id": "37817f2c",
   "metadata": {},
   "outputs": [
    {
     "name": "stdout",
     "output_type": "stream",
     "text": [
      "9는 없는 아이템입니다\n",
      "5는 없는 아이템입니다\n",
      "[1, 2, 4]\n"
     ]
    }
   ],
   "source": [
    "safe_remove(numbers, 9)\n",
    "safe_remove(numbers, 5)\n",
    "print(numbers)"
   ]
  },
  {
   "cell_type": "markdown",
   "id": "6df5b45b",
   "metadata": {},
   "source": [
    "## 1.8 정렬하기"
   ]
  },
  {
   "cell_type": "code",
   "execution_count": 1,
   "id": "359f8cea",
   "metadata": {},
   "outputs": [
    {
     "name": "stdout",
     "output_type": "stream",
     "text": [
      "numbers는 변경하지 않고 정렬 : [0, 1, 5, 8, 9]\n",
      "numbers : [1, 9, 5, 0, 8]\n"
     ]
    }
   ],
   "source": [
    "numbers = [1, 9, 5, 0, 8]\n",
    "print(\"numbers는 변경하지 않고 정렬 :\", sorted(numbers))\n",
    "print(\"numbers :\", numbers)"
   ]
  },
  {
   "cell_type": "code",
   "execution_count": 3,
   "id": "cbe97ab5",
   "metadata": {},
   "outputs": [
    {
     "data": {
      "text/plain": [
       "[0, 1, 5, 8, 9]"
      ]
     },
     "execution_count": 3,
     "metadata": {},
     "output_type": "execute_result"
    }
   ],
   "source": [
    "numbers.sort()  # numbers 자체가 정렬한 결과로 바뀜 (기본정렬 : 오름차순)\n",
    "numbers"
   ]
  },
  {
   "cell_type": "code",
   "execution_count": 5,
   "id": "a1bc5493",
   "metadata": {},
   "outputs": [
    {
     "data": {
      "text/plain": [
       "[9, 8, 5, 1, 0]"
      ]
     },
     "execution_count": 5,
     "metadata": {},
     "output_type": "execute_result"
    }
   ],
   "source": [
    "numbers.reverse()  # numbers 자체가 역순으로 변경\n",
    "numbers"
   ]
  },
  {
   "cell_type": "code",
   "execution_count": 7,
   "id": "cf406570",
   "metadata": {},
   "outputs": [
    {
     "data": {
      "text/plain": [
       "[9, 8, 5, 1, 0]"
      ]
     },
     "execution_count": 7,
     "metadata": {},
     "output_type": "execute_result"
    }
   ],
   "source": [
    "numbers.sort(reverse = True)\n",
    "numbers"
   ]
  },
  {
   "cell_type": "code",
   "execution_count": 8,
   "id": "1d7be009",
   "metadata": {},
   "outputs": [
    {
     "data": {
      "text/plain": [
       "[9, 5, 2]"
      ]
     },
     "execution_count": 8,
     "metadata": {},
     "output_type": "execute_result"
    }
   ],
   "source": [
    "lst = [2, 5, 9]\n",
    "# lst.reverse()\n",
    "lst = lst[::-1]\n",
    "lst"
   ]
  },
  {
   "cell_type": "markdown",
   "id": "3aa30215",
   "metadata": {},
   "source": [
    "## 1.9 복제하기"
   ]
  },
  {
   "cell_type": "code",
   "execution_count": 16,
   "id": "ac3c0dd5",
   "metadata": {},
   "outputs": [
    {
     "name": "stdout",
     "output_type": "stream",
     "text": [
      "원본 = 10, 복사본 = 10 / 원본주소 = 2556930621968, 복사본주소 = 2556930621968\n",
      "원본 = 10, 복사본 = 99 / 원본주소 = 2556930621968, 복사본주소 = 2556930624816\n"
     ]
    }
   ],
   "source": [
    "# 스칼라 데이터 복제\n",
    "\n",
    "i = 10    # 원본\n",
    "copy_i = i  # 복제본\n",
    "print(f\"원본 = {i}, 복사본 = {copy_i} / 원본주소 = {id(i)}, 복사본주소 = {id(copy_i)}\")\n",
    "copy_i = 99\n",
    "print(f\"원본 = {i}, 복사본 = {copy_i} / 원본주소 = {id(i)}, 복사본주소 = {id(copy_i)}\")"
   ]
  },
  {
   "cell_type": "code",
   "execution_count": 17,
   "id": "d4f7db8e",
   "metadata": {},
   "outputs": [
    {
     "name": "stdout",
     "output_type": "stream",
     "text": [
      "원본 : [9, 8, 1]\n",
      "복제본 : [9, 8, 1]\n"
     ]
    }
   ],
   "source": [
    "# 리스트(배열, 데이터프레임, 딕셔너리)의 복제\n",
    "\n",
    "numbers = [5, 8, 1]    # 원본\n",
    "new_numbers = numbers  # 복제본\n",
    "new_numbers[0] = 9\n",
    "print(\"원본 :\", numbers)\n",
    "print(\"복제본 :\", new_numbers)"
   ]
  },
  {
   "cell_type": "code",
   "execution_count": 21,
   "id": "2f781c80",
   "metadata": {},
   "outputs": [
    {
     "name": "stdout",
     "output_type": "stream",
     "text": [
      "원본 = [5, 8, 1], 복제본 = [5, 8, 1] / 원본주소 = 2557046583680, 복제본주소 = 2557046583680\n",
      "복제본만 지지고 볶고\n",
      "원본 = [-99, 1, 8], 복제본 = [-99, 1, 8] / 원본주소 = 2557046583680, 복제본주소 = 2557046583680\n"
     ]
    }
   ],
   "source": [
    "# 얕은 복사(할당)\n",
    "\n",
    "numbers = [5, 8, 1]    # 원본\n",
    "new_numbers = numbers  # 얕은 복사(할당)\n",
    "print(f\"원본 = {numbers}, 복제본 = {new_numbers} / 원본주소 = {id(numbers)}, 복제본주소 = {id(new_numbers)}\")\n",
    "new_numbers[0] = -99\n",
    "new_numbers.sort()\n",
    "print(\"복제본만 지지고 볶고\")\n",
    "print(f\"원본 = {numbers}, 복제본 = {new_numbers} / 원본주소 = {id(numbers)}, 복제본주소 = {id(new_numbers)}\")"
   ]
  },
  {
   "cell_type": "code",
   "execution_count": 36,
   "id": "3b0e5c80",
   "metadata": {},
   "outputs": [
    {
     "name": "stdout",
     "output_type": "stream",
     "text": [
      "원본 = [5, 8, 1], 복제본 = [5, 8, 1] / 원본주소 = 2557048784512, 복제본주소 = 2557048799168\n",
      "복제본만 지지고 볶고\n",
      "원본 = [5, 8, 1], 복제본 = [1, 8] / 원본주소 = 2557048784512, 복제본주소 = 2557048799168\n"
     ]
    }
   ],
   "source": [
    "# 깊은 복사(복제)\n",
    "\n",
    "numbers = [5, 8, 1]    # 원본\n",
    "new_numbers = numbers.copy()  # 깊은 복사(복제)\n",
    "print(f\"원본 = {numbers}, 복제본 = {new_numbers} / 원본주소 = {id(numbers)}, 복제본주소 = {id(new_numbers)}\")\n",
    "new_numbers[0] = -99\n",
    "new_numbers.sort()\n",
    "new_numbers.remove(-99)\n",
    "print(\"복제본만 지지고 볶고\")\n",
    "print(f\"원본 = {numbers}, 복제본 = {new_numbers} / 원본주소 = {id(numbers)}, 복제본주소 = {id(new_numbers)}\")"
   ]
  },
  {
   "cell_type": "code",
   "execution_count": 23,
   "id": "aeed2cef",
   "metadata": {},
   "outputs": [
    {
     "data": {
      "text/plain": [
       "[]"
      ]
     },
     "execution_count": 23,
     "metadata": {},
     "output_type": "execute_result"
    }
   ],
   "source": [
    "numbers.clear()  # 리스트의 요소를 모두 삭제\n",
    "numbers"
   ]
  },
  {
   "cell_type": "markdown",
   "id": "b464a5e4",
   "metadata": {},
   "source": [
    "# 2절. 튜플\n",
    "- 리스트와 유사하지만 읽기전용, 수정이 필요없는 데이터에서 사용\n",
    "- 수정불가하므로 튜플에 데이터 수정, 추가, 삭제 불가 (제공되는 함수도 많지 않음)\n",
    "- ().tuple() 이용해서 생성"
   ]
  },
  {
   "cell_type": "code",
   "execution_count": 24,
   "id": "e857795b",
   "metadata": {},
   "outputs": [
    {
     "name": "stdout",
     "output_type": "stream",
     "text": [
      "<class 'str'>\n",
      "서울, 부산, 인천, 목표\n"
     ]
    }
   ],
   "source": [
    "# city = \"('서울', '부산', '인천', '목표')\"\n",
    "# 파이썬은 여러개의 값이 전달될 때, 튜플 타입으로 전달  /  ()를 안치면 튜플 타입으로 전달\n",
    "\n",
    "city = '서울', '부산', '인천', '목표\n",
    "print(type(city))\n",
    "print(city)"
   ]
  },
  {
   "cell_type": "code",
   "execution_count": 27,
   "id": "432fc2bb",
   "metadata": {},
   "outputs": [
    {
     "data": {
      "text/plain": [
       "'서울 = 부산 = 인천 = 목표'"
      ]
     },
     "execution_count": 27,
     "metadata": {},
     "output_type": "execute_result"
    }
   ],
   "source": [
    "# city = ['서울', '부산', '인천', '목표']\n",
    "city = ('서울', '부산', '인천', '목표')\n",
    "' = '.join(city)"
   ]
  },
  {
   "cell_type": "code",
   "execution_count": 33,
   "id": "e18b49ac",
   "metadata": {},
   "outputs": [
    {
     "name": "stdout",
     "output_type": "stream",
     "text": [
      "<class 'list'> ['서울']\n"
     ]
    }
   ],
   "source": [
    "l = ['서울']  # 요소가 하나 있는 리스트\n",
    "print(type(l),l)"
   ]
  },
  {
   "cell_type": "code",
   "execution_count": 35,
   "id": "8b8f7cf9",
   "metadata": {},
   "outputs": [
    {
     "name": "stdout",
     "output_type": "stream",
     "text": [
      "<class 'tuple'> ('서울',)\n"
     ]
    }
   ],
   "source": [
    "t = ('서울', )  # 요소가 하나 있는 튜플 (, 반드시 기입)\n",
    "print(type(t),t)"
   ]
  },
  {
   "cell_type": "code",
   "execution_count": 39,
   "id": "3c1c9ad9",
   "metadata": {},
   "outputs": [
    {
     "data": {
      "text/plain": [
       "(1, 3, 6, [3, 2, 1])"
      ]
     },
     "execution_count": 39,
     "metadata": {},
     "output_type": "execute_result"
    }
   ],
   "source": [
    "numbers = (1, 2, 3)\n",
    "# numbers.remove(3)  # 수정하기 위한 함수는 제공되지 않음\n",
    "# numbers.append(4)\n",
    "# numbers.pop()\n",
    "# numbers.sort()\n",
    "min(numbers), max(numbers), sum(numbers), sorted(numbers, reverse = True)"
   ]
  },
  {
   "cell_type": "code",
   "execution_count": 55,
   "id": "e1ccb9e4",
   "metadata": {},
   "outputs": [
    {
     "data": {
      "text/plain": [
       "(2, 0)"
      ]
     },
     "execution_count": 55,
     "metadata": {},
     "output_type": "execute_result"
    }
   ],
   "source": [
    "numbers = (0, 1, 2, (1, 2), 0, 1, 2)\n",
    "numbers.count(2), numbers.count(9)"
   ]
  },
  {
   "cell_type": "code",
   "execution_count": 56,
   "id": "c423a8f9",
   "metadata": {},
   "outputs": [
    {
     "name": "stdout",
     "output_type": "stream",
     "text": [
      "9 요소가 없습니다\n"
     ]
    }
   ],
   "source": [
    "if 9 in numbers :\n",
    "    numbers.index(9)\n",
    "else : \n",
    "    print('9 요소가 없습니다')"
   ]
  },
  {
   "cell_type": "code",
   "execution_count": 57,
   "id": "d3aac68e",
   "metadata": {},
   "outputs": [],
   "source": [
    "def safe_index(lst, item) : \n",
    "    '''\n",
    "    lst안에 item 요소가 있으면 item 요소의 index를 반환, 없으면 -1을 반환\n",
    "    lst : 나열가능한 데이터\n",
    "    item : 찾을 데이터\n",
    "    '''\n",
    "    \n",
    "#     if item in lst :\n",
    "#         return lst.index(item)\n",
    "#     else : \n",
    "#         return -1\n",
    "    return lst.index(item) if item in lst else -1"
   ]
  },
  {
   "cell_type": "code",
   "execution_count": 11,
   "id": "f769ffdf",
   "metadata": {},
   "outputs": [
    {
     "data": {
      "text/plain": [
       "(-1, 2)"
      ]
     },
     "execution_count": 11,
     "metadata": {},
     "output_type": "execute_result"
    }
   ],
   "source": [
    "from safe import safe_index\n",
    "\n",
    "numbers = (0, 1, 2, (1, 2), 0, 1, 2)\n",
    "safe_index(numbers, 9), safe_index(numbers, 2)"
   ]
  },
  {
   "cell_type": "code",
   "execution_count": 12,
   "id": "6e83bbaf",
   "metadata": {
    "scrolled": true
   },
   "outputs": [
    {
     "data": {
      "text/plain": [
       "(0, 1, 2, (1, 2), 0, 1, 2, 0, 1, 2, (1, 2), 0, 1, 2, 0, 1, 2, (1, 2), 0, 1, 2)"
      ]
     },
     "execution_count": 12,
     "metadata": {},
     "output_type": "execute_result"
    }
   ],
   "source": [
    "numbers * 3  # 반복"
   ]
  },
  {
   "cell_type": "code",
   "execution_count": 8,
   "id": "976623e7",
   "metadata": {},
   "outputs": [
    {
     "data": {
      "text/plain": [
       "(4, 16, 36)"
      ]
     },
     "execution_count": 8,
     "metadata": {},
     "output_type": "execute_result"
    }
   ],
   "source": [
    "# ex. 짝수 요소들을 추출하여 제곱한 데이터를 튜플로 출력\n",
    "\n",
    "numbers = (1, 2, 3, 4, 5, 6)\n",
    "tuple([num ** 2 for num in numbers if num % 2 == 0])"
   ]
  },
  {
   "cell_type": "markdown",
   "id": "3a65242e",
   "metadata": {},
   "source": [
    "# 3절. 딕셔너리\n",
    "- 중괄호를 ({})를 이용해서, 키(key)-값(value) 쌍으로 구성된 자료구조\n",
    "- 키는 중복불가 (유일한 값), 키에 list는 사용불가\n",
    "- 값은 중복가능\n",
    "- 인덱스를 이용한 참조 지원 안 함"
   ]
  },
  {
   "cell_type": "code",
   "execution_count": 26,
   "id": "4b828114",
   "metadata": {},
   "outputs": [
    {
     "name": "stdout",
     "output_type": "stream",
     "text": [
      "<class 'dict'>\n",
      "{'name': '홍길동', 1: 22, (1, 2): [1, 2]}\n",
      "데이터 개수 : 3\n"
     ]
    }
   ],
   "source": [
    "dic = {'name' : '홍길동', 1:22, (1, 2): [1, 2]}\n",
    "print(type(dic))\n",
    "print(dic)\n",
    "print('데이터 개수 :', len(dic))"
   ]
  },
  {
   "cell_type": "code",
   "execution_count": 14,
   "id": "b54c7aa7",
   "metadata": {},
   "outputs": [
    {
     "data": {
      "text/plain": [
       "{'fruit': 'apple', 'number': 12, 'sport': 'golf'}"
      ]
     },
     "execution_count": 14,
     "metadata": {},
     "output_type": "execute_result"
    }
   ],
   "source": [
    "my_favorite = {'fruit':'apple', 'number':12, 'sport':'golf'}\n",
    "my_favorite"
   ]
  },
  {
   "cell_type": "code",
   "execution_count": 15,
   "id": "5c0a8483",
   "metadata": {},
   "outputs": [
    {
     "name": "stdout",
     "output_type": "stream",
     "text": [
      "apple\n"
     ]
    }
   ],
   "source": [
    "print(my_favorite['fruit'])\n",
    "print(my_favorite.get('fruit'))  # ★"
   ]
  },
  {
   "cell_type": "code",
   "execution_count": 16,
   "id": "45f0727e",
   "metadata": {},
   "outputs": [
    {
     "name": "stdout",
     "output_type": "stream",
     "text": [
      "None\n",
      "-\n"
     ]
    }
   ],
   "source": [
    "# print(my_favorite['people'])  # 없는 키값을 인덱스 방식으로 참조시 에러\n",
    "\n",
    "print(my_favorite.get('people'))  #없는 키를 get함수로 참조시 None\n",
    "print(my_favorite.get('people', '-'))  #없는 키를 get함수로 참조시 '-'"
   ]
  },
  {
   "cell_type": "code",
   "execution_count": 21,
   "id": "6c9efa0b",
   "metadata": {},
   "outputs": [
    {
     "name": "stdout",
     "output_type": "stream",
     "text": [
      "fruit 수정 후 : {'fruit': 'mango', 'number': 12, 'sport': 'golf'}\n",
      "my_favorite 추가 후 : {'fruit': 'mango', 'number': 12, 'sport': 'golf', 'people': '홍길동'}\n",
      "fruit 제거 후 : {'number': 12, 'sport': 'golf', 'people': '홍길동'}\n",
      "remove_date : 12\n",
      "number 제거 후 딕셔너리 : {'sport': 'golf', 'people': '홍길동'}\n"
     ]
    }
   ],
   "source": [
    "# 딕셔너리 데이터 수정하기\n",
    "\n",
    "my_favorite = {'fruit':'apple', 'number':12, 'sport':'golf'}\n",
    "my_favorite['fruit'] = 'mango'  # fruit 데이터 수정\n",
    "print('fruit 수정 후 :',my_favorite)\n",
    "\n",
    "my_favorite['people'] = '홍길동'  # 데이터 추가\n",
    "print('my_favorite 추가 후 :',my_favorite)\n",
    "\n",
    "del my_favorite['fruit']\n",
    "print('fruit 제거 후 :', my_favorite)\n",
    "\n",
    "remove_date = my_favorite.pop('number')  # number 키값을 반환하고 제거\n",
    "print('remove_date :', remove_date)\n",
    "print('number 제거 후 딕셔너리 :', my_favorite)"
   ]
  },
  {
   "cell_type": "code",
   "execution_count": 22,
   "id": "a9a86f95",
   "metadata": {},
   "outputs": [],
   "source": [
    "# for문을 이용한 튜플(리스트) 출력\n",
    "\n",
    "my_tup = ('홍길동', 30, '010-9999-8888')"
   ]
  },
  {
   "cell_type": "code",
   "execution_count": 25,
   "id": "304c72ef",
   "metadata": {},
   "outputs": [
    {
     "name": "stdout",
     "output_type": "stream",
     "text": [
      "홍길동\t30\t010-9999-8888\t\n",
      "0번째 홍길동\t1번째 30\t2번째 010-9999-8888\t\n",
      "0번째 홍길동\t1번째 30\t2번째 010-9999-8888\t"
     ]
    }
   ],
   "source": [
    "for data in my_tup :\n",
    "    print(data, end = \"\\t\")\n",
    "print()\n",
    "\n",
    "for idx in range(len(my_tup)):\n",
    "    print(f\"{idx}번째 {my_tup[idx]}\", end = \"\\t\")\n",
    "print()\n",
    "\n",
    "for idx, value in enumerate(my_tup):\n",
    "    print(f\"{idx}번째 {value}\", end = \"\\t\")"
   ]
  },
  {
   "cell_type": "code",
   "execution_count": 34,
   "id": "29113c9e",
   "metadata": {},
   "outputs": [],
   "source": [
    "my_dic = {'name':'홍길동', 'age':30, 'tel':'010-9999-8888'}"
   ]
  },
  {
   "cell_type": "code",
   "execution_count": 35,
   "id": "c9507be9",
   "metadata": {},
   "outputs": [
    {
     "name": "stdout",
     "output_type": "stream",
     "text": [
      "홍길동\t30\t010-9999-8888\t"
     ]
    }
   ],
   "source": [
    "# 엄청 비추\n",
    "\n",
    "for key in my_dic:\n",
    "    print(my_dic[key], end='\\t')"
   ]
  },
  {
   "cell_type": "code",
   "execution_count": 36,
   "id": "e63d5f0c",
   "metadata": {},
   "outputs": [
    {
     "name": "stdout",
     "output_type": "stream",
     "text": [
      "홍길동\t30\t010-9999-8888\t"
     ]
    }
   ],
   "source": [
    "for data in my_dic.values():\n",
    "    print(data, end='\\t')"
   ]
  },
  {
   "cell_type": "code",
   "execution_count": 37,
   "id": "d72b1b33",
   "metadata": {},
   "outputs": [
    {
     "data": {
      "text/plain": [
       "dict_values(['홍길동', 30, '010-9999-8888'])"
      ]
     },
     "execution_count": 37,
     "metadata": {},
     "output_type": "execute_result"
    }
   ],
   "source": [
    "my_dic.values()  # 값만 추출"
   ]
  },
  {
   "cell_type": "code",
   "execution_count": 40,
   "id": "91b98e4d",
   "metadata": {},
   "outputs": [
    {
     "data": {
      "text/plain": [
       "dict_keys(['name', 'age', 'tel'])"
      ]
     },
     "execution_count": 40,
     "metadata": {},
     "output_type": "execute_result"
    }
   ],
   "source": [
    "my_dic.keys()  # 키만 추출"
   ]
  },
  {
   "cell_type": "code",
   "execution_count": 41,
   "id": "8b962ad8",
   "metadata": {},
   "outputs": [
    {
     "data": {
      "text/plain": [
       "dict_items([('name', '홍길동'), ('age', 30), ('tel', '010-9999-8888')])"
      ]
     },
     "execution_count": 41,
     "metadata": {},
     "output_type": "execute_result"
    }
   ],
   "source": [
    "my_dic.items()  # (키-값)쌍을 추출"
   ]
  },
  {
   "cell_type": "code",
   "execution_count": 42,
   "id": "ec9b2a84",
   "metadata": {},
   "outputs": [
    {
     "name": "stdout",
     "output_type": "stream",
     "text": [
      "name:홍길동\tage:30\ttel:010-9999-8888\t"
     ]
    }
   ],
   "source": [
    "for key, value in my_dic.items():\n",
    "    print(f\"{key}:{value}\", end = \"\\t\")"
   ]
  },
  {
   "cell_type": "code",
   "execution_count": 43,
   "id": "be7bab96",
   "metadata": {},
   "outputs": [
    {
     "data": {
      "text/plain": [
       "[(0, ('name', '홍길동')), (1, ('age', 30)), (2, ('tel', '010-9999-8888'))]"
      ]
     },
     "execution_count": 43,
     "metadata": {},
     "output_type": "execute_result"
    }
   ],
   "source": [
    "list(enumerate(my_dic.items()))"
   ]
  },
  {
   "cell_type": "code",
   "execution_count": 49,
   "id": "0115bb93",
   "metadata": {},
   "outputs": [
    {
     "name": "stdout",
     "output_type": "stream",
     "text": [
      "1.name : 홍길동\n",
      "2.age  : 30\n",
      "3.tel  : 010-9999-8888\n"
     ]
    }
   ],
   "source": [
    "for idx, (key, value) in enumerate(my_dic.items()) : \n",
    "    print(\"{}.{:4} : {}\".format(idx + 1, key, value))"
   ]
  },
  {
   "cell_type": "code",
   "execution_count": 50,
   "id": "bb03bfdc",
   "metadata": {},
   "outputs": [
    {
     "data": {
      "text/plain": [
       "False"
      ]
     },
     "execution_count": 50,
     "metadata": {},
     "output_type": "execute_result"
    }
   ],
   "source": [
    "\"홍길동\" in my_dic # my_dic.keys()"
   ]
  },
  {
   "cell_type": "code",
   "execution_count": 51,
   "id": "aa15d243",
   "metadata": {},
   "outputs": [
    {
     "data": {
      "text/plain": [
       "True"
      ]
     },
     "execution_count": 51,
     "metadata": {},
     "output_type": "execute_result"
    }
   ],
   "source": [
    "\"홍길동\" in my_dic.values()"
   ]
  },
  {
   "cell_type": "code",
   "execution_count": 44,
   "id": "bdc53453",
   "metadata": {},
   "outputs": [
    {
     "name": "stdout",
     "output_type": "stream",
     "text": [
      "{'fruit': 'apple', 'number': 12, 'people': '홍길동'}\n",
      "{'fruit': 'apple', 'number': 12, 'people': '홍길동'}\n"
     ]
    }
   ],
   "source": [
    "# 얕은 복사\n",
    "\n",
    "my_favorite = {'fruit':'apple', 'number':12}  # 원본\n",
    "new_favorite = my_favorite  # 복제본(얕은 복사)\n",
    "new_favorite['people'] = '홍길동'\n",
    "print(my_favorite)\n",
    "print(new_favorite)"
   ]
  },
  {
   "cell_type": "code",
   "execution_count": 45,
   "id": "a5271475",
   "metadata": {},
   "outputs": [
    {
     "name": "stdout",
     "output_type": "stream",
     "text": [
      "{'fruit': 'apple', 'number': 12}\n",
      "{'fruit': 'apple', 'number': 12, 'people': '홍길동'}\n"
     ]
    }
   ],
   "source": [
    "# 깊은 복사\n",
    "\n",
    "my_favorite = {'fruit':'apple', 'number':12}  # 원본\n",
    "new_favorite = my_favorite.copy()  # 복제본(깊은 복사)\n",
    "new_favorite['people'] = '홍길동'\n",
    "print(my_favorite)\n",
    "print(new_favorite)"
   ]
  },
  {
   "cell_type": "markdown",
   "id": "f5cdf138",
   "metadata": {},
   "source": [
    "# 4절. 셋\n",
    "- 중복을 허용하지 않는 집합 (순서없음 == 인덱스없음)\n",
    "- 중괄호({})나 set()함수를 이용해서 셋 생성\n",
    "- 추가 : add(), update()\n",
    "- 집합연산자 : &, |, -\n",
    "- 삭제 : remove()"
   ]
  },
  {
   "cell_type": "code",
   "execution_count": 46,
   "id": "aef36adc",
   "metadata": {},
   "outputs": [
    {
     "data": {
      "text/plain": [
       "{'apple', 'banana', 'orange'}"
      ]
     },
     "execution_count": 46,
     "metadata": {},
     "output_type": "execute_result"
    }
   ],
   "source": [
    "fruits = {'banana', 'orange', 'banana', 'banana', 'apple'}\n",
    "fruits"
   ]
  },
  {
   "cell_type": "code",
   "execution_count": 47,
   "id": "e123ce2c",
   "metadata": {},
   "outputs": [
    {
     "data": {
      "text/plain": [
       "{1, 20, 21, 22}"
      ]
     },
     "execution_count": 47,
     "metadata": {},
     "output_type": "execute_result"
    }
   ],
   "source": [
    "s1 = set([1, 20, 1, 21, 1, 22])\n",
    "s1"
   ]
  },
  {
   "cell_type": "code",
   "execution_count": 48,
   "id": "280da8e1",
   "metadata": {},
   "outputs": [
    {
     "data": {
      "text/plain": [
       "{'fruit', 'number'}"
      ]
     },
     "execution_count": 48,
     "metadata": {},
     "output_type": "execute_result"
    }
   ],
   "source": [
    "# set함수를 이용해서 딕셔너리를 셋으로 전환할 때는 key만 적용\n",
    "my_favorite = {'fruit':'apple', 'number':12}\n",
    "set(my_favorite)"
   ]
  },
  {
   "cell_type": "markdown",
   "id": "8d7f2311",
   "metadata": {},
   "source": [
    "## 추가하기\n",
    "- add() : 기본자료형, 튜플데이터를 하나의 요소로 추가할 경우\n",
    "- update() : 리스트, 튜플, 딕셔너리, 셋 요소 하나하나씩 추가할 경우 (dict 사용시 key만 추가)"
   ]
  },
  {
   "cell_type": "code",
   "execution_count": 54,
   "id": "4a2b97be",
   "metadata": {},
   "outputs": [
    {
     "data": {
      "text/plain": [
       "{1, 2, 3, 4, 5, 6, 7}"
      ]
     },
     "execution_count": 54,
     "metadata": {},
     "output_type": "execute_result"
    }
   ],
   "source": [
    "s2 = {1, 1, 2, 3}\n",
    "s2.add(4)\n",
    "s2.update([5, 6, 7])\n",
    "s2"
   ]
  },
  {
   "cell_type": "code",
   "execution_count": 60,
   "id": "a1bc3ac7",
   "metadata": {},
   "outputs": [
    {
     "data": {
      "text/plain": [
       "{False, 1, 2, 3}"
      ]
     },
     "execution_count": 60,
     "metadata": {},
     "output_type": "execute_result"
    }
   ],
   "source": [
    "# 논리값 False는 False. 0으로\n",
    "# 논리값 True는 True. 1로\n",
    "\n",
    "s = {1, 2, 3}\n",
    "s.add(False)\n",
    "s.add(True)\n",
    "s.add(0)\n",
    "s"
   ]
  },
  {
   "cell_type": "code",
   "execution_count": 61,
   "id": "0782d672",
   "metadata": {},
   "outputs": [
    {
     "data": {
      "text/plain": [
       "{False, 2, 3}"
      ]
     },
     "execution_count": 61,
     "metadata": {},
     "output_type": "execute_result"
    }
   ],
   "source": [
    "s.remove(True)\n",
    "s"
   ]
  },
  {
   "cell_type": "markdown",
   "id": "db2ac610",
   "metadata": {},
   "source": [
    "## 연산 : &(합집합), |(교집합), -(차집합)\n",
    "- &, | : 집합연산자, 논리연산자, 비트연산자"
   ]
  },
  {
   "cell_type": "code",
   "execution_count": 56,
   "id": "25311e37",
   "metadata": {},
   "outputs": [
    {
     "name": "stdout",
     "output_type": "stream",
     "text": [
      "s1 | s2 = {1, 2, 3, 4, 5, 6, 7}\n",
      "s1 & s2 = {3, 4, 5}\n",
      "s1 - s2 = {1, 2}\n"
     ]
    }
   ],
   "source": [
    "s1 = {1, 2, 3, 4, 5}\n",
    "s2 = {3, 4, 5, 6, 7}\n",
    "\n",
    "print('s1 | s2 =',s1 | s2)\n",
    "print('s1 & s2 =',s1 & s2)\n",
    "print('s1 - s2 =',s1 - s2)"
   ]
  },
  {
   "cell_type": "markdown",
   "id": "63a897cb",
   "metadata": {},
   "source": [
    "# 5절. enumerate\n",
    "- 반복자 또는 순서 객체로 반복문을 처리할 때 사용함수\n",
    "- 리스트, 튜플, 셋, 딕셔너리를 for문에 사용시"
   ]
  },
  {
   "cell_type": "code",
   "execution_count": 57,
   "id": "f9777f8a",
   "metadata": {},
   "outputs": [
    {
     "name": "stdout",
     "output_type": "stream",
     "text": [
      "길동\t길자\t영자\t"
     ]
    }
   ],
   "source": [
    "names = {'길자', '길동', '영자'}\n",
    "for name in names : \n",
    "    print(name, end = \"\\t\")"
   ]
  },
  {
   "cell_type": "code",
   "execution_count": 58,
   "id": "aab9c07f",
   "metadata": {},
   "outputs": [
    {
     "name": "stdout",
     "output_type": "stream",
     "text": [
      "0.길동\n",
      "1.길자\n",
      "2.영자\n"
     ]
    }
   ],
   "source": [
    "for no, name in enumerate(names) :\n",
    "    print(f\"{no}.{name}\")"
   ]
  },
  {
   "cell_type": "code",
   "execution_count": 66,
   "id": "7464774f",
   "metadata": {},
   "outputs": [
    {
     "name": "stdout",
     "output_type": "stream",
     "text": [
      "1. 순자의 연락처 : 010-9999-8888, 사는곳 : 서울\n",
      "2. 길동의 연락처 : 010-8888-7777, 사는곳 : 인천\n",
      "3. 길자의 연락처 : 010-7777-6666, 사는곳 : 판교\n"
     ]
    }
   ],
   "source": [
    "names = ['순자', '길동', '길자']\n",
    "tels = ['010-9999-8888', '010-8888-7777', '010-7777-6666']\n",
    "adds = ['서울', '인천', '판교']\n",
    "\n",
    "for idx in range(len(names)) : \n",
    "    print(\"{}. {}의 연락처 : {}, 사는곳 : {}\".format(idx + 1,\n",
    "                                                    names[idx], \n",
    "                                                    tels[idx], \n",
    "                                                    adds[idx]))"
   ]
  },
  {
   "cell_type": "code",
   "execution_count": 67,
   "id": "496cb3d0",
   "metadata": {},
   "outputs": [
    {
     "data": {
      "text/plain": [
       "[('순자', '010-9999-8888', '서울'),\n",
       " ('길동', '010-8888-7777', '인천'),\n",
       " ('길자', '010-7777-6666', '판교')]"
      ]
     },
     "execution_count": 67,
     "metadata": {},
     "output_type": "execute_result"
    }
   ],
   "source": [
    "list(zip(names, tels, adds))"
   ]
  },
  {
   "cell_type": "code",
   "execution_count": 68,
   "id": "9f05b274",
   "metadata": {},
   "outputs": [
    {
     "name": "stdout",
     "output_type": "stream",
     "text": [
      "순자 : 010-9999-8888 - 서울\n",
      "길동 : 010-8888-7777 - 인천\n",
      "길자 : 010-7777-6666 - 판교\n"
     ]
    }
   ],
   "source": [
    "for name, tel, add in zip(names, tels, adds) :\n",
    "    print(f\"{name} : {tel} - {add}\")"
   ]
  },
  {
   "cell_type": "code",
   "execution_count": 70,
   "id": "28f9605e",
   "metadata": {},
   "outputs": [
    {
     "name": "stdout",
     "output_type": "stream",
     "text": [
      "1. 순자 : 010-9999-8888 - 서울\n",
      "2. 길동 : 010-8888-7777 - 인천\n",
      "3. 길자 : 010-7777-6666 - 판교\n"
     ]
    }
   ],
   "source": [
    "for idx, (name, tel, add) in enumerate(zip(names, tels, adds)) :\n",
    "    print(\"{}. {} : {} - {}\".format(idx + 1,\n",
    "                                   name,\n",
    "                                   tel,\n",
    "                                   add))"
   ]
  },
  {
   "cell_type": "markdown",
   "id": "6cd2fad3",
   "metadata": {},
   "source": [
    "변수가 담을 수 있는 기본 자료형들\n",
    "```\n",
    "![자료형들](https://pynative.com/wp-content/uploads/2021/02/python-data-types.jpg)\n",
    "```\n",
    "<img src = \"https://pynative.com/wp-content/uploads/2021/02/python-data-types.jpg\"\n",
    "     width = \"400\"\n",
    "     style = \"float:left\">"
   ]
  },
  {
   "cell_type": "markdown",
   "id": "c67de48b",
   "metadata": {},
   "source": [
    "# 6절. 연습문제"
   ]
  },
  {
   "cell_type": "markdown",
   "id": "418c46b6",
   "metadata": {},
   "source": [
    "## 실습형"
   ]
  },
  {
   "cell_type": "code",
   "execution_count": 90,
   "id": "cb8aff98",
   "metadata": {},
   "outputs": [
    {
     "data": {
      "text/plain": [
       "[1, 2, 3, 4, 5, 6, 7, 8, 9, 10, 100]"
      ]
     },
     "execution_count": 90,
     "metadata": {},
     "output_type": "execute_result"
    }
   ],
   "source": [
    "# 다음 리스트가 주어졌을 경우 요구사항대로 코드를 작성하시오\n",
    "numbers =[1, 2, 3, 4, 5, 6, 7, 8, 9, 10]\n",
    "\n",
    "# ex1. 숫자 100을 맨 뒤에 추가하세요\n",
    "numbers.append(100)\n",
    "numbers"
   ]
  },
  {
   "cell_type": "code",
   "execution_count": 91,
   "id": "84e4b3f1",
   "metadata": {},
   "outputs": [
    {
     "data": {
      "text/plain": [
       "[1, 2, 3, 4, 5, 6, 7, 8, 9, 10, 100, 200, 300, 400, 500]"
      ]
     },
     "execution_count": 91,
     "metadata": {},
     "output_type": "execute_result"
    }
   ],
   "source": [
    "# ex2. 다음 리스트를 numbers 리스트 맨 뒤에 추가하세요\n",
    "data = [200, 300, 400, 500]\n",
    "\n",
    "numbers.extend(data)\n",
    "numbers"
   ]
  },
  {
   "cell_type": "code",
   "execution_count": 92,
   "id": "aee5ac01",
   "metadata": {},
   "outputs": [
    {
     "data": {
      "text/plain": [
       "[1, 2, 3, 4, 5]"
      ]
     },
     "execution_count": 92,
     "metadata": {},
     "output_type": "execute_result"
    }
   ],
   "source": [
    "# ex3. 처음 다섯 개 숫자만 출력하세요\n",
    "numbers[:5]"
   ]
  },
  {
   "cell_type": "code",
   "execution_count": 93,
   "id": "96e3f4bf",
   "metadata": {},
   "outputs": [
    {
     "data": {
      "text/plain": [
       "[1, 3, 5, 7, 9, 100, 300, 500]"
      ]
     },
     "execution_count": 93,
     "metadata": {},
     "output_type": "execute_result"
    }
   ],
   "source": [
    "# ex4. 리스트에서 짝수번째 데이터만 출력하세요\n",
    "numbers[::2]"
   ]
  },
  {
   "cell_type": "code",
   "execution_count": 97,
   "id": "9545d4be",
   "metadata": {},
   "outputs": [
    {
     "data": {
      "text/plain": [
       "[0, 2, 0, 4, 0, 6, 0, 8, 0, 10, 0, 200, 0, 400, 0]"
      ]
     },
     "execution_count": 97,
     "metadata": {},
     "output_type": "execute_result"
    }
   ],
   "source": [
    "# ex5. 짝수번째 데이터를 모두 0으로 바꾸세요\n",
    "for num in range(len(numbers)) :\n",
    "    if num % 2 == 0 :\n",
    "        numbers[num] = 0\n",
    "numbers"
   ]
  },
  {
   "cell_type": "code",
   "execution_count": 130,
   "id": "ef8d8f95",
   "metadata": {},
   "outputs": [
    {
     "data": {
      "text/plain": [
       "[0, 2, 0, 4, 0, 6, 0, 8, 0, 10, 0, 200, 0, 400, 0]"
      ]
     },
     "execution_count": 130,
     "metadata": {},
     "output_type": "execute_result"
    }
   ],
   "source": [
    "numbers2 = [1, 2, 3, 4, 5, 6, 7, 8, 9, 10, 100, 200, 300, 400, 500]\n",
    "numbers2[::2] = len(numbers2[::2]) * [0]\n",
    "numbers2"
   ]
  },
  {
   "cell_type": "code",
   "execution_count": 131,
   "id": "b338eb46",
   "metadata": {},
   "outputs": [
    {
     "data": {
      "text/plain": [
       "[0, 2, 0, 4, 0, 6, 0, 8, 0, 10, 0, 200, 0, 400, 0]"
      ]
     },
     "execution_count": 131,
     "metadata": {},
     "output_type": "execute_result"
    }
   ],
   "source": [
    "# ex5.1 짝수번째 데이터를 모두 0으로 바꾸는게 아닌 출력만 하려면\n",
    "\n",
    "numbers3 = [1, 2, 3, 4, 5, 6, 7, 8, 9, 10, 100, 200, 300, 400, 500]\n",
    "[numbers3[idx] if idx % 2 != 0 else 0 for idx in range(len(numbers3))]"
   ]
  },
  {
   "cell_type": "code",
   "execution_count": 100,
   "id": "534dfc08",
   "metadata": {},
   "outputs": [
    {
     "data": {
      "text/plain": [
       "[0, 400, 0, 200, 0, 10, 0, 8, 0, 6, 0, 4, 0, 2, 0]"
      ]
     },
     "execution_count": 100,
     "metadata": {},
     "output_type": "execute_result"
    }
   ],
   "source": [
    "# ex6. 데이터를 역순으로 나열하세요(내림차순 정렬이 아닙니다)\n",
    "numbers[::-1]"
   ]
  },
  {
   "cell_type": "code",
   "execution_count": 132,
   "id": "36e2b277",
   "metadata": {},
   "outputs": [
    {
     "name": "stdout",
     "output_type": "stream",
     "text": [
      "서울시 마포구\n",
      "서울시 마포구\n"
     ]
    }
   ],
   "source": [
    "# 다음 딕셔너리 데이터가 주어졌을 경우 요구사항대로 코드를 작성하세요\n",
    "member_info = {\"name\":\"홍길동\", \"age\":20, \"address\":\"서울시 마포구\",\"score\":90}\n",
    "\n",
    "# ex7. address값을 출력하세요\n",
    "print(member_info['address'])\n",
    "print(member_info.get('address'))  # 강추"
   ]
  },
  {
   "cell_type": "code",
   "execution_count": 105,
   "id": "3b537802",
   "metadata": {},
   "outputs": [
    {
     "name": "stdout",
     "output_type": "stream",
     "text": [
      "90\n",
      "{'name': '홍길동', 'age': 20, 'address': '서울시 마포구'}\n"
     ]
    }
   ],
   "source": [
    "# ex8. score 를 출력하고 member_info 딕셔너리에서 삭제하세요\n",
    "remove_data = member_info.pop('score')\n",
    "print(remove_data)\n",
    "print(member_info)"
   ]
  },
  {
   "cell_type": "code",
   "execution_count": 110,
   "id": "55b3ce4f",
   "metadata": {},
   "outputs": [
    {
     "data": {
      "text/plain": [
       "{'name': '홍길동', 'age': 20, 'address': '서울시 서대문구'}"
      ]
     },
     "execution_count": 110,
     "metadata": {},
     "output_type": "execute_result"
    }
   ],
   "source": [
    "# ex9. address를 \"서울시 서대문구\"로 변경하세요\n",
    "member_info['address'] = '서울시 서대문구'\n",
    "member_info"
   ]
  },
  {
   "cell_type": "code",
   "execution_count": 111,
   "id": "bd16befb",
   "metadata": {},
   "outputs": [
    {
     "data": {
      "text/plain": [
       "[(0, ('name', '홍길동')), (1, ('age', 20)), (2, ('address', '서울시 서대문구'))]"
      ]
     },
     "execution_count": 111,
     "metadata": {},
     "output_type": "execute_result"
    }
   ],
   "source": [
    "# ex10. member_info 딕셔너리 데이터의 값을 리스트로 출력하세요\n",
    "list(enumerate(member_info.items()))"
   ]
  },
  {
   "cell_type": "markdown",
   "id": "82fa8b82",
   "metadata": {},
   "source": [
    "## 서술형"
   ]
  },
  {
   "cell_type": "code",
   "execution_count": 112,
   "id": "19f770ad",
   "metadata": {},
   "outputs": [
    {
     "name": "stdout",
     "output_type": "stream",
     "text": [
      "['orange', 'banana']\n"
     ]
    }
   ],
   "source": [
    "# ex1. 다음 코드를 실행했을 때 출력되는 것은?\n",
    "L1 = (\"orange\", \"apple\", \"banana\", \"kiwi\")\n",
    "new_list = [i for i in L1 if len(i) > 5]\n",
    "print(new_list)"
   ]
  },
  {
   "cell_type": "code",
   "execution_count": 113,
   "id": "74415849",
   "metadata": {},
   "outputs": [
    {
     "name": "stdout",
     "output_type": "stream",
     "text": [
      "[0, 1, 2, 3, 4, 5, 6, 7, 8, 9]\n",
      "[5, 6, 7, 8, 9]\n",
      "[10, 9, 8, 7, 6, 5, 4, 3, 2, 1]\n",
      "[10, 12, 14, 16, 18]\n"
     ]
    }
   ],
   "source": [
    "# ex2. 다음 코드와 실행결과가 잘못 짝지어진 것은?\n",
    "print(list(range(10)))\n",
    "print(list(range(5,10)))\n",
    "print(list(range(10,0,-1)))\n",
    "print(list(range(10,20,2)))"
   ]
  },
  {
   "cell_type": "code",
   "execution_count": 114,
   "id": "185f6419",
   "metadata": {},
   "outputs": [
    {
     "data": {
      "text/plain": [
       "1"
      ]
     },
     "execution_count": 114,
     "metadata": {},
     "output_type": "execute_result"
    }
   ],
   "source": [
    "# ex3. 다음 구문에 의해 출력되는 것은?\n",
    "numbers_2d = [ [1,2,3,4,5], [10,20,30,40],[1,3,5],[2,] ]\n",
    "len(numbers_2d[3])"
   ]
  },
  {
   "cell_type": "code",
   "execution_count": 115,
   "id": "9bfe2b83",
   "metadata": {},
   "outputs": [
    {
     "data": {
      "text/plain": [
       "[1, 2, 3, 4, 5, 10, 20, 30, 40, 50]"
      ]
     },
     "execution_count": 115,
     "metadata": {},
     "output_type": "execute_result"
    }
   ],
   "source": [
    "# ex4. 다음 코드의 실행결과가 나올 수 있는 빈칸에 들어갈 함수 이름은?\n",
    "numbers = [1,2,3,4,5]\n",
    "numbers.extend([10,20,30,40,50])\n",
    "numbers"
   ]
  },
  {
   "cell_type": "code",
   "execution_count": 117,
   "id": "a44d964d",
   "metadata": {},
   "outputs": [
    {
     "name": "stdout",
     "output_type": "stream",
     "text": [
      "[0, 1, 0, 3, 0, 5, 0, 7, 0, 9]\n"
     ]
    }
   ],
   "source": [
    "# ex5. 다음 구문을 실행할 때 결과는?\n",
    "numbers = list(range(10))\n",
    "numbers[::2]= [0] * len(numbers[::2])\n",
    "print(numbers)"
   ]
  },
  {
   "cell_type": "code",
   "execution_count": 118,
   "id": "7b5c6d47",
   "metadata": {},
   "outputs": [
    {
     "name": "stdout",
     "output_type": "stream",
     "text": [
      "[5, 1, 6, 3, 7, 5, 8, 7, 9, 9]\n"
     ]
    }
   ],
   "source": [
    "# ex6. 다음 구문을 실행할 때 결과는?\n",
    "numbers = [0,1,2,3,4,5,6,7,8,9]\n",
    "numbers[::2] = numbers[5:]\n",
    "print(numbers)"
   ]
  },
  {
   "cell_type": "code",
   "execution_count": 119,
   "id": "7df68617",
   "metadata": {},
   "outputs": [
    {
     "name": "stdout",
     "output_type": "stream",
     "text": [
      "[0, 1, 1, 3, 2, 5, 3, 7, 4, 9]\n"
     ]
    }
   ],
   "source": [
    "# ex7. 다음 구문을 실행할 때 결과는?\n",
    "numbers = [0, 1, 2, 3, 4, 5, 6, 7, 8, 9]\n",
    "numbers[::2] =  numbers[:5]\n",
    "print(numbers)"
   ]
  },
  {
   "cell_type": "code",
   "execution_count": 121,
   "id": "5e0875d9",
   "metadata": {},
   "outputs": [
    {
     "name": "stdout",
     "output_type": "stream",
     "text": [
      "10\n",
      "10\n",
      "10\n",
      "10\n"
     ]
    }
   ],
   "source": [
    "# ex8. 다음 데이터에서 10을 출력할 수 없는 구문은?\n",
    "my_dic = {\"a\":10, \"b\":20, \"c\":30}\n",
    "\n",
    "# print(my_dic[0])\n",
    "print(my_dic['a'])\n",
    "print(list(my_dic.items())[0][1])\n",
    "print(list(my_dic.values())[0])\n",
    "print(my_dic.get('a'))"
   ]
  },
  {
   "cell_type": "code",
   "execution_count": 122,
   "id": "3112e7a2",
   "metadata": {},
   "outputs": [
    {
     "name": "stdout",
     "output_type": "stream",
     "text": [
      "apple\n",
      "banana\n",
      "orange\n"
     ]
    }
   ],
   "source": [
    "# ex9. 다음 프로그램의 결과를 출력하시오\n",
    "fruits = ['apple', 'banana', 'orange']\n",
    "x, y, z = fruits\n",
    "print(x)\n",
    "print(y)\n",
    "print(z)"
   ]
  },
  {
   "cell_type": "code",
   "execution_count": 123,
   "id": "de5ded93",
   "metadata": {},
   "outputs": [
    {
     "name": "stdout",
     "output_type": "stream",
     "text": [
      "3\n"
     ]
    }
   ],
   "source": [
    "# ex10. 다음 프로그램의 결과를 출력하시오\n",
    "fruits = ['apple', 'banana', 'orange']\n",
    "print(len(fruits))"
   ]
  },
  {
   "cell_type": "code",
   "execution_count": 124,
   "id": "c2daba81",
   "metadata": {},
   "outputs": [
    {
     "name": "stdout",
     "output_type": "stream",
     "text": [
      "정답 : def\n"
     ]
    }
   ],
   "source": [
    "# ex11. 파이썬에서 함수를 만들기 위해 선언하는 단어는?\n",
    "print(\"정답 : def\")"
   ]
  },
  {
   "cell_type": "code",
   "execution_count": null,
   "id": "3b6ad903",
   "metadata": {},
   "outputs": [],
   "source": []
  }
 ],
 "metadata": {
  "kernelspec": {
   "display_name": "Python 3 (ipykernel)",
   "language": "python",
   "name": "python3"
  },
  "language_info": {
   "codemirror_mode": {
    "name": "ipython",
    "version": 3
   },
   "file_extension": ".py",
   "mimetype": "text/x-python",
   "name": "python",
   "nbconvert_exporter": "python",
   "pygments_lexer": "ipython3",
   "version": "3.10.9"
  },
  "toc": {
   "base_numbering": 1,
   "nav_menu": {},
   "number_sections": false,
   "sideBar": true,
   "skip_h1_title": false,
   "title_cell": "Table of Contents",
   "title_sidebar": "Contents",
   "toc_cell": false,
   "toc_position": {
    "height": "calc(100% - 180px)",
    "left": "10px",
    "top": "150px",
    "width": "241.95px"
   },
   "toc_section_display": true,
   "toc_window_display": true
  }
 },
 "nbformat": 4,
 "nbformat_minor": 5
}
