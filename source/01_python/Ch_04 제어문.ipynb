{
 "cells": [
  {
   "cell_type": "code",
   "execution_count": 1,
   "id": "2e8eb5f2",
   "metadata": {},
   "outputs": [
    {
     "data": {
      "text/html": [
       "<style>\n",
       "div.container{width:86% !important;}\n",
       "div.cell.code_cell.rendered{width:100%;}\n",
       "div.CodeMirror {font-family:Consolas; font-size:12pt;}\n",
       "div.output {font-size:12pt; font-weight:bold;}\n",
       "div.input {font-family:Consolas; font-size:12pt;}\n",
       "div.prompt {min-width:70px;}\n",
       "div#toc-wrapper{padding-top:120px;}\n",
       "div.text_cell_render ul li{fontsize:12pt;padding:5px;}\n",
       "table.dataframe{font-size:12px;}))\n",
       "</style>\n"
      ],
      "text/plain": [
       "<IPython.core.display.HTML object>"
      ]
     },
     "metadata": {},
     "output_type": "display_data"
    }
   ],
   "source": [
    "from IPython.display import display, HTML\n",
    "display(HTML(\"\"\"<style>\n",
    "div.container{width:86% !important;}\n",
    "div.cell.code_cell.rendered{width:100%;}\n",
    "div.CodeMirror {font-family:Consolas; font-size:12pt;}\n",
    "div.output {font-size:12pt; font-weight:bold;}\n",
    "div.input {font-family:Consolas; font-size:12pt;}\n",
    "div.prompt {min-width:70px;}\n",
    "div#toc-wrapper{padding-top:120px;}\n",
    "div.text_cell_render ul li{fontsize:12pt;padding:5px;}\n",
    "table.dataframe{font-size:12px;}))\n",
    "</style>\n",
    "\"\"\"))"
   ]
  },
  {
   "cell_type": "markdown",
   "id": "2c03d4bd",
   "metadata": {},
   "source": [
    "<font size=\"5\" color=\"red\">ch04 제어문</font>\n",
    "- 조건문 : if문\n",
    "- 반복문 : for문, while문, 중첩가능"
   ]
  },
  {
   "cell_type": "markdown",
   "id": "2bc19b9b",
   "metadata": {},
   "source": [
    "# 1절. 조건문(if)\n",
    "```\n",
    "if 조건1 :\n",
    "    조건1이 참일 경우 수행할 명령어들\n",
    "elif 조건2 :\n",
    "    조건1이 거짓이고, 조건2가 참일 경우 수행할 명령어들\n",
    "else :\n",
    "    모든 조건을 만족하지 않을 때 수행할 명령어들\n",
    "```"
   ]
  },
  {
   "cell_type": "code",
   "execution_count": 2,
   "id": "08cd0daf",
   "metadata": {},
   "outputs": [
    {
     "name": "stdout",
     "output_type": "stream",
     "text": [
      "점수는 :120\n",
      "참 잘했어요\n",
      "다음에도 기대할께요\n",
      "화이팅\n"
     ]
    }
   ],
   "source": [
    "score = int(input('점수는 :'))\n",
    "if score >= 90:\n",
    "    print('참 잘했어요')\n",
    "    print('다음에도 기대할께요')\n",
    "elif score>=60:\n",
    "    print('분발하세요')\n",
    "    print('뭐 그래도 고생하셨어요')\n",
    "else:\n",
    "    print('재시험 응시하셔야 합니다')\n",
    "print('화이팅')"
   ]
  },
  {
   "cell_type": "code",
   "execution_count": 3,
   "id": "6b04c610",
   "metadata": {},
   "outputs": [
    {
     "name": "stdout",
     "output_type": "stream",
     "text": [
      "점수 : 120\n",
      "입력하신 점수는 120점이고, 유효하지 않은 점수등급입니다\n"
     ]
    }
   ],
   "source": [
    "# 점수(0~100점)를 입력받아 학점을 출력하시오(A, B, C, D, F, 유효하지 않은 점수)\n",
    "\n",
    "score = int(input('점수 : '))\n",
    "if 90 <= score <= 100 :  # (score>=90) & (score<=100):\n",
    "    grade = 'A'\n",
    "elif 80 <= score < 90 :\n",
    "    grade = 'B'\n",
    "elif 70 <= score < 80 :\n",
    "    grade = 'C'\n",
    "elif 60 <= score < 70 :\n",
    "    grade ='D'\n",
    "elif 0 <= score < 60 :\n",
    "    grade = 'F'\n",
    "else :\n",
    "    grade = '유효하지 않은 점수'\n",
    "\n",
    "print(\"입력하신 점수는 {}점이고, {}등급입니다\".format(score, grade))"
   ]
  },
  {
   "cell_type": "markdown",
   "id": "1e9bce00",
   "metadata": {},
   "source": [
    "# 2절. 반복문"
   ]
  },
  {
   "cell_type": "markdown",
   "id": "e8a7390a",
   "metadata": {},
   "source": [
    "## 2.1 for - in 문\n",
    "```\n",
    "for 임시변수 in 나열가능한 자료 :\n",
    "    반복할 명령어1\n",
    "    반복할 명령어2\n",
    "    if 조건 :\n",
    "        break\n",
    "else : (else구문은 선택사항)\n",
    "    나열가능한 자료가 다 소요하여 for블록을 다 수행한 후 최종 한번 수행할 명령어 \n",
    "    for문안에 break를 수행할 경우 else블록을 수행하지 않음 \n",
    "```"
   ]
  },
  {
   "cell_type": "code",
   "execution_count": 4,
   "id": "d21a68a2",
   "metadata": {},
   "outputs": [
    {
     "name": "stdout",
     "output_type": "stream",
     "text": [
      "1\t3\t5\t7\t9\t\n",
      "Done\n",
      "END\n"
     ]
    }
   ],
   "source": [
    "for i in range(1, 10, 2) :\n",
    "    print(i, end = '\\t')\n",
    "else :\n",
    "    print('\\nDone')\n",
    "print('END')"
   ]
  },
  {
   "cell_type": "code",
   "execution_count": 5,
   "id": "84d433ea",
   "metadata": {},
   "outputs": [
    {
     "name": "stdout",
     "output_type": "stream",
     "text": [
      "1\t3\tEND\n"
     ]
    }
   ],
   "source": [
    "for i in range(1, 10, 2) :\n",
    "    if i == 5 :\n",
    "        break\n",
    "    print(i, end = '\\t')\n",
    "else :\n",
    "    print('\\nDone')\n",
    "print('END')"
   ]
  },
  {
   "cell_type": "code",
   "execution_count": 6,
   "id": "4093355c",
   "metadata": {},
   "outputs": [
    {
     "name": "stdout",
     "output_type": "stream",
     "text": [
      "1~100까지 합은 5050\n"
     ]
    }
   ],
   "source": [
    "# 1~100까지 누적합을 출력하시오 (for문)\n",
    "\n",
    "total = 0\n",
    "for i in range(1, 101) :\n",
    "    total += i\n",
    "    \n",
    "print('1~100까지 합은', total)"
   ]
  },
  {
   "cell_type": "code",
   "execution_count": 7,
   "id": "7a39d46d",
   "metadata": {},
   "outputs": [
    {
     "name": "stdout",
     "output_type": "stream",
     "text": [
      "1~100까지 합은 2550\n"
     ]
    }
   ],
   "source": [
    "# 1~100까지 짝수들의 누적합을 출력하시오 (for문)\n",
    "\n",
    "total = 0\n",
    "for i in range(0, 101, 2) :\n",
    "    total += i\n",
    "    \n",
    "print('1~100까지 합은', total)"
   ]
  },
  {
   "cell_type": "code",
   "execution_count": 8,
   "id": "3706f7ef",
   "metadata": {},
   "outputs": [
    {
     "name": "stdout",
     "output_type": "stream",
     "text": [
      "100\n",
      "1~100까지 합은 2550\n"
     ]
    }
   ],
   "source": [
    "# 1~100까지 짝수들의 누적합을 출력하시오 (for문)\n",
    "\n",
    "total = 0\n",
    "for i in range(1, 101) :\n",
    "    if i % 2 == 0 :\n",
    "        total += i\n",
    "print(i)\n",
    "print('1~100까지 합은', total)"
   ]
  },
  {
   "cell_type": "markdown",
   "id": "8dcf0936",
   "metadata": {},
   "source": [
    "## 2.2 while문\n",
    "```\n",
    "while 조건 :\n",
    "    조건이 참일 경우 반복할 문장들\n",
    "else : (else구문은 선택사항)\n",
    "    조건이 거짓일 경우 한번 실행할 문장 \n",
    "```"
   ]
  },
  {
   "cell_type": "code",
   "execution_count": 9,
   "id": "a3ff91e2",
   "metadata": {},
   "outputs": [
    {
     "name": "stdout",
     "output_type": "stream",
     "text": [
      "101\n",
      "1~100까지 합은 5050\n"
     ]
    }
   ],
   "source": [
    "# 1~100까지 누적합을 출력하시오 (while문)\n",
    "\n",
    "total = 0\n",
    "i = 0\n",
    "while i <= 100 :\n",
    "    total += i\n",
    "    i += 1\n",
    "print(i)\n",
    "print('1~100까지 합은', total)"
   ]
  },
  {
   "cell_type": "code",
   "execution_count": 10,
   "id": "672fe470",
   "metadata": {},
   "outputs": [
    {
     "name": "stdout",
     "output_type": "stream",
     "text": [
      "1~100까지 합은 2550\n"
     ]
    }
   ],
   "source": [
    "# 1~100까지 짝수들의 누적합을 출력하시오 (while문)\n",
    "\n",
    "total = 0\n",
    "i = 0\n",
    "while i <= 100 :\n",
    "    total += i\n",
    "    i += 2\n",
    "\n",
    "print('1~100까지 합은', total)"
   ]
  },
  {
   "cell_type": "code",
   "execution_count": 11,
   "id": "68a6a8e3",
   "metadata": {},
   "outputs": [
    {
     "name": "stdout",
     "output_type": "stream",
     "text": [
      "1~100까지 합은 2550\n"
     ]
    }
   ],
   "source": [
    "# 1~100까지 짝수들의 누적합을 출력하시오 (while문)\n",
    "\n",
    "total = 0\n",
    "i = 0\n",
    "while i <= 100 :\n",
    "    if i % 2 == 0 :\n",
    "        total += i\n",
    "    i += 1\n",
    "    \n",
    "print('1~100까지 합은', total)"
   ]
  },
  {
   "cell_type": "code",
   "execution_count": 13,
   "id": "f6320816",
   "metadata": {},
   "outputs": [
    {
     "name": "stdout",
     "output_type": "stream",
     "text": [
      "두 정수를 입력하시오 :\n",
      "50 6\n",
      "616\n"
     ]
    }
   ],
   "source": [
    "# ex1. 사용자에게 두 정수를 입력받아, 작은수부터 큰수까지 홀수의 합을 누적해서 출력하시오\n",
    "\n",
    "lst = list(map(int, input('두 정수를 입력하시오 :\\n').split()))\n",
    "\n",
    "total = 0\n",
    "for i in range(min(lst), max(lst) + 1) :\n",
    "    if i % 2 != 0 :\n",
    "        total += i\n",
    "print(total)"
   ]
  },
  {
   "cell_type": "code",
   "execution_count": 14,
   "id": "219ec973",
   "metadata": {},
   "outputs": [
    {
     "name": "stdout",
     "output_type": "stream",
     "text": [
      "첫번째 정수는 >50\n",
      "두번째 정수는 >6\n",
      "first=6, second=50\n",
      "6부터 50까지 홀수 누적합은 616입니다\n"
     ]
    }
   ],
   "source": [
    "# ex1. 사용자에게 두 정수를 입력받아, 작은수부터 큰수까지 홀수의 합을 누적해서 출력\n",
    "first = int(input(\"첫번째 정수는 >\"))\n",
    "second = int(input(\"두번째 정수는 >\"))\n",
    "# # (1-1) 두 수 중 작은 수는 min_에 큰수는 max_에 할당\n",
    "# if first<second:\n",
    "#     min_ = first\n",
    "#     max_ = second\n",
    "# else:\n",
    "#     min_ = second\n",
    "#     max_ = first\n",
    "# # (2-1) min_부터 max_까지 홀수합 누적\n",
    "# tot = 0\n",
    "# for i in range(min_, max_+1):\n",
    "#     if i%2: # i%2!=0: #(i%2==1) | (i%2==-1):\n",
    "#         tot += i\n",
    "# # (3-1) 출력\n",
    "# print(f\"{min_}부터 {max_}까지 홀수들의 합은 {tot}입니다\")\n",
    "# (1-2) first에 작은수로 second에 큰수가 되도록 함\n",
    "if first > second:\n",
    "    # 바꿔\n",
    "#     temp = first\n",
    "#     first = second\n",
    "#     second = temp\n",
    "    first, second = second, first\n",
    "print(\"first={}, second={}\".format(first, second))\n",
    "# (2-2) first부터 second까지 홀수들 누적\n",
    "tot = 0\n",
    "for i in range(first, second+1):\n",
    "    if i%2:\n",
    "        tot += i\n",
    "# (3-3) 출력\n",
    "print(\"{}부터 {}까지 홀수 누적합은 {}입니다\".format(first, second, tot))"
   ]
  },
  {
   "cell_type": "code",
   "execution_count": 15,
   "id": "bf4b1674",
   "metadata": {},
   "outputs": [],
   "source": [
    "# 난수 발생\n",
    "\n",
    "import random\n",
    "# random.random() : 0 <= 실수 난수 < 1\n",
    "# random.randint(a, b) : a~b까지의 정수 난수\n",
    "# int(random.random() * b) + a : a~b까지의 정수 난수\n",
    "# 실행할때마다 난수의 순서를 일치시키려면 random.seed(특정수)"
   ]
  },
  {
   "cell_type": "code",
   "execution_count": 16,
   "id": "9db846e3",
   "metadata": {},
   "outputs": [
    {
     "name": "stdout",
     "output_type": "stream",
     "text": [
      "[3, 13, 13, 16, 25, 41]\n"
     ]
    }
   ],
   "source": [
    "lotto = []\n",
    "for i in range(6) :\n",
    "    lotto.append(random.randint(1, 45))\n",
    "print(sorted(lotto))  # 중복수가 나오므로 잘못된 예제"
   ]
  },
  {
   "cell_type": "code",
   "execution_count": 18,
   "id": "f687e9fe",
   "metadata": {},
   "outputs": [
    {
     "name": "stdout",
     "output_type": "stream",
     "text": [
      "0번째까지 정렬 내용 : [1] / [1, 23, 7, 8, 32, 33]\n",
      "1번째까지 정렬 내용 : [1, 7] / [1, 7, 23, 8, 32, 33]\n",
      "2번째까지 정렬 내용 : [1, 7, 8] / [1, 7, 8, 23, 32, 33]\n",
      "3번째까지 정렬 내용 : [1, 7, 8, 23] / [1, 7, 8, 23, 32, 33]\n",
      "4번째까지 정렬 내용 : [1, 7, 8, 23, 32] / [1, 7, 8, 23, 32, 33]\n",
      "난수 6번 뽑아서 로또는 [1, 7, 8, 23, 32, 33]\n"
     ]
    }
   ],
   "source": [
    "# ex2. 1~45까지의 로또번호 6개를 추출하여 출력 (오름차순 정렬결과를 출력) (list이용)\n",
    "\n",
    "lotto = []\n",
    "cnt = 0\n",
    "\n",
    "while len(lotto) < 6 :\n",
    "    cnt += 1\n",
    "    temp = random.randint(1, 45)\n",
    "    if temp not in lotto :\n",
    "        lotto.append(temp)\n",
    "\n",
    "# lotto.sort()\n",
    "# 정렬하기\n",
    "for i in range(0, len(lotto) - 1) :\n",
    "    for j in range(i, len(lotto)) :\n",
    "        if lotto[i] > lotto[j] :\n",
    "            lotto[i], lotto[j] = lotto[j], lotto[i]\n",
    "    print(f\"{i}번째까지 정렬 내용 : {lotto[:i+1]} / {lotto}\")\n",
    "\n",
    "print(\"난수 {}번 뽑아서 로또는 {}\".format(cnt, lotto))"
   ]
  },
  {
   "cell_type": "code",
   "execution_count": 60,
   "id": "79c711f4",
   "metadata": {},
   "outputs": [
    {
     "data": {
      "text/plain": [
       "[6, 19, 25, 37, 42, 43]"
      ]
     },
     "execution_count": 60,
     "metadata": {},
     "output_type": "execute_result"
    }
   ],
   "source": [
    "# ex2. 1~45까지의 로또번호 6개를 추출하여 출력 (오름차순 정렬결과를 출력) (set이용)\n",
    "\n",
    "lotto = set()\n",
    "\n",
    "while len(lotto) < 6 :\n",
    "    lotto.add(random.randint(1, 45))\n",
    "sorted(lotto)"
   ]
  },
  {
   "cell_type": "code",
   "execution_count": 61,
   "id": "738b141e",
   "metadata": {},
   "outputs": [
    {
     "data": {
      "text/plain": [
       "[2, 12, 18, 23, 26, 42]"
      ]
     },
     "execution_count": 61,
     "metadata": {},
     "output_type": "execute_result"
    }
   ],
   "source": [
    "# ex2. 1~45까지의 로또번호 6개를 추출하여 출력 (오름차순 정렬결과를 출력) (random.sample()이용)\n",
    "\n",
    "sorted(random.sample(range(1, 45), 6))"
   ]
  },
  {
   "cell_type": "markdown",
   "id": "262440c5",
   "metadata": {},
   "source": [
    "## 2.3 break, continue"
   ]
  },
  {
   "cell_type": "code",
   "execution_count": 63,
   "id": "ab3bb990",
   "metadata": {},
   "outputs": [
    {
     "name": "stdout",
     "output_type": "stream",
     "text": [
      "1\t2\t3\t4\t6\t7\t8\t9\t10\tDone\n"
     ]
    }
   ],
   "source": [
    "num = 0\n",
    "while num < 10 :\n",
    "    num += 1\n",
    "    if num == 5 :\n",
    "#         break  # 반복문을 탈출\n",
    "        continue   # while블록 수행을 중단하고 조건으로 감\n",
    "    print(num, end = '\\t')\n",
    "print('Done')"
   ]
  },
  {
   "cell_type": "code",
   "execution_count": 64,
   "id": "7fb19747",
   "metadata": {},
   "outputs": [
    {
     "name": "stdout",
     "output_type": "stream",
     "text": [
      "컴퓨터가 발생한 임의의 수 : 52\n",
      "1~100사이의 수를 맞춰 보세요 :20\n",
      "UP ↑\n",
      "1~100사이의 수를 맞춰 보세요 :50\n",
      "UP ↑\n",
      "1~100사이의 수를 맞춰 보세요 :70\n",
      "DOWN ↓\n",
      "1~100사이의 수를 맞춰 보세요 :65\n",
      "DOWN ↓\n",
      "1~100사이의 수를 맞춰 보세요 :60\n",
      "DOWN ↓\n",
      "1~100사이의 수를 맞춰 보세요 :58\n",
      "DOWN ↓\n",
      "1~100사이의 수를 맞춰 보세요 :56\n",
      "DOWN ↓\n",
      "1~100사이의 수를 맞춰 보세요 :53\n",
      "DOWN ↓\n",
      "1~100사이의 수를 맞춰 보세요 :51\n",
      "UP ↑\n",
      "1~100사이의 수를 맞춰 보세요 :52\n",
      "축하합니다 맞추셨습니다\n"
     ]
    }
   ],
   "source": [
    "'''\n",
    "1~100사이의 정수를 맞추는 프로그램을 구현하시오\n",
    "(프로그램안에 임의의 숫자가 만들어지고 그 숫자를 맞추도록 합니다)\n",
    "1단계. 입력된 숫자가 틀리면 UP/DOWN 메시지를 출력하고 숫자를 맞추면 축하 메세지와 함께 종료합니다(맞출 때까지 반복)\n",
    "'''\n",
    "\n",
    "import random\n",
    "\n",
    "# (1) 1~100 사이의 난수 발생\n",
    "randomNum = random.randint(1, 100)\n",
    "print(\"컴퓨터가 발생한 임의의 수 :\", randomNum)\n",
    "\n",
    "# (2) 수를 입력받아 틀리면 UP/DOWN 메시지를 출력하고 숫자를 맞추면 축하 메세지와 break하는 반복문\n",
    "while True :\n",
    "    inputNum = int(input(\"1~100사이의 수를 맞춰 보세요 :\"))\n",
    "    if (inputNum < 1) & (inputNum > 100) :\n",
    "        print(\"수의 범위를 벗어났습니다\")\n",
    "    elif randomNum < inputNum :\n",
    "        print(\"DOWN ↓\")\n",
    "    elif randomNum > inputNum :\n",
    "        print(\"UP ↑\")\n",
    "    else :\n",
    "        print(\"축하합니다 맞추셨습니다\")\n",
    "        break"
   ]
  },
  {
   "cell_type": "markdown",
   "id": "4f41feb4",
   "metadata": {},
   "source": [
    "# 3절. 중첩루프\n",
    "- (반복문 안의 반복문)"
   ]
  },
  {
   "cell_type": "code",
   "execution_count": 65,
   "id": "f20ace0a",
   "metadata": {},
   "outputs": [
    {
     "name": "stdout",
     "output_type": "stream",
     "text": [
      "2x1 =  2\t3x1 =  3\t4x1 =  4\t5x1 =  5\t6x1 =  6\t7x1 =  7\t8x1 =  8\t9x1 =  9\t\n",
      "2x2 =  4\t3x2 =  6\t4x2 =  8\t5x2 = 10\t6x2 = 12\t7x2 = 14\t8x2 = 16\t9x2 = 18\t\n",
      "2x3 =  6\t3x3 =  9\t4x3 = 12\t5x3 = 15\t6x3 = 18\t7x3 = 21\t8x3 = 24\t9x3 = 27\t\n",
      "2x4 =  8\t3x4 = 12\t4x4 = 16\t5x4 = 20\t6x4 = 24\t7x4 = 28\t8x4 = 32\t9x4 = 36\t\n",
      "2x5 = 10\t3x5 = 15\t4x5 = 20\t5x5 = 25\t6x5 = 30\t7x5 = 35\t8x5 = 40\t9x5 = 45\t\n",
      "2x6 = 12\t3x6 = 18\t4x6 = 24\t5x6 = 30\t6x6 = 36\t7x6 = 42\t8x6 = 48\t9x6 = 54\t\n",
      "2x7 = 14\t3x7 = 21\t4x7 = 28\t5x7 = 35\t6x7 = 42\t7x7 = 49\t8x7 = 56\t9x7 = 63\t\n",
      "2x8 = 16\t3x8 = 24\t4x8 = 32\t5x8 = 40\t6x8 = 48\t7x8 = 56\t8x8 = 64\t9x8 = 72\t\n",
      "2x9 = 18\t3x9 = 27\t4x9 = 36\t5x9 = 45\t6x9 = 54\t7x9 = 63\t8x9 = 72\t9x9 = 81\t\n"
     ]
    }
   ],
   "source": [
    "# 2x1= 2\t3x1= 3\t4x1= 4\t5x1= 5\t6x1= 6\t7x1= 7\t8x1= 8\t9x1= 9\t\n",
    "# 2x2= 4\t3x2= 6\t4x2= 8\t5x2=10\t6x2=12\t7x2=14\t8x2=16\t9x2=18\n",
    "# ...\n",
    "\n",
    "for i in range(1, 10) :\n",
    "    for j in range(2, 10) :\n",
    "        print(f\"{j}x{i} = {j * i :2}\", end = '\\t')\n",
    "    print()  # 개행"
   ]
  },
  {
   "cell_type": "markdown",
   "id": "9a4ad5b3",
   "metadata": {},
   "source": [
    "# 4절. 중첩루프 탈출"
   ]
  },
  {
   "cell_type": "code",
   "execution_count": 67,
   "id": "db281028",
   "metadata": {},
   "outputs": [
    {
     "name": "stdout",
     "output_type": "stream",
     "text": [
      "0 1\n",
      "0 2\n",
      "Done\n"
     ]
    }
   ],
   "source": [
    "# 중첩루프 탈출하는 방법 1 : flag 변수 이용\n",
    "\n",
    "flag = False\n",
    "for a in range(0, 3) :       # a = 0, 1, 2\n",
    "    for b in range(1, 3) :   # b = 1, 2\n",
    "        if a == b :\n",
    "            flag = True\n",
    "            break            # 반복문을 아예 빠져 나오기\n",
    "        print(a, b)\n",
    "    # break시 빠져나오는 부분\n",
    "    if flag == True :\n",
    "        break\n",
    "print('Done')"
   ]
  },
  {
   "cell_type": "code",
   "execution_count": 68,
   "id": "ece49abf",
   "metadata": {},
   "outputs": [],
   "source": [
    "# 중첩루프 탈출하는 방법 2 : 예외 발생 => 예외처리\n",
    "\n",
    "\n",
    "\n",
    "# 예외처리 진도 후 작성"
   ]
  },
  {
   "cell_type": "markdown",
   "id": "24582102",
   "metadata": {},
   "source": [
    "# 5절. 연습문제"
   ]
  },
  {
   "cell_type": "code",
   "execution_count": 26,
   "id": "479d484c",
   "metadata": {},
   "outputs": [
    {
     "name": "stdout",
     "output_type": "stream",
     "text": [
      "양의 정수를 입력하시오 10\n",
      "짝수입니다\n"
     ]
    }
   ],
   "source": [
    "# ex1. 양의 정수를 입력 받아 홀수인지 짝수인지를 판별하는 프로그램을 작성하세요 양의 정수가 아니면 숫자를 다시 입력 받아야 합니다\n",
    "\n",
    "while True :\n",
    "    num = int(input('양의 정수를 입력하시오 '))\n",
    "    if num > 0 :\n",
    "        if num % 2 != 0 :\n",
    "            print('홀수입니다')\n",
    "        else :\n",
    "            print('짝수입니다')\n",
    "        break\n",
    "    else :\n",
    "        print('다시 입력하시오')"
   ]
  },
  {
   "cell_type": "code",
   "execution_count": 27,
   "id": "65fdc3c4",
   "metadata": {},
   "outputs": [
    {
     "name": "stdout",
     "output_type": "stream",
     "text": [
      "양의 정수를 입력하시오 9\n",
      "입력하신 양의 정수는 9이고 홀수입니다\n"
     ]
    }
   ],
   "source": [
    "# ex1. 양의 정수를 입력 받아 홀수인지 짝수인지를 판별하는 프로그램을 작성하세요 양의 정수가 아니면 숫자를 다시 입력 받아야 합니다\n",
    "\n",
    "num = 0\n",
    "while num <= 0 :\n",
    "    num = int(input('양의 정수를 입력하시오 '))\n",
    "    \n",
    "even_odd = '홀수' if num % 2 else '짝수'\n",
    "print(\"입력하신 양의 정수는 {}이고 {}입니다\".format(num, even_odd))"
   ]
  },
  {
   "cell_type": "code",
   "execution_count": 28,
   "id": "36ca92f2",
   "metadata": {},
   "outputs": [
    {
     "name": "stdout",
     "output_type": "stream",
     "text": [
      "정수를 입력하시오 7\n",
      "*******\n",
      "*******\n",
      "*******\n",
      "*******\n",
      "*******\n",
      "*******\n",
      "*******\n"
     ]
    }
   ],
   "source": [
    "# ex2. 중첩for문을 이용하여 아래 패턴의 별을 출력하는 프로그램을 작성하세요\n",
    "\n",
    "# ex2.1\n",
    "\n",
    "num = int(input('정수를 입력하시오 '))\n",
    "for i in range(num) :\n",
    "    for j in range(num) :\n",
    "        print('*', end = '')\n",
    "    print()"
   ]
  },
  {
   "cell_type": "code",
   "execution_count": 29,
   "id": "967ad251",
   "metadata": {
    "scrolled": true
   },
   "outputs": [
    {
     "name": "stdout",
     "output_type": "stream",
     "text": [
      "정수를 입력하시오 5\n",
      "*\n",
      "**\n",
      "***\n",
      "****\n",
      "*****\n"
     ]
    }
   ],
   "source": [
    "# ex2.2\n",
    "\n",
    "num = int(input('정수를 입력하시오 '))\n",
    "for i in range(num) :\n",
    "    for j in range(i + 1) :\n",
    "        print('*', end = '')\n",
    "    print()"
   ]
  },
  {
   "cell_type": "code",
   "execution_count": 30,
   "id": "13a59b26",
   "metadata": {},
   "outputs": [
    {
     "name": "stdout",
     "output_type": "stream",
     "text": [
      "정수를 입력하시오 10\n",
      "**********\t*\n",
      "**********\t**\n",
      "**********\t***\n",
      "**********\t****\n",
      "**********\t*****\n",
      "**********\t******\n",
      "**********\t*******\n",
      "**********\t********\n",
      "**********\t*********\n",
      "**********\t**********\n"
     ]
    }
   ],
   "source": [
    "# ex2.3 \n",
    "\n",
    "num = int(input('정수를 입력하시오 '))\n",
    "for i in range(num) :\n",
    "    for j in range(num) :\n",
    "        print('*', end = '')\n",
    "    print('\\t', end = '')\n",
    "    for k in range(i + 1) :\n",
    "        print('*', end = '')\n",
    "    print()"
   ]
  },
  {
   "cell_type": "code",
   "execution_count": 31,
   "id": "b52686fe",
   "metadata": {},
   "outputs": [
    {
     "name": "stdout",
     "output_type": "stream",
     "text": [
      "165\n"
     ]
    }
   ],
   "source": [
    "# ex3. 다음 코드는 1부터 30까지(30포함) 자연수 중에서 3의 배수의 총 합을 출력하는 프로그램입니다 빈칸의 코드를 완성하시오\n",
    "\n",
    "sumNum = 0\n",
    "for i in range(1, 31) :\n",
    "    if i % 3 == 0 :\n",
    "        sumNum += i\n",
    "    else :\n",
    "        pass\n",
    "print(sumNum)"
   ]
  },
  {
   "cell_type": "code",
   "execution_count": 32,
   "id": "da99ff28",
   "metadata": {},
   "outputs": [
    {
     "name": "stdout",
     "output_type": "stream",
     "text": [
      "1 3 5 7 9 "
     ]
    }
   ],
   "source": [
    "# ex4. 다음 코드의 실행결과가 “1 3 5 7 9”가 되도록 빈칸을 완성하시오\n",
    "\n",
    "num = 0\n",
    "while num <= 10 :\n",
    "    if num % 2 == 1 :\n",
    "        print(num, end=' ')\n",
    "    num += 1"
   ]
  },
  {
   "cell_type": "code",
   "execution_count": 33,
   "id": "d4e47384",
   "metadata": {},
   "outputs": [
    {
     "name": "stdout",
     "output_type": "stream",
     "text": [
      "1 2 3 \n",
      "4 5 6 7 \n",
      "8 9 \n"
     ]
    }
   ],
   "source": [
    "# ex5. 다음 2차원 리스트의 모든 값을 출력하는 코드입니다 빈칸을 완성하시오\n",
    "\n",
    "list2d = [ [1,2,3],[4,5,6,7],[8,9]]\n",
    "for row in list2d :\n",
    "    for data in row :\n",
    "        print(data, end = ' ')\n",
    "    print()"
   ]
  },
  {
   "cell_type": "code",
   "execution_count": 34,
   "id": "2222ca39",
   "metadata": {},
   "outputs": [
    {
     "name": "stdout",
     "output_type": "stream",
     "text": [
      "0 apple\n",
      "1 banana\n"
     ]
    }
   ],
   "source": [
    "# ex6. 다음 빈칸에 들어갈 함수 이름은?\n",
    "\n",
    "colors = {\"red\":'apple', \"yellow\":'banana'}\n",
    "for i, v in enumerate(colors.values()) :\n",
    "    print(i, v)"
   ]
  },
  {
   "cell_type": "code",
   "execution_count": 35,
   "id": "035d78e4",
   "metadata": {},
   "outputs": [
    {
     "name": "stdout",
     "output_type": "stream",
     "text": [
      "1 0\n"
     ]
    }
   ],
   "source": [
    "# ex.7 다음 코드의 실행결과는?\n",
    "\n",
    "for i in range(0, 2) :\n",
    "    for j in range(0, 2) :\n",
    "        if i == j :\n",
    "            break\n",
    "        print(i, j)"
   ]
  },
  {
   "cell_type": "code",
   "execution_count": 36,
   "id": "41a61443",
   "metadata": {},
   "outputs": [
    {
     "name": "stdout",
     "output_type": "stream",
     "text": [
      "0 0\n",
      "1 0\n",
      "1 1\n"
     ]
    }
   ],
   "source": [
    "# ex8. 다음 코드의 실행 결과로 출력될 수 없는 것은?\n",
    "\n",
    "for i in range(0, 2) :\n",
    "    for j in range(0, 2) :\n",
    "        print(i, j)\n",
    "        if i == j :\n",
    "            break"
   ]
  },
  {
   "cell_type": "code",
   "execution_count": 37,
   "id": "3c400cd9",
   "metadata": {},
   "outputs": [
    {
     "name": "stdout",
     "output_type": "stream",
     "text": [
      "3 5 7 9 "
     ]
    }
   ],
   "source": [
    "# ex9. 다음 코드의 실행결과는?\n",
    "\n",
    "L = [3, 4, 5, 6, 7, 8, 9, 10]\n",
    "for i, data in enumerate(L) :\n",
    "    if (i % 2 == 0) :\n",
    "        print(data, end = ' ')"
   ]
  },
  {
   "cell_type": "code",
   "execution_count": 38,
   "id": "91fd44a8",
   "metadata": {},
   "outputs": [
    {
     "data": {
      "text/plain": [
       "[3, 5, 7, 9]"
      ]
     },
     "execution_count": 38,
     "metadata": {},
     "output_type": "execute_result"
    }
   ],
   "source": [
    "# ex9. 다음 코드의 실행결과는?\n",
    "\n",
    "L = [3, 4, 5, 6, 7, 8, 9, 10]\n",
    "L[::2]"
   ]
  },
  {
   "cell_type": "code",
   "execution_count": 1,
   "id": "16f81b44",
   "metadata": {
    "scrolled": true
   },
   "outputs": [
    {
     "name": "stdout",
     "output_type": "stream",
     "text": [
      "컴퓨터가 발생한 임의의 수 : 52\n",
      "1~100사이의 수를 맞춰 보세요 : 50\n",
      "UP ↑\n",
      "51~100사이의 수를 맞춰 보세요 : 30\n",
      "수의 범위를 벗어났습니다. 수의 범위는 51~100이고, 30를 입력\n",
      "51~100사이의 수를 맞춰 보세요 : 101\n",
      "수의 범위를 벗어났습니다. 수의 범위는 51~100이고, 101를 입력\n",
      "51~100사이의 수를 맞춰 보세요 : -500\n",
      "수의 범위를 벗어났습니다. 수의 범위는 51~100이고, -500를 입력\n",
      "51~100사이의 수를 맞춰 보세요 : 75\n",
      "DOWN ↓\n",
      "51~74사이의 수를 맞춰 보세요 : 60\n",
      "DOWN ↓\n",
      "51~59사이의 수를 맞춰 보세요 : 51\n",
      "UP ↑\n",
      "52~59사이의 수를 맞춰 보세요 : 52\n",
      "축하축하 맞추셨습니다\n"
     ]
    }
   ],
   "source": [
    "# ex10.1 1~100사이의 정수를 맞추는 프로그램을 구현하시오\n",
    "'''\n",
    "(프로그램안에 임의의 숫자가 만들어지고 그 숫자를 맞추도록 합니다)\n",
    "2단계. 입력된 숫자가 틀리면 min~max 사이의 수라고 알려주고 숫자를 맞추면 축하 메시지와 함께 종료합니다 (맞출 때까지 반복)\n",
    "'''\n",
    "\n",
    "import random\n",
    "\n",
    "randomNum = random.randint(1, 100)\n",
    "print(\"컴퓨터가 발생한 임의의 수 :\", randomNum)\n",
    "\n",
    "minNum = 1\n",
    "maxNum = 100\n",
    "\n",
    "while True :\n",
    "    inputNum = int(input(\"{}~{}사이의 수를 맞춰 보세요 : \".format(minNum, maxNum)))\n",
    "    if (inputNum < minNum) | (inputNum > maxNum) :\n",
    "        print(\"수의 범위를 벗어났습니다. 수의 범위는 {}~{}이고, {}를 입력\".format(minNum, maxNum, inputNum))\n",
    "    elif inputNum > randomNum :\n",
    "        print(\"DOWN ↓\")\n",
    "        maxNum = inputNum - 1\n",
    "    elif inputNum < randomNum :\n",
    "        print(\"UP ↑\")\n",
    "        minNum = inputNum + 1\n",
    "    else :\n",
    "        print(\"축하축하 맞추셨습니다\")\n",
    "        break"
   ]
  },
  {
   "cell_type": "code",
   "execution_count": 4,
   "id": "2a938160",
   "metadata": {},
   "outputs": [
    {
     "name": "stdout",
     "output_type": "stream",
     "text": [
      "컴퓨터가 발생한 임의의 수 : 61\n",
      "1~100사이의 수를 맞춰 보세요(남은 기회는 5번) : 50\n",
      "UP ↑\n",
      "51~100사이의 수를 맞춰 보세요(남은 기회는 4번) : 75\n",
      "DOWN ↓\n",
      "51~74사이의 수를 맞춰 보세요(남은 기회는 3번) : 65\n",
      "DOWN ↓\n",
      "51~64사이의 수를 맞춰 보세요(남은 기회는 2번) : 50\n",
      "수의 범위를 벗어났습니다. 수의 범위는 51~64이고, 50를 입력\n",
      "51~64사이의 수를 맞춰 보세요(남은 기회는 1번) : 63\n",
      "DOWN ↓\n",
      "기회를 모두 사용하셨습니다. 실패하셨습니다\n"
     ]
    }
   ],
   "source": [
    "# ex10.2 1~100사이의 정수를 맞추는 프로그램을 구현하시오\n",
    "'''\n",
    "(프로그램안에 임의의 숫자가 만들어지고 그 숫자를 맞추도록 합니다)\n",
    "3단계. 숫자를 맞출 수 있는 기회를 5회로 제한하고 5회 이내에 맞추지 않으면 실패메세지를 출력합니다\n",
    "'''\n",
    "\n",
    "import random\n",
    "\n",
    "randomNum = random.randint(1, 100)\n",
    "print(\"컴퓨터가 발생한 임의의 수 :\", randomNum)\n",
    "\n",
    "minNum = 1\n",
    "maxNum = 100\n",
    "cnt = 5\n",
    "\n",
    "while True :\n",
    "    inputNum = int(input(\"{}~{}사이의 수를 맞춰 보세요(남은 기회는 {}번) : \".format(minNum, maxNum, cnt)))\n",
    "    if (inputNum < minNum) | (inputNum > maxNum) :\n",
    "        print(\"수의 범위를 벗어났습니다. 수의 범위는 {}~{}이고, {}를 입력\".format(minNum, maxNum, inputNum))\n",
    "    elif inputNum > randomNum :\n",
    "        print(\"DOWN ↓\")\n",
    "        maxNum = inputNum - 1\n",
    "    elif inputNum < randomNum :\n",
    "        print(\"UP ↑\")\n",
    "        minNum = inputNum + 1\n",
    "    else :\n",
    "        print(\"축하축하 맞추셨습니다\")\n",
    "        break\n",
    "    cnt -= 1\n",
    "    if cnt == 0 :\n",
    "        print(\"기회를 모두 사용하셨습니다. 실패하셨습니다\")\n",
    "        break"
   ]
  },
  {
   "cell_type": "code",
   "execution_count": 41,
   "id": "3ff0c567",
   "metadata": {},
   "outputs": [
    {
     "name": "stdout",
     "output_type": "stream",
     "text": [
      "컴퓨터가 발생한 임의의 수 : 6\n",
      "1~100사이의 수를 맞춰 보세요(남은 기회는 5번) : -50\n",
      "수의 범위를 벗어났습니다. 수의 범위는 1~100이고, -50를 입력\n",
      "1~100사이의 수를 맞춰 보세요(남은 기회는 4번) : 6\n",
      "축하축하 맞추셨습니다\n"
     ]
    }
   ],
   "source": [
    "import random\n",
    "\n",
    "randomNum = random.randint(1, 100)\n",
    "print(\"컴퓨터가 발생한 임의의 수 :\", randomNum)\n",
    "\n",
    "minNum = 1\n",
    "maxNum = 100\n",
    "\n",
    "for i in range(5, 0, -1) : \n",
    "    inputNum = int(input(\"{}~{}사이의 수를 맞춰 보세요(남은 기회는 {}번) : \".format(minNum, maxNum, i)))\n",
    "    if (inputNum < minNum) | (inputNum > maxNum) :\n",
    "        print(\"수의 범위를 벗어났습니다. 수의 범위는 {}~{}이고, {}를 입력\".format(minNum, maxNum, inputNum))\n",
    "    elif inputNum > randomNum :\n",
    "        print(\"DOWN ↓\")\n",
    "        maxNum = inputNum - 1\n",
    "    elif inputNum < randomNum :\n",
    "        print(\"UP ↑\")\n",
    "        minNum = inputNum + 1\n",
    "    else :\n",
    "        print(\"축하축하 맞추셨습니다\")\n",
    "        break\n",
    "else :\n",
    "    print(\"기회를 모두 사용하셨습니다. 실패하셨습니다\")"
   ]
  }
 ],
 "metadata": {
  "kernelspec": {
   "display_name": "Python 3 (ipykernel)",
   "language": "python",
   "name": "python3"
  },
  "language_info": {
   "codemirror_mode": {
    "name": "ipython",
    "version": 3
   },
   "file_extension": ".py",
   "mimetype": "text/x-python",
   "name": "python",
   "nbconvert_exporter": "python",
   "pygments_lexer": "ipython3",
   "version": "3.10.9"
  },
  "toc": {
   "base_numbering": 1,
   "nav_menu": {},
   "number_sections": false,
   "sideBar": true,
   "skip_h1_title": false,
   "title_cell": "Table of Contents",
   "title_sidebar": "Contents",
   "toc_cell": false,
   "toc_position": {
    "height": "calc(100% - 180px)",
    "left": "10px",
    "top": "150px",
    "width": "206.95px"
   },
   "toc_section_display": true,
   "toc_window_display": true
  }
 },
 "nbformat": 4,
 "nbformat_minor": 5
}
