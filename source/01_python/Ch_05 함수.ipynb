{
 "cells": [
  {
   "cell_type": "code",
   "execution_count": 1,
   "id": "8c235a30",
   "metadata": {},
   "outputs": [
    {
     "data": {
      "text/html": [
       "<style>\n",
       "div.container{width:86% !important;}\n",
       "div.cell.code_cell.rendered{width:100%;}\n",
       "div.CodeMirror {font-family:Consolas; font-size:12pt;}\n",
       "div.output {font-size:12pt; font-weight:bold;}\n",
       "div.input {font-family:Consolas; font-size:12pt;}\n",
       "div.prompt {min-width:70px;}\n",
       "div#toc-wrapper{padding-top:120px;}\n",
       "div.text_cell_render ul li{fontsize:12pt;padding:5px;}\n",
       "table.dataframe{font-size:12px;}))\n",
       "</style>\n"
      ],
      "text/plain": [
       "<IPython.core.display.HTML object>"
      ]
     },
     "metadata": {},
     "output_type": "display_data"
    }
   ],
   "source": [
    "from IPython.display import display, HTML\n",
    "display(HTML(\"\"\"<style>\n",
    "div.container{width:86% !important;}\n",
    "div.cell.code_cell.rendered{width:100%;}\n",
    "div.CodeMirror {font-family:Consolas; font-size:12pt;}\n",
    "div.output {font-size:12pt; font-weight:bold;}\n",
    "div.input {font-family:Consolas; font-size:12pt;}\n",
    "div.prompt {min-width:70px;}\n",
    "div#toc-wrapper{padding-top:120px;}\n",
    "div.text_cell_render ul li{fontsize:12pt;padding:5px;}\n",
    "table.dataframe{font-size:12px;}))\n",
    "</style>\n",
    "\"\"\"))"
   ]
  },
  {
   "cell_type": "markdown",
   "id": "4cfac258",
   "metadata": {},
   "source": [
    "<font size=\"5\" color=\"red\">ch05 함수</font>\n",
    "- 사용할 코드를 묶어 놓고 그것에 이름을 붙인 것\n",
    "- 오버로딩 불가 ※ Overloading(오버로딩) : 함수 이름이 같고, 매개변수의 갯수로 다른 함수를 허용하는것\n",
    "- 함수 정의\n",
    "```\n",
    "def 함수명([매개변수1, .. 매개변수n]):\n",
    "    명령어1\n",
    "    명령어2\n",
    "    명령어n\n",
    "```"
   ]
  },
  {
   "cell_type": "markdown",
   "id": "3319ceea",
   "metadata": {},
   "source": [
    "# 1절. 함수의 정의 및 사용"
   ]
  },
  {
   "cell_type": "markdown",
   "id": "a81554f2",
   "metadata": {},
   "source": [
    "## 1.1 함수 정의"
   ]
  },
  {
   "cell_type": "code",
   "execution_count": 2,
   "id": "e27997af",
   "metadata": {},
   "outputs": [],
   "source": [
    "# 함수 정의\n",
    "\n",
    "def my_message(x, msg) :  # msg를 x번 출력하는 함수\n",
    "    for i in range(x) : \n",
    "        print(msg)"
   ]
  },
  {
   "cell_type": "code",
   "execution_count": 3,
   "id": "1999d78a",
   "metadata": {},
   "outputs": [
    {
     "name": "stdout",
     "output_type": "stream",
     "text": [
      "Hello\n",
      "Hello\n",
      "Hello\n",
      "Hello\n",
      "Hello\n"
     ]
    }
   ],
   "source": [
    "# 함수 사용\n",
    "\n",
    "my_message(5, 'Hello')"
   ]
  },
  {
   "cell_type": "code",
   "execution_count": 4,
   "id": "d3ea289d",
   "metadata": {},
   "outputs": [
    {
     "name": "stdout",
     "output_type": "stream",
     "text": [
      "hello\n",
      "hello\n",
      "hello\n"
     ]
    }
   ],
   "source": [
    "my_msg = my_message\n",
    "my_msg(3, 'hello')"
   ]
  },
  {
   "cell_type": "code",
   "execution_count": 5,
   "id": "065e7490",
   "metadata": {},
   "outputs": [
    {
     "data": {
      "text/plain": [
       "(function, function)"
      ]
     },
     "execution_count": 5,
     "metadata": {},
     "output_type": "execute_result"
    }
   ],
   "source": [
    "type(my_msg), type(my_message)"
   ]
  },
  {
   "cell_type": "code",
   "execution_count": 1,
   "id": "bd15696d",
   "metadata": {},
   "outputs": [
    {
     "name": "stdout",
     "output_type": "stream",
     "text": [
      "Hello\n",
      "Hello\n"
     ]
    }
   ],
   "source": [
    "print('Hello')  # 파이썬 내장함수{import 하지 않고 사용할 수 있는 함수}\n",
    "print = 5\n",
    "# print('Hello')\n",
    "del print\n",
    "print('Hello')"
   ]
  },
  {
   "cell_type": "code",
   "execution_count": 6,
   "id": "00c3fbe8",
   "metadata": {
    "scrolled": true
   },
   "outputs": [
    {
     "name": "stdout",
     "output_type": "stream",
     "text": [
      "Hello\n",
      "Hello\n"
     ]
    }
   ],
   "source": [
    "my_message(2, 'Hello')"
   ]
  },
  {
   "cell_type": "code",
   "execution_count": 8,
   "id": "54b144a9",
   "metadata": {},
   "outputs": [],
   "source": [
    "my_message = 5"
   ]
  },
  {
   "cell_type": "code",
   "execution_count": 9,
   "id": "0fe0f453",
   "metadata": {},
   "outputs": [
    {
     "ename": "TypeError",
     "evalue": "'int' object is not callable",
     "output_type": "error",
     "traceback": [
      "\u001b[1;31m---------------------------------------------------------------------------\u001b[0m",
      "\u001b[1;31mTypeError\u001b[0m                                 Traceback (most recent call last)",
      "Cell \u001b[1;32mIn[9], line 1\u001b[0m\n\u001b[1;32m----> 1\u001b[0m \u001b[43mmy_message\u001b[49m\u001b[43m(\u001b[49m\u001b[38;5;241;43m2\u001b[39;49m\u001b[43m,\u001b[49m\u001b[43m \u001b[49m\u001b[38;5;124;43m'\u001b[39;49m\u001b[38;5;124;43mHello\u001b[39;49m\u001b[38;5;124;43m'\u001b[39;49m\u001b[43m)\u001b[49m\n",
      "\u001b[1;31mTypeError\u001b[0m: 'int' object is not callable"
     ]
    }
   ],
   "source": [
    "my_message(2, 'Hello')"
   ]
  },
  {
   "cell_type": "code",
   "execution_count": 11,
   "id": "d6c2b519",
   "metadata": {},
   "outputs": [
    {
     "ename": "NameError",
     "evalue": "name 'my_message' is not defined",
     "output_type": "error",
     "traceback": [
      "\u001b[1;31m---------------------------------------------------------------------------\u001b[0m",
      "\u001b[1;31mNameError\u001b[0m                                 Traceback (most recent call last)",
      "Cell \u001b[1;32mIn[11], line 1\u001b[0m\n\u001b[1;32m----> 1\u001b[0m \u001b[38;5;28;01mdel\u001b[39;00m my_message  \u001b[38;5;66;03m# 변수를 삭제해도 함수 사용불가(파이썬 내장함수가 아니라서)\u001b[39;00m\n\u001b[0;32m      3\u001b[0m my_message(\u001b[38;5;241m2\u001b[39m, \u001b[38;5;124m'\u001b[39m\u001b[38;5;124mHello\u001b[39m\u001b[38;5;124m'\u001b[39m)\n",
      "\u001b[1;31mNameError\u001b[0m: name 'my_message' is not defined"
     ]
    }
   ],
   "source": [
    "del my_message  # 변수를 삭제해도 함수 사용불가(파이썬 내장함수가 아니라서)\n",
    "\n",
    "my_message(2, 'Hello')"
   ]
  },
  {
   "cell_type": "code",
   "execution_count": 1,
   "id": "ec2faecd",
   "metadata": {},
   "outputs": [],
   "source": [
    "# 함수 정의\n",
    "\n",
    "def my_hello() :\n",
    "    print('Hello, Python')\n",
    "    print('Hello, World')"
   ]
  },
  {
   "cell_type": "code",
   "execution_count": 2,
   "id": "c34aef8c",
   "metadata": {},
   "outputs": [
    {
     "name": "stdout",
     "output_type": "stream",
     "text": [
      "Hello, Python\n",
      "Hello, World\n"
     ]
    }
   ],
   "source": [
    "# 함수사용 = 함수호출\n",
    "\n",
    "my_hello()"
   ]
  },
  {
   "cell_type": "code",
   "execution_count": 5,
   "id": "82dec3fb",
   "metadata": {},
   "outputs": [],
   "source": [
    "# 함수 정의\n",
    "\n",
    "def my_hello() :\n",
    "    print('Hello, Python')\n",
    "    print('Hello, World')\n",
    "    \n",
    "#  오버로딩 불가\n",
    "\n",
    "\n",
    "def my_hello(cnt) :\n",
    "    for i in range(cnt) :\n",
    "        print('Hello, Python')\n",
    "        print('Hello, World')"
   ]
  },
  {
   "cell_type": "code",
   "execution_count": 6,
   "id": "62536d0a",
   "metadata": {},
   "outputs": [
    {
     "name": "stdout",
     "output_type": "stream",
     "text": [
      "Hello, Python\n",
      "Hello, World\n",
      "Hello, Python\n",
      "Hello, World\n"
     ]
    }
   ],
   "source": [
    "my_hello(2)"
   ]
  },
  {
   "cell_type": "code",
   "execution_count": 7,
   "id": "3b34c531",
   "metadata": {},
   "outputs": [
    {
     "data": {
      "text/plain": [
       "<function __main__.my_hello(cnt)>"
      ]
     },
     "execution_count": 7,
     "metadata": {},
     "output_type": "execute_result"
    }
   ],
   "source": [
    "my_hello"
   ]
  },
  {
   "cell_type": "code",
   "execution_count": 8,
   "id": "03e59c07",
   "metadata": {},
   "outputs": [
    {
     "data": {
      "text/plain": [
       "'__main__'"
      ]
     },
     "execution_count": 8,
     "metadata": {},
     "output_type": "execute_result"
    }
   ],
   "source": [
    "__name__"
   ]
  },
  {
   "cell_type": "code",
   "execution_count": 9,
   "id": "bd26b7d1",
   "metadata": {},
   "outputs": [
    {
     "name": "stdout",
     "output_type": "stream",
     "text": [
      "Hello, Python\n",
      "Hello, World\n",
      "Hello, Python\n",
      "Hello, World\n"
     ]
    }
   ],
   "source": [
    "if __name__ == '__main__' :\n",
    "    my_hello(2)"
   ]
  },
  {
   "cell_type": "code",
   "execution_count": 13,
   "id": "71491436",
   "metadata": {},
   "outputs": [],
   "source": [
    "import ch05  # ch05 모듈을 load"
   ]
  },
  {
   "cell_type": "code",
   "execution_count": 14,
   "id": "d3cb606a",
   "metadata": {},
   "outputs": [
    {
     "name": "stdout",
     "output_type": "stream",
     "text": [
      "Hello, Python\n",
      "Hello, World\n",
      "Hello, Python\n",
      "Hello, World\n"
     ]
    }
   ],
   "source": [
    "ch05.my_hello(2)"
   ]
  },
  {
   "cell_type": "code",
   "execution_count": 16,
   "id": "69a6a1f7",
   "metadata": {},
   "outputs": [
    {
     "name": "stdout",
     "output_type": "stream",
     "text": [
      "Hello, Python\n",
      "Hello, World\n",
      "Hello, Python\n",
      "Hello, World\n",
      "Hello, Python\n",
      "Hello, World\n"
     ]
    }
   ],
   "source": [
    "my_hello(3)"
   ]
  },
  {
   "cell_type": "markdown",
   "id": "82e93643",
   "metadata": {},
   "source": [
    "## 1.2 docstring"
   ]
  },
  {
   "cell_type": "code",
   "execution_count": 28,
   "id": "f135e666",
   "metadata": {},
   "outputs": [],
   "source": [
    "def my_function() :\n",
    "    '''\n",
    "    함수의 첫라인에 독스트링을 포함할 수 있습니다\n",
    "    독스트링은 함수의 설명서를 달아주는 역할\n",
    "    주석보다 많은 기능 (shift+tab으로 독스트링을 볼 수 있음)\n",
    "    '''\n",
    "    pass"
   ]
  },
  {
   "cell_type": "code",
   "execution_count": 20,
   "id": "c1325f5b",
   "metadata": {},
   "outputs": [],
   "source": [
    "def fibonacci(n) :\n",
    "    a, b = 0, 1\n",
    "    while a < n :\n",
    "        print(a, end = ' ')\n",
    "        a, b = b, a + b\n",
    "    print()  # 개행"
   ]
  },
  {
   "cell_type": "code",
   "execution_count": 23,
   "id": "76668004",
   "metadata": {},
   "outputs": [
    {
     "name": "stdout",
     "output_type": "stream",
     "text": [
      "0 1 1 2 3 5 8 13 21 34 55 89 144 233 377 610 987 1597 2584 4181 6765 10946 17711 28657 46368 75025 \n"
     ]
    }
   ],
   "source": [
    "fibonacci(100000)"
   ]
  },
  {
   "cell_type": "code",
   "execution_count": 27,
   "id": "b77e646e",
   "metadata": {},
   "outputs": [
    {
     "ename": "NameError",
     "evalue": "name 'a' is not defined",
     "output_type": "error",
     "traceback": [
      "\u001b[1;31m---------------------------------------------------------------------------\u001b[0m",
      "\u001b[1;31mNameError\u001b[0m                                 Traceback (most recent call last)",
      "Cell \u001b[1;32mIn[27], line 1\u001b[0m\n\u001b[1;32m----> 1\u001b[0m \u001b[43ma\u001b[49m, b\n",
      "\u001b[1;31mNameError\u001b[0m: name 'a' is not defined"
     ]
    }
   ],
   "source": [
    "a, b"
   ]
  },
  {
   "cell_type": "markdown",
   "id": "f18aea0e",
   "metadata": {},
   "source": [
    "## 1.3 지역변수(local var)와 전역변수(global var)"
   ]
  },
  {
   "cell_type": "code",
   "execution_count": 31,
   "id": "3e3a9345",
   "metadata": {},
   "outputs": [
    {
     "name": "stdout",
     "output_type": "stream",
     "text": [
      "함수 안 : 100\n",
      "함수 밖 : 100\n"
     ]
    }
   ],
   "source": [
    "global_var = 100  # 전역변수\n",
    "\n",
    "def func1() :\n",
    "    print('함수 안 :', global_var)\n",
    "\n",
    "func1()\n",
    "print('함수 밖 :', global_var)"
   ]
  },
  {
   "cell_type": "code",
   "execution_count": 32,
   "id": "eb8d5b1e",
   "metadata": {},
   "outputs": [
    {
     "name": "stdout",
     "output_type": "stream",
     "text": [
      "함수 안 : 200\n"
     ]
    },
    {
     "ename": "NameError",
     "evalue": "name 'local_var' is not defined",
     "output_type": "error",
     "traceback": [
      "\u001b[1;31m---------------------------------------------------------------------------\u001b[0m",
      "\u001b[1;31mNameError\u001b[0m                                 Traceback (most recent call last)",
      "Cell \u001b[1;32mIn[32], line 6\u001b[0m\n\u001b[0;32m      3\u001b[0m     \u001b[38;5;28mprint\u001b[39m(\u001b[38;5;124m'\u001b[39m\u001b[38;5;124m함수 안 :\u001b[39m\u001b[38;5;124m'\u001b[39m, local_var)\n\u001b[0;32m      5\u001b[0m func2()\n\u001b[1;32m----> 6\u001b[0m \u001b[38;5;28mprint\u001b[39m(\u001b[38;5;124m'\u001b[39m\u001b[38;5;124m함수 밖 :\u001b[39m\u001b[38;5;124m'\u001b[39m, \u001b[43mlocal_var\u001b[49m)\n",
      "\u001b[1;31mNameError\u001b[0m: name 'local_var' is not defined"
     ]
    }
   ],
   "source": [
    "def func2() :\n",
    "    local_var = 200  # 지역변수\n",
    "    print('함수 안 :', local_var)\n",
    "\n",
    "func2()\n",
    "print('함수 밖 :', local_var)"
   ]
  },
  {
   "cell_type": "code",
   "execution_count": 35,
   "id": "7bb5417f",
   "metadata": {},
   "outputs": [
    {
     "name": "stdout",
     "output_type": "stream",
     "text": [
      "함수 안 (지역변수 g_var) : 200\n",
      "함수 밖 (전역변수 g_var) : 100\n"
     ]
    }
   ],
   "source": [
    "g_var = 100  # 전역변수\n",
    "\n",
    "def func3() :\n",
    "    g_var = 200  # 지역변수\n",
    "    print('함수 안 (지역변수 g_var) :', g_var)\n",
    "\n",
    "func3()\n",
    "print('함수 밖 (전역변수 g_var) :', g_var)"
   ]
  },
  {
   "cell_type": "code",
   "execution_count": 37,
   "id": "ac492013",
   "metadata": {},
   "outputs": [
    {
     "ename": "UnboundLocalError",
     "evalue": "local variable 'g_var' referenced before assignment",
     "output_type": "error",
     "traceback": [
      "\u001b[1;31m---------------------------------------------------------------------------\u001b[0m",
      "\u001b[1;31mUnboundLocalError\u001b[0m                         Traceback (most recent call last)",
      "Cell \u001b[1;32mIn[37], line 7\u001b[0m\n\u001b[0;32m      4\u001b[0m     \u001b[38;5;28mprint\u001b[39m(\u001b[38;5;124m'\u001b[39m\u001b[38;5;124m함수 안 g_var :\u001b[39m\u001b[38;5;124m'\u001b[39m, g_var)\n\u001b[0;32m      5\u001b[0m     g_var \u001b[38;5;241m=\u001b[39m \u001b[38;5;241m200\u001b[39m  \u001b[38;5;66;03m# 지역변수\u001b[39;00m\n\u001b[1;32m----> 7\u001b[0m \u001b[43mfunc4\u001b[49m\u001b[43m(\u001b[49m\u001b[43m)\u001b[49m\n",
      "Cell \u001b[1;32mIn[37], line 4\u001b[0m, in \u001b[0;36mfunc4\u001b[1;34m()\u001b[0m\n\u001b[0;32m      3\u001b[0m \u001b[38;5;28;01mdef\u001b[39;00m \u001b[38;5;21mfunc4\u001b[39m() :\n\u001b[1;32m----> 4\u001b[0m     \u001b[38;5;28mprint\u001b[39m(\u001b[38;5;124m'\u001b[39m\u001b[38;5;124m함수 안 g_var :\u001b[39m\u001b[38;5;124m'\u001b[39m, \u001b[43mg_var\u001b[49m)\n\u001b[0;32m      5\u001b[0m     g_var \u001b[38;5;241m=\u001b[39m \u001b[38;5;241m200\u001b[39m\n",
      "\u001b[1;31mUnboundLocalError\u001b[0m: local variable 'g_var' referenced before assignment"
     ]
    }
   ],
   "source": [
    "g_var = 100  # 전역변수\n",
    "\n",
    "def func4() :\n",
    "    print('함수 안 g_var :', g_var)\n",
    "    g_var = 200  # 지역변수\n",
    "    \n",
    "func4()"
   ]
  },
  {
   "cell_type": "code",
   "execution_count": 38,
   "id": "a479b2eb",
   "metadata": {},
   "outputs": [
    {
     "name": "stdout",
     "output_type": "stream",
     "text": [
      "함수 안 g_var : 100\n",
      "함수 밖 g_var : 200\n"
     ]
    }
   ],
   "source": [
    "# 렉시컬 특성\n",
    "\n",
    "g_var = 100  # 전역변수\n",
    "\n",
    "def func4() :\n",
    "    global g_var  # func4 함수내의 g_var는 전역변수를 쓴다\n",
    "    print('함수 안 g_var :', g_var)\n",
    "    g_var = 200  # 지역변수\n",
    "    \n",
    "func4()\n",
    "print('함수 밖 g_var :', g_var)"
   ]
  },
  {
   "cell_type": "markdown",
   "id": "42d539b2",
   "metadata": {},
   "source": [
    "## 1.4 값의 의한 호출\n",
    "- 함수의 매개변수(인수)로 전달되는 변수가 스칼라 변수(문자, 숫자, 논리형)일 때"
   ]
  },
  {
   "cell_type": "code",
   "execution_count": 39,
   "id": "012ed75b",
   "metadata": {},
   "outputs": [
    {
     "data": {
      "text/plain": [
       "2613553358640"
      ]
     },
     "execution_count": 39,
     "metadata": {},
     "output_type": "execute_result"
    }
   ],
   "source": [
    "foo = 'a'\n",
    "id(foo)"
   ]
  },
  {
   "cell_type": "code",
   "execution_count": 51,
   "id": "6d450db0",
   "metadata": {},
   "outputs": [
    {
     "name": "stdout",
     "output_type": "stream",
     "text": [
      "Before : a id(f) : 2613553358640\n",
      "After : aaa id(f) : 2613669424496\n"
     ]
    }
   ],
   "source": [
    "def func1(f) :  # 매개변수 f는 지역변수\n",
    "    print('Before :', f, 'id(f) :', id(f))\n",
    "    f = f * 3\n",
    "    print('After :', f, 'id(f) :', id(f))\n",
    "\n",
    "func1(foo)"
   ]
  },
  {
   "cell_type": "code",
   "execution_count": 54,
   "id": "e8ea57d7",
   "metadata": {},
   "outputs": [
    {
     "name": "stdout",
     "output_type": "stream",
     "text": [
      "a 2613553358640\n"
     ]
    }
   ],
   "source": [
    "print(foo, id(foo))"
   ]
  },
  {
   "cell_type": "markdown",
   "id": "0d6c3740",
   "metadata": {},
   "source": [
    "## 1.5 참조에 의한 호출\n",
    "- 함수의 매개변수(인자)로 전달되는 변수가 리스트, 튜플, 셋, 딕셔너리 등의 객체일 경우"
   ]
  },
  {
   "cell_type": "code",
   "execution_count": 44,
   "id": "faf8b61a",
   "metadata": {},
   "outputs": [
    {
     "data": {
      "text/plain": [
       "2613668206976"
      ]
     },
     "execution_count": 44,
     "metadata": {},
     "output_type": "execute_result"
    }
   ],
   "source": [
    "L = [1, 2, 3]\n",
    "id(L)"
   ]
  },
  {
   "cell_type": "code",
   "execution_count": 55,
   "id": "519f8be9",
   "metadata": {},
   "outputs": [
    {
     "name": "stdout",
     "output_type": "stream",
     "text": [
      "Before : [1, 2, 3, 4, 4] id(f) : 2613668206976\n",
      "After : [1, 2, 3, 4, 4, 4] id(f) : 2613668206976\n"
     ]
    }
   ],
   "source": [
    "def func2(f) :  # 매개변수 f는 지역변수\n",
    "    print('Before :', f, 'id(f) :', id(f))\n",
    "    f.append(4)\n",
    "    print('After :', f, 'id(f) :', id(f))\n",
    "    \n",
    "func2(L)"
   ]
  },
  {
   "cell_type": "code",
   "execution_count": 56,
   "id": "a802fa46",
   "metadata": {},
   "outputs": [
    {
     "name": "stdout",
     "output_type": "stream",
     "text": [
      "L = [1, 2, 3, 4, 4, 4] id(L) = 2613668206976\n"
     ]
    }
   ],
   "source": [
    "print('L =', L, 'id(L) =', id(L))"
   ]
  },
  {
   "cell_type": "markdown",
   "id": "4695276b",
   "metadata": {},
   "source": [
    "# 2절. 함수의 실행결과를 반환하는 return"
   ]
  },
  {
   "cell_type": "code",
   "execution_count": 62,
   "id": "8a73bd03",
   "metadata": {},
   "outputs": [],
   "source": [
    "def fibonacci_print(n) :\n",
    "    '''\n",
    "    매개변수로 들어온 n값 미만의 피보나치 수열을 출력\n",
    "    ex. n = 10 이면 0 1 1 2 3 5 8 을 출력\n",
    "    '''\n",
    "    a, b = 0, 1\n",
    "    while a < n :\n",
    "        print(a, end = ' ')\n",
    "        a, b = b, a + b\n",
    "    print()  # 개행\n",
    "    \n",
    "def fibonacci_return(n) :\n",
    "    '''\n",
    "    매개변수로 들어온 n값 미만의 피보나치 수열을 리스트로 return\n",
    "    ex. n = 10 이면 [0 1 1 2 3 5 8] 을 return\n",
    "    '''\n",
    "    result = []\n",
    "    a, b = 0, 1\n",
    "    while a < n :\n",
    "        result.append(a)\n",
    "        a, b = b, a + b\n",
    "    return result"
   ]
  },
  {
   "cell_type": "code",
   "execution_count": 64,
   "id": "49611517",
   "metadata": {},
   "outputs": [
    {
     "name": "stdout",
     "output_type": "stream",
     "text": [
      "0 1 1 2 3 5 8 13 21 34 55 89 \n",
      "None\n"
     ]
    }
   ],
   "source": [
    "x = fibonacci_print(100)\n",
    "print(x)"
   ]
  },
  {
   "cell_type": "code",
   "execution_count": 66,
   "id": "6d6bc356",
   "metadata": {},
   "outputs": [
    {
     "name": "stdout",
     "output_type": "stream",
     "text": [
      "[0, 1, 1, 2, 3, 5, 8, 13, 21, 34, 55, 89]\n",
      "<class 'list'>\n"
     ]
    }
   ],
   "source": [
    "y = fibonacci_return(100)\n",
    "print(y)\n",
    "print(type(y))"
   ]
  },
  {
   "cell_type": "markdown",
   "id": "8ea1dbd8",
   "metadata": {},
   "source": [
    "## 여러개 값 return"
   ]
  },
  {
   "cell_type": "code",
   "execution_count": 67,
   "id": "018aebac",
   "metadata": {},
   "outputs": [],
   "source": [
    "def swap(a, b) :\n",
    "    '''\n",
    "    매개변수의 순서를 바꿔서 return\n",
    "    '''\n",
    "    return b, a"
   ]
  },
  {
   "cell_type": "code",
   "execution_count": 71,
   "id": "88f80232",
   "metadata": {},
   "outputs": [
    {
     "name": "stdout",
     "output_type": "stream",
     "text": [
      "함수 실행 전 x = 5, y = 10\n",
      "함수 실행 후 x = 10, y = 5\n"
     ]
    }
   ],
   "source": [
    "x, y = 5, 10\n",
    "print(f'함수 실행 전 x = {x}, y = {y}')\n",
    "x, y = swap(x, y)\n",
    "print(f'함수 실행 후 x = {x}, y = {y}')"
   ]
  },
  {
   "cell_type": "markdown",
   "id": "b1ed5832",
   "metadata": {},
   "source": [
    "# 3절 함수의 매개변수 ★"
   ]
  },
  {
   "cell_type": "markdown",
   "id": "3c6cf611",
   "metadata": {},
   "source": [
    "## 3.1 기본값을 갖는 매개변수"
   ]
  },
  {
   "cell_type": "code",
   "execution_count": 73,
   "id": "5d5995db",
   "metadata": {},
   "outputs": [],
   "source": [
    "def make_url(ip, port = 80) :  # 순서 인수 > 기본값을 갖는 매개변수\n",
    "    return \"https://{}:{}\".format(ip, port)"
   ]
  },
  {
   "cell_type": "code",
   "execution_count": 77,
   "id": "1421d1ed",
   "metadata": {},
   "outputs": [
    {
     "name": "stdout",
     "output_type": "stream",
     "text": [
      "https://www.naver.com:80\n",
      "https://localhost:8090\n",
      "https://localhost:8090\n"
     ]
    }
   ],
   "source": [
    "print(make_url('www.naver.com'))\n",
    "print(make_url('localhost',8090))\n",
    "print(make_url(port = 8090, ip = 'localhost'))"
   ]
  },
  {
   "cell_type": "markdown",
   "id": "c1824958",
   "metadata": {},
   "source": [
    "## 3.2 기본변수를 갖는 매개변수\n",
    "- 기본변수가 스칼라 변수일 때\n",
    "- 기본변수가 리스트, 셋, 딕셔너리 등의 객체일 때"
   ]
  },
  {
   "cell_type": "code",
   "execution_count": 81,
   "id": "7b1c39e3",
   "metadata": {},
   "outputs": [],
   "source": [
    "# 기본값을 갖는 변수가 스칼라 변수일 때\n",
    "\n",
    "i = 5\n",
    "\n",
    "def func2(arg = i) :\n",
    "    print('arg =', arg)\n",
    "    "
   ]
  },
  {
   "cell_type": "code",
   "execution_count": 82,
   "id": "ea705ce6",
   "metadata": {},
   "outputs": [
    {
     "name": "stdout",
     "output_type": "stream",
     "text": [
      "arg = 5\n"
     ]
    }
   ],
   "source": [
    "i = 50\n",
    "func2()"
   ]
  },
  {
   "cell_type": "code",
   "execution_count": 83,
   "id": "1738d8e5",
   "metadata": {},
   "outputs": [],
   "source": [
    "# 기본값을 갖는 변수가 객체(데이터구조)일 때 : arg의 기본값은\n",
    "\n",
    "lst = []\n",
    "\n",
    "def func3(data, L = lst) :\n",
    "    'data를 L에 append'\n",
    "    L.append(data)\n",
    "    return L"
   ]
  },
  {
   "cell_type": "code",
   "execution_count": 88,
   "id": "263e9c08",
   "metadata": {},
   "outputs": [
    {
     "name": "stdout",
     "output_type": "stream",
     "text": [
      "[10, 20, 10]\n"
     ]
    },
    {
     "data": {
      "text/plain": [
       "[10, 20, 10]"
      ]
     },
     "execution_count": 88,
     "metadata": {},
     "output_type": "execute_result"
    }
   ],
   "source": [
    "print(func3(10))  # lst가 수정 : [10]\n",
    "lst"
   ]
  },
  {
   "cell_type": "code",
   "execution_count": 89,
   "id": "ada8b66e",
   "metadata": {},
   "outputs": [
    {
     "name": "stdout",
     "output_type": "stream",
     "text": [
      "[10, 20, 10, 20]\n"
     ]
    },
    {
     "data": {
      "text/plain": [
       "[10, 20, 10, 20]"
      ]
     },
     "execution_count": 89,
     "metadata": {},
     "output_type": "execute_result"
    }
   ],
   "source": [
    "print(func3(20))\n",
    "lst"
   ]
  },
  {
   "cell_type": "code",
   "execution_count": 90,
   "id": "8df89e80",
   "metadata": {},
   "outputs": [],
   "source": [
    "def func4(data, L = None) :\n",
    "    if L == None :\n",
    "        L = []\n",
    "    L.append(data)\n",
    "    return L"
   ]
  },
  {
   "cell_type": "code",
   "execution_count": 91,
   "id": "de797100",
   "metadata": {},
   "outputs": [
    {
     "name": "stdout",
     "output_type": "stream",
     "text": [
      "[10]\n",
      "[10, 20, 10, 20, 10]\n"
     ]
    }
   ],
   "source": [
    "print(func4(10))\n",
    "print(func4(10, lst))"
   ]
  },
  {
   "cell_type": "markdown",
   "id": "1f465455",
   "metadata": {},
   "source": [
    "## 3.3 튜플 매개변수를 이용한 가변인수 설정"
   ]
  },
  {
   "cell_type": "code",
   "execution_count": 93,
   "id": "452c05c4",
   "metadata": {},
   "outputs": [],
   "source": [
    "# 파이썬은 오버로딩(함수의 중복)을 지원하지 않습니다\n",
    "\n",
    "def add(a, b) :\n",
    "    return a + b\n",
    "\n",
    "def add(a, b, c) :\n",
    "    return a + b + c"
   ]
  },
  {
   "cell_type": "code",
   "execution_count": 94,
   "id": "c22a81fb",
   "metadata": {},
   "outputs": [
    {
     "ename": "TypeError",
     "evalue": "add() missing 1 required positional argument: 'c'",
     "output_type": "error",
     "traceback": [
      "\u001b[1;31m---------------------------------------------------------------------------\u001b[0m",
      "\u001b[1;31mTypeError\u001b[0m                                 Traceback (most recent call last)",
      "Cell \u001b[1;32mIn[94], line 1\u001b[0m\n\u001b[1;32m----> 1\u001b[0m \u001b[43madd\u001b[49m\u001b[43m(\u001b[49m\u001b[38;5;241;43m1\u001b[39;49m\u001b[43m,\u001b[49m\u001b[43m \u001b[49m\u001b[38;5;241;43m2\u001b[39;49m\u001b[43m)\u001b[49m\n",
      "\u001b[1;31mTypeError\u001b[0m: add() missing 1 required positional argument: 'c'"
     ]
    }
   ],
   "source": [
    "add(1, 2)"
   ]
  },
  {
   "cell_type": "code",
   "execution_count": 101,
   "id": "c1a1fa0d",
   "metadata": {},
   "outputs": [],
   "source": [
    "# *args : 매개변수들을 하나의 튜플 변수 args로 전달받음\n",
    "\n",
    "def add(*args) :\n",
    "    '전달받은 매개변수들의 합을 return'\n",
    "    result_tot = 0  # 누적변수\n",
    "    for data in args :\n",
    "        result_tot += data\n",
    "    return result_tot"
   ]
  },
  {
   "cell_type": "code",
   "execution_count": 102,
   "id": "ca864a96",
   "metadata": {},
   "outputs": [
    {
     "name": "stdout",
     "output_type": "stream",
     "text": [
      "1\n",
      "3\n",
      "55\n"
     ]
    }
   ],
   "source": [
    "print(add(1))\n",
    "print(add(1, 2))\n",
    "print(add(1, 2, 3, 4, 5, 6, 7, 8, 9, 10))"
   ]
  },
  {
   "cell_type": "code",
   "execution_count": 105,
   "id": "171960ca",
   "metadata": {},
   "outputs": [
    {
     "data": {
      "text/plain": [
       "'Python/Oracle/DL/ML'"
      ]
     },
     "execution_count": 105,
     "metadata": {},
     "output_type": "execute_result"
    }
   ],
   "source": [
    "subject = ('Python', 'Oracle', 'DL', 'ML')\n",
    "'/'.join(subject)"
   ]
  },
  {
   "cell_type": "code",
   "execution_count": 106,
   "id": "c645fda0",
   "metadata": {},
   "outputs": [],
   "source": [
    "def concat(*subject, sep) :\n",
    "    return sep.join(subject)"
   ]
  },
  {
   "cell_type": "code",
   "execution_count": 107,
   "id": "989fd036",
   "metadata": {},
   "outputs": [
    {
     "ename": "TypeError",
     "evalue": "concat() missing 1 required keyword-only argument: 'sep'",
     "output_type": "error",
     "traceback": [
      "\u001b[1;31m---------------------------------------------------------------------------\u001b[0m",
      "\u001b[1;31mTypeError\u001b[0m                                 Traceback (most recent call last)",
      "Cell \u001b[1;32mIn[107], line 1\u001b[0m\n\u001b[1;32m----> 1\u001b[0m \u001b[43mconcat\u001b[49m\u001b[43m(\u001b[49m\u001b[38;5;124;43m'\u001b[39;49m\u001b[38;5;124;43mPython\u001b[39;49m\u001b[38;5;124;43m'\u001b[39;49m\u001b[43m,\u001b[49m\u001b[43m \u001b[49m\u001b[38;5;124;43m'\u001b[39;49m\u001b[38;5;124;43mOracle\u001b[39;49m\u001b[38;5;124;43m'\u001b[39;49m\u001b[43m,\u001b[49m\u001b[43m \u001b[49m\u001b[38;5;124;43m'\u001b[39;49m\u001b[38;5;124;43mDL\u001b[39;49m\u001b[38;5;124;43m'\u001b[39;49m\u001b[43m,\u001b[49m\u001b[43m \u001b[49m\u001b[38;5;124;43m'\u001b[39;49m\u001b[38;5;124;43mML\u001b[39;49m\u001b[38;5;124;43m'\u001b[39;49m\u001b[43m,\u001b[49m\u001b[43m \u001b[49m\u001b[38;5;124;43m'\u001b[39;49m\u001b[38;5;124;43m/\u001b[39;49m\u001b[38;5;124;43m'\u001b[39;49m\u001b[43m)\u001b[49m\n",
      "\u001b[1;31mTypeError\u001b[0m: concat() missing 1 required keyword-only argument: 'sep'"
     ]
    }
   ],
   "source": [
    "concat('Python', 'Oracle', 'DL', 'ML', '/')"
   ]
  },
  {
   "cell_type": "code",
   "execution_count": 109,
   "id": "545d79ec",
   "metadata": {},
   "outputs": [
    {
     "data": {
      "text/plain": [
       "'Python / Oracle / DL / ML'"
      ]
     },
     "execution_count": 109,
     "metadata": {},
     "output_type": "execute_result"
    }
   ],
   "source": [
    "# 해결책 1 : 매개변수 이름을 지정해서 호출\n",
    "\n",
    "concat('Python', 'Oracle', 'DL', 'ML', sep = ' / ')"
   ]
  },
  {
   "cell_type": "code",
   "execution_count": 125,
   "id": "3722ff5d",
   "metadata": {},
   "outputs": [],
   "source": [
    "# 해결책 2 : 기본값을 반드시 갖는 키워드인수 사용\n",
    "\n",
    "def concat(*subject, sep = ' ~ ') :\n",
    "    return sep.join(subject)"
   ]
  },
  {
   "cell_type": "code",
   "execution_count": 111,
   "id": "83e9dde1",
   "metadata": {},
   "outputs": [
    {
     "data": {
      "text/plain": [
       "'Python / Oracle / DL / ML'"
      ]
     },
     "execution_count": 111,
     "metadata": {},
     "output_type": "execute_result"
    }
   ],
   "source": [
    "concat('Python', 'Oracle', 'DL', 'ML', sep = ' / ')"
   ]
  },
  {
   "cell_type": "code",
   "execution_count": 112,
   "id": "fed94c2a",
   "metadata": {},
   "outputs": [
    {
     "name": "stdout",
     "output_type": "stream",
     "text": [
      "Python / Oracle / DL / ML\n"
     ]
    }
   ],
   "source": [
    "print('Python', 'Oracle', 'DL', 'ML', sep = ' / ')"
   ]
  },
  {
   "cell_type": "code",
   "execution_count": 126,
   "id": "f3179d3b",
   "metadata": {},
   "outputs": [],
   "source": [
    "# 해결책 3 : sep을 순서인수로 앞에 선언\n",
    "\n",
    "def concat(sep, *subject) :\n",
    "    return sep.join(subject)"
   ]
  },
  {
   "cell_type": "code",
   "execution_count": 127,
   "id": "37deb3d4",
   "metadata": {},
   "outputs": [
    {
     "data": {
      "text/plain": [
       "'Python / Oracle / DL / ML'"
      ]
     },
     "execution_count": 127,
     "metadata": {},
     "output_type": "execute_result"
    }
   ],
   "source": [
    "concat(' / ', 'Python', 'Oracle', 'DL', 'ML')"
   ]
  },
  {
   "cell_type": "markdown",
   "id": "a0ac726f",
   "metadata": {},
   "source": [
    "## 3.4 딕셔너리 매개변수\n",
    "- 여러개의 키워드인수를 딕셔너리 형태로 받아서 가변키워드 인수 처리\n"
   ]
  },
  {
   "cell_type": "code",
   "execution_count": 135,
   "id": "f6395b2b",
   "metadata": {},
   "outputs": [],
   "source": [
    "def func5(**kwargs) :\n",
    "    print(kwargs)\n",
    "    print(type(kwargs))\n",
    "    print('이름 :', kwargs.get('name', '대마왕'))\n",
    "    print('나이 :', kwargs.get('age', 30))\n",
    "    print('주소 :', kwargs.get('address', '서울'))"
   ]
  },
  {
   "cell_type": "code",
   "execution_count": 136,
   "id": "5f1a0eb0",
   "metadata": {},
   "outputs": [
    {
     "name": "stdout",
     "output_type": "stream",
     "text": [
      "{'name': '홍길동', 'age': 30, 'address': '신림동'}\n",
      "<class 'dict'>\n",
      "이름 : 홍길동\n",
      "나이 : 30\n",
      "주소 : 신림동\n"
     ]
    }
   ],
   "source": [
    "func5(name = '홍길동', age = 30, address = '신림동')"
   ]
  },
  {
   "cell_type": "code",
   "execution_count": 137,
   "id": "646f37bb",
   "metadata": {},
   "outputs": [
    {
     "name": "stdout",
     "output_type": "stream",
     "text": [
      "{'name': '김길동'}\n",
      "<class 'dict'>\n",
      "이름 : 김길동\n",
      "나이 : 30\n",
      "주소 : 서울\n"
     ]
    }
   ],
   "source": [
    "func5(name = '김길동')"
   ]
  },
  {
   "cell_type": "markdown",
   "id": "47072fbb",
   "metadata": {},
   "source": [
    "## 3.5 함수정의시 매개변수 순서\n",
    "- 순서인수 > 튜플매개변수(*) > 키워드인수(매개변수 이름 반드시 명시) > 딕셔너리매개변수(**)"
   ]
  },
  {
   "cell_type": "code",
   "execution_count": 138,
   "id": "e1e4c621",
   "metadata": {},
   "outputs": [],
   "source": [
    "def func6(a, b, *c, **d) :\n",
    "    print('순서인수 a :', a)\n",
    "    print('순서인수 a :', b)\n",
    "    print('튜플인수 c :', c)\n",
    "    print('딕셔너리인수 d :', d)"
   ]
  },
  {
   "cell_type": "code",
   "execution_count": 139,
   "id": "7732b347",
   "metadata": {},
   "outputs": [
    {
     "name": "stdout",
     "output_type": "stream",
     "text": [
      "순서인수 a : 10\n",
      "순서인수 a : 20\n",
      "튜플인수 a : (1, 2, 3, 4, 5, 6, 7, 8, 9)\n",
      "딕셔너리인수 a : {'name': '홍길동', 'age': 30, 'address': '신림동'}\n"
     ]
    }
   ],
   "source": [
    "func6(10, 20, 1, 2, 3, 4, 5, 6, 7, 8, 9, name = '홍길동', age = 30, address = '신림동')"
   ]
  },
  {
   "cell_type": "code",
   "execution_count": 140,
   "id": "89a70b43",
   "metadata": {},
   "outputs": [],
   "source": [
    "def func7(a, b, *c, d = '기본값', **e) :\n",
    "    print('순서인수 a :', a)\n",
    "    print('순서인수 b :', b)\n",
    "    print('튜플인수 c :', c)\n",
    "    print('키워드인수(기본값을 갖는 인수, 호출시 매개변수명 반드시 명시) d :', d)\n",
    "    print('딕셔너리인수 e :', e)"
   ]
  },
  {
   "cell_type": "code",
   "execution_count": 141,
   "id": "cb73480f",
   "metadata": {},
   "outputs": [
    {
     "name": "stdout",
     "output_type": "stream",
     "text": [
      "순서인수 a : 10\n",
      "순서인수 b : 20\n",
      "튜플인수 c : (1, 2, 3, 4, 5, 6, 7, 8, 9)\n",
      "키워드인수(기본값을 갖는 인수, 호출시 매개변수명 반드시 명시) d : 딴거\n",
      "딕셔너리인수 e : {'name': '홍길동', 'age': 30, 'address': '신림동'}\n"
     ]
    }
   ],
   "source": [
    "func7(10, 20, 1, 2, 3, 4, 5, 6, 7, 8, 9, d = '딴거', name = '홍길동', age = 30, address = '신림동')"
   ]
  },
  {
   "cell_type": "code",
   "execution_count": 143,
   "id": "096c0e46",
   "metadata": {},
   "outputs": [
    {
     "name": "stdout",
     "output_type": "stream",
     "text": [
      "순서인수 a : 10\n",
      "순서인수 b : 20\n",
      "튜플인수 c : (1, 2, 3, 4, 5, 6, 7, 8, 9)\n",
      "키워드인수(기본값을 갖는 인수, 호출시 매개변수명 반드시 명시) d : 기본값\n",
      "딕셔너리인수 e : {'name': '홍길동', 'age': 30, 'address': '신림동'}\n"
     ]
    }
   ],
   "source": [
    "# 키워드 인수를 안 썼을 경우\n",
    "\n",
    "func7(10, 20, 1, 2, 3, 4, 5, 6, 7, 8, 9, name = '홍길동', age = 30, address = '신림동')"
   ]
  },
  {
   "cell_type": "markdown",
   "id": "687c781c",
   "metadata": {},
   "source": [
    "## 3.6 인수의 언패킹"
   ]
  },
  {
   "cell_type": "markdown",
   "id": "2fde3b6a",
   "metadata": {},
   "source": [
    "### 튜플인수 언패킹\n",
    "- 언패킹 : 함수 호출시 매개변수 앞에 * 붙임\n",
    "- 패킹 : 함수 정의시 매개변수 앞에 * 붙임 (튜플매개변수)"
   ]
  },
  {
   "cell_type": "code",
   "execution_count": 147,
   "id": "b93f125a",
   "metadata": {},
   "outputs": [],
   "source": [
    "def add(*args) :\n",
    "    print(args)\n",
    "    tot = 0\n",
    "    for num in args :\n",
    "        tot += num\n",
    "    return tot"
   ]
  },
  {
   "cell_type": "code",
   "execution_count": 148,
   "id": "1160d224",
   "metadata": {},
   "outputs": [
    {
     "name": "stdout",
     "output_type": "stream",
     "text": [
      "(1, 2, 3, 4)\n"
     ]
    },
    {
     "data": {
      "text/plain": [
       "10"
      ]
     },
     "execution_count": 148,
     "metadata": {},
     "output_type": "execute_result"
    }
   ],
   "source": [
    "add(1, 2, 3, 4)"
   ]
  },
  {
   "cell_type": "code",
   "execution_count": 150,
   "id": "295038bf",
   "metadata": {},
   "outputs": [
    {
     "name": "stdout",
     "output_type": "stream",
     "text": [
      "(1, 2, 3, 4)\n"
     ]
    },
    {
     "data": {
      "text/plain": [
       "10"
      ]
     },
     "execution_count": 150,
     "metadata": {},
     "output_type": "execute_result"
    }
   ],
   "source": [
    "numbers = [1, 2, 3, 4]\n",
    "add(*numbers)  # 언패킹"
   ]
  },
  {
   "cell_type": "code",
   "execution_count": 152,
   "id": "d3d6f597",
   "metadata": {},
   "outputs": [
    {
     "name": "stdout",
     "output_type": "stream",
     "text": [
      "(1, 2, 3, 4)\n"
     ]
    },
    {
     "data": {
      "text/plain": [
       "10"
      ]
     },
     "execution_count": 152,
     "metadata": {},
     "output_type": "execute_result"
    }
   ],
   "source": [
    "numbers = (1, 2, 3, 4)\n",
    "add(*numbers)  # 언패킹"
   ]
  },
  {
   "cell_type": "markdown",
   "id": "1cd01564",
   "metadata": {},
   "source": [
    "### 딕셔너리인수 언패킹\n",
    "- 딕셔너리 언패킹 : 함수 호출시 매개변수 앞에 ** 붙임\n",
    "- 딕셔너리 패킹 : 함수 정의시 매개변수 앞에 ** 붙임"
   ]
  },
  {
   "cell_type": "code",
   "execution_count": 163,
   "id": "e077dd8b",
   "metadata": {},
   "outputs": [],
   "source": [
    "def func5(**data) :\n",
    "    print(type(data))\n",
    "    for key, item in data.items() :\n",
    "        print(f'{key} : {item}')"
   ]
  },
  {
   "cell_type": "code",
   "execution_count": 164,
   "id": "74f7774e",
   "metadata": {},
   "outputs": [
    {
     "name": "stdout",
     "output_type": "stream",
     "text": [
      "<class 'dict'>\n",
      "name : 홍길동\n",
      "age : 30\n",
      "address : 신림\n"
     ]
    }
   ],
   "source": [
    "func5( name = '홍길동', age = 30, address = '신림')"
   ]
  },
  {
   "cell_type": "code",
   "execution_count": 165,
   "id": "188c0166",
   "metadata": {},
   "outputs": [
    {
     "name": "stdout",
     "output_type": "stream",
     "text": [
      "<class 'dict'>\n",
      "name : 홍길동\n",
      "age : 30\n",
      "address : 서울시 강남구\n",
      "score : 900\n"
     ]
    }
   ],
   "source": [
    "customInfo = {'name' : '홍길동', 'age' : 30, 'address' : '서울시 강남구', 'score' : 900}\n",
    "func5(**customInfo)"
   ]
  },
  {
   "cell_type": "markdown",
   "id": "6bd4f89e",
   "metadata": {},
   "source": [
    "# 4절. 람다식\n",
    "- return 한줄짜리 작은 익명함수"
   ]
  },
  {
   "cell_type": "markdown",
   "id": "c9770f39",
   "metadata": {},
   "source": [
    "## 4.1 람다식 연습"
   ]
  },
  {
   "cell_type": "code",
   "execution_count": 166,
   "id": "183d663a",
   "metadata": {},
   "outputs": [
    {
     "data": {
      "text/plain": [
       "7"
      ]
     },
     "execution_count": 166,
     "metadata": {},
     "output_type": "execute_result"
    }
   ],
   "source": [
    "def add(a, b) :\n",
    "    return a + b\n",
    "add(3, 4)"
   ]
  },
  {
   "cell_type": "code",
   "execution_count": 167,
   "id": "9cf44d44",
   "metadata": {},
   "outputs": [
    {
     "data": {
      "text/plain": [
       "7"
      ]
     },
     "execution_count": 167,
     "metadata": {},
     "output_type": "execute_result"
    }
   ],
   "source": [
    "add2 = lambda a, b : a + b\n",
    "add2(3, 4)"
   ]
  },
  {
   "cell_type": "code",
   "execution_count": 168,
   "id": "f61ccc62",
   "metadata": {},
   "outputs": [
    {
     "data": {
      "text/plain": [
       "(function, function)"
      ]
     },
     "execution_count": 168,
     "metadata": {},
     "output_type": "execute_result"
    }
   ],
   "source": [
    "type(add), type(add2)"
   ]
  },
  {
   "cell_type": "code",
   "execution_count": 169,
   "id": "d597f15c",
   "metadata": {},
   "outputs": [
    {
     "data": {
      "text/plain": [
       "7"
      ]
     },
     "execution_count": 169,
     "metadata": {},
     "output_type": "execute_result"
    }
   ],
   "source": [
    "(lambda a, b : a + b)(3, 4)"
   ]
  },
  {
   "cell_type": "code",
   "execution_count": 177,
   "id": "3c1b6778",
   "metadata": {},
   "outputs": [
    {
     "data": {
      "text/plain": [
       "('짝수', '홀수')"
      ]
     },
     "execution_count": 177,
     "metadata": {},
     "output_type": "execute_result"
    }
   ],
   "source": [
    "# ex1. 매개변수로 들어온 값이 짝수인지 홀수인지 return\n",
    "\n",
    "def ex1_(num) :\n",
    "    if num % 2 == 0 :\n",
    "        result = '홀수'\n",
    "    else : \n",
    "        result = '짝수'\n",
    "    return '홀수' if num % 2 else '짝수'\n",
    "\n",
    "ex1 = lambda num : '홀수' if num % 2 else '짝수'\n",
    "\n",
    "ex1(10), ex1(-9)"
   ]
  },
  {
   "cell_type": "code",
   "execution_count": 186,
   "id": "1d84aabd",
   "metadata": {},
   "outputs": [
    {
     "data": {
      "text/plain": [
       "(2, 4)"
      ]
     },
     "execution_count": 186,
     "metadata": {},
     "output_type": "execute_result"
    }
   ],
   "source": [
    "# ex2. 두 매개변수의 차이를 return\n",
    "\n",
    "def diff(a, b) :\n",
    "    if a > b :\n",
    "        result = a - b\n",
    "    else :\n",
    "        result = b - a\n",
    "    return result\n",
    "\n",
    "ex2 = lambda num1, num2 : num1 - num2 if num1 >= num2 else num2 - num1\n",
    "\n",
    "ex2(10, 8), ex2(9, 13)"
   ]
  },
  {
   "cell_type": "code",
   "execution_count": 187,
   "id": "2f871b08",
   "metadata": {},
   "outputs": [
    {
     "data": {
      "text/plain": [
       "(1000, 'negative')"
      ]
     },
     "execution_count": 187,
     "metadata": {},
     "output_type": "execute_result"
    }
   ],
   "source": [
    "# ex3. 매개변수로 잔액을 받아 양수면 잔액을 return, 음수면 'negative'를 return\n",
    "\n",
    "ex3 = lambda money : money if money > 0 else 'negative'\n",
    "\n",
    "ex3(1000), ex3(-5000)"
   ]
  },
  {
   "cell_type": "code",
   "execution_count": 195,
   "id": "3091797d",
   "metadata": {},
   "outputs": [
    {
     "data": {
      "text/plain": [
       "('A팀', 'B팀', '재시험', '유효하지 않음')"
      ]
     },
     "execution_count": 195,
     "metadata": {},
     "output_type": "execute_result"
    }
   ],
   "source": [
    "# ex4. 점수를 입력받아 점수가 80점 이상은 A팀, 60점 이상은 B팀, 60점 미만은 재시험, 그외는 유효하지 않음\n",
    "\n",
    "ex4 = lambda score : 'A팀' if 80 <= score <= 100 else \\\n",
    "                     'B팀' if 60 <= score < 80 else \\\n",
    "                     '재시험' if 0 <= score < 60 else \\\n",
    "                     '유효하지 않음'                           # \\뒤에 스페이스 하나라도 있으면 에러\n",
    "\n",
    "ex4(99), ex4(60), ex4(50), ex4(120)"
   ]
  },
  {
   "cell_type": "code",
   "execution_count": 197,
   "id": "d735b0c0",
   "metadata": {},
   "outputs": [
    {
     "data": {
      "text/plain": [
       "(2, -1)"
      ]
     },
     "execution_count": 197,
     "metadata": {},
     "output_type": "execute_result"
    }
   ],
   "source": [
    "# ex5. safe_index를 람다식으로\n",
    "\n",
    "def safe_index(vector, data):\n",
    "    if data in vector: # lst안에 data 있는지 여부\n",
    "        return vector.index(data)\n",
    "    else:\n",
    "        return -1\n",
    "    \n",
    "ex5 = lambda vector, data : vector.index(data) if data in vector else -1\n",
    "\n",
    "ex5([1, 2, 3, 4, 5], 3), ex5([1, 2, 3, 4, 5], 9)"
   ]
  },
  {
   "cell_type": "markdown",
   "id": "81407996",
   "metadata": {},
   "source": [
    "## 4.2 함수의 매개변수에 람다식 이용"
   ]
  },
  {
   "cell_type": "markdown",
   "id": "e7d433a3",
   "metadata": {},
   "source": [
    "### (1) map"
   ]
  },
  {
   "cell_type": "code",
   "execution_count": 4,
   "id": "55481a00",
   "metadata": {},
   "outputs": [],
   "source": [
    "def map_template(func, L) :\n",
    "    '''\n",
    "    L의 모든 요소를 func()함수를 적용시켜 return\n",
    "    [2, 4, 6]\n",
    "    '''\n",
    "    result = []\n",
    "    for l in L :\n",
    "        result.append(func(l))\n",
    "#     result = [func(l) for l in L]\n",
    "    return result"
   ]
  },
  {
   "cell_type": "code",
   "execution_count": 5,
   "id": "c5e85fcb",
   "metadata": {},
   "outputs": [
    {
     "data": {
      "text/plain": [
       "[2, 4, 6, 8, 10, 12, 14, 16, 18, 20]"
      ]
     },
     "execution_count": 5,
     "metadata": {},
     "output_type": "execute_result"
    }
   ],
   "source": [
    "list_data = [1, 2, 3, 4, 5, 6, 7, 8, 9, 10]\n",
    "\n",
    "def x_2(x) :\n",
    "    return x * 2\n",
    "\n",
    "map_template(x_2, list_data)"
   ]
  },
  {
   "cell_type": "code",
   "execution_count": 6,
   "id": "da56756c",
   "metadata": {},
   "outputs": [
    {
     "data": {
      "text/plain": [
       "[2, 4, 6, 8, 10, 12, 14, 16, 18, 20]"
      ]
     },
     "execution_count": 6,
     "metadata": {},
     "output_type": "execute_result"
    }
   ],
   "source": [
    "# 리스트 데이터를 가공 방법 1. map_template\n",
    "\n",
    "map_template(lambda x : x * 2, list_data)"
   ]
  },
  {
   "cell_type": "code",
   "execution_count": 7,
   "id": "980b4ebb",
   "metadata": {},
   "outputs": [
    {
     "data": {
      "text/plain": [
       "[2, 4, 6, 8, 10, 12, 14, 16, 18, 20]"
      ]
     },
     "execution_count": 7,
     "metadata": {},
     "output_type": "execute_result"
    }
   ],
   "source": [
    "# 리스트 데이터를 가공 방법 2. 리스트 컴프리헨션\n",
    "\n",
    "[l * 2 for l in list_data]"
   ]
  },
  {
   "cell_type": "code",
   "execution_count": 9,
   "id": "2d92b9cd",
   "metadata": {},
   "outputs": [
    {
     "data": {
      "text/plain": [
       "[2, 4, 6, 8, 10, 12, 14, 16, 18, 20]"
      ]
     },
     "execution_count": 9,
     "metadata": {},
     "output_type": "execute_result"
    }
   ],
   "source": [
    "# 리스트 데이터를 가공 방법 3. map() : 파이썬 내장함수\n",
    "\n",
    "list(map(lambda x : x * 2, list_data))"
   ]
  },
  {
   "cell_type": "code",
   "execution_count": 10,
   "id": "816c720a",
   "metadata": {},
   "outputs": [
    {
     "name": "stdout",
     "output_type": "stream",
     "text": [
      "2 4 6 8 10 12 14 16 18 20 "
     ]
    }
   ],
   "source": [
    "for item in map(lambda x : x * 2, list_data) :\n",
    "    print(item, end = ' ')"
   ]
  },
  {
   "cell_type": "code",
   "execution_count": 16,
   "id": "3cb84573",
   "metadata": {},
   "outputs": [
    {
     "data": {
      "text/plain": [
       "['5000', '800', '1000', '6000']"
      ]
     },
     "execution_count": 16,
     "metadata": {},
     "output_type": "execute_result"
    }
   ],
   "source": [
    "'''\n",
    "ex1. [5000, 800, 1000, 6000]으로 바꾸시오\n",
    "'''\n",
    "\n",
    "prices = ['5,000', '800', '1,000', '6,000']\n",
    "\n",
    "list(map(lambda price : price.replace(',', ''), prices))"
   ]
  },
  {
   "cell_type": "code",
   "execution_count": 32,
   "id": "d8f4194d",
   "metadata": {},
   "outputs": [],
   "source": [
    "'''\n",
    "ex2. member1 = [{'name':'홍길동', 'birth':'2000-01-01'},\n",
    "                {'name':'신길동', 'birth':'1998-12-31'},]를\n",
    "    member2 =  [{'name':'홍길동', 'year':2000, 'month':1, 'day':1},\n",
    "                {'name':'신길동', 'year':1998, 'month':12, 'day':31},]를 바꿉니다\n",
    "'''\n",
    "# '2000-01-01' => {'year':1998, 'month':12, 'day':31}\n",
    "def split_data(data) :\n",
    "    split_data = data.split('-')\n",
    "    return {'year' : int(split_data[0]),\n",
    "            'month' : int(split_data[1]),\n",
    "            'day' : int(split_data[2])}\n",
    "\n",
    "def member_func(member) :\n",
    "    \"{'name':'홍길동', 'year':2000, 'month':1, 'day':1}\"\n",
    "    return {\n",
    "        'name' : member.get('name'),\n",
    "        'year' : int(member['birth'].split('-')[0]),\n",
    "        'month' : int(member['birth'].split('-')[1]),\n",
    "        'day' : int(member['birth'].split('-')[2])\n",
    "    }"
   ]
  },
  {
   "cell_type": "code",
   "execution_count": 33,
   "id": "200c829a",
   "metadata": {},
   "outputs": [
    {
     "data": {
      "text/plain": [
       "{'name': '홍길동', 'year': 2000, 'month': 1, 'day': 1}"
      ]
     },
     "execution_count": 33,
     "metadata": {},
     "output_type": "execute_result"
    }
   ],
   "source": [
    "member1 = [{'name':'홍길동', 'birth':'2000-01-01'},\n",
    "                {'name':'신길동', 'birth':'1998-12-31'},]\n",
    "member_func(member1[0])"
   ]
  },
  {
   "cell_type": "code",
   "execution_count": 25,
   "id": "55441340",
   "metadata": {},
   "outputs": [
    {
     "data": {
      "text/plain": [
       "[{'name': '홍길동', 'year': 2000, 'month': 1, 'day': 1},\n",
       " {'name': '신길동', 'year': 1998, 'month': 12, 'day': 31}]"
      ]
     },
     "execution_count": 25,
     "metadata": {},
     "output_type": "execute_result"
    }
   ],
   "source": [
    "member2 = list(map(lambda member : {\n",
    "                                    'name' : member.get('name'),\n",
    "                                    'year' : int(member['birth'].split('-')[0]),\n",
    "                                    'month' : int(member['birth'].split('-')[1]),\n",
    "                                    'day' : int(member['birth'].split('-')[2])\n",
    "                                    },\n",
    "                  member1\n",
    "                  )\n",
    "              )\n",
    "member2"
   ]
  },
  {
   "cell_type": "code",
   "execution_count": 36,
   "id": "324f3c70",
   "metadata": {},
   "outputs": [],
   "source": [
    "'ex3. member2를 member1로 바꿉니다'\n",
    "\n",
    "def join_data(data) :\n",
    "    year = str(data.get('year'))\n",
    "    month = data.get('month')\n",
    "    if month < 10 :\n",
    "        month = '0' + str(month)\n",
    "    else : \n",
    "        month = str(month)\n",
    "    day = data.get('day')\n",
    "    if day < 10 :\n",
    "        day = '0' + str(day)\n",
    "    else : \n",
    "        day = str(day)\n",
    "    return '-'.join([year, month, day])"
   ]
  },
  {
   "cell_type": "code",
   "execution_count": 39,
   "id": "59993f6b",
   "metadata": {},
   "outputs": [],
   "source": [
    "def join_date(data) :\n",
    "    return (\"{}-{:02}-{:02}\".format(data.get('year'),\n",
    "                                    data.get('month'),\n",
    "                                    data.get('day')))"
   ]
  },
  {
   "cell_type": "code",
   "execution_count": 40,
   "id": "232b6e41",
   "metadata": {},
   "outputs": [],
   "source": [
    "def join_date(data) :\n",
    "    return(\"{year}-{month:02}-{day:02}\".format(\n",
    "                                    year = data.get('year'),\n",
    "                                    month = data.get('month'),\n",
    "                                    day = data.get('day')))"
   ]
  },
  {
   "cell_type": "code",
   "execution_count": 41,
   "id": "0459be7e",
   "metadata": {},
   "outputs": [
    {
     "data": {
      "text/plain": [
       "[{'name': '홍길동', 'birth': '2000-01-01'},\n",
       " {'name': '신길동', 'birth': '1998-12-31'}]"
      ]
     },
     "execution_count": 41,
     "metadata": {},
     "output_type": "execute_result"
    }
   ],
   "source": [
    "# 'name':'홍길동', 'year':2000, 'month':1, 'day':1 를\n",
    "# 'name':'홍길동', 'birth':'2000-01-01' 로 가공\n",
    "\n",
    "list(map(lambda member : {\n",
    "                        'name' : member.get('name'),\n",
    "                        'birth' : '{year}-{month:02}-{day:02}'.format(**member)\n",
    "                        },\n",
    "         member2\n",
    "))"
   ]
  },
  {
   "cell_type": "markdown",
   "id": "c7a20089",
   "metadata": {},
   "source": [
    "### (2) filter\n",
    "- map : [1, 2, 3, 4, 5] => [2, 4, 6, 8, 10] (벡터의 모든 데이터를 가공)\n",
    "- filter : [1, 2, 3, 4, 5] => [2, 4] \n",
    "\n",
    "- cf. 리스트 컴프리헨션"
   ]
  },
  {
   "cell_type": "code",
   "execution_count": 48,
   "id": "41a210c8",
   "metadata": {},
   "outputs": [],
   "source": [
    "def filter_template(func, L = []) :\n",
    "    result = []\n",
    "    for l in L :\n",
    "        if func(l) :\n",
    "            result.append(l)\n",
    "    return result"
   ]
  },
  {
   "cell_type": "code",
   "execution_count": 49,
   "id": "c92b6fa7",
   "metadata": {},
   "outputs": [
    {
     "data": {
      "text/plain": [
       "(True, False)"
      ]
     },
     "execution_count": 49,
     "metadata": {},
     "output_type": "execute_result"
    }
   ],
   "source": [
    "def evenChk(value) :\n",
    "    return value % 2 == 0\n",
    "evenChk(10), evenChk(-9)"
   ]
  },
  {
   "cell_type": "code",
   "execution_count": 50,
   "id": "475f507d",
   "metadata": {},
   "outputs": [
    {
     "data": {
      "text/plain": [
       "[2, 4]"
      ]
     },
     "execution_count": 50,
     "metadata": {},
     "output_type": "execute_result"
    }
   ],
   "source": [
    "list_data = [1, 2, 3, 4, 5]\n",
    "filter_template(lambda value : value % 2 == 0, list_data)"
   ]
  },
  {
   "cell_type": "code",
   "execution_count": 44,
   "id": "712ab3e5",
   "metadata": {},
   "outputs": [
    {
     "data": {
      "text/plain": [
       "[2, 4]"
      ]
     },
     "execution_count": 44,
     "metadata": {},
     "output_type": "execute_result"
    }
   ],
   "source": [
    "list(filter(lambda value : value % 2 == 0, list_data))"
   ]
  },
  {
   "cell_type": "code",
   "execution_count": 45,
   "id": "2aa1dee5",
   "metadata": {},
   "outputs": [
    {
     "data": {
      "text/plain": [
       "[2, 4]"
      ]
     },
     "execution_count": 45,
     "metadata": {},
     "output_type": "execute_result"
    }
   ],
   "source": [
    "[data for data in list_data if data % 2 == 0]"
   ]
  },
  {
   "cell_type": "markdown",
   "id": "a668c99a",
   "metadata": {},
   "source": [
    "### (3) sort"
   ]
  },
  {
   "cell_type": "code",
   "execution_count": 51,
   "id": "af556a70",
   "metadata": {},
   "outputs": [
    {
     "data": {
      "text/plain": [
       "[(1, 'one'), (2, 'two'), (3, 'three'), (4, 'four')]"
      ]
     },
     "execution_count": 51,
     "metadata": {},
     "output_type": "execute_result"
    }
   ],
   "source": [
    "# 무조건 0번째 item 기준으로 정렬\n",
    "\n",
    "pairs = [(2, 'two'), (1, 'one'), (4, 'four'), (3, 'three')]\n",
    "pairs.sort()\n",
    "pairs"
   ]
  },
  {
   "cell_type": "code",
   "execution_count": 52,
   "id": "003a09d8",
   "metadata": {},
   "outputs": [
    {
     "data": {
      "text/plain": [
       "[(4, 'four'), (1, 'one'), (3, 'three'), (2, 'two')]"
      ]
     },
     "execution_count": 52,
     "metadata": {},
     "output_type": "execute_result"
    }
   ],
   "source": [
    "# 1번째 item 기준으로 정렬 (abc순)\n",
    "\n",
    "pairs.sort(key = lambda pair : pair[1])\n",
    "pairs"
   ]
  },
  {
   "cell_type": "code",
   "execution_count": 53,
   "id": "3b1acd9a",
   "metadata": {},
   "outputs": [
    {
     "data": {
      "text/plain": [
       "[[10, 1], [9, 9, 9, 9, 9, 9], [1, 100]]"
      ]
     },
     "execution_count": 53,
     "metadata": {},
     "output_type": "execute_result"
    }
   ],
   "source": [
    "# 무조건 0번째 item 기준으로 정렬\n",
    "\n",
    "number2d = [[9, 9, 9, 9, 9, 9],\n",
    "            [1, 100],\n",
    "            [10, 1]]\n",
    "\n",
    "number2d.sort(reverse = True)  # 기본(reverse = False) : 오름차순정렬 / reverse = True : 내림차순정렬\n",
    "number2d"
   ]
  },
  {
   "cell_type": "code",
   "execution_count": 58,
   "id": "710dae37",
   "metadata": {},
   "outputs": [
    {
     "data": {
      "text/plain": [
       "6"
      ]
     },
     "execution_count": 58,
     "metadata": {},
     "output_type": "execute_result"
    }
   ],
   "source": [
    "# 리스트를 매개변수로 받아 합을 return\n",
    "\n",
    "(lambda item : sum(item))([1, 2, 3])"
   ]
  },
  {
   "cell_type": "code",
   "execution_count": 57,
   "id": "e354b5a8",
   "metadata": {},
   "outputs": [
    {
     "data": {
      "text/plain": [
       "[[1, 100], [9, 9, 9, 9, 9, 9], [10, 1]]"
      ]
     },
     "execution_count": 57,
     "metadata": {},
     "output_type": "execute_result"
    }
   ],
   "source": [
    "# 합이 큰 순으로 정렬\n",
    "\n",
    "number2d.sort(key = lambda item : sum(item), reverse = True)\n",
    "number2d"
   ]
  },
  {
   "cell_type": "code",
   "execution_count": 64,
   "id": "d9327bb4",
   "metadata": {},
   "outputs": [],
   "source": [
    "students = [\n",
    "    {'name':'홍길동', 'score':90},\n",
    "    {'name':'김길동', 'score':50},\n",
    "    {'name':'윤길동', 'score':99},\n",
    "    {'score':100}\n",
    "]"
   ]
  },
  {
   "cell_type": "code",
   "execution_count": 65,
   "id": "3acb9e31",
   "metadata": {},
   "outputs": [
    {
     "data": {
      "text/plain": [
       "[{'name': '김길동', 'score': 50},\n",
       " {'name': '윤길동', 'score': 99},\n",
       " {'name': '홍길동', 'score': 90},\n",
       " {'score': 100}]"
      ]
     },
     "execution_count": 65,
     "metadata": {},
     "output_type": "execute_result"
    }
   ],
   "source": [
    "# 이름순으로 정렬 (ㄱㄴㄷ순)\n",
    "\n",
    "students.sort(key = lambda member : member.get('name', '힣'))\n",
    "students"
   ]
  },
  {
   "cell_type": "code",
   "execution_count": 69,
   "id": "9fce6561",
   "metadata": {},
   "outputs": [
    {
     "data": {
      "text/plain": [
       "[{'score': 100},\n",
       " {'name': '윤길동', 'score': 99},\n",
       " {'name': '홍길동', 'score': 90},\n",
       " {'name': '김길동', 'score': 50}]"
      ]
     },
     "execution_count": 69,
     "metadata": {},
     "output_type": "execute_result"
    }
   ],
   "source": [
    "# score순으로 정렬 (내림차순정렬)\n",
    "\n",
    "students.sort(key = lambda score : score.get('score', 0), reverse = True)\n",
    "students"
   ]
  },
  {
   "cell_type": "code",
   "execution_count": 93,
   "id": "a57ff36e",
   "metadata": {},
   "outputs": [],
   "source": [
    "# 책제목순 정렬 (ㄱㄴㄷ순), 저자순 (ㄱㄴㄷ순), 가격순 (오름차순정렬)\n",
    "\n",
    "books = [\n",
    "    {'no':1, 'title':'강남 아파트 인사이트', 'writer':'오스틀', 'price':'25,000'},\n",
    "    {'no':2, 'title':'단 한 번의 삶', 'writer':'김영하', 'price':'18,000'},\n",
    "    {'no':3, 'title':'흔한남매 19', 'writer':'백난도', 'price':'14,200'},\n",
    "    {'no':4, 'title':'가격이잘못', 'writer':'홍길동', 'price':'-'},\n",
    "    {'no':5, 'title':'가격이숫자', 'writer':'신길동', 'price':900},\n",
    "    {'no':6, 'title':'가격이없음', 'writer':'김길동'}\n",
    "]"
   ]
  },
  {
   "cell_type": "code",
   "execution_count": 102,
   "id": "f5c4f94c",
   "metadata": {},
   "outputs": [],
   "source": [
    "copy_books = books.copy()"
   ]
  },
  {
   "cell_type": "code",
   "execution_count": 94,
   "id": "95d918d7",
   "metadata": {},
   "outputs": [
    {
     "data": {
      "text/plain": [
       "[{'no': 5, 'title': '가격이숫자', 'writer': '신길동', 'price': 900},\n",
       " {'no': 6, 'title': '가격이없음', 'writer': '김길동'},\n",
       " {'no': 4, 'title': '가격이잘못', 'writer': '홍길동', 'price': '-'},\n",
       " {'no': 1, 'title': '강남 아파트 인사이트', 'writer': '오스틀', 'price': '25,000'},\n",
       " {'no': 2, 'title': '단 한 번의 삶', 'writer': '김영하', 'price': '18,000'},\n",
       " {'no': 3, 'title': '흔한남매 19', 'writer': '백난도', 'price': '14,200'}]"
      ]
     },
     "execution_count": 94,
     "metadata": {},
     "output_type": "execute_result"
    }
   ],
   "source": [
    "books.sort(key = lambda book : book.get('title'))\n",
    "books"
   ]
  },
  {
   "cell_type": "code",
   "execution_count": 95,
   "id": "174fdd00",
   "metadata": {},
   "outputs": [
    {
     "data": {
      "text/plain": [
       "[{'no': 6, 'title': '가격이없음', 'writer': '김길동'},\n",
       " {'no': 2, 'title': '단 한 번의 삶', 'writer': '김영하', 'price': '18,000'},\n",
       " {'no': 3, 'title': '흔한남매 19', 'writer': '백난도', 'price': '14,200'},\n",
       " {'no': 5, 'title': '가격이숫자', 'writer': '신길동', 'price': 900},\n",
       " {'no': 1, 'title': '강남 아파트 인사이트', 'writer': '오스틀', 'price': '25,000'},\n",
       " {'no': 4, 'title': '가격이잘못', 'writer': '홍길동', 'price': '-'}]"
      ]
     },
     "execution_count": 95,
     "metadata": {},
     "output_type": "execute_result"
    }
   ],
   "source": [
    "books.sort(key = lambda book : book.get('writer'))\n",
    "books"
   ]
  },
  {
   "cell_type": "code",
   "execution_count": 96,
   "id": "2d1c101c",
   "metadata": {},
   "outputs": [],
   "source": [
    "# '14,000' => 14000 / '2000' => 2000 / 800 => 800 / '-' => 0\n",
    "\n",
    "def parse_int(price) :\n",
    "#     print(type(price))\n",
    "    if isinstance(price, str) and price.replace(',', '').isdigit() :\n",
    "        return int(price.replace(',', ''))\n",
    "    elif isinstance(price, int) :\n",
    "        return price\n",
    "    else :\n",
    "        return 0"
   ]
  },
  {
   "cell_type": "code",
   "execution_count": 97,
   "id": "ac138806",
   "metadata": {},
   "outputs": [
    {
     "data": {
      "text/plain": [
       "(8000, 8000, 8000, 0)"
      ]
     },
     "execution_count": 97,
     "metadata": {},
     "output_type": "execute_result"
    }
   ],
   "source": [
    "parse_int('8,000'), parse_int('8000'), parse_int(8000), parse_int('-')"
   ]
  },
  {
   "cell_type": "code",
   "execution_count": 99,
   "id": "f0af425c",
   "metadata": {},
   "outputs": [
    {
     "data": {
      "text/plain": [
       "(0, 900, 14200, 0)"
      ]
     },
     "execution_count": 99,
     "metadata": {},
     "output_type": "execute_result"
    }
   ],
   "source": [
    "# {'no':6, 'title':'가격이없음', 'writer':'김길동'}\n",
    "# {'no':3, 'title':'흔한남매 19', 'writer':'백난도', 'price':'14,200'}\n",
    "# {'no':5, 'title':'가격이숫자', 'writer':'신길동', 'price':900}\n",
    "\n",
    "def parse_int(book) :\n",
    "    if isinstance(book.get('price'), str) and book.get('price').replace(',', '').isdigit() :\n",
    "        return int(book.get('price').replace(',', ''))\n",
    "    elif isinstance(book.get('price'), int) :\n",
    "        return book.get('price')\n",
    "    else :\n",
    "        return 0\n",
    "\n",
    "parse_int(books[0]), parse_int(books[3]), parse_int(books[2]), parse_int(books[5])"
   ]
  },
  {
   "cell_type": "code",
   "execution_count": 103,
   "id": "69639de5",
   "metadata": {},
   "outputs": [],
   "source": [
    "copy_books.sort(key = lambda book : \n",
    "                int(book.get('price').replace(',', '')) \\\n",
    "                   if isinstance(book.get('price'), str) and \\\n",
    "                    book.get('price').replace(',', '').isdigit() else \\\n",
    "                book.get('price') if isinstance(book.get('price'), int) else \\\n",
    "               0               \n",
    "               )"
   ]
  },
  {
   "cell_type": "code",
   "execution_count": 104,
   "id": "08b06d9f",
   "metadata": {},
   "outputs": [
    {
     "data": {
      "text/plain": [
       "[{'no': 6, 'title': '가격이없음', 'writer': '김길동'},\n",
       " {'no': 4, 'title': '가격이잘못', 'writer': '홍길동', 'price': '-'},\n",
       " {'no': 5, 'title': '가격이숫자', 'writer': '신길동', 'price': 900},\n",
       " {'no': 3, 'title': '흔한남매 19', 'writer': '백난도', 'price': '14,200'},\n",
       " {'no': 2, 'title': '단 한 번의 삶', 'writer': '김영하', 'price': '18,000'},\n",
       " {'no': 1, 'title': '강남 아파트 인사이트', 'writer': '오스틀', 'price': '25,000'}]"
      ]
     },
     "execution_count": 104,
     "metadata": {},
     "output_type": "execute_result"
    }
   ],
   "source": [
    "copy_books"
   ]
  },
  {
   "cell_type": "markdown",
   "id": "fb17145a",
   "metadata": {},
   "source": [
    "## 4.3 return문에 람다식 이용"
   ]
  },
  {
   "cell_type": "code",
   "execution_count": 107,
   "id": "b481c40e",
   "metadata": {},
   "outputs": [],
   "source": [
    "# 함수를 return\n",
    "\n",
    "def make_box(shape) :  # shape : [l] => Len가 l인 list를 생성하는 함수 return\n",
    "                       #         [r, c] => r행 c열인 2차원 list를 생성하는 함수 return\n",
    "                       #         [d, r, c] => d면 r행 c열인 3차원 list를 생성하는 함수 return\n",
    "    def box(init_value) :\n",
    "        if len(shape) == 1 :\n",
    "            return [init_value] * shape[0]\n",
    "        elif len(shape) == 2 :\n",
    "            return [[init_value] * shape[1]] * shape[0]\n",
    "    return box"
   ]
  },
  {
   "cell_type": "code",
   "execution_count": 119,
   "id": "fd9022f1",
   "metadata": {},
   "outputs": [],
   "source": [
    "def make_box(shape) :\n",
    "    if len(shape) == 1 :\n",
    "        return lambda init_value : [init_value] * shape[0]\n",
    "    elif len(shape) == 2 :\n",
    "        return lambda init_value : [[init_value] * shape[1]] * shape[0]"
   ]
  },
  {
   "cell_type": "code",
   "execution_count": 108,
   "id": "e6b28a83",
   "metadata": {},
   "outputs": [
    {
     "data": {
      "text/plain": [
       "[[3, 3, 3], [3, 3, 3]]"
      ]
     },
     "execution_count": 108,
     "metadata": {},
     "output_type": "execute_result"
    }
   ],
   "source": [
    "line_func = make_box([2, 3])\n",
    "line_func(3)"
   ]
  },
  {
   "cell_type": "code",
   "execution_count": 109,
   "id": "3c09296f",
   "metadata": {},
   "outputs": [
    {
     "data": {
      "text/plain": [
       "[3, 3, 3, 3, 3, 3, 3, 3, 3, 3]"
      ]
     },
     "execution_count": 109,
     "metadata": {},
     "output_type": "execute_result"
    }
   ],
   "source": [
    "line_func1 = make_box([10])\n",
    "line_func1(3)"
   ]
  },
  {
   "cell_type": "markdown",
   "id": "26cd296d",
   "metadata": {},
   "source": [
    "# 5절. 파이썬 내장함수\n",
    "- import하지 않고 바로 사용 가능한 함수\n",
    "- 키워드처럼 간주되므로, 식별자(변수명, 함수명, 클래스명)로 사용하는 것을 피한다"
   ]
  },
  {
   "cell_type": "code",
   "execution_count": 118,
   "id": "6c6ddb24",
   "metadata": {
    "scrolled": true
   },
   "outputs": [
    {
     "data": {
      "text/plain": [
       "{'__name__': '__main__',\n",
       " '__doc__': 'ex3. member2를 member1로 바꿉니다',\n",
       " '__package__': None,\n",
       " '__loader__': None,\n",
       " '__spec__': None,\n",
       " '__builtin__': <module 'builtins' (built-in)>,\n",
       " '__builtins__': <module 'builtins' (built-in)>,\n",
       " '_ih': ['',\n",
       "  'from IPython.display import display, HTML\\ndisplay(HTML(\"\"\"<style>\\ndiv.container{width:86% !important;}\\ndiv.cell.code_cell.rendered{width:100%;}\\ndiv.CodeMirror {font-family:Consolas; font-size:12pt;}\\ndiv.output {font-size:12pt; font-weight:bold;}\\ndiv.input {font-family:Consolas; font-size:12pt;}\\ndiv.prompt {min-width:70px;}\\ndiv#toc-wrapper{padding-top:120px;}\\ndiv.text_cell_render ul li{fontsize:12pt;padding:5px;}\\ntable.dataframe{font-size:12px;}))\\n</style>\\n\"\"\"))',\n",
       "  \"def map_template(func, L) :\\n    '''\\n    L의 모든 요소를 func()함수를 적용시켜 return\\n    [2, 4, 6]\\n    '''\\n    result = []\\n    for l in L :\\n        result.append(func(L))\\n#     result = [func(l) for l in L]\\n    return result\",\n",
       "  'list_data = [1, 2, 3, 4, 5, 6, 7, 8, 9, 10]\\n\\ndef x_2(x) :\\n    return x*2\\n\\nmap_template(x_2, list_data)',\n",
       "  \"def map_template(func, L) :\\n    '''\\n    L의 모든 요소를 func()함수를 적용시켜 return\\n    [2, 4, 6]\\n    '''\\n    result = []\\n    for l in L :\\n        result.append(func(l))\\n#     result = [func(l) for l in L]\\n    return result\",\n",
       "  'list_data = [1, 2, 3, 4, 5, 6, 7, 8, 9, 10]\\n\\ndef x_2(x) :\\n    return x*2\\n\\nmap_template(x_2, list_data)',\n",
       "  'map_template(lambda x : x * 2, list_data)',\n",
       "  '# 리스트 데이터를 가공 방법 2. 리스트 컴프리헨션\\n\\n[l * 2 for l in list_data]',\n",
       "  \"'''\\nex1. [5000, 800, 1000, 6000]으로 바꾸시오\\n'''\\n\\nprices = ['5,000', '800', '1,000', '6,000']\",\n",
       "  '# 리스트 데이터를 가공 방법 3. map() : 파이썬 내장함수\\n\\nlist(map(lambda x : x * 2, list_data))',\n",
       "  \"for item in map(lambda x : x * 2, list_data) :\\n    print(item, end = ' ')\",\n",
       "  \"'''\\nex1. [5000, 800, 1000, 6000]으로 바꾸시오\\n'''\\n\\nprices = ['5,000', '800', '1,000', '6,000']\",\n",
       "  \"map(lambda prices : prices.replace(',', ''))\",\n",
       "  \"map(lambda price : price.replace(',', ''), prices)\",\n",
       "  \"list(map(lambda price : price.replace(',', ''), prices))\",\n",
       "  \"'''\\nex2. member1 = [{'name':'홍길동', 'birth':'2000-01-01'},\\n                {'name':'신길동', 'birth':'1998-12-31'},]를\\n    member2 =  [{'name':'홍길동', 'year':2000, 'month':1, 'day':1},\\n                {'name':'신길동', 'year':1998, 'month':12, 'day':31},]를 바꿉니다\\n'''\",\n",
       "  \"'''\\nex1. [5000, 800, 1000, 6000]으로 바꾸시오\\n'''\\n\\nprices = ['5,000', '800', '1,000', '6,000']\\n\\nlist(map(lambda price : price.replace(',', ''), prices))\",\n",
       "  \"member1 = [{'name':'홍길동', 'birth':'2000-01-01'},\\n                {'name':'신길동', 'birth':'1998-12-31'},]\\nmember_func(member1[0])\",\n",
       "  '\\'\\'\\'\\nex2. member1 = [{\\'name\\':\\'홍길동\\', \\'birth\\':\\'2000-01-01\\'},\\n                {\\'name\\':\\'신길동\\', \\'birth\\':\\'1998-12-31\\'},]를\\n    member2 =  [{\\'name\\':\\'홍길동\\', \\'year\\':2000, \\'month\\':1, \\'day\\':1},\\n                {\\'name\\':\\'신길동\\', \\'year\\':1998, \\'month\\':12, \\'day\\':31},]를 바꿉니다\\n\\'\\'\\'\\n\\ndef split_data(data) :\\n    split_data = data.split(\\'-\\')\\n    return {\\'year\\' : int(split_data[0]),\\n            \\'month\\' : int(split_data[1]),\\n            \\'day\\' : int(split_data[2])}\\n\\ndef member_func(member) :\\n    \"{\\'name\\':\\'홍길동\\', \\'year\\':2000, \\'month\\':1, \\'day\\':1}\"\\n    return {\\n        \\'name\\':member.get(\\'name\\'),\\n        \\'year\\':int(member[\\'birth\\'].split(\\'-\\')[0]),\\n        \\'month\\':int(member[\\'birth\\'].split(\\'-\\')[1]),\\n        \\'day\\':int(member[\\'birth\\'].split(\\'-\\')[2])\\n    }',\n",
       "  \"member1 = [{'name':'홍길동', 'birth':'2000-01-01'},\\n                {'name':'신길동', 'birth':'1998-12-31'},]\\nmember_func(member1[0])\",\n",
       "  \"member1 = [{'name':'홍길동', 'birth':'2000-01-01'},\\n                {'name':'신길동', 'birth':'1998-12-31'},]\\nmember2 =  [{'name':'홍길동', 'year':2000, 'month':1, 'day':1},\\n                {'name':'신길동', 'year':1998, 'month':12, 'day':31}]\\n\\nmember_func(member1[0]), member_func(member2[0])\",\n",
       "  \"member1 = [{'name':'홍길동', 'birth':'2000-01-01'},\\n                {'name':'신길동', 'birth':'1998-12-31'},]\\nmember_func(member1[0])\",\n",
       "  \"member2 = list(map(lambda member : {\\n                                    'name':member.get('name'),\\n                                    'year':int(member['birth'].split('-')[0]),\\n                                    'month':int(member['birth'].split('-')[1]),\\n                                    'day':int(member['birth'].split('-')[2])\\n                                    },\\n                  member1\\n                  )\\n              )\\nmember2\",\n",
       "  \"member2 = list(map(lambda member : {'name':member.get('name'),\\n                                    'year':int(member['birth'].split('-')[0]),\\n                                    'month':int(member['birth'].split('-')[1]),\\n                                    'day':int(member['birth'].split('-')[2])\\n                                    },\\n                  member1\\n                  )\\n              )\\nmember2\",\n",
       "  \"member2 = list(map(lambda member : {\\n                                    'name':member.get('name'),\\n                                    'year':int(member['birth'].split('-')[0]),\\n                                    'month':int(member['birth'].split('-')[1]),\\n                                    'day':int(member['birth'].split('-')[2])\\n                                    },\\n                  member1\\n                  )\\n              )\\nmember2\",\n",
       "  \"member2 = list(map(lambda member : {\\n                                    'name' : member.get('name'),\\n                                    'year' : int(member['birth'].split('-')[0]),\\n                                    'month' : int(member['birth'].split('-')[1]),\\n                                    'day' : int(member['birth'].split('-')[2])\\n                                    },\\n                  member1\\n                  )\\n              )\\nmember2\",\n",
       "  '\\'\\'\\'\\nex2. member1 = [{\\'name\\':\\'홍길동\\', \\'birth\\':\\'2000-01-01\\'},\\n                {\\'name\\':\\'신길동\\', \\'birth\\':\\'1998-12-31\\'},]를\\n    member2 =  [{\\'name\\':\\'홍길동\\', \\'year\\':2000, \\'month\\':1, \\'day\\':1},\\n                {\\'name\\':\\'신길동\\', \\'year\\':1998, \\'month\\':12, \\'day\\':31},]를 바꿉니다\\n\\'\\'\\'\\n# \\'2000-01-01\\' => {\\'year\\':1998, \\'month\\':12, \\'day\\':31}\\ndef split_data(data) :\\n    split_data = data.split(\\'-\\')\\n    return {\\'year\\' : int(split_data[0]),\\n            \\'month\\' : int(split_data[1]),\\n            \\'day\\' : int(split_data[2])}\\n\\ndef member_func(member) :\\n    \"{\\'name\\':\\'홍길동\\', \\'year\\':2000, \\'month\\':1, \\'day\\':1}\"\\n    return {\\n        \\'name\\' : member.get(\\'name\\'),\\n        \\'year\\' : int(member[\\'birth\\'].split(\\'-\\')[0]),\\n        \\'month\\' : int(member[\\'birth\\'].split(\\'-\\')[1]),\\n        \\'day\\' : int(member[\\'birth\\'].split(\\'-\\')[2])\\n    }',\n",
       "  \"member1 = [{'name':'홍길동', 'birth':'2000-01-01'},\\n                {'name':'신길동', 'birth':'1998-12-31'},]\\nmember_func(member1[0])\",\n",
       "  '\\'\\'\\'\\nex2. member1 = [{\\'name\\':\\'홍길동\\', \\'birth\\':\\'2000-01-01\\'},\\n                {\\'name\\':\\'신길동\\', \\'birth\\':\\'1998-12-31\\'},]를\\n    member2 =  [{\\'name\\':\\'홍길동\\', \\'year\\':2000, \\'month\\':1, \\'day\\':1},\\n                {\\'name\\':\\'신길동\\', \\'year\\':1998, \\'month\\':12, \\'day\\':31},]를 바꿉니다\\n\\'\\'\\'\\n# \\'2000-01-01\\' => {\\'year\\':1998, \\'month\\':12, \\'day\\':31}\\ndef split_data(data) :\\n    split_data = data.split(\\'-\\')\\n    return {\\'year\\' : int(split_data[0]),\\n            \\'month\\' : int(split_data[1]),\\n            \\'day\\' : int(split_data[2])}\\n\\ndef member_func(member) :\\n    \"{\\'name\\':\\'홍길동\\', \\'year\\':2000, \\'month\\':1, \\'day\\':1}\"\\n    return {\\n        \\'name\\':member.get(\\'name\\'),\\n        \\'year\\':int(member[\\'birth\\'].split(\\'-\\')[0]),\\n        \\'month\\':int(member[\\'birth\\'].split(\\'-\\')[1]),\\n        \\'day\\':int(member[\\'birth\\'].split(\\'-\\')[2])\\n    }',\n",
       "  \"member1 = [{'name':'홍길동', 'birth':'2000-01-01'},\\n                {'name':'신길동', 'birth':'1998-12-31'},]\\nmember_func(member1[0])\",\n",
       "  '\\'\\'\\'\\nex2. member1 = [{\\'name\\':\\'홍길동\\', \\'birth\\':\\'2000-01-01\\'},\\n                {\\'name\\':\\'신길동\\', \\'birth\\':\\'1998-12-31\\'},]를\\n    member2 =  [{\\'name\\':\\'홍길동\\', \\'year\\':2000, \\'month\\':1, \\'day\\':1},\\n                {\\'name\\':\\'신길동\\', \\'year\\':1998, \\'month\\':12, \\'day\\':31},]를 바꿉니다\\n\\'\\'\\'\\n# \\'2000-01-01\\' => {\\'year\\':1998, \\'month\\':12, \\'day\\':31}\\ndef split_data(data) :\\n    split_data = data.split(\\'-\\')\\n    return {\\'year\\':int(split_data[0]),\\n            \\'month\\':int(split_data[1]),\\n            \\'day\\':int(split_data[2])}\\n\\ndef member_func(member) :\\n    \"{\\'name\\':\\'홍길동\\', \\'year\\':2000, \\'month\\':1, \\'day\\':1}\"\\n    return {\\n        \\'name\\':member.get(\\'name\\'),\\n        \\'year\\':int(member[\\'birth\\'].split(\\'-\\')[0]),\\n        \\'month\\':int(member[\\'birth\\'].split(\\'-\\')[1]),\\n        \\'day\\':int(member[\\'birth\\'].split(\\'-\\')[2])\\n    }',\n",
       "  \"member1 = [{'name':'홍길동', 'birth':'2000-01-01'},\\n                {'name':'신길동', 'birth':'1998-12-31'},]\\nmember_func(member1[0])\",\n",
       "  '\\'\\'\\'\\nex2. member1 = [{\\'name\\':\\'홍길동\\', \\'birth\\':\\'2000-01-01\\'},\\n                {\\'name\\':\\'신길동\\', \\'birth\\':\\'1998-12-31\\'},]를\\n    member2 =  [{\\'name\\':\\'홍길동\\', \\'year\\':2000, \\'month\\':1, \\'day\\':1},\\n                {\\'name\\':\\'신길동\\', \\'year\\':1998, \\'month\\':12, \\'day\\':31},]를 바꿉니다\\n\\'\\'\\'\\n# \\'2000-01-01\\' => {\\'year\\':1998, \\'month\\':12, \\'day\\':31}\\ndef split_data(data) :\\n    split_data = data.split(\\'-\\')\\n    return {\\'year\\' : int(split_data[0]),\\n            \\'month\\' : int(split_data[1]),\\n            \\'day\\' : int(split_data[2])}\\n\\ndef member_func(member) :\\n    \"{\\'name\\':\\'홍길동\\', \\'year\\':2000, \\'month\\':1, \\'day\\':1}\"\\n    return {\\n        \\'name\\' : member.get(\\'name\\'),\\n        \\'year\\' : int(member[\\'birth\\'].split(\\'-\\')[0]),\\n        \\'month\\' : int(member[\\'birth\\'].split(\\'-\\')[1]),\\n        \\'day\\' : int(member[\\'birth\\'].split(\\'-\\')[2])\\n    }',\n",
       "  \"member1 = [{'name':'홍길동', 'birth':'2000-01-01'},\\n                {'name':'신길동', 'birth':'1998-12-31'},]\\nmember_func(member1[0])\",\n",
       "  '\\'ex3. member2를 member1로 바꿉니다\\'\\n\\ndef member2_func(member) :\\n    \"{\\'name\\':\\'홍길동\\', \\'birth\\':\\'2000-01-01\\'}\"\\n    return {\\n        \\'name\\' : member.get(\\'name\\'),\\n        \\'birth\\' : member.join(\\'year\\', \\'month\\', \\'day\\')\\n    }',\n",
       "  '\\'ex3. member2를 member1로 바꿉니다\\'\\n\\ndef member2_func(member) :\\n    \"{\\'name\\':\\'홍길동\\', \\'birth\\':\\'2000-01-01\\'}\"\\n    print ({\\n        \\'name\\' : member.get(\\'name\\'),\\n        \\'birth\\' : member.join(\\'year\\', \\'month\\', \\'day\\')\\n    })',\n",
       "  \"'ex3. member2를 member1로 바꿉니다'\\n\\ndef join_data(data) :\\n    year = str(data.get('year'))\\n    month = data.get('month')\\n    if month < 10 :\\n        month = '0' + str(month)\\n    else : \\n        month = str(month)\\n    day = data.get('day')\\n    if day < 10 :\\n        day = '0' + str(day)\\n    else : \\n        day = str(day)\\n    return '-'.join([year, month, day])\",\n",
       "  'def join_date(data) :\\n    print(\"{}-{}-{}\".format(data.get(\\'year\\'),\\n                            data.get(\\'month\\'),\\n                            data.get(\\'day\\')))',\n",
       "  'def join_date(data) :\\n    print(\"{}-{:02}-{:02}\".format(data.get(\\'year\\'),\\n                            data.get(\\'month\\'),\\n                            data.get(\\'day\\')))',\n",
       "  'def join_date(data) :\\n    return (\"{}-{:02}-{:02}\".format(data.get(\\'year\\'),\\n                                    data.get(\\'month\\'),\\n                                    data.get(\\'day\\')))',\n",
       "  'def join_date(data) :\\n    return(\"{year}-{month:02}-{day:02}\".format(\\n                                    year = data.get(\\'year\\'),\\n                                    month = data.get(\\'month\\'),\\n                                    day = data.get(\\'day\\')))',\n",
       "  \"list(map(lambda member : {\\n                        'name' : member.get('name'),\\n                        'birth' : '{year}-{month:02}-{day:02}'.format(**member)\\n                        },\\n         member2\\n))\",\n",
       "  'def filter_template(func, L = []) :\\n    result = []\\n    for l in L :\\n        if func(l) :\\n            result.append(L)',\n",
       "  'list_data = [1, 2, 3, 4, 5]\\nfilter_template(lambda value : value % 2 == 0, list_data)',\n",
       "  'list(filter(lambda value : value % 2 == 0, list_data))',\n",
       "  '[data for data in list_data if data % 2 == 0]',\n",
       "  'p = [9, 2, 7]\\np.sort(reverse = True)\\np',\n",
       "  'number2d = [[9, 9],\\n            [1, 100],\\n            [10, 1]]\\n\\nnumber2d.sort(reverse = True)\\nnumber2d',\n",
       "  'def filter_template(func, L = []) :\\n    result = []\\n    for l in L :\\n        if func(l) :\\n            result.append(l)\\n    return result',\n",
       "  'def evenChk(value) :\\n    return value % 2 == 0\\nevenChk(10), evenChk(-9)',\n",
       "  'list_data = [1, 2, 3, 4, 5]\\nfilter_template(lambda value : value % 2 == 0, list_data)',\n",
       "  \"# 무조건 0번째 item 기준으로 정렬\\n\\npairs = [(2, 'two'), (1, 'one'), (4, 'four'), (3, 'three')]\\npairs.sort()\\npairs\",\n",
       "  '# 1번째 item 기준으로 정렬 (abc순)\\n\\npairs.sort(key = lambda pair : pair[1])\\npairs',\n",
       "  '# 무조건 0번째 item 기준으로 정렬\\n\\nnumber2d = [[9, 9, 9, 9, 9, 9],\\n            [1, 100],\\n            [10, 1]]\\n\\nnumber2d.sort(reverse = True)  # 기본(reverse = False) : 오름차순정렬 / reverse = True : 내림차순정렬\\nnumber2d',\n",
       "  '# 합이 큰 순으로 정렬\\n\\nnumber2d.sort(key = lambda item : sum(item))',\n",
       "  '# 합이 큰 순으로 정렬\\n\\nnumber2d.sort(key = lambda item : sum(item))\\nnumber2d',\n",
       "  '# 합이 큰 순으로 정렬\\n\\nnumber2d.sort(key = lambda item : sum(item), reserve = True)\\nnumber2d',\n",
       "  '# 합이 큰 순으로 정렬\\n\\nnumber2d.sort(key = lambda item : sum(item), reverse = True)\\nnumber2d',\n",
       "  '# 리스트를 매개변수로 받아 합을 return\\n(lambda item : sum(item))([1, 2, 3])',\n",
       "  \"students = [\\n    {'name':'홍길동', 'score':90},\\n    {'name':'김길동', 'score':50},\\n    {'name':'윤길동', 'score':99}\\n]\",\n",
       "  '# 이름순으로 정렬 (ㄱㄴㄷ순)',\n",
       "  \"# 이름순으로 정렬 (ㄱㄴㄷ순)\\n\\nstudents.sort(key = lambda member : {\\n                                    'name' : member.get\\n})\",\n",
       "  \"# 이름순으로 정렬 (ㄱㄴㄷ순)\\n\\n\\n\\nstudents.sort(key = lambda name : {\\n                        'name' : name.get('name')\\n})\",\n",
       "  \"# 이름순으로 정렬 (ㄱㄴㄷ순)\\n\\n\\n\\nstudents.sort(key = lambda name : {\\n                        'name' : name.get('name')\\n                        },\\n              students\\n             )\",\n",
       "  \"students = [\\n    {'name':'홍길동', 'score':90},\\n    {'name':'김길동', 'score':50},\\n    {'name':'윤길동', 'score':99},\\n    {'score':100}\\n]\",\n",
       "  \"# 이름순으로 정렬 (ㄱㄴㄷ순)\\n\\nstudents.sort(key = lambda member : member.get('name', '힣'))\\nstudents\",\n",
       "  \"# score순으로 정렬 (내림차순정렬)\\n\\nstudents.sort(key = lambda score : score.get('score'), reverse)\",\n",
       "  \"# score순으로 정렬 (내림차순정렬)\\n\\nstudents.sort(key = lambda score : score.get('score'), reverse = True)\",\n",
       "  \"# score순으로 정렬 (내림차순정렬)\\n\\nstudents.sort(key = lambda score : score.get('score'), reverse = True)\\nstudents\",\n",
       "  \"# score순으로 정렬 (내림차순정렬)\\n\\nstudents.sort(key = lambda score : score.get('score', 0), reverse = True)\\nstudents\",\n",
       "  \"# 책제목순 정렬 (ㄱㄴㄷ순), 저자순 (ㄱㄴㄷ순), 가격순 (오름차순정렬)\\n\\nbook = [\\n    {'no':1, 'title':'강남 아파트 인사이트', 'writer':'오스틀', 'price':'25,000'},\\n    {'no':2, 'title':'단 한 번의 삶', 'writer':'김영하', 'price':'18,000'},\\n    {'no':3, 'title':'흔한남매 19', 'writer':'백난도', 'price':'14,200'},\\n    {'no':4, 'title':'가격이잘못', 'writer':'홍길동', 'price':'-'},\\n    {'no':5, 'title':'가격이숫자', 'writer':'신길동', 'price':900},\\n    {'no':6, 'title':'가격이없음', 'writer':'김길동'}\\n]\",\n",
       "  \"book.sort(key = lambda book : book.get('title'))\",\n",
       "  \"book.sort(key = lambda book : book.get('title'))\\nbook\",\n",
       "  \"book.sort(key = lambda book : book.get('writer'))\\nbook\",\n",
       "  \"# '14,000' => 14000 / 900 => 900 / '-' => 0\\n\\ndef parse_int(price) :\\n    print(type(price))\",\n",
       "  \"parse_int('800')\",\n",
       "  \"# '14,000' => 14000 / '2000' => 2000 / 800 => 800 / '-' => 0\\n\\ndef parse_int(price) :\\n#     print(type(price))\\n    if isinstance(price, str) & price.replace(',', '').isdigit() :\\n        return int(price.replace(',', ''))\\n    elif isinstance(price, int) :\\n        return price\",\n",
       "  'parse_int(8000)',\n",
       "  \"# '14,000' => 14000 / '2000' => 2000 / 800 => 800 / '-' => 0\\n\\ndef parse_int(price) :\\n#     print(type(price))\\n    if isinstance(price, str) & price.replace(',', '').isdigit() :\\n        return int(price.replace(',', ''))\\n    elif isinstance(price, int) :\\n        return price\",\n",
       "  'parse_int(8000)',\n",
       "  \"# '14,000' => 14000 / '2000' => 2000 / 800 => 800 / '-' => 0\\n\\ndef parse_int(price) :\\n#     print(type(price))\\n    if isinstance(price, str) and price.replace(',', '').isdigit() :\\n        return int(price.replace(',', ''))\\n    elif isinstance(price, int) :\\n        return price\",\n",
       "  'parse_int(8000)',\n",
       "  \"# '14,000' => 14000 / '2000' => 2000 / 800 => 800 / '-' => 0\\n\\ndef parse_int(price) :\\n#     print(type(price))\\n    if isinstance(price, str) & price.replace(',', '').isdigit() :\\n        return int(price.replace(',', ''))\\n    elif isinstance(price, int) :\\n        return price\",\n",
       "  'parse_int(8000)',\n",
       "  \"# '14,000' => 14000 / '2000' => 2000 / 800 => 800 / '-' => 0\\n\\ndef parse_int(price) :\\n#     print(type(price))\\n    if isinstance(price, str) & price.replace(',', '').isdigit() :\\n        return int(price.replace(',', ''))\\n    elif isinstance(price, int) :\\n        return price\\n    else :\\n        return 0\",\n",
       "  'parse_int(8000)',\n",
       "  \"# '14,000' => 14000 / '2000' => 2000 / 800 => 800 / '-' => 0\\n\\ndef parse_int(price) :\\n#     print(type(price))\\n    if isinstance(price, str) & (price.replace(',', '').isdigit()) :\\n        return int(price.replace(',', ''))\\n    elif isinstance(price, int) :\\n        return price\\n    else :\\n        return 0\",\n",
       "  'parse_int(8000)',\n",
       "  \"# '14,000' => 14000 / '2000' => 2000 / 800 => 800 / '-' => 0\\n\\ndef parse_int(price) :\\n#     print(type(price))\\n    if isinstance(price, str) and price.replace(',', '').isdigit() :\\n        return int(price.replace(',', ''))\\n    elif isinstance(price, int) :\\n        return price\\n    else :\\n        return 0\",\n",
       "  'parse_int(8000)',\n",
       "  \"parse_int('8,000'), parse_int('8000'), parse_int(8000), parse_int('-')\",\n",
       "  \"# {'no':6, 'title':'가격이없음', 'writer':'김길동'}\\n# {'no':3, 'title':'흔한남매 19', 'writer':'백난도', 'price':'14,200'}\\n# {'no':5, 'title':'가격이숫자', 'writer':'신길동', 'price':900}\\n\\ndef parse_int(book) :\\n    if isinstance(book.get('price'), str) and book.get('price').replace(',', '').isdigit() :\\n        return int(book.get('price').replace(',', ''))\\n    elif isinstance(book.get('price'), int) :\\n        return book.get('price')\\n    else :\\n        return 0\",\n",
       "  \"# {'no':6, 'title':'가격이없음', 'writer':'김길동'}\\n# {'no':3, 'title':'흔한남매 19', 'writer':'백난도', 'price':'14,200'}\\n# {'no':5, 'title':'가격이숫자', 'writer':'신길동', 'price':900}\\n\\ndef parse_int(book) :\\n    if isinstance(book.get('price'), str) and book.get('price').replace(',', '').isdigit() :\\n        return int(book.get('price').replace(',', ''))\\n    elif isinstance(book.get('price'), int) :\\n        return book.get('price')\\n    else :\\n        return 0\\n\\nparse_int(books[0])\",\n",
       "  \"# 책제목순 정렬 (ㄱㄴㄷ순), 저자순 (ㄱㄴㄷ순), 가격순 (오름차순정렬)\\n\\nbooks = [\\n    {'no':1, 'title':'강남 아파트 인사이트', 'writer':'오스틀', 'price':'25,000'},\\n    {'no':2, 'title':'단 한 번의 삶', 'writer':'김영하', 'price':'18,000'},\\n    {'no':3, 'title':'흔한남매 19', 'writer':'백난도', 'price':'14,200'},\\n    {'no':4, 'title':'가격이잘못', 'writer':'홍길동', 'price':'-'},\\n    {'no':5, 'title':'가격이숫자', 'writer':'신길동', 'price':900},\\n    {'no':6, 'title':'가격이없음', 'writer':'김길동'}\\n]\",\n",
       "  \"books.sort(key = lambda book : book.get('title'))\\nbooks\",\n",
       "  \"books.sort(key = lambda book : book.get('writer'))\\nbooks\",\n",
       "  \"# '14,000' => 14000 / '2000' => 2000 / 800 => 800 / '-' => 0\\n\\ndef parse_int(price) :\\n#     print(type(price))\\n    if isinstance(price, str) and price.replace(',', '').isdigit() :\\n        return int(price.replace(',', ''))\\n    elif isinstance(price, int) :\\n        return price\\n    else :\\n        return 0\",\n",
       "  \"parse_int('8,000'), parse_int('8000'), parse_int(8000), parse_int('-')\",\n",
       "  \"# {'no':6, 'title':'가격이없음', 'writer':'김길동'}\\n# {'no':3, 'title':'흔한남매 19', 'writer':'백난도', 'price':'14,200'}\\n# {'no':5, 'title':'가격이숫자', 'writer':'신길동', 'price':900}\\n\\ndef parse_int(book) :\\n    if isinstance(book.get('price'), str) and book.get('price').replace(',', '').isdigit() :\\n        return int(book.get('price').replace(',', ''))\\n    elif isinstance(book.get('price'), int) :\\n        return book.get('price')\\n    else :\\n        return 0\\n\\nparse_int(books[0])\",\n",
       "  \"# {'no':6, 'title':'가격이없음', 'writer':'김길동'}\\n# {'no':3, 'title':'흔한남매 19', 'writer':'백난도', 'price':'14,200'}\\n# {'no':5, 'title':'가격이숫자', 'writer':'신길동', 'price':900}\\n\\ndef parse_int(book) :\\n    if isinstance(book.get('price'), str) and book.get('price').replace(',', '').isdigit() :\\n        return int(book.get('price').replace(',', ''))\\n    elif isinstance(book.get('price'), int) :\\n        return book.get('price')\\n    else :\\n        return 0\\n\\nparse_int(books[0]), parse_int(books[3]), parse_int(books[2]), parse_int(books[5])\",\n",
       "  'copy_books = books.copy()\\ncop_books',\n",
       "  'copy_books = books.copy()\\ncopy_books',\n",
       "  'copy_books = books.copy()',\n",
       "  \"copy_books.sort(key = lambda book : \\n                int(book.get('price').replace(',', '')) \\\\\\n                   if isinstance(book.get('price'), str) and \\\\\\n                    book.get('price').replace(',', '').isdigit() else \\\\\\n                book.get('price') if isinstance(book.get('price'), int) else \\\\\\n               0               \\n               )\",\n",
       "  'copy_books',\n",
       "  '# 함수를 return\\n\\ndef make_box(shape) :  # shape : [l] => Len가 l인 list를 생성하는 함수 return\\n                       #         [r, c] => r행 c열인 2차원 list를 생성하는 함수 return\\n                       #         [d, r, c] => d면 r행 c열인 3차원 list를 생성하는 함수 return\\n    def box(init_value) :\\n        if len(shape) == 1 :\\n            return [init_value] * shape[0]\\n        elif len(shape) == 2 :\\n            return [[init_value] * shape[1]] * shape[0]\\n        return box',\n",
       "  'line_func = make_box([2, 3])\\nline_func(3)',\n",
       "  '# 함수를 return\\n\\ndef make_box(shape) :  # shape : [l] => Len가 l인 list를 생성하는 함수 return\\n                       #         [r, c] => r행 c열인 2차원 list를 생성하는 함수 return\\n                       #         [d, r, c] => d면 r행 c열인 3차원 list를 생성하는 함수 return\\n    def box(init_value) :\\n        if len(shape) == 1 :\\n            return [init_value] * shape[0]\\n        elif len(shape) == 2 :\\n            return [[init_value] * shape[1]] * shape[0]\\n    return box',\n",
       "  'line_func = make_box([2, 3])\\nline_func(3)',\n",
       "  'line_func1 = make_box([10])\\nline_func1(3)',\n",
       "  'all(True, True, True, True)',\n",
       "  'all([True, True, True, True])',\n",
       "  'all([True, True, True, False])  # 전부 True인지 여부',\n",
       "  'round(3.5)',\n",
       "  'round(3.5)  # 반올림',\n",
       "  'import numpy as np  # numpy 모듈을 np라는 이름으로 load\\n\\nnp.round(3.5), np.ceil(3.1), np.floor(3.8)  # 반올림, 올림, 내림',\n",
       "  'globlas()  # 전역변수 리스트',\n",
       "  'globaㅣs()  # 전역변수 리스트',\n",
       "  'globals()  # 전역변수 리스트'],\n",
       " '_oh': {3: [[1, 2, 3, 4, 5, 6, 7, 8, 9, 10, 1, 2, 3, 4, 5, 6, 7, 8, 9, 10],\n",
       "   [1, 2, 3, 4, 5, 6, 7, 8, 9, 10, 1, 2, 3, 4, 5, 6, 7, 8, 9, 10],\n",
       "   [1, 2, 3, 4, 5, 6, 7, 8, 9, 10, 1, 2, 3, 4, 5, 6, 7, 8, 9, 10],\n",
       "   [1, 2, 3, 4, 5, 6, 7, 8, 9, 10, 1, 2, 3, 4, 5, 6, 7, 8, 9, 10],\n",
       "   [1, 2, 3, 4, 5, 6, 7, 8, 9, 10, 1, 2, 3, 4, 5, 6, 7, 8, 9, 10],\n",
       "   [1, 2, 3, 4, 5, 6, 7, 8, 9, 10, 1, 2, 3, 4, 5, 6, 7, 8, 9, 10],\n",
       "   [1, 2, 3, 4, 5, 6, 7, 8, 9, 10, 1, 2, 3, 4, 5, 6, 7, 8, 9, 10],\n",
       "   [1, 2, 3, 4, 5, 6, 7, 8, 9, 10, 1, 2, 3, 4, 5, 6, 7, 8, 9, 10],\n",
       "   [1, 2, 3, 4, 5, 6, 7, 8, 9, 10, 1, 2, 3, 4, 5, 6, 7, 8, 9, 10],\n",
       "   [1, 2, 3, 4, 5, 6, 7, 8, 9, 10, 1, 2, 3, 4, 5, 6, 7, 8, 9, 10]],\n",
       "  5: [2, 4, 6, 8, 10, 12, 14, 16, 18, 20],\n",
       "  6: [2, 4, 6, 8, 10, 12, 14, 16, 18, 20],\n",
       "  7: [2, 4, 6, 8, 10, 12, 14, 16, 18, 20],\n",
       "  9: [2, 4, 6, 8, 10, 12, 14, 16, 18, 20],\n",
       "  13: <map at 0x1ab159ddfc0>,\n",
       "  14: ['5000', '800', '1000', '6000'],\n",
       "  15: \"\\nex2. member1 = [{'name':'홍길동', 'birth':'2000-01-01'},\\n                {'name':'신길동', 'birth':'1998-12-31'},]를\\n    member2 =  [{'name':'홍길동', 'year':2000, 'month':1, 'day':1},\\n                {'name':'신길동', 'year':1998, 'month':12, 'day':31},]를 바꿉니다\\n\",\n",
       "  16: ['5000', '800', '1000', '6000'],\n",
       "  19: {'name': '홍길동', 'year': 2000, 'month': 1, 'day': 1},\n",
       "  21: {'name': '홍길동', 'year': 2000, 'month': 1, 'day': 1},\n",
       "  22: [{'name': '홍길동', 'year': 2000, 'month': 1, 'day': 1},\n",
       "   {'name': '신길동', 'year': 1998, 'month': 12, 'day': 31}],\n",
       "  23: [{'name': '홍길동', 'year': 2000, 'month': 1, 'day': 1},\n",
       "   {'name': '신길동', 'year': 1998, 'month': 12, 'day': 31}],\n",
       "  24: [{'name': '홍길동', 'year': 2000, 'month': 1, 'day': 1},\n",
       "   {'name': '신길동', 'year': 1998, 'month': 12, 'day': 31}],\n",
       "  25: [{'name': '홍길동', 'year': 2000, 'month': 1, 'day': 1},\n",
       "   {'name': '신길동', 'year': 1998, 'month': 12, 'day': 31}],\n",
       "  27: {'name': '홍길동', 'year': 2000, 'month': 1, 'day': 1},\n",
       "  29: {'name': '홍길동', 'year': 2000, 'month': 1, 'day': 1},\n",
       "  31: {'name': '홍길동', 'year': 2000, 'month': 1, 'day': 1},\n",
       "  33: {'name': '홍길동', 'year': 2000, 'month': 1, 'day': 1},\n",
       "  41: [{'name': '홍길동', 'birth': '2000-01-01'},\n",
       "   {'name': '신길동', 'birth': '1998-12-31'}],\n",
       "  44: [2, 4],\n",
       "  45: [2, 4],\n",
       "  46: [9, 7, 2],\n",
       "  47: [[10, 1], [9, 9], [1, 100]],\n",
       "  49: (True, False),\n",
       "  50: [2, 4],\n",
       "  51: [(4, 'four'), (1, 'one'), (3, 'three'), (2, 'two')],\n",
       "  52: [(4, 'four'), (1, 'one'), (3, 'three'), (2, 'two')],\n",
       "  53: [[1, 100], [9, 9, 9, 9, 9, 9], [10, 1]],\n",
       "  55: [[1, 100], [9, 9, 9, 9, 9, 9], [10, 1]],\n",
       "  57: [[1, 100], [9, 9, 9, 9, 9, 9], [10, 1]],\n",
       "  58: 6,\n",
       "  65: [{'score': 100},\n",
       "   {'name': '윤길동', 'score': 99},\n",
       "   {'name': '홍길동', 'score': 90},\n",
       "   {'name': '김길동', 'score': 50}],\n",
       "  68: [{'score': 100},\n",
       "   {'name': '윤길동', 'score': 99},\n",
       "   {'name': '홍길동', 'score': 90},\n",
       "   {'name': '김길동', 'score': 50}],\n",
       "  69: [{'score': 100},\n",
       "   {'name': '윤길동', 'score': 99},\n",
       "   {'name': '홍길동', 'score': 90},\n",
       "   {'name': '김길동', 'score': 50}],\n",
       "  72: [{'no': 6, 'title': '가격이없음', 'writer': '김길동'},\n",
       "   {'no': 2, 'title': '단 한 번의 삶', 'writer': '김영하', 'price': '18,000'},\n",
       "   {'no': 3, 'title': '흔한남매 19', 'writer': '백난도', 'price': '14,200'},\n",
       "   {'no': 5, 'title': '가격이숫자', 'writer': '신길동', 'price': 900},\n",
       "   {'no': 1, 'title': '강남 아파트 인사이트', 'writer': '오스틀', 'price': '25,000'},\n",
       "   {'no': 4, 'title': '가격이잘못', 'writer': '홍길동', 'price': '-'}],\n",
       "  73: [{'no': 6, 'title': '가격이없음', 'writer': '김길동'},\n",
       "   {'no': 2, 'title': '단 한 번의 삶', 'writer': '김영하', 'price': '18,000'},\n",
       "   {'no': 3, 'title': '흔한남매 19', 'writer': '백난도', 'price': '14,200'},\n",
       "   {'no': 5, 'title': '가격이숫자', 'writer': '신길동', 'price': 900},\n",
       "   {'no': 1, 'title': '강남 아파트 인사이트', 'writer': '오스틀', 'price': '25,000'},\n",
       "   {'no': 4, 'title': '가격이잘못', 'writer': '홍길동', 'price': '-'}],\n",
       "  81: 8000,\n",
       "  89: 8000,\n",
       "  90: (8000, 8000, 8000, 0),\n",
       "  94: [{'no': 6, 'title': '가격이없음', 'writer': '김길동'},\n",
       "   {'no': 2, 'title': '단 한 번의 삶', 'writer': '김영하', 'price': '18,000'},\n",
       "   {'no': 3, 'title': '흔한남매 19', 'writer': '백난도', 'price': '14,200'},\n",
       "   {'no': 5, 'title': '가격이숫자', 'writer': '신길동', 'price': 900},\n",
       "   {'no': 1, 'title': '강남 아파트 인사이트', 'writer': '오스틀', 'price': '25,000'},\n",
       "   {'no': 4, 'title': '가격이잘못', 'writer': '홍길동', 'price': '-'}],\n",
       "  95: [{'no': 6, 'title': '가격이없음', 'writer': '김길동'},\n",
       "   {'no': 2, 'title': '단 한 번의 삶', 'writer': '김영하', 'price': '18,000'},\n",
       "   {'no': 3, 'title': '흔한남매 19', 'writer': '백난도', 'price': '14,200'},\n",
       "   {'no': 5, 'title': '가격이숫자', 'writer': '신길동', 'price': 900},\n",
       "   {'no': 1, 'title': '강남 아파트 인사이트', 'writer': '오스틀', 'price': '25,000'},\n",
       "   {'no': 4, 'title': '가격이잘못', 'writer': '홍길동', 'price': '-'}],\n",
       "  97: (8000, 8000, 8000, 0),\n",
       "  98: 0,\n",
       "  99: (0, 900, 14200, 0),\n",
       "  101: [{'no': 6, 'title': '가격이없음', 'writer': '김길동'},\n",
       "   {'no': 2, 'title': '단 한 번의 삶', 'writer': '김영하', 'price': '18,000'},\n",
       "   {'no': 3, 'title': '흔한남매 19', 'writer': '백난도', 'price': '14,200'},\n",
       "   {'no': 5, 'title': '가격이숫자', 'writer': '신길동', 'price': 900},\n",
       "   {'no': 1, 'title': '강남 아파트 인사이트', 'writer': '오스틀', 'price': '25,000'},\n",
       "   {'no': 4, 'title': '가격이잘못', 'writer': '홍길동', 'price': '-'}],\n",
       "  104: [{'no': 6, 'title': '가격이없음', 'writer': '김길동'},\n",
       "   {'no': 4, 'title': '가격이잘못', 'writer': '홍길동', 'price': '-'},\n",
       "   {'no': 5, 'title': '가격이숫자', 'writer': '신길동', 'price': 900},\n",
       "   {'no': 3, 'title': '흔한남매 19', 'writer': '백난도', 'price': '14,200'},\n",
       "   {'no': 2, 'title': '단 한 번의 삶', 'writer': '김영하', 'price': '18,000'},\n",
       "   {'no': 1, 'title': '강남 아파트 인사이트', 'writer': '오스틀', 'price': '25,000'}],\n",
       "  108: [[3, 3, 3], [3, 3, 3]],\n",
       "  109: [3, 3, 3, 3, 3, 3, 3, 3, 3, 3],\n",
       "  111: True,\n",
       "  112: False,\n",
       "  113: 4,\n",
       "  114: 4,\n",
       "  115: (4.0, 4.0, 3.0)},\n",
       " '_dh': [WindowsPath('C:/ai_x/source/01_python')],\n",
       " 'In': ['',\n",
       "  'from IPython.display import display, HTML\\ndisplay(HTML(\"\"\"<style>\\ndiv.container{width:86% !important;}\\ndiv.cell.code_cell.rendered{width:100%;}\\ndiv.CodeMirror {font-family:Consolas; font-size:12pt;}\\ndiv.output {font-size:12pt; font-weight:bold;}\\ndiv.input {font-family:Consolas; font-size:12pt;}\\ndiv.prompt {min-width:70px;}\\ndiv#toc-wrapper{padding-top:120px;}\\ndiv.text_cell_render ul li{fontsize:12pt;padding:5px;}\\ntable.dataframe{font-size:12px;}))\\n</style>\\n\"\"\"))',\n",
       "  \"def map_template(func, L) :\\n    '''\\n    L의 모든 요소를 func()함수를 적용시켜 return\\n    [2, 4, 6]\\n    '''\\n    result = []\\n    for l in L :\\n        result.append(func(L))\\n#     result = [func(l) for l in L]\\n    return result\",\n",
       "  'list_data = [1, 2, 3, 4, 5, 6, 7, 8, 9, 10]\\n\\ndef x_2(x) :\\n    return x*2\\n\\nmap_template(x_2, list_data)',\n",
       "  \"def map_template(func, L) :\\n    '''\\n    L의 모든 요소를 func()함수를 적용시켜 return\\n    [2, 4, 6]\\n    '''\\n    result = []\\n    for l in L :\\n        result.append(func(l))\\n#     result = [func(l) for l in L]\\n    return result\",\n",
       "  'list_data = [1, 2, 3, 4, 5, 6, 7, 8, 9, 10]\\n\\ndef x_2(x) :\\n    return x*2\\n\\nmap_template(x_2, list_data)',\n",
       "  'map_template(lambda x : x * 2, list_data)',\n",
       "  '# 리스트 데이터를 가공 방법 2. 리스트 컴프리헨션\\n\\n[l * 2 for l in list_data]',\n",
       "  \"'''\\nex1. [5000, 800, 1000, 6000]으로 바꾸시오\\n'''\\n\\nprices = ['5,000', '800', '1,000', '6,000']\",\n",
       "  '# 리스트 데이터를 가공 방법 3. map() : 파이썬 내장함수\\n\\nlist(map(lambda x : x * 2, list_data))',\n",
       "  \"for item in map(lambda x : x * 2, list_data) :\\n    print(item, end = ' ')\",\n",
       "  \"'''\\nex1. [5000, 800, 1000, 6000]으로 바꾸시오\\n'''\\n\\nprices = ['5,000', '800', '1,000', '6,000']\",\n",
       "  \"map(lambda prices : prices.replace(',', ''))\",\n",
       "  \"map(lambda price : price.replace(',', ''), prices)\",\n",
       "  \"list(map(lambda price : price.replace(',', ''), prices))\",\n",
       "  \"'''\\nex2. member1 = [{'name':'홍길동', 'birth':'2000-01-01'},\\n                {'name':'신길동', 'birth':'1998-12-31'},]를\\n    member2 =  [{'name':'홍길동', 'year':2000, 'month':1, 'day':1},\\n                {'name':'신길동', 'year':1998, 'month':12, 'day':31},]를 바꿉니다\\n'''\",\n",
       "  \"'''\\nex1. [5000, 800, 1000, 6000]으로 바꾸시오\\n'''\\n\\nprices = ['5,000', '800', '1,000', '6,000']\\n\\nlist(map(lambda price : price.replace(',', ''), prices))\",\n",
       "  \"member1 = [{'name':'홍길동', 'birth':'2000-01-01'},\\n                {'name':'신길동', 'birth':'1998-12-31'},]\\nmember_func(member1[0])\",\n",
       "  '\\'\\'\\'\\nex2. member1 = [{\\'name\\':\\'홍길동\\', \\'birth\\':\\'2000-01-01\\'},\\n                {\\'name\\':\\'신길동\\', \\'birth\\':\\'1998-12-31\\'},]를\\n    member2 =  [{\\'name\\':\\'홍길동\\', \\'year\\':2000, \\'month\\':1, \\'day\\':1},\\n                {\\'name\\':\\'신길동\\', \\'year\\':1998, \\'month\\':12, \\'day\\':31},]를 바꿉니다\\n\\'\\'\\'\\n\\ndef split_data(data) :\\n    split_data = data.split(\\'-\\')\\n    return {\\'year\\' : int(split_data[0]),\\n            \\'month\\' : int(split_data[1]),\\n            \\'day\\' : int(split_data[2])}\\n\\ndef member_func(member) :\\n    \"{\\'name\\':\\'홍길동\\', \\'year\\':2000, \\'month\\':1, \\'day\\':1}\"\\n    return {\\n        \\'name\\':member.get(\\'name\\'),\\n        \\'year\\':int(member[\\'birth\\'].split(\\'-\\')[0]),\\n        \\'month\\':int(member[\\'birth\\'].split(\\'-\\')[1]),\\n        \\'day\\':int(member[\\'birth\\'].split(\\'-\\')[2])\\n    }',\n",
       "  \"member1 = [{'name':'홍길동', 'birth':'2000-01-01'},\\n                {'name':'신길동', 'birth':'1998-12-31'},]\\nmember_func(member1[0])\",\n",
       "  \"member1 = [{'name':'홍길동', 'birth':'2000-01-01'},\\n                {'name':'신길동', 'birth':'1998-12-31'},]\\nmember2 =  [{'name':'홍길동', 'year':2000, 'month':1, 'day':1},\\n                {'name':'신길동', 'year':1998, 'month':12, 'day':31}]\\n\\nmember_func(member1[0]), member_func(member2[0])\",\n",
       "  \"member1 = [{'name':'홍길동', 'birth':'2000-01-01'},\\n                {'name':'신길동', 'birth':'1998-12-31'},]\\nmember_func(member1[0])\",\n",
       "  \"member2 = list(map(lambda member : {\\n                                    'name':member.get('name'),\\n                                    'year':int(member['birth'].split('-')[0]),\\n                                    'month':int(member['birth'].split('-')[1]),\\n                                    'day':int(member['birth'].split('-')[2])\\n                                    },\\n                  member1\\n                  )\\n              )\\nmember2\",\n",
       "  \"member2 = list(map(lambda member : {'name':member.get('name'),\\n                                    'year':int(member['birth'].split('-')[0]),\\n                                    'month':int(member['birth'].split('-')[1]),\\n                                    'day':int(member['birth'].split('-')[2])\\n                                    },\\n                  member1\\n                  )\\n              )\\nmember2\",\n",
       "  \"member2 = list(map(lambda member : {\\n                                    'name':member.get('name'),\\n                                    'year':int(member['birth'].split('-')[0]),\\n                                    'month':int(member['birth'].split('-')[1]),\\n                                    'day':int(member['birth'].split('-')[2])\\n                                    },\\n                  member1\\n                  )\\n              )\\nmember2\",\n",
       "  \"member2 = list(map(lambda member : {\\n                                    'name' : member.get('name'),\\n                                    'year' : int(member['birth'].split('-')[0]),\\n                                    'month' : int(member['birth'].split('-')[1]),\\n                                    'day' : int(member['birth'].split('-')[2])\\n                                    },\\n                  member1\\n                  )\\n              )\\nmember2\",\n",
       "  '\\'\\'\\'\\nex2. member1 = [{\\'name\\':\\'홍길동\\', \\'birth\\':\\'2000-01-01\\'},\\n                {\\'name\\':\\'신길동\\', \\'birth\\':\\'1998-12-31\\'},]를\\n    member2 =  [{\\'name\\':\\'홍길동\\', \\'year\\':2000, \\'month\\':1, \\'day\\':1},\\n                {\\'name\\':\\'신길동\\', \\'year\\':1998, \\'month\\':12, \\'day\\':31},]를 바꿉니다\\n\\'\\'\\'\\n# \\'2000-01-01\\' => {\\'year\\':1998, \\'month\\':12, \\'day\\':31}\\ndef split_data(data) :\\n    split_data = data.split(\\'-\\')\\n    return {\\'year\\' : int(split_data[0]),\\n            \\'month\\' : int(split_data[1]),\\n            \\'day\\' : int(split_data[2])}\\n\\ndef member_func(member) :\\n    \"{\\'name\\':\\'홍길동\\', \\'year\\':2000, \\'month\\':1, \\'day\\':1}\"\\n    return {\\n        \\'name\\' : member.get(\\'name\\'),\\n        \\'year\\' : int(member[\\'birth\\'].split(\\'-\\')[0]),\\n        \\'month\\' : int(member[\\'birth\\'].split(\\'-\\')[1]),\\n        \\'day\\' : int(member[\\'birth\\'].split(\\'-\\')[2])\\n    }',\n",
       "  \"member1 = [{'name':'홍길동', 'birth':'2000-01-01'},\\n                {'name':'신길동', 'birth':'1998-12-31'},]\\nmember_func(member1[0])\",\n",
       "  '\\'\\'\\'\\nex2. member1 = [{\\'name\\':\\'홍길동\\', \\'birth\\':\\'2000-01-01\\'},\\n                {\\'name\\':\\'신길동\\', \\'birth\\':\\'1998-12-31\\'},]를\\n    member2 =  [{\\'name\\':\\'홍길동\\', \\'year\\':2000, \\'month\\':1, \\'day\\':1},\\n                {\\'name\\':\\'신길동\\', \\'year\\':1998, \\'month\\':12, \\'day\\':31},]를 바꿉니다\\n\\'\\'\\'\\n# \\'2000-01-01\\' => {\\'year\\':1998, \\'month\\':12, \\'day\\':31}\\ndef split_data(data) :\\n    split_data = data.split(\\'-\\')\\n    return {\\'year\\' : int(split_data[0]),\\n            \\'month\\' : int(split_data[1]),\\n            \\'day\\' : int(split_data[2])}\\n\\ndef member_func(member) :\\n    \"{\\'name\\':\\'홍길동\\', \\'year\\':2000, \\'month\\':1, \\'day\\':1}\"\\n    return {\\n        \\'name\\':member.get(\\'name\\'),\\n        \\'year\\':int(member[\\'birth\\'].split(\\'-\\')[0]),\\n        \\'month\\':int(member[\\'birth\\'].split(\\'-\\')[1]),\\n        \\'day\\':int(member[\\'birth\\'].split(\\'-\\')[2])\\n    }',\n",
       "  \"member1 = [{'name':'홍길동', 'birth':'2000-01-01'},\\n                {'name':'신길동', 'birth':'1998-12-31'},]\\nmember_func(member1[0])\",\n",
       "  '\\'\\'\\'\\nex2. member1 = [{\\'name\\':\\'홍길동\\', \\'birth\\':\\'2000-01-01\\'},\\n                {\\'name\\':\\'신길동\\', \\'birth\\':\\'1998-12-31\\'},]를\\n    member2 =  [{\\'name\\':\\'홍길동\\', \\'year\\':2000, \\'month\\':1, \\'day\\':1},\\n                {\\'name\\':\\'신길동\\', \\'year\\':1998, \\'month\\':12, \\'day\\':31},]를 바꿉니다\\n\\'\\'\\'\\n# \\'2000-01-01\\' => {\\'year\\':1998, \\'month\\':12, \\'day\\':31}\\ndef split_data(data) :\\n    split_data = data.split(\\'-\\')\\n    return {\\'year\\':int(split_data[0]),\\n            \\'month\\':int(split_data[1]),\\n            \\'day\\':int(split_data[2])}\\n\\ndef member_func(member) :\\n    \"{\\'name\\':\\'홍길동\\', \\'year\\':2000, \\'month\\':1, \\'day\\':1}\"\\n    return {\\n        \\'name\\':member.get(\\'name\\'),\\n        \\'year\\':int(member[\\'birth\\'].split(\\'-\\')[0]),\\n        \\'month\\':int(member[\\'birth\\'].split(\\'-\\')[1]),\\n        \\'day\\':int(member[\\'birth\\'].split(\\'-\\')[2])\\n    }',\n",
       "  \"member1 = [{'name':'홍길동', 'birth':'2000-01-01'},\\n                {'name':'신길동', 'birth':'1998-12-31'},]\\nmember_func(member1[0])\",\n",
       "  '\\'\\'\\'\\nex2. member1 = [{\\'name\\':\\'홍길동\\', \\'birth\\':\\'2000-01-01\\'},\\n                {\\'name\\':\\'신길동\\', \\'birth\\':\\'1998-12-31\\'},]를\\n    member2 =  [{\\'name\\':\\'홍길동\\', \\'year\\':2000, \\'month\\':1, \\'day\\':1},\\n                {\\'name\\':\\'신길동\\', \\'year\\':1998, \\'month\\':12, \\'day\\':31},]를 바꿉니다\\n\\'\\'\\'\\n# \\'2000-01-01\\' => {\\'year\\':1998, \\'month\\':12, \\'day\\':31}\\ndef split_data(data) :\\n    split_data = data.split(\\'-\\')\\n    return {\\'year\\' : int(split_data[0]),\\n            \\'month\\' : int(split_data[1]),\\n            \\'day\\' : int(split_data[2])}\\n\\ndef member_func(member) :\\n    \"{\\'name\\':\\'홍길동\\', \\'year\\':2000, \\'month\\':1, \\'day\\':1}\"\\n    return {\\n        \\'name\\' : member.get(\\'name\\'),\\n        \\'year\\' : int(member[\\'birth\\'].split(\\'-\\')[0]),\\n        \\'month\\' : int(member[\\'birth\\'].split(\\'-\\')[1]),\\n        \\'day\\' : int(member[\\'birth\\'].split(\\'-\\')[2])\\n    }',\n",
       "  \"member1 = [{'name':'홍길동', 'birth':'2000-01-01'},\\n                {'name':'신길동', 'birth':'1998-12-31'},]\\nmember_func(member1[0])\",\n",
       "  '\\'ex3. member2를 member1로 바꿉니다\\'\\n\\ndef member2_func(member) :\\n    \"{\\'name\\':\\'홍길동\\', \\'birth\\':\\'2000-01-01\\'}\"\\n    return {\\n        \\'name\\' : member.get(\\'name\\'),\\n        \\'birth\\' : member.join(\\'year\\', \\'month\\', \\'day\\')\\n    }',\n",
       "  '\\'ex3. member2를 member1로 바꿉니다\\'\\n\\ndef member2_func(member) :\\n    \"{\\'name\\':\\'홍길동\\', \\'birth\\':\\'2000-01-01\\'}\"\\n    print ({\\n        \\'name\\' : member.get(\\'name\\'),\\n        \\'birth\\' : member.join(\\'year\\', \\'month\\', \\'day\\')\\n    })',\n",
       "  \"'ex3. member2를 member1로 바꿉니다'\\n\\ndef join_data(data) :\\n    year = str(data.get('year'))\\n    month = data.get('month')\\n    if month < 10 :\\n        month = '0' + str(month)\\n    else : \\n        month = str(month)\\n    day = data.get('day')\\n    if day < 10 :\\n        day = '0' + str(day)\\n    else : \\n        day = str(day)\\n    return '-'.join([year, month, day])\",\n",
       "  'def join_date(data) :\\n    print(\"{}-{}-{}\".format(data.get(\\'year\\'),\\n                            data.get(\\'month\\'),\\n                            data.get(\\'day\\')))',\n",
       "  'def join_date(data) :\\n    print(\"{}-{:02}-{:02}\".format(data.get(\\'year\\'),\\n                            data.get(\\'month\\'),\\n                            data.get(\\'day\\')))',\n",
       "  'def join_date(data) :\\n    return (\"{}-{:02}-{:02}\".format(data.get(\\'year\\'),\\n                                    data.get(\\'month\\'),\\n                                    data.get(\\'day\\')))',\n",
       "  'def join_date(data) :\\n    return(\"{year}-{month:02}-{day:02}\".format(\\n                                    year = data.get(\\'year\\'),\\n                                    month = data.get(\\'month\\'),\\n                                    day = data.get(\\'day\\')))',\n",
       "  \"list(map(lambda member : {\\n                        'name' : member.get('name'),\\n                        'birth' : '{year}-{month:02}-{day:02}'.format(**member)\\n                        },\\n         member2\\n))\",\n",
       "  'def filter_template(func, L = []) :\\n    result = []\\n    for l in L :\\n        if func(l) :\\n            result.append(L)',\n",
       "  'list_data = [1, 2, 3, 4, 5]\\nfilter_template(lambda value : value % 2 == 0, list_data)',\n",
       "  'list(filter(lambda value : value % 2 == 0, list_data))',\n",
       "  '[data for data in list_data if data % 2 == 0]',\n",
       "  'p = [9, 2, 7]\\np.sort(reverse = True)\\np',\n",
       "  'number2d = [[9, 9],\\n            [1, 100],\\n            [10, 1]]\\n\\nnumber2d.sort(reverse = True)\\nnumber2d',\n",
       "  'def filter_template(func, L = []) :\\n    result = []\\n    for l in L :\\n        if func(l) :\\n            result.append(l)\\n    return result',\n",
       "  'def evenChk(value) :\\n    return value % 2 == 0\\nevenChk(10), evenChk(-9)',\n",
       "  'list_data = [1, 2, 3, 4, 5]\\nfilter_template(lambda value : value % 2 == 0, list_data)',\n",
       "  \"# 무조건 0번째 item 기준으로 정렬\\n\\npairs = [(2, 'two'), (1, 'one'), (4, 'four'), (3, 'three')]\\npairs.sort()\\npairs\",\n",
       "  '# 1번째 item 기준으로 정렬 (abc순)\\n\\npairs.sort(key = lambda pair : pair[1])\\npairs',\n",
       "  '# 무조건 0번째 item 기준으로 정렬\\n\\nnumber2d = [[9, 9, 9, 9, 9, 9],\\n            [1, 100],\\n            [10, 1]]\\n\\nnumber2d.sort(reverse = True)  # 기본(reverse = False) : 오름차순정렬 / reverse = True : 내림차순정렬\\nnumber2d',\n",
       "  '# 합이 큰 순으로 정렬\\n\\nnumber2d.sort(key = lambda item : sum(item))',\n",
       "  '# 합이 큰 순으로 정렬\\n\\nnumber2d.sort(key = lambda item : sum(item))\\nnumber2d',\n",
       "  '# 합이 큰 순으로 정렬\\n\\nnumber2d.sort(key = lambda item : sum(item), reserve = True)\\nnumber2d',\n",
       "  '# 합이 큰 순으로 정렬\\n\\nnumber2d.sort(key = lambda item : sum(item), reverse = True)\\nnumber2d',\n",
       "  '# 리스트를 매개변수로 받아 합을 return\\n(lambda item : sum(item))([1, 2, 3])',\n",
       "  \"students = [\\n    {'name':'홍길동', 'score':90},\\n    {'name':'김길동', 'score':50},\\n    {'name':'윤길동', 'score':99}\\n]\",\n",
       "  '# 이름순으로 정렬 (ㄱㄴㄷ순)',\n",
       "  \"# 이름순으로 정렬 (ㄱㄴㄷ순)\\n\\nstudents.sort(key = lambda member : {\\n                                    'name' : member.get\\n})\",\n",
       "  \"# 이름순으로 정렬 (ㄱㄴㄷ순)\\n\\n\\n\\nstudents.sort(key = lambda name : {\\n                        'name' : name.get('name')\\n})\",\n",
       "  \"# 이름순으로 정렬 (ㄱㄴㄷ순)\\n\\n\\n\\nstudents.sort(key = lambda name : {\\n                        'name' : name.get('name')\\n                        },\\n              students\\n             )\",\n",
       "  \"students = [\\n    {'name':'홍길동', 'score':90},\\n    {'name':'김길동', 'score':50},\\n    {'name':'윤길동', 'score':99},\\n    {'score':100}\\n]\",\n",
       "  \"# 이름순으로 정렬 (ㄱㄴㄷ순)\\n\\nstudents.sort(key = lambda member : member.get('name', '힣'))\\nstudents\",\n",
       "  \"# score순으로 정렬 (내림차순정렬)\\n\\nstudents.sort(key = lambda score : score.get('score'), reverse)\",\n",
       "  \"# score순으로 정렬 (내림차순정렬)\\n\\nstudents.sort(key = lambda score : score.get('score'), reverse = True)\",\n",
       "  \"# score순으로 정렬 (내림차순정렬)\\n\\nstudents.sort(key = lambda score : score.get('score'), reverse = True)\\nstudents\",\n",
       "  \"# score순으로 정렬 (내림차순정렬)\\n\\nstudents.sort(key = lambda score : score.get('score', 0), reverse = True)\\nstudents\",\n",
       "  \"# 책제목순 정렬 (ㄱㄴㄷ순), 저자순 (ㄱㄴㄷ순), 가격순 (오름차순정렬)\\n\\nbook = [\\n    {'no':1, 'title':'강남 아파트 인사이트', 'writer':'오스틀', 'price':'25,000'},\\n    {'no':2, 'title':'단 한 번의 삶', 'writer':'김영하', 'price':'18,000'},\\n    {'no':3, 'title':'흔한남매 19', 'writer':'백난도', 'price':'14,200'},\\n    {'no':4, 'title':'가격이잘못', 'writer':'홍길동', 'price':'-'},\\n    {'no':5, 'title':'가격이숫자', 'writer':'신길동', 'price':900},\\n    {'no':6, 'title':'가격이없음', 'writer':'김길동'}\\n]\",\n",
       "  \"book.sort(key = lambda book : book.get('title'))\",\n",
       "  \"book.sort(key = lambda book : book.get('title'))\\nbook\",\n",
       "  \"book.sort(key = lambda book : book.get('writer'))\\nbook\",\n",
       "  \"# '14,000' => 14000 / 900 => 900 / '-' => 0\\n\\ndef parse_int(price) :\\n    print(type(price))\",\n",
       "  \"parse_int('800')\",\n",
       "  \"# '14,000' => 14000 / '2000' => 2000 / 800 => 800 / '-' => 0\\n\\ndef parse_int(price) :\\n#     print(type(price))\\n    if isinstance(price, str) & price.replace(',', '').isdigit() :\\n        return int(price.replace(',', ''))\\n    elif isinstance(price, int) :\\n        return price\",\n",
       "  'parse_int(8000)',\n",
       "  \"# '14,000' => 14000 / '2000' => 2000 / 800 => 800 / '-' => 0\\n\\ndef parse_int(price) :\\n#     print(type(price))\\n    if isinstance(price, str) & price.replace(',', '').isdigit() :\\n        return int(price.replace(',', ''))\\n    elif isinstance(price, int) :\\n        return price\",\n",
       "  'parse_int(8000)',\n",
       "  \"# '14,000' => 14000 / '2000' => 2000 / 800 => 800 / '-' => 0\\n\\ndef parse_int(price) :\\n#     print(type(price))\\n    if isinstance(price, str) and price.replace(',', '').isdigit() :\\n        return int(price.replace(',', ''))\\n    elif isinstance(price, int) :\\n        return price\",\n",
       "  'parse_int(8000)',\n",
       "  \"# '14,000' => 14000 / '2000' => 2000 / 800 => 800 / '-' => 0\\n\\ndef parse_int(price) :\\n#     print(type(price))\\n    if isinstance(price, str) & price.replace(',', '').isdigit() :\\n        return int(price.replace(',', ''))\\n    elif isinstance(price, int) :\\n        return price\",\n",
       "  'parse_int(8000)',\n",
       "  \"# '14,000' => 14000 / '2000' => 2000 / 800 => 800 / '-' => 0\\n\\ndef parse_int(price) :\\n#     print(type(price))\\n    if isinstance(price, str) & price.replace(',', '').isdigit() :\\n        return int(price.replace(',', ''))\\n    elif isinstance(price, int) :\\n        return price\\n    else :\\n        return 0\",\n",
       "  'parse_int(8000)',\n",
       "  \"# '14,000' => 14000 / '2000' => 2000 / 800 => 800 / '-' => 0\\n\\ndef parse_int(price) :\\n#     print(type(price))\\n    if isinstance(price, str) & (price.replace(',', '').isdigit()) :\\n        return int(price.replace(',', ''))\\n    elif isinstance(price, int) :\\n        return price\\n    else :\\n        return 0\",\n",
       "  'parse_int(8000)',\n",
       "  \"# '14,000' => 14000 / '2000' => 2000 / 800 => 800 / '-' => 0\\n\\ndef parse_int(price) :\\n#     print(type(price))\\n    if isinstance(price, str) and price.replace(',', '').isdigit() :\\n        return int(price.replace(',', ''))\\n    elif isinstance(price, int) :\\n        return price\\n    else :\\n        return 0\",\n",
       "  'parse_int(8000)',\n",
       "  \"parse_int('8,000'), parse_int('8000'), parse_int(8000), parse_int('-')\",\n",
       "  \"# {'no':6, 'title':'가격이없음', 'writer':'김길동'}\\n# {'no':3, 'title':'흔한남매 19', 'writer':'백난도', 'price':'14,200'}\\n# {'no':5, 'title':'가격이숫자', 'writer':'신길동', 'price':900}\\n\\ndef parse_int(book) :\\n    if isinstance(book.get('price'), str) and book.get('price').replace(',', '').isdigit() :\\n        return int(book.get('price').replace(',', ''))\\n    elif isinstance(book.get('price'), int) :\\n        return book.get('price')\\n    else :\\n        return 0\",\n",
       "  \"# {'no':6, 'title':'가격이없음', 'writer':'김길동'}\\n# {'no':3, 'title':'흔한남매 19', 'writer':'백난도', 'price':'14,200'}\\n# {'no':5, 'title':'가격이숫자', 'writer':'신길동', 'price':900}\\n\\ndef parse_int(book) :\\n    if isinstance(book.get('price'), str) and book.get('price').replace(',', '').isdigit() :\\n        return int(book.get('price').replace(',', ''))\\n    elif isinstance(book.get('price'), int) :\\n        return book.get('price')\\n    else :\\n        return 0\\n\\nparse_int(books[0])\",\n",
       "  \"# 책제목순 정렬 (ㄱㄴㄷ순), 저자순 (ㄱㄴㄷ순), 가격순 (오름차순정렬)\\n\\nbooks = [\\n    {'no':1, 'title':'강남 아파트 인사이트', 'writer':'오스틀', 'price':'25,000'},\\n    {'no':2, 'title':'단 한 번의 삶', 'writer':'김영하', 'price':'18,000'},\\n    {'no':3, 'title':'흔한남매 19', 'writer':'백난도', 'price':'14,200'},\\n    {'no':4, 'title':'가격이잘못', 'writer':'홍길동', 'price':'-'},\\n    {'no':5, 'title':'가격이숫자', 'writer':'신길동', 'price':900},\\n    {'no':6, 'title':'가격이없음', 'writer':'김길동'}\\n]\",\n",
       "  \"books.sort(key = lambda book : book.get('title'))\\nbooks\",\n",
       "  \"books.sort(key = lambda book : book.get('writer'))\\nbooks\",\n",
       "  \"# '14,000' => 14000 / '2000' => 2000 / 800 => 800 / '-' => 0\\n\\ndef parse_int(price) :\\n#     print(type(price))\\n    if isinstance(price, str) and price.replace(',', '').isdigit() :\\n        return int(price.replace(',', ''))\\n    elif isinstance(price, int) :\\n        return price\\n    else :\\n        return 0\",\n",
       "  \"parse_int('8,000'), parse_int('8000'), parse_int(8000), parse_int('-')\",\n",
       "  \"# {'no':6, 'title':'가격이없음', 'writer':'김길동'}\\n# {'no':3, 'title':'흔한남매 19', 'writer':'백난도', 'price':'14,200'}\\n# {'no':5, 'title':'가격이숫자', 'writer':'신길동', 'price':900}\\n\\ndef parse_int(book) :\\n    if isinstance(book.get('price'), str) and book.get('price').replace(',', '').isdigit() :\\n        return int(book.get('price').replace(',', ''))\\n    elif isinstance(book.get('price'), int) :\\n        return book.get('price')\\n    else :\\n        return 0\\n\\nparse_int(books[0])\",\n",
       "  \"# {'no':6, 'title':'가격이없음', 'writer':'김길동'}\\n# {'no':3, 'title':'흔한남매 19', 'writer':'백난도', 'price':'14,200'}\\n# {'no':5, 'title':'가격이숫자', 'writer':'신길동', 'price':900}\\n\\ndef parse_int(book) :\\n    if isinstance(book.get('price'), str) and book.get('price').replace(',', '').isdigit() :\\n        return int(book.get('price').replace(',', ''))\\n    elif isinstance(book.get('price'), int) :\\n        return book.get('price')\\n    else :\\n        return 0\\n\\nparse_int(books[0]), parse_int(books[3]), parse_int(books[2]), parse_int(books[5])\",\n",
       "  'copy_books = books.copy()\\ncop_books',\n",
       "  'copy_books = books.copy()\\ncopy_books',\n",
       "  'copy_books = books.copy()',\n",
       "  \"copy_books.sort(key = lambda book : \\n                int(book.get('price').replace(',', '')) \\\\\\n                   if isinstance(book.get('price'), str) and \\\\\\n                    book.get('price').replace(',', '').isdigit() else \\\\\\n                book.get('price') if isinstance(book.get('price'), int) else \\\\\\n               0               \\n               )\",\n",
       "  'copy_books',\n",
       "  '# 함수를 return\\n\\ndef make_box(shape) :  # shape : [l] => Len가 l인 list를 생성하는 함수 return\\n                       #         [r, c] => r행 c열인 2차원 list를 생성하는 함수 return\\n                       #         [d, r, c] => d면 r행 c열인 3차원 list를 생성하는 함수 return\\n    def box(init_value) :\\n        if len(shape) == 1 :\\n            return [init_value] * shape[0]\\n        elif len(shape) == 2 :\\n            return [[init_value] * shape[1]] * shape[0]\\n        return box',\n",
       "  'line_func = make_box([2, 3])\\nline_func(3)',\n",
       "  '# 함수를 return\\n\\ndef make_box(shape) :  # shape : [l] => Len가 l인 list를 생성하는 함수 return\\n                       #         [r, c] => r행 c열인 2차원 list를 생성하는 함수 return\\n                       #         [d, r, c] => d면 r행 c열인 3차원 list를 생성하는 함수 return\\n    def box(init_value) :\\n        if len(shape) == 1 :\\n            return [init_value] * shape[0]\\n        elif len(shape) == 2 :\\n            return [[init_value] * shape[1]] * shape[0]\\n    return box',\n",
       "  'line_func = make_box([2, 3])\\nline_func(3)',\n",
       "  'line_func1 = make_box([10])\\nline_func1(3)',\n",
       "  'all(True, True, True, True)',\n",
       "  'all([True, True, True, True])',\n",
       "  'all([True, True, True, False])  # 전부 True인지 여부',\n",
       "  'round(3.5)',\n",
       "  'round(3.5)  # 반올림',\n",
       "  'import numpy as np  # numpy 모듈을 np라는 이름으로 load\\n\\nnp.round(3.5), np.ceil(3.1), np.floor(3.8)  # 반올림, 올림, 내림',\n",
       "  'globlas()  # 전역변수 리스트',\n",
       "  'globaㅣs()  # 전역변수 리스트',\n",
       "  'globals()  # 전역변수 리스트'],\n",
       " 'Out': {3: [[1, 2, 3, 4, 5, 6, 7, 8, 9, 10, 1, 2, 3, 4, 5, 6, 7, 8, 9, 10],\n",
       "   [1, 2, 3, 4, 5, 6, 7, 8, 9, 10, 1, 2, 3, 4, 5, 6, 7, 8, 9, 10],\n",
       "   [1, 2, 3, 4, 5, 6, 7, 8, 9, 10, 1, 2, 3, 4, 5, 6, 7, 8, 9, 10],\n",
       "   [1, 2, 3, 4, 5, 6, 7, 8, 9, 10, 1, 2, 3, 4, 5, 6, 7, 8, 9, 10],\n",
       "   [1, 2, 3, 4, 5, 6, 7, 8, 9, 10, 1, 2, 3, 4, 5, 6, 7, 8, 9, 10],\n",
       "   [1, 2, 3, 4, 5, 6, 7, 8, 9, 10, 1, 2, 3, 4, 5, 6, 7, 8, 9, 10],\n",
       "   [1, 2, 3, 4, 5, 6, 7, 8, 9, 10, 1, 2, 3, 4, 5, 6, 7, 8, 9, 10],\n",
       "   [1, 2, 3, 4, 5, 6, 7, 8, 9, 10, 1, 2, 3, 4, 5, 6, 7, 8, 9, 10],\n",
       "   [1, 2, 3, 4, 5, 6, 7, 8, 9, 10, 1, 2, 3, 4, 5, 6, 7, 8, 9, 10],\n",
       "   [1, 2, 3, 4, 5, 6, 7, 8, 9, 10, 1, 2, 3, 4, 5, 6, 7, 8, 9, 10]],\n",
       "  5: [2, 4, 6, 8, 10, 12, 14, 16, 18, 20],\n",
       "  6: [2, 4, 6, 8, 10, 12, 14, 16, 18, 20],\n",
       "  7: [2, 4, 6, 8, 10, 12, 14, 16, 18, 20],\n",
       "  9: [2, 4, 6, 8, 10, 12, 14, 16, 18, 20],\n",
       "  13: <map at 0x1ab159ddfc0>,\n",
       "  14: ['5000', '800', '1000', '6000'],\n",
       "  15: \"\\nex2. member1 = [{'name':'홍길동', 'birth':'2000-01-01'},\\n                {'name':'신길동', 'birth':'1998-12-31'},]를\\n    member2 =  [{'name':'홍길동', 'year':2000, 'month':1, 'day':1},\\n                {'name':'신길동', 'year':1998, 'month':12, 'day':31},]를 바꿉니다\\n\",\n",
       "  16: ['5000', '800', '1000', '6000'],\n",
       "  19: {'name': '홍길동', 'year': 2000, 'month': 1, 'day': 1},\n",
       "  21: {'name': '홍길동', 'year': 2000, 'month': 1, 'day': 1},\n",
       "  22: [{'name': '홍길동', 'year': 2000, 'month': 1, 'day': 1},\n",
       "   {'name': '신길동', 'year': 1998, 'month': 12, 'day': 31}],\n",
       "  23: [{'name': '홍길동', 'year': 2000, 'month': 1, 'day': 1},\n",
       "   {'name': '신길동', 'year': 1998, 'month': 12, 'day': 31}],\n",
       "  24: [{'name': '홍길동', 'year': 2000, 'month': 1, 'day': 1},\n",
       "   {'name': '신길동', 'year': 1998, 'month': 12, 'day': 31}],\n",
       "  25: [{'name': '홍길동', 'year': 2000, 'month': 1, 'day': 1},\n",
       "   {'name': '신길동', 'year': 1998, 'month': 12, 'day': 31}],\n",
       "  27: {'name': '홍길동', 'year': 2000, 'month': 1, 'day': 1},\n",
       "  29: {'name': '홍길동', 'year': 2000, 'month': 1, 'day': 1},\n",
       "  31: {'name': '홍길동', 'year': 2000, 'month': 1, 'day': 1},\n",
       "  33: {'name': '홍길동', 'year': 2000, 'month': 1, 'day': 1},\n",
       "  41: [{'name': '홍길동', 'birth': '2000-01-01'},\n",
       "   {'name': '신길동', 'birth': '1998-12-31'}],\n",
       "  44: [2, 4],\n",
       "  45: [2, 4],\n",
       "  46: [9, 7, 2],\n",
       "  47: [[10, 1], [9, 9], [1, 100]],\n",
       "  49: (True, False),\n",
       "  50: [2, 4],\n",
       "  51: [(4, 'four'), (1, 'one'), (3, 'three'), (2, 'two')],\n",
       "  52: [(4, 'four'), (1, 'one'), (3, 'three'), (2, 'two')],\n",
       "  53: [[1, 100], [9, 9, 9, 9, 9, 9], [10, 1]],\n",
       "  55: [[1, 100], [9, 9, 9, 9, 9, 9], [10, 1]],\n",
       "  57: [[1, 100], [9, 9, 9, 9, 9, 9], [10, 1]],\n",
       "  58: 6,\n",
       "  65: [{'score': 100},\n",
       "   {'name': '윤길동', 'score': 99},\n",
       "   {'name': '홍길동', 'score': 90},\n",
       "   {'name': '김길동', 'score': 50}],\n",
       "  68: [{'score': 100},\n",
       "   {'name': '윤길동', 'score': 99},\n",
       "   {'name': '홍길동', 'score': 90},\n",
       "   {'name': '김길동', 'score': 50}],\n",
       "  69: [{'score': 100},\n",
       "   {'name': '윤길동', 'score': 99},\n",
       "   {'name': '홍길동', 'score': 90},\n",
       "   {'name': '김길동', 'score': 50}],\n",
       "  72: [{'no': 6, 'title': '가격이없음', 'writer': '김길동'},\n",
       "   {'no': 2, 'title': '단 한 번의 삶', 'writer': '김영하', 'price': '18,000'},\n",
       "   {'no': 3, 'title': '흔한남매 19', 'writer': '백난도', 'price': '14,200'},\n",
       "   {'no': 5, 'title': '가격이숫자', 'writer': '신길동', 'price': 900},\n",
       "   {'no': 1, 'title': '강남 아파트 인사이트', 'writer': '오스틀', 'price': '25,000'},\n",
       "   {'no': 4, 'title': '가격이잘못', 'writer': '홍길동', 'price': '-'}],\n",
       "  73: [{'no': 6, 'title': '가격이없음', 'writer': '김길동'},\n",
       "   {'no': 2, 'title': '단 한 번의 삶', 'writer': '김영하', 'price': '18,000'},\n",
       "   {'no': 3, 'title': '흔한남매 19', 'writer': '백난도', 'price': '14,200'},\n",
       "   {'no': 5, 'title': '가격이숫자', 'writer': '신길동', 'price': 900},\n",
       "   {'no': 1, 'title': '강남 아파트 인사이트', 'writer': '오스틀', 'price': '25,000'},\n",
       "   {'no': 4, 'title': '가격이잘못', 'writer': '홍길동', 'price': '-'}],\n",
       "  81: 8000,\n",
       "  89: 8000,\n",
       "  90: (8000, 8000, 8000, 0),\n",
       "  94: [{'no': 6, 'title': '가격이없음', 'writer': '김길동'},\n",
       "   {'no': 2, 'title': '단 한 번의 삶', 'writer': '김영하', 'price': '18,000'},\n",
       "   {'no': 3, 'title': '흔한남매 19', 'writer': '백난도', 'price': '14,200'},\n",
       "   {'no': 5, 'title': '가격이숫자', 'writer': '신길동', 'price': 900},\n",
       "   {'no': 1, 'title': '강남 아파트 인사이트', 'writer': '오스틀', 'price': '25,000'},\n",
       "   {'no': 4, 'title': '가격이잘못', 'writer': '홍길동', 'price': '-'}],\n",
       "  95: [{'no': 6, 'title': '가격이없음', 'writer': '김길동'},\n",
       "   {'no': 2, 'title': '단 한 번의 삶', 'writer': '김영하', 'price': '18,000'},\n",
       "   {'no': 3, 'title': '흔한남매 19', 'writer': '백난도', 'price': '14,200'},\n",
       "   {'no': 5, 'title': '가격이숫자', 'writer': '신길동', 'price': 900},\n",
       "   {'no': 1, 'title': '강남 아파트 인사이트', 'writer': '오스틀', 'price': '25,000'},\n",
       "   {'no': 4, 'title': '가격이잘못', 'writer': '홍길동', 'price': '-'}],\n",
       "  97: (8000, 8000, 8000, 0),\n",
       "  98: 0,\n",
       "  99: (0, 900, 14200, 0),\n",
       "  101: [{'no': 6, 'title': '가격이없음', 'writer': '김길동'},\n",
       "   {'no': 2, 'title': '단 한 번의 삶', 'writer': '김영하', 'price': '18,000'},\n",
       "   {'no': 3, 'title': '흔한남매 19', 'writer': '백난도', 'price': '14,200'},\n",
       "   {'no': 5, 'title': '가격이숫자', 'writer': '신길동', 'price': 900},\n",
       "   {'no': 1, 'title': '강남 아파트 인사이트', 'writer': '오스틀', 'price': '25,000'},\n",
       "   {'no': 4, 'title': '가격이잘못', 'writer': '홍길동', 'price': '-'}],\n",
       "  104: [{'no': 6, 'title': '가격이없음', 'writer': '김길동'},\n",
       "   {'no': 4, 'title': '가격이잘못', 'writer': '홍길동', 'price': '-'},\n",
       "   {'no': 5, 'title': '가격이숫자', 'writer': '신길동', 'price': 900},\n",
       "   {'no': 3, 'title': '흔한남매 19', 'writer': '백난도', 'price': '14,200'},\n",
       "   {'no': 2, 'title': '단 한 번의 삶', 'writer': '김영하', 'price': '18,000'},\n",
       "   {'no': 1, 'title': '강남 아파트 인사이트', 'writer': '오스틀', 'price': '25,000'}],\n",
       "  108: [[3, 3, 3], [3, 3, 3]],\n",
       "  109: [3, 3, 3, 3, 3, 3, 3, 3, 3, 3],\n",
       "  111: True,\n",
       "  112: False,\n",
       "  113: 4,\n",
       "  114: 4,\n",
       "  115: (4.0, 4.0, 3.0)},\n",
       " 'get_ipython': <bound method InteractiveShell.get_ipython of <ipykernel.zmqshell.ZMQInteractiveShell object at 0x000001AB1531FD60>>,\n",
       " 'exit': <IPython.core.autocall.ZMQExitAutocall at 0x1ab1532f5e0>,\n",
       " 'quit': <IPython.core.autocall.ZMQExitAutocall at 0x1ab1532f5e0>,\n",
       " 'open': <function io.open(file, mode='r', buffering=-1, encoding=None, errors=None, newline=None, closefd=True, opener=None)>,\n",
       " '_': (4.0, 4.0, 3.0),\n",
       " '__': 4,\n",
       " '___': 4,\n",
       " '_i': 'globaㅣs()  # 전역변수 리스트',\n",
       " '_ii': 'globlas()  # 전역변수 리스트',\n",
       " '_iii': 'import numpy as np  # numpy 모듈을 np라는 이름으로 load\\n\\nnp.round(3.5), np.ceil(3.1), np.floor(3.8)  # 반올림, 올림, 내림',\n",
       " '_i1': 'from IPython.display import display, HTML\\ndisplay(HTML(\"\"\"<style>\\ndiv.container{width:86% !important;}\\ndiv.cell.code_cell.rendered{width:100%;}\\ndiv.CodeMirror {font-family:Consolas; font-size:12pt;}\\ndiv.output {font-size:12pt; font-weight:bold;}\\ndiv.input {font-family:Consolas; font-size:12pt;}\\ndiv.prompt {min-width:70px;}\\ndiv#toc-wrapper{padding-top:120px;}\\ndiv.text_cell_render ul li{fontsize:12pt;padding:5px;}\\ntable.dataframe{font-size:12px;}))\\n</style>\\n\"\"\"))',\n",
       " 'display': <function IPython.core.display_functions.display(*objs, include=None, exclude=None, metadata=None, transient=None, display_id=None, raw=False, clear=False, **kwargs)>,\n",
       " 'HTML': IPython.core.display.HTML,\n",
       " '_i2': \"def map_template(func, L) :\\n    '''\\n    L의 모든 요소를 func()함수를 적용시켜 return\\n    [2, 4, 6]\\n    '''\\n    result = []\\n    for l in L :\\n        result.append(func(L))\\n#     result = [func(l) for l in L]\\n    return result\",\n",
       " 'map_template': <function __main__.map_template(func, L)>,\n",
       " '_i3': 'list_data = [1, 2, 3, 4, 5, 6, 7, 8, 9, 10]\\n\\ndef x_2(x) :\\n    return x*2\\n\\nmap_template(x_2, list_data)',\n",
       " 'list_data': [1, 2, 3, 4, 5],\n",
       " 'x_2': <function __main__.x_2(x)>,\n",
       " '_3': [[1, 2, 3, 4, 5, 6, 7, 8, 9, 10, 1, 2, 3, 4, 5, 6, 7, 8, 9, 10],\n",
       "  [1, 2, 3, 4, 5, 6, 7, 8, 9, 10, 1, 2, 3, 4, 5, 6, 7, 8, 9, 10],\n",
       "  [1, 2, 3, 4, 5, 6, 7, 8, 9, 10, 1, 2, 3, 4, 5, 6, 7, 8, 9, 10],\n",
       "  [1, 2, 3, 4, 5, 6, 7, 8, 9, 10, 1, 2, 3, 4, 5, 6, 7, 8, 9, 10],\n",
       "  [1, 2, 3, 4, 5, 6, 7, 8, 9, 10, 1, 2, 3, 4, 5, 6, 7, 8, 9, 10],\n",
       "  [1, 2, 3, 4, 5, 6, 7, 8, 9, 10, 1, 2, 3, 4, 5, 6, 7, 8, 9, 10],\n",
       "  [1, 2, 3, 4, 5, 6, 7, 8, 9, 10, 1, 2, 3, 4, 5, 6, 7, 8, 9, 10],\n",
       "  [1, 2, 3, 4, 5, 6, 7, 8, 9, 10, 1, 2, 3, 4, 5, 6, 7, 8, 9, 10],\n",
       "  [1, 2, 3, 4, 5, 6, 7, 8, 9, 10, 1, 2, 3, 4, 5, 6, 7, 8, 9, 10],\n",
       "  [1, 2, 3, 4, 5, 6, 7, 8, 9, 10, 1, 2, 3, 4, 5, 6, 7, 8, 9, 10]],\n",
       " '_i4': \"def map_template(func, L) :\\n    '''\\n    L의 모든 요소를 func()함수를 적용시켜 return\\n    [2, 4, 6]\\n    '''\\n    result = []\\n    for l in L :\\n        result.append(func(l))\\n#     result = [func(l) for l in L]\\n    return result\",\n",
       " '_i5': 'list_data = [1, 2, 3, 4, 5, 6, 7, 8, 9, 10]\\n\\ndef x_2(x) :\\n    return x*2\\n\\nmap_template(x_2, list_data)',\n",
       " '_5': [2, 4, 6, 8, 10, 12, 14, 16, 18, 20],\n",
       " '_i6': 'map_template(lambda x : x * 2, list_data)',\n",
       " '_6': [2, 4, 6, 8, 10, 12, 14, 16, 18, 20],\n",
       " '_i7': '# 리스트 데이터를 가공 방법 2. 리스트 컴프리헨션\\n\\n[l * 2 for l in list_data]',\n",
       " '_7': [2, 4, 6, 8, 10, 12, 14, 16, 18, 20],\n",
       " '_i8': \"'''\\nex1. [5000, 800, 1000, 6000]으로 바꾸시오\\n'''\\n\\nprices = ['5,000', '800', '1,000', '6,000']\",\n",
       " 'prices': ['5,000', '800', '1,000', '6,000'],\n",
       " '_i9': '# 리스트 데이터를 가공 방법 3. map() : 파이썬 내장함수\\n\\nlist(map(lambda x : x * 2, list_data))',\n",
       " '_9': [2, 4, 6, 8, 10, 12, 14, 16, 18, 20],\n",
       " '_i10': \"for item in map(lambda x : x * 2, list_data) :\\n    print(item, end = ' ')\",\n",
       " 'item': 20,\n",
       " '_i11': \"'''\\nex1. [5000, 800, 1000, 6000]으로 바꾸시오\\n'''\\n\\nprices = ['5,000', '800', '1,000', '6,000']\",\n",
       " '_i12': \"map(lambda prices : prices.replace(',', ''))\",\n",
       " '_i13': \"map(lambda price : price.replace(',', ''), prices)\",\n",
       " '_13': <map at 0x1ab159ddfc0>,\n",
       " '_i14': \"list(map(lambda price : price.replace(',', ''), prices))\",\n",
       " '_14': ['5000', '800', '1000', '6000'],\n",
       " '_i15': \"'''\\nex2. member1 = [{'name':'홍길동', 'birth':'2000-01-01'},\\n                {'name':'신길동', 'birth':'1998-12-31'},]를\\n    member2 =  [{'name':'홍길동', 'year':2000, 'month':1, 'day':1},\\n                {'name':'신길동', 'year':1998, 'month':12, 'day':31},]를 바꿉니다\\n'''\",\n",
       " '_15': \"\\nex2. member1 = [{'name':'홍길동', 'birth':'2000-01-01'},\\n                {'name':'신길동', 'birth':'1998-12-31'},]를\\n    member2 =  [{'name':'홍길동', 'year':2000, 'month':1, 'day':1},\\n                {'name':'신길동', 'year':1998, 'month':12, 'day':31},]를 바꿉니다\\n\",\n",
       " '_i16': \"'''\\nex1. [5000, 800, 1000, 6000]으로 바꾸시오\\n'''\\n\\nprices = ['5,000', '800', '1,000', '6,000']\\n\\nlist(map(lambda price : price.replace(',', ''), prices))\",\n",
       " '_16': ['5000', '800', '1000', '6000'],\n",
       " '_i17': \"member1 = [{'name':'홍길동', 'birth':'2000-01-01'},\\n                {'name':'신길동', 'birth':'1998-12-31'},]\\nmember_func(member1[0])\",\n",
       " 'member1': [{'name': '홍길동', 'birth': '2000-01-01'},\n",
       "  {'name': '신길동', 'birth': '1998-12-31'}],\n",
       " '_i18': '\\'\\'\\'\\nex2. member1 = [{\\'name\\':\\'홍길동\\', \\'birth\\':\\'2000-01-01\\'},\\n                {\\'name\\':\\'신길동\\', \\'birth\\':\\'1998-12-31\\'},]를\\n    member2 =  [{\\'name\\':\\'홍길동\\', \\'year\\':2000, \\'month\\':1, \\'day\\':1},\\n                {\\'name\\':\\'신길동\\', \\'year\\':1998, \\'month\\':12, \\'day\\':31},]를 바꿉니다\\n\\'\\'\\'\\n\\ndef split_data(data) :\\n    split_data = data.split(\\'-\\')\\n    return {\\'year\\' : int(split_data[0]),\\n            \\'month\\' : int(split_data[1]),\\n            \\'day\\' : int(split_data[2])}\\n\\ndef member_func(member) :\\n    \"{\\'name\\':\\'홍길동\\', \\'year\\':2000, \\'month\\':1, \\'day\\':1}\"\\n    return {\\n        \\'name\\':member.get(\\'name\\'),\\n        \\'year\\':int(member[\\'birth\\'].split(\\'-\\')[0]),\\n        \\'month\\':int(member[\\'birth\\'].split(\\'-\\')[1]),\\n        \\'day\\':int(member[\\'birth\\'].split(\\'-\\')[2])\\n    }',\n",
       " 'split_data': <function __main__.split_data(data)>,\n",
       " 'member_func': <function __main__.member_func(member)>,\n",
       " '_i19': \"member1 = [{'name':'홍길동', 'birth':'2000-01-01'},\\n                {'name':'신길동', 'birth':'1998-12-31'},]\\nmember_func(member1[0])\",\n",
       " '_19': {'name': '홍길동', 'year': 2000, 'month': 1, 'day': 1},\n",
       " '_i20': \"member1 = [{'name':'홍길동', 'birth':'2000-01-01'},\\n                {'name':'신길동', 'birth':'1998-12-31'},]\\nmember2 =  [{'name':'홍길동', 'year':2000, 'month':1, 'day':1},\\n                {'name':'신길동', 'year':1998, 'month':12, 'day':31}]\\n\\nmember_func(member1[0]), member_func(member2[0])\",\n",
       " 'member2': [{'name': '홍길동', 'year': 2000, 'month': 1, 'day': 1},\n",
       "  {'name': '신길동', 'year': 1998, 'month': 12, 'day': 31}],\n",
       " '_i21': \"member1 = [{'name':'홍길동', 'birth':'2000-01-01'},\\n                {'name':'신길동', 'birth':'1998-12-31'},]\\nmember_func(member1[0])\",\n",
       " '_21': {'name': '홍길동', 'year': 2000, 'month': 1, 'day': 1},\n",
       " '_i22': \"member2 = list(map(lambda member : {\\n                                    'name':member.get('name'),\\n                                    'year':int(member['birth'].split('-')[0]),\\n                                    'month':int(member['birth'].split('-')[1]),\\n                                    'day':int(member['birth'].split('-')[2])\\n                                    },\\n                  member1\\n                  )\\n              )\\nmember2\",\n",
       " '_22': [{'name': '홍길동', 'year': 2000, 'month': 1, 'day': 1},\n",
       "  {'name': '신길동', 'year': 1998, 'month': 12, 'day': 31}],\n",
       " '_i23': \"member2 = list(map(lambda member : {'name':member.get('name'),\\n                                    'year':int(member['birth'].split('-')[0]),\\n                                    'month':int(member['birth'].split('-')[1]),\\n                                    'day':int(member['birth'].split('-')[2])\\n                                    },\\n                  member1\\n                  )\\n              )\\nmember2\",\n",
       " '_23': [{'name': '홍길동', 'year': 2000, 'month': 1, 'day': 1},\n",
       "  {'name': '신길동', 'year': 1998, 'month': 12, 'day': 31}],\n",
       " '_i24': \"member2 = list(map(lambda member : {\\n                                    'name':member.get('name'),\\n                                    'year':int(member['birth'].split('-')[0]),\\n                                    'month':int(member['birth'].split('-')[1]),\\n                                    'day':int(member['birth'].split('-')[2])\\n                                    },\\n                  member1\\n                  )\\n              )\\nmember2\",\n",
       " '_24': [{'name': '홍길동', 'year': 2000, 'month': 1, 'day': 1},\n",
       "  {'name': '신길동', 'year': 1998, 'month': 12, 'day': 31}],\n",
       " '_i25': \"member2 = list(map(lambda member : {\\n                                    'name' : member.get('name'),\\n                                    'year' : int(member['birth'].split('-')[0]),\\n                                    'month' : int(member['birth'].split('-')[1]),\\n                                    'day' : int(member['birth'].split('-')[2])\\n                                    },\\n                  member1\\n                  )\\n              )\\nmember2\",\n",
       " '_25': [{'name': '홍길동', 'year': 2000, 'month': 1, 'day': 1},\n",
       "  {'name': '신길동', 'year': 1998, 'month': 12, 'day': 31}],\n",
       " '_i26': '\\'\\'\\'\\nex2. member1 = [{\\'name\\':\\'홍길동\\', \\'birth\\':\\'2000-01-01\\'},\\n                {\\'name\\':\\'신길동\\', \\'birth\\':\\'1998-12-31\\'},]를\\n    member2 =  [{\\'name\\':\\'홍길동\\', \\'year\\':2000, \\'month\\':1, \\'day\\':1},\\n                {\\'name\\':\\'신길동\\', \\'year\\':1998, \\'month\\':12, \\'day\\':31},]를 바꿉니다\\n\\'\\'\\'\\n# \\'2000-01-01\\' => {\\'year\\':1998, \\'month\\':12, \\'day\\':31}\\ndef split_data(data) :\\n    split_data = data.split(\\'-\\')\\n    return {\\'year\\' : int(split_data[0]),\\n            \\'month\\' : int(split_data[1]),\\n            \\'day\\' : int(split_data[2])}\\n\\ndef member_func(member) :\\n    \"{\\'name\\':\\'홍길동\\', \\'year\\':2000, \\'month\\':1, \\'day\\':1}\"\\n    return {\\n        \\'name\\' : member.get(\\'name\\'),\\n        \\'year\\' : int(member[\\'birth\\'].split(\\'-\\')[0]),\\n        \\'month\\' : int(member[\\'birth\\'].split(\\'-\\')[1]),\\n        \\'day\\' : int(member[\\'birth\\'].split(\\'-\\')[2])\\n    }',\n",
       " '_i27': \"member1 = [{'name':'홍길동', 'birth':'2000-01-01'},\\n                {'name':'신길동', 'birth':'1998-12-31'},]\\nmember_func(member1[0])\",\n",
       " '_27': {'name': '홍길동', 'year': 2000, 'month': 1, 'day': 1},\n",
       " '_i28': '\\'\\'\\'\\nex2. member1 = [{\\'name\\':\\'홍길동\\', \\'birth\\':\\'2000-01-01\\'},\\n                {\\'name\\':\\'신길동\\', \\'birth\\':\\'1998-12-31\\'},]를\\n    member2 =  [{\\'name\\':\\'홍길동\\', \\'year\\':2000, \\'month\\':1, \\'day\\':1},\\n                {\\'name\\':\\'신길동\\', \\'year\\':1998, \\'month\\':12, \\'day\\':31},]를 바꿉니다\\n\\'\\'\\'\\n# \\'2000-01-01\\' => {\\'year\\':1998, \\'month\\':12, \\'day\\':31}\\ndef split_data(data) :\\n    split_data = data.split(\\'-\\')\\n    return {\\'year\\' : int(split_data[0]),\\n            \\'month\\' : int(split_data[1]),\\n            \\'day\\' : int(split_data[2])}\\n\\ndef member_func(member) :\\n    \"{\\'name\\':\\'홍길동\\', \\'year\\':2000, \\'month\\':1, \\'day\\':1}\"\\n    return {\\n        \\'name\\':member.get(\\'name\\'),\\n        \\'year\\':int(member[\\'birth\\'].split(\\'-\\')[0]),\\n        \\'month\\':int(member[\\'birth\\'].split(\\'-\\')[1]),\\n        \\'day\\':int(member[\\'birth\\'].split(\\'-\\')[2])\\n    }',\n",
       " '_i29': \"member1 = [{'name':'홍길동', 'birth':'2000-01-01'},\\n                {'name':'신길동', 'birth':'1998-12-31'},]\\nmember_func(member1[0])\",\n",
       " '_29': {'name': '홍길동', 'year': 2000, 'month': 1, 'day': 1},\n",
       " '_i30': '\\'\\'\\'\\nex2. member1 = [{\\'name\\':\\'홍길동\\', \\'birth\\':\\'2000-01-01\\'},\\n                {\\'name\\':\\'신길동\\', \\'birth\\':\\'1998-12-31\\'},]를\\n    member2 =  [{\\'name\\':\\'홍길동\\', \\'year\\':2000, \\'month\\':1, \\'day\\':1},\\n                {\\'name\\':\\'신길동\\', \\'year\\':1998, \\'month\\':12, \\'day\\':31},]를 바꿉니다\\n\\'\\'\\'\\n# \\'2000-01-01\\' => {\\'year\\':1998, \\'month\\':12, \\'day\\':31}\\ndef split_data(data) :\\n    split_data = data.split(\\'-\\')\\n    return {\\'year\\':int(split_data[0]),\\n            \\'month\\':int(split_data[1]),\\n            \\'day\\':int(split_data[2])}\\n\\ndef member_func(member) :\\n    \"{\\'name\\':\\'홍길동\\', \\'year\\':2000, \\'month\\':1, \\'day\\':1}\"\\n    return {\\n        \\'name\\':member.get(\\'name\\'),\\n        \\'year\\':int(member[\\'birth\\'].split(\\'-\\')[0]),\\n        \\'month\\':int(member[\\'birth\\'].split(\\'-\\')[1]),\\n        \\'day\\':int(member[\\'birth\\'].split(\\'-\\')[2])\\n    }',\n",
       " '_i31': \"member1 = [{'name':'홍길동', 'birth':'2000-01-01'},\\n                {'name':'신길동', 'birth':'1998-12-31'},]\\nmember_func(member1[0])\",\n",
       " '_31': {'name': '홍길동', 'year': 2000, 'month': 1, 'day': 1},\n",
       " '_i32': '\\'\\'\\'\\nex2. member1 = [{\\'name\\':\\'홍길동\\', \\'birth\\':\\'2000-01-01\\'},\\n                {\\'name\\':\\'신길동\\', \\'birth\\':\\'1998-12-31\\'},]를\\n    member2 =  [{\\'name\\':\\'홍길동\\', \\'year\\':2000, \\'month\\':1, \\'day\\':1},\\n                {\\'name\\':\\'신길동\\', \\'year\\':1998, \\'month\\':12, \\'day\\':31},]를 바꿉니다\\n\\'\\'\\'\\n# \\'2000-01-01\\' => {\\'year\\':1998, \\'month\\':12, \\'day\\':31}\\ndef split_data(data) :\\n    split_data = data.split(\\'-\\')\\n    return {\\'year\\' : int(split_data[0]),\\n            \\'month\\' : int(split_data[1]),\\n            \\'day\\' : int(split_data[2])}\\n\\ndef member_func(member) :\\n    \"{\\'name\\':\\'홍길동\\', \\'year\\':2000, \\'month\\':1, \\'day\\':1}\"\\n    return {\\n        \\'name\\' : member.get(\\'name\\'),\\n        \\'year\\' : int(member[\\'birth\\'].split(\\'-\\')[0]),\\n        \\'month\\' : int(member[\\'birth\\'].split(\\'-\\')[1]),\\n        \\'day\\' : int(member[\\'birth\\'].split(\\'-\\')[2])\\n    }',\n",
       " '_i33': \"member1 = [{'name':'홍길동', 'birth':'2000-01-01'},\\n                {'name':'신길동', 'birth':'1998-12-31'},]\\nmember_func(member1[0])\",\n",
       " '_33': {'name': '홍길동', 'year': 2000, 'month': 1, 'day': 1},\n",
       " '_i34': '\\'ex3. member2를 member1로 바꿉니다\\'\\n\\ndef member2_func(member) :\\n    \"{\\'name\\':\\'홍길동\\', \\'birth\\':\\'2000-01-01\\'}\"\\n    return {\\n        \\'name\\' : member.get(\\'name\\'),\\n        \\'birth\\' : member.join(\\'year\\', \\'month\\', \\'day\\')\\n    }',\n",
       " 'member2_func': <function __main__.member2_func(member)>,\n",
       " '_i35': '\\'ex3. member2를 member1로 바꿉니다\\'\\n\\ndef member2_func(member) :\\n    \"{\\'name\\':\\'홍길동\\', \\'birth\\':\\'2000-01-01\\'}\"\\n    print ({\\n        \\'name\\' : member.get(\\'name\\'),\\n        \\'birth\\' : member.join(\\'year\\', \\'month\\', \\'day\\')\\n    })',\n",
       " '_i36': \"'ex3. member2를 member1로 바꿉니다'\\n\\ndef join_data(data) :\\n    year = str(data.get('year'))\\n    month = data.get('month')\\n    if month < 10 :\\n        month = '0' + str(month)\\n    else : \\n        month = str(month)\\n    day = data.get('day')\\n    if day < 10 :\\n        day = '0' + str(day)\\n    else : \\n        day = str(day)\\n    return '-'.join([year, month, day])\",\n",
       " 'join_data': <function __main__.join_data(data)>,\n",
       " '_i37': 'def join_date(data) :\\n    print(\"{}-{}-{}\".format(data.get(\\'year\\'),\\n                            data.get(\\'month\\'),\\n                            data.get(\\'day\\')))',\n",
       " 'join_date': <function __main__.join_date(data)>,\n",
       " '_i38': 'def join_date(data) :\\n    print(\"{}-{:02}-{:02}\".format(data.get(\\'year\\'),\\n                            data.get(\\'month\\'),\\n                            data.get(\\'day\\')))',\n",
       " '_i39': 'def join_date(data) :\\n    return (\"{}-{:02}-{:02}\".format(data.get(\\'year\\'),\\n                                    data.get(\\'month\\'),\\n                                    data.get(\\'day\\')))',\n",
       " '_i40': 'def join_date(data) :\\n    return(\"{year}-{month:02}-{day:02}\".format(\\n                                    year = data.get(\\'year\\'),\\n                                    month = data.get(\\'month\\'),\\n                                    day = data.get(\\'day\\')))',\n",
       " '_i41': \"\\n\\nlist(map(lambda member : {\\n                        'name' : member.get('name'),\\n                        'birth' : '{year}-{month:02}-{day:02}'.format(**member)\\n                        },\\n         member2\\n))\",\n",
       " '_41': [{'name': '홍길동', 'birth': '2000-01-01'},\n",
       "  {'name': '신길동', 'birth': '1998-12-31'}],\n",
       " '_i42': 'def filter_template(func, L = []) :\\n    result = []\\n    for l in L :\\n        if func(l) :\\n            result.append(L)',\n",
       " 'filter_template': <function __main__.filter_template(func, L=[])>,\n",
       " '_i43': 'list_data = [1, 2, 3, 4, 5]\\nfilter_template(lambda value : value % 2 == 0, list_data)',\n",
       " '_i44': 'list(filter(lambda value : value % 2 == 0, list_data))',\n",
       " '_44': [2, 4],\n",
       " '_i45': '[data for data in list_data if data % 2 == 0]',\n",
       " '_45': [2, 4],\n",
       " '_i46': 'p = [9, 2, 7]\\np.sort(reverse = True)\\np',\n",
       " 'p': [9, 7, 2],\n",
       " '_46': [9, 7, 2],\n",
       " '_i47': 'number2d = [[9, 9],\\n            [1, 100],\\n            [10, 1]]\\n\\nnumber2d.sort(reverse = True)\\nnumber2d',\n",
       " 'number2d': [[1, 100], [9, 9, 9, 9, 9, 9], [10, 1]],\n",
       " '_47': [[10, 1], [9, 9], [1, 100]],\n",
       " '_i48': 'def filter_template(func, L = []) :\\n    result = []\\n    for l in L :\\n        if func(l) :\\n            result.append(l)\\n    return result',\n",
       " '_i49': 'def evenChk(value) :\\n    return value % 2 == 0\\nevenChk(10), evenChk(-9)',\n",
       " 'evenChk': <function __main__.evenChk(value)>,\n",
       " '_49': (True, False),\n",
       " '_i50': 'list_data = [1, 2, 3, 4, 5]\\nfilter_template(lambda value : value % 2 == 0, list_data)',\n",
       " '_50': [2, 4],\n",
       " '_i51': \"# 무조건 0번째 item 기준으로 정렬\\n\\npairs = [(2, 'two'), (1, 'one'), (4, 'four'), (3, 'three')]\\npairs.sort()\\npairs\",\n",
       " 'pairs': [(4, 'four'), (1, 'one'), (3, 'three'), (2, 'two')],\n",
       " '_51': [(4, 'four'), (1, 'one'), (3, 'three'), (2, 'two')],\n",
       " '_i52': '# 1번째 item 기준으로 정렬 (abc순)\\n\\npairs.sort(key = lambda pair : pair[1])\\npairs',\n",
       " '_52': [(4, 'four'), (1, 'one'), (3, 'three'), (2, 'two')],\n",
       " '_i53': '# 무조건 0번째 item 기준으로 정렬\\n\\nnumber2d = [[9, 9, 9, 9, 9, 9],\\n            [1, 100],\\n            [10, 1]]\\n\\nnumber2d.sort(reverse = True)  # 기본(reverse = False) : 오름차순정렬 / reverse = True : 내림차순정렬\\nnumber2d',\n",
       " '_53': [[1, 100], [9, 9, 9, 9, 9, 9], [10, 1]],\n",
       " '_i54': '# 합이 큰 순으로 정렬\\n\\nnumber2d.sort(key = lambda item : sum(item))',\n",
       " '_i55': '# 합이 큰 순으로 정렬\\n\\nnumber2d.sort(key = lambda item : sum(item))\\nnumber2d',\n",
       " '_55': [[1, 100], [9, 9, 9, 9, 9, 9], [10, 1]],\n",
       " '_i56': '# 합이 큰 순으로 정렬\\n\\nnumber2d.sort(key = lambda item : sum(item), reserve = True)\\nnumber2d',\n",
       " '_i57': '# 합이 큰 순으로 정렬\\n\\nnumber2d.sort(key = lambda item : sum(item), reverse = True)\\nnumber2d',\n",
       " '_57': [[1, 100], [9, 9, 9, 9, 9, 9], [10, 1]],\n",
       " '_i58': '# 리스트를 매개변수로 받아 합을 return\\n(lambda item : sum(item))([1, 2, 3])',\n",
       " '_58': 6,\n",
       " '_i59': \"students = [\\n    {'name':'홍길동', 'score':90},\\n    {'name':'김길동', 'score':50},\\n    {'name':'윤길동', 'score':99}\\n]\",\n",
       " 'students': [{'score': 100},\n",
       "  {'name': '윤길동', 'score': 99},\n",
       "  {'name': '홍길동', 'score': 90},\n",
       "  {'name': '김길동', 'score': 50}],\n",
       " '_i60': '# 이름순으로 정렬 (ㄱㄴㄷ순)',\n",
       " '_i61': \"# 이름순으로 정렬 (ㄱㄴㄷ순)\\n\\nstudents.sort(key = lambda member : {\\n                                    'name' : member.get\\n})\",\n",
       " '_i62': \"# 이름순으로 정렬 (ㄱㄴㄷ순)\\n\\n\\n\\nstudents.sort(key = lambda name : {\\n                        'name' : name.get('name')\\n})\",\n",
       " '_i63': \"# 이름순으로 정렬 (ㄱㄴㄷ순)\\n\\n\\n\\nstudents.sort(key = lambda name : {\\n                        'name' : name.get('name')\\n                        },\\n              students\\n             )\",\n",
       " '_i64': \"students = [\\n    {'name':'홍길동', 'score':90},\\n    {'name':'김길동', 'score':50},\\n    {'name':'윤길동', 'score':99},\\n    {'score':100}\\n]\",\n",
       " '_i65': \"# 이름순으로 정렬 (ㄱㄴㄷ순)\\n\\nstudents.sort(key = lambda member : member.get('name', '힣'))\\nstudents\",\n",
       " '_65': [{'score': 100},\n",
       "  {'name': '윤길동', 'score': 99},\n",
       "  {'name': '홍길동', 'score': 90},\n",
       "  {'name': '김길동', 'score': 50}],\n",
       " '_i66': \"# score순으로 정렬 (내림차순정렬)\\n\\nstudents.sort(key = lambda score : score.get('score'), reverse)\",\n",
       " '_i67': \"# score순으로 정렬 (내림차순정렬)\\n\\nstudents.sort(key = lambda score : score.get('score'), reverse = True)\",\n",
       " '_i68': \"# score순으로 정렬 (내림차순정렬)\\n\\nstudents.sort(key = lambda score : score.get('score'), reverse = True)\\nstudents\",\n",
       " '_68': [{'score': 100},\n",
       "  {'name': '윤길동', 'score': 99},\n",
       "  {'name': '홍길동', 'score': 90},\n",
       "  {'name': '김길동', 'score': 50}],\n",
       " '_i69': \"# score순으로 정렬 (내림차순정렬)\\n\\nstudents.sort(key = lambda score : score.get('score', 0), reverse = True)\\nstudents\",\n",
       " '_69': [{'score': 100},\n",
       "  {'name': '윤길동', 'score': 99},\n",
       "  {'name': '홍길동', 'score': 90},\n",
       "  {'name': '김길동', 'score': 50}],\n",
       " '_i70': \"# 책제목순 정렬 (ㄱㄴㄷ순), 저자순 (ㄱㄴㄷ순), 가격순 (오름차순정렬)\\n\\nbook = [\\n    {'no':1, 'title':'강남 아파트 인사이트', 'writer':'오스틀', 'price':'25,000'},\\n    {'no':2, 'title':'단 한 번의 삶', 'writer':'김영하', 'price':'18,000'},\\n    {'no':3, 'title':'흔한남매 19', 'writer':'백난도', 'price':'14,200'},\\n    {'no':4, 'title':'가격이잘못', 'writer':'홍길동', 'price':'-'},\\n    {'no':5, 'title':'가격이숫자', 'writer':'신길동', 'price':900},\\n    {'no':6, 'title':'가격이없음', 'writer':'김길동'}\\n]\",\n",
       " 'book': [{'no': 6, 'title': '가격이없음', 'writer': '김길동'},\n",
       "  {'no': 2, 'title': '단 한 번의 삶', 'writer': '김영하', 'price': '18,000'},\n",
       "  {'no': 3, 'title': '흔한남매 19', 'writer': '백난도', 'price': '14,200'},\n",
       "  {'no': 5, 'title': '가격이숫자', 'writer': '신길동', 'price': 900},\n",
       "  {'no': 1, 'title': '강남 아파트 인사이트', 'writer': '오스틀', 'price': '25,000'},\n",
       "  {'no': 4, 'title': '가격이잘못', 'writer': '홍길동', 'price': '-'}],\n",
       " '_i71': \"book.sort(key = lambda book : book.get('title'))\",\n",
       " '_i72': \"book.sort(key = lambda book : book.get('title'))\\nbook\",\n",
       " '_72': [{'no': 6, 'title': '가격이없음', 'writer': '김길동'},\n",
       "  {'no': 2, 'title': '단 한 번의 삶', 'writer': '김영하', 'price': '18,000'},\n",
       "  {'no': 3, 'title': '흔한남매 19', 'writer': '백난도', 'price': '14,200'},\n",
       "  {'no': 5, 'title': '가격이숫자', 'writer': '신길동', 'price': 900},\n",
       "  {'no': 1, 'title': '강남 아파트 인사이트', 'writer': '오스틀', 'price': '25,000'},\n",
       "  {'no': 4, 'title': '가격이잘못', 'writer': '홍길동', 'price': '-'}],\n",
       " '_i73': \"book.sort(key = lambda book : book.get('writer'))\\nbook\",\n",
       " '_73': [{'no': 6, 'title': '가격이없음', 'writer': '김길동'},\n",
       "  {'no': 2, 'title': '단 한 번의 삶', 'writer': '김영하', 'price': '18,000'},\n",
       "  {'no': 3, 'title': '흔한남매 19', 'writer': '백난도', 'price': '14,200'},\n",
       "  {'no': 5, 'title': '가격이숫자', 'writer': '신길동', 'price': 900},\n",
       "  {'no': 1, 'title': '강남 아파트 인사이트', 'writer': '오스틀', 'price': '25,000'},\n",
       "  {'no': 4, 'title': '가격이잘못', 'writer': '홍길동', 'price': '-'}],\n",
       " '_i74': \"# '14,000' => 14000 / 900 => 900 / '-' => 0\\n\\ndef parse_int(price) :\\n    print(type(price))\",\n",
       " 'parse_int': <function __main__.parse_int(book)>,\n",
       " '_i75': \"parse_int('800')\",\n",
       " '_i76': \"# '14,000' => 14000 / '2000' => 2000 / 800 => 800 / '-' => 0\\n\\ndef parse_int(price) :\\n#     print(type(price))\\n    if isinstance(price, str) & price.replace(',', '').isdigit() :\\n        return int(price.replace(',', ''))\\n    elif isinstance(price, int) :\\n        return price\",\n",
       " '_i77': 'parse_int(8000)',\n",
       " '_i78': \"# '14,000' => 14000 / '2000' => 2000 / 800 => 800 / '-' => 0\\n\\ndef parse_int(price) :\\n#     print(type(price))\\n    if isinstance(price, str) & price.replace(',', '').isdigit() :\\n        return int(price.replace(',', ''))\\n    elif isinstance(price, int) :\\n        return price\",\n",
       " '_i79': 'parse_int(8000)',\n",
       " '_i80': \"# '14,000' => 14000 / '2000' => 2000 / 800 => 800 / '-' => 0\\n\\ndef parse_int(price) :\\n#     print(type(price))\\n    if isinstance(price, str) and price.replace(',', '').isdigit() :\\n        return int(price.replace(',', ''))\\n    elif isinstance(price, int) :\\n        return price\",\n",
       " '_i81': 'parse_int(8000)',\n",
       " '_81': 8000,\n",
       " '_i82': \"# '14,000' => 14000 / '2000' => 2000 / 800 => 800 / '-' => 0\\n\\ndef parse_int(price) :\\n#     print(type(price))\\n    if isinstance(price, str) & price.replace(',', '').isdigit() :\\n        return int(price.replace(',', ''))\\n    elif isinstance(price, int) :\\n        return price\",\n",
       " '_i83': 'parse_int(8000)',\n",
       " '_i84': \"# '14,000' => 14000 / '2000' => 2000 / 800 => 800 / '-' => 0\\n\\ndef parse_int(price) :\\n#     print(type(price))\\n    if isinstance(price, str) & price.replace(',', '').isdigit() :\\n        return int(price.replace(',', ''))\\n    elif isinstance(price, int) :\\n        return price\\n    else :\\n        return 0\",\n",
       " '_i85': 'parse_int(8000)',\n",
       " '_i86': \"# '14,000' => 14000 / '2000' => 2000 / 800 => 800 / '-' => 0\\n\\ndef parse_int(price) :\\n#     print(type(price))\\n    if isinstance(price, str) & (price.replace(',', '').isdigit()) :\\n        return int(price.replace(',', ''))\\n    elif isinstance(price, int) :\\n        return price\\n    else :\\n        return 0\",\n",
       " '_i87': 'parse_int(8000)',\n",
       " '_i88': \"# '14,000' => 14000 / '2000' => 2000 / 800 => 800 / '-' => 0\\n\\ndef parse_int(price) :\\n#     print(type(price))\\n    if isinstance(price, str) and price.replace(',', '').isdigit() :\\n        return int(price.replace(',', ''))\\n    elif isinstance(price, int) :\\n        return price\\n    else :\\n        return 0\",\n",
       " '_i89': 'parse_int(8000)',\n",
       " '_89': 8000,\n",
       " '_i90': \"parse_int('8,000'), parse_int('8000'), parse_int(8000), parse_int('-')\",\n",
       " '_90': (8000, 8000, 8000, 0),\n",
       " '_i91': \"# {'no':6, 'title':'가격이없음', 'writer':'김길동'}\\n# {'no':3, 'title':'흔한남매 19', 'writer':'백난도', 'price':'14,200'}\\n# {'no':5, 'title':'가격이숫자', 'writer':'신길동', 'price':900}\\n\\ndef parse_int(book) :\\n    if isinstance(book.get('price'), str) and book.get('price').replace(',', '').isdigit() :\\n        return int(book.get('price').replace(',', ''))\\n    elif isinstance(book.get('price'), int) :\\n        return book.get('price')\\n    else :\\n        return 0\",\n",
       " '_i92': \"# {'no':6, 'title':'가격이없음', 'writer':'김길동'}\\n# {'no':3, 'title':'흔한남매 19', 'writer':'백난도', 'price':'14,200'}\\n# {'no':5, 'title':'가격이숫자', 'writer':'신길동', 'price':900}\\n\\ndef parse_int(book) :\\n    if isinstance(book.get('price'), str) and book.get('price').replace(',', '').isdigit() :\\n        return int(book.get('price').replace(',', ''))\\n    elif isinstance(book.get('price'), int) :\\n        return book.get('price')\\n    else :\\n        return 0\\n\\nparse_int(books[0])\",\n",
       " '_i93': \"# 책제목순 정렬 (ㄱㄴㄷ순), 저자순 (ㄱㄴㄷ순), 가격순 (오름차순정렬)\\n\\nbooks = [\\n    {'no':1, 'title':'강남 아파트 인사이트', 'writer':'오스틀', 'price':'25,000'},\\n    {'no':2, 'title':'단 한 번의 삶', 'writer':'김영하', 'price':'18,000'},\\n    {'no':3, 'title':'흔한남매 19', 'writer':'백난도', 'price':'14,200'},\\n    {'no':4, 'title':'가격이잘못', 'writer':'홍길동', 'price':'-'},\\n    {'no':5, 'title':'가격이숫자', 'writer':'신길동', 'price':900},\\n    {'no':6, 'title':'가격이없음', 'writer':'김길동'}\\n]\",\n",
       " 'books': [{'no': 6, 'title': '가격이없음', 'writer': '김길동'},\n",
       "  {'no': 2, 'title': '단 한 번의 삶', 'writer': '김영하', 'price': '18,000'},\n",
       "  {'no': 3, 'title': '흔한남매 19', 'writer': '백난도', 'price': '14,200'},\n",
       "  {'no': 5, 'title': '가격이숫자', 'writer': '신길동', 'price': 900},\n",
       "  {'no': 1, 'title': '강남 아파트 인사이트', 'writer': '오스틀', 'price': '25,000'},\n",
       "  {'no': 4, 'title': '가격이잘못', 'writer': '홍길동', 'price': '-'}],\n",
       " '_i94': \"books.sort(key = lambda book : book.get('title'))\\nbooks\",\n",
       " '_94': [{'no': 6, 'title': '가격이없음', 'writer': '김길동'},\n",
       "  {'no': 2, 'title': '단 한 번의 삶', 'writer': '김영하', 'price': '18,000'},\n",
       "  {'no': 3, 'title': '흔한남매 19', 'writer': '백난도', 'price': '14,200'},\n",
       "  {'no': 5, 'title': '가격이숫자', 'writer': '신길동', 'price': 900},\n",
       "  {'no': 1, 'title': '강남 아파트 인사이트', 'writer': '오스틀', 'price': '25,000'},\n",
       "  {'no': 4, 'title': '가격이잘못', 'writer': '홍길동', 'price': '-'}],\n",
       " '_i95': \"books.sort(key = lambda book : book.get('writer'))\\nbooks\",\n",
       " '_95': [{'no': 6, 'title': '가격이없음', 'writer': '김길동'},\n",
       "  {'no': 2, 'title': '단 한 번의 삶', 'writer': '김영하', 'price': '18,000'},\n",
       "  {'no': 3, 'title': '흔한남매 19', 'writer': '백난도', 'price': '14,200'},\n",
       "  {'no': 5, 'title': '가격이숫자', 'writer': '신길동', 'price': 900},\n",
       "  {'no': 1, 'title': '강남 아파트 인사이트', 'writer': '오스틀', 'price': '25,000'},\n",
       "  {'no': 4, 'title': '가격이잘못', 'writer': '홍길동', 'price': '-'}],\n",
       " '_i96': \"# '14,000' => 14000 / '2000' => 2000 / 800 => 800 / '-' => 0\\n\\ndef parse_int(price) :\\n#     print(type(price))\\n    if isinstance(price, str) and price.replace(',', '').isdigit() :\\n        return int(price.replace(',', ''))\\n    elif isinstance(price, int) :\\n        return price\\n    else :\\n        return 0\",\n",
       " '_i97': \"parse_int('8,000'), parse_int('8000'), parse_int(8000), parse_int('-')\",\n",
       " '_97': (8000, 8000, 8000, 0),\n",
       " '_i98': \"# {'no':6, 'title':'가격이없음', 'writer':'김길동'}\\n# {'no':3, 'title':'흔한남매 19', 'writer':'백난도', 'price':'14,200'}\\n# {'no':5, 'title':'가격이숫자', 'writer':'신길동', 'price':900}\\n\\ndef parse_int(book) :\\n    if isinstance(book.get('price'), str) and book.get('price').replace(',', '').isdigit() :\\n        return int(book.get('price').replace(',', ''))\\n    elif isinstance(book.get('price'), int) :\\n        return book.get('price')\\n    else :\\n        return 0\\n\\nparse_int(books[0])\",\n",
       " '_98': 0,\n",
       " '_i99': \"# {'no':6, 'title':'가격이없음', 'writer':'김길동'}\\n# {'no':3, 'title':'흔한남매 19', 'writer':'백난도', 'price':'14,200'}\\n# {'no':5, 'title':'가격이숫자', 'writer':'신길동', 'price':900}\\n\\ndef parse_int(book) :\\n    if isinstance(book.get('price'), str) and book.get('price').replace(',', '').isdigit() :\\n        return int(book.get('price').replace(',', ''))\\n    elif isinstance(book.get('price'), int) :\\n        return book.get('price')\\n    else :\\n        return 0\\n\\nparse_int(books[0]), parse_int(books[3]), parse_int(books[2]), parse_int(books[5])\",\n",
       " '_99': (0, 900, 14200, 0),\n",
       " '_i100': 'copy_books = books.copy()\\ncop_books',\n",
       " 'copy_books': [{'no': 6, 'title': '가격이없음', 'writer': '김길동'},\n",
       "  {'no': 4, 'title': '가격이잘못', 'writer': '홍길동', 'price': '-'},\n",
       "  {'no': 5, 'title': '가격이숫자', 'writer': '신길동', 'price': 900},\n",
       "  {'no': 3, 'title': '흔한남매 19', 'writer': '백난도', 'price': '14,200'},\n",
       "  {'no': 2, 'title': '단 한 번의 삶', 'writer': '김영하', 'price': '18,000'},\n",
       "  {'no': 1, 'title': '강남 아파트 인사이트', 'writer': '오스틀', 'price': '25,000'}],\n",
       " '_i101': 'copy_books = books.copy()\\ncopy_books',\n",
       " '_101': [{'no': 6, 'title': '가격이없음', 'writer': '김길동'},\n",
       "  {'no': 2, 'title': '단 한 번의 삶', 'writer': '김영하', 'price': '18,000'},\n",
       "  {'no': 3, 'title': '흔한남매 19', 'writer': '백난도', 'price': '14,200'},\n",
       "  {'no': 5, 'title': '가격이숫자', 'writer': '신길동', 'price': 900},\n",
       "  {'no': 1, 'title': '강남 아파트 인사이트', 'writer': '오스틀', 'price': '25,000'},\n",
       "  {'no': 4, 'title': '가격이잘못', 'writer': '홍길동', 'price': '-'}],\n",
       " '_i102': 'copy_books = books.copy()',\n",
       " '_i103': \"copy_books.sort(key = lambda book : \\n                int(book.get('price').replace(',', '')) \\\\\\n                   if isinstance(book.get('price'), str) and \\\\\\n                    book.get('price').replace(',', '').isdigit() else \\\\\\n                book.get('price') if isinstance(book.get('price'), int) else \\\\\\n               0               \\n               )\",\n",
       " '_i104': 'copy_books',\n",
       " '_104': [{'no': 6, 'title': '가격이없음', 'writer': '김길동'},\n",
       "  {'no': 4, 'title': '가격이잘못', 'writer': '홍길동', 'price': '-'},\n",
       "  {'no': 5, 'title': '가격이숫자', 'writer': '신길동', 'price': 900},\n",
       "  {'no': 3, 'title': '흔한남매 19', 'writer': '백난도', 'price': '14,200'},\n",
       "  {'no': 2, 'title': '단 한 번의 삶', 'writer': '김영하', 'price': '18,000'},\n",
       "  {'no': 1, 'title': '강남 아파트 인사이트', 'writer': '오스틀', 'price': '25,000'}],\n",
       " '_i105': '# 함수를 return\\n\\ndef make_box(shape) :  # shape : [l] => Len가 l인 list를 생성하는 함수 return\\n                       #         [r, c] => r행 c열인 2차원 list를 생성하는 함수 return\\n                       #         [d, r, c] => d면 r행 c열인 3차원 list를 생성하는 함수 return\\n    def box(init_value) :\\n        if len(shape) == 1 :\\n            return [init_value] * shape[0]\\n        elif len(shape) == 2 :\\n            return [[init_value] * shape[1]] * shape[0]\\n        return box',\n",
       " 'make_box': <function __main__.make_box(shape)>,\n",
       " '_i106': 'line_func = make_box([2, 3])\\nline_func(3)',\n",
       " 'line_func': <function __main__.make_box.<locals>.box(init_value)>,\n",
       " '_i107': '# 함수를 return\\n\\ndef make_box(shape) :  # shape : [l] => Len가 l인 list를 생성하는 함수 return\\n                       #         [r, c] => r행 c열인 2차원 list를 생성하는 함수 return\\n                       #         [d, r, c] => d면 r행 c열인 3차원 list를 생성하는 함수 return\\n    def box(init_value) :\\n        if len(shape) == 1 :\\n            return [init_value] * shape[0]\\n        elif len(shape) == 2 :\\n            return [[init_value] * shape[1]] * shape[0]\\n    return box',\n",
       " '_i108': 'line_func = make_box([2, 3])\\nline_func(3)',\n",
       " '_108': [[3, 3, 3], [3, 3, 3]],\n",
       " '_i109': 'line_func1 = make_box([10])\\nline_func1(3)',\n",
       " 'line_func1': <function __main__.make_box.<locals>.box(init_value)>,\n",
       " '_109': [3, 3, 3, 3, 3, 3, 3, 3, 3, 3],\n",
       " '_i110': 'all(True, True, True, True)',\n",
       " '_i111': 'all([True, True, True, True])',\n",
       " '_111': True,\n",
       " '_i112': 'all([True, True, True, False])  # 전부 True인지 여부',\n",
       " '_112': False,\n",
       " '_i113': 'round(3.5)',\n",
       " '_113': 4,\n",
       " '_i114': 'round(3.5)  # 반올림',\n",
       " '_114': 4,\n",
       " '_i115': 'import numpy as np  # numpy 모듈을 np라는 이름으로 load\\n\\nnp.round(3.5), np.ceil(3.1), np.floor(3.8)  # 반올림, 올림, 내림',\n",
       " 'np': <module 'numpy' from 'C:\\\\Users\\\\Admin\\\\anaconda3\\\\lib\\\\site-packages\\\\numpy\\\\__init__.py'>,\n",
       " '_115': (4.0, 4.0, 3.0),\n",
       " '_i116': 'globlas()  # 전역변수 리스트',\n",
       " '_i117': 'globaㅣs()  # 전역변수 리스트',\n",
       " '_i118': 'globals()  # 전역변수 리스트'}"
      ]
     },
     "execution_count": 118,
     "metadata": {},
     "output_type": "execute_result"
    }
   ],
   "source": [
    "globals()  # 전역변수 리스트"
   ]
  },
  {
   "cell_type": "code",
   "execution_count": 112,
   "id": "1b6246ef",
   "metadata": {},
   "outputs": [
    {
     "data": {
      "text/plain": [
       "False"
      ]
     },
     "execution_count": 112,
     "metadata": {},
     "output_type": "execute_result"
    }
   ],
   "source": [
    "all([True, True, True, False])  # 전부 True인지 여부"
   ]
  },
  {
   "cell_type": "code",
   "execution_count": 114,
   "id": "aa21d37f",
   "metadata": {},
   "outputs": [
    {
     "data": {
      "text/plain": [
       "4"
      ]
     },
     "execution_count": 114,
     "metadata": {},
     "output_type": "execute_result"
    }
   ],
   "source": [
    "round(3.5)  # 반올림"
   ]
  },
  {
   "cell_type": "code",
   "execution_count": 115,
   "id": "4a7d2b3f",
   "metadata": {},
   "outputs": [
    {
     "data": {
      "text/plain": [
       "(4.0, 4.0, 3.0)"
      ]
     },
     "execution_count": 115,
     "metadata": {},
     "output_type": "execute_result"
    }
   ],
   "source": [
    "import numpy as np  # numpy 모듈을 np라는 이름으로 load\n",
    "\n",
    "np.round(3.5), np.ceil(3.1), np.floor(3.8)  # 반올림, 올림, 내림"
   ]
  },
  {
   "cell_type": "markdown",
   "id": "223c30b6",
   "metadata": {},
   "source": [
    "# 6절 연습문제"
   ]
  },
  {
   "cell_type": "markdown",
   "id": "0a92137d",
   "metadata": {},
   "source": [
    "## 연습문제 실습형"
   ]
  },
  {
   "cell_type": "code",
   "execution_count": 121,
   "id": "607ea104",
   "metadata": {},
   "outputs": [
    {
     "data": {
      "text/plain": [
       "(6, 1)"
      ]
     },
     "execution_count": 121,
     "metadata": {},
     "output_type": "execute_result"
    }
   ],
   "source": [
    "# ex1. 함수의 인자로 리스트를 받은 후 리스트 내에 있는 모든 정수값에 대한 최대값과 최소값을 리턴하는 함수를 작성하세요\n",
    "\n",
    "def get_max_min(data_list) :\n",
    "    return max(data_list), min(data_list)\n",
    "\n",
    "get_max_min = lambda data_list : (max(data_list), min(data_list))\n",
    "get_max_min([1, 2, 3, 4, 5, 6])"
   ]
  },
  {
   "cell_type": "code",
   "execution_count": 129,
   "id": "f41b0b11",
   "metadata": {},
   "outputs": [
    {
     "name": "stdout",
     "output_type": "stream",
     "text": [
      "고도비만\n"
     ]
    }
   ],
   "source": [
    "# ex2. \n",
    "'''\n",
    "체질량 지수(Body Mass Index, BMI)는 체중과 키를 이용해 비만도를 나타내는 지수로 아래의 수식에 의해 계산됩니다 \n",
    "함수의 인자로 체중(kg)과 신장(m)를 입력받은 후 BMI값에 따라\n",
    "‘마른 체형‘, ‘표준‘, ‘비만‘, ‘고도비만‘ 중 하나의 상태를 출력하는 함수를 구현해 보세요\n",
    "'''\n",
    "\n",
    "def getBMI(kg, m) :\n",
    "    BMI = kg / m ** 2\n",
    "    if 0 <= BMI < 18.5 :\n",
    "        print('마른체형')\n",
    "    elif 18.5 <= BMI < 25 :\n",
    "        print('표준')\n",
    "    elif 25 <= BMI < 30 :\n",
    "        print('비만')\n",
    "    else :\n",
    "        print('고도비만')\n",
    "\n",
    "getBMI(90, 1.7)"
   ]
  },
  {
   "cell_type": "code",
   "execution_count": 134,
   "id": "6ee6a374",
   "metadata": {},
   "outputs": [
    {
     "data": {
      "text/plain": [
       "(30.0, 30.0)"
      ]
     },
     "execution_count": 134,
     "metadata": {},
     "output_type": "execute_result"
    }
   ],
   "source": [
    "# ex3. 직각삼각형의 밑변과 높이를 입력받은 후 삼각형의 면적과 둘레를 계산하는 함수를 작성하세요\n",
    "\n",
    "import math\n",
    "\n",
    "def get_triangle(width, height) :\n",
    "    area = width * height / 2\n",
    "    perimeter = math.sqrt(width ** 2 + height ** 2) + width + height\n",
    "    return area, perimeter\n",
    "\n",
    "get_triangle(5, 12)"
   ]
  },
  {
   "cell_type": "code",
   "execution_count": 135,
   "id": "121403e8",
   "metadata": {},
   "outputs": [
    {
     "data": {
      "text/plain": [
       "45"
      ]
     },
     "execution_count": 135,
     "metadata": {},
     "output_type": "execute_result"
    }
   ],
   "source": [
    "# ex.4 함수의 인자로 시작과 끝 숫자가 주어질 때 시작부터 끝까지의 모든 정수값의 합을 리턴하는 함수를 작성하세요 (시작값과 끝값 포함)\n",
    "\n",
    "def mysum(fRom, end) :\n",
    "    sum = 0\n",
    "    for i in range(fRom, end + 1) :\n",
    "        sum += i\n",
    "    return sum\n",
    "\n",
    "mysum(5, 10)"
   ]
  },
  {
   "cell_type": "code",
   "execution_count": 185,
   "id": "cfa8fc6a",
   "metadata": {},
   "outputs": [
    {
     "name": "stdout",
     "output_type": "stream",
     "text": [
      "['Seo', 'Dae', 'Kwa', 'Jej']\n",
      "['Seo', 'Dae', 'Kwa', 'Jej']\n"
     ]
    }
   ],
   "source": [
    "# ex5. 함수의 인자로 문자열을 포함하는 리스트가 입력될 때 각 문자열의 첫 세글자로만 구성된 리스트를 리턴하는 함수와 람다식을 작성하세요\n",
    "#      예를 들어 함수의 입력으로 [‘Seoul’, ‘Daegu’, ‘Kwangju’, ‘Jeju’]가 입력될 때 함수의 리턴값은 [‘Seo’, ‘Dae’, ‘Kwa’,’Jej’]\n",
    "def get_abbrs(lst) :\n",
    "    lst_slicing = []\n",
    "    for i in range(len(lst)) :\n",
    "        lst_slicing.append(lst[i][:3])\n",
    "    return lst_slicing\n",
    "\n",
    "print(get_abbrs(['Seoul', 'Daegu', 'Kwangju', 'Jeju']))\n",
    "\n",
    "lst_slicing = lambda lst : [i[:3] for i in lst]\n",
    "\n",
    "print(lst_slicing(['Seoul', 'Daegu', 'Kwangju', 'Jeju']))"
   ]
  },
  {
   "cell_type": "code",
   "execution_count": 139,
   "id": "49bd0cc0",
   "metadata": {},
   "outputs": [
    {
     "data": {
      "text/plain": [
       "(8, 10000)"
      ]
     },
     "execution_count": 139,
     "metadata": {},
     "output_type": "execute_result"
    }
   ],
   "source": [
    "# ex6. 다음 코드를 람다 함수 형태로 수정할 때 알맞은 코드를 작성하시오\n",
    "\n",
    "def f(x, y) :\n",
    "    return x ** y\n",
    "\n",
    "f = lambda x, y : x ** y\n",
    "f(2, 3), f(10, 4)"
   ]
  },
  {
   "cell_type": "code",
   "execution_count": 146,
   "id": "c512d805",
   "metadata": {},
   "outputs": [
    {
     "name": "stdout",
     "output_type": "stream",
     "text": [
      "[2, 4, 6, 8, 10]\n",
      "[2, 4, 6, 8, 10]\n"
     ]
    }
   ],
   "source": [
    "# ex7. ex = [1,2,3,4,5]를 [1,4,9,16,25]의 결과를 얻을 수 있도록 람다함수와 map()함수를 사용하여 구현과 리스트 컴프리헨션으로 구현하시오\n",
    "\n",
    "ex = [1, 2, 3, 4, 5]\n",
    "\n",
    "# 람다함수와 map()함수를 사용\n",
    "print(list(map(lambda x : x * 2, ex)))\n",
    "# 리스트 컴프리헨션\n",
    "print([x * 2 for x in ex])"
   ]
  },
  {
   "cell_type": "code",
   "execution_count": 150,
   "id": "958e37b6",
   "metadata": {},
   "outputs": [
    {
     "name": "stdout",
     "output_type": "stream",
     "text": [
      "1 2 3\n",
      "[1, 2, 3]\n",
      "a라는 리스트 앞에 *를 붙임으로써 a리스트를 언패킹하기 때문입니다\n"
     ]
    }
   ],
   "source": [
    "# ex8. 다음 코드를 각각 실행하면 서로 다른 결과가 나온다 이런 결과가 나오는 이유를 서술하시오\n",
    "\n",
    "a = [1, 2, 3]\n",
    "print(*a)\n",
    "\n",
    "print(a)\n",
    "\n",
    "print('a라는 리스트 앞에 *를 붙임으로써 a리스트를 언패킹하기 때문입니다')"
   ]
  },
  {
   "cell_type": "code",
   "execution_count": 151,
   "id": "18db4424",
   "metadata": {},
   "outputs": [
    {
     "data": {
      "text/plain": [
       "'2024-9-6'"
      ]
     },
     "execution_count": 151,
     "metadata": {},
     "output_type": "execute_result"
    }
   ],
   "source": [
    "# ex9. 다음 코드의 실행 결과는?\n",
    "\n",
    "date_info = {'year':2024, 'month':9, 'day':6}\n",
    "result = '{year}-{month}-{day}'.format(**date_info)\n",
    "result"
   ]
  },
  {
   "cell_type": "code",
   "execution_count": 179,
   "id": "5c124f6a",
   "metadata": {},
   "outputs": [],
   "source": [
    "# ex10. n개의 벡터(리스트나 튜플, 셋등)의 크기들이 같은지 여부를 reutrn하는\n",
    "#       vector_size_check(*vector _var) 를 한 줄의 코드(리스트 컴프리헨션 이용)로 작성하시오\n",
    "\n",
    "def vector_size(*vector_var) :\n",
    "    result = []\n",
    "    for vector in vector_var :\n",
    "        result.append(len(vector))\n",
    "    return result\n",
    "\n",
    "def vector_size(*vector_var) :\n",
    "    return [len(vector) for vector in vector_var]\n",
    "\n",
    "def vector_size_check(*vector_var) :\n",
    "    result = []\n",
    "    for vector in vector_var :\n",
    "        if len(vector) not in result :\n",
    "            result.append(len(vector))\n",
    "    return len(result) == 1\n",
    "\n",
    "def vector_size_check(*vector_var):\n",
    "    result = set()\n",
    "    for vector in vector_var :\n",
    "        result.append(len(vector))\n",
    "    return len(result) == 1\n",
    "\n",
    "def vector_size_check(*vector_var) :\n",
    "    return len(set([len(vector) for vector in vector_var])) == 1"
   ]
  },
  {
   "cell_type": "code",
   "execution_count": 181,
   "id": "cc0dfd74",
   "metadata": {},
   "outputs": [
    {
     "data": {
      "text/plain": [
       "False"
      ]
     },
     "execution_count": 181,
     "metadata": {},
     "output_type": "execute_result"
    }
   ],
   "source": [
    "vector_size_check([10, 20], (100, 200), {'name':'홍', 'age':20}, {1, 2, 3})"
   ]
  },
  {
   "cell_type": "code",
   "execution_count": 186,
   "id": "4b84cf18",
   "metadata": {},
   "outputs": [
    {
     "data": {
      "text/plain": [
       "[5, 10, 15, 20]"
      ]
     },
     "execution_count": 186,
     "metadata": {},
     "output_type": "execute_result"
    }
   ],
   "source": [
    "# ex11. 다음과 같은 결과를 얻기 위해 하나의 스칼라값을 리스트나 튜플, 셋등 벡터에 곱하는 코드를 작성하시오\n",
    "#       (단 입력되는 벡터의 크기는 일정하지 않음)\n",
    "\n",
    "def scalar_vector_product(num, vector):\n",
    "    return [num*vec for vec in vector]\n",
    "\n",
    "scalar_vector_product(5, [1,2,3,4])"
   ]
  },
  {
   "cell_type": "code",
   "execution_count": null,
   "id": "6bec3ba2",
   "metadata": {},
   "outputs": [],
   "source": []
  }
 ],
 "metadata": {
  "kernelspec": {
   "display_name": "Python 3 (ipykernel)",
   "language": "python",
   "name": "python3"
  },
  "language_info": {
   "codemirror_mode": {
    "name": "ipython",
    "version": 3
   },
   "file_extension": ".py",
   "mimetype": "text/x-python",
   "name": "python",
   "nbconvert_exporter": "python",
   "pygments_lexer": "ipython3",
   "version": "3.10.9"
  },
  "toc": {
   "base_numbering": 1,
   "nav_menu": {},
   "number_sections": false,
   "sideBar": true,
   "skip_h1_title": false,
   "title_cell": "Table of Contents",
   "title_sidebar": "Contents",
   "toc_cell": false,
   "toc_position": {
    "height": "calc(100% - 180px)",
    "left": "10px",
    "top": "150px",
    "width": "240.55px"
   },
   "toc_section_display": true,
   "toc_window_display": true
  }
 },
 "nbformat": 4,
 "nbformat_minor": 5
}
