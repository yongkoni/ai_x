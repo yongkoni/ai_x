{
 "cells": [
  {
   "cell_type": "code",
   "execution_count": 24,
   "id": "95b87256",
   "metadata": {},
   "outputs": [
    {
     "data": {
      "text/html": [
       "<style>\n",
       "div.container{width:86% !important;}\n",
       "div.cell.code_cell.rendered{width:100%;}\n",
       "div.CodeMirror {font-family:Consolas; font-size:12pt;}\n",
       "div.output {font-size:12pt; font-weight:bold;}\n",
       "div.input {font-family:Consolas; font-size:12pt;}\n",
       "div.prompt {min-width:70px;}\n",
       "div#toc-wrapper{padding-top:120px;}\n",
       "div.text_cell_render ul li{fontsize:12pt;padding:5px;}\n",
       "table.dataframe{font-size:12px;}))\n",
       "</style>\n"
      ],
      "text/plain": [
       "<IPython.core.display.HTML object>"
      ]
     },
     "metadata": {},
     "output_type": "display_data"
    }
   ],
   "source": [
    "from IPython.display import display, HTML\n",
    "display(HTML(\"\"\"<style>\n",
    "div.container{width:86% !important;}\n",
    "div.cell.code_cell.rendered{width:100%;}\n",
    "div.CodeMirror {font-family:Consolas; font-size:12pt;}\n",
    "div.output {font-size:12pt; font-weight:bold;}\n",
    "div.input {font-family:Consolas; font-size:12pt;}\n",
    "div.prompt {min-width:70px;}\n",
    "div#toc-wrapper{padding-top:120px;}\n",
    "div.text_cell_render ul li{fontsize:12pt;padding:5px;}\n",
    "table.dataframe{font-size:12px;}))\n",
    "</style>\n",
    "\"\"\"))"
   ]
  },
  {
   "cell_type": "markdown",
   "id": "56ca88c6",
   "metadata": {},
   "source": [
    "<font size=\"5\" color=\"red\">ch06 모듈과 패키지</font>\n",
    "\n",
    "- 모듈 : 함수, 변수, 클래스 등을 담고 있는 파이썬 코드 파일 (*.py파일)\n",
    "- 패키지 : 모듈들이 포함된 폴더"
   ]
  },
  {
   "cell_type": "markdown",
   "id": "0dbc6b41",
   "metadata": {},
   "source": [
    "# 1절 파이썬 모듈 사용\n",
    "\n",
    "- anaconda : 1500개 이상의 패키지 install (정확한 갯수는 버전에 따라 상이)\n",
    "- miniconda : python.org보다 조금 많이 install (최소한의 것만)\n",
    "- python.org : 파이썬 인터프리터와 함께 파이썬 표준 모듈 200여개 install (re, datetime, ...)"
   ]
  },
  {
   "cell_type": "code",
   "execution_count": 2,
   "id": "71c63723",
   "metadata": {},
   "outputs": [
    {
     "data": {
      "text/plain": [
       "'Fri Apr 18 10:44:09 2025'"
      ]
     },
     "execution_count": 2,
     "metadata": {},
     "output_type": "execute_result"
    }
   ],
   "source": [
    "# 1. import 모듈명 : 모듈안의 함수, 클래스, 변수를 모듈명, 함수명(), ... 사용가능\n",
    "\n",
    "import time  # time모듈안의 모든 함수, 클래스, 변수를 메모리 로드\n",
    "\n",
    "time.ctime()"
   ]
  },
  {
   "cell_type": "code",
   "execution_count": 3,
   "id": "219d3374",
   "metadata": {},
   "outputs": [
    {
     "data": {
      "text/plain": [
       "1744940657.8313265"
      ]
     },
     "execution_count": 3,
     "metadata": {},
     "output_type": "execute_result"
    }
   ],
   "source": [
    "time.time()  # 1970.01.01. 부터의 밀리세컨 수"
   ]
  },
  {
   "cell_type": "code",
   "execution_count": 4,
   "id": "0fb2810e",
   "metadata": {},
   "outputs": [],
   "source": [
    "del time  # time 모듈에서 unload"
   ]
  },
  {
   "cell_type": "code",
   "execution_count": 5,
   "id": "5e0663bd",
   "metadata": {},
   "outputs": [],
   "source": [
    "# 2. from 모듈(A) import 함수|클래스|변수(B) : A모듈안의 B만 load\n",
    "#    from 패키지(A) import 모듈(B) : A패키지안의 B모듈을 load\n",
    "#    from 패키지(A) import 함수|클래스|변수(C) : A패키지안의 B모듈의 C만 load"
   ]
  },
  {
   "cell_type": "code",
   "execution_count": 6,
   "id": "3ce31035",
   "metadata": {},
   "outputs": [],
   "source": [
    "from time import ctime, time"
   ]
  },
  {
   "cell_type": "code",
   "execution_count": 7,
   "id": "8a009f15",
   "metadata": {},
   "outputs": [
    {
     "data": {
      "text/plain": [
       "'Fri Apr 18 11:21:43 2025'"
      ]
     },
     "execution_count": 7,
     "metadata": {},
     "output_type": "execute_result"
    }
   ],
   "source": [
    "ctime()"
   ]
  },
  {
   "cell_type": "code",
   "execution_count": 8,
   "id": "b36cca12",
   "metadata": {},
   "outputs": [
    {
     "data": {
      "text/plain": [
       "1744942906.9293334"
      ]
     },
     "execution_count": 8,
     "metadata": {},
     "output_type": "execute_result"
    }
   ],
   "source": [
    "time()"
   ]
  },
  {
   "cell_type": "code",
   "execution_count": 9,
   "id": "5785d9fd",
   "metadata": {},
   "outputs": [],
   "source": [
    "del ctime, time"
   ]
  },
  {
   "cell_type": "code",
   "execution_count": 10,
   "id": "815c3592",
   "metadata": {},
   "outputs": [],
   "source": [
    "# 3. import 모듈명 as 별칭 : 모듈을 메모리에서 load하고 별칭으로 사용\n",
    "\n",
    "import time as t"
   ]
  },
  {
   "cell_type": "code",
   "execution_count": 11,
   "id": "eac0a9a0",
   "metadata": {},
   "outputs": [
    {
     "data": {
      "text/plain": [
       "'Fri Apr 18 11:39:26 2025'"
      ]
     },
     "execution_count": 11,
     "metadata": {},
     "output_type": "execute_result"
    }
   ],
   "source": [
    "t.ctime()"
   ]
  },
  {
   "cell_type": "code",
   "execution_count": 12,
   "id": "63fa7584",
   "metadata": {},
   "outputs": [
    {
     "data": {
      "text/plain": [
       "1744943970.9786835"
      ]
     },
     "execution_count": 12,
     "metadata": {},
     "output_type": "execute_result"
    }
   ],
   "source": [
    "t.time()"
   ]
  },
  {
   "cell_type": "code",
   "execution_count": 13,
   "id": "94b1bca7",
   "metadata": {},
   "outputs": [],
   "source": [
    "del t"
   ]
  },
  {
   "cell_type": "code",
   "execution_count": 14,
   "id": "9149e598",
   "metadata": {},
   "outputs": [],
   "source": [
    "# 4. from 모듈명 import 함수 as 별칭\n",
    "#    from 패키지명 import 모듈명 as 별칭\n",
    "#    from 패키지명.모듈명 import 함수 as 별칭\n",
    "\n",
    "from time import ctime as ct, time as ti"
   ]
  },
  {
   "cell_type": "code",
   "execution_count": 15,
   "id": "a3ffc89c",
   "metadata": {},
   "outputs": [
    {
     "data": {
      "text/plain": [
       "'Fri Apr 18 11:43:37 2025'"
      ]
     },
     "execution_count": 15,
     "metadata": {},
     "output_type": "execute_result"
    }
   ],
   "source": [
    "ct()"
   ]
  },
  {
   "cell_type": "code",
   "execution_count": 16,
   "id": "9d3c3404",
   "metadata": {},
   "outputs": [
    {
     "data": {
      "text/plain": [
       "1744944223.2683065"
      ]
     },
     "execution_count": 16,
     "metadata": {},
     "output_type": "execute_result"
    }
   ],
   "source": [
    "ti()"
   ]
  },
  {
   "cell_type": "markdown",
   "id": "0049e512",
   "metadata": {},
   "source": [
    "# 2절. 사용자 정의 모듈\n",
    "\n",
    "- 모듈 가져오는 순서 (1)파이썬 표준 모듈 (2)sys.path변수에 저장된 경로"
   ]
  },
  {
   "cell_type": "code",
   "execution_count": 6,
   "id": "305ca915",
   "metadata": {},
   "outputs": [
    {
     "data": {
      "text/plain": [
       "['C:\\\\ai_x\\\\source\\\\01_python',\n",
       " 'C:\\\\Users\\\\Admin\\\\anaconda3\\\\python310.zip',\n",
       " 'C:\\\\Users\\\\Admin\\\\anaconda3\\\\DLLs',\n",
       " 'C:\\\\Users\\\\Admin\\\\anaconda3\\\\lib',\n",
       " 'C:\\\\Users\\\\Admin\\\\anaconda3',\n",
       " '',\n",
       " 'C:\\\\Users\\\\Admin\\\\anaconda3\\\\lib\\\\site-packages',\n",
       " 'C:\\\\Users\\\\Admin\\\\anaconda3\\\\lib\\\\site-packages\\\\win32',\n",
       " 'C:\\\\Users\\\\Admin\\\\anaconda3\\\\lib\\\\site-packages\\\\win32\\\\lib',\n",
       " 'C:\\\\Users\\\\Admin\\\\anaconda3\\\\lib\\\\site-packages\\\\Pythonwin',\n",
       " 'C:\\x07i_x\\\\source',\n",
       " 'C:\\x07i_x\\\\source']"
      ]
     },
     "execution_count": 6,
     "metadata": {},
     "output_type": "execute_result"
    }
   ],
   "source": [
    "import sys\n",
    "sys.path"
   ]
  },
  {
   "cell_type": "code",
   "execution_count": 7,
   "id": "79c9ed9c",
   "metadata": {},
   "outputs": [
    {
     "data": {
      "text/plain": [
       "['C:\\\\ai_x\\\\source\\\\01_python',\n",
       " 'C:\\\\Users\\\\Admin\\\\anaconda3\\\\python310.zip',\n",
       " 'C:\\\\Users\\\\Admin\\\\anaconda3\\\\DLLs',\n",
       " 'C:\\\\Users\\\\Admin\\\\anaconda3\\\\lib',\n",
       " 'C:\\\\Users\\\\Admin\\\\anaconda3',\n",
       " '',\n",
       " 'C:\\\\Users\\\\Admin\\\\anaconda3\\\\lib\\\\site-packages',\n",
       " 'C:\\\\Users\\\\Admin\\\\anaconda3\\\\lib\\\\site-packages\\\\win32',\n",
       " 'C:\\\\Users\\\\Admin\\\\anaconda3\\\\lib\\\\site-packages\\\\win32\\\\lib',\n",
       " 'C:\\\\Users\\\\Admin\\\\anaconda3\\\\lib\\\\site-packages\\\\Pythonwin',\n",
       " 'C:\\x07i_x\\\\source',\n",
       " 'C:\\x07i_x\\\\source',\n",
       " 'C:\\\\ai_x\\\\source\\\\pylib']"
      ]
     },
     "execution_count": 7,
     "metadata": {},
     "output_type": "execute_result"
    }
   ],
   "source": [
    "sys.path.append(r'C:\\ai_x\\source\\pylib')\n",
    "sys.path"
   ]
  },
  {
   "cell_type": "code",
   "execution_count": 8,
   "id": "abb27c8e",
   "metadata": {},
   "outputs": [
    {
     "data": {
      "text/plain": [
       "['C:\\\\ai_x\\\\source\\\\01_python',\n",
       " 'C:\\\\Users\\\\Admin\\\\anaconda3\\\\python310.zip',\n",
       " 'C:\\\\Users\\\\Admin\\\\anaconda3\\\\DLLs',\n",
       " 'C:\\\\Users\\\\Admin\\\\anaconda3\\\\lib',\n",
       " 'C:\\\\Users\\\\Admin\\\\anaconda3',\n",
       " '',\n",
       " 'C:\\\\Users\\\\Admin\\\\anaconda3\\\\lib\\\\site-packages',\n",
       " 'C:\\\\Users\\\\Admin\\\\anaconda3\\\\lib\\\\site-packages\\\\win32',\n",
       " 'C:\\\\Users\\\\Admin\\\\anaconda3\\\\lib\\\\site-packages\\\\win32\\\\lib',\n",
       " 'C:\\\\Users\\\\Admin\\\\anaconda3\\\\lib\\\\site-packages\\\\Pythonwin',\n",
       " 'C:\\x07i_x\\\\source',\n",
       " 'C:\\x07i_x\\\\source',\n",
       " 'C:\\\\ai_x\\\\source\\\\pylib']"
      ]
     },
     "execution_count": 8,
     "metadata": {},
     "output_type": "execute_result"
    }
   ],
   "source": [
    "sys.path"
   ]
  },
  {
   "cell_type": "code",
   "execution_count": 9,
   "id": "d8619356",
   "metadata": {},
   "outputs": [
    {
     "name": "stdout",
     "output_type": "stream",
     "text": [
      "0 1 1 2 3 5 8 13 21 34 55 89 144 \n"
     ]
    }
   ],
   "source": [
    "# 1\n",
    "\n",
    "import fibo\n",
    "fibo.fibonacci_print(200)"
   ]
  },
  {
   "cell_type": "code",
   "execution_count": 10,
   "id": "570f5841",
   "metadata": {},
   "outputs": [],
   "source": [
    "del fibo"
   ]
  },
  {
   "cell_type": "code",
   "execution_count": 11,
   "id": "f4dd0d0d",
   "metadata": {},
   "outputs": [
    {
     "name": "stdout",
     "output_type": "stream",
     "text": [
      "0 1 1 2 3 5 8 13 21 34 55 89 \n"
     ]
    }
   ],
   "source": [
    "# 2\n",
    "\n",
    "from fibo import fibonacci_print\n",
    "fibonacci_print(100)"
   ]
  },
  {
   "cell_type": "code",
   "execution_count": 12,
   "id": "97dc3719",
   "metadata": {},
   "outputs": [],
   "source": [
    "del fibonacci_print"
   ]
  },
  {
   "cell_type": "code",
   "execution_count": 13,
   "id": "a0e5cd37",
   "metadata": {},
   "outputs": [
    {
     "name": "stdout",
     "output_type": "stream",
     "text": [
      "0 1 1 2 3 5 8 13 21 34 55 89 144 \n",
      "[0, 1, 1, 2, 3, 5, 8, 13, 21, 34, 55, 89]\n"
     ]
    }
   ],
   "source": [
    "# 3\n",
    "\n",
    "import fibo as f\n",
    "f.fibonacci_print(200)\n",
    "print(f.fibonacci_return(100))"
   ]
  },
  {
   "cell_type": "code",
   "execution_count": 14,
   "id": "9791f811",
   "metadata": {},
   "outputs": [
    {
     "data": {
      "text/plain": [
       "[0, 1, 1, 2, 3, 5, 8, 13, 21, 34, 55, 89, 144]"
      ]
     },
     "execution_count": 14,
     "metadata": {},
     "output_type": "execute_result"
    }
   ],
   "source": [
    "# 4\n",
    "\n",
    "from fibo import fibonacci_return as fibo_r\n",
    "fibo_r(200)"
   ]
  },
  {
   "cell_type": "markdown",
   "id": "4167df5c",
   "metadata": {},
   "source": [
    "# 3절. 사용자 정의 패키지와 모듈"
   ]
  },
  {
   "cell_type": "code",
   "execution_count": 15,
   "id": "af0d9368",
   "metadata": {},
   "outputs": [],
   "source": [
    "import sys\n",
    "sys.path.append(\"C:\\ai_x\\source\")"
   ]
  },
  {
   "cell_type": "code",
   "execution_count": 16,
   "id": "c1c9d141",
   "metadata": {},
   "outputs": [
    {
     "name": "stdout",
     "output_type": "stream",
     "text": [
      "sample_pac 패키지를 로드 했습니다.\n"
     ]
    }
   ],
   "source": [
    "import sample_pac"
   ]
  },
  {
   "cell_type": "code",
   "execution_count": 17,
   "id": "396309e3",
   "metadata": {},
   "outputs": [
    {
     "name": "stdout",
     "output_type": "stream",
     "text": [
      "sample_pac패키지 안의 ab패키지 로드됩니다\n"
     ]
    }
   ],
   "source": [
    "from sample_pac.ab import *"
   ]
  },
  {
   "cell_type": "code",
   "execution_count": 18,
   "id": "23e2acab",
   "metadata": {},
   "outputs": [
    {
     "name": "stdout",
     "output_type": "stream",
     "text": [
      "sample_pac/ab/a모듈의 hello\n"
     ]
    }
   ],
   "source": [
    "a.hello()"
   ]
  },
  {
   "cell_type": "code",
   "execution_count": 19,
   "id": "64d8a74d",
   "metadata": {},
   "outputs": [
    {
     "ename": "NameError",
     "evalue": "name 'b' is not defined",
     "output_type": "error",
     "traceback": [
      "\u001b[1;31m---------------------------------------------------------------------------\u001b[0m",
      "\u001b[1;31mNameError\u001b[0m                                 Traceback (most recent call last)",
      "Cell \u001b[1;32mIn[19], line 1\u001b[0m\n\u001b[1;32m----> 1\u001b[0m \u001b[43mb\u001b[49m\u001b[38;5;241m.\u001b[39mworld()\n",
      "\u001b[1;31mNameError\u001b[0m: name 'b' is not defined"
     ]
    }
   ],
   "source": [
    "b.world()"
   ]
  },
  {
   "cell_type": "code",
   "execution_count": 20,
   "id": "eb4262f7",
   "metadata": {},
   "outputs": [],
   "source": [
    "from sample_pac.ab.b import world"
   ]
  },
  {
   "cell_type": "code",
   "execution_count": 21,
   "id": "31c6ef07",
   "metadata": {},
   "outputs": [
    {
     "name": "stdout",
     "output_type": "stream",
     "text": [
      "sample_pac/ab/b모듈안의 world\n"
     ]
    }
   ],
   "source": [
    "world()"
   ]
  },
  {
   "cell_type": "code",
   "execution_count": 22,
   "id": "58985118",
   "metadata": {},
   "outputs": [
    {
     "name": "stdout",
     "output_type": "stream",
     "text": [
      "sample_pac패키지 안의 cd패키지 로드됩니다\n",
      "sample_pac/cd/c모듈안의 nice\n",
      "sample_pac/ab/a모듈의 hello\n"
     ]
    }
   ],
   "source": [
    "import sample_pac.cd.c as c\n",
    "\n",
    "c.nice()"
   ]
  },
  {
   "cell_type": "code",
   "execution_count": 23,
   "id": "6fd78469",
   "metadata": {},
   "outputs": [
    {
     "name": "stdout",
     "output_type": "stream",
     "text": [
      "sample_pac/ab/a모듈의 hello\n"
     ]
    }
   ],
   "source": [
    "c.a.hello()"
   ]
  },
  {
   "cell_type": "markdown",
   "id": "06f700d6",
   "metadata": {},
   "source": [
    "# 4절. 패키지 설치 및 삭제\n",
    "\n",
    "* 아나콘다 프롬프트에서 실행\n",
    "- 패키지 설치 : pip install 패키지명[==버전] / conda install 패키지명[==버전]\n",
    "               pip install 패키지파일명(*.whl 출처 : pypi.org)\n",
    "- 패키지 확인 : pip show 패키지명            / conda list 패키지명\n",
    "- 패키지 삭제 : pip uninstall 패키지명       / conda remove 패키지명"
   ]
  },
  {
   "cell_type": "code",
   "execution_count": 27,
   "id": "88619440",
   "metadata": {},
   "outputs": [],
   "source": [
    "import objgraph  # 메모리 사용량 출력하는 함수"
   ]
  },
  {
   "cell_type": "code",
   "execution_count": 28,
   "id": "cb7455cd",
   "metadata": {},
   "outputs": [
    {
     "name": "stdout",
     "output_type": "stream",
     "text": [
      "dict          34100\n",
      "list          26014\n",
      "function      18545\n",
      "Token         16803\n",
      "tuple         13236\n",
      "Operator      8519\n",
      "Name          7991\n",
      "ReferenceType 5494\n",
      "DFAPlan       5418\n",
      "PythonNode    4827\n"
     ]
    }
   ],
   "source": [
    "objgraph.show_most_common_types()"
   ]
  },
  {
   "cell_type": "markdown",
   "id": "9b842df6",
   "metadata": {},
   "source": [
    "# 5절. 연습문제"
   ]
  },
  {
   "cell_type": "code",
   "execution_count": 35,
   "id": "437d7102",
   "metadata": {},
   "outputs": [
    {
     "name": "stdout",
     "output_type": "stream",
     "text": [
      "정답 : 3\n"
     ]
    }
   ],
   "source": [
    "# ex1. 파이썬의 모듈과 패키지에 대해 잘 못 설명한 것은?\n",
    "'''\n",
    "1. 모듈은 파일 단위로 작성하며 확장자가 .py인 파이썬 파일이다\n",
    "2. 패키지는 모듈들의 모음이며 디렉터리 단위로 존재한다\n",
    "3. 파이썬의 표준 라이브러리는 import 하지 않고 사용할 수 있다\n",
    "4. 일부 모듈 세트는 특정 플랫폼에서만 사용할 수 있다\n",
    "'''\n",
    "\n",
    "print('정답 : 3')"
   ]
  },
  {
   "cell_type": "code",
   "execution_count": 36,
   "id": "cdf8d67d",
   "metadata": {},
   "outputs": [
    {
     "name": "stdout",
     "output_type": "stream",
     "text": [
      "정답 : 4\n"
     ]
    }
   ],
   "source": [
    "# ex2. 다음 중 모듈의 import와 import 후 사용 방법이 잘 못 된 것은?\n",
    "'''\n",
    "1.  import time\n",
    "    time.ctime()\n",
    "2.  import time as t\n",
    "    t.ctime()\n",
    "3.  from time import ctime\n",
    "    ctime()\n",
    "4.  from time import ctime as ct\n",
    "    ctime()\n",
    "'''\n",
    "\n",
    "print('정답 : 4')"
   ]
  },
  {
   "cell_type": "code",
   "execution_count": 37,
   "id": "0a92f895",
   "metadata": {},
   "outputs": [
    {
     "name": "stdout",
     "output_type": "stream",
     "text": [
      "정답 : __init__.py\n"
     ]
    }
   ],
   "source": [
    "# ex3. 파이썬이 디렉터리를 패키지에 포함하도록 처리하기 위해 필요한 파일은?\n",
    "\n",
    "print('정답 : __init__.py')"
   ]
  },
  {
   "cell_type": "code",
   "execution_count": 38,
   "id": "515b871d",
   "metadata": {},
   "outputs": [
    {
     "name": "stdout",
     "output_type": "stream",
     "text": [
      "정답 : __all__\n"
     ]
    }
   ],
   "source": [
    "# ex4. import *을 이용하면 패키지에 있는 서브 모듈을 찾아서 모두 가져옵니다\n",
    "#      그렇기 때문에 패키지 작성자가 패키지의 명시적 색인을 제공하기 위해 사용하는 속성의 이름은 무엇인가요?\n",
    "\n",
    "print('정답 : __all__')"
   ]
  },
  {
   "cell_type": "code",
   "execution_count": 39,
   "id": "0f9e1b9f",
   "metadata": {},
   "outputs": [
    {
     "name": "stdout",
     "output_type": "stream",
     "text": [
      "정답 : 1\n"
     ]
    }
   ],
   "source": [
    "# ex5. 다음 중 파이썬 패키지를 설치하는 방법이 아닌 것은?\n",
    "'''\n",
    "1. python -m pip install --upgrade pip\n",
    "2. pip install 패키지명\n",
    "3. conda install 패키지명\n",
    "4. pip install 휠(whl)파일결로\n",
    "'''\n",
    "\n",
    "print('정답 : 1')"
   ]
  },
  {
   "cell_type": "code",
   "execution_count": 31,
   "id": "add6154a",
   "metadata": {},
   "outputs": [],
   "source": [
    "# 1 (3)\n",
    "# 2 (4)\n",
    "# 3 __init__.py\n",
    "# 4 __all__\n",
    "# 5 (1) python -m pip --upgrade pip (pip 최신버전 업그레이드)"
   ]
  }
 ],
 "metadata": {
  "kernelspec": {
   "display_name": "Python 3 (ipykernel)",
   "language": "python",
   "name": "python3"
  },
  "language_info": {
   "codemirror_mode": {
    "name": "ipython",
    "version": 3
   },
   "file_extension": ".py",
   "mimetype": "text/x-python",
   "name": "python",
   "nbconvert_exporter": "python",
   "pygments_lexer": "ipython3",
   "version": "3.10.9"
  },
  "toc": {
   "base_numbering": 1,
   "nav_menu": {},
   "number_sections": false,
   "sideBar": true,
   "skip_h1_title": false,
   "title_cell": "Table of Contents",
   "title_sidebar": "Contents",
   "toc_cell": false,
   "toc_position": {
    "height": "calc(100% - 180px)",
    "left": "10px",
    "top": "150px",
    "width": "290.55px"
   },
   "toc_section_display": true,
   "toc_window_display": true
  }
 },
 "nbformat": 4,
 "nbformat_minor": 5
}
