{
 "cells": [
  {
   "cell_type": "code",
   "execution_count": 1,
   "id": "ae40c5f4",
   "metadata": {},
   "outputs": [
    {
     "data": {
      "text/html": [
       "<style>\n",
       "div.container{width:86% !important;}\n",
       "div.cell.code_cell.rendered{width:100%;}\n",
       "div.CodeMirror {font-family:Consolas; font-size:12pt;}\n",
       "div.output {font-size:12pt; font-weight:bold;}\n",
       "div.input {font-family:Consolas; font-size:12pt;}\n",
       "div.prompt {min-width:70px;}\n",
       "div#toc-wrapper{padding-top:120px;}\n",
       "div.text_cell_render ul li{fontsize:12pt;padding:5px;}\n",
       "table.dataframe{font-size:12px;}))\n",
       "</style>\n"
      ],
      "text/plain": [
       "<IPython.core.display.HTML object>"
      ]
     },
     "metadata": {},
     "output_type": "display_data"
    }
   ],
   "source": [
    "from IPython.display import display, HTML\n",
    "display(HTML(\"\"\"<style>\n",
    "div.container{width:86% !important;}\n",
    "div.cell.code_cell.rendered{width:100%;}\n",
    "div.CodeMirror {font-family:Consolas; font-size:12pt;}\n",
    "div.output {font-size:12pt; font-weight:bold;}\n",
    "div.input {font-family:Consolas; font-size:12pt;}\n",
    "div.prompt {min-width:70px;}\n",
    "div#toc-wrapper{padding-top:120px;}\n",
    "div.text_cell_render ul li{fontsize:12pt;padding:5px;}\n",
    "table.dataframe{font-size:12px;}))\n",
    "</style>\n",
    "\"\"\"))"
   ]
  },
  {
   "cell_type": "markdown",
   "id": "0788c3a8",
   "metadata": {},
   "source": [
    "<font size=\"5\" color=\"red\">ch07 객체 지향 프로그래밍</font>"
   ]
  },
  {
   "cell_type": "code",
   "execution_count": 5,
   "id": "48fe3131",
   "metadata": {},
   "outputs": [
    {
     "name": "stdout",
     "output_type": "stream",
     "text": [
      "홍길동 남자 MBC\n",
      "홍낄쑥 None MBC\n",
      "{'name': '홍낄쑥', 'sender': '여자', 'accademy': 'MBC'}\n"
     ]
    }
   ],
   "source": [
    "person1 = {'name':'홍길동', 'gender':'남자', 'accademy':'MBC'}\n",
    "person2 = {'name':'홍길숙', 'sender':'여자', 'accademy':'MBC'}\n",
    "\n",
    "print(person1['name'], person1['gender'], person1['accademy'])\n",
    "person2['name'] = '홍낄쑥'\n",
    "\n",
    "print(person2['name'], person2.get('gender'), person2['accademy'])\n",
    "print(person2)"
   ]
  },
  {
   "cell_type": "code",
   "execution_count": 17,
   "id": "c2a5fc54",
   "metadata": {},
   "outputs": [],
   "source": [
    "class Person() :\n",
    "    accademy = 'MBC'  # 클래스 변수\n",
    "    \n",
    "    def __init__(self, name, gender) :  # 생성자함수\n",
    "        self.name = name  # 객체안의 변수 (인스턴스 변수)\n",
    "        self.gender = gender\n",
    "        \n",
    "    def print_info(self) :\n",
    "        print('{}는 {}입니다 {}를 다닙니다'.format(self.name,\n",
    "                                                 self.gender,\n",
    "                                                 self.accademy))\n",
    "    def __str__(self) :\n",
    "        return \"{}는 {}입니다 {}를 다닙니다\".format(self.name,\n",
    "                                                  self.gender,\n",
    "                                                  self.accademy)"
   ]
  },
  {
   "cell_type": "code",
   "execution_count": 19,
   "id": "bb32d01b",
   "metadata": {},
   "outputs": [
    {
     "name": "stdout",
     "output_type": "stream",
     "text": [
      "홍길동는 남자입니다 MBC를 다닙니다\n",
      "홍길숙는 여자입니다 MBC를 다닙니다\n",
      "마길동는 남자입니다 MBC를 다닙니다\n",
      "홍길숙는 여자입니다 CBC를 다닙니다\n",
      "마길동는 남자입니다 MBC를 다닙니다\n",
      "홍길숙는 여자입니다 CBC를 다닙니다\n"
     ]
    }
   ],
   "source": [
    "p1 = Person('홍길동', '남자')\n",
    "p2 = Person('홍길숙', '여자')\n",
    "\n",
    "p1.print_info()\n",
    "p2.print_info()\n",
    "\n",
    "p1.name = '마길동'\n",
    "p2.accademy = 'CBC'\n",
    "\n",
    "p1.print_info()\n",
    "p2.print_info()\n",
    "\n",
    "print(p1)\n",
    "print(p2)"
   ]
  },
  {
   "cell_type": "markdown",
   "id": "499e12e4",
   "metadata": {},
   "source": [
    "# 1절. 객체와 클래스\n",
    "```\n",
    "class 클래스명 (상속받을 클래스명) :\n",
    "    변수나 함수들 선언\n",
    "```"
   ]
  },
  {
   "cell_type": "code",
   "execution_count": 23,
   "id": "d6dc7f8f",
   "metadata": {},
   "outputs": [
    {
     "name": "stdout",
     "output_type": "stream",
     "text": [
      "<__main__.Person object at 0x000001E25566F580>\n",
      "<class '__main__.Person'>\n"
     ]
    }
   ],
   "source": [
    "class Person :\n",
    "    '''\n",
    "    Person 클래스는 어쩌구 저쩌구 설명하는 독스트링\n",
    "    생성자 함수가 없을 경우, default 생성자 함수가 자동 생성\n",
    "    '''\n",
    "    \n",
    "    pass\n",
    "\n",
    "p1 = Person()\n",
    "print(p1.__str__())\n",
    "print(type(p1))"
   ]
  },
  {
   "cell_type": "code",
   "execution_count": 24,
   "id": "ae5845f5",
   "metadata": {},
   "outputs": [
    {
     "data": {
      "text/plain": [
       "True"
      ]
     },
     "execution_count": 24,
     "metadata": {},
     "output_type": "execute_result"
    }
   ],
   "source": [
    "isinstance(p1, Person)"
   ]
  },
  {
   "cell_type": "code",
   "execution_count": 25,
   "id": "b145be38",
   "metadata": {},
   "outputs": [
    {
     "data": {
      "text/plain": [
       "'\\n    Person 클래스는 어쩌구 저쩌구 설명하는 독스트링\\n    생성자 함수가 없을 경우, default 생성자 함수가 자동 생성\\n    '"
      ]
     },
     "execution_count": 25,
     "metadata": {},
     "output_type": "execute_result"
    }
   ],
   "source": [
    "p1.__doc__"
   ]
  },
  {
   "cell_type": "markdown",
   "id": "c8566736",
   "metadata": {},
   "source": [
    "# 2절. 생성자와 소멸자\n",
    "\n",
    "```\n",
    "생성자 : __init__(self, 매개변수, ...) - 객체가 생성될 때 자동 생성\n",
    "        객체 생성시 100% 필요한 인스턴스 변수 초기화를 포함\n",
    "소멸자 : __del__(self) - 객체가 소멸될 때 자동 실행\n",
    "        인스턴스 객체의 래퍼런스 카운트가 0이 될 때 실행\n",
    "```"
   ]
  },
  {
   "cell_type": "code",
   "execution_count": 1,
   "id": "a2f7d0d8",
   "metadata": {},
   "outputs": [],
   "source": [
    "class Person :\n",
    "    \n",
    "    def __init__(self, name, gender = '남자') :  # 파이썬은 함수 오버로딩 (함수 중복 정의) 지원 안됨\n",
    "        self.name = name     # 인스턴스 변수\n",
    "        self.gender = gender\n",
    "        print('Person 객체를 생성합니다', name)\n",
    "        \n",
    "    def __del__(self) :\n",
    "        print('Person 객체를 소멸시키니다', self.name)\n",
    "    \n",
    "    def print_info(self) :\n",
    "        print('{}는 {}입니다'.format(self.name, self.gender))\n",
    "        \n",
    "    def __str__(self) :  # 오버라이딩 (함수 재정의)\n",
    "        return f\"{self.name}는 {self.gender}입니다\""
   ]
  },
  {
   "cell_type": "code",
   "execution_count": 2,
   "id": "4c5fb1cc",
   "metadata": {},
   "outputs": [
    {
     "name": "stdout",
     "output_type": "stream",
     "text": [
      "Person 객체를 생성합니다 신사임당\n"
     ]
    }
   ],
   "source": [
    "p1 = Person('신사임당', '여자')"
   ]
  },
  {
   "cell_type": "code",
   "execution_count": 3,
   "id": "dc1dde76",
   "metadata": {},
   "outputs": [
    {
     "name": "stdout",
     "output_type": "stream",
     "text": [
      "Person 객체를 생성합니다 홍길동\n",
      "홍길동는 남자입니다\n"
     ]
    }
   ],
   "source": [
    "p2 = Person('홍길동')\n",
    "print(p2)"
   ]
  },
  {
   "cell_type": "code",
   "execution_count": 4,
   "id": "719f6f9e",
   "metadata": {},
   "outputs": [],
   "source": [
    "p3 = p2"
   ]
  },
  {
   "cell_type": "code",
   "execution_count": 5,
   "id": "23e3f86e",
   "metadata": {},
   "outputs": [
    {
     "name": "stdout",
     "output_type": "stream",
     "text": [
      "Person 객체를 소멸시키니다 신사임당\n"
     ]
    }
   ],
   "source": [
    "del p1"
   ]
  },
  {
   "cell_type": "code",
   "execution_count": 6,
   "id": "33a5ace6",
   "metadata": {},
   "outputs": [],
   "source": [
    "del p2"
   ]
  },
  {
   "cell_type": "code",
   "execution_count": 7,
   "id": "add37a05",
   "metadata": {},
   "outputs": [
    {
     "name": "stdout",
     "output_type": "stream",
     "text": [
      "Person 객체를 소멸시키니다 홍길동\n"
     ]
    }
   ],
   "source": [
    "del p3"
   ]
  },
  {
   "cell_type": "markdown",
   "id": "53def4d4",
   "metadata": {},
   "source": [
    "# 3절. 변수와 메소드\n",
    "\n",
    "- 인스턴스 변수 vs 클래스 변수\n",
    "- 인스턴스 메소드(self) vs 클래스 메소드(clz) vs static 메소드()"
   ]
  },
  {
   "cell_type": "code",
   "execution_count": 8,
   "id": "93499e9d",
   "metadata": {},
   "outputs": [
    {
     "name": "stdout",
     "output_type": "stream",
     "text": [
      "홍길동 남자\n"
     ]
    }
   ],
   "source": [
    "class Person :\n",
    "    name = \"홍길동\"  # 클래스 변수\n",
    "    gender = \"남자\"\n",
    "print(Person.name, Person.gender)"
   ]
  },
  {
   "cell_type": "code",
   "execution_count": 9,
   "id": "1a6d85f5",
   "metadata": {},
   "outputs": [
    {
     "name": "stdout",
     "output_type": "stream",
     "text": [
      "홍길동 남자\n",
      "홍길동 남자\n",
      "홍길동 남자\n"
     ]
    }
   ],
   "source": [
    "p1 = Person()\n",
    "p2 = Person()\n",
    "\n",
    "print(Person.name, Person.gender)\n",
    "print(p1.name, p1.gender)\n",
    "print(p2.name, p2.gender)"
   ]
  },
  {
   "cell_type": "code",
   "execution_count": 10,
   "id": "a081ef40",
   "metadata": {},
   "outputs": [
    {
     "name": "stdout",
     "output_type": "stream",
     "text": [
      "홍길동 남자\n",
      "홍길동 남자\n",
      "이순신 남자\n"
     ]
    }
   ],
   "source": [
    "p2.name = \"이순신\"\n",
    "\n",
    "print(Person.name, Person.gender)\n",
    "print(p1.name, p1.gender)\n",
    "print(p2.name, p2.gender)"
   ]
  },
  {
   "cell_type": "code",
   "execution_count": 11,
   "id": "c9bd387e",
   "metadata": {},
   "outputs": [
    {
     "name": "stdout",
     "output_type": "stream",
     "text": [
      "리사 여자\n",
      "리사 여자\n",
      "이순신 여자\n"
     ]
    }
   ],
   "source": [
    "Person.name = \"리사\"\n",
    "Person.gender = '여자'\n",
    "\n",
    "print(Person.name, Person.gender)\n",
    "print(p1.name, p1.gender)\n",
    "print(p2.name, p2.gender)"
   ]
  },
  {
   "cell_type": "markdown",
   "id": "e12ab686",
   "metadata": {},
   "source": [
    "※ 인스턴스 메소드(self) vs 클래스 메소드(clz) vs static 메소드()\n",
    "\n",
    "- 인스턴스 메소드 : 첫번째 인자에 self를 꼭 명시. 객체를 통해서만 호출할 수 있는 메소드\n",
    "- 클래스 메소드 : 메소드 위에 @classmethod를 선언한 메소드. 첫번째 인자에 cls(clz) 꼭 명시\n",
    "- static 메소드 : 메소드 위에 @staticmethod를 선언한 메소드. 인자를 넣지 않음"
   ]
  },
  {
   "cell_type": "code",
   "execution_count": 12,
   "id": "da6a1e77",
   "metadata": {},
   "outputs": [],
   "source": [
    "class Person :\n",
    "    name = \"홍길동\"\n",
    "    gender = \"남자\"\n",
    "    \n",
    "    def print_info(self) :  # 객체변수명.print_info()로 호출\n",
    "        print(f\"인스턴스(일반) 메소드 - {self.name}는 {self.gender}입니다\")\n",
    "    \n",
    "    def change_info(self, name, gender = \"남자\") :  # 객체변수.change_info(\"김\", \"여자\")\n",
    "        self.name = name\n",
    "        self.gender = gender\n",
    "        print(f\"인스턴스(일반) 메소드 - {name} / {self.gender}로 변경 완료\")\n",
    "    \n",
    "    @classmethod\n",
    "    def do_(clz) :  # clz == Person. 클래스 변수를 이용한 로직. Person.do_() 호출\n",
    "        clz.name = \"신사임당\"\n",
    "        clz.gender = \"여자\"\n",
    "        print(f\"클래스 메소드 - {clz.name} / {clz.gender}로 변경 완료\")\n",
    "    \n",
    "    @staticmethod\n",
    "    def that_() :  # 클래스 변수를 이용한 로직이 우선일 경우. Person.that_() 호출\n",
    "        Person.name = \"신길동\"\n",
    "        Person.gender = \"남자\"\n",
    "        print(f\"static 메소드 - {Person.name} / {Person.gender}로 변경 완료\")"
   ]
  },
  {
   "cell_type": "code",
   "execution_count": 14,
   "id": "91735821",
   "metadata": {},
   "outputs": [
    {
     "name": "stdout",
     "output_type": "stream",
     "text": [
      "인스턴스(일반) 메소드 - 홍길동는 남자입니다\n"
     ]
    }
   ],
   "source": [
    "p1 = Person()\n",
    "p1.print_info()"
   ]
  },
  {
   "cell_type": "code",
   "execution_count": 15,
   "id": "3dc92cce",
   "metadata": {},
   "outputs": [
    {
     "name": "stdout",
     "output_type": "stream",
     "text": [
      "클래스 메소드 - 신사임당 / 여자로 변경 완료\n"
     ]
    }
   ],
   "source": [
    "Person.do_()"
   ]
  },
  {
   "cell_type": "code",
   "execution_count": 16,
   "id": "29828aee",
   "metadata": {},
   "outputs": [
    {
     "name": "stdout",
     "output_type": "stream",
     "text": [
      "static 메소드 - 신길동 / 남자로 변경 완료\n"
     ]
    }
   ],
   "source": [
    "Person.that_()"
   ]
  },
  {
   "cell_type": "code",
   "execution_count": 17,
   "id": "81bafc6b",
   "metadata": {},
   "outputs": [
    {
     "name": "stdout",
     "output_type": "stream",
     "text": [
      "인스턴스(일반) 메소드 - 신길동는 남자입니다\n"
     ]
    }
   ],
   "source": [
    "p1.print_info()"
   ]
  },
  {
   "cell_type": "markdown",
   "id": "29c13162",
   "metadata": {},
   "source": [
    "## 요약\n",
    "\n",
    "**객체를 이용하면 객체에 정보를 저장하고, 그 정보를 이용해서 어떤 기능을 수행할 수 있다**\n",
    "**객체 = 데이터(변수:객체마다 고유의 값) + 기능(메소드, 함수)**\n",
    "**그 객체를 만들기 위한 틀 => 클래스**\n",
    "```\n",
    "    class 클래스 명 :\n",
    "        '독스트링'\n",
    "        클래스변수명 = 값\n",
    "        def __init__(self, [객체멤버를 초기화할 변수 = 값, ...]) :\n",
    "            self.인스턴스(일반)변수 = 값\n",
    "            객체를 생성할 때 객체 멤버변수의 초기화\n",
    "        \n",
    "        def method(self) :\n",
    "            인스턴스 메소드(일반함수)의 개개변수는 self를 반드시 포함\n",
    "            \n",
    "        @class method\n",
    "        def classmethod(cls) :\n",
    "            코드\n",
    "        \n",
    "        @staticmethod\n",
    "        def staticmethod() :\n",
    "            코드\n",
    "    \n",
    "    객체 = 클래스명()\n",
    "    객체변수.method()\n",
    "    클래스명.classmethod()\n",
    "    클래스명.staticmethod()\n",
    "```"
   ]
  },
  {
   "cell_type": "code",
   "execution_count": 3,
   "id": "8cade154",
   "metadata": {},
   "outputs": [
    {
     "name": "stdout",
     "output_type": "stream",
     "text": [
      "홍길동입니다\n",
      "홍길동입니다\n"
     ]
    },
    {
     "data": {
      "text/plain": [
       "(True, True)"
      ]
     },
     "execution_count": 3,
     "metadata": {},
     "output_type": "execute_result"
    }
   ],
   "source": [
    "class Person :\n",
    "    def __init__(self, name) :\n",
    "        self.name = name\n",
    "    \n",
    "    def __str__(self) :\n",
    "        return f'{self.name}입니다'\n",
    "    \n",
    "    def print_info(self) :\n",
    "#         print(f'{self.name}입니다')\n",
    "        print(self)  # == print(self.__str__)\n",
    "    \n",
    "p = Person('홍길동')\n",
    "p.print_info()\n",
    "print(p)\n",
    "\n",
    "# 파이썬은 동적으로 인스턴스 멤버 추가가 가능하다\n",
    "p.nickname = '홍별명'\n",
    "p1 = Person('홍길숙')\n",
    "isinstance(p, Person), isinstance(p1, Person)"
   ]
  },
  {
   "cell_type": "markdown",
   "id": "db07871e",
   "metadata": {},
   "source": [
    "# 4절. 상속과 재정의\n",
    "\n",
    "- 클래스를 재사용\n",
    "- 상속을 이용하면 부모클래스의 모든 속성을 자식클래스로 물려줄 수 있음\n",
    "- class 자식클래스명(부모클래스명) :"
   ]
  },
  {
   "cell_type": "code",
   "execution_count": 4,
   "id": "80cfb4cb",
   "metadata": {},
   "outputs": [
    {
     "name": "stdout",
     "output_type": "stream",
     "text": [
      "두 수 초기화\n",
      "4\n",
      "4\n"
     ]
    }
   ],
   "source": [
    "class Cal :\n",
    "    def __init__(self, num1 = 1, num2 = 2) :\n",
    "        print('두 수 초기화')\n",
    "        self.num1 = num1\n",
    "        self.num2 = num2\n",
    "    \n",
    "    def add(self) :\n",
    "        return self.num1 + self.num2\n",
    "    \n",
    "    def sub(self) :\n",
    "        return self.num1 - self.num2\n",
    "    \n",
    "    def div(self) :\n",
    "        return self.num1 / self.num2 if self.num2 != 0 else '0으로 나눌 수 없습니다'\n",
    "    \n",
    "    def __str__(self):\n",
    "        return 'num1={}, num2={}'.format(self.num1, self.num2)\n",
    "\n",
    "class Cal_inherit(Cal):\n",
    "    def mul(self):\n",
    "        return self.num1 * self.num2\n",
    "    \n",
    "obj1 = Cal_inherit(2, 2)\n",
    "print(obj1.add())\n",
    "print(obj1.mul())"
   ]
  },
  {
   "cell_type": "code",
   "execution_count": 5,
   "id": "103c30de",
   "metadata": {},
   "outputs": [
    {
     "data": {
      "text/plain": [
       "(type, type)"
      ]
     },
     "execution_count": 5,
     "metadata": {},
     "output_type": "execute_result"
    }
   ],
   "source": [
    "type(Cal), type(Cal_inherit)"
   ]
  },
  {
   "cell_type": "code",
   "execution_count": 6,
   "id": "8ba40a7f",
   "metadata": {},
   "outputs": [
    {
     "data": {
      "text/plain": [
       "(__main__.Cal_inherit, True, True)"
      ]
     },
     "execution_count": 6,
     "metadata": {},
     "output_type": "execute_result"
    }
   ],
   "source": [
    "type(obj1), isinstance(obj1, Cal_inherit), isinstance(obj1, Cal)\n",
    "# Cal_inherit is a Cal (상속은 is a 관계)"
   ]
  },
  {
   "cell_type": "code",
   "execution_count": 8,
   "id": "b056a9ac",
   "metadata": {},
   "outputs": [
    {
     "name": "stdout",
     "output_type": "stream",
     "text": [
      "이름과 성별 초기화\n",
      "홍길동님은 남자\n",
      "홍길동님은 남자\n"
     ]
    }
   ],
   "source": [
    "class Person : \n",
    "    'Person은 이름과 성별을 멤버변수로 갖고, 출력 가능'\n",
    "    def __init__(self, name, gender) :\n",
    "        print('이름과 성별 초기화')\n",
    "        self.name = name\n",
    "        self.gender = gender\n",
    "    \n",
    "    def __str__(self) :\n",
    "        return \"{}님은 {}\".format(self.name, self.gender)\n",
    "    \n",
    "    def print_info(self) :\n",
    "        print(self)\n",
    "        \n",
    "p = Person(\"홍길동\", \"남자\")\n",
    "p.print_info()\n",
    "Person.print_info(p)"
   ]
  },
  {
   "cell_type": "code",
   "execution_count": 10,
   "id": "4295e6c7",
   "metadata": {},
   "outputs": [],
   "source": [
    "# override : 함수의 재정의 (부모클래스의 함수를 자식클래스에서 다시 정의)\n",
    "# overload : 함수의 중복정의 (같은 이름의 함수를 매개변수 갯수를 달리 해서 정의) - 불가\n",
    "\n",
    "class Student(Person) :\n",
    "    def __init__(self, name, gender, major) :\n",
    "#         self.name = name\n",
    "#         self.gender = gender\n",
    "        super().__init__(name, gender)  # super() : \"부모클래스의\"를 의미\n",
    "#         Person.__init__(self, name, gender)\n",
    "        self.major = major\n",
    "    \n",
    "    def __str__(self) :  # override\n",
    "        return super().__str__() + \"이고, 전공은 {}\".format(self.major)"
   ]
  },
  {
   "cell_type": "code",
   "execution_count": 11,
   "id": "60e403e3",
   "metadata": {
    "scrolled": true
   },
   "outputs": [
    {
     "name": "stdout",
     "output_type": "stream",
     "text": [
      "이름과 성별 초기화\n",
      "홍길숙님은 여자이고, 전공은 AI\n",
      "홍길숙님은 여자이고, 전공은 AI\n"
     ]
    }
   ],
   "source": [
    "s = Student(\"홍길숙\", \"여자\", \"AI\")\n",
    "print(s)\n",
    "s.print_info()"
   ]
  },
  {
   "cell_type": "code",
   "execution_count": 13,
   "id": "ff4c9c71",
   "metadata": {},
   "outputs": [
    {
     "data": {
      "text/plain": [
       "(True, True)"
      ]
     },
     "execution_count": 13,
     "metadata": {},
     "output_type": "execute_result"
    }
   ],
   "source": [
    "isinstance(s, Student), isinstance(s, Person)"
   ]
  },
  {
   "cell_type": "markdown",
   "id": "68bf39f2",
   "metadata": {},
   "source": [
    "## 정적변수(static 변수) : 여러 객체들 사이에 데이터를 공유하고 싶을 때 사용\n",
    "\n",
    "- static 변수 앞에 under score 2개(__)를 붙이면 클래스명.클래스명__static변수명으로 참조\n",
    "- 클래스 변수는 외부에서 바로 접근 가능\n",
    "- static 변수는 외부에서 바로 접근하는 것을 방지\n",
    "- static 변수는 클래스 내부에서만 접근하도록 하려는 의도"
   ]
  },
  {
   "cell_type": "code",
   "execution_count": 1,
   "id": "83876e33",
   "metadata": {},
   "outputs": [],
   "source": [
    "class Person :\n",
    "    def __init__(self, name, gender) :\n",
    "        self.name = name\n",
    "        self.gender = gender\n",
    "        \n",
    "    def print_info(self) :  # 추상메소드\n",
    "        raise Exception(\"이 메소드는 호출하면 예외가 납니다\")  # 강제 예외 발생\n",
    "        \n",
    "    def __str__(self) :\n",
    "        return f'{self.name}은 {self.gender}'\n",
    "    \n",
    "class Student(Person) :\n",
    "    __count = 0  # static 변수 (객체의 갯수)\n",
    "#     클래스명.__클래스명__count로 사용, 클래스명.__count는 외부에서 접근 불가\n",
    "\n",
    "    def __init__(self, name, gender, major) :\n",
    "        super().__init__(name, gender)\n",
    "        self.major = major\n",
    "        Student._Student__count += 1  # 객체가 생성될 때마다 __count 1 증가\n",
    "    \n",
    "    def __del__(self) :\n",
    "        Student._Student__count -= 1\n",
    "        print(\"객체가 소멸합니다\")\n",
    "        \n",
    "    def print_info(self) :\n",
    "        print(\"{}는 {}이고, 전공은 {} ({}번째 객체)\".format(self.name,\n",
    "                                                     self.gender,\n",
    "                                                     self.major,\n",
    "                                                     Student._Student__count))\n",
    "        \n",
    "    def __str__(self) :\n",
    "        return super().__str__() + \"이고, 전공은 {}\".format(self.major)\n",
    "    \n",
    "    @classmethod\n",
    "    def get_count(cls) :\n",
    "#         return cls.__count\n",
    "        return Student._Student__count"
   ]
  },
  {
   "cell_type": "code",
   "execution_count": 2,
   "id": "df960d0b",
   "metadata": {},
   "outputs": [
    {
     "name": "stdout",
     "output_type": "stream",
     "text": [
      "홍길동는 남자이고, 전공은 AI (1번째 객체)\n"
     ]
    }
   ],
   "source": [
    "# p = Person(\"홍\", \"남자\")\n",
    "# p.print_info()  # 추상메소드\n",
    "s1 = Student(\"홍길동\", \"남자\", \"AI\")\n",
    "s1.print_info()"
   ]
  },
  {
   "cell_type": "code",
   "execution_count": 3,
   "id": "d9686f58",
   "metadata": {},
   "outputs": [
    {
     "name": "stdout",
     "output_type": "stream",
     "text": [
      "김길숙는 여자이고, 전공은 데이터 (2번째 객체)\n"
     ]
    }
   ],
   "source": [
    "s2 = Student(\"김길숙\", \"여자\", \"데이터\")\n",
    "s2.print_info()"
   ]
  },
  {
   "cell_type": "code",
   "execution_count": 4,
   "id": "7104a3c8",
   "metadata": {},
   "outputs": [
    {
     "name": "stdout",
     "output_type": "stream",
     "text": [
      "신길동는 남자이고, 전공은 컴공 (3번째 객체)\n"
     ]
    }
   ],
   "source": [
    "s3 = Student(\"신길동\", \"남자\", \"컴공\")\n",
    "s3.print_info()"
   ]
  },
  {
   "cell_type": "code",
   "execution_count": 5,
   "id": "71188ae0",
   "metadata": {},
   "outputs": [
    {
     "data": {
      "text/plain": [
       "3"
      ]
     },
     "execution_count": 5,
     "metadata": {},
     "output_type": "execute_result"
    }
   ],
   "source": [
    "Student.get_count()"
   ]
  },
  {
   "cell_type": "code",
   "execution_count": 6,
   "id": "6ff31b9e",
   "metadata": {},
   "outputs": [
    {
     "name": "stdout",
     "output_type": "stream",
     "text": [
      "객체가 소멸합니다\n",
      "객체가 소멸합니다\n"
     ]
    }
   ],
   "source": [
    "del s2, s3"
   ]
  },
  {
   "cell_type": "code",
   "execution_count": 7,
   "id": "4e01cc75",
   "metadata": {},
   "outputs": [
    {
     "data": {
      "text/plain": [
       "1"
      ]
     },
     "execution_count": 7,
     "metadata": {},
     "output_type": "execute_result"
    }
   ],
   "source": [
    "Student.get_count()"
   ]
  },
  {
   "cell_type": "markdown",
   "id": "11a634b3",
   "metadata": {},
   "source": [
    "# 5절. 연습문제"
   ]
  },
  {
   "cell_type": "markdown",
   "id": "6673cf72",
   "metadata": {},
   "source": [
    "## 연습문제 실습형"
   ]
  },
  {
   "cell_type": "code",
   "execution_count": 1,
   "id": "48840619",
   "metadata": {},
   "outputs": [],
   "source": [
    "# ex1. 다음 조건을 만족하는 클래스를 작성하세요\n",
    "'''\n",
    " 도형(Shape)클래스와 삼각형(Triangle) 클래스를 만들어야 합니다.\n",
    " 도형(Shape)클래스\n",
    "    • 생성자를 통해 x, y좌표를 초기화할 수 있습니다. x, y좌표의 기본값은 0, 0입니다.\n",
    "    • x, y좌표를 이동시킬 수 있는 move 함수가 있습니다.\n",
    "    • x, y좌표값 정보를 문자열로 리턴하는 __str__ 함수가 있습니다\n",
    "    • 도형의 면적을 구하는 함수(calc_area)가 있습니다. 다만 도형 클래스의 calc_area()는 구현되어 있지 않아 \n",
    "      호출하면 오류가 발생합니다 (파이썬은 추상메소드가 없음. 추상메소드 역할을 구현)\n",
    "    • 정적메소드(staticmethod)를 하나 이상 구현합니다.\n",
    "‘삼각형(Triangle)클래스는 도형(Shape)클래스이다’관계가 성립해야 합니다\n",
    "    • 생성자를 통해, width, height, x, y좌표를 초기화하고 x, y 좌표의 기본값은 0, 0입니다\n",
    "    • 삼각형의 면적을 구하는 메소드 calc_area를 재정의합니다\n",
    "    • 삼각형의 정보를 문자열로 반환하는 __str__() 함수가 있습니다.\n",
    "    • 삼각형 객체가 몇 개가 만들어져 있는지 정보를 저장하는 클래스 변수를 추가하고 생성자에서 \n",
    "      객체를 만들 때마다 증가시키고 소멸자에서 객체를 소멸시킬 때마다 감소합니다\n",
    "'''\n",
    "\n",
    "class Shape : \n",
    "    def __init__(self, x = 0, y = 0) :\n",
    "        self.x = x\n",
    "        self.y = y\n",
    "    \n",
    "    def move(self, x, y) :\n",
    "        'x, y 좌표 이동'\n",
    "        self.x += x\n",
    "        self.y += y\n",
    "    \n",
    "    def __str__(self) :\n",
    "        return 'x좌표 : {}, y좌표 : {}'.format(self.x, self.y)\n",
    "    \n",
    "    def calc_area(self) :\n",
    "        raise Exception(\"이 메소드는 호출하면 예외가 납니다\")\n",
    "    @staticmethod\n",
    "    def staticmethod_() :\n",
    "        print('도형 클래스 staticmethod 호출')\n",
    "        \n",
    "class Triangle(Shape) :\n",
    "    __count = 0\n",
    "    def __init__(self, width, height, x = 0, y = 0) :\n",
    "        Triangle._Triangle__count += 1\n",
    "        self.width = width\n",
    "        self.height = height\n",
    "        super().__init__(x, y)\n",
    "    \n",
    "    def __del__(self) :\n",
    "        Triangle._Triangle__count -= 1\n",
    "    \n",
    "    def calc_area(self) :\n",
    "        return self.width * self.height / 2\n",
    "    \n",
    "    def __str__(self) :\n",
    "        return super().__str__() + \", width : {}, height : {}, area : {}\".format(self.width,\n",
    "                                                                                 self.height,\n",
    "                                                                                 self.calc_area())\n",
    "    \n",
    "    @classmethod\n",
    "    def get_count(cls) :\n",
    "#         return Triangle._Triangle__count\n",
    "        return cls.__count"
   ]
  },
  {
   "cell_type": "code",
   "execution_count": 2,
   "id": "674e4e8f",
   "metadata": {},
   "outputs": [
    {
     "name": "stdout",
     "output_type": "stream",
     "text": [
      "x좌표 : 2, y좌표 : 2\n",
      "x좌표 : 12, y좌표 : 7\n",
      "도형 클래스 staticmethod 호출\n"
     ]
    }
   ],
   "source": [
    "s = Shape(2,2)\n",
    "print(s)\n",
    "s.move(10,5)\n",
    "print(s)\n",
    "Shape.staticmethod_()"
   ]
  },
  {
   "cell_type": "code",
   "execution_count": 3,
   "id": "a7762cd8",
   "metadata": {},
   "outputs": [
    {
     "name": "stdout",
     "output_type": "stream",
     "text": [
      "x좌표 : 0, y좌표 : 10, width : 4, height : 3, area : 6.0\n",
      "x좌표 : 0, y좌표 : 0, width : 10, height : 20, area : 100.0\n",
      "x좌표 : 5, y좌표 : 5, width : 3, height : 4, area : 6.0\n",
      "Triangle 객체 갯수 : 3\n",
      "도형 클래스 staticmethod 호출\n"
     ]
    }
   ],
   "source": [
    "t = Triangle(4,3, 0,10)\n",
    "t1 = Triangle(10, 20)\n",
    "t2 = Triangle(3, 4, 5, 5)\n",
    "print(t)\n",
    "print(t1)\n",
    "print(t2)\n",
    "print('Triangle 객체 갯수 :', Triangle.get_count())\n",
    "Triangle.staticmethod_()"
   ]
  },
  {
   "cell_type": "markdown",
   "id": "06d4760a",
   "metadata": {},
   "source": [
    "## 연습문제 서술형"
   ]
  },
  {
   "cell_type": "code",
   "execution_count": 8,
   "id": "0b51354e",
   "metadata": {},
   "outputs": [
    {
     "name": "stdout",
     "output_type": "stream",
     "text": [
      "정답 : ①\n"
     ]
    }
   ],
   "source": [
    "# ex1. 다음 중 올바른 클래스 정의는?\n",
    "'''\n",
    "① class Person :\n",
    "② class Person() :\n",
    "③ p1 = Person()\n",
    "④ def Person :\n",
    "'''\n",
    "\n",
    "print('정답 : ①')"
   ]
  },
  {
   "cell_type": "code",
   "execution_count": 9,
   "id": "0606f144",
   "metadata": {},
   "outputs": [
    {
     "name": "stdout",
     "output_type": "stream",
     "text": [
      "정답 : ②\n"
     ]
    }
   ],
   "source": [
    "# ex2. 다음 중 Person 클래스의 객체를 생성하는 올바른 방법은?\n",
    "'''\n",
    "① p1 = Person\n",
    "② p1 = Person()\n",
    "③ Person.p1\n",
    "④ p1 = Person._init__()\n",
    "'''\n",
    "\n",
    "print('정답 : ②')"
   ]
  },
  {
   "cell_type": "code",
   "execution_count": 10,
   "id": "97918201",
   "metadata": {},
   "outputs": [
    {
     "name": "stdout",
     "output_type": "stream",
     "text": [
      "정답 : ④\n"
     ]
    }
   ],
   "source": [
    "# ex3. 다음 중 인스턴스 메소드를 선언하는 가장 올바른 방법은?\n",
    "'''\n",
    "① def print_info() :\n",
    "② @instancemethod\n",
    "   def print_info() :\n",
    "③ @method\n",
    "   def print_info() :\n",
    "④ def print_info(self) :\n",
    "'''\n",
    "\n",
    "print('정답 : ④')"
   ]
  },
  {
   "cell_type": "code",
   "execution_count": 12,
   "id": "7a44b1f8",
   "metadata": {},
   "outputs": [
    {
     "name": "stdout",
     "output_type": "stream",
     "text": [
      "정답 : ①\n"
     ]
    }
   ],
   "source": [
    "# ex4. 다음 중 생성자와 소멸자에 대해 잘못 설명한 것은?\n",
    "'''\n",
    "① 생성자는 중복(Overloading) 정의해서 사용할 수 있다\n",
    "② 소멸자는 객체 참조 수가 0이 되면 실행된다\n",
    "③ 생성자의 원형은 .init__(self)이다\n",
    "④ 생성자는 객체의 변수(또는 속성)를 초기화 하는데 사용한다\n",
    "'''\n",
    "\n",
    "print('정답 : ①')"
   ]
  },
  {
   "cell_type": "code",
   "execution_count": 13,
   "id": "f520d8f2",
   "metadata": {},
   "outputs": [
    {
     "name": "stdout",
     "output_type": "stream",
     "text": [
      "정답 : ②\n"
     ]
    }
   ],
   "source": [
    "# ex5. 다음 중 \"Student is a Person\"을 클래스 상속으로 바르게 표현한 것은?\n",
    "'''\n",
    "① class Person(Stuent) :\n",
    "② class Student(Person) :\n",
    "③ class Person is Student :\n",
    "④ class Student : Person :\n",
    "'''\n",
    "\n",
    "print('정답 : ②')"
   ]
  },
  {
   "cell_type": "code",
   "execution_count": 14,
   "id": "7bdc1224",
   "metadata": {},
   "outputs": [
    {
     "name": "stdout",
     "output_type": "stream",
     "text": [
      "정답 : ③\n"
     ]
    }
   ],
   "source": [
    "# ex6. 다음 중 상속과 재정의(Overriding)에 대해 잘못 설명한 것은?\n",
    "'''\n",
    "① 부모클래스의 메소드를 자식클래스에서 정의하는 것을 '재정의'라고 한다\n",
    "② 메소드의 재정의는 상속을 전제로 한다\n",
    "③ 재정의는 메소드의 이름은 같고, 매개변수의 수는 다르게 정의해야 한다\n",
    "④ super()를 이용하면 부모의 멤버를 호출할 수 있다\n",
    "'''\n",
    "\n",
    "print('정답 : ③')"
   ]
  },
  {
   "cell_type": "code",
   "execution_count": 4,
   "id": "74b04d94",
   "metadata": {},
   "outputs": [
    {
     "name": "stdout",
     "output_type": "stream",
     "text": [
      "정답 : ③\n"
     ]
    }
   ],
   "source": [
    "# ex7. 다음 클래스의 메소를 호출하는 방법 중 잘못된 것은?\n",
    "'''\n",
    "Class SomeClass :\n",
    "    def method_a(self) :\n",
    "        print(\"method_a\")\n",
    "    \n",
    "    @classmethod\n",
    "    def method_b(cls) :\n",
    "        print(\"method_b\")\n",
    "\n",
    "obj = SomeClass()\n",
    "\n",
    "① obj.method_a()\n",
    "② obj.method_b()\n",
    "③ SomeClass.method_a()\n",
    "④ SomeClass.method_b()\n",
    "'''\n",
    "\n",
    "print('정답 : ③')"
   ]
  },
  {
   "cell_type": "code",
   "execution_count": 16,
   "id": "c89b0ee6",
   "metadata": {},
   "outputs": [
    {
     "name": "stdout",
     "output_type": "stream",
     "text": [
      "정답 : ③\n"
     ]
    }
   ],
   "source": [
    "# ex8. 두 클래스와 코드의 실행결과 다음과 같이 출력되도록 해야 한다면 빈 칸에 넣을 수 없는 것을 고르세요\n",
    "'''\n",
    "class Super :\n",
    "    def do_(self, a) :\n",
    "        print(\"super.do__\")\n",
    "        \n",
    "class Sub(Super) :\n",
    "    def do_(self, a) :\n",
    "        \n",
    "        print(\"sub.do__\")\n",
    "        \n",
    "s1 = Sub()\n",
    "s1.do__(10)\n",
    "\n",
    "① Super.do__(self, a) \n",
    "② super().do__(a)\n",
    "③ super.do__(a)\n",
    "'''\n",
    "\n",
    "print('정답 : ③')"
   ]
  },
  {
   "cell_type": "code",
   "execution_count": 5,
   "id": "a27362f5",
   "metadata": {},
   "outputs": [
    {
     "name": "stdout",
     "output_type": "stream",
     "text": [
      "정답 : ②\n"
     ]
    }
   ],
   "source": [
    "# ex9. 다음 중 파이썬의 특별한 용도로 정의되어 있는 속성과 메소드에 대한 설명 중 잘못된 것은?\n",
    "'''\n",
    "① __dict__ 속성을 이용하면 클래스의 멤버를 확인할 수 있다\n",
    "② __str__() 메소드는 print()함수의 인자로 객체로 전달할 때 호출되는 메소드이다\n",
    "   메소드는 매개변수를 가질 수 없다\n",
    "③ __doc__ 속성은 독스트링을 갖는다\n",
    "④ __init__() 메소드는 생성자를 정의할 때 사용한다\n",
    "'''\n",
    "\n",
    "print('정답 : ②')"
   ]
  },
  {
   "cell_type": "code",
   "execution_count": 6,
   "id": "78d97226",
   "metadata": {},
   "outputs": [
    {
     "name": "stdout",
     "output_type": "stream",
     "text": [
      "홍길동은 남자\n",
      "독스트링은 클래스의 대한 설명서\n"
     ]
    }
   ],
   "source": [
    "class Person:\n",
    "    '독스트링은 클래스 첫번째 줄에 있는 문자열(클래스 설명서)'\n",
    "    def __init__(self, name, gender): #생성자함수\n",
    "        self.name = name # 객체안의 변수(인스턴스 변수)\n",
    "        self.gender = gender\n",
    "        \n",
    "    def print_info(self):\n",
    "        print(\"{}는 {}입니다 {}를 다닙니다\".format(self.name,\n",
    "                                                 self.gender,\n",
    "                                                 self.accademy))\n",
    "    def __str__(self):\n",
    "        return \"{}는 {}입니다 {}를 다닙니다\".format(self.name,\n",
    "                                                  self.gender,\n",
    "                                                  self.accademy)\n",
    "    def as_dict(self):\n",
    "        return {'name':self.name,\n",
    "                'gender':self.gender}\n",
    "    \n",
    "p = Person(\"홍길동\", \"남자\")\n",
    "print(p.__dict__) # 객체를 딕셔너리 타입으로 전환\n",
    "print(p.as_dict())\n",
    "print(Person.__doc__)"
   ]
  }
 ],
 "metadata": {
  "kernelspec": {
   "display_name": "Python 3 (ipykernel)",
   "language": "python",
   "name": "python3"
  },
  "language_info": {
   "codemirror_mode": {
    "name": "ipython",
    "version": 3
   },
   "file_extension": ".py",
   "mimetype": "text/x-python",
   "name": "python",
   "nbconvert_exporter": "python",
   "pygments_lexer": "ipython3",
   "version": "3.10.9"
  },
  "toc": {
   "base_numbering": 1,
   "nav_menu": {},
   "number_sections": false,
   "sideBar": true,
   "skip_h1_title": false,
   "title_cell": "Table of Contents",
   "title_sidebar": "Contents",
   "toc_cell": false,
   "toc_position": {
    "height": "calc(100% - 180px)",
    "left": "10px",
    "top": "150px",
    "width": "214.55px"
   },
   "toc_section_display": true,
   "toc_window_display": true
  }
 },
 "nbformat": 4,
 "nbformat_minor": 5
}
