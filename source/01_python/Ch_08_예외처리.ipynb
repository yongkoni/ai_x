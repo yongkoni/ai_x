{
 "cells": [
  {
   "cell_type": "code",
   "execution_count": 1,
   "id": "6b2a25d1",
   "metadata": {},
   "outputs": [
    {
     "data": {
      "text/html": [
       "<style>\n",
       "div.container{width:86% !important;}\n",
       "div.cell.code_cell.rendered{width:100%;}\n",
       "div.CodeMirror {font-family:Consolas; font-size:12pt;}\n",
       "div.output {font-size:12pt; font-weight:bold;}\n",
       "div.input {font-family:Consolas; font-size:12pt;}\n",
       "div.prompt {min-width:70px;}\n",
       "div#toc-wrapper{padding-top:120px;}\n",
       "div.text_cell_render ul li{fontsize:12pt;padding:5px;}\n",
       "table.dataframe{font-size:12px;}))\n",
       "</style>\n"
      ],
      "text/plain": [
       "<IPython.core.display.HTML object>"
      ]
     },
     "metadata": {},
     "output_type": "display_data"
    }
   ],
   "source": [
    "from IPython.display import display, HTML\n",
    "display(HTML(\"\"\"<style>\n",
    "div.container{width:86% !important;}\n",
    "div.cell.code_cell.rendered{width:100%;}\n",
    "div.CodeMirror {font-family:Consolas; font-size:12pt;}\n",
    "div.output {font-size:12pt; font-weight:bold;}\n",
    "div.input {font-family:Consolas; font-size:12pt;}\n",
    "div.prompt {min-width:70px;}\n",
    "div#toc-wrapper{padding-top:120px;}\n",
    "div.text_cell_render ul li{fontsize:12pt;padding:5px;}\n",
    "table.dataframe{font-size:12px;}))\n",
    "</style>\n",
    "\"\"\"))"
   ]
  },
  {
   "cell_type": "markdown",
   "id": "26525ce3",
   "metadata": {},
   "source": [
    "<font size=\"5\" color=\"red\">ch08 예외처리</font>"
   ]
  },
  {
   "cell_type": "markdown",
   "id": "ed0298e0",
   "metadata": {},
   "source": [
    "# 1절. 예외처리\n",
    "\n",
    "- 예외가 날 가능성이 있는 부분에 대해 미리 예상하고, 그에 대한 처리를 프로그래밍하는 것 (이유 : 좀 더 안정적으로 실행)\n",
    "```\n",
    "ex1. 파일을 다룰 때 : 파일이 없거나, 쓰기 금지로 인한 오류\n",
    "ex2. 데이터베이스 프로그래밍 시 제약조건 등으로 CRUD(CREATE, READ, UPDATE, DELETE) 오류\n",
    "ex3. 네트워크 프로그래밍 시 일시적인 네트워크 장애시 연결 실패 오류\n",
    "ex4. 리스트나 튜플의 인덱스를 벗어난 오류\n",
    "```"
   ]
  },
  {
   "cell_type": "code",
   "execution_count": 5,
   "id": "7b69bbf2",
   "metadata": {},
   "outputs": [
    {
     "name": "stdout",
     "output_type": "stream",
     "text": [
      "파일명은(ch08.txt)?ch07.txt\n"
     ]
    },
    {
     "ename": "FileNotFoundError",
     "evalue": "[Errno 2] No such file or directory: 'data/ch07.txt'",
     "output_type": "error",
     "traceback": [
      "\u001b[1;31m---------------------------------------------------------------------------\u001b[0m",
      "\u001b[1;31mFileNotFoundError\u001b[0m                         Traceback (most recent call last)",
      "Cell \u001b[1;32mIn[5], line 2\u001b[0m\n\u001b[0;32m      1\u001b[0m filename \u001b[38;5;241m=\u001b[39m \u001b[38;5;28minput\u001b[39m(\u001b[38;5;124m'\u001b[39m\u001b[38;5;124m파일명은(ch08.txt)?\u001b[39m\u001b[38;5;124m'\u001b[39m)\n\u001b[1;32m----> 2\u001b[0m f \u001b[38;5;241m=\u001b[39m \u001b[38;5;28;43mopen\u001b[39;49m\u001b[43m(\u001b[49m\u001b[38;5;124;43m'\u001b[39;49m\u001b[38;5;124;43mdata/\u001b[39;49m\u001b[38;5;124;43m'\u001b[39;49m\u001b[43m \u001b[49m\u001b[38;5;241;43m+\u001b[39;49m\u001b[43m \u001b[49m\u001b[43mfilename\u001b[49m\u001b[43m,\u001b[49m\u001b[43m \u001b[49m\u001b[38;5;124;43m'\u001b[39;49m\u001b[38;5;124;43mr\u001b[39;49m\u001b[38;5;124;43m'\u001b[39;49m\u001b[43m)\u001b[49m  \u001b[38;5;66;03m# 읽기전용으로 파일을 열기\u001b[39;00m\n\u001b[0;32m      3\u001b[0m \u001b[38;5;28mprint\u001b[39m(f\u001b[38;5;241m.\u001b[39mread())\n\u001b[0;32m      4\u001b[0m f\u001b[38;5;241m.\u001b[39mclose()\n",
      "File \u001b[1;32m~\\anaconda3\\lib\\site-packages\\IPython\\core\\interactiveshell.py:282\u001b[0m, in \u001b[0;36m_modified_open\u001b[1;34m(file, *args, **kwargs)\u001b[0m\n\u001b[0;32m    275\u001b[0m \u001b[38;5;28;01mif\u001b[39;00m file \u001b[38;5;129;01min\u001b[39;00m {\u001b[38;5;241m0\u001b[39m, \u001b[38;5;241m1\u001b[39m, \u001b[38;5;241m2\u001b[39m}:\n\u001b[0;32m    276\u001b[0m     \u001b[38;5;28;01mraise\u001b[39;00m \u001b[38;5;167;01mValueError\u001b[39;00m(\n\u001b[0;32m    277\u001b[0m         \u001b[38;5;124mf\u001b[39m\u001b[38;5;124m\"\u001b[39m\u001b[38;5;124mIPython won\u001b[39m\u001b[38;5;124m'\u001b[39m\u001b[38;5;124mt let you open fd=\u001b[39m\u001b[38;5;132;01m{\u001b[39;00mfile\u001b[38;5;132;01m}\u001b[39;00m\u001b[38;5;124m by default \u001b[39m\u001b[38;5;124m\"\u001b[39m\n\u001b[0;32m    278\u001b[0m         \u001b[38;5;124m\"\u001b[39m\u001b[38;5;124mas it is likely to crash IPython. If you know what you are doing, \u001b[39m\u001b[38;5;124m\"\u001b[39m\n\u001b[0;32m    279\u001b[0m         \u001b[38;5;124m\"\u001b[39m\u001b[38;5;124myou can use builtins\u001b[39m\u001b[38;5;124m'\u001b[39m\u001b[38;5;124m open.\u001b[39m\u001b[38;5;124m\"\u001b[39m\n\u001b[0;32m    280\u001b[0m     )\n\u001b[1;32m--> 282\u001b[0m \u001b[38;5;28;01mreturn\u001b[39;00m io_open(file, \u001b[38;5;241m*\u001b[39margs, \u001b[38;5;241m*\u001b[39m\u001b[38;5;241m*\u001b[39mkwargs)\n",
      "\u001b[1;31mFileNotFoundError\u001b[0m: [Errno 2] No such file or directory: 'data/ch07.txt'"
     ]
    }
   ],
   "source": [
    "filename = input('파일명은(ch08.txt)?')\n",
    "f = open('data/' + filename, 'r')  # 읽기전용으로 파일을 열기\n",
    "print(f.read())\n",
    "f.close()"
   ]
  },
  {
   "cell_type": "code",
   "execution_count": 7,
   "id": "79af0972",
   "metadata": {},
   "outputs": [
    {
     "ename": "ZeroDivisionError",
     "evalue": "division by zero",
     "output_type": "error",
     "traceback": [
      "\u001b[1;31m---------------------------------------------------------------------------\u001b[0m",
      "\u001b[1;31mZeroDivisionError\u001b[0m                         Traceback (most recent call last)",
      "Cell \u001b[1;32mIn[7], line 1\u001b[0m\n\u001b[1;32m----> 1\u001b[0m \u001b[38;5;241;43m4\u001b[39;49m\u001b[43m \u001b[49m\u001b[38;5;241;43m/\u001b[39;49m\u001b[43m \u001b[49m\u001b[38;5;241;43m0\u001b[39;49m\n",
      "\u001b[1;31mZeroDivisionError\u001b[0m: division by zero"
     ]
    }
   ],
   "source": [
    "4 / 0"
   ]
  },
  {
   "cell_type": "code",
   "execution_count": 8,
   "id": "532c774b",
   "metadata": {},
   "outputs": [
    {
     "ename": "IndexError",
     "evalue": "list index out of range",
     "output_type": "error",
     "traceback": [
      "\u001b[1;31m---------------------------------------------------------------------------\u001b[0m",
      "\u001b[1;31mIndexError\u001b[0m                                Traceback (most recent call last)",
      "Cell \u001b[1;32mIn[8], line 2\u001b[0m\n\u001b[0;32m      1\u001b[0m a \u001b[38;5;241m=\u001b[39m [\u001b[38;5;241m1\u001b[39m, \u001b[38;5;241m2\u001b[39m, \u001b[38;5;241m3\u001b[39m]\n\u001b[1;32m----> 2\u001b[0m \u001b[43ma\u001b[49m\u001b[43m[\u001b[49m\u001b[38;5;241;43m3\u001b[39;49m\u001b[43m]\u001b[49m\n",
      "\u001b[1;31mIndexError\u001b[0m: list index out of range"
     ]
    }
   ],
   "source": [
    "a = [1, 2, 3]\n",
    "a[3]"
   ]
  },
  {
   "cell_type": "markdown",
   "id": "657b4d69",
   "metadata": {},
   "source": [
    "# 2절. try ~ except 로 예외처리"
   ]
  },
  {
   "cell_type": "markdown",
   "id": "9bdf7403",
   "metadata": {},
   "source": [
    "## 2.1 try ~ except\n",
    "\n",
    "- 예외가 발생할 가능성이 있는 명령어들\n",
    "- 예외가 발생했을 경우 실행할 명령어들"
   ]
  },
  {
   "cell_type": "code",
   "execution_count": 14,
   "id": "23e6a1e2",
   "metadata": {},
   "outputs": [
    {
     "name": "stdout",
     "output_type": "stream",
     "text": [
      "정수를 입력하세요 :a\n"
     ]
    },
    {
     "ename": "ValueError",
     "evalue": "invalid literal for int() with base 10: 'a'",
     "output_type": "error",
     "traceback": [
      "\u001b[1;31m---------------------------------------------------------------------------\u001b[0m",
      "\u001b[1;31mValueError\u001b[0m                                Traceback (most recent call last)",
      "Cell \u001b[1;32mIn[14], line 5\u001b[0m\n\u001b[0;32m      1\u001b[0m \u001b[38;5;66;03m# 100을 입력받은 정수값으로 나눠 출력\u001b[39;00m\n\u001b[0;32m      2\u001b[0m \u001b[38;5;66;03m# ZeroDivisionError: division by zero\u001b[39;00m\n\u001b[0;32m      3\u001b[0m \u001b[38;5;66;03m# \u001b[39;00m\n\u001b[1;32m----> 5\u001b[0m x \u001b[38;5;241m=\u001b[39m \u001b[38;5;28;43mint\u001b[39;49m\u001b[43m(\u001b[49m\u001b[38;5;28;43minput\u001b[39;49m\u001b[43m(\u001b[49m\u001b[38;5;124;43m'\u001b[39;49m\u001b[38;5;124;43m정수를 입력하세요 :\u001b[39;49m\u001b[38;5;124;43m'\u001b[39;49m\u001b[43m)\u001b[49m\u001b[43m)\u001b[49m\n\u001b[0;32m      6\u001b[0m \u001b[38;5;28mprint\u001b[39m(\u001b[38;5;124m'\u001b[39m\u001b[38;5;124m100을 입력한 정수로 나누면 \u001b[39m\u001b[38;5;132;01m{:3f}\u001b[39;00m\u001b[38;5;124m'\u001b[39m\u001b[38;5;241m.\u001b[39mformat(\u001b[38;5;241m100\u001b[39m \u001b[38;5;241m/\u001b[39m x))\n",
      "\u001b[1;31mValueError\u001b[0m: invalid literal for int() with base 10: 'a'"
     ]
    }
   ],
   "source": [
    "# 100을 입력받은 정수값으로 나눠 출력\n",
    "# ZeroDivisionError: division by zero\n",
    "# ValueError: invalid literal for int() with base 10: 'a'\n",
    "\n",
    "x = int(input('정수를 입력하세요 : '))\n",
    "print('100을 입력한 정수로 나누면 {:3f}'.format(100 / x))"
   ]
  },
  {
   "cell_type": "code",
   "execution_count": 21,
   "id": "e3bf5634",
   "metadata": {},
   "outputs": [
    {
     "name": "stdout",
     "output_type": "stream",
     "text": [
      "정수를 입력하세요 : 2\n",
      "x값 입력 받음 2\n",
      "100을 입력한 정수로 나누면 50.000000\n",
      "예외가 발생하지 않았습니다\n"
     ]
    }
   ],
   "source": [
    "# 100을 입력받은 정수값으로 나눠 출력\n",
    "# ZeroDivisionError: division by zero\n",
    "# ValueError: invalid literal for int() with base 10: 'a'\n",
    "\n",
    "try :\n",
    "    x = int(input('정수를 입력하세요 : '))\n",
    "    print('x값 입력 받음', x)\n",
    "    print('100을 입력한 정수로 나누면 {:.3f}'.format(100 / x))\n",
    "    print('예외가 발생하지 않았습니다')\n",
    "except :\n",
    "    print('유효한 정수가 아닙니다')"
   ]
  },
  {
   "cell_type": "code",
   "execution_count": 1,
   "id": "6d8a6395",
   "metadata": {},
   "outputs": [
    {
     "name": "stdout",
     "output_type": "stream",
     "text": [
      "정수를 입력하세요 : hello\n",
      "유효한 정수가 아닙니다\n",
      "정수를 입력하세요 : 0\n",
      "x값 입력 받음 0.0\n",
      "유효한 정수가 아닙니다\n",
      "정수를 입력하세요 : 2\n",
      "x값 입력 받음 2.0\n",
      "100을 입력한 정수로 나누면 50\n",
      "예외가 발생하지 않았습니다\n"
     ]
    }
   ],
   "source": [
    "# 100을 나눌 유효한 정수를 입력할 때까지 입력받아 유효한 정수를 입력하면, 100을 입력한 수로 나눈 결과를 출력\n",
    "# 나눈 결과가 .0으로 끝나면 정수를 결과를 출력 / .0으로 끝나지 않으면 소수점 2자리까지 출력\n",
    "\n",
    "while True :\n",
    "    try : \n",
    "        x = int(input('정수를 입력하세요 : '))   \n",
    "        print('x값 입력 받음', x)\n",
    "        result = 100 / x\n",
    "        if result == round(result) :\n",
    "            print('100을 입력한 정수로 나누면 {:.0f}'.format(result))\n",
    "        else :\n",
    "            print('100을 입력한 정수로 나누면 {:.2f}'.format(result))\n",
    "        print('예외가 발생하지 않았습니다')\n",
    "        break\n",
    "    except :\n",
    "        print('유효한 정수가 아닙니다')"
   ]
  },
  {
   "cell_type": "markdown",
   "id": "e7553d76",
   "metadata": {},
   "source": [
    "## 2.2 예외를 지정한 처리\n",
    "\n",
    "```\n",
    "try :\n",
    "    예외가 발생할 수도 있는 문장들\n",
    "except 예외타입1 :\n",
    "    해당 예외가 발생할 경우 실행할 문장\n",
    "except 예외타입2 :\n",
    "    해당 예외가 발생할 경우 실행할 문장\n",
    "```"
   ]
  },
  {
   "cell_type": "code",
   "execution_count": 3,
   "id": "6c6e6f93",
   "metadata": {},
   "outputs": [
    {
     "name": "stdout",
     "output_type": "stream",
     "text": [
      "정수를 입력하세요 : ㅁ\n",
      "정수를 입력하십시오\n",
      "정수를 입력하세요 : 0\n",
      "0으로 나눌 수 없습니다\n",
      "정수를 입력하세요 : 2\n",
      "50\n"
     ]
    }
   ],
   "source": [
    "# 예외를 지정한 처리\n",
    "\n",
    "while True :\n",
    "    try :\n",
    "        x = int(input('정수를 입력하세요 : '))\n",
    "        result = 100 / x\n",
    "        result = f\"{100 / x:.0f}\" if round(result) == result else f\"{100 / x:.2f}\"\n",
    "        print(result)\n",
    "        break\n",
    "    except ValueError :\n",
    "        print('정수를 입력하십시오')\n",
    "    except ZeroDivisionError :\n",
    "        print('0으로 나눌 수 없습니다')\n",
    "    except Exception :  # except절이 많은 경우 하위 클래스(자식클래스)가 위에 나와야 함\n",
    "        print('다시 시도하십시오')"
   ]
  },
  {
   "cell_type": "markdown",
   "id": "9f3441f2",
   "metadata": {},
   "source": [
    "## 2.3 예외메세지(예외인수)"
   ]
  },
  {
   "cell_type": "code",
   "execution_count": 4,
   "id": "c9c29b53",
   "metadata": {},
   "outputs": [
    {
     "name": "stdout",
     "output_type": "stream",
     "text": [
      "정수를 입력하세요 : a\n",
      "invalid literal for int() with base 10: 'a'\n",
      "<class 'ValueError'>\n",
      "예외메세지 : (\"invalid literal for int() with base 10: 'a'\",)\n",
      "예외메세지 : invalid literal for int() with base 10: 'a'\n",
      "정수를 입력하세요 : 0\n",
      "division by zero\n",
      "<class 'ZeroDivisionError'>\n",
      "예외메세지 : ('division by zero',)\n",
      "예외메세지 : division by zero\n",
      "정수를 입력하세요 : 57\n",
      "1.75\n"
     ]
    }
   ],
   "source": [
    "while True :\n",
    "    try :\n",
    "        x = int(input('정수를 입력하세요 : '))\n",
    "        result = 100 / x\n",
    "        result = f\"{100 / x:.0f}\" if round(result) == result else f\"{100 / x:.2f}\"\n",
    "        print(result)\n",
    "        break\n",
    "    except (ValueError, ZeroDivisionError) as e :\n",
    "        print(e)  # e.__str__() : 예외메세지\n",
    "        print(type(e))\n",
    "        print('예외메세지 :', e.args)\n",
    "        print('예외메세지 :', e.args[0])\n",
    "    except Exception :  # except절이 많은 경우 하위 클래스(자식클래스)가 위에 나와야 함\n",
    "        print('다시 시도하십시오')    "
   ]
  },
  {
   "cell_type": "markdown",
   "id": "23bd28e8",
   "metadata": {},
   "source": [
    "### pdf(p.12)\n",
    "```\n",
    "try:\n",
    "    예외가 발생할 수도 있는 구문    \n",
    "except [예외타입 as e]:\n",
    "    예외가 발생되면 수행할 구문\n",
    "else:\n",
    "    try절을 수행하다 예외가 발생 안되면 else절을 한번 수행\n",
    "finally:\n",
    "    예외가 발생 안 하면 try-else-finally절 수행\n",
    "    예외가 발생하면 try수행 중 except - finally절 수행\n",
    "```"
   ]
  },
  {
   "cell_type": "code",
   "execution_count": 5,
   "id": "416a2d22",
   "metadata": {},
   "outputs": [
    {
     "name": "stdout",
     "output_type": "stream",
     "text": [
      "Hello\n",
      "World\n"
     ]
    }
   ],
   "source": [
    "try:\n",
    "    f = open(r'data\\ch08.txt', 'r')\n",
    "except FileNotFoundError as e:\n",
    "    print(e)\n",
    "    print('해당 파일이 없습니다')\n",
    "else:\n",
    "    data = f.read()\n",
    "    print(data)\n",
    "finally:\n",
    "    f.close()"
   ]
  },
  {
   "cell_type": "code",
   "execution_count": 6,
   "id": "2d246605",
   "metadata": {},
   "outputs": [
    {
     "name": "stdout",
     "output_type": "stream",
     "text": [
      "[Errno 2] No such file or directory: 'data\\\\ch0.txt'\n",
      "반드시 실행\n"
     ]
    }
   ],
   "source": [
    "try:\n",
    "    f = open(r'data\\ch0.txt', 'r')\n",
    "    data = f.read()\n",
    "    print(data)\n",
    "except FileNotFoundError as e:\n",
    "    print(e)\n",
    "finally:\n",
    "    print('반드시 실행')\n",
    "    f.close()"
   ]
  },
  {
   "cell_type": "markdown",
   "id": "431ddf80",
   "metadata": {},
   "source": [
    "# 3절. raise\n",
    "\n",
    "- 강제 예외 발생"
   ]
  },
  {
   "cell_type": "code",
   "execution_count": 7,
   "id": "eb7d0fef",
   "metadata": {},
   "outputs": [
    {
     "ename": "NameError",
     "evalue": "예외 발생함",
     "output_type": "error",
     "traceback": [
      "\u001b[1;31m---------------------------------------------------------------------------\u001b[0m",
      "\u001b[1;31mNameError\u001b[0m                                 Traceback (most recent call last)",
      "Cell \u001b[1;32mIn[7], line 1\u001b[0m\n\u001b[1;32m----> 1\u001b[0m \u001b[38;5;28;01mraise\u001b[39;00m \u001b[38;5;167;01mNameError\u001b[39;00m(\u001b[38;5;124m\"\u001b[39m\u001b[38;5;124m예외 발생함\u001b[39m\u001b[38;5;124m\"\u001b[39m)\n",
      "\u001b[1;31mNameError\u001b[0m: 예외 발생함"
     ]
    }
   ],
   "source": [
    "raise NameError(\"예외 발생함\")"
   ]
  },
  {
   "cell_type": "code",
   "execution_count": 9,
   "id": "de65626b",
   "metadata": {},
   "outputs": [],
   "source": [
    "# 사용자 정의 예외 : Exception 클래스 또는 그 하위 클래스를 상속받아 구현\n",
    "\n",
    "class LengthZeroError(Exception) :\n",
    "    '길이가 0일 때 발생할 예외'\n",
    "    pass\n",
    "#     def __init__(self, message) :\n",
    "#         self.message = message"
   ]
  },
  {
   "cell_type": "code",
   "execution_count": 21,
   "id": "1568fa25",
   "metadata": {},
   "outputs": [],
   "source": [
    "def insert(*data) :  # 튜플 매개변수\n",
    "    if len(data) == 0 :\n",
    "        raise LengthZeroError(\"매개변수가 0이므로 예외입니다\")\n",
    "    for item in data :\n",
    "        print(item, end = ' ')\n",
    "    print(\"등을 입력하셨습니다\")"
   ]
  },
  {
   "cell_type": "code",
   "execution_count": 22,
   "id": "88ad84fb",
   "metadata": {},
   "outputs": [
    {
     "name": "stdout",
     "output_type": "stream",
     "text": [
      "1 2 등을 입력하셨습니다\n"
     ]
    }
   ],
   "source": [
    "data = [1, 2]\n",
    "insert(*data)  # 튜플 언패킹"
   ]
  },
  {
   "cell_type": "code",
   "execution_count": 23,
   "id": "05418ae7",
   "metadata": {},
   "outputs": [
    {
     "name": "stdout",
     "output_type": "stream",
     "text": [
      "매개변수가 0이므로 예외입니다\n",
      "무조건 실행하는 부분 DONE\n"
     ]
    }
   ],
   "source": [
    "data = []\n",
    "try :\n",
    "    insert(*data)\n",
    "except LengthZeroError as e :\n",
    "    print(e)\n",
    "finally :\n",
    "    print('무조건 실행하는 부분 DONE')"
   ]
  },
  {
   "cell_type": "markdown",
   "id": "6e2ee96e",
   "metadata": {},
   "source": [
    "# 4절. 추상클래스\n",
    "\n",
    "- 추상클래스 : 객체를 생성할 수 없는 클래스. 상속받을 클래스의 포맷 제공\n",
    "- 추상메소드 : 호출할 수 없는 메소드"
   ]
  },
  {
   "cell_type": "code",
   "execution_count": 24,
   "id": "28ff0764",
   "metadata": {},
   "outputs": [],
   "source": [
    "# Shape 클래스 : 객체를 만드는게 목적이 아닌 자식클래스(서브클래스)를 잘 만들게 하는게 목적\n",
    "# Shape 클래스를 상속받은 클래스들의 표준 제시\n",
    "\n",
    "class Shape :\n",
    "    def __init__(self) : \n",
    "        raise NotImplementedError('추상 클래스 역할')\n",
    "        \n",
    "    def calc_area(self) :\n",
    "        raise NotImplementedError('추상 메소드 역할')"
   ]
  },
  {
   "cell_type": "code",
   "execution_count": 29,
   "id": "339ad6cd",
   "metadata": {},
   "outputs": [
    {
     "data": {
      "text/plain": [
       "28.274333882308138"
      ]
     },
     "execution_count": 29,
     "metadata": {},
     "output_type": "execute_result"
    }
   ],
   "source": [
    "from numpy import pi\n",
    "\n",
    "class Circle(Shape) :\n",
    "    def __init__(self, r = 3) :\n",
    "        self.r = r\n",
    "        \n",
    "    def calc_area(self) :\n",
    "        return pi * self.r ** 2\n",
    "\n",
    "c = Circle(3)\n",
    "c.calc_area()"
   ]
  },
  {
   "cell_type": "markdown",
   "id": "835263cd",
   "metadata": {},
   "source": [
    "# 5절. 파일 정리 작업 (with절 이용)"
   ]
  },
  {
   "cell_type": "code",
   "execution_count": 2,
   "id": "88c788a5",
   "metadata": {},
   "outputs": [
    {
     "name": "stdout",
     "output_type": "stream",
     "text": [
      "Hello\n",
      "World\n"
     ]
    }
   ],
   "source": [
    "try:\n",
    "    f = open('data/ch08.txt', 'r')\n",
    "    print(f.read())\n",
    "except Exception as e:\n",
    "    print(e)\n",
    "finally:\n",
    "    f.close()"
   ]
  },
  {
   "cell_type": "code",
   "execution_count": 30,
   "id": "08e0c058",
   "metadata": {},
   "outputs": [
    {
     "name": "stdout",
     "output_type": "stream",
     "text": [
      "Hello\n",
      "World\n"
     ]
    }
   ],
   "source": [
    "f = open('data/ch08.txt', 'r')\n",
    "print(f.read())\n",
    "f.close()"
   ]
  },
  {
   "cell_type": "code",
   "execution_count": 31,
   "id": "bbdddaef",
   "metadata": {},
   "outputs": [
    {
     "name": "stdout",
     "output_type": "stream",
     "text": [
      "Hello\n",
      "World\n"
     ]
    }
   ],
   "source": [
    "# with절 이후에는 자동 close()실행\n",
    "\n",
    "with open('data/ch08.txt', 'r') as f :\n",
    "    print(f.read())"
   ]
  },
  {
   "cell_type": "markdown",
   "id": "a73a122d",
   "metadata": {},
   "source": [
    "# 6절. 연습문제"
   ]
  },
  {
   "cell_type": "markdown",
   "id": "9d9df10a",
   "metadata": {},
   "source": [
    "## 연습문제 실습형"
   ]
  },
  {
   "cell_type": "code",
   "execution_count": 5,
   "id": "c9bf5804",
   "metadata": {},
   "outputs": [
    {
     "name": "stdout",
     "output_type": "stream",
     "text": [
      "첫 번째 숫자를 입력하세요 : 5\n",
      "두 번째 숫자를 입력하세요 : 3\n",
      "입력한 수는 5.0와 3.0입니다\n",
      "5.0을 3.0로 나누면 1.6666666666666667입니다\n"
     ]
    }
   ],
   "source": [
    "# ex1. 숫자 두 개를 입력받아 나눗셈 연산을 하는 프로그램을 작성하세요\n",
    "'''\n",
    "두 숫자는 정수 또는 실수일 수 있으며, 0으로 나눌 수 없습니다\n",
    "올바른 두 수를 입력하고 나눗셈 연산 결과를 출력한 후 종료해야 합니다\n",
    "다음은 실행 후 출력 예시입니다\n",
    "\n",
    "첫 번째 숫자를 입력하세요 : hello\n",
    "유효한 숫자가 아닙니다 다시 시도하세요\n",
    "첫 번째 숫자를 입력하세요 : 10\n",
    "두 번째 숫자를 입력하세요 : 0\n",
    "입력한 수는 10.0와 0.0입니다\n",
    "유효한 숫자가 아닙니다 다시 시도하세요\n",
    "첫 번째 숫자를 입력하세요 : 3.5\n",
    "첫 번째 숫자를 입력하세요 : hello\n",
    "유효한 숫자가 아닙니다 다시 시도하세요\n",
    "첫 번째 숫자를 입력하세요 : 3.5\n",
    "첫 번째 숫자를 입력하세요 : 2\n",
    "입력한 수는 3.5와 2.0입니다\n",
    "3.5을 2.0로 나누면 1.75입니다\n",
    "'''\n",
    "\n",
    "while True :\n",
    "    try : \n",
    "        x = float(input('첫 번째 숫자를 입력하세요 : '))\n",
    "        y = float(input('두 번째 숫자를 입력하세요 : '))\n",
    "        print('입력한 수는 {}와 {}입니다'. format(x, y))\n",
    "        result = x / y\n",
    "        print('{}을 {}로 나누면 {}입니다'. format(x, y, result))\n",
    "        break\n",
    "    except :\n",
    "        print('유효한 숫자가 아닙니다 다시 시도하세요')"
   ]
  },
  {
   "cell_type": "code",
   "execution_count": 1,
   "id": "db3a4c17",
   "metadata": {},
   "outputs": [
    {
     "name": "stdout",
     "output_type": "stream",
     "text": [
      "첫 번째 숫자를 입력하세요 : abc\n",
      "유효한 숫자가 아닙니다 다시 시도하세요\n",
      "첫 번째 숫자를 입력하세요 : 10\n",
      "두 번째 숫자를 입력하세요 : 0\n",
      "입력한 수는 10.0와 0.0입니다\n",
      "0으로 나눌 수 없습니다 다시 시도하세요\n",
      "첫 번째 숫자를 입력하세요 : 5\n",
      "두 번째 숫자를 입력하세요 : 3\n",
      "입력한 수는 5.0와 3.0입니다\n",
      "5.0을 3.0로 나누면 1.6666666666666667입니다\n"
     ]
    }
   ],
   "source": [
    "# ex2. 1번 코드의 예외처리를 예외에 따라 다르게 처리하세요\n",
    "'''\n",
    "숫자로 바꿀 수 없을 경우 ValueError가 발생합니다\n",
    "0으로 나누려고 할 때 ZeroDivisionError가 발생합니다\n",
    "다음은 실행 후 출력 예시입니다\n",
    "\n",
    "첫 번째 숫자를 입력하세요 : abc\n",
    "유효한 숫자가 아닙니다 다시 시도하세요\n",
    "첫 번째 숫자를 입력하세요 : 10\n",
    "두 번째 숫자를 입력하세요 : 0\n",
    "입력한 수는 10.0와 0.0입니다\n",
    "0으로 나눌 수 없습니다 다시 시도하세요\n",
    "첫 번째 숫자를 입력하세요 : 5\n",
    "첫 번째 숫자를 입력하세요 : 3\n",
    "입력한 수는 5.0와 3.0입니다\n",
    "5.0을 3.0로 나누면 1.6666666666666667입니다\n",
    "'''\n",
    "\n",
    "while True :\n",
    "    try : \n",
    "        x = float(input('첫 번째 숫자를 입력하세요 : '))\n",
    "        y = float(input('두 번째 숫자를 입력하세요 : '))\n",
    "        print('입력한 수는 {}와 {}입니다'. format(x, y))\n",
    "        result = x / y\n",
    "        print('{}을 {}로 나누면 {}입니다'. format(x, y, result))\n",
    "        break\n",
    "    except ValueError :\n",
    "        print('유효한 숫자가 아닙니다 다시 시도하세요')\n",
    "    except ZeroDivisionError :\n",
    "        print('0으로 나눌 수 없습니다 다시 시도하세요')\n",
    "    except Exception :\n",
    "        print('다시 시도하세요')"
   ]
  },
  {
   "cell_type": "markdown",
   "id": "59fdafef",
   "metadata": {},
   "source": [
    "## 연습문제 문제풀이형"
   ]
  },
  {
   "cell_type": "code",
   "execution_count": null,
   "id": "89cd1cac",
   "metadata": {},
   "outputs": [],
   "source": [
    "# ex1. 1. 다음 중 예외 처리에 대해 잘못 설명한 것은?\n",
    "'''\n",
    "① try 블록은 예외가 발생할 가능성이 있는 문장을 작성한다\n",
    "② 예외가 발생하면 except 블록이 실행된다\n",
    "③ 상위 예외 처리를 위한 except 블록은 하위 예외 처리 except 블록에 비해 먼저 선언되어야 한다\n",
    "④ finally 블록은 예외의 발생 유/무와 상관없이 실행된다\n",
    "'''\n",
    "\n",
    "print('정답 : ③')"
   ]
  },
  {
   "cell_type": "code",
   "execution_count": null,
   "id": "7174ef5c",
   "metadata": {},
   "outputs": [],
   "source": [
    "# ex2. 다음중 예외 처리에 대한 설명 중 잘못된 것은?\n",
    "'''\n",
    "① raise는 강제로 예외를 발생시킬 때 사용한다\n",
    "② catch 절은 예외를 처리하기 위해 사용하는 구문이다\n",
    "③ 다른 예외를 하나의 예외처리 구문으로 처리할 수 있다\n",
    "④ else 절은 예외가 발생하지 않을 경우 실행된다\n",
    "'''\n",
    "\n",
    "print('정답 : ②')  # ②는 expect절에 대한 내용, catch 절은 java에 있음 "
   ]
  },
  {
   "cell_type": "code",
   "execution_count": null,
   "id": "ca989405",
   "metadata": {},
   "outputs": [],
   "source": [
    "# ex3. 다음 중 except 절을 잘못 사용한 것은?\n",
    "'''\n",
    "① except :\n",
    "② except Exception :\n",
    "③ except Exception as e :\n",
    "④ except Exception e :\n",
    "'''\n",
    "\n",
    "print('정답 : ④')"
   ]
  },
  {
   "cell_type": "code",
   "execution_count": null,
   "id": "1fc58312",
   "metadata": {},
   "outputs": [],
   "source": [
    "# ex4. 다음 중 예외 처리에 사용하지 않는 구문은?\n",
    "'''\n",
    "① try\n",
    "② except\n",
    "③ with\n",
    "④ finally\n",
    "'''\n",
    "\n",
    "print('정답 : ③')"
   ]
  }
 ],
 "metadata": {
  "kernelspec": {
   "display_name": "Python 3 (ipykernel)",
   "language": "python",
   "name": "python3"
  },
  "language_info": {
   "codemirror_mode": {
    "name": "ipython",
    "version": 3
   },
   "file_extension": ".py",
   "mimetype": "text/x-python",
   "name": "python",
   "nbconvert_exporter": "python",
   "pygments_lexer": "ipython3",
   "version": "3.10.9"
  },
  "toc": {
   "base_numbering": 1,
   "nav_menu": {},
   "number_sections": false,
   "sideBar": true,
   "skip_h1_title": false,
   "title_cell": "Table of Contents",
   "title_sidebar": "Contents",
   "toc_cell": false,
   "toc_position": {
    "height": "calc(100% - 180px)",
    "left": "10px",
    "top": "150px",
    "width": "214.55px"
   },
   "toc_section_display": true,
   "toc_window_display": true
  }
 },
 "nbformat": 4,
 "nbformat_minor": 5
}
