{
 "cells": [
  {
   "cell_type": "code",
   "execution_count": 1,
   "id": "f7270cf4",
   "metadata": {},
   "outputs": [
    {
     "data": {
      "text/html": [
       "<style>\n",
       "div.container{width:86% !important;}\n",
       "div.cell.code_cell.rendered{width:100%;}\n",
       "div.CodeMirror {font-family:Consolas; font-size:12pt;}\n",
       "div.output {font-size:12pt; font-weight:bold;}\n",
       "div.input {font-family:Consolas; font-size:12pt;}\n",
       "div.prompt {min-width:70px;}\n",
       "div#toc-wrapper{padding-top:120px;}\n",
       "div.text_cell_render ul li{fontsize:12pt;padding:5px;}\n",
       "table.dataframe{font-size:12px;}))\n",
       "</style>\n"
      ],
      "text/plain": [
       "<IPython.core.display.HTML object>"
      ]
     },
     "metadata": {},
     "output_type": "display_data"
    }
   ],
   "source": [
    "from IPython.display import display, HTML\n",
    "display(HTML(\"\"\"<style>\n",
    "div.container{width:86% !important;}\n",
    "div.cell.code_cell.rendered{width:100%;}\n",
    "div.CodeMirror {font-family:Consolas; font-size:12pt;}\n",
    "div.output {font-size:12pt; font-weight:bold;}\n",
    "div.input {font-family:Consolas; font-size:12pt;}\n",
    "div.prompt {min-width:70px;}\n",
    "div#toc-wrapper{padding-top:120px;}\n",
    "div.text_cell_render ul li{fontsize:12pt;padding:5px;}\n",
    "table.dataframe{font-size:12px;}))\n",
    "</style>\n",
    "\"\"\"))"
   ]
  },
  {
   "cell_type": "markdown",
   "id": "26ad336a",
   "metadata": {},
   "source": [
    "<font size=\"5\" color=\"red\">ch09 파일 io(입/출력) 프로그래밍</font>\n",
    "\n",
    "- 파일 : txt, pickle, csv, json, hdf5(h5)"
   ]
  },
  {
   "cell_type": "markdown",
   "id": "52487bd0",
   "metadata": {},
   "source": [
    "# 1절. txt파일에 데이터 저장하고 불러오기"
   ]
  },
  {
   "cell_type": "code",
   "execution_count": 2,
   "id": "7ff0db80",
   "metadata": {},
   "outputs": [
    {
     "name": "stdout",
     "output_type": "stream",
     "text": [
      "쓰기 가능한지 여부 : True\n"
     ]
    }
   ],
   "source": [
    "f = open('data/ch09.txt', 'w')\n",
    "print('쓰기 가능한지 여부 :', f.writable())"
   ]
  },
  {
   "cell_type": "code",
   "execution_count": 3,
   "id": "4db002e1",
   "metadata": {},
   "outputs": [],
   "source": [
    "f.write('Hello\\nWorld')\n",
    "f.close()  # close() 하지 않을 경우 쓰기한 내용이 저장 안됨"
   ]
  },
  {
   "cell_type": "code",
   "execution_count": 4,
   "id": "258a5733",
   "metadata": {},
   "outputs": [
    {
     "name": "stdout",
     "output_type": "stream",
     "text": [
      "쓰기 가능한지 여부 : True\n"
     ]
    }
   ],
   "source": [
    "'''\n",
    "mode : 'r' 또는 'rt' : text열기 모드\n",
    "       'rb' : 바이너리 읽기 모드\n",
    "       'w' 또는 'wt' : text쓰기 모드 (파일이 있으면 덮어씀, 파일이 없으면 파일 생성)\n",
    "       'wb' : 바이너리 쓰기 모드\n",
    "       'a' 또는 'at' : text 추가 모드 (파일이 있으면 append, 파일이 없으면 파일 생성)\n",
    "       읽기모드에서는 파일이 없으면 예외/쓰기모드에서는 폴더가 없으면 예외\n",
    "encoding :\n",
    "    euc-kr (한글완성형) 믜X\n",
    "    cp949 (확장된 한글완성형) : open()함수 기본 encoding방식(win)\n",
    "    utf-8 (한글조합형): open()함수 기본 encoding방식(mac, linux), 주피터노트북 기본\n",
    "'''\n",
    "\n",
    "with open('data/ch09.txt', 'w') as f :\n",
    "    print('쓰기 가능한지 여부 :', f.writable())\n",
    "    f.write('Hello\\nPython')"
   ]
  },
  {
   "cell_type": "code",
   "execution_count": 5,
   "id": "656afb16",
   "metadata": {},
   "outputs": [],
   "source": [
    "with open('data/ch09.txt', 'w') as f :\n",
    "#     1방법\n",
    "    f.write('홍길동, 33, 아무동9\\n')\n",
    "    f.write('김길동, 33, 아무동9\\n')\n",
    "#     2방법\n",
    "    textlist = ['홍길동, 33, 아무동9\\n', '김길동, 33, 아무동9\\n']\n",
    "    for line in textlist :\n",
    "        f.write(line)\n",
    "#     3방법\n",
    "    f.writelines(textlist)"
   ]
  },
  {
   "cell_type": "code",
   "execution_count": 6,
   "id": "3eaaa76f",
   "metadata": {},
   "outputs": [
    {
     "name": "stdout",
     "output_type": "stream",
     "text": [
      "홍길동, 33, 아무동9\n",
      "김길동, 33, 아무동9\n",
      "홍길동, 33, 아무동9\n",
      "김길동, 33, 아무동9\n",
      "홍길동, 33, 아무동9\n",
      "김길동, 33, 아무동9\n"
     ]
    }
   ],
   "source": [
    "# 한줄씩 읽기\n",
    "\n",
    "with open('data/ch09.txt', 'r') as f :\n",
    "    line = f.readline()\n",
    "    while line != '' :\n",
    "        print(line, end = '')\n",
    "        line = f.readline()"
   ]
  },
  {
   "cell_type": "code",
   "execution_count": 7,
   "id": "1f002c84",
   "metadata": {},
   "outputs": [
    {
     "name": "stdout",
     "output_type": "stream",
     "text": [
      "['홍길동, 33, 아무동9\\n', '김길동, 33, 아무동9\\n', '홍길동, 33, 아무동9\\n', '김길동, 33, 아무동9\\n', '홍길동, 33, 아무동9\\n', '김길동, 33, 아무동9\\n']\n"
     ]
    }
   ],
   "source": [
    "# 모든 줄을 읽기\n",
    "\n",
    "with open('data/ch09.txt', 'r') as f :\n",
    "    lines = f.readlines()\n",
    "    print(lines)"
   ]
  },
  {
   "cell_type": "code",
   "execution_count": 8,
   "id": "9f2a0ae4",
   "metadata": {},
   "outputs": [
    {
     "data": {
      "text/plain": [
       "'홍길동, 33, 아무동9\\n김길동, 33, 아무동9\\n홍길동, 33, 아무동9\\n김길동, 33, 아무동9\\n홍길동, 33, 아무동9\\n김길동, 33, 아무동9\\n'"
      ]
     },
     "execution_count": 8,
     "metadata": {},
     "output_type": "execute_result"
    }
   ],
   "source": [
    "# 모두 읽기\n",
    "\n",
    "with open('data/ch09.txt', 'r') as f :\n",
    "    lines = f.read()\n",
    "lines"
   ]
  },
  {
   "cell_type": "markdown",
   "id": "451b6599",
   "metadata": {},
   "source": [
    "# 2절. 피클을 이용한 객체 저장 및 불러오기"
   ]
  },
  {
   "cell_type": "markdown",
   "id": "96536f7a",
   "metadata": {},
   "source": [
    "## 2.1 형식이 있는 txt 데이터 불러오기"
   ]
  },
  {
   "cell_type": "code",
   "execution_count": 40,
   "id": "68bfa9f9",
   "metadata": {},
   "outputs": [],
   "source": [
    "class Member :\n",
    "    def __init__(self, name, age, email, address) :\n",
    "        self.name = name\n",
    "        self.age = age\n",
    "        self.email = email\n",
    "        self.address = address\n",
    "        \n",
    "    def __str__(self) :\n",
    "        return \"{}, {}, {}, {}\".format(self.name,\n",
    "                                      \"성년\" if self.age > 18 else \"미성년\",\n",
    "                                      self.email,\n",
    "                                      self.address)\n",
    "    \n",
    "    def as__dic__(self) :\n",
    "        return {\n",
    "            'name' : self.name,\n",
    "            'age' : self.age,\n",
    "            'email' : self.email,\n",
    "            'address' : self.address\n",
    "            }\n",
    "    \n",
    "    def __eq__(self, other) :\n",
    "         if isinstance(other, Member) :\n",
    "            return self.name == other.name and \\\n",
    "                    self.age == other.age and \\\n",
    "                    self.email == other.email and \\\n",
    "                    self.address == other.address\n",
    "         else:\n",
    "            return False"
   ]
  },
  {
   "cell_type": "code",
   "execution_count": 41,
   "id": "0d4fc26b",
   "metadata": {
    "scrolled": true
   },
   "outputs": [
    {
     "name": "stdout",
     "output_type": "stream",
     "text": [
      "True\n",
      "True\n"
     ]
    }
   ],
   "source": [
    "user1 = Member('홍', 20, 'a@a.com', '신림동')\n",
    "user2 = Member('홍', 20, 'a@a.com', '신림동')\n",
    "print(user1 == user2)\n",
    "print(user1.__eq__(user2))  # 같은 내용이면 True"
   ]
  },
  {
   "cell_type": "code",
   "execution_count": 42,
   "id": "b23c9af8",
   "metadata": {},
   "outputs": [
    {
     "name": "stdout",
     "output_type": "stream",
     "text": [
      "False\n",
      "False\n"
     ]
    }
   ],
   "source": [
    "user1 = Member('홍길동', 22, 'a@a.com', '신림동')\n",
    "user2 = Member('홍길동', 22, 'a@a.com', '신림동')\n",
    "print(user1.__eq__('홍길동'))\n",
    "print(user1 == '홍길동')"
   ]
  },
  {
   "cell_type": "code",
   "execution_count": 28,
   "id": "35e48223",
   "metadata": {},
   "outputs": [],
   "source": [
    "# 형식이 있는 txt 파일 내용을 member list(피클), 딕셔너리 list(데이터프레임)로 저장\n",
    "\n",
    "user_list = []  # member list\n",
    "user_dict = []  # 딕셔너리 list\n",
    "\n",
    "with open('data/ch09_member.txt', 'r', encoding = 'utf-8') as txt_file :\n",
    "    lines = txt_file.readlines()\n",
    "# print(lines)\n",
    "\n",
    "for line in lines :\n",
    "    data = line.split(',')\n",
    "    name = data[0]\n",
    "    age = int(data[1].strip())  # strip() : 좌우 공백(space, \\t, \\n)제거\n",
    "    email = data[2].strip()\n",
    "    address = data[3].strip()\n",
    "    user = Member(name, age, email, address)\n",
    "    user_list.append(user)\n",
    "    user_dict.append(user.as__dic__())"
   ]
  },
  {
   "cell_type": "code",
   "execution_count": 29,
   "id": "73e7f73b",
   "metadata": {},
   "outputs": [
    {
     "name": "stdout",
     "output_type": "stream",
     "text": [
      "홍길동, 성년, kildong@hong.com, 서울시 관악구\n",
      "홍길숙, 성년, kilsuk1@hong.com, 서울시 영등포구\n",
      "신길동, 성년, shinkil@hong.com, 서울시 동작구\n"
     ]
    }
   ],
   "source": [
    "for user in user_list :\n",
    "    print(user)"
   ]
  },
  {
   "cell_type": "code",
   "execution_count": 30,
   "id": "309ca68e",
   "metadata": {},
   "outputs": [
    {
     "data": {
      "text/plain": [
       "[{'name': '홍길동', 'age': 20, 'email': 'kildong@hong.com', 'address': '서울시 관악구'},\n",
       " {'name': '홍길숙',\n",
       "  'age': 25,\n",
       "  'email': 'kilsuk1@hong.com',\n",
       "  'address': '서울시 영등포구'},\n",
       " {'name': '신길동', 'age': 30, 'email': 'shinkil@hong.com', 'address': '서울시 동작구'}]"
      ]
     },
     "execution_count": 30,
     "metadata": {},
     "output_type": "execute_result"
    }
   ],
   "source": [
    "user_dict"
   ]
  },
  {
   "cell_type": "markdown",
   "id": "6172aa02",
   "metadata": {},
   "source": [
    "## 2.2 피클링\n",
    "\n",
    "- 객체 리스트(user_list) → 피클파일로 쓰기\n",
    "- 피클 파일을 읽기 → 객체 리스트(load_user_list)"
   ]
  },
  {
   "cell_type": "code",
   "execution_count": 31,
   "id": "287e2c31",
   "metadata": {},
   "outputs": [],
   "source": [
    "# 피클링을 이용한 객체를 저장하기\n",
    "\n",
    "import pickle\n",
    "\n",
    "with open('data/ch09_member.data', 'wb') as f :\n",
    "    pickle.dump(user_list, f)"
   ]
  },
  {
   "cell_type": "code",
   "execution_count": 32,
   "id": "fe695575",
   "metadata": {},
   "outputs": [],
   "source": [
    "# 피클링을 이용한 파일에서 객체 데이터로 읽기\n",
    "\n",
    "with open('data/ch09_member.data', 'rb') as f :\n",
    "    load_user_list = pickle.load(f)"
   ]
  },
  {
   "cell_type": "code",
   "execution_count": 33,
   "id": "f8732b08",
   "metadata": {},
   "outputs": [
    {
     "data": {
      "text/plain": [
       "True"
      ]
     },
     "execution_count": 33,
     "metadata": {},
     "output_type": "execute_result"
    }
   ],
   "source": [
    "user_list == load_user_list"
   ]
  },
  {
   "cell_type": "code",
   "execution_count": 35,
   "id": "eff51cc0",
   "metadata": {},
   "outputs": [
    {
     "name": "stdout",
     "output_type": "stream",
     "text": [
      "0 홍길동, 성년, kildong@hong.com, 서울시 관악구\n",
      "0 홍길동, 성년, kildong@hong.com, 서울시 관악구\n",
      "1 홍길숙, 성년, kilsuk1@hong.com, 서울시 영등포구\n",
      "1 홍길숙, 성년, kilsuk1@hong.com, 서울시 영등포구\n",
      "2 신길동, 성년, shinkil@hong.com, 서울시 동작구\n",
      "2 신길동, 성년, shinkil@hong.com, 서울시 동작구\n"
     ]
    }
   ],
   "source": [
    "for idx in range(len(user_list)) :\n",
    "    print(idx, user[idx])\n",
    "    print(idx, load_user_list[idx])"
   ]
  },
  {
   "cell_type": "code",
   "execution_count": 36,
   "id": "42382d45",
   "metadata": {
    "scrolled": true
   },
   "outputs": [
    {
     "name": "stdout",
     "output_type": "stream",
     "text": [
      "홍길동, 성년, kildong@hong.com, 서울시 관악구\n",
      "홍길동, 성년, kildong@hong.com, 서울시 관악구\n",
      "홍길숙, 성년, kilsuk1@hong.com, 서울시 영등포구\n",
      "홍길숙, 성년, kilsuk1@hong.com, 서울시 영등포구\n",
      "신길동, 성년, shinkil@hong.com, 서울시 동작구\n",
      "신길동, 성년, shinkil@hong.com, 서울시 동작구\n"
     ]
    }
   ],
   "source": [
    "for user, load_user in zip(user_list, load_user_list) :  # zip 사용\n",
    "    print(user)\n",
    "    print(load_user)"
   ]
  },
  {
   "cell_type": "code",
   "execution_count": 39,
   "id": "a70e64a8",
   "metadata": {},
   "outputs": [
    {
     "name": "stdout",
     "output_type": "stream",
     "text": [
      "0 홍길동, 성년, kildong@hong.com, 서울시 관악구\n",
      "0 홍길동, 성년, kildong@hong.com, 서울시 관악구\n",
      "True\n",
      "1 홍길숙, 성년, kilsuk1@hong.com, 서울시 영등포구\n",
      "1 홍길숙, 성년, kilsuk1@hong.com, 서울시 영등포구\n",
      "True\n",
      "2 신길동, 성년, shinkil@hong.com, 서울시 동작구\n",
      "2 신길동, 성년, shinkil@hong.com, 서울시 동작구\n",
      "True\n"
     ]
    }
   ],
   "source": [
    "for idx, (user, load_user) in enumerate(zip(user_list, load_user_list)) :  # enumerate, zip 사용\n",
    "    print(idx, user)\n",
    "    print(idx, load_user)\n",
    "    print(user == load_user)"
   ]
  },
  {
   "cell_type": "code",
   "execution_count": 41,
   "id": "ee082d13",
   "metadata": {},
   "outputs": [
    {
     "data": {
      "text/plain": [
       "True"
      ]
     },
     "execution_count": 41,
     "metadata": {},
     "output_type": "execute_result"
    }
   ],
   "source": [
    "# user_list와 load_user_list 비교\n",
    "\n",
    "result = []\n",
    "for user, load_user in zip(user_list, load_user_list) :\n",
    "    result.append(user == load_user)\n",
    "all(result)"
   ]
  },
  {
   "cell_type": "markdown",
   "id": "2d19b64a",
   "metadata": {},
   "source": [
    "# 3절. CSV 형식 파일 읽기/쓰기\n",
    "\n",
    "- CSV파일 ↔ 리스트데이터로 읽기/쓰기\n",
    "- CSV파일 ↔ 딕셔너리데이터 읽기/쓰기"
   ]
  },
  {
   "cell_type": "markdown",
   "id": "ae583c2a",
   "metadata": {},
   "source": [
    "## 3.1 reader"
   ]
  },
  {
   "cell_type": "code",
   "execution_count": 19,
   "id": "6ee48a26",
   "metadata": {},
   "outputs": [
    {
     "name": "stdout",
     "output_type": "stream",
     "text": [
      "[['홍길동', '20', 'kildong@hong.com', '서울시 관악구'], ['김길동', '40', 'kimdong@hong.com', '서울시 영등포구'], ['신길동', '30', 'sindong@hong.com', '서울시 동작구']]\n"
     ]
    }
   ],
   "source": [
    "import csv\n",
    "\n",
    "with open('data/ch09_member1.csv', 'r', encoding='utf-8') as f:\n",
    "    reader = csv.reader(f)\n",
    "    result = list(reader)\n",
    "print(result)"
   ]
  },
  {
   "cell_type": "code",
   "execution_count": 48,
   "id": "0c55d834",
   "metadata": {},
   "outputs": [
    {
     "name": "stdout",
     "output_type": "stream",
     "text": [
      "[['홍길동', 20.0, 'kildong@hong.com', '서울시 관악구'], ['김길동', 40.0, 'kimdong@hong.com', '서울시 영등포구'], ['신길동', 30.0, 'sindong@hong.com', '서울시 동작구']]\n"
     ]
    }
   ],
   "source": [
    "# \"\"(따옴표)가 없는 데이터는 numeric으로 사져오기\n",
    "\n",
    "import csv\n",
    "\n",
    "with open('data/ch09_member1.csv', 'r', encoding = 'utf-8') as f :\n",
    "    reader = csv.reader(f,\n",
    "                       quoting = csv.QUOTE_NONNUMERIC)\n",
    "#     print(list(reader))  # with 절 안에서 reader 사용 가능\n",
    "    result = list(reader)  # with 절 밖에서 reader 사용하기 위한 할당\n",
    "print(result)"
   ]
  },
  {
   "cell_type": "code",
   "execution_count": 49,
   "id": "3678000f",
   "metadata": {},
   "outputs": [
    {
     "name": "stdout",
     "output_type": "stream",
     "text": [
      "[{'name': '홍길동', 'age': 20, 'email': 'kildong@hong.com', 'address': '서울시 관악구'}, {'name': '김길동', 'age': 40, 'email': 'kimdong@hong.com', 'address': '서울시 영등포구'}, {'name': '신길동', 'age': 30, 'email': 'sindong@hong.com', 'address': '서울시 동작구'}]\n"
     ]
    }
   ],
   "source": [
    "import csv\n",
    "\n",
    "with open('data/ch09_member1.csv', 'r', encoding = 'utf-8') as f :\n",
    "    reader = csv.reader(f,\n",
    "                       quoting = csv.QUOTE_NONNUMERIC)\n",
    "    result = list(reader)\n",
    "dict_list = []\n",
    "for data in result :\n",
    "    dict_list.append({\n",
    "        'name':data[0],\n",
    "        'age':int(data[1]),\n",
    "        'email':data[2],\n",
    "        'address':data[3]\n",
    "    })\n",
    "print(dict_list)"
   ]
  },
  {
   "cell_type": "markdown",
   "id": "cac1d003",
   "metadata": {},
   "source": [
    "## 3.2 writer"
   ]
  },
  {
   "cell_type": "code",
   "execution_count": 50,
   "id": "20573e09",
   "metadata": {},
   "outputs": [],
   "source": [
    "user_list = [['홍길동', 20, 'kildong@hong.com', '서울시 관악구'],\n",
    "            ['김길동', 40, 'kimdong@hong.com', '서울시 영등포구']]"
   ]
  },
  {
   "cell_type": "code",
   "execution_count": 51,
   "id": "26274945",
   "metadata": {},
   "outputs": [],
   "source": [
    "with open('data/ch09_member1_writer.csv', 'a', newline = '', encoding = 'utf-8') as f :\n",
    "    writer = csv.writer(f)\n",
    "    writer.writerows(user_list)"
   ]
  },
  {
   "cell_type": "code",
   "execution_count": 52,
   "id": "515632eb",
   "metadata": {},
   "outputs": [],
   "source": [
    "import csv\n",
    "\n",
    "with open('data/ch09_member1_writer.csv', 'w', newline = '', encoding = 'utf-8') as f :\n",
    "    writer = csv.writer(f, quoting = csv.QUOTE_NONNUMERIC)\n",
    "    writer.writerows(user_list)"
   ]
  },
  {
   "cell_type": "markdown",
   "id": "9fc4507f",
   "metadata": {},
   "source": [
    "## 3.3 DictReader"
   ]
  },
  {
   "cell_type": "code",
   "execution_count": 57,
   "id": "3e80dfa3",
   "metadata": {},
   "outputs": [
    {
     "name": "stdout",
     "output_type": "stream",
     "text": [
      "[{'name': '홍길동', 'age': '20', 'email': 'h@h.com', 'address': '서울시 관악구', 'job': None}, {'name': '신길동', 'age': '40', 'email': 's@h.com', 'address': '서울시 영등포구', 'job': '팀장'}, {'name': '김길동', 'age': '30', 'email': 'k@h.com', 'address': '서울시 동작구', 'job': None}]\n",
      "홍길동 20 h@h.com 서울시 관악구\n",
      "신길동 40 s@h.com 서울시 영등포구 팀장\n",
      "김길동 30 k@h.com 서울시 동작구\n"
     ]
    }
   ],
   "source": [
    "import csv\n",
    "\n",
    "with open('data/ch09_member3.csv', 'r', encoding = 'utf-8') as f :\n",
    "    dict_reader = csv.DictReader(f)\n",
    "    dict_list = list(dict_reader)\n",
    "print(dict_list)\n",
    "for row in dict_list :\n",
    "    if row['job'] is None :\n",
    "        print(row['name'], row['age'], row['email'], row['address'])\n",
    "    else :\n",
    "        print(row['name'], row['age'], row['email'], row['address'], row['job'])"
   ]
  },
  {
   "cell_type": "code",
   "execution_count": 20,
   "id": "a042cba6",
   "metadata": {},
   "outputs": [
    {
     "name": "stdout",
     "output_type": "stream",
     "text": [
      "{'Name': '홍길동', 'Age': '20', 'Email': 'kildong@hong.com', 'Address': '서울시 관악구', 'Job': ''}\n",
      "{'Name': '김길동', 'Age': '40', 'Email': 'kimdong@hong.com', 'Address': '서울시 영등포구', 'Job': '팀장'}\n",
      "{'Name': '신길동', 'Age': '30', 'Email': 'sindong@hong.com', 'Address': '서울시 동작구', 'Job': ''}\n"
     ]
    }
   ],
   "source": [
    "# header가 없는 csv파일(ch09_member1-cp.csv)을 딕셔너리로 읽기\n",
    "\n",
    "with open('data/ch09_member1-cp.csv', encoding = 'cp949') as f :\n",
    "    dict_reader = csv.DictReader(f,\n",
    "                                fieldnames = ['Name', 'Age', 'Email', 'Address', 'Job'])\n",
    "    result = list(dict_reader)\n",
    "for row in result :\n",
    "    print(row)"
   ]
  },
  {
   "cell_type": "code",
   "execution_count": 61,
   "id": "89cc99d6",
   "metadata": {},
   "outputs": [
    {
     "name": "stdout",
     "output_type": "stream",
     "text": [
      "{'Name': '홍길동', 'Age': '20', 'Email': 'kildong@hong.com', 'Address': '서울시 관악구', 'Job': ['']}\n",
      "{'Name': '김길동', 'Age': '40', 'Email': 'kimdong@hong.com', 'Address': '서울시 영등포구', 'Job': ['팀장']}\n",
      "{'Name': '신길동', 'Age': '30', 'Email': 'sindong@hong.com', 'Address': '서울시 동작구', 'Job': ['']}\n"
     ]
    }
   ],
   "source": [
    "with open('data/ch09_member1-cp.csv', encoding = 'cp949') as f :\n",
    "    dict_reader = csv.DictReader(f,\n",
    "                                fieldnames = ['Name', 'Age', 'Email', 'Address',],\n",
    "                                restkey = 'Job')\n",
    "    result = list(dict_reader)\n",
    "    # print(list(dict_reader))\n",
    "for row in result :\n",
    "    print(row)"
   ]
  },
  {
   "cell_type": "markdown",
   "id": "57a73a98",
   "metadata": {},
   "source": [
    "## 3.4 DictWriter\n",
    "\n",
    "- 딕셔너리 리스트 → CSV파일"
   ]
  },
  {
   "cell_type": "code",
   "execution_count": 10,
   "id": "c03009d0",
   "metadata": {},
   "outputs": [
    {
     "name": "stdout",
     "output_type": "stream",
     "text": [
      "['name', 'age', 'email', 'address']\n"
     ]
    }
   ],
   "source": [
    "user1 = {'name':'홍길동', 'age':22, 'email':'a@a.com', 'address':'신림동'}\n",
    "user2 = {'name':'신길동', 'age':32, 'email':'b@a.com', 'address':'신림동'}\n",
    "user3 = {'name':'김길동', 'age':42, 'email':'c@a.com', 'address':'신림동'}\n",
    "\n",
    "user_list = [user1, user2, user3]\n",
    "fieldnames = list(user1.keys())\n",
    "print(fieldnames)"
   ]
  },
  {
   "cell_type": "code",
   "execution_count": 70,
   "id": "40d84a2c",
   "metadata": {},
   "outputs": [],
   "source": [
    "with open('data/ch09_member4.csv', 'w', encoding = 'utf-8', newline = '') as f :\n",
    "    dict_writer = csv.DictWriter(f,\n",
    "                                fieldnames = fieldnames)\n",
    "    dict_writer.writeheader()  # header 쓰기\n",
    "    dict_writer.writerows(user_list)"
   ]
  },
  {
   "cell_type": "markdown",
   "id": "e08ba536",
   "metadata": {},
   "source": [
    "### CSV ↔ 데이터프레임"
   ]
  },
  {
   "cell_type": "code",
   "execution_count": 72,
   "id": "a273bd43",
   "metadata": {},
   "outputs": [
    {
     "data": {
      "text/html": [
       "<div>\n",
       "<style scoped>\n",
       "    .dataframe tbody tr th:only-of-type {\n",
       "        vertical-align: middle;\n",
       "    }\n",
       "\n",
       "    .dataframe tbody tr th {\n",
       "        vertical-align: top;\n",
       "    }\n",
       "\n",
       "    .dataframe thead th {\n",
       "        text-align: right;\n",
       "    }\n",
       "</style>\n",
       "<table border=\"1\" class=\"dataframe\">\n",
       "  <thead>\n",
       "    <tr style=\"text-align: right;\">\n",
       "      <th></th>\n",
       "      <th>name</th>\n",
       "      <th>age</th>\n",
       "      <th>email</th>\n",
       "      <th>address</th>\n",
       "      <th>job</th>\n",
       "    </tr>\n",
       "  </thead>\n",
       "  <tbody>\n",
       "    <tr>\n",
       "      <th>0</th>\n",
       "      <td>홍길동</td>\n",
       "      <td>20</td>\n",
       "      <td>h@h.com</td>\n",
       "      <td>서울시 관악구</td>\n",
       "      <td>NaN</td>\n",
       "    </tr>\n",
       "    <tr>\n",
       "      <th>1</th>\n",
       "      <td>신길동</td>\n",
       "      <td>40</td>\n",
       "      <td>s@h.com</td>\n",
       "      <td>서울시 영등포구</td>\n",
       "      <td>팀장</td>\n",
       "    </tr>\n",
       "    <tr>\n",
       "      <th>2</th>\n",
       "      <td>김길동</td>\n",
       "      <td>30</td>\n",
       "      <td>k@h.com</td>\n",
       "      <td>서울시 동작구</td>\n",
       "      <td>NaN</td>\n",
       "    </tr>\n",
       "  </tbody>\n",
       "</table>\n",
       "</div>"
      ],
      "text/plain": [
       "  name  age    email   address  job\n",
       "0  홍길동   20  h@h.com   서울시 관악구  NaN\n",
       "1  신길동   40  s@h.com  서울시 영등포구   팀장\n",
       "2  김길동   30  k@h.com   서울시 동작구  NaN"
      ]
     },
     "execution_count": 72,
     "metadata": {},
     "output_type": "execute_result"
    }
   ],
   "source": [
    "import pandas as pd\n",
    "\n",
    "member = pd.read_csv('data/ch09_member3.csv')\n",
    "member"
   ]
  },
  {
   "cell_type": "code",
   "execution_count": 73,
   "id": "c26d6475",
   "metadata": {},
   "outputs": [
    {
     "data": {
      "text/plain": [
       "pandas.core.frame.DataFrame"
      ]
     },
     "execution_count": 73,
     "metadata": {},
     "output_type": "execute_result"
    }
   ],
   "source": [
    "type(member)"
   ]
  },
  {
   "cell_type": "markdown",
   "id": "efbbde16",
   "metadata": {},
   "source": [
    "# 4절. JSON 데이터 저장하고 불러오기 (dump, load)\n",
    "\n",
    "- 딕셔너리리스트 ↔ JSON 파일(기본)\n",
    "- 객체리스트 ↔ JSON 파일"
   ]
  },
  {
   "cell_type": "markdown",
   "id": "d7095896",
   "metadata": {},
   "source": [
    "## 4.1 dump(파일 출력)"
   ]
  },
  {
   "cell_type": "code",
   "execution_count": 12,
   "id": "509c8e29",
   "metadata": {},
   "outputs": [],
   "source": [
    "data = [{'name': '홍길동', 'age': 20, 'email': 'kildong@hong.com', 'address': '서울'},\n",
    "        {'name': '김길동', 'age': 30, 'email': 'kildong@hong.com', 'address': '인천'}]"
   ]
  },
  {
   "cell_type": "code",
   "execution_count": 13,
   "id": "7fcdbac0",
   "metadata": {},
   "outputs": [],
   "source": [
    "# ensure_ascii 매개변수\n",
    "    # True : 비 ASCII문은 유니코드 형태로 저장\n",
    "    # False : 비 ASCII문자 원래 형태로 저장\n",
    "    \n",
    "import json\n",
    "\n",
    "with open('data/ch09_member.json', 'w', encoding = 'utf-8') as jsonfile :\n",
    "    json.dump(data,  # 딕셔너리 리스트\n",
    "             jsonfile,\n",
    "             ensure_ascii = False)"
   ]
  },
  {
   "cell_type": "code",
   "execution_count": 14,
   "id": "0c34950b",
   "metadata": {},
   "outputs": [],
   "source": [
    "class Member :\n",
    "    def __init__(self, name, age, email, address) :\n",
    "        self.name = name\n",
    "        self.age = age\n",
    "        self.email = email\n",
    "        self.address = address\n",
    "        \n",
    "    def __str__(self) :\n",
    "        return \"{}, {}, {}, {}\".format(self.name,\n",
    "                                      self.age,\n",
    "                                      self.email,\n",
    "                                      self.address)\n",
    "    \n",
    "    def as__dic__(self) :\n",
    "        return {\n",
    "            'name' : self.name,\n",
    "            'age' : self.age,\n",
    "            'email' : self.email,\n",
    "            'address' : self.address\n",
    "            }\n",
    "    \n",
    "    def __eq__(self, other) :\n",
    "        if isinstance(other, Member) :\n",
    "            # return self.__str__() == other.__str__()\n",
    "            return self.__dict__ == other.__dict__\n",
    "        else :\n",
    "            return False"
   ]
  },
  {
   "cell_type": "code",
   "execution_count": 15,
   "id": "a77b6ee5",
   "metadata": {},
   "outputs": [
    {
     "name": "stdout",
     "output_type": "stream",
     "text": [
      "True\n",
      "True\n"
     ]
    }
   ],
   "source": [
    "user1 = Member('홍길동', 22, 'a@a.com', '신림동')\n",
    "user2 = Member('홍길동', 22, 'a@a.com', '신림동')\n",
    "print(user1.__eq__(user2))\n",
    "print(user1 == user2)"
   ]
  },
  {
   "cell_type": "code",
   "execution_count": 99,
   "id": "b4d642e4",
   "metadata": {},
   "outputs": [],
   "source": [
    "member_list = [Member('홍길동', 22, 'a@a.com', '서울'),\n",
    "               Member('신길동', 32, 'a@a.com', '서울'),\n",
    "               Member('김길동', 42, 'a@a.com', '서울')]"
   ]
  },
  {
   "cell_type": "code",
   "execution_count": 100,
   "id": "b38f6048",
   "metadata": {},
   "outputs": [],
   "source": [
    "with open('data/ch09_member1.json', 'w', encoding = 'utf-8') as jsonfile :\n",
    "    json.dump(member_list,  # 객체 리스트\n",
    "             jsonfile,\n",
    "             ensure_ascii = False,\n",
    "             indent = '\\t',\n",
    "             default = Member.as__dic__  # 객체를 딕셔너리로 return 하는 인스턴스 함수\n",
    "             )"
   ]
  },
  {
   "cell_type": "markdown",
   "id": "d75bb02c",
   "metadata": {},
   "source": [
    "## 4.2 load(파일 입력)\n",
    "\n",
    "- json 파일 → 딕셔너리리스트(기본)\n",
    "                    ↓\n",
    "- json 파일 → 객체리스트"
   ]
  },
  {
   "cell_type": "code",
   "execution_count": 16,
   "id": "8a2f2766",
   "metadata": {},
   "outputs": [],
   "source": [
    "def as_member(dic) :\n",
    "    '매개변수로 딕셔너리를 받아 Member 객체를 return'\n",
    "    return Member(dic.get('name'), dic['age'], dic.get('email'), dic.get('address'))"
   ]
  },
  {
   "cell_type": "code",
   "execution_count": 18,
   "id": "73f38d0c",
   "metadata": {},
   "outputs": [
    {
     "name": "stdout",
     "output_type": "stream",
     "text": [
      "김길동, 20, z@a.com, 관악\n"
     ]
    }
   ],
   "source": [
    "member = as_member({'name':'김길동', 'age':20, 'email':'z@a.com', 'address':'관악'})\n",
    "print(member)"
   ]
  },
  {
   "cell_type": "code",
   "execution_count": 104,
   "id": "df86226f",
   "metadata": {},
   "outputs": [
    {
     "data": {
      "text/plain": [
       "[{'name': '홍길동', 'age': 20, 'email': 'kildong@hong.com', 'address': '서울'},\n",
       " {'name': '김길동', 'age': 30, 'email': 'kildong@hong.com', 'address': '인천'}]"
      ]
     },
     "execution_count": 104,
     "metadata": {},
     "output_type": "execute_result"
    }
   ],
   "source": [
    "with open('data/ch09_member.json', 'r', encoding = 'utf-8') as f :\n",
    "    load_data = json.load(f)\n",
    "load_data"
   ]
  },
  {
   "cell_type": "code",
   "execution_count": 106,
   "id": "f6e47908",
   "metadata": {},
   "outputs": [
    {
     "name": "stdout",
     "output_type": "stream",
     "text": [
      "홍길동, 22, a@a.com, 서울\n",
      "신길동, 32, a@a.com, 서울\n",
      "김길동, 42, a@a.com, 서울\n"
     ]
    }
   ],
   "source": [
    "with open('data/ch09_member1.json', 'r', encoding = 'utf-8') as f :\n",
    "    load_member_list = json.load(f, object_hook = as_member)\n",
    "\n",
    "for load_member in load_member_list :\n",
    "    print(load_member)"
   ]
  },
  {
   "cell_type": "markdown",
   "id": "6c65b8d2",
   "metadata": {},
   "source": [
    "### JSON → 데이터프레임"
   ]
  },
  {
   "cell_type": "code",
   "execution_count": 1,
   "id": "a2c5d4ec",
   "metadata": {},
   "outputs": [
    {
     "data": {
      "text/html": [
       "<div>\n",
       "<style scoped>\n",
       "    .dataframe tbody tr th:only-of-type {\n",
       "        vertical-align: middle;\n",
       "    }\n",
       "\n",
       "    .dataframe tbody tr th {\n",
       "        vertical-align: top;\n",
       "    }\n",
       "\n",
       "    .dataframe thead th {\n",
       "        text-align: right;\n",
       "    }\n",
       "</style>\n",
       "<table border=\"1\" class=\"dataframe\">\n",
       "  <thead>\n",
       "    <tr style=\"text-align: right;\">\n",
       "      <th></th>\n",
       "      <th>name</th>\n",
       "      <th>age</th>\n",
       "      <th>email</th>\n",
       "      <th>address</th>\n",
       "    </tr>\n",
       "  </thead>\n",
       "  <tbody>\n",
       "    <tr>\n",
       "      <th>0</th>\n",
       "      <td>홍길동</td>\n",
       "      <td>22</td>\n",
       "      <td>a@a.com</td>\n",
       "      <td>서울</td>\n",
       "    </tr>\n",
       "    <tr>\n",
       "      <th>1</th>\n",
       "      <td>신길동</td>\n",
       "      <td>32</td>\n",
       "      <td>a@a.com</td>\n",
       "      <td>서울</td>\n",
       "    </tr>\n",
       "    <tr>\n",
       "      <th>2</th>\n",
       "      <td>김길동</td>\n",
       "      <td>42</td>\n",
       "      <td>a@a.com</td>\n",
       "      <td>서울</td>\n",
       "    </tr>\n",
       "  </tbody>\n",
       "</table>\n",
       "</div>"
      ],
      "text/plain": [
       "  name  age    email address\n",
       "0  홍길동   22  a@a.com      서울\n",
       "1  신길동   32  a@a.com      서울\n",
       "2  김길동   42  a@a.com      서울"
      ]
     },
     "execution_count": 1,
     "metadata": {},
     "output_type": "execute_result"
    }
   ],
   "source": [
    "import pandas as pd\n",
    "pd.read_json('data/ch09_member1.json')"
   ]
  },
  {
   "cell_type": "code",
   "execution_count": 2,
   "id": "21b51616",
   "metadata": {},
   "outputs": [
    {
     "data": {
      "text/html": [
       "<div>\n",
       "<style scoped>\n",
       "    .dataframe tbody tr th:only-of-type {\n",
       "        vertical-align: middle;\n",
       "    }\n",
       "\n",
       "    .dataframe tbody tr th {\n",
       "        vertical-align: top;\n",
       "    }\n",
       "\n",
       "    .dataframe thead th {\n",
       "        text-align: right;\n",
       "    }\n",
       "</style>\n",
       "<table border=\"1\" class=\"dataframe\">\n",
       "  <thead>\n",
       "    <tr style=\"text-align: right;\">\n",
       "      <th></th>\n",
       "      <th>name</th>\n",
       "      <th>age</th>\n",
       "      <th>email</th>\n",
       "      <th>address</th>\n",
       "    </tr>\n",
       "  </thead>\n",
       "  <tbody>\n",
       "    <tr>\n",
       "      <th>0</th>\n",
       "      <td>홍길동</td>\n",
       "      <td>20</td>\n",
       "      <td>kildong@hong.com</td>\n",
       "      <td>서울</td>\n",
       "    </tr>\n",
       "    <tr>\n",
       "      <th>1</th>\n",
       "      <td>김길동</td>\n",
       "      <td>30</td>\n",
       "      <td>kildong@hong.com</td>\n",
       "      <td>인천</td>\n",
       "    </tr>\n",
       "  </tbody>\n",
       "</table>\n",
       "</div>"
      ],
      "text/plain": [
       "  name  age             email address\n",
       "0  홍길동   20  kildong@hong.com      서울\n",
       "1  김길동   30  kildong@hong.com      인천"
      ]
     },
     "execution_count": 2,
     "metadata": {},
     "output_type": "execute_result"
    }
   ],
   "source": [
    "pd.read_json('data/ch09_member.json', encoding = 'utf-8')"
   ]
  },
  {
   "cell_type": "markdown",
   "id": "003511be",
   "metadata": {},
   "source": [
    "# 5절. hdf5(h5)파일 읽기/쓰기\n",
    "\n",
    "- h5py 사용"
   ]
  },
  {
   "cell_type": "markdown",
   "id": "abcef8c1",
   "metadata": {},
   "source": [
    "## 5.1 hdf5파일 쓰기\n",
    "\n",
    "- 딕셔너리리스트를 hdf5파일에 쓰기\n",
    "- 데이터프레임을 hdf5파일에 쓰기"
   ]
  },
  {
   "cell_type": "code",
   "execution_count": 4,
   "id": "3c5f0295",
   "metadata": {},
   "outputs": [
    {
     "data": {
      "text/html": [
       "<div>\n",
       "<style scoped>\n",
       "    .dataframe tbody tr th:only-of-type {\n",
       "        vertical-align: middle;\n",
       "    }\n",
       "\n",
       "    .dataframe tbody tr th {\n",
       "        vertical-align: top;\n",
       "    }\n",
       "\n",
       "    .dataframe thead th {\n",
       "        text-align: right;\n",
       "    }\n",
       "</style>\n",
       "<table border=\"1\" class=\"dataframe\">\n",
       "  <thead>\n",
       "    <tr style=\"text-align: right;\">\n",
       "      <th></th>\n",
       "      <th>sepal_length</th>\n",
       "      <th>sepal_width</th>\n",
       "      <th>petal_length</th>\n",
       "      <th>petal_width</th>\n",
       "      <th>species</th>\n",
       "    </tr>\n",
       "  </thead>\n",
       "  <tbody>\n",
       "    <tr>\n",
       "      <th>0</th>\n",
       "      <td>5.1</td>\n",
       "      <td>3.5</td>\n",
       "      <td>1.4</td>\n",
       "      <td>0.2</td>\n",
       "      <td>setosa</td>\n",
       "    </tr>\n",
       "    <tr>\n",
       "      <th>50</th>\n",
       "      <td>7.0</td>\n",
       "      <td>3.2</td>\n",
       "      <td>4.7</td>\n",
       "      <td>1.4</td>\n",
       "      <td>versicolor</td>\n",
       "    </tr>\n",
       "    <tr>\n",
       "      <th>100</th>\n",
       "      <td>6.3</td>\n",
       "      <td>3.3</td>\n",
       "      <td>6.0</td>\n",
       "      <td>2.5</td>\n",
       "      <td>virginica</td>\n",
       "    </tr>\n",
       "  </tbody>\n",
       "</table>\n",
       "</div>"
      ],
      "text/plain": [
       "     sepal_length  sepal_width  petal_length  petal_width     species\n",
       "0             5.1          3.5           1.4          0.2      setosa\n",
       "50            7.0          3.2           4.7          1.4  versicolor\n",
       "100           6.3          3.3           6.0          2.5   virginica"
      ]
     },
     "execution_count": 4,
     "metadata": {},
     "output_type": "execute_result"
    }
   ],
   "source": [
    "# seaborn : 시각화 패키지. 학습을 윈한 데이터셋 다수\n",
    "\n",
    "import seaborn as sns\n",
    "\n",
    "iris_df = sns.load_dataset(\"iris\")\n",
    "iris_df[::50]"
   ]
  },
  {
   "cell_type": "code",
   "execution_count": 6,
   "id": "0b9f0312",
   "metadata": {},
   "outputs": [],
   "source": [
    "iris_df.to_hdf(\"data/ch09_iris.hdf5\", key = 'iris')"
   ]
  },
  {
   "cell_type": "code",
   "execution_count": 15,
   "id": "6c85da08",
   "metadata": {
    "scrolled": true
   },
   "outputs": [
    {
     "data": {
      "text/plain": [
       "(dict, pandas.core.frame.DataFrame)"
      ]
     },
     "execution_count": 15,
     "metadata": {},
     "output_type": "execute_result"
    }
   ],
   "source": [
    "iris_dic = iris_df.to_dict()\n",
    "type(iris_dic), type(iris_df)"
   ]
  },
  {
   "cell_type": "code",
   "execution_count": 17,
   "id": "0e69b38b",
   "metadata": {},
   "outputs": [
    {
     "data": {
      "text/plain": [
       "dict_keys(['sepal_length', 'sepal_width', 'petal_length', 'petal_width', 'species'])"
      ]
     },
     "execution_count": 17,
     "metadata": {},
     "output_type": "execute_result"
    }
   ],
   "source": [
    "iris_dic.keys()"
   ]
  },
  {
   "cell_type": "code",
   "execution_count": 37,
   "id": "7b67cf6f",
   "metadata": {},
   "outputs": [
    {
     "name": "stdout",
     "output_type": "stream",
     "text": [
      "그룹명 : sepal_length\n",
      "그룹명 : sepal_width\n",
      "그룹명 : petal_length\n",
      "그룹명 : petal_width\n",
      "그룹명 : species\n"
     ]
    }
   ],
   "source": [
    "for group, value in iris_dic.items():\n",
    "    print('그룹명 :', group)\n",
    "    # print(value)"
   ]
  },
  {
   "cell_type": "code",
   "execution_count": 26,
   "id": "df65bd02",
   "metadata": {},
   "outputs": [
    {
     "name": "stdout",
     "output_type": "stream",
     "text": [
      "그룹명 : sepal_length\n",
      "0:5.1\t1:4.9\t2:4.7\t3:4.6\t4:5.0\t5:5.4\t6:4.6\t7:5.0\t8:4.4\t9:4.9\t10:5.4\t11:4.8\t12:4.8\t13:4.3\t14:5.8\t15:5.7\t16:5.4\t17:5.1\t18:5.7\t19:5.1\t20:5.4\t21:5.1\t22:4.6\t23:5.1\t24:4.8\t25:5.0\t26:5.0\t27:5.2\t28:5.2\t29:4.7\t30:4.8\t31:5.4\t32:5.2\t33:5.5\t34:4.9\t35:5.0\t36:5.5\t37:4.9\t38:4.4\t39:5.1\t40:5.0\t41:4.5\t42:4.4\t43:5.0\t44:5.1\t45:4.8\t46:5.1\t47:4.6\t48:5.3\t49:5.0\t50:7.0\t51:6.4\t52:6.9\t53:5.5\t54:6.5\t55:5.7\t56:6.3\t57:4.9\t58:6.6\t59:5.2\t60:5.0\t61:5.9\t62:6.0\t63:6.1\t64:5.6\t65:6.7\t66:5.6\t67:5.8\t68:6.2\t69:5.6\t70:5.9\t71:6.1\t72:6.3\t73:6.1\t74:6.4\t75:6.6\t76:6.8\t77:6.7\t78:6.0\t79:5.7\t80:5.5\t81:5.5\t82:5.8\t83:6.0\t84:5.4\t85:6.0\t86:6.7\t87:6.3\t88:5.6\t89:5.5\t90:5.5\t91:6.1\t92:5.8\t93:5.0\t94:5.6\t95:5.7\t96:5.7\t97:6.2\t98:5.1\t99:5.7\t100:6.3\t101:5.8\t102:7.1\t103:6.3\t104:6.5\t105:7.6\t106:4.9\t107:7.3\t108:6.7\t109:7.2\t110:6.5\t111:6.4\t112:6.8\t113:5.7\t114:5.8\t115:6.4\t116:6.5\t117:7.7\t118:7.7\t119:6.0\t120:6.9\t121:5.6\t122:7.7\t123:6.3\t124:6.7\t125:7.2\t126:6.2\t127:6.1\t128:6.4\t129:7.2\t130:7.4\t131:7.9\t132:6.4\t133:6.3\t134:6.1\t135:7.7\t136:6.3\t137:6.4\t138:6.0\t139:6.9\t140:6.7\t141:6.9\t142:5.8\t143:6.8\t144:6.7\t145:6.7\t146:6.3\t147:6.5\t148:6.2\t149:5.9\t\n",
      "그룹명 : sepal_width\n",
      "0:3.5\t1:3.0\t2:3.2\t3:3.1\t4:3.6\t5:3.9\t6:3.4\t7:3.4\t8:2.9\t9:3.1\t10:3.7\t11:3.4\t12:3.0\t13:3.0\t14:4.0\t15:4.4\t16:3.9\t17:3.5\t18:3.8\t19:3.8\t20:3.4\t21:3.7\t22:3.6\t23:3.3\t24:3.4\t25:3.0\t26:3.4\t27:3.5\t28:3.4\t29:3.2\t30:3.1\t31:3.4\t32:4.1\t33:4.2\t34:3.1\t35:3.2\t36:3.5\t37:3.6\t38:3.0\t39:3.4\t40:3.5\t41:2.3\t42:3.2\t43:3.5\t44:3.8\t45:3.0\t46:3.8\t47:3.2\t48:3.7\t49:3.3\t50:3.2\t51:3.2\t52:3.1\t53:2.3\t54:2.8\t55:2.8\t56:3.3\t57:2.4\t58:2.9\t59:2.7\t60:2.0\t61:3.0\t62:2.2\t63:2.9\t64:2.9\t65:3.1\t66:3.0\t67:2.7\t68:2.2\t69:2.5\t70:3.2\t71:2.8\t72:2.5\t73:2.8\t74:2.9\t75:3.0\t76:2.8\t77:3.0\t78:2.9\t79:2.6\t80:2.4\t81:2.4\t82:2.7\t83:2.7\t84:3.0\t85:3.4\t86:3.1\t87:2.3\t88:3.0\t89:2.5\t90:2.6\t91:3.0\t92:2.6\t93:2.3\t94:2.7\t95:3.0\t96:2.9\t97:2.9\t98:2.5\t99:2.8\t100:3.3\t101:2.7\t102:3.0\t103:2.9\t104:3.0\t105:3.0\t106:2.5\t107:2.9\t108:2.5\t109:3.6\t110:3.2\t111:2.7\t112:3.0\t113:2.5\t114:2.8\t115:3.2\t116:3.0\t117:3.8\t118:2.6\t119:2.2\t120:3.2\t121:2.8\t122:2.8\t123:2.7\t124:3.3\t125:3.2\t126:2.8\t127:3.0\t128:2.8\t129:3.0\t130:2.8\t131:3.8\t132:2.8\t133:2.8\t134:2.6\t135:3.0\t136:3.4\t137:3.1\t138:3.0\t139:3.1\t140:3.1\t141:3.1\t142:2.7\t143:3.2\t144:3.3\t145:3.0\t146:2.5\t147:3.0\t148:3.4\t149:3.0\t\n",
      "그룹명 : petal_length\n",
      "0:1.4\t1:1.4\t2:1.3\t3:1.5\t4:1.4\t5:1.7\t6:1.4\t7:1.5\t8:1.4\t9:1.5\t10:1.5\t11:1.6\t12:1.4\t13:1.1\t14:1.2\t15:1.5\t16:1.3\t17:1.4\t18:1.7\t19:1.5\t20:1.7\t21:1.5\t22:1.0\t23:1.7\t24:1.9\t25:1.6\t26:1.6\t27:1.5\t28:1.4\t29:1.6\t30:1.6\t31:1.5\t32:1.5\t33:1.4\t34:1.5\t35:1.2\t36:1.3\t37:1.4\t38:1.3\t39:1.5\t40:1.3\t41:1.3\t42:1.3\t43:1.6\t44:1.9\t45:1.4\t46:1.6\t47:1.4\t48:1.5\t49:1.4\t50:4.7\t51:4.5\t52:4.9\t53:4.0\t54:4.6\t55:4.5\t56:4.7\t57:3.3\t58:4.6\t59:3.9\t60:3.5\t61:4.2\t62:4.0\t63:4.7\t64:3.6\t65:4.4\t66:4.5\t67:4.1\t68:4.5\t69:3.9\t70:4.8\t71:4.0\t72:4.9\t73:4.7\t74:4.3\t75:4.4\t76:4.8\t77:5.0\t78:4.5\t79:3.5\t80:3.8\t81:3.7\t82:3.9\t83:5.1\t84:4.5\t85:4.5\t86:4.7\t87:4.4\t88:4.1\t89:4.0\t90:4.4\t91:4.6\t92:4.0\t93:3.3\t94:4.2\t95:4.2\t96:4.2\t97:4.3\t98:3.0\t99:4.1\t100:6.0\t101:5.1\t102:5.9\t103:5.6\t104:5.8\t105:6.6\t106:4.5\t107:6.3\t108:5.8\t109:6.1\t110:5.1\t111:5.3\t112:5.5\t113:5.0\t114:5.1\t115:5.3\t116:5.5\t117:6.7\t118:6.9\t119:5.0\t120:5.7\t121:4.9\t122:6.7\t123:4.9\t124:5.7\t125:6.0\t126:4.8\t127:4.9\t128:5.6\t129:5.8\t130:6.1\t131:6.4\t132:5.6\t133:5.1\t134:5.6\t135:6.1\t136:5.6\t137:5.5\t138:4.8\t139:5.4\t140:5.6\t141:5.1\t142:5.1\t143:5.9\t144:5.7\t145:5.2\t146:5.0\t147:5.2\t148:5.4\t149:5.1\t\n",
      "그룹명 : petal_width\n",
      "0:0.2\t1:0.2\t2:0.2\t3:0.2\t4:0.2\t5:0.4\t6:0.3\t7:0.2\t8:0.2\t9:0.1\t10:0.2\t11:0.2\t12:0.1\t13:0.1\t14:0.2\t15:0.4\t16:0.4\t17:0.3\t18:0.3\t19:0.3\t20:0.2\t21:0.4\t22:0.2\t23:0.5\t24:0.2\t25:0.2\t26:0.4\t27:0.2\t28:0.2\t29:0.2\t30:0.2\t31:0.4\t32:0.1\t33:0.2\t34:0.2\t35:0.2\t36:0.2\t37:0.1\t38:0.2\t39:0.2\t40:0.3\t41:0.3\t42:0.2\t43:0.6\t44:0.4\t45:0.3\t46:0.2\t47:0.2\t48:0.2\t49:0.2\t50:1.4\t51:1.5\t52:1.5\t53:1.3\t54:1.5\t55:1.3\t56:1.6\t57:1.0\t58:1.3\t59:1.4\t60:1.0\t61:1.5\t62:1.0\t63:1.4\t64:1.3\t65:1.4\t66:1.5\t67:1.0\t68:1.5\t69:1.1\t70:1.8\t71:1.3\t72:1.5\t73:1.2\t74:1.3\t75:1.4\t76:1.4\t77:1.7\t78:1.5\t79:1.0\t80:1.1\t81:1.0\t82:1.2\t83:1.6\t84:1.5\t85:1.6\t86:1.5\t87:1.3\t88:1.3\t89:1.3\t90:1.2\t91:1.4\t92:1.2\t93:1.0\t94:1.3\t95:1.2\t96:1.3\t97:1.3\t98:1.1\t99:1.3\t100:2.5\t101:1.9\t102:2.1\t103:1.8\t104:2.2\t105:2.1\t106:1.7\t107:1.8\t108:1.8\t109:2.5\t110:2.0\t111:1.9\t112:2.1\t113:2.0\t114:2.4\t115:2.3\t116:1.8\t117:2.2\t118:2.3\t119:1.5\t120:2.3\t121:2.0\t122:2.0\t123:1.8\t124:2.1\t125:1.8\t126:1.8\t127:1.8\t128:2.1\t129:1.6\t130:1.9\t131:2.0\t132:2.2\t133:1.5\t134:1.4\t135:2.3\t136:2.4\t137:1.8\t138:1.8\t139:2.1\t140:2.4\t141:2.3\t142:1.9\t143:2.3\t144:2.5\t145:2.3\t146:1.9\t147:2.0\t148:2.3\t149:1.8\t\n",
      "그룹명 : species\n",
      "0:setosa\t1:setosa\t2:setosa\t3:setosa\t4:setosa\t5:setosa\t6:setosa\t7:setosa\t8:setosa\t9:setosa\t10:setosa\t11:setosa\t12:setosa\t13:setosa\t14:setosa\t15:setosa\t16:setosa\t17:setosa\t18:setosa\t19:setosa\t20:setosa\t21:setosa\t22:setosa\t23:setosa\t24:setosa\t25:setosa\t26:setosa\t27:setosa\t28:setosa\t29:setosa\t30:setosa\t31:setosa\t32:setosa\t33:setosa\t34:setosa\t35:setosa\t36:setosa\t37:setosa\t38:setosa\t39:setosa\t40:setosa\t41:setosa\t42:setosa\t43:setosa\t44:setosa\t45:setosa\t46:setosa\t47:setosa\t48:setosa\t49:setosa\t50:versicolor\t51:versicolor\t52:versicolor\t53:versicolor\t54:versicolor\t55:versicolor\t56:versicolor\t57:versicolor\t58:versicolor\t59:versicolor\t60:versicolor\t61:versicolor\t62:versicolor\t63:versicolor\t64:versicolor\t65:versicolor\t66:versicolor\t67:versicolor\t68:versicolor\t69:versicolor\t70:versicolor\t71:versicolor\t72:versicolor\t73:versicolor\t74:versicolor\t75:versicolor\t76:versicolor\t77:versicolor\t78:versicolor\t79:versicolor\t80:versicolor\t81:versicolor\t82:versicolor\t83:versicolor\t84:versicolor\t85:versicolor\t86:versicolor\t87:versicolor\t88:versicolor\t89:versicolor\t90:versicolor\t91:versicolor\t92:versicolor\t93:versicolor\t94:versicolor\t95:versicolor\t96:versicolor\t97:versicolor\t98:versicolor\t99:versicolor\t100:virginica\t101:virginica\t102:virginica\t103:virginica\t104:virginica\t105:virginica\t106:virginica\t107:virginica\t108:virginica\t109:virginica\t110:virginica\t111:virginica\t112:virginica\t113:virginica\t114:virginica\t115:virginica\t116:virginica\t117:virginica\t118:virginica\t119:virginica\t120:virginica\t121:virginica\t122:virginica\t123:virginica\t124:virginica\t125:virginica\t126:virginica\t127:virginica\t128:virginica\t129:virginica\t130:virginica\t131:virginica\t132:virginica\t133:virginica\t134:virginica\t135:virginica\t136:virginica\t137:virginica\t138:virginica\t139:virginica\t140:virginica\t141:virginica\t142:virginica\t143:virginica\t144:virginica\t145:virginica\t146:virginica\t147:virginica\t148:virginica\t149:virginica\t\n"
     ]
    }
   ],
   "source": [
    "for group, value in iris_dic.items() :\n",
    "    print('그룹명 :', group)\n",
    "    for key, data in value.items() :\n",
    "        print('{}:{}'.format(str(key), data), end = '\\t')\n",
    "    print()  # 개행"
   ]
  },
  {
   "cell_type": "code",
   "execution_count": 27,
   "id": "d8ccb2ec",
   "metadata": {},
   "outputs": [],
   "source": [
    "# 딕셔너리리스트를 hdf파일로 쓰기\n",
    "\n",
    "import h5py\n",
    "\n",
    "with h5py.File('data/ch09_iris_dic.hdf5', 'w') as f :\n",
    "    for group, value in iris_dic.items() :\n",
    "        grp = f.create_group(group)\n",
    "        for key, data in value.items() :\n",
    "            grp.create_dataset(str(key), data = data)"
   ]
  },
  {
   "cell_type": "markdown",
   "id": "1d0063b8",
   "metadata": {},
   "source": [
    "## 5.2 hdf5 파일 읽기\n",
    "\n",
    "- hdf5파일을 딕셔너리리스트로 읽기\n",
    "- hdf5파일을 데이터프레임으로 읽기"
   ]
  },
  {
   "cell_type": "code",
   "execution_count": 7,
   "id": "8ecb943c",
   "metadata": {},
   "outputs": [
    {
     "data": {
      "text/html": [
       "<div>\n",
       "<style scoped>\n",
       "    .dataframe tbody tr th:only-of-type {\n",
       "        vertical-align: middle;\n",
       "    }\n",
       "\n",
       "    .dataframe tbody tr th {\n",
       "        vertical-align: top;\n",
       "    }\n",
       "\n",
       "    .dataframe thead th {\n",
       "        text-align: right;\n",
       "    }\n",
       "</style>\n",
       "<table border=\"1\" class=\"dataframe\">\n",
       "  <thead>\n",
       "    <tr style=\"text-align: right;\">\n",
       "      <th></th>\n",
       "      <th>sepal_length</th>\n",
       "      <th>sepal_width</th>\n",
       "      <th>petal_length</th>\n",
       "      <th>petal_width</th>\n",
       "      <th>species</th>\n",
       "    </tr>\n",
       "  </thead>\n",
       "  <tbody>\n",
       "    <tr>\n",
       "      <th>0</th>\n",
       "      <td>5.1</td>\n",
       "      <td>3.5</td>\n",
       "      <td>1.4</td>\n",
       "      <td>0.2</td>\n",
       "      <td>setosa</td>\n",
       "    </tr>\n",
       "    <tr>\n",
       "      <th>50</th>\n",
       "      <td>7.0</td>\n",
       "      <td>3.2</td>\n",
       "      <td>4.7</td>\n",
       "      <td>1.4</td>\n",
       "      <td>versicolor</td>\n",
       "    </tr>\n",
       "    <tr>\n",
       "      <th>100</th>\n",
       "      <td>6.3</td>\n",
       "      <td>3.3</td>\n",
       "      <td>6.0</td>\n",
       "      <td>2.5</td>\n",
       "      <td>virginica</td>\n",
       "    </tr>\n",
       "  </tbody>\n",
       "</table>\n",
       "</div>"
      ],
      "text/plain": [
       "     sepal_length  sepal_width  petal_length  petal_width     species\n",
       "0             5.1          3.5           1.4          0.2      setosa\n",
       "50            7.0          3.2           4.7          1.4  versicolor\n",
       "100           6.3          3.3           6.0          2.5   virginica"
      ]
     },
     "execution_count": 7,
     "metadata": {},
     "output_type": "execute_result"
    }
   ],
   "source": [
    "import pandas as pd\n",
    "\n",
    "load_iris_df = pd.read_hdf(\"data/ch09_iris.hdf5\", key = 'iris')\n",
    "load_iris_df[::50]"
   ]
  },
  {
   "cell_type": "code",
   "execution_count": 8,
   "id": "d7f56466",
   "metadata": {},
   "outputs": [
    {
     "data": {
      "text/plain": [
       "True"
      ]
     },
     "execution_count": 8,
     "metadata": {},
     "output_type": "execute_result"
    }
   ],
   "source": [
    "all(iris_df == load_iris_df)  # 두 데이터프레임 변수의 모든 행과 열의 값이 같은지 여부"
   ]
  },
  {
   "cell_type": "code",
   "execution_count": 32,
   "id": "f239df62",
   "metadata": {},
   "outputs": [
    {
     "name": "stdout",
     "output_type": "stream",
     "text": [
      "그룹 : petal_length\n",
      "0:1.4\t1:1.4\t10:1.5\t100:6.0\t101:5.1\t102:5.9\t103:5.6\t104:5.8\t105:6.6\t106:4.5\t107:6.3\t108:5.8\t109:6.1\t11:1.6\t110:5.1\t111:5.3\t112:5.5\t113:5.0\t114:5.1\t115:5.3\t116:5.5\t117:6.7\t118:6.9\t119:5.0\t12:1.4\t120:5.7\t121:4.9\t122:6.7\t123:4.9\t124:5.7\t125:6.0\t126:4.8\t127:4.9\t128:5.6\t129:5.8\t13:1.1\t130:6.1\t131:6.4\t132:5.6\t133:5.1\t134:5.6\t135:6.1\t136:5.6\t137:5.5\t138:4.8\t139:5.4\t14:1.2\t140:5.6\t141:5.1\t142:5.1\t143:5.9\t144:5.7\t145:5.2\t146:5.0\t147:5.2\t148:5.4\t149:5.1\t15:1.5\t16:1.3\t17:1.4\t18:1.7\t19:1.5\t2:1.3\t20:1.7\t21:1.5\t22:1.0\t23:1.7\t24:1.9\t25:1.6\t26:1.6\t27:1.5\t28:1.4\t29:1.6\t3:1.5\t30:1.6\t31:1.5\t32:1.5\t33:1.4\t34:1.5\t35:1.2\t36:1.3\t37:1.4\t38:1.3\t39:1.5\t4:1.4\t40:1.3\t41:1.3\t42:1.3\t43:1.6\t44:1.9\t45:1.4\t46:1.6\t47:1.4\t48:1.5\t49:1.4\t5:1.7\t50:4.7\t51:4.5\t52:4.9\t53:4.0\t54:4.6\t55:4.5\t56:4.7\t57:3.3\t58:4.6\t59:3.9\t6:1.4\t60:3.5\t61:4.2\t62:4.0\t63:4.7\t64:3.6\t65:4.4\t66:4.5\t67:4.1\t68:4.5\t69:3.9\t7:1.5\t70:4.8\t71:4.0\t72:4.9\t73:4.7\t74:4.3\t75:4.4\t76:4.8\t77:5.0\t78:4.5\t79:3.5\t8:1.4\t80:3.8\t81:3.7\t82:3.9\t83:5.1\t84:4.5\t85:4.5\t86:4.7\t87:4.4\t88:4.1\t89:4.0\t9:1.5\t90:4.4\t91:4.6\t92:4.0\t93:3.3\t94:4.2\t95:4.2\t96:4.2\t97:4.3\t98:3.0\t99:4.1\t그룹 : petal_width\n",
      "0:0.2\t1:0.2\t10:0.2\t100:2.5\t101:1.9\t102:2.1\t103:1.8\t104:2.2\t105:2.1\t106:1.7\t107:1.8\t108:1.8\t109:2.5\t11:0.2\t110:2.0\t111:1.9\t112:2.1\t113:2.0\t114:2.4\t115:2.3\t116:1.8\t117:2.2\t118:2.3\t119:1.5\t12:0.1\t120:2.3\t121:2.0\t122:2.0\t123:1.8\t124:2.1\t125:1.8\t126:1.8\t127:1.8\t128:2.1\t129:1.6\t13:0.1\t130:1.9\t131:2.0\t132:2.2\t133:1.5\t134:1.4\t135:2.3\t136:2.4\t137:1.8\t138:1.8\t139:2.1\t14:0.2\t140:2.4\t141:2.3\t142:1.9\t143:2.3\t144:2.5\t145:2.3\t146:1.9\t147:2.0\t148:2.3\t149:1.8\t15:0.4\t16:0.4\t17:0.3\t18:0.3\t19:0.3\t2:0.2\t20:0.2\t21:0.4\t22:0.2\t23:0.5\t24:0.2\t25:0.2\t26:0.4\t27:0.2\t28:0.2\t29:0.2\t3:0.2\t30:0.2\t31:0.4\t32:0.1\t33:0.2\t34:0.2\t35:0.2\t36:0.2\t37:0.1\t38:0.2\t39:0.2\t4:0.2\t40:0.3\t41:0.3\t42:0.2\t43:0.6\t44:0.4\t45:0.3\t46:0.2\t47:0.2\t48:0.2\t49:0.2\t5:0.4\t50:1.4\t51:1.5\t52:1.5\t53:1.3\t54:1.5\t55:1.3\t56:1.6\t57:1.0\t58:1.3\t59:1.4\t6:0.3\t60:1.0\t61:1.5\t62:1.0\t63:1.4\t64:1.3\t65:1.4\t66:1.5\t67:1.0\t68:1.5\t69:1.1\t7:0.2\t70:1.8\t71:1.3\t72:1.5\t73:1.2\t74:1.3\t75:1.4\t76:1.4\t77:1.7\t78:1.5\t79:1.0\t8:0.2\t80:1.1\t81:1.0\t82:1.2\t83:1.6\t84:1.5\t85:1.6\t86:1.5\t87:1.3\t88:1.3\t89:1.3\t9:0.1\t90:1.2\t91:1.4\t92:1.2\t93:1.0\t94:1.3\t95:1.2\t96:1.3\t97:1.3\t98:1.1\t99:1.3\t그룹 : sepal_length\n",
      "0:5.1\t1:4.9\t10:5.4\t100:6.3\t101:5.8\t102:7.1\t103:6.3\t104:6.5\t105:7.6\t106:4.9\t107:7.3\t108:6.7\t109:7.2\t11:4.8\t110:6.5\t111:6.4\t112:6.8\t113:5.7\t114:5.8\t115:6.4\t116:6.5\t117:7.7\t118:7.7\t119:6.0\t12:4.8\t120:6.9\t121:5.6\t122:7.7\t123:6.3\t124:6.7\t125:7.2\t126:6.2\t127:6.1\t128:6.4\t129:7.2\t13:4.3\t130:7.4\t131:7.9\t132:6.4\t133:6.3\t134:6.1\t135:7.7\t136:6.3\t137:6.4\t138:6.0\t139:6.9\t14:5.8\t140:6.7\t141:6.9\t142:5.8\t143:6.8\t144:6.7\t145:6.7\t146:6.3\t147:6.5\t148:6.2\t149:5.9\t15:5.7\t16:5.4\t17:5.1\t18:5.7\t19:5.1\t2:4.7\t20:5.4\t21:5.1\t22:4.6\t23:5.1\t24:4.8\t25:5.0\t26:5.0\t27:5.2\t28:5.2\t29:4.7\t3:4.6\t30:4.8\t31:5.4\t32:5.2\t33:5.5\t34:4.9\t35:5.0\t36:5.5\t37:4.9\t38:4.4\t39:5.1\t4:5.0\t40:5.0\t41:4.5\t42:4.4\t43:5.0\t44:5.1\t45:4.8\t46:5.1\t47:4.6\t48:5.3\t49:5.0\t5:5.4\t50:7.0\t51:6.4\t52:6.9\t53:5.5\t54:6.5\t55:5.7\t56:6.3\t57:4.9\t58:6.6\t59:5.2\t6:4.6\t60:5.0\t61:5.9\t62:6.0\t63:6.1\t64:5.6\t65:6.7\t66:5.6\t67:5.8\t68:6.2\t69:5.6\t7:5.0\t70:5.9\t71:6.1\t72:6.3\t73:6.1\t74:6.4\t75:6.6\t76:6.8\t77:6.7\t78:6.0\t79:5.7\t8:4.4\t80:5.5\t81:5.5\t82:5.8\t83:6.0\t84:5.4\t85:6.0\t86:6.7\t87:6.3\t88:5.6\t89:5.5\t9:4.9\t90:5.5\t91:6.1\t92:5.8\t93:5.0\t94:5.6\t95:5.7\t96:5.7\t97:6.2\t98:5.1\t99:5.7\t그룹 : sepal_width\n",
      "0:3.5\t1:3.0\t10:3.7\t100:3.3\t101:2.7\t102:3.0\t103:2.9\t104:3.0\t105:3.0\t106:2.5\t107:2.9\t108:2.5\t109:3.6\t11:3.4\t110:3.2\t111:2.7\t112:3.0\t113:2.5\t114:2.8\t115:3.2\t116:3.0\t117:3.8\t118:2.6\t119:2.2\t12:3.0\t120:3.2\t121:2.8\t122:2.8\t123:2.7\t124:3.3\t125:3.2\t126:2.8\t127:3.0\t128:2.8\t129:3.0\t13:3.0\t130:2.8\t131:3.8\t132:2.8\t133:2.8\t134:2.6\t135:3.0\t136:3.4\t137:3.1\t138:3.0\t139:3.1\t14:4.0\t140:3.1\t141:3.1\t142:2.7\t143:3.2\t144:3.3\t145:3.0\t146:2.5\t147:3.0\t148:3.4\t149:3.0\t15:4.4\t16:3.9\t17:3.5\t18:3.8\t19:3.8\t2:3.2\t20:3.4\t21:3.7\t22:3.6\t23:3.3\t24:3.4\t25:3.0\t26:3.4\t27:3.5\t28:3.4\t29:3.2\t3:3.1\t30:3.1\t31:3.4\t32:4.1\t33:4.2\t34:3.1\t35:3.2\t36:3.5\t37:3.6\t38:3.0\t39:3.4\t4:3.6\t40:3.5\t41:2.3\t42:3.2\t43:3.5\t44:3.8\t45:3.0\t46:3.8\t47:3.2\t48:3.7\t49:3.3\t5:3.9\t50:3.2\t51:3.2\t52:3.1\t53:2.3\t54:2.8\t55:2.8\t56:3.3\t57:2.4\t58:2.9\t59:2.7\t6:3.4\t60:2.0\t61:3.0\t62:2.2\t63:2.9\t64:2.9\t65:3.1\t66:3.0\t67:2.7\t68:2.2\t69:2.5\t7:3.4\t70:3.2\t71:2.8\t72:2.5\t73:2.8\t74:2.9\t75:3.0\t76:2.8\t77:3.0\t78:2.9\t79:2.6\t8:2.9\t80:2.4\t81:2.4\t82:2.7\t83:2.7\t84:3.0\t85:3.4\t86:3.1\t87:2.3\t88:3.0\t89:2.5\t9:3.1\t90:2.6\t91:3.0\t92:2.6\t93:2.3\t94:2.7\t95:3.0\t96:2.9\t97:2.9\t98:2.5\t99:2.8\t그룹 : species\n",
      "0:b'setosa'\t1:b'setosa'\t10:b'setosa'\t100:b'virginica'\t101:b'virginica'\t102:b'virginica'\t103:b'virginica'\t104:b'virginica'\t105:b'virginica'\t106:b'virginica'\t107:b'virginica'\t108:b'virginica'\t109:b'virginica'\t11:b'setosa'\t110:b'virginica'\t111:b'virginica'\t112:b'virginica'\t113:b'virginica'\t114:b'virginica'\t115:b'virginica'\t116:b'virginica'\t117:b'virginica'\t118:b'virginica'\t119:b'virginica'\t12:b'setosa'\t120:b'virginica'\t121:b'virginica'\t122:b'virginica'\t123:b'virginica'\t124:b'virginica'\t125:b'virginica'\t126:b'virginica'\t127:b'virginica'\t128:b'virginica'\t129:b'virginica'\t13:b'setosa'\t130:b'virginica'\t131:b'virginica'\t132:b'virginica'\t133:b'virginica'\t134:b'virginica'\t135:b'virginica'\t136:b'virginica'\t137:b'virginica'\t138:b'virginica'\t139:b'virginica'\t14:b'setosa'\t140:b'virginica'\t141:b'virginica'\t142:b'virginica'\t143:b'virginica'\t144:b'virginica'\t145:b'virginica'\t146:b'virginica'\t147:b'virginica'\t148:b'virginica'\t149:b'virginica'\t15:b'setosa'\t16:b'setosa'\t17:b'setosa'\t18:b'setosa'\t19:b'setosa'\t2:b'setosa'\t20:b'setosa'\t21:b'setosa'\t22:b'setosa'\t23:b'setosa'\t24:b'setosa'\t25:b'setosa'\t26:b'setosa'\t27:b'setosa'\t28:b'setosa'\t29:b'setosa'\t3:b'setosa'\t30:b'setosa'\t31:b'setosa'\t32:b'setosa'\t33:b'setosa'\t34:b'setosa'\t35:b'setosa'\t36:b'setosa'\t37:b'setosa'\t38:b'setosa'\t39:b'setosa'\t4:b'setosa'\t40:b'setosa'\t41:b'setosa'\t42:b'setosa'\t43:b'setosa'\t44:b'setosa'\t45:b'setosa'\t46:b'setosa'\t47:b'setosa'\t48:b'setosa'\t49:b'setosa'\t5:b'setosa'\t50:b'versicolor'\t51:b'versicolor'\t52:b'versicolor'\t53:b'versicolor'\t54:b'versicolor'\t55:b'versicolor'\t56:b'versicolor'\t57:b'versicolor'\t58:b'versicolor'\t59:b'versicolor'\t6:b'setosa'\t60:b'versicolor'\t61:b'versicolor'\t62:b'versicolor'\t63:b'versicolor'\t64:b'versicolor'\t65:b'versicolor'\t66:b'versicolor'\t67:b'versicolor'\t68:b'versicolor'\t69:b'versicolor'\t7:b'setosa'\t70:b'versicolor'\t71:b'versicolor'\t72:b'versicolor'\t73:b'versicolor'\t74:b'versicolor'\t75:b'versicolor'\t76:b'versicolor'\t77:b'versicolor'\t78:b'versicolor'\t79:b'versicolor'\t8:b'setosa'\t80:b'versicolor'\t81:b'versicolor'\t82:b'versicolor'\t83:b'versicolor'\t84:b'versicolor'\t85:b'versicolor'\t86:b'versicolor'\t87:b'versicolor'\t88:b'versicolor'\t89:b'versicolor'\t9:b'setosa'\t90:b'versicolor'\t91:b'versicolor'\t92:b'versicolor'\t93:b'versicolor'\t94:b'versicolor'\t95:b'versicolor'\t96:b'versicolor'\t97:b'versicolor'\t98:b'versicolor'\t99:b'versicolor'\t"
     ]
    }
   ],
   "source": [
    "with h5py.File('data/ch09_iris_dic.hdf5', 'r') as f :\n",
    "    for group, value in f.items() :\n",
    "        print('그룹 :', group)\n",
    "        for key, data in value.items() :\n",
    "            print('{}:{}'.format(key, data[()]), end = '\\t')  # data[()] : h5 Dataset 타입을 가져올 때"
   ]
  },
  {
   "cell_type": "code",
   "execution_count": 40,
   "id": "956a7e9b",
   "metadata": {},
   "outputs": [
    {
     "data": {
      "text/plain": [
       "dict_keys(['petal_length', 'petal_width', 'sepal_length', 'sepal_width', 'species'])"
      ]
     },
     "execution_count": 40,
     "metadata": {},
     "output_type": "execute_result"
    }
   ],
   "source": [
    "load_iris_dic = {}\n",
    "\n",
    "with h5py.File('data/ch09_iris_dic.hdf5', 'r') as f:\n",
    "    for group, value in f.items():\n",
    "        temp = {}\n",
    "        for key, data in value.items():\n",
    "            temp[int(key)] = data[()]\n",
    "        load_iris_dic[group] = temp\n",
    "        \n",
    "# load_iris_dic['sepal_length'] = {0:5.4, 1:4}\n",
    "# load_iris_dic['sepal_width'] = {0:5.4, 1:4}\n",
    "load_iris_dic.keys()"
   ]
  },
  {
   "cell_type": "code",
   "execution_count": 41,
   "id": "6b1af45d",
   "metadata": {
    "scrolled": true
   },
   "outputs": [
    {
     "data": {
      "text/plain": [
       "{'s_l': {0: 5.4, 1: 4}}"
      ]
     },
     "execution_count": 41,
     "metadata": {},
     "output_type": "execute_result"
    }
   ],
   "source": [
    "{'s_l':{0:5.4, 1:4}}"
   ]
  },
  {
   "cell_type": "markdown",
   "id": "d35f5970",
   "metadata": {},
   "source": [
    "# 6절. 연습문제"
   ]
  },
  {
   "cell_type": "markdown",
   "id": "14aae8bc",
   "metadata": {},
   "source": [
    "## 연습문제 실습형 : 고객관리\n",
    "\n",
    "- 프로그램 시작시 'data/ch09_customers.txt(고객 데이터 백업용)'의 내용을 load(객체 list)\n",
    "- 파일이 없을 경우 빈 파일 생성"
   ]
  },
  {
   "cell_type": "code",
   "execution_count": 2,
   "id": "06cf9232",
   "metadata": {},
   "outputs": [],
   "source": [
    "# ex1. 기능별 함수를 작성한다\n",
    "#      실행 하면 data/ch09_customers.txt파일의 내용을 load(customer_list), 파일이 존재하지 않으면 빈 customers.txt파일을 생성하고\n",
    "#      데이터는 customer_list=[] 종료시 data/ch09_customers.txt에 데이터 백업후 종료(9번기능)"
   ]
  },
  {
   "cell_type": "markdown",
   "id": "f6089269",
   "metadata": {},
   "source": [
    "### Customer 클래스 작성"
   ]
  },
  {
   "cell_type": "code",
   "execution_count": 2,
   "id": "bc3e2024",
   "metadata": {},
   "outputs": [],
   "source": [
    "class Customer :\n",
    "    '고객데이터와 as_dic(), to_list_style(txt백업시), __str__()'\n",
    "    \n",
    "    def __init__(self, name, phone, email, age, grade, etc) :\n",
    "        self.name = name\n",
    "        self.phone = phone\n",
    "        self.email = email\n",
    "        self.age = age\n",
    "        self.grade = grade\n",
    "        self.etc = etc\n",
    "        \n",
    "    def as_dic(self) :\n",
    "        return {\n",
    "            'name':self.name,\n",
    "            'phone':self.phone,\n",
    "            'email':self.email,\n",
    "            'age':self.age,\n",
    "            'grade':self.grade,\n",
    "            'etc':self.etc            \n",
    "            }\n",
    "    \n",
    "    def to_list_style(self) :\n",
    "        return '{}, {}, {}, {}, {}, {}'.format(self.name,\n",
    "                                               self.phone,\n",
    "                                               self.email,\n",
    "                                               self.age,\n",
    "                                               self.grade,\n",
    "                                               self.etc)\n",
    "#         temp = [self.name, \n",
    "#                     self.phone, \n",
    "#                     self.email, \n",
    "#                     str(self.age), \n",
    "#                     str(self.grade), \n",
    "#                     self.etc]\n",
    "#         return ', '.join(temp)\n",
    "    \n",
    "    def __str__(self) :\n",
    "        return '{:>5}\\t{:5}\\t{:13}\\t{:>20}\\t{:3}\\t{}'.format('*' * self.grade,\n",
    "                                                           self.name,\n",
    "                                                           self.phone,\n",
    "                                                           self.email,\n",
    "                                                           self.age,\n",
    "                                                           self.etc)"
   ]
  },
  {
   "cell_type": "code",
   "execution_count": 3,
   "id": "234283d2",
   "metadata": {},
   "outputs": [],
   "source": [
    "def to_customer(row) :\n",
    "    '''\n",
    "    row = \"홍길동, 010-9999-9999, a@a.com, 30, 3, 까칠해\"(txt파일 내용)을 매개변수로 받아 \n",
    "    Customer 객체로 return \n",
    "    '''\n",
    "    data = row.split(',')\n",
    "    name = data[0]\n",
    "    phone = data[1].strip()  # strip()은 앞뒤 white space 제거\n",
    "    email = data[2].strip()\n",
    "    age = int(data[3].strip())\n",
    "    grade = int(data[4].strip())\n",
    "    etc = data[5].strip()\n",
    "    \n",
    "    return Customer(name, phone, email, age, grade, etc)"
   ]
  },
  {
   "cell_type": "code",
   "execution_count": 5,
   "id": "b6aab19e",
   "metadata": {},
   "outputs": [
    {
     "name": "stdout",
     "output_type": "stream",
     "text": [
      "  ***\t홍길동  \t010-9999-9999\t             a@a.com\t 30\t까칠해\n",
      "as_dic() = {'name': '홍길동', 'phone': '010-9999-9999', 'email': 'a@a.com', 'age': 30, 'grade': 3, 'etc': '까칠해'}\n",
      "to_list_style() = 홍길동, 010-9999-9999, a@a.com, 30, 3, 까칠해\n",
      "  ***\t홍길동  \t010-9999-9999\t             a@a.com\t 30\t까칠해\n"
     ]
    }
   ],
   "source": [
    "c1 = Customer('홍길동', '010-9999-9999', 'a@a.com', 30, 3, '까칠해')\n",
    "print(c1)\n",
    "print('as_dic() =', c1.as_dic())\n",
    "print('to_list_style() =', c1.to_list_style())\n",
    "c2 = to_customer('홍길동, 010-9999-9999, a@a.com, 30, 3, 까칠해')\n",
    "print(c2)"
   ]
  },
  {
   "cell_type": "markdown",
   "id": "6b57fad9",
   "metadata": {},
   "source": [
    "### 0. 처음 실행시 호출\n",
    "\n",
    "- ch09_customers.txt(백업데이터)에서 customer_list return\n",
    "- 파일이 없으면 빈 파일 생성, customer_list = [] return"
   ]
  },
  {
   "cell_type": "code",
   "execution_count": 4,
   "id": "dea747b7",
   "metadata": {},
   "outputs": [],
   "source": [
    "def load_customers() :\n",
    "    customer_list = []\n",
    "    try :\n",
    "        with open('data/ch09_customers.txt', 'r', encoding = 'utf-8') as f : \n",
    "            # txt 데이터 한줄씩 customer 객체로 받아 customer_list.append\n",
    "            lines = f.readlines()\n",
    "            for line in lines :\n",
    "                # line = '홍길동, 010-9999-9999, a@a.com, 30, 3, 까칠해'\n",
    "                customer = to_customer(line)\n",
    "                # print(customer)\n",
    "                customer_list.append(customer)\n",
    "    except :\n",
    "        with open('data/ch09_customers.txt', 'w', encoding = 'utf-8') as f :\n",
    "            print('초기화 파일이 생성되었습니다')\n",
    "    \n",
    "    return customer_list"
   ]
  },
  {
   "cell_type": "code",
   "execution_count": 7,
   "id": "bde691b8",
   "metadata": {},
   "outputs": [
    {
     "name": "stdout",
     "output_type": "stream",
     "text": [
      "*****\t홍길동  \t010-9999-9999\t    hong@mega_it.com\t 30\t열심히\n",
      "*****\t홍길동  \t010-8888-8888\t       hong2@abc.com\t 31\tabc\n",
      "  ***\t유길동  \t010-5432-2222\t         yu@hong.com\t 31\t가칠해\n",
      "   **\t이길동  \t010-6666-7777\t             a@a.com\t 30\t까칠해\n",
      " ****\t신길동  \t010-3333-9999\t             b@b.com\t 27\t까칠해\n",
      "    *\t신길동  \t010-2323-8989\t         sin@sin.com\t 45\t열심히\n"
     ]
    }
   ],
   "source": [
    "customer_list = load_customers()\n",
    "\n",
    "for customer in customer_list :\n",
    "    print(customer)"
   ]
  },
  {
   "cell_type": "markdown",
   "id": "92318706",
   "metadata": {},
   "source": [
    "### 1. 입력"
   ]
  },
  {
   "cell_type": "code",
   "execution_count": 5,
   "id": "ea7fe938",
   "metadata": {},
   "outputs": [],
   "source": [
    "def fn1_insert_customer_info() :\n",
    "    '''\n",
    "    사용자로부터 name, phone, email, age, grade, etc를 입력받아 Customer형 객체 변환\n",
    "    '''\n",
    "    import re\n",
    "    \n",
    "    name = input('이름을 입력하시오 : ')\n",
    "    name_pattern = r'[가-힣]{2,}'\n",
    "    while not re.search(name_pattern, name) :\n",
    "        print('이름을 제대로 입력하시오')\n",
    "        name = input('이름을 입력하시오 : ')\n",
    "        \n",
    "    phone = input('전화번호를 입력하시오 : ')\n",
    "    phone_pattern = r'\\d{2,3}[\\-) .]?[0-9]{3,4}.?\\d{4}'\n",
    "    while not re.search(phone_pattern, phone) :\n",
    "        print('전화번호를 제대로 입력하시오')\n",
    "        phone = input('전화번호를 입력하시오 : ')\n",
    "    \n",
    "    \n",
    "    email = input('이메일을 입력하시오 : ')\n",
    "    email_pattern = r'\\w+@[a-zA-Z0-9가-힣]+\\.\\w+[\\.\\w]*'\n",
    "    while not re.search(email_pattern, email) :\n",
    "        print('이메일을 제대로 입력하시오')\n",
    "        email = input('이메일을 입력하시오 : ')\n",
    "        \n",
    "    while True :\n",
    "        try :\n",
    "            age = int(input('나이를 입력하시오 : '))\n",
    "            if (age < 0) or (age >= 130) :\n",
    "                raise Exception('나이 범위 이상')\n",
    "            break\n",
    "        except :\n",
    "            print('올바른 나이를 입력하시오')\n",
    "    try :\n",
    "        grade = int(input('등급을 입력하시오 : '))\n",
    "        if grade < 1 :\n",
    "            grade = 0\n",
    "        if grade > 5 :\n",
    "            grade = 5\n",
    "    except :\n",
    "        print('유효하지 않은 등급을 입력시 0등급으로 초기화')\n",
    "    etc = input('특이사항을 입력하시오 : ')\n",
    "    \n",
    "    return Customer(name, phone, email, age, grade, etc)"
   ]
  },
  {
   "cell_type": "code",
   "execution_count": 16,
   "id": "84bfc082",
   "metadata": {},
   "outputs": [
    {
     "ename": "KeyboardInterrupt",
     "evalue": "Interrupted by user",
     "output_type": "error",
     "traceback": [
      "\u001b[1;31m---------------------------------------------------------------------------\u001b[0m",
      "\u001b[1;31mKeyboardInterrupt\u001b[0m                         Traceback (most recent call last)",
      "Cell \u001b[1;32mIn[16], line 3\u001b[0m\n\u001b[0;32m      1\u001b[0m \u001b[38;5;66;03m# 1번 함수 테스트\u001b[39;00m\n\u001b[1;32m----> 3\u001b[0m customer \u001b[38;5;241m=\u001b[39m \u001b[43mfn1_insert_customer_info\u001b[49m\u001b[43m(\u001b[49m\u001b[43m)\u001b[49m\n\u001b[0;32m      4\u001b[0m customer_list\u001b[38;5;241m.\u001b[39mappend(customer)\n\u001b[0;32m      5\u001b[0m \u001b[38;5;28;01mfor\u001b[39;00m customer \u001b[38;5;129;01min\u001b[39;00m customer_list :\n",
      "Cell \u001b[1;32mIn[15], line 7\u001b[0m, in \u001b[0;36mfn1_insert_customer_info\u001b[1;34m()\u001b[0m\n\u001b[0;32m      2\u001b[0m \u001b[38;5;124;03m'''\u001b[39;00m\n\u001b[0;32m      3\u001b[0m \u001b[38;5;124;03m사용자로부터 name, phone, email, age, grade, etc를 입력받아 Customer형 객체 변환\u001b[39;00m\n\u001b[0;32m      4\u001b[0m \u001b[38;5;124;03m'''\u001b[39;00m\n\u001b[0;32m      5\u001b[0m \u001b[38;5;28;01mimport\u001b[39;00m \u001b[38;5;21;01mre\u001b[39;00m\n\u001b[1;32m----> 7\u001b[0m name \u001b[38;5;241m=\u001b[39m \u001b[38;5;28;43minput\u001b[39;49m\u001b[43m(\u001b[49m\u001b[38;5;124;43m'\u001b[39;49m\u001b[38;5;124;43m이름을 입력하시오 :\u001b[39;49m\u001b[38;5;124;43m'\u001b[39;49m\u001b[43m)\u001b[49m\n\u001b[0;32m      8\u001b[0m name_pattern \u001b[38;5;241m=\u001b[39m \u001b[38;5;124mr\u001b[39m\u001b[38;5;124m'\u001b[39m\u001b[38;5;124m[가-힣]\u001b[39m\u001b[38;5;124m{\u001b[39m\u001b[38;5;124m2,}\u001b[39m\u001b[38;5;124m'\u001b[39m\n\u001b[0;32m      9\u001b[0m \u001b[38;5;28;01mwhile\u001b[39;00m \u001b[38;5;129;01mnot\u001b[39;00m re\u001b[38;5;241m.\u001b[39msearch(name_pattern, name) :\n",
      "File \u001b[1;32m~\\anaconda3\\lib\\site-packages\\ipykernel\\kernelbase.py:1175\u001b[0m, in \u001b[0;36mKernel.raw_input\u001b[1;34m(self, prompt)\u001b[0m\n\u001b[0;32m   1171\u001b[0m \u001b[38;5;28;01mif\u001b[39;00m \u001b[38;5;129;01mnot\u001b[39;00m \u001b[38;5;28mself\u001b[39m\u001b[38;5;241m.\u001b[39m_allow_stdin:\n\u001b[0;32m   1172\u001b[0m     \u001b[38;5;28;01mraise\u001b[39;00m StdinNotImplementedError(\n\u001b[0;32m   1173\u001b[0m         \u001b[38;5;124m\"\u001b[39m\u001b[38;5;124mraw_input was called, but this frontend does not support input requests.\u001b[39m\u001b[38;5;124m\"\u001b[39m\n\u001b[0;32m   1174\u001b[0m     )\n\u001b[1;32m-> 1175\u001b[0m \u001b[38;5;28;01mreturn\u001b[39;00m \u001b[38;5;28;43mself\u001b[39;49m\u001b[38;5;241;43m.\u001b[39;49m\u001b[43m_input_request\u001b[49m\u001b[43m(\u001b[49m\n\u001b[0;32m   1176\u001b[0m \u001b[43m    \u001b[49m\u001b[38;5;28;43mstr\u001b[39;49m\u001b[43m(\u001b[49m\u001b[43mprompt\u001b[49m\u001b[43m)\u001b[49m\u001b[43m,\u001b[49m\n\u001b[0;32m   1177\u001b[0m \u001b[43m    \u001b[49m\u001b[38;5;28;43mself\u001b[39;49m\u001b[38;5;241;43m.\u001b[39;49m\u001b[43m_parent_ident\u001b[49m\u001b[43m[\u001b[49m\u001b[38;5;124;43m\"\u001b[39;49m\u001b[38;5;124;43mshell\u001b[39;49m\u001b[38;5;124;43m\"\u001b[39;49m\u001b[43m]\u001b[49m\u001b[43m,\u001b[49m\n\u001b[0;32m   1178\u001b[0m \u001b[43m    \u001b[49m\u001b[38;5;28;43mself\u001b[39;49m\u001b[38;5;241;43m.\u001b[39;49m\u001b[43mget_parent\u001b[49m\u001b[43m(\u001b[49m\u001b[38;5;124;43m\"\u001b[39;49m\u001b[38;5;124;43mshell\u001b[39;49m\u001b[38;5;124;43m\"\u001b[39;49m\u001b[43m)\u001b[49m\u001b[43m,\u001b[49m\n\u001b[0;32m   1179\u001b[0m \u001b[43m    \u001b[49m\u001b[43mpassword\u001b[49m\u001b[38;5;241;43m=\u001b[39;49m\u001b[38;5;28;43;01mFalse\u001b[39;49;00m\u001b[43m,\u001b[49m\n\u001b[0;32m   1180\u001b[0m \u001b[43m\u001b[49m\u001b[43m)\u001b[49m\n",
      "File \u001b[1;32m~\\anaconda3\\lib\\site-packages\\ipykernel\\kernelbase.py:1217\u001b[0m, in \u001b[0;36mKernel._input_request\u001b[1;34m(self, prompt, ident, parent, password)\u001b[0m\n\u001b[0;32m   1214\u001b[0m             \u001b[38;5;28;01mbreak\u001b[39;00m\n\u001b[0;32m   1215\u001b[0m \u001b[38;5;28;01mexcept\u001b[39;00m \u001b[38;5;167;01mKeyboardInterrupt\u001b[39;00m:\n\u001b[0;32m   1216\u001b[0m     \u001b[38;5;66;03m# re-raise KeyboardInterrupt, to truncate traceback\u001b[39;00m\n\u001b[1;32m-> 1217\u001b[0m     \u001b[38;5;28;01mraise\u001b[39;00m \u001b[38;5;167;01mKeyboardInterrupt\u001b[39;00m(\u001b[38;5;124m\"\u001b[39m\u001b[38;5;124mInterrupted by user\u001b[39m\u001b[38;5;124m\"\u001b[39m) \u001b[38;5;28;01mfrom\u001b[39;00m \u001b[38;5;28mNone\u001b[39m\n\u001b[0;32m   1218\u001b[0m \u001b[38;5;28;01mexcept\u001b[39;00m \u001b[38;5;167;01mException\u001b[39;00m:\n\u001b[0;32m   1219\u001b[0m     \u001b[38;5;28mself\u001b[39m\u001b[38;5;241m.\u001b[39mlog\u001b[38;5;241m.\u001b[39mwarning(\u001b[38;5;124m\"\u001b[39m\u001b[38;5;124mInvalid Message:\u001b[39m\u001b[38;5;124m\"\u001b[39m, exc_info\u001b[38;5;241m=\u001b[39m\u001b[38;5;28;01mTrue\u001b[39;00m)\n",
      "\u001b[1;31mKeyboardInterrupt\u001b[0m: Interrupted by user"
     ]
    }
   ],
   "source": [
    "# 1번 함수 테스트\n",
    "\n",
    "customer = fn1_insert_customer_info()\n",
    "customer_list.append(customer)\n",
    "for customer in customer_list :\n",
    "    print(customer)"
   ]
  },
  {
   "cell_type": "markdown",
   "id": "47f1dcf6",
   "metadata": {},
   "source": [
    "### 2. 전체 출력"
   ]
  },
  {
   "cell_type": "code",
   "execution_count": 6,
   "id": "518f7d08",
   "metadata": {},
   "outputs": [],
   "source": [
    "def fn2_print_customers(customer_list) :\n",
    "    'customer_list를 출력(pdf 40page 스타일)'\n",
    "    print('=' * 80)\n",
    "    print('{:^80}'.format('고객 정보'))\n",
    "    print('-' * 80)\n",
    "    print('{:>5}\\t{:^5}\\t{:^20}\\t{:^20}\\t{:^3}\\t{}'.format('GRADE',\n",
    "                                                       '이름',\n",
    "                                                       '전화',\n",
    "                                                       '메일',\n",
    "                                                       '나이',\n",
    "                                                       '기타사항'))\n",
    "    print('-' * 80)\n",
    "    \n",
    "    for customer in customer_list :\n",
    "        print(customer)"
   ]
  },
  {
   "cell_type": "code",
   "execution_count": 7,
   "id": "ebbe3849",
   "metadata": {},
   "outputs": [
    {
     "name": "stdout",
     "output_type": "stream",
     "text": [
      "================================================================================\n",
      "                                     고객 정보                                      \n",
      "--------------------------------------------------------------------------------\n",
      "GRADE\t 이름  \t         전화         \t         메일         \t나이 \t기타사항\n",
      "--------------------------------------------------------------------------------\n",
      "*****\t홍길동  \t010-9999-9999\t    hong@mega_it.com\t 30\t열심히\n",
      "*****\t홍길동  \t010-8888-8888\t       hong2@abc.com\t 31\tabc\n",
      "  ***\t유길동  \t010-5432-2222\t         yu@hong.com\t 31\t가칠해\n",
      "   **\t이길동  \t010-6666-7777\t             a@a.com\t 30\t까칠해\n",
      " ****\t신길동  \t010-3333-9999\t             b@b.com\t 27\t까칠해\n",
      "    *\t신길동  \t010-2323-8989\t         sin@sin.com\t 45\t열심히\n"
     ]
    }
   ],
   "source": [
    "# 2번 함수 테스트\n",
    "\n",
    "customer_list = load_customers()\n",
    "fn2_print_customers(customer_list)"
   ]
  },
  {
   "cell_type": "markdown",
   "id": "ec1ea2d4",
   "metadata": {},
   "source": [
    "### 3. 삭제 (동명이인이 있다고 할지 없다고 할지 미리 정해놓고 구현)"
   ]
  },
  {
   "cell_type": "code",
   "execution_count": 8,
   "id": "bee56fbf",
   "metadata": {},
   "outputs": [],
   "source": [
    "# 3.1 동명이인이 없을 경우 구현\n",
    "\n",
    "def fn3_delete_customer(customer_list) :\n",
    "    '''\n",
    "    삭제하고자 하는 고객이름을 input으로 받아\n",
    "    매개변수로 들어온 customer_list에서 삭제하고 '삭제했음/삭제못해음'을 메세지로 출력\n",
    "    '''\n",
    "    \n",
    "    del_name = input('삭제할 고객의 이름을 입력하시오 : ')\n",
    "    for customer in customer_list :\n",
    "        if customer.name == del_name :\n",
    "            customer_list.remove(customer)\n",
    "            return '{} 고객님 데이터를 삭제하였습니다'.format(del_name)\n",
    "    else :\n",
    "        return '{} 고객님 데이터가 존재하지 않습니다'.format(del_name)"
   ]
  },
  {
   "cell_type": "code",
   "execution_count": 15,
   "id": "08a89969",
   "metadata": {},
   "outputs": [
    {
     "name": "stdout",
     "output_type": "stream",
     "text": [
      "삭제할 고객의 이름을 입력하시오 :이길동\n"
     ]
    },
    {
     "data": {
      "text/plain": [
       "'이길동 고객님 데이터를 삭제하였습니다'"
      ]
     },
     "execution_count": 15,
     "metadata": {},
     "output_type": "execute_result"
    }
   ],
   "source": [
    "# 3.1번 함수 테스트\n",
    "\n",
    "customer_list = load_customers()\n",
    "fn3_delete_customer(customer_list)"
   ]
  },
  {
   "cell_type": "code",
   "execution_count": 16,
   "id": "40c38151",
   "metadata": {},
   "outputs": [
    {
     "name": "stdout",
     "output_type": "stream",
     "text": [
      "================================================================================\n",
      "                                     고객 정보                                      \n",
      "--------------------------------------------------------------------------------\n",
      "GRADE\t 이름  \t         전화         \t         메일         \t나이 \t기타사항\n",
      "--------------------------------------------------------------------------------\n",
      "*****\t홍길동  \t010-9999-9999\t    hong@mega_it.com\t 30\t열심히\n",
      "*****\t홍길동  \t010-8888-8888\t       hong2@abc.com\t 31\tabc\n",
      "  ***\t유길동  \t010-5432-2222\t         yu@hong.com\t 31\t가칠해\n",
      " ****\t신길동  \t010-3333-9999\t             b@b.com\t 27\t까칠해\n",
      "    *\t신길동  \t010-2323-8989\t         sin@sin.com\t 45\t열심히\n"
     ]
    }
   ],
   "source": [
    "fn2_print_customers(customer_list)"
   ]
  },
  {
   "cell_type": "code",
   "execution_count": 17,
   "id": "6d601fbc",
   "metadata": {},
   "outputs": [],
   "source": [
    "# 3.2 동명이인이 있을 경우 구현\n",
    "\n",
    "def fn3_delete_customer(customer_list) :\n",
    "    '''\n",
    "    삭제하고자 하는 고객이름을 input으로 받아\n",
    "    매개변수로 들어온 customer_list에서 삭제하고 '삭제에 성공하였습니다/삭제에 실패하였습니다'를 메세지로 출력\n",
    "    '''\n",
    "    \n",
    "    del_name = input('삭제할 고객의 이름을 입력하시오 : ')\n",
    "    del_idx = []  # 삭제할 인덱스를 저장하는 용도\n",
    "    for idx, customer in enumerate(customer_list) :\n",
    "        if customer.name == del_name :\n",
    "            del_idx.append(idx)\n",
    "    if del_idx :\n",
    "        for idx in del_idx[::-1] :\n",
    "            print(customer_list[idx], '\\n지우겠습니까?', end = '')\n",
    "            answer = input(' (Y / N) : ')\n",
    "            if answer.upper() == 'Y' :  # (answer == 'Y') | (answer == 'y')\n",
    "                print('요청하신 {}({})님 삭제하였습니다'.format(del_name, customer_list[idx].phone))\n",
    "                del customer_list[idx]                \n",
    "    else :\n",
    "        return '{} 고객님 데이터가 존재하지 않습니다'.format(del_name)"
   ]
  },
  {
   "cell_type": "code",
   "execution_count": 18,
   "id": "5b9ab782",
   "metadata": {},
   "outputs": [
    {
     "name": "stdout",
     "output_type": "stream",
     "text": [
      "삭제할 고객의 이름을 입력하시오 : 홍길동\n",
      "*****\t홍길동  \t010-8888-8888\t       hong2@abc.com\t 31\tabc \n",
      "지우겠습니까? (Y / N) : n\n",
      "*****\t홍길동  \t010-9999-9999\t     hong@megait.com\t 30\t열심히 \n",
      "지우겠습니까? (Y / N) : y\n",
      "요청하신 홍길동(010-9999-9999)님 삭제하였습니다\n"
     ]
    }
   ],
   "source": [
    "# 3.2번 함수 테스트\n",
    "\n",
    "customer_list = load_customers()\n",
    "fn3_delete_customer(customer_list)"
   ]
  },
  {
   "cell_type": "code",
   "execution_count": 19,
   "id": "74c4d590",
   "metadata": {},
   "outputs": [
    {
     "name": "stdout",
     "output_type": "stream",
     "text": [
      "================================================================================\n",
      "                                     고객 정보                                      \n",
      "--------------------------------------------------------------------------------\n",
      "GRADE\t 이름  \t         전화         \t         메일         \t나이 \t기타사항\n",
      "--------------------------------------------------------------------------------\n",
      "*****\t홍길동  \t010-8888-8888\t       hong2@abc.com\t 31\tabc\n",
      "  ***\t유길동  \t010-5432-2222\t         yu@hong.com\t 31\t가칠해\n",
      "   **\t이길동  \t010-6666-7777\t             a@a.com\t 30\t까칠해\n",
      " ****\t신길동  \t010-3333-9999\t             b@b.com\t 27\t까칠해\n",
      "    *\t신길동  \t010-2323-8989\t         sin@sin.com\t 45\t열심히\n"
     ]
    }
   ],
   "source": [
    "fn2_print_customers(customer_list)"
   ]
  },
  {
   "cell_type": "markdown",
   "id": "b9aa52b7",
   "metadata": {},
   "source": [
    "### 4. 이름찾기"
   ]
  },
  {
   "cell_type": "code",
   "execution_count": 10,
   "id": "7b0a2f7a",
   "metadata": {},
   "outputs": [],
   "source": [
    "# 4.1번 이름만 찾는 경우 구현\n",
    "\n",
    "def fn4_search_customer(customer_list) :\n",
    "    '''\n",
    "    찾고자 하는 이름을 input으로 받아 customer_list에서 검색하여 search_list에 append한 후 search_list를 출력\n",
    "    '''\n",
    "    \n",
    "    search_name = input('찾는 고객님의 이름을 입력하시오 : ')\n",
    "    search_list = []\n",
    "    for customer in customer_list :\n",
    "        if customer.name == search_name :\n",
    "            search_list.append(customer.name)\n",
    "    if search_list :\n",
    "        return '{} 고객님을 찾았습니다'.format(search_name)\n",
    "    else :\n",
    "        return '{} 고객님을 찾지 못하였습니다'.format(search_name)"
   ]
  },
  {
   "cell_type": "code",
   "execution_count": 36,
   "id": "a486e52d",
   "metadata": {},
   "outputs": [
    {
     "name": "stdout",
     "output_type": "stream",
     "text": [
      "찾는 고객님의 이름을 입력하시오 : 이길동\n"
     ]
    },
    {
     "data": {
      "text/plain": [
       "'이길동 고객님을 찾았습니다'"
      ]
     },
     "execution_count": 36,
     "metadata": {},
     "output_type": "execute_result"
    }
   ],
   "source": [
    "# 4.1번 함수 테스트\n",
    "\n",
    "customer_list = load_customers()\n",
    "fn4_search_customer(customer_list)"
   ]
  },
  {
   "cell_type": "code",
   "execution_count": 11,
   "id": "e9875a6c",
   "metadata": {},
   "outputs": [],
   "source": [
    "# 4.2번 이름과 정보까지 나오게 할 경우 구현\n",
    "\n",
    "def fn4_search_customer(customer_list) :\n",
    "    '''\n",
    "    찾고자 하는 이름을 input으로 받아 customer_list에서 검색하여\n",
    "    동명이인이 있으면 search_list에 append한 후 search_list를 출력\n",
    "    동명이인이 없으면 없다고 출력\n",
    "    '''\n",
    "    \n",
    "    search_name = input('찾는 고객님의 이름을 입력하시오 : ')\n",
    "    search_idx = []\n",
    "    for idx, customer in enumerate(customer_list) :\n",
    "        if customer.name == search_name :\n",
    "            search_idx.append(idx)\n",
    "    if search_idx :\n",
    "        print('=' * 80)\n",
    "        print('{:^80}'.format('고객 정보'))\n",
    "        print('-' * 80)\n",
    "        print('{:>5}\\t{:^5}\\t{:^20}\\t{:^20}\\t{:^3}\\t{}'.format('GRADE',\n",
    "                                                           '이름',\n",
    "                                                           '전화',\n",
    "                                                           '메일',\n",
    "                                                           '나이',\n",
    "                                                           '기타사항'))\n",
    "        for idx in search_idx:\n",
    "            print(customer_list[idx])\n",
    "    else:\n",
    "        print(\"{} 고객님 데이터는 존재하지 않습니다\".format(search_name))"
   ]
  },
  {
   "cell_type": "code",
   "execution_count": 12,
   "id": "067edb6a",
   "metadata": {
    "scrolled": true
   },
   "outputs": [
    {
     "name": "stdout",
     "output_type": "stream",
     "text": [
      "찾는 고객님의 이름을 입력하시오 : 이길동\n",
      "================================================================================\n",
      "                                     고객 정보                                      \n",
      "--------------------------------------------------------------------------------\n",
      "GRADE\t 이름  \t         전화         \t         메일         \t나이 \t기타사항\n",
      "   **\t이길동  \t010-6666-7777\t             a@a.com\t 30\t까칠해\n"
     ]
    }
   ],
   "source": [
    "# 4.2번 함수 테스트\n",
    "\n",
    "customer_list = load_customers()\n",
    "fn4_search_customer(customer_list)"
   ]
  },
  {
   "cell_type": "markdown",
   "id": "c33e4d93",
   "metadata": {},
   "source": [
    "### 5. 내보내기(CSV)"
   ]
  },
  {
   "cell_type": "code",
   "execution_count": 13,
   "id": "adc0e051",
   "metadata": {},
   "outputs": [],
   "source": [
    "def fn5_save_customer_csv(customer_list) :\n",
    "    '매개변수로 받은 customer_list를 딕셔너리리스트로 변환해서 csv 출력'\n",
    "    import csv\n",
    "    \n",
    "    if customer_list :\n",
    "        customer_dic_list = []\n",
    "        for customer in customer_list :\n",
    "            customer_dic_list.append(customer.as_dic())\n",
    "        fieldnames = list(customer_dic_list[0].keys())\n",
    "        filename = input('저장할 csv 파일명을 입력하시오 : ')\n",
    "        with open ('data/{}.csv'.format(filename), 'w', encoding = 'utf-8', newline = '') as f :\n",
    "            dict_writer = csv.DictWriter(f, fieldnames = fieldnames)\n",
    "            dict_writer.writeheader  # 헤더\n",
    "            dict_writer.writerows(customer_dic_list)\n",
    "            print('data/{}.csv 내보내기 완료하였습니다'.format(filename))\n",
    "    else : \n",
    "        print('입력된 회원 데이터가 없어 csv 내보내기를 취소합니다')"
   ]
  },
  {
   "cell_type": "code",
   "execution_count": 32,
   "id": "2188ebf8",
   "metadata": {},
   "outputs": [
    {
     "name": "stdout",
     "output_type": "stream",
     "text": [
      "저장할 csv 파일명을 입력하시오 : aaa\n",
      "data/aaa.csv 내보내기 완료하였습니다\n"
     ]
    }
   ],
   "source": [
    "# 5번 함수 테스트\n",
    "\n",
    "fn5_save_customer_csv(customer_list)"
   ]
  },
  {
   "cell_type": "markdown",
   "id": "e72f4922",
   "metadata": {},
   "source": [
    "### 9. 종료 (종료하기 전 customer_list를 txt파일에 저장하고 종료)"
   ]
  },
  {
   "cell_type": "code",
   "execution_count": 14,
   "id": "723a817d",
   "metadata": {},
   "outputs": [],
   "source": [
    "def fn9_save_customer_txt(customer_list) :\n",
    "    '''\n",
    "    customer_list를 to_list_style()을 이용해서 ['홍길동, 010-9999-9999, a@a.com, 30, 3, 까칠해', ~]\n",
    "    ch09_customers.txt로 백업\n",
    "    '''\n",
    "    \n",
    "    customer_txt_list = []\n",
    "    for customer in customer_list :\n",
    "        customer_txt_list.append(customer.to_list_style() + '\\n')\n",
    "    with open('data/ch09_customers.txt', 'w', encoding = 'utf-8') as f :\n",
    "        f.writelines(customer_txt_list)"
   ]
  },
  {
   "cell_type": "code",
   "execution_count": 40,
   "id": "37ab6b5b",
   "metadata": {},
   "outputs": [],
   "source": [
    "# 9번 함수 테스트\n",
    "\n",
    "fn9_save_customer_txt(customer_list)"
   ]
  },
  {
   "cell_type": "markdown",
   "id": "5ef3baba",
   "metadata": {},
   "source": [
    "### main()"
   ]
  },
  {
   "cell_type": "code",
   "execution_count": 15,
   "id": "1cac820b",
   "metadata": {},
   "outputs": [],
   "source": [
    "def main() :\n",
    "    global customer_list\n",
    "    customer_list = load_customers()  # ch09_customers.txt의 내용을 load\n",
    "    while True :\n",
    "        print('1:입력', '2:전체출력', '3:삭제', '4:이름찾기', '5:내보내기(CSV)', '9:종료', sep = ' | ', end = '')\n",
    "        fn = input('메뉴선택 : ')\n",
    "        if fn == '1' :  # fn1_ 호출한 결과를 customer에 받아 customer_list에 append\n",
    "            customer = fn1_insert_customer_info()\n",
    "            customer_list.append(customer)\n",
    "        elif fn == '2' :  # fn2_ 호출\n",
    "            fn2_print_customers(customer_list)\n",
    "        elif fn == '3' :  # fn3_ 호출\n",
    "            fn3_delete_customer(customer_list)\n",
    "        elif fn == '4' :  # fn4_ 호출\n",
    "            fn4_search_customer(customer_list)\n",
    "        elif fn == '5' :  # fn5_ 호출\n",
    "            fn5_save_customer_csv(customer_list)\n",
    "        elif fn == '9' :  # fn9_ 호출\n",
    "            fn9_save_customer_txt(customer_list)\n",
    "            break\n",
    "        else :\n",
    "            print('메뉴선택을 정확하게 해주십시오')"
   ]
  },
  {
   "cell_type": "code",
   "execution_count": 16,
   "id": "8ec36c7d",
   "metadata": {},
   "outputs": [
    {
     "name": "stdout",
     "output_type": "stream",
     "text": [
      "1:입력 | 2:전체출력 | 3:삭제 | 4:이름찾기 | 5:내보내기(CSV) | 9:종료메뉴선택 : 4\n",
      "찾는 고객님의 이름을 입력하시오 : 이길동\n",
      "================================================================================\n",
      "                                     고객 정보                                      \n",
      "--------------------------------------------------------------------------------\n",
      "GRADE\t 이름  \t         전화         \t         메일         \t나이 \t기타사항\n",
      "   **\t이길동  \t010-6666-7777\t             a@a.com\t 30\t까칠해\n",
      "1:입력 | 2:전체출력 | 3:삭제 | 4:이름찾기 | 5:내보내기(CSV) | 9:종료메뉴선택 : 2\n",
      "================================================================================\n",
      "                                     고객 정보                                      \n",
      "--------------------------------------------------------------------------------\n",
      "GRADE\t 이름  \t         전화         \t         메일         \t나이 \t기타사항\n",
      "--------------------------------------------------------------------------------\n",
      "*****\t홍길동  \t010-9999-9999\t    hong@mega_it.com\t 30\t열심히\n",
      "*****\t홍길동  \t010-8888-8888\t       hong2@abc.com\t 31\tabc\n",
      "  ***\t유길동  \t010-5432-2222\t         yu@hong.com\t 31\t가칠해\n",
      "   **\t이길동  \t010-6666-7777\t             a@a.com\t 30\t까칠해\n",
      " ****\t신길동  \t010-3333-9999\t             b@b.com\t 27\t까칠해\n",
      "    *\t신길동  \t010-2323-8989\t         sin@sin.com\t 45\t열심히\n",
      "1:입력 | 2:전체출력 | 3:삭제 | 4:이름찾기 | 5:내보내기(CSV) | 9:종료메뉴선택 : 4\n",
      "찾는 고객님의 이름을 입력하시오 : 이길동\n",
      "================================================================================\n",
      "                                     고객 정보                                      \n",
      "--------------------------------------------------------------------------------\n",
      "GRADE\t 이름  \t         전화         \t         메일         \t나이 \t기타사항\n",
      "   **\t이길동  \t010-6666-7777\t             a@a.com\t 30\t까칠해\n",
      "1:입력 | 2:전체출력 | 3:삭제 | 4:이름찾기 | 5:내보내기(CSV) | 9:종료메뉴선택 : 홍길동\n",
      "메뉴선택을 정확하게 해주십시오\n",
      "1:입력 | 2:전체출력 | 3:삭제 | 4:이름찾기 | 5:내보내기(CSV) | 9:종료메뉴선택 : 4\n",
      "찾는 고객님의 이름을 입력하시오 : 홍길동\n",
      "================================================================================\n",
      "                                     고객 정보                                      \n",
      "--------------------------------------------------------------------------------\n",
      "GRADE\t 이름  \t         전화         \t         메일         \t나이 \t기타사항\n",
      "*****\t홍길동  \t010-9999-9999\t    hong@mega_it.com\t 30\t열심히\n",
      "*****\t홍길동  \t010-8888-8888\t       hong2@abc.com\t 31\tabc\n",
      "1:입력 | 2:전체출력 | 3:삭제 | 4:이름찾기 | 5:내보내기(CSV) | 9:종료메뉴선택 : 9\n"
     ]
    }
   ],
   "source": [
    "if __name__ == '__main__' :\n",
    "    main()"
   ]
  },
  {
   "cell_type": "markdown",
   "id": "f673816b",
   "metadata": {},
   "source": [
    "## 연습문제 문제풀이형"
   ]
  },
  {
   "cell_type": "code",
   "execution_count": 20,
   "id": "0d99a4ba",
   "metadata": {},
   "outputs": [
    {
     "name": "stdout",
     "output_type": "stream",
     "text": [
      "정답 : ③\n"
     ]
    }
   ],
   "source": [
    "# ex1. 다음 중 Open 함수에 대해 잘못 설명한 것은?\n",
    "'''\n",
    "① 함수가 반환하는 것은 열린파일 객체이다\n",
    "② 파일을 열 때 사용하는 모드는 읽기(r), 쓰기(w), 추가(a), 바이너리(b) 모드가 있다\n",
    "③ 바이너리(b) 모드와 쓰기(w) 모드는 같이 사용할 수 없다\n",
    "④ 파일의 인코딩은 encoding 속성을 이용해 설정할 수 있다\n",
    "'''\n",
    "\n",
    "print('정답 : ③')  # wb 가능"
   ]
  },
  {
   "cell_type": "code",
   "execution_count": 21,
   "id": "bff5cf74",
   "metadata": {},
   "outputs": [
    {
     "name": "stdout",
     "output_type": "stream",
     "text": [
      "정답 : ④\n"
     ]
    }
   ],
   "source": [
    "# ex2. 피클링(pickling)에 대해 잘못 설명한것은?\n",
    "'''\n",
    "① 파이썬의 객체직렬화(Object Serialization) 방법이다\n",
    "② pickle 모듈의 dump()와 load() 함수를 이용해 객체를 쓰고 읽는다\n",
    "③ 파이썬 객체를 별도의 텍스트 변환 과정없이 파일에 직접 쓰고 읽는 것을 의미한다\n",
    "④ 피클링 하기위한 모드는 쓰기모드('w') 여야 한다\n",
    "'''\n",
    "\n",
    "print('정답 : ④')  # w가 아닌 wb"
   ]
  },
  {
   "cell_type": "code",
   "execution_count": 22,
   "id": "7911ff12",
   "metadata": {},
   "outputs": [
    {
     "name": "stdout",
     "output_type": "stream",
     "text": [
      "정답 : ①\n"
     ]
    }
   ],
   "source": [
    "# ex3. 다음 중 파이썬의 입/출력 모듈에 대한 설명 중 잘못된 것은?\n",
    "'''\n",
    "① Pandas 패키지를 이용하면 리스트데이터를 쉽게 파일에 쓰고 읽을 수 있다\n",
    "② json 모듈의 dump(), load() 함수를 이용해 JSON 데이터를 파일에 읽고 쓸 수 있다\n",
    "③ h5py 모듈의 File 클래스를 이용해 HDF5 데이터를 파일에 읽고 쓸 수 있다\n",
    "④ csv 모듈의 reader(), writer() 함수를 이용해 CSV 파일을 읽고 쓸 수 있다\n",
    "'''\n",
    "\n",
    "print('정답 : ①')  # 리스트데이터가 아닌 파일데이터"
   ]
  }
 ],
 "metadata": {
  "kernelspec": {
   "display_name": "Python 3 (ipykernel)",
   "language": "python",
   "name": "python3"
  },
  "language_info": {
   "codemirror_mode": {
    "name": "ipython",
    "version": 3
   },
   "file_extension": ".py",
   "mimetype": "text/x-python",
   "name": "python",
   "nbconvert_exporter": "python",
   "pygments_lexer": "ipython3",
   "version": "3.10.9"
  },
  "toc": {
   "base_numbering": 1,
   "nav_menu": {},
   "number_sections": false,
   "sideBar": true,
   "skip_h1_title": false,
   "title_cell": "Table of Contents",
   "title_sidebar": "Contents",
   "toc_cell": false,
   "toc_position": {
    "height": "calc(100% - 180px)",
    "left": "10px",
    "top": "150px",
    "width": "237.55px"
   },
   "toc_section_display": true,
   "toc_window_display": true
  }
 },
 "nbformat": 4,
 "nbformat_minor": 5
}
