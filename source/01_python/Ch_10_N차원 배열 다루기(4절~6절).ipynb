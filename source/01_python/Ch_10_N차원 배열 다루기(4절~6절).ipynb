{
 "cells": [
  {
   "cell_type": "code",
   "execution_count": 1,
   "id": "468ae673",
   "metadata": {},
   "outputs": [
    {
     "data": {
      "text/html": [
       "<style>\n",
       "div.container{width:86% !important;}\n",
       "div.cell.code_cell.rendered{width:100%;}\n",
       "div.CodeMirror {font-family:Consolas; font-size:12pt;}\n",
       "div.output {font-size:12pt; font-weight:bold;}\n",
       "div.input {font-family:Consolas; font-size:12pt;}\n",
       "div.prompt {min-width:70px;}\n",
       "div#toc-wrapper{padding-top:120px;}\n",
       "div.text_cell_render ul li{fontsize:12pt;padding:5px;}\n",
       "table.dataframe{font-size:12px;}))\n",
       "</style>\n"
      ],
      "text/plain": [
       "<IPython.core.display.HTML object>"
      ]
     },
     "metadata": {},
     "output_type": "display_data"
    }
   ],
   "source": [
    "from IPython.display import display, HTML\n",
    "display(HTML(\"\"\"<style>\n",
    "div.container{width:86% !important;}\n",
    "div.cell.code_cell.rendered{width:100%;}\n",
    "div.CodeMirror {font-family:Consolas; font-size:12pt;}\n",
    "div.output {font-size:12pt; font-weight:bold;}\n",
    "div.input {font-family:Consolas; font-size:12pt;}\n",
    "div.prompt {min-width:70px;}\n",
    "div#toc-wrapper{padding-top:120px;}\n",
    "div.text_cell_render ul li{fontsize:12pt;padding:5px;}\n",
    "table.dataframe{font-size:12px;}))\n",
    "</style>\n",
    "\"\"\"))"
   ]
  },
  {
   "cell_type": "markdown",
   "id": "ce8f4455",
   "metadata": {},
   "source": [
    "<font size=\"5\" color=\"red\">ch10 N차원 배열 다루기</font>"
   ]
  },
  {
   "cell_type": "markdown",
   "id": "e1a2fa5f",
   "metadata": {},
   "source": [
    "# 4절. 복사와 뷰"
   ]
  },
  {
   "cell_type": "markdown",
   "id": "bc270d60",
   "metadata": {},
   "source": [
    "## 4.1 할당"
   ]
  },
  {
   "cell_type": "code",
   "execution_count": 2,
   "id": "a85f924f",
   "metadata": {},
   "outputs": [
    {
     "data": {
      "text/plain": [
       "array([0, 1, 2, 3, 4, 5])"
      ]
     },
     "execution_count": 2,
     "metadata": {},
     "output_type": "execute_result"
    }
   ],
   "source": [
    "import numpy as np\n",
    "\n",
    "a = np.arange(6)\n",
    "a"
   ]
  },
  {
   "cell_type": "code",
   "execution_count": 18,
   "id": "7b54d319",
   "metadata": {},
   "outputs": [
    {
     "data": {
      "text/plain": [
       "array([0, 1, 2, 3, 4, 5])"
      ]
     },
     "execution_count": 18,
     "metadata": {},
     "output_type": "execute_result"
    }
   ],
   "source": [
    "b = a\n",
    "b"
   ]
  },
  {
   "cell_type": "code",
   "execution_count": 19,
   "id": "f40a733e",
   "metadata": {},
   "outputs": [
    {
     "data": {
      "text/plain": [
       "True"
      ]
     },
     "execution_count": 19,
     "metadata": {},
     "output_type": "execute_result"
    }
   ],
   "source": [
    "a is b  # a객체와 b객체가 같은가?"
   ]
  },
  {
   "cell_type": "code",
   "execution_count": 20,
   "id": "42db1937",
   "metadata": {},
   "outputs": [
    {
     "data": {
      "text/plain": [
       "array([[0, 1, 2],\n",
       "       [3, 4, 5]])"
      ]
     },
     "execution_count": 20,
     "metadata": {},
     "output_type": "execute_result"
    }
   ],
   "source": [
    "b.shape = (2, 3)\n",
    "b"
   ]
  },
  {
   "cell_type": "code",
   "execution_count": 21,
   "id": "bdb9d0ac",
   "metadata": {},
   "outputs": [
    {
     "data": {
      "text/plain": [
       "array([[0, 1, 2],\n",
       "       [3, 4, 5]])"
      ]
     },
     "execution_count": 21,
     "metadata": {},
     "output_type": "execute_result"
    }
   ],
   "source": [
    "a"
   ]
  },
  {
   "cell_type": "markdown",
   "id": "aa71a80d",
   "metadata": {},
   "source": [
    "## 4.2 뷰(view)\n",
    "\n",
    "- 슬라이싱할 경우 자동 view 생성"
   ]
  },
  {
   "cell_type": "code",
   "execution_count": 22,
   "id": "48c377ae",
   "metadata": {},
   "outputs": [
    {
     "data": {
      "text/plain": [
       "array([[ 0,  1,  2,  3,  4,  5],\n",
       "       [ 6,  7,  8,  9, 10, 11]])"
      ]
     },
     "execution_count": 22,
     "metadata": {},
     "output_type": "execute_result"
    }
   ],
   "source": [
    "c = np.arange(12).reshape(2, 6)\n",
    "c"
   ]
  },
  {
   "cell_type": "code",
   "execution_count": 37,
   "id": "e99616ae",
   "metadata": {},
   "outputs": [
    {
     "data": {
      "text/plain": [
       "array([[ 0,  1,  2,  3,  4,  5],\n",
       "       [ 6,  7,  8,  9, 10, 11]])"
      ]
     },
     "execution_count": 37,
     "metadata": {},
     "output_type": "execute_result"
    }
   ],
   "source": [
    "d = c.view()\n",
    "d"
   ]
  },
  {
   "cell_type": "code",
   "execution_count": 38,
   "id": "40ce43f4",
   "metadata": {},
   "outputs": [
    {
     "data": {
      "text/plain": [
       "False"
      ]
     },
     "execution_count": 38,
     "metadata": {},
     "output_type": "execute_result"
    }
   ],
   "source": [
    "c is d  # c객체와 d객체가 같은가?"
   ]
  },
  {
   "cell_type": "code",
   "execution_count": 39,
   "id": "57311b3a",
   "metadata": {},
   "outputs": [
    {
     "data": {
      "text/plain": [
       "(2475170223696, 2475170224272)"
      ]
     },
     "execution_count": 39,
     "metadata": {},
     "output_type": "execute_result"
    }
   ],
   "source": [
    "id(c), id(d)"
   ]
  },
  {
   "cell_type": "code",
   "execution_count": 40,
   "id": "7314491b",
   "metadata": {},
   "outputs": [
    {
     "data": {
      "text/plain": [
       "True"
      ]
     },
     "execution_count": 40,
     "metadata": {},
     "output_type": "execute_result"
    }
   ],
   "source": [
    "np.all(c == d)  # c와 d의 내용이 모두 같음"
   ]
  },
  {
   "cell_type": "code",
   "execution_count": 41,
   "id": "f8609e17",
   "metadata": {},
   "outputs": [
    {
     "data": {
      "text/plain": [
       "array([[ 0,  1,  2,  3],\n",
       "       [ 4,  5,  6,  7],\n",
       "       [ 8,  9, 10, 11]])"
      ]
     },
     "execution_count": 41,
     "metadata": {},
     "output_type": "execute_result"
    }
   ],
   "source": [
    "d.shape = (3, 4)\n",
    "d"
   ]
  },
  {
   "cell_type": "code",
   "execution_count": 42,
   "id": "ec4bb823",
   "metadata": {},
   "outputs": [
    {
     "data": {
      "text/plain": [
       "array([[ 0,  1,  2,  3,  4,  5],\n",
       "       [ 6,  7,  8,  9, 10, 11]])"
      ]
     },
     "execution_count": 42,
     "metadata": {},
     "output_type": "execute_result"
    }
   ],
   "source": [
    "c"
   ]
  },
  {
   "cell_type": "code",
   "execution_count": 44,
   "id": "97f6180a",
   "metadata": {},
   "outputs": [
    {
     "data": {
      "text/plain": [
       "array([[-99,   1, -99,   3],\n",
       "       [  4,   5,   6,   7],\n",
       "       [  8,   9,  10,  11]])"
      ]
     },
     "execution_count": 44,
     "metadata": {},
     "output_type": "execute_result"
    }
   ],
   "source": [
    "d[0, ::2] = -99\n",
    "d"
   ]
  },
  {
   "cell_type": "code",
   "execution_count": 45,
   "id": "a74f0fe7",
   "metadata": {},
   "outputs": [
    {
     "data": {
      "text/plain": [
       "array([[-99,   1, -99,   3,   4,   5],\n",
       "       [  6,   7,   8,   9,  10,  11]])"
      ]
     },
     "execution_count": 45,
     "metadata": {},
     "output_type": "execute_result"
    }
   ],
   "source": [
    "c"
   ]
  },
  {
   "cell_type": "code",
   "execution_count": 46,
   "id": "30993bb7",
   "metadata": {},
   "outputs": [
    {
     "data": {
      "text/plain": [
       "array([[ 0,  1,  2,  3,  4,  5],\n",
       "       [ 6,  7,  8,  9, 10, 11]])"
      ]
     },
     "execution_count": 46,
     "metadata": {},
     "output_type": "execute_result"
    }
   ],
   "source": [
    "# 슬라이싱이 될 때 자동 뷰가 반환됨\n",
    "\n",
    "c = np.arange(12).reshape(2, 6)\n",
    "c"
   ]
  },
  {
   "cell_type": "code",
   "execution_count": 47,
   "id": "dc0c61ec",
   "metadata": {},
   "outputs": [
    {
     "data": {
      "text/plain": [
       "array([[ 0,  1,  2,  3,  4],\n",
       "       [ 6,  7,  8,  9, 10]])"
      ]
     },
     "execution_count": 47,
     "metadata": {},
     "output_type": "execute_result"
    }
   ],
   "source": [
    "d = c[:, :-1]\n",
    "d"
   ]
  },
  {
   "cell_type": "code",
   "execution_count": 48,
   "id": "6e6ef5b7",
   "metadata": {},
   "outputs": [
    {
     "data": {
      "text/plain": [
       "array([[ 0,  1,  2,  3, 99],\n",
       "       [ 6,  7,  8,  9, 99]])"
      ]
     },
     "execution_count": 48,
     "metadata": {},
     "output_type": "execute_result"
    }
   ],
   "source": [
    "d[..., -1] = 99\n",
    "d"
   ]
  },
  {
   "cell_type": "code",
   "execution_count": 49,
   "id": "4fe3c217",
   "metadata": {},
   "outputs": [
    {
     "data": {
      "text/plain": [
       "array([[ 0,  1,  2,  3, 99,  5],\n",
       "       [ 6,  7,  8,  9, 99, 11]])"
      ]
     },
     "execution_count": 49,
     "metadata": {},
     "output_type": "execute_result"
    }
   ],
   "source": [
    "c"
   ]
  },
  {
   "cell_type": "markdown",
   "id": "7d97ede2",
   "metadata": {},
   "source": [
    "## 4.3 깊은 복사"
   ]
  },
  {
   "cell_type": "code",
   "execution_count": 50,
   "id": "258c268f",
   "metadata": {},
   "outputs": [
    {
     "data": {
      "text/plain": [
       "array([[ 0,  1,  2,  3,  4,  5],\n",
       "       [ 6,  7,  8,  9, 10, 11]])"
      ]
     },
     "execution_count": 50,
     "metadata": {},
     "output_type": "execute_result"
    }
   ],
   "source": [
    "c = np.arange(12).reshape(2, 6)\n",
    "c"
   ]
  },
  {
   "cell_type": "code",
   "execution_count": 51,
   "id": "97b6d07e",
   "metadata": {},
   "outputs": [
    {
     "data": {
      "text/plain": [
       "array([[ 0,  1,  2, 99,  4],\n",
       "       [ 6,  7,  8, 99, 10]])"
      ]
     },
     "execution_count": 51,
     "metadata": {},
     "output_type": "execute_result"
    }
   ],
   "source": [
    "d = c[:, :-1].copy()  # 깊은 복사\n",
    "d[..., -2] = 99\n",
    "d"
   ]
  },
  {
   "cell_type": "code",
   "execution_count": 52,
   "id": "182145ac",
   "metadata": {
    "scrolled": true
   },
   "outputs": [
    {
     "data": {
      "text/plain": [
       "array([[ 0,  1,  2,  3,  4,  5],\n",
       "       [ 6,  7,  8,  9, 10, 11]])"
      ]
     },
     "execution_count": 52,
     "metadata": {},
     "output_type": "execute_result"
    }
   ],
   "source": [
    "c"
   ]
  },
  {
   "cell_type": "markdown",
   "id": "9538198e",
   "metadata": {},
   "source": [
    "# 5절. 고급인덱싱"
   ]
  },
  {
   "cell_type": "markdown",
   "id": "04a3b0e7",
   "metadata": {},
   "source": [
    "## 5.1 인덱스 배열로 인덱싱"
   ]
  },
  {
   "cell_type": "code",
   "execution_count": 62,
   "id": "d4e9ea23",
   "metadata": {},
   "outputs": [
    {
     "data": {
      "text/plain": [
       "array([  0,   1,   4,   9,  16,  25,  36,  49,  64,  81, 100, 121])"
      ]
     },
     "execution_count": 62,
     "metadata": {},
     "output_type": "execute_result"
    }
   ],
   "source": [
    "a = np.arange(12) ** 2\n",
    "a"
   ]
  },
  {
   "cell_type": "code",
   "execution_count": 63,
   "id": "75756203",
   "metadata": {},
   "outputs": [
    {
     "data": {
      "text/plain": [
       "array([ 0,  0,  1, 25])"
      ]
     },
     "execution_count": 63,
     "metadata": {},
     "output_type": "execute_result"
    }
   ],
   "source": [
    "a[[0, 0, 1, 5]]"
   ]
  },
  {
   "cell_type": "code",
   "execution_count": 64,
   "id": "60a72ed4",
   "metadata": {},
   "outputs": [
    {
     "data": {
      "text/plain": [
       "array([ 0,  0,  1, 25])"
      ]
     },
     "execution_count": 64,
     "metadata": {},
     "output_type": "execute_result"
    }
   ],
   "source": [
    "# 인덱싱하기 위한 값을 배열로 만듦\n",
    "\n",
    "i = np.array([0, 0, 1, 5])\n",
    "a[i]"
   ]
  },
  {
   "cell_type": "code",
   "execution_count": 65,
   "id": "f0309db8",
   "metadata": {},
   "outputs": [
    {
     "data": {
      "text/plain": [
       "array([[ 0,  0],\n",
       "       [ 1, 25]])"
      ]
     },
     "execution_count": 65,
     "metadata": {},
     "output_type": "execute_result"
    }
   ],
   "source": [
    "j = np.array([[0, 0], [1, 5]])\n",
    "a[j]"
   ]
  },
  {
   "cell_type": "code",
   "execution_count": 55,
   "id": "5da23a9f",
   "metadata": {},
   "outputs": [],
   "source": [
    "# image_data = [[[255, 255, 255],\n",
    "#                [255, 255, 255],\n",
    "#                [255, 255, 255],\n",
    "#                [0, 0, 0],\n",
    "#                ],\n",
    "#              ]"
   ]
  },
  {
   "cell_type": "code",
   "execution_count": 56,
   "id": "977d0c13",
   "metadata": {},
   "outputs": [],
   "source": [
    "# R G B\n",
    "\n",
    "palette = np.array([[0, 0, 0],         # black\n",
    "                    [255, 0, 0],       # red\n",
    "                    [0, 255, 0],       # green\n",
    "                    [0, 0, 255],       # blue\n",
    "                    [255, 255, 255]])  # white"
   ]
  },
  {
   "cell_type": "code",
   "execution_count": 66,
   "id": "24c7d1fe",
   "metadata": {},
   "outputs": [],
   "source": [
    "image_index = np.array([[4, 4, 4, 0, 0, 0, 0, 4, 4, 4],\n",
    "                        [4, 0, 0, 4, 4, 4, 4, 0, 0, 4],\n",
    "                        [0, 0, 4, 4, 4, 4, 4, 4, 0, 0],\n",
    "                        [0, 4, 4, 1, 4, 4, 3, 4, 4, 0],\n",
    "                        [0, 4, 4, 1, 4, 4, 3, 4, 4, 0],\n",
    "                        [0, 4, 4, 4, 4, 4, 4, 4, 4, 0],\n",
    "                        [0, 4, 4, 2, 4, 4, 2, 4, 4, 0],\n",
    "                        [4, 0, 4, 4, 2, 2, 4, 4, 0, 4],\n",
    "                        [4, 4, 0, 4, 4, 4, 4, 0, 4, 4],\n",
    "                        [4, 4, 4, 0, 0, 0, 0, 4, 4, 4]])\n",
    "image_data = palette[image_index]"
   ]
  },
  {
   "cell_type": "code",
   "execution_count": 67,
   "id": "72468884",
   "metadata": {},
   "outputs": [
    {
     "data": {
      "text/plain": [
       "(10, 10, 3)"
      ]
     },
     "execution_count": 67,
     "metadata": {},
     "output_type": "execute_result"
    }
   ],
   "source": [
    "image_data.shape"
   ]
  },
  {
   "cell_type": "code",
   "execution_count": 68,
   "id": "316b8272",
   "metadata": {},
   "outputs": [
    {
     "data": {
      "image/png": "[encoded data removed]",
      "text/plain": [
       "<Figure size 200x200 with 1 Axes>"
      ]
     },
     "metadata": {},
     "output_type": "display_data"
    }
   ],
   "source": [
    "from matplotlib import pyplot as plt\n",
    "\n",
    "plt.figure(figsize = (2, 2))\n",
    "plt.imshow(image_data)\n",
    "plt.show()"
   ]
  },
  {
   "cell_type": "markdown",
   "id": "4c8ee702",
   "metadata": {},
   "source": [
    "## 5.2 논리 배열을 이용한 인덱싱"
   ]
  },
  {
   "cell_type": "code",
   "execution_count": 69,
   "id": "fafeb42f",
   "metadata": {},
   "outputs": [
    {
     "data": {
      "text/plain": [
       "array([ 0,  1, 10, 11, 12, 13, 14, 15, 99])"
      ]
     },
     "execution_count": 69,
     "metadata": {},
     "output_type": "execute_result"
    }
   ],
   "source": [
    "a = np.array([0, 1, 10, 11, 12, 13, 14, 15, 99])\n",
    "a"
   ]
  },
  {
   "cell_type": "code",
   "execution_count": 70,
   "id": "2eb03d99",
   "metadata": {},
   "outputs": [
    {
     "data": {
      "text/plain": [
       "array([ True, False,  True, False,  True, False,  True, False, False])"
      ]
     },
     "execution_count": 70,
     "metadata": {},
     "output_type": "execute_result"
    }
   ],
   "source": [
    "a % 2 == 0"
   ]
  },
  {
   "cell_type": "code",
   "execution_count": 71,
   "id": "00511712",
   "metadata": {},
   "outputs": [
    {
     "data": {
      "text/plain": [
       "array([ 0, 10, 12, 14])"
      ]
     },
     "execution_count": 71,
     "metadata": {},
     "output_type": "execute_result"
    }
   ],
   "source": [
    "a[[True, False,  True, False,  True, False,  True, False, False]]"
   ]
  },
  {
   "cell_type": "code",
   "execution_count": 73,
   "id": "059eb2b5",
   "metadata": {},
   "outputs": [
    {
     "data": {
      "text/plain": [
       "array([ 0, 10, 12, 14])"
      ]
     },
     "execution_count": 73,
     "metadata": {},
     "output_type": "execute_result"
    }
   ],
   "source": [
    "a[a % 2 == 0]  # 논리 배열을 이용한 인덱싱 시 True요소만 추출"
   ]
  },
  {
   "cell_type": "code",
   "execution_count": 74,
   "id": "aed75f7c",
   "metadata": {},
   "outputs": [
    {
     "data": {
      "text/plain": [
       "array([13, 14, 15, 99])"
      ]
     },
     "execution_count": 74,
     "metadata": {},
     "output_type": "execute_result"
    }
   ],
   "source": [
    "# a에서 12보다 큰값만 추출\n",
    "\n",
    "a[a > 12]"
   ]
  },
  {
   "cell_type": "markdown",
   "id": "1059e3ee",
   "metadata": {},
   "source": [
    "# 6절. 선형대수\n",
    "\n",
    "- 2차원 넘파이배열을 행렬\n",
    "    * 행렬 곱 : @, dot(), 단위행렬\n",
    "    * 역행렬 : np.linalg.inv(행렬) : 역행렬 @ 행렬 = 단위행렬\n",
    "    * 전치행렬 : 행렬.T / 행렬.transpose()"
   ]
  },
  {
   "cell_type": "code",
   "execution_count": 78,
   "id": "e4e06f5b",
   "metadata": {},
   "outputs": [
    {
     "data": {
      "text/plain": [
       "array([[1, 2],\n",
       "       [3, 4]])"
      ]
     },
     "execution_count": 78,
     "metadata": {},
     "output_type": "execute_result"
    }
   ],
   "source": [
    "a = np.array([[1, 2], [3, 4]])\n",
    "a  # 정방행렬"
   ]
  },
  {
   "cell_type": "code",
   "execution_count": 81,
   "id": "aebc7aa5",
   "metadata": {},
   "outputs": [
    {
     "data": {
      "text/plain": [
       "array([[-2. ,  1. ],\n",
       "       [ 1.5, -0.5]])"
      ]
     },
     "execution_count": 81,
     "metadata": {},
     "output_type": "execute_result"
    }
   ],
   "source": [
    "# a의 역행렬 : a의 역행렬 @ a → 단위행렬\n",
    "\n",
    "b = np.linalg.inv(a)\n",
    "b"
   ]
  },
  {
   "cell_type": "code",
   "execution_count": 84,
   "id": "de8c9bf5",
   "metadata": {},
   "outputs": [
    {
     "data": {
      "text/plain": [
       "(array([[1.00000000e+00, 1.11022302e-16],\n",
       "        [0.00000000e+00, 1.00000000e+00]]),\n",
       " array([[1.00000000e+00, 1.11022302e-16],\n",
       "        [0.00000000e+00, 1.00000000e+00]]))"
      ]
     },
     "execution_count": 84,
     "metadata": {},
     "output_type": "execute_result"
    }
   ],
   "source": [
    "a.dot(b), a @ b"
   ]
  },
  {
   "cell_type": "markdown",
   "id": "a7ad0bda",
   "metadata": {},
   "source": [
    "## 6.1 선형 연립 방정식 풀기(독립변수1, 데이터2)"
   ]
  },
  {
   "cell_type": "code",
   "execution_count": 7,
   "id": "1bb64e20",
   "metadata": {},
   "outputs": [
    {
     "data": {
      "text/plain": [
       "(array([[2., 1.],\n",
       "        [4., 1.]]),\n",
       " (2, 2))"
      ]
     },
     "execution_count": 7,
     "metadata": {},
     "output_type": "execute_result"
    }
   ],
   "source": [
    "x = np.array([2, 4])  # 독립변수\n",
    "Y = np.array([40, 60])  # 종속변수\n",
    "\n",
    "# X = np.dstack((x, np.ones(len(x))))  dstack : 차원증가\n",
    "X = np.column_stack( (x, np.ones(len(x))))\n",
    "X, X.shape"
   ]
  },
  {
   "cell_type": "code",
   "execution_count": 9,
   "id": "0c8a56d5",
   "metadata": {},
   "outputs": [
    {
     "data": {
      "text/plain": [
       "array([[40],\n",
       "       [60]])"
      ]
     },
     "execution_count": 9,
     "metadata": {},
     "output_type": "execute_result"
    }
   ],
   "source": [
    "Y.reshape(-1, 1)  # 출력결과가 나오면 Y는 그대로, return 값만 출력"
   ]
  },
  {
   "cell_type": "code",
   "execution_count": 4,
   "id": "0370eb2c",
   "metadata": {},
   "outputs": [
    {
     "data": {
      "text/plain": [
       "array([[10., 20.]])"
      ]
     },
     "execution_count": 4,
     "metadata": {},
     "output_type": "execute_result"
    }
   ],
   "source": [
    "# X @ wb = Y\n",
    "# X의 역행렬 @ X @ wb = X의 역행렬 @ Y\n",
    "# wb = X의 역행렬 @ Y\n",
    "\n",
    "wb = np.linalg.inv(X) @ Y\n",
    "wb"
   ]
  },
  {
   "cell_type": "code",
   "execution_count": 10,
   "id": "0f34afe2",
   "metadata": {},
   "outputs": [
    {
     "data": {
      "image/png": "[encoded data removed]",
      "text/plain": [
       "<Figure size 640x480 with 1 Axes>"
      ]
     },
     "metadata": {},
     "output_type": "display_data"
    }
   ],
   "source": [
    "import matplotlib.pyplot as plt\n",
    "\n",
    "plt.scatter(x, Y)\n",
    "plt.plot(x, 10 * x + 20, 'r')\n",
    "plt.show()"
   ]
  },
  {
   "cell_type": "code",
   "execution_count": 11,
   "id": "865b2cea",
   "metadata": {},
   "outputs": [
    {
     "data": {
      "text/plain": [
       "array([10., 20.])"
      ]
     },
     "execution_count": 11,
     "metadata": {},
     "output_type": "execute_result"
    }
   ],
   "source": [
    "np.linalg.solve(X, Y)  # w(기울기), b(y절편)을 구하는 함수"
   ]
  },
  {
   "cell_type": "markdown",
   "id": "63e09832",
   "metadata": {},
   "source": [
    "## 6.2 선형연립방정식 풀기(회귀분석) : 독립변수 1개 데이터 n개"
   ]
  },
  {
   "cell_type": "code",
   "execution_count": 13,
   "id": "1af7aa8a",
   "metadata": {},
   "outputs": [
    {
     "data": {
      "text/plain": [
       "array([[ 32.,   1.],\n",
       "       [ 64.,   1.],\n",
       "       [ 96.,   1.],\n",
       "       [118.,   1.]])"
      ]
     },
     "execution_count": 13,
     "metadata": {},
     "output_type": "execute_result"
    }
   ],
   "source": [
    "x = np.array([32, 64, 96, 118])\n",
    "X = np.c_[x, np.ones(len(x))]\n",
    "X  # 정방행렬이 아님"
   ]
  },
  {
   "cell_type": "code",
   "execution_count": null,
   "id": "66b265e9",
   "metadata": {},
   "outputs": [],
   "source": [
    "# np.linalg.inv(X)  X가 정방행렬이 아니면 역행렬을 구할 수 없음"
   ]
  },
  {
   "cell_type": "code",
   "execution_count": 16,
   "id": "54c66b47",
   "metadata": {},
   "outputs": [
    {
     "data": {
      "text/plain": [
       "(array([[ 32.,  64.,  96., 118.],\n",
       "        [  1.,   1.,   1.,   1.]]),\n",
       " array([[ 32.,  64.,  96., 118.],\n",
       "        [  1.,   1.,   1.,   1.]]))"
      ]
     },
     "execution_count": 16,
     "metadata": {},
     "output_type": "execute_result"
    }
   ],
   "source": [
    "X.T, X.transpose()  # 전치행렬"
   ]
  },
  {
   "cell_type": "code",
   "execution_count": 17,
   "id": "6de90afe",
   "metadata": {},
   "outputs": [
    {
     "data": {
      "text/plain": [
       "array([[2.826e+04, 3.100e+02],\n",
       "       [3.100e+02, 4.000e+00]])"
      ]
     },
     "execution_count": 17,
     "metadata": {},
     "output_type": "execute_result"
    }
   ],
   "source": [
    "X_ = X.T @ X\n",
    "X_"
   ]
  },
  {
   "cell_type": "code",
   "execution_count": 18,
   "id": "2bd5a0f7",
   "metadata": {},
   "outputs": [
    {
     "data": {
      "text/plain": [
       "array([[1., 0.],\n",
       "       [0., 1.]])"
      ]
     },
     "execution_count": 18,
     "metadata": {},
     "output_type": "execute_result"
    }
   ],
   "source": [
    "# X가 정방행렬이 아닐 경우, X.T @ X로 정방행렬을 만든 후 역행렬을 곱\n",
    "\n",
    "np.linalg.inv(X_) @ X_"
   ]
  },
  {
   "cell_type": "code",
   "execution_count": 21,
   "id": "8932b120",
   "metadata": {},
   "outputs": [
    {
     "data": {
      "text/plain": [
       "(array([[ 32. ,   1. ],\n",
       "        [ 64. ,   1. ],\n",
       "        [ 96. ,   1. ],\n",
       "        [118. ,   1. ],\n",
       "        [126. ,   1. ],\n",
       "        [144. ,   1. ],\n",
       "        [152.5,   1. ],\n",
       "        [158. ,   1. ]]),\n",
       " array([[ 18. ],\n",
       "        [ 24. ],\n",
       "        [ 61.5],\n",
       "        [ 49. ],\n",
       "        [ 52. ],\n",
       "        [105. ],\n",
       "        [130.3],\n",
       "        [125. ]]))"
      ]
     },
     "execution_count": 21,
     "metadata": {},
     "output_type": "execute_result"
    }
   ],
   "source": [
    "x = np.array([32, 64, 96, 118, 126, 144, 152.5, 158])\n",
    "y = np.array([18, 24, 61.5, 49, 52, 105, 130.3, 125])\n",
    "X = np.c_[x, np.ones(len(x))]  # np.c_[x, np.ones(x.shape[0])]\n",
    "Y = y.reshape(-1, 1)\n",
    "X, Y"
   ]
  },
  {
   "cell_type": "code",
   "execution_count": 23,
   "id": "dc220224",
   "metadata": {},
   "outputs": [
    {
     "data": {
      "text/plain": [
       "array([[  0.87493126],\n",
       "       [-26.79078617]])"
      ]
     },
     "execution_count": 23,
     "metadata": {},
     "output_type": "execute_result"
    }
   ],
   "source": [
    "# X @ wb = Y\n",
    "# X.T @ X @ wb = X.T @ Y\n",
    "# (X.T @ X)의 역행렬 @ X.T @ X @ wb = (X.T @ X)의 역행렬 @ X.T @ Y\n",
    "# X_의 역행렬 @ X_ @ wb = X_의 역행렬 @ X.T @ Y\n",
    "# X의 역행렬 @ X @ wb = X의 역행렬 @ Y\n",
    "\n",
    "wb = np.linalg.inv(X.T @ X) @ X.T @ Y\n",
    "wb"
   ]
  },
  {
   "cell_type": "code",
   "execution_count": 25,
   "id": "f2960aeb",
   "metadata": {},
   "outputs": [
    {
     "name": "stdout",
     "output_type": "stream",
     "text": [
      "0.8749312625981291 -26.79078616795418\n",
      "독립변수 : [ 32.   64.   96.  118.  126.  144.  152.5 158. ]\n",
      "종속변수 : [ 18.   24.   61.5  49.   52.  105.  130.3 125. ]\n",
      "예측값 : [  1.20701424  29.20481464  57.20261504  76.45110282  83.45055292\n",
      "  99.19931565 106.63623138 111.44835332]\n"
     ]
    }
   ],
   "source": [
    "print(wb[0, 0], wb[1, 0])  # 기울기와 Y절편\n",
    "y_hat = wb[0, 0] * x + wb[1, 0]\n",
    "print('독립변수 :', x)\n",
    "print('종속변수 :', y)\n",
    "print('예측값 :', y_hat)"
   ]
  },
  {
   "cell_type": "code",
   "execution_count": 26,
   "id": "c2180578",
   "metadata": {},
   "outputs": [
    {
     "data": {
      "image/png": "[encoded data removed]",
      "text/plain": [
       "<Figure size 600x600 with 1 Axes>"
      ]
     },
     "metadata": {},
     "output_type": "display_data"
    }
   ],
   "source": [
    "import matplotlib.pyplot as plt\n",
    "\n",
    "plt.figure(figsize = (6, 6))\n",
    "plt.scatter(x, y)\n",
    "plt.plot(x, y_hat, 'r')\n",
    "plt.show()"
   ]
  },
  {
   "cell_type": "markdown",
   "id": "88943a54",
   "metadata": {},
   "source": [
    "# 7절. 연습문제"
   ]
  },
  {
   "cell_type": "markdown",
   "id": "f5d8d00d",
   "metadata": {},
   "source": [
    "## 7.1 연습문제 실습형"
   ]
  },
  {
   "cell_type": "code",
   "execution_count": 27,
   "id": "58410413",
   "metadata": {},
   "outputs": [],
   "source": [
    "# ex0. 다음 코드는 iris 데이터의 독립변수 (sepal_length, sepal_width, petal_length, petal_width) 정보만 갖도록 한 코드입니다\n",
    "#     이를 이용해서 주어진 문제를 해결하세요\n",
    "\n",
    "import numpy as np\n",
    "from sklearn import datasets\n",
    "\n",
    "iris = datasets.load_iris()\n",
    "iris_data = iris.data"
   ]
  },
  {
   "cell_type": "code",
   "execution_count": 31,
   "id": "81039ae7",
   "metadata": {
    "scrolled": true
   },
   "outputs": [
    {
     "data": {
      "text/plain": [
       "array([[5.1, 3.5, 1.4, 0.2],\n",
       "       [4.9, 3. , 1.4, 0.2],\n",
       "       [4.7, 3.2, 1.3, 0.2],\n",
       "       [4.6, 3.1, 1.5, 0.2],\n",
       "       [5. , 3.6, 1.4, 0.2],\n",
       "       [5.4, 3.9, 1.7, 0.4],\n",
       "       [4.6, 3.4, 1.4, 0.3],\n",
       "       [5. , 3.4, 1.5, 0.2],\n",
       "       [4.4, 2.9, 1.4, 0.2],\n",
       "       [4.9, 3.1, 1.5, 0.1],\n",
       "       [5.4, 3.7, 1.5, 0.2],\n",
       "       [4.8, 3.4, 1.6, 0.2],\n",
       "       [4.8, 3. , 1.4, 0.1],\n",
       "       [4.3, 3. , 1.1, 0.1],\n",
       "       [5.8, 4. , 1.2, 0.2],\n",
       "       [5.7, 4.4, 1.5, 0.4],\n",
       "       [5.4, 3.9, 1.3, 0.4],\n",
       "       [5.1, 3.5, 1.4, 0.3],\n",
       "       [5.7, 3.8, 1.7, 0.3],\n",
       "       [5.1, 3.8, 1.5, 0.3],\n",
       "       [5.4, 3.4, 1.7, 0.2],\n",
       "       [5.1, 3.7, 1.5, 0.4],\n",
       "       [4.6, 3.6, 1. , 0.2],\n",
       "       [5.1, 3.3, 1.7, 0.5],\n",
       "       [4.8, 3.4, 1.9, 0.2],\n",
       "       [5. , 3. , 1.6, 0.2],\n",
       "       [5. , 3.4, 1.6, 0.4],\n",
       "       [5.2, 3.5, 1.5, 0.2],\n",
       "       [5.2, 3.4, 1.4, 0.2],\n",
       "       [4.7, 3.2, 1.6, 0.2],\n",
       "       [4.8, 3.1, 1.6, 0.2],\n",
       "       [5.4, 3.4, 1.5, 0.4],\n",
       "       [5.2, 4.1, 1.5, 0.1],\n",
       "       [5.5, 4.2, 1.4, 0.2],\n",
       "       [4.9, 3.1, 1.5, 0.2],\n",
       "       [5. , 3.2, 1.2, 0.2],\n",
       "       [5.5, 3.5, 1.3, 0.2],\n",
       "       [4.9, 3.6, 1.4, 0.1],\n",
       "       [4.4, 3. , 1.3, 0.2],\n",
       "       [5.1, 3.4, 1.5, 0.2],\n",
       "       [5. , 3.5, 1.3, 0.3],\n",
       "       [4.5, 2.3, 1.3, 0.3],\n",
       "       [4.4, 3.2, 1.3, 0.2],\n",
       "       [5. , 3.5, 1.6, 0.6],\n",
       "       [5.1, 3.8, 1.9, 0.4],\n",
       "       [4.8, 3. , 1.4, 0.3],\n",
       "       [5.1, 3.8, 1.6, 0.2],\n",
       "       [4.6, 3.2, 1.4, 0.2],\n",
       "       [5.3, 3.7, 1.5, 0.2],\n",
       "       [5. , 3.3, 1.4, 0.2],\n",
       "       [7. , 3.2, 4.7, 1.4],\n",
       "       [6.4, 3.2, 4.5, 1.5],\n",
       "       [6.9, 3.1, 4.9, 1.5],\n",
       "       [5.5, 2.3, 4. , 1.3],\n",
       "       [6.5, 2.8, 4.6, 1.5],\n",
       "       [5.7, 2.8, 4.5, 1.3],\n",
       "       [6.3, 3.3, 4.7, 1.6],\n",
       "       [4.9, 2.4, 3.3, 1. ],\n",
       "       [6.6, 2.9, 4.6, 1.3],\n",
       "       [5.2, 2.7, 3.9, 1.4],\n",
       "       [5. , 2. , 3.5, 1. ],\n",
       "       [5.9, 3. , 4.2, 1.5],\n",
       "       [6. , 2.2, 4. , 1. ],\n",
       "       [6.1, 2.9, 4.7, 1.4],\n",
       "       [5.6, 2.9, 3.6, 1.3],\n",
       "       [6.7, 3.1, 4.4, 1.4],\n",
       "       [5.6, 3. , 4.5, 1.5],\n",
       "       [5.8, 2.7, 4.1, 1. ],\n",
       "       [6.2, 2.2, 4.5, 1.5],\n",
       "       [5.6, 2.5, 3.9, 1.1],\n",
       "       [5.9, 3.2, 4.8, 1.8],\n",
       "       [6.1, 2.8, 4. , 1.3],\n",
       "       [6.3, 2.5, 4.9, 1.5],\n",
       "       [6.1, 2.8, 4.7, 1.2],\n",
       "       [6.4, 2.9, 4.3, 1.3],\n",
       "       [6.6, 3. , 4.4, 1.4],\n",
       "       [6.8, 2.8, 4.8, 1.4],\n",
       "       [6.7, 3. , 5. , 1.7],\n",
       "       [6. , 2.9, 4.5, 1.5],\n",
       "       [5.7, 2.6, 3.5, 1. ],\n",
       "       [5.5, 2.4, 3.8, 1.1],\n",
       "       [5.5, 2.4, 3.7, 1. ],\n",
       "       [5.8, 2.7, 3.9, 1.2],\n",
       "       [6. , 2.7, 5.1, 1.6],\n",
       "       [5.4, 3. , 4.5, 1.5],\n",
       "       [6. , 3.4, 4.5, 1.6],\n",
       "       [6.7, 3.1, 4.7, 1.5],\n",
       "       [6.3, 2.3, 4.4, 1.3],\n",
       "       [5.6, 3. , 4.1, 1.3],\n",
       "       [5.5, 2.5, 4. , 1.3],\n",
       "       [5.5, 2.6, 4.4, 1.2],\n",
       "       [6.1, 3. , 4.6, 1.4],\n",
       "       [5.8, 2.6, 4. , 1.2],\n",
       "       [5. , 2.3, 3.3, 1. ],\n",
       "       [5.6, 2.7, 4.2, 1.3],\n",
       "       [5.7, 3. , 4.2, 1.2],\n",
       "       [5.7, 2.9, 4.2, 1.3],\n",
       "       [6.2, 2.9, 4.3, 1.3],\n",
       "       [5.1, 2.5, 3. , 1.1],\n",
       "       [5.7, 2.8, 4.1, 1.3],\n",
       "       [6.3, 3.3, 6. , 2.5],\n",
       "       [5.8, 2.7, 5.1, 1.9],\n",
       "       [7.1, 3. , 5.9, 2.1],\n",
       "       [6.3, 2.9, 5.6, 1.8],\n",
       "       [6.5, 3. , 5.8, 2.2],\n",
       "       [7.6, 3. , 6.6, 2.1],\n",
       "       [4.9, 2.5, 4.5, 1.7],\n",
       "       [7.3, 2.9, 6.3, 1.8],\n",
       "       [6.7, 2.5, 5.8, 1.8],\n",
       "       [7.2, 3.6, 6.1, 2.5],\n",
       "       [6.5, 3.2, 5.1, 2. ],\n",
       "       [6.4, 2.7, 5.3, 1.9],\n",
       "       [6.8, 3. , 5.5, 2.1],\n",
       "       [5.7, 2.5, 5. , 2. ],\n",
       "       [5.8, 2.8, 5.1, 2.4],\n",
       "       [6.4, 3.2, 5.3, 2.3],\n",
       "       [6.5, 3. , 5.5, 1.8],\n",
       "       [7.7, 3.8, 6.7, 2.2],\n",
       "       [7.7, 2.6, 6.9, 2.3],\n",
       "       [6. , 2.2, 5. , 1.5],\n",
       "       [6.9, 3.2, 5.7, 2.3],\n",
       "       [5.6, 2.8, 4.9, 2. ],\n",
       "       [7.7, 2.8, 6.7, 2. ],\n",
       "       [6.3, 2.7, 4.9, 1.8],\n",
       "       [6.7, 3.3, 5.7, 2.1],\n",
       "       [7.2, 3.2, 6. , 1.8],\n",
       "       [6.2, 2.8, 4.8, 1.8],\n",
       "       [6.1, 3. , 4.9, 1.8],\n",
       "       [6.4, 2.8, 5.6, 2.1],\n",
       "       [7.2, 3. , 5.8, 1.6],\n",
       "       [7.4, 2.8, 6.1, 1.9],\n",
       "       [7.9, 3.8, 6.4, 2. ],\n",
       "       [6.4, 2.8, 5.6, 2.2],\n",
       "       [6.3, 2.8, 5.1, 1.5],\n",
       "       [6.1, 2.6, 5.6, 1.4],\n",
       "       [7.7, 3. , 6.1, 2.3],\n",
       "       [6.3, 3.4, 5.6, 2.4],\n",
       "       [6.4, 3.1, 5.5, 1.8],\n",
       "       [6. , 3. , 4.8, 1.8],\n",
       "       [6.9, 3.1, 5.4, 2.1],\n",
       "       [6.7, 3.1, 5.6, 2.4],\n",
       "       [6.9, 3.1, 5.1, 2.3],\n",
       "       [5.8, 2.7, 5.1, 1.9],\n",
       "       [6.8, 3.2, 5.9, 2.3],\n",
       "       [6.7, 3.3, 5.7, 2.5],\n",
       "       [6.7, 3. , 5.2, 2.3],\n",
       "       [6.3, 2.5, 5. , 1.9],\n",
       "       [6.5, 3. , 5.2, 2. ],\n",
       "       [6.2, 3.4, 5.4, 2.3],\n",
       "       [5.9, 3. , 5.1, 1.8]])"
      ]
     },
     "execution_count": 31,
     "metadata": {},
     "output_type": "execute_result"
    }
   ],
   "source": [
    "iris_data"
   ]
  },
  {
   "cell_type": "code",
   "execution_count": 28,
   "id": "93899f9e",
   "metadata": {},
   "outputs": [
    {
     "data": {
      "text/plain": [
       "(numpy.ndarray, dtype('float64'), (150, 4))"
      ]
     },
     "execution_count": 28,
     "metadata": {},
     "output_type": "execute_result"
    }
   ],
   "source": [
    "type(iris_data), iris_data.dtype, iris_data.shape  # 150행 4열짜리 float 배열"
   ]
  },
  {
   "cell_type": "code",
   "execution_count": 136,
   "id": "f63ff27e",
   "metadata": {},
   "outputs": [
    {
     "data": {
      "text/plain": [
       "array([5.84333333, 3.05733333, 3.758     , 1.19933333])"
      ]
     },
     "execution_count": 136,
     "metadata": {},
     "output_type": "execute_result"
    }
   ],
   "source": [
    "# ex1. 각 변수별 평균을 출력하세요\n",
    "\n",
    "sepal_length = iris_data[:, 0]\n",
    "sepal_width = iris_data[:, 1]\n",
    "petal_length = iris_data[:, 2]\n",
    "petal_width = iris_data[:, 3]\n",
    "\n",
    "np.mean(iris_data, axis = 0)"
   ]
  },
  {
   "cell_type": "code",
   "execution_count": 78,
   "id": "0c54b49c",
   "metadata": {},
   "outputs": [
    {
     "data": {
      "text/plain": [
       "array([[5.1, 3.5, 1.4, 0.2],\n",
       "       [4.9, 3. , 1.4, 0.2],\n",
       "       [4.7, 3.2, 1.3, 0.2],\n",
       "       [4.6, 3.1, 1.5, 0.2],\n",
       "       [5. , 3.6, 1.4, 0.2]])"
      ]
     },
     "execution_count": 78,
     "metadata": {},
     "output_type": "execute_result"
    }
   ],
   "source": [
    "# ex2. 처음 다섯개 행을 출력하세요\n",
    "\n",
    "iris_data[:5, :]"
   ]
  },
  {
   "cell_type": "code",
   "execution_count": 82,
   "id": "72c11f98",
   "metadata": {},
   "outputs": [
    {
     "data": {
      "text/plain": [
       "array([[5.1, 3.5, 1.4],\n",
       "       [4.9, 3. , 1.4],\n",
       "       [4.7, 3.2, 1.3],\n",
       "       [4.6, 3.1, 1.5],\n",
       "       [5. , 3.6, 1.4]])"
      ]
     },
     "execution_count": 82,
     "metadata": {},
     "output_type": "execute_result"
    }
   ],
   "source": [
    "# ex3. 처음 다섯개 행에서 마지막 열을 제외한 나머지 열을 출력하세요\n",
    "\n",
    "iris_data[:5, :-1]"
   ]
  },
  {
   "cell_type": "code",
   "execution_count": 83,
   "id": "95e3aedf",
   "metadata": {},
   "outputs": [
    {
     "data": {
      "text/plain": [
       "array([0.2, 0.2, 0.2, 0.2, 0.2])"
      ]
     },
     "execution_count": 83,
     "metadata": {},
     "output_type": "execute_result"
    }
   ],
   "source": [
    "# ex4. 처음 다섯개 행에서 마지막 열만 출력하세요\n",
    "\n",
    "iris_data[:5, -1]"
   ]
  },
  {
   "cell_type": "code",
   "execution_count": 94,
   "id": "086992de",
   "metadata": {},
   "outputs": [
    {
     "data": {
      "text/plain": [
       "True"
      ]
     },
     "execution_count": 94,
     "metadata": {},
     "output_type": "execute_result"
    }
   ],
   "source": [
    "# ex5. 3번 배열과 4번 배열을 원래 모양이 되도록 합치세요 실행 결과는 2번의 결과와 같아야 합니다\n",
    "\n",
    "np.hstack((iris_data[:5, :-1], iris_data[:5, -1].reshape(-1, 1)))\n",
    "np.all(iris_data[:5, :] == np.hstack((iris_data[:5, :-1], iris_data[:5, -1].reshape(-1, 1))))"
   ]
  },
  {
   "cell_type": "code",
   "execution_count": 158,
   "id": "d7452f83",
   "metadata": {},
   "outputs": [],
   "source": [
    "a1 = np.c_[iris_data[:5, :-1], iris_data[:5, -1]]\n",
    "a2 = np.column_stack((iris_data[:5, :-1], iris_data[:5, -1]))\n",
    "a3 = np.hstack((iris_data[:5, :-1], iris_data[:5, -1][:, np.newaxis]))\n",
    "a4 = np.hstack((iris_data[:5, :-1], iris_data[:5, -1].reshape(-1, 1)))\n",
    "a5 = np.concatenate((iris_data[:5, :-1], iris_data[:5, -1].reshape(-1, 1)), axis = 1)"
   ]
  },
  {
   "cell_type": "code",
   "execution_count": 159,
   "id": "678e77cd",
   "metadata": {},
   "outputs": [
    {
     "data": {
      "text/plain": [
       "True"
      ]
     },
     "execution_count": 159,
     "metadata": {},
     "output_type": "execute_result"
    }
   ],
   "source": [
    "# 위의 5개 답이 다 같은지 여부\n",
    "\n",
    "answers = (a1, a2, a3, a4, a5)\n",
    "all([np.all(a1 == answer) for answer in answers])"
   ]
  },
  {
   "cell_type": "code",
   "execution_count": 162,
   "id": "aa17edae",
   "metadata": {},
   "outputs": [],
   "source": [
    "# 위의 all을 함수로 만들기\n",
    "\n",
    "def same_all(*answers) :\n",
    "    if len(answers) > 0 :\n",
    "        return all(np.all(answers[0] == answer) for answer in answers)\n",
    "    else :\n",
    "        return False"
   ]
  },
  {
   "cell_type": "code",
   "execution_count": 163,
   "id": "9c4d9a79",
   "metadata": {},
   "outputs": [
    {
     "data": {
      "text/plain": [
       "True"
      ]
     },
     "execution_count": 163,
     "metadata": {},
     "output_type": "execute_result"
    }
   ],
   "source": [
    "same_all(a1, a2, a3, a4, a5)"
   ]
  },
  {
   "cell_type": "code",
   "execution_count": 170,
   "id": "9b031f95",
   "metadata": {},
   "outputs": [
    {
     "data": {
      "text/plain": [
       "array([5.1, 3.5, 4.9, 1.5, 5. , 3.6])"
      ]
     },
     "execution_count": 170,
     "metadata": {},
     "output_type": "execute_result"
    }
   ],
   "source": [
    "# ex6. 처음 다섯개 행을 이용해서 각 열 별로 평균보다 큰 값들만 출력하세요\n",
    "\n",
    "sample = iris_data[:5].copy()\n",
    "mean_ = np.mean(iris_data[:5, :], axis = 0)\n",
    "sample[sample > mean_]"
   ]
  },
  {
   "cell_type": "code",
   "execution_count": 171,
   "id": "c5977331",
   "metadata": {
    "scrolled": true
   },
   "outputs": [
    {
     "data": {
      "text/plain": [
       "array([[5.1, 3.5, None, None],\n",
       "       [4.9, None, None, None],\n",
       "       [None, None, None, None],\n",
       "       [None, None, 1.5, None],\n",
       "       [5.0, 3.6, None, None]], dtype=object)"
      ]
     },
     "execution_count": 171,
     "metadata": {},
     "output_type": "execute_result"
    }
   ],
   "source": [
    "np.where(sample > mean_ , sample, None)"
   ]
  },
  {
   "cell_type": "code",
   "execution_count": 179,
   "id": "77ea6eb2",
   "metadata": {
    "scrolled": false
   },
   "outputs": [
    {
     "data": {
      "text/plain": [
       "array([[5.1, 3.5, nan, nan],\n",
       "       [4.9, nan, nan, nan],\n",
       "       [nan, nan, nan, nan],\n",
       "       [nan, nan, 1.5, nan],\n",
       "       [5. , 3.6, nan, nan]])"
      ]
     },
     "execution_count": 179,
     "metadata": {},
     "output_type": "execute_result"
    }
   ],
   "source": [
    "sample[sample <= mean_] = None  # 결측치(타입 : float)\n",
    "sample"
   ]
  },
  {
   "cell_type": "markdown",
   "id": "60ac4cfb",
   "metadata": {},
   "source": [
    "## 7.2 연습문제 문제풀이형"
   ]
  },
  {
   "cell_type": "code",
   "execution_count": 168,
   "id": "fb016ebc",
   "metadata": {},
   "outputs": [
    {
     "name": "stdout",
     "output_type": "stream",
     "text": [
      "정답 : ③\n"
     ]
    }
   ],
   "source": [
    "# ex1. 다음 보기의 데이터가 있을 경우 print(a.sum(0))의 결과는?\n",
    "'''\n",
    "import numpy as np\n",
    "\n",
    "a = np.arange(12).reshape(3, 4)\n",
    "a\n",
    "\n",
    "① 66\n",
    "② [6 22 38]\n",
    "③ [12 15 18 21]\n",
    "④ 0\n",
    "'''\n",
    "\n",
    "print('정답 : ③')"
   ]
  },
  {
   "cell_type": "code",
   "execution_count": 184,
   "id": "d5574a9c",
   "metadata": {},
   "outputs": [
    {
     "name": "stdout",
     "output_type": "stream",
     "text": [
      "정답 : ③\n"
     ]
    }
   ],
   "source": [
    "# ex2. a데이터가 다음과 같을 때 다음 중 차원을 바꿀 수 있는 방법을 모두 고르세요\n",
    "'''\n",
    "import numpy as np\n",
    "\n",
    "a = np.floor(10 * np.random.random((3, 4)))\n",
    "a, a.shape\n",
    "\n",
    "① a.ravel()\n",
    "② a.reshape(6, 2)\n",
    "③ a.resize((2, 6))\n",
    "④ a.T\n",
    "'''\n",
    "\n",
    "print('정답 : ③')"
   ]
  },
  {
   "cell_type": "code",
   "execution_count": 185,
   "id": "75f2e9e6",
   "metadata": {},
   "outputs": [
    {
     "name": "stdout",
     "output_type": "stream",
     "text": [
      "정답 : ①\n"
     ]
    }
   ],
   "source": [
    "# ex3. 다음 데이터에서 첫번째 행과 두번째 행만 뽑아내고 싶습니다 빈칸에 들어갈 내용으로 옳은 것을 고르세요\n",
    "'''\n",
    "import numpy as np\n",
    "\n",
    "a = np.arange(12).reshape(3, 4)\n",
    "\n",
    "array([[0, 1, 2, 3],\n",
    "       [4, 5, 6, 7]])\n",
    "       \n",
    "① a[:2]\n",
    "② a[:, :2]\n",
    "③ a[1, 2]\n",
    "④ a[1][2]          \n",
    "'''\n",
    "\n",
    "print('정답 : ①')"
   ]
  },
  {
   "cell_type": "code",
   "execution_count": 186,
   "id": "0e8762a9",
   "metadata": {},
   "outputs": [
    {
     "name": "stdout",
     "output_type": "stream",
     "text": [
      "정답 : ③\n"
     ]
    }
   ],
   "source": [
    "# ex4. 다음 코드의 실행 결과는?\n",
    "'''\n",
    "import numpy as np\n",
    "\n",
    "a = np.array([1, 2, 3, 4, 5])\n",
    "a[[1, 3, 4]] = 0\n",
    "a\n",
    "\n",
    "① [0 2 0 0 5]\n",
    "② [1 0 3 0 0]\n",
    "③ [1 2 3 4 5 ]\n",
    "④ 프로그램 오류, a[1, 3, 4] = 0으로 코드를 수정해야 한다          \n",
    "'''\n",
    "\n",
    "print('정답 : ③')"
   ]
  },
  {
   "cell_type": "code",
   "execution_count": 187,
   "id": "6222475a",
   "metadata": {},
   "outputs": [
    {
     "name": "stdout",
     "output_type": "stream",
     "text": [
      "정답 : ②\n"
     ]
    }
   ],
   "source": [
    "# ex5. 다음 두 배열 a, b를 출력의 예시처럼 만들고 싶을 때 빈 칸에 입력해야 할 내용으로 바른 것은?\n",
    "\n",
    "'''\n",
    "import numpy as np\n",
    "\n",
    "a = np.array([1, 2, 3, 4, 5])\n",
    "b = np.array([6, 7, 8, 9, 10])\n",
    "\n",
    "array([[1, 6],\n",
    "       [2, 7],\n",
    "       [3, 8],\n",
    "       [4, 9],\n",
    "       [5, 10]])\n",
    "\n",
    "① np.r_[a, b]\n",
    "② np.c_[a, b]\n",
    "③ np.ix_(a, b)\n",
    "④ [[a], [b]]          \n",
    "'''\n",
    "\n",
    "print('정답 : ②')"
   ]
  },
  {
   "cell_type": "code",
   "execution_count": 194,
   "id": "8c91669b",
   "metadata": {},
   "outputs": [
    {
     "data": {
      "text/plain": [
       "True"
      ]
     },
     "execution_count": 194,
     "metadata": {},
     "output_type": "execute_result"
    }
   ],
   "source": [
    "a = np.array([1,2,3,4,5])\n",
    "b = np.array([6,7,8,9,10])\n",
    "\n",
    "answer1 = np.c_[a,b]\n",
    "answer2 = np.column_stack( [a,b] )\n",
    "answer3 = np.hstack((a[:, np.newaxis], b[:, np.newaxis]))\n",
    "answer4 = np.stack([a,b], axis=1)\n",
    "answer5 = np.stack([a,b], axis=-1)\n",
    "answer6 = np.concatenate( (a.reshape(-1, 1), b.reshape(-1, 1)), axis=1) # 비추\n",
    "\n",
    "answers = [answer1, answer2, answer3, answer4, answer5, answer6]\n",
    "\n",
    "all(np.all(answer == answer1) for answer in answers)\n",
    "same_all(*answers)"
   ]
  }
 ],
 "metadata": {
  "kernelspec": {
   "display_name": "Python 3 (ipykernel)",
   "language": "python",
   "name": "python3"
  },
  "language_info": {
   "codemirror_mode": {
    "name": "ipython",
    "version": 3
   },
   "file_extension": ".py",
   "mimetype": "text/x-python",
   "name": "python",
   "nbconvert_exporter": "python",
   "pygments_lexer": "ipython3",
   "version": "3.10.9"
  },
  "toc": {
   "base_numbering": 1,
   "nav_menu": {},
   "number_sections": false,
   "sideBar": true,
   "skip_h1_title": false,
   "title_cell": "Table of Contents",
   "title_sidebar": "Contents",
   "toc_cell": false,
   "toc_position": {
    "height": "calc(100% - 180px)",
    "left": "10px",
    "top": "150px",
    "width": "207.55px"
   },
   "toc_section_display": true,
   "toc_window_display": true
  }
 },
 "nbformat": 4,
 "nbformat_minor": 5
}
