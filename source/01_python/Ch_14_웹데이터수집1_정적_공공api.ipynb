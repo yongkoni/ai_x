{
 "cells": [
  {
   "cell_type": "code",
   "execution_count": 1,
   "id": "59c68cac",
   "metadata": {
    "ExecuteTime": {
     "end_time": "2025-05-30T00:36:28.021292Z",
     "start_time": "2025-05-30T00:36:28.001620Z"
    }
   },
   "outputs": [
    {
     "data": {
      "text/html": [
       "<style>\n",
       "div.container{width:86% !important;}\n",
       "div.cell.code_cell.rendered{width:100%;}\n",
       "div.CodeMirror {font-family:Consolas; font-size:12pt;}\n",
       "div.output {font-size:12pt; font-weight:bold;}\n",
       "div.input {font-family:Consolas; font-size:12pt;}\n",
       "div.prompt {min-width:70px;}\n",
       "div#toc-wrapper{padding-top:120px;}\n",
       "div.text_cell_render ul li{fontsize:12pt;padding:5px;}\n",
       "table.dataframe{font-size:12px;}))\n",
       "</style>\n"
      ],
      "text/plain": [
       "<IPython.core.display.HTML object>"
      ]
     },
     "metadata": {},
     "output_type": "display_data"
    }
   ],
   "source": [
    "from IPython.display import display, HTML\n",
    "display(HTML(\"\"\"<style>\n",
    "div.container{width:86% !important;}\n",
    "div.cell.code_cell.rendered{width:100%;}\n",
    "div.CodeMirror {font-family:Consolas; font-size:12pt;}\n",
    "div.output {font-size:12pt; font-weight:bold;}\n",
    "div.input {font-family:Consolas; font-size:12pt;}\n",
    "div.prompt {min-width:70px;}\n",
    "div#toc-wrapper{padding-top:120px;}\n",
    "div.text_cell_render ul li{fontsize:12pt;padding:5px;}\n",
    "table.dataframe{font-size:12px;}))\n",
    "</style>\n",
    "\"\"\"))"
   ]
  },
  {
   "cell_type": "markdown",
   "id": "7584ef98",
   "metadata": {},
   "source": [
    "<font size=\"5\" color=\"red\">ch14 웹데이터수집</font>"
   ]
  },
  {
   "cell_type": "markdown",
   "id": "ece9dead",
   "metadata": {},
   "source": [
    "# 1절. BeatifulSoup과 parser\n",
    "\n",
    "- pip install bs4 → 아나콘다를 설치하면 7500여개의 패키지 설치\n",
    "- 공식 사이트 : https://www.crummy.com/software/BeautifulSoup/\n",
    "- Docs : https://www.crummy.com/software/BeautifulSoup/bs4/doc/"
   ]
  },
  {
   "cell_type": "code",
   "execution_count": 2,
   "id": "457018cb",
   "metadata": {
    "ExecuteTime": {
     "end_time": "2025-05-29T06:21:20.510018Z",
     "start_time": "2025-05-29T06:21:20.361091Z"
    }
   },
   "outputs": [],
   "source": [
    "import requests  # HTTP 요청 처리 lib\n",
    "from requests_file import FileAdapter"
   ]
  },
  {
   "cell_type": "code",
   "execution_count": 3,
   "id": "df546154",
   "metadata": {
    "ExecuteTime": {
     "end_time": "2025-05-29T06:21:25.308980Z",
     "start_time": "2025-05-29T06:21:25.270863Z"
    }
   },
   "outputs": [
    {
     "data": {
      "text/plain": [
       "<Response [200]>"
      ]
     },
     "execution_count": 3,
     "metadata": {},
     "output_type": "execute_result"
    }
   ],
   "source": [
    "s = requests.Session()  # HTTP 요청 관리를 위한 \n",
    "s.mount(\"file://\", FileAdapter())\n",
    "response = s.get('file:///ai_x/letNote/01_python/data/ch14_sample.html')\n",
    "response"
   ]
  },
  {
   "cell_type": "code",
   "execution_count": 4,
   "id": "2932e006",
   "metadata": {
    "ExecuteTime": {
     "end_time": "2025-05-29T06:21:26.463078Z",
     "start_time": "2025-05-29T06:21:26.448119Z"
    }
   },
   "outputs": [
    {
     "data": {
      "text/plain": [
       "200"
      ]
     },
     "execution_count": 4,
     "metadata": {},
     "output_type": "execute_result"
    }
   ],
   "source": [
    "response.status_code\n",
    "# 200 : 정상\n",
    "# 404 : 없는 페이지\n",
    "# 406 : get, post 오류"
   ]
  },
  {
   "cell_type": "code",
   "execution_count": 5,
   "id": "1f5d4f2d",
   "metadata": {
    "ExecuteTime": {
     "end_time": "2025-05-29T06:21:27.474007Z",
     "start_time": "2025-05-29T06:21:27.451040Z"
    }
   },
   "outputs": [
    {
     "data": {
      "text/plain": [
       "b'<!DOCTYPE html>\\r\\n<html lang=\"en\">\\r\\n<head>\\r\\n  <meta charset=\"UTF-8\">\\r\\n</head>\\r\\n<body>\\r\\n  <h1 class=\"greeting css\" id=\"text\" title=\"greeting\">Hello, CSS</h1>\\r\\n  <h1 class=\"css\">Hi, CSS</h1>\\r\\n  <div id=\"subject\">subject \\xec\\x84\\xa0\\xed\\x83\\x9d\\xec\\x9e\\x90 \\xec\\x95\\x88\\xec\\x9d\\x98 \\xeb\\x82\\xb4\\xec\\x9a\\xa9</div>\\r\\n  <p>CSS \\xec\\x84\\xa0\\xed\\x83\\x9d\\xec\\x9e\\x90\\xeb\\x8a\\x94 \\xeb\\x8b\\xa4\\xec\\x96\\x91\\xed\\x95\\x9c \\xea\\xb3\\xb3\\xec\\x97\\x90\\xec\\x84\\x9c \\xed\\x99\\x9c\\xec\\x9a\\xa9\\xeb\\x90\\xa9\\xeb\\x8b\\x88\\xeb\\x8b\\xa4</p>\\r\\n  <div class=\"contents\">\\r\\n    \\xec\\x84\\xa0\\xed\\x83\\x9d\\xec\\x9e\\x90\\xeb\\xa5\\xbc \\xec\\x96\\xb4\\xeb\\x96\\xbb\\xea\\xb2\\x8c \\xec\\x9e\\x91\\xec\\x84\\xb1\\xed\\x95\\x98\\xeb\\x8a\\x90\\xeb\\x83\\x90\\xec\\x97\\x90 \\xeb\\x94\\xb0\\xeb\\x9d\\xbc\\r\\n    <span>\\xeb\\x8b\\xa4\\xeb\\xa5\\xb8<b>\\xec\\x9a\\x94\\xec\\x86\\x8c\\xea\\xb0\\x80 \\xeb\\xb0\\x98\\xed\\x99\\x98</b></span>\\xeb\\x90\\xa9\\xeb\\x8b\\x88\\xeb\\x8b\\xa4\\r\\n  </div>\\r\\n  <div>CSS \\xec\\x84\\xa0\\xed\\x83\\x9d\\xec\\x9e\\x90\\xeb\\x8a\\x94 \\xeb\\x8b\\xa4\\xec\\x96\\x91\\xed\\x95\\x9c \\xea\\xb3\\xb3\\xec\\x97\\x90 <b>\\xed\\x99\\x9c\\xec\\x9a\\xa9</b>\\xeb\\x90\\xa9\\xeb\\x8b\\x88\\xeb\\x8b\\xa4</div>\\r\\n</body>\\r\\n</html>'"
      ]
     },
     "execution_count": 5,
     "metadata": {},
     "output_type": "execute_result"
    }
   ],
   "source": [
    "response.content  # 바이너리 형식의 내용"
   ]
  },
  {
   "cell_type": "code",
   "execution_count": 6,
   "id": "1d49a2ad",
   "metadata": {
    "ExecuteTime": {
     "end_time": "2025-05-29T06:21:30.823414Z",
     "start_time": "2025-05-29T06:21:30.809598Z"
    }
   },
   "outputs": [
    {
     "data": {
      "text/plain": [
       "'<!DOCTYPE html>\\r\\n<html lang=\"en\">\\r\\n<head>\\r\\n  <meta charset=\"UTF-8\">\\r\\n</head>\\r\\n<body>\\r\\n  <h1 class=\"greeting css\" id=\"text\" title=\"greeting\">Hello, CSS</h1>\\r\\n  <h1 class=\"css\">Hi, CSS</h1>\\r\\n  <div id=\"subject\">subject 선택자 안의 내용</div>\\r\\n  <p>CSS 선택자는 다양한 곳에서 활용됩니다</p>\\r\\n  <div class=\"contents\">\\r\\n    선택자를 어떻게 작성하느냐에 따라\\r\\n    <span>다른<b>요소가 반환</b></span>됩니다\\r\\n  </div>\\r\\n  <div>CSS 선택자는 다양한 곳에 <b>활용</b>됩니다</div>\\r\\n</body>\\r\\n</html>'"
      ]
     },
     "execution_count": 6,
     "metadata": {},
     "output_type": "execute_result"
    }
   ],
   "source": [
    "response.content.decode('utf-8')"
   ]
  },
  {
   "cell_type": "code",
   "execution_count": 7,
   "id": "6d165bfd",
   "metadata": {
    "ExecuteTime": {
     "end_time": "2025-05-29T06:21:31.431782Z",
     "start_time": "2025-05-29T06:21:31.410107Z"
    }
   },
   "outputs": [
    {
     "data": {
      "text/plain": [
       "'<!DOCTYPE html>\\r\\n<html lang=\"en\">\\r\\n<head>\\r\\n  <meta charset=\"UTF-8\">\\r\\n</head>\\r\\n<body>\\r\\n  <h1 class=\"greeting css\" id=\"text\" title=\"greeting\">Hello, CSS</h1>\\r\\n  <h1 class=\"css\">Hi, CSS</h1>\\r\\n  <div id=\"subject\">subject 선택자 안의 내용</div>\\r\\n  <p>CSS 선택자는 다양한 곳에서 활용됩니다</p>\\r\\n  <div class=\"contents\">\\r\\n    선택자를 어떻게 작성하느냐에 따라\\r\\n    <span>다른<b>요소가 반환</b></span>됩니다\\r\\n  </div>\\r\\n  <div>CSS 선택자는 다양한 곳에 <b>활용</b>됩니다</div>\\r\\n</body>\\r\\n</html>'"
      ]
     },
     "execution_count": 7,
     "metadata": {},
     "output_type": "execute_result"
    }
   ],
   "source": [
    "response.text"
   ]
  },
  {
   "cell_type": "code",
   "execution_count": 8,
   "id": "a3d37a76",
   "metadata": {
    "ExecuteTime": {
     "end_time": "2025-05-29T06:21:32.109194Z",
     "start_time": "2025-05-29T06:21:31.994783Z"
    }
   },
   "outputs": [],
   "source": [
    "# html 파싱\n",
    "\n",
    "from bs4 import BeautifulSoup\n",
    "\n",
    "soup = BeautifulSoup(response.content,  # response.text\n",
    "                    \"html.parser\")\n",
    "# soup"
   ]
  },
  {
   "cell_type": "code",
   "execution_count": 9,
   "id": "1e171724",
   "metadata": {
    "ExecuteTime": {
     "end_time": "2025-05-29T06:21:40.135156Z",
     "start_time": "2025-05-29T06:21:40.115209Z"
    }
   },
   "outputs": [
    {
     "name": "stdout",
     "output_type": "stream",
     "text": [
      "el : <h1 class=\"greeting css\" id=\"text\" title=\"greeting\">Hello, CSS</h1>\n",
      "el.text : Hello, CSS\n",
      "el.string : Hello, CSS\n",
      "el의 속성들 : {'class': ['greeting', 'css'], 'id': 'text', 'title': 'greeting'}\n",
      "el의 title속성 : greeting\n",
      "el의 title속성 : greeting\n",
      "el의 이름 : h1\n"
     ]
    }
   ],
   "source": [
    "# soup.select_one('선택자') : 해당 선택자 처음 하나만\n",
    "el = soup.select_one('h1')  # 처음 나오는 h1태그 하나만\n",
    "print('el :', el)\n",
    "print('el.text :', el.text)\n",
    "print('el.string :', el.string)\n",
    "print('el의 속성들 :', el.attrs)\n",
    "print('el의 title속성 :', el.attrs['title'])\n",
    "print('el의 title속성 :', el.attrs.get('title'))\n",
    "print('el의 이름 :', el.name)"
   ]
  },
  {
   "cell_type": "code",
   "execution_count": 10,
   "id": "bd055030",
   "metadata": {
    "ExecuteTime": {
     "end_time": "2025-05-29T06:21:42.348796Z",
     "start_time": "2025-05-29T06:21:42.321866Z"
    }
   },
   "outputs": [
    {
     "name": "stdout",
     "output_type": "stream",
     "text": [
      "리스트 el : [<h1 class=\"greeting css\" id=\"text\" title=\"greeting\">Hello, CSS</h1>, <h1 class=\"css\">Hi, CSS</h1>]\n",
      "el의 text들 : ['Hello, CSS', 'Hi, CSS']\n",
      "el의 속성들 : [{'class': ['greeting', 'css'], 'id': 'text', 'title': 'greeting'}, {'class': ['css']}]\n",
      "el의 class속성들 : [['greeting', 'css'], ['css']]\n"
     ]
    }
   ],
   "source": [
    "# soup.select('선택자') : 해당 선택자 모든 엘리먼트를 리스트로\n",
    "\n",
    "el = soup.select('h1')\n",
    "print('리스트 el :', el)\n",
    "print('el의 text들 :', [e.text for e in el])\n",
    "# for e in el:\n",
    "#     print(e.text, end=',')\n",
    "print('el의 속성들 :', [e.attrs for e in el])\n",
    "print('el의 class속성들 :', [e.attrs.get('class') for e in el])"
   ]
  },
  {
   "cell_type": "code",
   "execution_count": 11,
   "id": "7ae807be",
   "metadata": {
    "ExecuteTime": {
     "end_time": "2025-05-29T06:21:43.622717Z",
     "start_time": "2025-05-29T06:21:43.594717Z"
    }
   },
   "outputs": [
    {
     "name": "stdout",
     "output_type": "stream",
     "text": [
      "select_one : <h1 class=\"greeting css\" id=\"text\" title=\"greeting\">Hello, CSS</h1>\n",
      "find : <h1 class=\"greeting css\" id=\"text\" title=\"greeting\">Hello, CSS</h1>\n",
      "find : <h1 class=\"greeting css\" id=\"text\" title=\"greeting\">Hello, CSS</h1>\n",
      "\n",
      "select_one : <h1 class=\"greeting css\" id=\"text\" title=\"greeting\">Hello, CSS</h1>\n",
      "find : <h1 class=\"greeting css\" id=\"text\" title=\"greeting\">Hello, CSS</h1>\n",
      "\n",
      "select\n"
     ]
    }
   ],
   "source": [
    "# select_one(선택자)와 find(태그, 속성)\n",
    "\n",
    "print('select_one :', soup.select_one('h1.css'))\n",
    "print('find :', soup.find('h1', {'class':'css'}))\n",
    "print('find :', soup.find('h1', class_ = 'css'))\n",
    "print()\n",
    "print('select_one :', soup.select_one('h1#text'))\n",
    "print('find :', soup.find('h1', {'id':'text'}))\n",
    "print()\n",
    "print('select')"
   ]
  },
  {
   "cell_type": "code",
   "execution_count": 12,
   "id": "71de8404",
   "metadata": {
    "ExecuteTime": {
     "end_time": "2025-05-29T06:21:44.600677Z",
     "start_time": "2025-05-29T06:21:44.586714Z"
    }
   },
   "outputs": [
    {
     "name": "stdout",
     "output_type": "stream",
     "text": [
      "모든 h1.css, span 태그(select) : [<h1 class=\"greeting css\" id=\"text\" title=\"greeting\">Hello, CSS</h1>, <h1 class=\"css\">Hi, CSS</h1>, <span>다른<b>요소가 반환</b></span>]\n",
      "모든 h1.css, span 태그(find_all) : [<h1 class=\"greeting css\" id=\"text\" title=\"greeting\">Hello, CSS</h1>, <h1 class=\"css\">Hi, CSS</h1>]\n"
     ]
    }
   ],
   "source": [
    "# selct(선택)와 find_all(태그, 속성)\n",
    "\n",
    "print('모든 h1.css, span 태그(select) :', soup.select('h1.css, span'))\n",
    "print('모든 h1.css, span 태그(find_all) :', soup.find_all(['h1', 'span'], class_ = 'css'))"
   ]
  },
  {
   "cell_type": "code",
   "execution_count": 13,
   "id": "cee06ef9",
   "metadata": {
    "ExecuteTime": {
     "end_time": "2025-05-29T06:21:45.296806Z",
     "start_time": "2025-05-29T06:21:45.267549Z"
    }
   },
   "outputs": [
    {
     "name": "stdout",
     "output_type": "stream",
     "text": [
      "find_all(빈 list) : []\n",
      "find(None) : None\n",
      "select(빈 list) : []\n",
      "select_one(None) : None\n"
     ]
    }
   ],
   "source": [
    "# 없는 엘리먼트 찾기\n",
    "\n",
    "print('find_all(빈 list) :', soup.find_all('a', class_ = 'css'))\n",
    "print('find(None) :', soup.find('a', class_ = 'css'))\n",
    "print('select(빈 list) :', soup.select('a.css'))\n",
    "print('select_one(None) :', soup.select_one('a.css'))"
   ]
  },
  {
   "cell_type": "markdown",
   "id": "0cc7cf5f",
   "metadata": {},
   "source": [
    "# 2절. 정적 웹 데이터 수집 (정적 웹크롤링)\n",
    "\n",
    "- json, xml, html"
   ]
  },
  {
   "cell_type": "markdown",
   "id": "f70c3dff",
   "metadata": {},
   "source": [
    "## 2.1 JSON 파일\n",
    "\n",
    "- request모듈(get)\n",
    "- urllib.request모듈(urlopen)"
   ]
  },
  {
   "cell_type": "code",
   "execution_count": 14,
   "id": "2d354a65",
   "metadata": {
    "ExecuteTime": {
     "end_time": "2025-05-29T06:21:47.335023Z",
     "start_time": "2025-05-29T06:21:47.326201Z"
    }
   },
   "outputs": [],
   "source": [
    "# 크롤링 허용 범위는 사이트마다 ~/robots.txt에서 확인할 수 있습니다"
   ]
  },
  {
   "cell_type": "code",
   "execution_count": 15,
   "id": "7509b9d8",
   "metadata": {
    "ExecuteTime": {
     "end_time": "2025-05-29T06:21:47.948556Z",
     "start_time": "2025-05-29T06:21:47.875221Z"
    }
   },
   "outputs": [
    {
     "data": {
      "text/plain": [
       "(<Response [200]>, 200)"
      ]
     },
     "execution_count": 15,
     "metadata": {},
     "output_type": "execute_result"
    }
   ],
   "source": [
    "# 방법1\n",
    "\n",
    "import requests\n",
    "\n",
    "response = requests.get('http://api.github.com')\n",
    "response, response.status_code"
   ]
  },
  {
   "cell_type": "code",
   "execution_count": 16,
   "id": "4f68b342",
   "metadata": {
    "ExecuteTime": {
     "end_time": "2025-05-29T06:21:48.545935Z",
     "start_time": "2025-05-29T06:21:48.528633Z"
    }
   },
   "outputs": [],
   "source": [
    "# 방법 2\n",
    "\n",
    "from urllib.request import urlopen\n",
    "\n",
    "# response = urlopen('http://api.github.com')\n",
    "# response"
   ]
  },
  {
   "cell_type": "code",
   "execution_count": 17,
   "id": "116baa4c",
   "metadata": {
    "ExecuteTime": {
     "end_time": "2025-05-29T06:21:49.269793Z",
     "start_time": "2025-05-29T06:21:49.245775Z"
    }
   },
   "outputs": [
    {
     "data": {
      "text/plain": [
       "str"
      ]
     },
     "execution_count": 17,
     "metadata": {},
     "output_type": "execute_result"
    }
   ],
   "source": [
    "text = '{\"속성1\": \"값1\", \"속성2\": \"값2\"}'\n",
    "type(text)"
   ]
  },
  {
   "cell_type": "code",
   "execution_count": 18,
   "id": "2f2e02ec",
   "metadata": {
    "ExecuteTime": {
     "end_time": "2025-05-29T06:21:49.802722Z",
     "start_time": "2025-05-29T06:21:49.782945Z"
    }
   },
   "outputs": [
    {
     "data": {
      "text/plain": [
       "{'속성1': '값1', '속성2': '값2'}"
      ]
     },
     "execution_count": 18,
     "metadata": {},
     "output_type": "execute_result"
    }
   ],
   "source": [
    "# 문자(딕셔너리 타입)를 딕셔너리\n",
    "# '{\"속성1\":\"값1\", \"속성2\":\"값2\"}' → {\"속성1\":\"값1\", \"속성2\":\"값2\"}\n",
    "\n",
    "import json\n",
    "\n",
    "json.loads(text)"
   ]
  },
  {
   "cell_type": "markdown",
   "id": "afd06dea",
   "metadata": {},
   "source": [
    "## 2.2 html 파일"
   ]
  },
  {
   "cell_type": "markdown",
   "id": "60073072",
   "metadata": {},
   "source": [
    "### 1) 환율정보 가져오기 (네이버 → 증권 → 시장지표)\n",
    "\n",
    "- https://finance.naver.com/marketindex/"
   ]
  },
  {
   "cell_type": "code",
   "execution_count": 19,
   "id": "11d10f39",
   "metadata": {
    "ExecuteTime": {
     "end_time": "2025-05-29T06:21:51.432105Z",
     "start_time": "2025-05-29T06:21:51.341634Z"
    }
   },
   "outputs": [],
   "source": [
    "# 방법 1\n",
    "\n",
    "import requests\n",
    "from bs4 import BeautifulSoup\n",
    "\n",
    "url = 'https://finance.naver.com/marketindex/'\n",
    "response = requests.get(url)\n",
    "# response, response.status_code\n",
    "# response.content\n",
    "# response.content.decode('cp949')  # == response.text\n",
    "soup = BeautifulSoup(response.text, 'html.parser')  # response.content"
   ]
  },
  {
   "cell_type": "code",
   "execution_count": 20,
   "id": "40644713",
   "metadata": {
    "ExecuteTime": {
     "end_time": "2025-05-29T06:21:52.352708Z",
     "start_time": "2025-05-29T06:21:51.986149Z"
    }
   },
   "outputs": [],
   "source": [
    "# 방법 2\n",
    "\n",
    "from urllib.request import urlopen\n",
    "\n",
    "response = urlopen(url)\n",
    "# response.status  # 상태코드\n",
    "# response.read().decode('cp949')\n",
    "soup = BeautifulSoup(response.read(), 'html.parser')  # response.read()"
   ]
  },
  {
   "cell_type": "code",
   "execution_count": 21,
   "id": "ce778b05",
   "metadata": {
    "ExecuteTime": {
     "end_time": "2025-05-29T06:21:55.640392Z",
     "start_time": "2025-05-29T06:21:55.606482Z"
    }
   },
   "outputs": [
    {
     "name": "stdout",
     "output_type": "stream",
     "text": [
      "미국 USD\t일본 JPY(100엔)\t유럽연합 EUR\t중국 CNY\t달러/일본 엔\t유로/달러\t영국 파운드/달러\t달러인덱스\tWTI\t휘발유\t국제 금\t국내 금\t"
     ]
    }
   ],
   "source": [
    "title = soup.select('h3.h_lst > span.blind')\n",
    "for t in title :\n",
    "    print(t.text, end = '\\t')"
   ]
  },
  {
   "cell_type": "code",
   "execution_count": 22,
   "id": "5468a241",
   "metadata": {
    "ExecuteTime": {
     "end_time": "2025-05-29T06:21:56.381920Z",
     "start_time": "2025-05-29T06:21:56.355965Z"
    }
   },
   "outputs": [
    {
     "data": {
      "text/plain": [
       "[1380, 946, 1554, 192, 145, 1, 1, 100, 62, 1632, 3322, 145158]"
      ]
     },
     "execution_count": 22,
     "metadata": {},
     "output_type": "execute_result"
    }
   ],
   "source": [
    "price = soup.select('div.head_info > span.value')\n",
    "[p.text for p in price]\n",
    "[round(float(p.text.replace(',',''))) for p in price]\n",
    "[round(float(''.join(p.text.split(',')))) for p in price]"
   ]
  },
  {
   "cell_type": "code",
   "execution_count": 23,
   "id": "7ed67ce7",
   "metadata": {
    "ExecuteTime": {
     "end_time": "2025-05-29T06:21:57.135188Z",
     "start_time": "2025-05-29T06:21:57.126210Z"
    }
   },
   "outputs": [
    {
     "data": {
      "text/plain": [
       "1375"
      ]
     },
     "execution_count": 23,
     "metadata": {},
     "output_type": "execute_result"
    }
   ],
   "source": [
    "out = '1,374.70'\n",
    "round(float(''.join(out.split(','))))"
   ]
  },
  {
   "cell_type": "code",
   "execution_count": 24,
   "id": "44b1292f",
   "metadata": {
    "ExecuteTime": {
     "end_time": "2025-05-29T06:21:57.574890Z",
     "start_time": "2025-05-29T06:21:57.555069Z"
    }
   },
   "outputs": [
    {
     "data": {
      "text/plain": [
       "1375"
      ]
     },
     "execution_count": 24,
     "metadata": {},
     "output_type": "execute_result"
    }
   ],
   "source": [
    "round(float(out.replace(',','')))"
   ]
  },
  {
   "cell_type": "code",
   "execution_count": 25,
   "id": "e66ab874",
   "metadata": {
    "ExecuteTime": {
     "end_time": "2025-05-29T06:21:57.950428Z",
     "start_time": "2025-05-29T06:21:57.927490Z"
    }
   },
   "outputs": [
    {
     "data": {
      "text/plain": [
       "['원', '원', '원', '원', '엔', '달러', '달러', '', '달러', '원', '달러', '원']"
      ]
     },
     "execution_count": 25,
     "metadata": {},
     "output_type": "execute_result"
    }
   ],
   "source": [
    "unit = soup.select('div.head_info > span > span.blind')\n",
    "unit = [u.text for u in unit]\n",
    "unit.insert(7, '') # 7번째 index에 '' 추가\n",
    "unit"
   ]
  },
  {
   "cell_type": "code",
   "execution_count": 26,
   "id": "8186ade7",
   "metadata": {
    "ExecuteTime": {
     "end_time": "2025-05-29T06:21:58.342638Z",
     "start_time": "2025-05-29T06:21:58.309633Z"
    }
   },
   "outputs": [
    {
     "data": {
      "text/plain": [
       "['상승', '하락', '상승', '상승', '상승', '하락', '하락', '상승', '상승', '하락', '하락', '하락']"
      ]
     },
     "execution_count": 26,
     "metadata": {},
     "output_type": "execute_result"
    }
   ],
   "source": [
    "status = soup.select('div.head_info > span.blind')\n",
    "[t.text for t in title]\n",
    "[p.text for p in price]\n",
    "unit\n",
    "[s.string for s in status]"
   ]
  },
  {
   "cell_type": "code",
   "execution_count": 27,
   "id": "f67d0ec5",
   "metadata": {
    "ExecuteTime": {
     "end_time": "2025-05-29T06:21:58.546201Z",
     "start_time": "2025-05-29T06:21:58.527526Z"
    }
   },
   "outputs": [
    {
     "data": {
      "text/plain": [
       "(12, 12, 12, 12)"
      ]
     },
     "execution_count": 27,
     "metadata": {},
     "output_type": "execute_result"
    }
   ],
   "source": [
    "len(title), len(price), len(unit), len(status)"
   ]
  },
  {
   "cell_type": "code",
   "execution_count": 28,
   "id": "18f9c93d",
   "metadata": {
    "ExecuteTime": {
     "end_time": "2025-05-29T06:21:58.747934Z",
     "start_time": "2025-05-29T06:21:58.728748Z"
    }
   },
   "outputs": [
    {
     "name": "stdout",
     "output_type": "stream",
     "text": [
      "미국 USD : 1,380.10원 - 상승\n",
      "일본 JPY(100엔) : 946.15원 - 하락\n",
      "유럽연합 EUR : 1,553.72원 - 상승\n",
      "중국 CNY : 191.78원 - 상승\n",
      "달러/일본 엔 : 144.8600엔 - 상승\n",
      "유로/달러 : 1.1302달러 - 하락\n",
      "영국 파운드/달러 : 1.3470달러 - 하락\n",
      "달러인덱스 : 99.7800 - 상승\n",
      "WTI : 61.84달러 - 상승\n",
      "휘발유 : 1632.41원 - 하락\n",
      "국제 금 : 3322.4달러 - 하락\n",
      "국내 금 : 145158.33원 - 하락\n"
     ]
    }
   ],
   "source": [
    "for idx in range(len(title)):\n",
    "    print(\"{} : {}{} - {}\".format(title[idx].text,\n",
    "                                 price[idx].text,\n",
    "                                 unit[idx],\n",
    "                                 status[idx].text))"
   ]
  },
  {
   "cell_type": "code",
   "execution_count": 29,
   "id": "f39f7881",
   "metadata": {
    "ExecuteTime": {
     "end_time": "2025-05-29T06:21:58.937597Z",
     "start_time": "2025-05-29T06:21:58.924629Z"
    }
   },
   "outputs": [
    {
     "name": "stdout",
     "output_type": "stream",
     "text": [
      "미국 USD : 1,380.10원 - 상승\n",
      "일본 JPY(100엔) : 946.15원 - 하락\n",
      "유럽연합 EUR : 1,553.72원 - 상승\n",
      "중국 CNY : 191.78원 - 상승\n",
      "달러/일본 엔 : 144.8600엔 - 상승\n",
      "유로/달러 : 1.1302달러 - 하락\n",
      "영국 파운드/달러 : 1.3470달러 - 하락\n",
      "달러인덱스 : 99.7800 - 상승\n",
      "WTI : 61.84달러 - 상승\n",
      "휘발유 : 1632.41원 - 하락\n",
      "국제 금 : 3322.4달러 - 하락\n",
      "국내 금 : 145158.33원 - 하락\n"
     ]
    }
   ],
   "source": [
    "for t, p, u, s in zip(title, price, unit, status) :\n",
    "    print(\"{} : {}{} - {}\".format(t.text,\n",
    "                                  p.text,\n",
    "                                  u,\n",
    "                                  s.text))"
   ]
  },
  {
   "cell_type": "code",
   "execution_count": 30,
   "id": "18ef8818",
   "metadata": {
    "ExecuteTime": {
     "end_time": "2025-05-29T06:21:59.533287Z",
     "start_time": "2025-05-29T06:21:59.512879Z"
    }
   },
   "outputs": [
    {
     "name": "stdout",
     "output_type": "stream",
     "text": [
      "1. 미국 USD : 1,380.10원 - 상승\n",
      "2. 일본 JPY(100엔) : 946.15원 - 하락\n",
      "3. 유럽연합 EUR : 1,553.72원 - 상승\n",
      "4. 중국 CNY : 191.78원 - 상승\n",
      "5. 달러/일본 엔 : 144.8600엔 - 상승\n",
      "6. 유로/달러 : 1.1302달러 - 하락\n",
      "7. 영국 파운드/달러 : 1.3470달러 - 하락\n",
      "8. 달러인덱스 : 99.7800 - 상승\n",
      "9. WTI : 61.84달러 - 상승\n",
      "10. 휘발유 : 1632.41원 - 하락\n",
      "11. 국제 금 : 3322.4달러 - 하락\n",
      "12. 국내 금 : 145158.33원 - 하락\n"
     ]
    }
   ],
   "source": [
    "for idx, (t, p, u, s) in enumerate(zip(title, price, unit, status)) :\n",
    "    print(\"{}. {} : {}{} - {}\".format(idx + 1,\n",
    "                                      t.text,\n",
    "                                      p.text,\n",
    "                                      u,\n",
    "                                      s.text))"
   ]
  },
  {
   "cell_type": "markdown",
   "id": "79ed28c9",
   "metadata": {},
   "source": [
    "### 2) 이번주 로또번호 출력\n",
    "\n",
    "- https://dhlottery.co.kr/gameResult.do?method=byWin(google에 \"로또번호 당첨번호 검색)\n",
    "```\n",
    "    1173회(2025년 05월 24일 추첨)\n",
    "    당첨번호 [1 5 18 20 30 35]\n",
    "    보너스 3\n",
    "```"
   ]
  },
  {
   "cell_type": "code",
   "execution_count": 31,
   "id": "03268c59",
   "metadata": {
    "ExecuteTime": {
     "end_time": "2025-05-29T06:22:01.382906Z",
     "start_time": "2025-05-29T06:21:59.978004Z"
    }
   },
   "outputs": [],
   "source": [
    "# 방법 1의 soup 객체 생성\n",
    "\n",
    "import requests\n",
    "from bs4 import BeautifulSoup\n",
    "\n",
    "url = 'https://dhlottery.co.kr/gameResult.do?method=byWin'\n",
    "response = requests.get(url)\n",
    "soup = BeautifulSoup(response.text, 'html.parser')"
   ]
  },
  {
   "cell_type": "code",
   "execution_count": null,
   "id": "ee5b3b70",
   "metadata": {
    "ExecuteTime": {
     "end_time": "2025-05-29T06:22:01.464013Z",
     "start_time": "2025-05-29T06:22:01.464013Z"
    }
   },
   "outputs": [],
   "source": [
    "# 방법 2의 soup 객체 생성\n",
    "\n",
    "from urllib.request import urlopen\n",
    "\n",
    "url = 'https://dhlottery.co.kr/gameResult.do?method=byWin'\n",
    "response = urlopen(url)\n",
    "soup = BeautifulSoup(response, 'html.parser')"
   ]
  },
  {
   "cell_type": "code",
   "execution_count": null,
   "id": "84fda7e5",
   "metadata": {
    "ExecuteTime": {
     "end_time": "2025-05-29T06:22:01.468945Z",
     "start_time": "2025-05-29T06:22:01.468945Z"
    }
   },
   "outputs": [],
   "source": [
    "title = soup.select_one('div.win_result > h4 > strong').text\n",
    "date = soup.select_one('div.win_result > p').text\n",
    "number_text = soup.select_one('div.num.win > strong').text\n",
    "number = soup.select('div.num.win > p > span')\n",
    "bonus_text = soup.select_one('div.num.bonus > strong').string\n",
    "bonus = soup.select_one('div.num.bonus > p > span').text\n",
    "print(title, date)\n",
    "print(number_text, [int(lotto.text) for lotto in number])\n",
    "print(bonus_text, bonus)"
   ]
  },
  {
   "cell_type": "code",
   "execution_count": null,
   "id": "c55be9f6",
   "metadata": {
    "ExecuteTime": {
     "end_time": "2025-05-29T06:22:01.474929Z",
     "start_time": "2025-05-29T06:22:01.474929Z"
    }
   },
   "outputs": [],
   "source": [
    "# 위의 select 함수를 find 함수로\n",
    "\n",
    "win_result = soup.find('div', class_ = 'win_result')\n",
    "title = win_result.find('strong').text\n",
    "date = win_result.find('p').text\n",
    "num_win = soup.find('div', class_ = ['win'])\n",
    "number_text = num_win.find('strong').text\n",
    "number = num_win.find_all('span')\n",
    "num_bonus = soup.find('div', class_ = ['bonus'])\n",
    "bonus_text = num_bonus.find('strong').string\n",
    "bonus = num_bonus.find('span').text\n",
    "print(title, date)\n",
    "print(number_text, [int(lotto.text) for lotto in number])\n",
    "print(bonus_text, bonus)"
   ]
  },
  {
   "cell_type": "markdown",
   "id": "6f717e10",
   "metadata": {},
   "source": [
    "### 3) 다음 검색 리스트\n",
    "```\n",
    "    no title link\n",
    "    0 [비트코인 2025] 백악관 크립토 차르~ https://v.daum.net/v/20250528103907230\n",
    "    1 [비즈 나우] 비트코인 2025 컨퍼런~   https://v.daum.net/v/20250528075215864\n",
    "    ....\n",
    "```"
   ]
  },
  {
   "cell_type": "code",
   "execution_count": 32,
   "id": "a6deac33",
   "metadata": {
    "ExecuteTime": {
     "end_time": "2025-05-29T06:22:02.507265Z",
     "start_time": "2025-05-29T06:22:01.644206Z"
    }
   },
   "outputs": [
    {
     "data": {
      "text/html": [
       "<div>\n",
       "<style scoped>\n",
       "    .dataframe tbody tr th:only-of-type {\n",
       "        vertical-align: middle;\n",
       "    }\n",
       "\n",
       "    .dataframe tbody tr th {\n",
       "        vertical-align: top;\n",
       "    }\n",
       "\n",
       "    .dataframe thead th {\n",
       "        text-align: right;\n",
       "    }\n",
       "</style>\n",
       "<table border=\"1\" class=\"dataframe\">\n",
       "  <thead>\n",
       "    <tr style=\"text-align: right;\">\n",
       "      <th></th>\n",
       "      <th>no</th>\n",
       "      <th>title</th>\n",
       "      <th>link</th>\n",
       "    </tr>\n",
       "  </thead>\n",
       "  <tbody>\n",
       "    <tr>\n",
       "      <th>0</th>\n",
       "      <td>0</td>\n",
       "      <td>美부통령 “크립토는 미 경제 주류”...비트코인은 10.8만弗 횡보 [매일코인]</td>\n",
       "      <td>http://v.daum.net/v/20250529104209004</td>\n",
       "    </tr>\n",
       "    <tr>\n",
       "      <th>1</th>\n",
       "      <td>1</td>\n",
       "      <td>밴스 “가상화폐 탄압 끝났다…비트코인은 이미 美경제 주류”</td>\n",
       "      <td>http://v.daum.net/v/20250529104915396</td>\n",
       "    </tr>\n",
       "    <tr>\n",
       "      <th>2</th>\n",
       "      <td>2</td>\n",
       "      <td>신고가 찍은 비트코인...\"조정 온다\"vs\"매도세 미미\"</td>\n",
       "      <td>http://v.daum.net/v/20250529142306627</td>\n",
       "    </tr>\n",
       "    <tr>\n",
       "      <th>3</th>\n",
       "      <td>3</td>\n",
       "      <td>시서스, 비트코인 금융 플랫폼 ‘메조’ 메인넷 출시</td>\n",
       "      <td>http://v.daum.net/v/20250529143027100</td>\n",
       "    </tr>\n",
       "    <tr>\n",
       "      <th>4</th>\n",
       "      <td>4</td>\n",
       "      <td>[비트코인 2025]라스베이거스 비트코인 행사에 총출동한 트럼트 사단들 “이런 기...</td>\n",
       "      <td>http://v.daum.net/v/20250529143901582</td>\n",
       "    </tr>\n",
       "    <tr>\n",
       "      <th>5</th>\n",
       "      <td>5</td>\n",
       "      <td>미, 연금으로 비트코인 투자 허용...트럼프 일가 혜택 보나</td>\n",
       "      <td>http://v.daum.net/v/20250529044500460</td>\n",
       "    </tr>\n",
       "    <tr>\n",
       "      <th>6</th>\n",
       "      <td>6</td>\n",
       "      <td>[비트코인2025 르포]미국선 물 1병도 비트코인으로 결제…그림에 집까지 산다</td>\n",
       "      <td>http://v.daum.net/v/20250529143300246</td>\n",
       "    </tr>\n",
       "    <tr>\n",
       "      <th>7</th>\n",
       "      <td>7</td>\n",
       "      <td>[비트코인 2025]매경과 손잡은 BTC미디어는 어디…국내 유일 미디어 파트너</td>\n",
       "      <td>http://v.daum.net/v/20250529144201781</td>\n",
       "    </tr>\n",
       "    <tr>\n",
       "      <th>8</th>\n",
       "      <td>8</td>\n",
       "      <td>[하우머니] 비트코인 컨퍼런스 2025…관전 포인트는?</td>\n",
       "      <td>http://v.daum.net/v/20250529101026095</td>\n",
       "    </tr>\n",
       "    <tr>\n",
       "      <th>9</th>\n",
       "      <td>9</td>\n",
       "      <td>[비트코인 2025] 트럼프 두 아들, 전통 금융 작심 비판…“크립토가 투명성 높...</td>\n",
       "      <td>http://v.daum.net/v/20250529102103722</td>\n",
       "    </tr>\n",
       "  </tbody>\n",
       "</table>\n",
       "</div>"
      ],
      "text/plain": [
       "   no                                              title  \\\n",
       "0   0      美부통령 “크립토는 미 경제 주류”...비트코인은 10.8만弗 횡보 [매일코인]    \n",
       "1   1                  밴스 “가상화폐 탄압 끝났다…비트코인은 이미 美경제 주류”    \n",
       "2   2                   신고가 찍은 비트코인...\"조정 온다\"vs\"매도세 미미\"    \n",
       "3   3                      시서스, 비트코인 금융 플랫폼 ‘메조’ 메인넷 출시    \n",
       "4   4   [비트코인 2025]라스베이거스 비트코인 행사에 총출동한 트럼트 사단들 “이런 기...   \n",
       "5   5                 미, 연금으로 비트코인 투자 허용...트럼프 일가 혜택 보나    \n",
       "6   6       [비트코인2025 르포]미국선 물 1병도 비트코인으로 결제…그림에 집까지 산다    \n",
       "7   7       [비트코인 2025]매경과 손잡은 BTC미디어는 어디…국내 유일 미디어 파트너    \n",
       "8   8                    [하우머니] 비트코인 컨퍼런스 2025…관전 포인트는?    \n",
       "9   9   [비트코인 2025] 트럼프 두 아들, 전통 금융 작심 비판…“크립토가 투명성 높...   \n",
       "\n",
       "                                    link  \n",
       "0  http://v.daum.net/v/20250529104209004  \n",
       "1  http://v.daum.net/v/20250529104915396  \n",
       "2  http://v.daum.net/v/20250529142306627  \n",
       "3  http://v.daum.net/v/20250529143027100  \n",
       "4  http://v.daum.net/v/20250529143901582  \n",
       "5  http://v.daum.net/v/20250529044500460  \n",
       "6  http://v.daum.net/v/20250529143300246  \n",
       "7  http://v.daum.net/v/20250529144201781  \n",
       "8  http://v.daum.net/v/20250529101026095  \n",
       "9  http://v.daum.net/v/20250529102103722  "
      ]
     },
     "execution_count": 32,
     "metadata": {},
     "output_type": "execute_result"
    }
   ],
   "source": [
    "# 방법1\n",
    "\n",
    "import requests\n",
    "from bs4 import BeautifulSoup\n",
    "import pandas as pd\n",
    "\n",
    "word = '비트코인'\n",
    "url = 'https://search.daum.net/search?w=news&nil_search=btn&DA=NTB&enc=utf8&cluster=y&cluster_page=1&q=' + word\n",
    "response = requests.get(url)\n",
    "soup = BeautifulSoup(response.text,  # response.content\n",
    "                    \"html.parser\")\n",
    "items_find_list = []  # 검색한 결과를 담을 dict list\n",
    "items_el = soup.select('div.item-title > strong.tit-g.clamp-g > a')\n",
    "# len(items_el)\n",
    "for idx, item in enumerate(items_el):\n",
    "    items_find_list.append({'no': idx,\n",
    "                           'title': item.text,\n",
    "                           'link': item.attrs['href']})\n",
    "\n",
    "pd.DataFrame(items_find_list)"
   ]
  },
  {
   "cell_type": "code",
   "execution_count": 42,
   "id": "58b6c577",
   "metadata": {
    "ExecuteTime": {
     "end_time": "2025-05-29T06:22:23.665521Z",
     "start_time": "2025-05-29T06:22:23.274087Z"
    }
   },
   "outputs": [
    {
     "data": {
      "text/html": [
       "<div>\n",
       "<style scoped>\n",
       "    .dataframe tbody tr th:only-of-type {\n",
       "        vertical-align: middle;\n",
       "    }\n",
       "\n",
       "    .dataframe tbody tr th {\n",
       "        vertical-align: top;\n",
       "    }\n",
       "\n",
       "    .dataframe thead th {\n",
       "        text-align: right;\n",
       "    }\n",
       "</style>\n",
       "<table border=\"1\" class=\"dataframe\">\n",
       "  <thead>\n",
       "    <tr style=\"text-align: right;\">\n",
       "      <th></th>\n",
       "      <th>no</th>\n",
       "      <th>title</th>\n",
       "      <th>link</th>\n",
       "    </tr>\n",
       "  </thead>\n",
       "  <tbody>\n",
       "    <tr>\n",
       "      <th>0</th>\n",
       "      <td>0</td>\n",
       "      <td>美부통령 “크립토는 미 경제 주류”...비트코인은 10.8만弗 횡보 [매일코인]</td>\n",
       "      <td>http://v.daum.net/v/20250529104209004</td>\n",
       "    </tr>\n",
       "    <tr>\n",
       "      <th>1</th>\n",
       "      <td>1</td>\n",
       "      <td>밴스 “가상화폐 탄압 끝났다…비트코인은 이미 美경제 주류”</td>\n",
       "      <td>http://v.daum.net/v/20250529104915396</td>\n",
       "    </tr>\n",
       "    <tr>\n",
       "      <th>2</th>\n",
       "      <td>2</td>\n",
       "      <td>신고가 찍은 비트코인...\"조정 온다\"vs\"매도세 미미\"</td>\n",
       "      <td>http://v.daum.net/v/20250529142306627</td>\n",
       "    </tr>\n",
       "    <tr>\n",
       "      <th>3</th>\n",
       "      <td>3</td>\n",
       "      <td>시서스, 비트코인 금융 플랫폼 ‘메조’ 메인넷 출시</td>\n",
       "      <td>http://v.daum.net/v/20250529143027100</td>\n",
       "    </tr>\n",
       "    <tr>\n",
       "      <th>4</th>\n",
       "      <td>4</td>\n",
       "      <td>[비트코인 2025]라스베이거스 비트코인 행사에 총출동한 트럼트 사단들 “이런 기...</td>\n",
       "      <td>http://v.daum.net/v/20250529143901582</td>\n",
       "    </tr>\n",
       "    <tr>\n",
       "      <th>5</th>\n",
       "      <td>5</td>\n",
       "      <td>미, 연금으로 비트코인 투자 허용...트럼프 일가 혜택 보나</td>\n",
       "      <td>http://v.daum.net/v/20250529044500460</td>\n",
       "    </tr>\n",
       "    <tr>\n",
       "      <th>6</th>\n",
       "      <td>6</td>\n",
       "      <td>[비트코인2025 르포]미국선 물 1병도 비트코인으로 결제…그림에 집까지 산다</td>\n",
       "      <td>http://v.daum.net/v/20250529143300246</td>\n",
       "    </tr>\n",
       "    <tr>\n",
       "      <th>7</th>\n",
       "      <td>7</td>\n",
       "      <td>[비트코인 2025]매경과 손잡은 BTC미디어는 어디…국내 유일 미디어 파트너</td>\n",
       "      <td>http://v.daum.net/v/20250529144201781</td>\n",
       "    </tr>\n",
       "    <tr>\n",
       "      <th>8</th>\n",
       "      <td>8</td>\n",
       "      <td>[하우머니] 비트코인 컨퍼런스 2025…관전 포인트는?</td>\n",
       "      <td>http://v.daum.net/v/20250529101026095</td>\n",
       "    </tr>\n",
       "    <tr>\n",
       "      <th>9</th>\n",
       "      <td>9</td>\n",
       "      <td>[비트코인 2025] 트럼프 두 아들, 전통 금융 작심 비판…“크립토가 투명성 높...</td>\n",
       "      <td>http://v.daum.net/v/20250529102103722</td>\n",
       "    </tr>\n",
       "  </tbody>\n",
       "</table>\n",
       "</div>"
      ],
      "text/plain": [
       "   no                                              title  \\\n",
       "0   0      美부통령 “크립토는 미 경제 주류”...비트코인은 10.8만弗 횡보 [매일코인]    \n",
       "1   1                  밴스 “가상화폐 탄압 끝났다…비트코인은 이미 美경제 주류”    \n",
       "2   2                   신고가 찍은 비트코인...\"조정 온다\"vs\"매도세 미미\"    \n",
       "3   3                      시서스, 비트코인 금융 플랫폼 ‘메조’ 메인넷 출시    \n",
       "4   4   [비트코인 2025]라스베이거스 비트코인 행사에 총출동한 트럼트 사단들 “이런 기...   \n",
       "5   5                 미, 연금으로 비트코인 투자 허용...트럼프 일가 혜택 보나    \n",
       "6   6       [비트코인2025 르포]미국선 물 1병도 비트코인으로 결제…그림에 집까지 산다    \n",
       "7   7       [비트코인 2025]매경과 손잡은 BTC미디어는 어디…국내 유일 미디어 파트너    \n",
       "8   8                    [하우머니] 비트코인 컨퍼런스 2025…관전 포인트는?    \n",
       "9   9   [비트코인 2025] 트럼프 두 아들, 전통 금융 작심 비판…“크립토가 투명성 높...   \n",
       "\n",
       "                                    link  \n",
       "0  http://v.daum.net/v/20250529104209004  \n",
       "1  http://v.daum.net/v/20250529104915396  \n",
       "2  http://v.daum.net/v/20250529142306627  \n",
       "3  http://v.daum.net/v/20250529143027100  \n",
       "4  http://v.daum.net/v/20250529143901582  \n",
       "5  http://v.daum.net/v/20250529044500460  \n",
       "6  http://v.daum.net/v/20250529143300246  \n",
       "7  http://v.daum.net/v/20250529144201781  \n",
       "8  http://v.daum.net/v/20250529101026095  \n",
       "9  http://v.daum.net/v/20250529102103722  "
      ]
     },
     "execution_count": 42,
     "metadata": {},
     "output_type": "execute_result"
    }
   ],
   "source": [
    "import requests\n",
    "from bs4 import BeautifulSoup\n",
    "import pandas as pd\n",
    "\n",
    "word = '비트코인'\n",
    "url = 'https://search.daum.net/search?w=news&nil_search=btn&DA=NTB&enc=utf8&cluster=y&cluster_page=1&q=' + word\n",
    "response = requests.get(url)\n",
    "soup = BeautifulSoup(response.text, # response.content\n",
    "                    \"html.parser\")\n",
    "items_find_list = [] # 검색한 결과를 담을 2차원 리스트\n",
    "items_el = soup.select('div.item-title > strong.tit-g.clamp-g > a')\n",
    "for idx, item in enumerate(items_el):\n",
    "    items_find_list.append([idx, item.text, item.attrs.get('href')])\n",
    "# items_find_list\n",
    "pd.DataFrame(items_find_list, columns=['no', 'title', 'link'])"
   ]
  },
  {
   "cell_type": "code",
   "execution_count": 43,
   "id": "6374ce5a",
   "metadata": {
    "ExecuteTime": {
     "end_time": "2025-05-29T06:22:28.153784Z",
     "start_time": "2025-05-29T06:22:27.730359Z"
    }
   },
   "outputs": [
    {
     "name": "stdout",
     "output_type": "stream",
     "text": [
      "{'no': 10, 'title': ' 스트래티지 따라가다 가랑이 찢어졌다?...게임스톱, 비트코인 매수 발표에 주가 급락 ', 'link': 'http://v.daum.net/v/20250529093901314'}\n",
      "{'no': 11, 'title': ' “美정부, 비트코인 더 구매할 수도”…비트코인 10만7000달러 숨고르기 [투자360] ', 'link': 'http://v.daum.net/v/20250529080540404'}\n",
      "{'no': 12, 'title': \" 트럼프 정부, '퇴직자금으로 비트코인 투자' 길 열었다 \", 'link': 'http://v.daum.net/v/20250529090402533'}\n",
      "{'no': 13, 'title': ' 막 오른 미국 최대 비트코인 행사…시장 영향은 ', 'link': 'http://v.daum.net/v/20250529050024694'}\n",
      "{'no': 14, 'title': ' 코인 폭등, FOMO를 느낀다면 생각해보아야 할 질문들[비트코인 A to Z] ', 'link': 'http://v.daum.net/v/20250529060109947'}\n",
      "{'no': 15, 'title': ' 밴스 “가상 화폐, 이미 美경제 주류… 1억명 비트코인 보유 시대 온다” ', 'link': 'http://v.daum.net/v/20250529041606215'}\n",
      "{'no': 16, 'title': ' 시서스, 비트코인 금융 플랫폼 ‘메조’ 메인넷 출시 ', 'link': 'http://v.daum.net/v/20250529143027100'}\n",
      "{'no': 17, 'title': ' [인터뷰] \\'폴리곤 후계자\\' 마이든 \"한국, 대선 이후 가상자산 친화적 국가 될 것\" ', 'link': 'http://v.daum.net/v/20250529060000752'}\n",
      "{'no': 18, 'title': ' 트럼프 행정부, 근로자 은퇴자금 비트코인 투자억제 지침 폐지···1경원 연금 유입 ‘물꼬’ ', 'link': 'http://v.daum.net/v/20250529083025223'}\n",
      "{'no': 19, 'title': ' 해외 코인·주식 등 5억 넘었다면…해외금융계좌 6월 중 신고하세요 ', 'link': 'http://v.daum.net/v/20250529120029476'}\n"
     ]
    }
   ],
   "source": [
    "# 다음 뉴스 검색 (키워드, 원하는 페이지수)\n",
    "\n",
    "import requests\n",
    "from bs4 import BeautifulSoup\n",
    "import pandas as pd\n",
    "import time\n",
    "\n",
    "keyword = '비트코인'\n",
    "page = 2\n",
    "# url = f'https://search.daum.net/search?w=news&nil_search=btn&DA=PGD&enc=utf8&cluster=y&cluster_page=1&q={keyword}&p={page}'\n",
    "# response = requests.get(url)\n",
    "url = f'https://search.daum.net/search?w=news&nil_search=btn&DA=PGD&enc=utf8&cluster=y'\n",
    "params = {'q':keyword, 'p':page}\n",
    "response = requests.get(url, params = params)\n",
    "soup = BeautifulSoup(response.text,  # response.content\n",
    "                    'html.parser')\n",
    "items_find_list = []  # 검색한 결과를 담을 dict list\n",
    "items_el = soup.select('div.item-title > strong.tit-g.clamp-g > a')\n",
    "# len(items_el)\n",
    "for idx, item in enumerate(items_el):\n",
    "    items_find_list.append({'no': (page - 1) * 10 + idx,\n",
    "                           'title': item.text,\n",
    "                           'link': item.attrs['href']})\n",
    "    print({'no': (page - 1) * 10 + idx,\n",
    "           'title': item.text,\n",
    "           'link': item.attrs['href']})"
   ]
  },
  {
   "cell_type": "code",
   "execution_count": 44,
   "id": "6e97f56c",
   "metadata": {
    "ExecuteTime": {
     "end_time": "2025-05-29T06:22:32.269200Z",
     "start_time": "2025-05-29T06:22:32.257637Z"
    }
   },
   "outputs": [],
   "source": [
    "import requests\n",
    "from bs4 import BeautifulSoup\n",
    "import pandas as pd\n",
    "import time\n",
    "\n",
    "def collect_list(keyword, page = 1) :\n",
    "    'keyword로 다음 검색한 결과(해당 page)를 return'\n",
    "    url = f'https://search.daum.net/search?w=news&nil_search=btn&DA=PGD&enc=utf8&cluster=y'\n",
    "    params = {'q':keyword, 'p':page}\n",
    "    response = requests.get(url, params = params)\n",
    "    soup = BeautifulSoup(response.text,  # response.content\n",
    "                        'html.parser')\n",
    "    items_find_list = []  # 검색한 결과를 담을 dict list\n",
    "    items_el = soup.select('div.item-title > strong.tit-g.clamp-g > a')\n",
    "    for idx, item in enumerate(items_el):\n",
    "        items_find_list.append({'no': (page - 1) * 10 + idx,\n",
    "                               'title': item.text,\n",
    "                               'link': item.attrs['href']})\n",
    "    return items_find_list"
   ]
  },
  {
   "cell_type": "code",
   "execution_count": 45,
   "id": "45b25b29",
   "metadata": {
    "ExecuteTime": {
     "end_time": "2025-05-29T06:22:35.541903Z",
     "start_time": "2025-05-29T06:22:35.121625Z"
    }
   },
   "outputs": [
    {
     "data": {
      "text/plain": [
       "[{'no': 10,\n",
       "  'title': ' 김영록 지사 \"대선 투표 적극 참여\"…출근길 1인 피켓 호소 ',\n",
       "  'link': 'http://v.daum.net/v/20250528113124288'},\n",
       " {'no': 11,\n",
       "  'title': \" 김문수·이준석, 결국 '각자도생'?…대선 투표용지 인쇄 시작 \",\n",
       "  'link': 'http://v.daum.net/v/20250525091202308'},\n",
       " {'no': 12,\n",
       "  'title': \" 공약집 없이 대선 투표 시작… 가열되는 '비방전' 투표율 낮출라 \",\n",
       "  'link': 'http://v.daum.net/v/20250524123705877'},\n",
       " {'no': 13,\n",
       "  'title': ' [속보] 이재명 \"내란사태, 대선 투표 참여로 비로소 이겨낼 수 있어\" ',\n",
       "  'link': 'http://v.daum.net/v/20250529101346299'},\n",
       " {'no': 14,\n",
       "  'title': ' 전남도·시장군수협의회, 대선 투표참여 호소 ',\n",
       "  'link': 'http://v.daum.net/v/20250527181248615'},\n",
       " {'no': 15,\n",
       "  'title': ' 김영록 전남지사 \"대선 투표는 힘이자 희망이며 변화” ',\n",
       "  'link': 'http://v.daum.net/v/20250528211745356'},\n",
       " {'no': 16,\n",
       "  'title': ' [LTE] 21대 대선 사전투표 시작..한동훈·권영국 광주·전남서 투표 ',\n",
       "  'link': 'http://v.daum.net/v/20250529113810424'},\n",
       " {'no': 17,\n",
       "  'title': \" [6·3 대선] '사전투표 시작' 20대 투표율 경신?…'부정선거' 논란 변수 \",\n",
       "  'link': 'http://v.daum.net/v/20250529000018757'},\n",
       " {'no': 18,\n",
       "  'title': ' [르포] 대선 사전투표 역대급 ‘흥행’…부정선거 음모론 머쓱 [세상&] ',\n",
       "  'link': 'http://v.daum.net/v/20250529104533204'},\n",
       " {'no': 19,\n",
       "  'title': \" [6·3 대선] 사전투표 첫날 열기 '후끈'…오전 투표율 8.7% \",\n",
       "  'link': 'http://v.daum.net/v/20250529131041484'}]"
      ]
     },
     "execution_count": 45,
     "metadata": {},
     "output_type": "execute_result"
    }
   ],
   "source": [
    "collect_list('대선투표', 2)"
   ]
  },
  {
   "cell_type": "code",
   "execution_count": 46,
   "id": "5e371ebd",
   "metadata": {
    "ExecuteTime": {
     "end_time": "2025-05-29T06:22:44.300100Z",
     "start_time": "2025-05-29T06:22:37.671035Z"
    }
   },
   "outputs": [
    {
     "data": {
      "text/html": [
       "<div>\n",
       "<style scoped>\n",
       "    .dataframe tbody tr th:only-of-type {\n",
       "        vertical-align: middle;\n",
       "    }\n",
       "\n",
       "    .dataframe tbody tr th {\n",
       "        vertical-align: top;\n",
       "    }\n",
       "\n",
       "    .dataframe thead th {\n",
       "        text-align: right;\n",
       "    }\n",
       "</style>\n",
       "<table border=\"1\" class=\"dataframe\">\n",
       "  <thead>\n",
       "    <tr style=\"text-align: right;\">\n",
       "      <th></th>\n",
       "      <th>no</th>\n",
       "      <th>title</th>\n",
       "      <th>link</th>\n",
       "    </tr>\n",
       "  </thead>\n",
       "  <tbody>\n",
       "    <tr>\n",
       "      <th>0</th>\n",
       "      <td>0</td>\n",
       "      <td>“추앙받을 만 하네”… 김지원, 셔츠에 청바지만 입어도 공항 ‘정지’</td>\n",
       "      <td>http://v.daum.net/v/20250526182411395</td>\n",
       "    </tr>\n",
       "    <tr>\n",
       "      <th>1</th>\n",
       "      <td>1</td>\n",
       "      <td>이민정, 매장 빌려 폭풍 쇼핑 \"10년 전 샀던 청바지는 응급실\"(MJ)</td>\n",
       "      <td>http://v.daum.net/v/20250527191015309</td>\n",
       "    </tr>\n",
       "    <tr>\n",
       "      <th>2</th>\n",
       "      <td>2</td>\n",
       "      <td>흰 티셔츠에 청바지 정석대로 입는 법</td>\n",
       "      <td>http://v.daum.net/v/20250527185425864</td>\n",
       "    </tr>\n",
       "    <tr>\n",
       "      <th>3</th>\n",
       "      <td>3</td>\n",
       "      <td>이민정, 매장 통째로 빌려 청바지 쇼핑…♥이병헌도 놀랄 핏</td>\n",
       "      <td>http://v.daum.net/v/20250527185535885</td>\n",
       "    </tr>\n",
       "    <tr>\n",
       "      <th>4</th>\n",
       "      <td>4</td>\n",
       "      <td>'의사 그만둔' 고윤정, 흰 티+청바지...\"정석 미녀\" [★해시태그]</td>\n",
       "      <td>http://v.daum.net/v/20250522182007490</td>\n",
       "    </tr>\n",
       "  </tbody>\n",
       "</table>\n",
       "</div>"
      ],
      "text/plain": [
       "   no                                       title  \\\n",
       "0   0     “추앙받을 만 하네”… 김지원, 셔츠에 청바지만 입어도 공항 ‘정지’    \n",
       "1   1   이민정, 매장 빌려 폭풍 쇼핑 \"10년 전 샀던 청바지는 응급실\"(MJ)    \n",
       "2   2                       흰 티셔츠에 청바지 정석대로 입는 법    \n",
       "3   3           이민정, 매장 통째로 빌려 청바지 쇼핑…♥이병헌도 놀랄 핏    \n",
       "4   4    '의사 그만둔' 고윤정, 흰 티+청바지...\"정석 미녀\" [★해시태그]    \n",
       "\n",
       "                                    link  \n",
       "0  http://v.daum.net/v/20250526182411395  \n",
       "1  http://v.daum.net/v/20250527191015309  \n",
       "2  http://v.daum.net/v/20250527185425864  \n",
       "3  http://v.daum.net/v/20250527185535885  \n",
       "4  http://v.daum.net/v/20250522182007490  "
      ]
     },
     "execution_count": 46,
     "metadata": {},
     "output_type": "execute_result"
    }
   ],
   "source": [
    "# 원하는 keyword로 다음 검색\n",
    "\n",
    "result = []\n",
    "keyword = '청바지'\n",
    "pages = 4\n",
    "for page in range(1, page + 1) :\n",
    "    result.extend(collect_list(keyword, page))\n",
    "    time.sleep(3)\n",
    "result_df = pd.DataFrame(result)\n",
    "result_df.head()"
   ]
  },
  {
   "cell_type": "code",
   "execution_count": 47,
   "id": "79fa546b",
   "metadata": {
    "ExecuteTime": {
     "end_time": "2025-05-29T06:23:23.156831Z",
     "start_time": "2025-05-29T06:22:49.695398Z"
    }
   },
   "outputs": [
    {
     "name": "stdout",
     "output_type": "stream",
     "text": [
      "~ ~ ~ 0번째 청바지를 1.page에서 검색중입니다 ~ ~ ~\n",
      "~ ~ ~ 0번째 청바지를 2.page에서 검색중입니다 ~ ~ ~\n",
      "~ ~ ~ 0번째 청바지를 3.page에서 검색중입니다 ~ ~ ~\n",
      "~ ~ ~ 0번째 청바지를 4.page에서 검색중입니다 ~ ~ ~\n",
      "~ ~ ~ 0번째 청바지를 5.page에서 검색중입니다 ~ ~ ~\n",
      "~ ~ ~ 1번째 면바지를 1.page에서 검색중입니다 ~ ~ ~\n",
      "~ ~ ~ 1번째 면바지를 2.page에서 검색중입니다 ~ ~ ~\n",
      "~ ~ ~ 1번째 면바지를 3.page에서 검색중입니다 ~ ~ ~\n",
      "~ ~ ~ 1번째 면바지를 4.page에서 검색중입니다 ~ ~ ~\n",
      "~ ~ ~ 1번째 면바지를 5.page에서 검색중입니다 ~ ~ ~\n"
     ]
    }
   ],
   "source": [
    "keywords = ['청바지', '면바지']\n",
    "pages = 5\n",
    "result0 = []  # 청바지 검색결과 50개\n",
    "result1 = []  # 면바지 검색결과 50개\n",
    "for i, keyword in enumerate(keywords) :\n",
    "    for page in range(1, pages + 1) :\n",
    "        print(f'~ ~ ~ {i}번째 {keyword}를 {page}.page에서 검색중입니다 ~ ~ ~')\n",
    "        if i == 0 :\n",
    "            result0.extend(collect_list(keyword, page))\n",
    "        else :\n",
    "            result1.extend(collect_list(keyword, page))\n",
    "        time.sleep(3)"
   ]
  },
  {
   "cell_type": "code",
   "execution_count": 48,
   "id": "6e8455e7",
   "metadata": {
    "ExecuteTime": {
     "end_time": "2025-05-29T06:24:23.989385Z",
     "start_time": "2025-05-29T06:24:23.967409Z"
    },
    "scrolled": true
   },
   "outputs": [
    {
     "data": {
      "text/html": [
       "<div>\n",
       "<style scoped>\n",
       "    .dataframe tbody tr th:only-of-type {\n",
       "        vertical-align: middle;\n",
       "    }\n",
       "\n",
       "    .dataframe tbody tr th {\n",
       "        vertical-align: top;\n",
       "    }\n",
       "\n",
       "    .dataframe thead th {\n",
       "        text-align: right;\n",
       "    }\n",
       "</style>\n",
       "<table border=\"1\" class=\"dataframe\">\n",
       "  <thead>\n",
       "    <tr style=\"text-align: right;\">\n",
       "      <th></th>\n",
       "      <th>no</th>\n",
       "      <th>title</th>\n",
       "      <th>link</th>\n",
       "    </tr>\n",
       "  </thead>\n",
       "  <tbody>\n",
       "    <tr>\n",
       "      <th>0</th>\n",
       "      <td>0</td>\n",
       "      <td>“추앙받을 만 하네”… 김지원, 셔츠에 청바지만 입어도 공항 ‘정지’</td>\n",
       "      <td>http://v.daum.net/v/20250526182411395</td>\n",
       "    </tr>\n",
       "    <tr>\n",
       "      <th>1</th>\n",
       "      <td>1</td>\n",
       "      <td>이민정, 매장 빌려 폭풍 쇼핑 \"10년 전 샀던 청바지는 응급실\"(MJ)</td>\n",
       "      <td>http://v.daum.net/v/20250527191015309</td>\n",
       "    </tr>\n",
       "    <tr>\n",
       "      <th>2</th>\n",
       "      <td>2</td>\n",
       "      <td>흰 티셔츠에 청바지 정석대로 입는 법</td>\n",
       "      <td>http://v.daum.net/v/20250527185425864</td>\n",
       "    </tr>\n",
       "    <tr>\n",
       "      <th>3</th>\n",
       "      <td>3</td>\n",
       "      <td>이민정, 매장 통째로 빌려 청바지 쇼핑…♥이병헌도 놀랄 핏</td>\n",
       "      <td>http://v.daum.net/v/20250527185535885</td>\n",
       "    </tr>\n",
       "    <tr>\n",
       "      <th>4</th>\n",
       "      <td>4</td>\n",
       "      <td>'의사 그만둔' 고윤정, 흰 티+청바지...\"정석 미녀\" [★해시태그]</td>\n",
       "      <td>http://v.daum.net/v/20250522182007490</td>\n",
       "    </tr>\n",
       "  </tbody>\n",
       "</table>\n",
       "</div>"
      ],
      "text/plain": [
       "   no                                       title  \\\n",
       "0   0     “추앙받을 만 하네”… 김지원, 셔츠에 청바지만 입어도 공항 ‘정지’    \n",
       "1   1   이민정, 매장 빌려 폭풍 쇼핑 \"10년 전 샀던 청바지는 응급실\"(MJ)    \n",
       "2   2                       흰 티셔츠에 청바지 정석대로 입는 법    \n",
       "3   3           이민정, 매장 통째로 빌려 청바지 쇼핑…♥이병헌도 놀랄 핏    \n",
       "4   4    '의사 그만둔' 고윤정, 흰 티+청바지...\"정석 미녀\" [★해시태그]    \n",
       "\n",
       "                                    link  \n",
       "0  http://v.daum.net/v/20250526182411395  \n",
       "1  http://v.daum.net/v/20250527191015309  \n",
       "2  http://v.daum.net/v/20250527185425864  \n",
       "3  http://v.daum.net/v/20250527185535885  \n",
       "4  http://v.daum.net/v/20250522182007490  "
      ]
     },
     "execution_count": 48,
     "metadata": {},
     "output_type": "execute_result"
    }
   ],
   "source": [
    "result0_df = pd.DataFrame(result0)\n",
    "result0_df.head()"
   ]
  },
  {
   "cell_type": "code",
   "execution_count": 49,
   "id": "9dd5cb47",
   "metadata": {
    "ExecuteTime": {
     "end_time": "2025-05-29T06:24:25.047031Z",
     "start_time": "2025-05-29T06:24:25.029528Z"
    }
   },
   "outputs": [
    {
     "data": {
      "text/html": [
       "<div>\n",
       "<style scoped>\n",
       "    .dataframe tbody tr th:only-of-type {\n",
       "        vertical-align: middle;\n",
       "    }\n",
       "\n",
       "    .dataframe tbody tr th {\n",
       "        vertical-align: top;\n",
       "    }\n",
       "\n",
       "    .dataframe thead th {\n",
       "        text-align: right;\n",
       "    }\n",
       "</style>\n",
       "<table border=\"1\" class=\"dataframe\">\n",
       "  <thead>\n",
       "    <tr style=\"text-align: right;\">\n",
       "      <th></th>\n",
       "      <th>no</th>\n",
       "      <th>title</th>\n",
       "      <th>link</th>\n",
       "    </tr>\n",
       "  </thead>\n",
       "  <tbody>\n",
       "    <tr>\n",
       "      <th>0</th>\n",
       "      <td>0</td>\n",
       "      <td>사천에서 쾌청한 날씨 속 탁 트인 남해 풍경 즐겨요!</td>\n",
       "      <td>http://v.daum.net/v/20250528104429529</td>\n",
       "    </tr>\n",
       "    <tr>\n",
       "      <th>1</th>\n",
       "      <td>1</td>\n",
       "      <td>윤승아, ♥김무열 쏙 빼닮은 깜찍 子 하객룩 공개‥벌써 우월한 유전자</td>\n",
       "      <td>http://v.daum.net/v/20250526145941690</td>\n",
       "    </tr>\n",
       "    <tr>\n",
       "      <th>2</th>\n",
       "      <td>2</td>\n",
       "      <td>\"나는 젊어\" 팔소매 접은 이준석의 '흰셔츠' 속에도 뼈가 담겼다[21대 대선 리...</td>\n",
       "      <td>http://v.daum.net/v/20250525070013619</td>\n",
       "    </tr>\n",
       "    <tr>\n",
       "      <th>3</th>\n",
       "      <td>3</td>\n",
       "      <td>이재명, 첫 대학 방문…이준석 겨냥?</td>\n",
       "      <td>http://v.daum.net/v/20250526191942751</td>\n",
       "    </tr>\n",
       "    <tr>\n",
       "      <th>4</th>\n",
       "      <td>4</td>\n",
       "      <td>이번 주 포천 여행,반팔 하나로 충분할까?</td>\n",
       "      <td>http://v.daum.net/v/20250527171732518</td>\n",
       "    </tr>\n",
       "  </tbody>\n",
       "</table>\n",
       "</div>"
      ],
      "text/plain": [
       "   no                                              title  \\\n",
       "0   0                     사천에서 쾌청한 날씨 속 탁 트인 남해 풍경 즐겨요!    \n",
       "1   1            윤승아, ♥김무열 쏙 빼닮은 깜찍 子 하객룩 공개‥벌써 우월한 유전자    \n",
       "2   2   \"나는 젊어\" 팔소매 접은 이준석의 '흰셔츠' 속에도 뼈가 담겼다[21대 대선 리...   \n",
       "3   3                              이재명, 첫 대학 방문…이준석 겨냥?    \n",
       "4   4                           이번 주 포천 여행,반팔 하나로 충분할까?    \n",
       "\n",
       "                                    link  \n",
       "0  http://v.daum.net/v/20250528104429529  \n",
       "1  http://v.daum.net/v/20250526145941690  \n",
       "2  http://v.daum.net/v/20250525070013619  \n",
       "3  http://v.daum.net/v/20250526191942751  \n",
       "4  http://v.daum.net/v/20250527171732518  "
      ]
     },
     "execution_count": 49,
     "metadata": {},
     "output_type": "execute_result"
    }
   ],
   "source": [
    "result1_df = pd.DataFrame(result1)\n",
    "result1_df.head()"
   ]
  },
  {
   "cell_type": "code",
   "execution_count": 50,
   "id": "55848ff4",
   "metadata": {
    "ExecuteTime": {
     "end_time": "2025-05-29T06:24:27.342959Z",
     "start_time": "2025-05-29T06:24:27.318425Z"
    }
   },
   "outputs": [],
   "source": [
    "result0_df.to_csv('data/ch14_' + keywords[0] + '.csv', index = False, encoding = 'cp949')\n",
    "result0_df.to_csv('data/ch14_' + keywords[1] + '.csv', index = False)"
   ]
  },
  {
   "cell_type": "markdown",
   "id": "db15c3ea",
   "metadata": {},
   "source": [
    "### 4) User-agent를 추가하여 크롤링\n",
    "\n",
    "- urlopen()함수를 사용하면 크롤링이 안 되는 사이트\n",
    "- User-agent를 추가하여 크롤링"
   ]
  },
  {
   "cell_type": "code",
   "execution_count": 51,
   "id": "58524901",
   "metadata": {
    "ExecuteTime": {
     "end_time": "2025-05-29T06:24:30.864511Z",
     "start_time": "2025-05-29T06:24:30.097442Z"
    }
   },
   "outputs": [
    {
     "data": {
      "text/plain": [
       "[{'no': 0,\n",
       "  'title': ' “추앙받을 만 하네”… 김지원, 셔츠에 청바지만 입어도 공항 ‘정지’ ',\n",
       "  'link': 'http://v.daum.net/v/20250526182411395'},\n",
       " {'no': 1,\n",
       "  'title': ' 이민정, 매장 빌려 폭풍 쇼핑 \"10년 전 샀던 청바지는 응급실\"(MJ) ',\n",
       "  'link': 'http://v.daum.net/v/20250527191015309'},\n",
       " {'no': 2,\n",
       "  'title': ' 흰 티셔츠에 청바지 정석대로 입는 법 ',\n",
       "  'link': 'http://v.daum.net/v/20250527185425864'},\n",
       " {'no': 3,\n",
       "  'title': ' 이민정, 매장 통째로 빌려 청바지 쇼핑…♥이병헌도 놀랄 핏 ',\n",
       "  'link': 'http://v.daum.net/v/20250527185535885'},\n",
       " {'no': 4,\n",
       "  'title': ' \\'의사 그만둔\\' 고윤정, 흰 티+청바지...\"정석 미녀\" [★해시태그] ',\n",
       "  'link': 'http://v.daum.net/v/20250522182007490'},\n",
       " {'no': 5,\n",
       "  'title': ' 이시영처럼 다리 길어보이고 싶어서 청바지 분석함 [입스타그램] ',\n",
       "  'link': 'http://v.daum.net/v/20250519172231644'},\n",
       " {'no': 6,\n",
       "  'title': ' \"청렴이 최고\" … 창원특례시 성산구 문화위생과, \\'청바지 데이\\' 추진 ',\n",
       "  'link': 'http://v.daum.net/v/20250511091428626'},\n",
       " {'no': 7,\n",
       "  'title': ' 패셔니스타 김지원, 청바지가 어울리는 여자랍니다! [포토] ',\n",
       "  'link': 'http://v.daum.net/v/20250518220139191'},\n",
       " {'no': 8,\n",
       "  'title': ' 박병은 \"류준하로 3개월 활동\"…청바지 모델 시절 언급 ',\n",
       "  'link': 'http://v.daum.net/v/20250519190323957'},\n",
       " {'no': 9,\n",
       "  'title': ' 60대인데요, 청바지를 다시 입었습니다 ',\n",
       "  'link': 'http://v.daum.net/v/20250430145405823'}]"
      ]
     },
     "execution_count": 51,
     "metadata": {},
     "output_type": "execute_result"
    }
   ],
   "source": [
    "# 방법2\n",
    "\n",
    "from urllib.request import urlopen, Request\n",
    "import urllib.parse\n",
    "import pandas as pd\n",
    "\n",
    "word = '비트코인'\n",
    "word = urllib.parse.quote(word)\n",
    "url = 'https://search.daum.net/search?w=news&nil_search=btn&DA=NTB&enc=utf8&cluster=y&cluster_page=1&q=' + word\n",
    "# User-agent를 추가하여 브라우저처럼 보이게 포장\n",
    "headers = {'user-agent':\n",
    "           'Mozilla/5.0 (Windows NT 10.0; Win64; x64) AppleWebKit/537.36 (KHTML, like Gecko) Chrome/136.0.0.0 Safari/537.36'}\n",
    "request = Request(url, headers = headers)\n",
    "response = urlopen(request)\n",
    "soup = BeautifulSoup(response,  # response.content\n",
    "                    \"html.parser\")\n",
    "\n",
    "def collect_list(keyword, page = 1) :\n",
    "    'keyword로 다음 검색한 결과(해당 page)를 return'\n",
    "    url = f'https://search.daum.net/search?w=news&nil_search=btn&DA=PGD&enc=utf8&cluster=y'\n",
    "    params = {'q':keyword, 'p':page}\n",
    "    response = requests.get(url, params = params)\n",
    "    soup = BeautifulSoup(response.text,  # response.content\n",
    "                    'html.parser')\n",
    "    items_find_list = [] # 검색한 결과를 담을 dict list\n",
    "    items_el = soup.select('div.item-title > strong.tit-g.clamp-g > a')\n",
    "    for idx, item in enumerate(items_el):\n",
    "        items_find_list.append({'no': (page - 1) * 10 + idx,\n",
    "                           'title': item.text,\n",
    "                           'link': item.attrs['href']})\n",
    "    return items_find_list\n",
    "collect_list(\"청바지\", 1)"
   ]
  },
  {
   "cell_type": "markdown",
   "id": "4e7f4562",
   "metadata": {},
   "source": [
    "- 꼭 User-Agent를 사용하여야 하는 경우 : https://www.melon.com/chart/"
   ]
  },
  {
   "cell_type": "code",
   "execution_count": 52,
   "id": "93dd9036",
   "metadata": {
    "ExecuteTime": {
     "end_time": "2025-05-29T06:24:33.492319Z",
     "start_time": "2025-05-29T06:24:33.420861Z"
    }
   },
   "outputs": [
    {
     "data": {
      "text/plain": [
       "406"
      ]
     },
     "execution_count": 52,
     "metadata": {},
     "output_type": "execute_result"
    }
   ],
   "source": [
    "# 방법 1\n",
    "\n",
    "import requests\n",
    "from bs4 import BeautifulSoup\n",
    "import pandas as pd\n",
    "\n",
    "url = 'https://www.melon.com/chart/'\n",
    "melonpage = requests.get(url)\n",
    "melonpage.status_code"
   ]
  },
  {
   "cell_type": "code",
   "execution_count": 53,
   "id": "abef9726",
   "metadata": {
    "ExecuteTime": {
     "end_time": "2025-05-29T06:24:34.465296Z",
     "start_time": "2025-05-29T06:24:34.449249Z"
    }
   },
   "outputs": [],
   "source": [
    "# 방법 2\n",
    "\n",
    "from urllib.request import urlopen, Request\n",
    "# melonpage = urlopen(url)  # 에러남"
   ]
  },
  {
   "cell_type": "code",
   "execution_count": 54,
   "id": "27461fa4",
   "metadata": {
    "ExecuteTime": {
     "end_time": "2025-05-29T06:24:38.366886Z",
     "start_time": "2025-05-29T06:24:37.731131Z"
    }
   },
   "outputs": [],
   "source": [
    "# User-Agent 추가\n",
    "\n",
    "headers = {'user-agent':\n",
    "          'Mozilla/5.0 (Windows NT 10.0; Win64; x64) AppleWebKit/537.36 (KHTML, like Gecko) Chrome/136.0.0.0 Safari/537.36'}\n",
    "\n",
    "# 방법 2\n",
    "request = Request(url, headers = headers)\n",
    "melonpage = urlopen(request)\n",
    "\n",
    "# 방법 1\n",
    "melonpage = requests.get(url, headers = headers)\n",
    "soup = BeautifulSoup(melonpage.text,  # melonpage.content\n",
    "                    \"html.parser\")"
   ]
  },
  {
   "cell_type": "code",
   "execution_count": 55,
   "id": "972f4055",
   "metadata": {
    "ExecuteTime": {
     "end_time": "2025-05-29T06:24:40.379151Z",
     "start_time": "2025-05-29T06:24:40.243514Z"
    }
   },
   "outputs": [
    {
     "name": "stdout",
     "output_type": "stream",
     "text": [
      "1위 | Never Ending Story | 아이유\n",
      "2위 | 너에게 닿기를 | 10CM\n",
      "3위 | Drowning | WOODZ\n",
      "4위 | like JENNIE | 제니 (JENNIE)\n",
      "5위 | 모르시나요(PROD.로코베리) | 조째즈\n",
      "6위 | THUNDER | 세븐틴 (SEVENTEEN)\n",
      "7위 | TOO BAD (feat. Anderson .Paak) | G-DRAGON\n",
      "8위 | 네모의 꿈 | 아이유\n",
      "9위 | Whiplash | aespa\n",
      "10위 | 나는 반딧불 | 황가람\n",
      "11위 | HOME SWEET HOME (feat. 태양, 대성) | G-DRAGON\n",
      "12위 | 어제보다 슬픈 오늘 | 우디 (Woody)\n",
      "13위 | 오늘만 I LOVE YOU | BOYNEXTDOOR\n",
      "14위 | REBEL HEART | IVE (아이브)\n",
      "15위 | HAPPY | DAY6 (데이식스)\n",
      "16위 | Flower | 오반(OVAN)\n",
      "17위 | APT. | 로제 (ROSÉ), Bruno Mars\n",
      "18위 | 청춘만화 | 이무진\n",
      "19위 | HOT | LE SSERAFIM (르세라핌)\n",
      "20위 | 한 페이지가 될 수 있게 | DAY6 (데이식스)\n",
      "21위 | MY LOVE(2025) | 이예은, 아샤트리, 전건호\n",
      "22위 | 빨간 운동화 | 아이유\n",
      "23위 | 내게 사랑이 뭐냐고 물어본다면 | 로이킴\n",
      "24위 | Welcome to the Show | DAY6 (데이식스)\n",
      "25위 | HBD | 세븐틴 (SEVENTEEN)\n",
      "26위 | 소나기 | 이클립스 (ECLIPSE)\n",
      "27위 | 천상연 | 이창섭\n",
      "28위 | Die With A Smile | Lady Gaga, Bruno Mars\n",
      "29위 | 그날이 오면 | 투모로우바이투게더\n",
      "30위 | 예뻤어 | DAY6 (데이식스)\n",
      "31위 | Supernova | aespa\n",
      "32위 | Fly Up | RIIZE\n",
      "33위 | toxic till the end | 로제 (ROSÉ)\n",
      "34위 | Skyfall (THE 8 Solo) | 세븐틴 (SEVENTEEN)\n",
      "35위 | HANDS UP | MEOVV (미야오)\n",
      "36위 | 10월 4일 | 아이유\n",
      "37위 | ATTITUDE | IVE (아이브)\n",
      "38위 | Last Scene (Feat. 원슈타인) | 아이유\n",
      "39위 | 미치게 그리워서 | 황가람\n",
      "40위 | I DO ME | KiiiKiii (키키)\n",
      "41위 | 어떻게 이별까지 사랑하겠어, 널 사랑하는 거지 | AKMU (악뮤)\n",
      "42위 | Love wins all | 아이유\n",
      "43위 | PO￦ER | G-DRAGON\n",
      "44위 | 사랑은 늘 도망가 | 임영웅\n",
      "45위 | DRIP | BABYMONSTER\n",
      "46위 | 청혼하지 않을 이유를 못 찾았어 | 이무진\n",
      "47위 | 내 이름 맑음 | QWER\n",
      "48위 | 그대만 있다면 (여름날 우리 X 너드커넥션 (Nerd Connection)) | 너드커넥션 (Nerd Connection)\n",
      "49위 | 첫 만남은 계획대로 되지 않아 | TWS (투어스)\n",
      "50위 | 슬픈 초대장 | 순순희(지환)\n",
      "51위 | 주저하는 연인들을 위해 | 잔나비\n",
      "52위 | 고민중독 | QWER\n",
      "53위 | 나는 아픈 건 딱 질색이니까 | i-dle (아이들)\n",
      "54위 | UP (KARINA Solo) | aespa\n",
      "55위 | 99.9% (WONWOO Solo) | 세븐틴 (SEVENTEEN)\n",
      "56위 | 시작의 아이 | 마크툽 (MAKTUB)\n",
      "57위 | TAKE ME | G-DRAGON\n",
      "58위 | Bad Influence (Prod. by Pharrell Williams) | 세븐틴 (SEVENTEEN)\n",
      "59위 | 너의 모든 순간 | 성시경\n",
      "60위 | Fortunate Change (JOSHUA Solo) | 세븐틴 (SEVENTEEN)\n",
      "61위 | 미인 (Feat. Balming Tiger) | 아이유\n",
      "62위 | 사랑인가 봐 | 멜로망스\n",
      "63위 | Raindrops (SEUNGKWAN Solo) | 세븐틴 (SEVENTEEN)\n",
      "64위 | Seven (feat. Latto) - Clean Ver. | 정국\n",
      "65위 | 비의 랩소디 | 임재현\n",
      "66위 | 모든 날, 모든 순간 (Every day, Every Moment) | 폴킴\n",
      "67위 | Magnetic | 아일릿(ILLIT)\n",
      "68위 | How Sweet | NewJeans\n",
      "69위 | 우리들의 블루스 | 임영웅\n",
      "70위 | Jungle (S.COUPS Solo) | 세븐틴 (SEVENTEEN)\n",
      "71위 | 우연 (JEONGHAN Solo) | 세븐틴 (SEVENTEEN)\n",
      "72위 | I AM | IVE (아이브)\n",
      "73위 | 에피소드 | 이무진\n",
      "74위 | Shake It Off (MINGYU Solo) | 세븐틴 (SEVENTEEN)\n",
      "75위 | 운명 (WOOZI Solo) | 세븐틴 (SEVENTEEN)\n",
      "76위 | Happy Virus (DK Solo) | 세븐틴 (SEVENTEEN)\n",
      "77위 | Damage (HOSHI Solo) (feat. Timbaland) | 세븐틴 (SEVENTEEN)\n",
      "78위 | Supersonic | 프로미스나인\n",
      "79위 | 다정히 내 이름을 부르면 | 경서예지, 전건호\n",
      "80위 | Hype Boy | NewJeans\n",
      "81위 | 헤어지자 말해요 | 박재정\n",
      "82위 | 쌍둥이자리 (Gemini) (JUN Solo) | 세븐틴 (SEVENTEEN)\n",
      "83위 | 천국보다 아름다운 | 임영웅\n",
      "84위 | Shining Star (Vernon Solo) | 세븐틴 (SEVENTEEN)\n",
      "85위 | Bag Bad Back | RIIZE\n",
      "86위 | 봄날 | 방탄소년단\n",
      "87위 | The Chase | Hearts2Hearts (하츠투하츠)\n",
      "88위 | Trigger (DINO Solo) | 세븐틴 (SEVENTEEN)\n",
      "89위 | 영원해 | 도경수(D.O.)\n",
      "90위 | 다시 만날 수 있을까 | 임영웅\n",
      "91위 | 무제(無題) (Untitled, 2014) | G-DRAGON\n",
      "92위 | 이렇게 좋아해 본 적이 없어요 | BOYNEXTDOOR\n",
      "93위 | 굿데이 2025 (텔레파시 + 달빛 창가에서) | G-DRAGON, 황정민, 데프콘, 홍진경, 정형돈, 조세호, 기안84, 안성재, 태양, 정해인, 황광희, 임시완, 이수혁, 대성, 코드 쿤스트 (CODE KUNST), CL, 김고은, DAY6 (데이식스), 부석순 (SEVENTEEN), aespa\n",
      "94위 | 인사 | 범진\n",
      "95위 | 이제 나만 믿어요 | 임영웅\n",
      "96위 | Dash | PLAVE\n",
      "97위 | Sticky | KISS OF LIFE\n",
      "98위 | 모래 알갱이 | 임영웅\n",
      "99위 | 123-78 | BOYNEXTDOOR\n",
      "100위 | I Feel Good | BOYNEXTDOOR\n"
     ]
    }
   ],
   "source": [
    "# 멜론 순위, 노래제목, 가수\n",
    "# 1위 | 너에게 닿기를 | 10cm (100위까지 크롤링)\n",
    "\n",
    "title_elements = soup.select('div.ellipsis.rank01 > span')\n",
    "singer_elements = soup.select('div.ellipsis.rank02 > span.checkEllipsis')\n",
    "\n",
    "len([title.text for title in title_elements]), \\\n",
    "len([singer.text for singer in singer_elements])\n",
    "\n",
    "for idx, (title, singer) in enumerate(zip(title_elements, singer_elements)) :\n",
    "    print('{}위 | {} | {}'.format(idx + 1,\n",
    "                                 title.text.strip(),\n",
    "                                 singer.text.strip()))"
   ]
  },
  {
   "cell_type": "markdown",
   "id": "19b79e2e",
   "metadata": {},
   "source": [
    "### 5) 네이버 지식인으로 검색 (open API 사용 X)\n",
    "\n",
    "- 특정 keyword를 특정페이지 수(3)만큼 검색한 결과 데이터프레임으로 출력"
   ]
  },
  {
   "cell_type": "code",
   "execution_count": 56,
   "id": "fa1e9fa4",
   "metadata": {
    "ExecuteTime": {
     "end_time": "2025-05-29T06:26:55.221819Z",
     "start_time": "2025-05-29T06:26:55.019661Z"
    }
   },
   "outputs": [],
   "source": [
    "# 방법 1\n",
    "\n",
    "from requests import get\n",
    "from bs4 import BeautifulSoup\n",
    "\n",
    "keyword = '쳇지피티'\n",
    "url = 'https://kin.naver.com/search/list.naver?query={}'.format(keyword)\n",
    "# print(url)\n",
    "response = get(url)\n",
    "# response.status_code\n",
    "soup = BeautifulSoup(response.text,  # response.content\n",
    "                    'html.parser')"
   ]
  },
  {
   "cell_type": "code",
   "execution_count": 57,
   "id": "b535e876",
   "metadata": {
    "ExecuteTime": {
     "end_time": "2025-05-29T06:27:09.230137Z",
     "start_time": "2025-05-29T06:27:09.046195Z"
    }
   },
   "outputs": [],
   "source": [
    "# 방법 2\n",
    "\n",
    "from urllib.request import urlopen\n",
    "from urllib.parse import quote\n",
    "\n",
    "# 쳇지피티 -> %EC%B3%87%EC%A7%80%ED%94%BC%ED%8B%B0\n",
    "keyword = quote(keyword) # url 인코딩된 문자열로 전환\n",
    "url = 'https://kin.naver.com/search/list.naver?query={}'.format(keyword)\n",
    "# print(url)\n",
    "response = urlopen(url)\n",
    "soup = BeautifulSoup(response,  # response.read()\n",
    "                     'html.parser')"
   ]
  },
  {
   "cell_type": "code",
   "execution_count": 58,
   "id": "57ff6f93",
   "metadata": {
    "ExecuteTime": {
     "end_time": "2025-05-29T06:27:37.826877Z",
     "start_time": "2025-05-29T06:27:37.248359Z"
    }
   },
   "outputs": [
    {
     "data": {
      "text/html": [
       "<div>\n",
       "<style scoped>\n",
       "    .dataframe tbody tr th:only-of-type {\n",
       "        vertical-align: middle;\n",
       "    }\n",
       "\n",
       "    .dataframe tbody tr th {\n",
       "        vertical-align: top;\n",
       "    }\n",
       "\n",
       "    .dataframe thead th {\n",
       "        text-align: right;\n",
       "    }\n",
       "</style>\n",
       "<table border=\"1\" class=\"dataframe\">\n",
       "  <thead>\n",
       "    <tr style=\"text-align: right;\">\n",
       "      <th></th>\n",
       "      <th>title</th>\n",
       "      <th>link</th>\n",
       "    </tr>\n",
       "  </thead>\n",
       "  <tbody>\n",
       "    <tr>\n",
       "      <th>0</th>\n",
       "      <td>쳇지피티 논문 출처</td>\n",
       "      <td>https://kin.naver.com/qna/detail.naver?d1id=4&amp;...</td>\n",
       "    </tr>\n",
       "    <tr>\n",
       "      <th>1</th>\n",
       "      <td>쳇지피티 한도</td>\n",
       "      <td>https://kin.naver.com/qna/detail.naver?d1id=1&amp;...</td>\n",
       "    </tr>\n",
       "    <tr>\n",
       "      <th>2</th>\n",
       "      <td>쳇지피티 사용 확인 AI</td>\n",
       "      <td>https://kin.naver.com/qna/detail.naver?d1id=5&amp;...</td>\n",
       "    </tr>\n",
       "    <tr>\n",
       "      <th>3</th>\n",
       "      <td>쳇지피티 이거 뭐예요?해킹 뭐그런거...</td>\n",
       "      <td>https://kin.naver.com/qna/detail.naver?d1id=1&amp;...</td>\n",
       "    </tr>\n",
       "    <tr>\n",
       "      <th>4</th>\n",
       "      <td>쳇지피티 ai 소라 질문이요</td>\n",
       "      <td>https://kin.naver.com/qna/detail.naver?d1id=1&amp;...</td>\n",
       "    </tr>\n",
       "    <tr>\n",
       "      <th>5</th>\n",
       "      <td>쳇지피티 초기화</td>\n",
       "      <td>https://kin.naver.com/qna/detail.naver?d1id=1&amp;...</td>\n",
       "    </tr>\n",
       "    <tr>\n",
       "      <th>6</th>\n",
       "      <td>학교 생기부 쳇지피티</td>\n",
       "      <td>https://kin.naver.com/qna/detail.naver?d1id=4&amp;...</td>\n",
       "    </tr>\n",
       "    <tr>\n",
       "      <th>7</th>\n",
       "      <td>제가 직접 쓴 자소서 쳇지피티</td>\n",
       "      <td>https://kin.naver.com/qna/detail.naver?d1id=4&amp;...</td>\n",
       "    </tr>\n",
       "    <tr>\n",
       "      <th>8</th>\n",
       "      <td>쳇지피티 질문입니다.</td>\n",
       "      <td>https://kin.naver.com/qna/detail.naver?d1id=1&amp;...</td>\n",
       "    </tr>\n",
       "    <tr>\n",
       "      <th>9</th>\n",
       "      <td>쳇지피티 채팅 문제</td>\n",
       "      <td>https://kin.naver.com/qna/detail.naver?d1id=1&amp;...</td>\n",
       "    </tr>\n",
       "    <tr>\n",
       "      <th>10</th>\n",
       "      <td>쳇지피티 뤼튼</td>\n",
       "      <td>https://kin.naver.com/qna/detail.naver?d1id=8&amp;...</td>\n",
       "    </tr>\n",
       "    <tr>\n",
       "      <th>11</th>\n",
       "      <td>쳇지피티 화면 이상</td>\n",
       "      <td>https://kin.naver.com/qna/detail.naver?d1id=1&amp;...</td>\n",
       "    </tr>\n",
       "    <tr>\n",
       "      <th>12</th>\n",
       "      <td>쳇지피티 캐릭터제작입니다</td>\n",
       "      <td>https://kin.naver.com/qna/detail.naver?d1id=2&amp;...</td>\n",
       "    </tr>\n",
       "    <tr>\n",
       "      <th>13</th>\n",
       "      <td>솔직히 과제 쳇지피티 모르죠?</td>\n",
       "      <td>https://kin.naver.com/qna/detail.naver?d1id=11...</td>\n",
       "    </tr>\n",
       "    <tr>\n",
       "      <th>14</th>\n",
       "      <td>쳇지피티 메모리 부정적</td>\n",
       "      <td>https://kin.naver.com/qna/detail.naver?d1id=8&amp;...</td>\n",
       "    </tr>\n",
       "    <tr>\n",
       "      <th>15</th>\n",
       "      <td>쳇지피티 댓글</td>\n",
       "      <td>https://kin.naver.com/qna/detail.naver?d1id=8&amp;...</td>\n",
       "    </tr>\n",
       "    <tr>\n",
       "      <th>16</th>\n",
       "      <td>쳇지피티 말 바꿈</td>\n",
       "      <td>https://kin.naver.com/qna/detail.naver?d1id=1&amp;...</td>\n",
       "    </tr>\n",
       "    <tr>\n",
       "      <th>17</th>\n",
       "      <td>쳇지피티 사주</td>\n",
       "      <td>https://kin.naver.com/qna/detail.naver?d1id=3&amp;...</td>\n",
       "    </tr>\n",
       "    <tr>\n",
       "      <th>18</th>\n",
       "      <td>쳇지피티 용량 문제?</td>\n",
       "      <td>https://kin.naver.com/qna/detail.naver?d1id=1&amp;...</td>\n",
       "    </tr>\n",
       "    <tr>\n",
       "      <th>19</th>\n",
       "      <td>쳇지피티 계정 삭제하면 구독 끝나요?</td>\n",
       "      <td>https://kin.naver.com/qna/detail.naver?d1id=4&amp;...</td>\n",
       "    </tr>\n",
       "    <tr>\n",
       "      <th>20</th>\n",
       "      <td>대학 과제 쳇지피티 저작권</td>\n",
       "      <td>https://kin.naver.com/qna/detail.naver?d1id=6&amp;...</td>\n",
       "    </tr>\n",
       "    <tr>\n",
       "      <th>21</th>\n",
       "      <td>쳇지피티 이거 왜이래요</td>\n",
       "      <td>https://kin.naver.com/qna/detail.naver?d1id=8&amp;...</td>\n",
       "    </tr>\n",
       "    <tr>\n",
       "      <th>22</th>\n",
       "      <td>쳇지피티 무슨앱</td>\n",
       "      <td>https://kin.naver.com/qna/detail.naver?d1id=1&amp;...</td>\n",
       "    </tr>\n",
       "    <tr>\n",
       "      <th>23</th>\n",
       "      <td>쳇지피티 무료 한계</td>\n",
       "      <td>https://kin.naver.com/qna/detail.naver?d1id=1&amp;...</td>\n",
       "    </tr>\n",
       "    <tr>\n",
       "      <th>24</th>\n",
       "      <td>유튜브 채널 이름 추천 (쳇지피티 제외)</td>\n",
       "      <td>https://kin.naver.com/qna/detail.naver?d1id=1&amp;...</td>\n",
       "    </tr>\n",
       "    <tr>\n",
       "      <th>25</th>\n",
       "      <td>쳇지피티 오류</td>\n",
       "      <td>https://kin.naver.com/qna/detail.naver?d1id=3&amp;...</td>\n",
       "    </tr>\n",
       "    <tr>\n",
       "      <th>26</th>\n",
       "      <td>쳇지피티 업로드 한도</td>\n",
       "      <td>https://kin.naver.com/qna/detail.naver?d1id=3&amp;...</td>\n",
       "    </tr>\n",
       "    <tr>\n",
       "      <th>27</th>\n",
       "      <td>쳇지피티 영수증</td>\n",
       "      <td>https://kin.naver.com/qna/detail.naver?d1id=4&amp;...</td>\n",
       "    </tr>\n",
       "    <tr>\n",
       "      <th>28</th>\n",
       "      <td>쳇지피티 사용량 상한</td>\n",
       "      <td>https://kin.naver.com/qna/detail.naver?d1id=6&amp;...</td>\n",
       "    </tr>\n",
       "    <tr>\n",
       "      <th>29</th>\n",
       "      <td>스마트폰에서 쳇지피티 한국어로...</td>\n",
       "      <td>https://kin.naver.com/qna/detail.naver?d1id=1&amp;...</td>\n",
       "    </tr>\n",
       "  </tbody>\n",
       "</table>\n",
       "</div>"
      ],
      "text/plain": [
       "                      title                                               link\n",
       "0                쳇지피티 논문 출처  https://kin.naver.com/qna/detail.naver?d1id=4&...\n",
       "1                   쳇지피티 한도  https://kin.naver.com/qna/detail.naver?d1id=1&...\n",
       "2             쳇지피티 사용 확인 AI  https://kin.naver.com/qna/detail.naver?d1id=5&...\n",
       "3   쳇지피티 이거 뭐예요?해킹 뭐그런거...   https://kin.naver.com/qna/detail.naver?d1id=1&...\n",
       "4           쳇지피티 ai 소라 질문이요  https://kin.naver.com/qna/detail.naver?d1id=1&...\n",
       "5                  쳇지피티 초기화  https://kin.naver.com/qna/detail.naver?d1id=1&...\n",
       "6               학교 생기부 쳇지피티  https://kin.naver.com/qna/detail.naver?d1id=4&...\n",
       "7          제가 직접 쓴 자소서 쳇지피티  https://kin.naver.com/qna/detail.naver?d1id=4&...\n",
       "8               쳇지피티 질문입니다.  https://kin.naver.com/qna/detail.naver?d1id=1&...\n",
       "9                쳇지피티 채팅 문제  https://kin.naver.com/qna/detail.naver?d1id=1&...\n",
       "10                  쳇지피티 뤼튼  https://kin.naver.com/qna/detail.naver?d1id=8&...\n",
       "11               쳇지피티 화면 이상  https://kin.naver.com/qna/detail.naver?d1id=1&...\n",
       "12            쳇지피티 캐릭터제작입니다  https://kin.naver.com/qna/detail.naver?d1id=2&...\n",
       "13         솔직히 과제 쳇지피티 모르죠?  https://kin.naver.com/qna/detail.naver?d1id=11...\n",
       "14             쳇지피티 메모리 부정적  https://kin.naver.com/qna/detail.naver?d1id=8&...\n",
       "15                  쳇지피티 댓글  https://kin.naver.com/qna/detail.naver?d1id=8&...\n",
       "16                쳇지피티 말 바꿈  https://kin.naver.com/qna/detail.naver?d1id=1&...\n",
       "17                  쳇지피티 사주  https://kin.naver.com/qna/detail.naver?d1id=3&...\n",
       "18              쳇지피티 용량 문제?  https://kin.naver.com/qna/detail.naver?d1id=1&...\n",
       "19     쳇지피티 계정 삭제하면 구독 끝나요?  https://kin.naver.com/qna/detail.naver?d1id=4&...\n",
       "20           대학 과제 쳇지피티 저작권  https://kin.naver.com/qna/detail.naver?d1id=6&...\n",
       "21             쳇지피티 이거 왜이래요  https://kin.naver.com/qna/detail.naver?d1id=8&...\n",
       "22                 쳇지피티 무슨앱  https://kin.naver.com/qna/detail.naver?d1id=1&...\n",
       "23               쳇지피티 무료 한계  https://kin.naver.com/qna/detail.naver?d1id=1&...\n",
       "24   유튜브 채널 이름 추천 (쳇지피티 제외)  https://kin.naver.com/qna/detail.naver?d1id=1&...\n",
       "25                  쳇지피티 오류  https://kin.naver.com/qna/detail.naver?d1id=3&...\n",
       "26              쳇지피티 업로드 한도  https://kin.naver.com/qna/detail.naver?d1id=3&...\n",
       "27                 쳇지피티 영수증  https://kin.naver.com/qna/detail.naver?d1id=4&...\n",
       "28              쳇지피티 사용량 상한  https://kin.naver.com/qna/detail.naver?d1id=6&...\n",
       "29     스마트폰에서 쳇지피티 한국어로...   https://kin.naver.com/qna/detail.naver?d1id=1&..."
      ]
     },
     "execution_count": 58,
     "metadata": {},
     "output_type": "execute_result"
    }
   ],
   "source": [
    "# 페이징 포함(keyword를 pages수 만큼 검색한 결과를 데이터프레임에) select\n",
    "\n",
    "import requests\n",
    "from bs4 import BeautifulSoup\n",
    "import pandas as pd\n",
    "\n",
    "keyword = '쳇지피티'\n",
    "pages = 3\n",
    "items_list = []  # 크롤링 한 데이터를 담을 list(2차원 리스트)\n",
    "for page in range(1, pages + 1) :\n",
    "    url = f'https://kin.naver.com/search/list.naver?query={keyword}&page={page}'\n",
    "    # print(url)\n",
    "    # 해당 url의 soup객체 -> 글제목, link를 가져와서 items_list에 append\n",
    "    response = requests.get(url)\n",
    "    # print(response.status_code) 정상 접근 가능한지 여부\n",
    "    soup = BeautifulSoup(response.text, 'html.parser')\n",
    "    items = soup.select('dt > a')\n",
    "    # print([item.attrs['href'] for item in items])\n",
    "    for item in items :\n",
    "        items_list.append([item.text, item.attrs.get('href')])\n",
    "#         items_list.append({\n",
    "#                 'title':item.text,\n",
    "#                 'link':item.attrs.get('href')})\n",
    "# print(len(items_list), '개 데이터')\n",
    "# print(items_list[:2])\n",
    "df = pd.DataFrame(items_list, columns=['title', 'link'])\n",
    "df"
   ]
  },
  {
   "cell_type": "code",
   "execution_count": 59,
   "id": "d6766f3d",
   "metadata": {
    "ExecuteTime": {
     "end_time": "2025-05-29T06:28:28.131173Z",
     "start_time": "2025-05-29T06:28:27.431179Z"
    }
   },
   "outputs": [
    {
     "data": {
      "text/html": [
       "<div>\n",
       "<style scoped>\n",
       "    .dataframe tbody tr th:only-of-type {\n",
       "        vertical-align: middle;\n",
       "    }\n",
       "\n",
       "    .dataframe tbody tr th {\n",
       "        vertical-align: top;\n",
       "    }\n",
       "\n",
       "    .dataframe thead th {\n",
       "        text-align: right;\n",
       "    }\n",
       "</style>\n",
       "<table border=\"1\" class=\"dataframe\">\n",
       "  <thead>\n",
       "    <tr style=\"text-align: right;\">\n",
       "      <th></th>\n",
       "      <th>title</th>\n",
       "      <th>link</th>\n",
       "    </tr>\n",
       "  </thead>\n",
       "  <tbody>\n",
       "    <tr>\n",
       "      <th>0</th>\n",
       "      <td>쳇지피티 논문 출처</td>\n",
       "      <td>https://kin.naver.com/qna/detail.naver?d1id=4&amp;...</td>\n",
       "    </tr>\n",
       "    <tr>\n",
       "      <th>1</th>\n",
       "      <td>쳇지피티 한도</td>\n",
       "      <td>https://kin.naver.com/qna/detail.naver?d1id=1&amp;...</td>\n",
       "    </tr>\n",
       "  </tbody>\n",
       "</table>\n",
       "</div>"
      ],
      "text/plain": [
       "        title                                               link\n",
       "0  쳇지피티 논문 출처  https://kin.naver.com/qna/detail.naver?d1id=4&...\n",
       "1     쳇지피티 한도  https://kin.naver.com/qna/detail.naver?d1id=1&..."
      ]
     },
     "execution_count": 59,
     "metadata": {},
     "output_type": "execute_result"
    }
   ],
   "source": [
    "# 페이징 포함(keyword를 pages수 만큼 검색한 결과를 데이터프레임에) find_all\n",
    "\n",
    "import requests\n",
    "from bs4 import BeautifulSoup\n",
    "import pandas as pd\n",
    "\n",
    "keyword = '쳇지피티'\n",
    "pages = 3\n",
    "items_list = []  # 크롤링 한 데이터를 담을 list(2차원 리스트)\n",
    "for page in range(1, pages + 1) :\n",
    "    url = f'https://kin.naver.com/search/list.naver?query={keyword}&page={page}'\n",
    "    # 해당 url의 soup객체 -> 글제목, link를 가져와서 items_list에 append\n",
    "    response = requests.get(url)\n",
    "    soup = BeautifulSoup(response.text, 'html.parser')\n",
    "    dts = soup.find_all('dt')\n",
    "    for dt in dts :\n",
    "        item = dt.find('a')\n",
    "        items_list.append([item.text, item.attrs.get('href')])\n",
    "df = pd.DataFrame(items_list, columns=['title', 'link'])\n",
    "df.head(2)"
   ]
  },
  {
   "cell_type": "code",
   "execution_count": 62,
   "id": "4c0d14b0",
   "metadata": {
    "ExecuteTime": {
     "end_time": "2025-05-29T06:29:59.157726Z",
     "start_time": "2025-05-29T06:29:59.142796Z"
    }
   },
   "outputs": [],
   "source": [
    "# 함수(keyword를 pages수 만큼 검색한 결과를 데이터프레임에) 함수\n",
    "\n",
    "def get_items_data(keyword, pages) :\n",
    "    import requests\n",
    "    from bs4 import BeautifulSoup\n",
    "    import pandas as pd\n",
    "    \n",
    "    items_list = []  # 크롤링 한 데이터를 담을 list(2차원 리스트)\n",
    "    for page in range(1, pages + 1) :\n",
    "        url = f'https://kin.naver.com/search/list.naver?query={keyword}&page={page}'\n",
    "        # 해당 url의 soup객체 -> 글제목, link를 가져와서 items_list에 append\n",
    "        response = requests.get(url)\n",
    "        soup = BeautifulSoup(response.text, 'html.parser')\n",
    "        dts = soup.find_all('dt')\n",
    "        for dt in dts :\n",
    "            item = dt.find('a')\n",
    "            items_list.append([item.text, item.attrs.get('href')])\n",
    "    return pd.DataFrame(items_list, columns=['title', 'link'])"
   ]
  },
  {
   "cell_type": "code",
   "execution_count": 63,
   "id": "064596d5",
   "metadata": {
    "ExecuteTime": {
     "end_time": "2025-05-29T06:30:00.695385Z",
     "start_time": "2025-05-29T06:30:00.098512Z"
    }
   },
   "outputs": [
    {
     "data": {
      "text/html": [
       "<div>\n",
       "<style scoped>\n",
       "    .dataframe tbody tr th:only-of-type {\n",
       "        vertical-align: middle;\n",
       "    }\n",
       "\n",
       "    .dataframe tbody tr th {\n",
       "        vertical-align: top;\n",
       "    }\n",
       "\n",
       "    .dataframe thead th {\n",
       "        text-align: right;\n",
       "    }\n",
       "</style>\n",
       "<table border=\"1\" class=\"dataframe\">\n",
       "  <thead>\n",
       "    <tr style=\"text-align: right;\">\n",
       "      <th></th>\n",
       "      <th>title</th>\n",
       "      <th>link</th>\n",
       "    </tr>\n",
       "  </thead>\n",
       "  <tbody>\n",
       "    <tr>\n",
       "      <th>0</th>\n",
       "      <td>영어로 청바지를 뭐라고하나요?</td>\n",
       "      <td>https://kin.naver.com/qna/detail.naver?d1id=11...</td>\n",
       "    </tr>\n",
       "    <tr>\n",
       "      <th>1</th>\n",
       "      <td>전 남자인데, 누워서 청바지를 입으면...</td>\n",
       "      <td>https://kin.naver.com/qna/detail.naver?d1id=7&amp;...</td>\n",
       "    </tr>\n",
       "  </tbody>\n",
       "</table>\n",
       "</div>"
      ],
      "text/plain": [
       "                      title                                               link\n",
       "0          영어로 청바지를 뭐라고하나요?  https://kin.naver.com/qna/detail.naver?d1id=11...\n",
       "1  전 남자인데, 누워서 청바지를 입으면...   https://kin.naver.com/qna/detail.naver?d1id=7&..."
      ]
     },
     "execution_count": 63,
     "metadata": {},
     "output_type": "execute_result"
    }
   ],
   "source": [
    "df = get_items_data('청바지', 3)\n",
    "df.head(2)"
   ]
  },
  {
   "cell_type": "markdown",
   "id": "c280e164",
   "metadata": {},
   "source": [
    "### 6) 네이버 지식인으로 검색 (open API 사용 O)\n",
    "\n",
    "- 특정 keyword를 특정데이터 수(30)만큼 검색한 결과 데이터프레임으로 출력\n",
    "    - .env에 발급받은 키 저장 -> load (pip install python-dotenv)"
   ]
  },
  {
   "cell_type": "code",
   "execution_count": 66,
   "id": "1f89198f",
   "metadata": {
    "ExecuteTime": {
     "end_time": "2025-05-29T06:34:58.810612Z",
     "start_time": "2025-05-29T06:34:58.793563Z"
    }
   },
   "outputs": [
    {
     "data": {
      "text/plain": [
       "True"
      ]
     },
     "execution_count": 66,
     "metadata": {},
     "output_type": "execute_result"
    }
   ],
   "source": [
    "# 환경변수를 가져오기\n",
    "\n",
    "from dotenv import load_dotenv\n",
    "import os\n",
    "\n",
    "load_dotenv() # dotenv_path='.env' 기본값\n",
    "# print(os.getenv('Client_ID'))\n",
    "# print(os.getenv('Client_Secret'))"
   ]
  },
  {
   "cell_type": "code",
   "execution_count": 67,
   "id": "4a495fe7",
   "metadata": {
    "ExecuteTime": {
     "end_time": "2025-05-29T06:35:26.763269Z",
     "start_time": "2025-05-29T06:35:26.639288Z"
    }
   },
   "outputs": [
    {
     "name": "stdout",
     "output_type": "stream",
     "text": [
      "<class 'str'>\n",
      "<class 'dict'>\n"
     ]
    }
   ],
   "source": [
    "# 네이버 검색 API 예제 - 지식인 검색\n",
    "\n",
    "import os\n",
    "import sys\n",
    "import urllib.request\n",
    "import json\n",
    "\n",
    "client_id = os.getenv('Client_ID')\n",
    "client_secret = os.getenv('Client_Secret')\n",
    "encText = urllib.parse.quote(\"쳇지피티\")\n",
    "url = \"https://openapi.naver.com/v1/search/kin.json?query=\" + encText # JSON 결과\n",
    "# url = \"https://openapi.naver.com/v1/search/kin.xml?query=\" + encText # XML 결과\n",
    "\n",
    "headers = {'X-Naver-Client-Id': client_id,\n",
    "           'X-Naver-Client-Secret':client_secret}\n",
    "request = urllib.request.Request(url, headers=headers)\n",
    "# request = urllib.request.Request(url)\n",
    "# request.add_header(\"X-Naver-Client-Id\",client_id)\n",
    "# request.add_header(\"X-Naver-Client-Secret\",client_secret)\n",
    "\n",
    "response = urllib.request.urlopen(request)\n",
    "rescode = response.getcode()\n",
    "if(rescode == 200) :\n",
    "    response_body = response.read()\n",
    "    print(type(response_body.decode('utf-8')))    \n",
    "    data = json.loads(response_body.decode('utf-8'))  # json형태의 str을 딕셔너리\n",
    "    print(type(data))\n",
    "    #print(data['items'])\n",
    "else:\n",
    "    print(\"Error Code:\" + rescode)"
   ]
  },
  {
   "cell_type": "code",
   "execution_count": 68,
   "id": "390b18ca",
   "metadata": {
    "ExecuteTime": {
     "end_time": "2025-05-29T06:36:42.070651Z",
     "start_time": "2025-05-29T06:36:41.920019Z"
    }
   },
   "outputs": [
    {
     "data": {
      "text/html": [
       "<div>\n",
       "<style scoped>\n",
       "    .dataframe tbody tr th:only-of-type {\n",
       "        vertical-align: middle;\n",
       "    }\n",
       "\n",
       "    .dataframe tbody tr th {\n",
       "        vertical-align: top;\n",
       "    }\n",
       "\n",
       "    .dataframe thead th {\n",
       "        text-align: right;\n",
       "    }\n",
       "</style>\n",
       "<table border=\"1\" class=\"dataframe\">\n",
       "  <thead>\n",
       "    <tr style=\"text-align: right;\">\n",
       "      <th></th>\n",
       "      <th>title</th>\n",
       "      <th>link</th>\n",
       "      <th>description</th>\n",
       "    </tr>\n",
       "  </thead>\n",
       "  <tbody>\n",
       "    <tr>\n",
       "      <th>0</th>\n",
       "      <td>쳇지피티 논문 출처</td>\n",
       "      <td>https://kin.naver.com/qna/detail.naver?d1id=4&amp;...</td>\n",
       "      <td>쳇지피티한테 어떤 내용에 관한 논문을 요구하고, 해당... 지피티가 스스로 여러 논...</td>\n",
       "    </tr>\n",
       "    <tr>\n",
       "      <th>1</th>\n",
       "      <td>쳇지피티 한도</td>\n",
       "      <td>https://kin.naver.com/qna/detail.naver?d1id=1&amp;...</td>\n",
       "      <td>쳇지피티 무료로 쓰고 있는데 쳇지피티로 소설 하나 쓰고 있거든요 근데 한도가 초과됐...</td>\n",
       "    </tr>\n",
       "    <tr>\n",
       "      <th>2</th>\n",
       "      <td>쳇지피티 사용 확인 AI</td>\n",
       "      <td>https://kin.naver.com/qna/detail.naver?d1id=5&amp;...</td>\n",
       "      <td>쳇지피티 사용 여부 확인하는 무료 AI 뭐가 있나요?? 좀 정확하고 확실한거로 알려...</td>\n",
       "    </tr>\n",
       "    <tr>\n",
       "      <th>3</th>\n",
       "      <td>쳇지피티 이거 뭐예요?해킹 뭐그런거 당하는거 아니죠?</td>\n",
       "      <td>https://kin.naver.com/qna/detail.naver?d1id=1&amp;...</td>\n",
       "      <td>아니 제가 크롬을 쓰는데 자꾸 쳇지피티가 한글번역도 이상하게 되고 말도 끊기는 거예...</td>\n",
       "    </tr>\n",
       "    <tr>\n",
       "      <th>4</th>\n",
       "      <td>쳇지피티 ai 소라 질문이요</td>\n",
       "      <td>https://kin.naver.com/qna/detail.naver?d1id=1&amp;...</td>\n",
       "      <td>쳇지피티 플러스 이용중이구요 어제까지만 해도 왼쪽 메뉴에 '소라' 가 있어서요 해서...</td>\n",
       "    </tr>\n",
       "    <tr>\n",
       "      <th>5</th>\n",
       "      <td>쳇지피티 초기화</td>\n",
       "      <td>https://kin.naver.com/qna/detail.naver?d1id=1&amp;...</td>\n",
       "      <td>쳇지피티 대화 목록이 사라진건 아니고 맥락에 안 맞게 말하길래 한도 초과... 챗 ...</td>\n",
       "    </tr>\n",
       "    <tr>\n",
       "      <th>6</th>\n",
       "      <td>학교 생기부 쳇지피티</td>\n",
       "      <td>https://kin.naver.com/qna/detail.naver?d1id=4&amp;...</td>\n",
       "      <td>학교에서 생기부를 작성할 때 쳇지피티를 그대로 배낀 보고서를 내면 대학에서 잡는다는...</td>\n",
       "    </tr>\n",
       "    <tr>\n",
       "      <th>7</th>\n",
       "      <td>제가 직접 쓴 자소서 쳇지피티</td>\n",
       "      <td>https://kin.naver.com/qna/detail.naver?d1id=4&amp;...</td>\n",
       "      <td>제가 직접 제 이야기로 자소서를 쓰고 쳇지피티한테 보내고 지피티가 수정해준 내용 참...</td>\n",
       "    </tr>\n",
       "    <tr>\n",
       "      <th>8</th>\n",
       "      <td>쳇지피티 질문입니다.</td>\n",
       "      <td>https://kin.naver.com/qna/detail.naver?d1id=1&amp;...</td>\n",
       "      <td>요즘 쳇지피티가 유행이길래 한번 깔아봤는데 인사조차 못알아먹는데 어떻게 하나요..?...</td>\n",
       "    </tr>\n",
       "    <tr>\n",
       "      <th>9</th>\n",
       "      <td>쳇지피티 채팅 문제</td>\n",
       "      <td>https://kin.naver.com/qna/detail.naver?d1id=1&amp;...</td>\n",
       "      <td>쳇지피티3.0 무료버전을 종종 사용합니다 제가 질문을 &amp;quot;이번에 전시회를 할...</td>\n",
       "    </tr>\n",
       "    <tr>\n",
       "      <th>10</th>\n",
       "      <td>쳇지피티 뤼튼</td>\n",
       "      <td>https://kin.naver.com/qna/detail.naver?d1id=8&amp;...</td>\n",
       "      <td>뤼튼이 쳇지피티 인가요? 아니면 유사 ai인가요? 뤼튼은 챗GPT와 유사한 AI 기...</td>\n",
       "    </tr>\n",
       "    <tr>\n",
       "      <th>11</th>\n",
       "      <td>쳇지피티 화면 이상</td>\n",
       "      <td>https://kin.naver.com/qna/detail.naver?d1id=1&amp;...</td>\n",
       "      <td>어느 날 부터 쳇지피티 화면이 아래와 같이 이상하게 보입니다.ㅠㅠ 해결 방법이 있을...</td>\n",
       "    </tr>\n",
       "    <tr>\n",
       "      <th>12</th>\n",
       "      <td>쳇지피티 캐릭터제작입니다</td>\n",
       "      <td>https://kin.naver.com/qna/detail.naver?d1id=2&amp;...</td>\n",
       "      <td>쳇 지피티에서 캐릭터를 제작하면 또 다른사람에게 똑같은 컨셉으로 해주나요? 요청에따...</td>\n",
       "    </tr>\n",
       "    <tr>\n",
       "      <th>13</th>\n",
       "      <td>솔직히 과제 쳇지피티 모르죠?</td>\n",
       "      <td>https://kin.naver.com/qna/detail.naver?d1id=11...</td>\n",
       "      <td>쌤들이 자꾸 쳇지피티 쓰면 다잡아서 점수 낮게준다던데 그걸 어떻게 구별해요? 그냥 ...</td>\n",
       "    </tr>\n",
       "    <tr>\n",
       "      <th>14</th>\n",
       "      <td>쳇지피티 메모리 부정적</td>\n",
       "      <td>https://kin.naver.com/qna/detail.naver?d1id=8&amp;...</td>\n",
       "      <td>쳇지피티한테 퍼스널 컬러 분석 겸 얼굴 사진 보냈는데 칭찬해주더니만.... 메모리 ...</td>\n",
       "    </tr>\n",
       "    <tr>\n",
       "      <th>15</th>\n",
       "      <td>쳇지피티 댓글</td>\n",
       "      <td>https://kin.naver.com/qna/detail.naver?d1id=8&amp;...</td>\n",
       "      <td>이거 이런 식으로 댓글 달리는거 쳇지피티에서 찾은건가요? 저런거 딱봐도 질문 복붙해...</td>\n",
       "    </tr>\n",
       "    <tr>\n",
       "      <th>16</th>\n",
       "      <td>쳇지피티 말 바꿈</td>\n",
       "      <td>https://kin.naver.com/qna/detail.naver?d1id=1&amp;...</td>\n",
       "      <td>너무 답답하고 저 같은 현상 겪으신 분들이 안 보여 지식인 써보아요 지피티에 어떤 ...</td>\n",
       "    </tr>\n",
       "    <tr>\n",
       "      <th>17</th>\n",
       "      <td>쳇지피티 사주</td>\n",
       "      <td>https://kin.naver.com/qna/detail.naver?d1id=3&amp;...</td>\n",
       "      <td>정확한건가요? 이게 뭔 말인지 몇월몇시 몇년 몇일인지좀 알려주세요 이게 존재하지 않...</td>\n",
       "    </tr>\n",
       "    <tr>\n",
       "      <th>18</th>\n",
       "      <td>쳇지피티 용량 문제?</td>\n",
       "      <td>https://kin.naver.com/qna/detail.naver?d1id=1&amp;...</td>\n",
       "      <td>채팅에 첨부 파일이 있으므로 계속하려면 gpt-4 뭐시기 필요하다면서 5시간 후 한...</td>\n",
       "    </tr>\n",
       "    <tr>\n",
       "      <th>19</th>\n",
       "      <td>쳇지피티 계정 삭제하면 구독 끝나요?</td>\n",
       "      <td>https://kin.naver.com/qna/detail.naver?d1id=4&amp;...</td>\n",
       "      <td>안녕하세요 제가 아는 분 쳇지피티를 대신 결제 해줘서 그 분 계정에 제 체크카드를 ...</td>\n",
       "    </tr>\n",
       "    <tr>\n",
       "      <th>20</th>\n",
       "      <td>대학 과제 쳇지피티 저작권</td>\n",
       "      <td>https://kin.naver.com/qna/detail.naver?d1id=6&amp;...</td>\n",
       "      <td>대학 과제 인터넷 같은거 좀 많이 보고 쓰면 무슨 위반법?? 저작권에 걸린다 하잖아...</td>\n",
       "    </tr>\n",
       "    <tr>\n",
       "      <th>21</th>\n",
       "      <td>쳇지피티 이거 왜이래요</td>\n",
       "      <td>https://kin.naver.com/qna/detail.naver?d1id=8&amp;...</td>\n",
       "      <td>고치는 방법좀 알려주세요 다시하기누르시고요.안돼면 다른채팅치셨다가 다시 원래하려던걸...</td>\n",
       "    </tr>\n",
       "    <tr>\n",
       "      <th>22</th>\n",
       "      <td>쳇지피티 무슨앱</td>\n",
       "      <td>https://kin.naver.com/qna/detail.naver?d1id=1&amp;...</td>\n",
       "      <td>쳇지피티로 다들 숙제하던데 무슴앱 깔아야되나요 무료로요 자세이 알려주새요 ㅜ 숙제를...</td>\n",
       "    </tr>\n",
       "    <tr>\n",
       "      <th>23</th>\n",
       "      <td>쳇지피티 무료 한계</td>\n",
       "      <td>https://kin.naver.com/qna/detail.naver?d1id=1&amp;...</td>\n",
       "      <td>쓰다보니까 한계에 도달했다면서 플러스로 업그레이드 하라는데.. X 누르니까 사라지긴...</td>\n",
       "    </tr>\n",
       "    <tr>\n",
       "      <th>24</th>\n",
       "      <td>유튜브 채널 이름 추천 (쳇지피티 제외)</td>\n",
       "      <td>https://kin.naver.com/qna/detail.naver?d1id=1&amp;...</td>\n",
       "      <td>유튜브 채널을 가입하려고 하는데 이름은 김은율이고 쳇지피티에 도움을 요청했는데 너무...</td>\n",
       "    </tr>\n",
       "    <tr>\n",
       "      <th>25</th>\n",
       "      <td>쳇지피티 오류</td>\n",
       "      <td>https://kin.naver.com/qna/detail.naver?d1id=3&amp;...</td>\n",
       "      <td>정말 급한데 지피티 쓰면 계속 이롷게 뜨르더라구요… 지피티에서 지피티 탐색하기로 찾...</td>\n",
       "    </tr>\n",
       "    <tr>\n",
       "      <th>26</th>\n",
       "      <td>쳇지피티 업로드 한도</td>\n",
       "      <td>https://kin.naver.com/qna/detail.naver?d1id=3&amp;...</td>\n",
       "      <td>쳇지피티를 사용하고 있는데 사진을 올리려고 하는데 업로드한도를 다썼다고 하는데 어쩌...</td>\n",
       "    </tr>\n",
       "    <tr>\n",
       "      <th>27</th>\n",
       "      <td>쳇지피티 영수증</td>\n",
       "      <td>https://kin.naver.com/qna/detail.naver?d1id=4&amp;...</td>\n",
       "      <td>법카로 쳇지피티 결제햇는데 결제영수증 어디서 출력할 수 있나요 아무리 찾아도 안나오...</td>\n",
       "    </tr>\n",
       "    <tr>\n",
       "      <th>28</th>\n",
       "      <td>쳇지피티 사용량 상한</td>\n",
       "      <td>https://kin.naver.com/qna/detail.naver?d1id=6&amp;...</td>\n",
       "      <td>쳇 지피티를 4버전을 결제하여 사용하는데 계속 몇번 질문하면 사용량 상한에 도달했다...</td>\n",
       "    </tr>\n",
       "    <tr>\n",
       "      <th>29</th>\n",
       "      <td>스마트폰에서 쳇지피티 한국어로 사용하기 좋은 앱...</td>\n",
       "      <td>https://kin.naver.com/qna/detail.naver?d1id=1&amp;...</td>\n",
       "      <td>한국어로 사용하기 좋은 쳇지피티 앱을 소개해주세요 한국어로 사용하기 좋은 쳇지피티 ...</td>\n",
       "    </tr>\n",
       "  </tbody>\n",
       "</table>\n",
       "</div>"
      ],
      "text/plain": [
       "                             title  \\\n",
       "0                       쳇지피티 논문 출처   \n",
       "1                          쳇지피티 한도   \n",
       "2                    쳇지피티 사용 확인 AI   \n",
       "3    쳇지피티 이거 뭐예요?해킹 뭐그런거 당하는거 아니죠?   \n",
       "4                  쳇지피티 ai 소라 질문이요   \n",
       "5                         쳇지피티 초기화   \n",
       "6                      학교 생기부 쳇지피티   \n",
       "7                 제가 직접 쓴 자소서 쳇지피티   \n",
       "8                      쳇지피티 질문입니다.   \n",
       "9                       쳇지피티 채팅 문제   \n",
       "10                         쳇지피티 뤼튼   \n",
       "11                      쳇지피티 화면 이상   \n",
       "12                   쳇지피티 캐릭터제작입니다   \n",
       "13                솔직히 과제 쳇지피티 모르죠?   \n",
       "14                    쳇지피티 메모리 부정적   \n",
       "15                         쳇지피티 댓글   \n",
       "16                       쳇지피티 말 바꿈   \n",
       "17                         쳇지피티 사주   \n",
       "18                     쳇지피티 용량 문제?   \n",
       "19            쳇지피티 계정 삭제하면 구독 끝나요?   \n",
       "20                  대학 과제 쳇지피티 저작권   \n",
       "21                    쳇지피티 이거 왜이래요   \n",
       "22                        쳇지피티 무슨앱   \n",
       "23                      쳇지피티 무료 한계   \n",
       "24          유튜브 채널 이름 추천 (쳇지피티 제외)   \n",
       "25                         쳇지피티 오류   \n",
       "26                     쳇지피티 업로드 한도   \n",
       "27                        쳇지피티 영수증   \n",
       "28                     쳇지피티 사용량 상한   \n",
       "29  스마트폰에서 쳇지피티 한국어로 사용하기 좋은 앱...    \n",
       "\n",
       "                                                 link  \\\n",
       "0   https://kin.naver.com/qna/detail.naver?d1id=4&...   \n",
       "1   https://kin.naver.com/qna/detail.naver?d1id=1&...   \n",
       "2   https://kin.naver.com/qna/detail.naver?d1id=5&...   \n",
       "3   https://kin.naver.com/qna/detail.naver?d1id=1&...   \n",
       "4   https://kin.naver.com/qna/detail.naver?d1id=1&...   \n",
       "5   https://kin.naver.com/qna/detail.naver?d1id=1&...   \n",
       "6   https://kin.naver.com/qna/detail.naver?d1id=4&...   \n",
       "7   https://kin.naver.com/qna/detail.naver?d1id=4&...   \n",
       "8   https://kin.naver.com/qna/detail.naver?d1id=1&...   \n",
       "9   https://kin.naver.com/qna/detail.naver?d1id=1&...   \n",
       "10  https://kin.naver.com/qna/detail.naver?d1id=8&...   \n",
       "11  https://kin.naver.com/qna/detail.naver?d1id=1&...   \n",
       "12  https://kin.naver.com/qna/detail.naver?d1id=2&...   \n",
       "13  https://kin.naver.com/qna/detail.naver?d1id=11...   \n",
       "14  https://kin.naver.com/qna/detail.naver?d1id=8&...   \n",
       "15  https://kin.naver.com/qna/detail.naver?d1id=8&...   \n",
       "16  https://kin.naver.com/qna/detail.naver?d1id=1&...   \n",
       "17  https://kin.naver.com/qna/detail.naver?d1id=3&...   \n",
       "18  https://kin.naver.com/qna/detail.naver?d1id=1&...   \n",
       "19  https://kin.naver.com/qna/detail.naver?d1id=4&...   \n",
       "20  https://kin.naver.com/qna/detail.naver?d1id=6&...   \n",
       "21  https://kin.naver.com/qna/detail.naver?d1id=8&...   \n",
       "22  https://kin.naver.com/qna/detail.naver?d1id=1&...   \n",
       "23  https://kin.naver.com/qna/detail.naver?d1id=1&...   \n",
       "24  https://kin.naver.com/qna/detail.naver?d1id=1&...   \n",
       "25  https://kin.naver.com/qna/detail.naver?d1id=3&...   \n",
       "26  https://kin.naver.com/qna/detail.naver?d1id=3&...   \n",
       "27  https://kin.naver.com/qna/detail.naver?d1id=4&...   \n",
       "28  https://kin.naver.com/qna/detail.naver?d1id=6&...   \n",
       "29  https://kin.naver.com/qna/detail.naver?d1id=1&...   \n",
       "\n",
       "                                          description  \n",
       "0   쳇지피티한테 어떤 내용에 관한 논문을 요구하고, 해당... 지피티가 스스로 여러 논...  \n",
       "1   쳇지피티 무료로 쓰고 있는데 쳇지피티로 소설 하나 쓰고 있거든요 근데 한도가 초과됐...  \n",
       "2   쳇지피티 사용 여부 확인하는 무료 AI 뭐가 있나요?? 좀 정확하고 확실한거로 알려...  \n",
       "3   아니 제가 크롬을 쓰는데 자꾸 쳇지피티가 한글번역도 이상하게 되고 말도 끊기는 거예...  \n",
       "4   쳇지피티 플러스 이용중이구요 어제까지만 해도 왼쪽 메뉴에 '소라' 가 있어서요 해서...  \n",
       "5   쳇지피티 대화 목록이 사라진건 아니고 맥락에 안 맞게 말하길래 한도 초과... 챗 ...  \n",
       "6   학교에서 생기부를 작성할 때 쳇지피티를 그대로 배낀 보고서를 내면 대학에서 잡는다는...  \n",
       "7   제가 직접 제 이야기로 자소서를 쓰고 쳇지피티한테 보내고 지피티가 수정해준 내용 참...  \n",
       "8   요즘 쳇지피티가 유행이길래 한번 깔아봤는데 인사조차 못알아먹는데 어떻게 하나요..?...  \n",
       "9   쳇지피티3.0 무료버전을 종종 사용합니다 제가 질문을 &quot;이번에 전시회를 할...  \n",
       "10  뤼튼이 쳇지피티 인가요? 아니면 유사 ai인가요? 뤼튼은 챗GPT와 유사한 AI 기...  \n",
       "11  어느 날 부터 쳇지피티 화면이 아래와 같이 이상하게 보입니다.ㅠㅠ 해결 방법이 있을...  \n",
       "12  쳇 지피티에서 캐릭터를 제작하면 또 다른사람에게 똑같은 컨셉으로 해주나요? 요청에따...  \n",
       "13  쌤들이 자꾸 쳇지피티 쓰면 다잡아서 점수 낮게준다던데 그걸 어떻게 구별해요? 그냥 ...  \n",
       "14  쳇지피티한테 퍼스널 컬러 분석 겸 얼굴 사진 보냈는데 칭찬해주더니만.... 메모리 ...  \n",
       "15  이거 이런 식으로 댓글 달리는거 쳇지피티에서 찾은건가요? 저런거 딱봐도 질문 복붙해...  \n",
       "16  너무 답답하고 저 같은 현상 겪으신 분들이 안 보여 지식인 써보아요 지피티에 어떤 ...  \n",
       "17  정확한건가요? 이게 뭔 말인지 몇월몇시 몇년 몇일인지좀 알려주세요 이게 존재하지 않...  \n",
       "18  채팅에 첨부 파일이 있으므로 계속하려면 gpt-4 뭐시기 필요하다면서 5시간 후 한...  \n",
       "19  안녕하세요 제가 아는 분 쳇지피티를 대신 결제 해줘서 그 분 계정에 제 체크카드를 ...  \n",
       "20  대학 과제 인터넷 같은거 좀 많이 보고 쓰면 무슨 위반법?? 저작권에 걸린다 하잖아...  \n",
       "21  고치는 방법좀 알려주세요 다시하기누르시고요.안돼면 다른채팅치셨다가 다시 원래하려던걸...  \n",
       "22  쳇지피티로 다들 숙제하던데 무슴앱 깔아야되나요 무료로요 자세이 알려주새요 ㅜ 숙제를...  \n",
       "23  쓰다보니까 한계에 도달했다면서 플러스로 업그레이드 하라는데.. X 누르니까 사라지긴...  \n",
       "24  유튜브 채널을 가입하려고 하는데 이름은 김은율이고 쳇지피티에 도움을 요청했는데 너무...  \n",
       "25  정말 급한데 지피티 쓰면 계속 이롷게 뜨르더라구요… 지피티에서 지피티 탐색하기로 찾...  \n",
       "26  쳇지피티를 사용하고 있는데 사진을 올리려고 하는데 업로드한도를 다썼다고 하는데 어쩌...  \n",
       "27  법카로 쳇지피티 결제햇는데 결제영수증 어디서 출력할 수 있나요 아무리 찾아도 안나오...  \n",
       "28  쳇 지피티를 4버전을 결제하여 사용하는데 계속 몇번 질문하면 사용량 상한에 도달했다...  \n",
       "29  한국어로 사용하기 좋은 쳇지피티 앱을 소개해주세요 한국어로 사용하기 좋은 쳇지피티 ...  "
      ]
     },
     "execution_count": 68,
     "metadata": {},
     "output_type": "execute_result"
    }
   ],
   "source": [
    "# keyword를 display수만큼 지식in검색 결과를 데이터프레임에 (방법 1 크롤링)\n",
    "\n",
    "import requests\n",
    "import pandas as pd\n",
    "import json\n",
    "from dotenv import load_dotenv\n",
    "import os\n",
    "\n",
    "load_dotenv() \n",
    "client_id = os.getenv('Client_ID')\n",
    "client_secret = os.getenv('Client_Secret')\n",
    "keyword = \"쳇지피티\"\n",
    "cnt = 30\n",
    "url = f'https://openapi.naver.com/v1/search/kin.json?query={keyword}&display={cnt}'\n",
    "headers = {'X-Naver-Client-Id':client_id,\n",
    "           'X-Naver-Client-Secret':client_secret}\n",
    "response = requests.get(url, headers = headers)\n",
    "# response.status_code\n",
    "# items = json.loads(response.text)['items'] : json.loads() -방법 1과 방법 2\n",
    "items = response.json()['items']  # 방법 1에서만 가능한 함수\n",
    "items_list = []\n",
    "for item in items :\n",
    "    items_list.append([\n",
    "        item.get('title').replace('<b>','').replace('</b>',''),  # item['title']\n",
    "        item.get('link'),\n",
    "        item.get('description').replace('<b>','').replace('</b>','')\n",
    "    ])\n",
    "df = pd.DataFrame(items_list, columns = ['title','link','description'])\n",
    "df\n",
    "#print(df.loc[0, 'link'])"
   ]
  },
  {
   "cell_type": "code",
   "execution_count": 69,
   "id": "e66b8761",
   "metadata": {
    "ExecuteTime": {
     "end_time": "2025-05-29T06:37:37.304273Z",
     "start_time": "2025-05-29T06:37:37.290558Z"
    }
   },
   "outputs": [],
   "source": [
    "# 함수 작성\n",
    "\n",
    "def get_naver_kin(keyword, cnt) :\n",
    "    import requests\n",
    "    import pandas as pd\n",
    "    import json\n",
    "    from dotenv import load_dotenv\n",
    "    import os\n",
    "    \n",
    "    load_dotenv() \n",
    "    client_id = os.getenv('Client_ID')\n",
    "    client_secret = os.getenv('Client_Secret')\n",
    "\n",
    "    url = f'https://openapi.naver.com/v1/search/kin.json?query={keyword}&display={cnt}'\n",
    "    headers = {'X-Naver-Client-Id':client_id,\n",
    "               'X-Naver-Client-Secret':client_secret}\n",
    "    response = requests.get(url, headers = headers)\n",
    "    # items = json.loads(response.text)['items'] : json.loads() -방법 1과 방법 2\n",
    "    items = response.json()['items']  # 방법 1에서만 가능한 함수\n",
    "    items_list = []\n",
    "    for item in items :\n",
    "        items_list.append([\n",
    "            item.get('title').replace('<b>','').replace('</b>',''),  # item['title']\n",
    "            item.get('link'),\n",
    "            item.get('description').replace('<b>','').replace('</b>','')\n",
    "        ])\n",
    "    return pd.DataFrame(items_list, columns = ['title','link','description'])"
   ]
  },
  {
   "cell_type": "code",
   "execution_count": 70,
   "id": "7b0ef470",
   "metadata": {
    "ExecuteTime": {
     "end_time": "2025-05-29T06:37:44.839907Z",
     "start_time": "2025-05-29T06:37:44.711488Z"
    }
   },
   "outputs": [
    {
     "data": {
      "text/html": [
       "<div>\n",
       "<style scoped>\n",
       "    .dataframe tbody tr th:only-of-type {\n",
       "        vertical-align: middle;\n",
       "    }\n",
       "\n",
       "    .dataframe tbody tr th {\n",
       "        vertical-align: top;\n",
       "    }\n",
       "\n",
       "    .dataframe thead th {\n",
       "        text-align: right;\n",
       "    }\n",
       "</style>\n",
       "<table border=\"1\" class=\"dataframe\">\n",
       "  <thead>\n",
       "    <tr style=\"text-align: right;\">\n",
       "      <th></th>\n",
       "      <th>title</th>\n",
       "      <th>link</th>\n",
       "      <th>description</th>\n",
       "    </tr>\n",
       "  </thead>\n",
       "  <tbody>\n",
       "    <tr>\n",
       "      <th>0</th>\n",
       "      <td>영어로 청바지를 뭐라고하나요?</td>\n",
       "      <td>https://kin.naver.com/qna/detail.naver?d1id=11...</td>\n",
       "      <td>영어로 청바지를 뭐라고하나요? 안녕하세요~ 선생님도 매월 시험보는 목동영어학원 길벗...</td>\n",
       "    </tr>\n",
       "    <tr>\n",
       "      <th>1</th>\n",
       "      <td>전 남자인데, 누워서 청바지를 입으면 고환이 아플 수?</td>\n",
       "      <td>https://kin.naver.com/qna/detail.naver?d1id=7&amp;...</td>\n",
       "      <td>전 남자인데, 누워서 청바지를 입으면 고환이 아플 수? 안녕하세요. 하이닥-네이버 ...</td>\n",
       "    </tr>\n",
       "    <tr>\n",
       "      <th>2</th>\n",
       "      <td>청바지 없는데 면접취소 할까요?</td>\n",
       "      <td>https://kin.naver.com/qna/detail.naver?d1id=6&amp;...</td>\n",
       "      <td>낼 알바 면접인데 츄리닝만 있고 청바지가 없어요 취소할까요? 아님 청바지는 아니어도...</td>\n",
       "    </tr>\n",
       "    <tr>\n",
       "      <th>3</th>\n",
       "      <td>고관절 지방이식 후 청바지</td>\n",
       "      <td>https://kin.naver.com/qna/detail.naver?d1id=7&amp;...</td>\n",
       "      <td>현재 고관절(골반) 지방이식 한 지 두달 가까이 되어가는데,꽉 끼는 청바지나 레깅스...</td>\n",
       "    </tr>\n",
       "    <tr>\n",
       "      <th>4</th>\n",
       "      <td>임영웅 청바지 입은 사진?</td>\n",
       "      <td>https://kin.naver.com/qna/detail.naver?d1id=3&amp;...</td>\n",
       "      <td>임영웅 사진첩 만들고 있는데요! 청바지 입은 사진 갖고 계신분 공유부탁드려요! 임영...</td>\n",
       "    </tr>\n",
       "  </tbody>\n",
       "</table>\n",
       "</div>"
      ],
      "text/plain": [
       "                            title  \\\n",
       "0                영어로 청바지를 뭐라고하나요?   \n",
       "1  전 남자인데, 누워서 청바지를 입으면 고환이 아플 수?   \n",
       "2               청바지 없는데 면접취소 할까요?   \n",
       "3                  고관절 지방이식 후 청바지   \n",
       "4                  임영웅 청바지 입은 사진?   \n",
       "\n",
       "                                                link  \\\n",
       "0  https://kin.naver.com/qna/detail.naver?d1id=11...   \n",
       "1  https://kin.naver.com/qna/detail.naver?d1id=7&...   \n",
       "2  https://kin.naver.com/qna/detail.naver?d1id=6&...   \n",
       "3  https://kin.naver.com/qna/detail.naver?d1id=7&...   \n",
       "4  https://kin.naver.com/qna/detail.naver?d1id=3&...   \n",
       "\n",
       "                                         description  \n",
       "0  영어로 청바지를 뭐라고하나요? 안녕하세요~ 선생님도 매월 시험보는 목동영어학원 길벗...  \n",
       "1  전 남자인데, 누워서 청바지를 입으면 고환이 아플 수? 안녕하세요. 하이닥-네이버 ...  \n",
       "2  낼 알바 면접인데 츄리닝만 있고 청바지가 없어요 취소할까요? 아님 청바지는 아니어도...  \n",
       "3  현재 고관절(골반) 지방이식 한 지 두달 가까이 되어가는데,꽉 끼는 청바지나 레깅스...  \n",
       "4  임영웅 사진첩 만들고 있는데요! 청바지 입은 사진 갖고 계신분 공유부탁드려요! 임영...  "
      ]
     },
     "execution_count": 70,
     "metadata": {},
     "output_type": "execute_result"
    }
   ],
   "source": [
    "get_naver_kin(\"청바지\", 20).head()"
   ]
  },
  {
   "cell_type": "markdown",
   "id": "af08af69",
   "metadata": {},
   "source": [
    "### quiz) 네이버 open API를 이용해서 청바지 이미지 100건 데이터를 csv파일로 저장\n",
    "\n",
    "- 데이터 : 제목, 이미지링크, 썸네일링크, 높이, 폭"
   ]
  },
  {
   "cell_type": "code",
   "execution_count": 72,
   "id": "f6c8bbd6",
   "metadata": {
    "ExecuteTime": {
     "end_time": "2025-05-29T06:41:24.380299Z",
     "start_time": "2025-05-29T06:41:24.222674Z"
    }
   },
   "outputs": [
    {
     "data": {
      "text/html": [
       "<div>\n",
       "<style scoped>\n",
       "    .dataframe tbody tr th:only-of-type {\n",
       "        vertical-align: middle;\n",
       "    }\n",
       "\n",
       "    .dataframe tbody tr th {\n",
       "        vertical-align: top;\n",
       "    }\n",
       "\n",
       "    .dataframe thead th {\n",
       "        text-align: right;\n",
       "    }\n",
       "</style>\n",
       "<table border=\"1\" class=\"dataframe\">\n",
       "  <thead>\n",
       "    <tr style=\"text-align: right;\">\n",
       "      <th></th>\n",
       "      <th>no</th>\n",
       "      <th>title</th>\n",
       "      <th>link</th>\n",
       "      <th>thumbnail</th>\n",
       "      <th>sizeheight</th>\n",
       "      <th>sizewidth</th>\n",
       "    </tr>\n",
       "  </thead>\n",
       "  <tbody>\n",
       "    <tr>\n",
       "      <th>0</th>\n",
       "      <td>1</td>\n",
       "      <td>BINIWU 심플 빈티지 워싱 청바지 남자 봄가을 루즈핏 통바지 28 빈티지블루</td>\n",
       "      <td>http://shopping.phinf.naver.net/main_5172227/5...</td>\n",
       "      <td>https://search.pstatic.net/common/?type=b150&amp;s...</td>\n",
       "      <td>800</td>\n",
       "      <td>800</td>\n",
       "    </tr>\n",
       "  </tbody>\n",
       "</table>\n",
       "</div>"
      ],
      "text/plain": [
       "   no                                         title  \\\n",
       "0   1  BINIWU 심플 빈티지 워싱 청바지 남자 봄가을 루즈핏 통바지 28 빈티지블루   \n",
       "\n",
       "                                                link  \\\n",
       "0  http://shopping.phinf.naver.net/main_5172227/5...   \n",
       "\n",
       "                                           thumbnail sizeheight sizewidth  \n",
       "0  https://search.pstatic.net/common/?type=b150&s...        800       800  "
      ]
     },
     "execution_count": 72,
     "metadata": {},
     "output_type": "execute_result"
    }
   ],
   "source": [
    "import requests\n",
    "import pandas as pd\n",
    "from dotenv import load_dotenv\n",
    "import os\n",
    "\n",
    "load_dotenv() \n",
    "client_id = os.getenv('Client_ID')\n",
    "client_secret = os.getenv('Client_Secret')\n",
    "word = \"청바지\"\n",
    "url = f'https://openapi.naver.com/v1/search/image?query={word}&display=100'\n",
    "headers = {'X-Naver-Client-Id':client_id,\n",
    "           'X-Naver-Client-Secret':client_secret}\n",
    "response = requests.get(url, headers = headers)\n",
    "items = response.json()['items']\n",
    "items_list = []\n",
    "for idx, item in enumerate(items) :\n",
    "    title = item.get('title')\n",
    "    link = item.get('link')\n",
    "    thumbnail = item.get('thumbnail')\n",
    "    sizeheight = item.get('sizeheight')\n",
    "    sizewidth = item.get('sizewidth')\n",
    "    items_list.append({\n",
    "        'no':idx + 1,\n",
    "        'title':title,\n",
    "        'link':link,\n",
    "        'thumbnail':thumbnail,\n",
    "        'sizeheight':sizeheight,\n",
    "        'sizewidth':sizewidth\n",
    "    })\n",
    "    # link와 thumbnail을 저장\n",
    "df = pd.DataFrame(items_list)\n",
    "df.head(1)"
   ]
  },
  {
   "cell_type": "code",
   "execution_count": 73,
   "id": "ff465ae3",
   "metadata": {
    "ExecuteTime": {
     "end_time": "2025-05-29T06:41:29.573527Z",
     "start_time": "2025-05-29T06:41:29.559565Z"
    }
   },
   "outputs": [
    {
     "data": {
      "text/plain": [
       "'https://thumbnail8.coupangcdn.com/thumbnails/remote/492x492ex/image/vendor_inventory/images/2017/09/07/17/1/837feb8c-041e-4921-bd39-174fec765a2a.jpg'"
      ]
     },
     "execution_count": 73,
     "metadata": {},
     "output_type": "execute_result"
    }
   ],
   "source": [
    "df.loc[3, 'link']"
   ]
  },
  {
   "cell_type": "code",
   "execution_count": 74,
   "id": "24badba8",
   "metadata": {
    "ExecuteTime": {
     "end_time": "2025-05-29T06:41:36.778174Z",
     "start_time": "2025-05-29T06:41:36.762876Z"
    }
   },
   "outputs": [
    {
     "data": {
      "text/html": [
       "<div>\n",
       "<style scoped>\n",
       "    .dataframe tbody tr th:only-of-type {\n",
       "        vertical-align: middle;\n",
       "    }\n",
       "\n",
       "    .dataframe tbody tr th {\n",
       "        vertical-align: top;\n",
       "    }\n",
       "\n",
       "    .dataframe thead th {\n",
       "        text-align: right;\n",
       "    }\n",
       "</style>\n",
       "<table border=\"1\" class=\"dataframe\">\n",
       "  <thead>\n",
       "    <tr style=\"text-align: right;\">\n",
       "      <th></th>\n",
       "      <th>no</th>\n",
       "      <th>title</th>\n",
       "      <th>link</th>\n",
       "      <th>thumbnail</th>\n",
       "      <th>sizeheight</th>\n",
       "      <th>sizewidth</th>\n",
       "    </tr>\n",
       "  </thead>\n",
       "  <tbody>\n",
       "  </tbody>\n",
       "</table>\n",
       "</div>"
      ],
      "text/plain": [
       "Empty DataFrame\n",
       "Columns: [no, title, link, thumbnail, sizeheight, sizewidth]\n",
       "Index: []"
      ]
     },
     "execution_count": 74,
     "metadata": {},
     "output_type": "execute_result"
    }
   ],
   "source": [
    "df[df['link'].str.find('?')!=-1]"
   ]
  },
  {
   "cell_type": "code",
   "execution_count": 75,
   "id": "84d6ace5",
   "metadata": {
    "ExecuteTime": {
     "end_time": "2025-05-29T06:41:42.584438Z",
     "start_time": "2025-05-29T06:41:42.561500Z"
    }
   },
   "outputs": [
    {
     "data": {
      "text/plain": [
       "'http://shop1.phinf.naver.net/20250503_295/1746250611381Vinxl_JPEG/21192829047529977_2039968073.jpeg'"
      ]
     },
     "execution_count": 75,
     "metadata": {},
     "output_type": "execute_result"
    }
   ],
   "source": [
    "df[~df['link'].str.endswith('jpg')].loc[5, 'link']"
   ]
  },
  {
   "cell_type": "code",
   "execution_count": 78,
   "id": "c4f28d98",
   "metadata": {
    "ExecuteTime": {
     "end_time": "2025-05-29T06:44:21.215747Z",
     "start_time": "2025-05-29T06:44:21.203258Z"
    }
   },
   "outputs": [],
   "source": [
    "def save_img(attr, idx, query, url) :\n",
    "    import requests\n",
    "    \n",
    "    '{attr}_{idx}_{query}.{확장자} 이미지 저장'\n",
    "    file_extension = url.split('.')[-1]\n",
    "    quote_index = file_extension.find('?')\n",
    "    \n",
    "    if quote_index != -1 :\n",
    "        file_extension = file_extension[:quote_index]\n",
    "#     print(file_extension)\n",
    "    img = requests.get(url).content\n",
    "    open(f'ch14_image/{attr}_{idx}_{query}.{file_extension}', 'wb').write(img)"
   ]
  },
  {
   "cell_type": "code",
   "execution_count": 79,
   "id": "6f11d281",
   "metadata": {
    "ExecuteTime": {
     "end_time": "2025-05-29T06:44:22.174963Z",
     "start_time": "2025-05-29T06:44:22.055338Z"
    }
   },
   "outputs": [],
   "source": [
    "save_img('메인', 1, '청바지', df.loc[5, 'link'])"
   ]
  },
  {
   "cell_type": "code",
   "execution_count": 80,
   "id": "0784b085",
   "metadata": {
    "ExecuteTime": {
     "end_time": "2025-05-29T06:56:01.822897Z",
     "start_time": "2025-05-29T06:56:01.802432Z"
    }
   },
   "outputs": [],
   "source": [
    "# word image 100개 검색한 데이터는 csv파일로, 이미지는 ch14_image폴더에 저장되는 함수\n",
    "def get_naver_save_image(word) :\n",
    "    import requests\n",
    "    import pandas as pd\n",
    "    from dotenv import load_dotenv\n",
    "    import os\n",
    "\n",
    "    load_dotenv() \n",
    "    client_id = os.getenv('Client_ID')\n",
    "    client_secret = os.getenv('Client_Secret')\n",
    "    \n",
    "    url = f'https://openapi.naver.com/v1/search/image?query={word}&display=100'\n",
    "    headers = {'X-Naver-Client-Id':client_id,\n",
    "               'X-Naver-Client-Secret':client_secret}\n",
    "    response = requests.get(url, headers = headers)\n",
    "    items = response.json()['items']\n",
    "    items_list = []\n",
    "    for idx, item in enumerate(items) :\n",
    "        title = item.get('title')\n",
    "        link = item.get('link')\n",
    "        thumbnail = item.get('thumbnail')\n",
    "        sizeheight = item.get('sizeheight')\n",
    "        sizewidth = item.get('sizewidth')\n",
    "        items_list.append({\n",
    "            'no':idx + 1,\n",
    "            'title':title,\n",
    "            'link':link,\n",
    "            'thumbnail':thumbnail,\n",
    "            'sizeheight':sizeheight,\n",
    "            'sizewidth':sizewidth\n",
    "        })\n",
    "        # link와 thumbnail을 저장\n",
    "        save_img('메인', idx + 1, word, link)\n",
    "        save_img('썸네일', idx + 1, word, thumbnail)\n",
    "        # 20%, 40%, 60%, 80% 지점에서 message 출력\n",
    "        if idx / 20 == round(idx / 20) :\n",
    "            print(f'~ ~ ~ {idx}% 진행중입니다 ~ ~ ~')\n",
    "    df = pd.DataFrame(items_list)\n",
    "    df.to_csv(f'ch14_image/{word}.csv', index = False)\n",
    "    print('~ ~ ~ 이미지 및 csv 파일 저장 완료 ~ ~ ~')"
   ]
  },
  {
   "cell_type": "code",
   "execution_count": 81,
   "id": "bbee5134",
   "metadata": {
    "ExecuteTime": {
     "end_time": "2025-05-29T06:56:20.880454Z",
     "start_time": "2025-05-29T06:56:12.727618Z"
    }
   },
   "outputs": [
    {
     "name": "stdout",
     "output_type": "stream",
     "text": [
      "~ ~ ~ 0% 진행중입니다 ~ ~ ~\n",
      "~ ~ ~ 20% 진행중입니다 ~ ~ ~\n",
      "~ ~ ~ 40% 진행중입니다 ~ ~ ~\n",
      "~ ~ ~ 60% 진행중입니다 ~ ~ ~\n",
      "~ ~ ~ 80% 진행중입니다 ~ ~ ~\n",
      "~ ~ ~ 이미지 및 csv 파일 저장 완료 ~ ~ ~\n"
     ]
    }
   ],
   "source": [
    "get_naver_save_image('청바지')"
   ]
  },
  {
   "cell_type": "markdown",
   "id": "3f260edd",
   "metadata": {},
   "source": [
    "## 2.3 xml 파일"
   ]
  },
  {
   "cell_type": "markdown",
   "id": "55be44ea",
   "metadata": {},
   "source": [
    "## 1) 기상예측 RSS 활용\n",
    "\n",
    "- http://www.kma.go.kr/repositary/xml/fct/mon/img/fct_mon1rss_108_20250529.xml"
   ]
  },
  {
   "cell_type": "code",
   "execution_count": 82,
   "id": "b0badd80",
   "metadata": {
    "ExecuteTime": {
     "end_time": "2025-05-29T07:37:09.091555Z",
     "start_time": "2025-05-29T07:37:09.073333Z"
    }
   },
   "outputs": [],
   "source": [
    "from urllib.request import urlopen\n",
    "from bs4 import BeautifulSoup\n",
    "import pandas as pd"
   ]
  },
  {
   "cell_type": "code",
   "execution_count": 84,
   "id": "db0588a4",
   "metadata": {
    "ExecuteTime": {
     "end_time": "2025-05-29T07:47:50.185968Z",
     "start_time": "2025-05-29T07:47:50.063288Z"
    }
   },
   "outputs": [
    {
     "name": "stdout",
     "output_type": "stream",
     "text": [
      "<class 'pandas.core.frame.DataFrame'>\n",
      "RangeIndex: 13 entries, 0 to 12\n",
      "Data columns (total 9 columns):\n",
      " #   Column  Non-Null Count  Dtype  \n",
      "---  ------  --------------  -----  \n",
      " 0   지역      13 non-null     object \n",
      " 1   1주평년기온  13 non-null     float64\n",
      " 2   1주범위    13 non-null     object \n",
      " 3   1주최저    13 non-null     object \n",
      " 4   1주최고    13 non-null     object \n",
      " 5   2주평년기온  13 non-null     object \n",
      " 6   2주범위    13 non-null     object \n",
      " 7   2주최저    13 non-null     object \n",
      " 8   2주최고    13 non-null     object \n",
      "dtypes: float64(1), object(8)\n",
      "memory usage: 1.0+ KB\n"
     ]
    }
   ],
   "source": [
    "url = 'http://www.kma.go.kr/repositary/xml/fct/mon/img/fct_mon1rss_108_20250529.xml'\n",
    "response = urlopen(url)\n",
    "# response.status\n",
    "# response.getcode()\n",
    "soup = BeautifulSoup(response, \"xml\")  # pip install lxml\n",
    "locals = soup.find_all('local_ta')\n",
    "# locals[1]\n",
    "items_list = []\n",
    "for local in locals :\n",
    "    local_ta_name = local.select_one('local_ta_name').text\n",
    "    week1_normalYear = local.select_one('week1_local_ta_normalYear').text  # 평년기온\n",
    "    week1_similarRange = local.select_one('week1_local_ta_similarRange').text  # 기온범위\n",
    "    week1_min = local.select_one('week1_local_ta_minVal').text\n",
    "    week1_max = local.select_one('week1_local_ta_maxVal').text\n",
    "    week2_normalYear = local.select_one('week2_local_ta_normalYear').text # 평년기온\n",
    "    week2_similarRange = local.select_one('week2_local_ta_similarRange').text # 기온범위\n",
    "    week2_min = local.select_one('week2_local_ta_minVal').text\n",
    "    week2_max = local.select_one('week2_local_ta_maxVal').text\n",
    "    items_list.append({\n",
    "        '지역':local_ta_name,\n",
    "        '1주평년기온':float(week1_normalYear),\n",
    "        '1주범위':week1_similarRange,\n",
    "        '1주최저':week1_min,\n",
    "        '1주최고':week1_max,\n",
    "        '2주평년기온':week2_normalYear,\n",
    "        '2주범위':week2_similarRange,\n",
    "        '2주최저':week2_min,\n",
    "        '2주최고':week2_max\n",
    "    })\n",
    "df = pd.DataFrame(items_list)\n",
    "df.info()"
   ]
  },
  {
   "cell_type": "markdown",
   "id": "c00f57d4",
   "metadata": {},
   "source": [
    "## 2) 버스위치정보 조회 (OpenAPI 활용)\n",
    "\n",
    "- data.go.kr에서\n",
    "    - 서울특별시_노선정보조회 서비스(busRouteId, stationNm-정류소명, station-정류소id)\n",
    "    - 서울특별시_버스위치정보조회 서비스(busRouteId->버스들위치)"
   ]
  },
  {
   "cell_type": "code",
   "execution_count": 2,
   "id": "360277f0",
   "metadata": {
    "ExecuteTime": {
     "end_time": "2025-05-30T01:05:38.414995Z",
     "start_time": "2025-05-30T01:05:38.399966Z"
    }
   },
   "outputs": [],
   "source": [
    "# step 1 : 버스번호 → busRouteID\n",
    "# 노선정보조회 서비스 3번 getBusRouteList 서비스"
   ]
  },
  {
   "cell_type": "code",
   "execution_count": 3,
   "id": "46f93967",
   "metadata": {
    "ExecuteTime": {
     "end_time": "2025-05-30T01:07:12.011922Z",
     "start_time": "2025-05-30T01:07:11.991314Z"
    }
   },
   "outputs": [
    {
     "name": "stdout",
     "output_type": "stream",
     "text": [
      "key = kWiLqR5an3qgHfkycjPmjxAie5mGGzW0LuPktrSNA3kqpsmWfsLSW9TxR9k0khrZgJLecVcO88n5LsStz845eg%3D%3D\n",
      "skey = 4NtrramYr27xbO1tRqxk8MpGh9lOPDn3KwoB8iSTmgtfYqKEtklwIOzmBm7mZ8fx%2Fn%2FH13UjJh9s%2BwIwrquhiA%3D%3D\n"
     ]
    }
   ],
   "source": [
    "from dotenv import load_dotenv\n",
    "import os\n",
    "\n",
    "load_dotenv()  # dotenv_path = '.env'\n",
    "# print('key =', os.getenv('key'))\n",
    "# print('skey =', os.getenv('skey'))"
   ]
  },
  {
   "cell_type": "code",
   "execution_count": 9,
   "id": "2d7f295a",
   "metadata": {
    "ExecuteTime": {
     "end_time": "2025-05-30T01:59:27.777973Z",
     "start_time": "2025-05-30T01:59:27.716831Z"
    }
   },
   "outputs": [
    {
     "name": "stdout",
     "output_type": "stream",
     "text": [
      "busRouteId : 100100088\n"
     ]
    }
   ],
   "source": [
    "import requests\n",
    "from bs4 import BeautifulSoup\n",
    "from urllib.request import urlretrieve  # url경로파일을 내 pc에 저장\n",
    "busNumber = '603'\n",
    "key = os.getenv('key')  # 일반인증키(Encoding)\n",
    "\n",
    "url1 = f'http://ws.bus.go.kr/api/rest/busRouteInfo/getBusRouteList?ServiceKey={key}&strSrch={busNumber}'\n",
    "# print(url)\n",
    "# response = requests.get(url)\n",
    "# soup = BeautifulSoup(response.text, \"xml\")\n",
    "savefilename = 'data/ch14_busInfo.xml'\n",
    "urlretrieve(url1, savefilename)  # url경로 파일을 savefilename으로 저장\n",
    "xml = open(savefilename, 'r', encoding = 'utf-8').read()\n",
    "soup = BeautifulSoup(xml, \"xml\")\n",
    "\n",
    "for item in soup.select('itemList') :\n",
    "    busRouteNm = item.select_one('busRouteNm').text\n",
    "    if busRouteNm == busNumber :\n",
    "        busRouteId = item.select_one('busRouteId').text\n",
    "        break\n",
    "print('busRouteId :', busRouteId)"
   ]
  },
  {
   "cell_type": "code",
   "execution_count": null,
   "id": "c8ff35fd",
   "metadata": {},
   "outputs": [],
   "source": [
    "# step 2 : busRouteId로 버스 정류장 목록 (정류장이름과 정류장id)\n",
    "# 노선정보조회 서비스 4번 getStaionsByRouteList"
   ]
  },
  {
   "cell_type": "code",
   "execution_count": 12,
   "id": "d258ce61",
   "metadata": {
    "ExecuteTime": {
     "end_time": "2025-05-30T02:33:17.240370Z",
     "start_time": "2025-05-30T02:33:17.081123Z"
    }
   },
   "outputs": [
    {
     "name": "stdout",
     "output_type": "stream",
     "text": [
      "http://ws.bus.go.kr/api/rest/busRouteInfo/getStaionByRoute?ServiceKey=kWiLqR5an3qgHfkycjPmjxAie5mGGzW0LuPktrSNA3kqpsmWfsLSW9TxR9k0khrZgJLecVcO88n5LsStz845eg%3D%3D&busRouteId=100100088\n",
      "603 번 정류장 갯수 : 80\n"
     ]
    },
    {
     "data": {
      "text/html": [
       "<div>\n",
       "<style scoped>\n",
       "    .dataframe tbody tr th:only-of-type {\n",
       "        vertical-align: middle;\n",
       "    }\n",
       "\n",
       "    .dataframe tbody tr th {\n",
       "        vertical-align: top;\n",
       "    }\n",
       "\n",
       "    .dataframe thead th {\n",
       "        text-align: right;\n",
       "    }\n",
       "</style>\n",
       "<table border=\"1\" class=\"dataframe\">\n",
       "  <thead>\n",
       "    <tr style=\"text-align: right;\">\n",
       "      <th></th>\n",
       "      <th>정류소명</th>\n",
       "      <th>id</th>\n",
       "      <th>경도</th>\n",
       "      <th>위도</th>\n",
       "    </tr>\n",
       "  </thead>\n",
       "  <tbody>\n",
       "    <tr>\n",
       "      <th>0</th>\n",
       "      <td>신월동우성상가</td>\n",
       "      <td>114000190</td>\n",
       "      <td>126.833838</td>\n",
       "      <td>37.52179</td>\n",
       "    </tr>\n",
       "    <tr>\n",
       "      <th>1</th>\n",
       "      <td>신월문화체육센터</td>\n",
       "      <td>114000189</td>\n",
       "      <td>126.835249</td>\n",
       "      <td>37.519969</td>\n",
       "    </tr>\n",
       "    <tr>\n",
       "      <th>2</th>\n",
       "      <td>신월시영아파트중문</td>\n",
       "      <td>114000251</td>\n",
       "      <td>126.83658</td>\n",
       "      <td>37.519083</td>\n",
       "    </tr>\n",
       "    <tr>\n",
       "      <th>3</th>\n",
       "      <td>금실어린이공원</td>\n",
       "      <td>114000226</td>\n",
       "      <td>126.8378532017</td>\n",
       "      <td>37.5174285164</td>\n",
       "    </tr>\n",
       "    <tr>\n",
       "      <th>4</th>\n",
       "      <td>신한은행신월동지점</td>\n",
       "      <td>114000115</td>\n",
       "      <td>126.8418635354</td>\n",
       "      <td>37.5178279621</td>\n",
       "    </tr>\n",
       "  </tbody>\n",
       "</table>\n",
       "</div>"
      ],
      "text/plain": [
       "        정류소명         id              경도             위도\n",
       "0    신월동우성상가  114000190      126.833838       37.52179\n",
       "1   신월문화체육센터  114000189      126.835249      37.519969\n",
       "2  신월시영아파트중문  114000251       126.83658      37.519083\n",
       "3    금실어린이공원  114000226  126.8378532017  37.5174285164\n",
       "4  신한은행신월동지점  114000115  126.8418635354  37.5178279621"
      ]
     },
     "execution_count": 12,
     "metadata": {},
     "output_type": "execute_result"
    }
   ],
   "source": [
    "import pandas as pd\n",
    "\n",
    "url2 = f'http://ws.bus.go.kr/api/rest/busRouteInfo/getStaionByRoute?ServiceKey={key}&busRouteId={busRouteId}'\n",
    "print(url2)\n",
    "response = requests.get(url2)\n",
    "soup = BeautifulSoup(response.text, \"xml\")\n",
    "itemLists = soup.find_all('itemList')\n",
    "print(busNumber, '번 정류장 갯수 :', len(itemLists))\n",
    "bus_station = []\n",
    "for itemList in itemLists:\n",
    "    # 정류장이름, 정류장id, 경도, 위도\n",
    "    stationNm = itemList.find('stationNm').text\n",
    "    station = itemList.find('station').text\n",
    "    gpsX = itemList.find('gpsX').text\n",
    "    gpsY = itemList.find('gpsY').text\n",
    "    bus_station.append([stationNm, station, gpsX, gpsY])\n",
    "df = pd.DataFrame(bus_station, columns = ['정류소명','id','경도','위도'])\n",
    "df.head()"
   ]
  },
  {
   "cell_type": "code",
   "execution_count": null,
   "id": "cc8792d6",
   "metadata": {},
   "outputs": [],
   "source": [
    "# step 3 : busRouteId로 버스 위치 정보 조회"
   ]
  },
  {
   "cell_type": "code",
   "execution_count": 17,
   "id": "f8c6c275",
   "metadata": {
    "ExecuteTime": {
     "end_time": "2025-05-30T03:10:16.730924Z",
     "start_time": "2025-05-30T03:10:16.620626Z"
    }
   },
   "outputs": [
    {
     "name": "stdout",
     "output_type": "stream",
     "text": [
      "http://ws.bus.go.kr/api/rest/buspos/getBusPosByRtid?ServiceKey=kWiLqR5an3qgHfkycjPmjxAie5mGGzW0LuPktrSNA3kqpsmWfsLSW9TxR9k0khrZgJLecVcO88n5LsStz845eg%3D%3D&busRouteId=100100088\n",
      "운행중인 버스 수 : 14\n"
     ]
    },
    {
     "data": {
      "text/html": [
       "<div>\n",
       "<style scoped>\n",
       "    .dataframe tbody tr th:only-of-type {\n",
       "        vertical-align: middle;\n",
       "    }\n",
       "\n",
       "    .dataframe tbody tr th {\n",
       "        vertical-align: top;\n",
       "    }\n",
       "\n",
       "    .dataframe thead th {\n",
       "        text-align: right;\n",
       "    }\n",
       "</style>\n",
       "<table border=\"1\" class=\"dataframe\">\n",
       "  <thead>\n",
       "    <tr style=\"text-align: right;\">\n",
       "      <th></th>\n",
       "      <th>차량번호</th>\n",
       "      <th>혼잡도</th>\n",
       "      <th>경도</th>\n",
       "      <th>위도</th>\n",
       "      <th>최종정류소Id</th>\n",
       "      <th>다음정류소Id</th>\n",
       "      <th>도착소요시간</th>\n",
       "    </tr>\n",
       "  </thead>\n",
       "  <tbody>\n",
       "    <tr>\n",
       "      <th>0</th>\n",
       "      <td>서울70사7980</td>\n",
       "      <td>여유</td>\n",
       "      <td>126.841895</td>\n",
       "      <td>37.517994</td>\n",
       "      <td>114000115</td>\n",
       "      <td>114000147</td>\n",
       "      <td>354</td>\n",
       "    </tr>\n",
       "    <tr>\n",
       "      <th>1</th>\n",
       "      <td>서울70사7946</td>\n",
       "      <td>여유</td>\n",
       "      <td>126.87733</td>\n",
       "      <td>37.532587</td>\n",
       "      <td>114000049</td>\n",
       "      <td>118000087</td>\n",
       "      <td>718</td>\n",
       "    </tr>\n",
       "    <tr>\n",
       "      <th>2</th>\n",
       "      <td>서울70사7945</td>\n",
       "      <td>여유</td>\n",
       "      <td>126.897142</td>\n",
       "      <td>37.536202</td>\n",
       "      <td>118000127</td>\n",
       "      <td>118000087</td>\n",
       "      <td>292</td>\n",
       "    </tr>\n",
       "    <tr>\n",
       "      <th>3</th>\n",
       "      <td>서울70사7976</td>\n",
       "      <td>여유</td>\n",
       "      <td>126.918233</td>\n",
       "      <td>37.552671</td>\n",
       "      <td>113000424</td>\n",
       "      <td>101000006</td>\n",
       "      <td>2103</td>\n",
       "    </tr>\n",
       "    <tr>\n",
       "      <th>4</th>\n",
       "      <td>서울70사7944</td>\n",
       "      <td>여유</td>\n",
       "      <td>126.936652</td>\n",
       "      <td>37.555095</td>\n",
       "      <td>113000420</td>\n",
       "      <td>101000006</td>\n",
       "      <td>1480</td>\n",
       "    </tr>\n",
       "  </tbody>\n",
       "</table>\n",
       "</div>"
      ],
      "text/plain": [
       "        차량번호 혼잡도          경도         위도    최종정류소Id    다음정류소Id 도착소요시간\n",
       "0  서울70사7980  여유  126.841895  37.517994  114000115  114000147    354\n",
       "1  서울70사7946  여유   126.87733  37.532587  114000049  118000087    718\n",
       "2  서울70사7945  여유  126.897142  37.536202  118000127  118000087    292\n",
       "3  서울70사7976  여유  126.918233  37.552671  113000424  101000006   2103\n",
       "4  서울70사7944  여유  126.936652  37.555095  113000420  101000006   1480"
      ]
     },
     "execution_count": 17,
     "metadata": {},
     "output_type": "execute_result"
    }
   ],
   "source": [
    "url3 = f'http://ws.bus.go.kr/api/rest/buspos/getBusPosByRtid?ServiceKey={key}&busRouteId={busRouteId}'\n",
    "print(url3)\n",
    "response = requests.get(url3)\n",
    "soup = BeautifulSoup(response.text, \"xml\")\n",
    "bus_position = []\n",
    "itemLists = soup.select('itemList')\n",
    "print('운행중인 버스 수 :', len(itemLists))\n",
    "for itemList in soup.select('itemList'):\n",
    "    # 차량번호, 혼잡도, 경도, 위도, 최종정류장id, 다음장류장id, 도착소요시간\n",
    "    plainNo = itemList.select_one('plainNo').text\n",
    "    # print(plainNo)\n",
    "    congetion = itemList.select_one('congetion').text\n",
    "    congetion = '여유' if congetion == '3' \\\n",
    "            else \"보통\" if congetion == '4' \\\n",
    "            else \"혼잡\" if congetion == '5' \\\n",
    "            else '매우혼잡'\n",
    "    # print(congetion)\n",
    "    gpsX = itemList.select_one('gpsX').text\n",
    "    gpsY = itemList.select_one('gpsY').text\n",
    "    lastStnId = itemList.select_one('lastStnId').text\n",
    "    nextStId = itemList.select_one('nextStId').text\n",
    "    nextStTm = itemList.select_one('nextStTm').text\n",
    "    bus_position.append({\n",
    "        '차량번호':plainNo,\n",
    "        '혼잡도':congetion,\n",
    "        '경도':gpsX,\n",
    "        '위도':gpsY,\n",
    "        '최종정류소Id':lastStnId,\n",
    "        '다음정류소Id':nextStId,\n",
    "        '도착소요시간':nextStTm\n",
    "    })\n",
    "df_pos = pd.DataFrame(bus_position)\n",
    "df_pos.head()"
   ]
  },
  {
   "cell_type": "code",
   "execution_count": 19,
   "id": "50917cdc",
   "metadata": {
    "ExecuteTime": {
     "end_time": "2025-05-30T03:34:57.860058Z",
     "start_time": "2025-05-30T03:34:57.842104Z"
    }
   },
   "outputs": [
    {
     "data": {
      "text/plain": [
       "'신한은행신월동지점'"
      ]
     },
     "execution_count": 19,
     "metadata": {},
     "output_type": "execute_result"
    }
   ],
   "source": [
    "# id가 114000115인 정류소명\n",
    "\n",
    "df.loc[df['id'] == '114000115', '정류소명'].iloc[0]"
   ]
  },
  {
   "cell_type": "code",
   "execution_count": 22,
   "id": "5fd65efb",
   "metadata": {
    "ExecuteTime": {
     "end_time": "2025-05-30T03:36:00.662270Z",
     "start_time": "2025-05-30T03:36:00.646425Z"
    }
   },
   "outputs": [],
   "source": [
    "def station_name(row):\n",
    "    row['최종정류소명'] = df.loc[df['id'] == row['최종정류소Id'], '정류소명'].iloc[0]\n",
    "    row['다음정류소명'] = df.loc[df['id'] == row['다음정류소Id'], '정류소명'].iloc[0]\n",
    "    return row"
   ]
  },
  {
   "cell_type": "code",
   "execution_count": 23,
   "id": "08a00130",
   "metadata": {
    "ExecuteTime": {
     "end_time": "2025-05-30T03:36:03.234767Z",
     "start_time": "2025-05-30T03:36:03.213448Z"
    }
   },
   "outputs": [
    {
     "data": {
      "text/plain": [
       "차량번호        서울70사7980\n",
       "혼잡도                여유\n",
       "경도         126.841895\n",
       "위도          37.517994\n",
       "최종정류소Id     114000115\n",
       "다음정류소Id     114000147\n",
       "도착소요시간            354\n",
       "최종정류소명      신한은행신월동지점\n",
       "다음정류소명         신정네거리역\n",
       "Name: 0, dtype: object"
      ]
     },
     "execution_count": 23,
     "metadata": {},
     "output_type": "execute_result"
    }
   ],
   "source": [
    "station_name(df_pos.loc[0])"
   ]
  },
  {
   "cell_type": "code",
   "execution_count": 24,
   "id": "1b2573e6",
   "metadata": {
    "ExecuteTime": {
     "end_time": "2025-05-30T03:36:11.349020Z",
     "start_time": "2025-05-30T03:36:11.291731Z"
    }
   },
   "outputs": [
    {
     "data": {
      "text/html": [
       "<div>\n",
       "<style scoped>\n",
       "    .dataframe tbody tr th:only-of-type {\n",
       "        vertical-align: middle;\n",
       "    }\n",
       "\n",
       "    .dataframe tbody tr th {\n",
       "        vertical-align: top;\n",
       "    }\n",
       "\n",
       "    .dataframe thead th {\n",
       "        text-align: right;\n",
       "    }\n",
       "</style>\n",
       "<table border=\"1\" class=\"dataframe\">\n",
       "  <thead>\n",
       "    <tr style=\"text-align: right;\">\n",
       "      <th></th>\n",
       "      <th>차량번호</th>\n",
       "      <th>혼잡도</th>\n",
       "      <th>경도</th>\n",
       "      <th>위도</th>\n",
       "      <th>최종정류소Id</th>\n",
       "      <th>다음정류소Id</th>\n",
       "      <th>도착소요시간</th>\n",
       "      <th>최종정류소명</th>\n",
       "      <th>다음정류소명</th>\n",
       "    </tr>\n",
       "  </thead>\n",
       "  <tbody>\n",
       "    <tr>\n",
       "      <th>7</th>\n",
       "      <td>서울70사7942</td>\n",
       "      <td>여유</td>\n",
       "      <td>126.972624</td>\n",
       "      <td>37.557051</td>\n",
       "      <td>101000008</td>\n",
       "      <td>101000006</td>\n",
       "      <td>155</td>\n",
       "      <td>숭례문</td>\n",
       "      <td>서울역버스환승센터</td>\n",
       "    </tr>\n",
       "  </tbody>\n",
       "</table>\n",
       "</div>"
      ],
      "text/plain": [
       "        차량번호 혼잡도          경도         위도    최종정류소Id    다음정류소Id 도착소요시간 최종정류소명  \\\n",
       "7  서울70사7942  여유  126.972624  37.557051  101000008  101000006    155    숭례문   \n",
       "\n",
       "      다음정류소명  \n",
       "7  서울역버스환승센터  "
      ]
     },
     "execution_count": 24,
     "metadata": {},
     "output_type": "execute_result"
    }
   ],
   "source": [
    "df_pos = df_pos.apply(station_name, axis=1)\n",
    "df_pos.sample()"
   ]
  },
  {
   "cell_type": "code",
   "execution_count": 25,
   "id": "325ff99b",
   "metadata": {
    "ExecuteTime": {
     "end_time": "2025-05-30T03:36:22.339754Z",
     "start_time": "2025-05-30T03:36:22.302365Z"
    }
   },
   "outputs": [
    {
     "data": {
      "text/html": [
       "<div>\n",
       "<style scoped>\n",
       "    .dataframe tbody tr th:only-of-type {\n",
       "        vertical-align: middle;\n",
       "    }\n",
       "\n",
       "    .dataframe tbody tr th {\n",
       "        vertical-align: top;\n",
       "    }\n",
       "\n",
       "    .dataframe thead th {\n",
       "        text-align: right;\n",
       "    }\n",
       "</style>\n",
       "<table border=\"1\" class=\"dataframe\">\n",
       "  <thead>\n",
       "    <tr style=\"text-align: right;\">\n",
       "      <th></th>\n",
       "      <th>차량번호</th>\n",
       "      <th>혼잡도</th>\n",
       "      <th>경도</th>\n",
       "      <th>위도</th>\n",
       "      <th>최종정류소Id</th>\n",
       "      <th>다음정류소Id</th>\n",
       "      <th>도착소요시간</th>\n",
       "      <th>최종정류소명</th>\n",
       "      <th>다음정류소명</th>\n",
       "    </tr>\n",
       "  </thead>\n",
       "  <tbody>\n",
       "    <tr>\n",
       "      <th>0</th>\n",
       "      <td>서울70사7980</td>\n",
       "      <td>여유</td>\n",
       "      <td>126.841895</td>\n",
       "      <td>37.517994</td>\n",
       "      <td>114000115</td>\n",
       "      <td>114000147</td>\n",
       "      <td>354</td>\n",
       "      <td>신한은행신월동지점</td>\n",
       "      <td>신정네거리역</td>\n",
       "    </tr>\n",
       "    <tr>\n",
       "      <th>1</th>\n",
       "      <td>서울70사7946</td>\n",
       "      <td>여유</td>\n",
       "      <td>126.87733</td>\n",
       "      <td>37.532587</td>\n",
       "      <td>114000049</td>\n",
       "      <td>118000087</td>\n",
       "      <td>718</td>\n",
       "      <td>목동5단지C상가.목동운동장북문</td>\n",
       "      <td>당산역</td>\n",
       "    </tr>\n",
       "    <tr>\n",
       "      <th>2</th>\n",
       "      <td>서울70사7945</td>\n",
       "      <td>여유</td>\n",
       "      <td>126.897142</td>\n",
       "      <td>37.536202</td>\n",
       "      <td>118000127</td>\n",
       "      <td>118000087</td>\n",
       "      <td>292</td>\n",
       "      <td>선유도역.롯데웰푸드</td>\n",
       "      <td>당산역</td>\n",
       "    </tr>\n",
       "    <tr>\n",
       "      <th>3</th>\n",
       "      <td>서울70사7976</td>\n",
       "      <td>여유</td>\n",
       "      <td>126.918233</td>\n",
       "      <td>37.552671</td>\n",
       "      <td>113000424</td>\n",
       "      <td>101000006</td>\n",
       "      <td>2103</td>\n",
       "      <td>합정역</td>\n",
       "      <td>서울역버스환승센터</td>\n",
       "    </tr>\n",
       "    <tr>\n",
       "      <th>4</th>\n",
       "      <td>서울70사7944</td>\n",
       "      <td>여유</td>\n",
       "      <td>126.936652</td>\n",
       "      <td>37.555095</td>\n",
       "      <td>113000420</td>\n",
       "      <td>101000006</td>\n",
       "      <td>1480</td>\n",
       "      <td>신촌오거리.현대백화점</td>\n",
       "      <td>서울역버스환승센터</td>\n",
       "    </tr>\n",
       "    <tr>\n",
       "      <th>5</th>\n",
       "      <td>서울70사7975</td>\n",
       "      <td>여유</td>\n",
       "      <td>126.958826</td>\n",
       "      <td>37.557193</td>\n",
       "      <td>113000477</td>\n",
       "      <td>101000006</td>\n",
       "      <td>1036</td>\n",
       "      <td>아현역</td>\n",
       "      <td>서울역버스환승센터</td>\n",
       "    </tr>\n",
       "    <tr>\n",
       "      <th>6</th>\n",
       "      <td>서울70사7943</td>\n",
       "      <td>여유</td>\n",
       "      <td>126.975951</td>\n",
       "      <td>37.561658</td>\n",
       "      <td>101000034</td>\n",
       "      <td>101000006</td>\n",
       "      <td>266</td>\n",
       "      <td>삼성본관앞</td>\n",
       "      <td>서울역버스환승센터</td>\n",
       "    </tr>\n",
       "    <tr>\n",
       "      <th>7</th>\n",
       "      <td>서울70사7942</td>\n",
       "      <td>여유</td>\n",
       "      <td>126.972624</td>\n",
       "      <td>37.557051</td>\n",
       "      <td>101000008</td>\n",
       "      <td>101000006</td>\n",
       "      <td>155</td>\n",
       "      <td>숭례문</td>\n",
       "      <td>서울역버스환승센터</td>\n",
       "    </tr>\n",
       "    <tr>\n",
       "      <th>8</th>\n",
       "      <td>서울70사7974</td>\n",
       "      <td>여유</td>\n",
       "      <td>126.962769</td>\n",
       "      <td>37.559283</td>\n",
       "      <td>112000054</td>\n",
       "      <td>113000411</td>\n",
       "      <td>367</td>\n",
       "      <td>충정로역2호선</td>\n",
       "      <td>이대역</td>\n",
       "    </tr>\n",
       "    <tr>\n",
       "      <th>9</th>\n",
       "      <td>서울70사7941</td>\n",
       "      <td>여유</td>\n",
       "      <td>126.941737</td>\n",
       "      <td>37.556609</td>\n",
       "      <td>113000411</td>\n",
       "      <td>118000091</td>\n",
       "      <td>1194</td>\n",
       "      <td>이대역</td>\n",
       "      <td>당산역2번출구</td>\n",
       "    </tr>\n",
       "    <tr>\n",
       "      <th>10</th>\n",
       "      <td>서울70사7940</td>\n",
       "      <td>여유</td>\n",
       "      <td>126.913721</td>\n",
       "      <td>37.549515</td>\n",
       "      <td>113000412</td>\n",
       "      <td>118000091</td>\n",
       "      <td>323</td>\n",
       "      <td>합정역</td>\n",
       "      <td>당산역2번출구</td>\n",
       "    </tr>\n",
       "    <tr>\n",
       "      <th>11</th>\n",
       "      <td>서울70사7924</td>\n",
       "      <td>여유</td>\n",
       "      <td>126.869698</td>\n",
       "      <td>37.525614</td>\n",
       "      <td>114000060</td>\n",
       "      <td>114000063</td>\n",
       "      <td>100</td>\n",
       "      <td>목동7단지</td>\n",
       "      <td>목동7단지.종로학원</td>\n",
       "    </tr>\n",
       "    <tr>\n",
       "      <th>12</th>\n",
       "      <td>서울70사7923</td>\n",
       "      <td>여유</td>\n",
       "      <td>126.852935</td>\n",
       "      <td>37.521055</td>\n",
       "      <td>114000177</td>\n",
       "      <td>114000193</td>\n",
       "      <td>651</td>\n",
       "      <td>신정네거리역</td>\n",
       "      <td>신월동우성상가</td>\n",
       "    </tr>\n",
       "    <tr>\n",
       "      <th>13</th>\n",
       "      <td>서울70사7996</td>\n",
       "      <td>여유</td>\n",
       "      <td>126.849809</td>\n",
       "      <td>37.522317</td>\n",
       "      <td>114000108</td>\n",
       "      <td>114000193</td>\n",
       "      <td>537</td>\n",
       "      <td>신정네거리해누리분수광장</td>\n",
       "      <td>신월동우성상가</td>\n",
       "    </tr>\n",
       "  </tbody>\n",
       "</table>\n",
       "</div>"
      ],
      "text/plain": [
       "         차량번호 혼잡도          경도         위도    최종정류소Id    다음정류소Id 도착소요시간  \\\n",
       "0   서울70사7980  여유  126.841895  37.517994  114000115  114000147    354   \n",
       "1   서울70사7946  여유   126.87733  37.532587  114000049  118000087    718   \n",
       "2   서울70사7945  여유  126.897142  37.536202  118000127  118000087    292   \n",
       "3   서울70사7976  여유  126.918233  37.552671  113000424  101000006   2103   \n",
       "4   서울70사7944  여유  126.936652  37.555095  113000420  101000006   1480   \n",
       "5   서울70사7975  여유  126.958826  37.557193  113000477  101000006   1036   \n",
       "6   서울70사7943  여유  126.975951  37.561658  101000034  101000006    266   \n",
       "7   서울70사7942  여유  126.972624  37.557051  101000008  101000006    155   \n",
       "8   서울70사7974  여유  126.962769  37.559283  112000054  113000411    367   \n",
       "9   서울70사7941  여유  126.941737  37.556609  113000411  118000091   1194   \n",
       "10  서울70사7940  여유  126.913721  37.549515  113000412  118000091    323   \n",
       "11  서울70사7924  여유  126.869698  37.525614  114000060  114000063    100   \n",
       "12  서울70사7923  여유  126.852935  37.521055  114000177  114000193    651   \n",
       "13  서울70사7996  여유  126.849809  37.522317  114000108  114000193    537   \n",
       "\n",
       "              최종정류소명      다음정류소명  \n",
       "0          신한은행신월동지점      신정네거리역  \n",
       "1   목동5단지C상가.목동운동장북문         당산역  \n",
       "2         선유도역.롯데웰푸드         당산역  \n",
       "3                합정역   서울역버스환승센터  \n",
       "4        신촌오거리.현대백화점   서울역버스환승센터  \n",
       "5                아현역   서울역버스환승센터  \n",
       "6              삼성본관앞   서울역버스환승센터  \n",
       "7                숭례문   서울역버스환승센터  \n",
       "8            충정로역2호선         이대역  \n",
       "9                이대역     당산역2번출구  \n",
       "10               합정역     당산역2번출구  \n",
       "11             목동7단지  목동7단지.종로학원  \n",
       "12            신정네거리역     신월동우성상가  \n",
       "13      신정네거리해누리분수광장     신월동우성상가  "
      ]
     },
     "execution_count": 25,
     "metadata": {},
     "output_type": "execute_result"
    }
   ],
   "source": [
    "# 컬럼명에 id가 포함된 컬럼 제거\n",
    "\n",
    "drop_true = df_pos.columns.str.contains('id')\n",
    "drop_column_name = df_pos.columns[drop_true]\n",
    "df_pos.drop(drop_column_name, axis=1)"
   ]
  },
  {
   "cell_type": "markdown",
   "id": "b1559de5",
   "metadata": {},
   "source": [
    "# 연습문제\n",
    "\n",
    "- yes24의 베스트셀러 정보를 제공하는 사이트에서 베스트셀러 정보를 수집해서 파일에 저장\n",
    "- 베스트셀러 정보 수집 주소 : http://www.yes24.com/24/category/bestseller\n",
    "- ch14_yes24.csv 또는 ch14_yes24.txt 로 출력"
   ]
  },
  {
   "cell_type": "code",
   "execution_count": 89,
   "id": "ba2dbc7a",
   "metadata": {
    "ExecuteTime": {
     "end_time": "2025-05-29T09:09:28.337515Z",
     "start_time": "2025-05-29T09:09:26.606545Z"
    }
   },
   "outputs": [],
   "source": [
    "# 순위, 책이름, 저자 및 출판사, 가격 (1-48위)\n",
    "\n",
    "import requests\n",
    "from urllib.request import urlopen\n",
    "from bs4 import BeautifulSoup\n",
    "import pandas as pd\n",
    "\n",
    "pages = 2\n",
    "bestseller = []\n",
    "for pageNumber in range(1, pages + 1) :\n",
    "    url = f'https://www.yes24.com/product/category/bestseller?categoryNumber=001&pageNumber={pageNumber}'\n",
    "    response = requests.get(url)\n",
    "    soup = BeautifulSoup(response.text, 'html.parser')\n",
    "    \n",
    "    rank_els = soup.select('div.img_upper > em.ico.rank')\n",
    "    ranks = [int(rank_el.text) for rank_el in rank_els]\n",
    "    bookname_els = soup.select('div.item_info > div.info_row > a.gd_name')\n",
    "    booknames = [bookname_el.text for bookname_el in bookname_els]\n",
    "    author_els = soup.select('span.authPub.info_auth')\n",
    "    authors = [author_el.text.strip() for author_el in author_els]\n",
    "    publisher_els = soup.select('div.info_row.info_pubGrp > span.authPub.info_pub')\n",
    "    publishers = [publisher_el.text for publisher_el in publisher_els]\n",
    "    price_els = soup.select('div.info_row > strong.txt_num')\n",
    "    prices = [price_el.text for price_el in price_els]\n",
    "    \n",
    "    for rank, bookname, author, publisher, price in zip(ranks, booknames, authors, publishers, prices):\n",
    "        # print(\"{},{},{},{},{}\".format(rank, title, writer, publisher, price))\n",
    "        bestseller_list.append({\n",
    "            'rank':rank, \n",
    "            'bookname':bookname,\n",
    "            'author':author,\n",
    "            'publisher':publisher,\n",
    "            'price':price})\n",
    "df = pd.DataFrame(bestseller_list)\n",
    "df.to_csv('data/ch14_yes24.csv', index=False)"
   ]
  },
  {
   "cell_type": "code",
   "execution_count": null,
   "id": "58250aa6",
   "metadata": {},
   "outputs": [],
   "source": []
  }
 ],
 "metadata": {
  "kernelspec": {
   "display_name": "Python 3 (ipykernel)",
   "language": "python",
   "name": "python3"
  },
  "language_info": {
   "codemirror_mode": {
    "name": "ipython",
    "version": 3
   },
   "file_extension": ".py",
   "mimetype": "text/x-python",
   "name": "python",
   "nbconvert_exporter": "python",
   "pygments_lexer": "ipython3",
   "version": "3.10.9"
  },
  "toc": {
   "base_numbering": 1,
   "nav_menu": {},
   "number_sections": false,
   "sideBar": true,
   "skip_h1_title": false,
   "title_cell": "Table of Contents",
   "title_sidebar": "Contents",
   "toc_cell": false,
   "toc_position": {
    "height": "calc(100% - 180px)",
    "left": "10px",
    "top": "150px",
    "width": "323.15px"
   },
   "toc_section_display": true,
   "toc_window_display": true
  },
  "varInspector": {
   "cols": {
    "lenName": 16,
    "lenType": 16,
    "lenVar": 40
   },
   "kernels_config": {
    "python": {
     "delete_cmd_postfix": "",
     "delete_cmd_prefix": "del ",
     "library": "var_list.py",
     "varRefreshCmd": "print(var_dic_list())"
    },
    "r": {
     "delete_cmd_postfix": ") ",
     "delete_cmd_prefix": "rm(",
     "library": "var_list.r",
     "varRefreshCmd": "cat(var_dic_list()) "
    }
   },
   "types_to_exclude": [
    "module",
    "function",
    "builtin_function_or_method",
    "instance",
    "_Feature"
   ],
   "window_display": false
  }
 },
 "nbformat": 4,
 "nbformat_minor": 5
}
