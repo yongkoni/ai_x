{
 "cells": [
  {
   "cell_type": "code",
   "execution_count": 30,
   "id": "59c68cac",
   "metadata": {},
   "outputs": [
    {
     "data": {
      "text/html": [
       "<style>\n",
       "div.container{width:86% !important;}\n",
       "div.cell.code_cell.rendered{width:100%;}\n",
       "div.CodeMirror {font-family:Consolas; font-size:12pt;}\n",
       "div.output {font-size:12pt; font-weight:bold;}\n",
       "div.input {font-family:Consolas; font-size:12pt;}\n",
       "div.prompt {min-width:70px;}\n",
       "div#toc-wrapper{padding-top:120px;}\n",
       "div.text_cell_render ul li{fontsize:12pt;padding:5px;}\n",
       "table.dataframe{font-size:12px;}))\n",
       "</style>\n"
      ],
      "text/plain": [
       "<IPython.core.display.HTML object>"
      ]
     },
     "metadata": {},
     "output_type": "display_data"
    }
   ],
   "source": [
    "from IPython.display import display, HTML\n",
    "display(HTML(\"\"\"<style>\n",
    "div.container{width:86% !important;}\n",
    "div.cell.code_cell.rendered{width:100%;}\n",
    "div.CodeMirror {font-family:Consolas; font-size:12pt;}\n",
    "div.output {font-size:12pt; font-weight:bold;}\n",
    "div.input {font-family:Consolas; font-size:12pt;}\n",
    "div.prompt {min-width:70px;}\n",
    "div#toc-wrapper{padding-top:120px;}\n",
    "div.text_cell_render ul li{fontsize:12pt;padding:5px;}\n",
    "table.dataframe{font-size:12px;}))\n",
    "</style>\n",
    "\"\"\"))"
   ]
  },
  {
   "cell_type": "markdown",
   "id": "7584ef98",
   "metadata": {},
   "source": [
    "<font size=\"5\" color=\"red\">ch14 웹데이터수집1 정적 공공api</font>"
   ]
  },
  {
   "cell_type": "markdown",
   "id": "ece9dead",
   "metadata": {},
   "source": [
    "# 1절. BeatifulSoup과 parser\n",
    "\n",
    "- pip install bs4 → 아나콘다를 설치하면 7500여개의 패키지 설치\n",
    "- 공식 사이트 : https://www.crummy.com/software/BeautifulSoup/\n",
    "- Docs : https://www.crummy.com/software/BeautifulSoup/bs4/doc/"
   ]
  },
  {
   "cell_type": "code",
   "execution_count": 31,
   "id": "457018cb",
   "metadata": {},
   "outputs": [],
   "source": [
    "import requests  # HTTP 요청 처리 lib\n",
    "from requests_file import FileAdapter"
   ]
  },
  {
   "cell_type": "code",
   "execution_count": 32,
   "id": "df546154",
   "metadata": {},
   "outputs": [
    {
     "data": {
      "text/plain": [
       "<Response [200]>"
      ]
     },
     "execution_count": 32,
     "metadata": {},
     "output_type": "execute_result"
    }
   ],
   "source": [
    "s = requests.Session()  # HTTP 요청 관리를 위한 \n",
    "s.mount(\"file://\", FileAdapter())\n",
    "response = s.get('file:///ai_x/letNote/01_python/data/ch14_sample.html')\n",
    "response"
   ]
  },
  {
   "cell_type": "code",
   "execution_count": 33,
   "id": "2932e006",
   "metadata": {},
   "outputs": [
    {
     "data": {
      "text/plain": [
       "200"
      ]
     },
     "execution_count": 33,
     "metadata": {},
     "output_type": "execute_result"
    }
   ],
   "source": [
    "response.status_code\n",
    "# 200 : 정상\n",
    "# 404 : 없는 페이지\n",
    "# 406 : get, post 오류"
   ]
  },
  {
   "cell_type": "code",
   "execution_count": 34,
   "id": "1f5d4f2d",
   "metadata": {},
   "outputs": [
    {
     "data": {
      "text/plain": [
       "b'<!DOCTYPE html>\\r\\n<html lang=\"en\">\\r\\n<head>\\r\\n  <meta charset=\"UTF-8\">\\r\\n</head>\\r\\n<body>\\r\\n  <h1 class=\"greeting css\" id=\"text\" title=\"greeting\">Hello, CSS</h1>\\r\\n  <h1 class=\"css\">Hi, CSS</h1>\\r\\n  <div id=\"subject\">subject \\xec\\x84\\xa0\\xed\\x83\\x9d\\xec\\x9e\\x90 \\xec\\x95\\x88\\xec\\x9d\\x98 \\xeb\\x82\\xb4\\xec\\x9a\\xa9</div>\\r\\n  <p>CSS \\xec\\x84\\xa0\\xed\\x83\\x9d\\xec\\x9e\\x90\\xeb\\x8a\\x94 \\xeb\\x8b\\xa4\\xec\\x96\\x91\\xed\\x95\\x9c \\xea\\xb3\\xb3\\xec\\x97\\x90\\xec\\x84\\x9c \\xed\\x99\\x9c\\xec\\x9a\\xa9\\xeb\\x90\\xa9\\xeb\\x8b\\x88\\xeb\\x8b\\xa4</p>\\r\\n  <div class=\"contents\">\\r\\n    \\xec\\x84\\xa0\\xed\\x83\\x9d\\xec\\x9e\\x90\\xeb\\xa5\\xbc \\xec\\x96\\xb4\\xeb\\x96\\xbb\\xea\\xb2\\x8c \\xec\\x9e\\x91\\xec\\x84\\xb1\\xed\\x95\\x98\\xeb\\x8a\\x90\\xeb\\x83\\x90\\xec\\x97\\x90 \\xeb\\x94\\xb0\\xeb\\x9d\\xbc\\r\\n    <span>\\xeb\\x8b\\xa4\\xeb\\xa5\\xb8<b>\\xec\\x9a\\x94\\xec\\x86\\x8c\\xea\\xb0\\x80 \\xeb\\xb0\\x98\\xed\\x99\\x98</b></span>\\xeb\\x90\\xa9\\xeb\\x8b\\x88\\xeb\\x8b\\xa4\\r\\n  </div>\\r\\n  <div>CSS \\xec\\x84\\xa0\\xed\\x83\\x9d\\xec\\x9e\\x90\\xeb\\x8a\\x94 \\xeb\\x8b\\xa4\\xec\\x96\\x91\\xed\\x95\\x9c \\xea\\xb3\\xb3\\xec\\x97\\x90 <b>\\xed\\x99\\x9c\\xec\\x9a\\xa9</b>\\xeb\\x90\\xa9\\xeb\\x8b\\x88\\xeb\\x8b\\xa4</div>\\r\\n</body>\\r\\n</html>'"
      ]
     },
     "execution_count": 34,
     "metadata": {},
     "output_type": "execute_result"
    }
   ],
   "source": [
    "response.content  # 바이너리 형식의 내용"
   ]
  },
  {
   "cell_type": "code",
   "execution_count": 35,
   "id": "1d49a2ad",
   "metadata": {},
   "outputs": [
    {
     "data": {
      "text/plain": [
       "'<!DOCTYPE html>\\r\\n<html lang=\"en\">\\r\\n<head>\\r\\n  <meta charset=\"UTF-8\">\\r\\n</head>\\r\\n<body>\\r\\n  <h1 class=\"greeting css\" id=\"text\" title=\"greeting\">Hello, CSS</h1>\\r\\n  <h1 class=\"css\">Hi, CSS</h1>\\r\\n  <div id=\"subject\">subject 선택자 안의 내용</div>\\r\\n  <p>CSS 선택자는 다양한 곳에서 활용됩니다</p>\\r\\n  <div class=\"contents\">\\r\\n    선택자를 어떻게 작성하느냐에 따라\\r\\n    <span>다른<b>요소가 반환</b></span>됩니다\\r\\n  </div>\\r\\n  <div>CSS 선택자는 다양한 곳에 <b>활용</b>됩니다</div>\\r\\n</body>\\r\\n</html>'"
      ]
     },
     "execution_count": 35,
     "metadata": {},
     "output_type": "execute_result"
    }
   ],
   "source": [
    "response.content.decode('utf-8')"
   ]
  },
  {
   "cell_type": "code",
   "execution_count": 36,
   "id": "6d165bfd",
   "metadata": {},
   "outputs": [
    {
     "data": {
      "text/plain": [
       "'<!DOCTYPE html>\\r\\n<html lang=\"en\">\\r\\n<head>\\r\\n  <meta charset=\"UTF-8\">\\r\\n</head>\\r\\n<body>\\r\\n  <h1 class=\"greeting css\" id=\"text\" title=\"greeting\">Hello, CSS</h1>\\r\\n  <h1 class=\"css\">Hi, CSS</h1>\\r\\n  <div id=\"subject\">subject 선택자 안의 내용</div>\\r\\n  <p>CSS 선택자는 다양한 곳에서 활용됩니다</p>\\r\\n  <div class=\"contents\">\\r\\n    선택자를 어떻게 작성하느냐에 따라\\r\\n    <span>다른<b>요소가 반환</b></span>됩니다\\r\\n  </div>\\r\\n  <div>CSS 선택자는 다양한 곳에 <b>활용</b>됩니다</div>\\r\\n</body>\\r\\n</html>'"
      ]
     },
     "execution_count": 36,
     "metadata": {},
     "output_type": "execute_result"
    }
   ],
   "source": [
    "response.text"
   ]
  },
  {
   "cell_type": "code",
   "execution_count": 37,
   "id": "a3d37a76",
   "metadata": {},
   "outputs": [],
   "source": [
    "# html 파싱\n",
    "\n",
    "from bs4 import BeautifulSoup\n",
    "\n",
    "soup = BeautifulSoup(response.content,  # response.text\n",
    "                    \"html.parser\")\n",
    "# soup"
   ]
  },
  {
   "cell_type": "code",
   "execution_count": 38,
   "id": "1e171724",
   "metadata": {},
   "outputs": [
    {
     "name": "stdout",
     "output_type": "stream",
     "text": [
      "el : <h1 class=\"greeting css\" id=\"text\" title=\"greeting\">Hello, CSS</h1>\n",
      "el.text : Hello, CSS\n",
      "el.string : Hello, CSS\n",
      "el의 속성들 : {'class': ['greeting', 'css'], 'id': 'text', 'title': 'greeting'}\n",
      "el의 title속성 : greeting\n",
      "el의 title속성 : greeting\n",
      "el의 이름 : h1\n"
     ]
    }
   ],
   "source": [
    "# soup.select_one('선택자') : 해당 선택자 처음 하나만\n",
    "el = soup.select_one('h1')  # 처음 나오는 h1태그 하나만\n",
    "print('el :', el)\n",
    "print('el.text :', el.text)\n",
    "print('el.string :', el.string)\n",
    "print('el의 속성들 :', el.attrs)\n",
    "print('el의 title속성 :', el.attrs['title'])\n",
    "print('el의 title속성 :', el.attrs.get('title'))\n",
    "print('el의 이름 :', el.name)"
   ]
  },
  {
   "cell_type": "code",
   "execution_count": 39,
   "id": "bd055030",
   "metadata": {},
   "outputs": [
    {
     "name": "stdout",
     "output_type": "stream",
     "text": [
      "리스트 el : [<h1 class=\"greeting css\" id=\"text\" title=\"greeting\">Hello, CSS</h1>, <h1 class=\"css\">Hi, CSS</h1>]\n",
      "el의 text들 : ['Hello, CSS', 'Hi, CSS']\n",
      "el의 속성들 : [{'class': ['greeting', 'css'], 'id': 'text', 'title': 'greeting'}, {'class': ['css']}]\n",
      "el의 class속성들 : [['greeting', 'css'], ['css']]\n"
     ]
    }
   ],
   "source": [
    "# soup.select('선택자') : 해당 선택자 모든 엘리먼트를 리스트로\n",
    "\n",
    "el = soup.select('h1')\n",
    "print('리스트 el :', el)\n",
    "print('el의 text들 :', [e.text for e in el])\n",
    "# for e in el:\n",
    "#     print(e.text, end=',')\n",
    "print('el의 속성들 :', [e.attrs for e in el])\n",
    "print('el의 class속성들 :', [e.attrs.get('class') for e in el])"
   ]
  },
  {
   "cell_type": "code",
   "execution_count": 40,
   "id": "7ae807be",
   "metadata": {},
   "outputs": [
    {
     "name": "stdout",
     "output_type": "stream",
     "text": [
      "select_one : <h1 class=\"greeting css\" id=\"text\" title=\"greeting\">Hello, CSS</h1>\n",
      "find : <h1 class=\"greeting css\" id=\"text\" title=\"greeting\">Hello, CSS</h1>\n",
      "find : <h1 class=\"greeting css\" id=\"text\" title=\"greeting\">Hello, CSS</h1>\n",
      "\n",
      "select_one : <h1 class=\"greeting css\" id=\"text\" title=\"greeting\">Hello, CSS</h1>\n",
      "find : <h1 class=\"greeting css\" id=\"text\" title=\"greeting\">Hello, CSS</h1>\n",
      "\n",
      "select\n"
     ]
    }
   ],
   "source": [
    "# select_one(선택자)와 find(태그, 속성)\n",
    "\n",
    "print('select_one :', soup.select_one('h1.css'))\n",
    "print('find :', soup.find('h1', {'class':'css'}))\n",
    "print('find :', soup.find('h1', class_ = 'css'))\n",
    "print()\n",
    "print('select_one :', soup.select_one('h1#text'))\n",
    "print('find :', soup.find('h1', {'id':'text'}))\n",
    "print()\n",
    "print('select')"
   ]
  },
  {
   "cell_type": "code",
   "execution_count": 41,
   "id": "71de8404",
   "metadata": {},
   "outputs": [
    {
     "name": "stdout",
     "output_type": "stream",
     "text": [
      "모든 h1.css, span 태그(select) : [<h1 class=\"greeting css\" id=\"text\" title=\"greeting\">Hello, CSS</h1>, <h1 class=\"css\">Hi, CSS</h1>, <span>다른<b>요소가 반환</b></span>]\n",
      "모든 h1.css, span 태그(find_all) : [<h1 class=\"greeting css\" id=\"text\" title=\"greeting\">Hello, CSS</h1>, <h1 class=\"css\">Hi, CSS</h1>]\n"
     ]
    }
   ],
   "source": [
    "# selct(선택)와 find_all(태그, 속성)\n",
    "\n",
    "print('모든 h1.css, span 태그(select) :', soup.select('h1.css, span'))\n",
    "print('모든 h1.css, span 태그(find_all) :', soup.find_all(['h1', 'span'], class_ = 'css'))"
   ]
  },
  {
   "cell_type": "code",
   "execution_count": 42,
   "id": "cee06ef9",
   "metadata": {},
   "outputs": [
    {
     "name": "stdout",
     "output_type": "stream",
     "text": [
      "find_all(빈 list) : []\n",
      "find(None) : None\n",
      "select(빈 list) : []\n",
      "select_one(None) : None\n"
     ]
    }
   ],
   "source": [
    "# 없는 엘리먼트 찾기\n",
    "\n",
    "print('find_all(빈 list) :', soup.find_all('a', class_ = 'css'))\n",
    "print('find(None) :', soup.find('a', class_ = 'css'))\n",
    "print('select(빈 list) :', soup.select('a.css'))\n",
    "print('select_one(None) :', soup.select_one('a.css'))"
   ]
  },
  {
   "cell_type": "markdown",
   "id": "0cc7cf5f",
   "metadata": {},
   "source": [
    "# 2절. 정적 웹 데이터 수집 (정적 웹크롤링)\n",
    "\n",
    "- json, xml, html"
   ]
  },
  {
   "cell_type": "markdown",
   "id": "f70c3dff",
   "metadata": {},
   "source": [
    "## 2.1 JSON 파일\n",
    "\n",
    "- request모듈(get)\n",
    "- urllib.request모듈(urlopen)"
   ]
  },
  {
   "cell_type": "code",
   "execution_count": 43,
   "id": "2d354a65",
   "metadata": {},
   "outputs": [],
   "source": [
    "# 크롤링 허용 범위는 사이트마다 ~/robots.txt에서 확인할 수 있습니다"
   ]
  },
  {
   "cell_type": "code",
   "execution_count": 69,
   "id": "7509b9d8",
   "metadata": {},
   "outputs": [
    {
     "data": {
      "text/plain": [
       "(<Response [403]>, 403)"
      ]
     },
     "execution_count": 69,
     "metadata": {},
     "output_type": "execute_result"
    }
   ],
   "source": [
    "# 방법1\n",
    "\n",
    "import requests\n",
    "\n",
    "response = requests.get('http://api.github.com')\n",
    "response, response.status_code"
   ]
  },
  {
   "cell_type": "code",
   "execution_count": 70,
   "id": "4f68b342",
   "metadata": {},
   "outputs": [],
   "source": [
    "# 방법 2\n",
    "\n",
    "from urllib.request import urlopen\n",
    "\n",
    "# response = urlopen('http://api.github.com')\n",
    "# response"
   ]
  },
  {
   "cell_type": "code",
   "execution_count": 65,
   "id": "116baa4c",
   "metadata": {},
   "outputs": [
    {
     "data": {
      "text/plain": [
       "str"
      ]
     },
     "execution_count": 65,
     "metadata": {},
     "output_type": "execute_result"
    }
   ],
   "source": [
    "text = '{\"속성1\": \"값1\", \"속성2\": \"값2\"}'\n",
    "type(text)"
   ]
  },
  {
   "cell_type": "code",
   "execution_count": 66,
   "id": "2f2e02ec",
   "metadata": {},
   "outputs": [
    {
     "data": {
      "text/plain": [
       "{'속성1': '값1', '속성2': '값2'}"
      ]
     },
     "execution_count": 66,
     "metadata": {},
     "output_type": "execute_result"
    }
   ],
   "source": [
    "# 문자(딕셔너리 타입)를 딕셔너리\n",
    "# '{\"속성1\":\"값1\", \"속성2\":\"값2\"}' → {\"속성1\":\"값1\", \"속성2\":\"값2\"}\n",
    "\n",
    "import json\n",
    "\n",
    "json.loads(text)"
   ]
  },
  {
   "cell_type": "markdown",
   "id": "afd06dea",
   "metadata": {},
   "source": [
    "## 2.2 html 파일"
   ]
  },
  {
   "cell_type": "markdown",
   "id": "60073072",
   "metadata": {},
   "source": [
    "### 1) 환율정보 가져오기 (네이버 → 증권 → 시장지표)\n",
    "\n",
    "- https://finance.naver.com/marketindex/"
   ]
  },
  {
   "cell_type": "code",
   "execution_count": 46,
   "id": "11d10f39",
   "metadata": {},
   "outputs": [],
   "source": [
    "# 방법 1\n",
    "\n",
    "import requests\n",
    "from bs4 import BeautifulSoup\n",
    "\n",
    "url = 'https://finance.naver.com/marketindex/'\n",
    "response = requests.get(url)\n",
    "# response, response.status_code\n",
    "# response.content\n",
    "# response.content.decode('cp949')  # == response.text\n",
    "soup = BeautifulSoup(response.text, 'html.parser')  # response.content"
   ]
  },
  {
   "cell_type": "code",
   "execution_count": 47,
   "id": "40644713",
   "metadata": {},
   "outputs": [],
   "source": [
    "# 방법 2\n",
    "\n",
    "from urllib.request import urlopen\n",
    "\n",
    "response = urlopen(url)\n",
    "# response.status  # 상태코드\n",
    "# response.read().decode('cp949')\n",
    "soup = BeautifulSoup(response.read(), 'html.parser')  # response.read()"
   ]
  },
  {
   "cell_type": "code",
   "execution_count": 48,
   "id": "ce778b05",
   "metadata": {},
   "outputs": [
    {
     "name": "stdout",
     "output_type": "stream",
     "text": [
      "미국 USD\t일본 JPY(100엔)\t유럽연합 EUR\t중국 CNY\t달러/일본 엔\t유로/달러\t영국 파운드/달러\t달러인덱스\tWTI\t휘발유\t국제 금\t국내 금\t"
     ]
    }
   ],
   "source": [
    "title = soup.select('h3.h_lst > span.blind')\n",
    "for t in title :\n",
    "    print(t.text, end = '\\t')"
   ]
  },
  {
   "cell_type": "code",
   "execution_count": 56,
   "id": "5468a241",
   "metadata": {},
   "outputs": [
    {
     "data": {
      "text/plain": [
       "[1377, 952, 1557, 191, 144, 1, 1, 99, 61, 1633, 3300, 146255]"
      ]
     },
     "execution_count": 56,
     "metadata": {},
     "output_type": "execute_result"
    }
   ],
   "source": [
    "price = soup.select('div.head_info > span.value')\n",
    "[p.text for p in price]\n",
    "[round(float(p.text.replace(',',''))) for p in price]\n",
    "[round(float(''.join(p.text.split(',')))) for p in price]"
   ]
  },
  {
   "cell_type": "code",
   "execution_count": 50,
   "id": "7ed67ce7",
   "metadata": {},
   "outputs": [
    {
     "data": {
      "text/plain": [
       "1375"
      ]
     },
     "execution_count": 50,
     "metadata": {},
     "output_type": "execute_result"
    }
   ],
   "source": [
    "out = '1,374.70'\n",
    "round(float(''.join(out.split(','))))"
   ]
  },
  {
   "cell_type": "code",
   "execution_count": 53,
   "id": "44b1292f",
   "metadata": {},
   "outputs": [
    {
     "data": {
      "text/plain": [
       "1375"
      ]
     },
     "execution_count": 53,
     "metadata": {},
     "output_type": "execute_result"
    }
   ],
   "source": [
    "round(float(out.replace(',','')))"
   ]
  },
  {
   "cell_type": "code",
   "execution_count": 57,
   "id": "e66ab874",
   "metadata": {},
   "outputs": [
    {
     "data": {
      "text/plain": [
       "['원', '원', '원', '원', '엔', '달러', '달러', '', '달러', '원', '달러', '원']"
      ]
     },
     "execution_count": 57,
     "metadata": {},
     "output_type": "execute_result"
    }
   ],
   "source": [
    "unit = soup.select('div.head_info > span > span.blind')\n",
    "unit = [u.text for u in unit]\n",
    "unit.insert(7, '') # 7번째 index에 '' 추가\n",
    "unit"
   ]
  },
  {
   "cell_type": "code",
   "execution_count": 58,
   "id": "8186ade7",
   "metadata": {},
   "outputs": [
    {
     "data": {
      "text/plain": [
       "['상승', '하락', '하락', '하락', '상승', '하락', '하락', '상승', '하락', '하락', '하락', '상승']"
      ]
     },
     "execution_count": 58,
     "metadata": {},
     "output_type": "execute_result"
    }
   ],
   "source": [
    "status = soup.select('div.head_info > span.blind')\n",
    "[t.text for t in title]\n",
    "[p.text for p in price]\n",
    "unit\n",
    "[s.string for s in status]"
   ]
  },
  {
   "cell_type": "code",
   "execution_count": 59,
   "id": "f67d0ec5",
   "metadata": {},
   "outputs": [
    {
     "data": {
      "text/plain": [
       "(12, 12, 12, 12)"
      ]
     },
     "execution_count": 59,
     "metadata": {},
     "output_type": "execute_result"
    }
   ],
   "source": [
    "len(title), len(price), len(unit), len(status)"
   ]
  },
  {
   "cell_type": "code",
   "execution_count": 60,
   "id": "18f9c93d",
   "metadata": {},
   "outputs": [
    {
     "name": "stdout",
     "output_type": "stream",
     "text": [
      "미국 USD : 1,377.10원 - 상승\n",
      "일본 JPY(100엔) : 952.48원 - 하락\n",
      "유럽연합 EUR : 1,556.88원 - 하락\n",
      "중국 CNY : 191.32원 - 하락\n",
      "달러/일본 엔 : 144.3800엔 - 상승\n",
      "유로/달러 : 1.1342달러 - 하락\n",
      "영국 파운드/달러 : 1.3520달러 - 하락\n",
      "달러인덱스 : 99.4200 - 상승\n",
      "WTI : 60.89달러 - 하락\n",
      "휘발유 : 1633.17원 - 하락\n",
      "국제 금 : 3300.4달러 - 하락\n",
      "국내 금 : 146255.33원 - 상승\n"
     ]
    }
   ],
   "source": [
    "for idx in range(len(title)):\n",
    "    print(\"{} : {}{} - {}\".format(title[idx].text,\n",
    "                                 price[idx].text,\n",
    "                                 unit[idx],\n",
    "                                 status[idx].text))"
   ]
  },
  {
   "cell_type": "code",
   "execution_count": 61,
   "id": "f39f7881",
   "metadata": {},
   "outputs": [
    {
     "name": "stdout",
     "output_type": "stream",
     "text": [
      "미국 USD : 1,377.10원 - 상승\n",
      "일본 JPY(100엔) : 952.48원 - 하락\n",
      "유럽연합 EUR : 1,556.88원 - 하락\n",
      "중국 CNY : 191.32원 - 하락\n",
      "달러/일본 엔 : 144.3800엔 - 상승\n",
      "유로/달러 : 1.1342달러 - 하락\n",
      "영국 파운드/달러 : 1.3520달러 - 하락\n",
      "달러인덱스 : 99.4200 - 상승\n",
      "WTI : 60.89달러 - 하락\n",
      "휘발유 : 1633.17원 - 하락\n",
      "국제 금 : 3300.4달러 - 하락\n",
      "국내 금 : 146255.33원 - 상승\n"
     ]
    }
   ],
   "source": [
    "for t, p, u, s in zip(title, price, unit, status) :\n",
    "    print(\"{} : {}{} - {}\".format(t.text,\n",
    "                                  p.text,\n",
    "                                  u,\n",
    "                                  s.text))"
   ]
  },
  {
   "cell_type": "code",
   "execution_count": 63,
   "id": "18ef8818",
   "metadata": {},
   "outputs": [
    {
     "name": "stdout",
     "output_type": "stream",
     "text": [
      "1. 미국 USD : 1,377.10원 - 상승\n",
      "2. 일본 JPY(100엔) : 952.48원 - 하락\n",
      "3. 유럽연합 EUR : 1,556.88원 - 하락\n",
      "4. 중국 CNY : 191.32원 - 하락\n",
      "5. 달러/일본 엔 : 144.3800엔 - 상승\n",
      "6. 유로/달러 : 1.1342달러 - 하락\n",
      "7. 영국 파운드/달러 : 1.3520달러 - 하락\n",
      "8. 달러인덱스 : 99.4200 - 상승\n",
      "9. WTI : 60.89달러 - 하락\n",
      "10. 휘발유 : 1633.17원 - 하락\n",
      "11. 국제 금 : 3300.4달러 - 하락\n",
      "12. 국내 금 : 146255.33원 - 상승\n"
     ]
    }
   ],
   "source": [
    "for idx, (t, p, u, s) in enumerate(zip(title, price, unit, status)) :\n",
    "    print(\"{}. {} : {}{} - {}\".format(idx + 1,\n",
    "                                      t.text,\n",
    "                                      p.text,\n",
    "                                      u,\n",
    "                                      s.text))"
   ]
  },
  {
   "cell_type": "markdown",
   "id": "79ed28c9",
   "metadata": {},
   "source": [
    "### 2) 이번주 로또번호 출력\n",
    "\n",
    "- https://dhlottery.co.kr/gameResult.do?method=byWin(google에 \"로또번호 당첨번호 검색)\n",
    "```\n",
    "    1173회(2025년 05월 24일 추첨)\n",
    "    당첨번호 [1 5 18 20 30 35]\n",
    "    보너스 3\n",
    "```"
   ]
  },
  {
   "cell_type": "code",
   "execution_count": 71,
   "id": "03268c59",
   "metadata": {},
   "outputs": [],
   "source": [
    "# 방법 1의 soup 객체 생성\n",
    "\n",
    "import requests\n",
    "from bs4 import BeautifulSoup\n",
    "\n",
    "url = 'https://dhlottery.co.kr/gameResult.do?method=byWin'\n",
    "response = requests.get(url)\n",
    "soup = BeautifulSoup(response.text, 'html.parser')"
   ]
  },
  {
   "cell_type": "code",
   "execution_count": 72,
   "id": "ee5b3b70",
   "metadata": {},
   "outputs": [],
   "source": [
    "# 방법 2의 soup 객체 생성\n",
    "\n",
    "from urllib.request import urlopen\n",
    "\n",
    "url = 'https://dhlottery.co.kr/gameResult.do?method=byWin'\n",
    "response = urlopen(url)\n",
    "soup = BeautifulSoup(response, 'html.parser')"
   ]
  },
  {
   "cell_type": "code",
   "execution_count": 107,
   "id": "84fda7e5",
   "metadata": {},
   "outputs": [
    {
     "name": "stdout",
     "output_type": "stream",
     "text": [
      "1173회 (2025년 05월 24일 추첨)\n",
      "당첨번호 [1, 5, 18, 20, 30, 35]\n",
      "보너스 3\n"
     ]
    }
   ],
   "source": [
    "title = soup.select_one('div.win_result > h4 > strong').text\n",
    "date = soup.select_one('div.win_result > p').text\n",
    "number_text = soup.select_one('div.num.win > strong').text\n",
    "number = soup.select('div.num.win > p > span')\n",
    "bonus_text = soup.select_one('div.num.bonus > strong').string\n",
    "bonus = soup.select_one('div.num.bonus > p > span').text\n",
    "print(title, date)\n",
    "print(number_text, [int(lotto.text) for lotto in number])\n",
    "print(bonus_text, bonus)"
   ]
  },
  {
   "cell_type": "code",
   "execution_count": 109,
   "id": "c55be9f6",
   "metadata": {},
   "outputs": [
    {
     "name": "stdout",
     "output_type": "stream",
     "text": [
      "1173회 (2025년 05월 24일 추첨)\n",
      "당첨번호 [1, 5, 18, 20, 30, 35]\n",
      "보너스 3\n"
     ]
    }
   ],
   "source": [
    "# 위의 select 함수를 find 함수로\n",
    "\n",
    "win_result = soup.find('div', class_ = 'win_result')\n",
    "title = win_result.find('strong').text\n",
    "date = win_result.find('p').text\n",
    "num_win = soup.find('div', class_ = ['win'])\n",
    "number_text = num_win.find('strong').text\n",
    "number = num_win.find_all('span')\n",
    "num_bonus = soup.find('div', class_ = ['bonus'])\n",
    "bonus_text = num_bonus.find('strong').string\n",
    "bonus = num_bonus.find('span').text\n",
    "print(title, date)\n",
    "print(number_text, [int(lotto.text) for lotto in number])\n",
    "print(bonus_text, bonus)"
   ]
  },
  {
   "cell_type": "markdown",
   "id": "6f717e10",
   "metadata": {},
   "source": [
    "### 3) 다음 검색 리스트\n",
    "```\n",
    "    no title link\n",
    "    0 [비트코인 2025] 백악관 크립토 차르~ https://v.daum.net/v/20250528103907230\n",
    "    1 [비즈 나우] 비트코인 2025 컨퍼런~   https://v.daum.net/v/20250528075215864\n",
    "    ....\n",
    "```"
   ]
  },
  {
   "cell_type": "code",
   "execution_count": 110,
   "id": "a6deac33",
   "metadata": {},
   "outputs": [
    {
     "data": {
      "text/html": [
       "<div>\n",
       "<style scoped>\n",
       "    .dataframe tbody tr th:only-of-type {\n",
       "        vertical-align: middle;\n",
       "    }\n",
       "\n",
       "    .dataframe tbody tr th {\n",
       "        vertical-align: top;\n",
       "    }\n",
       "\n",
       "    .dataframe thead th {\n",
       "        text-align: right;\n",
       "    }\n",
       "</style>\n",
       "<table border=\"1\" class=\"dataframe\">\n",
       "  <thead>\n",
       "    <tr style=\"text-align: right;\">\n",
       "      <th></th>\n",
       "      <th>no</th>\n",
       "      <th>title</th>\n",
       "      <th>link</th>\n",
       "    </tr>\n",
       "  </thead>\n",
       "  <tbody>\n",
       "    <tr>\n",
       "      <th>0</th>\n",
       "      <td>0</td>\n",
       "      <td>[비트코인 2025] 백악관 크립토 차르 “美 정부 비트코인 추가 매입 검토…부채...</td>\n",
       "      <td>http://v.daum.net/v/20250528103907230</td>\n",
       "    </tr>\n",
       "    <tr>\n",
       "      <th>1</th>\n",
       "      <td>1</td>\n",
       "      <td>[비즈 나우] 비트코인 2025 컨퍼런스 개막…'전략자산' 선언 코앞</td>\n",
       "      <td>http://v.daum.net/v/20250528075215864</td>\n",
       "    </tr>\n",
       "    <tr>\n",
       "      <th>2</th>\n",
       "      <td>2</td>\n",
       "      <td>“맥O날드보다 맛없어!” 혹평이 가득한 트럼프 만찬과 비트코인 피자데이[엠블록레터]</td>\n",
       "      <td>http://v.daum.net/v/20250528143002735</td>\n",
       "    </tr>\n",
       "    <tr>\n",
       "      <th>3</th>\n",
       "      <td>3</td>\n",
       "      <td>블랙록, 자사 비트코인 ETF 보유량 25% 확대…기관 투자 본격화 신호탄</td>\n",
       "      <td>http://v.daum.net/v/20250528151802080</td>\n",
       "    </tr>\n",
       "    <tr>\n",
       "      <th>4</th>\n",
       "      <td>4</td>\n",
       "      <td>비트코인, 트럼프 미디어 비축 소식에도 주춤…1억5100만원대</td>\n",
       "      <td>http://v.daum.net/v/20250528095112897</td>\n",
       "    </tr>\n",
       "    <tr>\n",
       "      <th>5</th>\n",
       "      <td>5</td>\n",
       "      <td>'비트코인 빚투' 스트레티지, 또 샀다…보유량 58만개 돌파</td>\n",
       "      <td>http://v.daum.net/v/20250528042404292</td>\n",
       "    </tr>\n",
       "    <tr>\n",
       "      <th>6</th>\n",
       "      <td>6</td>\n",
       "      <td>美 상원의원 \"트럼프 대통령, 비트코인법 지지\"</td>\n",
       "      <td>http://v.daum.net/v/20250528090342853</td>\n",
       "    </tr>\n",
       "    <tr>\n",
       "      <th>7</th>\n",
       "      <td>7</td>\n",
       "      <td>숨 고르는 비트코인, 10만8000달러선 '주춤'</td>\n",
       "      <td>http://v.daum.net/v/20250528095921258</td>\n",
       "    </tr>\n",
       "    <tr>\n",
       "      <th>8</th>\n",
       "      <td>8</td>\n",
       "      <td>[비트코인 2025] 로빈후드 창업자 “토큰화 증권은 美 ‘자본 패권’ 키우는 수단”</td>\n",
       "      <td>http://v.daum.net/v/20250528110600761</td>\n",
       "    </tr>\n",
       "    <tr>\n",
       "      <th>9</th>\n",
       "      <td>9</td>\n",
       "      <td>트럼프미디어그룹, 25억 달러 규모 자금 조달 통해 비트코인 매입 예고</td>\n",
       "      <td>http://v.daum.net/v/20250528084245020</td>\n",
       "    </tr>\n",
       "  </tbody>\n",
       "</table>\n",
       "</div>"
      ],
      "text/plain": [
       "   no                                              title  \\\n",
       "0   0   [비트코인 2025] 백악관 크립토 차르 “美 정부 비트코인 추가 매입 검토…부채...   \n",
       "1   1            [비즈 나우] 비트코인 2025 컨퍼런스 개막…'전략자산' 선언 코앞    \n",
       "2   2    “맥O날드보다 맛없어!” 혹평이 가득한 트럼프 만찬과 비트코인 피자데이[엠블록레터]    \n",
       "3   3         블랙록, 자사 비트코인 ETF 보유량 25% 확대…기관 투자 본격화 신호탄    \n",
       "4   4                비트코인, 트럼프 미디어 비축 소식에도 주춤…1억5100만원대    \n",
       "5   5                 '비트코인 빚투' 스트레티지, 또 샀다…보유량 58만개 돌파    \n",
       "6   6                        美 상원의원 \"트럼프 대통령, 비트코인법 지지\"    \n",
       "7   7                       숨 고르는 비트코인, 10만8000달러선 '주춤'    \n",
       "8   8   [비트코인 2025] 로빈후드 창업자 “토큰화 증권은 美 ‘자본 패권’ 키우는 수단”    \n",
       "9   9           트럼프미디어그룹, 25억 달러 규모 자금 조달 통해 비트코인 매입 예고    \n",
       "\n",
       "                                    link  \n",
       "0  http://v.daum.net/v/20250528103907230  \n",
       "1  http://v.daum.net/v/20250528075215864  \n",
       "2  http://v.daum.net/v/20250528143002735  \n",
       "3  http://v.daum.net/v/20250528151802080  \n",
       "4  http://v.daum.net/v/20250528095112897  \n",
       "5  http://v.daum.net/v/20250528042404292  \n",
       "6  http://v.daum.net/v/20250528090342853  \n",
       "7  http://v.daum.net/v/20250528095921258  \n",
       "8  http://v.daum.net/v/20250528110600761  \n",
       "9  http://v.daum.net/v/20250528084245020  "
      ]
     },
     "execution_count": 110,
     "metadata": {},
     "output_type": "execute_result"
    }
   ],
   "source": [
    "# 방법1\n",
    "\n",
    "import requests\n",
    "from bs4 import BeautifulSoup\n",
    "import pandas as pd\n",
    "\n",
    "word = '비트코인'\n",
    "url = 'https://search.daum.net/search?w=news&nil_search=btn&DA=NTB&enc=utf8&cluster=y&cluster_page=1&q=' + word\n",
    "response = requests.get(url)\n",
    "soup = BeautifulSoup(response.text,  # response.content\n",
    "                    \"html.parser\")\n",
    "items_find_list = []  # 검색한 결과를 담을 dict list\n",
    "items_el = soup.select('div.item-title > strong.tit-g.clamp-g > a')\n",
    "# len(items_el)\n",
    "for idx, item in enumerate(items_el):\n",
    "    items_find_list.append({'no': idx,\n",
    "                           'title': item.text,\n",
    "                           'link': item.attrs['href']})\n",
    "\n",
    "pd.DataFrame(items_find_list)"
   ]
  },
  {
   "cell_type": "code",
   "execution_count": 111,
   "id": "58b6c577",
   "metadata": {},
   "outputs": [
    {
     "name": "stdout",
     "output_type": "stream",
     "text": [
      "%EB%B9%84%ED%8A%B8%EC%BD%94%EC%9D%B8\n"
     ]
    }
   ],
   "source": [
    "import requests\n",
    "from bs4 import BeautifulSoup\n",
    "import pandas as pd\n",
    "\n",
    "word = '비트코인'\n",
    "url = 'https://search.daum.net/search?w=news&nil_search=btn&DA=NTB&enc=utf8&cluster=y&cluster_page=1&q=' + word\n",
    "response = requests.get(url)\n",
    "soup = BeautifulSoup(response.text, # response.content\n",
    "                    \"html.parser\")\n",
    "items_find_list = [] # 검색한 결과를 담을 2차원 리스트\n",
    "items_el = soup.select('div.item-title > strong.tit-g.clamp-g > a')\n",
    "for idx, item in enumerate(items_el):\n",
    "    items_find_list.append([idx, item.text, item.attrs.get('href')])\n",
    "# items_find_list\n",
    "pd.DataFrame(items_find_list, columns=['no', 'title', 'link'])"
   ]
  },
  {
   "cell_type": "code",
   "execution_count": 115,
   "id": "6374ce5a",
   "metadata": {},
   "outputs": [
    {
     "name": "stdout",
     "output_type": "stream",
     "text": [
      "{'no': 10, 'title': ' [포토]라스베이거스에서 열린 2025 비트코인 콘퍼런스 ', 'link': 'http://v.daum.net/v/20250528155536962'}\n",
      "{'no': 11, 'title': ' 트럼프미디어그룹, 25억 달러 규모 자금 조달 통해 비트코인 매입 예고 ', 'link': 'http://v.daum.net/v/20250528084245020'}\n",
      "{'no': 12, 'title': ' 연일 최고가 경신하는 비트코인…투자자들 강 건너 불구경하는 이유는 ', 'link': 'http://v.daum.net/v/20250526212400275'}\n",
      "{'no': 13, 'title': ' \"비트코인 산다\"…트럼프家, 25억달러 자금 조달 추진[코인브리핑] ', 'link': 'http://v.daum.net/v/20250528111837527'}\n",
      "{'no': 14, 'title': ' [김대호 박사의 오늘의 키워드] 소비자신뢰지수·비트코인 2025·머스크 한마디·애플 괘씸죄 ', 'link': 'http://v.daum.net/v/20250528071325361'}\n",
      "{'no': 15, 'title': ' 잘 나가는 비트코인 산다는데 왜?…트럼프 미디어 주가 10% 급락 [투자360] ', 'link': 'http://v.daum.net/v/20250528074002668'}\n",
      "{'no': 16, 'title': ' \"테슬라 팔고 갈아탔어요\"…자녀계좌 보던 엄마들 \\'돌변\\' [마켓PRO] ', 'link': 'http://v.daum.net/v/20250528094602647'}\n",
      "{'no': 17, 'title': ' 스트래티지, 비트코인 4020개 추가 매입...보유량 58만개 돌파 ', 'link': 'http://v.daum.net/v/20250527081116129'}\n",
      "{'no': 18, 'title': ' 달러 스테이블코인, 국내 거래 확산…당국 외환흐름 통제력 약화 우려 ', 'link': 'http://v.daum.net/v/20250528152520516'}\n",
      "{'no': 19, 'title': ' 비트코인과 엇갈리는 이더리움·리플, 왜? ', 'link': 'http://v.daum.net/v/20250526164319028'}\n"
     ]
    }
   ],
   "source": [
    "# 다음 뉴스 검색 (키워드, 원하는 페이지수)\n",
    "\n",
    "import requests\n",
    "from bs4 import BeautifulSoup\n",
    "import pandas as pd\n",
    "import time\n",
    "\n",
    "keyword = '비트코인'\n",
    "page = 2\n",
    "# url = f'https://search.daum.net/search?w=news&nil_search=btn&DA=PGD&enc=utf8&cluster=y&cluster_page=1&q={keyword}&p={page}'\n",
    "# response = requests.get(url)\n",
    "url = f'https://search.daum.net/search?w=news&nil_search=btn&DA=PGD&enc=utf8&cluster=y'\n",
    "params = {'q':keyword, 'p':page}\n",
    "response = requests.get(url, params = params)\n",
    "soup = BeautifulSoup(response.text,  # response.content\n",
    "                    'html.parser')\n",
    "items_find_list = []  # 검색한 결과를 담을 dict list\n",
    "items_el = soup.select('div.item-title > strong.tit-g.clamp-g > a')\n",
    "# len(items_el)\n",
    "for idx, item in enumerate(items_el):\n",
    "    items_find_list.append({'no': (page - 1) * 10 + idx,\n",
    "                           'title': item.text,\n",
    "                           'link': item.attrs['href']})\n",
    "    print({'no': (page - 1) * 10 + idx,\n",
    "           'title': item.text,\n",
    "           'link': item.attrs['href']})"
   ]
  },
  {
   "cell_type": "code",
   "execution_count": 126,
   "id": "6e97f56c",
   "metadata": {},
   "outputs": [],
   "source": [
    "import requests\n",
    "from bs4 import BeautifulSoup\n",
    "import pandas as pd\n",
    "import time\n",
    "\n",
    "def collect_list(keyword, page = 1) :\n",
    "    'keyword로 다음 검색한 결과(해당 page)를 return'\n",
    "    url = f'https://search.daum.net/search?w=news&nil_search=btn&DA=PGD&enc=utf8&cluster=y'\n",
    "    params = {'q':keyword, 'p':page}\n",
    "    response = requests.get(url, params = params)\n",
    "    soup = BeautifulSoup(response.text,  # response.content\n",
    "                        'html.parser')\n",
    "    items_find_list = []  # 검색한 결과를 담을 dict list\n",
    "    items_el = soup.select('div.item-title > strong.tit-g.clamp-g > a')\n",
    "    for idx, item in enumerate(items_el):\n",
    "        items_find_list.append({'no': (page - 1) * 10 + idx,\n",
    "                               'title': item.text,\n",
    "                               'link': item.attrs['href']})\n",
    "    return items_find_list"
   ]
  },
  {
   "cell_type": "code",
   "execution_count": 127,
   "id": "45b25b29",
   "metadata": {},
   "outputs": [
    {
     "data": {
      "text/plain": [
       "[{'no': 10,\n",
       "  'title': \" 공약집 없이 대선 투표 시작… 가열되는 '비방전' 투표율 낮출라 \",\n",
       "  'link': 'http://v.daum.net/v/20250524123705877'},\n",
       " {'no': 11,\n",
       "  'title': \" '시장 스타일 구기는 것 쯤이야'…광명시, 대선투표 독려 영상 화제 \",\n",
       "  'link': 'http://v.daum.net/v/20250528100556682'},\n",
       " {'no': 12,\n",
       "  'title': \" 국민의힘 방세환 광주시장, 대선 투표참여 독려 '눈길' \",\n",
       "  'link': 'http://v.daum.net/v/20250527155213156'},\n",
       " {'no': 13,\n",
       "  'title': ' 전남도, 대선 투표 참여 캠페인 ',\n",
       "  'link': 'http://v.daum.net/v/20250528112007618'},\n",
       " {'no': 14,\n",
       "  'title': ' 대선 투표참여 홍보에 발벗고 나선 김영록 지사 ',\n",
       "  'link': 'http://v.daum.net/v/20250527144205460'},\n",
       " {'no': 15,\n",
       "  'title': ' <호텔소식> 센텀비즈니스호텔 \"대선 투표 인증샷, 당일 선착순 1박 무료\" ',\n",
       "  'link': 'http://v.daum.net/v/20250527112515888'},\n",
       " {'no': 16,\n",
       "  'title': ' ‘대선’ 투표 참여 독려하는 강북구…홍보 현수막·배너 설치 ',\n",
       "  'link': 'http://v.daum.net/v/20250527141101069'},\n",
       " {'no': 17,\n",
       "  'title': ' 김보라 안성시장 “제21대 대선 투표 꼭 하세요”…유권자 독려 ',\n",
       "  'link': 'http://v.daum.net/v/20250526171720742'},\n",
       " {'no': 18,\n",
       "  'title': ' [동정] 권익현 부안군수, 대선 투표 독려 캠페인 동참 ',\n",
       "  'link': 'http://v.daum.net/v/20250528135202999'},\n",
       " {'no': 19,\n",
       "  'title': \" 강원선관위 '대선 투표 교통편의 제공' \",\n",
       "  'link': 'http://v.daum.net/v/20250528104206392'}]"
      ]
     },
     "execution_count": 127,
     "metadata": {},
     "output_type": "execute_result"
    }
   ],
   "source": [
    "collect_list('대선투표', 2)"
   ]
  },
  {
   "cell_type": "code",
   "execution_count": 130,
   "id": "5e371ebd",
   "metadata": {},
   "outputs": [
    {
     "data": {
      "text/html": [
       "<div>\n",
       "<style scoped>\n",
       "    .dataframe tbody tr th:only-of-type {\n",
       "        vertical-align: middle;\n",
       "    }\n",
       "\n",
       "    .dataframe tbody tr th {\n",
       "        vertical-align: top;\n",
       "    }\n",
       "\n",
       "    .dataframe thead th {\n",
       "        text-align: right;\n",
       "    }\n",
       "</style>\n",
       "<table border=\"1\" class=\"dataframe\">\n",
       "  <thead>\n",
       "    <tr style=\"text-align: right;\">\n",
       "      <th></th>\n",
       "      <th>no</th>\n",
       "      <th>title</th>\n",
       "      <th>link</th>\n",
       "    </tr>\n",
       "  </thead>\n",
       "  <tbody>\n",
       "    <tr>\n",
       "      <th>0</th>\n",
       "      <td>0</td>\n",
       "      <td>'이병헌♥' 이민정, 매장 통째로 빌려 청바지 쇼핑</td>\n",
       "      <td>http://v.daum.net/v/20250528050507783</td>\n",
       "    </tr>\n",
       "    <tr>\n",
       "      <th>1</th>\n",
       "      <td>1</td>\n",
       "      <td>“추앙받을 만 하네”… 김지원, 셔츠에 청바지만 입어도 공항 ‘정지’</td>\n",
       "      <td>http://v.daum.net/v/20250526182411395</td>\n",
       "    </tr>\n",
       "    <tr>\n",
       "      <th>2</th>\n",
       "      <td>2</td>\n",
       "      <td>흰 티셔츠에 청바지 정석대로 입는 법</td>\n",
       "      <td>http://v.daum.net/v/20250527185425864</td>\n",
       "    </tr>\n",
       "    <tr>\n",
       "      <th>3</th>\n",
       "      <td>3</td>\n",
       "      <td>이민정, 매장 빌려 폭풍 쇼핑 \"10년 전 샀던 청바지는 응급실\"(MJ)</td>\n",
       "      <td>http://v.daum.net/v/20250527191015309</td>\n",
       "    </tr>\n",
       "    <tr>\n",
       "      <th>4</th>\n",
       "      <td>4</td>\n",
       "      <td>‘이병헌♥’ 이민정, 청바지 사는데 매장 통째로 빌렸다..남다른 쇼핑 클래스 “나...</td>\n",
       "      <td>http://v.daum.net/v/20250527192310643</td>\n",
       "    </tr>\n",
       "  </tbody>\n",
       "</table>\n",
       "</div>"
      ],
      "text/plain": [
       "   no                                              title  \\\n",
       "0   0                      '이병헌♥' 이민정, 매장 통째로 빌려 청바지 쇼핑    \n",
       "1   1            “추앙받을 만 하네”… 김지원, 셔츠에 청바지만 입어도 공항 ‘정지’    \n",
       "2   2                              흰 티셔츠에 청바지 정석대로 입는 법    \n",
       "3   3          이민정, 매장 빌려 폭풍 쇼핑 \"10년 전 샀던 청바지는 응급실\"(MJ)    \n",
       "4   4   ‘이병헌♥’ 이민정, 청바지 사는데 매장 통째로 빌렸다..남다른 쇼핑 클래스 “나...   \n",
       "\n",
       "                                    link  \n",
       "0  http://v.daum.net/v/20250528050507783  \n",
       "1  http://v.daum.net/v/20250526182411395  \n",
       "2  http://v.daum.net/v/20250527185425864  \n",
       "3  http://v.daum.net/v/20250527191015309  \n",
       "4  http://v.daum.net/v/20250527192310643  "
      ]
     },
     "execution_count": 130,
     "metadata": {},
     "output_type": "execute_result"
    }
   ],
   "source": [
    "# 원하는 keyword로 다음 검색\n",
    "\n",
    "result = []\n",
    "keyword = '청바지'\n",
    "pages = 4\n",
    "for page in range(1, page + 1) :\n",
    "    result.extend(collect_list(keyword, page))\n",
    "    time.sleep(3)\n",
    "result_df = pd.DataFrame(result)\n",
    "result_df.head()"
   ]
  },
  {
   "cell_type": "code",
   "execution_count": 133,
   "id": "79fa546b",
   "metadata": {},
   "outputs": [
    {
     "name": "stdout",
     "output_type": "stream",
     "text": [
      "~ ~ ~ 0번째 청바지를 1.page에서 검색중입니다 ~ ~ ~\n",
      "~ ~ ~ 0번째 청바지를 2.page에서 검색중입니다 ~ ~ ~\n",
      "~ ~ ~ 0번째 청바지를 3.page에서 검색중입니다 ~ ~ ~\n",
      "~ ~ ~ 0번째 청바지를 4.page에서 검색중입니다 ~ ~ ~\n",
      "~ ~ ~ 0번째 청바지를 5.page에서 검색중입니다 ~ ~ ~\n",
      "~ ~ ~ 1번째 면바지를 1.page에서 검색중입니다 ~ ~ ~\n",
      "~ ~ ~ 1번째 면바지를 2.page에서 검색중입니다 ~ ~ ~\n",
      "~ ~ ~ 1번째 면바지를 3.page에서 검색중입니다 ~ ~ ~\n",
      "~ ~ ~ 1번째 면바지를 4.page에서 검색중입니다 ~ ~ ~\n",
      "~ ~ ~ 1번째 면바지를 5.page에서 검색중입니다 ~ ~ ~\n"
     ]
    }
   ],
   "source": [
    "keywords = ['청바지', '면바지']\n",
    "pages = 5\n",
    "result0 = []  # 청바지 검색결과 50개\n",
    "result1 = []  # 면바지 검색결과 50개\n",
    "for i, keyword in enumerate(keywords) :\n",
    "    for page in range(1, pages + 1) :\n",
    "        print(f'~ ~ ~ {i}번째 {keyword}를 {page}.page에서 검색중입니다 ~ ~ ~')\n",
    "        if i == 0 :\n",
    "            result0.extend(collect_list(keyword, page))\n",
    "        else :\n",
    "            result1.extend(collect_list(keyword, page))\n",
    "        time.sleep(3)"
   ]
  },
  {
   "cell_type": "code",
   "execution_count": 134,
   "id": "6e8455e7",
   "metadata": {
    "scrolled": true
   },
   "outputs": [
    {
     "data": {
      "text/html": [
       "<div>\n",
       "<style scoped>\n",
       "    .dataframe tbody tr th:only-of-type {\n",
       "        vertical-align: middle;\n",
       "    }\n",
       "\n",
       "    .dataframe tbody tr th {\n",
       "        vertical-align: top;\n",
       "    }\n",
       "\n",
       "    .dataframe thead th {\n",
       "        text-align: right;\n",
       "    }\n",
       "</style>\n",
       "<table border=\"1\" class=\"dataframe\">\n",
       "  <thead>\n",
       "    <tr style=\"text-align: right;\">\n",
       "      <th></th>\n",
       "      <th>no</th>\n",
       "      <th>title</th>\n",
       "      <th>link</th>\n",
       "    </tr>\n",
       "  </thead>\n",
       "  <tbody>\n",
       "    <tr>\n",
       "      <th>0</th>\n",
       "      <td>0</td>\n",
       "      <td>'이병헌♥' 이민정, 매장 통째로 빌려 청바지 쇼핑</td>\n",
       "      <td>http://v.daum.net/v/20250528050507783</td>\n",
       "    </tr>\n",
       "    <tr>\n",
       "      <th>1</th>\n",
       "      <td>1</td>\n",
       "      <td>“추앙받을 만 하네”… 김지원, 셔츠에 청바지만 입어도 공항 ‘정지’</td>\n",
       "      <td>http://v.daum.net/v/20250526182411395</td>\n",
       "    </tr>\n",
       "    <tr>\n",
       "      <th>2</th>\n",
       "      <td>2</td>\n",
       "      <td>흰 티셔츠에 청바지 정석대로 입는 법</td>\n",
       "      <td>http://v.daum.net/v/20250527185425864</td>\n",
       "    </tr>\n",
       "    <tr>\n",
       "      <th>3</th>\n",
       "      <td>3</td>\n",
       "      <td>이민정, 매장 빌려 폭풍 쇼핑 \"10년 전 샀던 청바지는 응급실\"(MJ)</td>\n",
       "      <td>http://v.daum.net/v/20250527191015309</td>\n",
       "    </tr>\n",
       "    <tr>\n",
       "      <th>4</th>\n",
       "      <td>4</td>\n",
       "      <td>‘이병헌♥’ 이민정, 청바지 사는데 매장 통째로 빌렸다..남다른 쇼핑 클래스 “나...</td>\n",
       "      <td>http://v.daum.net/v/20250527192310643</td>\n",
       "    </tr>\n",
       "  </tbody>\n",
       "</table>\n",
       "</div>"
      ],
      "text/plain": [
       "   no                                              title  \\\n",
       "0   0                      '이병헌♥' 이민정, 매장 통째로 빌려 청바지 쇼핑    \n",
       "1   1            “추앙받을 만 하네”… 김지원, 셔츠에 청바지만 입어도 공항 ‘정지’    \n",
       "2   2                              흰 티셔츠에 청바지 정석대로 입는 법    \n",
       "3   3          이민정, 매장 빌려 폭풍 쇼핑 \"10년 전 샀던 청바지는 응급실\"(MJ)    \n",
       "4   4   ‘이병헌♥’ 이민정, 청바지 사는데 매장 통째로 빌렸다..남다른 쇼핑 클래스 “나...   \n",
       "\n",
       "                                    link  \n",
       "0  http://v.daum.net/v/20250528050507783  \n",
       "1  http://v.daum.net/v/20250526182411395  \n",
       "2  http://v.daum.net/v/20250527185425864  \n",
       "3  http://v.daum.net/v/20250527191015309  \n",
       "4  http://v.daum.net/v/20250527192310643  "
      ]
     },
     "execution_count": 134,
     "metadata": {},
     "output_type": "execute_result"
    }
   ],
   "source": [
    "result0_df = pd.DataFrame(result0)\n",
    "result0_df.head()"
   ]
  },
  {
   "cell_type": "code",
   "execution_count": 135,
   "id": "9dd5cb47",
   "metadata": {},
   "outputs": [
    {
     "data": {
      "text/html": [
       "<div>\n",
       "<style scoped>\n",
       "    .dataframe tbody tr th:only-of-type {\n",
       "        vertical-align: middle;\n",
       "    }\n",
       "\n",
       "    .dataframe tbody tr th {\n",
       "        vertical-align: top;\n",
       "    }\n",
       "\n",
       "    .dataframe thead th {\n",
       "        text-align: right;\n",
       "    }\n",
       "</style>\n",
       "<table border=\"1\" class=\"dataframe\">\n",
       "  <thead>\n",
       "    <tr style=\"text-align: right;\">\n",
       "      <th></th>\n",
       "      <th>no</th>\n",
       "      <th>title</th>\n",
       "      <th>link</th>\n",
       "    </tr>\n",
       "  </thead>\n",
       "  <tbody>\n",
       "    <tr>\n",
       "      <th>0</th>\n",
       "      <td>0</td>\n",
       "      <td>사천에서 쾌청한 날씨 속 탁 트인 남해 풍경 즐겨요!</td>\n",
       "      <td>http://v.daum.net/v/20250528104429529</td>\n",
       "    </tr>\n",
       "    <tr>\n",
       "      <th>1</th>\n",
       "      <td>1</td>\n",
       "      <td>윤승아, ♥김무열 쏙 빼닮은 깜찍 子 하객룩 공개‥벌써 우월한 유전자</td>\n",
       "      <td>http://v.daum.net/v/20250526145941690</td>\n",
       "    </tr>\n",
       "    <tr>\n",
       "      <th>2</th>\n",
       "      <td>2</td>\n",
       "      <td>이번 주 포천 여행,반팔 하나로 충분할까?</td>\n",
       "      <td>http://v.daum.net/v/20250527171732518</td>\n",
       "    </tr>\n",
       "    <tr>\n",
       "      <th>3</th>\n",
       "      <td>3</td>\n",
       "      <td>이재명, 첫 대학 방문…이준석 겨냥?</td>\n",
       "      <td>http://v.daum.net/v/20250526191942751</td>\n",
       "    </tr>\n",
       "    <tr>\n",
       "      <th>4</th>\n",
       "      <td>4</td>\n",
       "      <td>\"나는 젊어\" 팔소매 접은 이준석의 '흰셔츠' 속에도 뼈가 담겼다[21대 대선 리...</td>\n",
       "      <td>http://v.daum.net/v/20250525070013619</td>\n",
       "    </tr>\n",
       "  </tbody>\n",
       "</table>\n",
       "</div>"
      ],
      "text/plain": [
       "   no                                              title  \\\n",
       "0   0                     사천에서 쾌청한 날씨 속 탁 트인 남해 풍경 즐겨요!    \n",
       "1   1            윤승아, ♥김무열 쏙 빼닮은 깜찍 子 하객룩 공개‥벌써 우월한 유전자    \n",
       "2   2                           이번 주 포천 여행,반팔 하나로 충분할까?    \n",
       "3   3                              이재명, 첫 대학 방문…이준석 겨냥?    \n",
       "4   4   \"나는 젊어\" 팔소매 접은 이준석의 '흰셔츠' 속에도 뼈가 담겼다[21대 대선 리...   \n",
       "\n",
       "                                    link  \n",
       "0  http://v.daum.net/v/20250528104429529  \n",
       "1  http://v.daum.net/v/20250526145941690  \n",
       "2  http://v.daum.net/v/20250527171732518  \n",
       "3  http://v.daum.net/v/20250526191942751  \n",
       "4  http://v.daum.net/v/20250525070013619  "
      ]
     },
     "execution_count": 135,
     "metadata": {},
     "output_type": "execute_result"
    }
   ],
   "source": [
    "result1_df = pd.DataFrame(result1)\n",
    "result1_df.head()"
   ]
  },
  {
   "cell_type": "code",
   "execution_count": 138,
   "id": "55848ff4",
   "metadata": {},
   "outputs": [],
   "source": [
    "result0_df.to_csv('data/ch14_' + keywords[0] + '.csv', index = False, encoding = 'cp949')\n",
    "result0_df.to_csv('data/ch14_' + keywords[1] + '.csv', index = False)"
   ]
  },
  {
   "cell_type": "markdown",
   "id": "db15c3ea",
   "metadata": {},
   "source": [
    "### 4) User-agent를 추가하여 크롤링\n",
    "\n",
    "- urlopen()함수를 사용하면 크롤링이 안 되는 사이트\n",
    "- User-agent를 추가하여 크롤링"
   ]
  },
  {
   "cell_type": "code",
   "execution_count": 141,
   "id": "58524901",
   "metadata": {},
   "outputs": [
    {
     "data": {
      "text/plain": [
       "[{'no': 0,\n",
       "  'title': \" '이병헌♥' 이민정, 매장 통째로 빌려 청바지 쇼핑 \",\n",
       "  'link': 'http://v.daum.net/v/20250528050507783'},\n",
       " {'no': 1,\n",
       "  'title': ' “추앙받을 만 하네”… 김지원, 셔츠에 청바지만 입어도 공항 ‘정지’ ',\n",
       "  'link': 'http://v.daum.net/v/20250526182411395'},\n",
       " {'no': 2,\n",
       "  'title': ' 흰 티셔츠에 청바지 정석대로 입는 법 ',\n",
       "  'link': 'http://v.daum.net/v/20250527185425864'},\n",
       " {'no': 3,\n",
       "  'title': ' 이민정, 매장 빌려 폭풍 쇼핑 \"10년 전 샀던 청바지는 응급실\"(MJ) ',\n",
       "  'link': 'http://v.daum.net/v/20250527191015309'},\n",
       " {'no': 4,\n",
       "  'title': ' ‘이병헌♥’ 이민정, 청바지 사는데 매장 통째로 빌렸다..남다른 쇼핑 클래스 “나는 즉흥적”(이민정 MJ) ',\n",
       "  'link': 'http://v.daum.net/v/20250527192310643'},\n",
       " {'no': 5,\n",
       "  'title': ' 이시영처럼 다리 길어보이고 싶어서 청바지 분석함 [입스타그램] ',\n",
       "  'link': 'http://v.daum.net/v/20250519172231644'},\n",
       " {'no': 6,\n",
       "  'title': ' \\'의사 그만둔\\' 고윤정, 흰 티+청바지...\"정석 미녀\" [★해시태그] ',\n",
       "  'link': 'http://v.daum.net/v/20250522182007490'},\n",
       " {'no': 7,\n",
       "  'title': ' \"청렴이 최고\" … 창원특례시 성산구 문화위생과, \\'청바지 데이\\' 추진 ',\n",
       "  'link': 'http://v.daum.net/v/20250511091428626'},\n",
       " {'no': 8,\n",
       "  'title': ' 패셔니스타 김지원, 청바지가 어울리는 여자랍니다! [포토] ',\n",
       "  'link': 'http://v.daum.net/v/20250518220139191'},\n",
       " {'no': 9,\n",
       "  'title': ' 박병은 \"류준하로 3개월 활동\"…청바지 모델 시절 언급 ',\n",
       "  'link': 'http://v.daum.net/v/20250519190323957'}]"
      ]
     },
     "execution_count": 141,
     "metadata": {},
     "output_type": "execute_result"
    }
   ],
   "source": [
    "# 방법2\n",
    "\n",
    "from urllib.request import urlopen, Request\n",
    "import urllib.parse\n",
    "import pandas as pd\n",
    "\n",
    "word = '비트코인'\n",
    "word = urllib.parse.quote(word)\n",
    "url = 'https://search.daum.net/search?w=news&nil_search=btn&DA=NTB&enc=utf8&cluster=y&cluster_page=1&q=' + word\n",
    "# User-agent를 추가하여 브라우저처럼 보이게 포장\n",
    "headers = {'user-agent':\n",
    "           'Mozilla/5.0 (Windows NT 10.0; Win64; x64) AppleWebKit/537.36 (KHTML, like Gecko) Chrome/136.0.0.0 Safari/537.36'}\n",
    "request = Request(url, headers = headers)\n",
    "response = urlopen(request)\n",
    "soup = BeautifulSoup(response,  # response.content\n",
    "                    \"html.parser\")\n",
    "\n",
    "def collect_list(keyword, page = 1) :\n",
    "    'keyword로 다음 검색한 결과(해당 page)를 return'\n",
    "    url = f'https://search.daum.net/search?w=news&nil_search=btn&DA=PGD&enc=utf8&cluster=y'\n",
    "    params = {'q':keyword, 'p':page}\n",
    "    response = requests.get(url, params = params)\n",
    "    soup = BeautifulSoup(response.text,  # response.content\n",
    "                    'html.parser')\n",
    "    items_find_list = [] # 검색한 결과를 담을 dict list\n",
    "    items_el = soup.select('div.item-title > strong.tit-g.clamp-g > a')\n",
    "    for idx, item in enumerate(items_el):\n",
    "        items_find_list.append({'no': (page - 1) * 10 + idx,\n",
    "                           'title': item.text,\n",
    "                           'link': item.attrs['href']})\n",
    "    return items_find_list\n",
    "collect_list(\"청바지\", 1)"
   ]
  },
  {
   "cell_type": "markdown",
   "id": "4e7f4562",
   "metadata": {},
   "source": [
    "- 꼭 User-Agent를 사용하여야 하는 경우 : https://www.melon.com/chart/"
   ]
  },
  {
   "cell_type": "code",
   "execution_count": 151,
   "id": "93dd9036",
   "metadata": {},
   "outputs": [
    {
     "data": {
      "text/plain": [
       "406"
      ]
     },
     "execution_count": 151,
     "metadata": {},
     "output_type": "execute_result"
    }
   ],
   "source": [
    "# 방법 1\n",
    "\n",
    "import requests\n",
    "from bs4 import BeautifulSoup\n",
    "import pandas as pd\n",
    "\n",
    "url = 'https://www.melon.com/chart/'\n",
    "melonpage = requests.get(url)\n",
    "melonpage.status_code"
   ]
  },
  {
   "cell_type": "code",
   "execution_count": 152,
   "id": "abef9726",
   "metadata": {},
   "outputs": [],
   "source": [
    "# 방법 2\n",
    "\n",
    "from urllib.request import urlopen, Request\n",
    "# melonpage = urlopen(url)  # 에러남"
   ]
  },
  {
   "cell_type": "code",
   "execution_count": 153,
   "id": "27461fa4",
   "metadata": {},
   "outputs": [],
   "source": [
    "# User-Agent 추가\n",
    "\n",
    "headers = {'user-agent':\n",
    "          'Mozilla/5.0 (Windows NT 10.0; Win64; x64) AppleWebKit/537.36 (KHTML, like Gecko) Chrome/136.0.0.0 Safari/537.36'}\n",
    "\n",
    "# 방법 2\n",
    "request = Request(url, headers = headers)\n",
    "melonpage = urlopen(request)\n",
    "\n",
    "# 방법 1\n",
    "melonpage = requests.get(url, headers = headers)\n",
    "soup = BeautifulSoup(melonpage.text,  # melonpage.content\n",
    "                    \"html.parser\")"
   ]
  },
  {
   "cell_type": "code",
   "execution_count": 159,
   "id": "972f4055",
   "metadata": {},
   "outputs": [
    {
     "name": "stdout",
     "output_type": "stream",
     "text": [
      "1위 | 너에게 닿기를 | 10CM\n",
      "2위 | Never Ending Story | 아이유\n",
      "3위 | Drowning | WOODZ\n",
      "4위 | like JENNIE | 제니 (JENNIE)\n",
      "5위 | 모르시나요(PROD.로코베리) | 조째즈\n",
      "6위 | THUNDER | 세븐틴 (SEVENTEEN)\n",
      "7위 | TOO BAD (feat. Anderson .Paak) | G-DRAGON\n",
      "8위 | 네모의 꿈 | 아이유\n",
      "9위 | Whiplash | aespa\n",
      "10위 | HOME SWEET HOME (feat. 태양, 대성) | G-DRAGON\n",
      "11위 | 나는 반딧불 | 황가람\n",
      "12위 | 어제보다 슬픈 오늘 | 우디 (Woody)\n",
      "13위 | 오늘만 I LOVE YOU | BOYNEXTDOOR\n",
      "14위 | REBEL HEART | IVE (아이브)\n",
      "15위 | HAPPY | DAY6 (데이식스)\n",
      "16위 | 빨간 운동화 | 아이유\n",
      "17위 | Flower | 오반(OVAN)\n",
      "18위 | APT. | 로제 (ROSÉ), Bruno Mars\n",
      "19위 | 청춘만화 | 이무진\n",
      "20위 | HOT | LE SSERAFIM (르세라핌)\n",
      "21위 | 10월 4일 | 아이유\n",
      "22위 | 한 페이지가 될 수 있게 | DAY6 (데이식스)\n",
      "23위 | Last Scene (Feat. 원슈타인) | 아이유\n",
      "24위 | HBD | 세븐틴 (SEVENTEEN)\n",
      "25위 | MY LOVE(2025) | 이예은, 아샤트리, 전건호\n",
      "26위 | 그날이 오면 | 투모로우바이투게더\n",
      "27위 | 내게 사랑이 뭐냐고 물어본다면 | 로이킴\n",
      "28위 | Fly Up | RIIZE\n",
      "29위 | Welcome to the Show | DAY6 (데이식스)\n",
      "30위 | 소나기 | 이클립스 (ECLIPSE)\n",
      "31위 | 천상연 | 이창섭\n",
      "32위 | Die With A Smile | Lady Gaga, Bruno Mars\n",
      "33위 | toxic till the end | 로제 (ROSÉ)\n",
      "34위 | HANDS UP | MEOVV (미야오)\n",
      "35위 | Supernova | aespa\n",
      "36위 | 예뻤어 | DAY6 (데이식스)\n",
      "37위 | Skyfall (THE 8 Solo) | 세븐틴 (SEVENTEEN)\n",
      "38위 | ATTITUDE | IVE (아이브)\n",
      "39위 | I DO ME | KiiiKiii (키키)\n",
      "40위 | 미치게 그리워서 | 황가람\n",
      "41위 | 미인 (Feat. Balming Tiger) | 아이유\n",
      "42위 | 어떻게 이별까지 사랑하겠어, 널 사랑하는 거지 | AKMU (악뮤)\n",
      "43위 | DRIP | BABYMONSTER\n",
      "44위 | Love wins all | 아이유\n",
      "45위 | PO￦ER | G-DRAGON\n",
      "46위 | 청혼하지 않을 이유를 못 찾았어 | 이무진\n",
      "47위 | 그대만 있다면 (여름날 우리 X 너드커넥션 (Nerd Connection)) | 너드커넥션 (Nerd Connection)\n",
      "48위 | 사랑은 늘 도망가 | 임영웅\n",
      "49위 | Bad Influence (Prod. by Pharrell Williams) | 세븐틴 (SEVENTEEN)\n",
      "50위 | 내 이름 맑음 | QWER\n",
      "51위 | 99.9% (WONWOO Solo) | 세븐틴 (SEVENTEEN)\n",
      "52위 | 슬픈 초대장 | 순순희(지환)\n",
      "53위 | 첫 만남은 계획대로 되지 않아 | TWS (투어스)\n",
      "54위 | Fortunate Change (JOSHUA Solo) | 세븐틴 (SEVENTEEN)\n",
      "55위 | Raindrops (SEUNGKWAN Solo) | 세븐틴 (SEVENTEEN)\n",
      "56위 | UP (KARINA Solo) | aespa\n",
      "57위 | 고민중독 | QWER\n",
      "58위 | 나는 아픈 건 딱 질색이니까 | i-dle (아이들)\n",
      "59위 | 주저하는 연인들을 위해 | 잔나비\n",
      "60위 | TAKE ME | G-DRAGON\n",
      "61위 | 너의 모든 순간 | 성시경\n",
      "62위 | 운명 (WOOZI Solo) | 세븐틴 (SEVENTEEN)\n",
      "63위 | Damage (HOSHI Solo) (feat. Timbaland) | 세븐틴 (SEVENTEEN)\n",
      "64위 | Happy Virus (DK Solo) | 세븐틴 (SEVENTEEN)\n",
      "65위 | Magnetic | 아일릿(ILLIT)\n",
      "66위 | How Sweet | NewJeans\n",
      "67위 | 사랑인가 봐 | 멜로망스\n",
      "68위 | I Feel Good | BOYNEXTDOOR\n",
      "69위 | 에피소드 | 이무진\n",
      "70위 | 비의 랩소디 | 임재현\n",
      "71위 | Shake It Off (MINGYU Solo) | 세븐틴 (SEVENTEEN)\n",
      "72위 | 우연 (JEONGHAN Solo) | 세븐틴 (SEVENTEEN)\n",
      "73위 | Bag Bad Back | RIIZE\n",
      "74위 | 123-78 | BOYNEXTDOOR\n",
      "75위 | 모든 날, 모든 순간 (Every day, Every Moment) | 폴킴\n",
      "76위 | The Chase | Hearts2Hearts (하츠투하츠)\n",
      "77위 | 시작의 아이 | 마크툽 (MAKTUB)\n",
      "78위 | Supersonic | 프로미스나인\n",
      "79위 | Jungle (S.COUPS Solo) | 세븐틴 (SEVENTEEN)\n",
      "80위 | 쌍둥이자리 (Gemini) (JUN Solo) | 세븐틴 (SEVENTEEN)\n",
      "81위 | I AM | IVE (아이브)\n",
      "82위 | Shining Star (Vernon Solo) | 세븐틴 (SEVENTEEN)\n",
      "83위 | Hype Boy | NewJeans\n",
      "84위 | 다정히 내 이름을 부르면 | 경서예지, 전건호\n",
      "85위 | Seven (feat. Latto) - Clean Ver. | 정국\n",
      "86위 | 헤어지자 말해요 | 박재정\n",
      "87위 | Trigger (DINO Solo) | 세븐틴 (SEVENTEEN)\n",
      "88위 | 영원해 | 도경수(D.O.)\n",
      "89위 | 이렇게 좋아해 본 적이 없어요 | BOYNEXTDOOR\n",
      "90위 | 우리들의 블루스 | 임영웅\n",
      "91위 | 봄날 | 방탄소년단\n",
      "92위 | 무제(無題) (Untitled, 2014) | G-DRAGON\n",
      "93위 | 천국보다 아름다운 | 임영웅\n",
      "94위 | 인사 | 범진\n",
      "95위 | 굿데이 2025 (텔레파시 + 달빛 창가에서) | G-DRAGON, 황정민, 데프콘, 홍진경, 정형돈, 조세호, 기안84, 안성재, 태양, 정해인, 황광희, 임시완, 이수혁, 대성, 코드 쿤스트 (CODE KUNST), CL, 김고은, DAY6 (데이식스), 부석순 (SEVENTEEN), aespa\n",
      "96위 | Sticky | KISS OF LIFE\n",
      "97위 | Small girl (feat. 도경수(D.O.)) | 이영지\n",
      "98위 | Dash | PLAVE\n",
      "99위 | 사막에서 꽃을 피우듯 | 우디 (Woody)\n",
      "100위 | 다시 만날 수 있을까 | 임영웅\n"
     ]
    }
   ],
   "source": [
    "# 멜론 순위, 노래제목, 가수\n",
    "# 1위 | 너에게 닿기를 | 10cm (100위까지 크롤링)\n",
    "\n",
    "title_elements = soup.select('div.ellipsis.rank01 > span')\n",
    "singer_elements = soup.select('div.ellipsis.rank02 > span.checkEllipsis')\n",
    "\n",
    "len([title.text for title in title_elements]), \\\n",
    "len([singer.text for singer in singer_elements])\n",
    "\n",
    "for idx, (title, singer) in enumerate(zip(title_elements, singer_elements)) :\n",
    "    print('{}위 | {} | {}'.format(idx + 1,\n",
    "                                 title.text.strip(),\n",
    "                                 singer.text.strip()))"
   ]
  },
  {
   "cell_type": "code",
   "execution_count": null,
   "id": "33619d37",
   "metadata": {},
   "outputs": [],
   "source": []
  }
 ],
 "metadata": {
  "kernelspec": {
   "display_name": "Python 3 (ipykernel)",
   "language": "python",
   "name": "python3"
  },
  "language_info": {
   "codemirror_mode": {
    "name": "ipython",
    "version": 3
   },
   "file_extension": ".py",
   "mimetype": "text/x-python",
   "name": "python",
   "nbconvert_exporter": "python",
   "pygments_lexer": "ipython3",
   "version": "3.10.9"
  },
  "toc": {
   "base_numbering": 1,
   "nav_menu": {},
   "number_sections": false,
   "sideBar": true,
   "skip_h1_title": false,
   "title_cell": "Table of Contents",
   "title_sidebar": "Contents",
   "toc_cell": false,
   "toc_position": {
    "height": "calc(100% - 180px)",
    "left": "10px",
    "top": "150px",
    "width": "238.75px"
   },
   "toc_section_display": true,
   "toc_window_display": true
  }
 },
 "nbformat": 4,
 "nbformat_minor": 5
}
