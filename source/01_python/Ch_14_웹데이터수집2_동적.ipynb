{
 "cells": [
  {
   "cell_type": "code",
   "execution_count": 1,
   "id": "6436016c",
   "metadata": {
    "ExecuteTime": {
     "end_time": "2025-05-30T06:13:43.549980Z",
     "start_time": "2025-05-30T06:13:43.529747Z"
    }
   },
   "outputs": [
    {
     "data": {
      "text/html": [
       "<style>\n",
       "div.container{width:86% !important;}\n",
       "div.cell.code_cell.rendered{width:100%;}\n",
       "div.CodeMirror {font-family:Consolas; font-size:12pt;}\n",
       "div.output {font-size:12pt; font-weight:bold;}\n",
       "div.input {font-family:Consolas; font-size:12pt;}\n",
       "div.prompt {min-width:70px;}\n",
       "div#toc-wrapper{padding-top:120px;}\n",
       "div.text_cell_render ul li{fontsize:12pt;padding:5px;}\n",
       "table.dataframe{font-size:12px;}))\n",
       "</style>\n"
      ],
      "text/plain": [
       "<IPython.core.display.HTML object>"
      ]
     },
     "metadata": {},
     "output_type": "display_data"
    }
   ],
   "source": [
    "from IPython.display import display, HTML\n",
    "display(HTML(\"\"\"<style>\n",
    "div.container{width:86% !important;}\n",
    "div.cell.code_cell.rendered{width:100%;}\n",
    "div.CodeMirror {font-family:Consolas; font-size:12pt;}\n",
    "div.output {font-size:12pt; font-weight:bold;}\n",
    "div.input {font-family:Consolas; font-size:12pt;}\n",
    "div.prompt {min-width:70px;}\n",
    "div#toc-wrapper{padding-top:120px;}\n",
    "div.text_cell_render ul li{fontsize:12pt;padding:5px;}\n",
    "table.dataframe{font-size:12px;}))\n",
    "</style>\n",
    "\"\"\"))"
   ]
  },
  {
   "cell_type": "markdown",
   "id": "853982f0",
   "metadata": {},
   "source": [
    "<font size=\"5\" color=\"red\">ch14 웹데이터수집</font>"
   ]
  },
  {
   "cell_type": "markdown",
   "id": "81def88d",
   "metadata": {},
   "source": [
    "# 3절. 동적 웹 데이터 수집"
   ]
  },
  {
   "cell_type": "markdown",
   "id": "4ed680c4",
   "metadata": {},
   "source": [
    "## 3.1 문법\n",
    "\n",
    "    pip install selenium\n",
    "- Docs : https://www.selenium.dev/documentation/\n",
    "- https://selenium-python.readthedocs.io/"
   ]
  },
  {
   "cell_type": "code",
   "execution_count": 2,
   "id": "4ccdf165",
   "metadata": {
    "ExecuteTime": {
     "end_time": "2025-05-30T06:13:47.334264Z",
     "start_time": "2025-05-30T06:13:44.924118Z"
    }
   },
   "outputs": [],
   "source": [
    "from selenium import webdriver\n",
    "from selenium.webdriver.common.by import By\n",
    "import time\n",
    "from selenium.webdriver.common.keys import Keys\n",
    "\n",
    "driver = webdriver.Chrome()\n",
    "driver.get(\"http://www.python.org\")\n",
    "elem = driver.find_element(By.NAME, 'q')\n",
    "elem.clear()\n",
    "elem.send_keys('pyCon')\n",
    "elem.send_keys(Keys.RETURN)  # enter 효과"
   ]
  },
  {
   "cell_type": "code",
   "execution_count": 3,
   "id": "d098b48a",
   "metadata": {
    "ExecuteTime": {
     "end_time": "2025-05-30T06:13:48.159787Z",
     "start_time": "2025-05-30T06:13:47.415533Z"
    }
   },
   "outputs": [
    {
     "name": "stdout",
     "output_type": "stream",
     "text": [
      "PSF PyCon Trademark Usage Policy - https://www.python.org/psf/trademarks/pycon\n",
      "PyCon Italia 2016 (PyCon Sette) - https://www.python.org/events/python-events/378/\n",
      "PyCon Australia 2013 - https://www.python.org/events/python-events/57/\n",
      "PyCon AU 2019 - https://www.python.org/events/python-events/776/\n",
      "PyCon Australia 2014 - https://www.python.org/events/python-events/10/\n",
      "PyCon Ireland 2012 - https://www.python.org/events/python-events/76/\n",
      "PyCon Ireland 2016 - https://www.python.org/events/python-events/429/\n",
      "PyCon Ireland 2022 - https://www.python.org/events/python-events/1320/\n",
      "PyCon Australia 2014 - https://www.python.org/events/python-events/1447/\n",
      "PyCon Ireland 2024 - https://www.python.org/events/python-events/1862/\n",
      "PyCon APAC 2025 - https://www.python.org/events/python-events/1879/\n",
      "PyCon AU 2018 - https://www.python.org/events/python-events/696/\n",
      "PyCon APAC 2022 - https://www.python.org/events/python-events/1216/\n",
      "PyCon PH 2024 - https://www.python.org/events/python-events/1661/\n",
      "PyCon Ireland 2023 - https://www.python.org/events/python-events/1568/\n",
      "PyCon PL 2014 - https://www.python.org/events/python-events/191/\n",
      "PyCon MY 2015 - https://www.python.org/events/python-events/313/\n",
      "PyCon Ireland 2015 - https://www.python.org/events/python-events/333/\n",
      "PyCon AU 2015 - https://www.python.org/events/python-events/273/\n",
      "PyCon Australia 2016 - https://www.python.org/events/python-events/357/\n"
     ]
    }
   ],
   "source": [
    "result_list = driver.find_elements(By.CSS_SELECTOR, 'li > h3 > a')\n",
    "for result in result_list :\n",
    "    print(\"{} - {}\".format(result.text, result.get_attribute('href')) )"
   ]
  },
  {
   "cell_type": "code",
   "execution_count": 4,
   "id": "5028f716",
   "metadata": {
    "ExecuteTime": {
     "end_time": "2025-05-30T06:13:54.767279Z",
     "start_time": "2025-05-30T06:13:54.563314Z"
    }
   },
   "outputs": [
    {
     "name": "stdout",
     "output_type": "stream",
     "text": [
      "PSF PyCon Trademark Usage Policy -/psf/trademarks/pycon\n",
      "PyCon Italia 2016 (PyCon Sette) -/events/python-events/378/\n",
      "PyCon Australia 2013 -/events/python-events/57/\n",
      "PyCon AU 2019 -/events/python-events/776/\n",
      "PyCon Australia 2014 -/events/python-events/10/\n",
      "PyCon Ireland 2012 -/events/python-events/76/\n",
      "PyCon Ireland 2016 -/events/python-events/429/\n",
      "PyCon Ireland 2022 -/events/python-events/1320/\n",
      "PyCon Australia 2014 -/events/python-events/1447/\n",
      "PyCon Ireland 2024 -/events/python-events/1862/\n",
      "PyCon APAC 2025 -/events/python-events/1879/\n",
      "PyCon AU 2018 -/events/python-events/696/\n",
      "PyCon APAC 2022 -/events/python-events/1216/\n",
      "PyCon PH 2024 -/events/python-events/1661/\n",
      "PyCon Ireland 2023 -/events/python-events/1568/\n",
      "PyCon PL 2014 -/events/python-events/191/\n",
      "PyCon MY 2015 -/events/python-events/313/\n",
      "PyCon Ireland 2015 -/events/python-events/333/\n",
      "PyCon AU 2015 -/events/python-events/273/\n",
      "PyCon Australia 2016 -/events/python-events/357/\n"
     ]
    }
   ],
   "source": [
    "from bs4 import BeautifulSoup\n",
    "\n",
    "soup = BeautifulSoup(driver.page_source, \"html.parser\")\n",
    "result_list = soup.select('li > h3 > a')\n",
    "for result in result_list :\n",
    "    print(\"{} -{}\".format(result.text, result.attrs['href']))"
   ]
  },
  {
   "cell_type": "code",
   "execution_count": 5,
   "id": "cec3590f",
   "metadata": {
    "ExecuteTime": {
     "end_time": "2025-05-30T06:13:55.839160Z",
     "start_time": "2025-05-30T06:13:55.823662Z"
    }
   },
   "outputs": [
    {
     "name": "stdout",
     "output_type": "stream",
     "text": [
      "현재 주소 : https://www.python.org/search/?q=pyCon&submit=\n",
      "parse_url : ParseResult(scheme='https', netloc='www.python.org', path='/search/', params='', query='q=pyCon&submit=', fragment='')\n",
      "https://www.python.org\n"
     ]
    }
   ],
   "source": [
    "# 셀리니움을 통해 접근한 현재 url\n",
    "\n",
    "from urllib.parse import urlparse\n",
    "\n",
    "current_url = driver.current_url\n",
    "print('현재 주소 :', current_url)\n",
    "parse_url = urlparse(current_url)\n",
    "print('parse_url :', parse_url)\n",
    "domain = f'{parse_url.scheme}://{parse_url.netloc}'\n",
    "print(domain)"
   ]
  },
  {
   "cell_type": "code",
   "execution_count": 6,
   "id": "941b1da9",
   "metadata": {
    "ExecuteTime": {
     "end_time": "2025-05-30T06:14:08.722167Z",
     "start_time": "2025-05-30T06:14:08.648997Z"
    }
   },
   "outputs": [
    {
     "name": "stdout",
     "output_type": "stream",
     "text": [
      "PSF PyCon Trademark Usage Policy - https://www.python.org/psf/trademarks/pycon\n",
      "PyCon Italia 2016 (PyCon Sette) - https://www.python.org/events/python-events/378/\n",
      "PyCon Australia 2013 - https://www.python.org/events/python-events/57/\n",
      "PyCon AU 2019 - https://www.python.org/events/python-events/776/\n",
      "PyCon Australia 2014 - https://www.python.org/events/python-events/10/\n",
      "PyCon Ireland 2012 - https://www.python.org/events/python-events/76/\n",
      "PyCon Ireland 2016 - https://www.python.org/events/python-events/429/\n",
      "PyCon Ireland 2022 - https://www.python.org/events/python-events/1320/\n",
      "PyCon Australia 2014 - https://www.python.org/events/python-events/1447/\n",
      "PyCon Ireland 2024 - https://www.python.org/events/python-events/1862/\n",
      "PyCon APAC 2025 - https://www.python.org/events/python-events/1879/\n",
      "PyCon AU 2018 - https://www.python.org/events/python-events/696/\n",
      "PyCon APAC 2022 - https://www.python.org/events/python-events/1216/\n",
      "PyCon PH 2024 - https://www.python.org/events/python-events/1661/\n",
      "PyCon Ireland 2023 - https://www.python.org/events/python-events/1568/\n",
      "PyCon PL 2014 - https://www.python.org/events/python-events/191/\n",
      "PyCon MY 2015 - https://www.python.org/events/python-events/313/\n",
      "PyCon Ireland 2015 - https://www.python.org/events/python-events/333/\n",
      "PyCon AU 2015 - https://www.python.org/events/python-events/273/\n",
      "PyCon Australia 2016 - https://www.python.org/events/python-events/357/\n"
     ]
    }
   ],
   "source": [
    "from bs4 import BeautifulSoup\n",
    "\n",
    "soup = BeautifulSoup(driver.page_source, \"html.parser\")\n",
    "result_list = soup.select('li > h3 > a')\n",
    "for result in result_list :\n",
    "    print(\"{} - {}\".format(result.text, domain+result.attrs['href']))"
   ]
  },
  {
   "cell_type": "code",
   "execution_count": 7,
   "id": "a9fd160b",
   "metadata": {
    "ExecuteTime": {
     "end_time": "2025-05-30T06:14:18.453749Z",
     "start_time": "2025-05-30T06:14:18.357372Z"
    }
   },
   "outputs": [],
   "source": [
    "driver.close()  # 브라우저 종료"
   ]
  },
  {
   "cell_type": "markdown",
   "id": "f6271d73",
   "metadata": {},
   "source": [
    "## 3.2 예제"
   ]
  },
  {
   "cell_type": "markdown",
   "id": "e324424b",
   "metadata": {},
   "source": [
    "### 1) 다음 뉴스 검색"
   ]
  },
  {
   "cell_type": "code",
   "execution_count": 12,
   "id": "6eb7ef7d",
   "metadata": {
    "ExecuteTime": {
     "end_time": "2025-05-30T06:36:57.363947Z",
     "start_time": "2025-05-30T06:36:44.706903Z"
    }
   },
   "outputs": [
    {
     "name": "stdout",
     "output_type": "stream",
     "text": [
      "검색하고자 하는 단어?비트코인\n",
      "‘클릭 한번에 150억원’ 비트코인 최고가 경신에... 암호화폐 부자 노린 강력범죄 급증 http://v.daum.net/v/20250530134417903\n",
      "가격 하락에도 기관 자금은 ‘역주행’···비트코인 ETF에 42억 달러 유입 http://v.daum.net/v/20250530140605584\n",
      "\"조정 왔나\"…비트코인, 기관 수요에도 1억4700만원대로 '털썩' http://v.daum.net/v/20250530094255957\n",
      "[비트코인 2025] 테더 CEO “올해 말 세계 최대 비트코인 채굴기업 될 것” http://v.daum.net/v/20250530090905481\n",
      "[비트코인 2025]대세 떠오른 비트코인 비축기업들 http://v.daum.net/v/20250530150900894\n",
      "[비트코인 2025]세계최대 스테이블코인 테더 CEO “비트코인까지 쓸어담을 것” http://v.daum.net/v/20250530151200002\n",
      "떨어지는 비트코인 http://v.daum.net/v/20250530103117094\n",
      "하락세 탄 비트코인 http://v.daum.net/v/20250530103107086\n",
      "[비즈 나우] 美, 1경 '은퇴자금' 비트코인 투자 빗장 풀었다 http://v.daum.net/v/20250530074812188\n",
      "\"지금 들어갈까\"...천장 뚫던 비트코인 '주춤' http://v.daum.net/v/20250530080346539\n"
     ]
    }
   ],
   "source": [
    "from selenium import webdriver\n",
    "from selenium.webdriver.common.by import By\n",
    "from selenium.webdriver.common.keys import Keys\n",
    "import time\n",
    "\n",
    "driver = webdriver.Chrome()\n",
    "driver.get('https://www.daum.net/')\n",
    "# input 태그를 click\n",
    "time.sleep(1)\n",
    "driver.find_element(By.NAME, 'q').click()\n",
    "query = input('검색하고자 하는 단어?')\n",
    "driver.find_element(By.CSS_SELECTOR, 'input[type=\"text\"]').send_keys(query)\n",
    "driver.find_element(By.CLASS_NAME, 'btn_ksearch').click()\n",
    "time.sleep(2)\n",
    "# 뉴스탭 클릭 : ul.list_tab > li\n",
    "# driver.find_elements(By.CSS_SELECTOR, 'ul.list_tab > li')[3].click()\n",
    "driver.find_element(By.LINK_TEXT, '뉴스').click()  # 쉬는 시간 훈련생 제안\n",
    "time.sleep(2)\n",
    "news_list = []\n",
    "elems = driver.find_elements(By.CSS_SELECTOR, 'div.item-title > strong.tit-g > a')\n",
    "for elem in elems :\n",
    "    title = elem.text\n",
    "    link = elem.get_attribute('href')\n",
    "    news_list.append([title, link])\n",
    "    print(title, link)"
   ]
  },
  {
   "cell_type": "code",
   "execution_count": 13,
   "id": "d6b67dc7",
   "metadata": {
    "ExecuteTime": {
     "end_time": "2025-05-30T06:37:15.034930Z",
     "start_time": "2025-05-30T06:37:14.429972Z"
    }
   },
   "outputs": [],
   "source": [
    "# 2page로\n",
    "\n",
    "page_div = driver.find_element(By.CSS_SELECTOR, 'div.inner_paging')\n",
    "# print(page_div.text)\n",
    "next_page = page_div.find_element(By.LINK_TEXT, '2')\n",
    "next_page.click()"
   ]
  },
  {
   "cell_type": "markdown",
   "id": "964f4cb0",
   "metadata": {},
   "source": [
    "페이징 처리\n",
    "- 다음 뉴스검색 : 원하는 단어를 원하는 page수만큼"
   ]
  },
  {
   "cell_type": "code",
   "execution_count": 15,
   "id": "fb5ad2d7",
   "metadata": {
    "ExecuteTime": {
     "end_time": "2025-05-30T07:28:19.118005Z",
     "start_time": "2025-05-30T07:27:56.168670Z"
    }
   },
   "outputs": [
    {
     "name": "stdout",
     "output_type": "stream",
     "text": [
      "검색하고자 하는 단어?청바지\n",
      "~~ 현재 1페이지 데이터 수집 중입니다 ~ ~\n",
      "~~ 현재 2페이지 데이터 수집 중입니다 ~ ~\n",
      "~~ 현재 3페이지 데이터 수집 중입니다 ~ ~\n"
     ]
    }
   ],
   "source": [
    "from selenium import webdriver\n",
    "from selenium.webdriver.common.by import By\n",
    "from selenium.webdriver.common.keys import Keys\n",
    "import time\n",
    "import pandas as pd\n",
    "\n",
    "driver = webdriver.Chrome()\n",
    "driver.get('https://www.daum.net/')\n",
    "# input 태그를 click\n",
    "time.sleep(1)\n",
    "driver.find_element(By.NAME, 'q').click()\n",
    "query = input('검색하고자 하는 단어?')\n",
    "driver.find_element(By.CSS_SELECTOR, 'input[type=\"text\"]').send_keys(query)\n",
    "driver.find_element(By.CLASS_NAME, 'btn_ksearch').click()\n",
    "time.sleep(2)\n",
    "# 뉴스탭 클릭 : ul.list_tab > li\n",
    "# driver.find_elements(By.CSS_SELECTOR, 'ul.list_tab > li')[3].click()\n",
    "driver.find_element(By.LINK_TEXT, '뉴스').click() # 쉬는 시간 훈련생 제안\n",
    "time.sleep(2)\n",
    "news_list = []\n",
    "pages = 3\n",
    "for page in range(1, pages + 1) :\n",
    "    elems = driver.find_elements(By.CSS_SELECTOR, 'div.item-title > strong.tit-g > a')\n",
    "    for elem in elems :\n",
    "        title = elem.text\n",
    "        link = elem.get_attribute('href')\n",
    "        news_list.append([title, link])\n",
    "        # print(title, link)\n",
    "    # 2page로\n",
    "    page_div = driver.find_element(By.CSS_SELECTOR, 'div.inner_paging')\n",
    "    # print(page_div.text)\n",
    "    next_page = page_div.find_element(By.LINK_TEXT, str(page+1) )\n",
    "    next_page.click()\n",
    "    time.sleep(1.5)\n",
    "    print(f'~~ 현재 {page}페이지 데이터 수집 중입니다 ~ ~')\n",
    "driver.close()\n",
    "df = pd.DataFrame(news_list, columns = ['title', 'link'])\n",
    "df.to_csv('data/ch14_daum.csv', index = False)"
   ]
  },
  {
   "cell_type": "markdown",
   "id": "64583cb8",
   "metadata": {},
   "source": [
    "### 2) 맞춤법 검사기\n",
    "\n",
    "- 네이버 맞춤법 검사기 이용"
   ]
  },
  {
   "cell_type": "code",
   "execution_count": 16,
   "id": "a3fb98dd",
   "metadata": {
    "ExecuteTime": {
     "end_time": "2025-05-30T07:28:23.638182Z",
     "start_time": "2025-05-30T07:28:23.629775Z"
    }
   },
   "outputs": [],
   "source": [
    "# f = open('data/ch14_맞춤법전.txt', 'r', encoding='utf-8')\n",
    "# text = f.read()\n",
    "# f.close()"
   ]
  },
  {
   "cell_type": "code",
   "execution_count": 17,
   "id": "199a2e62",
   "metadata": {
    "ExecuteTime": {
     "end_time": "2025-05-30T07:28:39.457167Z",
     "start_time": "2025-05-30T07:28:39.426432Z"
    }
   },
   "outputs": [
    {
     "name": "stdout",
     "output_type": "stream",
     "text": [
      "총글자 수 : 2052\n",
      "223\n",
      "248\n",
      "232\n",
      "259\n",
      "249\n",
      "190\n",
      "166\n",
      "181\n",
      "297\n"
     ]
    },
    {
     "data": {
      "text/plain": [
       "['안뇽하십니까? 방갑',\n",
       " '\\n가장 먼져 떠오르',\n",
       " '\\n다음으로 중요한 ',\n",
       " '\\n성장과 배움 또한',\n",
       " '\\n신체적, 정신적 ',\n",
       " '\\n살다 보면 예상치',\n",
       " '\\n현재를 감사하고 ',\n",
       " '\\n마지막으로, 자신',\n",
       " '\\n결국 좋은 인생은',\n",
       " '\\n감샤합니다.']"
      ]
     },
     "execution_count": 17,
     "metadata": {},
     "output_type": "execute_result"
    }
   ],
   "source": [
    "# ch14_맞춤법전.txt를 300자이내로 자르기\n",
    "\n",
    "with open('data/ch14_맞춤법전.txt', 'r', encoding = 'utf-8') as f :\n",
    "    text = f.read()\n",
    "print('총글자 수 :',len(text))\n",
    "ready_list = [] # 맞춤법 검사할 text 내용(300이자 이내로 list)\n",
    "while(len(text) > 300) :\n",
    "    temp = text[:300]\n",
    "    new_line_char_index = temp.rfind('\\n')\n",
    "    print(new_line_char_index)\n",
    "    ready_list.append(text[:new_line_char_index])\n",
    "    text = text[new_line_char_index:]\n",
    "ready_list.append(text)\n",
    "[ready[:10] for ready in ready_list]"
   ]
  },
  {
   "cell_type": "code",
   "execution_count": null,
   "id": "2cc4742e",
   "metadata": {},
   "outputs": [],
   "source": []
  }
 ],
 "metadata": {
  "kernelspec": {
   "display_name": "Python 3 (ipykernel)",
   "language": "python",
   "name": "python3"
  },
  "language_info": {
   "codemirror_mode": {
    "name": "ipython",
    "version": 3
   },
   "file_extension": ".py",
   "mimetype": "text/x-python",
   "name": "python",
   "nbconvert_exporter": "python",
   "pygments_lexer": "ipython3",
   "version": "3.10.9"
  },
  "toc": {
   "base_numbering": "1",
   "nav_menu": {},
   "number_sections": false,
   "sideBar": true,
   "skip_h1_title": false,
   "title_cell": "Table of Contents",
   "title_sidebar": "Contents",
   "toc_cell": false,
   "toc_position": {
    "height": "calc(100% - 180px)",
    "left": "10px",
    "top": "150px",
    "width": "242.95px"
   },
   "toc_section_display": true,
   "toc_window_display": true
  },
  "varInspector": {
   "cols": {
    "lenName": 16,
    "lenType": 16,
    "lenVar": 40
   },
   "kernels_config": {
    "python": {
     "delete_cmd_postfix": "",
     "delete_cmd_prefix": "del ",
     "library": "var_list.py",
     "varRefreshCmd": "print(var_dic_list())"
    },
    "r": {
     "delete_cmd_postfix": ") ",
     "delete_cmd_prefix": "rm(",
     "library": "var_list.r",
     "varRefreshCmd": "cat(var_dic_list()) "
    }
   },
   "types_to_exclude": [
    "module",
    "function",
    "builtin_function_or_method",
    "instance",
    "_Feature"
   ],
   "window_display": false
  }
 },
 "nbformat": 4,
 "nbformat_minor": 5
}
