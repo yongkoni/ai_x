{
 "cells": [
  {
   "cell_type": "code",
   "execution_count": 1,
   "id": "1bd417c7",
   "metadata": {},
   "outputs": [
    {
     "data": {
      "text/html": [
       "<style>\n",
       "div.container{width:86% !important;}\n",
       "div.cell.code_cell.rendered{width:100%;}\n",
       "div.CodeMirror {font-family:Consolas; font-size:12pt;}\n",
       "div.output {font-size:12pt; font-weight:bold;}\n",
       "div.input {font-family:Consolas; font-size:12pt;}\n",
       "div.prompt {min-width:70px;}\n",
       "div#toc-wrapper{padding-top:120px;}\n",
       "div.text_cell_render ul li{fontsize:12pt;padding:5px;}\n",
       "table.dataframe{font-size:12px;}))\n",
       "</style>\n"
      ],
      "text/plain": [
       "<IPython.core.display.HTML object>"
      ]
     },
     "metadata": {},
     "output_type": "display_data"
    }
   ],
   "source": [
    "from IPython.display import display, HTML\n",
    "display(HTML(\"\"\"<style>\n",
    "div.container{width:86% !important;}\n",
    "div.cell.code_cell.rendered{width:100%;}\n",
    "div.CodeMirror {font-family:Consolas; font-size:12pt;}\n",
    "div.output {font-size:12pt; font-weight:bold;}\n",
    "div.input {font-family:Consolas; font-size:12pt;}\n",
    "div.prompt {min-width:70px;}\n",
    "div#toc-wrapper{padding-top:120px;}\n",
    "div.text_cell_render ul li{fontsize:12pt;padding:5px;}\n",
    "table.dataframe{font-size:12px;}))\n",
    "</style>\n",
    "\"\"\"))"
   ]
  },
  {
   "cell_type": "markdown",
   "id": "43ecf15f",
   "metadata": {},
   "source": [
    "<font size=\"5\" color=\"red\">ch02 딥러닝입문 분류분석</font>"
   ]
  },
  {
   "cell_type": "code",
   "execution_count": 2,
   "id": "21a30371",
   "metadata": {},
   "outputs": [],
   "source": [
    "from tensorflow.keras.utils import to_categorical  # 분류분석시 원핫인코딩\n",
    "from tensorflow.keras.models import Sequential  # 모델 생성\n",
    "from tensorflow.keras.layers import Dense, Input\n",
    "import numpy as np"
   ]
  },
  {
   "cell_type": "markdown",
   "id": "28a0575a",
   "metadata": {},
   "source": [
    "# 머신러닝/딥러닝 : 데이터의 법칙성을 추출\n",
    "\n",
    "- 다양한 분야에서 응용 : 글씨인식, 문장분류, 질병진단,... ※ ML/DL의 종류\n",
    "- 지도학습(독립 = 입력변수와 종속 = 타겟 = 출력변수가 모두 주어졌을 경우) 회귀분석(타겟변수가 연속형) vs 분류분석(multi, binary)\n",
    "- 비지도학습(입력변수만) 군집화\n",
    "- 강화학습\n",
    "\n",
    "※ 지도학습에서의 ML, DL 프로그래밍 방식\n",
    "\n",
    "1. 데이터 셋 확보(input = 입력변수, target = 종속변수) 원본 데이터 및 시뮬레이션을 통해 데이터 생성\n",
    "2. 전처리 스케일 조정 훈련셋(학습셋), 검증셋, 시험셋(테스트셋) 학습 및 평가 가능한 포맷으로 변환\n",
    "3. 모델 구성 Sequential 객체 생성뒤 필요한 층을 add()함수로 추가\n",
    "4. 모델 학습과정 설정 compile()함수 이용. 손실함수, optimizer, metrics(평가지표)\n",
    "5. 모델 학습시키기 (ft. 학습과정 지켜보기) fit()함수 이용 - 훈련셋입력 = 독립변수, 훈련셋타겟=종속변수, 학습횟수, 검증셋\n",
    "6. 모델 평가 시험셋(테스트셋)을 인자로 넣은 evaluate()함수 이용, 그래프\n",
    "7. 모델 사용 predict() 이용. 입력데이터는 2차원 데이터\n",
    "8. 모델 저장 save()함수이용해서 저장. 저장된 모델은 load_model()함수를 이용해서 불러올 수 있음"
   ]
  },
  {
   "cell_type": "markdown",
   "id": "2aa043a5",
   "metadata": {},
   "source": [
    "# 1. 데이터 셋 생성"
   ]
  },
  {
   "cell_type": "markdown",
   "id": "be8057c0",
   "metadata": {},
   "source": [
    "# 2. 데이터 전처리"
   ]
  },
  {
   "cell_type": "code",
   "execution_count": 3,
   "id": "ac807d00",
   "metadata": {},
   "outputs": [
    {
     "data": {
      "text/plain": [
       "((90,), (9,), (9,), (90,), (9,), (9,))"
      ]
     },
     "execution_count": 3,
     "metadata": {},
     "output_type": "execute_result"
    }
   ],
   "source": [
    "# 학습데이터 = 훈련데이터\n",
    "\n",
    "x_train = np.array([1, 2, 3, 4, 5, 6, 7, 8, 9] * 10)\n",
    "y_train = np.array([2, 4, 6, 8, 10, 12, 14, 16, 18] * 10)\n",
    "\n",
    "# 검증데이터\n",
    "\n",
    "x_val = np.array([1, 2, 3, 4, 5, 6, 7, 8, 9])\n",
    "y_val = np.array([2, 4, 6, 8, 10, 12, 14, 16, 18])\n",
    "\n",
    "# 테스트셋 = 시험데이터\n",
    "\n",
    "x_test = np.array([1, 2, 3, 4, 5, 6, 7, 8, 9])\n",
    "y_test = np.array([2, 4, 6, 8, 10, 12, 14, 16, 18])\n",
    "x_train.shape, x_val.shape, x_test.shape, y_train.shape, y_val.shape, y_test.shape"
   ]
  },
  {
   "cell_type": "code",
   "execution_count": 4,
   "id": "03696e89",
   "metadata": {},
   "outputs": [
    {
     "name": "stdout",
     "output_type": "stream",
     "text": [
      "원 데이터 : ['a' 'b' 'c' 'd']\n",
      "라벨인코딩된 데이터 : [0 1 2 3]\n",
      "원핫인코딩된 데이터 : [[1. 0. 0. 0.]\n",
      " [0. 1. 0. 0.]\n",
      " [0. 0. 1. 0.]\n",
      " [0. 0. 0. 1.]]\n"
     ]
    }
   ],
   "source": [
    "# 인코딩 종류\n",
    "\n",
    "from sklearn.preprocessing import LabelEncoder\n",
    "\n",
    "data = np.array(['a', 'b', 'c', 'd'])\n",
    "print('원 데이터 :', data)\n",
    "le = LabelEncoder()\n",
    "# le.fit(data)\n",
    "# labeled_data = le.transform(data)\n",
    "labeled_data = le.fit_transform(data)\n",
    "print('라벨인코딩된 데이터 :', labeled_data)\n",
    "one_hot_encoded_data = to_categorical(labeled_data)\n",
    "print('원핫인코딩된 데이터 :', one_hot_encoded_data)"
   ]
  },
  {
   "cell_type": "code",
   "execution_count": 5,
   "id": "65473e5f",
   "metadata": {},
   "outputs": [
    {
     "name": "stdout",
     "output_type": "stream",
     "text": [
      "[1 2 2 4 2]\n",
      "to_categorical을 이용한 원핫인코딩 :\n",
      " [[0. 1. 0. 0. 0.]\n",
      " [0. 0. 1. 0. 0.]\n",
      " [0. 0. 1. 0. 0.]\n",
      " [0. 0. 0. 0. 1.]\n",
      " [0. 0. 1. 0. 0.]]\n"
     ]
    },
    {
     "data": {
      "text/plain": [
       "'get_dumies를 이용한 원핫인코딩 :'"
      ]
     },
     "metadata": {},
     "output_type": "display_data"
    },
    {
     "data": {
      "text/html": [
       "<div>\n",
       "<style scoped>\n",
       "    .dataframe tbody tr th:only-of-type {\n",
       "        vertical-align: middle;\n",
       "    }\n",
       "\n",
       "    .dataframe tbody tr th {\n",
       "        vertical-align: top;\n",
       "    }\n",
       "\n",
       "    .dataframe thead th {\n",
       "        text-align: right;\n",
       "    }\n",
       "</style>\n",
       "<table border=\"1\" class=\"dataframe\">\n",
       "  <thead>\n",
       "    <tr style=\"text-align: right;\">\n",
       "      <th></th>\n",
       "      <th>1</th>\n",
       "      <th>2</th>\n",
       "      <th>4</th>\n",
       "    </tr>\n",
       "  </thead>\n",
       "  <tbody>\n",
       "    <tr>\n",
       "      <th>0</th>\n",
       "      <td>1</td>\n",
       "      <td>0</td>\n",
       "      <td>0</td>\n",
       "    </tr>\n",
       "    <tr>\n",
       "      <th>1</th>\n",
       "      <td>0</td>\n",
       "      <td>1</td>\n",
       "      <td>0</td>\n",
       "    </tr>\n",
       "    <tr>\n",
       "      <th>2</th>\n",
       "      <td>0</td>\n",
       "      <td>1</td>\n",
       "      <td>0</td>\n",
       "    </tr>\n",
       "    <tr>\n",
       "      <th>3</th>\n",
       "      <td>0</td>\n",
       "      <td>0</td>\n",
       "      <td>1</td>\n",
       "    </tr>\n",
       "    <tr>\n",
       "      <th>4</th>\n",
       "      <td>0</td>\n",
       "      <td>1</td>\n",
       "      <td>0</td>\n",
       "    </tr>\n",
       "  </tbody>\n",
       "</table>\n",
       "</div>"
      ],
      "text/plain": [
       "   1  2  4\n",
       "0  1  0  0\n",
       "1  0  1  0\n",
       "2  0  1  0\n",
       "3  0  0  1\n",
       "4  0  1  0"
      ]
     },
     "metadata": {},
     "output_type": "display_data"
    },
    {
     "name": "stdout",
     "output_type": "stream",
     "text": [
      "<class 'numpy.ndarray'>\n",
      "<class 'pandas.core.frame.DataFrame'>\n"
     ]
    }
   ],
   "source": [
    "# 분류분석을 위기 위해, target을 원핫인코딩(라벨링 전환)\n",
    "\n",
    "import pandas as pd\n",
    "\n",
    "data = np.array([1, 2, 2, 4, 2])\n",
    "print(data)\n",
    "categorical_one_hot = to_categorical(data)\n",
    "print('to_categorical을 이용한 원핫인코딩 :\\n', categorical_one_hot)\n",
    "get_dumies_one_hot = pd.get_dummies(data)\n",
    "display('get_dumies를 이용한 원핫인코딩 :', get_dumies_one_hot)\n",
    "print(type(categorical_one_hot))\n",
    "print(type(get_dumies_one_hot))"
   ]
  },
  {
   "cell_type": "code",
   "execution_count": 6,
   "id": "54d3d5cd",
   "metadata": {},
   "outputs": [],
   "source": [
    "# 분류분석을 위한 target변수 라벨링 전환(원핫인코딩)\n",
    "\n",
    "Y_train = to_categorical(y_train, 19)\n",
    "Y_val = to_categorical(y_val)\n",
    "Y_test = to_categorical(y_test)"
   ]
  },
  {
   "cell_type": "code",
   "execution_count": 7,
   "id": "2853786c",
   "metadata": {},
   "outputs": [
    {
     "name": "stdout",
     "output_type": "stream",
     "text": [
      "훈련셋 구조: (90,) (90, 19)\n",
      "검증셋 구조: (9,) (9, 19)\n",
      "테스트셋 구조: (9,) (9, 19)\n"
     ]
    }
   ],
   "source": [
    "print('훈련셋 구조:', x_train.shape, Y_train.shape)  # 독립변수 1개, 타겟변수 19개\n",
    "print('검증셋 구조:', x_val.shape, Y_val.shape)\n",
    "print('테스트셋 구조:', x_test.shape, Y_test.shape)"
   ]
  },
  {
   "cell_type": "markdown",
   "id": "950f4435",
   "metadata": {},
   "source": [
    "# 3. 모델 구성하기"
   ]
  },
  {
   "cell_type": "code",
   "execution_count": 8,
   "id": "ad99c3f2",
   "metadata": {},
   "outputs": [
    {
     "name": "stdout",
     "output_type": "stream",
     "text": [
      "Model: \"sequential\"\n",
      "_________________________________________________________________\n",
      " Layer (type)                Output Shape              Param #   \n",
      "=================================================================\n",
      " dense (Dense)               (None, 38)                76        \n",
      "                                                                 \n",
      " dense_1 (Dense)             (None, 64)                2496      \n",
      "                                                                 \n",
      " dense_2 (Dense)             (None, 32)                2080      \n",
      "                                                                 \n",
      " dense_3 (Dense)             (None, 19)                627       \n",
      "                                                                 \n",
      "=================================================================\n",
      "Total params: 5,279\n",
      "Trainable params: 5,279\n",
      "Non-trainable params: 0\n",
      "_________________________________________________________________\n"
     ]
    }
   ],
   "source": [
    "model = Sequential()\n",
    "model.add(Input(shape = (1,)))  # 입력층\n",
    "model.add(Dense(units = 38, activation = 'sigmoid'))  # units출력수, 활성화함수:relu, tanh\n",
    "model.add(Dense(units = 64, activation = 'elu'))\n",
    "model.add(Dense(units = 32, activation = 'elu'))\n",
    "model.add(Dense(units = 19, activation = 'softmax'))\n",
    "# softmax : 모든 출력결과의 합이 1. 분류분석 마지막 layer(출력층)에서 activation으로\n",
    "model.summary()"
   ]
  },
  {
   "cell_type": "markdown",
   "id": "d1f86812",
   "metadata": {},
   "source": [
    "# 4. 모델 학습과정 설정"
   ]
  },
  {
   "cell_type": "code",
   "execution_count": 9,
   "id": "f849837b",
   "metadata": {},
   "outputs": [],
   "source": [
    "model.compile(loss = 'categorical_crossentropy',  # 분류분석에서의 손실함수 (원핫인코딩有)\n",
    "              optimizer = 'sgd',\n",
    "              metrics = ['accuracy'])  # 평가지표 : accuracy"
   ]
  },
  {
   "cell_type": "markdown",
   "id": "513dfa56",
   "metadata": {},
   "source": [
    "# 5. 모델 학습시키기"
   ]
  },
  {
   "cell_type": "code",
   "execution_count": 10,
   "id": "17ec81e1",
   "metadata": {},
   "outputs": [
    {
     "name": "stdout",
     "output_type": "stream",
     "text": [
      "Epoch 1/300\n",
      "9/9 - 1s - loss: 2.9473 - accuracy: 0.0000e+00 - val_loss: 2.8723 - val_accuracy: 0.0000e+00 - 546ms/epoch - 61ms/step\n",
      "Epoch 2/300\n",
      "9/9 - 0s - loss: 2.8376 - accuracy: 0.0444 - val_loss: 2.7769 - val_accuracy: 0.2222 - 43ms/epoch - 5ms/step\n",
      "Epoch 3/300\n",
      "9/9 - 0s - loss: 2.7502 - accuracy: 0.2556 - val_loss: 2.7031 - val_accuracy: 0.2222 - 39ms/epoch - 4ms/step\n",
      "Epoch 4/300\n",
      "9/9 - 0s - loss: 2.6847 - accuracy: 0.2333 - val_loss: 2.6422 - val_accuracy: 0.2222 - 37ms/epoch - 4ms/step\n",
      "Epoch 5/300\n",
      "9/9 - 0s - loss: 2.6274 - accuracy: 0.2222 - val_loss: 2.5898 - val_accuracy: 0.2222 - 41ms/epoch - 5ms/step\n",
      "Epoch 6/300\n",
      "9/9 - 0s - loss: 2.5794 - accuracy: 0.2222 - val_loss: 2.5424 - val_accuracy: 0.2222 - 40ms/epoch - 4ms/step\n",
      "Epoch 7/300\n",
      "9/9 - 0s - loss: 2.5318 - accuracy: 0.1556 - val_loss: 2.4983 - val_accuracy: 0.2222 - 40ms/epoch - 4ms/step\n",
      "Epoch 8/300\n",
      "9/9 - 0s - loss: 2.4883 - accuracy: 0.1667 - val_loss: 2.4569 - val_accuracy: 0.2222 - 38ms/epoch - 4ms/step\n",
      "Epoch 9/300\n",
      "9/9 - 0s - loss: 2.4478 - accuracy: 0.1556 - val_loss: 2.4176 - val_accuracy: 0.2222 - 42ms/epoch - 5ms/step\n",
      "Epoch 10/300\n",
      "9/9 - 0s - loss: 2.4093 - accuracy: 0.1556 - val_loss: 2.3801 - val_accuracy: 0.2222 - 37ms/epoch - 4ms/step\n",
      "Epoch 11/300\n",
      "9/9 - 0s - loss: 2.3770 - accuracy: 0.1333 - val_loss: 2.3443 - val_accuracy: 0.1111 - 39ms/epoch - 4ms/step\n",
      "Epoch 12/300\n",
      "9/9 - 0s - loss: 2.3381 - accuracy: 0.1111 - val_loss: 2.3098 - val_accuracy: 0.2222 - 42ms/epoch - 5ms/step\n",
      "Epoch 13/300\n",
      "9/9 - 0s - loss: 2.3053 - accuracy: 0.1556 - val_loss: 2.2765 - val_accuracy: 0.1111 - 44ms/epoch - 5ms/step\n",
      "Epoch 14/300\n",
      "9/9 - 0s - loss: 2.2753 - accuracy: 0.1778 - val_loss: 2.2445 - val_accuracy: 0.1111 - 37ms/epoch - 4ms/step\n",
      "Epoch 15/300\n",
      "9/9 - 0s - loss: 2.2390 - accuracy: 0.1111 - val_loss: 2.2137 - val_accuracy: 0.1111 - 41ms/epoch - 5ms/step\n",
      "Epoch 16/300\n",
      "9/9 - 0s - loss: 2.2084 - accuracy: 0.1556 - val_loss: 2.1841 - val_accuracy: 0.1111 - 45ms/epoch - 5ms/step\n",
      "Epoch 17/300\n",
      "9/9 - 0s - loss: 2.1809 - accuracy: 0.1111 - val_loss: 2.1559 - val_accuracy: 0.1111 - 38ms/epoch - 4ms/step\n",
      "Epoch 18/300\n",
      "9/9 - 0s - loss: 2.1537 - accuracy: 0.1444 - val_loss: 2.1287 - val_accuracy: 0.1111 - 41ms/epoch - 5ms/step\n",
      "Epoch 19/300\n",
      "9/9 - 0s - loss: 2.1321 - accuracy: 0.1222 - val_loss: 2.1027 - val_accuracy: 0.1111 - 41ms/epoch - 5ms/step\n",
      "Epoch 20/300\n",
      "9/9 - 0s - loss: 2.1026 - accuracy: 0.1111 - val_loss: 2.0778 - val_accuracy: 0.1111 - 37ms/epoch - 4ms/step\n",
      "Epoch 21/300\n",
      "9/9 - 0s - loss: 2.0784 - accuracy: 0.1111 - val_loss: 2.0538 - val_accuracy: 0.2222 - 50ms/epoch - 6ms/step\n",
      "Epoch 22/300\n",
      "9/9 - 0s - loss: 2.0530 - accuracy: 0.1778 - val_loss: 2.0307 - val_accuracy: 0.2222 - 36ms/epoch - 4ms/step\n",
      "Epoch 23/300\n",
      "9/9 - 0s - loss: 2.0323 - accuracy: 0.1889 - val_loss: 2.0084 - val_accuracy: 0.2222 - 38ms/epoch - 4ms/step\n",
      "Epoch 24/300\n",
      "9/9 - 0s - loss: 2.0127 - accuracy: 0.1667 - val_loss: 1.9870 - val_accuracy: 0.2222 - 37ms/epoch - 4ms/step\n",
      "Epoch 25/300\n",
      "9/9 - 0s - loss: 1.9964 - accuracy: 0.2222 - val_loss: 1.9663 - val_accuracy: 0.2222 - 39ms/epoch - 4ms/step\n",
      "Epoch 26/300\n",
      "9/9 - 0s - loss: 1.9687 - accuracy: 0.1667 - val_loss: 1.9463 - val_accuracy: 0.2222 - 38ms/epoch - 4ms/step\n",
      "Epoch 27/300\n",
      "9/9 - 0s - loss: 1.9493 - accuracy: 0.1889 - val_loss: 1.9265 - val_accuracy: 0.2222 - 40ms/epoch - 4ms/step\n",
      "Epoch 28/300\n",
      "9/9 - 0s - loss: 1.9333 - accuracy: 0.2000 - val_loss: 1.9076 - val_accuracy: 0.2222 - 38ms/epoch - 4ms/step\n",
      "Epoch 29/300\n",
      "9/9 - 0s - loss: 1.9114 - accuracy: 0.2222 - val_loss: 1.8894 - val_accuracy: 0.2222 - 38ms/epoch - 4ms/step\n",
      "Epoch 30/300\n",
      "9/9 - 0s - loss: 1.8963 - accuracy: 0.2222 - val_loss: 1.8714 - val_accuracy: 0.2222 - 42ms/epoch - 5ms/step\n",
      "Epoch 31/300\n",
      "9/9 - 0s - loss: 1.8758 - accuracy: 0.3222 - val_loss: 1.8540 - val_accuracy: 0.2222 - 37ms/epoch - 4ms/step\n",
      "Epoch 32/300\n",
      "9/9 - 0s - loss: 1.8658 - accuracy: 0.2222 - val_loss: 1.8373 - val_accuracy: 0.2222 - 42ms/epoch - 5ms/step\n",
      "Epoch 33/300\n",
      "9/9 - 0s - loss: 1.8515 - accuracy: 0.2333 - val_loss: 1.8206 - val_accuracy: 0.2222 - 39ms/epoch - 4ms/step\n",
      "Epoch 34/300\n",
      "9/9 - 0s - loss: 1.8305 - accuracy: 0.2222 - val_loss: 1.8047 - val_accuracy: 0.2222 - 44ms/epoch - 5ms/step\n",
      "Epoch 35/300\n",
      "9/9 - 0s - loss: 1.8100 - accuracy: 0.2111 - val_loss: 1.7890 - val_accuracy: 0.2222 - 40ms/epoch - 4ms/step\n",
      "Epoch 36/300\n",
      "9/9 - 0s - loss: 1.8044 - accuracy: 0.2222 - val_loss: 1.7735 - val_accuracy: 0.2222 - 39ms/epoch - 4ms/step\n",
      "Epoch 37/300\n",
      "9/9 - 0s - loss: 1.7842 - accuracy: 0.3000 - val_loss: 1.7585 - val_accuracy: 0.2222 - 41ms/epoch - 5ms/step\n",
      "Epoch 38/300\n",
      "9/9 - 0s - loss: 1.7673 - accuracy: 0.2333 - val_loss: 1.7438 - val_accuracy: 0.2222 - 38ms/epoch - 4ms/step\n",
      "Epoch 39/300\n",
      "9/9 - 0s - loss: 1.7498 - accuracy: 0.3444 - val_loss: 1.7294 - val_accuracy: 0.3333 - 42ms/epoch - 5ms/step\n",
      "Epoch 40/300\n",
      "9/9 - 0s - loss: 1.7432 - accuracy: 0.3222 - val_loss: 1.7155 - val_accuracy: 0.3333 - 42ms/epoch - 5ms/step\n",
      "Epoch 41/300\n",
      "9/9 - 0s - loss: 1.7230 - accuracy: 0.2556 - val_loss: 1.7018 - val_accuracy: 0.3333 - 41ms/epoch - 5ms/step\n",
      "Epoch 42/300\n",
      "9/9 - 0s - loss: 1.7144 - accuracy: 0.3667 - val_loss: 1.6884 - val_accuracy: 0.2222 - 42ms/epoch - 5ms/step\n",
      "Epoch 43/300\n",
      "9/9 - 0s - loss: 1.6972 - accuracy: 0.3444 - val_loss: 1.6751 - val_accuracy: 0.2222 - 40ms/epoch - 4ms/step\n",
      "Epoch 44/300\n",
      "9/9 - 0s - loss: 1.6848 - accuracy: 0.3000 - val_loss: 1.6622 - val_accuracy: 0.2222 - 43ms/epoch - 5ms/step\n",
      "Epoch 45/300\n",
      "9/9 - 0s - loss: 1.6732 - accuracy: 0.3556 - val_loss: 1.6494 - val_accuracy: 0.4444 - 38ms/epoch - 4ms/step\n",
      "Epoch 46/300\n",
      "9/9 - 0s - loss: 1.6586 - accuracy: 0.3556 - val_loss: 1.6370 - val_accuracy: 0.4444 - 39ms/epoch - 4ms/step\n",
      "Epoch 47/300\n",
      "9/9 - 0s - loss: 1.6481 - accuracy: 0.3889 - val_loss: 1.6246 - val_accuracy: 0.3333 - 40ms/epoch - 4ms/step\n",
      "Epoch 48/300\n",
      "9/9 - 0s - loss: 1.6364 - accuracy: 0.4667 - val_loss: 1.6131 - val_accuracy: 0.3333 - 38ms/epoch - 4ms/step\n",
      "Epoch 49/300\n",
      "9/9 - 0s - loss: 1.6214 - accuracy: 0.3444 - val_loss: 1.6010 - val_accuracy: 0.3333 - 39ms/epoch - 4ms/step\n",
      "Epoch 50/300\n",
      "9/9 - 0s - loss: 1.6151 - accuracy: 0.3889 - val_loss: 1.5891 - val_accuracy: 0.4444 - 42ms/epoch - 5ms/step\n",
      "Epoch 51/300\n",
      "9/9 - 0s - loss: 1.5988 - accuracy: 0.3667 - val_loss: 1.5775 - val_accuracy: 0.3333 - 40ms/epoch - 4ms/step\n",
      "Epoch 52/300\n",
      "9/9 - 0s - loss: 1.5898 - accuracy: 0.4111 - val_loss: 1.5660 - val_accuracy: 0.4444 - 49ms/epoch - 5ms/step\n",
      "Epoch 53/300\n",
      "9/9 - 0s - loss: 1.5758 - accuracy: 0.4444 - val_loss: 1.5549 - val_accuracy: 0.4444 - 39ms/epoch - 4ms/step\n",
      "Epoch 54/300\n",
      "9/9 - 0s - loss: 1.5716 - accuracy: 0.4222 - val_loss: 1.5437 - val_accuracy: 0.4444 - 37ms/epoch - 4ms/step\n",
      "Epoch 55/300\n",
      "9/9 - 0s - loss: 1.5535 - accuracy: 0.4444 - val_loss: 1.5332 - val_accuracy: 0.4444 - 39ms/epoch - 4ms/step\n",
      "Epoch 56/300\n",
      "9/9 - 0s - loss: 1.5458 - accuracy: 0.4222 - val_loss: 1.5223 - val_accuracy: 0.4444 - 37ms/epoch - 4ms/step\n",
      "Epoch 57/300\n",
      "9/9 - 0s - loss: 1.5329 - accuracy: 0.5333 - val_loss: 1.5117 - val_accuracy: 0.5556 - 38ms/epoch - 4ms/step\n",
      "Epoch 58/300\n",
      "9/9 - 0s - loss: 1.5239 - accuracy: 0.4556 - val_loss: 1.5010 - val_accuracy: 0.5556 - 37ms/epoch - 4ms/step\n",
      "Epoch 59/300\n",
      "9/9 - 0s - loss: 1.5162 - accuracy: 0.4556 - val_loss: 1.4905 - val_accuracy: 0.4444 - 37ms/epoch - 4ms/step\n",
      "Epoch 60/300\n",
      "9/9 - 0s - loss: 1.5018 - accuracy: 0.4778 - val_loss: 1.4803 - val_accuracy: 0.4444 - 39ms/epoch - 4ms/step\n",
      "Epoch 61/300\n",
      "9/9 - 0s - loss: 1.4888 - accuracy: 0.5000 - val_loss: 1.4700 - val_accuracy: 0.4444 - 38ms/epoch - 4ms/step\n",
      "Epoch 62/300\n",
      "9/9 - 0s - loss: 1.4794 - accuracy: 0.5222 - val_loss: 1.4602 - val_accuracy: 0.6667 - 38ms/epoch - 4ms/step\n",
      "Epoch 63/300\n",
      "9/9 - 0s - loss: 1.4720 - accuracy: 0.5111 - val_loss: 1.4502 - val_accuracy: 0.6667 - 39ms/epoch - 4ms/step\n",
      "Epoch 64/300\n",
      "9/9 - 0s - loss: 1.4697 - accuracy: 0.5000 - val_loss: 1.4404 - val_accuracy: 0.6667 - 38ms/epoch - 4ms/step\n",
      "Epoch 65/300\n",
      "9/9 - 0s - loss: 1.4529 - accuracy: 0.5667 - val_loss: 1.4305 - val_accuracy: 0.5556 - 36ms/epoch - 4ms/step\n",
      "Epoch 66/300\n",
      "9/9 - 0s - loss: 1.4437 - accuracy: 0.5222 - val_loss: 1.4209 - val_accuracy: 0.6667 - 43ms/epoch - 5ms/step\n",
      "Epoch 67/300\n",
      "9/9 - 0s - loss: 1.4311 - accuracy: 0.6000 - val_loss: 1.4113 - val_accuracy: 0.6667 - 39ms/epoch - 4ms/step\n",
      "Epoch 68/300\n",
      "9/9 - 0s - loss: 1.4269 - accuracy: 0.5444 - val_loss: 1.4019 - val_accuracy: 0.6667 - 39ms/epoch - 4ms/step\n"
     ]
    },
    {
     "name": "stdout",
     "output_type": "stream",
     "text": [
      "Epoch 69/300\n",
      "9/9 - 0s - loss: 1.4116 - accuracy: 0.6889 - val_loss: 1.3924 - val_accuracy: 0.7778 - 38ms/epoch - 4ms/step\n",
      "Epoch 70/300\n",
      "9/9 - 0s - loss: 1.4129 - accuracy: 0.5333 - val_loss: 1.3835 - val_accuracy: 0.7778 - 39ms/epoch - 4ms/step\n",
      "Epoch 71/300\n",
      "9/9 - 0s - loss: 1.3919 - accuracy: 0.6889 - val_loss: 1.3742 - val_accuracy: 0.7778 - 40ms/epoch - 4ms/step\n",
      "Epoch 72/300\n",
      "9/9 - 0s - loss: 1.3909 - accuracy: 0.6778 - val_loss: 1.3653 - val_accuracy: 0.7778 - 38ms/epoch - 4ms/step\n",
      "Epoch 73/300\n",
      "9/9 - 0s - loss: 1.3775 - accuracy: 0.5889 - val_loss: 1.3564 - val_accuracy: 0.7778 - 40ms/epoch - 4ms/step\n",
      "Epoch 74/300\n",
      "9/9 - 0s - loss: 1.3691 - accuracy: 0.5778 - val_loss: 1.3475 - val_accuracy: 0.7778 - 37ms/epoch - 4ms/step\n",
      "Epoch 75/300\n",
      "9/9 - 0s - loss: 1.3580 - accuracy: 0.6444 - val_loss: 1.3388 - val_accuracy: 0.7778 - 41ms/epoch - 5ms/step\n",
      "Epoch 76/300\n",
      "9/9 - 0s - loss: 1.3511 - accuracy: 0.7111 - val_loss: 1.3299 - val_accuracy: 0.6667 - 39ms/epoch - 4ms/step\n",
      "Epoch 77/300\n",
      "9/9 - 0s - loss: 1.3501 - accuracy: 0.6000 - val_loss: 1.3213 - val_accuracy: 0.6667 - 40ms/epoch - 4ms/step\n",
      "Epoch 78/300\n",
      "9/9 - 0s - loss: 1.3337 - accuracy: 0.6111 - val_loss: 1.3131 - val_accuracy: 0.6667 - 38ms/epoch - 4ms/step\n",
      "Epoch 79/300\n",
      "9/9 - 0s - loss: 1.3196 - accuracy: 0.6667 - val_loss: 1.3046 - val_accuracy: 0.6667 - 39ms/epoch - 4ms/step\n",
      "Epoch 80/300\n",
      "9/9 - 0s - loss: 1.3195 - accuracy: 0.7444 - val_loss: 1.2965 - val_accuracy: 0.6667 - 39ms/epoch - 4ms/step\n",
      "Epoch 81/300\n",
      "9/9 - 0s - loss: 1.3109 - accuracy: 0.6444 - val_loss: 1.2882 - val_accuracy: 0.6667 - 41ms/epoch - 5ms/step\n",
      "Epoch 82/300\n",
      "9/9 - 0s - loss: 1.3045 - accuracy: 0.6000 - val_loss: 1.2807 - val_accuracy: 0.7778 - 43ms/epoch - 5ms/step\n",
      "Epoch 83/300\n",
      "9/9 - 0s - loss: 1.2981 - accuracy: 0.6778 - val_loss: 1.2724 - val_accuracy: 0.7778 - 37ms/epoch - 4ms/step\n",
      "Epoch 84/300\n",
      "9/9 - 0s - loss: 1.2856 - accuracy: 0.7444 - val_loss: 1.2652 - val_accuracy: 0.7778 - 36ms/epoch - 4ms/step\n",
      "Epoch 85/300\n",
      "9/9 - 0s - loss: 1.2803 - accuracy: 0.6778 - val_loss: 1.2567 - val_accuracy: 0.7778 - 41ms/epoch - 5ms/step\n",
      "Epoch 86/300\n",
      "9/9 - 0s - loss: 1.2666 - accuracy: 0.7444 - val_loss: 1.2491 - val_accuracy: 0.8889 - 37ms/epoch - 4ms/step\n",
      "Epoch 87/300\n",
      "9/9 - 0s - loss: 1.2610 - accuracy: 0.7222 - val_loss: 1.2422 - val_accuracy: 0.7778 - 37ms/epoch - 4ms/step\n",
      "Epoch 88/300\n",
      "9/9 - 0s - loss: 1.2585 - accuracy: 0.7333 - val_loss: 1.2338 - val_accuracy: 0.7778 - 37ms/epoch - 4ms/step\n",
      "Epoch 89/300\n",
      "9/9 - 0s - loss: 1.2480 - accuracy: 0.7444 - val_loss: 1.2272 - val_accuracy: 0.6667 - 39ms/epoch - 4ms/step\n",
      "Epoch 90/300\n",
      "9/9 - 0s - loss: 1.2521 - accuracy: 0.6778 - val_loss: 1.2194 - val_accuracy: 0.7778 - 38ms/epoch - 4ms/step\n",
      "Epoch 91/300\n",
      "9/9 - 0s - loss: 1.2332 - accuracy: 0.7000 - val_loss: 1.2122 - val_accuracy: 0.7778 - 41ms/epoch - 5ms/step\n",
      "Epoch 92/300\n",
      "9/9 - 0s - loss: 1.2233 - accuracy: 0.7333 - val_loss: 1.2044 - val_accuracy: 0.7778 - 36ms/epoch - 4ms/step\n",
      "Epoch 93/300\n",
      "9/9 - 0s - loss: 1.2229 - accuracy: 0.7111 - val_loss: 1.1971 - val_accuracy: 0.6667 - 39ms/epoch - 4ms/step\n",
      "Epoch 94/300\n",
      "9/9 - 0s - loss: 1.2147 - accuracy: 0.6778 - val_loss: 1.1901 - val_accuracy: 0.7778 - 39ms/epoch - 4ms/step\n",
      "Epoch 95/300\n",
      "9/9 - 0s - loss: 1.2001 - accuracy: 0.7778 - val_loss: 1.1834 - val_accuracy: 0.8889 - 43ms/epoch - 5ms/step\n",
      "Epoch 96/300\n",
      "9/9 - 0s - loss: 1.1969 - accuracy: 0.8000 - val_loss: 1.1768 - val_accuracy: 0.6667 - 37ms/epoch - 4ms/step\n",
      "Epoch 97/300\n",
      "9/9 - 0s - loss: 1.1903 - accuracy: 0.7000 - val_loss: 1.1692 - val_accuracy: 0.7778 - 38ms/epoch - 4ms/step\n",
      "Epoch 98/300\n",
      "9/9 - 0s - loss: 1.1818 - accuracy: 0.7778 - val_loss: 1.1628 - val_accuracy: 0.8889 - 40ms/epoch - 4ms/step\n",
      "Epoch 99/300\n",
      "9/9 - 0s - loss: 1.1792 - accuracy: 0.8000 - val_loss: 1.1554 - val_accuracy: 0.7778 - 40ms/epoch - 4ms/step\n",
      "Epoch 100/300\n",
      "9/9 - 0s - loss: 1.1776 - accuracy: 0.6778 - val_loss: 1.1493 - val_accuracy: 0.8889 - 39ms/epoch - 4ms/step\n",
      "Epoch 101/300\n",
      "9/9 - 0s - loss: 1.1692 - accuracy: 0.7889 - val_loss: 1.1427 - val_accuracy: 0.7778 - 39ms/epoch - 4ms/step\n",
      "Epoch 102/300\n",
      "9/9 - 0s - loss: 1.1533 - accuracy: 0.7778 - val_loss: 1.1363 - val_accuracy: 0.8889 - 40ms/epoch - 4ms/step\n",
      "Epoch 103/300\n",
      "9/9 - 0s - loss: 1.1544 - accuracy: 0.8111 - val_loss: 1.1291 - val_accuracy: 0.8889 - 39ms/epoch - 4ms/step\n",
      "Epoch 104/300\n",
      "9/9 - 0s - loss: 1.1431 - accuracy: 0.7556 - val_loss: 1.1228 - val_accuracy: 0.7778 - 40ms/epoch - 4ms/step\n",
      "Epoch 105/300\n",
      "9/9 - 0s - loss: 1.1374 - accuracy: 0.7556 - val_loss: 1.1163 - val_accuracy: 0.7778 - 39ms/epoch - 4ms/step\n",
      "Epoch 106/300\n",
      "9/9 - 0s - loss: 1.1386 - accuracy: 0.8222 - val_loss: 1.1103 - val_accuracy: 0.7778 - 41ms/epoch - 5ms/step\n",
      "Epoch 107/300\n",
      "9/9 - 0s - loss: 1.1246 - accuracy: 0.7000 - val_loss: 1.1050 - val_accuracy: 0.8889 - 41ms/epoch - 5ms/step\n",
      "Epoch 108/300\n",
      "9/9 - 0s - loss: 1.1252 - accuracy: 0.7667 - val_loss: 1.0979 - val_accuracy: 0.8889 - 39ms/epoch - 4ms/step\n",
      "Epoch 109/300\n",
      "9/9 - 0s - loss: 1.1126 - accuracy: 0.7889 - val_loss: 1.0913 - val_accuracy: 0.8889 - 38ms/epoch - 4ms/step\n",
      "Epoch 110/300\n",
      "9/9 - 0s - loss: 1.1058 - accuracy: 0.7444 - val_loss: 1.0855 - val_accuracy: 0.8889 - 40ms/epoch - 4ms/step\n",
      "Epoch 111/300\n",
      "9/9 - 0s - loss: 1.1148 - accuracy: 0.7333 - val_loss: 1.0804 - val_accuracy: 0.7778 - 40ms/epoch - 4ms/step\n",
      "Epoch 112/300\n",
      "9/9 - 0s - loss: 1.1031 - accuracy: 0.7222 - val_loss: 1.0740 - val_accuracy: 0.7778 - 39ms/epoch - 4ms/step\n",
      "Epoch 113/300\n",
      "9/9 - 0s - loss: 1.0923 - accuracy: 0.8000 - val_loss: 1.0673 - val_accuracy: 0.8889 - 39ms/epoch - 4ms/step\n",
      "Epoch 114/300\n",
      "9/9 - 0s - loss: 1.0966 - accuracy: 0.7556 - val_loss: 1.0617 - val_accuracy: 0.7778 - 41ms/epoch - 5ms/step\n",
      "Epoch 115/300\n",
      "9/9 - 0s - loss: 1.0820 - accuracy: 0.7667 - val_loss: 1.0563 - val_accuracy: 1.0000 - 38ms/epoch - 4ms/step\n",
      "Epoch 116/300\n",
      "9/9 - 0s - loss: 1.0754 - accuracy: 0.7778 - val_loss: 1.0502 - val_accuracy: 0.7778 - 38ms/epoch - 4ms/step\n",
      "Epoch 117/300\n",
      "9/9 - 0s - loss: 1.0649 - accuracy: 0.8333 - val_loss: 1.0458 - val_accuracy: 0.7778 - 42ms/epoch - 5ms/step\n",
      "Epoch 118/300\n",
      "9/9 - 0s - loss: 1.0559 - accuracy: 0.7667 - val_loss: 1.0383 - val_accuracy: 0.8889 - 45ms/epoch - 5ms/step\n",
      "Epoch 119/300\n",
      "9/9 - 0s - loss: 1.0565 - accuracy: 0.8444 - val_loss: 1.0325 - val_accuracy: 0.8889 - 44ms/epoch - 5ms/step\n",
      "Epoch 120/300\n",
      "9/9 - 0s - loss: 1.0500 - accuracy: 0.8000 - val_loss: 1.0268 - val_accuracy: 0.7778 - 45ms/epoch - 5ms/step\n",
      "Epoch 121/300\n",
      "9/9 - 0s - loss: 1.0483 - accuracy: 0.7444 - val_loss: 1.0239 - val_accuracy: 0.8889 - 44ms/epoch - 5ms/step\n",
      "Epoch 122/300\n",
      "9/9 - 0s - loss: 1.0411 - accuracy: 0.8556 - val_loss: 1.0178 - val_accuracy: 0.8889 - 39ms/epoch - 4ms/step\n",
      "Epoch 123/300\n",
      "9/9 - 0s - loss: 1.0308 - accuracy: 0.8222 - val_loss: 1.0106 - val_accuracy: 0.7778 - 37ms/epoch - 4ms/step\n",
      "Epoch 124/300\n",
      "9/9 - 0s - loss: 1.0332 - accuracy: 0.8111 - val_loss: 1.0047 - val_accuracy: 0.8889 - 42ms/epoch - 5ms/step\n",
      "Epoch 125/300\n",
      "9/9 - 0s - loss: 1.0203 - accuracy: 0.8222 - val_loss: 0.9992 - val_accuracy: 0.8889 - 58ms/epoch - 6ms/step\n",
      "Epoch 126/300\n",
      "9/9 - 0s - loss: 1.0177 - accuracy: 0.8444 - val_loss: 0.9932 - val_accuracy: 0.8889 - 50ms/epoch - 6ms/step\n",
      "Epoch 127/300\n",
      "9/9 - 0s - loss: 1.0082 - accuracy: 0.8667 - val_loss: 0.9884 - val_accuracy: 0.7778 - 58ms/epoch - 6ms/step\n",
      "Epoch 128/300\n",
      "9/9 - 0s - loss: 1.0160 - accuracy: 0.7889 - val_loss: 0.9844 - val_accuracy: 0.8889 - 42ms/epoch - 5ms/step\n",
      "Epoch 129/300\n",
      "9/9 - 0s - loss: 1.0006 - accuracy: 0.7778 - val_loss: 0.9784 - val_accuracy: 0.8889 - 37ms/epoch - 4ms/step\n",
      "Epoch 130/300\n",
      "9/9 - 0s - loss: 0.9935 - accuracy: 0.7667 - val_loss: 0.9726 - val_accuracy: 0.8889 - 43ms/epoch - 5ms/step\n",
      "Epoch 131/300\n",
      "9/9 - 0s - loss: 0.9960 - accuracy: 0.8222 - val_loss: 0.9676 - val_accuracy: 0.8889 - 46ms/epoch - 5ms/step\n",
      "Epoch 132/300\n",
      "9/9 - 0s - loss: 0.9849 - accuracy: 0.8222 - val_loss: 0.9620 - val_accuracy: 0.8889 - 43ms/epoch - 5ms/step\n",
      "Epoch 133/300\n",
      "9/9 - 0s - loss: 0.9808 - accuracy: 0.8222 - val_loss: 0.9575 - val_accuracy: 0.7778 - 45ms/epoch - 5ms/step\n",
      "Epoch 134/300\n",
      "9/9 - 0s - loss: 0.9802 - accuracy: 0.8111 - val_loss: 0.9536 - val_accuracy: 0.8889 - 45ms/epoch - 5ms/step\n",
      "Epoch 135/300\n",
      "9/9 - 0s - loss: 0.9731 - accuracy: 0.8222 - val_loss: 0.9479 - val_accuracy: 0.7778 - 39ms/epoch - 4ms/step\n"
     ]
    },
    {
     "name": "stdout",
     "output_type": "stream",
     "text": [
      "Epoch 136/300\n",
      "9/9 - 0s - loss: 0.9637 - accuracy: 0.7889 - val_loss: 0.9436 - val_accuracy: 0.8889 - 38ms/epoch - 4ms/step\n",
      "Epoch 137/300\n",
      "9/9 - 0s - loss: 0.9643 - accuracy: 0.8667 - val_loss: 0.9370 - val_accuracy: 0.8889 - 45ms/epoch - 5ms/step\n",
      "Epoch 138/300\n",
      "9/9 - 0s - loss: 0.9637 - accuracy: 0.8444 - val_loss: 0.9333 - val_accuracy: 0.8889 - 46ms/epoch - 5ms/step\n",
      "Epoch 139/300\n",
      "9/9 - 0s - loss: 0.9533 - accuracy: 0.8111 - val_loss: 0.9278 - val_accuracy: 1.0000 - 44ms/epoch - 5ms/step\n",
      "Epoch 140/300\n",
      "9/9 - 0s - loss: 0.9442 - accuracy: 0.8778 - val_loss: 0.9221 - val_accuracy: 0.8889 - 43ms/epoch - 5ms/step\n",
      "Epoch 141/300\n",
      "9/9 - 0s - loss: 0.9496 - accuracy: 0.8444 - val_loss: 0.9172 - val_accuracy: 0.8889 - 45ms/epoch - 5ms/step\n",
      "Epoch 142/300\n",
      "9/9 - 0s - loss: 0.9408 - accuracy: 0.8667 - val_loss: 0.9162 - val_accuracy: 0.8889 - 37ms/epoch - 4ms/step\n",
      "Epoch 143/300\n",
      "9/9 - 0s - loss: 0.9431 - accuracy: 0.8333 - val_loss: 0.9088 - val_accuracy: 0.8889 - 37ms/epoch - 4ms/step\n",
      "Epoch 144/300\n",
      "9/9 - 0s - loss: 0.9245 - accuracy: 0.8222 - val_loss: 0.9073 - val_accuracy: 0.7778 - 45ms/epoch - 5ms/step\n",
      "Epoch 145/300\n",
      "9/9 - 0s - loss: 0.9260 - accuracy: 0.8444 - val_loss: 0.9008 - val_accuracy: 0.8889 - 46ms/epoch - 5ms/step\n",
      "Epoch 146/300\n",
      "9/9 - 0s - loss: 0.9234 - accuracy: 0.7778 - val_loss: 0.8978 - val_accuracy: 0.8889 - 53ms/epoch - 6ms/step\n",
      "Epoch 147/300\n",
      "9/9 - 0s - loss: 0.9184 - accuracy: 0.8889 - val_loss: 0.8906 - val_accuracy: 1.0000 - 46ms/epoch - 5ms/step\n",
      "Epoch 148/300\n",
      "9/9 - 0s - loss: 0.9087 - accuracy: 0.9111 - val_loss: 0.8850 - val_accuracy: 0.8889 - 39ms/epoch - 4ms/step\n",
      "Epoch 149/300\n",
      "9/9 - 0s - loss: 0.9151 - accuracy: 0.8444 - val_loss: 0.8813 - val_accuracy: 0.8889 - 39ms/epoch - 4ms/step\n",
      "Epoch 150/300\n",
      "9/9 - 0s - loss: 0.9084 - accuracy: 0.8778 - val_loss: 0.8767 - val_accuracy: 0.8889 - 37ms/epoch - 4ms/step\n",
      "Epoch 151/300\n",
      "9/9 - 0s - loss: 0.8935 - accuracy: 0.8889 - val_loss: 0.8715 - val_accuracy: 0.8889 - 46ms/epoch - 5ms/step\n",
      "Epoch 152/300\n",
      "9/9 - 0s - loss: 0.8946 - accuracy: 0.8889 - val_loss: 0.8708 - val_accuracy: 0.7778 - 45ms/epoch - 5ms/step\n",
      "Epoch 153/300\n",
      "9/9 - 0s - loss: 0.8818 - accuracy: 0.8333 - val_loss: 0.8625 - val_accuracy: 0.8889 - 51ms/epoch - 6ms/step\n",
      "Epoch 154/300\n",
      "9/9 - 0s - loss: 0.8957 - accuracy: 0.8889 - val_loss: 0.8597 - val_accuracy: 0.8889 - 45ms/epoch - 5ms/step\n",
      "Epoch 155/300\n",
      "9/9 - 0s - loss: 0.8840 - accuracy: 0.8222 - val_loss: 0.8540 - val_accuracy: 0.8889 - 39ms/epoch - 4ms/step\n",
      "Epoch 156/300\n",
      "9/9 - 0s - loss: 0.8679 - accuracy: 0.8667 - val_loss: 0.8500 - val_accuracy: 0.8889 - 38ms/epoch - 4ms/step\n",
      "Epoch 157/300\n",
      "9/9 - 0s - loss: 0.8755 - accuracy: 0.8889 - val_loss: 0.8435 - val_accuracy: 0.8889 - 44ms/epoch - 5ms/step\n",
      "Epoch 158/300\n",
      "9/9 - 0s - loss: 0.8551 - accuracy: 0.8556 - val_loss: 0.8418 - val_accuracy: 0.8889 - 46ms/epoch - 5ms/step\n",
      "Epoch 159/300\n",
      "9/9 - 0s - loss: 0.8587 - accuracy: 0.8222 - val_loss: 0.8361 - val_accuracy: 0.8889 - 46ms/epoch - 5ms/step\n",
      "Epoch 160/300\n",
      "9/9 - 0s - loss: 0.8563 - accuracy: 0.8889 - val_loss: 0.8315 - val_accuracy: 0.8889 - 46ms/epoch - 5ms/step\n",
      "Epoch 161/300\n",
      "9/9 - 0s - loss: 0.8494 - accuracy: 0.8889 - val_loss: 0.8268 - val_accuracy: 0.8889 - 45ms/epoch - 5ms/step\n",
      "Epoch 162/300\n",
      "9/9 - 0s - loss: 0.8615 - accuracy: 0.8556 - val_loss: 0.8231 - val_accuracy: 1.0000 - 41ms/epoch - 5ms/step\n",
      "Epoch 163/300\n",
      "9/9 - 0s - loss: 0.8442 - accuracy: 0.9000 - val_loss: 0.8200 - val_accuracy: 0.8889 - 38ms/epoch - 4ms/step\n",
      "Epoch 164/300\n",
      "9/9 - 0s - loss: 0.8570 - accuracy: 0.8667 - val_loss: 0.8168 - val_accuracy: 0.8889 - 43ms/epoch - 5ms/step\n",
      "Epoch 165/300\n",
      "9/9 - 0s - loss: 0.8469 - accuracy: 0.8111 - val_loss: 0.8091 - val_accuracy: 0.8889 - 46ms/epoch - 5ms/step\n",
      "Epoch 166/300\n",
      "9/9 - 0s - loss: 0.8296 - accuracy: 0.8889 - val_loss: 0.8047 - val_accuracy: 0.8889 - 46ms/epoch - 5ms/step\n",
      "Epoch 167/300\n",
      "9/9 - 0s - loss: 0.8251 - accuracy: 0.8778 - val_loss: 0.8016 - val_accuracy: 0.8889 - 43ms/epoch - 5ms/step\n",
      "Epoch 168/300\n",
      "9/9 - 0s - loss: 0.8206 - accuracy: 0.9111 - val_loss: 0.7975 - val_accuracy: 1.0000 - 45ms/epoch - 5ms/step\n",
      "Epoch 169/300\n",
      "9/9 - 0s - loss: 0.8249 - accuracy: 0.8889 - val_loss: 0.7996 - val_accuracy: 0.8889 - 42ms/epoch - 5ms/step\n",
      "Epoch 170/300\n",
      "9/9 - 0s - loss: 0.8159 - accuracy: 0.8778 - val_loss: 0.7888 - val_accuracy: 1.0000 - 42ms/epoch - 5ms/step\n",
      "Epoch 171/300\n",
      "9/9 - 0s - loss: 0.8063 - accuracy: 0.8889 - val_loss: 0.7878 - val_accuracy: 0.8889 - 47ms/epoch - 5ms/step\n",
      "Epoch 172/300\n",
      "9/9 - 0s - loss: 0.7980 - accuracy: 0.8889 - val_loss: 0.7789 - val_accuracy: 1.0000 - 47ms/epoch - 5ms/step\n",
      "Epoch 173/300\n",
      "9/9 - 0s - loss: 0.8001 - accuracy: 0.9444 - val_loss: 0.7786 - val_accuracy: 1.0000 - 45ms/epoch - 5ms/step\n",
      "Epoch 174/300\n",
      "9/9 - 0s - loss: 0.7883 - accuracy: 0.9333 - val_loss: 0.7747 - val_accuracy: 0.8889 - 44ms/epoch - 5ms/step\n",
      "Epoch 175/300\n",
      "9/9 - 0s - loss: 0.8082 - accuracy: 0.8556 - val_loss: 0.7677 - val_accuracy: 1.0000 - 42ms/epoch - 5ms/step\n",
      "Epoch 176/300\n",
      "9/9 - 0s - loss: 0.7874 - accuracy: 0.8889 - val_loss: 0.7698 - val_accuracy: 0.7778 - 47ms/epoch - 5ms/step\n",
      "Epoch 177/300\n",
      "9/9 - 0s - loss: 0.7904 - accuracy: 0.8556 - val_loss: 0.7614 - val_accuracy: 0.8889 - 52ms/epoch - 6ms/step\n",
      "Epoch 178/300\n",
      "9/9 - 0s - loss: 0.7863 - accuracy: 0.8889 - val_loss: 0.7582 - val_accuracy: 0.8889 - 45ms/epoch - 5ms/step\n",
      "Epoch 179/300\n",
      "9/9 - 0s - loss: 0.7752 - accuracy: 0.8778 - val_loss: 0.7547 - val_accuracy: 0.8889 - 45ms/epoch - 5ms/step\n",
      "Epoch 180/300\n",
      "9/9 - 0s - loss: 0.7818 - accuracy: 0.8778 - val_loss: 0.7483 - val_accuracy: 0.8889 - 45ms/epoch - 5ms/step\n",
      "Epoch 181/300\n",
      "9/9 - 0s - loss: 0.7732 - accuracy: 0.8778 - val_loss: 0.7434 - val_accuracy: 1.0000 - 43ms/epoch - 5ms/step\n",
      "Epoch 182/300\n",
      "9/9 - 0s - loss: 0.7708 - accuracy: 0.9111 - val_loss: 0.7407 - val_accuracy: 1.0000 - 43ms/epoch - 5ms/step\n",
      "Epoch 183/300\n",
      "9/9 - 0s - loss: 0.7734 - accuracy: 0.8778 - val_loss: 0.7383 - val_accuracy: 1.0000 - 41ms/epoch - 5ms/step\n",
      "Epoch 184/300\n",
      "9/9 - 0s - loss: 0.7524 - accuracy: 0.9556 - val_loss: 0.7340 - val_accuracy: 0.8889 - 45ms/epoch - 5ms/step\n",
      "Epoch 185/300\n",
      "9/9 - 0s - loss: 0.7560 - accuracy: 0.8778 - val_loss: 0.7295 - val_accuracy: 1.0000 - 47ms/epoch - 5ms/step\n",
      "Epoch 186/300\n",
      "9/9 - 0s - loss: 0.7450 - accuracy: 0.9333 - val_loss: 0.7246 - val_accuracy: 0.8889 - 44ms/epoch - 5ms/step\n",
      "Epoch 187/300\n",
      "9/9 - 0s - loss: 0.7482 - accuracy: 0.9111 - val_loss: 0.7238 - val_accuracy: 1.0000 - 44ms/epoch - 5ms/step\n",
      "Epoch 188/300\n",
      "9/9 - 0s - loss: 0.7502 - accuracy: 0.9333 - val_loss: 0.7151 - val_accuracy: 1.0000 - 44ms/epoch - 5ms/step\n",
      "Epoch 189/300\n",
      "9/9 - 0s - loss: 0.7511 - accuracy: 0.8889 - val_loss: 0.7121 - val_accuracy: 0.8889 - 45ms/epoch - 5ms/step\n",
      "Epoch 190/300\n",
      "9/9 - 0s - loss: 0.7270 - accuracy: 0.9444 - val_loss: 0.7096 - val_accuracy: 0.8889 - 38ms/epoch - 4ms/step\n",
      "Epoch 191/300\n",
      "9/9 - 0s - loss: 0.7336 - accuracy: 0.8889 - val_loss: 0.7077 - val_accuracy: 1.0000 - 42ms/epoch - 5ms/step\n",
      "Epoch 192/300\n",
      "9/9 - 0s - loss: 0.7306 - accuracy: 0.9000 - val_loss: 0.7004 - val_accuracy: 1.0000 - 47ms/epoch - 5ms/step\n",
      "Epoch 193/300\n",
      "9/9 - 0s - loss: 0.7407 - accuracy: 0.9222 - val_loss: 0.7034 - val_accuracy: 1.0000 - 48ms/epoch - 5ms/step\n",
      "Epoch 194/300\n",
      "9/9 - 0s - loss: 0.7253 - accuracy: 0.9444 - val_loss: 0.6973 - val_accuracy: 0.8889 - 47ms/epoch - 5ms/step\n",
      "Epoch 195/300\n",
      "9/9 - 0s - loss: 0.7199 - accuracy: 0.8778 - val_loss: 0.6950 - val_accuracy: 0.8889 - 47ms/epoch - 5ms/step\n",
      "Epoch 196/300\n",
      "9/9 - 0s - loss: 0.7175 - accuracy: 0.9222 - val_loss: 0.6858 - val_accuracy: 1.0000 - 43ms/epoch - 5ms/step\n",
      "Epoch 197/300\n",
      "9/9 - 0s - loss: 0.7105 - accuracy: 0.8889 - val_loss: 0.6885 - val_accuracy: 0.8889 - 35ms/epoch - 4ms/step\n",
      "Epoch 198/300\n",
      "9/9 - 0s - loss: 0.7091 - accuracy: 0.8889 - val_loss: 0.6802 - val_accuracy: 1.0000 - 48ms/epoch - 5ms/step\n",
      "Epoch 199/300\n",
      "9/9 - 0s - loss: 0.7030 - accuracy: 0.9111 - val_loss: 0.6843 - val_accuracy: 0.8889 - 43ms/epoch - 5ms/step\n",
      "Epoch 200/300\n",
      "9/9 - 0s - loss: 0.7113 - accuracy: 0.8889 - val_loss: 0.6746 - val_accuracy: 0.8889 - 43ms/epoch - 5ms/step\n",
      "Epoch 201/300\n",
      "9/9 - 0s - loss: 0.6912 - accuracy: 0.9333 - val_loss: 0.6686 - val_accuracy: 0.8889 - 44ms/epoch - 5ms/step\n",
      "Epoch 202/300\n",
      "9/9 - 0s - loss: 0.6867 - accuracy: 0.9111 - val_loss: 0.6645 - val_accuracy: 1.0000 - 43ms/epoch - 5ms/step\n"
     ]
    },
    {
     "name": "stdout",
     "output_type": "stream",
     "text": [
      "Epoch 203/300\n",
      "9/9 - 0s - loss: 0.6875 - accuracy: 0.9778 - val_loss: 0.6816 - val_accuracy: 0.8889 - 40ms/epoch - 4ms/step\n",
      "Epoch 204/300\n",
      "9/9 - 0s - loss: 0.6917 - accuracy: 0.9000 - val_loss: 0.6573 - val_accuracy: 1.0000 - 39ms/epoch - 4ms/step\n",
      "Epoch 205/300\n",
      "9/9 - 0s - loss: 0.6858 - accuracy: 0.9222 - val_loss: 0.6654 - val_accuracy: 0.8889 - 45ms/epoch - 5ms/step\n",
      "Epoch 206/300\n",
      "9/9 - 0s - loss: 0.6719 - accuracy: 0.9000 - val_loss: 0.6560 - val_accuracy: 1.0000 - 46ms/epoch - 5ms/step\n",
      "Epoch 207/300\n",
      "9/9 - 0s - loss: 0.6903 - accuracy: 0.8889 - val_loss: 0.6486 - val_accuracy: 1.0000 - 42ms/epoch - 5ms/step\n",
      "Epoch 208/300\n",
      "9/9 - 0s - loss: 0.6695 - accuracy: 0.9222 - val_loss: 0.6497 - val_accuracy: 1.0000 - 43ms/epoch - 5ms/step\n",
      "Epoch 209/300\n",
      "9/9 - 0s - loss: 0.6723 - accuracy: 0.9000 - val_loss: 0.6392 - val_accuracy: 1.0000 - 43ms/epoch - 5ms/step\n",
      "Epoch 210/300\n",
      "9/9 - 0s - loss: 0.6638 - accuracy: 0.9444 - val_loss: 0.6453 - val_accuracy: 1.0000 - 39ms/epoch - 4ms/step\n",
      "Epoch 211/300\n",
      "9/9 - 0s - loss: 0.6570 - accuracy: 0.9889 - val_loss: 0.6321 - val_accuracy: 1.0000 - 40ms/epoch - 4ms/step\n",
      "Epoch 212/300\n",
      "9/9 - 0s - loss: 0.6609 - accuracy: 0.9111 - val_loss: 0.6330 - val_accuracy: 1.0000 - 45ms/epoch - 5ms/step\n",
      "Epoch 213/300\n",
      "9/9 - 0s - loss: 0.6653 - accuracy: 0.9444 - val_loss: 0.6307 - val_accuracy: 1.0000 - 43ms/epoch - 5ms/step\n",
      "Epoch 214/300\n",
      "9/9 - 0s - loss: 0.6516 - accuracy: 0.9000 - val_loss: 0.6310 - val_accuracy: 0.8889 - 47ms/epoch - 5ms/step\n",
      "Epoch 215/300\n",
      "9/9 - 0s - loss: 0.6438 - accuracy: 0.9000 - val_loss: 0.6200 - val_accuracy: 1.0000 - 49ms/epoch - 5ms/step\n",
      "Epoch 216/300\n",
      "9/9 - 0s - loss: 0.6507 - accuracy: 0.9444 - val_loss: 0.6190 - val_accuracy: 0.8889 - 44ms/epoch - 5ms/step\n",
      "Epoch 217/300\n",
      "9/9 - 0s - loss: 0.6384 - accuracy: 0.8667 - val_loss: 0.6196 - val_accuracy: 1.0000 - 43ms/epoch - 5ms/step\n",
      "Epoch 218/300\n",
      "9/9 - 0s - loss: 0.6451 - accuracy: 0.9222 - val_loss: 0.6095 - val_accuracy: 1.0000 - 46ms/epoch - 5ms/step\n",
      "Epoch 219/300\n",
      "9/9 - 0s - loss: 0.6350 - accuracy: 0.9556 - val_loss: 0.6131 - val_accuracy: 0.8889 - 44ms/epoch - 5ms/step\n",
      "Epoch 220/300\n",
      "9/9 - 0s - loss: 0.6442 - accuracy: 0.9444 - val_loss: 0.6062 - val_accuracy: 0.8889 - 46ms/epoch - 5ms/step\n",
      "Epoch 221/300\n",
      "9/9 - 0s - loss: 0.6336 - accuracy: 0.9222 - val_loss: 0.6003 - val_accuracy: 0.8889 - 42ms/epoch - 5ms/step\n",
      "Epoch 222/300\n",
      "9/9 - 0s - loss: 0.6168 - accuracy: 0.9333 - val_loss: 0.6046 - val_accuracy: 1.0000 - 42ms/epoch - 5ms/step\n",
      "Epoch 223/300\n",
      "9/9 - 0s - loss: 0.6168 - accuracy: 0.9444 - val_loss: 0.6001 - val_accuracy: 1.0000 - 41ms/epoch - 5ms/step\n",
      "Epoch 224/300\n",
      "9/9 - 0s - loss: 0.6239 - accuracy: 0.9444 - val_loss: 0.5913 - val_accuracy: 1.0000 - 47ms/epoch - 5ms/step\n",
      "Epoch 225/300\n",
      "9/9 - 0s - loss: 0.6029 - accuracy: 0.9889 - val_loss: 0.6097 - val_accuracy: 0.8889 - 47ms/epoch - 5ms/step\n",
      "Epoch 226/300\n",
      "9/9 - 0s - loss: 0.6240 - accuracy: 0.9222 - val_loss: 0.5835 - val_accuracy: 1.0000 - 44ms/epoch - 5ms/step\n",
      "Epoch 227/300\n",
      "9/9 - 0s - loss: 0.6111 - accuracy: 0.9333 - val_loss: 0.5993 - val_accuracy: 0.8889 - 44ms/epoch - 5ms/step\n",
      "Epoch 228/300\n",
      "9/9 - 0s - loss: 0.5997 - accuracy: 0.9222 - val_loss: 0.5851 - val_accuracy: 1.0000 - 44ms/epoch - 5ms/step\n",
      "Epoch 229/300\n",
      "9/9 - 0s - loss: 0.5919 - accuracy: 0.9778 - val_loss: 0.5862 - val_accuracy: 0.8889 - 47ms/epoch - 5ms/step\n",
      "Epoch 230/300\n",
      "9/9 - 0s - loss: 0.6029 - accuracy: 0.9111 - val_loss: 0.5792 - val_accuracy: 1.0000 - 41ms/epoch - 5ms/step\n",
      "Epoch 231/300\n",
      "9/9 - 0s - loss: 0.6013 - accuracy: 0.9222 - val_loss: 0.5773 - val_accuracy: 1.0000 - 46ms/epoch - 5ms/step\n",
      "Epoch 232/300\n",
      "9/9 - 0s - loss: 0.6005 - accuracy: 0.9333 - val_loss: 0.5664 - val_accuracy: 1.0000 - 45ms/epoch - 5ms/step\n",
      "Epoch 233/300\n",
      "9/9 - 0s - loss: 0.5973 - accuracy: 0.9556 - val_loss: 0.5704 - val_accuracy: 0.8889 - 44ms/epoch - 5ms/step\n",
      "Epoch 234/300\n",
      "9/9 - 0s - loss: 0.5980 - accuracy: 0.9333 - val_loss: 0.5743 - val_accuracy: 0.8889 - 45ms/epoch - 5ms/step\n",
      "Epoch 235/300\n",
      "9/9 - 0s - loss: 0.5862 - accuracy: 0.9000 - val_loss: 0.5664 - val_accuracy: 1.0000 - 53ms/epoch - 6ms/step\n",
      "Epoch 236/300\n",
      "9/9 - 0s - loss: 0.5808 - accuracy: 0.9889 - val_loss: 0.5601 - val_accuracy: 0.8889 - 45ms/epoch - 5ms/step\n",
      "Epoch 237/300\n",
      "9/9 - 0s - loss: 0.5770 - accuracy: 0.9444 - val_loss: 0.5599 - val_accuracy: 0.8889 - 42ms/epoch - 5ms/step\n",
      "Epoch 238/300\n",
      "9/9 - 0s - loss: 0.5834 - accuracy: 0.9667 - val_loss: 0.5527 - val_accuracy: 0.8889 - 45ms/epoch - 5ms/step\n",
      "Epoch 239/300\n",
      "9/9 - 0s - loss: 0.5707 - accuracy: 0.9556 - val_loss: 0.5481 - val_accuracy: 1.0000 - 43ms/epoch - 5ms/step\n",
      "Epoch 240/300\n",
      "9/9 - 0s - loss: 0.5700 - accuracy: 0.9778 - val_loss: 0.5444 - val_accuracy: 1.0000 - 48ms/epoch - 5ms/step\n",
      "Epoch 241/300\n",
      "9/9 - 0s - loss: 0.5678 - accuracy: 0.9556 - val_loss: 0.5450 - val_accuracy: 1.0000 - 45ms/epoch - 5ms/step\n",
      "Epoch 242/300\n",
      "9/9 - 0s - loss: 0.5702 - accuracy: 0.9444 - val_loss: 0.5449 - val_accuracy: 1.0000 - 42ms/epoch - 5ms/step\n",
      "Epoch 243/300\n",
      "9/9 - 0s - loss: 0.5645 - accuracy: 1.0000 - val_loss: 0.5443 - val_accuracy: 0.8889 - 40ms/epoch - 4ms/step\n",
      "Epoch 244/300\n",
      "9/9 - 0s - loss: 0.5555 - accuracy: 0.9333 - val_loss: 0.5394 - val_accuracy: 0.8889 - 47ms/epoch - 5ms/step\n",
      "Epoch 245/300\n",
      "9/9 - 0s - loss: 0.5558 - accuracy: 0.9444 - val_loss: 0.5295 - val_accuracy: 1.0000 - 42ms/epoch - 5ms/step\n",
      "Epoch 246/300\n",
      "9/9 - 0s - loss: 0.5448 - accuracy: 0.9333 - val_loss: 0.5351 - val_accuracy: 1.0000 - 46ms/epoch - 5ms/step\n",
      "Epoch 247/300\n",
      "9/9 - 0s - loss: 0.5680 - accuracy: 0.8778 - val_loss: 0.5289 - val_accuracy: 1.0000 - 44ms/epoch - 5ms/step\n",
      "Epoch 248/300\n",
      "9/9 - 0s - loss: 0.5444 - accuracy: 1.0000 - val_loss: 0.5191 - val_accuracy: 1.0000 - 45ms/epoch - 5ms/step\n",
      "Epoch 249/300\n",
      "9/9 - 0s - loss: 0.5503 - accuracy: 0.9444 - val_loss: 0.5322 - val_accuracy: 1.0000 - 44ms/epoch - 5ms/step\n",
      "Epoch 250/300\n",
      "9/9 - 0s - loss: 0.5421 - accuracy: 0.9556 - val_loss: 0.5179 - val_accuracy: 1.0000 - 45ms/epoch - 5ms/step\n",
      "Epoch 251/300\n",
      "9/9 - 0s - loss: 0.5328 - accuracy: 0.9667 - val_loss: 0.5190 - val_accuracy: 1.0000 - 45ms/epoch - 5ms/step\n",
      "Epoch 252/300\n",
      "9/9 - 0s - loss: 0.5324 - accuracy: 1.0000 - val_loss: 0.5214 - val_accuracy: 0.8889 - 44ms/epoch - 5ms/step\n",
      "Epoch 253/300\n",
      "9/9 - 0s - loss: 0.5255 - accuracy: 0.9667 - val_loss: 0.5052 - val_accuracy: 1.0000 - 45ms/epoch - 5ms/step\n",
      "Epoch 254/300\n",
      "9/9 - 0s - loss: 0.5202 - accuracy: 0.9556 - val_loss: 0.5031 - val_accuracy: 1.0000 - 44ms/epoch - 5ms/step\n",
      "Epoch 255/300\n",
      "9/9 - 0s - loss: 0.5317 - accuracy: 0.9111 - val_loss: 0.5065 - val_accuracy: 0.8889 - 45ms/epoch - 5ms/step\n",
      "Epoch 256/300\n",
      "9/9 - 0s - loss: 0.5165 - accuracy: 0.9222 - val_loss: 0.5030 - val_accuracy: 1.0000 - 45ms/epoch - 5ms/step\n",
      "Epoch 257/300\n",
      "9/9 - 0s - loss: 0.5188 - accuracy: 0.9333 - val_loss: 0.5143 - val_accuracy: 0.8889 - 45ms/epoch - 5ms/step\n",
      "Epoch 258/300\n",
      "9/9 - 0s - loss: 0.5205 - accuracy: 0.9444 - val_loss: 0.5114 - val_accuracy: 1.0000 - 44ms/epoch - 5ms/step\n",
      "Epoch 259/300\n",
      "9/9 - 0s - loss: 0.5316 - accuracy: 0.9444 - val_loss: 0.4901 - val_accuracy: 1.0000 - 59ms/epoch - 7ms/step\n",
      "Epoch 260/300\n",
      "9/9 - 0s - loss: 0.5187 - accuracy: 0.9222 - val_loss: 0.5005 - val_accuracy: 0.8889 - 46ms/epoch - 5ms/step\n",
      "Epoch 261/300\n",
      "9/9 - 0s - loss: 0.5056 - accuracy: 0.9778 - val_loss: 0.4844 - val_accuracy: 1.0000 - 43ms/epoch - 5ms/step\n",
      "Epoch 262/300\n",
      "9/9 - 0s - loss: 0.5122 - accuracy: 1.0000 - val_loss: 0.4792 - val_accuracy: 1.0000 - 42ms/epoch - 5ms/step\n",
      "Epoch 263/300\n",
      "9/9 - 0s - loss: 0.5060 - accuracy: 1.0000 - val_loss: 0.4809 - val_accuracy: 1.0000 - 48ms/epoch - 5ms/step\n",
      "Epoch 264/300\n",
      "9/9 - 0s - loss: 0.4948 - accuracy: 1.0000 - val_loss: 0.4774 - val_accuracy: 1.0000 - 45ms/epoch - 5ms/step\n",
      "Epoch 265/300\n",
      "9/9 - 0s - loss: 0.5028 - accuracy: 0.9778 - val_loss: 0.4792 - val_accuracy: 1.0000 - 45ms/epoch - 5ms/step\n",
      "Epoch 266/300\n",
      "9/9 - 0s - loss: 0.4980 - accuracy: 0.9778 - val_loss: 0.4687 - val_accuracy: 1.0000 - 47ms/epoch - 5ms/step\n",
      "Epoch 267/300\n",
      "9/9 - 0s - loss: 0.4832 - accuracy: 0.9778 - val_loss: 0.4695 - val_accuracy: 1.0000 - 46ms/epoch - 5ms/step\n",
      "Epoch 268/300\n",
      "9/9 - 0s - loss: 0.4916 - accuracy: 0.9778 - val_loss: 0.4675 - val_accuracy: 1.0000 - 42ms/epoch - 5ms/step\n",
      "Epoch 269/300\n",
      "9/9 - 0s - loss: 0.4838 - accuracy: 0.9889 - val_loss: 0.4708 - val_accuracy: 1.0000 - 42ms/epoch - 5ms/step\n"
     ]
    },
    {
     "name": "stdout",
     "output_type": "stream",
     "text": [
      "Epoch 270/300\n",
      "9/9 - 0s - loss: 0.4940 - accuracy: 1.0000 - val_loss: 0.4648 - val_accuracy: 0.8889 - 44ms/epoch - 5ms/step\n",
      "Epoch 271/300\n",
      "9/9 - 0s - loss: 0.4857 - accuracy: 0.9889 - val_loss: 0.4654 - val_accuracy: 0.8889 - 44ms/epoch - 5ms/step\n",
      "Epoch 272/300\n",
      "9/9 - 0s - loss: 0.4874 - accuracy: 0.9333 - val_loss: 0.4726 - val_accuracy: 0.8889 - 43ms/epoch - 5ms/step\n",
      "Epoch 273/300\n",
      "9/9 - 0s - loss: 0.4881 - accuracy: 0.9333 - val_loss: 0.4519 - val_accuracy: 1.0000 - 43ms/epoch - 5ms/step\n",
      "Epoch 274/300\n",
      "9/9 - 0s - loss: 0.4835 - accuracy: 0.9778 - val_loss: 0.4640 - val_accuracy: 1.0000 - 43ms/epoch - 5ms/step\n",
      "Epoch 275/300\n",
      "9/9 - 0s - loss: 0.4628 - accuracy: 0.9889 - val_loss: 0.4538 - val_accuracy: 1.0000 - 44ms/epoch - 5ms/step\n",
      "Epoch 276/300\n",
      "9/9 - 0s - loss: 0.4587 - accuracy: 0.9556 - val_loss: 0.4514 - val_accuracy: 1.0000 - 38ms/epoch - 4ms/step\n",
      "Epoch 277/300\n",
      "9/9 - 0s - loss: 0.4664 - accuracy: 0.9889 - val_loss: 0.4524 - val_accuracy: 1.0000 - 40ms/epoch - 4ms/step\n",
      "Epoch 278/300\n",
      "9/9 - 0s - loss: 0.4684 - accuracy: 0.9778 - val_loss: 0.4419 - val_accuracy: 1.0000 - 43ms/epoch - 5ms/step\n",
      "Epoch 279/300\n",
      "9/9 - 0s - loss: 0.4620 - accuracy: 1.0000 - val_loss: 0.4614 - val_accuracy: 0.8889 - 42ms/epoch - 5ms/step\n",
      "Epoch 280/300\n",
      "9/9 - 0s - loss: 0.4679 - accuracy: 0.9889 - val_loss: 0.4528 - val_accuracy: 0.8889 - 53ms/epoch - 6ms/step\n",
      "Epoch 281/300\n",
      "9/9 - 0s - loss: 0.4554 - accuracy: 0.9667 - val_loss: 0.4353 - val_accuracy: 1.0000 - 44ms/epoch - 5ms/step\n",
      "Epoch 282/300\n",
      "9/9 - 0s - loss: 0.4541 - accuracy: 1.0000 - val_loss: 0.4352 - val_accuracy: 1.0000 - 45ms/epoch - 5ms/step\n",
      "Epoch 283/300\n",
      "9/9 - 0s - loss: 0.4632 - accuracy: 0.9333 - val_loss: 0.4456 - val_accuracy: 1.0000 - 44ms/epoch - 5ms/step\n",
      "Epoch 284/300\n",
      "9/9 - 0s - loss: 0.4471 - accuracy: 1.0000 - val_loss: 0.4277 - val_accuracy: 1.0000 - 38ms/epoch - 4ms/step\n",
      "Epoch 285/300\n",
      "9/9 - 0s - loss: 0.4452 - accuracy: 0.9556 - val_loss: 0.4310 - val_accuracy: 1.0000 - 43ms/epoch - 5ms/step\n",
      "Epoch 286/300\n",
      "9/9 - 0s - loss: 0.4449 - accuracy: 0.9889 - val_loss: 0.4308 - val_accuracy: 1.0000 - 47ms/epoch - 5ms/step\n",
      "Epoch 287/300\n",
      "9/9 - 0s - loss: 0.4318 - accuracy: 1.0000 - val_loss: 0.4178 - val_accuracy: 1.0000 - 44ms/epoch - 5ms/step\n",
      "Epoch 288/300\n",
      "9/9 - 0s - loss: 0.4470 - accuracy: 0.9778 - val_loss: 0.4156 - val_accuracy: 1.0000 - 46ms/epoch - 5ms/step\n",
      "Epoch 289/300\n",
      "9/9 - 0s - loss: 0.4339 - accuracy: 1.0000 - val_loss: 0.4154 - val_accuracy: 1.0000 - 45ms/epoch - 5ms/step\n",
      "Epoch 290/300\n",
      "9/9 - 0s - loss: 0.4354 - accuracy: 1.0000 - val_loss: 0.4108 - val_accuracy: 1.0000 - 44ms/epoch - 5ms/step\n",
      "Epoch 291/300\n",
      "9/9 - 0s - loss: 0.4282 - accuracy: 0.9667 - val_loss: 0.4074 - val_accuracy: 1.0000 - 38ms/epoch - 4ms/step\n",
      "Epoch 292/300\n",
      "9/9 - 0s - loss: 0.4228 - accuracy: 0.9889 - val_loss: 0.4096 - val_accuracy: 1.0000 - 39ms/epoch - 4ms/step\n",
      "Epoch 293/300\n",
      "9/9 - 0s - loss: 0.4200 - accuracy: 0.9667 - val_loss: 0.4123 - val_accuracy: 1.0000 - 35ms/epoch - 4ms/step\n",
      "Epoch 294/300\n",
      "9/9 - 0s - loss: 0.4282 - accuracy: 0.9444 - val_loss: 0.4104 - val_accuracy: 1.0000 - 40ms/epoch - 4ms/step\n",
      "Epoch 295/300\n",
      "9/9 - 0s - loss: 0.4229 - accuracy: 0.9444 - val_loss: 0.3960 - val_accuracy: 1.0000 - 40ms/epoch - 4ms/step\n",
      "Epoch 296/300\n",
      "9/9 - 0s - loss: 0.4166 - accuracy: 1.0000 - val_loss: 0.4021 - val_accuracy: 1.0000 - 38ms/epoch - 4ms/step\n",
      "Epoch 297/300\n",
      "9/9 - 0s - loss: 0.4207 - accuracy: 1.0000 - val_loss: 0.3977 - val_accuracy: 1.0000 - 37ms/epoch - 4ms/step\n",
      "Epoch 298/300\n",
      "9/9 - 0s - loss: 0.4095 - accuracy: 0.9889 - val_loss: 0.4011 - val_accuracy: 1.0000 - 40ms/epoch - 4ms/step\n",
      "Epoch 299/300\n",
      "9/9 - 0s - loss: 0.4138 - accuracy: 0.9778 - val_loss: 0.3982 - val_accuracy: 1.0000 - 37ms/epoch - 4ms/step\n",
      "Epoch 300/300\n",
      "9/9 - 0s - loss: 0.4037 - accuracy: 1.0000 - val_loss: 0.3995 - val_accuracy: 1.0000 - 45ms/epoch - 5ms/step\n"
     ]
    }
   ],
   "source": [
    "hist = model.fit(x_train, Y_train,\n",
    "                 epochs = 300,\n",
    "                 batch_size = 10,\n",
    "                 verbose = 2,  # 학습결과 출력 옵션 (0 : 출력없음, 1 : 기본값, 2 : epochs별 로그 상세 출력)\n",
    "                 validation_data = (x_val, Y_val)\n",
    "                )"
   ]
  },
  {
   "cell_type": "markdown",
   "id": "aa6a4aea",
   "metadata": {},
   "source": [
    "# 6. 모델 평가하기 (모델 학습 과정 살펴보고, evalute) "
   ]
  },
  {
   "cell_type": "code",
   "execution_count": 11,
   "id": "f26f6b54",
   "metadata": {},
   "outputs": [
    {
     "data": {
      "text/plain": [
       "dict_keys(['loss', 'accuracy', 'val_loss', 'val_accuracy'])"
      ]
     },
     "execution_count": 11,
     "metadata": {},
     "output_type": "execute_result"
    }
   ],
   "source": [
    "hist.history.keys()"
   ]
  },
  {
   "cell_type": "code",
   "execution_count": 20,
   "id": "cfe542c9",
   "metadata": {},
   "outputs": [
    {
     "data": {
      "image/png": "[encoded data removed]",
      "text/plain": [
       "<Figure size 1000x500 with 2 Axes>"
      ]
     },
     "metadata": {},
     "output_type": "display_data"
    }
   ],
   "source": [
    "# 모델 학습 과정 시각화\n",
    "\n",
    "import matplotlib.pyplot as plt\n",
    "\n",
    "fig, loss_ax = plt.subplots(figsize = (10, 5))\n",
    "loss_ax.plot(hist.history['loss'], 'y', label = 'train loss')\n",
    "loss_ax.plot(hist.history['val_loss'], 'r', label = 'val loss')\n",
    "loss_ax.set_xlabel('epoch')\n",
    "loss_ax.set_ylabel('loss')\n",
    "\n",
    "acc_ax = loss_ax.twinx()  # loss_ax와 x축을 공유하는 acc_ax 생성\n",
    "acc_ax.plot(hist.history['accuracy'], 'g', label = 'train accuracy')\n",
    "acc_ax.plot(hist.history['val_accuracy'], 'b', label = 'val accuracy')\n",
    "acc_ax.set_ylabel('accuracy')\n",
    "loss_ax.legend(loc = 'upper left')\n",
    "acc_ax.legend(loc = 'center right')\n",
    "plt.show()"
   ]
  },
  {
   "cell_type": "code",
   "execution_count": 21,
   "id": "2e40fa73",
   "metadata": {},
   "outputs": [
    {
     "name": "stdout",
     "output_type": "stream",
     "text": [
      "9/9 [==============================] - 0s 1ms/step - loss: 0.3995 - accuracy: 1.0000\n"
     ]
    }
   ],
   "source": [
    "# 모델 평가\n",
    "\n",
    "score = model.evaluate(x_test, Y_test, batch_size = 1)"
   ]
  },
  {
   "cell_type": "code",
   "execution_count": 22,
   "id": "24c7dd2e",
   "metadata": {},
   "outputs": [
    {
     "data": {
      "text/plain": [
       "[0.39946645498275757, 1.0]"
      ]
     },
     "execution_count": 22,
     "metadata": {},
     "output_type": "execute_result"
    }
   ],
   "source": [
    "score  # loss, accuracy"
   ]
  },
  {
   "cell_type": "code",
   "execution_count": 23,
   "id": "85d4cf36",
   "metadata": {},
   "outputs": [
    {
     "name": "stdout",
     "output_type": "stream",
     "text": [
      "평가된 loss : 0.39946645498275757\n",
      "평가된 accuracy 100.0 %\n"
     ]
    }
   ],
   "source": [
    "print('평가된 loss :', score[0])\n",
    "print('평가된 accuracy', score[1] * 100, '%')"
   ]
  },
  {
   "cell_type": "markdown",
   "id": "9c960a6d",
   "metadata": {},
   "source": [
    "# 7. 모델 사용하기"
   ]
  },
  {
   "cell_type": "code",
   "execution_count": 25,
   "id": "c70e47da",
   "metadata": {},
   "outputs": [
    {
     "name": "stdout",
     "output_type": "stream",
     "text": [
      "1/1 [==============================] - 0s 25ms/step\n"
     ]
    },
    {
     "data": {
      "text/plain": [
       "array([[2.1584831e-10, 2.0710695e-11, 6.5900028e-02, 4.0146420e-10,\n",
       "        8.3636802e-01, 3.0447571e-13, 9.7041436e-02, 4.3144438e-16,\n",
       "        6.9035706e-04, 4.0962754e-14, 1.8461877e-07, 1.0647118e-14,\n",
       "        5.7890893e-12, 4.2433342e-13, 7.4782699e-17, 5.6785766e-13,\n",
       "        3.9630125e-22, 5.6387429e-12, 1.3272350e-30]], dtype=float32)"
      ]
     },
     "execution_count": 25,
     "metadata": {},
     "output_type": "execute_result"
    }
   ],
   "source": [
    "H = model.predict(np.array([[2]]))\n",
    "H"
   ]
  },
  {
   "cell_type": "code",
   "execution_count": 26,
   "id": "5270f423",
   "metadata": {},
   "outputs": [
    {
     "name": "stdout",
     "output_type": "stream",
     "text": [
      "1/1 [==============================] - 0s 21ms/step\n"
     ]
    },
    {
     "data": {
      "text/plain": [
       "4"
      ]
     },
     "execution_count": 26,
     "metadata": {},
     "output_type": "execute_result"
    }
   ],
   "source": [
    "# 분류분석의 예측은 predict() 후 argmax()\n",
    "\n",
    "model.predict(np.array([[2]])).argmax()"
   ]
  },
  {
   "cell_type": "code",
   "execution_count": 27,
   "id": "d634c205",
   "metadata": {},
   "outputs": [
    {
     "data": {
      "text/plain": [
       "83.63680243492126"
      ]
     },
     "execution_count": 27,
     "metadata": {},
     "output_type": "execute_result"
    }
   ],
   "source": [
    "# 4를 몇 % 확률로 예측했는지\n",
    "\n",
    "H[0, H.argmax()] * 100"
   ]
  },
  {
   "cell_type": "markdown",
   "id": "917c58b8",
   "metadata": {},
   "source": [
    "# 8. 모델 저장하기"
   ]
  },
  {
   "cell_type": "code",
   "execution_count": 29,
   "id": "4308e677",
   "metadata": {},
   "outputs": [],
   "source": [
    "# model.save('model/02_deep.h5')\n",
    "\n",
    "from tensorflow.keras.models import save_model\n",
    "\n",
    "save_model(model, 'model/02_deep.h5')"
   ]
  },
  {
   "cell_type": "markdown",
   "id": "23b940ff",
   "metadata": {},
   "source": [
    "## 저장된 모델 사용하기"
   ]
  },
  {
   "cell_type": "code",
   "execution_count": 30,
   "id": "1393855b",
   "metadata": {},
   "outputs": [],
   "source": [
    "from tensorflow.keras.models import load_model\n",
    "\n",
    "model2 = load_model('model/02_deep.h5')"
   ]
  },
  {
   "cell_type": "code",
   "execution_count": null,
   "id": "a86e9043",
   "metadata": {},
   "outputs": [],
   "source": []
  }
 ],
 "metadata": {
  "kernelspec": {
   "display_name": "ml-dl-nlp",
   "language": "python",
   "name": "ml-dl-nlp"
  },
  "language_info": {
   "codemirror_mode": {
    "name": "ipython",
    "version": 3
   },
   "file_extension": ".py",
   "mimetype": "text/x-python",
   "name": "python",
   "nbconvert_exporter": "python",
   "pygments_lexer": "ipython3",
   "version": "3.10.18"
  },
  "toc": {
   "base_numbering": 1,
   "nav_menu": {},
   "number_sections": false,
   "sideBar": true,
   "skip_h1_title": false,
   "title_cell": "Table of Contents",
   "title_sidebar": "Contents",
   "toc_cell": false,
   "toc_position": {
    "height": "calc(100% - 180px)",
    "left": "10px",
    "top": "150px",
    "width": "223.55px"
   },
   "toc_section_display": true,
   "toc_window_display": true
  }
 },
 "nbformat": 4,
 "nbformat_minor": 5
}
