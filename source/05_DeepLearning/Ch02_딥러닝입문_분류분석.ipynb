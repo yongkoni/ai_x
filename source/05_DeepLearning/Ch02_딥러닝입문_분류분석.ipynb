{
 "cells": [
  {
   "cell_type": "code",
   "execution_count": 1,
   "id": "1bd417c7",
   "metadata": {},
   "outputs": [
    {
     "data": {
      "text/html": [
       "<style>\n",
       "div.container{width:86% !important;}\n",
       "div.cell.code_cell.rendered{width:100%;}\n",
       "div.CodeMirror {font-family:Consolas; font-size:12pt;}\n",
       "div.output {font-size:12pt; font-weight:bold;}\n",
       "div.input {font-family:Consolas; font-size:12pt;}\n",
       "div.prompt {min-width:70px;}\n",
       "div#toc-wrapper{padding-top:120px;}\n",
       "div.text_cell_render ul li{fontsize:12pt;padding:5px;}\n",
       "table.dataframe{font-size:12px;}))\n",
       "</style>\n"
      ],
      "text/plain": [
       "<IPython.core.display.HTML object>"
      ]
     },
     "metadata": {},
     "output_type": "display_data"
    }
   ],
   "source": [
    "from IPython.display import display, HTML\n",
    "display(HTML(\"\"\"<style>\n",
    "div.container{width:86% !important;}\n",
    "div.cell.code_cell.rendered{width:100%;}\n",
    "div.CodeMirror {font-family:Consolas; font-size:12pt;}\n",
    "div.output {font-size:12pt; font-weight:bold;}\n",
    "div.input {font-family:Consolas; font-size:12pt;}\n",
    "div.prompt {min-width:70px;}\n",
    "div#toc-wrapper{padding-top:120px;}\n",
    "div.text_cell_render ul li{fontsize:12pt;padding:5px;}\n",
    "table.dataframe{font-size:12px;}))\n",
    "</style>\n",
    "\"\"\"))"
   ]
  },
  {
   "cell_type": "markdown",
   "id": "43ecf15f",
   "metadata": {},
   "source": [
    "<font size=\"5\" color=\"red\">ch02 딥러닝입문 분류분석</font>"
   ]
  },
  {
   "cell_type": "code",
   "execution_count": 2,
   "id": "21a30371",
   "metadata": {},
   "outputs": [],
   "source": [
    "from tensorflow.keras.utils import to_categorical  # 분류분석시 원핫인코딩\n",
    "from tensorflow.keras.models import Sequential  # 모델 생성\n",
    "from tensorflow.keras.layers import Dense, Input\n",
    "import numpy as np"
   ]
  },
  {
   "cell_type": "markdown",
   "id": "28a0575a",
   "metadata": {},
   "source": [
    "# 머신러닝/딥러닝 : 데이터의 법칙성을 추출\n",
    "\n",
    "- 다양한 분야에서 응용 : 글씨인식, 문장분류, 질병진단,... ※ ML/DL의 종류\n",
    "- 지도학습(독립 = 입력변수와 종속 = 타겟 = 출력변수가 모두 주어졌을 경우) 회귀분석(타겟변수가 연속형) vs 분류분석(multi, binary)\n",
    "- 비지도학습(입력변수만) 군집화\n",
    "- 강화학습\n",
    "\n",
    "※ 지도학습에서의 ML, DL 프로그래밍 방식\n",
    "\n",
    "1. 데이터 셋 확보(input = 입력변수, target = 종속변수) 원본 데이터 및 시뮬레이션을 통해 데이터 생성\n",
    "2. 전처리 스케일 조정 훈련셋(학습셋), 검증셋, 시험셋(테스트셋) 학습 및 평가 가능한 포맷으로 변환\n",
    "3. 모델 구성 Sequential 객체 생성뒤 필요한 층을 add()함수로 추가\n",
    "4. 모델 학습과정 설정 compile()함수 이용. 손실함수, optimizer, metrics(평가지표)\n",
    "5. 모델 학습시키기 (ft. 학습과정 지켜보기) fit()함수 이용 - 훈련셋입력 = 독립변수, 훈련셋타겟=종속변수, 학습횟수, 검증셋\n",
    "6. 모델 평가 시험셋(테스트셋)을 인자로 넣은 evaluate()함수 이용, 그래프\n",
    "7. 모델 사용 predict() 이용. 입력데이터는 2차원 데이터\n",
    "8. 모델 저장 save()함수이용해서 저장. 저장된 모델은 load_model()함수를 이용해서 불러올 수 있음"
   ]
  },
  {
   "cell_type": "markdown",
   "id": "2aa043a5",
   "metadata": {},
   "source": [
    "# 1. 데이터 셋 생성"
   ]
  },
  {
   "cell_type": "markdown",
   "id": "be8057c0",
   "metadata": {},
   "source": [
    "# 2. 데이터 전처리"
   ]
  },
  {
   "cell_type": "code",
   "execution_count": 3,
   "id": "ac807d00",
   "metadata": {},
   "outputs": [
    {
     "data": {
      "text/plain": [
       "((90,), (9,), (9,), (90,), (9,), (9,))"
      ]
     },
     "execution_count": 3,
     "metadata": {},
     "output_type": "execute_result"
    }
   ],
   "source": [
    "# 학습데이터 = 훈련데이터\n",
    "\n",
    "x_train = np.array([1, 2, 3, 4, 5, 6, 7, 8, 9] * 10)\n",
    "y_train = np.array([2, 4, 6, 8, 10, 12, 14, 16, 18] * 10)\n",
    "\n",
    "# 검증데이터\n",
    "\n",
    "x_val = np.array([1, 2, 3, 4, 5, 6, 7, 8, 9])\n",
    "y_val = np.array([2, 4, 6, 8, 10, 12, 14, 16, 18])\n",
    "\n",
    "# 테스트셋 = 시험데이터\n",
    "\n",
    "x_test = np.array([1, 2, 3, 4, 5, 6, 7, 8, 9])\n",
    "y_test = np.array([2, 4, 6, 8, 10, 12, 14, 16, 18])\n",
    "x_train.shape, x_val.shape, x_test.shape, y_train.shape, y_val.shape, y_test.shape"
   ]
  },
  {
   "cell_type": "code",
   "execution_count": 4,
   "id": "03696e89",
   "metadata": {},
   "outputs": [
    {
     "name": "stdout",
     "output_type": "stream",
     "text": [
      "원 데이터 : ['a' 'b' 'c' 'd']\n",
      "라벨인코딩된 데이터 : [0 1 2 3]\n",
      "원핫인코딩된 데이터 : [[1. 0. 0. 0.]\n",
      " [0. 1. 0. 0.]\n",
      " [0. 0. 1. 0.]\n",
      " [0. 0. 0. 1.]]\n"
     ]
    }
   ],
   "source": [
    "# 인코딩 종류\n",
    "\n",
    "from sklearn.preprocessing import LabelEncoder\n",
    "\n",
    "data = np.array(['a', 'b', 'c', 'd'])\n",
    "print('원 데이터 :', data)\n",
    "le = LabelEncoder()\n",
    "# le.fit(data)\n",
    "# labeled_data = le.transform(data)\n",
    "labeled_data = le.fit_transform(data)\n",
    "print('라벨인코딩된 데이터 :', labeled_data)\n",
    "one_hot_encoded_data = to_categorical(labeled_data)\n",
    "print('원핫인코딩된 데이터 :', one_hot_encoded_data)"
   ]
  },
  {
   "cell_type": "code",
   "execution_count": 5,
   "id": "65473e5f",
   "metadata": {},
   "outputs": [
    {
     "name": "stdout",
     "output_type": "stream",
     "text": [
      "[1 2 2 4 2]\n",
      "to_categorical을 이용한 원핫인코딩 :\n",
      " [[0. 1. 0. 0. 0.]\n",
      " [0. 0. 1. 0. 0.]\n",
      " [0. 0. 1. 0. 0.]\n",
      " [0. 0. 0. 0. 1.]\n",
      " [0. 0. 1. 0. 0.]]\n"
     ]
    },
    {
     "data": {
      "text/plain": [
       "'get_dumies를 이용한 원핫인코딩 :'"
      ]
     },
     "metadata": {},
     "output_type": "display_data"
    },
    {
     "data": {
      "text/html": [
       "<div>\n",
       "<style scoped>\n",
       "    .dataframe tbody tr th:only-of-type {\n",
       "        vertical-align: middle;\n",
       "    }\n",
       "\n",
       "    .dataframe tbody tr th {\n",
       "        vertical-align: top;\n",
       "    }\n",
       "\n",
       "    .dataframe thead th {\n",
       "        text-align: right;\n",
       "    }\n",
       "</style>\n",
       "<table border=\"1\" class=\"dataframe\">\n",
       "  <thead>\n",
       "    <tr style=\"text-align: right;\">\n",
       "      <th></th>\n",
       "      <th>1</th>\n",
       "      <th>2</th>\n",
       "      <th>4</th>\n",
       "    </tr>\n",
       "  </thead>\n",
       "  <tbody>\n",
       "    <tr>\n",
       "      <th>0</th>\n",
       "      <td>1</td>\n",
       "      <td>0</td>\n",
       "      <td>0</td>\n",
       "    </tr>\n",
       "    <tr>\n",
       "      <th>1</th>\n",
       "      <td>0</td>\n",
       "      <td>1</td>\n",
       "      <td>0</td>\n",
       "    </tr>\n",
       "    <tr>\n",
       "      <th>2</th>\n",
       "      <td>0</td>\n",
       "      <td>1</td>\n",
       "      <td>0</td>\n",
       "    </tr>\n",
       "    <tr>\n",
       "      <th>3</th>\n",
       "      <td>0</td>\n",
       "      <td>0</td>\n",
       "      <td>1</td>\n",
       "    </tr>\n",
       "    <tr>\n",
       "      <th>4</th>\n",
       "      <td>0</td>\n",
       "      <td>1</td>\n",
       "      <td>0</td>\n",
       "    </tr>\n",
       "  </tbody>\n",
       "</table>\n",
       "</div>"
      ],
      "text/plain": [
       "   1  2  4\n",
       "0  1  0  0\n",
       "1  0  1  0\n",
       "2  0  1  0\n",
       "3  0  0  1\n",
       "4  0  1  0"
      ]
     },
     "metadata": {},
     "output_type": "display_data"
    },
    {
     "name": "stdout",
     "output_type": "stream",
     "text": [
      "<class 'numpy.ndarray'>\n",
      "<class 'pandas.core.frame.DataFrame'>\n"
     ]
    }
   ],
   "source": [
    "# 분류분석을 위기 위해, target을 원핫인코딩(라벨링 전환)\n",
    "\n",
    "import pandas as pd\n",
    "\n",
    "data = np.array([1, 2, 2, 4, 2])\n",
    "print(data)\n",
    "categorical_one_hot = to_categorical(data)\n",
    "print('to_categorical을 이용한 원핫인코딩 :\\n', categorical_one_hot)\n",
    "get_dumies_one_hot = pd.get_dummies(data)\n",
    "display('get_dumies를 이용한 원핫인코딩 :', get_dumies_one_hot)\n",
    "print(type(categorical_one_hot))\n",
    "print(type(get_dumies_one_hot))"
   ]
  },
  {
   "cell_type": "code",
   "execution_count": 6,
   "id": "54d3d5cd",
   "metadata": {},
   "outputs": [],
   "source": [
    "# 분류분석을 위한 target변수 라벨링 전환(원핫인코딩)\n",
    "\n",
    "Y_train = to_categorical(y_train, 19)\n",
    "Y_val = to_categorical(y_val)\n",
    "Y_test = to_categorical(y_test)"
   ]
  },
  {
   "cell_type": "code",
   "execution_count": 7,
   "id": "2853786c",
   "metadata": {},
   "outputs": [
    {
     "name": "stdout",
     "output_type": "stream",
     "text": [
      "훈련셋 구조: (90,) (90, 19)\n",
      "검증셋 구조: (9,) (9, 19)\n",
      "테스트셋 구조: (9,) (9, 19)\n"
     ]
    }
   ],
   "source": [
    "print('훈련셋 구조:', x_train.shape, Y_train.shape)  # 독립변수 1개, 타겟변수 19개\n",
    "print('검증셋 구조:', x_val.shape, Y_val.shape)\n",
    "print('테스트셋 구조:', x_test.shape, Y_test.shape)"
   ]
  },
  {
   "cell_type": "markdown",
   "id": "950f4435",
   "metadata": {},
   "source": [
    "# 3. 모델 구성하기"
   ]
  },
  {
   "cell_type": "code",
   "execution_count": 8,
   "id": "ad99c3f2",
   "metadata": {},
   "outputs": [
    {
     "name": "stdout",
     "output_type": "stream",
     "text": [
      "Model: \"sequential\"\n",
      "_________________________________________________________________\n",
      " Layer (type)                Output Shape              Param #   \n",
      "=================================================================\n",
      " dense (Dense)               (None, 38)                76        \n",
      "                                                                 \n",
      " dense_1 (Dense)             (None, 64)                2496      \n",
      "                                                                 \n",
      " dense_2 (Dense)             (None, 32)                2080      \n",
      "                                                                 \n",
      " dense_3 (Dense)             (None, 19)                627       \n",
      "                                                                 \n",
      "=================================================================\n",
      "Total params: 5,279\n",
      "Trainable params: 5,279\n",
      "Non-trainable params: 0\n",
      "_________________________________________________________________\n"
     ]
    }
   ],
   "source": [
    "model = Sequential()\n",
    "model.add(Input(shape = (1,)))  # 입력층\n",
    "model.add(Dense(units = 38, activation = 'sigmoid'))  # units출력수, 활성화함수:relu, tanh\n",
    "model.add(Dense(units = 64, activation = 'elu'))\n",
    "model.add(Dense(units = 32, activation = 'elu'))\n",
    "model.add(Dense(units = 19, activation = 'softmax'))\n",
    "# softmax : 모든 출력결과의 합이 1. 분류분석 마지막 layer(출력층)에서 activation으로\n",
    "model.summary()"
   ]
  },
  {
   "cell_type": "markdown",
   "id": "d1f86812",
   "metadata": {},
   "source": [
    "# 4. 모델 학습과정 설정"
   ]
  },
  {
   "cell_type": "code",
   "execution_count": 9,
   "id": "f849837b",
   "metadata": {},
   "outputs": [],
   "source": [
    "model.compile(loss = 'categorical_crossentropy',  # 분류분석에서의 손실함수 (원핫인코딩有)\n",
    "              optimizer = 'sgd',\n",
    "              metrics = ['accuracy'])  # 평가지표 : accuracy"
   ]
  },
  {
   "cell_type": "markdown",
   "id": "513dfa56",
   "metadata": {},
   "source": [
    "# 5. 모델 학습시키기"
   ]
  },
  {
   "cell_type": "code",
   "execution_count": 10,
   "id": "17ec81e1",
   "metadata": {},
   "outputs": [
    {
     "name": "stdout",
     "output_type": "stream",
     "text": [
      "Epoch 1/300\n",
      "9/9 - 1s - loss: 2.9757 - accuracy: 0.0222 - val_loss: 2.8750 - val_accuracy: 0.1111 - 577ms/epoch - 64ms/step\n",
      "Epoch 2/300\n",
      "9/9 - 0s - loss: 2.8295 - accuracy: 0.1444 - val_loss: 2.7616 - val_accuracy: 0.1111 - 40ms/epoch - 4ms/step\n",
      "Epoch 3/300\n",
      "9/9 - 0s - loss: 2.7346 - accuracy: 0.1222 - val_loss: 2.6784 - val_accuracy: 0.1111 - 41ms/epoch - 5ms/step\n",
      "Epoch 4/300\n",
      "9/9 - 0s - loss: 2.6579 - accuracy: 0.1111 - val_loss: 2.6115 - val_accuracy: 0.1111 - 42ms/epoch - 5ms/step\n",
      "Epoch 5/300\n",
      "9/9 - 0s - loss: 2.5966 - accuracy: 0.1111 - val_loss: 2.5547 - val_accuracy: 0.1111 - 41ms/epoch - 5ms/step\n",
      "Epoch 6/300\n",
      "9/9 - 0s - loss: 2.5463 - accuracy: 0.1111 - val_loss: 2.5044 - val_accuracy: 0.1111 - 40ms/epoch - 4ms/step\n",
      "Epoch 7/300\n",
      "9/9 - 0s - loss: 2.4975 - accuracy: 0.1222 - val_loss: 2.4588 - val_accuracy: 0.2222 - 36ms/epoch - 4ms/step\n",
      "Epoch 8/300\n",
      "9/9 - 0s - loss: 2.4532 - accuracy: 0.1556 - val_loss: 2.4175 - val_accuracy: 0.2222 - 41ms/epoch - 5ms/step\n",
      "Epoch 9/300\n",
      "9/9 - 0s - loss: 2.4170 - accuracy: 0.1556 - val_loss: 2.3800 - val_accuracy: 0.2222 - 42ms/epoch - 5ms/step\n",
      "Epoch 10/300\n",
      "9/9 - 0s - loss: 2.3802 - accuracy: 0.1667 - val_loss: 2.3464 - val_accuracy: 0.2222 - 42ms/epoch - 5ms/step\n",
      "Epoch 11/300\n",
      "9/9 - 0s - loss: 2.3482 - accuracy: 0.2222 - val_loss: 2.3159 - val_accuracy: 0.2222 - 44ms/epoch - 5ms/step\n",
      "Epoch 12/300\n",
      "9/9 - 0s - loss: 2.3197 - accuracy: 0.2333 - val_loss: 2.2886 - val_accuracy: 0.2222 - 41ms/epoch - 5ms/step\n",
      "Epoch 13/300\n",
      "9/9 - 0s - loss: 2.2973 - accuracy: 0.2000 - val_loss: 2.2637 - val_accuracy: 0.2222 - 37ms/epoch - 4ms/step\n",
      "Epoch 14/300\n",
      "9/9 - 0s - loss: 2.2686 - accuracy: 0.1889 - val_loss: 2.2414 - val_accuracy: 0.2222 - 41ms/epoch - 5ms/step\n",
      "Epoch 15/300\n",
      "9/9 - 0s - loss: 2.2481 - accuracy: 0.2667 - val_loss: 2.2212 - val_accuracy: 0.2222 - 39ms/epoch - 4ms/step\n",
      "Epoch 16/300\n",
      "9/9 - 0s - loss: 2.2332 - accuracy: 0.2222 - val_loss: 2.2028 - val_accuracy: 0.2222 - 47ms/epoch - 5ms/step\n",
      "Epoch 17/300\n",
      "9/9 - 0s - loss: 2.2117 - accuracy: 0.1889 - val_loss: 2.1854 - val_accuracy: 0.2222 - 41ms/epoch - 5ms/step\n",
      "Epoch 18/300\n",
      "9/9 - 0s - loss: 2.1949 - accuracy: 0.1667 - val_loss: 2.1698 - val_accuracy: 0.2222 - 41ms/epoch - 5ms/step\n",
      "Epoch 19/300\n",
      "9/9 - 0s - loss: 2.1825 - accuracy: 0.2111 - val_loss: 2.1550 - val_accuracy: 0.2222 - 41ms/epoch - 5ms/step\n",
      "Epoch 20/300\n",
      "9/9 - 0s - loss: 2.1632 - accuracy: 0.1222 - val_loss: 2.1406 - val_accuracy: 0.2222 - 46ms/epoch - 5ms/step\n",
      "Epoch 21/300\n",
      "9/9 - 0s - loss: 2.1565 - accuracy: 0.1222 - val_loss: 2.1270 - val_accuracy: 0.2222 - 36ms/epoch - 4ms/step\n",
      "Epoch 22/300\n",
      "9/9 - 0s - loss: 2.1391 - accuracy: 0.1667 - val_loss: 2.1142 - val_accuracy: 0.2222 - 41ms/epoch - 5ms/step\n",
      "Epoch 23/300\n",
      "9/9 - 0s - loss: 2.1268 - accuracy: 0.2111 - val_loss: 2.1013 - val_accuracy: 0.2222 - 41ms/epoch - 5ms/step\n",
      "Epoch 24/300\n",
      "9/9 - 0s - loss: 2.1205 - accuracy: 0.1778 - val_loss: 2.0889 - val_accuracy: 0.2222 - 42ms/epoch - 5ms/step\n",
      "Epoch 25/300\n",
      "9/9 - 0s - loss: 2.1024 - accuracy: 0.1889 - val_loss: 2.0766 - val_accuracy: 0.1111 - 38ms/epoch - 4ms/step\n",
      "Epoch 26/300\n",
      "9/9 - 0s - loss: 2.0896 - accuracy: 0.1889 - val_loss: 2.0646 - val_accuracy: 0.1111 - 48ms/epoch - 5ms/step\n",
      "Epoch 27/300\n",
      "9/9 - 0s - loss: 2.0756 - accuracy: 0.1778 - val_loss: 2.0525 - val_accuracy: 0.2222 - 41ms/epoch - 5ms/step\n",
      "Epoch 28/300\n",
      "9/9 - 0s - loss: 2.0756 - accuracy: 0.1778 - val_loss: 2.0409 - val_accuracy: 0.2222 - 41ms/epoch - 5ms/step\n",
      "Epoch 29/300\n",
      "9/9 - 0s - loss: 2.0626 - accuracy: 0.1556 - val_loss: 2.0296 - val_accuracy: 0.2222 - 38ms/epoch - 4ms/step\n",
      "Epoch 30/300\n",
      "9/9 - 0s - loss: 2.0536 - accuracy: 0.1556 - val_loss: 2.0175 - val_accuracy: 0.2222 - 41ms/epoch - 5ms/step\n",
      "Epoch 31/300\n",
      "9/9 - 0s - loss: 2.0351 - accuracy: 0.1778 - val_loss: 2.0050 - val_accuracy: 0.2222 - 39ms/epoch - 4ms/step\n",
      "Epoch 32/300\n",
      "9/9 - 0s - loss: 2.0242 - accuracy: 0.2111 - val_loss: 1.9942 - val_accuracy: 0.2222 - 39ms/epoch - 4ms/step\n",
      "Epoch 33/300\n",
      "9/9 - 0s - loss: 2.0146 - accuracy: 0.1444 - val_loss: 1.9814 - val_accuracy: 0.1111 - 40ms/epoch - 4ms/step\n",
      "Epoch 34/300\n",
      "9/9 - 0s - loss: 1.9957 - accuracy: 0.1556 - val_loss: 1.9693 - val_accuracy: 0.3333 - 40ms/epoch - 4ms/step\n",
      "Epoch 35/300\n",
      "9/9 - 0s - loss: 1.9859 - accuracy: 0.2222 - val_loss: 1.9573 - val_accuracy: 0.3333 - 42ms/epoch - 5ms/step\n",
      "Epoch 36/300\n",
      "9/9 - 0s - loss: 1.9805 - accuracy: 0.2444 - val_loss: 1.9448 - val_accuracy: 0.4444 - 41ms/epoch - 5ms/step\n",
      "Epoch 37/300\n",
      "9/9 - 0s - loss: 1.9673 - accuracy: 0.2444 - val_loss: 1.9332 - val_accuracy: 0.3333 - 41ms/epoch - 5ms/step\n",
      "Epoch 38/300\n",
      "9/9 - 0s - loss: 1.9516 - accuracy: 0.2222 - val_loss: 1.9201 - val_accuracy: 0.3333 - 40ms/epoch - 4ms/step\n",
      "Epoch 39/300\n",
      "9/9 - 0s - loss: 1.9394 - accuracy: 0.2333 - val_loss: 1.9072 - val_accuracy: 0.2222 - 41ms/epoch - 5ms/step\n",
      "Epoch 40/300\n",
      "9/9 - 0s - loss: 1.9220 - accuracy: 0.2444 - val_loss: 1.8947 - val_accuracy: 0.1111 - 38ms/epoch - 4ms/step\n",
      "Epoch 41/300\n",
      "9/9 - 0s - loss: 1.9229 - accuracy: 0.2222 - val_loss: 1.8819 - val_accuracy: 0.2222 - 41ms/epoch - 5ms/step\n",
      "Epoch 42/300\n",
      "9/9 - 0s - loss: 1.9119 - accuracy: 0.2000 - val_loss: 1.8707 - val_accuracy: 0.4444 - 46ms/epoch - 5ms/step\n",
      "Epoch 43/300\n",
      "9/9 - 0s - loss: 1.8930 - accuracy: 0.2333 - val_loss: 1.8566 - val_accuracy: 0.3333 - 42ms/epoch - 5ms/step\n",
      "Epoch 44/300\n",
      "9/9 - 0s - loss: 1.8729 - accuracy: 0.1778 - val_loss: 1.8451 - val_accuracy: 0.2222 - 40ms/epoch - 4ms/step\n",
      "Epoch 45/300\n",
      "9/9 - 0s - loss: 1.8594 - accuracy: 0.2889 - val_loss: 1.8305 - val_accuracy: 0.3333 - 41ms/epoch - 5ms/step\n",
      "Epoch 46/300\n",
      "9/9 - 0s - loss: 1.8480 - accuracy: 0.2667 - val_loss: 1.8184 - val_accuracy: 0.4444 - 40ms/epoch - 4ms/step\n",
      "Epoch 47/300\n",
      "9/9 - 0s - loss: 1.8503 - accuracy: 0.3222 - val_loss: 1.8052 - val_accuracy: 0.5556 - 42ms/epoch - 5ms/step\n",
      "Epoch 48/300\n",
      "9/9 - 0s - loss: 1.8272 - accuracy: 0.3333 - val_loss: 1.7922 - val_accuracy: 0.4444 - 41ms/epoch - 5ms/step\n",
      "Epoch 49/300\n",
      "9/9 - 0s - loss: 1.8139 - accuracy: 0.3222 - val_loss: 1.7796 - val_accuracy: 0.4444 - 48ms/epoch - 5ms/step\n",
      "Epoch 50/300\n",
      "9/9 - 0s - loss: 1.7991 - accuracy: 0.3444 - val_loss: 1.7674 - val_accuracy: 0.3333 - 38ms/epoch - 4ms/step\n",
      "Epoch 51/300\n",
      "9/9 - 0s - loss: 1.7877 - accuracy: 0.2333 - val_loss: 1.7544 - val_accuracy: 0.4444 - 46ms/epoch - 5ms/step\n",
      "Epoch 52/300\n",
      "9/9 - 0s - loss: 1.7789 - accuracy: 0.2889 - val_loss: 1.7422 - val_accuracy: 0.3333 - 42ms/epoch - 5ms/step\n",
      "Epoch 53/300\n",
      "9/9 - 0s - loss: 1.7737 - accuracy: 0.2889 - val_loss: 1.7301 - val_accuracy: 0.3333 - 38ms/epoch - 4ms/step\n",
      "Epoch 54/300\n",
      "9/9 - 0s - loss: 1.7453 - accuracy: 0.3667 - val_loss: 1.7168 - val_accuracy: 0.4444 - 39ms/epoch - 4ms/step\n",
      "Epoch 55/300\n",
      "9/9 - 0s - loss: 1.7338 - accuracy: 0.3889 - val_loss: 1.7045 - val_accuracy: 0.3333 - 38ms/epoch - 4ms/step\n",
      "Epoch 56/300\n",
      "9/9 - 0s - loss: 1.7304 - accuracy: 0.3000 - val_loss: 1.6930 - val_accuracy: 0.3333 - 37ms/epoch - 4ms/step\n",
      "Epoch 57/300\n",
      "9/9 - 0s - loss: 1.7205 - accuracy: 0.3889 - val_loss: 1.6840 - val_accuracy: 0.3333 - 38ms/epoch - 4ms/step\n",
      "Epoch 58/300\n",
      "9/9 - 0s - loss: 1.7042 - accuracy: 0.3444 - val_loss: 1.6688 - val_accuracy: 0.3333 - 44ms/epoch - 5ms/step\n",
      "Epoch 59/300\n",
      "9/9 - 0s - loss: 1.6841 - accuracy: 0.3667 - val_loss: 1.6571 - val_accuracy: 0.3333 - 38ms/epoch - 4ms/step\n",
      "Epoch 60/300\n",
      "9/9 - 0s - loss: 1.6766 - accuracy: 0.3111 - val_loss: 1.6449 - val_accuracy: 0.2222 - 38ms/epoch - 4ms/step\n",
      "Epoch 61/300\n",
      "9/9 - 0s - loss: 1.6626 - accuracy: 0.3111 - val_loss: 1.6336 - val_accuracy: 0.5556 - 39ms/epoch - 4ms/step\n",
      "Epoch 62/300\n",
      "9/9 - 0s - loss: 1.6550 - accuracy: 0.2556 - val_loss: 1.6221 - val_accuracy: 0.4444 - 38ms/epoch - 4ms/step\n",
      "Epoch 63/300\n",
      "9/9 - 0s - loss: 1.6360 - accuracy: 0.4111 - val_loss: 1.6110 - val_accuracy: 0.6667 - 38ms/epoch - 4ms/step\n",
      "Epoch 64/300\n",
      "9/9 - 0s - loss: 1.6236 - accuracy: 0.4111 - val_loss: 1.6004 - val_accuracy: 0.5556 - 40ms/epoch - 4ms/step\n",
      "Epoch 65/300\n",
      "9/9 - 0s - loss: 1.6202 - accuracy: 0.4333 - val_loss: 1.5895 - val_accuracy: 0.5556 - 38ms/epoch - 4ms/step\n",
      "Epoch 66/300\n",
      "9/9 - 0s - loss: 1.6120 - accuracy: 0.3667 - val_loss: 1.5776 - val_accuracy: 0.5556 - 40ms/epoch - 4ms/step\n",
      "Epoch 67/300\n",
      "9/9 - 0s - loss: 1.5938 - accuracy: 0.4556 - val_loss: 1.5666 - val_accuracy: 0.4444 - 38ms/epoch - 4ms/step\n",
      "Epoch 68/300\n",
      "9/9 - 0s - loss: 1.5906 - accuracy: 0.3889 - val_loss: 1.5567 - val_accuracy: 0.5556 - 36ms/epoch - 4ms/step\n"
     ]
    },
    {
     "name": "stdout",
     "output_type": "stream",
     "text": [
      "Epoch 69/300\n",
      "9/9 - 0s - loss: 1.5773 - accuracy: 0.4444 - val_loss: 1.5461 - val_accuracy: 0.5556 - 38ms/epoch - 4ms/step\n",
      "Epoch 70/300\n",
      "9/9 - 0s - loss: 1.5649 - accuracy: 0.4889 - val_loss: 1.5348 - val_accuracy: 0.4444 - 37ms/epoch - 4ms/step\n",
      "Epoch 71/300\n",
      "9/9 - 0s - loss: 1.5533 - accuracy: 0.3889 - val_loss: 1.5251 - val_accuracy: 0.6667 - 37ms/epoch - 4ms/step\n",
      "Epoch 72/300\n",
      "9/9 - 0s - loss: 1.5393 - accuracy: 0.5556 - val_loss: 1.5148 - val_accuracy: 0.6667 - 39ms/epoch - 4ms/step\n",
      "Epoch 73/300\n",
      "9/9 - 0s - loss: 1.5282 - accuracy: 0.5778 - val_loss: 1.5043 - val_accuracy: 0.6667 - 37ms/epoch - 4ms/step\n",
      "Epoch 74/300\n",
      "9/9 - 0s - loss: 1.5190 - accuracy: 0.4889 - val_loss: 1.4948 - val_accuracy: 0.5556 - 35ms/epoch - 4ms/step\n",
      "Epoch 75/300\n",
      "9/9 - 0s - loss: 1.5110 - accuracy: 0.4111 - val_loss: 1.4853 - val_accuracy: 0.6667 - 42ms/epoch - 5ms/step\n",
      "Epoch 76/300\n",
      "9/9 - 0s - loss: 1.5052 - accuracy: 0.5667 - val_loss: 1.4747 - val_accuracy: 0.6667 - 36ms/epoch - 4ms/step\n",
      "Epoch 77/300\n",
      "9/9 - 0s - loss: 1.4891 - accuracy: 0.5778 - val_loss: 1.4644 - val_accuracy: 0.5556 - 38ms/epoch - 4ms/step\n",
      "Epoch 78/300\n",
      "9/9 - 0s - loss: 1.4869 - accuracy: 0.5000 - val_loss: 1.4556 - val_accuracy: 0.6667 - 38ms/epoch - 4ms/step\n",
      "Epoch 79/300\n",
      "9/9 - 0s - loss: 1.4711 - accuracy: 0.5778 - val_loss: 1.4460 - val_accuracy: 0.5556 - 38ms/epoch - 4ms/step\n",
      "Epoch 80/300\n",
      "9/9 - 0s - loss: 1.4633 - accuracy: 0.4889 - val_loss: 1.4363 - val_accuracy: 0.5556 - 37ms/epoch - 4ms/step\n",
      "Epoch 81/300\n",
      "9/9 - 0s - loss: 1.4485 - accuracy: 0.5444 - val_loss: 1.4272 - val_accuracy: 0.6667 - 36ms/epoch - 4ms/step\n",
      "Epoch 82/300\n",
      "9/9 - 0s - loss: 1.4507 - accuracy: 0.4333 - val_loss: 1.4177 - val_accuracy: 0.5556 - 39ms/epoch - 4ms/step\n",
      "Epoch 83/300\n",
      "9/9 - 0s - loss: 1.4331 - accuracy: 0.5222 - val_loss: 1.4086 - val_accuracy: 0.6667 - 38ms/epoch - 4ms/step\n",
      "Epoch 84/300\n",
      "9/9 - 0s - loss: 1.4349 - accuracy: 0.5556 - val_loss: 1.3986 - val_accuracy: 0.7778 - 35ms/epoch - 4ms/step\n",
      "Epoch 85/300\n",
      "9/9 - 0s - loss: 1.4193 - accuracy: 0.6444 - val_loss: 1.3908 - val_accuracy: 0.6667 - 38ms/epoch - 4ms/step\n",
      "Epoch 86/300\n",
      "9/9 - 0s - loss: 1.4086 - accuracy: 0.6222 - val_loss: 1.3818 - val_accuracy: 0.5556 - 39ms/epoch - 4ms/step\n",
      "Epoch 87/300\n",
      "9/9 - 0s - loss: 1.4050 - accuracy: 0.5556 - val_loss: 1.3731 - val_accuracy: 0.6667 - 36ms/epoch - 4ms/step\n",
      "Epoch 88/300\n",
      "9/9 - 0s - loss: 1.3913 - accuracy: 0.5000 - val_loss: 1.3631 - val_accuracy: 0.6667 - 38ms/epoch - 4ms/step\n",
      "Epoch 89/300\n",
      "9/9 - 0s - loss: 1.3851 - accuracy: 0.5222 - val_loss: 1.3578 - val_accuracy: 0.6667 - 38ms/epoch - 4ms/step\n",
      "Epoch 90/300\n",
      "9/9 - 0s - loss: 1.3771 - accuracy: 0.5444 - val_loss: 1.3474 - val_accuracy: 0.6667 - 37ms/epoch - 4ms/step\n",
      "Epoch 91/300\n",
      "9/9 - 0s - loss: 1.3689 - accuracy: 0.6111 - val_loss: 1.3379 - val_accuracy: 0.6667 - 45ms/epoch - 5ms/step\n",
      "Epoch 92/300\n",
      "9/9 - 0s - loss: 1.3631 - accuracy: 0.6111 - val_loss: 1.3310 - val_accuracy: 0.6667 - 36ms/epoch - 4ms/step\n",
      "Epoch 93/300\n",
      "9/9 - 0s - loss: 1.3400 - accuracy: 0.6222 - val_loss: 1.3205 - val_accuracy: 0.6667 - 39ms/epoch - 4ms/step\n",
      "Epoch 94/300\n",
      "9/9 - 0s - loss: 1.3478 - accuracy: 0.6444 - val_loss: 1.3140 - val_accuracy: 0.7778 - 37ms/epoch - 4ms/step\n",
      "Epoch 95/300\n",
      "9/9 - 0s - loss: 1.3358 - accuracy: 0.6111 - val_loss: 1.3069 - val_accuracy: 0.5556 - 38ms/epoch - 4ms/step\n",
      "Epoch 96/300\n",
      "9/9 - 0s - loss: 1.3284 - accuracy: 0.6111 - val_loss: 1.3005 - val_accuracy: 0.5556 - 36ms/epoch - 4ms/step\n",
      "Epoch 97/300\n",
      "9/9 - 0s - loss: 1.3169 - accuracy: 0.6556 - val_loss: 1.2905 - val_accuracy: 0.8889 - 37ms/epoch - 4ms/step\n",
      "Epoch 98/300\n",
      "9/9 - 0s - loss: 1.3199 - accuracy: 0.6444 - val_loss: 1.2831 - val_accuracy: 0.8889 - 38ms/epoch - 4ms/step\n",
      "Epoch 99/300\n",
      "9/9 - 0s - loss: 1.3051 - accuracy: 0.6444 - val_loss: 1.2731 - val_accuracy: 0.8889 - 43ms/epoch - 5ms/step\n",
      "Epoch 100/300\n",
      "9/9 - 0s - loss: 1.2906 - accuracy: 0.7889 - val_loss: 1.2658 - val_accuracy: 0.6667 - 39ms/epoch - 4ms/step\n",
      "Epoch 101/300\n",
      "9/9 - 0s - loss: 1.2771 - accuracy: 0.7111 - val_loss: 1.2575 - val_accuracy: 0.7778 - 37ms/epoch - 4ms/step\n",
      "Epoch 102/300\n",
      "9/9 - 0s - loss: 1.2755 - accuracy: 0.6222 - val_loss: 1.2499 - val_accuracy: 0.7778 - 39ms/epoch - 4ms/step\n",
      "Epoch 103/300\n",
      "9/9 - 0s - loss: 1.2703 - accuracy: 0.7333 - val_loss: 1.2436 - val_accuracy: 0.7778 - 36ms/epoch - 4ms/step\n",
      "Epoch 104/300\n",
      "9/9 - 0s - loss: 1.2629 - accuracy: 0.6778 - val_loss: 1.2345 - val_accuracy: 0.7778 - 38ms/epoch - 4ms/step\n",
      "Epoch 105/300\n",
      "9/9 - 0s - loss: 1.2485 - accuracy: 0.7778 - val_loss: 1.2274 - val_accuracy: 0.7778 - 37ms/epoch - 4ms/step\n",
      "Epoch 106/300\n",
      "9/9 - 0s - loss: 1.2504 - accuracy: 0.7222 - val_loss: 1.2209 - val_accuracy: 0.7778 - 39ms/epoch - 4ms/step\n",
      "Epoch 107/300\n",
      "9/9 - 0s - loss: 1.2406 - accuracy: 0.7778 - val_loss: 1.2139 - val_accuracy: 0.7778 - 37ms/epoch - 4ms/step\n",
      "Epoch 108/300\n",
      "9/9 - 0s - loss: 1.2401 - accuracy: 0.6333 - val_loss: 1.2063 - val_accuracy: 0.7778 - 45ms/epoch - 5ms/step\n",
      "Epoch 109/300\n",
      "9/9 - 0s - loss: 1.2270 - accuracy: 0.7778 - val_loss: 1.1987 - val_accuracy: 0.7778 - 38ms/epoch - 4ms/step\n",
      "Epoch 110/300\n",
      "9/9 - 0s - loss: 1.2178 - accuracy: 0.6556 - val_loss: 1.1919 - val_accuracy: 0.8889 - 39ms/epoch - 4ms/step\n",
      "Epoch 111/300\n",
      "9/9 - 0s - loss: 1.2148 - accuracy: 0.7222 - val_loss: 1.1853 - val_accuracy: 0.6667 - 38ms/epoch - 4ms/step\n",
      "Epoch 112/300\n",
      "9/9 - 0s - loss: 1.1999 - accuracy: 0.7444 - val_loss: 1.1790 - val_accuracy: 0.7778 - 36ms/epoch - 4ms/step\n",
      "Epoch 113/300\n",
      "9/9 - 0s - loss: 1.2043 - accuracy: 0.7556 - val_loss: 1.1747 - val_accuracy: 0.7778 - 39ms/epoch - 4ms/step\n",
      "Epoch 114/300\n",
      "9/9 - 0s - loss: 1.1945 - accuracy: 0.6889 - val_loss: 1.1653 - val_accuracy: 0.8889 - 37ms/epoch - 4ms/step\n",
      "Epoch 115/300\n",
      "9/9 - 0s - loss: 1.2021 - accuracy: 0.7444 - val_loss: 1.1597 - val_accuracy: 0.7778 - 37ms/epoch - 4ms/step\n",
      "Epoch 116/300\n",
      "9/9 - 0s - loss: 1.1876 - accuracy: 0.7333 - val_loss: 1.1509 - val_accuracy: 0.7778 - 37ms/epoch - 4ms/step\n",
      "Epoch 117/300\n",
      "9/9 - 0s - loss: 1.1838 - accuracy: 0.7333 - val_loss: 1.1447 - val_accuracy: 0.7778 - 38ms/epoch - 4ms/step\n",
      "Epoch 118/300\n",
      "9/9 - 0s - loss: 1.1723 - accuracy: 0.7111 - val_loss: 1.1407 - val_accuracy: 0.7778 - 36ms/epoch - 4ms/step\n",
      "Epoch 119/300\n",
      "9/9 - 0s - loss: 1.1677 - accuracy: 0.6778 - val_loss: 1.1308 - val_accuracy: 0.7778 - 37ms/epoch - 4ms/step\n",
      "Epoch 120/300\n",
      "9/9 - 0s - loss: 1.1496 - accuracy: 0.7333 - val_loss: 1.1255 - val_accuracy: 0.8889 - 39ms/epoch - 4ms/step\n",
      "Epoch 121/300\n",
      "9/9 - 0s - loss: 1.1494 - accuracy: 0.7444 - val_loss: 1.1201 - val_accuracy: 0.8889 - 38ms/epoch - 4ms/step\n",
      "Epoch 122/300\n",
      "9/9 - 0s - loss: 1.1409 - accuracy: 0.7889 - val_loss: 1.1114 - val_accuracy: 0.7778 - 38ms/epoch - 4ms/step\n",
      "Epoch 123/300\n",
      "9/9 - 0s - loss: 1.1256 - accuracy: 0.7778 - val_loss: 1.1069 - val_accuracy: 0.6667 - 37ms/epoch - 4ms/step\n",
      "Epoch 124/300\n",
      "9/9 - 0s - loss: 1.1240 - accuracy: 0.7444 - val_loss: 1.1004 - val_accuracy: 0.8889 - 44ms/epoch - 5ms/step\n",
      "Epoch 125/300\n",
      "9/9 - 0s - loss: 1.1136 - accuracy: 0.8778 - val_loss: 1.0929 - val_accuracy: 0.7778 - 37ms/epoch - 4ms/step\n",
      "Epoch 126/300\n",
      "9/9 - 0s - loss: 1.1145 - accuracy: 0.6889 - val_loss: 1.0885 - val_accuracy: 0.8889 - 39ms/epoch - 4ms/step\n",
      "Epoch 127/300\n",
      "9/9 - 0s - loss: 1.1000 - accuracy: 0.8000 - val_loss: 1.0805 - val_accuracy: 0.7778 - 37ms/epoch - 4ms/step\n",
      "Epoch 128/300\n",
      "9/9 - 0s - loss: 1.1040 - accuracy: 0.7667 - val_loss: 1.0740 - val_accuracy: 0.8889 - 40ms/epoch - 4ms/step\n",
      "Epoch 129/300\n",
      "9/9 - 0s - loss: 1.1062 - accuracy: 0.7111 - val_loss: 1.0697 - val_accuracy: 0.7778 - 38ms/epoch - 4ms/step\n",
      "Epoch 130/300\n",
      "9/9 - 0s - loss: 1.0922 - accuracy: 0.6778 - val_loss: 1.0638 - val_accuracy: 0.8889 - 39ms/epoch - 4ms/step\n",
      "Epoch 131/300\n",
      "9/9 - 0s - loss: 1.0855 - accuracy: 0.7556 - val_loss: 1.0583 - val_accuracy: 0.7778 - 38ms/epoch - 4ms/step\n",
      "Epoch 132/300\n",
      "9/9 - 0s - loss: 1.0752 - accuracy: 0.8222 - val_loss: 1.0502 - val_accuracy: 0.8889 - 35ms/epoch - 4ms/step\n",
      "Epoch 133/300\n",
      "9/9 - 0s - loss: 1.0771 - accuracy: 0.7222 - val_loss: 1.0444 - val_accuracy: 0.7778 - 40ms/epoch - 4ms/step\n",
      "Epoch 134/300\n",
      "9/9 - 0s - loss: 1.0717 - accuracy: 0.7222 - val_loss: 1.0425 - val_accuracy: 0.7778 - 47ms/epoch - 5ms/step\n",
      "Epoch 135/300\n",
      "9/9 - 0s - loss: 1.0692 - accuracy: 0.6778 - val_loss: 1.0396 - val_accuracy: 0.8889 - 37ms/epoch - 4ms/step\n"
     ]
    },
    {
     "name": "stdout",
     "output_type": "stream",
     "text": [
      "Epoch 136/300\n",
      "9/9 - 0s - loss: 1.0564 - accuracy: 0.8111 - val_loss: 1.0284 - val_accuracy: 0.8889 - 38ms/epoch - 4ms/step\n",
      "Epoch 137/300\n",
      "9/9 - 0s - loss: 1.0521 - accuracy: 0.8000 - val_loss: 1.0235 - val_accuracy: 0.8889 - 37ms/epoch - 4ms/step\n",
      "Epoch 138/300\n",
      "9/9 - 0s - loss: 1.0387 - accuracy: 0.8444 - val_loss: 1.0170 - val_accuracy: 0.8889 - 37ms/epoch - 4ms/step\n",
      "Epoch 139/300\n",
      "9/9 - 0s - loss: 1.0468 - accuracy: 0.7556 - val_loss: 1.0111 - val_accuracy: 0.7778 - 43ms/epoch - 5ms/step\n",
      "Epoch 140/300\n",
      "9/9 - 0s - loss: 1.0236 - accuracy: 0.8333 - val_loss: 1.0075 - val_accuracy: 0.8889 - 38ms/epoch - 4ms/step\n",
      "Epoch 141/300\n",
      "9/9 - 0s - loss: 1.0388 - accuracy: 0.7778 - val_loss: 1.0063 - val_accuracy: 0.7778 - 37ms/epoch - 4ms/step\n",
      "Epoch 142/300\n",
      "9/9 - 0s - loss: 1.0310 - accuracy: 0.7889 - val_loss: 0.9966 - val_accuracy: 0.6667 - 39ms/epoch - 4ms/step\n",
      "Epoch 143/300\n",
      "9/9 - 0s - loss: 1.0213 - accuracy: 0.7556 - val_loss: 0.9907 - val_accuracy: 0.8889 - 35ms/epoch - 4ms/step\n",
      "Epoch 144/300\n",
      "9/9 - 0s - loss: 1.0150 - accuracy: 0.8444 - val_loss: 0.9856 - val_accuracy: 0.8889 - 38ms/epoch - 4ms/step\n",
      "Epoch 145/300\n",
      "9/9 - 0s - loss: 1.0035 - accuracy: 0.8111 - val_loss: 0.9845 - val_accuracy: 0.7778 - 38ms/epoch - 4ms/step\n",
      "Epoch 146/300\n",
      "9/9 - 0s - loss: 1.0177 - accuracy: 0.7889 - val_loss: 0.9726 - val_accuracy: 0.7778 - 38ms/epoch - 4ms/step\n",
      "Epoch 147/300\n",
      "9/9 - 0s - loss: 0.9938 - accuracy: 0.8222 - val_loss: 0.9674 - val_accuracy: 0.8889 - 38ms/epoch - 4ms/step\n",
      "Epoch 148/300\n",
      "9/9 - 0s - loss: 0.9917 - accuracy: 0.8778 - val_loss: 0.9627 - val_accuracy: 0.8889 - 37ms/epoch - 4ms/step\n",
      "Epoch 149/300\n",
      "9/9 - 0s - loss: 0.9824 - accuracy: 0.8222 - val_loss: 0.9569 - val_accuracy: 0.8889 - 38ms/epoch - 4ms/step\n",
      "Epoch 150/300\n",
      "9/9 - 0s - loss: 0.9925 - accuracy: 0.7778 - val_loss: 0.9522 - val_accuracy: 0.7778 - 37ms/epoch - 4ms/step\n",
      "Epoch 151/300\n",
      "9/9 - 0s - loss: 0.9798 - accuracy: 0.8444 - val_loss: 0.9630 - val_accuracy: 0.7778 - 36ms/epoch - 4ms/step\n",
      "Epoch 152/300\n",
      "9/9 - 0s - loss: 0.9708 - accuracy: 0.7667 - val_loss: 0.9426 - val_accuracy: 1.0000 - 43ms/epoch - 5ms/step\n",
      "Epoch 153/300\n",
      "9/9 - 0s - loss: 0.9633 - accuracy: 0.8444 - val_loss: 0.9400 - val_accuracy: 0.8889 - 37ms/epoch - 4ms/step\n",
      "Epoch 154/300\n",
      "9/9 - 0s - loss: 0.9682 - accuracy: 0.7778 - val_loss: 0.9304 - val_accuracy: 1.0000 - 38ms/epoch - 4ms/step\n",
      "Epoch 155/300\n",
      "9/9 - 0s - loss: 0.9626 - accuracy: 0.7778 - val_loss: 0.9260 - val_accuracy: 0.8889 - 35ms/epoch - 4ms/step\n",
      "Epoch 156/300\n",
      "9/9 - 0s - loss: 0.9528 - accuracy: 0.8000 - val_loss: 0.9227 - val_accuracy: 0.8889 - 38ms/epoch - 4ms/step\n",
      "Epoch 157/300\n",
      "9/9 - 0s - loss: 0.9503 - accuracy: 0.8556 - val_loss: 0.9180 - val_accuracy: 0.8889 - 37ms/epoch - 4ms/step\n",
      "Epoch 158/300\n",
      "9/9 - 0s - loss: 0.9420 - accuracy: 0.8667 - val_loss: 0.9109 - val_accuracy: 0.8889 - 36ms/epoch - 4ms/step\n",
      "Epoch 159/300\n",
      "9/9 - 0s - loss: 0.9457 - accuracy: 0.8556 - val_loss: 0.9056 - val_accuracy: 0.8889 - 37ms/epoch - 4ms/step\n",
      "Epoch 160/300\n",
      "9/9 - 0s - loss: 0.9362 - accuracy: 0.8667 - val_loss: 0.9022 - val_accuracy: 0.8889 - 37ms/epoch - 4ms/step\n",
      "Epoch 161/300\n",
      "9/9 - 0s - loss: 0.9264 - accuracy: 0.7889 - val_loss: 0.9007 - val_accuracy: 0.8889 - 35ms/epoch - 4ms/step\n",
      "Epoch 162/300\n",
      "9/9 - 0s - loss: 0.9174 - accuracy: 0.8556 - val_loss: 0.8909 - val_accuracy: 1.0000 - 37ms/epoch - 4ms/step\n",
      "Epoch 163/300\n",
      "9/9 - 0s - loss: 0.9281 - accuracy: 0.8444 - val_loss: 0.8902 - val_accuracy: 0.7778 - 37ms/epoch - 4ms/step\n",
      "Epoch 164/300\n",
      "9/9 - 0s - loss: 0.9108 - accuracy: 0.8444 - val_loss: 0.8836 - val_accuracy: 1.0000 - 37ms/epoch - 4ms/step\n",
      "Epoch 165/300\n",
      "9/9 - 0s - loss: 0.9098 - accuracy: 0.9111 - val_loss: 0.8780 - val_accuracy: 0.8889 - 38ms/epoch - 4ms/step\n",
      "Epoch 166/300\n",
      "9/9 - 0s - loss: 0.8970 - accuracy: 0.8778 - val_loss: 0.8735 - val_accuracy: 0.8889 - 35ms/epoch - 4ms/step\n",
      "Epoch 167/300\n",
      "9/9 - 0s - loss: 0.9146 - accuracy: 0.8000 - val_loss: 0.8695 - val_accuracy: 1.0000 - 39ms/epoch - 4ms/step\n",
      "Epoch 168/300\n",
      "9/9 - 0s - loss: 0.8917 - accuracy: 0.8444 - val_loss: 0.8659 - val_accuracy: 0.7778 - 38ms/epoch - 4ms/step\n",
      "Epoch 169/300\n",
      "9/9 - 0s - loss: 0.9063 - accuracy: 0.7667 - val_loss: 0.8646 - val_accuracy: 0.7778 - 36ms/epoch - 4ms/step\n",
      "Epoch 170/300\n",
      "9/9 - 0s - loss: 0.8956 - accuracy: 0.8111 - val_loss: 0.8550 - val_accuracy: 0.8889 - 38ms/epoch - 4ms/step\n",
      "Epoch 171/300\n",
      "9/9 - 0s - loss: 0.8798 - accuracy: 0.8556 - val_loss: 0.8539 - val_accuracy: 0.8889 - 37ms/epoch - 4ms/step\n",
      "Epoch 172/300\n",
      "9/9 - 0s - loss: 0.8814 - accuracy: 0.8667 - val_loss: 0.8464 - val_accuracy: 0.8889 - 38ms/epoch - 4ms/step\n",
      "Epoch 173/300\n",
      "9/9 - 0s - loss: 0.8723 - accuracy: 0.9111 - val_loss: 0.8437 - val_accuracy: 0.8889 - 44ms/epoch - 5ms/step\n",
      "Epoch 174/300\n",
      "9/9 - 0s - loss: 0.8625 - accuracy: 0.8667 - val_loss: 0.8443 - val_accuracy: 0.7778 - 38ms/epoch - 4ms/step\n",
      "Epoch 175/300\n",
      "9/9 - 0s - loss: 0.8733 - accuracy: 0.8000 - val_loss: 0.8337 - val_accuracy: 0.8889 - 37ms/epoch - 4ms/step\n",
      "Epoch 176/300\n",
      "9/9 - 0s - loss: 0.8603 - accuracy: 0.8111 - val_loss: 0.8350 - val_accuracy: 0.7778 - 38ms/epoch - 4ms/step\n",
      "Epoch 177/300\n",
      "9/9 - 0s - loss: 0.8637 - accuracy: 0.8444 - val_loss: 0.8299 - val_accuracy: 0.8889 - 37ms/epoch - 4ms/step\n",
      "Epoch 178/300\n",
      "9/9 - 0s - loss: 0.8541 - accuracy: 0.8333 - val_loss: 0.8209 - val_accuracy: 0.8889 - 37ms/epoch - 4ms/step\n",
      "Epoch 179/300\n",
      "9/9 - 0s - loss: 0.8316 - accuracy: 0.8889 - val_loss: 0.8214 - val_accuracy: 0.8889 - 45ms/epoch - 5ms/step\n",
      "Epoch 180/300\n",
      "9/9 - 0s - loss: 0.8442 - accuracy: 0.8222 - val_loss: 0.8150 - val_accuracy: 0.7778 - 38ms/epoch - 4ms/step\n",
      "Epoch 181/300\n",
      "9/9 - 0s - loss: 0.8355 - accuracy: 0.8889 - val_loss: 0.8063 - val_accuracy: 0.8889 - 38ms/epoch - 4ms/step\n",
      "Epoch 182/300\n",
      "9/9 - 0s - loss: 0.8276 - accuracy: 0.8889 - val_loss: 0.8056 - val_accuracy: 0.8889 - 38ms/epoch - 4ms/step\n",
      "Epoch 183/300\n",
      "9/9 - 0s - loss: 0.8322 - accuracy: 0.8444 - val_loss: 0.8031 - val_accuracy: 0.8889 - 38ms/epoch - 4ms/step\n",
      "Epoch 184/300\n",
      "9/9 - 0s - loss: 0.8335 - accuracy: 0.8222 - val_loss: 0.7953 - val_accuracy: 0.8889 - 38ms/epoch - 4ms/step\n",
      "Epoch 185/300\n",
      "9/9 - 0s - loss: 0.8214 - accuracy: 0.8111 - val_loss: 0.7945 - val_accuracy: 0.8889 - 38ms/epoch - 4ms/step\n",
      "Epoch 186/300\n",
      "9/9 - 0s - loss: 0.8116 - accuracy: 0.8333 - val_loss: 0.7938 - val_accuracy: 0.8889 - 37ms/epoch - 4ms/step\n",
      "Epoch 187/300\n",
      "9/9 - 0s - loss: 0.8044 - accuracy: 0.8333 - val_loss: 0.7887 - val_accuracy: 0.8889 - 37ms/epoch - 4ms/step\n",
      "Epoch 188/300\n",
      "9/9 - 0s - loss: 0.8167 - accuracy: 0.8778 - val_loss: 0.7889 - val_accuracy: 0.8889 - 38ms/epoch - 4ms/step\n",
      "Epoch 189/300\n",
      "9/9 - 0s - loss: 0.8278 - accuracy: 0.8556 - val_loss: 0.7735 - val_accuracy: 1.0000 - 37ms/epoch - 4ms/step\n",
      "Epoch 190/300\n",
      "9/9 - 0s - loss: 0.7963 - accuracy: 0.9222 - val_loss: 0.7688 - val_accuracy: 0.8889 - 38ms/epoch - 4ms/step\n",
      "Epoch 191/300\n",
      "9/9 - 0s - loss: 0.7918 - accuracy: 0.8667 - val_loss: 0.7693 - val_accuracy: 0.8889 - 42ms/epoch - 5ms/step\n",
      "Epoch 192/300\n",
      "9/9 - 0s - loss: 0.7963 - accuracy: 0.8111 - val_loss: 0.7598 - val_accuracy: 1.0000 - 37ms/epoch - 4ms/step\n",
      "Epoch 193/300\n",
      "9/9 - 0s - loss: 0.7780 - accuracy: 0.8667 - val_loss: 0.7623 - val_accuracy: 1.0000 - 41ms/epoch - 5ms/step\n",
      "Epoch 194/300\n",
      "9/9 - 0s - loss: 0.7723 - accuracy: 0.8556 - val_loss: 0.7669 - val_accuracy: 0.7778 - 42ms/epoch - 5ms/step\n",
      "Epoch 195/300\n",
      "9/9 - 0s - loss: 0.7852 - accuracy: 0.9000 - val_loss: 0.7529 - val_accuracy: 0.8889 - 37ms/epoch - 4ms/step\n",
      "Epoch 196/300\n",
      "9/9 - 0s - loss: 0.7689 - accuracy: 0.9111 - val_loss: 0.7526 - val_accuracy: 1.0000 - 38ms/epoch - 4ms/step\n",
      "Epoch 197/300\n",
      "9/9 - 0s - loss: 0.7796 - accuracy: 0.8778 - val_loss: 0.7576 - val_accuracy: 0.8889 - 38ms/epoch - 4ms/step\n",
      "Epoch 198/300\n",
      "9/9 - 0s - loss: 0.7700 - accuracy: 0.8667 - val_loss: 0.7379 - val_accuracy: 1.0000 - 38ms/epoch - 4ms/step\n",
      "Epoch 199/300\n",
      "9/9 - 0s - loss: 0.7686 - accuracy: 0.8889 - val_loss: 0.7359 - val_accuracy: 0.8889 - 39ms/epoch - 4ms/step\n",
      "Epoch 200/300\n",
      "9/9 - 0s - loss: 0.7584 - accuracy: 0.9222 - val_loss: 0.7315 - val_accuracy: 0.8889 - 37ms/epoch - 4ms/step\n",
      "Epoch 201/300\n",
      "9/9 - 0s - loss: 0.7621 - accuracy: 0.8778 - val_loss: 0.7308 - val_accuracy: 0.8889 - 39ms/epoch - 4ms/step\n",
      "Epoch 202/300\n",
      "9/9 - 0s - loss: 0.7417 - accuracy: 0.8778 - val_loss: 0.7440 - val_accuracy: 0.7778 - 35ms/epoch - 4ms/step\n"
     ]
    },
    {
     "name": "stdout",
     "output_type": "stream",
     "text": [
      "Epoch 203/300\n",
      "9/9 - 0s - loss: 0.7484 - accuracy: 0.8778 - val_loss: 0.7189 - val_accuracy: 0.8889 - 38ms/epoch - 4ms/step\n",
      "Epoch 204/300\n",
      "9/9 - 0s - loss: 0.7472 - accuracy: 0.8667 - val_loss: 0.7181 - val_accuracy: 0.8889 - 37ms/epoch - 4ms/step\n",
      "Epoch 205/300\n",
      "9/9 - 0s - loss: 0.7501 - accuracy: 0.8778 - val_loss: 0.7230 - val_accuracy: 0.8889 - 37ms/epoch - 4ms/step\n",
      "Epoch 206/300\n",
      "9/9 - 0s - loss: 0.7448 - accuracy: 0.8778 - val_loss: 0.7063 - val_accuracy: 1.0000 - 42ms/epoch - 5ms/step\n",
      "Epoch 207/300\n",
      "9/9 - 0s - loss: 0.7296 - accuracy: 0.8556 - val_loss: 0.7075 - val_accuracy: 0.8889 - 42ms/epoch - 5ms/step\n",
      "Epoch 208/300\n",
      "9/9 - 0s - loss: 0.7294 - accuracy: 0.8111 - val_loss: 0.6996 - val_accuracy: 1.0000 - 38ms/epoch - 4ms/step\n",
      "Epoch 209/300\n",
      "9/9 - 0s - loss: 0.7350 - accuracy: 0.8333 - val_loss: 0.6942 - val_accuracy: 1.0000 - 41ms/epoch - 5ms/step\n",
      "Epoch 210/300\n",
      "9/9 - 0s - loss: 0.7249 - accuracy: 0.9111 - val_loss: 0.7003 - val_accuracy: 0.8889 - 44ms/epoch - 5ms/step\n",
      "Epoch 211/300\n",
      "9/9 - 0s - loss: 0.7232 - accuracy: 0.8778 - val_loss: 0.6947 - val_accuracy: 1.0000 - 35ms/epoch - 4ms/step\n",
      "Epoch 212/300\n",
      "9/9 - 0s - loss: 0.7174 - accuracy: 0.9222 - val_loss: 0.6892 - val_accuracy: 0.8889 - 38ms/epoch - 4ms/step\n",
      "Epoch 213/300\n",
      "9/9 - 0s - loss: 0.7096 - accuracy: 0.9444 - val_loss: 0.6837 - val_accuracy: 0.8889 - 39ms/epoch - 4ms/step\n",
      "Epoch 214/300\n",
      "9/9 - 0s - loss: 0.7141 - accuracy: 0.8667 - val_loss: 0.6769 - val_accuracy: 1.0000 - 38ms/epoch - 4ms/step\n",
      "Epoch 215/300\n",
      "9/9 - 0s - loss: 0.7042 - accuracy: 0.8889 - val_loss: 0.6822 - val_accuracy: 0.8889 - 39ms/epoch - 4ms/step\n",
      "Epoch 216/300\n",
      "9/9 - 0s - loss: 0.6970 - accuracy: 0.8889 - val_loss: 0.6811 - val_accuracy: 0.8889 - 37ms/epoch - 4ms/step\n",
      "Epoch 217/300\n",
      "9/9 - 0s - loss: 0.6984 - accuracy: 0.9222 - val_loss: 0.6733 - val_accuracy: 0.8889 - 38ms/epoch - 4ms/step\n",
      "Epoch 218/300\n",
      "9/9 - 0s - loss: 0.6961 - accuracy: 0.9222 - val_loss: 0.6640 - val_accuracy: 0.8889 - 38ms/epoch - 4ms/step\n",
      "Epoch 219/300\n",
      "9/9 - 0s - loss: 0.6954 - accuracy: 0.9333 - val_loss: 0.6574 - val_accuracy: 1.0000 - 40ms/epoch - 4ms/step\n",
      "Epoch 220/300\n",
      "9/9 - 0s - loss: 0.6841 - accuracy: 0.9333 - val_loss: 0.6570 - val_accuracy: 1.0000 - 38ms/epoch - 4ms/step\n",
      "Epoch 221/300\n",
      "9/9 - 0s - loss: 0.6798 - accuracy: 0.8556 - val_loss: 0.6593 - val_accuracy: 1.0000 - 37ms/epoch - 4ms/step\n",
      "Epoch 222/300\n",
      "9/9 - 0s - loss: 0.6749 - accuracy: 0.9000 - val_loss: 0.6528 - val_accuracy: 0.8889 - 38ms/epoch - 4ms/step\n",
      "Epoch 223/300\n",
      "9/9 - 0s - loss: 0.6721 - accuracy: 0.8889 - val_loss: 0.6460 - val_accuracy: 0.8889 - 37ms/epoch - 4ms/step\n",
      "Epoch 224/300\n",
      "9/9 - 0s - loss: 0.6697 - accuracy: 0.9000 - val_loss: 0.6409 - val_accuracy: 1.0000 - 38ms/epoch - 4ms/step\n",
      "Epoch 225/300\n",
      "9/9 - 0s - loss: 0.6622 - accuracy: 0.9111 - val_loss: 0.6447 - val_accuracy: 1.0000 - 40ms/epoch - 4ms/step\n",
      "Epoch 226/300\n",
      "9/9 - 0s - loss: 0.6938 - accuracy: 0.8889 - val_loss: 0.6518 - val_accuracy: 0.7778 - 38ms/epoch - 4ms/step\n",
      "Epoch 227/300\n",
      "9/9 - 0s - loss: 0.6766 - accuracy: 0.9000 - val_loss: 0.6373 - val_accuracy: 1.0000 - 37ms/epoch - 4ms/step\n",
      "Epoch 228/300\n",
      "9/9 - 0s - loss: 0.6731 - accuracy: 0.9000 - val_loss: 0.6295 - val_accuracy: 0.8889 - 43ms/epoch - 5ms/step\n",
      "Epoch 229/300\n",
      "9/9 - 0s - loss: 0.6528 - accuracy: 0.9111 - val_loss: 0.6300 - val_accuracy: 0.8889 - 38ms/epoch - 4ms/step\n",
      "Epoch 230/300\n",
      "9/9 - 0s - loss: 0.6525 - accuracy: 0.9111 - val_loss: 0.6228 - val_accuracy: 1.0000 - 38ms/epoch - 4ms/step\n",
      "Epoch 231/300\n",
      "9/9 - 0s - loss: 0.6594 - accuracy: 0.9000 - val_loss: 0.6234 - val_accuracy: 0.8889 - 45ms/epoch - 5ms/step\n",
      "Epoch 232/300\n",
      "9/9 - 0s - loss: 0.6562 - accuracy: 0.8444 - val_loss: 0.6444 - val_accuracy: 0.7778 - 39ms/epoch - 4ms/step\n",
      "Epoch 233/300\n",
      "9/9 - 0s - loss: 0.6464 - accuracy: 0.9444 - val_loss: 0.6120 - val_accuracy: 1.0000 - 38ms/epoch - 4ms/step\n",
      "Epoch 234/300\n",
      "9/9 - 0s - loss: 0.6650 - accuracy: 0.8778 - val_loss: 0.6137 - val_accuracy: 0.8889 - 38ms/epoch - 4ms/step\n",
      "Epoch 235/300\n",
      "9/9 - 0s - loss: 0.6557 - accuracy: 0.8556 - val_loss: 0.6098 - val_accuracy: 0.8889 - 38ms/epoch - 4ms/step\n",
      "Epoch 236/300\n",
      "9/9 - 0s - loss: 0.6379 - accuracy: 0.9333 - val_loss: 0.6012 - val_accuracy: 1.0000 - 37ms/epoch - 4ms/step\n",
      "Epoch 237/300\n",
      "9/9 - 0s - loss: 0.6255 - accuracy: 0.9333 - val_loss: 0.5978 - val_accuracy: 1.0000 - 38ms/epoch - 4ms/step\n",
      "Epoch 238/300\n",
      "9/9 - 0s - loss: 0.6224 - accuracy: 0.9444 - val_loss: 0.5964 - val_accuracy: 1.0000 - 39ms/epoch - 4ms/step\n",
      "Epoch 239/300\n",
      "9/9 - 0s - loss: 0.6298 - accuracy: 0.9333 - val_loss: 0.6013 - val_accuracy: 1.0000 - 38ms/epoch - 4ms/step\n",
      "Epoch 240/300\n",
      "9/9 - 0s - loss: 0.6162 - accuracy: 0.9444 - val_loss: 0.5952 - val_accuracy: 1.0000 - 37ms/epoch - 4ms/step\n",
      "Epoch 241/300\n",
      "9/9 - 0s - loss: 0.6353 - accuracy: 0.9333 - val_loss: 0.6077 - val_accuracy: 0.7778 - 39ms/epoch - 4ms/step\n",
      "Epoch 242/300\n",
      "9/9 - 0s - loss: 0.6136 - accuracy: 0.9111 - val_loss: 0.5868 - val_accuracy: 0.8889 - 39ms/epoch - 4ms/step\n",
      "Epoch 243/300\n",
      "9/9 - 0s - loss: 0.6130 - accuracy: 0.8889 - val_loss: 0.5791 - val_accuracy: 1.0000 - 37ms/epoch - 4ms/step\n",
      "Epoch 244/300\n",
      "9/9 - 0s - loss: 0.6018 - accuracy: 0.9556 - val_loss: 0.5832 - val_accuracy: 1.0000 - 38ms/epoch - 4ms/step\n",
      "Epoch 245/300\n",
      "9/9 - 0s - loss: 0.6055 - accuracy: 0.9556 - val_loss: 0.5820 - val_accuracy: 0.8889 - 38ms/epoch - 4ms/step\n",
      "Epoch 246/300\n",
      "9/9 - 0s - loss: 0.6186 - accuracy: 0.8889 - val_loss: 0.5726 - val_accuracy: 0.8889 - 38ms/epoch - 4ms/step\n",
      "Epoch 247/300\n",
      "9/9 - 0s - loss: 0.6057 - accuracy: 0.9000 - val_loss: 0.5660 - val_accuracy: 1.0000 - 38ms/epoch - 4ms/step\n",
      "Epoch 248/300\n",
      "9/9 - 0s - loss: 0.6038 - accuracy: 0.9111 - val_loss: 0.5722 - val_accuracy: 1.0000 - 43ms/epoch - 5ms/step\n",
      "Epoch 249/300\n",
      "9/9 - 0s - loss: 0.6011 - accuracy: 0.9444 - val_loss: 0.5689 - val_accuracy: 0.8889 - 39ms/epoch - 4ms/step\n",
      "Epoch 250/300\n",
      "9/9 - 0s - loss: 0.5875 - accuracy: 0.9556 - val_loss: 0.5689 - val_accuracy: 0.8889 - 40ms/epoch - 4ms/step\n",
      "Epoch 251/300\n",
      "9/9 - 0s - loss: 0.5978 - accuracy: 0.9556 - val_loss: 0.5604 - val_accuracy: 1.0000 - 39ms/epoch - 4ms/step\n",
      "Epoch 252/300\n",
      "9/9 - 0s - loss: 0.5837 - accuracy: 0.9111 - val_loss: 0.5519 - val_accuracy: 1.0000 - 38ms/epoch - 4ms/step\n",
      "Epoch 253/300\n",
      "9/9 - 0s - loss: 0.6071 - accuracy: 0.8556 - val_loss: 0.5523 - val_accuracy: 1.0000 - 38ms/epoch - 4ms/step\n",
      "Epoch 254/300\n",
      "9/9 - 0s - loss: 0.5681 - accuracy: 0.9778 - val_loss: 0.5482 - val_accuracy: 1.0000 - 37ms/epoch - 4ms/step\n",
      "Epoch 255/300\n",
      "9/9 - 0s - loss: 0.5833 - accuracy: 0.9667 - val_loss: 0.5443 - val_accuracy: 1.0000 - 37ms/epoch - 4ms/step\n",
      "Epoch 256/300\n",
      "9/9 - 0s - loss: 0.5597 - accuracy: 0.9667 - val_loss: 0.5441 - val_accuracy: 0.8889 - 38ms/epoch - 4ms/step\n",
      "Epoch 257/300\n",
      "9/9 - 0s - loss: 0.5625 - accuracy: 0.9333 - val_loss: 0.5383 - val_accuracy: 1.0000 - 40ms/epoch - 4ms/step\n",
      "Epoch 258/300\n",
      "9/9 - 0s - loss: 0.5663 - accuracy: 0.9333 - val_loss: 0.5351 - val_accuracy: 1.0000 - 38ms/epoch - 4ms/step\n",
      "Epoch 259/300\n",
      "9/9 - 0s - loss: 0.5630 - accuracy: 0.9667 - val_loss: 0.5413 - val_accuracy: 1.0000 - 37ms/epoch - 4ms/step\n",
      "Epoch 260/300\n",
      "9/9 - 0s - loss: 0.5777 - accuracy: 0.9333 - val_loss: 0.5403 - val_accuracy: 1.0000 - 37ms/epoch - 4ms/step\n",
      "Epoch 261/300\n",
      "9/9 - 0s - loss: 0.5699 - accuracy: 0.9556 - val_loss: 0.5320 - val_accuracy: 1.0000 - 38ms/epoch - 4ms/step\n",
      "Epoch 262/300\n",
      "9/9 - 0s - loss: 0.5461 - accuracy: 0.9889 - val_loss: 0.5274 - val_accuracy: 1.0000 - 38ms/epoch - 4ms/step\n",
      "Epoch 263/300\n",
      "9/9 - 0s - loss: 0.5407 - accuracy: 0.9444 - val_loss: 0.5191 - val_accuracy: 1.0000 - 38ms/epoch - 4ms/step\n",
      "Epoch 264/300\n",
      "9/9 - 0s - loss: 0.5506 - accuracy: 0.9333 - val_loss: 0.5153 - val_accuracy: 1.0000 - 37ms/epoch - 4ms/step\n",
      "Epoch 265/300\n",
      "9/9 - 0s - loss: 0.5388 - accuracy: 0.9889 - val_loss: 0.5163 - val_accuracy: 0.8889 - 39ms/epoch - 4ms/step\n",
      "Epoch 266/300\n",
      "9/9 - 0s - loss: 0.5590 - accuracy: 0.9000 - val_loss: 0.5207 - val_accuracy: 0.8889 - 38ms/epoch - 4ms/step\n",
      "Epoch 267/300\n",
      "9/9 - 0s - loss: 0.5387 - accuracy: 0.9444 - val_loss: 0.5115 - val_accuracy: 1.0000 - 44ms/epoch - 5ms/step\n",
      "Epoch 268/300\n",
      "9/9 - 0s - loss: 0.5361 - accuracy: 0.9778 - val_loss: 0.5182 - val_accuracy: 1.0000 - 39ms/epoch - 4ms/step\n",
      "Epoch 269/300\n",
      "9/9 - 0s - loss: 0.5318 - accuracy: 0.9556 - val_loss: 0.4989 - val_accuracy: 1.0000 - 38ms/epoch - 4ms/step\n"
     ]
    },
    {
     "name": "stdout",
     "output_type": "stream",
     "text": [
      "Epoch 270/300\n",
      "9/9 - 0s - loss: 0.5255 - accuracy: 0.9667 - val_loss: 0.5139 - val_accuracy: 0.8889 - 37ms/epoch - 4ms/step\n",
      "Epoch 271/300\n",
      "9/9 - 0s - loss: 0.5384 - accuracy: 0.9333 - val_loss: 0.5359 - val_accuracy: 0.7778 - 38ms/epoch - 4ms/step\n",
      "Epoch 272/300\n",
      "9/9 - 0s - loss: 0.5453 - accuracy: 0.9000 - val_loss: 0.4994 - val_accuracy: 1.0000 - 38ms/epoch - 4ms/step\n",
      "Epoch 273/300\n",
      "9/9 - 0s - loss: 0.5247 - accuracy: 0.9111 - val_loss: 0.5011 - val_accuracy: 1.0000 - 36ms/epoch - 4ms/step\n",
      "Epoch 274/300\n",
      "9/9 - 0s - loss: 0.5123 - accuracy: 0.9889 - val_loss: 0.4888 - val_accuracy: 1.0000 - 35ms/epoch - 4ms/step\n",
      "Epoch 275/300\n",
      "9/9 - 0s - loss: 0.5236 - accuracy: 0.9333 - val_loss: 0.5052 - val_accuracy: 0.8889 - 38ms/epoch - 4ms/step\n",
      "Epoch 276/300\n",
      "9/9 - 0s - loss: 0.5157 - accuracy: 0.9111 - val_loss: 0.4832 - val_accuracy: 1.0000 - 36ms/epoch - 4ms/step\n",
      "Epoch 277/300\n",
      "9/9 - 0s - loss: 0.5043 - accuracy: 0.9667 - val_loss: 0.4913 - val_accuracy: 1.0000 - 37ms/epoch - 4ms/step\n",
      "Epoch 278/300\n",
      "9/9 - 0s - loss: 0.5085 - accuracy: 0.9556 - val_loss: 0.4836 - val_accuracy: 1.0000 - 38ms/epoch - 4ms/step\n",
      "Epoch 279/300\n",
      "9/9 - 0s - loss: 0.5288 - accuracy: 0.9556 - val_loss: 0.4794 - val_accuracy: 1.0000 - 37ms/epoch - 4ms/step\n",
      "Epoch 280/300\n",
      "9/9 - 0s - loss: 0.4853 - accuracy: 0.9556 - val_loss: 0.4979 - val_accuracy: 0.8889 - 35ms/epoch - 4ms/step\n",
      "Epoch 281/300\n",
      "9/9 - 0s - loss: 0.5096 - accuracy: 0.9333 - val_loss: 0.4721 - val_accuracy: 1.0000 - 39ms/epoch - 4ms/step\n",
      "Epoch 282/300\n",
      "9/9 - 0s - loss: 0.4926 - accuracy: 0.9556 - val_loss: 0.4840 - val_accuracy: 0.8889 - 36ms/epoch - 4ms/step\n",
      "Epoch 283/300\n",
      "9/9 - 0s - loss: 0.5095 - accuracy: 0.8778 - val_loss: 0.4664 - val_accuracy: 1.0000 - 36ms/epoch - 4ms/step\n",
      "Epoch 284/300\n",
      "9/9 - 0s - loss: 0.4906 - accuracy: 0.9556 - val_loss: 0.4808 - val_accuracy: 1.0000 - 37ms/epoch - 4ms/step\n",
      "Epoch 285/300\n",
      "9/9 - 0s - loss: 0.4960 - accuracy: 0.9333 - val_loss: 0.4752 - val_accuracy: 0.8889 - 37ms/epoch - 4ms/step\n",
      "Epoch 286/300\n",
      "9/9 - 0s - loss: 0.4927 - accuracy: 0.9556 - val_loss: 0.4599 - val_accuracy: 1.0000 - 36ms/epoch - 4ms/step\n",
      "Epoch 287/300\n",
      "9/9 - 0s - loss: 0.4783 - accuracy: 0.9778 - val_loss: 0.4529 - val_accuracy: 1.0000 - 37ms/epoch - 4ms/step\n",
      "Epoch 288/300\n",
      "9/9 - 0s - loss: 0.4801 - accuracy: 0.9111 - val_loss: 0.4574 - val_accuracy: 1.0000 - 36ms/epoch - 4ms/step\n",
      "Epoch 289/300\n",
      "9/9 - 0s - loss: 0.4692 - accuracy: 0.9667 - val_loss: 0.4543 - val_accuracy: 1.0000 - 36ms/epoch - 4ms/step\n",
      "Epoch 290/300\n",
      "9/9 - 0s - loss: 0.4699 - accuracy: 0.9556 - val_loss: 0.4595 - val_accuracy: 0.8889 - 44ms/epoch - 5ms/step\n",
      "Epoch 291/300\n",
      "9/9 - 0s - loss: 0.4719 - accuracy: 0.9444 - val_loss: 0.4611 - val_accuracy: 1.0000 - 37ms/epoch - 4ms/step\n",
      "Epoch 292/300\n",
      "9/9 - 0s - loss: 0.4659 - accuracy: 0.9889 - val_loss: 0.4470 - val_accuracy: 1.0000 - 36ms/epoch - 4ms/step\n",
      "Epoch 293/300\n",
      "9/9 - 0s - loss: 0.4668 - accuracy: 1.0000 - val_loss: 0.4698 - val_accuracy: 0.8889 - 37ms/epoch - 4ms/step\n",
      "Epoch 294/300\n",
      "9/9 - 0s - loss: 0.5172 - accuracy: 0.8444 - val_loss: 0.4385 - val_accuracy: 1.0000 - 38ms/epoch - 4ms/step\n",
      "Epoch 295/300\n",
      "9/9 - 0s - loss: 0.4688 - accuracy: 0.9444 - val_loss: 0.4384 - val_accuracy: 1.0000 - 40ms/epoch - 4ms/step\n",
      "Epoch 296/300\n",
      "9/9 - 0s - loss: 0.4536 - accuracy: 0.9222 - val_loss: 0.4382 - val_accuracy: 1.0000 - 37ms/epoch - 4ms/step\n",
      "Epoch 297/300\n",
      "9/9 - 0s - loss: 0.4659 - accuracy: 0.9333 - val_loss: 0.4410 - val_accuracy: 1.0000 - 38ms/epoch - 4ms/step\n",
      "Epoch 298/300\n",
      "9/9 - 0s - loss: 0.4706 - accuracy: 0.9556 - val_loss: 0.4390 - val_accuracy: 0.8889 - 38ms/epoch - 4ms/step\n",
      "Epoch 299/300\n",
      "9/9 - 0s - loss: 0.4784 - accuracy: 0.8889 - val_loss: 0.4450 - val_accuracy: 1.0000 - 37ms/epoch - 4ms/step\n",
      "Epoch 300/300\n",
      "9/9 - 0s - loss: 0.4575 - accuracy: 0.9556 - val_loss: 0.4237 - val_accuracy: 1.0000 - 36ms/epoch - 4ms/step\n"
     ]
    }
   ],
   "source": [
    "hist = model.fit(x_train, Y_train,\n",
    "                 epochs = 300,\n",
    "                 batch_size = 10,\n",
    "                 verbose = 2,  # 학습결과 출력 옵션 (0 : 출력없음, 1 : 기본값, 2 : epochs별 로그 상세 출력)\n",
    "                 validation_data = (x_val, Y_val)\n",
    "                )"
   ]
  },
  {
   "cell_type": "markdown",
   "id": "aa6a4aea",
   "metadata": {},
   "source": [
    "# 6. 모델 평가하기 (모델 학습 과정 살펴보고, evalute) "
   ]
  },
  {
   "cell_type": "code",
   "execution_count": 11,
   "id": "f26f6b54",
   "metadata": {},
   "outputs": [
    {
     "data": {
      "text/plain": [
       "dict_keys(['loss', 'accuracy', 'val_loss', 'val_accuracy'])"
      ]
     },
     "execution_count": 11,
     "metadata": {},
     "output_type": "execute_result"
    }
   ],
   "source": [
    "hist.history.keys()"
   ]
  },
  {
   "cell_type": "code",
   "execution_count": 12,
   "id": "cfe542c9",
   "metadata": {},
   "outputs": [
    {
     "data": {
      "image/png": "[encoded data removed]",
      "text/plain": [
       "<Figure size 1000x500 with 2 Axes>"
      ]
     },
     "metadata": {},
     "output_type": "display_data"
    }
   ],
   "source": [
    "# 모델 학습 과정 시각화\n",
    "\n",
    "import matplotlib.pyplot as plt\n",
    "\n",
    "fig, loss_ax = plt.subplots(figsize = (10, 5))\n",
    "loss_ax.plot(hist.history['loss'], 'y', label = 'train loss')\n",
    "loss_ax.plot(hist.history['val_loss'], 'r', label = 'val loss')\n",
    "loss_ax.set_xlabel('epoch')\n",
    "loss_ax.set_ylabel('loss')\n",
    "\n",
    "acc_ax = loss_ax.twinx()  # loss_ax와 x축을 공유하는 acc_ax 생성\n",
    "acc_ax.plot(hist.history['accuracy'], 'g', label = 'train accuracy')\n",
    "acc_ax.plot(hist.history['val_accuracy'], 'b', label = 'val accuracy')\n",
    "acc_ax.set_ylabel('accuracy')\n",
    "loss_ax.legend(loc = 'upper left')\n",
    "acc_ax.legend(loc = 'center right')\n",
    "plt.show()"
   ]
  },
  {
   "cell_type": "code",
   "execution_count": 13,
   "id": "2e40fa73",
   "metadata": {},
   "outputs": [
    {
     "name": "stdout",
     "output_type": "stream",
     "text": [
      "9/9 [==============================] - 0s 2ms/step - loss: 0.4237 - accuracy: 1.0000\n"
     ]
    }
   ],
   "source": [
    "# 모델 평가\n",
    "\n",
    "score = model.evaluate(x_test, Y_test, batch_size = 1)"
   ]
  },
  {
   "cell_type": "code",
   "execution_count": 14,
   "id": "24c7dd2e",
   "metadata": {},
   "outputs": [
    {
     "data": {
      "text/plain": [
       "[0.42372116446495056, 1.0]"
      ]
     },
     "execution_count": 14,
     "metadata": {},
     "output_type": "execute_result"
    }
   ],
   "source": [
    "score  # loss, accuracy"
   ]
  },
  {
   "cell_type": "code",
   "execution_count": 15,
   "id": "85d4cf36",
   "metadata": {},
   "outputs": [
    {
     "name": "stdout",
     "output_type": "stream",
     "text": [
      "평가된 loss : 0.42372116446495056\n",
      "평가된 accuracy 100.0 %\n"
     ]
    }
   ],
   "source": [
    "print('평가된 loss :', score[0])\n",
    "print('평가된 accuracy', score[1] * 100, '%')"
   ]
  },
  {
   "cell_type": "markdown",
   "id": "9c960a6d",
   "metadata": {},
   "source": [
    "# 7. 모델 사용하기"
   ]
  },
  {
   "cell_type": "code",
   "execution_count": 16,
   "id": "c70e47da",
   "metadata": {},
   "outputs": [
    {
     "name": "stdout",
     "output_type": "stream",
     "text": [
      "1/1 [==============================] - 0s 109ms/step\n"
     ]
    },
    {
     "data": {
      "text/plain": [
       "array([[1.3295818e-14, 3.9143707e-14, 1.0381143e-01, 2.0401247e-10,\n",
       "        7.6070291e-01, 3.4698357e-12, 1.3424899e-01, 1.2854505e-12,\n",
       "        1.2356644e-03, 6.7581583e-12, 1.0416888e-06, 5.4850700e-11,\n",
       "        7.5931073e-10, 7.4358987e-13, 1.4397116e-14, 2.9140483e-15,\n",
       "        5.3784441e-19, 5.1677684e-10, 1.8435466e-24]], dtype=float32)"
      ]
     },
     "execution_count": 16,
     "metadata": {},
     "output_type": "execute_result"
    }
   ],
   "source": [
    "H = model.predict(np.array([[2]]))\n",
    "H"
   ]
  },
  {
   "cell_type": "code",
   "execution_count": 17,
   "id": "5270f423",
   "metadata": {},
   "outputs": [
    {
     "name": "stdout",
     "output_type": "stream",
     "text": [
      "1/1 [==============================] - 0s 24ms/step\n"
     ]
    },
    {
     "data": {
      "text/plain": [
       "4"
      ]
     },
     "execution_count": 17,
     "metadata": {},
     "output_type": "execute_result"
    }
   ],
   "source": [
    "# 분류분석의 예측은 predict() 후 argmax()\n",
    "\n",
    "model.predict(np.array([[2]])).argmax()"
   ]
  },
  {
   "cell_type": "code",
   "execution_count": 18,
   "id": "d634c205",
   "metadata": {},
   "outputs": [
    {
     "data": {
      "text/plain": [
       "76.0702908039093"
      ]
     },
     "execution_count": 18,
     "metadata": {},
     "output_type": "execute_result"
    }
   ],
   "source": [
    "# 4를 몇 % 확률로 예측했는지\n",
    "\n",
    "H[0, H.argmax()] * 100"
   ]
  },
  {
   "cell_type": "markdown",
   "id": "917c58b8",
   "metadata": {},
   "source": [
    "# 8. 모델 저장하기"
   ]
  },
  {
   "cell_type": "code",
   "execution_count": 19,
   "id": "4308e677",
   "metadata": {},
   "outputs": [],
   "source": [
    "# model.save('model/02_deep.h5')\n",
    "\n",
    "from tensorflow.keras.models import save_model\n",
    "\n",
    "save_model(model, 'model/02_deep.h5')"
   ]
  },
  {
   "cell_type": "markdown",
   "id": "23b940ff",
   "metadata": {},
   "source": [
    "## 저장된 모델 사용하기"
   ]
  },
  {
   "cell_type": "code",
   "execution_count": 20,
   "id": "1393855b",
   "metadata": {},
   "outputs": [],
   "source": [
    "from tensorflow.keras.models import load_model\n",
    "\n",
    "model2 = load_model('model/02_deep.h5')"
   ]
  },
  {
   "cell_type": "code",
   "execution_count": 21,
   "id": "a86e9043",
   "metadata": {},
   "outputs": [
    {
     "name": "stdout",
     "output_type": "stream",
     "text": [
      "Model: \"sequential\"\n",
      "_________________________________________________________________\n",
      " Layer (type)                Output Shape              Param #   \n",
      "=================================================================\n",
      " dense (Dense)               (None, 38)                76        \n",
      "                                                                 \n",
      " dense_1 (Dense)             (None, 64)                2496      \n",
      "                                                                 \n",
      " dense_2 (Dense)             (None, 32)                2080      \n",
      "                                                                 \n",
      " dense_3 (Dense)             (None, 19)                627       \n",
      "                                                                 \n",
      "=================================================================\n",
      "Total params: 5,279\n",
      "Trainable params: 5,279\n",
      "Non-trainable params: 0\n",
      "_________________________________________________________________\n"
     ]
    }
   ],
   "source": [
    "model2.summary()"
   ]
  },
  {
   "cell_type": "code",
   "execution_count": 22,
   "id": "73c904c0",
   "metadata": {},
   "outputs": [
    {
     "name": "stdout",
     "output_type": "stream",
     "text": [
      "1/1 [==============================] - 0s 61ms/step\n"
     ]
    },
    {
     "data": {
      "text/plain": [
       "array([4, 6], dtype=int64)"
      ]
     },
     "execution_count": 22,
     "metadata": {},
     "output_type": "execute_result"
    }
   ],
   "source": [
    "data = np.array([[2], \n",
    "                 [3]])\n",
    "predictions = model2.predict(data)\n",
    "predictions.argmax(axis = -1)"
   ]
  },
  {
   "cell_type": "code",
   "execution_count": 23,
   "id": "1ec78d73",
   "metadata": {},
   "outputs": [],
   "source": [
    "def predict_classes(model, data) :\n",
    "    predictions = model.predict(data)\n",
    "    return predictions.argmax(axis = -1)"
   ]
  },
  {
   "cell_type": "code",
   "execution_count": 27,
   "id": "4c817f02",
   "metadata": {},
   "outputs": [],
   "source": [
    "import tensorflow as tf\n",
    "@tf.function(reduce_retracing = True)\n",
    "\n",
    "def predict_classes(model, data) :\n",
    "    predictions = model(data, training = False)\n",
    "    return tf.argmax(predictions, axis = -1)"
   ]
  },
  {
   "cell_type": "code",
   "execution_count": 28,
   "id": "e6cd7a8e",
   "metadata": {},
   "outputs": [
    {
     "name": "stdout",
     "output_type": "stream",
     "text": [
      "어떤 데이터를 예측할까요? 3\n",
      "예측된 분류는  tf.Tensor([6], shape=(1,), dtype=int64)\n"
     ]
    }
   ],
   "source": [
    "import numpy as np\n",
    "\n",
    "input_data = int(input('어떤 데이터를 예측할까요? '))\n",
    "data = np.array([[input_data]])\n",
    "print('예측된 분류는 ', predict_classes(model2, data))"
   ]
  }
 ],
 "metadata": {
  "kernelspec": {
   "display_name": "ml-dl-nlp",
   "language": "python",
   "name": "ml-dl-nlp"
  },
  "language_info": {
   "codemirror_mode": {
    "name": "ipython",
    "version": 3
   },
   "file_extension": ".py",
   "mimetype": "text/x-python",
   "name": "python",
   "nbconvert_exporter": "python",
   "pygments_lexer": "ipython3",
   "version": "3.10.18"
  },
  "toc": {
   "base_numbering": 1,
   "nav_menu": {},
   "number_sections": false,
   "sideBar": true,
   "skip_h1_title": false,
   "title_cell": "Table of Contents",
   "title_sidebar": "Contents",
   "toc_cell": false,
   "toc_position": {
    "height": "calc(100% - 180px)",
    "left": "10px",
    "top": "150px",
    "width": "223.55px"
   },
   "toc_section_display": true,
   "toc_window_display": true
  }
 },
 "nbformat": 4,
 "nbformat_minor": 5
}
