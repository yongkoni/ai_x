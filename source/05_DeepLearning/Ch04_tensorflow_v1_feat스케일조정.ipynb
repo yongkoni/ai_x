{
 "cells": [
  {
   "cell_type": "code",
   "execution_count": 1,
   "id": "632d29c1",
   "metadata": {},
   "outputs": [
    {
     "data": {
      "text/html": [
       "<style>\n",
       "div.container{width:86% !important;}\n",
       "div.cell.code_cell.rendered{width:100%;}\n",
       "div.CodeMirror {font-family:Consolas; font-size:12pt;}\n",
       "div.output {font-size:12pt; font-weight:bold;}\n",
       "div.input {font-family:Consolas; font-size:12pt;}\n",
       "div.prompt {min-width:70px;}\n",
       "div#toc-wrapper{padding-top:120px;}\n",
       "div.text_cell_render ul li{fontsize:12pt;padding:5px;}\n",
       "table.dataframe{font-size:12px;}))\n",
       "</style>\n"
      ],
      "text/plain": [
       "<IPython.core.display.HTML object>"
      ]
     },
     "metadata": {},
     "output_type": "display_data"
    }
   ],
   "source": [
    "from IPython.display import display, HTML\n",
    "display(HTML(\"\"\"<style>\n",
    "div.container{width:86% !important;}\n",
    "div.cell.code_cell.rendered{width:100%;}\n",
    "div.CodeMirror {font-family:Consolas; font-size:12pt;}\n",
    "div.output {font-size:12pt; font-weight:bold;}\n",
    "div.input {font-family:Consolas; font-size:12pt;}\n",
    "div.prompt {min-width:70px;}\n",
    "div#toc-wrapper{padding-top:120px;}\n",
    "div.text_cell_render ul li{fontsize:12pt;padding:5px;}\n",
    "table.dataframe{font-size:12px;}))\n",
    "</style>\n",
    "\"\"\"))"
   ]
  },
  {
   "cell_type": "markdown",
   "id": "6a501a8d",
   "metadata": {},
   "source": [
    "<font size=\"5\" color=\"red\">ch04 tensorflow v1 feat.스케일조정</font>"
   ]
  },
  {
   "cell_type": "markdown",
   "id": "b448d687",
   "metadata": {},
   "source": [
    "# 1. tensorflow v2.xx에서 v1 사용하기"
   ]
  },
  {
   "cell_type": "code",
   "execution_count": 2,
   "id": "47e2de7b",
   "metadata": {},
   "outputs": [
    {
     "name": "stdout",
     "output_type": "stream",
     "text": [
      "WARNING:tensorflow:From C:\\Users\\Admin\\anaconda3\\envs\\ml-dl-nlp\\lib\\site-packages\\tensorflow\\python\\compat\\v2_compat.py:107: disable_resource_variables (from tensorflow.python.ops.variable_scope) is deprecated and will be removed in a future version.\n",
      "Instructions for updating:\n",
      "non-resource variables are not supported in the long term\n"
     ]
    }
   ],
   "source": [
    "import numpy as np\n",
    "import pandas as pd\n",
    "import tensorflow.compat.v1 as tf\n",
    "\n",
    "tf.disable_v2_behavior()"
   ]
  },
  {
   "cell_type": "markdown",
   "id": "4bd3bd80",
   "metadata": {},
   "source": [
    "## tensorflow\n",
    "\n",
    "- 데이터 흐름 그래프(tensor객체의 흐름)\n",
    "- 이 그래프는 node(상수, 변수, 연산)와 edge로 구성\n",
    "- sess = tf.Session()으로 실행\n",
    "- sess.run()을 통해 값을 확인"
   ]
  },
  {
   "cell_type": "code",
   "execution_count": 3,
   "id": "e534c3ef",
   "metadata": {},
   "outputs": [
    {
     "name": "stdout",
     "output_type": "stream",
     "text": [
      "b'Hello, Tensorflow'\n"
     ]
    }
   ],
   "source": [
    "# tensor = data(상수, 변수)와 연산\n",
    "\n",
    "node1 = tf.constant('Hello, Tensorflow')\n",
    "sess = tf.Session()\n",
    "print(sess.run(node1))"
   ]
  },
  {
   "cell_type": "code",
   "execution_count": 4,
   "id": "7bf9f544",
   "metadata": {},
   "outputs": [
    {
     "name": "stdout",
     "output_type": "stream",
     "text": [
      "[10.0, 20.0, 30.0]\n"
     ]
    }
   ],
   "source": [
    "# 간단한 연산 tensor 그래프\n",
    "\n",
    "node1 = tf.constant(10, dtype = tf.float16)\n",
    "node2 = tf.constant(20, dtype = tf.float16)\n",
    "node3 = tf.add(node1, node2)\n",
    "sess = tf.Session()\n",
    "print(sess.run([node1, node2, node3]))"
   ]
  },
  {
   "cell_type": "code",
   "execution_count": 5,
   "id": "182f3b21",
   "metadata": {},
   "outputs": [
    {
     "data": {
      "text/plain": [
       "[array([1, 2, 3], dtype=int16), array([1., 2., 3.], dtype=float32)]"
      ]
     },
     "execution_count": 5,
     "metadata": {},
     "output_type": "execute_result"
    }
   ],
   "source": [
    "# 타입 변경\n",
    "\n",
    "node1 = tf.constant(np.array([1, 2, 3]), dtype = tf.int16)\n",
    "node2 = tf.cast(node1, dtype = tf.float32)\n",
    "sess = tf.Session()\n",
    "sess.run([node1, node2])"
   ]
  },
  {
   "cell_type": "code",
   "execution_count": 6,
   "id": "ef56835a",
   "metadata": {},
   "outputs": [
    {
     "data": {
      "text/plain": [
       "2.0"
      ]
     },
     "execution_count": 6,
     "metadata": {},
     "output_type": "execute_result"
    }
   ],
   "source": [
    "# 평균값 계산 : tf.reduce_mean()\n",
    "\n",
    "data = np.array([1., 2., 3.])\n",
    "tensor = tf.reduce_mean(data)\n",
    "sess = tf.Session()\n",
    "sess.run(tensor)"
   ]
  },
  {
   "cell_type": "code",
   "execution_count": 7,
   "id": "63e7d028",
   "metadata": {},
   "outputs": [
    {
     "data": {
      "text/plain": [
       "[array([0.07820129, 2.3041306 ], dtype=float32),\n",
       " array([-2.7589397], dtype=float32)]"
      ]
     },
     "execution_count": 7,
     "metadata": {},
     "output_type": "execute_result"
    }
   ],
   "source": [
    "# 랜덤값을 갖는 tensor\n",
    "\n",
    "a = tf.random_normal([2])  # 평균이 0, 표준편차가 1인 난수 실수 2개 (정규분포를 이루는 난수)\n",
    "b = tf.random_normal([1])\n",
    "sess = tf.Session()\n",
    "sess.run([a,b])"
   ]
  },
  {
   "cell_type": "code",
   "execution_count": 8,
   "id": "f673467f",
   "metadata": {},
   "outputs": [
    {
     "data": {
      "text/plain": [
       "array([-0.18657091], dtype=float32)"
      ]
     },
     "execution_count": 8,
     "metadata": {},
     "output_type": "execute_result"
    }
   ],
   "source": [
    "w = tf.Variable(tf.random.normal([1]))\n",
    "sess = tf.Session()\n",
    "sess.run(tf.global_variables_initializer())  # w변수의 난수 초기화\n",
    "sess.run(w)"
   ]
  },
  {
   "cell_type": "markdown",
   "id": "bf46d81e",
   "metadata": {},
   "source": [
    "# 2. tensorflow v1을 이용한 linear regression을 구현"
   ]
  },
  {
   "cell_type": "markdown",
   "id": "7d75dbb2",
   "metadata": {},
   "source": [
    "## 2.1 입력(독립)변수 x가 1개, 타겟(종속)변수 y가 1개"
   ]
  },
  {
   "cell_type": "code",
   "execution_count": 9,
   "id": "73a80e1e",
   "metadata": {},
   "outputs": [
    {
     "name": "stdout",
     "output_type": "stream",
     "text": [
      "0번째 cost:2.99391770362854, W:[1.1697425], b:[-0.8976649]\n",
      "200번째 cost:0.15031714737415314, W:[1.4492158], b:[-0.02117286]\n",
      "400번째 cost:0.05739843472838402, W:[1.277588], b:[0.3689772]\n",
      "600번째 cost:0.021917568519711494, W:[1.1715328], b:[0.6100659]\n",
      "800번째 cost:0.00836916919797659, W:[1.1059966], b:[0.75904477]\n",
      "1000번째 cost:0.0031957642640918493, W:[1.0654995], b:[0.85110426]\n",
      "1200번째 cost:0.0012203068472445011, W:[1.0404751], b:[0.9079913]\n",
      "1400번째 cost:0.0004659719706978649, W:[1.025011], b:[0.9431443]\n",
      "1600번째 cost:0.00017793162260204554, W:[1.0154554], b:[0.9648666]\n",
      "1800번째 cost:6.794383079977706e-05, W:[1.0095505], b:[0.9782895]\n",
      "2000번째 cost:2.5943581931642257e-05, W:[1.0059016], b:[0.9865845]\n",
      "2200번째 cost:9.906883860821836e-06, W:[1.0036469], b:[0.9917098]\n",
      "2400번째 cost:3.7831271129107336e-06, W:[1.0022537], b:[0.994877]\n",
      "2600번째 cost:1.4450932894760626e-06, W:[1.001393], b:[0.9968339]\n",
      "2800번째 cost:5.523017421182885e-07, W:[1.000861], b:[0.9980427]\n",
      "3000번째 cost:2.1121540783042292e-07, W:[1.0005326], b:[0.9987895]\n",
      "3200번째 cost:8.08789195616555e-08, W:[1.0003294], b:[0.9992509]\n",
      "3400번째 cost:3.1047701298803076e-08, W:[1.0002046], b:[0.99953604]\n",
      "3600번째 cost:1.1909591535186337e-08, W:[1.0001265], b:[0.99971247]\n",
      "3800번째 cost:4.585738455631372e-09, W:[1.0000784], b:[0.9998215]\n",
      "4000번째 cost:1.8177767069360584e-09, W:[1.0000495], b:[0.9998877]\n",
      "4200번째 cost:6.859141588044793e-10, W:[1.0000303], b:[0.999931]\n",
      "4400번째 cost:2.6039495559793124e-10, W:[1.0000188], b:[0.99995756]\n",
      "4600번째 cost:1.2351601685889335e-10, W:[1.0000131], b:[0.99997085]\n",
      "4800번째 cost:5.328478283606053e-11, W:[1.0000087], b:[0.9999811]\n",
      "5000번째 cost:5.328478283606053e-11, W:[1.0000087], b:[0.9999811]\n"
     ]
    }
   ],
   "source": [
    "x = np.array([1, 2, 3])\n",
    "y = np.array([2, 3, 4])\n",
    "\n",
    "# weight오 bias(처음엔 랜덤값으로 셋팅, 학습과정에서 변경)\n",
    "W = tf.Variable(tf.random.normal([1]), name = 'weight')\n",
    "b = tf.Variable(tf.random.normal([1]), name = 'bias')\n",
    "\n",
    "# Hypothesis : 예측값\n",
    "H = W * x + b\n",
    "\n",
    "#cost function(손실함수 = mse; 최소제곱법)\n",
    "cost = tf.reduce_mean(tf.square(H - y))\n",
    "\n",
    "'''\n",
    "학습목적 : cost가 최소가 되는 W, b를 찾아내는 것\n",
    "cost는 2차함수이므로 곡선그래프. 곡선위 미분값이 줄어드는 방향으로 학습(경사하강)\n",
    "=> GradientDescentOptimizer\n",
    "'''\n",
    "\n",
    "optimizer = tf.train.GradientDescentOptimizer(learning_rate = 0.01)\n",
    "train = optimizer.minimize(cost)\n",
    "\n",
    "# Session 생성\n",
    "sess = tf.Session()\n",
    "\n",
    "# W, b 변수 노드에 초기화\n",
    "sess.run(tf.global_variables_initializer())\n",
    "\n",
    "# 5000번 학습 (v2에서는 fit함수)\n",
    "for step in range(5001):\n",
    "    _, cost_val, W_val, b_val = sess.run([train, cost, W, b])\n",
    "    if step%200 == 0 :\n",
    "        print(\"{}번째 cost:{}, W:{}, b:{}\".format(step,\n",
    "                                               cost_val,\n",
    "                                               W_val,\n",
    "                                               b_val))"
   ]
  },
  {
   "cell_type": "code",
   "execution_count": 10,
   "id": "f71d55a4",
   "metadata": {},
   "outputs": [
    {
     "data": {
      "text/plain": [
       "[array([1.0000087], dtype=float32), array([0.9999811], dtype=float32)]"
      ]
     },
     "execution_count": 10,
     "metadata": {},
     "output_type": "execute_result"
    }
   ],
   "source": [
    "# 최종적으로 나온 회귀식 : H = W * x + b\n",
    "\n",
    "sess.run([W, b])"
   ]
  },
  {
   "cell_type": "code",
   "execution_count": 11,
   "id": "2c97762a",
   "metadata": {},
   "outputs": [
    {
     "data": {
      "text/plain": [
       "(1.0000087, 0.9999811)"
      ]
     },
     "execution_count": 11,
     "metadata": {},
     "output_type": "execute_result"
    }
   ],
   "source": [
    "W_, b_ = sess.run([W, b])\n",
    "W_[0], b_[0]"
   ]
  },
  {
   "cell_type": "code",
   "execution_count": 12,
   "id": "5c525ee4",
   "metadata": {},
   "outputs": [],
   "source": [
    "def predict(x) :\n",
    "    return W_[0] * x + b_[0]"
   ]
  },
  {
   "cell_type": "code",
   "execution_count": 13,
   "id": "484c984f",
   "metadata": {},
   "outputs": [
    {
     "name": "stdout",
     "output_type": "stream",
     "text": [
      "입력값은? 30\n",
      "예측값은 31.000242173671722\n"
     ]
    }
   ],
   "source": [
    "input_x = int(input('입력값은? '))\n",
    "print('예측값은', predict(input_x))"
   ]
  },
  {
   "cell_type": "markdown",
   "id": "8a5e119a",
   "metadata": {},
   "source": [
    "## 2.2 predict를 위한 placeholder이용\n",
    "\n",
    "- placeholder : 텐서플로우 외부에서 데이터를 입력받는 노드"
   ]
  },
  {
   "cell_type": "code",
   "execution_count": 14,
   "id": "ef41514a",
   "metadata": {},
   "outputs": [
    {
     "data": {
      "text/plain": [
       "array([2., 3., 4.], dtype=float16)"
      ]
     },
     "execution_count": 14,
     "metadata": {},
     "output_type": "execute_result"
    }
   ],
   "source": [
    "# x = np.array([1, 2, 3])\n",
    "x = tf.placeholder(tf.float16)\n",
    "H = 1 * x + 1\n",
    "sess = tf.Session()\n",
    "sess.run(H, feed_dict = {x:5})\n",
    "sess.run(H, feed_dict = {x:np.array([1, 2, 3])})"
   ]
  },
  {
   "cell_type": "code",
   "execution_count": 15,
   "id": "c12cf6ce",
   "metadata": {},
   "outputs": [
    {
     "name": "stdout",
     "output_type": "stream",
     "text": [
      "0째 : cost:51.249427795410156, W:[1.2702575], b:[0.07040393]\n",
      "200째 : cost:0.017478499561548233, W:[2.0449603], b:[0.75968856]\n",
      "400째 : cost:0.0017191311344504356, W:[2.0141003], b:[0.9246334]\n",
      "600째 : cost:0.00016909235273487866, W:[2.0044222], b:[0.9763636]\n",
      "800째 : cost:1.663162220211234e-05, W:[2.001387], b:[0.9925871]\n",
      "1000째 : cost:1.6359990695491433e-06, W:[2.0004349], b:[0.99767506]\n",
      "1200째 : cost:1.6083369303032669e-07, W:[2.0001366], b:[0.9992707]\n",
      "1400째 : cost:1.586149700472106e-08, W:[2.000043], b:[0.9997709]\n",
      "1600째 : cost:1.5636942851671165e-09, W:[2.0000136], b:[0.9999281]\n",
      "1800째 : cost:1.666762700081037e-10, W:[2.0000045], b:[0.9999762]\n",
      "2000째 : cost:2.1827872842550278e-11, W:[2.000002], b:[0.9999914]\n",
      "2200째 : cost:2.060005464821213e-11, W:[2.0000017], b:[0.99999213]\n",
      "2400째 : cost:2.060005464821213e-11, W:[2.0000017], b:[0.99999213]\n",
      "2600째 : cost:2.060005464821213e-11, W:[2.0000017], b:[0.99999213]\n",
      "2800째 : cost:2.060005464821213e-11, W:[2.0000017], b:[0.99999213]\n",
      "3000째 : cost:2.060005464821213e-11, W:[2.0000017], b:[0.99999213]\n",
      "3200째 : cost:2.060005464821213e-11, W:[2.0000017], b:[0.99999213]\n",
      "3400째 : cost:2.060005464821213e-11, W:[2.0000017], b:[0.99999213]\n",
      "3600째 : cost:2.060005464821213e-11, W:[2.0000017], b:[0.99999213]\n",
      "3800째 : cost:2.060005464821213e-11, W:[2.0000017], b:[0.99999213]\n",
      "4000째 : cost:2.060005464821213e-11, W:[2.0000017], b:[0.99999213]\n",
      "4200째 : cost:2.060005464821213e-11, W:[2.0000017], b:[0.99999213]\n",
      "4400째 : cost:2.060005464821213e-11, W:[2.0000017], b:[0.99999213]\n",
      "4600째 : cost:2.060005464821213e-11, W:[2.0000017], b:[0.99999213]\n",
      "4800째 : cost:2.060005464821213e-11, W:[2.0000017], b:[0.99999213]\n",
      "5000째 : cost:2.060005464821213e-11, W:[2.0000017], b:[0.99999213]\n"
     ]
    }
   ],
   "source": [
    "# H = 2 * x + 1\n",
    "x_data = np.array([1, 2, 3, 5, 8])\n",
    "y_data = np.array([3, 5, 7, 11, 17])\n",
    "\n",
    "# placeholder 설정 (입력변수 x, 타겟변수 y)\n",
    "x = tf.placeholder(dtype = tf.float32)\n",
    "y = tf.placeholder(dtype = tf.float32)\n",
    "\n",
    "# W, b\n",
    "W = tf.Variable(tf.random.normal([1]))\n",
    "b = tf.Variable(tf.random.normal([1]))\n",
    "\n",
    "# Hypothesis(예측값)\n",
    "H = W * x + b\n",
    "\n",
    "# 손실함수\n",
    "cost = tf.reduce_mean(tf.square(H - y))\n",
    "\n",
    "# 경사하강법\n",
    "train = tf.train.GradientDescentOptimizer(learning_rate = 0.01).minimize(cost)\n",
    "\n",
    "# Session 객체 생성\n",
    "sess = tf.Session()\n",
    "sess.run(tf.global_variables_initializer())  # W, b 초기화\n",
    "\n",
    "# 5000번 학습\n",
    "for step in range(5001) :\n",
    "    _, cost_val, W_val, b_val = sess.run([train, cost, W, b], \n",
    "                                         feed_dict = {x:x_data,\n",
    "                                                      y:y_data})\n",
    "    if step % 200 == 0 :\n",
    "        print('{}째 : cost:{}, W:{}, b:{}'.format(step, cost_val, W_val, b_val))"
   ]
  },
  {
   "cell_type": "code",
   "execution_count": 16,
   "id": "07f07e3a",
   "metadata": {},
   "outputs": [
    {
     "data": {
      "text/plain": [
       "array([11.000001], dtype=float32)"
      ]
     },
     "execution_count": 16,
     "metadata": {},
     "output_type": "execute_result"
    }
   ],
   "source": [
    "# 예측하기\n",
    "\n",
    "sess.run(H, feed_dict = {x:5})"
   ]
  },
  {
   "cell_type": "code",
   "execution_count": 17,
   "id": "f3504c4d",
   "metadata": {},
   "outputs": [
    {
     "data": {
      "text/plain": [
       "array([11.000001, 13.000002, 15.000004], dtype=float32)"
      ]
     },
     "execution_count": 17,
     "metadata": {},
     "output_type": "execute_result"
    }
   ],
   "source": [
    "sess.run(H, feed_dict = {x:np.array([5, 6, 7])})"
   ]
  },
  {
   "cell_type": "markdown",
   "id": "e2ba7689",
   "metadata": {},
   "source": [
    "## 2.3 scale이 다른 데이터의 linear regression 구현 (scale 조정 X)"
   ]
  },
  {
   "cell_type": "code",
   "execution_count": 18,
   "id": "2ada2b3f",
   "metadata": {},
   "outputs": [
    {
     "name": "stdout",
     "output_type": "stream",
     "text": [
      "0째 : cost:5207.97705078125, W:[7.6850157], b:[0.14308333]\n",
      "200째 : cost:83.57730865478516, W:[10.227563], b:[-0.8176562]\n",
      "400째 : cost:83.49102783203125, W:[10.279957], b:[-1.2055924]\n",
      "600째 : cost:83.48310089111328, W:[10.295826], b:[-1.3230947]\n",
      "800째 : cost:83.4823989868164, W:[10.300632], b:[-1.3586848]\n",
      "1000째 : cost:83.48233032226562, W:[10.302089], b:[-1.3694649]\n",
      "1200째 : cost:83.48233032226562, W:[10.302529], b:[-1.3727297]\n",
      "1400째 : cost:83.4823226928711, W:[10.302663], b:[-1.3737199]\n",
      "1600째 : cost:83.48233032226562, W:[10.302703], b:[-1.3740188]\n",
      "1800째 : cost:83.48231506347656, W:[10.302715], b:[-1.3741087]\n",
      "2000째 : cost:83.48233032226562, W:[10.302718], b:[-1.3741326]\n",
      "2200째 : cost:83.48233032226562, W:[10.302718], b:[-1.3741326]\n",
      "2400째 : cost:83.48233032226562, W:[10.302718], b:[-1.3741326]\n",
      "2600째 : cost:83.48233032226562, W:[10.302718], b:[-1.3741326]\n",
      "2800째 : cost:83.48233032226562, W:[10.302718], b:[-1.3741326]\n",
      "3000째 : cost:83.48233032226562, W:[10.302718], b:[-1.3741326]\n"
     ]
    }
   ],
   "source": [
    "x_data = np.array([1, 2, 5, 8, 10])\n",
    "y_data = np.array([3, 15, 68, 80, 95])\n",
    "\n",
    "# placeholder 설정 (입력변수 x, 타겟변수 y)\n",
    "x = tf.placeholder(dtype = tf.float32)\n",
    "y = tf.placeholder(dtype = tf.float32)\n",
    "\n",
    "# W, b\n",
    "W = tf.Variable(tf.random.normal([1]))\n",
    "b = tf.Variable(tf.random.normal([1]))\n",
    "\n",
    "# Hypothesis(예측값)\n",
    "H = W * x + b\n",
    "\n",
    "# 손실함수\n",
    "cost = tf.reduce_mean(tf.square(H - y))\n",
    "\n",
    "# 경사하강법\n",
    "train = tf.train.GradientDescentOptimizer(learning_rate = 0.01).minimize(cost)\n",
    "\n",
    "# Session 객체 생성\n",
    "sess = tf.Session()\n",
    "sess.run(tf.global_variables_initializer())  # W, b 초기화\n",
    "\n",
    "# 5000번 학습\n",
    "for step in range(3001) :\n",
    "    _, cost_val, W_val, b_val = sess.run([train, cost, W, b], \n",
    "                                         feed_dict = {x:x_data,\n",
    "                                                      y:y_data})\n",
    "    if step % 200 == 0 :\n",
    "        print('{}째 : cost:{}, W:{}, b:{}'.format(step, cost_val, W_val, b_val))"
   ]
  },
  {
   "cell_type": "code",
   "execution_count": 19,
   "id": "52d59e3f",
   "metadata": {},
   "outputs": [],
   "source": [
    "# cost값이 멈춤 : local 최소값"
   ]
  },
  {
   "cell_type": "markdown",
   "id": "56234d87",
   "metadata": {},
   "source": [
    "## 2.4 scale이 다른 데이터의 linear regression을 구현(조정O)\n",
    "\n",
    "```\n",
    "normalization(정규화) : 0~1로 조정 \n",
    "                    X - Xmin \n",
    "    normalization = ──────────── \n",
    "                    Xmax - Xmin \n",
    "* 위의 식을 써도 되지만 라이브러리를 씀(sklearn.preprocessing.MinMaxScaler이용)\n",
    "    \n",
    "standardization(표준화) : 평균0, 표준편차1로 조정 \n",
    "                        X - Xmean(평균) \n",
    "    standardization = ────────────────── \n",
    "                        Xstd(표준편차) \n",
    "* 위의 식을 써도 되지만 라이브러리를 씀(sklearn.preprocessing.StandardScaler이용)\n",
    "```"
   ]
  },
  {
   "cell_type": "code",
   "execution_count": 20,
   "id": "f38dc0cd",
   "metadata": {},
   "outputs": [
    {
     "name": "stdout",
     "output_type": "stream",
     "text": [
      "[0.         0.11111111 0.44444444 0.77777778 1.        ]\n",
      "[0.         0.13043478 0.70652174 0.83695652 1.        ]\n"
     ]
    }
   ],
   "source": [
    "# 라이브러리를 쓰지 않고 정규화\n",
    "\n",
    "x_data = np.array([1, 2, 5, 8, 10])\n",
    "y_data = np.array([3, 15, 68, 80, 95])\n",
    "scaled_x_data = (x_data - x_data.min() ) / (x_data.max() - x_data.min())\n",
    "scaled_y_data = (y_data - y_data.min() ) / (y_data.max() - y_data.min())\n",
    "print(scaled_x_data)\n",
    "print(scaled_y_data)"
   ]
  },
  {
   "cell_type": "code",
   "execution_count": 21,
   "id": "c1986bbc",
   "metadata": {},
   "outputs": [
    {
     "data": {
      "text/plain": [
       "array([[ 1.        ,  3.        ,  0.        ,  0.        ],\n",
       "       [ 2.        , 15.        ,  0.11111111,  0.13043478],\n",
       "       [ 5.        , 68.        ,  0.44444444,  0.70652174],\n",
       "       [ 8.        , 80.        ,  0.77777778,  0.83695652],\n",
       "       [10.        , 95.        ,  1.        ,  1.        ]])"
      ]
     },
     "execution_count": 21,
     "metadata": {},
     "output_type": "execute_result"
    }
   ],
   "source": [
    "# 라이브러리를 쓰고 정규화 (MinMaxScaler이용)\n",
    "\n",
    "from sklearn.preprocessing import MinMaxScaler\n",
    "\n",
    "x_data = np.array([1, 2, 5, 8, 10]).reshape(-1, 1)\n",
    "y_data = np.array([3, 15, 68, 80, 95]).reshape(-1, 1)\n",
    "# np.column_stack([x_data, y_data])\n",
    "scaler_x = MinMaxScaler()  # x_data를 정규화시킬 객체\n",
    "# scaler_x.fit(x_data)\n",
    "# scaled_x_data = scaler_x.transform(x_data)\n",
    "scaled_x_data = scaler_x.fit_transform(x_data)\n",
    "scaler_y = MinMaxScaler()  # y_data를 정규화시킬 객체\n",
    "scaled_y_data = scaler_y.fit_transform(y_data)\n",
    "np.column_stack([x_data, y_data, scaled_x_data, scaled_y_data])"
   ]
  },
  {
   "cell_type": "code",
   "execution_count": 22,
   "id": "57b3aa1d",
   "metadata": {},
   "outputs": [
    {
     "name": "stdout",
     "output_type": "stream",
     "text": [
      "0째 : cost:0.48494189977645874, W:[0.6449705], b:[-0.43969893]\n",
      "600째 : cost:0.034227948635816574, W:[0.8779144], b:[-0.02253924]\n",
      "1200째 : cost:0.011536134406924248, W:[0.9363784], b:[0.06739835]\n",
      "1800째 : cost:0.010290277190506458, W:[0.95498997], b:[0.08458965]\n",
      "2400째 : cost:0.01014421321451664, W:[0.9639654], b:[0.0858923]\n",
      "3000째 : cost:0.0100735854357481, W:[0.97015816], b:[0.08397309]\n",
      "3600째 : cost:0.010022173635661602, W:[0.9751821], b:[0.08162175]\n",
      "4200째 : cost:0.00998340267688036, W:[0.9794704], b:[0.07942443]\n",
      "4800째 : cost:0.009954089298844337, W:[0.9831812], b:[0.07747959]\n",
      "5400째 : cost:0.009931931272149086, W:[0.9864034], b:[0.07578085]\n",
      "6000째 : cost:0.009915177710354328, W:[0.9892045], b:[0.07430207]\n",
      "6600째 : cost:0.009902499616146088, W:[0.99164057], b:[0.07301581]\n",
      "7200째 : cost:0.009892923757433891, W:[0.993758], b:[0.07189723]\n",
      "7800째 : cost:0.009885680861771107, W:[0.9955994], b:[0.07092457]\n",
      "8400째 : cost:0.009880204685032368, W:[0.9972008], b:[0.07007884]\n",
      "9000째 : cost:0.009876064956188202, W:[0.998593], b:[0.06934344]\n",
      "9600째 : cost:0.009872930124402046, W:[0.99980426], b:[0.06870399]\n",
      "10200째 : cost:0.009870568290352821, W:[1.000855], b:[0.06814847]\n",
      "10800째 : cost:0.009868781082332134, W:[1.001768], b:[0.06766526]\n",
      "11400째 : cost:0.009867425076663494, W:[1.0025659], b:[0.06724498]\n",
      "12000째 : cost:0.009866403415799141, W:[1.0032537], b:[0.06688]\n"
     ]
    }
   ],
   "source": [
    "# placeholder 설정 (입력변수 x, 타겟변수 y)\n",
    "x = tf.placeholder(dtype = tf.float32)\n",
    "y = tf.placeholder(dtype = tf.float32)\n",
    "\n",
    "# W, b\n",
    "W = tf.Variable(tf.random.normal([1]))\n",
    "b = tf.Variable(tf.random.normal([1]))\n",
    "\n",
    "# Hypothesis(예측값)\n",
    "H = W * x + b\n",
    "\n",
    "# 손실함수\n",
    "cost = tf.reduce_mean(tf.square(H - y))\n",
    "\n",
    "# 경사하강법\n",
    "train = tf.train.GradientDescentOptimizer(learning_rate = 0.001).minimize(cost)\n",
    "\n",
    "# Session 객체 생성\n",
    "sess = tf.Session()\n",
    "sess.run(tf.global_variables_initializer())  # W, b 초기화\n",
    "\n",
    "# 12000번 학습\n",
    "for step in range(12001) :\n",
    "    _, cost_val, W_val, b_val = sess.run([train, cost, W, b], \n",
    "                                         feed_dict = {x:scaled_x_data,\n",
    "                                                      y:scaled_y_data})\n",
    "    if step % 600 == 0 :\n",
    "        print('{}째 : cost:{}, W:{}, b:{}'.format(step, cost_val, W_val, b_val))"
   ]
  },
  {
   "cell_type": "code",
   "execution_count": 23,
   "id": "def3eea8",
   "metadata": {},
   "outputs": [
    {
     "name": "stdout",
     "output_type": "stream",
     "text": [
      "모델 예측을 위한 입력 :\n",
      "[[0.11111111]\n",
      " [0.22222222]]\n",
      "모델 예측 결과 :\n",
      "[[0.17835264]\n",
      " [0.28982526]]\n",
      "결과 :\n",
      "[[19.408443]\n",
      " [29.663923]]\n"
     ]
    }
   ],
   "source": [
    "# 예측 : 모델에 scale 조정된 값으로 예측 → scale 조정된 y값\n",
    "\n",
    "scaled_input = scaler_x.transform(np.array([[2],\n",
    "                                            [3]]))\n",
    "print('모델 예측을 위한 입력 :', scaled_input, sep = '\\n')\n",
    "scaled_output = sess.run(H, feed_dict = {x:scaled_input})\n",
    "print('모델 예측 결과 :', scaled_output, sep = '\\n')\n",
    "print('결과 :', scaler_y.inverse_transform(scaled_output), sep = '\\n')"
   ]
  },
  {
   "cell_type": "code",
   "execution_count": 24,
   "id": "9e7359ff",
   "metadata": {},
   "outputs": [],
   "source": [
    "# x_data들의 예측값\n",
    "\n",
    "scaled_y_hat = sess.run(H, feed_dict = {x:scaled_x_data})\n",
    "y_hat = scaler_y.inverse_transform(scaled_y_hat)"
   ]
  },
  {
   "cell_type": "code",
   "execution_count": 25,
   "id": "1203ff9e",
   "metadata": {},
   "outputs": [
    {
     "data": {
      "image/png": "[encoded data removed]",
      "text/plain": [
       "<Figure size 640x480 with 1 Axes>"
      ]
     },
     "metadata": {},
     "output_type": "display_data"
    }
   ],
   "source": [
    "import matplotlib.pyplot as plt\n",
    "\n",
    "plt.plot(x_data, y_data, 'r')\n",
    "plt.plot(x_data, y_hat, 'b')\n",
    "plt.show()"
   ]
  },
  {
   "cell_type": "code",
   "execution_count": 26,
   "id": "24f269de",
   "metadata": {},
   "outputs": [
    {
     "name": "stdout",
     "output_type": "stream",
     "text": [
      "[[ 1  3]\n",
      " [ 2 15]\n",
      " [ 5 68]\n",
      " [ 8 80]\n",
      " [10 95]]\n",
      "[[-1.22474487 -1.34819316]\n",
      " [-0.93313895 -1.01936556]\n",
      " [-0.05832118  0.43295634]\n",
      " [ 0.81649658  0.76178394]\n",
      " [ 1.39970842  1.17281844]]\n"
     ]
    }
   ],
   "source": [
    "# 라이브러리를 쓰고 표준화 (StandardScaler 이용)\n",
    "\n",
    "from sklearn.preprocessing import StandardScaler\n",
    "\n",
    "x_data = np.array([1, 2, 5, 8, 10]).reshape(-1, 1)\n",
    "y_data = np.array([3, 15, 68, 80, 95]).reshape(-1, 1)\n",
    "\n",
    "scaler_x = StandardScaler()  # x_data를 표준화할 객체\n",
    "scaler_y = StandardScaler()  # y_data를 표준화할 객체\n",
    "scaled_x_data = scaler_x.fit_transform(x_data)\n",
    "scaled_y_data = scaler_y.fit_transform(y_data)\n",
    "print(np.column_stack([x_data, y_data]))\n",
    "print(np.column_stack([scaled_x_data, scaled_y_data]))"
   ]
  },
  {
   "cell_type": "code",
   "execution_count": 27,
   "id": "6709d224",
   "metadata": {},
   "outputs": [
    {
     "name": "stdout",
     "output_type": "stream",
     "text": [
      "0째 : cost:1.794394850730896, W:[-0.33330464], b:[-0.17608291]\n",
      "600째 : cost:0.21940569579601288, W:[0.5766301], b:[-0.05297148]\n",
      "1200째 : cost:0.07686900347471237, W:[0.8503675], b:[-0.01593553]\n",
      "1800째 : cost:0.06396926939487457, W:[0.9327172], b:[-0.00479391]\n",
      "2400째 : cost:0.06280185282230377, W:[0.957491], b:[-0.00144215]\n",
      "3000째 : cost:0.06269620358943939, W:[0.9649434], b:[-0.00043384]\n",
      "3600째 : cost:0.06268664449453354, W:[0.9671852], b:[-0.0001305]\n",
      "4200째 : cost:0.0626857727766037, W:[0.9678596], b:[-3.9250634e-05]\n",
      "4800째 : cost:0.06268571317195892, W:[0.96806186], b:[-1.1798915e-05]\n",
      "5400째 : cost:0.06268569082021713, W:[0.9681216], b:[-3.5408848e-06]\n",
      "6000째 : cost:0.06268569082021713, W:[0.96813506], b:[-1.0490863e-06]\n",
      "6600째 : cost:0.06268569827079773, W:[0.96813506], b:[-2.9545285e-07]\n",
      "7200째 : cost:0.06268568336963654, W:[0.96813506], b:[-6.934279e-08]\n",
      "7800째 : cost:0.06268569827079773, W:[0.96813506], b:[-9.99159e-09]\n",
      "8400째 : cost:0.06268569082021713, W:[0.96813506], b:[1.7635202e-08]\n",
      "9000째 : cost:0.06268569827079773, W:[0.96813506], b:[2.981718e-08]\n",
      "9600째 : cost:0.06268569827079773, W:[0.96813506], b:[2.9794828e-08]\n",
      "10200째 : cost:0.06268569827079773, W:[0.96813506], b:[2.982463e-08]\n",
      "10800째 : cost:0.06268569827079773, W:[0.96813506], b:[2.9802278e-08]\n",
      "11400째 : cost:0.06268569082021713, W:[0.96813506], b:[2.983208e-08]\n",
      "12000째 : cost:0.06268569827079773, W:[0.96813506], b:[2.980973e-08]\n"
     ]
    }
   ],
   "source": [
    "# placeholder 설정 (입력변수 x, 타겟변수 y)\n",
    "x = tf.placeholder(dtype = tf.float32)\n",
    "y = tf.placeholder(dtype = tf.float32)\n",
    "\n",
    "# W, b\n",
    "W = tf.Variable(tf.random.normal([1]))\n",
    "b = tf.Variable(tf.random.normal([1]))\n",
    "\n",
    "# Hypothesis(예측값)\n",
    "H = W * x + b\n",
    "\n",
    "# 손실함수\n",
    "cost = tf.reduce_mean(tf.square(H - y))\n",
    "\n",
    "# 경사하강법\n",
    "train = tf.train.GradientDescentOptimizer(learning_rate = 0.001).minimize(cost)\n",
    "\n",
    "# Session 객체 생성\n",
    "sess = tf.Session()\n",
    "sess.run(tf.global_variables_initializer())  # W, b 초기화\n",
    "\n",
    "# 12000번 학습\n",
    "for step in range(12001) :\n",
    "    _, cost_val, W_val, b_val = sess.run([train, cost, W, b], \n",
    "                                         feed_dict = {x:scaled_x_data,\n",
    "                                                      y:scaled_y_data})\n",
    "    if step % 600 == 0 :\n",
    "        print('{}째 : cost:{}, W:{}, b:{}'.format(step, cost_val, W_val, b_val))"
   ]
  },
  {
   "cell_type": "code",
   "execution_count": 28,
   "id": "5e495aca",
   "metadata": {},
   "outputs": [],
   "source": [
    "# x_data들의 예측값\n",
    "\n",
    "scaled_y_hat = sess.run(H, feed_dict = {x:scaled_x_data})\n",
    "y_hat = scaler_y.inverse_transform(scaled_y_hat)"
   ]
  },
  {
   "cell_type": "code",
   "execution_count": 29,
   "id": "71d34853",
   "metadata": {},
   "outputs": [
    {
     "data": {
      "image/png": "[encoded data removed]",
      "text/plain": [
       "<Figure size 640x480 with 1 Axes>"
      ]
     },
     "metadata": {},
     "output_type": "display_data"
    }
   ],
   "source": [
    "import matplotlib.pyplot as plt\n",
    "\n",
    "plt.plot(x_data, y_data, 'r')\n",
    "plt.plot(x_data, y_hat, 'b')\n",
    "plt.show()"
   ]
  },
  {
   "cell_type": "markdown",
   "id": "cb668229",
   "metadata": {},
   "source": [
    "## 2.5 입력(독립)변수 x가 3개, 타겟(종속)변수 y가 1개 (csv → array)"
   ]
  },
  {
   "cell_type": "code",
   "execution_count": 30,
   "id": "41a7884d",
   "metadata": {},
   "outputs": [
    {
     "data": {
      "text/plain": [
       "array([[ 41. , 190. ,   7.4,  67. ,   5. ,   1. ],\n",
       "       [ 36. , 118. ,   8. ,  72. ,   5. ,   2. ],\n",
       "       [ 12. , 149. ,  12.6,  74. ,   5. ,   3. ],\n",
       "       [ 18. , 313. ,  11.5,  62. ,   5. ,   4. ],\n",
       "       [  nan,   nan,  14.3,  56. ,   5. ,   5. ]])"
      ]
     },
     "execution_count": 30,
     "metadata": {},
     "output_type": "execute_result"
    }
   ],
   "source": [
    "# 방법 1 : csv → array\n",
    "\n",
    "import numpy as np\n",
    "\n",
    "#data = np.loadtxt('data/pima-indians-diabetes.csv', delimiter=',', encoding='utf-8')  # 결측치, header가 없어야 함\n",
    "data = np.genfromtxt('data/ozone.csv',\n",
    "                    delimiter = ',',\n",
    "                    skip_header = 1,\n",
    "                    missing_values = 'NA',\n",
    "                    filling_values = np.nan)\n",
    "data[:5]"
   ]
  },
  {
   "cell_type": "code",
   "execution_count": 31,
   "id": "636b4bd6",
   "metadata": {},
   "outputs": [
    {
     "name": "stdout",
     "output_type": "stream",
     "text": [
      "<class 'pandas.core.frame.DataFrame'>\n",
      "RangeIndex: 153 entries, 0 to 152\n",
      "Data columns (total 6 columns):\n",
      " #   Column   Non-Null Count  Dtype  \n",
      "---  ------   --------------  -----  \n",
      " 0   Ozone    116 non-null    float64\n",
      " 1   Solar.R  146 non-null    float64\n",
      " 2   Wind     153 non-null    float64\n",
      " 3   Temp     153 non-null    int64  \n",
      " 4   Month    153 non-null    int64  \n",
      " 5   Day      153 non-null    int64  \n",
      "dtypes: float64(3), int64(3)\n",
      "memory usage: 7.3 KB\n"
     ]
    },
    {
     "data": {
      "text/plain": [
       "Ozone      37\n",
       "Solar.R     7\n",
       "Wind        0\n",
       "Temp        0\n",
       "Month       0\n",
       "Day         0\n",
       "dtype: int64"
      ]
     },
     "execution_count": 31,
     "metadata": {},
     "output_type": "execute_result"
    }
   ],
   "source": [
    "# 방법 2 : csv파일 → 데이터프레임 → 결측치 처리 → 넘파이배열 → 머신러닝\n",
    "\n",
    "# 1. csv를 데이터프레임으로 읽기\n",
    "\n",
    "import pandas as pd\n",
    "\n",
    "data = pd.read_csv('data/ozone.csv')\n",
    "data.info()  # Ozone, Solar.R 열에만 결측치\n",
    "data.isna().sum()  # 열별 결측치 갯수"
   ]
  },
  {
   "cell_type": "code",
   "execution_count": 32,
   "id": "fbb98cc6",
   "metadata": {},
   "outputs": [
    {
     "data": {
      "text/html": [
       "<div>\n",
       "<style scoped>\n",
       "    .dataframe tbody tr th:only-of-type {\n",
       "        vertical-align: middle;\n",
       "    }\n",
       "\n",
       "    .dataframe tbody tr th {\n",
       "        vertical-align: top;\n",
       "    }\n",
       "\n",
       "    .dataframe thead th {\n",
       "        text-align: right;\n",
       "    }\n",
       "</style>\n",
       "<table border=\"1\" class=\"dataframe\">\n",
       "  <thead>\n",
       "    <tr style=\"text-align: right;\">\n",
       "      <th></th>\n",
       "      <th>Ozone</th>\n",
       "      <th>Solar.R</th>\n",
       "    </tr>\n",
       "    <tr>\n",
       "      <th>Month</th>\n",
       "      <th></th>\n",
       "      <th></th>\n",
       "    </tr>\n",
       "  </thead>\n",
       "  <tbody>\n",
       "    <tr>\n",
       "      <th>5</th>\n",
       "      <td>23.615385</td>\n",
       "      <td>181.296296</td>\n",
       "    </tr>\n",
       "    <tr>\n",
       "      <th>6</th>\n",
       "      <td>29.444444</td>\n",
       "      <td>190.166667</td>\n",
       "    </tr>\n",
       "    <tr>\n",
       "      <th>7</th>\n",
       "      <td>59.115385</td>\n",
       "      <td>216.483871</td>\n",
       "    </tr>\n",
       "    <tr>\n",
       "      <th>8</th>\n",
       "      <td>59.961538</td>\n",
       "      <td>171.857143</td>\n",
       "    </tr>\n",
       "    <tr>\n",
       "      <th>9</th>\n",
       "      <td>31.448276</td>\n",
       "      <td>167.433333</td>\n",
       "    </tr>\n",
       "  </tbody>\n",
       "</table>\n",
       "</div>"
      ],
      "text/plain": [
       "           Ozone     Solar.R\n",
       "Month                       \n",
       "5      23.615385  181.296296\n",
       "6      29.444444  190.166667\n",
       "7      59.115385  216.483871\n",
       "8      59.961538  171.857143\n",
       "9      31.448276  167.433333"
      ]
     },
     "metadata": {},
     "output_type": "display_data"
    },
    {
     "name": "stdout",
     "output_type": "stream",
     "text": [
      "5월에 Ozone으로 대체할 값 : 23.615384615384617\n"
     ]
    }
   ],
   "source": [
    "# 2. 결측치 처리\n",
    "\n",
    "# 결측치 처리 방법 1 : 결측치가 있는 행을 제거\n",
    "# data.dropna(how = 'any', axis = 0, inplace = True)\n",
    "\n",
    "# 결측치 처리 방법 2 : 결측치 대체(열별 평균값으로 대체)\n",
    "data.mean()  # 열별 평균\n",
    "# data.fillna(value = data.mean(), inplace = True)\n",
    "\n",
    "# 결측치 처리 방법 3 : 결측치 대체 (월별 열별 평균값으로 대체)\n",
    "mean_data = data.groupby('Month')[['Ozone', 'Solar.R']].mean()\n",
    "display(mean_data)\n",
    "print('5월에 Ozone으로 대체할 값 :', mean_data.loc[5, 'Ozone'])"
   ]
  },
  {
   "cell_type": "code",
   "execution_count": 33,
   "id": "cf033382",
   "metadata": {},
   "outputs": [
    {
     "data": {
      "text/html": [
       "<div>\n",
       "<style scoped>\n",
       "    .dataframe tbody tr th:only-of-type {\n",
       "        vertical-align: middle;\n",
       "    }\n",
       "\n",
       "    .dataframe tbody tr th {\n",
       "        vertical-align: top;\n",
       "    }\n",
       "\n",
       "    .dataframe thead th {\n",
       "        text-align: right;\n",
       "    }\n",
       "</style>\n",
       "<table border=\"1\" class=\"dataframe\">\n",
       "  <thead>\n",
       "    <tr style=\"text-align: right;\">\n",
       "      <th></th>\n",
       "      <th>Ozone</th>\n",
       "      <th>Solar.R</th>\n",
       "      <th>Wind</th>\n",
       "      <th>Temp</th>\n",
       "      <th>Month</th>\n",
       "      <th>Day</th>\n",
       "    </tr>\n",
       "  </thead>\n",
       "  <tbody>\n",
       "    <tr>\n",
       "      <th>4</th>\n",
       "      <td>NaN</td>\n",
       "      <td>NaN</td>\n",
       "      <td>14.3</td>\n",
       "      <td>56</td>\n",
       "      <td>5</td>\n",
       "      <td>5</td>\n",
       "    </tr>\n",
       "  </tbody>\n",
       "</table>\n",
       "</div>"
      ],
      "text/plain": [
       "   Ozone  Solar.R  Wind  Temp  Month  Day\n",
       "4    NaN      NaN  14.3    56      5    5"
      ]
     },
     "execution_count": 33,
     "metadata": {},
     "output_type": "execute_result"
    }
   ],
   "source": [
    "# 결측치가 있는 데이터\n",
    "\n",
    "data[data['Ozone'].isna() | data['Solar.R'].isna()].head(1)"
   ]
  },
  {
   "cell_type": "code",
   "execution_count": 34,
   "id": "9af3e523",
   "metadata": {},
   "outputs": [
    {
     "data": {
      "text/plain": [
       "Ozone       23.615385\n",
       "Solar.R    181.296296\n",
       "Wind        14.300000\n",
       "Temp        56.000000\n",
       "Month        5.000000\n",
       "Day          5.000000\n",
       "Name: 4, dtype: float64"
      ]
     },
     "execution_count": 34,
     "metadata": {},
     "output_type": "execute_result"
    }
   ],
   "source": [
    "def fill_nan(row) :\n",
    "    #print(row)\n",
    "    #print(row.isna())\n",
    "    'row[\"Ozone\"]이나 row[\"Solar.R\"]가 결측치면 mean_data[월, 열이름]으로 대체'\n",
    "    #if np.isna(row['Ozone']):\n",
    "    pd.options.mode.copy_on_write = True \n",
    "    # row = row.copy()\n",
    "    if row.isna()['Ozone'] :\n",
    "        row['Ozone'] = mean_data.loc[row.Month, 'Ozone']\n",
    "    if row.isna()['Solar.R'] :\n",
    "        row['Solar.R'] = mean_data.loc[row['Month'], 'Solar.R']\n",
    "    return row\n",
    "\n",
    "fill_nan(data.loc[4])"
   ]
  },
  {
   "cell_type": "code",
   "execution_count": 35,
   "id": "39d1de93",
   "metadata": {},
   "outputs": [
    {
     "data": {
      "text/plain": [
       "((153, 3), (153, 1))"
      ]
     },
     "execution_count": 35,
     "metadata": {},
     "output_type": "execute_result"
    }
   ],
   "source": [
    "data = data.apply(fill_nan, axis=1)\n",
    "X_data = data[['Solar.R', 'Wind', 'Temp']].values  # 독립변수\n",
    "y_data = data[['Ozone']].values  # 타겟변수\n",
    "X_data.shape, y_data.shape"
   ]
  },
  {
   "cell_type": "code",
   "execution_count": 36,
   "id": "6218ae35",
   "metadata": {},
   "outputs": [
    {
     "name": "stdout",
     "output_type": "stream",
     "text": [
      "1000번째 cost:671.7380981445312\n",
      "2000번째 cost:567.58447265625\n",
      "3000번째 cost:515.3715209960938\n",
      "4000번째 cost:489.1947021484375\n",
      "5000번째 cost:476.0687255859375\n",
      "6000번째 cost:469.4845886230469\n",
      "7000번째 cost:466.17962646484375\n",
      "8000번째 cost:464.5184326171875\n",
      "9000번째 cost:463.6813659667969\n",
      "10000번째 cost:463.2572021484375\n",
      "11000번째 cost:463.0400695800781\n",
      "12000번째 cost:462.9266662597656\n",
      "13000번째 cost:462.8653869628906\n",
      "14000번째 cost:462.830078125\n",
      "15000번째 cost:462.8078918457031\n",
      "16000번째 cost:462.792236328125\n",
      "17000번째 cost:462.7799072265625\n",
      "18000번째 cost:462.7691955566406\n",
      "19000번째 cost:462.7593078613281\n",
      "20000번째 cost:462.74993896484375\n",
      "최종 cost:462.74993896484375, W:[[ 0.05540153]\n",
      " [-3.5974615 ]\n",
      " [ 0.8532775 ]], b:[0.41561678]\n"
     ]
    }
   ],
   "source": [
    "# tensorflow 구현\n",
    "\n",
    "# 1. X, y\n",
    "X = tf.placeholder(shape = [None, 3], dtype = tf.float32)\n",
    "y = tf.placeholder(shape = [None, 1], dtype = tf.float32)\n",
    "\n",
    "# 2. 독립변수 3개, 타겟변수1개인 모델의 weight, bias\n",
    "W = tf.Variable(tf.random.normal([3, 1]))\n",
    "b = tf.Variable(tf.random_normal([1]))\n",
    "\n",
    "# 3. Hypothesis\n",
    "# H = X @ W + b\n",
    "H = tf.matmul(X, W) + b\n",
    "\n",
    "# 4. cost함수(손실함수) : mse\n",
    "cost = tf.reduce_mean(tf.square(H - y))\n",
    "\n",
    "# 5. train\n",
    "train = tf.train.GradientDescentOptimizer(learning_rate = 1e-5).minimize(cost)\n",
    "\n",
    "# sess 객체 생성 & W, b 초기화\n",
    "sess = tf.Session()\n",
    "sess.run(tf.global_variables_initializer())\n",
    "\n",
    "# 6. 학습\n",
    "for step in range(1, 20001) :\n",
    "    _, cost_val = sess.run([train, cost], feed_dict = {X:X_data,\n",
    "                                                       y:y_data})\n",
    "    if step % 1000 == 0 :\n",
    "        print(\"{}번째 cost:{}\".format(step, cost_val))\n",
    "print(\"최종 cost:{}, W:{}, b:{}\".format(cost_val,\n",
    "                                     sess.run(W),\n",
    "                                     sess.run(b)))"
   ]
  },
  {
   "cell_type": "code",
   "execution_count": 38,
   "id": "d685b6c5",
   "metadata": {},
   "outputs": [
    {
     "data": {
      "text/plain": [
       "array([[190. ,   7.4,  67. ,  41. ],\n",
       "       [118. ,   8. ,  72. ,  36. ],\n",
       "       [149. ,  12.6,  74. ,  12. ]])"
      ]
     },
     "execution_count": 38,
     "metadata": {},
     "output_type": "execute_result"
    }
   ],
   "source": [
    "np.column_stack([X_data, y_data])[:3]"
   ]
  },
  {
   "cell_type": "code",
   "execution_count": 39,
   "id": "58ef3958",
   "metadata": {},
   "outputs": [
    {
     "data": {
      "text/plain": [
       "array([[39.609287]], dtype=float32)"
      ]
     },
     "execution_count": 39,
     "metadata": {},
     "output_type": "execute_result"
    }
   ],
   "source": [
    "# 예측하기\n",
    "\n",
    "input_data = np.array([[118. , 8. ,72.]])\n",
    "sess.run(H, feed_dict = {X:input_data})"
   ]
  },
  {
   "cell_type": "markdown",
   "id": "3ee66e3a",
   "metadata": {},
   "source": [
    "### 스케일 조정\n",
    "```\n",
    "    MinMaxScaler, StandardScaler\n",
    "       0 ~ 1        -2 ~ 2 (주로 0 근처)\n",
    "```"
   ]
  },
  {
   "cell_type": "code",
   "execution_count": 40,
   "id": "6ec93e0a",
   "metadata": {},
   "outputs": [
    {
     "data": {
      "text/plain": [
       "((153, 3), (153, 1))"
      ]
     },
     "execution_count": 40,
     "metadata": {},
     "output_type": "execute_result"
    }
   ],
   "source": [
    "from sklearn.preprocessing import MinMaxScaler\n",
    "\n",
    "x_scaler = MinMaxScaler()\n",
    "y_scaler = MinMaxScaler()\n",
    "scaled_X_data = x_scaler.fit_transform(X_data)\n",
    "scaled_y_data = y_scaler.fit_transform(y_data)\n",
    "scaled_X_data.shape, scaled_y_data.shape"
   ]
  },
  {
   "cell_type": "code",
   "execution_count": 41,
   "id": "04b35082",
   "metadata": {},
   "outputs": [
    {
     "data": {
      "text/plain": [
       "array([[0.55963303, 0.3       , 0.26829268, 0.23952096],\n",
       "       [0.33944954, 0.33157895, 0.3902439 , 0.20958084]])"
      ]
     },
     "execution_count": 41,
     "metadata": {},
     "output_type": "execute_result"
    }
   ],
   "source": [
    "np.column_stack([scaled_X_data, scaled_y_data])[:2]"
   ]
  },
  {
   "cell_type": "code",
   "execution_count": 42,
   "id": "3c37ad06",
   "metadata": {},
   "outputs": [
    {
     "name": "stdout",
     "output_type": "stream",
     "text": [
      "1000번째 cost:13.838584899902344\n",
      "2000번째 cost:12.884317398071289\n",
      "3000번째 cost:11.996190071105957\n",
      "4000번째 cost:11.169634819030762\n",
      "5000번째 cost:10.40039348602295\n",
      "6000번째 cost:9.684471130371094\n",
      "7000번째 cost:9.018172264099121\n",
      "8000번째 cost:8.398053169250488\n",
      "9000번째 cost:7.820930004119873\n",
      "10000번째 cost:7.2838053703308105\n",
      "11000번째 cost:6.783914566040039\n",
      "12000번째 cost:6.318668365478516\n",
      "13000번째 cost:5.885682582855225\n",
      "14000번째 cost:5.482698917388916\n",
      "15000번째 cost:5.1076507568359375\n",
      "16000번째 cost:4.758589267730713\n",
      "17000번째 cost:4.433730125427246\n",
      "18000번째 cost:4.131380081176758\n",
      "19000번째 cost:3.849984645843506\n",
      "20000번째 cost:3.5880916118621826\n",
      "21000번째 cost:3.3443443775177\n",
      "22000번째 cost:3.1174957752227783\n",
      "23000번째 cost:2.9063594341278076\n",
      "24000번째 cost:2.70986270904541\n",
      "25000번째 cost:2.5269765853881836\n",
      "26000번째 cost:2.3567657470703125\n",
      "27000번째 cost:2.1983442306518555\n",
      "28000번째 cost:2.0508954524993896\n",
      "29000번째 cost:1.9136661291122437\n",
      "30000번째 cost:1.7859426736831665\n",
      "최종 cost:1.7859426736831665, W:[[ 1.2104748 ]\n",
      " [-0.9807955 ]\n",
      " [ 0.36000976]], b:[1.1006824]\n"
     ]
    }
   ],
   "source": [
    "# tensorflow 구현\n",
    "\n",
    "# 1. X, y\n",
    "X = tf.placeholder(shape = [None, 3], dtype = tf.float32)\n",
    "y = tf.placeholder(shape = [None, 1], dtype = tf.float32)\n",
    "\n",
    "# 2. 독립변수 3개, 타겟변수1개인 모델의 weight, bias\n",
    "W = tf.Variable(tf.random.normal([3, 1]))\n",
    "b = tf.Variable(tf.random_normal([1]))\n",
    "\n",
    "# 3. Hypothesis\n",
    "# H = X @ W + b\n",
    "H = tf.matmul(X, W) + b\n",
    "\n",
    "# 4. cost함수(손실함수) : mse\n",
    "cost = tf.reduce_mean(tf.square(H - y))\n",
    "\n",
    "# 5. train\n",
    "train = tf.train.GradientDescentOptimizer(learning_rate = 1e-5).minimize(cost)\n",
    "\n",
    "# sess 객체 생성 & W, b 초기화\n",
    "sess = tf.Session()\n",
    "sess.run(tf.global_variables_initializer())\n",
    "\n",
    "# 6. 학습\n",
    "for step in range(1, 30001) :\n",
    "    _, cost_val = sess.run([train, cost], feed_dict = {X:scaled_X_data,\n",
    "                                                       y:scaled_y_data})\n",
    "    if step % 1000 == 0 :\n",
    "        print(\"{}번째 cost:{}\".format(step, cost_val))\n",
    "print(\"최종 cost:{}, W:{}, b:{}\".format(cost_val,\n",
    "                                     sess.run(W),\n",
    "                                     sess.run(b)))"
   ]
  },
  {
   "cell_type": "code",
   "execution_count": 43,
   "id": "b6596241",
   "metadata": {},
   "outputs": [
    {
     "data": {
      "text/plain": [
       "array([[264.9357]], dtype=float32)"
      ]
     },
     "execution_count": 43,
     "metadata": {},
     "output_type": "execute_result"
    }
   ],
   "source": [
    "# 예측하기\n",
    "\n",
    "input_data = np.array([[190. ,7.4, 67.]])\n",
    "scaled_y_hat = sess.run(H, feed_dict={X:x_scaler.transform(input_data)})\n",
    "y_scaler.inverse_transform(scaled_y_hat)"
   ]
  },
  {
   "cell_type": "markdown",
   "id": "53661b4c",
   "metadata": {},
   "source": [
    "# 3. 이진분류 = logistic Regression (분류분석)\n",
    "\n",
    "- logistic 회귀분석 : 기본의 회귀분석과 다른 처리 필요"
   ]
  },
  {
   "cell_type": "code",
   "execution_count": 44,
   "id": "0f59ba6b",
   "metadata": {},
   "outputs": [
    {
     "data": {
      "text/plain": [
       "<matplotlib.collections.PathCollection at 0x2342ec7df90>"
      ]
     },
     "execution_count": 44,
     "metadata": {},
     "output_type": "execute_result"
    },
    {
     "data": {
      "image/png": "[encoded data removed]",
      "text/plain": [
       "<Figure size 640x480 with 1 Axes>"
      ]
     },
     "metadata": {},
     "output_type": "display_data"
    }
   ],
   "source": [
    "from scipy import stats\n",
    "import matplotlib.pyplot as plt\n",
    "\n",
    "x = np.array([1, 2, 5, 8, 10])\n",
    "y = np.array([0, 0, 0, 1, 1])  # 실제값\n",
    "lm = stats.linregress(x, y)  # 기울기(W)와 y절편(b)\n",
    "H = lm[0] * x + lm[1]\n",
    "plt.plot(x, H, 'r')\n",
    "plt.scatter(x, y)"
   ]
  },
  {
   "cell_type": "code",
   "execution_count": 45,
   "id": "b189cb4c",
   "metadata": {},
   "outputs": [
    {
     "data": {
      "text/plain": [
       "<matplotlib.collections.PathCollection at 0x2342eb52710>"
      ]
     },
     "execution_count": 45,
     "metadata": {},
     "output_type": "execute_result"
    },
    {
     "data": {
      "image/png": "[encoded data removed]",
      "text/plain": [
       "<Figure size 640x480 with 1 Axes>"
      ]
     },
     "metadata": {},
     "output_type": "display_data"
    }
   ],
   "source": [
    "x = np.array([1, 2, 5, 8, 10, 40])\n",
    "y = np.array([0, 0, 0, 1, 1, 1])  # 실제값\n",
    "lm = stats.linregress(x, y)  # 기울기(W)와 y절편(b)\n",
    "H = lm[0] * x + lm[1]\n",
    "plt.plot(x, H, 'r')\n",
    "plt.scatter(x, y)"
   ]
  },
  {
   "cell_type": "code",
   "execution_count": 46,
   "id": "a9334399",
   "metadata": {},
   "outputs": [
    {
     "name": "stdout",
     "output_type": "stream",
     "text": [
      "800번째 cost:0.20616865158081055\n",
      "1600번째 cost:0.1635892391204834\n",
      "2400번째 cost:0.13835717737674713\n",
      "3200번째 cost:0.12007175385951996\n",
      "4000번째 cost:0.10590565949678421\n",
      "4800번째 cost:0.09456232935190201\n",
      "5600번째 cost:0.085281603038311\n",
      "6400번째 cost:0.07756274193525314\n",
      "7200번째 cost:0.07105503976345062\n",
      "8000번째 cost:0.06550396233797073\n"
     ]
    }
   ],
   "source": [
    "# 교안 50pt\n",
    "\n",
    "import numpy as np\n",
    "\n",
    "X_data = np.array([[10, 0],\n",
    "                   [8, 1],\n",
    "                   [3, 3],\n",
    "                   [2, 3],\n",
    "                   [5, 1],\n",
    "                   [2, 0],\n",
    "                   [1, 0]])\n",
    "y_data = np.array([[1], [1], [1], [1], [0], [0], [0],])\n",
    "\n",
    "# tensorflow 구현(tensor 그래프)\n",
    "X = tf.placeholder(shape=[None, 2], dtype = tf.float32)\n",
    "y = tf.placeholder(shape=[None, 1], dtype = tf.float32)\n",
    "\n",
    "# 독립변수가 2개, 종속변수가 1개의 weight, bias\n",
    "W = tf.Variable(tf.random.normal([2, 1]))\n",
    "b = tf.Variable(tf.random.normal([1]))\n",
    "\n",
    "# Hypothesis\n",
    "logits = tf.matmul(X, W) + b\n",
    "H = tf.sigmoid(logits)\n",
    "\n",
    "# cost 함수\n",
    "# cost = tf.reduce_mean(tf.square(H-y))\n",
    "cost = tf.reduce_mean(tf.nn.sigmoid_cross_entropy_with_logits(logits = logits,\n",
    "                                                             labels = y))\n",
    "# train\n",
    "train = tf.train.GradientDescentOptimizer(learning_rate = 0.1).minimize(cost)\n",
    "\n",
    "# sess객체 생성\n",
    "sess = tf.Session()\n",
    "sess.run(tf.global_variables_initializer())\n",
    "\n",
    "# 학습\n",
    "for step in range(1, 8001) :\n",
    "    _, cost_val = sess.run([train, cost], feed_dict = {X:X_data,\n",
    "                                                       y:y_data})\n",
    "    if step % 800 == 0 :\n",
    "        print(\"{}번째 cost:{}\".format(step, cost_val))"
   ]
  },
  {
   "cell_type": "code",
   "execution_count": 47,
   "id": "32201759",
   "metadata": {},
   "outputs": [
    {
     "data": {
      "text/plain": [
       "array([[1.]], dtype=float32)"
      ]
     },
     "execution_count": 47,
     "metadata": {},
     "output_type": "execute_result"
    }
   ],
   "source": [
    "# 모델 사용\n",
    "\n",
    "input_data = np.array([[5, 2]])\n",
    "predict = tf.cast(H >= 0.5, dtype = tf.float32)\n",
    "sess.run(predict, feed_dict = {X:input_data})"
   ]
  },
  {
   "cell_type": "code",
   "execution_count": 48,
   "id": "bdfc60c0",
   "metadata": {},
   "outputs": [
    {
     "name": "stdout",
     "output_type": "stream",
     "text": [
      "모델 정확도 : 1.0\n"
     ]
    }
   ],
   "source": [
    "# accuracy\n",
    "\n",
    "correct = tf.equal(predict, y)\n",
    "sess.run(correct, feed_dict = {X:X_data,\n",
    "                               y:y_data})\n",
    "accuracy = tf.reduce_mean(tf.cast(correct, dtype = tf.float32))\n",
    "print('모델 정확도 :', sess.run(accuracy, feed_dict = {X:X_data,\n",
    "                                                     y:y_data}))"
   ]
  },
  {
   "cell_type": "markdown",
   "id": "0c34c583",
   "metadata": {},
   "source": [
    "# 4. XOR"
   ]
  },
  {
   "cell_type": "code",
   "execution_count": 49,
   "id": "2d552b55",
   "metadata": {},
   "outputs": [
    {
     "name": "stdout",
     "output_type": "stream",
     "text": [
      "0번째 cost:0.8828741312026978\n",
      "1000번째 cost:0.7060294151306152\n",
      "2000번째 cost:0.6976680755615234\n",
      "3000번째 cost:0.6948224306106567\n",
      "4000번째 cost:0.6937994360923767\n",
      "5000번째 cost:0.6934125423431396\n",
      "6000번째 cost:0.6932590007781982\n",
      "7000번째 cost:0.6931955218315125\n",
      "8000번째 cost:0.6931684613227844\n"
     ]
    }
   ],
   "source": [
    "X_data = np.array([[0, 0],\n",
    "                   [0, 1],\n",
    "                   [1, 0],\n",
    "                   [1, 1]])\n",
    "y_data = np.array([[0], [1], [1], [0]])\n",
    "\n",
    "# X, y\n",
    "X = tf.placeholder(shape = [None, 2], dtype = tf.float32)\n",
    "y = tf.placeholder(shape = [None, 1], dtype = tf.float32)\n",
    "\n",
    "# 독립변수가 2개, 종속변수가 1개 W, b\n",
    "W = tf.Variable(tf.random.normal([2, 1]))\n",
    "b = tf.Variable(tf.random.normal([1]))\n",
    "\n",
    "# H\n",
    "logits = tf.matmul(X, W) + b\n",
    "H = tf.sigmoid(logits)\n",
    "\n",
    "# cost\n",
    "cost = tf.reduce_mean(tf.nn.sigmoid_cross_entropy_with_logits(logits = logits,\n",
    "                                                              labels = y))\n",
    "\n",
    "# train\n",
    "train = tf.train.GradientDescentOptimizer(learning_rate = 0.01).minimize(cost)\n",
    "\n",
    "# sess 객체 생성\n",
    "sess = tf.Session()\n",
    "sess.run(tf.global_variables_initializer())\n",
    "\n",
    "# 학습\n",
    "for step in range(8001) :\n",
    "    _, cost_val = sess.run([train, cost], feed_dict = {X:X_data,\n",
    "                                                       y:y_data})\n",
    "    if step % 1000 == 0 :\n",
    "        print(\"{}번째 cost:{}\".format(step, cost_val))"
   ]
  },
  {
   "cell_type": "code",
   "execution_count": 50,
   "id": "ce2fb74b",
   "metadata": {},
   "outputs": [
    {
     "name": "stdout",
     "output_type": "stream",
     "text": [
      "모델 정확도 : 0.5\n"
     ]
    }
   ],
   "source": [
    "# accuracy\n",
    "\n",
    "predict = tf.cast(H >= 0.5, dtype = tf.float32)\n",
    "correct = tf.equal(predict, y)\n",
    "sess.run(correct, feed_dict = {X:X_data,\n",
    "                               y:y_data})\n",
    "accuracy = tf.reduce_mean( tf.cast(correct, dtype = tf.float32))\n",
    "print('모델 정확도 :', sess.run(accuracy, feed_dict = {X:X_data,\n",
    "                                                     y:y_data}))"
   ]
  },
  {
   "cell_type": "markdown",
   "id": "e50c3be2",
   "metadata": {},
   "source": [
    "# 5. Deep Learning XOR 예제"
   ]
  },
  {
   "cell_type": "code",
   "execution_count": 51,
   "id": "3fd9466a",
   "metadata": {},
   "outputs": [
    {
     "name": "stdout",
     "output_type": "stream",
     "text": [
      "0번째 cost:1.0391710996627808\n",
      "1000번째 cost:0.5380903482437134\n",
      "2000번째 cost:0.39390307664871216\n",
      "3000번째 cost:0.26144635677337646\n",
      "4000번째 cost:0.1680639386177063\n",
      "5000번째 cost:0.11158210039138794\n",
      "6000번째 cost:0.07828463613986969\n",
      "7000번째 cost:0.057943496853113174\n",
      "8000번째 cost:0.04482625424861908\n",
      "9000번째 cost:0.03587302193045616\n",
      "10000번째 cost:0.0286430511623621\n"
     ]
    }
   ],
   "source": [
    "X_data = np.array([[0, 0],\n",
    "                   [0, 1],\n",
    "                   [1, 0],\n",
    "                   [1, 1]])\n",
    "y_data = np.array([[0], [1], [1], [0]])\n",
    "\n",
    "# X, y\n",
    "X = tf.placeholder(shape = [None, 2], dtype = tf.float32)\n",
    "y = tf.placeholder(shape = [None, 1], dtype = tf.float32)\n",
    "\n",
    "# layer1 : (입력 2, 출력 4)\n",
    "W1 = tf.Variable(tf.random.normal([2, 4]))\n",
    "b1 = tf.Variable(tf.random.normal([4]))\n",
    "\n",
    "# H\n",
    "layer1 = tf.nn.relu(tf.matmul(X, W1) + b1)\n",
    "\n",
    "# layer2 : (입력 4, 출력 1)\n",
    "W2 = tf.Variable(tf.random.normal([4, 1]))\n",
    "b2 = tf.Variable(tf.random.normal([1]))\n",
    "\n",
    "# H\n",
    "logits = tf.matmul(layer1, W2) + b2\n",
    "H = tf.sigmoid(logits)\n",
    "\n",
    "# cost\n",
    "cost = tf.reduce_mean(tf.nn.sigmoid_cross_entropy_with_logits(logits = logits,\n",
    "                                                             labels = y))\n",
    "\n",
    "# train\n",
    "train = tf.train.GradientDescentOptimizer(learning_rate = 0.01).minimize(cost)\n",
    "\n",
    "# sess 객체 생성\n",
    "sess = tf.Session()\n",
    "sess.run(tf.global_variables_initializer())\n",
    "\n",
    "# 학습\n",
    "for step in range(10001) :\n",
    "    _, cost_val = sess.run([train, cost], feed_dict = {X:X_data,\n",
    "                                                       y:y_data})\n",
    "    if step % 1000 == 0 :\n",
    "        print(\"{}번째 cost:{}\".format(step, cost_val))"
   ]
  },
  {
   "cell_type": "code",
   "execution_count": 52,
   "id": "2c8172f1",
   "metadata": {},
   "outputs": [
    {
     "name": "stdout",
     "output_type": "stream",
     "text": [
      "모델 정확도 : 1.0\n"
     ]
    }
   ],
   "source": [
    "# accuracy\n",
    "\n",
    "predict = tf.cast(H >= 0.5, dtype = tf.float32)\n",
    "correct = tf.equal(predict, y)\n",
    "sess.run(correct, feed_dict = {X:X_data,\n",
    "                               y:y_data})\n",
    "accuracy = tf.reduce_mean(tf.cast(correct, dtype = tf.float32))\n",
    "print('모델 정확도 :', sess.run(accuracy, feed_dict = {X:X_data,\n",
    "                                                     y:y_data}))"
   ]
  },
  {
   "cell_type": "markdown",
   "id": "8dbc242f",
   "metadata": {},
   "source": [
    "## layer 층 x_data 2개 → 4 → 1을\n",
    "## layer층 x_data 2개 → 10 → 20 → 10 → 1\n",
    "                     입력층   hidden layer(relu)  출력층(sigmoid)"
   ]
  },
  {
   "cell_type": "code",
   "execution_count": 53,
   "id": "05927a32",
   "metadata": {},
   "outputs": [
    {
     "name": "stdout",
     "output_type": "stream",
     "text": [
      "0번째 cost:4.732914924621582\n",
      "100번째 cost:0.16747578978538513\n",
      "200번째 cost:0.13851507008075714\n",
      "300번째 cost:0.12393417209386826\n"
     ]
    }
   ],
   "source": [
    "X_data = np.array([[0, 0],\n",
    "                   [0, 1],\n",
    "                   [1, 0],\n",
    "                   [1, 1]])\n",
    "y_data = np.array([[0], [1], [1], [0]])\n",
    "\n",
    "# X, y\n",
    "X = tf.placeholder(shape = [None, 2], dtype = tf.float32)\n",
    "y = tf.placeholder(shape = [None, 1], dtype = tf.float32)\n",
    "\n",
    "# layer1 (입력층 relu) : 입력 2, 출력 10\n",
    "W1 = tf.Variable(tf.random.normal([2, 10]))\n",
    "b1 = tf.Variable(tf.random.normal([10]))\n",
    "\n",
    "# H\n",
    "layer1 = tf.nn.relu(tf.matmul(X, W1) + b1)\n",
    "\n",
    "# layer2 (은닉층 relu) : 입력 10, 출력 20\n",
    "W2 = tf.Variable(tf.random.normal([10, 20]))\n",
    "b2 = tf.Variable(tf.random.normal([20]))\n",
    "\n",
    "# H\n",
    "layer2 = tf.nn.relu(tf.matmul(layer1, W2) + b2)\n",
    "\n",
    "# layer3 (은닉층 relu) : 입력 20, 출력 10\n",
    "W3 = tf.Variable(tf.random.normal([20, 10]))\n",
    "b3 = tf.Variable(tf.random.normal([10]))\n",
    "\n",
    "# H\n",
    "layer3 = tf.nn.relu(tf.matmul(layer2, W3) + b3)\n",
    "\n",
    "# layer4 (출력층 이진분류에서는 sigmoid, 일반분류에서는 softmax) : 입력 10, 출력 1\n",
    "W4 = tf.Variable(tf.random.normal([10, 1]))\n",
    "b4 = tf.Variable(tf.random.normal([1]))\n",
    "\n",
    "# H\n",
    "logits = tf.matmul(layer3, W4) + b4\n",
    "H = tf.sigmoid(logits)\n",
    "\n",
    "# cost\n",
    "cost = tf.reduce_mean(tf.nn.sigmoid_cross_entropy_with_logits(logits = logits,\n",
    "                                                             labels = y))\n",
    "\n",
    "# train\n",
    "train = tf.train.GradientDescentOptimizer(learning_rate = 0.01).minimize(cost)\n",
    "\n",
    "# sess 객체 생성\n",
    "sess = tf.Session()\n",
    "sess.run(tf.global_variables_initializer())\n",
    "\n",
    "# 학습\n",
    "for step in range(301) :\n",
    "    _, cost_val = sess.run([train, cost], feed_dict = {X:X_data,\n",
    "                                                       y:y_data})\n",
    "    if step % 100 == 0 :\n",
    "        print(\"{}번째 cost:{}\".format(step, cost_val))"
   ]
  },
  {
   "cell_type": "code",
   "execution_count": 54,
   "id": "0917bfbf",
   "metadata": {},
   "outputs": [
    {
     "name": "stdout",
     "output_type": "stream",
     "text": [
      "모델 정확도 : 1.0\n"
     ]
    }
   ],
   "source": [
    "# accuracy\n",
    "\n",
    "predict = tf.cast(H >= 0.5, dtype = tf.float32)\n",
    "correct = tf.equal(predict, y)\n",
    "sess.run(correct, feed_dict = {X:X_data,\n",
    "                               y:y_data})\n",
    "accuracy = tf.reduce_mean(tf.cast(correct, dtype = tf.float32))\n",
    "print('모델 정확도 :', sess.run(accuracy, feed_dict = {X:X_data,\n",
    "                                                     y:y_data}))"
   ]
  }
 ],
 "metadata": {
  "kernelspec": {
   "display_name": "ml-dl-nlp",
   "language": "python",
   "name": "ml-dl-nlp"
  },
  "language_info": {
   "codemirror_mode": {
    "name": "ipython",
    "version": 3
   },
   "file_extension": ".py",
   "mimetype": "text/x-python",
   "name": "python",
   "nbconvert_exporter": "python",
   "pygments_lexer": "ipython3",
   "version": "3.10.18"
  },
  "toc": {
   "base_numbering": 1,
   "nav_menu": {},
   "number_sections": false,
   "sideBar": true,
   "skip_h1_title": false,
   "title_cell": "Table of Contents",
   "title_sidebar": "Contents",
   "toc_cell": false,
   "toc_position": {
    "height": "calc(100% - 180px)",
    "left": "10px",
    "top": "150px",
    "width": "267.55px"
   },
   "toc_section_display": true,
   "toc_window_display": true
  }
 },
 "nbformat": 4,
 "nbformat_minor": 5
}
