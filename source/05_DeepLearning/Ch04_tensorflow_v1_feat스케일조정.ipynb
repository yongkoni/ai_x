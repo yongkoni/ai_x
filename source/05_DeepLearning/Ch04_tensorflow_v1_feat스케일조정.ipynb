{
 "cells": [
  {
   "cell_type": "code",
   "execution_count": 5,
   "id": "632d29c1",
   "metadata": {},
   "outputs": [
    {
     "data": {
      "text/html": [
       "<style>\n",
       "div.container{width:86% !important;}\n",
       "div.cell.code_cell.rendered{width:100%;}\n",
       "div.CodeMirror {font-family:Consolas; font-size:12pt;}\n",
       "div.output {font-size:12pt; font-weight:bold;}\n",
       "div.input {font-family:Consolas; font-size:12pt;}\n",
       "div.prompt {min-width:70px;}\n",
       "div#toc-wrapper{padding-top:120px;}\n",
       "div.text_cell_render ul li{fontsize:12pt;padding:5px;}\n",
       "table.dataframe{font-size:12px;}))\n",
       "</style>\n"
      ],
      "text/plain": [
       "<IPython.core.display.HTML object>"
      ]
     },
     "metadata": {},
     "output_type": "display_data"
    }
   ],
   "source": [
    "from IPython.display import display, HTML\n",
    "display(HTML(\"\"\"<style>\n",
    "div.container{width:86% !important;}\n",
    "div.cell.code_cell.rendered{width:100%;}\n",
    "div.CodeMirror {font-family:Consolas; font-size:12pt;}\n",
    "div.output {font-size:12pt; font-weight:bold;}\n",
    "div.input {font-family:Consolas; font-size:12pt;}\n",
    "div.prompt {min-width:70px;}\n",
    "div#toc-wrapper{padding-top:120px;}\n",
    "div.text_cell_render ul li{fontsize:12pt;padding:5px;}\n",
    "table.dataframe{font-size:12px;}))\n",
    "</style>\n",
    "\"\"\"))"
   ]
  },
  {
   "cell_type": "markdown",
   "id": "6a501a8d",
   "metadata": {},
   "source": [
    "<font size=\"5\" color=\"red\">ch04 tensorflow v1 feat.스케일조정</font>"
   ]
  },
  {
   "cell_type": "markdown",
   "id": "b448d687",
   "metadata": {},
   "source": [
    "# 1. tensorflow v2.xx에서 v1 사용하기"
   ]
  },
  {
   "cell_type": "code",
   "execution_count": 4,
   "id": "47e2de7b",
   "metadata": {},
   "outputs": [
    {
     "name": "stdout",
     "output_type": "stream",
     "text": [
      "WARNING:tensorflow:From C:\\Users\\Admin\\anaconda3\\envs\\ml-dl-nlp\\lib\\site-packages\\tensorflow\\python\\compat\\v2_compat.py:107: disable_resource_variables (from tensorflow.python.ops.variable_scope) is deprecated and will be removed in a future version.\n",
      "Instructions for updating:\n",
      "non-resource variables are not supported in the long term\n"
     ]
    }
   ],
   "source": [
    "import numpy as np\n",
    "import pandas as pd\n",
    "import tensorflow.compat.v1 as tf\n",
    "\n",
    "tf.disable_v2_behavior()"
   ]
  },
  {
   "cell_type": "markdown",
   "id": "4bd3bd80",
   "metadata": {},
   "source": [
    "## tensorflow\n",
    "\n",
    "- 데이터 흐름 그래프(tensor객체의 흐름)\n",
    "- 이 그래프는 node(상수, 변수, 연산)와 edge로 구성\n",
    "- sess = tf.Session()으로 실행\n",
    "- sess.run()을 통해 값을 확인"
   ]
  },
  {
   "cell_type": "code",
   "execution_count": 6,
   "id": "e534c3ef",
   "metadata": {},
   "outputs": [
    {
     "name": "stdout",
     "output_type": "stream",
     "text": [
      "b'Hello, Tensorflow'\n"
     ]
    }
   ],
   "source": [
    "# tensor = data(상수, 변수)와 연산\n",
    "\n",
    "node1 = tf.constant('Hello, Tensorflow')\n",
    "sess = tf.Session()\n",
    "print(sess.run(node1))"
   ]
  },
  {
   "cell_type": "code",
   "execution_count": 7,
   "id": "7bf9f544",
   "metadata": {},
   "outputs": [
    {
     "name": "stdout",
     "output_type": "stream",
     "text": [
      "[10.0, 20.0, 30.0]\n"
     ]
    }
   ],
   "source": [
    "# 간단한 연산 tensor 그래프\n",
    "\n",
    "node1 = tf.constant(10, dtype = tf.float16)\n",
    "node2 = tf.constant(20, dtype = tf.float16)\n",
    "node3 = tf.add(node1, node2)\n",
    "sess = tf.Session()\n",
    "print(sess.run([node1, node2, node3]))"
   ]
  },
  {
   "cell_type": "code",
   "execution_count": 8,
   "id": "182f3b21",
   "metadata": {},
   "outputs": [
    {
     "data": {
      "text/plain": [
       "[array([1, 2, 3], dtype=int16), array([1., 2., 3.], dtype=float32)]"
      ]
     },
     "execution_count": 8,
     "metadata": {},
     "output_type": "execute_result"
    }
   ],
   "source": [
    "# 타입 변경\n",
    "\n",
    "node1 = tf.constant(np.array([1, 2, 3]), dtype = tf.int16)\n",
    "node2 = tf.cast(node1, dtype = tf.float32)\n",
    "sess = tf.Session()\n",
    "sess.run([node1, node2])"
   ]
  },
  {
   "cell_type": "code",
   "execution_count": 9,
   "id": "ef56835a",
   "metadata": {},
   "outputs": [
    {
     "data": {
      "text/plain": [
       "2.0"
      ]
     },
     "execution_count": 9,
     "metadata": {},
     "output_type": "execute_result"
    }
   ],
   "source": [
    "# 평균값 계산 : tf.reduce_mean()\n",
    "\n",
    "data = np.array([1., 2., 3.])\n",
    "tensor = tf.reduce_mean(data)\n",
    "sess = tf.Session()\n",
    "sess.run(tensor)"
   ]
  },
  {
   "cell_type": "code",
   "execution_count": 10,
   "id": "63e7d028",
   "metadata": {},
   "outputs": [
    {
     "data": {
      "text/plain": [
       "[array([ 0.4528369 , -0.82224137], dtype=float32),\n",
       " array([-0.8942852], dtype=float32)]"
      ]
     },
     "execution_count": 10,
     "metadata": {},
     "output_type": "execute_result"
    }
   ],
   "source": [
    "# 랜덤값을 갖는 tensor\n",
    "\n",
    "a = tf.random_normal([2])  # 평균이 0, 표준편차가 1인 난수 실수 2개 (정규분포를 이루는 난수)\n",
    "b = tf.random_normal([1])\n",
    "sess = tf.Session()\n",
    "sess.run([a,b])"
   ]
  },
  {
   "cell_type": "code",
   "execution_count": 11,
   "id": "f673467f",
   "metadata": {},
   "outputs": [
    {
     "data": {
      "text/plain": [
       "array([0.52946633], dtype=float32)"
      ]
     },
     "execution_count": 11,
     "metadata": {},
     "output_type": "execute_result"
    }
   ],
   "source": [
    "w = tf.Variable(tf.random.normal([1]))\n",
    "sess = tf.Session()\n",
    "sess.run(tf.global_variables_initializer())  # w변수의 난수 초기화\n",
    "sess.run(w)"
   ]
  },
  {
   "cell_type": "markdown",
   "id": "bf46d81e",
   "metadata": {},
   "source": [
    "# 2. tensorflow v1을 이용한 linear regression을 구현"
   ]
  },
  {
   "cell_type": "markdown",
   "id": "7d75dbb2",
   "metadata": {},
   "source": [
    "## 2.1 입력(독립)변수 x가 1개, 타겟(종속)변수 y가 1개"
   ]
  },
  {
   "cell_type": "code",
   "execution_count": 12,
   "id": "73a80e1e",
   "metadata": {},
   "outputs": [
    {
     "name": "stdout",
     "output_type": "stream",
     "text": [
      "0번째 cost:14.129585266113281, W:[-0.21478081], b:[0.23801649]\n",
      "200번째 cost:0.002001651795580983, W:[1.0518376], b:[0.882161]\n",
      "400번째 cost:0.0007643263670615852, W:[1.0320325], b:[0.9271826]\n",
      "600번째 cost:0.0002918554237112403, W:[1.019794], b:[0.95500344]\n",
      "800번째 cost:0.00011144302698085085, W:[1.0122315], b:[0.9721951]\n",
      "1000번째 cost:4.255611929693259e-05, W:[1.0075583], b:[0.982818]\n",
      "1200번째 cost:1.6250365661107935e-05, W:[1.0046707], b:[0.98938227]\n",
      "1400번째 cost:6.205576937645674e-06, W:[1.0028863], b:[0.9934387]\n",
      "1600번째 cost:2.3699885787209496e-06, W:[1.0017838], b:[0.9959453]\n",
      "1800번째 cost:9.054335237124178e-07, W:[1.0011027], b:[0.9974938]\n",
      "2000번째 cost:3.462290578681859e-07, W:[1.0006819], b:[0.9984503]\n",
      "2200번째 cost:1.3251073482933862e-07, W:[1.0004218], b:[0.9990412]\n",
      "2400번째 cost:5.0818282915088275e-08, W:[1.0002614], b:[0.99940634]\n",
      "2600번째 cost:1.9510162374558604e-08, W:[1.0001621], b:[0.9996321]\n",
      "2800번째 cost:7.54177076345286e-09, W:[1.0001009], b:[0.99977136]\n",
      "3000번째 cost:2.8918332173333283e-09, W:[1.0000626], b:[0.9998585]\n",
      "3200번째 cost:1.1418185286160565e-09, W:[1.0000389], b:[0.99991083]\n",
      "3400번째 cost:4.304420431200384e-10, W:[1.0000241], b:[0.9999453]\n",
      "3600번째 cost:1.800835036647186e-10, W:[1.0000157], b:[0.9999647]\n",
      "3800번째 cost:8.057909894887416e-11, W:[1.0000106], b:[0.99997663]\n",
      "4000번째 cost:5.328478283606053e-11, W:[1.0000087], b:[0.9999811]\n",
      "4200번째 cost:5.328478283606053e-11, W:[1.0000087], b:[0.9999811]\n",
      "4400번째 cost:5.328478283606053e-11, W:[1.0000087], b:[0.9999811]\n",
      "4600번째 cost:5.328478283606053e-11, W:[1.0000087], b:[0.9999811]\n",
      "4800번째 cost:5.328478283606053e-11, W:[1.0000087], b:[0.9999811]\n",
      "5000번째 cost:5.328478283606053e-11, W:[1.0000087], b:[0.9999811]\n"
     ]
    }
   ],
   "source": [
    "x = np.array([1, 2, 3])\n",
    "y = np.array([2, 3, 4])\n",
    "\n",
    "# weight오 bias(처음엔 랜덤값으로 셋팅, 학습과정에서 변경)\n",
    "W = tf.Variable(tf.random.normal([1]), name = 'weight')\n",
    "b = tf.Variable(tf.random.normal([1]), name = 'bias')\n",
    "\n",
    "# Hypothesis : 예측값\n",
    "H = W * x + b\n",
    "\n",
    "#cost function(손실함수 = mse; 최소제곱법)\n",
    "cost = tf.reduce_mean(tf.square(H - y))\n",
    "\n",
    "'''\n",
    "학습목적 : cost가 최소가 되는 W, b를 찾아내는 것\n",
    "cost는 2차함수이므로 곡선그래프. 곡선위 미분값이 줄어드는 방향으로 학습(경사하강)\n",
    "=> GradientDescentOptimizer\n",
    "'''\n",
    "\n",
    "optimizer = tf.train.GradientDescentOptimizer(learning_rate = 0.01)\n",
    "train = optimizer.minimize(cost)\n",
    "\n",
    "# Session 생성\n",
    "sess = tf.Session()\n",
    "\n",
    "# W, b 변수 노드에 초기화\n",
    "sess.run(tf.global_variables_initializer())\n",
    "\n",
    "# 5000번 학습 (v2에서는 fit함수)\n",
    "for step in range(5001):\n",
    "    _, cost_val, W_val, b_val = sess.run([train, cost, W, b])\n",
    "    if step%200 == 0 :\n",
    "        print(\"{}번째 cost:{}, W:{}, b:{}\".format(step,\n",
    "                                               cost_val,\n",
    "                                               W_val,\n",
    "                                               b_val))"
   ]
  },
  {
   "cell_type": "code",
   "execution_count": 13,
   "id": "f71d55a4",
   "metadata": {},
   "outputs": [
    {
     "data": {
      "text/plain": [
       "[array([1.0000087], dtype=float32), array([0.9999811], dtype=float32)]"
      ]
     },
     "execution_count": 13,
     "metadata": {},
     "output_type": "execute_result"
    }
   ],
   "source": [
    "# 최종적으로 나온 회귀식 : H = W * x + b\n",
    "\n",
    "sess.run([W, b])"
   ]
  },
  {
   "cell_type": "code",
   "execution_count": 14,
   "id": "2c97762a",
   "metadata": {},
   "outputs": [
    {
     "data": {
      "text/plain": [
       "(1.0000087, 0.9999811)"
      ]
     },
     "execution_count": 14,
     "metadata": {},
     "output_type": "execute_result"
    }
   ],
   "source": [
    "W_, b_ = sess.run([W, b])\n",
    "W_[0], b_[0]"
   ]
  },
  {
   "cell_type": "code",
   "execution_count": 15,
   "id": "5c525ee4",
   "metadata": {},
   "outputs": [],
   "source": [
    "def predict(x) :\n",
    "    return W_[0] * x + b_[0]"
   ]
  },
  {
   "cell_type": "code",
   "execution_count": 17,
   "id": "484c984f",
   "metadata": {},
   "outputs": [
    {
     "name": "stdout",
     "output_type": "stream",
     "text": [
      "입력값은? 3\n",
      "예측값은 4.000007212162018\n"
     ]
    }
   ],
   "source": [
    "input_x = int(input('입력값은? '))\n",
    "print('예측값은', predict(input_x))"
   ]
  },
  {
   "cell_type": "markdown",
   "id": "8a5e119a",
   "metadata": {},
   "source": [
    "## 2.2 predict를 위한 placeholder이용\n",
    "\n",
    "- placeholder : 텐서플로우 외부에서 데이터를 입력받는 노드"
   ]
  },
  {
   "cell_type": "code",
   "execution_count": 18,
   "id": "ef41514a",
   "metadata": {},
   "outputs": [
    {
     "data": {
      "text/plain": [
       "array([2., 3., 4.], dtype=float16)"
      ]
     },
     "execution_count": 18,
     "metadata": {},
     "output_type": "execute_result"
    }
   ],
   "source": [
    "# x = np.array([1, 2, 3])\n",
    "x = tf.placeholder(tf.float16)\n",
    "H = 1 * x + 1\n",
    "sess = tf.Session()\n",
    "sess.run(H, feed_dict = {x:5})\n",
    "sess.run(H, feed_dict = {x:np.array([1, 2, 3])})"
   ]
  },
  {
   "cell_type": "code",
   "execution_count": 19,
   "id": "c12cf6ce",
   "metadata": {},
   "outputs": [
    {
     "name": "stdout",
     "output_type": "stream",
     "text": [
      "0째 : cost:111.7028579711914, W:[0.73836553], b:[0.6004342]\n",
      "200째 : cost:0.000743099139072001, W:[2.0092704], b:[0.9504495]\n",
      "400째 : cost:7.308924978133291e-05, W:[2.0029075], b:[0.98445994]\n",
      "600째 : cost:7.1911103987076785e-06, W:[2.000912], b:[0.99512583]\n",
      "800째 : cost:7.077183568071632e-07, W:[2.000286], b:[0.9984711]\n",
      "1000째 : cost:6.968745225321982e-08, W:[2.00009], b:[0.9995203]\n",
      "1200째 : cost:6.913217109882908e-09, W:[2.0000281], b:[0.99984926]\n",
      "1400째 : cost:6.809386943196216e-10, W:[2.000009], b:[0.99995244]\n",
      "1600째 : cost:7.863718703982059e-11, W:[2.000003], b:[0.99998367]\n",
      "1800째 : cost:2.060005464821213e-11, W:[2.0000017], b:[0.99999213]\n",
      "2000째 : cost:2.060005464821213e-11, W:[2.0000017], b:[0.99999213]\n",
      "2200째 : cost:2.060005464821213e-11, W:[2.0000017], b:[0.99999213]\n",
      "2400째 : cost:2.060005464821213e-11, W:[2.0000017], b:[0.99999213]\n",
      "2600째 : cost:2.060005464821213e-11, W:[2.0000017], b:[0.99999213]\n",
      "2800째 : cost:2.060005464821213e-11, W:[2.0000017], b:[0.99999213]\n",
      "3000째 : cost:2.060005464821213e-11, W:[2.0000017], b:[0.99999213]\n",
      "3200째 : cost:2.060005464821213e-11, W:[2.0000017], b:[0.99999213]\n",
      "3400째 : cost:2.060005464821213e-11, W:[2.0000017], b:[0.99999213]\n",
      "3600째 : cost:2.060005464821213e-11, W:[2.0000017], b:[0.99999213]\n",
      "3800째 : cost:2.060005464821213e-11, W:[2.0000017], b:[0.99999213]\n",
      "4000째 : cost:2.060005464821213e-11, W:[2.0000017], b:[0.99999213]\n",
      "4200째 : cost:2.060005464821213e-11, W:[2.0000017], b:[0.99999213]\n",
      "4400째 : cost:2.060005464821213e-11, W:[2.0000017], b:[0.99999213]\n",
      "4600째 : cost:2.060005464821213e-11, W:[2.0000017], b:[0.99999213]\n",
      "4800째 : cost:2.060005464821213e-11, W:[2.0000017], b:[0.99999213]\n",
      "5000째 : cost:2.060005464821213e-11, W:[2.0000017], b:[0.99999213]\n"
     ]
    }
   ],
   "source": [
    "# H = 2 * x + 1\n",
    "x_data = np.array([1, 2, 3, 5, 8])\n",
    "y_data = np.array([3, 5, 7, 11, 17])\n",
    "\n",
    "# placeholder 설정 (입력변수 x, 타겟변수 y)\n",
    "x = tf.placeholder(dtype = tf.float32)\n",
    "y = tf.placeholder(dtype = tf.float32)\n",
    "\n",
    "# W, b\n",
    "W = tf.Variable(tf.random.normal([1]))\n",
    "b = tf.Variable(tf.random.normal([1]))\n",
    "\n",
    "# Hypothesis(예측값)\n",
    "H = W * x + b\n",
    "\n",
    "# 손실함수\n",
    "cost = tf.reduce_mean(tf.square(H - y))\n",
    "\n",
    "# 경사하강법\n",
    "train = tf.train.GradientDescentOptimizer(learning_rate = 0.01).minimize(cost)\n",
    "\n",
    "# Session 객체 생성\n",
    "sess = tf.Session()\n",
    "sess.run(tf.global_variables_initializer())  # W, b 초기화\n",
    "\n",
    "# 5000번 학습\n",
    "for step in range(5001) :\n",
    "    _, cost_val, W_val, b_val = sess.run([train, cost, W, b], \n",
    "                                         feed_dict = {x:x_data,\n",
    "                                                      y:y_data})\n",
    "    if step % 200 == 0 :\n",
    "        print('{}째 : cost:{}, W:{}, b:{}'.format(step, cost_val, W_val, b_val))"
   ]
  },
  {
   "cell_type": "code",
   "execution_count": 20,
   "id": "07f07e3a",
   "metadata": {},
   "outputs": [
    {
     "data": {
      "text/plain": [
       "array([11.000001], dtype=float32)"
      ]
     },
     "execution_count": 20,
     "metadata": {},
     "output_type": "execute_result"
    }
   ],
   "source": [
    "# 예측하기\n",
    "\n",
    "sess.run(H, feed_dict = {x:5})"
   ]
  },
  {
   "cell_type": "code",
   "execution_count": 21,
   "id": "f3504c4d",
   "metadata": {},
   "outputs": [
    {
     "data": {
      "text/plain": [
       "array([11.000001, 13.000002, 15.000004], dtype=float32)"
      ]
     },
     "execution_count": 21,
     "metadata": {},
     "output_type": "execute_result"
    }
   ],
   "source": [
    "sess.run(H, feed_dict = {x:np.array([5, 6, 7])})"
   ]
  },
  {
   "cell_type": "markdown",
   "id": "e2ba7689",
   "metadata": {},
   "source": [
    "## 2.3 scale이 다른 데이터의 linear regression 구현 (scale 조정 X)"
   ]
  },
  {
   "cell_type": "code",
   "execution_count": 23,
   "id": "2ada2b3f",
   "metadata": {},
   "outputs": [
    {
     "name": "stdout",
     "output_type": "stream",
     "text": [
      "0째 : cost:3383.62548828125, W:[8.127003], b:[0.4002639]\n",
      "200째 : cost:83.59843444824219, W:[10.219629], b:[-0.7589113]\n",
      "400째 : cost:83.49296569824219, W:[10.277554], b:[-1.1877984]\n",
      "600째 : cost:83.4832992553711, W:[10.295097], b:[-1.3177044]\n",
      "800째 : cost:83.4823989868164, W:[10.300412], b:[-1.3570524]\n",
      "1000째 : cost:83.48233032226562, W:[10.302022], b:[-1.368972]\n",
      "1200째 : cost:83.48229217529297, W:[10.302509], b:[-1.372581]\n",
      "1400째 : cost:83.48231506347656, W:[10.302657], b:[-1.3736746]\n",
      "1600째 : cost:83.4823226928711, W:[10.302701], b:[-1.374005]\n",
      "1800째 : cost:83.4822998046875, W:[10.302715], b:[-1.3741046]\n",
      "2000째 : cost:83.48233032226562, W:[10.302718], b:[-1.3741326]\n",
      "2200째 : cost:83.48233032226562, W:[10.302718], b:[-1.3741326]\n",
      "2400째 : cost:83.48233032226562, W:[10.302718], b:[-1.3741326]\n",
      "2600째 : cost:83.48233032226562, W:[10.302718], b:[-1.3741326]\n",
      "2800째 : cost:83.48233032226562, W:[10.302718], b:[-1.3741326]\n",
      "3000째 : cost:83.48233032226562, W:[10.302718], b:[-1.3741326]\n"
     ]
    }
   ],
   "source": [
    "x_data = np.array([1, 2, 5, 8, 10])\n",
    "y_data = np.array([3, 15, 68, 80, 95])\n",
    "\n",
    "# placeholder 설정 (입력변수 x, 타겟변수 y)\n",
    "x = tf.placeholder(dtype = tf.float32)\n",
    "y = tf.placeholder(dtype = tf.float32)\n",
    "\n",
    "# W, b\n",
    "W = tf.Variable(tf.random.normal([1]))\n",
    "b = tf.Variable(tf.random.normal([1]))\n",
    "\n",
    "# Hypothesis(예측값)\n",
    "H = W * x + b\n",
    "\n",
    "# 손실함수\n",
    "cost = tf.reduce_mean(tf.square(H - y))\n",
    "\n",
    "# 경사하강법\n",
    "train = tf.train.GradientDescentOptimizer(learning_rate = 0.01).minimize(cost)\n",
    "\n",
    "# Session 객체 생성\n",
    "sess = tf.Session()\n",
    "sess.run(tf.global_variables_initializer())  # W, b 초기화\n",
    "\n",
    "# 5000번 학습\n",
    "for step in range(3001) :\n",
    "    _, cost_val, W_val, b_val = sess.run([train, cost, W, b], \n",
    "                                         feed_dict = {x:x_data,\n",
    "                                                      y:y_data})\n",
    "    if step % 200 == 0 :\n",
    "        print('{}째 : cost:{}, W:{}, b:{}'.format(step, cost_val, W_val, b_val))"
   ]
  },
  {
   "cell_type": "code",
   "execution_count": 24,
   "id": "52d59e3f",
   "metadata": {},
   "outputs": [],
   "source": [
    "# cost값이 멈춤 : local 최소값"
   ]
  },
  {
   "cell_type": "markdown",
   "id": "56234d87",
   "metadata": {},
   "source": [
    "## 2.4 scale이 다른 데이터의 linear regression을 구현(조정O)\n",
    "\n",
    "```\n",
    "normalization(정규화) : 0~1로 조정 \n",
    "                    X - Xmin \n",
    "    normalization = ──────────── \n",
    "                    Xmax - Xmin \n",
    "* 위의 식을 써도 되지만 라이브러리를 씀(sklearn.preprocessing.MinMaxScaler이용)\n",
    "    \n",
    "standardization(표준화) : 평균0, 표준편차1로 조정 \n",
    "                        X - Xmean(평균) \n",
    "    standardization = ────────────────── \n",
    "                        Xstd(표준편차) \n",
    "* 위의 식을 써도 되지만 라이브러리를 씀(sklearn.preprocessing.StandardScaler이용)\n",
    "```"
   ]
  },
  {
   "cell_type": "code",
   "execution_count": 25,
   "id": "f38dc0cd",
   "metadata": {},
   "outputs": [
    {
     "name": "stdout",
     "output_type": "stream",
     "text": [
      "[0.         0.11111111 0.44444444 0.77777778 1.        ]\n",
      "[0.         0.13043478 0.70652174 0.83695652 1.        ]\n"
     ]
    }
   ],
   "source": [
    "# 라이브러리를 쓰지 않고 정규화\n",
    "\n",
    "x_data = np.array([1, 2, 5, 8, 10])\n",
    "y_data = np.array([3, 15, 68, 80, 95])\n",
    "scaled_x_data = (x_data - x_data.min() ) / (x_data.max() - x_data.min())\n",
    "scaled_y_data = (y_data - y_data.min() ) / (y_data.max() - y_data.min())\n",
    "print(scaled_x_data)\n",
    "print(scaled_y_data)"
   ]
  },
  {
   "cell_type": "code",
   "execution_count": 26,
   "id": "c1986bbc",
   "metadata": {},
   "outputs": [
    {
     "data": {
      "text/plain": [
       "array([[ 1.        ,  3.        ,  0.        ,  0.        ],\n",
       "       [ 2.        , 15.        ,  0.11111111,  0.13043478],\n",
       "       [ 5.        , 68.        ,  0.44444444,  0.70652174],\n",
       "       [ 8.        , 80.        ,  0.77777778,  0.83695652],\n",
       "       [10.        , 95.        ,  1.        ,  1.        ]])"
      ]
     },
     "execution_count": 26,
     "metadata": {},
     "output_type": "execute_result"
    }
   ],
   "source": [
    "# 라이브러리를 쓰고 정규화 (MinMaxScaler이용)\n",
    "\n",
    "from sklearn.preprocessing import MinMaxScaler\n",
    "\n",
    "x_data = np.array([1, 2, 5, 8, 10]).reshape(-1, 1)\n",
    "y_data = np.array([3, 15, 68, 80, 95]).reshape(-1, 1)\n",
    "# np.column_stack([x_data, y_data])\n",
    "scaler_x = MinMaxScaler()  # x_data를 정규화시킬 객체\n",
    "# scaler_x.fit(x_data)\n",
    "# scaled_x_data = scaler_x.transform(x_data)\n",
    "scaled_x_data = scaler_x.fit_transform(x_data)\n",
    "scaler_y = MinMaxScaler()  # y_data를 정규화시킬 객체\n",
    "scaled_y_data = scaler_y.fit_transform(y_data)\n",
    "np.column_stack([x_data, y_data, scaled_x_data, scaled_y_data])"
   ]
  },
  {
   "cell_type": "code",
   "execution_count": 27,
   "id": "57b3aa1d",
   "metadata": {},
   "outputs": [
    {
     "name": "stdout",
     "output_type": "stream",
     "text": [
      "0째 : cost:3.730938673019409, W:[0.0550406], b:[-1.3805451]\n",
      "600째 : cost:0.19830942153930664, W:[0.6990157], b:[-0.20816104]\n",
      "1200째 : cost:0.021038368344306946, W:[0.85553473], b:[0.04745038]\n",
      "1800째 : cost:0.011744474992156029, W:[0.9014036], b:[0.09888171]\n",
      "2400째 : cost:0.010957109741866589, W:[0.92110676], b:[0.10539593]\n",
      "3000째 : cost:0.0106738843023777, W:[0.93372643], b:[0.10251489]\n",
      "3600째 : cost:0.010475343093276024, W:[0.94369054], b:[0.09809846]\n",
      "4200째 : cost:0.010326010175049305, W:[0.95212877], b:[0.09383084]\n",
      "4800째 : cost:0.010213134810328484, W:[0.9594159], b:[0.09002429]\n",
      "5400째 : cost:0.010127796791493893, W:[0.9657408], b:[0.08669295]\n",
      "6000째 : cost:0.01006326638162136, W:[0.97123814], b:[0.08379143]\n",
      "6600째 : cost:0.010014474391937256, W:[0.97601795], b:[0.08126735]\n",
      "7200째 : cost:0.009977588430047035, W:[0.9801738], b:[0.07907231]\n",
      "7800째 : cost:0.009949695318937302, W:[0.9837875], b:[0.0771636]\n",
      "8400째 : cost:0.009928603656589985, W:[0.9869298], b:[0.07550388]\n",
      "9000째 : cost:0.009912660345435143, W:[0.9896621], b:[0.07406069]\n",
      "9600째 : cost:0.00990060344338417, W:[0.99203783], b:[0.0728058]\n",
      "10200째 : cost:0.009891488589346409, W:[0.9941037], b:[0.07171461]\n",
      "10800째 : cost:0.009884596802294254, W:[0.9959001], b:[0.07076579]\n",
      "11400째 : cost:0.009879384189844131, W:[0.9974623], b:[0.06994076]\n",
      "12000째 : cost:0.00987544097006321, W:[0.9988207], b:[0.06922332]\n"
     ]
    }
   ],
   "source": [
    "# placeholder 설정 (입력변수 x, 타겟변수 y)\n",
    "x = tf.placeholder(dtype = tf.float32)\n",
    "y = tf.placeholder(dtype = tf.float32)\n",
    "\n",
    "# W, b\n",
    "W = tf.Variable(tf.random.normal([1]))\n",
    "b = tf.Variable(tf.random.normal([1]))\n",
    "\n",
    "# Hypothesis(예측값)\n",
    "H = W * x + b\n",
    "\n",
    "# 손실함수\n",
    "cost = tf.reduce_mean(tf.square(H - y))\n",
    "\n",
    "# 경사하강법\n",
    "train = tf.train.GradientDescentOptimizer(learning_rate = 0.001).minimize(cost)\n",
    "\n",
    "# Session 객체 생성\n",
    "sess = tf.Session()\n",
    "sess.run(tf.global_variables_initializer())  # W, b 초기화\n",
    "\n",
    "# 12000번 학습\n",
    "for step in range(12001) :\n",
    "    _, cost_val, W_val, b_val = sess.run([train, cost, W, b], \n",
    "                                         feed_dict = {x:scaled_x_data,\n",
    "                                                      y:scaled_y_data})\n",
    "    if step % 600 == 0 :\n",
    "        print('{}째 : cost:{}, W:{}, b:{}'.format(step, cost_val, W_val, b_val))"
   ]
  },
  {
   "cell_type": "code",
   "execution_count": 28,
   "id": "def3eea8",
   "metadata": {},
   "outputs": [
    {
     "name": "stdout",
     "output_type": "stream",
     "text": [
      "모델 예측을 위한 입력 :\n",
      "[[0.11111111]\n",
      " [0.22222222]]\n",
      "모델 예측 결과 :\n",
      "[[0.18020341]\n",
      " [0.29118347]]\n",
      "결과 :\n",
      "[[19.578714]\n",
      " [29.78888 ]]\n"
     ]
    }
   ],
   "source": [
    "# 예측 : 모델에 scale 조정된 값으로 예측 → scale 조정된 y값\n",
    "\n",
    "scaled_input = scaler_x.transform(np.array([[2],\n",
    "                                            [3]]))\n",
    "print('모델 예측을 위한 입력 :', scaled_input, sep = '\\n')\n",
    "scaled_output = sess.run(H, feed_dict = {x:scaled_input})\n",
    "print('모델 예측 결과 :', scaled_output, sep = '\\n')\n",
    "print('결과 :', scaler_y.inverse_transform(scaled_output), sep = '\\n')"
   ]
  },
  {
   "cell_type": "code",
   "execution_count": 29,
   "id": "9e7359ff",
   "metadata": {},
   "outputs": [],
   "source": [
    "# x_data들의 예측값\n",
    "\n",
    "scaled_y_hat = sess.run(H, feed_dict = {x:scaled_x_data})\n",
    "y_hat = scaler_y.inverse_transform(scaled_y_hat)"
   ]
  },
  {
   "cell_type": "code",
   "execution_count": 31,
   "id": "1203ff9e",
   "metadata": {},
   "outputs": [
    {
     "data": {
      "image/png": "[encoded data removed]",
      "text/plain": [
       "<Figure size 640x480 with 1 Axes>"
      ]
     },
     "metadata": {},
     "output_type": "display_data"
    }
   ],
   "source": [
    "import matplotlib.pyplot as plt\n",
    "\n",
    "plt.plot(x_data, y_data, 'r')\n",
    "plt.plot(x_data, y_hat, 'b')\n",
    "plt.show()"
   ]
  },
  {
   "cell_type": "code",
   "execution_count": 32,
   "id": "24f269de",
   "metadata": {},
   "outputs": [
    {
     "name": "stdout",
     "output_type": "stream",
     "text": [
      "[[ 1  3]\n",
      " [ 2 15]\n",
      " [ 5 68]\n",
      " [ 8 80]\n",
      " [10 95]]\n",
      "[[-1.22474487 -1.34819316]\n",
      " [-0.93313895 -1.01936556]\n",
      " [-0.05832118  0.43295634]\n",
      " [ 0.81649658  0.76178394]\n",
      " [ 1.39970842  1.17281844]]\n"
     ]
    }
   ],
   "source": [
    "# 라이브러리를 쓰고 표준화 (StandardScaler 이용)\n",
    "\n",
    "from sklearn.preprocessing import StandardScaler\n",
    "\n",
    "x_data = np.array([1, 2, 5, 8, 10]).reshape(-1, 1)\n",
    "y_data = np.array([3, 15, 68, 80, 95]).reshape(-1, 1)\n",
    "\n",
    "scaler_x = StandardScaler()  # x_data를 표준화할 객체\n",
    "scaler_y = StandardScaler()  # y_data를 표준화할 객체\n",
    "scaled_x_data = scaler_x.fit_transform(x_data)\n",
    "scaled_y_data = scaler_y.fit_transform(y_data)\n",
    "print(np.column_stack([x_data, y_data]))\n",
    "print(np.column_stack([scaled_x_data, scaled_y_data]))"
   ]
  },
  {
   "cell_type": "code",
   "execution_count": 33,
   "id": "6709d224",
   "metadata": {},
   "outputs": [
    {
     "name": "stdout",
     "output_type": "stream",
     "text": [
      "0째 : cost:0.447822242975235, W:[0.4031674], b:[-0.25375637]\n",
      "600째 : cost:0.09754059463739395, W:[0.798185], b:[-0.07633816]\n",
      "1200째 : cost:0.06584005057811737, W:[0.91701925], b:[-0.02296499]\n",
      "1800째 : cost:0.06297115981578827, W:[0.9527683], b:[-0.00690861]\n",
      "2400째 : cost:0.06271152943372726, W:[0.9635231], b:[-0.00207833]\n",
      "3000째 : cost:0.06268803775310516, W:[0.96675795], b:[-0.00062522]\n",
      "3600째 : cost:0.06268591433763504, W:[0.9677311], b:[-0.00018808]\n",
      "4200째 : cost:0.06268571317195892, W:[0.9680236], b:[-5.6572087e-05]\n",
      "4800째 : cost:0.06268569827079773, W:[0.9681107], b:[-1.7009983e-05]\n",
      "5400째 : cost:0.06268568336963654, W:[0.96813506], b:[-5.103752e-06]\n",
      "6000째 : cost:0.06268569082021713, W:[0.96813506], b:[-1.5166131e-06]\n",
      "6600째 : cost:0.06268568336963654, W:[0.96813506], b:[-4.3777996e-07]\n",
      "7200째 : cost:0.06268569082021713, W:[0.96813506], b:[-1.1511764e-07]\n",
      "7800째 : cost:0.06268569827079773, W:[0.96813506], b:[-2.2060156e-08]\n",
      "8400째 : cost:0.06268569082021713, W:[0.96813506], b:[1.09310125e-08]\n",
      "9000째 : cost:0.06268569827079773, W:[0.96813506], b:[2.978877e-08]\n",
      "9600째 : cost:0.06268569827079773, W:[0.96813506], b:[2.9818573e-08]\n",
      "10200째 : cost:0.06268569827079773, W:[0.96813506], b:[2.979622e-08]\n",
      "10800째 : cost:0.06268569082021713, W:[0.96813506], b:[2.9826023e-08]\n",
      "11400째 : cost:0.06268569827079773, W:[0.96813506], b:[2.9803672e-08]\n",
      "12000째 : cost:0.06268569082021713, W:[0.96813506], b:[2.9833473e-08]\n"
     ]
    }
   ],
   "source": [
    "# placeholder 설정 (입력변수 x, 타겟변수 y)\n",
    "x = tf.placeholder(dtype = tf.float32)\n",
    "y = tf.placeholder(dtype = tf.float32)\n",
    "\n",
    "# W, b\n",
    "W = tf.Variable(tf.random.normal([1]))\n",
    "b = tf.Variable(tf.random.normal([1]))\n",
    "\n",
    "# Hypothesis(예측값)\n",
    "H = W * x + b\n",
    "\n",
    "# 손실함수\n",
    "cost = tf.reduce_mean(tf.square(H - y))\n",
    "\n",
    "# 경사하강법\n",
    "train = tf.train.GradientDescentOptimizer(learning_rate = 0.001).minimize(cost)\n",
    "\n",
    "# Session 객체 생성\n",
    "sess = tf.Session()\n",
    "sess.run(tf.global_variables_initializer())  # W, b 초기화\n",
    "\n",
    "# 12000번 학습\n",
    "for step in range(12001) :\n",
    "    _, cost_val, W_val, b_val = sess.run([train, cost, W, b], \n",
    "                                         feed_dict = {x:scaled_x_data,\n",
    "                                                      y:scaled_y_data})\n",
    "    if step % 600 == 0 :\n",
    "        print('{}째 : cost:{}, W:{}, b:{}'.format(step, cost_val, W_val, b_val))"
   ]
  },
  {
   "cell_type": "code",
   "execution_count": 34,
   "id": "5e495aca",
   "metadata": {},
   "outputs": [],
   "source": [
    "# x_data들의 예측값\n",
    "\n",
    "scaled_y_hat = sess.run(H, feed_dict = {x:scaled_x_data})\n",
    "y_hat = scaler_y.inverse_transform(scaled_y_hat)"
   ]
  },
  {
   "cell_type": "code",
   "execution_count": 35,
   "id": "71d34853",
   "metadata": {},
   "outputs": [
    {
     "data": {
      "image/png": "[encoded data removed]",
      "text/plain": [
       "<Figure size 640x480 with 1 Axes>"
      ]
     },
     "metadata": {},
     "output_type": "display_data"
    }
   ],
   "source": [
    "import matplotlib.pyplot as plt\n",
    "\n",
    "plt.plot(x_data, y_data, 'r')\n",
    "plt.plot(x_data, y_hat, 'b')\n",
    "plt.show()"
   ]
  },
  {
   "cell_type": "code",
   "execution_count": null,
   "id": "82770efe",
   "metadata": {},
   "outputs": [],
   "source": []
  }
 ],
 "metadata": {
  "kernelspec": {
   "display_name": "ml-dl-nlp",
   "language": "python",
   "name": "ml-dl-nlp"
  },
  "language_info": {
   "codemirror_mode": {
    "name": "ipython",
    "version": 3
   },
   "file_extension": ".py",
   "mimetype": "text/x-python",
   "name": "python",
   "nbconvert_exporter": "python",
   "pygments_lexer": "ipython3",
   "version": "3.10.18"
  },
  "toc": {
   "base_numbering": 1,
   "nav_menu": {},
   "number_sections": false,
   "sideBar": true,
   "skip_h1_title": false,
   "title_cell": "Table of Contents",
   "title_sidebar": "Contents",
   "toc_cell": false,
   "toc_position": {
    "height": "calc(100% - 180px)",
    "left": "10px",
    "top": "150px",
    "width": "267.55px"
   },
   "toc_section_display": true,
   "toc_window_display": true
  }
 },
 "nbformat": 4,
 "nbformat_minor": 5
}
