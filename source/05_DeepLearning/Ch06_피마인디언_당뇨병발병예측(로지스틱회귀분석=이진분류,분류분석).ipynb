{
 "cells": [
  {
   "cell_type": "code",
   "execution_count": 1,
   "id": "6d39a92b",
   "metadata": {},
   "outputs": [
    {
     "data": {
      "text/html": [
       "<style>\n",
       "div.container{width:86% !important;}\n",
       "div.cell.code_cell.rendered{width:100%;}\n",
       "div.CodeMirror {font-family:Consolas; font-size:12pt;}\n",
       "div.output {font-size:12pt; font-weight:bold;}\n",
       "div.input {font-family:Consolas; font-size:12pt;}\n",
       "div.prompt {min-width:70px;}\n",
       "div#toc-wrapper{padding-top:120px;}\n",
       "div.text_cell_render ul li{fontsize:12pt;padding:5px;}\n",
       "table.dataframe{font-size:12px;}))\n",
       "</style>\n"
      ],
      "text/plain": [
       "<IPython.core.display.HTML object>"
      ]
     },
     "metadata": {},
     "output_type": "display_data"
    }
   ],
   "source": [
    "from IPython.display import display, HTML\n",
    "display(HTML(\"\"\"<style>\n",
    "div.container{width:86% !important;}\n",
    "div.cell.code_cell.rendered{width:100%;}\n",
    "div.CodeMirror {font-family:Consolas; font-size:12pt;}\n",
    "div.output {font-size:12pt; font-weight:bold;}\n",
    "div.input {font-family:Consolas; font-size:12pt;}\n",
    "div.prompt {min-width:70px;}\n",
    "div#toc-wrapper{padding-top:120px;}\n",
    "div.text_cell_render ul li{fontsize:12pt;padding:5px;}\n",
    "table.dataframe{font-size:12px;}))\n",
    "</style>\n",
    "\"\"\"))"
   ]
  },
  {
   "cell_type": "markdown",
   "id": "88d1362b",
   "metadata": {},
   "source": [
    "<font size=\"5\" color=\"red\">Ch06 피마인디언 당뇨병 발병 예측 (로지스틱회귀분석 = 이진분류, 분류분석)</font>"
   ]
  },
  {
   "cell_type": "code",
   "execution_count": 2,
   "id": "1ccbedf9",
   "metadata": {},
   "outputs": [],
   "source": [
    "import numpy as np\n",
    "import pandas as pd\n",
    "import sys\n",
    "from tensorflow.keras import utils  # utils.to_categorical 원핫인코딩\n",
    "from tensorflow.keras.models import Sequential\n",
    "from tensorflow.keras.layers import Dense, Input\n",
    "from matplotlib import pyplot as plt"
   ]
  },
  {
   "cell_type": "markdown",
   "id": "d90bd062",
   "metadata": {},
   "source": [
    "# 로지스틱회귀분석 (이진분류)"
   ]
  },
  {
   "cell_type": "markdown",
   "id": "78555920",
   "metadata": {},
   "source": [
    "## 1. 데이터셋 생성 & 전처리"
   ]
  },
  {
   "cell_type": "code",
   "execution_count": 3,
   "id": "1498a26c",
   "metadata": {},
   "outputs": [
    {
     "name": "stdout",
     "output_type": "stream",
     "text": [
      "<class 'pandas.core.frame.DataFrame'>\n",
      "RangeIndex: 768 entries, 0 to 767\n",
      "Data columns (total 9 columns):\n",
      " #   Column  Non-Null Count  Dtype  \n",
      "---  ------  --------------  -----  \n",
      " 0   0       768 non-null    int64  \n",
      " 1   1       768 non-null    int64  \n",
      " 2   2       768 non-null    int64  \n",
      " 3   3       768 non-null    int64  \n",
      " 4   4       768 non-null    int64  \n",
      " 5   5       768 non-null    float64\n",
      " 6   6       768 non-null    float64\n",
      " 7   7       768 non-null    int64  \n",
      " 8   8       768 non-null    int64  \n",
      "dtypes: float64(2), int64(7)\n",
      "memory usage: 54.1 KB\n"
     ]
    }
   ],
   "source": [
    "df = pd.read_csv('data/pima-indians-diabetes.csv', \n",
    "                 comment = '#',\n",
    "                 header = None)\n",
    "df.info()  # 결측치 없음"
   ]
  },
  {
   "cell_type": "code",
   "execution_count": 4,
   "id": "f044c053",
   "metadata": {},
   "outputs": [
    {
     "data": {
      "text/plain": [
       "0    500\n",
       "1    268\n",
       "Name: 8, dtype: int64"
      ]
     },
     "execution_count": 4,
     "metadata": {},
     "output_type": "execute_result"
    }
   ],
   "source": [
    "# 타겟 변수의 균형\n",
    "\n",
    "df.iloc[:,-1].value_counts()"
   ]
  },
  {
   "cell_type": "code",
   "execution_count": 5,
   "id": "49e65813",
   "metadata": {},
   "outputs": [
    {
     "data": {
      "text/html": [
       "<div>\n",
       "<style scoped>\n",
       "    .dataframe tbody tr th:only-of-type {\n",
       "        vertical-align: middle;\n",
       "    }\n",
       "\n",
       "    .dataframe tbody tr th {\n",
       "        vertical-align: top;\n",
       "    }\n",
       "\n",
       "    .dataframe thead th {\n",
       "        text-align: right;\n",
       "    }\n",
       "</style>\n",
       "<table border=\"1\" class=\"dataframe\">\n",
       "  <thead>\n",
       "    <tr style=\"text-align: right;\">\n",
       "      <th></th>\n",
       "      <th>0</th>\n",
       "      <th>1</th>\n",
       "      <th>2</th>\n",
       "      <th>3</th>\n",
       "      <th>4</th>\n",
       "      <th>5</th>\n",
       "      <th>6</th>\n",
       "      <th>7</th>\n",
       "      <th>8</th>\n",
       "    </tr>\n",
       "  </thead>\n",
       "  <tbody>\n",
       "    <tr>\n",
       "      <th>0</th>\n",
       "      <td>6</td>\n",
       "      <td>148</td>\n",
       "      <td>72</td>\n",
       "      <td>35</td>\n",
       "      <td>0</td>\n",
       "      <td>33.6</td>\n",
       "      <td>0.627</td>\n",
       "      <td>50</td>\n",
       "      <td>1</td>\n",
       "    </tr>\n",
       "    <tr>\n",
       "      <th>1</th>\n",
       "      <td>1</td>\n",
       "      <td>85</td>\n",
       "      <td>66</td>\n",
       "      <td>29</td>\n",
       "      <td>0</td>\n",
       "      <td>26.6</td>\n",
       "      <td>0.351</td>\n",
       "      <td>31</td>\n",
       "      <td>0</td>\n",
       "    </tr>\n",
       "    <tr>\n",
       "      <th>2</th>\n",
       "      <td>8</td>\n",
       "      <td>183</td>\n",
       "      <td>64</td>\n",
       "      <td>0</td>\n",
       "      <td>0</td>\n",
       "      <td>23.3</td>\n",
       "      <td>0.672</td>\n",
       "      <td>32</td>\n",
       "      <td>1</td>\n",
       "    </tr>\n",
       "    <tr>\n",
       "      <th>3</th>\n",
       "      <td>1</td>\n",
       "      <td>89</td>\n",
       "      <td>66</td>\n",
       "      <td>23</td>\n",
       "      <td>94</td>\n",
       "      <td>28.1</td>\n",
       "      <td>0.167</td>\n",
       "      <td>21</td>\n",
       "      <td>0</td>\n",
       "    </tr>\n",
       "    <tr>\n",
       "      <th>4</th>\n",
       "      <td>0</td>\n",
       "      <td>137</td>\n",
       "      <td>40</td>\n",
       "      <td>35</td>\n",
       "      <td>168</td>\n",
       "      <td>43.1</td>\n",
       "      <td>2.288</td>\n",
       "      <td>33</td>\n",
       "      <td>1</td>\n",
       "    </tr>\n",
       "  </tbody>\n",
       "</table>\n",
       "</div>"
      ],
      "text/plain": [
       "   0    1   2   3    4     5      6   7  8\n",
       "0  6  148  72  35    0  33.6  0.627  50  1\n",
       "1  1   85  66  29    0  26.6  0.351  31  0\n",
       "2  8  183  64   0    0  23.3  0.672  32  1\n",
       "3  1   89  66  23   94  28.1  0.167  21  0\n",
       "4  0  137  40  35  168  43.1  2.288  33  1"
      ]
     },
     "execution_count": 5,
     "metadata": {},
     "output_type": "execute_result"
    }
   ],
   "source": [
    "df.head()\n",
    "# X_data = df.iloc[,:-1].values"
   ]
  },
  {
   "cell_type": "code",
   "execution_count": 6,
   "id": "96504c23",
   "metadata": {},
   "outputs": [
    {
     "data": {
      "text/plain": [
       "(768, 9)"
      ]
     },
     "execution_count": 6,
     "metadata": {},
     "output_type": "execute_result"
    }
   ],
   "source": [
    "# csv파일을 numpy로 읽어오기 : np.loadtxt(결측치가 없는 경우), np.genfromtxt(결측치가 있는 경우)\n",
    "\n",
    "dataset = np.loadtxt('data/pima-indians-diabetes.csv', encoding = 'utf-8', delimiter = ',')\n",
    "dataset.shape"
   ]
  },
  {
   "cell_type": "code",
   "execution_count": 7,
   "id": "0d067c0b",
   "metadata": {},
   "outputs": [
    {
     "data": {
      "text/plain": [
       "((700, 8), (700,), (68, 8), (68,))"
      ]
     },
     "execution_count": 7,
     "metadata": {},
     "output_type": "execute_result"
    }
   ],
   "source": [
    "# 데이터 분할 : 학습 데이터셋 (모델 학습용) + 시험 데이터셋 (모델 평가용)\n",
    "\n",
    "X_train = dataset[:700, :-1]\n",
    "y_train = dataset[:700, -1]\n",
    "X_test = dataset[700:, :-1]\n",
    "y_test = dataset[700:, -1]\n",
    "X_train.shape, y_train.shape, X_test.shape, y_test.shape"
   ]
  },
  {
   "cell_type": "markdown",
   "id": "bea9f662",
   "metadata": {},
   "source": [
    "## 2. 모델 구성"
   ]
  },
  {
   "cell_type": "code",
   "execution_count": 8,
   "id": "1f7a8276",
   "metadata": {},
   "outputs": [
    {
     "name": "stdout",
     "output_type": "stream",
     "text": [
      "Model: \"sequential\"\n",
      "_________________________________________________________________\n",
      " Layer (type)                Output Shape              Param #   \n",
      "=================================================================\n",
      " dense (Dense)               (None, 32)                288       \n",
      "                                                                 \n",
      " dense_1 (Dense)             (None, 16)                528       \n",
      "                                                                 \n",
      " dense_2 (Dense)             (None, 1)                 17        \n",
      "                                                                 \n",
      "=================================================================\n",
      "Total params: 833\n",
      "Trainable params: 833\n",
      "Non-trainable params: 0\n",
      "_________________________________________________________________\n"
     ]
    }
   ],
   "source": [
    "model = Sequential()\n",
    "model.add(Input(shape = (8, )))\n",
    "model.add(Dense(units = 32, activation = 'relu'))\n",
    "model.add(Dense(units = 16, activation = 'relu'))\n",
    "model.add(Dense(units = 1, activation = 'sigmoid'))\n",
    "model.summary()"
   ]
  },
  {
   "cell_type": "markdown",
   "id": "0bc794bc",
   "metadata": {},
   "source": [
    "## 3. 학습과정 설정"
   ]
  },
  {
   "cell_type": "code",
   "execution_count": 9,
   "id": "a2bf36e8",
   "metadata": {},
   "outputs": [],
   "source": [
    "model.compile(loss = 'binary_crossentropy',\n",
    "             optimizer = 'adam',\n",
    "             metrics = ['binary_accuracy'])"
   ]
  },
  {
   "cell_type": "markdown",
   "id": "cf7c777c",
   "metadata": {},
   "source": [
    "## 4. 학습"
   ]
  },
  {
   "cell_type": "code",
   "execution_count": 10,
   "id": "56ae81d2",
   "metadata": {},
   "outputs": [
    {
     "name": "stdout",
     "output_type": "stream",
     "text": [
      "CPU times: total: 1.33 s\n",
      "Wall time: 1.08 s\n"
     ]
    }
   ],
   "source": [
    "%%time\n",
    "\n",
    "hist = model.fit(X_train, y_train,  # 훈련데이터\n",
    "                epochs = 200,  # 학습횟수\n",
    "                batch_size = 350,  # 한번에 읽어들이는 데이터 양\n",
    "#                 validation_data = (X_test, y_test),  # 검증데이터\n",
    "#                 validation_split = 0.1, \n",
    "                verbose = 0  # 학습 로그 출력 여부(0 : 출력 X, 1 : 출력, 2 : 출력 자세히)\n",
    "                )"
   ]
  },
  {
   "cell_type": "markdown",
   "id": "39cb3f51",
   "metadata": {},
   "source": [
    "## 5. 모델 평가하기(학습과정 보기, 평가)"
   ]
  },
  {
   "cell_type": "code",
   "execution_count": 11,
   "id": "9bbe8969",
   "metadata": {},
   "outputs": [
    {
     "data": {
      "text/plain": [
       "dict_keys(['loss', 'binary_accuracy'])"
      ]
     },
     "execution_count": 11,
     "metadata": {},
     "output_type": "execute_result"
    }
   ],
   "source": [
    "hist.history.keys()"
   ]
  },
  {
   "cell_type": "code",
   "execution_count": 12,
   "id": "38216294",
   "metadata": {},
   "outputs": [
    {
     "data": {
      "text/plain": [
       "[<matplotlib.lines.Line2D at 0x1abcbd66380>]"
      ]
     },
     "execution_count": 12,
     "metadata": {},
     "output_type": "execute_result"
    },
    {
     "data": {
      "image/png": "[encoded data removed]",
      "text/plain": [
       "<Figure size 1000x500 with 2 Axes>"
      ]
     },
     "metadata": {},
     "output_type": "display_data"
    }
   ],
   "source": [
    "# 학습과정 표시 (학습데이터에 대한 loss와 accuracy)\n",
    "\n",
    "fig, loss_ax = plt.subplots(figsize = (10, 5))\n",
    "loss_ax.plot(hist.history['loss'], 'r')\n",
    "acc_ax = loss_ax.twinx()  # loss_ax와 x축을 공유하는 acc_ax\n",
    "acc_ax.plot(hist.history.get('binary_accuracy'), 'b')"
   ]
  },
  {
   "cell_type": "code",
   "execution_count": 13,
   "id": "80ee0a61",
   "metadata": {},
   "outputs": [
    {
     "name": "stdout",
     "output_type": "stream",
     "text": [
      "22/22 [==============================] - 0s 1ms/step - loss: 0.5060 - binary_accuracy: 0.7600\n"
     ]
    },
    {
     "data": {
      "text/plain": [
       "[0.5060053467750549, 0.7599999904632568]"
      ]
     },
     "execution_count": 13,
     "metadata": {},
     "output_type": "execute_result"
    }
   ],
   "source": [
    "# 모델 평가(X)\n",
    "\n",
    "model.evaluate(X_train, y_train)"
   ]
  },
  {
   "cell_type": "code",
   "execution_count": 14,
   "id": "ecd7cae1",
   "metadata": {},
   "outputs": [
    {
     "name": "stdout",
     "output_type": "stream",
     "text": [
      "3/3 [==============================] - 0s 2ms/step - loss: 0.6850 - binary_accuracy: 0.6471\n"
     ]
    },
    {
     "data": {
      "text/plain": [
       "[0.6849902868270874, 0.6470588445663452]"
      ]
     },
     "execution_count": 14,
     "metadata": {},
     "output_type": "execute_result"
    }
   ],
   "source": [
    "# 모델 평가(O)\n",
    "\n",
    "model.evaluate(X_test, y_test)"
   ]
  },
  {
   "cell_type": "markdown",
   "id": "d4c0fbf9",
   "metadata": {},
   "source": [
    "# 혼동행렬\n",
    "\n",
    "- 테스트 데이터 셋의 실제값과 예측값으로 작성된 교차표"
   ]
  },
  {
   "cell_type": "code",
   "execution_count": 15,
   "id": "3b88c1e2",
   "metadata": {},
   "outputs": [
    {
     "data": {
      "text/plain": [
       "array([0., 1., 1., 0., 0.])"
      ]
     },
     "execution_count": 15,
     "metadata": {},
     "output_type": "execute_result"
    }
   ],
   "source": [
    "y_test[:5]"
   ]
  },
  {
   "cell_type": "code",
   "execution_count": 16,
   "id": "36bc02e9",
   "metadata": {},
   "outputs": [
    {
     "name": "stdout",
     "output_type": "stream",
     "text": [
      "3/3 [==============================] - 0s 2ms/step\n"
     ]
    }
   ],
   "source": [
    "# 실제값 : y_test (68개)\n",
    "# 예측값\n",
    "\n",
    "y_hat = (model.predict(X_test) >= 0.5).astype(float)"
   ]
  },
  {
   "cell_type": "code",
   "execution_count": 17,
   "id": "efbe01b0",
   "metadata": {},
   "outputs": [
    {
     "name": "stdout",
     "output_type": "stream",
     "text": [
      "(68,) (68, 1)\n",
      "36 5\n",
      "19 8\n"
     ]
    }
   ],
   "source": [
    "TN = 0  # 0을 0으로 예측한 경우의 수 (T)\n",
    "FP = 0  # 0을 1로 예측한 경우의 수 (F)\n",
    "FN = 0  # 1을 0으로 예측한 경우의 수 (F)\n",
    "TP = 0  # 1을 1로 예측한 경우의 수 (T)\n",
    "print(y_test.shape, y_hat.shape)\n",
    "\n",
    "for y, h in zip(y_test, y_hat.reshape(-1)) :\n",
    "    if y == 0 and h == 0 :\n",
    "        TN += 1\n",
    "    elif y == 0 and h == 1 :\n",
    "        FP += 1\n",
    "    elif y == 1 and h == 0 :\n",
    "        FN += 1\n",
    "    else :\n",
    "        TP += 1\n",
    "print(TN, FP)\n",
    "print(FN, TP)"
   ]
  },
  {
   "cell_type": "code",
   "execution_count": 18,
   "id": "a0c1df1d",
   "metadata": {},
   "outputs": [
    {
     "data": {
      "text/html": [
       "<div>\n",
       "<style scoped>\n",
       "    .dataframe tbody tr th:only-of-type {\n",
       "        vertical-align: middle;\n",
       "    }\n",
       "\n",
       "    .dataframe tbody tr th {\n",
       "        vertical-align: top;\n",
       "    }\n",
       "\n",
       "    .dataframe thead th {\n",
       "        text-align: right;\n",
       "    }\n",
       "</style>\n",
       "<table border=\"1\" class=\"dataframe\">\n",
       "  <thead>\n",
       "    <tr style=\"text-align: right;\">\n",
       "      <th>예측값</th>\n",
       "      <th>0.0</th>\n",
       "      <th>1.0</th>\n",
       "    </tr>\n",
       "    <tr>\n",
       "      <th>실제값</th>\n",
       "      <th></th>\n",
       "      <th></th>\n",
       "    </tr>\n",
       "  </thead>\n",
       "  <tbody>\n",
       "    <tr>\n",
       "      <th>0.0</th>\n",
       "      <td>36</td>\n",
       "      <td>5</td>\n",
       "    </tr>\n",
       "    <tr>\n",
       "      <th>1.0</th>\n",
       "      <td>19</td>\n",
       "      <td>8</td>\n",
       "    </tr>\n",
       "  </tbody>\n",
       "</table>\n",
       "</div>"
      ],
      "text/plain": [
       "예측값  0.0  1.0\n",
       "실제값          \n",
       "0.0   36    5\n",
       "1.0   19    8"
      ]
     },
     "execution_count": 18,
     "metadata": {},
     "output_type": "execute_result"
    }
   ],
   "source": [
    "# 교차표\n",
    "\n",
    "ctab = pd.crosstab(y_test,  # 실제값\n",
    "                  y_hat.reshape(-1))  # 예측값\n",
    "ctab.index.name = '실제값'\n",
    "ctab.columns.name = '예측값'\n",
    "ctab\n",
    "pd.crosstab(y_test,  # 실제값\n",
    "            y_hat.reshape(-1),  # 예측값\n",
    "            rownames = ['실제값'],\n",
    "            colnames = ['예측값']) "
   ]
  },
  {
   "cell_type": "code",
   "execution_count": 19,
   "id": "475d10df",
   "metadata": {},
   "outputs": [
    {
     "data": {
      "text/plain": [
       "array([[36,  5],\n",
       "       [19,  8]], dtype=int64)"
      ]
     },
     "execution_count": 19,
     "metadata": {},
     "output_type": "execute_result"
    }
   ],
   "source": [
    "# 혼동행렬\n",
    "\n",
    "from sklearn.metrics import confusion_matrix\n",
    "\n",
    "confusion_matrix(y_test,\n",
    "                y_hat.reshape(-1))"
   ]
  },
  {
   "cell_type": "code",
   "execution_count": 20,
   "id": "e7668bef",
   "metadata": {},
   "outputs": [
    {
     "name": "stdout",
     "output_type": "stream",
     "text": [
      "accuracy : 0.6470588235294118\n",
      "recall : 0.2962962962962963\n",
      "precision : 0.6153846153846154\n"
     ]
    }
   ],
   "source": [
    "# accuracy\n",
    "\n",
    "print('accuracy :', (TN + TP) / (TN + FP + FN + TP))\n",
    "print('recall :', (TP) / (FN + TP))\n",
    "print('precision :', (TP) / (FP + TP))"
   ]
  },
  {
   "cell_type": "markdown",
   "id": "96e6a053",
   "metadata": {},
   "source": [
    "## 6. 모델 사용"
   ]
  },
  {
   "cell_type": "code",
   "execution_count": 21,
   "id": "5ec478cf",
   "metadata": {},
   "outputs": [
    {
     "data": {
      "text/plain": [
       "array([  2.   , 122.   ,  76.   ,  27.   , 200.   ,  35.9  ,   0.483,\n",
       "        26.   ])"
      ]
     },
     "execution_count": 21,
     "metadata": {},
     "output_type": "execute_result"
    }
   ],
   "source": [
    "X_test[0]"
   ]
  },
  {
   "cell_type": "code",
   "execution_count": 22,
   "id": "ea648774",
   "metadata": {},
   "outputs": [
    {
     "name": "stdout",
     "output_type": "stream",
     "text": [
      "1/1 [==============================] - 0s 29ms/step\n"
     ]
    },
    {
     "data": {
      "text/plain": [
       "0"
      ]
     },
     "execution_count": 22,
     "metadata": {},
     "output_type": "execute_result"
    }
   ],
   "source": [
    "int(model.predict(np.array([[2, 122, 76, 27, 200, 35.9, 0.483, 26]])) >= 0.5)"
   ]
  },
  {
   "cell_type": "code",
   "execution_count": 23,
   "id": "c712fb61",
   "metadata": {},
   "outputs": [
    {
     "name": "stdout",
     "output_type": "stream",
     "text": [
      "1/1 [==============================] - 0s 43ms/step\n"
     ]
    },
    {
     "data": {
      "text/plain": [
       "array([[0],\n",
       "       [0]])"
      ]
     },
     "execution_count": 23,
     "metadata": {},
     "output_type": "execute_result"
    }
   ],
   "source": [
    "(model.predict([[2, 122, 76, 27, 200, 35.9, 0.483, 26],\n",
    "               [0, 122, 76, 27, 200, 35.9, 0.483, 26]])).astype(int)"
   ]
  },
  {
   "cell_type": "markdown",
   "id": "f2b571c5",
   "metadata": {},
   "source": [
    "# 분류분석\n",
    "1. 데이터셋 생성 및 전처리 : 훈련셋(600), 검증셋(100), 테스트셋(68)\n",
    "2. 모델 생성(input8, output 2) : 출력층 softmax(출력합을 1)\n",
    "    - model.summary() 파라미터 수와 메모리 확인\n",
    "3. 모델 학습과정 설정 : loss = \"categorical_crossentropy, metrics = ['accuracy']\n",
    "4. 모델 학습 : 훈련셋과 검증셋\n",
    "5. 모델 평가 : 그래프(hist.history), 평가(테스트셋), 교차표(테스트셋)\n",
    "6. 모델 저장 및 사용 : predict결과에 argmax() [99.2, 0.8]"
   ]
  },
  {
   "cell_type": "markdown",
   "id": "0be71507",
   "metadata": {},
   "source": [
    "## 1. 데이터 셋 생성 및 전저리"
   ]
  },
  {
   "cell_type": "code",
   "execution_count": 24,
   "id": "96c5aa34",
   "metadata": {},
   "outputs": [
    {
     "data": {
      "text/plain": [
       "(768, 9)"
      ]
     },
     "execution_count": 24,
     "metadata": {},
     "output_type": "execute_result"
    }
   ],
   "source": [
    "dataset = np.loadtxt('data/pima-indians-diabetes.csv', encoding = 'utf-8', delimiter = ',')\n",
    "dataset.shape"
   ]
  },
  {
   "cell_type": "code",
   "execution_count": 25,
   "id": "b12e4d2f",
   "metadata": {},
   "outputs": [
    {
     "data": {
      "text/plain": [
       "((600, 8), (600,), (100, 8), (100,), (68, 8), (68,))"
      ]
     },
     "execution_count": 25,
     "metadata": {},
     "output_type": "execute_result"
    }
   ],
   "source": [
    "# 훈련셋(600), 검증셋(100), 테스트셋(68)\n",
    "\n",
    "X_train = dataset[:600, :-1]\n",
    "y_train = dataset[:600, -1]\n",
    "X_val = dataset[600:700, :-1]\n",
    "y_val = dataset[600:700, -1]\n",
    "X_test = dataset[700:, :-1]\n",
    "y_test = dataset[700:, -1]\n",
    "X_train.shape, y_train.shape, X_val.shape, y_val.shape, X_test.shape, y_test.shape"
   ]
  },
  {
   "cell_type": "code",
   "execution_count": 26,
   "id": "e4587709",
   "metadata": {},
   "outputs": [
    {
     "name": "stdout",
     "output_type": "stream",
     "text": [
      "[1. 0. 1. 0. 1.]\n",
      "[[0. 1.]\n",
      " [1. 0.]\n",
      " [0. 1.]\n",
      " [1. 0.]\n",
      " [0. 1.]]\n"
     ]
    },
    {
     "data": {
      "text/plain": [
       "((600,), (600, 2), (100, 2), (68, 2))"
      ]
     },
     "execution_count": 26,
     "metadata": {},
     "output_type": "execute_result"
    }
   ],
   "source": [
    "# 타겟변수의 원핫인코딩(분류분석)\n",
    "\n",
    "print(y_train[:5])\n",
    "print(utils.to_categorical(y_train[:5]))\n",
    "Y_train = utils.to_categorical(y_train)\n",
    "Y_val = utils.to_categorical(y_val)\n",
    "Y_test = utils.to_categorical(y_test)\n",
    "y_train.shape, Y_train.shape, Y_val.shape, Y_test.shape"
   ]
  },
  {
   "cell_type": "markdown",
   "id": "2f4ae5c6",
   "metadata": {},
   "source": [
    "## 2. 모델 생성(input8, target2)\n",
    "\n",
    "- 과적합 줄이는 단계 추가 (dropout 추가)"
   ]
  },
  {
   "cell_type": "code",
   "execution_count": 27,
   "id": "a700fc10",
   "metadata": {},
   "outputs": [
    {
     "name": "stdout",
     "output_type": "stream",
     "text": [
      "Model: \"sequential_1\"\n",
      "_________________________________________________________________\n",
      " Layer (type)                Output Shape              Param #   \n",
      "=================================================================\n",
      " dense_3 (Dense)             (None, 32)                288       \n",
      "                                                                 \n",
      " dropout (Dropout)           (None, 32)                0         \n",
      "                                                                 \n",
      " dense_4 (Dense)             (None, 64)                2112      \n",
      "                                                                 \n",
      " dropout_1 (Dropout)         (None, 64)                0         \n",
      "                                                                 \n",
      " dense_5 (Dense)             (None, 16)                1040      \n",
      "                                                                 \n",
      " dropout_2 (Dropout)         (None, 16)                0         \n",
      "                                                                 \n",
      " dense_6 (Dense)             (None, 8)                 136       \n",
      "                                                                 \n",
      " dense_7 (Dense)             (None, 2)                 18        \n",
      "                                                                 \n",
      "=================================================================\n",
      "Total params: 3,594\n",
      "Trainable params: 3,594\n",
      "Non-trainable params: 0\n",
      "_________________________________________________________________\n"
     ]
    }
   ],
   "source": [
    "from tensorflow.keras.layers import Dropout\n",
    "\n",
    "model = Sequential()\n",
    "model.add(Input(shape = (8, )))\n",
    "model.add(Dense(units = 32, activation = 'relu'))\n",
    "model.add(Dropout(0.2))  # 과적합을 해결\n",
    "model.add(Dense(units = 64, activation = 'relu'))\n",
    "model.add(Dropout(0.1))\n",
    "model.add(Dense(units = 16, activation = 'relu'))\n",
    "model.add(Dropout(0.2))\n",
    "model.add(Dense(units = 8, activation = 'relu'))\n",
    "model.add(Dense(units = 2, activation = 'softmax'))\n",
    "model.summary()"
   ]
  },
  {
   "cell_type": "markdown",
   "id": "ac97aa13",
   "metadata": {},
   "source": [
    "## 3. 학습과정 설정"
   ]
  },
  {
   "cell_type": "code",
   "execution_count": 28,
   "id": "487fedad",
   "metadata": {},
   "outputs": [],
   "source": [
    "model.compile(loss = 'categorical_crossentropy',\n",
    "             optimizer = 'nadam',\n",
    "             metrics = ['accuracy'])"
   ]
  },
  {
   "cell_type": "markdown",
   "id": "6da0ad0b",
   "metadata": {},
   "source": [
    "## 4. 모델 학습"
   ]
  },
  {
   "cell_type": "code",
   "execution_count": 29,
   "id": "95abab24",
   "metadata": {},
   "outputs": [
    {
     "name": "stdout",
     "output_type": "stream",
     "text": [
      "Epoch 1/300\n",
      "19/19 - 1s - loss: 3.4154 - accuracy: 0.5650 - val_loss: 0.7313 - val_accuracy: 0.6600 - 992ms/epoch - 52ms/step\n",
      "Epoch 2/300\n",
      "19/19 - 0s - loss: 1.4318 - accuracy: 0.5633 - val_loss: 0.8212 - val_accuracy: 0.6700 - 63ms/epoch - 3ms/step\n",
      "Epoch 3/300\n",
      "19/19 - 0s - loss: 1.2350 - accuracy: 0.6050 - val_loss: 0.7117 - val_accuracy: 0.6700 - 59ms/epoch - 3ms/step\n",
      "Epoch 4/300\n",
      "19/19 - 0s - loss: 1.0159 - accuracy: 0.5700 - val_loss: 0.6968 - val_accuracy: 0.6700 - 61ms/epoch - 3ms/step\n",
      "Epoch 5/300\n",
      "19/19 - 0s - loss: 0.9047 - accuracy: 0.5733 - val_loss: 0.6518 - val_accuracy: 0.6700 - 62ms/epoch - 3ms/step\n",
      "Epoch 6/300\n",
      "19/19 - 0s - loss: 0.8494 - accuracy: 0.5933 - val_loss: 0.6514 - val_accuracy: 0.6700 - 65ms/epoch - 3ms/step\n",
      "Epoch 7/300\n",
      "19/19 - 0s - loss: 0.7743 - accuracy: 0.6100 - val_loss: 0.6316 - val_accuracy: 0.6700 - 62ms/epoch - 3ms/step\n",
      "Epoch 8/300\n",
      "19/19 - 0s - loss: 0.7525 - accuracy: 0.6117 - val_loss: 0.6326 - val_accuracy: 0.6700 - 63ms/epoch - 3ms/step\n",
      "Epoch 9/300\n",
      "19/19 - 0s - loss: 0.6981 - accuracy: 0.6433 - val_loss: 0.6450 - val_accuracy: 0.6700 - 61ms/epoch - 3ms/step\n",
      "Epoch 10/300\n",
      "19/19 - 0s - loss: 0.7144 - accuracy: 0.6217 - val_loss: 0.6372 - val_accuracy: 0.6700 - 64ms/epoch - 3ms/step\n",
      "Epoch 11/300\n",
      "19/19 - 0s - loss: 0.7082 - accuracy: 0.6400 - val_loss: 0.6353 - val_accuracy: 0.6700 - 64ms/epoch - 3ms/step\n",
      "Epoch 12/300\n",
      "19/19 - 0s - loss: 0.6927 - accuracy: 0.6467 - val_loss: 0.6313 - val_accuracy: 0.6700 - 63ms/epoch - 3ms/step\n",
      "Epoch 13/300\n",
      "19/19 - 0s - loss: 0.6720 - accuracy: 0.6400 - val_loss: 0.6395 - val_accuracy: 0.6700 - 62ms/epoch - 3ms/step\n",
      "Epoch 14/300\n",
      "19/19 - 0s - loss: 0.6894 - accuracy: 0.6600 - val_loss: 0.6383 - val_accuracy: 0.6700 - 68ms/epoch - 4ms/step\n",
      "Epoch 15/300\n",
      "19/19 - 0s - loss: 0.6735 - accuracy: 0.6433 - val_loss: 0.6308 - val_accuracy: 0.6700 - 100ms/epoch - 5ms/step\n",
      "Epoch 16/300\n",
      "19/19 - 0s - loss: 0.6607 - accuracy: 0.6467 - val_loss: 0.6338 - val_accuracy: 0.6700 - 67ms/epoch - 4ms/step\n",
      "Epoch 17/300\n",
      "19/19 - 0s - loss: 0.6747 - accuracy: 0.6467 - val_loss: 0.6420 - val_accuracy: 0.6700 - 66ms/epoch - 3ms/step\n",
      "Epoch 18/300\n",
      "19/19 - 0s - loss: 0.6675 - accuracy: 0.6550 - val_loss: 0.6430 - val_accuracy: 0.6700 - 66ms/epoch - 3ms/step\n",
      "Epoch 19/300\n",
      "19/19 - 0s - loss: 0.6584 - accuracy: 0.6600 - val_loss: 0.6400 - val_accuracy: 0.6700 - 65ms/epoch - 3ms/step\n",
      "Epoch 20/300\n",
      "19/19 - 0s - loss: 0.6653 - accuracy: 0.6533 - val_loss: 0.6387 - val_accuracy: 0.6700 - 61ms/epoch - 3ms/step\n",
      "Epoch 21/300\n",
      "19/19 - 0s - loss: 0.6766 - accuracy: 0.6483 - val_loss: 0.6369 - val_accuracy: 0.6700 - 72ms/epoch - 4ms/step\n",
      "Epoch 22/300\n",
      "19/19 - 0s - loss: 0.6518 - accuracy: 0.6450 - val_loss: 0.6409 - val_accuracy: 0.6700 - 66ms/epoch - 3ms/step\n",
      "Epoch 23/300\n",
      "19/19 - 0s - loss: 0.6622 - accuracy: 0.6500 - val_loss: 0.6418 - val_accuracy: 0.6700 - 67ms/epoch - 4ms/step\n",
      "Epoch 24/300\n",
      "19/19 - 0s - loss: 0.6512 - accuracy: 0.6517 - val_loss: 0.6415 - val_accuracy: 0.6700 - 63ms/epoch - 3ms/step\n",
      "Epoch 25/300\n",
      "19/19 - 0s - loss: 0.6499 - accuracy: 0.6550 - val_loss: 0.6398 - val_accuracy: 0.6700 - 64ms/epoch - 3ms/step\n",
      "Epoch 26/300\n",
      "19/19 - 0s - loss: 0.6643 - accuracy: 0.6567 - val_loss: 0.6368 - val_accuracy: 0.6700 - 66ms/epoch - 3ms/step\n",
      "Epoch 27/300\n",
      "19/19 - 0s - loss: 0.6486 - accuracy: 0.6567 - val_loss: 0.6384 - val_accuracy: 0.6700 - 61ms/epoch - 3ms/step\n",
      "Epoch 28/300\n",
      "19/19 - 0s - loss: 0.6456 - accuracy: 0.6500 - val_loss: 0.6362 - val_accuracy: 0.6700 - 65ms/epoch - 3ms/step\n",
      "Epoch 29/300\n",
      "19/19 - 0s - loss: 0.6418 - accuracy: 0.6567 - val_loss: 0.6351 - val_accuracy: 0.6700 - 70ms/epoch - 4ms/step\n",
      "Epoch 30/300\n",
      "19/19 - 0s - loss: 0.6521 - accuracy: 0.6550 - val_loss: 0.6329 - val_accuracy: 0.6700 - 72ms/epoch - 4ms/step\n",
      "Epoch 31/300\n",
      "19/19 - 0s - loss: 0.6402 - accuracy: 0.6650 - val_loss: 0.6316 - val_accuracy: 0.6700 - 71ms/epoch - 4ms/step\n",
      "Epoch 32/300\n",
      "19/19 - 0s - loss: 0.6448 - accuracy: 0.6567 - val_loss: 0.6312 - val_accuracy: 0.6700 - 69ms/epoch - 4ms/step\n",
      "Epoch 33/300\n",
      "19/19 - 0s - loss: 0.6455 - accuracy: 0.6517 - val_loss: 0.6268 - val_accuracy: 0.6700 - 63ms/epoch - 3ms/step\n",
      "Epoch 34/300\n",
      "19/19 - 0s - loss: 0.6487 - accuracy: 0.6500 - val_loss: 0.6285 - val_accuracy: 0.6700 - 62ms/epoch - 3ms/step\n",
      "Epoch 35/300\n",
      "19/19 - 0s - loss: 0.6429 - accuracy: 0.6550 - val_loss: 0.6266 - val_accuracy: 0.6700 - 77ms/epoch - 4ms/step\n",
      "Epoch 36/300\n",
      "19/19 - 0s - loss: 0.6542 - accuracy: 0.6550 - val_loss: 0.6264 - val_accuracy: 0.6700 - 69ms/epoch - 4ms/step\n",
      "Epoch 37/300\n",
      "19/19 - 0s - loss: 0.6504 - accuracy: 0.6483 - val_loss: 0.6253 - val_accuracy: 0.6700 - 70ms/epoch - 4ms/step\n",
      "Epoch 38/300\n",
      "19/19 - 0s - loss: 0.6429 - accuracy: 0.6533 - val_loss: 0.6244 - val_accuracy: 0.6700 - 60ms/epoch - 3ms/step\n",
      "Epoch 39/300\n",
      "19/19 - 0s - loss: 0.6367 - accuracy: 0.6567 - val_loss: 0.6244 - val_accuracy: 0.6700 - 61ms/epoch - 3ms/step\n",
      "Epoch 40/300\n",
      "19/19 - 0s - loss: 0.6415 - accuracy: 0.6467 - val_loss: 0.6253 - val_accuracy: 0.6700 - 73ms/epoch - 4ms/step\n",
      "Epoch 41/300\n",
      "19/19 - 0s - loss: 0.6469 - accuracy: 0.6467 - val_loss: 0.6294 - val_accuracy: 0.6700 - 71ms/epoch - 4ms/step\n",
      "Epoch 42/300\n",
      "19/19 - 0s - loss: 0.6428 - accuracy: 0.6533 - val_loss: 0.6292 - val_accuracy: 0.6700 - 72ms/epoch - 4ms/step\n",
      "Epoch 43/300\n",
      "19/19 - 0s - loss: 0.6521 - accuracy: 0.6517 - val_loss: 0.6248 - val_accuracy: 0.6700 - 62ms/epoch - 3ms/step\n",
      "Epoch 44/300\n",
      "19/19 - 0s - loss: 0.6365 - accuracy: 0.6617 - val_loss: 0.6261 - val_accuracy: 0.6700 - 65ms/epoch - 3ms/step\n",
      "Epoch 45/300\n",
      "19/19 - 0s - loss: 0.6484 - accuracy: 0.6533 - val_loss: 0.6271 - val_accuracy: 0.6700 - 72ms/epoch - 4ms/step\n",
      "Epoch 46/300\n",
      "19/19 - 0s - loss: 0.6468 - accuracy: 0.6500 - val_loss: 0.6236 - val_accuracy: 0.6700 - 70ms/epoch - 4ms/step\n",
      "Epoch 47/300\n",
      "19/19 - 0s - loss: 0.6421 - accuracy: 0.6533 - val_loss: 0.6263 - val_accuracy: 0.6700 - 80ms/epoch - 4ms/step\n",
      "Epoch 48/300\n",
      "19/19 - 0s - loss: 0.6329 - accuracy: 0.6517 - val_loss: 0.6189 - val_accuracy: 0.6700 - 61ms/epoch - 3ms/step\n",
      "Epoch 49/300\n",
      "19/19 - 0s - loss: 0.6342 - accuracy: 0.6567 - val_loss: 0.6186 - val_accuracy: 0.6700 - 62ms/epoch - 3ms/step\n",
      "Epoch 50/300\n",
      "19/19 - 0s - loss: 0.6277 - accuracy: 0.6600 - val_loss: 0.6212 - val_accuracy: 0.6700 - 65ms/epoch - 3ms/step\n",
      "Epoch 51/300\n",
      "19/19 - 0s - loss: 0.6351 - accuracy: 0.6483 - val_loss: 0.6192 - val_accuracy: 0.6700 - 60ms/epoch - 3ms/step\n",
      "Epoch 52/300\n",
      "19/19 - 0s - loss: 0.6478 - accuracy: 0.6550 - val_loss: 0.6195 - val_accuracy: 0.6700 - 64ms/epoch - 3ms/step\n",
      "Epoch 53/300\n",
      "19/19 - 0s - loss: 0.6381 - accuracy: 0.6500 - val_loss: 0.6163 - val_accuracy: 0.6700 - 61ms/epoch - 3ms/step\n",
      "Epoch 54/300\n",
      "19/19 - 0s - loss: 0.6313 - accuracy: 0.6583 - val_loss: 0.6180 - val_accuracy: 0.6700 - 72ms/epoch - 4ms/step\n",
      "Epoch 55/300\n",
      "19/19 - 0s - loss: 0.6400 - accuracy: 0.6467 - val_loss: 0.6152 - val_accuracy: 0.6700 - 69ms/epoch - 4ms/step\n",
      "Epoch 56/300\n",
      "19/19 - 0s - loss: 0.6412 - accuracy: 0.6533 - val_loss: 0.6159 - val_accuracy: 0.6700 - 73ms/epoch - 4ms/step\n",
      "Epoch 57/300\n",
      "19/19 - 0s - loss: 0.6350 - accuracy: 0.6550 - val_loss: 0.6137 - val_accuracy: 0.6700 - 63ms/epoch - 3ms/step\n",
      "Epoch 58/300\n",
      "19/19 - 0s - loss: 0.6357 - accuracy: 0.6517 - val_loss: 0.6153 - val_accuracy: 0.6700 - 58ms/epoch - 3ms/step\n",
      "Epoch 59/300\n",
      "19/19 - 0s - loss: 0.6454 - accuracy: 0.6500 - val_loss: 0.6148 - val_accuracy: 0.6700 - 57ms/epoch - 3ms/step\n",
      "Epoch 60/300\n",
      "19/19 - 0s - loss: 0.6289 - accuracy: 0.6550 - val_loss: 0.6138 - val_accuracy: 0.6700 - 59ms/epoch - 3ms/step\n",
      "Epoch 61/300\n",
      "19/19 - 0s - loss: 0.6306 - accuracy: 0.6533 - val_loss: 0.6141 - val_accuracy: 0.6700 - 58ms/epoch - 3ms/step\n",
      "Epoch 62/300\n",
      "19/19 - 0s - loss: 0.6311 - accuracy: 0.6533 - val_loss: 0.6167 - val_accuracy: 0.6700 - 59ms/epoch - 3ms/step\n",
      "Epoch 63/300\n",
      "19/19 - 0s - loss: 0.6304 - accuracy: 0.6600 - val_loss: 0.6162 - val_accuracy: 0.6700 - 58ms/epoch - 3ms/step\n",
      "Epoch 64/300\n",
      "19/19 - 0s - loss: 0.6391 - accuracy: 0.6483 - val_loss: 0.6137 - val_accuracy: 0.6700 - 57ms/epoch - 3ms/step\n",
      "Epoch 65/300\n",
      "19/19 - 0s - loss: 0.6375 - accuracy: 0.6550 - val_loss: 0.6157 - val_accuracy: 0.6700 - 65ms/epoch - 3ms/step\n",
      "Epoch 66/300\n",
      "19/19 - 0s - loss: 0.6321 - accuracy: 0.6500 - val_loss: 0.6158 - val_accuracy: 0.6700 - 68ms/epoch - 4ms/step\n",
      "Epoch 67/300\n",
      "19/19 - 0s - loss: 0.6321 - accuracy: 0.6517 - val_loss: 0.6152 - val_accuracy: 0.6700 - 73ms/epoch - 4ms/step\n"
     ]
    },
    {
     "name": "stdout",
     "output_type": "stream",
     "text": [
      "Epoch 68/300\n",
      "19/19 - 0s - loss: 0.6204 - accuracy: 0.6567 - val_loss: 0.6124 - val_accuracy: 0.6700 - 74ms/epoch - 4ms/step\n",
      "Epoch 69/300\n",
      "19/19 - 0s - loss: 0.6514 - accuracy: 0.6533 - val_loss: 0.6163 - val_accuracy: 0.6700 - 68ms/epoch - 4ms/step\n",
      "Epoch 70/300\n",
      "19/19 - 0s - loss: 0.6340 - accuracy: 0.6517 - val_loss: 0.6119 - val_accuracy: 0.6700 - 58ms/epoch - 3ms/step\n",
      "Epoch 71/300\n",
      "19/19 - 0s - loss: 0.6337 - accuracy: 0.6567 - val_loss: 0.6125 - val_accuracy: 0.6700 - 57ms/epoch - 3ms/step\n",
      "Epoch 72/300\n",
      "19/19 - 0s - loss: 0.6325 - accuracy: 0.6533 - val_loss: 0.6142 - val_accuracy: 0.6700 - 60ms/epoch - 3ms/step\n",
      "Epoch 73/300\n",
      "19/19 - 0s - loss: 0.6335 - accuracy: 0.6550 - val_loss: 0.6117 - val_accuracy: 0.6700 - 58ms/epoch - 3ms/step\n",
      "Epoch 74/300\n",
      "19/19 - 0s - loss: 0.6324 - accuracy: 0.6517 - val_loss: 0.6146 - val_accuracy: 0.6700 - 57ms/epoch - 3ms/step\n",
      "Epoch 75/300\n",
      "19/19 - 0s - loss: 0.6296 - accuracy: 0.6583 - val_loss: 0.6143 - val_accuracy: 0.6700 - 61ms/epoch - 3ms/step\n",
      "Epoch 76/300\n",
      "19/19 - 0s - loss: 0.6319 - accuracy: 0.6583 - val_loss: 0.6209 - val_accuracy: 0.6700 - 59ms/epoch - 3ms/step\n",
      "Epoch 77/300\n",
      "19/19 - 0s - loss: 0.6365 - accuracy: 0.6550 - val_loss: 0.6205 - val_accuracy: 0.6700 - 58ms/epoch - 3ms/step\n",
      "Epoch 78/300\n",
      "19/19 - 0s - loss: 0.6309 - accuracy: 0.6517 - val_loss: 0.6154 - val_accuracy: 0.6700 - 60ms/epoch - 3ms/step\n",
      "Epoch 79/300\n",
      "19/19 - 0s - loss: 0.6306 - accuracy: 0.6483 - val_loss: 0.6126 - val_accuracy: 0.6700 - 71ms/epoch - 4ms/step\n",
      "Epoch 80/300\n",
      "19/19 - 0s - loss: 0.6360 - accuracy: 0.6517 - val_loss: 0.6128 - val_accuracy: 0.6700 - 66ms/epoch - 3ms/step\n",
      "Epoch 81/300\n",
      "19/19 - 0s - loss: 0.6316 - accuracy: 0.6567 - val_loss: 0.6126 - val_accuracy: 0.6700 - 65ms/epoch - 3ms/step\n",
      "Epoch 82/300\n",
      "19/19 - 0s - loss: 0.6276 - accuracy: 0.6533 - val_loss: 0.6128 - val_accuracy: 0.6700 - 70ms/epoch - 4ms/step\n",
      "Epoch 83/300\n",
      "19/19 - 0s - loss: 0.6235 - accuracy: 0.6550 - val_loss: 0.6119 - val_accuracy: 0.6700 - 75ms/epoch - 4ms/step\n",
      "Epoch 84/300\n",
      "19/19 - 0s - loss: 0.6293 - accuracy: 0.6567 - val_loss: 0.6120 - val_accuracy: 0.6700 - 70ms/epoch - 4ms/step\n",
      "Epoch 85/300\n",
      "19/19 - 0s - loss: 0.6391 - accuracy: 0.6533 - val_loss: 0.6132 - val_accuracy: 0.6700 - 60ms/epoch - 3ms/step\n",
      "Epoch 86/300\n",
      "19/19 - 0s - loss: 0.6220 - accuracy: 0.6567 - val_loss: 0.6109 - val_accuracy: 0.6700 - 57ms/epoch - 3ms/step\n",
      "Epoch 87/300\n",
      "19/19 - 0s - loss: 0.6270 - accuracy: 0.6550 - val_loss: 0.6123 - val_accuracy: 0.6700 - 57ms/epoch - 3ms/step\n",
      "Epoch 88/300\n",
      "19/19 - 0s - loss: 0.6221 - accuracy: 0.6533 - val_loss: 0.6137 - val_accuracy: 0.6700 - 64ms/epoch - 3ms/step\n",
      "Epoch 89/300\n",
      "19/19 - 0s - loss: 0.6288 - accuracy: 0.6517 - val_loss: 0.6137 - val_accuracy: 0.6700 - 58ms/epoch - 3ms/step\n",
      "Epoch 90/300\n",
      "19/19 - 0s - loss: 0.6316 - accuracy: 0.6550 - val_loss: 0.6173 - val_accuracy: 0.6700 - 59ms/epoch - 3ms/step\n",
      "Epoch 91/300\n",
      "19/19 - 0s - loss: 0.6176 - accuracy: 0.6550 - val_loss: 0.6120 - val_accuracy: 0.6700 - 58ms/epoch - 3ms/step\n",
      "Epoch 92/300\n",
      "19/19 - 0s - loss: 0.6325 - accuracy: 0.6567 - val_loss: 0.6115 - val_accuracy: 0.6700 - 64ms/epoch - 3ms/step\n",
      "Epoch 93/300\n",
      "19/19 - 0s - loss: 0.6144 - accuracy: 0.6567 - val_loss: 0.6110 - val_accuracy: 0.6700 - 74ms/epoch - 4ms/step\n",
      "Epoch 94/300\n",
      "19/19 - 0s - loss: 0.6373 - accuracy: 0.6500 - val_loss: 0.6106 - val_accuracy: 0.6700 - 75ms/epoch - 4ms/step\n",
      "Epoch 95/300\n",
      "19/19 - 0s - loss: 0.6305 - accuracy: 0.6500 - val_loss: 0.6120 - val_accuracy: 0.6700 - 64ms/epoch - 3ms/step\n",
      "Epoch 96/300\n",
      "19/19 - 0s - loss: 0.6244 - accuracy: 0.6500 - val_loss: 0.6108 - val_accuracy: 0.6700 - 59ms/epoch - 3ms/step\n",
      "Epoch 97/300\n",
      "19/19 - 0s - loss: 0.6269 - accuracy: 0.6550 - val_loss: 0.6110 - val_accuracy: 0.6700 - 58ms/epoch - 3ms/step\n",
      "Epoch 98/300\n",
      "19/19 - 0s - loss: 0.6256 - accuracy: 0.6550 - val_loss: 0.6121 - val_accuracy: 0.6700 - 58ms/epoch - 3ms/step\n",
      "Epoch 99/300\n",
      "19/19 - 0s - loss: 0.6345 - accuracy: 0.6483 - val_loss: 0.6098 - val_accuracy: 0.6700 - 58ms/epoch - 3ms/step\n",
      "Epoch 100/300\n",
      "19/19 - 0s - loss: 0.6118 - accuracy: 0.6550 - val_loss: 0.6086 - val_accuracy: 0.6700 - 59ms/epoch - 3ms/step\n",
      "Epoch 101/300\n",
      "19/19 - 0s - loss: 0.6196 - accuracy: 0.6500 - val_loss: 0.6061 - val_accuracy: 0.6700 - 56ms/epoch - 3ms/step\n",
      "Epoch 102/300\n",
      "19/19 - 0s - loss: 0.6272 - accuracy: 0.6517 - val_loss: 0.6045 - val_accuracy: 0.6700 - 58ms/epoch - 3ms/step\n",
      "Epoch 103/300\n",
      "19/19 - 0s - loss: 0.6189 - accuracy: 0.6500 - val_loss: 0.6091 - val_accuracy: 0.6700 - 58ms/epoch - 3ms/step\n",
      "Epoch 104/300\n",
      "19/19 - 0s - loss: 0.6228 - accuracy: 0.6633 - val_loss: 0.6101 - val_accuracy: 0.6700 - 57ms/epoch - 3ms/step\n",
      "Epoch 105/300\n",
      "19/19 - 0s - loss: 0.6246 - accuracy: 0.6500 - val_loss: 0.6079 - val_accuracy: 0.6700 - 57ms/epoch - 3ms/step\n",
      "Epoch 106/300\n",
      "19/19 - 0s - loss: 0.6291 - accuracy: 0.6600 - val_loss: 0.6112 - val_accuracy: 0.6700 - 58ms/epoch - 3ms/step\n",
      "Epoch 107/300\n",
      "19/19 - 0s - loss: 0.6223 - accuracy: 0.6533 - val_loss: 0.6079 - val_accuracy: 0.6700 - 58ms/epoch - 3ms/step\n",
      "Epoch 108/300\n",
      "19/19 - 0s - loss: 0.6314 - accuracy: 0.6583 - val_loss: 0.6070 - val_accuracy: 0.6700 - 55ms/epoch - 3ms/step\n",
      "Epoch 109/300\n",
      "19/19 - 0s - loss: 0.6233 - accuracy: 0.6517 - val_loss: 0.6008 - val_accuracy: 0.6900 - 60ms/epoch - 3ms/step\n",
      "Epoch 110/300\n",
      "19/19 - 0s - loss: 0.6206 - accuracy: 0.6617 - val_loss: 0.6042 - val_accuracy: 0.6800 - 59ms/epoch - 3ms/step\n",
      "Epoch 111/300\n",
      "19/19 - 0s - loss: 0.6257 - accuracy: 0.6450 - val_loss: 0.6055 - val_accuracy: 0.6700 - 62ms/epoch - 3ms/step\n",
      "Epoch 112/300\n",
      "19/19 - 0s - loss: 0.6223 - accuracy: 0.6533 - val_loss: 0.6074 - val_accuracy: 0.6800 - 61ms/epoch - 3ms/step\n",
      "Epoch 113/300\n",
      "19/19 - 0s - loss: 0.6237 - accuracy: 0.6717 - val_loss: 0.6067 - val_accuracy: 0.6900 - 61ms/epoch - 3ms/step\n",
      "Epoch 114/300\n",
      "19/19 - 0s - loss: 0.6214 - accuracy: 0.6533 - val_loss: 0.6067 - val_accuracy: 0.6700 - 61ms/epoch - 3ms/step\n",
      "Epoch 115/300\n",
      "19/19 - 0s - loss: 0.6166 - accuracy: 0.6567 - val_loss: 0.6097 - val_accuracy: 0.6700 - 59ms/epoch - 3ms/step\n",
      "Epoch 116/300\n",
      "19/19 - 0s - loss: 0.6104 - accuracy: 0.6700 - val_loss: 0.6044 - val_accuracy: 0.6900 - 59ms/epoch - 3ms/step\n",
      "Epoch 117/300\n",
      "19/19 - 0s - loss: 0.6178 - accuracy: 0.6683 - val_loss: 0.6079 - val_accuracy: 0.6900 - 62ms/epoch - 3ms/step\n",
      "Epoch 118/300\n",
      "19/19 - 0s - loss: 0.6068 - accuracy: 0.6617 - val_loss: 0.6007 - val_accuracy: 0.6900 - 60ms/epoch - 3ms/step\n",
      "Epoch 119/300\n",
      "19/19 - 0s - loss: 0.6171 - accuracy: 0.6617 - val_loss: 0.6048 - val_accuracy: 0.6900 - 59ms/epoch - 3ms/step\n",
      "Epoch 120/300\n",
      "19/19 - 0s - loss: 0.6152 - accuracy: 0.6600 - val_loss: 0.6060 - val_accuracy: 0.6800 - 74ms/epoch - 4ms/step\n",
      "Epoch 121/300\n",
      "19/19 - 0s - loss: 0.6056 - accuracy: 0.6667 - val_loss: 0.6057 - val_accuracy: 0.6700 - 58ms/epoch - 3ms/step\n",
      "Epoch 122/300\n",
      "19/19 - 0s - loss: 0.6179 - accuracy: 0.6750 - val_loss: 0.6060 - val_accuracy: 0.7000 - 60ms/epoch - 3ms/step\n",
      "Epoch 123/300\n",
      "19/19 - 0s - loss: 0.6135 - accuracy: 0.6650 - val_loss: 0.6010 - val_accuracy: 0.7000 - 62ms/epoch - 3ms/step\n",
      "Epoch 124/300\n",
      "19/19 - 0s - loss: 0.5946 - accuracy: 0.6867 - val_loss: 0.5959 - val_accuracy: 0.7100 - 62ms/epoch - 3ms/step\n",
      "Epoch 125/300\n",
      "19/19 - 0s - loss: 0.5966 - accuracy: 0.6817 - val_loss: 0.5943 - val_accuracy: 0.7000 - 58ms/epoch - 3ms/step\n",
      "Epoch 126/300\n",
      "19/19 - 0s - loss: 0.6091 - accuracy: 0.6733 - val_loss: 0.5987 - val_accuracy: 0.7000 - 59ms/epoch - 3ms/step\n",
      "Epoch 127/300\n",
      "19/19 - 0s - loss: 0.5991 - accuracy: 0.6783 - val_loss: 0.5903 - val_accuracy: 0.7100 - 66ms/epoch - 3ms/step\n",
      "Epoch 128/300\n",
      "19/19 - 0s - loss: 0.6056 - accuracy: 0.6867 - val_loss: 0.5907 - val_accuracy: 0.6900 - 62ms/epoch - 3ms/step\n",
      "Epoch 129/300\n",
      "19/19 - 0s - loss: 0.5868 - accuracy: 0.6967 - val_loss: 0.5860 - val_accuracy: 0.7200 - 59ms/epoch - 3ms/step\n",
      "Epoch 130/300\n",
      "19/19 - 0s - loss: 0.5924 - accuracy: 0.7000 - val_loss: 0.5941 - val_accuracy: 0.6900 - 56ms/epoch - 3ms/step\n",
      "Epoch 131/300\n",
      "19/19 - 0s - loss: 0.6073 - accuracy: 0.6667 - val_loss: 0.5980 - val_accuracy: 0.6900 - 59ms/epoch - 3ms/step\n",
      "Epoch 132/300\n",
      "19/19 - 0s - loss: 0.6010 - accuracy: 0.6750 - val_loss: 0.5973 - val_accuracy: 0.6900 - 58ms/epoch - 3ms/step\n",
      "Epoch 133/300\n",
      "19/19 - 0s - loss: 0.5931 - accuracy: 0.6633 - val_loss: 0.5971 - val_accuracy: 0.6800 - 59ms/epoch - 3ms/step\n"
     ]
    },
    {
     "name": "stdout",
     "output_type": "stream",
     "text": [
      "Epoch 134/300\n",
      "19/19 - 0s - loss: 0.5945 - accuracy: 0.6767 - val_loss: 0.5970 - val_accuracy: 0.6900 - 57ms/epoch - 3ms/step\n",
      "Epoch 135/300\n",
      "19/19 - 0s - loss: 0.6069 - accuracy: 0.6733 - val_loss: 0.5905 - val_accuracy: 0.7000 - 62ms/epoch - 3ms/step\n",
      "Epoch 136/300\n",
      "19/19 - 0s - loss: 0.5955 - accuracy: 0.6583 - val_loss: 0.5927 - val_accuracy: 0.7100 - 59ms/epoch - 3ms/step\n",
      "Epoch 137/300\n",
      "19/19 - 0s - loss: 0.6001 - accuracy: 0.6817 - val_loss: 0.5915 - val_accuracy: 0.7000 - 57ms/epoch - 3ms/step\n",
      "Epoch 138/300\n",
      "19/19 - 0s - loss: 0.5878 - accuracy: 0.6850 - val_loss: 0.5951 - val_accuracy: 0.6900 - 58ms/epoch - 3ms/step\n",
      "Epoch 139/300\n",
      "19/19 - 0s - loss: 0.5984 - accuracy: 0.6767 - val_loss: 0.5872 - val_accuracy: 0.6900 - 62ms/epoch - 3ms/step\n",
      "Epoch 140/300\n",
      "19/19 - 0s - loss: 0.5945 - accuracy: 0.6833 - val_loss: 0.5873 - val_accuracy: 0.6800 - 61ms/epoch - 3ms/step\n",
      "Epoch 141/300\n",
      "19/19 - 0s - loss: 0.5919 - accuracy: 0.6667 - val_loss: 0.5901 - val_accuracy: 0.7000 - 60ms/epoch - 3ms/step\n",
      "Epoch 142/300\n",
      "19/19 - 0s - loss: 0.5918 - accuracy: 0.6750 - val_loss: 0.5853 - val_accuracy: 0.7200 - 60ms/epoch - 3ms/step\n",
      "Epoch 143/300\n",
      "19/19 - 0s - loss: 0.5969 - accuracy: 0.6917 - val_loss: 0.5882 - val_accuracy: 0.7100 - 55ms/epoch - 3ms/step\n",
      "Epoch 144/300\n",
      "19/19 - 0s - loss: 0.5933 - accuracy: 0.6733 - val_loss: 0.5784 - val_accuracy: 0.7200 - 56ms/epoch - 3ms/step\n",
      "Epoch 145/300\n",
      "19/19 - 0s - loss: 0.5850 - accuracy: 0.6900 - val_loss: 0.5850 - val_accuracy: 0.7200 - 55ms/epoch - 3ms/step\n",
      "Epoch 146/300\n",
      "19/19 - 0s - loss: 0.5788 - accuracy: 0.6950 - val_loss: 0.5795 - val_accuracy: 0.7300 - 58ms/epoch - 3ms/step\n",
      "Epoch 147/300\n",
      "19/19 - 0s - loss: 0.5931 - accuracy: 0.6933 - val_loss: 0.5793 - val_accuracy: 0.7100 - 59ms/epoch - 3ms/step\n",
      "Epoch 148/300\n",
      "19/19 - 0s - loss: 0.5869 - accuracy: 0.7050 - val_loss: 0.5835 - val_accuracy: 0.6700 - 67ms/epoch - 4ms/step\n",
      "Epoch 149/300\n",
      "19/19 - 0s - loss: 0.5969 - accuracy: 0.6783 - val_loss: 0.5871 - val_accuracy: 0.7400 - 58ms/epoch - 3ms/step\n",
      "Epoch 150/300\n",
      "19/19 - 0s - loss: 0.5963 - accuracy: 0.6800 - val_loss: 0.5877 - val_accuracy: 0.7100 - 58ms/epoch - 3ms/step\n",
      "Epoch 151/300\n",
      "19/19 - 0s - loss: 0.5762 - accuracy: 0.7183 - val_loss: 0.5778 - val_accuracy: 0.7600 - 57ms/epoch - 3ms/step\n",
      "Epoch 152/300\n",
      "19/19 - 0s - loss: 0.5882 - accuracy: 0.6817 - val_loss: 0.5779 - val_accuracy: 0.7200 - 60ms/epoch - 3ms/step\n",
      "Epoch 153/300\n",
      "19/19 - 0s - loss: 0.5965 - accuracy: 0.6683 - val_loss: 0.5854 - val_accuracy: 0.7100 - 58ms/epoch - 3ms/step\n",
      "Epoch 154/300\n",
      "19/19 - 0s - loss: 0.5993 - accuracy: 0.6833 - val_loss: 0.5830 - val_accuracy: 0.7200 - 65ms/epoch - 3ms/step\n",
      "Epoch 155/300\n",
      "19/19 - 0s - loss: 0.5960 - accuracy: 0.6883 - val_loss: 0.5812 - val_accuracy: 0.7100 - 61ms/epoch - 3ms/step\n",
      "Epoch 156/300\n",
      "19/19 - 0s - loss: 0.5795 - accuracy: 0.6950 - val_loss: 0.5854 - val_accuracy: 0.7200 - 59ms/epoch - 3ms/step\n",
      "Epoch 157/300\n",
      "19/19 - 0s - loss: 0.5978 - accuracy: 0.6617 - val_loss: 0.5900 - val_accuracy: 0.6800 - 61ms/epoch - 3ms/step\n",
      "Epoch 158/300\n",
      "19/19 - 0s - loss: 0.5884 - accuracy: 0.6833 - val_loss: 0.5849 - val_accuracy: 0.7300 - 60ms/epoch - 3ms/step\n",
      "Epoch 159/300\n",
      "19/19 - 0s - loss: 0.5830 - accuracy: 0.6933 - val_loss: 0.5785 - val_accuracy: 0.7300 - 58ms/epoch - 3ms/step\n",
      "Epoch 160/300\n",
      "19/19 - 0s - loss: 0.5835 - accuracy: 0.7000 - val_loss: 0.5774 - val_accuracy: 0.7100 - 71ms/epoch - 4ms/step\n",
      "Epoch 161/300\n",
      "19/19 - 0s - loss: 0.5908 - accuracy: 0.6850 - val_loss: 0.5796 - val_accuracy: 0.7100 - 60ms/epoch - 3ms/step\n",
      "Epoch 162/300\n",
      "19/19 - 0s - loss: 0.5832 - accuracy: 0.6883 - val_loss: 0.5840 - val_accuracy: 0.7100 - 61ms/epoch - 3ms/step\n",
      "Epoch 163/300\n",
      "19/19 - 0s - loss: 0.5822 - accuracy: 0.6933 - val_loss: 0.5815 - val_accuracy: 0.7200 - 61ms/epoch - 3ms/step\n",
      "Epoch 164/300\n",
      "19/19 - 0s - loss: 0.5997 - accuracy: 0.6883 - val_loss: 0.5831 - val_accuracy: 0.7100 - 59ms/epoch - 3ms/step\n",
      "Epoch 165/300\n",
      "19/19 - 0s - loss: 0.5745 - accuracy: 0.6833 - val_loss: 0.5817 - val_accuracy: 0.7200 - 58ms/epoch - 3ms/step\n",
      "Epoch 166/300\n",
      "19/19 - 0s - loss: 0.5910 - accuracy: 0.6817 - val_loss: 0.5798 - val_accuracy: 0.7000 - 58ms/epoch - 3ms/step\n",
      "Epoch 167/300\n",
      "19/19 - 0s - loss: 0.5667 - accuracy: 0.7333 - val_loss: 0.5747 - val_accuracy: 0.7500 - 59ms/epoch - 3ms/step\n",
      "Epoch 168/300\n",
      "19/19 - 0s - loss: 0.5890 - accuracy: 0.6883 - val_loss: 0.5789 - val_accuracy: 0.7200 - 65ms/epoch - 3ms/step\n",
      "Epoch 169/300\n",
      "19/19 - 0s - loss: 0.5921 - accuracy: 0.6900 - val_loss: 0.5709 - val_accuracy: 0.7200 - 61ms/epoch - 3ms/step\n",
      "Epoch 170/300\n",
      "19/19 - 0s - loss: 0.5965 - accuracy: 0.6917 - val_loss: 0.5756 - val_accuracy: 0.7000 - 60ms/epoch - 3ms/step\n",
      "Epoch 171/300\n",
      "19/19 - 0s - loss: 0.5735 - accuracy: 0.6867 - val_loss: 0.5760 - val_accuracy: 0.7300 - 61ms/epoch - 3ms/step\n",
      "Epoch 172/300\n",
      "19/19 - 0s - loss: 0.5630 - accuracy: 0.7083 - val_loss: 0.5690 - val_accuracy: 0.7400 - 61ms/epoch - 3ms/step\n",
      "Epoch 173/300\n",
      "19/19 - 0s - loss: 0.5721 - accuracy: 0.6983 - val_loss: 0.5756 - val_accuracy: 0.7400 - 58ms/epoch - 3ms/step\n",
      "Epoch 174/300\n",
      "19/19 - 0s - loss: 0.5800 - accuracy: 0.6950 - val_loss: 0.5768 - val_accuracy: 0.7100 - 60ms/epoch - 3ms/step\n",
      "Epoch 175/300\n",
      "19/19 - 0s - loss: 0.5811 - accuracy: 0.6883 - val_loss: 0.5737 - val_accuracy: 0.7300 - 65ms/epoch - 3ms/step\n",
      "Epoch 176/300\n",
      "19/19 - 0s - loss: 0.5911 - accuracy: 0.6783 - val_loss: 0.5732 - val_accuracy: 0.7300 - 60ms/epoch - 3ms/step\n",
      "Epoch 177/300\n",
      "19/19 - 0s - loss: 0.5871 - accuracy: 0.6900 - val_loss: 0.5756 - val_accuracy: 0.7100 - 59ms/epoch - 3ms/step\n",
      "Epoch 178/300\n",
      "19/19 - 0s - loss: 0.5717 - accuracy: 0.7117 - val_loss: 0.5735 - val_accuracy: 0.7500 - 59ms/epoch - 3ms/step\n",
      "Epoch 179/300\n",
      "19/19 - 0s - loss: 0.5936 - accuracy: 0.6750 - val_loss: 0.5757 - val_accuracy: 0.7300 - 58ms/epoch - 3ms/step\n",
      "Epoch 180/300\n",
      "19/19 - 0s - loss: 0.5771 - accuracy: 0.6950 - val_loss: 0.5712 - val_accuracy: 0.7200 - 58ms/epoch - 3ms/step\n",
      "Epoch 181/300\n",
      "19/19 - 0s - loss: 0.5810 - accuracy: 0.6850 - val_loss: 0.5735 - val_accuracy: 0.7300 - 58ms/epoch - 3ms/step\n",
      "Epoch 182/300\n",
      "19/19 - 0s - loss: 0.5539 - accuracy: 0.7183 - val_loss: 0.5725 - val_accuracy: 0.7300 - 60ms/epoch - 3ms/step\n",
      "Epoch 183/300\n",
      "19/19 - 0s - loss: 0.5872 - accuracy: 0.7083 - val_loss: 0.5734 - val_accuracy: 0.6900 - 61ms/epoch - 3ms/step\n",
      "Epoch 184/300\n",
      "19/19 - 0s - loss: 0.5807 - accuracy: 0.6900 - val_loss: 0.5733 - val_accuracy: 0.7000 - 60ms/epoch - 3ms/step\n",
      "Epoch 185/300\n",
      "19/19 - 0s - loss: 0.5725 - accuracy: 0.7000 - val_loss: 0.5723 - val_accuracy: 0.7500 - 58ms/epoch - 3ms/step\n",
      "Epoch 186/300\n",
      "19/19 - 0s - loss: 0.5798 - accuracy: 0.6983 - val_loss: 0.5737 - val_accuracy: 0.7300 - 56ms/epoch - 3ms/step\n",
      "Epoch 187/300\n",
      "19/19 - 0s - loss: 0.5888 - accuracy: 0.6883 - val_loss: 0.5693 - val_accuracy: 0.7100 - 57ms/epoch - 3ms/step\n",
      "Epoch 188/300\n",
      "19/19 - 0s - loss: 0.5742 - accuracy: 0.7100 - val_loss: 0.5664 - val_accuracy: 0.7100 - 61ms/epoch - 3ms/step\n",
      "Epoch 189/300\n",
      "19/19 - 0s - loss: 0.5621 - accuracy: 0.7000 - val_loss: 0.5669 - val_accuracy: 0.7100 - 59ms/epoch - 3ms/step\n",
      "Epoch 190/300\n",
      "19/19 - 0s - loss: 0.5932 - accuracy: 0.6717 - val_loss: 0.5677 - val_accuracy: 0.7200 - 58ms/epoch - 3ms/step\n",
      "Epoch 191/300\n",
      "19/19 - 0s - loss: 0.5765 - accuracy: 0.7133 - val_loss: 0.5594 - val_accuracy: 0.7100 - 68ms/epoch - 4ms/step\n",
      "Epoch 192/300\n",
      "19/19 - 0s - loss: 0.5671 - accuracy: 0.7133 - val_loss: 0.5608 - val_accuracy: 0.7300 - 59ms/epoch - 3ms/step\n",
      "Epoch 193/300\n",
      "19/19 - 0s - loss: 0.5614 - accuracy: 0.7167 - val_loss: 0.5581 - val_accuracy: 0.7300 - 58ms/epoch - 3ms/step\n",
      "Epoch 194/300\n",
      "19/19 - 0s - loss: 0.5814 - accuracy: 0.6967 - val_loss: 0.5596 - val_accuracy: 0.7400 - 58ms/epoch - 3ms/step\n",
      "Epoch 195/300\n",
      "19/19 - 0s - loss: 0.5742 - accuracy: 0.6850 - val_loss: 0.5572 - val_accuracy: 0.7500 - 59ms/epoch - 3ms/step\n",
      "Epoch 196/300\n",
      "19/19 - 0s - loss: 0.5711 - accuracy: 0.6883 - val_loss: 0.5614 - val_accuracy: 0.7000 - 56ms/epoch - 3ms/step\n",
      "Epoch 197/300\n",
      "19/19 - 0s - loss: 0.5634 - accuracy: 0.7150 - val_loss: 0.5603 - val_accuracy: 0.7200 - 59ms/epoch - 3ms/step\n",
      "Epoch 198/300\n",
      "19/19 - 0s - loss: 0.5729 - accuracy: 0.7067 - val_loss: 0.5577 - val_accuracy: 0.7100 - 58ms/epoch - 3ms/step\n",
      "Epoch 199/300\n",
      "19/19 - 0s - loss: 0.5592 - accuracy: 0.7433 - val_loss: 0.5572 - val_accuracy: 0.7500 - 60ms/epoch - 3ms/step\n"
     ]
    },
    {
     "name": "stdout",
     "output_type": "stream",
     "text": [
      "Epoch 200/300\n",
      "19/19 - 0s - loss: 0.5660 - accuracy: 0.7067 - val_loss: 0.5566 - val_accuracy: 0.7300 - 60ms/epoch - 3ms/step\n",
      "Epoch 201/300\n",
      "19/19 - 0s - loss: 0.5669 - accuracy: 0.7317 - val_loss: 0.5553 - val_accuracy: 0.7300 - 60ms/epoch - 3ms/step\n",
      "Epoch 202/300\n",
      "19/19 - 0s - loss: 0.5792 - accuracy: 0.6850 - val_loss: 0.5552 - val_accuracy: 0.7100 - 60ms/epoch - 3ms/step\n",
      "Epoch 203/300\n",
      "19/19 - 0s - loss: 0.5544 - accuracy: 0.7017 - val_loss: 0.5545 - val_accuracy: 0.7300 - 62ms/epoch - 3ms/step\n",
      "Epoch 204/300\n",
      "19/19 - 0s - loss: 0.5691 - accuracy: 0.7150 - val_loss: 0.5604 - val_accuracy: 0.7200 - 60ms/epoch - 3ms/step\n",
      "Epoch 205/300\n",
      "19/19 - 0s - loss: 0.5771 - accuracy: 0.7017 - val_loss: 0.5633 - val_accuracy: 0.7100 - 59ms/epoch - 3ms/step\n",
      "Epoch 206/300\n",
      "19/19 - 0s - loss: 0.5623 - accuracy: 0.7150 - val_loss: 0.5659 - val_accuracy: 0.6900 - 61ms/epoch - 3ms/step\n",
      "Epoch 207/300\n",
      "19/19 - 0s - loss: 0.5585 - accuracy: 0.7200 - val_loss: 0.5637 - val_accuracy: 0.7100 - 58ms/epoch - 3ms/step\n",
      "Epoch 208/300\n",
      "19/19 - 0s - loss: 0.5879 - accuracy: 0.6767 - val_loss: 0.5645 - val_accuracy: 0.7300 - 59ms/epoch - 3ms/step\n",
      "Epoch 209/300\n",
      "19/19 - 0s - loss: 0.5563 - accuracy: 0.7233 - val_loss: 0.5606 - val_accuracy: 0.7300 - 60ms/epoch - 3ms/step\n",
      "Epoch 210/300\n",
      "19/19 - 0s - loss: 0.5600 - accuracy: 0.7000 - val_loss: 0.5663 - val_accuracy: 0.7500 - 62ms/epoch - 3ms/step\n",
      "Epoch 211/300\n",
      "19/19 - 0s - loss: 0.5577 - accuracy: 0.7267 - val_loss: 0.5656 - val_accuracy: 0.7400 - 56ms/epoch - 3ms/step\n",
      "Epoch 212/300\n",
      "19/19 - 0s - loss: 0.5630 - accuracy: 0.7167 - val_loss: 0.5680 - val_accuracy: 0.7200 - 57ms/epoch - 3ms/step\n",
      "Epoch 213/300\n",
      "19/19 - 0s - loss: 0.5829 - accuracy: 0.6850 - val_loss: 0.5681 - val_accuracy: 0.7100 - 58ms/epoch - 3ms/step\n",
      "Epoch 214/300\n",
      "19/19 - 0s - loss: 0.5693 - accuracy: 0.7017 - val_loss: 0.5690 - val_accuracy: 0.7300 - 59ms/epoch - 3ms/step\n",
      "Epoch 215/300\n",
      "19/19 - 0s - loss: 0.5619 - accuracy: 0.7050 - val_loss: 0.5683 - val_accuracy: 0.7200 - 59ms/epoch - 3ms/step\n",
      "Epoch 216/300\n",
      "19/19 - 0s - loss: 0.5661 - accuracy: 0.7150 - val_loss: 0.5648 - val_accuracy: 0.7200 - 59ms/epoch - 3ms/step\n",
      "Epoch 217/300\n",
      "19/19 - 0s - loss: 0.5675 - accuracy: 0.6983 - val_loss: 0.5627 - val_accuracy: 0.7300 - 57ms/epoch - 3ms/step\n",
      "Epoch 218/300\n",
      "19/19 - 0s - loss: 0.5594 - accuracy: 0.7050 - val_loss: 0.5670 - val_accuracy: 0.7200 - 58ms/epoch - 3ms/step\n",
      "Epoch 219/300\n",
      "19/19 - 0s - loss: 0.5750 - accuracy: 0.7133 - val_loss: 0.5640 - val_accuracy: 0.7100 - 60ms/epoch - 3ms/step\n",
      "Epoch 220/300\n",
      "19/19 - 0s - loss: 0.5707 - accuracy: 0.7150 - val_loss: 0.5653 - val_accuracy: 0.7200 - 56ms/epoch - 3ms/step\n",
      "Epoch 221/300\n",
      "19/19 - 0s - loss: 0.5481 - accuracy: 0.7300 - val_loss: 0.5654 - val_accuracy: 0.7000 - 58ms/epoch - 3ms/step\n",
      "Epoch 222/300\n",
      "19/19 - 0s - loss: 0.5544 - accuracy: 0.7117 - val_loss: 0.5666 - val_accuracy: 0.7000 - 57ms/epoch - 3ms/step\n",
      "Epoch 223/300\n",
      "19/19 - 0s - loss: 0.5730 - accuracy: 0.7083 - val_loss: 0.5647 - val_accuracy: 0.7100 - 66ms/epoch - 3ms/step\n",
      "Epoch 224/300\n",
      "19/19 - 0s - loss: 0.5590 - accuracy: 0.7200 - val_loss: 0.5624 - val_accuracy: 0.7400 - 59ms/epoch - 3ms/step\n",
      "Epoch 225/300\n",
      "19/19 - 0s - loss: 0.5585 - accuracy: 0.7117 - val_loss: 0.5629 - val_accuracy: 0.6900 - 58ms/epoch - 3ms/step\n",
      "Epoch 226/300\n",
      "19/19 - 0s - loss: 0.5657 - accuracy: 0.7017 - val_loss: 0.5644 - val_accuracy: 0.7300 - 59ms/epoch - 3ms/step\n",
      "Epoch 227/300\n",
      "19/19 - 0s - loss: 0.5594 - accuracy: 0.7150 - val_loss: 0.5559 - val_accuracy: 0.7300 - 60ms/epoch - 3ms/step\n",
      "Epoch 228/300\n",
      "19/19 - 0s - loss: 0.5572 - accuracy: 0.7100 - val_loss: 0.5619 - val_accuracy: 0.7100 - 59ms/epoch - 3ms/step\n",
      "Epoch 229/300\n",
      "19/19 - 0s - loss: 0.5536 - accuracy: 0.7150 - val_loss: 0.5587 - val_accuracy: 0.7200 - 60ms/epoch - 3ms/step\n",
      "Epoch 230/300\n",
      "19/19 - 0s - loss: 0.5583 - accuracy: 0.7117 - val_loss: 0.5581 - val_accuracy: 0.7400 - 60ms/epoch - 3ms/step\n",
      "Epoch 231/300\n",
      "19/19 - 0s - loss: 0.5613 - accuracy: 0.7017 - val_loss: 0.5589 - val_accuracy: 0.7300 - 60ms/epoch - 3ms/step\n",
      "Epoch 232/300\n",
      "19/19 - 0s - loss: 0.5530 - accuracy: 0.7233 - val_loss: 0.5622 - val_accuracy: 0.7200 - 58ms/epoch - 3ms/step\n",
      "Epoch 233/300\n",
      "19/19 - 0s - loss: 0.5598 - accuracy: 0.7067 - val_loss: 0.5596 - val_accuracy: 0.7200 - 58ms/epoch - 3ms/step\n",
      "Epoch 234/300\n",
      "19/19 - 0s - loss: 0.5683 - accuracy: 0.7000 - val_loss: 0.5609 - val_accuracy: 0.7400 - 60ms/epoch - 3ms/step\n",
      "Epoch 235/300\n",
      "19/19 - 0s - loss: 0.5589 - accuracy: 0.6983 - val_loss: 0.5599 - val_accuracy: 0.7600 - 61ms/epoch - 3ms/step\n",
      "Epoch 236/300\n",
      "19/19 - 0s - loss: 0.5627 - accuracy: 0.7183 - val_loss: 0.5593 - val_accuracy: 0.7200 - 59ms/epoch - 3ms/step\n",
      "Epoch 237/300\n",
      "19/19 - 0s - loss: 0.5608 - accuracy: 0.7133 - val_loss: 0.5511 - val_accuracy: 0.7600 - 73ms/epoch - 4ms/step\n",
      "Epoch 238/300\n",
      "19/19 - 0s - loss: 0.5528 - accuracy: 0.7167 - val_loss: 0.5536 - val_accuracy: 0.7400 - 58ms/epoch - 3ms/step\n",
      "Epoch 239/300\n",
      "19/19 - 0s - loss: 0.5642 - accuracy: 0.7050 - val_loss: 0.5581 - val_accuracy: 0.7400 - 62ms/epoch - 3ms/step\n",
      "Epoch 240/300\n",
      "19/19 - 0s - loss: 0.5393 - accuracy: 0.7283 - val_loss: 0.5599 - val_accuracy: 0.7200 - 60ms/epoch - 3ms/step\n",
      "Epoch 241/300\n",
      "19/19 - 0s - loss: 0.5697 - accuracy: 0.7167 - val_loss: 0.5616 - val_accuracy: 0.7200 - 59ms/epoch - 3ms/step\n",
      "Epoch 242/300\n",
      "19/19 - 0s - loss: 0.5612 - accuracy: 0.7000 - val_loss: 0.5601 - val_accuracy: 0.7300 - 57ms/epoch - 3ms/step\n",
      "Epoch 243/300\n",
      "19/19 - 0s - loss: 0.5397 - accuracy: 0.7283 - val_loss: 0.5612 - val_accuracy: 0.7400 - 60ms/epoch - 3ms/step\n",
      "Epoch 244/300\n",
      "19/19 - 0s - loss: 0.5654 - accuracy: 0.7117 - val_loss: 0.5547 - val_accuracy: 0.7400 - 60ms/epoch - 3ms/step\n",
      "Epoch 245/300\n",
      "19/19 - 0s - loss: 0.5607 - accuracy: 0.6983 - val_loss: 0.5514 - val_accuracy: 0.7600 - 60ms/epoch - 3ms/step\n",
      "Epoch 246/300\n",
      "19/19 - 0s - loss: 0.5536 - accuracy: 0.7067 - val_loss: 0.5520 - val_accuracy: 0.7200 - 58ms/epoch - 3ms/step\n",
      "Epoch 247/300\n",
      "19/19 - 0s - loss: 0.5474 - accuracy: 0.7200 - val_loss: 0.5581 - val_accuracy: 0.7200 - 62ms/epoch - 3ms/step\n",
      "Epoch 248/300\n",
      "19/19 - 0s - loss: 0.5555 - accuracy: 0.7133 - val_loss: 0.5596 - val_accuracy: 0.7100 - 59ms/epoch - 3ms/step\n",
      "Epoch 249/300\n",
      "19/19 - 0s - loss: 0.5393 - accuracy: 0.7250 - val_loss: 0.5610 - val_accuracy: 0.7200 - 69ms/epoch - 4ms/step\n",
      "Epoch 250/300\n",
      "19/19 - 0s - loss: 0.5523 - accuracy: 0.7300 - val_loss: 0.5574 - val_accuracy: 0.7500 - 60ms/epoch - 3ms/step\n",
      "Epoch 251/300\n",
      "19/19 - 0s - loss: 0.5561 - accuracy: 0.7133 - val_loss: 0.5620 - val_accuracy: 0.7100 - 59ms/epoch - 3ms/step\n",
      "Epoch 252/300\n",
      "19/19 - 0s - loss: 0.5506 - accuracy: 0.7200 - val_loss: 0.5574 - val_accuracy: 0.7300 - 60ms/epoch - 3ms/step\n",
      "Epoch 253/300\n",
      "19/19 - 0s - loss: 0.5460 - accuracy: 0.7167 - val_loss: 0.5616 - val_accuracy: 0.7100 - 60ms/epoch - 3ms/step\n",
      "Epoch 254/300\n",
      "19/19 - 0s - loss: 0.5434 - accuracy: 0.7233 - val_loss: 0.5534 - val_accuracy: 0.7500 - 60ms/epoch - 3ms/step\n",
      "Epoch 255/300\n",
      "19/19 - 0s - loss: 0.5462 - accuracy: 0.7133 - val_loss: 0.5577 - val_accuracy: 0.7200 - 59ms/epoch - 3ms/step\n",
      "Epoch 256/300\n",
      "19/19 - 0s - loss: 0.5489 - accuracy: 0.7300 - val_loss: 0.5549 - val_accuracy: 0.7400 - 56ms/epoch - 3ms/step\n",
      "Epoch 257/300\n",
      "19/19 - 0s - loss: 0.5598 - accuracy: 0.6983 - val_loss: 0.5544 - val_accuracy: 0.7400 - 62ms/epoch - 3ms/step\n",
      "Epoch 258/300\n",
      "19/19 - 0s - loss: 0.5459 - accuracy: 0.7117 - val_loss: 0.5545 - val_accuracy: 0.7300 - 59ms/epoch - 3ms/step\n",
      "Epoch 259/300\n",
      "19/19 - 0s - loss: 0.5718 - accuracy: 0.6933 - val_loss: 0.5545 - val_accuracy: 0.7300 - 63ms/epoch - 3ms/step\n",
      "Epoch 260/300\n",
      "19/19 - 0s - loss: 0.5385 - accuracy: 0.7283 - val_loss: 0.5514 - val_accuracy: 0.7600 - 58ms/epoch - 3ms/step\n",
      "Epoch 261/300\n",
      "19/19 - 0s - loss: 0.5487 - accuracy: 0.7267 - val_loss: 0.5503 - val_accuracy: 0.7500 - 72ms/epoch - 4ms/step\n",
      "Epoch 262/300\n",
      "19/19 - 0s - loss: 0.5376 - accuracy: 0.7233 - val_loss: 0.5520 - val_accuracy: 0.7300 - 59ms/epoch - 3ms/step\n",
      "Epoch 263/300\n",
      "19/19 - 0s - loss: 0.5401 - accuracy: 0.7450 - val_loss: 0.5457 - val_accuracy: 0.7500 - 68ms/epoch - 4ms/step\n",
      "Epoch 264/300\n",
      "19/19 - 0s - loss: 0.5391 - accuracy: 0.7233 - val_loss: 0.5556 - val_accuracy: 0.7200 - 63ms/epoch - 3ms/step\n",
      "Epoch 265/300\n",
      "19/19 - 0s - loss: 0.5380 - accuracy: 0.7200 - val_loss: 0.5503 - val_accuracy: 0.7100 - 58ms/epoch - 3ms/step\n"
     ]
    },
    {
     "name": "stdout",
     "output_type": "stream",
     "text": [
      "Epoch 266/300\n",
      "19/19 - 0s - loss: 0.5437 - accuracy: 0.7250 - val_loss: 0.5562 - val_accuracy: 0.7300 - 58ms/epoch - 3ms/step\n",
      "Epoch 267/300\n",
      "19/19 - 0s - loss: 0.5418 - accuracy: 0.7033 - val_loss: 0.5532 - val_accuracy: 0.7300 - 58ms/epoch - 3ms/step\n",
      "Epoch 268/300\n",
      "19/19 - 0s - loss: 0.5462 - accuracy: 0.7283 - val_loss: 0.5438 - val_accuracy: 0.7600 - 71ms/epoch - 4ms/step\n",
      "Epoch 269/300\n",
      "19/19 - 0s - loss: 0.5445 - accuracy: 0.7200 - val_loss: 0.5379 - val_accuracy: 0.7400 - 61ms/epoch - 3ms/step\n",
      "Epoch 270/300\n",
      "19/19 - 0s - loss: 0.5338 - accuracy: 0.7233 - val_loss: 0.5415 - val_accuracy: 0.7400 - 59ms/epoch - 3ms/step\n",
      "Epoch 271/300\n",
      "19/19 - 0s - loss: 0.5466 - accuracy: 0.7183 - val_loss: 0.5499 - val_accuracy: 0.7200 - 63ms/epoch - 3ms/step\n",
      "Epoch 272/300\n",
      "19/19 - 0s - loss: 0.5376 - accuracy: 0.7250 - val_loss: 0.5441 - val_accuracy: 0.7300 - 60ms/epoch - 3ms/step\n",
      "Epoch 273/300\n",
      "19/19 - 0s - loss: 0.5411 - accuracy: 0.7333 - val_loss: 0.5561 - val_accuracy: 0.7000 - 63ms/epoch - 3ms/step\n",
      "Epoch 274/300\n",
      "19/19 - 0s - loss: 0.5418 - accuracy: 0.7250 - val_loss: 0.5481 - val_accuracy: 0.7400 - 111ms/epoch - 6ms/step\n",
      "Epoch 275/300\n",
      "19/19 - 0s - loss: 0.5421 - accuracy: 0.7317 - val_loss: 0.5455 - val_accuracy: 0.7200 - 76ms/epoch - 4ms/step\n",
      "Epoch 276/300\n",
      "19/19 - 0s - loss: 0.5187 - accuracy: 0.7383 - val_loss: 0.5476 - val_accuracy: 0.7100 - 69ms/epoch - 4ms/step\n",
      "Epoch 277/300\n",
      "19/19 - 0s - loss: 0.5370 - accuracy: 0.7333 - val_loss: 0.5425 - val_accuracy: 0.7300 - 110ms/epoch - 6ms/step\n",
      "Epoch 278/300\n",
      "19/19 - 0s - loss: 0.5270 - accuracy: 0.7233 - val_loss: 0.5517 - val_accuracy: 0.7200 - 60ms/epoch - 3ms/step\n",
      "Epoch 279/300\n",
      "19/19 - 0s - loss: 0.5274 - accuracy: 0.7217 - val_loss: 0.5458 - val_accuracy: 0.7100 - 59ms/epoch - 3ms/step\n",
      "Epoch 280/300\n",
      "19/19 - 0s - loss: 0.5468 - accuracy: 0.7217 - val_loss: 0.5462 - val_accuracy: 0.7200 - 60ms/epoch - 3ms/step\n",
      "Epoch 281/300\n",
      "19/19 - 0s - loss: 0.5216 - accuracy: 0.7583 - val_loss: 0.5493 - val_accuracy: 0.7400 - 63ms/epoch - 3ms/step\n",
      "Epoch 282/300\n",
      "19/19 - 0s - loss: 0.5325 - accuracy: 0.7067 - val_loss: 0.5479 - val_accuracy: 0.7100 - 56ms/epoch - 3ms/step\n",
      "Epoch 283/300\n",
      "19/19 - 0s - loss: 0.5449 - accuracy: 0.7217 - val_loss: 0.5436 - val_accuracy: 0.7000 - 58ms/epoch - 3ms/step\n",
      "Epoch 284/300\n",
      "19/19 - 0s - loss: 0.5241 - accuracy: 0.7300 - val_loss: 0.5425 - val_accuracy: 0.7200 - 72ms/epoch - 4ms/step\n",
      "Epoch 285/300\n",
      "19/19 - 0s - loss: 0.5272 - accuracy: 0.7250 - val_loss: 0.5437 - val_accuracy: 0.7100 - 65ms/epoch - 3ms/step\n",
      "Epoch 286/300\n",
      "19/19 - 0s - loss: 0.5321 - accuracy: 0.7250 - val_loss: 0.5466 - val_accuracy: 0.7200 - 65ms/epoch - 3ms/step\n",
      "Epoch 287/300\n",
      "19/19 - 0s - loss: 0.5355 - accuracy: 0.7083 - val_loss: 0.5505 - val_accuracy: 0.7100 - 58ms/epoch - 3ms/step\n",
      "Epoch 288/300\n",
      "19/19 - 0s - loss: 0.5193 - accuracy: 0.7383 - val_loss: 0.5530 - val_accuracy: 0.7100 - 57ms/epoch - 3ms/step\n",
      "Epoch 289/300\n",
      "19/19 - 0s - loss: 0.5303 - accuracy: 0.7217 - val_loss: 0.5436 - val_accuracy: 0.7000 - 58ms/epoch - 3ms/step\n",
      "Epoch 290/300\n",
      "19/19 - 0s - loss: 0.5336 - accuracy: 0.7333 - val_loss: 0.5390 - val_accuracy: 0.7200 - 59ms/epoch - 3ms/step\n",
      "Epoch 291/300\n",
      "19/19 - 0s - loss: 0.5255 - accuracy: 0.7333 - val_loss: 0.5420 - val_accuracy: 0.7200 - 62ms/epoch - 3ms/step\n",
      "Epoch 292/300\n",
      "19/19 - 0s - loss: 0.5259 - accuracy: 0.7317 - val_loss: 0.5480 - val_accuracy: 0.7100 - 62ms/epoch - 3ms/step\n",
      "Epoch 293/300\n",
      "19/19 - 0s - loss: 0.5332 - accuracy: 0.7250 - val_loss: 0.5508 - val_accuracy: 0.6900 - 60ms/epoch - 3ms/step\n",
      "Epoch 294/300\n",
      "19/19 - 0s - loss: 0.5355 - accuracy: 0.7267 - val_loss: 0.5422 - val_accuracy: 0.7300 - 61ms/epoch - 3ms/step\n",
      "Epoch 295/300\n",
      "19/19 - 0s - loss: 0.5378 - accuracy: 0.7233 - val_loss: 0.5432 - val_accuracy: 0.7100 - 58ms/epoch - 3ms/step\n",
      "Epoch 296/300\n",
      "19/19 - 0s - loss: 0.5216 - accuracy: 0.7400 - val_loss: 0.5340 - val_accuracy: 0.7200 - 63ms/epoch - 3ms/step\n",
      "Epoch 297/300\n",
      "19/19 - 0s - loss: 0.5376 - accuracy: 0.7200 - val_loss: 0.5415 - val_accuracy: 0.7000 - 67ms/epoch - 4ms/step\n",
      "Epoch 298/300\n",
      "19/19 - 0s - loss: 0.5399 - accuracy: 0.7267 - val_loss: 0.5440 - val_accuracy: 0.7200 - 67ms/epoch - 4ms/step\n",
      "Epoch 299/300\n",
      "19/19 - 0s - loss: 0.5307 - accuracy: 0.7267 - val_loss: 0.5345 - val_accuracy: 0.7200 - 60ms/epoch - 3ms/step\n",
      "Epoch 300/300\n",
      "19/19 - 0s - loss: 0.5215 - accuracy: 0.7400 - val_loss: 0.5301 - val_accuracy: 0.7400 - 60ms/epoch - 3ms/step\n"
     ]
    }
   ],
   "source": [
    "hist = model.fit(X_train, Y_train,\n",
    "                epochs = 300,\n",
    "                validation_data = (X_val, Y_val),\n",
    "                verbose = 2)"
   ]
  },
  {
   "cell_type": "markdown",
   "id": "ffbd7734",
   "metadata": {},
   "source": [
    "## 5. 학습과정 살펴보기"
   ]
  },
  {
   "cell_type": "code",
   "execution_count": 30,
   "id": "4bd11069",
   "metadata": {},
   "outputs": [
    {
     "data": {
      "text/plain": [
       "dict_keys(['loss', 'accuracy', 'val_loss', 'val_accuracy'])"
      ]
     },
     "execution_count": 30,
     "metadata": {},
     "output_type": "execute_result"
    }
   ],
   "source": [
    "hist.history.keys()"
   ]
  },
  {
   "cell_type": "code",
   "execution_count": 31,
   "id": "8811d595",
   "metadata": {},
   "outputs": [
    {
     "data": {
      "image/png": "[encoded data removed]",
      "text/plain": [
       "<Figure size 1200x600 with 2 Axes>"
      ]
     },
     "metadata": {},
     "output_type": "display_data"
    }
   ],
   "source": [
    "fig, loss_ax = plt.subplots(figsize = (12, 6))\n",
    "loss_ax.plot(hist.history['loss'], 'y', label = 'train loss')\n",
    "loss_ax.plot(hist.history['val_loss'], 'r', label = 'val loss')\n",
    "acc_ax = loss_ax.twinx()\n",
    "acc_ax.plot(hist.history['accuracy'], 'g', label = 'train accuracy')\n",
    "acc_ax.plot(hist.history['val_accuracy'], 'b', label = 'val accuracy')\n",
    "loss_ax.set_xlabel('epochs')\n",
    "loss_ax.set_ylabel('loss')\n",
    "acc_ax.set_ylabel('accuarcy')\n",
    "loss_ax.legend(loc = 'center right')\n",
    "acc_ax.legend()\n",
    "plt.show()"
   ]
  },
  {
   "cell_type": "markdown",
   "id": "566de5b4",
   "metadata": {},
   "source": [
    "## 6. 모델 평가 & 교차표"
   ]
  },
  {
   "cell_type": "code",
   "execution_count": 32,
   "id": "fef605a0",
   "metadata": {},
   "outputs": [
    {
     "name": "stdout",
     "output_type": "stream",
     "text": [
      "loss : 0.6223486065864563, 정확도 : 0.6323529481887817\n"
     ]
    }
   ],
   "source": [
    "loss, accuracy = model.evaluate(X_test, Y_test, verbose = 0)\n",
    "print(f'loss : {loss}, 정확도 : {accuracy}')"
   ]
  },
  {
   "cell_type": "code",
   "execution_count": 33,
   "id": "b0c51cb4",
   "metadata": {},
   "outputs": [
    {
     "data": {
      "text/plain": [
       "array([0, 1, 1, 0, 0, 0, 1, 0, 1, 1, 0, 0, 1, 0, 0, 1, 1, 0, 0, 1, 0, 0,\n",
       "       1, 0, 0, 0, 0, 0, 0, 0, 1, 1, 1, 0, 0, 0, 0, 0, 0, 1, 1, 0, 0, 1,\n",
       "       0, 0, 1, 0, 1, 1, 1, 0, 0, 1, 1, 1, 0, 1, 0, 1, 0, 1, 0, 0, 0, 0,\n",
       "       1, 0], dtype=int64)"
      ]
     },
     "execution_count": 33,
     "metadata": {},
     "output_type": "execute_result"
    }
   ],
   "source": [
    "# 교차표\n",
    "\n",
    "Y_test.argmax(axis = 1)  # 실제값 y_test"
   ]
  },
  {
   "cell_type": "code",
   "execution_count": 34,
   "id": "5f689cd0",
   "metadata": {},
   "outputs": [
    {
     "name": "stdout",
     "output_type": "stream",
     "text": [
      "3/3 [==============================] - 0s 2ms/step\n"
     ]
    },
    {
     "data": {
      "text/plain": [
       "array([0, 0, 0, 0, 0, 0, 0, 0, 1, 0, 0, 0, 0, 0, 0, 0, 1, 0, 0, 0, 0, 0,\n",
       "       0, 0, 0, 0, 0, 0, 0, 0, 0, 0, 0, 0, 0, 0, 0, 0, 0, 0, 0, 0, 0, 0,\n",
       "       1, 0, 0, 0, 1, 0, 0, 0, 0, 0, 0, 0, 0, 0, 0, 0, 0, 1, 0, 1, 0, 0,\n",
       "       0, 0], dtype=int64)"
      ]
     },
     "execution_count": 34,
     "metadata": {},
     "output_type": "execute_result"
    }
   ],
   "source": [
    "y_hat = model.predict(X_test).argmax(axis = 1)\n",
    "y_hat"
   ]
  },
  {
   "cell_type": "code",
   "execution_count": 35,
   "id": "dd4453cf",
   "metadata": {},
   "outputs": [
    {
     "data": {
      "text/html": [
       "<div>\n",
       "<style scoped>\n",
       "    .dataframe tbody tr th:only-of-type {\n",
       "        vertical-align: middle;\n",
       "    }\n",
       "\n",
       "    .dataframe tbody tr th {\n",
       "        vertical-align: top;\n",
       "    }\n",
       "\n",
       "    .dataframe thead th {\n",
       "        text-align: right;\n",
       "    }\n",
       "</style>\n",
       "<table border=\"1\" class=\"dataframe\">\n",
       "  <thead>\n",
       "    <tr style=\"text-align: right;\">\n",
       "      <th>예측값</th>\n",
       "      <th>0</th>\n",
       "      <th>1</th>\n",
       "    </tr>\n",
       "    <tr>\n",
       "      <th>실제값</th>\n",
       "      <th></th>\n",
       "      <th></th>\n",
       "    </tr>\n",
       "  </thead>\n",
       "  <tbody>\n",
       "    <tr>\n",
       "      <th>0.0</th>\n",
       "      <td>39</td>\n",
       "      <td>2</td>\n",
       "    </tr>\n",
       "    <tr>\n",
       "      <th>1.0</th>\n",
       "      <td>23</td>\n",
       "      <td>4</td>\n",
       "    </tr>\n",
       "  </tbody>\n",
       "</table>\n",
       "</div>"
      ],
      "text/plain": [
       "예측값   0  1\n",
       "실제값       \n",
       "0.0  39  2\n",
       "1.0  23  4"
      ]
     },
     "execution_count": 35,
     "metadata": {},
     "output_type": "execute_result"
    }
   ],
   "source": [
    "pd.crosstab(y_test, y_hat, rownames = ['실제값'], colnames = ['예측값'])"
   ]
  },
  {
   "cell_type": "code",
   "execution_count": 36,
   "id": "19293ca1",
   "metadata": {},
   "outputs": [
    {
     "data": {
      "text/plain": [
       "array([[39,  2],\n",
       "       [23,  4]], dtype=int64)"
      ]
     },
     "execution_count": 36,
     "metadata": {},
     "output_type": "execute_result"
    }
   ],
   "source": [
    "confusion_matrix(y_test, y_hat)"
   ]
  },
  {
   "cell_type": "markdown",
   "id": "8069bca5",
   "metadata": {},
   "source": [
    "## 7. 모델 저장 및 사용"
   ]
  },
  {
   "cell_type": "code",
   "execution_count": 37,
   "id": "7a6262cd",
   "metadata": {},
   "outputs": [],
   "source": [
    "from tensorflow.keras.models import save_model, load_model\n",
    "\n",
    "# model.save('model/06_pima.h5')\n",
    "save_model(model, 'model/06_pima.h5')"
   ]
  },
  {
   "cell_type": "code",
   "execution_count": 38,
   "id": "b7b3603d",
   "metadata": {},
   "outputs": [],
   "source": [
    "model2 = load_model('model/06_pima.h5')"
   ]
  },
  {
   "cell_type": "code",
   "execution_count": 39,
   "id": "78f69941",
   "metadata": {},
   "outputs": [
    {
     "name": "stdout",
     "output_type": "stream",
     "text": [
      "1/1 [==============================] - 0s 81ms/step\n"
     ]
    },
    {
     "data": {
      "text/plain": [
       "array([0, 0], dtype=int64)"
      ]
     },
     "execution_count": 39,
     "metadata": {},
     "output_type": "execute_result"
    }
   ],
   "source": [
    "pred = model2.predict([[2, 122, 76, 27, 200, 35.9, 0.483, 26],\n",
    "                       [6, 125, 78, 31, 0, 27.6, 0.565, 49]])\n",
    "pred.argmax(axis = 1)"
   ]
  },
  {
   "cell_type": "code",
   "execution_count": 40,
   "id": "a73199c0",
   "metadata": {},
   "outputs": [
    {
     "data": {
      "text/plain": [
       "array([0, 0], dtype=int64)"
      ]
     },
     "execution_count": 40,
     "metadata": {},
     "output_type": "execute_result"
    }
   ],
   "source": [
    "np.argmax(pred, axis = 1)"
   ]
  }
 ],
 "metadata": {
  "kernelspec": {
   "display_name": "ml-dl-nlp",
   "language": "python",
   "name": "ml-dl-nlp"
  },
  "language_info": {
   "codemirror_mode": {
    "name": "ipython",
    "version": 3
   },
   "file_extension": ".py",
   "mimetype": "text/x-python",
   "name": "python",
   "nbconvert_exporter": "python",
   "pygments_lexer": "ipython3",
   "version": "3.10.18"
  },
  "toc": {
   "base_numbering": 1,
   "nav_menu": {},
   "number_sections": false,
   "sideBar": true,
   "skip_h1_title": false,
   "title_cell": "Table of Contents",
   "title_sidebar": "Contents",
   "toc_cell": false,
   "toc_position": {
    "height": "calc(100% - 180px)",
    "left": "10px",
    "top": "150px",
    "width": "238.55px"
   },
   "toc_section_display": true,
   "toc_window_display": true
  }
 },
 "nbformat": 4,
 "nbformat_minor": 5
}
