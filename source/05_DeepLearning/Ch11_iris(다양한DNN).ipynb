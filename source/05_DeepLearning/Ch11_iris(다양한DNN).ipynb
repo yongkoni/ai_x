{
 "cells": [
  {
   "cell_type": "code",
   "execution_count": 1,
   "id": "e32f3b78",
   "metadata": {},
   "outputs": [
    {
     "data": {
      "text/html": [
       "<style>\n",
       "div.container{width:86% !important;}\n",
       "div.cell.code_cell.rendered{width:100%;}\n",
       "div.CodeMirror {font-family:Consolas; font-size:12pt;}\n",
       "div.output {font-size:12pt; font-weight:bold;}\n",
       "div.input {font-family:Consolas; font-size:12pt;}\n",
       "div.prompt {min-width:70px;}\n",
       "div#toc-wrapper{padding-top:120px;}\n",
       "div.text_cell_render ul li{fontsize:12pt;padding:5px;}\n",
       "table.dataframe{font-size:12px;}))\n",
       "</style>\n"
      ],
      "text/plain": [
       "<IPython.core.display.HTML object>"
      ]
     },
     "metadata": {},
     "output_type": "display_data"
    }
   ],
   "source": [
    "from IPython.display import display, HTML\n",
    "display(HTML(\"\"\"<style>\n",
    "div.container{width:86% !important;}\n",
    "div.cell.code_cell.rendered{width:100%;}\n",
    "div.CodeMirror {font-family:Consolas; font-size:12pt;}\n",
    "div.output {font-size:12pt; font-weight:bold;}\n",
    "div.input {font-family:Consolas; font-size:12pt;}\n",
    "div.prompt {min-width:70px;}\n",
    "div#toc-wrapper{padding-top:120px;}\n",
    "div.text_cell_render ul li{fontsize:12pt;padding:5px;}\n",
    "table.dataframe{font-size:12px;}))\n",
    "</style>\n",
    "\"\"\"))"
   ]
  },
  {
   "cell_type": "markdown",
   "id": "c8f18134",
   "metadata": {},
   "source": [
    "<font size=\"5\" color=\"red\">ch10 iris(다양한 DNN)</font>"
   ]
  },
  {
   "cell_type": "code",
   "execution_count": 2,
   "id": "adbaf54c",
   "metadata": {},
   "outputs": [],
   "source": [
    "import numpy as np\n",
    "import pandas as pd\n",
    "from sklearn.model_selection import train_test_split  # 데이터 분할 (층화추출)\n",
    "from tensorflow.keras.models import Sequential, load_model, save_model\n",
    "from tensorflow.keras.layers import Dense, Dropout, Input\n",
    "from tensorflow.keras.callbacks import EarlyStopping, ModelCheckpoint\n",
    "import matplotlib.pyplot as plt  # 학습과정 시각화"
   ]
  },
  {
   "cell_type": "code",
   "execution_count": 3,
   "id": "8399b223",
   "metadata": {},
   "outputs": [
    {
     "data": {
      "text/plain": [
       "((135, 4), (135,), (15, 4), (15,))"
      ]
     },
     "execution_count": 3,
     "metadata": {},
     "output_type": "execute_result"
    }
   ],
   "source": [
    "# 데이터 생성 및 전처리(라벨인코딩만 하고, 원핫인코딩X)\n",
    "\n",
    "from sklearn import datasets\n",
    "\n",
    "iris = datasets.load_iris()\n",
    "# iris.keys()\n",
    "iris_X = iris.data\n",
    "iris_y = iris.target # 라벨인코딩이 되어 있음\n",
    "iris_X.shape, iris_y.shape\n",
    "train_X, test_X, train_y, test_y = train_test_split(iris_X, iris_y,\n",
    "                                                   test_size = 0.1,\n",
    "                                                   stratify = iris_y,\n",
    "                                                   random_state = 4)\n",
    "train_X.shape, train_y.shape, test_X.shape, test_y.shape"
   ]
  },
  {
   "cell_type": "markdown",
   "id": "4e021f51",
   "metadata": {},
   "source": [
    "# 1. 기본적인 DNN (원핫인코딩 X)"
   ]
  },
  {
   "cell_type": "code",
   "execution_count": 4,
   "id": "397af103",
   "metadata": {},
   "outputs": [
    {
     "name": "stdout",
     "output_type": "stream",
     "text": [
      "Model: \"sequential\"\n",
      "_________________________________________________________________\n",
      " Layer (type)                Output Shape              Param #   \n",
      "=================================================================\n",
      " dense (Dense)               (None, 50)                250       \n",
      "                                                                 \n",
      " dense_1 (Dense)             (None, 30)                1530      \n",
      "                                                                 \n",
      " dense_2 (Dense)             (None, 3)                 93        \n",
      "                                                                 \n",
      "=================================================================\n",
      "Total params: 1,873\n",
      "Trainable params: 1,873\n",
      "Non-trainable params: 0\n",
      "_________________________________________________________________\n"
     ]
    }
   ],
   "source": [
    "# model = Sequential()\n",
    "# model.add(Input(4, ))\n",
    "# model.add(Dense(units = 50, activation = 'relu'))\n",
    "# model.add(Dense(units = 30, activation = 'relu'))\n",
    "# model.add(Dense(units = 3, activation = 'softmax'))\n",
    "model = Sequential([\n",
    "    Input(4, ),\n",
    "    Dense(units = 50, activation = 'relu'),\n",
    "    Dense(units = 30, activation = 'relu'),\n",
    "    Dense(units = 3, activation = 'softmax')\n",
    "])\n",
    "model.summary()  # 250 + 1530 + 93 = 1873개 파라미터"
   ]
  },
  {
   "cell_type": "markdown",
   "id": "fcabe98f",
   "metadata": {},
   "source": [
    "# 2. sklearn 이용\n",
    "\n",
    "- 원핫인코딩을 하지 않고 라벨인코딩까지만 해야 작동 (numpy 배열)"
   ]
  },
  {
   "cell_type": "code",
   "execution_count": 5,
   "id": "c0a54a46",
   "metadata": {},
   "outputs": [],
   "source": [
    "from sklearn.neural_network import MLPClassifier\n",
    "\n",
    "# 머신러닝 3장 교안 43page\n",
    "mlp_model = MLPClassifier(hidden_layer_sizes = (50, 30),\n",
    "                     activation = 'relu', \n",
    "                     solver = 'adam',\n",
    "                     alpha = 0.0001,  # 과적합 방지 강도\n",
    "                     batch_size = 40,\n",
    "                     max_iter = 1000,  # epoch\n",
    "                     early_stopping = True,  # 조기 종료 활성화(val_loss)\n",
    "                     n_iter_no_change = 50,  # patience\n",
    "                     warm_start = False,  # True일 경우 이전학습에 이어서 학습 \n",
    "                     validation_fraction = 0.1)  # 검증셋 비율"
   ]
  },
  {
   "cell_type": "code",
   "execution_count": 6,
   "id": "e71c3246",
   "metadata": {},
   "outputs": [
    {
     "data": {
      "text/html": [
       "<style>#sk-container-id-1 {color: black;background-color: white;}#sk-container-id-1 pre{padding: 0;}#sk-container-id-1 div.sk-toggleable {background-color: white;}#sk-container-id-1 label.sk-toggleable__label {cursor: pointer;display: block;width: 100%;margin-bottom: 0;padding: 0.3em;box-sizing: border-box;text-align: center;}#sk-container-id-1 label.sk-toggleable__label-arrow:before {content: \"▸\";float: left;margin-right: 0.25em;color: #696969;}#sk-container-id-1 label.sk-toggleable__label-arrow:hover:before {color: black;}#sk-container-id-1 div.sk-estimator:hover label.sk-toggleable__label-arrow:before {color: black;}#sk-container-id-1 div.sk-toggleable__content {max-height: 0;max-width: 0;overflow: hidden;text-align: left;background-color: #f0f8ff;}#sk-container-id-1 div.sk-toggleable__content pre {margin: 0.2em;color: black;border-radius: 0.25em;background-color: #f0f8ff;}#sk-container-id-1 input.sk-toggleable__control:checked~div.sk-toggleable__content {max-height: 200px;max-width: 100%;overflow: auto;}#sk-container-id-1 input.sk-toggleable__control:checked~label.sk-toggleable__label-arrow:before {content: \"▾\";}#sk-container-id-1 div.sk-estimator input.sk-toggleable__control:checked~label.sk-toggleable__label {background-color: #d4ebff;}#sk-container-id-1 div.sk-label input.sk-toggleable__control:checked~label.sk-toggleable__label {background-color: #d4ebff;}#sk-container-id-1 input.sk-hidden--visually {border: 0;clip: rect(1px 1px 1px 1px);clip: rect(1px, 1px, 1px, 1px);height: 1px;margin: -1px;overflow: hidden;padding: 0;position: absolute;width: 1px;}#sk-container-id-1 div.sk-estimator {font-family: monospace;background-color: #f0f8ff;border: 1px dotted black;border-radius: 0.25em;box-sizing: border-box;margin-bottom: 0.5em;}#sk-container-id-1 div.sk-estimator:hover {background-color: #d4ebff;}#sk-container-id-1 div.sk-parallel-item::after {content: \"\";width: 100%;border-bottom: 1px solid gray;flex-grow: 1;}#sk-container-id-1 div.sk-label:hover label.sk-toggleable__label {background-color: #d4ebff;}#sk-container-id-1 div.sk-serial::before {content: \"\";position: absolute;border-left: 1px solid gray;box-sizing: border-box;top: 0;bottom: 0;left: 50%;z-index: 0;}#sk-container-id-1 div.sk-serial {display: flex;flex-direction: column;align-items: center;background-color: white;padding-right: 0.2em;padding-left: 0.2em;position: relative;}#sk-container-id-1 div.sk-item {position: relative;z-index: 1;}#sk-container-id-1 div.sk-parallel {display: flex;align-items: stretch;justify-content: center;background-color: white;position: relative;}#sk-container-id-1 div.sk-item::before, #sk-container-id-1 div.sk-parallel-item::before {content: \"\";position: absolute;border-left: 1px solid gray;box-sizing: border-box;top: 0;bottom: 0;left: 50%;z-index: -1;}#sk-container-id-1 div.sk-parallel-item {display: flex;flex-direction: column;z-index: 1;position: relative;background-color: white;}#sk-container-id-1 div.sk-parallel-item:first-child::after {align-self: flex-end;width: 50%;}#sk-container-id-1 div.sk-parallel-item:last-child::after {align-self: flex-start;width: 50%;}#sk-container-id-1 div.sk-parallel-item:only-child::after {width: 0;}#sk-container-id-1 div.sk-dashed-wrapped {border: 1px dashed gray;margin: 0 0.4em 0.5em 0.4em;box-sizing: border-box;padding-bottom: 0.4em;background-color: white;}#sk-container-id-1 div.sk-label label {font-family: monospace;font-weight: bold;display: inline-block;line-height: 1.2em;}#sk-container-id-1 div.sk-label-container {text-align: center;}#sk-container-id-1 div.sk-container {/* jupyter's `normalize.less` sets `[hidden] { display: none; }` but bootstrap.min.css set `[hidden] { display: none !important; }` so we also need the `!important` here to be able to override the default hidden behavior on the sphinx rendered scikit-learn.org. See: https://github.com/scikit-learn/scikit-learn/issues/21755 */display: inline-block !important;position: relative;}#sk-container-id-1 div.sk-text-repr-fallback {display: none;}</style><div id=\"sk-container-id-1\" class=\"sk-top-container\"><div class=\"sk-text-repr-fallback\"><pre>MLPClassifier(batch_size=40, early_stopping=True, hidden_layer_sizes=(50, 30),\n",
       "              max_iter=1000, n_iter_no_change=50)</pre><b>In a Jupyter environment, please rerun this cell to show the HTML representation or trust the notebook. <br />On GitHub, the HTML representation is unable to render, please try loading this page with nbviewer.org.</b></div><div class=\"sk-container\" hidden><div class=\"sk-item\"><div class=\"sk-estimator sk-toggleable\"><input class=\"sk-toggleable__control sk-hidden--visually\" id=\"sk-estimator-id-1\" type=\"checkbox\" checked><label for=\"sk-estimator-id-1\" class=\"sk-toggleable__label sk-toggleable__label-arrow\">MLPClassifier</label><div class=\"sk-toggleable__content\"><pre>MLPClassifier(batch_size=40, early_stopping=True, hidden_layer_sizes=(50, 30),\n",
       "              max_iter=1000, n_iter_no_change=50)</pre></div></div></div></div></div>"
      ],
      "text/plain": [
       "MLPClassifier(batch_size=40, early_stopping=True, hidden_layer_sizes=(50, 30),\n",
       "              max_iter=1000, n_iter_no_change=50)"
      ]
     },
     "execution_count": 6,
     "metadata": {},
     "output_type": "execute_result"
    }
   ],
   "source": [
    "mlp_model.fit(train_X, train_y)"
   ]
  },
  {
   "cell_type": "code",
   "execution_count": 7,
   "id": "fe9b38ea",
   "metadata": {},
   "outputs": [
    {
     "name": "stdout",
     "output_type": "stream",
     "text": [
      "정확도 : 1.0\n",
      "재현율 : 1.0\n",
      "정밀도 : 1.0\n",
      "교차표\n",
      " 예측  0  1  2\n",
      "실제         \n",
      "0   5  0  0\n",
      "1   0  5  0\n",
      "2   0  0  5\n"
     ]
    }
   ],
   "source": [
    "# 모델 평가 : accuracy(test_X, test_y), recall, precision(test_y, yhat)\n",
    "\n",
    "from sklearn.metrics import recall_score, precision_score\n",
    "\n",
    "accuracy = mlp_model.score(test_X, test_y)\n",
    "yhat = mlp_model.predict(test_X)\n",
    "recall = recall_score(test_y, yhat, average = 'weighted')\n",
    "precision = precision_score(test_y, yhat, average = 'weighted')\n",
    "print('정확도 :', accuracy)\n",
    "print('재현율 :', recall)\n",
    "print('정밀도 :', precision)\n",
    "print('교차표\\n', pd.crosstab(test_y, yhat, \n",
    "                           rownames = ['실제'],\n",
    "                           colnames = ['예측']))"
   ]
  },
  {
   "cell_type": "markdown",
   "id": "4abb23af",
   "metadata": {},
   "source": [
    "# 3. 클래스 이용"
   ]
  },
  {
   "cell_type": "code",
   "execution_count": 8,
   "id": "124cab8b",
   "metadata": {},
   "outputs": [],
   "source": [
    "class DNNClassifier :\n",
    "    @staticmethod\n",
    "    def build(input_dim = 4, activation = 'relu', optimizer = 'adam') :\n",
    "        # 모델 구성\n",
    "#         model = Sequential()\n",
    "#         model.add(Input(input_dim,))\n",
    "#         model.add(Dense(50, activation=activation))\n",
    "#         model.add(Dense(30, activation=activation))\n",
    "#         model.add(Dense(3, activation='softmax'))\n",
    "        model = Sequential([\n",
    "            Input(input_dim,) ,\n",
    "            Dense(50, activation = activation),\n",
    "            Dense(30, activation = activation),\n",
    "            Dense(3, activation = 'softmax')\n",
    "        ])\n",
    "        # 모델 학습 설정\n",
    "        model.compile(loss = 'sparse_categorical_crossentropy',\n",
    "                     optimizer = optimizer,\n",
    "                     metrics = ['accuracy'])\n",
    "        return model"
   ]
  },
  {
   "cell_type": "code",
   "execution_count": 9,
   "id": "57a46bb6",
   "metadata": {},
   "outputs": [
    {
     "name": "stdout",
     "output_type": "stream",
     "text": [
      "Model: \"sequential_1\"\n",
      "_________________________________________________________________\n",
      " Layer (type)                Output Shape              Param #   \n",
      "=================================================================\n",
      " dense_3 (Dense)             (None, 50)                250       \n",
      "                                                                 \n",
      " dense_4 (Dense)             (None, 30)                1530      \n",
      "                                                                 \n",
      " dense_5 (Dense)             (None, 3)                 93        \n",
      "                                                                 \n",
      "=================================================================\n",
      "Total params: 1,873\n",
      "Trainable params: 1,873\n",
      "Non-trainable params: 0\n",
      "_________________________________________________________________\n",
      "CPU times: total: 20.4 s\n",
      "Wall time: 15.4 s\n"
     ]
    }
   ],
   "source": [
    "%%time\n",
    "\n",
    "# 모델\n",
    "model = DNNClassifier.build(input_dim = 4, activation = 'relu')\n",
    "model.summary()\n",
    "\n",
    "# 모델 학습\n",
    "hist = model.fit(train_X, train_y,\n",
    "                epochs = 500,\n",
    "                validation_split = 0.2,\n",
    "                verbose = 0)"
   ]
  },
  {
   "cell_type": "code",
   "execution_count": 10,
   "id": "c6644a88",
   "metadata": {},
   "outputs": [
    {
     "name": "stdout",
     "output_type": "stream",
     "text": [
      "1/1 [==============================] - 0s 21ms/step - loss: 0.0413 - accuracy: 1.0000\n"
     ]
    },
    {
     "data": {
      "text/plain": [
       "(0.041253622621297836, 1.0)"
      ]
     },
     "execution_count": 10,
     "metadata": {},
     "output_type": "execute_result"
    }
   ],
   "source": [
    "loss, accuracy = model.evaluate(test_X, test_y)\n",
    "loss, accuracy"
   ]
  },
  {
   "cell_type": "markdown",
   "id": "4f38859f",
   "metadata": {},
   "source": [
    "# 4. 함수형 API이용하기\n",
    "\n",
    "- 병렬처리 : 속도 높이려고\n",
    "- 레지듀얼블록(Residual block) : 모델의 성능을 높이려고(자연어처리, 이미지처리)"
   ]
  },
  {
   "cell_type": "code",
   "execution_count": 11,
   "id": "56e2f35f",
   "metadata": {},
   "outputs": [],
   "source": [
    "import numpy as np\n",
    "from sklearn.model_selection import train_test_split  # 데이터 분할 (층화추출)\n",
    "from tensorflow.keras import Model  # 모델 생성 (입력층과 출력층을 이용)\n",
    "from tensorflow.keras.layers import Dense, Input, add  # add : 레지듀얼블록 \n",
    "from tensorflow.keras.layers import concatenate  # 병렬처리시"
   ]
  },
  {
   "cell_type": "code",
   "execution_count": 12,
   "id": "1424a1b6",
   "metadata": {},
   "outputs": [
    {
     "data": {
      "text/plain": [
       "((135, 4), (135,), (15, 4), (15,))"
      ]
     },
     "execution_count": 12,
     "metadata": {},
     "output_type": "execute_result"
    }
   ],
   "source": [
    "from sklearn import datasets\n",
    "\n",
    "iris = datasets.load_iris()\n",
    "# iris.keys()\n",
    "iris_X = iris.data\n",
    "iris_y = iris.target  # 라벨인코딩이 되어 있음\n",
    "iris_X.shape, iris_y.shape\n",
    "train_X, test_X, train_y, test_y = train_test_split(iris_X, iris_y,\n",
    "                                                   test_size = 0.1,\n",
    "                                                   stratify = iris_y,\n",
    "                                                   random_state = 4)\n",
    "train_X.shape, train_y.shape, test_X.shape, test_y.shape"
   ]
  },
  {
   "cell_type": "code",
   "execution_count": 13,
   "id": "98dc1cc5",
   "metadata": {},
   "outputs": [
    {
     "name": "stdout",
     "output_type": "stream",
     "text": [
      "Model: \"model\"\n",
      "_________________________________________________________________\n",
      " Layer (type)                Output Shape              Param #   \n",
      "=================================================================\n",
      " input_3 (InputLayer)        [(None, 4)]               0         \n",
      "                                                                 \n",
      " dense_6 (Dense)             (None, 50)                250       \n",
      "                                                                 \n",
      " dense_7 (Dense)             (None, 30)                1530      \n",
      "                                                                 \n",
      " dense_8 (Dense)             (None, 3)                 93        \n",
      "                                                                 \n",
      "=================================================================\n",
      "Total params: 1,873\n",
      "Trainable params: 1,873\n",
      "Non-trainable params: 0\n",
      "_________________________________________________________________\n",
      "Epoch 1/20\n",
      "4/4 [==============================] - 0s 47ms/step - loss: 1.0475 - accuracy: 0.4352 - val_loss: 1.0887 - val_accuracy: 0.2593\n",
      "Epoch 2/20\n",
      "4/4 [==============================] - 0s 11ms/step - loss: 0.9763 - accuracy: 0.3981 - val_loss: 1.0798 - val_accuracy: 0.2222\n",
      "Epoch 3/20\n",
      "4/4 [==============================] - 0s 11ms/step - loss: 0.9641 - accuracy: 0.3611 - val_loss: 1.0422 - val_accuracy: 0.2222\n",
      "Epoch 4/20\n",
      "4/4 [==============================] - 0s 11ms/step - loss: 0.9301 - accuracy: 0.3611 - val_loss: 0.9798 - val_accuracy: 0.2222\n",
      "Epoch 5/20\n",
      "4/4 [==============================] - 0s 12ms/step - loss: 0.8916 - accuracy: 0.4167 - val_loss: 0.9363 - val_accuracy: 0.3333\n",
      "Epoch 6/20\n",
      "4/4 [==============================] - 0s 11ms/step - loss: 0.8685 - accuracy: 0.5556 - val_loss: 0.9088 - val_accuracy: 0.3704\n",
      "Epoch 7/20\n",
      "4/4 [==============================] - 0s 12ms/step - loss: 0.8374 - accuracy: 0.5278 - val_loss: 0.8832 - val_accuracy: 0.2593\n",
      "Epoch 8/20\n",
      "4/4 [==============================] - 0s 11ms/step - loss: 0.8093 - accuracy: 0.4444 - val_loss: 0.8528 - val_accuracy: 0.3333\n",
      "Epoch 9/20\n",
      "4/4 [==============================] - 0s 11ms/step - loss: 0.7847 - accuracy: 0.4907 - val_loss: 0.8142 - val_accuracy: 0.6296\n",
      "Epoch 10/20\n",
      "4/4 [==============================] - 0s 12ms/step - loss: 0.7539 - accuracy: 0.7130 - val_loss: 0.7708 - val_accuracy: 0.7407\n",
      "Epoch 11/20\n",
      "4/4 [==============================] - 0s 11ms/step - loss: 0.7254 - accuracy: 0.8148 - val_loss: 0.7340 - val_accuracy: 0.8519\n",
      "Epoch 12/20\n",
      "4/4 [==============================] - 0s 11ms/step - loss: 0.6988 - accuracy: 0.8889 - val_loss: 0.6995 - val_accuracy: 0.8889\n",
      "Epoch 13/20\n",
      "4/4 [==============================] - 0s 12ms/step - loss: 0.6733 - accuracy: 0.8796 - val_loss: 0.6722 - val_accuracy: 0.8519\n",
      "Epoch 14/20\n",
      "4/4 [==============================] - 0s 11ms/step - loss: 0.6492 - accuracy: 0.8796 - val_loss: 0.6436 - val_accuracy: 0.8519\n",
      "Epoch 15/20\n",
      "4/4 [==============================] - 0s 11ms/step - loss: 0.6246 - accuracy: 0.8426 - val_loss: 0.6241 - val_accuracy: 0.7778\n",
      "Epoch 16/20\n",
      "4/4 [==============================] - 0s 12ms/step - loss: 0.6039 - accuracy: 0.8241 - val_loss: 0.5936 - val_accuracy: 0.8519\n",
      "Epoch 17/20\n",
      "4/4 [==============================] - 0s 11ms/step - loss: 0.5823 - accuracy: 0.8981 - val_loss: 0.5635 - val_accuracy: 0.8889\n",
      "Epoch 18/20\n",
      "4/4 [==============================] - 0s 14ms/step - loss: 0.5611 - accuracy: 0.9074 - val_loss: 0.5386 - val_accuracy: 0.8889\n",
      "Epoch 19/20\n",
      "4/4 [==============================] - 0s 11ms/step - loss: 0.5418 - accuracy: 0.8981 - val_loss: 0.5190 - val_accuracy: 0.8889\n",
      "Epoch 20/20\n",
      "4/4 [==============================] - 0s 12ms/step - loss: 0.5218 - accuracy: 0.8981 - val_loss: 0.5011 - val_accuracy: 0.8519\n"
     ]
    },
    {
     "data": {
      "text/plain": [
       "<keras.callbacks.History at 0x14e16501360>"
      ]
     },
     "execution_count": 13,
     "metadata": {},
     "output_type": "execute_result"
    }
   ],
   "source": [
    "# 기존의 model 스타일 4 → 50 → 30 → 3\n",
    "\n",
    "input_ = Input(shape = (4, ))\n",
    "dense1 = Dense(units = 50, activation = 'relu')(input_)\n",
    "dense2 = Dense(units = 30, activation = 'relu')(dense1)\n",
    "dense3 = Dense(units = 3, activation = 'softmax')(dense2)\n",
    "model = Model(inputs = input_, outputs=dense3)\n",
    "model.summary()\n",
    "model.compile(loss = 'sparse_categorical_crossentropy',\n",
    "             optimizer = 'adam',\n",
    "             metrics = ['accuracy'])\n",
    "model.fit(train_X, train_y, epochs = 20,\n",
    "         validation_split = 0.2)"
   ]
  },
  {
   "cell_type": "code",
   "execution_count": 14,
   "id": "1de23702",
   "metadata": {},
   "outputs": [
    {
     "name": "stdout",
     "output_type": "stream",
     "text": [
      "Model: \"model_1\"\n",
      "__________________________________________________________________________________________________\n",
      " Layer (type)                   Output Shape         Param #     Connected to                     \n",
      "==================================================================================================\n",
      " input_4 (InputLayer)           [(None, 4)]          0           []                               \n",
      "                                                                                                  \n",
      " dense_9 (Dense)                (None, 50)           250         ['input_4[0][0]']                \n",
      "                                                                                                  \n",
      " dense_10 (Dense)               (None, 80)           400         ['input_4[0][0]']                \n",
      "                                                                                                  \n",
      " dense_11 (Dense)               (None, 30)           150         ['input_4[0][0]']                \n",
      "                                                                                                  \n",
      " concatenate (Concatenate)      (None, 160)          0           ['dense_9[0][0]',                \n",
      "                                                                  'dense_10[0][0]',               \n",
      "                                                                  'dense_11[0][0]']               \n",
      "                                                                                                  \n",
      " dense_12 (Dense)               (None, 32)           5152        ['concatenate[0][0]']            \n",
      "                                                                                                  \n",
      " dense_13 (Dense)               (None, 3)            99          ['dense_12[0][0]']               \n",
      "                                                                                                  \n",
      "==================================================================================================\n",
      "Total params: 6,051\n",
      "Trainable params: 6,051\n",
      "Non-trainable params: 0\n",
      "__________________________________________________________________________________________________\n"
     ]
    }
   ],
   "source": [
    "# 병렬처리\n",
    "\n",
    "# 4 → 160(50, 80, 30으로 병렬처리) → 32 → 3\n",
    "input_ = Input(shape = (4, ))\n",
    "dense1 = Dense(units = 50, activation = 'relu')(input_)\n",
    "dense2 = Dense(units = 80, activation = 'relu')(input_)\n",
    "dense3 = Dense(units = 30, activation = 'relu')(input_)\n",
    "x = concatenate([dense1, dense2, dense3])\n",
    "# x = Dense(160, activation = 'relu')(input_)의 병렬처리\n",
    "dense4 = Dense(32, activation = 'relu')(x)\n",
    "output = Dense(3, activation = 'softmax')(dense4)\n",
    "model = Model(inputs=input_, outputs = output)\n",
    "model.summary()"
   ]
  },
  {
   "cell_type": "code",
   "execution_count": 15,
   "id": "5de79d03",
   "metadata": {},
   "outputs": [
    {
     "name": "stdout",
     "output_type": "stream",
     "text": [
      "Model: \"model_2\"\n",
      "__________________________________________________________________________________________________\n",
      " Layer (type)                   Output Shape         Param #     Connected to                     \n",
      "==================================================================================================\n",
      " input_5 (InputLayer)           [(None, 4)]          0           []                               \n",
      "                                                                                                  \n",
      " dense_14 (Dense)               (None, 50)           250         ['input_5[0][0]']                \n",
      "                                                                                                  \n",
      " dense_15 (Dense)               (None, 50)           2550        ['dense_14[0][0]']               \n",
      "                                                                                                  \n",
      " add (Add)                      (None, 50)           0           ['dense_14[0][0]',               \n",
      "                                                                  'dense_15[0][0]']               \n",
      "                                                                                                  \n",
      " dense_16 (Dense)               (None, 3)            153         ['add[0][0]']                    \n",
      "                                                                                                  \n",
      "==================================================================================================\n",
      "Total params: 2,953\n",
      "Trainable params: 2,953\n",
      "Non-trainable params: 0\n",
      "__________________________________________________________________________________________________\n",
      "CPU times: total: 19.3 s\n",
      "Wall time: 15.6 s\n"
     ]
    },
    {
     "data": {
      "text/plain": [
       "<keras.callbacks.History at 0x14e162b3010>"
      ]
     },
     "execution_count": 15,
     "metadata": {},
     "output_type": "execute_result"
    }
   ],
   "source": [
    "%%time\n",
    "\n",
    "# 레지듀얼블록(Residual Block) : 딥러닝에서 딥한 네트워크가 학습이 잘 되지 않을 때\n",
    "\n",
    "# 4 → 50 → 50 → (레지듀얼) → 3\n",
    "input_ = Input(shape = (4, ))\n",
    "dense1 = Dense(50, activation = 'relu')(input_)\n",
    "dense2 = Dense(50, activation = 'relu')(dense1)\n",
    "dense3 = add([dense1, dense2])\n",
    "output = Dense(3, activation = 'softmax')(dense3)\n",
    "model = Model(inputs = input_, outputs = output)\n",
    "model.summary()\n",
    "model.compile(loss = 'sparse_categorical_crossentropy',\n",
    "             optimizer = 'adam',\n",
    "             metrics = ['accuracy'])\n",
    "model.fit(train_X, train_y, epochs = 500,\n",
    "         validation_split = 0.2, verbose = 0)"
   ]
  },
  {
   "cell_type": "code",
   "execution_count": 16,
   "id": "b09c031b",
   "metadata": {},
   "outputs": [
    {
     "name": "stdout",
     "output_type": "stream",
     "text": [
      "1/1 [==============================] - 0s 20ms/step - loss: 0.0303 - accuracy: 1.0000\n"
     ]
    },
    {
     "data": {
      "text/plain": [
       "[0.030339930206537247, 1.0]"
      ]
     },
     "execution_count": 16,
     "metadata": {},
     "output_type": "execute_result"
    }
   ],
   "source": [
    "model.evaluate(test_X, test_y)"
   ]
  }
 ],
 "metadata": {
  "kernelspec": {
   "display_name": "ml-dl-nlp",
   "language": "python",
   "name": "ml-dl-nlp"
  },
  "language_info": {
   "codemirror_mode": {
    "name": "ipython",
    "version": 3
   },
   "file_extension": ".py",
   "mimetype": "text/x-python",
   "name": "python",
   "nbconvert_exporter": "python",
   "pygments_lexer": "ipython3",
   "version": "3.10.18"
  },
  "toc": {
   "base_numbering": 1,
   "nav_menu": {},
   "number_sections": false,
   "sideBar": true,
   "skip_h1_title": false,
   "title_cell": "Table of Contents",
   "title_sidebar": "Contents",
   "toc_cell": false,
   "toc_position": {
    "height": "calc(100% - 180px)",
    "left": "10px",
    "top": "150px",
    "width": "239.55px"
   },
   "toc_section_display": true,
   "toc_window_display": true
  }
 },
 "nbformat": 4,
 "nbformat_minor": 5
}
