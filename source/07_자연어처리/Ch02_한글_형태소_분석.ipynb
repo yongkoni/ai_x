{
 "cells": [
  {
   "cell_type": "code",
   "execution_count": 1,
   "id": "995c6033",
   "metadata": {},
   "outputs": [
    {
     "data": {
      "text/html": [
       "<style>\n",
       "div.container{width:86% !important;}\n",
       "div.cell.code_cell.rendered{width:100%;}\n",
       "div.CodeMirror {font-family:Consolas; font-size:12pt;}\n",
       "div.output {font-size:12pt; font-weight:bold;}\n",
       "div.input {font-family:Consolas; font-size:12pt;}\n",
       "div.prompt {min-width:70px;}\n",
       "div#toc-wrapper{padding-top:120px;}\n",
       "div.text_cell_render ul li{fontsize:12pt;padding:5px;}\n",
       "table.dataframe{font-size:12px;}))\n",
       "</style>\n"
      ],
      "text/plain": [
       "<IPython.core.display.HTML object>"
      ]
     },
     "metadata": {},
     "output_type": "display_data"
    }
   ],
   "source": [
    "from IPython.display import display, HTML\n",
    "display(HTML(\"\"\"<style>\n",
    "div.container{width:86% !important;}\n",
    "div.cell.code_cell.rendered{width:100%;}\n",
    "div.CodeMirror {font-family:Consolas; font-size:12pt;}\n",
    "div.output {font-size:12pt; font-weight:bold;}\n",
    "div.input {font-family:Consolas; font-size:12pt;}\n",
    "div.prompt {min-width:70px;}\n",
    "div#toc-wrapper{padding-top:120px;}\n",
    "div.text_cell_render ul li{fontsize:12pt;padding:5px;}\n",
    "table.dataframe{font-size:12px;}))\n",
    "</style>\n",
    "\"\"\"))"
   ]
  },
  {
   "cell_type": "markdown",
   "id": "352c4ed0",
   "metadata": {},
   "source": [
    "# <span style = \"color:red\">ch02 한글 형태소 분석</span>"
   ]
  },
  {
   "cell_type": "markdown",
   "id": "fd15fc84",
   "metadata": {},
   "source": [
    "# 1. 자연어처리\n",
    "\n",
    "- 자연어 : 일상적인 언어\n",
    "- 자연어 처리 분야 : \n",
    "    * 자연어 이해 : 형태소분석 → postagging → 의미분석, 시각화\n",
    "    * 자연어 생성 : RNN, LSTM, GRU, ... , encoder-decoder 알고리즘 → 트랜스포머알고리즘\n",
    "- 활용분야 : 트랜드분석, 탐색적 분석, 맞춤법검사, 번역기, 쳇봇"
   ]
  },
  {
   "cell_type": "markdown",
   "id": "9e0860db",
   "metadata": {},
   "source": [
    "# 2. 자연어 이해 처리 절차\n",
    "\n",
    "- 전처리 : 단어, 어절 추출\n",
    "- 분석 후보 생성 : 형태소 분리, 품사태깅(pos tagging)\n",
    "- 제약조건(불용어 처리) : 규칙 확인\n",
    "- 분석 : 시각화(워드클라우드), 연관분석, RNN, LSTM, GRU, ..."
   ]
  },
  {
   "cell_type": "markdown",
   "id": "2f14fdea",
   "metadata": {},
   "source": [
    "# 3. 한글형태소 분석 엔진(Konlpy,...)\n",
    "\n",
    "- 공통기능 : morphs(형태소 나누기), nouns(명사추출), pos(형태소로 나누어 품사 태그)\n",
    "- Konlpy (pip install konlpy : jpype1 라이브러를 의존)\n",
    "    - HanNanum : 자바로 만든 형태소 분석기(JAVA_HOME 시스템환경변수, Path설정)\n",
    "    - Kkma : 자바로 만든 형태소 분석기(JAVA_HOME 시스템환경변수, Path설정)\n",
    "    - Komoran : 자바로 만든 형태소 분석기(JAVA_HOME 시스템환경변수, Path설정)\n",
    "    - Okt\n",
    "- Mecab (pip install python-mecab-ko)\n",
    "    - MeCab : C++로 만든 형태소 분석기. 저사양환경에서 사용 가능. 다국어 바인딩 지원"
   ]
  },
  {
   "cell_type": "code",
   "execution_count": 2,
   "id": "a3be208a",
   "metadata": {},
   "outputs": [
    {
     "data": {
      "text/plain": [
       "'C:\\\\Program Files\\\\Java\\\\jdk-17'"
      ]
     },
     "execution_count": 2,
     "metadata": {},
     "output_type": "execute_result"
    }
   ],
   "source": [
    "import os\n",
    "\n",
    "os.environ.get('JAVA_HOME')"
   ]
  },
  {
   "cell_type": "code",
   "execution_count": 3,
   "id": "f13b9f05",
   "metadata": {},
   "outputs": [],
   "source": [
    "text = '''아름답지만 다소 복잡하기도 한 한국어는 전세계에서 13번째로\n",
    "많이 사용되는 언어입니다\n",
    "'''"
   ]
  },
  {
   "cell_type": "markdown",
   "id": "223e127e",
   "metadata": {},
   "source": [
    "## 3.1 HanNanum"
   ]
  },
  {
   "cell_type": "code",
   "execution_count": 4,
   "id": "afad5996",
   "metadata": {},
   "outputs": [
    {
     "data": {
      "text/plain": [
       "[[[('아름답', 'paa'), ('지만', 'ecs')],\n",
       "  [('아름답', 'paa'), ('지', 'ecs'), ('만', 'jxc')],\n",
       "  [('아름답', 'paa'), ('지', 'ecx'), ('말', 'px'), ('ㄴ', 'etm')]],\n",
       " [[('다소', 'mag')], [('다소', 'ncn')]],\n",
       " [[('복잡', 'ncn'), ('하기', 'ncn'), ('도', 'jxc')],\n",
       "  [('복잡', 'ncn'), ('하기', 'ncn'), ('도', 'ncn')],\n",
       "  [('복잡', 'ncps'), ('하기', 'ncn'), ('도', 'jxc')],\n",
       "  [('복잡', 'ncps'), ('하기', 'ncn'), ('도', 'ncn')],\n",
       "  [('복잡', 'ncps'), ('하', 'xsms'), ('기', 'etn'), ('도', 'jxc')]],\n",
       " [[('하', 'pvg'), ('ㄴ', 'etm')],\n",
       "  [('한', 'nnc')],\n",
       "  [('한', 'ncn')],\n",
       "  [('한', 'nbn')],\n",
       "  [('하', 'px'), ('ㄴ', 'etm')]],\n",
       " [[('한국어', 'ncn'), ('는', 'jxc')]],\n",
       " [[('전세계', 'ncn'), ('에서', 'jca')],\n",
       "  [('전세', 'ncn'), ('계', 'ncn'), ('에서', 'jca')],\n",
       "  [('전', 'xp'), ('세계', 'ncn'), ('에서', 'jca')]],\n",
       " [[('13', 'nnc'), ('번', 'nbu'), ('째', 'xsnu'), ('로', 'jca')]],\n",
       " [],\n",
       " [[('많', 'paa'), ('이', 'xsa')], [('많이', 'mag')]],\n",
       " [[('사용', 'ncpa'), ('되', 'xsvn'), ('는', 'etm')]],\n",
       " [[('언어', 'ncn'), ('이', 'jp'), ('ㅂ니다', 'ef')]]]"
      ]
     },
     "execution_count": 4,
     "metadata": {},
     "output_type": "execute_result"
    }
   ],
   "source": [
    "from konlpy.tag import Hannanum\n",
    "\n",
    "hannanum = Hannanum(jvmpath = None,\n",
    "                   max_heap_size = 1024)  # 기본값:1024\n",
    "hannanum.analyze(text)"
   ]
  },
  {
   "cell_type": "markdown",
   "id": "ae6c4620",
   "metadata": {},
   "source": [
    "- 구글에서 konlpy docs 검색후 https://konlpy.org/\n",
    "- api 메뉴 → \"Comparison between POS tagging classes\"클릭 → Korean POS tags comparison chart클릭"
   ]
  },
  {
   "cell_type": "code",
   "execution_count": 5,
   "id": "0ff94acc",
   "metadata": {
    "scrolled": true
   },
   "outputs": [
    {
     "name": "stdout",
     "output_type": "stream",
     "text": [
      "['아름답', '지만', '다소', '복잡', '하', '기', '도', '하', 'ㄴ', '한국어', '는', '전세계', '에서', '13번', '째', '로', '많', '이', '사용', '되', '는', '언어', '이', 'ㅂ니다']\n"
     ]
    }
   ],
   "source": [
    "# 형태소 분석 : morphs\n",
    "\n",
    "print(hannanum.morphs(text))"
   ]
  },
  {
   "cell_type": "code",
   "execution_count": 6,
   "id": "52207fbe",
   "metadata": {},
   "outputs": [
    {
     "name": "stdout",
     "output_type": "stream",
     "text": [
      "['복잡', '한국어', '전세계', '13번', '사용', '언어']\n"
     ]
    }
   ],
   "source": [
    "# 명사만 추출\n",
    "\n",
    "print(hannanum.nouns(text))"
   ]
  },
  {
   "cell_type": "code",
   "execution_count": 7,
   "id": "cc554be3",
   "metadata": {},
   "outputs": [
    {
     "name": "stdout",
     "output_type": "stream",
     "text": [
      "[('아름답', 'P'), ('지만', 'E'), ('다소', 'M'), ('복잡', 'N'), ('하', 'X'), ('기', 'E'), ('도', 'J'), ('하', 'P'), ('ㄴ', 'E'), ('한국어', 'N'), ('는', 'J'), ('전세계', 'N'), ('에서', 'J'), ('13번', 'N'), ('째', 'X'), ('로', 'J'), ('많', 'P'), ('이', 'X'), ('사용', 'N'), ('되', 'X'), ('는', 'E'), ('언어', 'N'), ('이', 'J'), ('ㅂ니다', 'E')]\n"
     ]
    }
   ],
   "source": [
    "# 품사태그\n",
    "\n",
    "print(hannanum.pos(text))  # 품사갯수 기본값 ntags = 9"
   ]
  },
  {
   "cell_type": "code",
   "execution_count": 8,
   "id": "c984b315",
   "metadata": {},
   "outputs": [
    {
     "name": "stdout",
     "output_type": "stream",
     "text": [
      "[('아름답', 'PA'), ('지만', 'EC'), ('다소', 'MA'), ('복잡', 'NC'), ('하', 'XS'), ('기', 'ET'), ('도', 'JX'), ('하', 'PV'), ('ㄴ', 'ET'), ('한국어', 'NC'), ('는', 'JX'), ('전세계', 'NC'), ('에서', 'JC'), ('13', 'NN'), ('번', 'NB'), ('째', 'XS'), ('로', 'JC'), ('많', 'PA'), ('이', 'XS'), ('사용', 'NC'), ('되', 'XS'), ('는', 'ET'), ('언어', 'NC'), ('이', 'JP'), ('ㅂ니다', 'EF')]\n"
     ]
    }
   ],
   "source": [
    "print(hannanum.pos(text, ntags = 22))"
   ]
  },
  {
   "cell_type": "code",
   "execution_count": null,
   "id": "f4191df3",
   "metadata": {},
   "outputs": [],
   "source": []
  }
 ],
 "metadata": {
  "kernelspec": {
   "display_name": "ml-dl-nlp",
   "language": "python",
   "name": "ml-dl-nlp"
  },
  "language_info": {
   "codemirror_mode": {
    "name": "ipython",
    "version": 3
   },
   "file_extension": ".py",
   "mimetype": "text/x-python",
   "name": "python",
   "nbconvert_exporter": "python",
   "pygments_lexer": "ipython3",
   "version": "3.10.18"
  },
  "toc": {
   "base_numbering": 1,
   "nav_menu": {},
   "number_sections": false,
   "sideBar": true,
   "skip_h1_title": false,
   "title_cell": "Table of Contents",
   "title_sidebar": "Contents",
   "toc_cell": false,
   "toc_position": {
    "height": "calc(100% - 180px)",
    "left": "10px",
    "top": "150px",
    "width": "269.55px"
   },
   "toc_section_display": true,
   "toc_window_display": true
  }
 },
 "nbformat": 4,
 "nbformat_minor": 5
}
