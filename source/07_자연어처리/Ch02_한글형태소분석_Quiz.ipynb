{
 "cells": [
  {
   "cell_type": "code",
   "execution_count": 1,
   "id": "af34e8b7",
   "metadata": {},
   "outputs": [
    {
     "data": {
      "text/html": [
       "<style>\n",
       "div.container{width:86% !important;}\n",
       "div.cell.code_cell.rendered{width:100%;}\n",
       "div.CodeMirror {font-family:Consolas; font-size:12pt;}\n",
       "div.output {font-size:12pt; font-weight:bold;}\n",
       "div.input {font-family:Consolas; font-size:12pt;}\n",
       "div.prompt {min-width:70px;}\n",
       "div#toc-wrapper{padding-top:120px;}\n",
       "div.text_cell_render ul li{fontsize:12pt;padding:5px;}\n",
       "table.dataframe{font-size:12px;}))\n",
       "</style>\n"
      ],
      "text/plain": [
       "<IPython.core.display.HTML object>"
      ]
     },
     "metadata": {},
     "output_type": "display_data"
    }
   ],
   "source": [
    "from IPython.display import display, HTML\n",
    "display(HTML(\"\"\"<style>\n",
    "div.container{width:86% !important;}\n",
    "div.cell.code_cell.rendered{width:100%;}\n",
    "div.CodeMirror {font-family:Consolas; font-size:12pt;}\n",
    "div.output {font-size:12pt; font-weight:bold;}\n",
    "div.input {font-family:Consolas; font-size:12pt;}\n",
    "div.prompt {min-width:70px;}\n",
    "div#toc-wrapper{padding-top:120px;}\n",
    "div.text_cell_render ul li{fontsize:12pt;padding:5px;}\n",
    "table.dataframe{font-size:12px;}))\n",
    "</style>\n",
    "\"\"\"))"
   ]
  },
  {
   "cell_type": "markdown",
   "id": "d8dfa39d",
   "metadata": {},
   "source": [
    "# <span style = \"color:red\">ch02 한글 형태소 분석 Quiz</span>"
   ]
  },
  {
   "cell_type": "markdown",
   "id": "7557abb3",
   "metadata": {},
   "source": [
    "※ naver open API를 활용하여 네이버지식인 \"전주여행\"과 \"경주여행\"을 검색 → 명사만 추출(re ? ) → 빈도분석(DataFrame) → 빈도 시각화(워드클라우드, Text) → Word2Vec"
   ]
  },
  {
   "cell_type": "markdown",
   "id": "9005c17c",
   "metadata": {},
   "source": [
    "# 1. 네이버 open API를 활용하여 검색 추출\n",
    "\n",
    "- 검색어, no, title, link, description, title + ' ' + description"
   ]
  },
  {
   "cell_type": "code",
   "execution_count": 2,
   "id": "ed390b10",
   "metadata": {},
   "outputs": [
    {
     "data": {
      "text/plain": [
       "'C:\\\\ai_x\\\\source\\\\07_자연어처리'"
      ]
     },
     "execution_count": 2,
     "metadata": {},
     "output_type": "execute_result"
    }
   ],
   "source": [
    "# pip install python-dotenv (환경변수를 쓰기 위한 라이브러리)\n",
    "# pip install python-decouple (주피터 환경에서는 안 될 수도 있음)4\n",
    "\n",
    "import os\n",
    "\n",
    "os.getcwd()  # 현재 작업디렉토리"
   ]
  },
  {
   "cell_type": "code",
   "execution_count": 3,
   "id": "490f7199",
   "metadata": {},
   "outputs": [
    {
     "name": "stdout",
     "output_type": "stream",
     "text": [
      " C 드라이브의 볼륨에는 이름이 없습니다.\n",
      " 볼륨 일련 번호: 3664-591E\n",
      "\n",
      " C:\\ai_x\\source\\07_자연어처리 디렉터리\n",
      "\n",
      "2025-05-30  오전 10:00               259 .env\n",
      "               1개 파일                 259 바이트\n",
      "               0개 디렉터리  121,769,168,896 바이트 남음\n"
     ]
    }
   ],
   "source": [
    "%ls .env"
   ]
  },
  {
   "cell_type": "code",
   "execution_count": 4,
   "id": "1aaf1e7e",
   "metadata": {},
   "outputs": [
    {
     "name": "stdout",
     "output_type": "stream",
     "text": [
      "SORwwoI5wScwslEko_Vr\n",
      "YjLpdyKOY8\n"
     ]
    }
   ],
   "source": [
    "from dotenv import load_dotenv\n",
    "\n",
    "load_dotenv()\n",
    "print(os.getenv('Client_ID'))\n",
    "print(os.getenv('Client_Secret'))"
   ]
  },
  {
   "cell_type": "code",
   "execution_count": 5,
   "id": "ac7d7a77",
   "metadata": {},
   "outputs": [
    {
     "name": "stdout",
     "output_type": "stream",
     "text": [
      "SORwwoI5wScwslEko_Vr\n",
      "YjLpdyKOY8\n"
     ]
    }
   ],
   "source": [
    "from decouple import config\n",
    "\n",
    "print(config('Client_ID'))\n",
    "print(config('Client_Secret'))"
   ]
  },
  {
   "cell_type": "code",
   "execution_count": 6,
   "id": "6f12af47",
   "metadata": {},
   "outputs": [
    {
     "name": "stdout",
     "output_type": "stream",
     "text": [
      "{\n",
      "\t\"lastBuildDate\":\"Thu, 19 Jun 2025 11:51:25 +0900\",\n",
      "\t\"total\":931106,\n",
      "\t\"start\":1,\n",
      "\t\"display\":10,\n",
      "\t\"items\":[\n",
      "\t\t{\n",
      "\t\t\t\"title\":\"<b>경주 여행<\\/b>코스 루지월드 해방감을 느꼈어요\",\n",
      "\t\t\t\"link\":\"https:\\/\\/blog.naver.com\\/sangil00\\/223903211939\",\n",
      "\t\t\t\"description\":\"오랜만에 활기차고 건강하게 하루를 보낼 수 있었고요. 날씨 좋은 계절에 경주를 방문하신다면 루지월드를 꼭 <b>경주 여행<\\/b>코스에 넣어보시길 바라요. 정말 후회 없는 경험이 될 거예요. #<b>경주여행<\\/b>코스 #루지월드\",\n",
      "\t\t\t\"bloggername\":\"길을 찾는 즐거움_거칠부\",\n",
      "\t\t\t\"bloggerlink\":\"blog.naver.com\\/sangil00\",\n",
      "\t\t\t\"postdate\":\"20250618\"\n",
      "\t\t},\n",
      "\t\t{\n",
      "\t\t\t\"title\":\"당일치기 <\n"
     ]
    }
   ],
   "source": [
    "# 네이버 개발자 센터 document에 있는 내용 그냥 그대로 가져와 봄\n",
    "\n",
    "import os\n",
    "import sys\n",
    "import urllib.request\n",
    "\n",
    "client_id = os.getenv('Client_ID')\n",
    "client_secret = os.getenv('Client_Secret')\n",
    "encText = urllib.parse.quote(\"경주 여행\")\n",
    "url = \"https://openapi.naver.com/v1/search/blog?query=\" + encText  # JSON 결과\n",
    "# url = \"https://openapi.naver.com/v1/search/blog.xml?query=\" + encText # XML 결과\n",
    "request = urllib.request.Request(url)\n",
    "request.add_header(\"X-Naver-Client-Id\",client_id)\n",
    "request.add_header(\"X-Naver-Client-Secret\",client_secret)\n",
    "response = urllib.request.urlopen(request)\n",
    "rescode = response.getcode()\n",
    "if(rescode == 200) :\n",
    "    response_body = response.read()\n",
    "    print(response_body.decode('utf-8')[:500])\n",
    "else:\n",
    "    print(\"Error Code:\" + rescode)"
   ]
  },
  {
   "cell_type": "code",
   "execution_count": 7,
   "id": "ec10cef3",
   "metadata": {},
   "outputs": [],
   "source": [
    "# 패키지 import\n",
    "\n",
    "import requests\n",
    "import time\n",
    "import os\n",
    "import json  # response 텍스트를 json 딕셔너리로\n",
    "from html import unescape  # description에 있는 &lt;(특수문자)을 <으로 변경, &gt; → >\n",
    "import pandas as pd\n",
    "import re"
   ]
  },
  {
   "cell_type": "code",
   "execution_count": 8,
   "id": "be319e25",
   "metadata": {},
   "outputs": [
    {
     "name": "stdout",
     "output_type": "stream",
     "text": [
      "100\n",
      "{'title': '<b>경주 여행</b> 코스 어디가★', 'link': 'https://kin.naver.com/qna/detail.naver?d1id=9&dirId=90111&docId=277365452&qb=6rK97KO8IOyXrO2WiQ==&enc=utf8', 'description': '가족들이랑 <b>경주여행</b>을 가려고 하는데 !! <b>경주 여행</b> 코스를 어떻게 해야할지 모르겟네요!! <b>경주 여행</b> 코스 어디가 좋을까요? 사실 중학교때 가보고 안가봤어요 <b>경주 여행</b>코스 가장 핫플레이스만 가보고 싶어요!! 혹시 <b>경주 여행</b>코스 다들... '} {'title': '<b>경주 여행</b>!! 황리단길 맛집추천', 'link': 'https://kin.naver.com/qna/detail.naver?d1id=9&dirId=901&docId=451834956&qb=6rK97KO8IOyXrO2WiQ==&enc=utf8', 'description': '이번주에 <b>경주여행</b> 가는데 황리단길 근처로 맛집 많이 추천해주세요 ~ 뚜벅이라 거리멀면 힘들어요 ㅠㅠ <b>경주 여행</b>을 위한 황리단길 맛집 추천과 황리단 맛집과 경주 맛집은 매일 많은 분들이 줄을 오랫동안 서서 기다려 먹는 곳과 배달... '}\n"
     ]
    }
   ],
   "source": [
    "query = \"경주 여행\"\n",
    "start = 1\n",
    "url = f\"https://openapi.naver.com/v1/search/kin.json?query={query}&display=100&start={start}\"\n",
    "headers = {\"X-Naver-Client-Id\":client_id,\n",
    "           \"X-Naver-Client-Secret\":client_secret}\n",
    "response = requests.get(url, headers = headers)\n",
    "items = json.loads(response.text)['items']\n",
    "print(len(items))\n",
    "print(items[51], items[58])"
   ]
  },
  {
   "cell_type": "code",
   "execution_count": 9,
   "id": "1b4f4a50",
   "metadata": {},
   "outputs": [
    {
     "name": "stdout",
     "output_type": "stream",
     "text": [
      "<b>경주 여행</b>!! 황리단길 맛집추천\n",
      "https://kin.naver.com/qna/detail.naver?d1id=9&dirId=901&docId=451834956&qb=6rK97KO8IOyXrO2WiQ==&enc=utf8\n",
      "이번주에 <b>경주여행</b> 가는데 황리단길 근처로 맛집 많이 추천해주세요 ~ 뚜벅이라 거리멀면 힘들어요 ㅠㅠ <b>경주 여행</b>을 위한 황리단길 맛집 추천과 황리단 맛집과 경주 맛집은 매일 많은 분들이 줄을 오랫동안 서서 기다려 먹는 곳과 배달... \n"
     ]
    }
   ],
   "source": [
    "item = items[58]\n",
    "title = item['title']\n",
    "link = item['link']\n",
    "description = item['description']\n",
    "print(title, link, description, sep = '\\n')"
   ]
  },
  {
   "cell_type": "code",
   "execution_count": 10,
   "id": "72db968b",
   "metadata": {},
   "outputs": [
    {
     "name": "stdout",
     "output_type": "stream",
     "text": [
      " 경주 여행 !! 황리단길 맛집추천\n",
      "https://kin.naver.com/qna/detail.naver?d1id=9&dirId=901&docId=451834956&qb=6rK97KO8IOyXrO2WiQ==&enc=utf8\n",
      "이번주에  경주여행  가는데 황리단길 근처로 맛집 많이 추천해주세요 ~ 뚜벅이라 거리멀면 힘들어요 ㅠㅠ  경주 여행 을 위한 황리단길 맛집 추천과 황리단 맛집과 경주 맛집은 매일 많은 분들이 줄을 오랫동안 서서 기다려 먹는 곳과 배달... \n"
     ]
    }
   ],
   "source": [
    "# 위의 title의 <b>태그 없애기, description의 <b>태그 없애고 html의 특수문자 없애기\n",
    "\n",
    "item = items[58]\n",
    "title = item['title'].replace('<b>', ' ').replace('</b>', ' ')\n",
    "link = item['link']\n",
    "description = item['description'].replace('<b>', ' ').replace('</b>', ' ')\n",
    "description = unescape(description)  # html 특수문자 처리 (&lt; → <로 대체)\n",
    "print(title, link, description, sep = '\\n')"
   ]
  },
  {
   "cell_type": "code",
   "execution_count": 11,
   "id": "425f2997",
   "metadata": {},
   "outputs": [
    {
     "name": "stdout",
     "output_type": "stream",
     "text": [
      " 추억여행 ktx 타고 짱 \n"
     ]
    }
   ],
   "source": [
    "# 정규표현식 : 알파벳, 숫자, 한글만 남기고 나머지는 제거\n",
    "\n",
    "description = \"#추억여행 ####ktx 타고@짱@ ㅎㅎㅎ ㅠㅠ ㅋㅋ\"\n",
    "description = re.sub(r'[^a-zA-Z0-9가-힣]', ' ', description)\n",
    "description = re.sub('\\s+', ' ', description)\n",
    "print(description)"
   ]
  },
  {
   "cell_type": "code",
   "execution_count": 12,
   "id": "8ca37f71",
   "metadata": {},
   "outputs": [],
   "source": [
    "# 네이버 API 계정 정보\n",
    "\n",
    "from dotenv import load_dotenv\n",
    "import os\n",
    "\n",
    "load_dotenv()\n",
    "client_id = os.getenv('Client_ID')\n",
    "client_secret = os.getenv('Client_Secret')\n",
    "queries = ['전주 여행', '경주 여행']\n",
    "max_start = 5"
   ]
  },
  {
   "cell_type": "code",
   "execution_count": 13,
   "id": "e2b9f310",
   "metadata": {},
   "outputs": [],
   "source": [
    "# 방법 1\n",
    "\n",
    "def get_search_element_save(query, start) :\n",
    "    headers = {'X-Naver-Client-Id':client_id,\n",
    "           'X-Naver-Client-Secret':client_secret}\n",
    "    url = f'https://openapi.naver.com/v1/search/kin.json?query={query}&display=100&start={start}'\n",
    "    response = requests.get(url, headers = headers)\n",
    "    items = json.loads(response.text)['items']\n",
    "    for i, item in enumerate(items) :\n",
    "        title = item['title'].replace('<b>', ' ').replace('</b>', ' ')\n",
    "        link = item['link']\n",
    "        description = item['description'].replace('<b>', ' ').replace('</b>', ' ')\n",
    "        # print('수정전 :', description)\n",
    "        description = unescape(description)  # html 특수문자 처리(&lt; → <로 대체)\n",
    "        description = re.sub(r'[^a-zA-Z0-9가-힣]', ' ', description)\n",
    "        description = re.sub('\\s+', ' ', description)\n",
    "        # print('수정후 :', description)\n",
    "        # print(query, (start * 100 + i + 1), title, link, description, title + ' ' + description)\n",
    "        with open(file_name, 'a', encoding='utf-8') as file :\n",
    "            file.write('{}\\t{}\\t{}\\t{}\\t{}\\t{}\\n'.format(query, \n",
    "                                                         (start - 1) * 100 + i + 1,\n",
    "                                                         title,\n",
    "                                                         link,\n",
    "                                                         description, \n",
    "                                                         title + ' ' + description))"
   ]
  },
  {
   "cell_type": "code",
   "execution_count": 14,
   "id": "cac83abf",
   "metadata": {},
   "outputs": [],
   "source": [
    "# 데이터를 저장할 파일 생성 (naver_kin.txt)하고 title 저장(header저장)\n",
    "\n",
    "file_name = 'data/naver_kin.csv'\n",
    "with open(file_name, 'w', encoding = 'utf-8') as file :\n",
    "    file.write('{}\\t{}\\t{}\\t{}\\t{}\\t{}\\n'.format('query', 'no','title','link', 'description', 'total_text'))"
   ]
  },
  {
   "cell_type": "code",
   "execution_count": 15,
   "id": "1dd54e27",
   "metadata": {},
   "outputs": [
    {
     "name": "stdout",
     "output_type": "stream",
     "text": [
      "1 전주 여행 읽는 중\n",
      "2 전주 여행 읽는 중\n",
      "3 전주 여행 읽는 중\n",
      "4 전주 여행 읽는 중\n",
      "5 전주 여행 읽는 중\n",
      "1 경주 여행 읽는 중\n",
      "2 경주 여행 읽는 중\n",
      "3 경주 여행 읽는 중\n",
      "4 경주 여행 읽는 중\n",
      "5 경주 여행 읽는 중\n"
     ]
    }
   ],
   "source": [
    "for query in queries :\n",
    "    for start in range(1, max_start + 1) :\n",
    "        print(start, query, '읽는 중')\n",
    "        get_search_element_save(query, start)\n",
    "        time.sleep(0.5)"
   ]
  },
  {
   "cell_type": "code",
   "execution_count": 13,
   "id": "f375960e",
   "metadata": {},
   "outputs": [],
   "source": [
    "# 방법 2 (수업시간 내용과 동일)\n",
    "\n",
    "def get_search_element_return(query, start) :\n",
    "    headers = {'X-Naver-Client-Id':client_id,\n",
    "           'X-Naver-Client-Secret':client_secret}\n",
    "    url = f'https://openapi.naver.com/v1/search/kin.json?query={query}&display=100&start={start}'\n",
    "    response = requests.get(url, headers = headers)\n",
    "    items = json.loads(response.text)['items']\n",
    "    result = []\n",
    "    for i, item in enumerate(items) :\n",
    "        title = item['title'].replace('<b>', ' ').replace('</b>', ' ')\n",
    "        link = item['link']\n",
    "        description = item['description'].replace('<b>', ' ').replace('</b>', ' ')\n",
    "        # print('수정전 :', description)\n",
    "        description = unescape(description)  # html 특수문자 처리 (&lt; → <로 대체)\n",
    "        description = re.sub(r'[^a-zA-Z0-9가-힣]', ' ', description)\n",
    "        description = re.sub('\\s+', ' ', description)\n",
    "        # print('수정후 :', description)\n",
    "        # print(query, (start * 100 + i + 1), title, link, description, title + ' ' + description)\n",
    "        result.append({'query':query,\n",
    "                      'no':(start - 1) * 100 + i + 1,\n",
    "                      'title':title,\n",
    "                      'link':link,\n",
    "                      'description':description,\n",
    "                      'total_text':title +  ' ' + description})\n",
    "    return result"
   ]
  },
  {
   "cell_type": "code",
   "execution_count": 14,
   "id": "9bbc381f",
   "metadata": {},
   "outputs": [
    {
     "name": "stdout",
     "output_type": "stream",
     "text": [
      "1 전주 여행 읽는 중\n",
      "2 전주 여행 읽는 중\n",
      "3 전주 여행 읽는 중\n",
      "4 전주 여행 읽는 중\n",
      "5 전주 여행 읽는 중\n",
      "1 경주 여행 읽는 중\n",
      "2 경주 여행 읽는 중\n",
      "3 경주 여행 읽는 중\n",
      "4 경주 여행 읽는 중\n",
      "5 경주 여행 읽는 중\n"
     ]
    }
   ],
   "source": [
    "result_total = []\n",
    "for query in queries :\n",
    "    for start in range(1, max_start + 1) :\n",
    "        print(start, query, '읽는 중')\n",
    "        result_total.extend(get_search_element_return(query, start))\n",
    "        time.sleep(0.5)\n",
    "df = pd.DataFrame(result_total)\n",
    "df.to_csv('data/naver_kin.csv', index = False, sep = '\\t')"
   ]
  },
  {
   "cell_type": "markdown",
   "id": "f382ba34",
   "metadata": {},
   "source": [
    "# 2. 품사 태깅 백업"
   ]
  },
  {
   "cell_type": "code",
   "execution_count": 15,
   "id": "2944c2f1",
   "metadata": {},
   "outputs": [
    {
     "data": {
      "text/html": [
       "<div>\n",
       "<style scoped>\n",
       "    .dataframe tbody tr th:only-of-type {\n",
       "        vertical-align: middle;\n",
       "    }\n",
       "\n",
       "    .dataframe tbody tr th {\n",
       "        vertical-align: top;\n",
       "    }\n",
       "\n",
       "    .dataframe thead th {\n",
       "        text-align: right;\n",
       "    }\n",
       "</style>\n",
       "<table border=\"1\" class=\"dataframe\">\n",
       "  <thead>\n",
       "    <tr style=\"text-align: right;\">\n",
       "      <th></th>\n",
       "      <th>query</th>\n",
       "      <th>no</th>\n",
       "      <th>title</th>\n",
       "      <th>link</th>\n",
       "      <th>description</th>\n",
       "      <th>total_text</th>\n",
       "    </tr>\n",
       "  </thead>\n",
       "  <tbody>\n",
       "    <tr>\n",
       "      <th>0</th>\n",
       "      <td>전주 여행</td>\n",
       "      <td>1</td>\n",
       "      <td>전주  가볼만한곳 추천 받아요</td>\n",
       "      <td>https://kin.naver.com/qna/detail.naver?d1id=9&amp;...</td>\n",
       "      <td>추억의 7080 다양한체험 7080감성 추억여행 테마박물관 유익한시간 2 전북 전...</td>\n",
       "      <td>전주  가볼만한곳 추천 받아요  추억의 7080 다양한체험 7080감성 추억여행 ...</td>\n",
       "    </tr>\n",
       "    <tr>\n",
       "      <th>1</th>\n",
       "      <td>전주 여행</td>\n",
       "      <td>2</td>\n",
       "      <td>전주여행 갈려고하는데요!</td>\n",
       "      <td>https://kin.naver.com/qna/detail.naver?d1id=9&amp;...</td>\n",
       "      <td>전주여행 을 갈려고하는데요 아는사람과 갈려고하는데 호텔은 좋은가격에 정했고 음 2...</td>\n",
       "      <td>전주여행 갈려고하는데요!  전주여행 을 갈려고하는데요 아는사람과 갈려고하는데 호텔...</td>\n",
       "    </tr>\n",
       "  </tbody>\n",
       "</table>\n",
       "</div>"
      ],
      "text/plain": [
       "   query  no              title  \\\n",
       "0  전주 여행   1   전주  가볼만한곳 추천 받아요   \n",
       "1  전주 여행   2      전주여행 갈려고하는데요!   \n",
       "\n",
       "                                                link  \\\n",
       "0  https://kin.naver.com/qna/detail.naver?d1id=9&...   \n",
       "1  https://kin.naver.com/qna/detail.naver?d1id=9&...   \n",
       "\n",
       "                                         description  \\\n",
       "0   추억의 7080 다양한체험 7080감성 추억여행 테마박물관 유익한시간 2 전북 전...   \n",
       "1   전주여행 을 갈려고하는데요 아는사람과 갈려고하는데 호텔은 좋은가격에 정했고 음 2...   \n",
       "\n",
       "                                          total_text  \n",
       "0   전주  가볼만한곳 추천 받아요  추억의 7080 다양한체험 7080감성 추억여행 ...  \n",
       "1   전주여행 갈려고하는데요!  전주여행 을 갈려고하는데요 아는사람과 갈려고하는데 호텔...  "
      ]
     },
     "execution_count": 15,
     "metadata": {},
     "output_type": "execute_result"
    }
   ],
   "source": [
    "import pandas as pd\n",
    "\n",
    "df = pd.read_csv('data/naver_kin.csv', sep = '\\t')\n",
    "df.head(2)"
   ]
  },
  {
   "cell_type": "code",
   "execution_count": 16,
   "id": "c93f1f96",
   "metadata": {},
   "outputs": [
    {
     "data": {
      "text/plain": [
       "[['전주 여행',\n",
       "  1,\n",
       "  ' 전주  가볼만한곳 추천 받아요  추억의 7080 다양한체험 7080감성 추억여행 테마박물관 유익한시간 2 전북 전북투어패스 통합이용권 전북핫플 여러여행지 다양한체험 카페이용추가 전주여행 필수 편안하고 즐거운 날이 되시길 바라겠습니다 감사합니다 '],\n",
       " ['경주 여행',\n",
       "  1,\n",
       "  '추석에  경주 여행  추석에 경주 여행 가는거 어떻게 생각하시나요 서울에서 버스를 타고 갈 경우 버스가 버스전용 차선에서 운행하나요 질문하신 추석 경주여행 관련 답변 드리도록 하겠습니다 첨성대 석굴암 불국사 등 유적지는 연중무휴로 ']]"
      ]
     },
     "execution_count": 16,
     "metadata": {},
     "output_type": "execute_result"
    }
   ],
   "source": [
    "df_list = df[['query','no','total_text']].values.tolist()\n",
    "df_list[::500]"
   ]
  },
  {
   "cell_type": "code",
   "execution_count": 18,
   "id": "9a113f10",
   "metadata": {},
   "outputs": [],
   "source": [
    "from konlpy.tag import Komoran, Kkma, Hannanum, Okt\n",
    "from mecab import MeCab\n",
    "\n",
    "analyzer = MeCab()\n",
    "stopwords = ['전주', '경주', '여행']\n",
    "select_pos = ['NNG', 'NNP'] "
   ]
  },
  {
   "cell_type": "code",
   "execution_count": 19,
   "id": "b87e61de",
   "metadata": {},
   "outputs": [
    {
     "data": {
      "text/html": [
       "<div>\n",
       "<style scoped>\n",
       "    .dataframe tbody tr th:only-of-type {\n",
       "        vertical-align: middle;\n",
       "    }\n",
       "\n",
       "    .dataframe tbody tr th {\n",
       "        vertical-align: top;\n",
       "    }\n",
       "\n",
       "    .dataframe thead th {\n",
       "        text-align: right;\n",
       "    }\n",
       "</style>\n",
       "<table border=\"1\" class=\"dataframe\">\n",
       "  <thead>\n",
       "    <tr style=\"text-align: right;\">\n",
       "      <th></th>\n",
       "      <th>query</th>\n",
       "      <th>no</th>\n",
       "      <th>token</th>\n",
       "      <th>pos</th>\n",
       "    </tr>\n",
       "  </thead>\n",
       "  <tbody>\n",
       "    <tr>\n",
       "      <th>0</th>\n",
       "      <td>전주 여행</td>\n",
       "      <td>1</td>\n",
       "      <td>가</td>\n",
       "      <td>VV</td>\n",
       "    </tr>\n",
       "    <tr>\n",
       "      <th>1</th>\n",
       "      <td>전주 여행</td>\n",
       "      <td>1</td>\n",
       "      <td>볼</td>\n",
       "      <td>EC+VX+ETM</td>\n",
       "    </tr>\n",
       "    <tr>\n",
       "      <th>2</th>\n",
       "      <td>전주 여행</td>\n",
       "      <td>1</td>\n",
       "      <td>만</td>\n",
       "      <td>NNB</td>\n",
       "    </tr>\n",
       "    <tr>\n",
       "      <th>3</th>\n",
       "      <td>전주 여행</td>\n",
       "      <td>1</td>\n",
       "      <td>한</td>\n",
       "      <td>XSA+ETM</td>\n",
       "    </tr>\n",
       "    <tr>\n",
       "      <th>4</th>\n",
       "      <td>전주 여행</td>\n",
       "      <td>1</td>\n",
       "      <td>곳</td>\n",
       "      <td>NNG</td>\n",
       "    </tr>\n",
       "    <tr>\n",
       "      <th>...</th>\n",
       "      <td>...</td>\n",
       "      <td>...</td>\n",
       "      <td>...</td>\n",
       "      <td>...</td>\n",
       "    </tr>\n",
       "    <tr>\n",
       "      <th>54127</th>\n",
       "      <td>경주 여행</td>\n",
       "      <td>500</td>\n",
       "      <td>를</td>\n",
       "      <td>JKO</td>\n",
       "    </tr>\n",
       "    <tr>\n",
       "      <th>54128</th>\n",
       "      <td>경주 여행</td>\n",
       "      <td>500</td>\n",
       "      <td>방문</td>\n",
       "      <td>NNG</td>\n",
       "    </tr>\n",
       "    <tr>\n",
       "      <th>54129</th>\n",
       "      <td>경주 여행</td>\n",
       "      <td>500</td>\n",
       "      <td>하</td>\n",
       "      <td>XSV</td>\n",
       "    </tr>\n",
       "    <tr>\n",
       "      <th>54130</th>\n",
       "      <td>경주 여행</td>\n",
       "      <td>500</td>\n",
       "      <td>시</td>\n",
       "      <td>EP</td>\n",
       "    </tr>\n",
       "    <tr>\n",
       "      <th>54131</th>\n",
       "      <td>경주 여행</td>\n",
       "      <td>500</td>\n",
       "      <td>면</td>\n",
       "      <td>EC</td>\n",
       "    </tr>\n",
       "  </tbody>\n",
       "</table>\n",
       "<p>54132 rows × 4 columns</p>\n",
       "</div>"
      ],
      "text/plain": [
       "       query   no token        pos\n",
       "0      전주 여행    1     가         VV\n",
       "1      전주 여행    1     볼  EC+VX+ETM\n",
       "2      전주 여행    1     만        NNB\n",
       "3      전주 여행    1     한    XSA+ETM\n",
       "4      전주 여행    1     곳        NNG\n",
       "...      ...  ...   ...        ...\n",
       "54127  경주 여행  500     를        JKO\n",
       "54128  경주 여행  500    방문        NNG\n",
       "54129  경주 여행  500     하        XSV\n",
       "54130  경주 여행  500     시         EP\n",
       "54131  경주 여행  500     면         EC\n",
       "\n",
       "[54132 rows x 4 columns]"
      ]
     },
     "execution_count": 19,
     "metadata": {},
     "output_type": "execute_result"
    }
   ],
   "source": [
    "postagged_lst = []\n",
    "for i, row in enumerate(df_list):\n",
    "    query = row[0]\n",
    "    no = row[1]\n",
    "    text = row[2]\n",
    "    text_pos = analyzer.pos(text)\n",
    "    # analyzer가 MeCab이 아닐 경우 시간이 좀 걸려서 250개마다 로그 출력\n",
    "    # if i % 250 == 0 :\n",
    "    #    print(\"{}의 {}번째 품사태깅 결과 {}개 저장중\".format(query, \n",
    "    #                                            no, \n",
    "    #                                            len(text_pos), end = '\\n\\n'))\n",
    "    for token, pos in text_pos :\n",
    "        # if token not in stopwords and pos in select_pos :  # 라고 하면 명사만 추출\n",
    "        if token not in stopwords : # 모든 품사를 우선 다 넣고 나중에 빼려면\n",
    "            postagged_lst.append({'query':query,\n",
    "                                 'no':no,\n",
    "                                 'token':token,\n",
    "                                 'pos':pos})\n",
    "df_postagged = pd.DataFrame(postagged_lst)\n",
    "df_postagged"
   ]
  },
  {
   "cell_type": "code",
   "execution_count": 20,
   "id": "029a4696",
   "metadata": {},
   "outputs": [],
   "source": [
    "df_postagged.to_csv('data/naver_kin_pos.csv', index = False, sep = '\\t')"
   ]
  },
  {
   "cell_type": "markdown",
   "id": "9123053a",
   "metadata": {},
   "source": [
    "# 3. 명사만 추출"
   ]
  },
  {
   "cell_type": "code",
   "execution_count": 21,
   "id": "3d2e3434",
   "metadata": {},
   "outputs": [],
   "source": [
    "df_postagged = pd.read_csv('data/naver_kin_pos.csv', sep = '\\t')"
   ]
  },
  {
   "cell_type": "code",
   "execution_count": 22,
   "id": "455440d0",
   "metadata": {},
   "outputs": [],
   "source": [
    "select_pos = ['NNG', 'NNP'] "
   ]
  },
  {
   "cell_type": "code",
   "execution_count": 23,
   "id": "61ac473d",
   "metadata": {},
   "outputs": [
    {
     "data": {
      "text/html": [
       "<div>\n",
       "<style scoped>\n",
       "    .dataframe tbody tr th:only-of-type {\n",
       "        vertical-align: middle;\n",
       "    }\n",
       "\n",
       "    .dataframe tbody tr th {\n",
       "        vertical-align: top;\n",
       "    }\n",
       "\n",
       "    .dataframe thead th {\n",
       "        text-align: right;\n",
       "    }\n",
       "</style>\n",
       "<table border=\"1\" class=\"dataframe\">\n",
       "  <thead>\n",
       "    <tr style=\"text-align: right;\">\n",
       "      <th></th>\n",
       "      <th>query</th>\n",
       "      <th>token</th>\n",
       "      <th>pos</th>\n",
       "    </tr>\n",
       "  </thead>\n",
       "  <tbody>\n",
       "    <tr>\n",
       "      <th>4</th>\n",
       "      <td>전주 여행</td>\n",
       "      <td>곳</td>\n",
       "      <td>NNG</td>\n",
       "    </tr>\n",
       "    <tr>\n",
       "      <th>5</th>\n",
       "      <td>전주 여행</td>\n",
       "      <td>추천</td>\n",
       "      <td>NNG</td>\n",
       "    </tr>\n",
       "    <tr>\n",
       "      <th>8</th>\n",
       "      <td>전주 여행</td>\n",
       "      <td>추억</td>\n",
       "      <td>NNG</td>\n",
       "    </tr>\n",
       "    <tr>\n",
       "      <th>11</th>\n",
       "      <td>전주 여행</td>\n",
       "      <td>다양</td>\n",
       "      <td>NNG</td>\n",
       "    </tr>\n",
       "    <tr>\n",
       "      <th>13</th>\n",
       "      <td>전주 여행</td>\n",
       "      <td>체험</td>\n",
       "      <td>NNG</td>\n",
       "    </tr>\n",
       "  </tbody>\n",
       "</table>\n",
       "</div>"
      ],
      "text/plain": [
       "    query token  pos\n",
       "4   전주 여행     곳  NNG\n",
       "5   전주 여행    추천  NNG\n",
       "8   전주 여행    추억  NNG\n",
       "11  전주 여행    다양  NNG\n",
       "13  전주 여행    체험  NNG"
      ]
     },
     "execution_count": 23,
     "metadata": {},
     "output_type": "execute_result"
    }
   ],
   "source": [
    "df_nouns = df_postagged.loc[df_postagged['pos'].isin(['NNP', 'NNG']),\n",
    "                            ['query', 'token','pos']]\n",
    "df_nouns.head()"
   ]
  },
  {
   "cell_type": "code",
   "execution_count": 24,
   "id": "5d943e1c",
   "metadata": {},
   "outputs": [],
   "source": [
    "df_nouns.to_csv('data/naver_kin_pos_nouns.csv', index = False, sep = '\\t')"
   ]
  },
  {
   "cell_type": "markdown",
   "id": "625ea7ef",
   "metadata": {},
   "source": [
    "# 4. 빈도분석(DataFrame) 후 백업"
   ]
  },
  {
   "cell_type": "code",
   "execution_count": 25,
   "id": "4556de64",
   "metadata": {},
   "outputs": [
    {
     "data": {
      "text/plain": [
       "(16958, 3)"
      ]
     },
     "execution_count": 25,
     "metadata": {},
     "output_type": "execute_result"
    }
   ],
   "source": [
    "df_nouns = pd.read_csv('data/naver_kin_pos_nouns.csv', sep = '\\t')\n",
    "df_nouns.shape"
   ]
  },
  {
   "cell_type": "code",
   "execution_count": 26,
   "id": "9d288fa3",
   "metadata": {},
   "outputs": [
    {
     "data": {
      "text/html": [
       "<div>\n",
       "<style scoped>\n",
       "    .dataframe tbody tr th:only-of-type {\n",
       "        vertical-align: middle;\n",
       "    }\n",
       "\n",
       "    .dataframe tbody tr th {\n",
       "        vertical-align: top;\n",
       "    }\n",
       "\n",
       "    .dataframe thead th {\n",
       "        text-align: right;\n",
       "    }\n",
       "</style>\n",
       "<table border=\"1\" class=\"dataframe\">\n",
       "  <thead>\n",
       "    <tr style=\"text-align: right;\">\n",
       "      <th></th>\n",
       "      <th>query</th>\n",
       "      <th>token</th>\n",
       "      <th>pos</th>\n",
       "    </tr>\n",
       "  </thead>\n",
       "  <tbody>\n",
       "    <tr>\n",
       "      <th>0</th>\n",
       "      <td>전주 여행</td>\n",
       "      <td>곳</td>\n",
       "      <td>NNG</td>\n",
       "    </tr>\n",
       "    <tr>\n",
       "      <th>5000</th>\n",
       "      <td>전주 여행</td>\n",
       "      <td>제주도</td>\n",
       "      <td>NNP</td>\n",
       "    </tr>\n",
       "    <tr>\n",
       "      <th>10000</th>\n",
       "      <td>경주 여행</td>\n",
       "      <td>길</td>\n",
       "      <td>NNG</td>\n",
       "    </tr>\n",
       "    <tr>\n",
       "      <th>15000</th>\n",
       "      <td>경주 여행</td>\n",
       "      <td>반려</td>\n",
       "      <td>NNG</td>\n",
       "    </tr>\n",
       "  </tbody>\n",
       "</table>\n",
       "</div>"
      ],
      "text/plain": [
       "       query token  pos\n",
       "0      전주 여행     곳  NNG\n",
       "5000   전주 여행   제주도  NNP\n",
       "10000  경주 여행     길  NNG\n",
       "15000  경주 여행    반려  NNG"
      ]
     },
     "execution_count": 26,
     "metadata": {},
     "output_type": "execute_result"
    }
   ],
   "source": [
    "df_nouns.iloc[::5000]"
   ]
  },
  {
   "cell_type": "code",
   "execution_count": 27,
   "id": "85174d65",
   "metadata": {},
   "outputs": [
    {
     "data": {
      "text/html": [
       "<div>\n",
       "<style scoped>\n",
       "    .dataframe tbody tr th:only-of-type {\n",
       "        vertical-align: middle;\n",
       "    }\n",
       "\n",
       "    .dataframe tbody tr th {\n",
       "        vertical-align: top;\n",
       "    }\n",
       "\n",
       "    .dataframe thead th {\n",
       "        text-align: right;\n",
       "    }\n",
       "</style>\n",
       "<table border=\"1\" class=\"dataframe\">\n",
       "  <thead>\n",
       "    <tr style=\"text-align: right;\">\n",
       "      <th></th>\n",
       "      <th>query</th>\n",
       "      <th>token</th>\n",
       "      <th>pos</th>\n",
       "    </tr>\n",
       "  </thead>\n",
       "  <tbody>\n",
       "    <tr>\n",
       "      <th>0</th>\n",
       "      <td>경주 여행</td>\n",
       "      <td>가격</td>\n",
       "      <td>10</td>\n",
       "    </tr>\n",
       "    <tr>\n",
       "      <th>1</th>\n",
       "      <td>경주 여행</td>\n",
       "      <td>가능</td>\n",
       "      <td>24</td>\n",
       "    </tr>\n",
       "    <tr>\n",
       "      <th>2</th>\n",
       "      <td>경주 여행</td>\n",
       "      <td>가본적</td>\n",
       "      <td>5</td>\n",
       "    </tr>\n",
       "    <tr>\n",
       "      <th>3</th>\n",
       "      <td>경주 여행</td>\n",
       "      <td>가성</td>\n",
       "      <td>5</td>\n",
       "    </tr>\n",
       "    <tr>\n",
       "      <th>4</th>\n",
       "      <td>경주 여행</td>\n",
       "      <td>가시</td>\n",
       "      <td>5</td>\n",
       "    </tr>\n",
       "    <tr>\n",
       "      <th>...</th>\n",
       "      <td>...</td>\n",
       "      <td>...</td>\n",
       "      <td>...</td>\n",
       "    </tr>\n",
       "    <tr>\n",
       "      <th>1001</th>\n",
       "      <td>전주 여행</td>\n",
       "      <td>회관</td>\n",
       "      <td>5</td>\n",
       "    </tr>\n",
       "    <tr>\n",
       "      <th>1002</th>\n",
       "      <td>전주 여행</td>\n",
       "      <td>후</td>\n",
       "      <td>5</td>\n",
       "    </tr>\n",
       "    <tr>\n",
       "      <th>1003</th>\n",
       "      <td>전주 여행</td>\n",
       "      <td>휴가</td>\n",
       "      <td>5</td>\n",
       "    </tr>\n",
       "    <tr>\n",
       "      <th>1004</th>\n",
       "      <td>전주 여행</td>\n",
       "      <td>휴무</td>\n",
       "      <td>5</td>\n",
       "    </tr>\n",
       "    <tr>\n",
       "      <th>1005</th>\n",
       "      <td>전주 여행</td>\n",
       "      <td>흐노</td>\n",
       "      <td>5</td>\n",
       "    </tr>\n",
       "  </tbody>\n",
       "</table>\n",
       "<p>1006 rows × 3 columns</p>\n",
       "</div>"
      ],
      "text/plain": [
       "      query token  pos\n",
       "0     경주 여행    가격   10\n",
       "1     경주 여행    가능   24\n",
       "2     경주 여행   가본적    5\n",
       "3     경주 여행    가성    5\n",
       "4     경주 여행    가시    5\n",
       "...     ...   ...  ...\n",
       "1001  전주 여행    회관    5\n",
       "1002  전주 여행     후    5\n",
       "1003  전주 여행    휴가    5\n",
       "1004  전주 여행    휴무    5\n",
       "1005  전주 여행    흐노    5\n",
       "\n",
       "[1006 rows x 3 columns]"
      ]
     },
     "execution_count": 27,
     "metadata": {},
     "output_type": "execute_result"
    }
   ],
   "source": [
    "df_nouns.groupby(['query','token'], as_index = False)['pos'].count()"
   ]
  },
  {
   "cell_type": "code",
   "execution_count": 28,
   "id": "dc87a902",
   "metadata": {},
   "outputs": [
    {
     "data": {
      "text/plain": [
       "query  token\n",
       "경주 여행  코스       446\n",
       "       추천       401\n",
       "       계획       154\n",
       "       곳        146\n",
       "       숙소       139\n",
       "               ... \n",
       "전주 여행  통합         1\n",
       "       패스         1\n",
       "       편안         1\n",
       "       필수         1\n",
       "       핫          1\n",
       "Name: token, Length: 1006, dtype: int64"
      ]
     },
     "execution_count": 28,
     "metadata": {},
     "output_type": "execute_result"
    }
   ],
   "source": [
    "df_token_grp = df_nouns.groupby('query')['token'].value_counts()\n",
    "df_token_grp"
   ]
  },
  {
   "cell_type": "code",
   "execution_count": 29,
   "id": "42785e28",
   "metadata": {},
   "outputs": [
    {
     "data": {
      "text/html": [
       "<div>\n",
       "<style scoped>\n",
       "    .dataframe tbody tr th:only-of-type {\n",
       "        vertical-align: middle;\n",
       "    }\n",
       "\n",
       "    .dataframe tbody tr th {\n",
       "        vertical-align: top;\n",
       "    }\n",
       "\n",
       "    .dataframe thead th {\n",
       "        text-align: right;\n",
       "    }\n",
       "</style>\n",
       "<table border=\"1\" class=\"dataframe\">\n",
       "  <thead>\n",
       "    <tr style=\"text-align: right;\">\n",
       "      <th></th>\n",
       "      <th>query</th>\n",
       "      <th>token</th>\n",
       "      <th>token_count</th>\n",
       "    </tr>\n",
       "  </thead>\n",
       "  <tbody>\n",
       "    <tr>\n",
       "      <th>0</th>\n",
       "      <td>경주 여행</td>\n",
       "      <td>코스</td>\n",
       "      <td>446</td>\n",
       "    </tr>\n",
       "    <tr>\n",
       "      <th>1</th>\n",
       "      <td>경주 여행</td>\n",
       "      <td>추천</td>\n",
       "      <td>401</td>\n",
       "    </tr>\n",
       "    <tr>\n",
       "      <th>2</th>\n",
       "      <td>경주 여행</td>\n",
       "      <td>계획</td>\n",
       "      <td>154</td>\n",
       "    </tr>\n",
       "    <tr>\n",
       "      <th>3</th>\n",
       "      <td>경주 여행</td>\n",
       "      <td>곳</td>\n",
       "      <td>146</td>\n",
       "    </tr>\n",
       "    <tr>\n",
       "      <th>4</th>\n",
       "      <td>경주 여행</td>\n",
       "      <td>숙소</td>\n",
       "      <td>139</td>\n",
       "    </tr>\n",
       "  </tbody>\n",
       "</table>\n",
       "</div>"
      ],
      "text/plain": [
       "   query token  token_count\n",
       "0  경주 여행    코스          446\n",
       "1  경주 여행    추천          401\n",
       "2  경주 여행    계획          154\n",
       "3  경주 여행     곳          146\n",
       "4  경주 여행    숙소          139"
      ]
     },
     "execution_count": 29,
     "metadata": {},
     "output_type": "execute_result"
    }
   ],
   "source": [
    "df_token_grp = df_token_grp.reset_index(name = 'token_count')\n",
    "df_token_grp.head()"
   ]
  },
  {
   "cell_type": "code",
   "execution_count": 31,
   "id": "19460323",
   "metadata": {},
   "outputs": [
    {
     "data": {
      "text/plain": [
       "((523, 2), (483, 2))"
      ]
     },
     "execution_count": 31,
     "metadata": {},
     "output_type": "execute_result"
    }
   ],
   "source": [
    "df_gj = df_token_grp.loc[df_token_grp['query'] == '경주 여행', ['token', 'token_count']]\n",
    "df_jj = df_token_grp.loc[df_token_grp['query'] == '전주 여행', ['token', 'token_count']]\n",
    "df_gj.shape, df_jj.shape"
   ]
  },
  {
   "cell_type": "code",
   "execution_count": 34,
   "id": "5baf2246",
   "metadata": {},
   "outputs": [
    {
     "data": {
      "text/html": [
       "<div>\n",
       "<style scoped>\n",
       "    .dataframe tbody tr th:only-of-type {\n",
       "        vertical-align: middle;\n",
       "    }\n",
       "\n",
       "    .dataframe tbody tr th {\n",
       "        vertical-align: top;\n",
       "    }\n",
       "\n",
       "    .dataframe thead th {\n",
       "        text-align: right;\n",
       "    }\n",
       "</style>\n",
       "<table border=\"1\" class=\"dataframe\">\n",
       "  <thead>\n",
       "    <tr style=\"text-align: right;\">\n",
       "      <th></th>\n",
       "      <th>token</th>\n",
       "      <th>token_count</th>\n",
       "    </tr>\n",
       "  </thead>\n",
       "  <tbody>\n",
       "    <tr>\n",
       "      <th>0</th>\n",
       "      <td>코스</td>\n",
       "      <td>446</td>\n",
       "    </tr>\n",
       "    <tr>\n",
       "      <th>1</th>\n",
       "      <td>추천</td>\n",
       "      <td>401</td>\n",
       "    </tr>\n",
       "    <tr>\n",
       "      <th>2</th>\n",
       "      <td>계획</td>\n",
       "      <td>154</td>\n",
       "    </tr>\n",
       "    <tr>\n",
       "      <th>3</th>\n",
       "      <td>곳</td>\n",
       "      <td>146</td>\n",
       "    </tr>\n",
       "    <tr>\n",
       "      <th>4</th>\n",
       "      <td>숙소</td>\n",
       "      <td>139</td>\n",
       "    </tr>\n",
       "  </tbody>\n",
       "</table>\n",
       "</div>"
      ],
      "text/plain": [
       "  token  token_count\n",
       "0    코스          446\n",
       "1    추천          401\n",
       "2    계획          154\n",
       "3     곳          146\n",
       "4    숙소          139"
      ]
     },
     "execution_count": 34,
     "metadata": {},
     "output_type": "execute_result"
    }
   ],
   "source": [
    "df_gj.head()"
   ]
  },
  {
   "cell_type": "code",
   "execution_count": 35,
   "id": "946efb81",
   "metadata": {},
   "outputs": [
    {
     "data": {
      "text/html": [
       "<div>\n",
       "<style scoped>\n",
       "    .dataframe tbody tr th:only-of-type {\n",
       "        vertical-align: middle;\n",
       "    }\n",
       "\n",
       "    .dataframe tbody tr th {\n",
       "        vertical-align: top;\n",
       "    }\n",
       "\n",
       "    .dataframe thead th {\n",
       "        text-align: right;\n",
       "    }\n",
       "</style>\n",
       "<table border=\"1\" class=\"dataframe\">\n",
       "  <thead>\n",
       "    <tr style=\"text-align: right;\">\n",
       "      <th></th>\n",
       "      <th>token</th>\n",
       "      <th>token_count</th>\n",
       "    </tr>\n",
       "  </thead>\n",
       "  <tbody>\n",
       "    <tr>\n",
       "      <th>523</th>\n",
       "      <td>코스</td>\n",
       "      <td>481</td>\n",
       "    </tr>\n",
       "    <tr>\n",
       "      <th>524</th>\n",
       "      <td>곳</td>\n",
       "      <td>455</td>\n",
       "    </tr>\n",
       "    <tr>\n",
       "      <th>525</th>\n",
       "      <td>봉</td>\n",
       "      <td>354</td>\n",
       "    </tr>\n",
       "    <tr>\n",
       "      <th>526</th>\n",
       "      <td>여수</td>\n",
       "      <td>349</td>\n",
       "    </tr>\n",
       "    <tr>\n",
       "      <th>527</th>\n",
       "      <td>전</td>\n",
       "      <td>314</td>\n",
       "    </tr>\n",
       "  </tbody>\n",
       "</table>\n",
       "</div>"
      ],
      "text/plain": [
       "    token  token_count\n",
       "523    코스          481\n",
       "524     곳          455\n",
       "525     봉          354\n",
       "526    여수          349\n",
       "527     전          314"
      ]
     },
     "execution_count": 35,
     "metadata": {},
     "output_type": "execute_result"
    }
   ],
   "source": [
    "df_jj.head()"
   ]
  },
  {
   "cell_type": "code",
   "execution_count": 36,
   "id": "d68062ed",
   "metadata": {},
   "outputs": [
    {
     "name": "stdout",
     "output_type": "stream",
     "text": [
      "(803, 3)\n"
     ]
    },
    {
     "data": {
      "text/html": [
       "<div>\n",
       "<style scoped>\n",
       "    .dataframe tbody tr th:only-of-type {\n",
       "        vertical-align: middle;\n",
       "    }\n",
       "\n",
       "    .dataframe tbody tr th {\n",
       "        vertical-align: top;\n",
       "    }\n",
       "\n",
       "    .dataframe thead th {\n",
       "        text-align: right;\n",
       "    }\n",
       "</style>\n",
       "<table border=\"1\" class=\"dataframe\">\n",
       "  <thead>\n",
       "    <tr style=\"text-align: right;\">\n",
       "      <th></th>\n",
       "      <th>token</th>\n",
       "      <th>token_count_x</th>\n",
       "      <th>token_count_y</th>\n",
       "    </tr>\n",
       "  </thead>\n",
       "  <tbody>\n",
       "    <tr>\n",
       "      <th>0</th>\n",
       "      <td>코스</td>\n",
       "      <td>446.0</td>\n",
       "      <td>481.0</td>\n",
       "    </tr>\n",
       "    <tr>\n",
       "      <th>1</th>\n",
       "      <td>추천</td>\n",
       "      <td>401.0</td>\n",
       "      <td>301.0</td>\n",
       "    </tr>\n",
       "    <tr>\n",
       "      <th>2</th>\n",
       "      <td>계획</td>\n",
       "      <td>154.0</td>\n",
       "      <td>61.0</td>\n",
       "    </tr>\n",
       "    <tr>\n",
       "      <th>3</th>\n",
       "      <td>곳</td>\n",
       "      <td>146.0</td>\n",
       "      <td>455.0</td>\n",
       "    </tr>\n",
       "    <tr>\n",
       "      <th>4</th>\n",
       "      <td>숙소</td>\n",
       "      <td>139.0</td>\n",
       "      <td>60.0</td>\n",
       "    </tr>\n",
       "    <tr>\n",
       "      <th>...</th>\n",
       "      <td>...</td>\n",
       "      <td>...</td>\n",
       "      <td>...</td>\n",
       "    </tr>\n",
       "    <tr>\n",
       "      <th>798</th>\n",
       "      <td>유익</td>\n",
       "      <td>NaN</td>\n",
       "      <td>1.0</td>\n",
       "    </tr>\n",
       "    <tr>\n",
       "      <th>799</th>\n",
       "      <td>찜질방</td>\n",
       "      <td>NaN</td>\n",
       "      <td>1.0</td>\n",
       "    </tr>\n",
       "    <tr>\n",
       "      <th>800</th>\n",
       "      <td>카페이</td>\n",
       "      <td>NaN</td>\n",
       "      <td>1.0</td>\n",
       "    </tr>\n",
       "    <tr>\n",
       "      <th>801</th>\n",
       "      <td>통합</td>\n",
       "      <td>NaN</td>\n",
       "      <td>1.0</td>\n",
       "    </tr>\n",
       "    <tr>\n",
       "      <th>802</th>\n",
       "      <td>패스</td>\n",
       "      <td>NaN</td>\n",
       "      <td>1.0</td>\n",
       "    </tr>\n",
       "  </tbody>\n",
       "</table>\n",
       "<p>803 rows × 3 columns</p>\n",
       "</div>"
      ],
      "text/plain": [
       "    token  token_count_x  token_count_y\n",
       "0      코스          446.0          481.0\n",
       "1      추천          401.0          301.0\n",
       "2      계획          154.0           61.0\n",
       "3       곳          146.0          455.0\n",
       "4      숙소          139.0           60.0\n",
       "..    ...            ...            ...\n",
       "798    유익            NaN            1.0\n",
       "799   찜질방            NaN            1.0\n",
       "800   카페이            NaN            1.0\n",
       "801    통합            NaN            1.0\n",
       "802    패스            NaN            1.0\n",
       "\n",
       "[803 rows x 3 columns]"
      ]
     },
     "execution_count": 36,
     "metadata": {},
     "output_type": "execute_result"
    }
   ],
   "source": [
    "df_mrg = pd.merge(df_gj, df_jj, how = 'outer', on = 'token')\n",
    "print(df_mrg.shape)\n",
    "df_mrg"
   ]
  },
  {
   "cell_type": "code",
   "execution_count": 37,
   "id": "ac486df0",
   "metadata": {},
   "outputs": [
    {
     "data": {
      "text/html": [
       "<div>\n",
       "<style scoped>\n",
       "    .dataframe tbody tr th:only-of-type {\n",
       "        vertical-align: middle;\n",
       "    }\n",
       "\n",
       "    .dataframe tbody tr th {\n",
       "        vertical-align: top;\n",
       "    }\n",
       "\n",
       "    .dataframe thead th {\n",
       "        text-align: right;\n",
       "    }\n",
       "</style>\n",
       "<table border=\"1\" class=\"dataframe\">\n",
       "  <thead>\n",
       "    <tr style=\"text-align: right;\">\n",
       "      <th></th>\n",
       "      <th>token</th>\n",
       "      <th>경주빈도</th>\n",
       "      <th>전주빈도</th>\n",
       "    </tr>\n",
       "  </thead>\n",
       "  <tbody>\n",
       "    <tr>\n",
       "      <th>0</th>\n",
       "      <td>코스</td>\n",
       "      <td>446</td>\n",
       "      <td>481</td>\n",
       "    </tr>\n",
       "    <tr>\n",
       "      <th>1</th>\n",
       "      <td>추천</td>\n",
       "      <td>401</td>\n",
       "      <td>301</td>\n",
       "    </tr>\n",
       "    <tr>\n",
       "      <th>2</th>\n",
       "      <td>계획</td>\n",
       "      <td>154</td>\n",
       "      <td>61</td>\n",
       "    </tr>\n",
       "    <tr>\n",
       "      <th>3</th>\n",
       "      <td>곳</td>\n",
       "      <td>146</td>\n",
       "      <td>455</td>\n",
       "    </tr>\n",
       "    <tr>\n",
       "      <th>4</th>\n",
       "      <td>숙소</td>\n",
       "      <td>139</td>\n",
       "      <td>60</td>\n",
       "    </tr>\n",
       "    <tr>\n",
       "      <th>...</th>\n",
       "      <td>...</td>\n",
       "      <td>...</td>\n",
       "      <td>...</td>\n",
       "    </tr>\n",
       "    <tr>\n",
       "      <th>798</th>\n",
       "      <td>유익</td>\n",
       "      <td>0</td>\n",
       "      <td>1</td>\n",
       "    </tr>\n",
       "    <tr>\n",
       "      <th>799</th>\n",
       "      <td>찜질방</td>\n",
       "      <td>0</td>\n",
       "      <td>1</td>\n",
       "    </tr>\n",
       "    <tr>\n",
       "      <th>800</th>\n",
       "      <td>카페이</td>\n",
       "      <td>0</td>\n",
       "      <td>1</td>\n",
       "    </tr>\n",
       "    <tr>\n",
       "      <th>801</th>\n",
       "      <td>통합</td>\n",
       "      <td>0</td>\n",
       "      <td>1</td>\n",
       "    </tr>\n",
       "    <tr>\n",
       "      <th>802</th>\n",
       "      <td>패스</td>\n",
       "      <td>0</td>\n",
       "      <td>1</td>\n",
       "    </tr>\n",
       "  </tbody>\n",
       "</table>\n",
       "<p>803 rows × 3 columns</p>\n",
       "</div>"
      ],
      "text/plain": [
       "    token  경주빈도  전주빈도\n",
       "0      코스   446   481\n",
       "1      추천   401   301\n",
       "2      계획   154    61\n",
       "3       곳   146   455\n",
       "4      숙소   139    60\n",
       "..    ...   ...   ...\n",
       "798    유익     0     1\n",
       "799   찜질방     0     1\n",
       "800   카페이     0     1\n",
       "801    통합     0     1\n",
       "802    패스     0     1\n",
       "\n",
       "[803 rows x 3 columns]"
      ]
     },
     "execution_count": 37,
     "metadata": {},
     "output_type": "execute_result"
    }
   ],
   "source": [
    "df_mrg.columns = ['token','경주빈도','전주빈도']\n",
    "df_mrg.fillna(0, inplace = True)\n",
    "df_mrg['경주빈도'] = df_mrg['경주빈도'].astype('int')\n",
    "df_mrg['전주빈도'] = df_mrg['전주빈도'].astype(np.int64)  # 'int64'\n",
    "df_mrg"
   ]
  },
  {
   "cell_type": "code",
   "execution_count": 39,
   "id": "5a9aa540",
   "metadata": {},
   "outputs": [
    {
     "data": {
      "text/html": [
       "<div>\n",
       "<style scoped>\n",
       "    .dataframe tbody tr th:only-of-type {\n",
       "        vertical-align: middle;\n",
       "    }\n",
       "\n",
       "    .dataframe tbody tr th {\n",
       "        vertical-align: top;\n",
       "    }\n",
       "\n",
       "    .dataframe thead th {\n",
       "        text-align: right;\n",
       "    }\n",
       "</style>\n",
       "<table border=\"1\" class=\"dataframe\">\n",
       "  <thead>\n",
       "    <tr style=\"text-align: right;\">\n",
       "      <th></th>\n",
       "      <th>token</th>\n",
       "      <th>경주빈도</th>\n",
       "      <th>전주빈도</th>\n",
       "      <th>빈도합</th>\n",
       "      <th>전주비율</th>\n",
       "      <th>경주비율</th>\n",
       "    </tr>\n",
       "  </thead>\n",
       "  <tbody>\n",
       "    <tr>\n",
       "      <th>0</th>\n",
       "      <td>코스</td>\n",
       "      <td>446</td>\n",
       "      <td>481</td>\n",
       "      <td>927</td>\n",
       "      <td>0.518878</td>\n",
       "      <td>0.481122</td>\n",
       "    </tr>\n",
       "    <tr>\n",
       "      <th>1</th>\n",
       "      <td>추천</td>\n",
       "      <td>401</td>\n",
       "      <td>301</td>\n",
       "      <td>702</td>\n",
       "      <td>0.428775</td>\n",
       "      <td>0.571225</td>\n",
       "    </tr>\n",
       "    <tr>\n",
       "      <th>2</th>\n",
       "      <td>계획</td>\n",
       "      <td>154</td>\n",
       "      <td>61</td>\n",
       "      <td>215</td>\n",
       "      <td>0.283721</td>\n",
       "      <td>0.716279</td>\n",
       "    </tr>\n",
       "    <tr>\n",
       "      <th>3</th>\n",
       "      <td>곳</td>\n",
       "      <td>146</td>\n",
       "      <td>455</td>\n",
       "      <td>601</td>\n",
       "      <td>0.757072</td>\n",
       "      <td>0.242928</td>\n",
       "    </tr>\n",
       "    <tr>\n",
       "      <th>4</th>\n",
       "      <td>숙소</td>\n",
       "      <td>139</td>\n",
       "      <td>60</td>\n",
       "      <td>199</td>\n",
       "      <td>0.301508</td>\n",
       "      <td>0.698492</td>\n",
       "    </tr>\n",
       "    <tr>\n",
       "      <th>...</th>\n",
       "      <td>...</td>\n",
       "      <td>...</td>\n",
       "      <td>...</td>\n",
       "      <td>...</td>\n",
       "      <td>...</td>\n",
       "      <td>...</td>\n",
       "    </tr>\n",
       "    <tr>\n",
       "      <th>798</th>\n",
       "      <td>유익</td>\n",
       "      <td>0</td>\n",
       "      <td>1</td>\n",
       "      <td>1</td>\n",
       "      <td>1.000000</td>\n",
       "      <td>0.000000</td>\n",
       "    </tr>\n",
       "    <tr>\n",
       "      <th>799</th>\n",
       "      <td>찜질방</td>\n",
       "      <td>0</td>\n",
       "      <td>1</td>\n",
       "      <td>1</td>\n",
       "      <td>1.000000</td>\n",
       "      <td>0.000000</td>\n",
       "    </tr>\n",
       "    <tr>\n",
       "      <th>800</th>\n",
       "      <td>카페이</td>\n",
       "      <td>0</td>\n",
       "      <td>1</td>\n",
       "      <td>1</td>\n",
       "      <td>1.000000</td>\n",
       "      <td>0.000000</td>\n",
       "    </tr>\n",
       "    <tr>\n",
       "      <th>801</th>\n",
       "      <td>통합</td>\n",
       "      <td>0</td>\n",
       "      <td>1</td>\n",
       "      <td>1</td>\n",
       "      <td>1.000000</td>\n",
       "      <td>0.000000</td>\n",
       "    </tr>\n",
       "    <tr>\n",
       "      <th>802</th>\n",
       "      <td>패스</td>\n",
       "      <td>0</td>\n",
       "      <td>1</td>\n",
       "      <td>1</td>\n",
       "      <td>1.000000</td>\n",
       "      <td>0.000000</td>\n",
       "    </tr>\n",
       "  </tbody>\n",
       "</table>\n",
       "<p>803 rows × 6 columns</p>\n",
       "</div>"
      ],
      "text/plain": [
       "    token  경주빈도  전주빈도  빈도합      전주비율      경주비율\n",
       "0      코스   446   481  927  0.518878  0.481122\n",
       "1      추천   401   301  702  0.428775  0.571225\n",
       "2      계획   154    61  215  0.283721  0.716279\n",
       "3       곳   146   455  601  0.757072  0.242928\n",
       "4      숙소   139    60  199  0.301508  0.698492\n",
       "..    ...   ...   ...  ...       ...       ...\n",
       "798    유익     0     1    1  1.000000  0.000000\n",
       "799   찜질방     0     1    1  1.000000  0.000000\n",
       "800   카페이     0     1    1  1.000000  0.000000\n",
       "801    통합     0     1    1  1.000000  0.000000\n",
       "802    패스     0     1    1  1.000000  0.000000\n",
       "\n",
       "[803 rows x 6 columns]"
      ]
     },
     "execution_count": 39,
     "metadata": {},
     "output_type": "execute_result"
    }
   ],
   "source": [
    "df_mrg['빈도합'] = df_mrg['경주빈도'] + df_mrg['전주빈도']\n",
    "df_mrg['전주비율'] = df_mrg['전주빈도'] / df_mrg['빈도합']\n",
    "df_mrg['경주비율'] = df_mrg['경주빈도'] / df_mrg['빈도합']\n",
    "df_mrg"
   ]
  },
  {
   "cell_type": "code",
   "execution_count": 40,
   "id": "d081a379",
   "metadata": {},
   "outputs": [
    {
     "data": {
      "text/html": [
       "<div>\n",
       "<style scoped>\n",
       "    .dataframe tbody tr th:only-of-type {\n",
       "        vertical-align: middle;\n",
       "    }\n",
       "\n",
       "    .dataframe tbody tr th {\n",
       "        vertical-align: top;\n",
       "    }\n",
       "\n",
       "    .dataframe thead th {\n",
       "        text-align: right;\n",
       "    }\n",
       "</style>\n",
       "<table border=\"1\" class=\"dataframe\">\n",
       "  <thead>\n",
       "    <tr style=\"text-align: right;\">\n",
       "      <th></th>\n",
       "      <th>token</th>\n",
       "      <th>경주빈도</th>\n",
       "      <th>전주빈도</th>\n",
       "      <th>빈도합</th>\n",
       "      <th>전주비율</th>\n",
       "      <th>경주비율</th>\n",
       "    </tr>\n",
       "  </thead>\n",
       "  <tbody>\n",
       "    <tr>\n",
       "      <th>0</th>\n",
       "      <td>코스</td>\n",
       "      <td>446</td>\n",
       "      <td>481</td>\n",
       "      <td>927</td>\n",
       "      <td>0.518878</td>\n",
       "      <td>0.481122</td>\n",
       "    </tr>\n",
       "    <tr>\n",
       "      <th>1</th>\n",
       "      <td>추천</td>\n",
       "      <td>401</td>\n",
       "      <td>301</td>\n",
       "      <td>702</td>\n",
       "      <td>0.428775</td>\n",
       "      <td>0.571225</td>\n",
       "    </tr>\n",
       "    <tr>\n",
       "      <th>3</th>\n",
       "      <td>곳</td>\n",
       "      <td>146</td>\n",
       "      <td>455</td>\n",
       "      <td>601</td>\n",
       "      <td>0.757072</td>\n",
       "      <td>0.242928</td>\n",
       "    </tr>\n",
       "    <tr>\n",
       "      <th>5</th>\n",
       "      <td>맛집</td>\n",
       "      <td>120</td>\n",
       "      <td>287</td>\n",
       "      <td>407</td>\n",
       "      <td>0.705160</td>\n",
       "      <td>0.294840</td>\n",
       "    </tr>\n",
       "    <tr>\n",
       "      <th>523</th>\n",
       "      <td>봉</td>\n",
       "      <td>0</td>\n",
       "      <td>354</td>\n",
       "      <td>354</td>\n",
       "      <td>1.000000</td>\n",
       "      <td>0.000000</td>\n",
       "    </tr>\n",
       "    <tr>\n",
       "      <th>...</th>\n",
       "      <td>...</td>\n",
       "      <td>...</td>\n",
       "      <td>...</td>\n",
       "      <td>...</td>\n",
       "      <td>...</td>\n",
       "      <td>...</td>\n",
       "    </tr>\n",
       "    <tr>\n",
       "      <th>521</th>\n",
       "      <td>전용</td>\n",
       "      <td>1</td>\n",
       "      <td>0</td>\n",
       "      <td>1</td>\n",
       "      <td>0.000000</td>\n",
       "      <td>1.000000</td>\n",
       "    </tr>\n",
       "    <tr>\n",
       "      <th>517</th>\n",
       "      <td>권역</td>\n",
       "      <td>1</td>\n",
       "      <td>0</td>\n",
       "      <td>1</td>\n",
       "      <td>0.000000</td>\n",
       "      <td>1.000000</td>\n",
       "    </tr>\n",
       "    <tr>\n",
       "      <th>518</th>\n",
       "      <td>연중무휴</td>\n",
       "      <td>1</td>\n",
       "      <td>0</td>\n",
       "      <td>1</td>\n",
       "      <td>0.000000</td>\n",
       "      <td>1.000000</td>\n",
       "    </tr>\n",
       "    <tr>\n",
       "      <th>519</th>\n",
       "      <td>운행</td>\n",
       "      <td>1</td>\n",
       "      <td>0</td>\n",
       "      <td>1</td>\n",
       "      <td>0.000000</td>\n",
       "      <td>1.000000</td>\n",
       "    </tr>\n",
       "    <tr>\n",
       "      <th>802</th>\n",
       "      <td>패스</td>\n",
       "      <td>0</td>\n",
       "      <td>1</td>\n",
       "      <td>1</td>\n",
       "      <td>1.000000</td>\n",
       "      <td>0.000000</td>\n",
       "    </tr>\n",
       "  </tbody>\n",
       "</table>\n",
       "<p>803 rows × 6 columns</p>\n",
       "</div>"
      ],
      "text/plain": [
       "    token  경주빈도  전주빈도  빈도합      전주비율      경주비율\n",
       "0      코스   446   481  927  0.518878  0.481122\n",
       "1      추천   401   301  702  0.428775  0.571225\n",
       "3       곳   146   455  601  0.757072  0.242928\n",
       "5      맛집   120   287  407  0.705160  0.294840\n",
       "523     봉     0   354  354  1.000000  0.000000\n",
       "..    ...   ...   ...  ...       ...       ...\n",
       "521    전용     1     0    1  0.000000  1.000000\n",
       "517    권역     1     0    1  0.000000  1.000000\n",
       "518  연중무휴     1     0    1  0.000000  1.000000\n",
       "519    운행     1     0    1  0.000000  1.000000\n",
       "802    패스     0     1    1  1.000000  0.000000\n",
       "\n",
       "[803 rows x 6 columns]"
      ]
     },
     "execution_count": 40,
     "metadata": {},
     "output_type": "execute_result"
    }
   ],
   "source": [
    "df_mrg_srt = df_mrg.sort_values(by = ['빈도합'], ascending = False)\n",
    "df_mrg_srt"
   ]
  },
  {
   "cell_type": "code",
   "execution_count": 41,
   "id": "93f7d080",
   "metadata": {},
   "outputs": [
    {
     "data": {
      "text/html": [
       "<div>\n",
       "<style scoped>\n",
       "    .dataframe tbody tr th:only-of-type {\n",
       "        vertical-align: middle;\n",
       "    }\n",
       "\n",
       "    .dataframe tbody tr th {\n",
       "        vertical-align: top;\n",
       "    }\n",
       "\n",
       "    .dataframe thead th {\n",
       "        text-align: right;\n",
       "    }\n",
       "</style>\n",
       "<table border=\"1\" class=\"dataframe\">\n",
       "  <thead>\n",
       "    <tr style=\"text-align: right;\">\n",
       "      <th></th>\n",
       "      <th>token</th>\n",
       "      <th>경주빈도</th>\n",
       "      <th>전주빈도</th>\n",
       "      <th>빈도합</th>\n",
       "      <th>전주비율</th>\n",
       "      <th>경주비율</th>\n",
       "    </tr>\n",
       "  </thead>\n",
       "  <tbody>\n",
       "    <tr>\n",
       "      <th>0</th>\n",
       "      <td>코스</td>\n",
       "      <td>446</td>\n",
       "      <td>481</td>\n",
       "      <td>927</td>\n",
       "      <td>51.89%</td>\n",
       "      <td>48.11%</td>\n",
       "    </tr>\n",
       "    <tr>\n",
       "      <th>1</th>\n",
       "      <td>추천</td>\n",
       "      <td>401</td>\n",
       "      <td>301</td>\n",
       "      <td>702</td>\n",
       "      <td>42.88%</td>\n",
       "      <td>57.12%</td>\n",
       "    </tr>\n",
       "    <tr>\n",
       "      <th>3</th>\n",
       "      <td>곳</td>\n",
       "      <td>146</td>\n",
       "      <td>455</td>\n",
       "      <td>601</td>\n",
       "      <td>75.71%</td>\n",
       "      <td>24.29%</td>\n",
       "    </tr>\n",
       "    <tr>\n",
       "      <th>5</th>\n",
       "      <td>맛집</td>\n",
       "      <td>120</td>\n",
       "      <td>287</td>\n",
       "      <td>407</td>\n",
       "      <td>70.52%</td>\n",
       "      <td>29.48%</td>\n",
       "    </tr>\n",
       "    <tr>\n",
       "      <th>523</th>\n",
       "      <td>봉</td>\n",
       "      <td>0</td>\n",
       "      <td>354</td>\n",
       "      <td>354</td>\n",
       "      <td>100.00%</td>\n",
       "      <td>0.00%</td>\n",
       "    </tr>\n",
       "    <tr>\n",
       "      <th>...</th>\n",
       "      <td>...</td>\n",
       "      <td>...</td>\n",
       "      <td>...</td>\n",
       "      <td>...</td>\n",
       "      <td>...</td>\n",
       "      <td>...</td>\n",
       "    </tr>\n",
       "    <tr>\n",
       "      <th>521</th>\n",
       "      <td>전용</td>\n",
       "      <td>1</td>\n",
       "      <td>0</td>\n",
       "      <td>1</td>\n",
       "      <td>0.00%</td>\n",
       "      <td>100.00%</td>\n",
       "    </tr>\n",
       "    <tr>\n",
       "      <th>517</th>\n",
       "      <td>권역</td>\n",
       "      <td>1</td>\n",
       "      <td>0</td>\n",
       "      <td>1</td>\n",
       "      <td>0.00%</td>\n",
       "      <td>100.00%</td>\n",
       "    </tr>\n",
       "    <tr>\n",
       "      <th>518</th>\n",
       "      <td>연중무휴</td>\n",
       "      <td>1</td>\n",
       "      <td>0</td>\n",
       "      <td>1</td>\n",
       "      <td>0.00%</td>\n",
       "      <td>100.00%</td>\n",
       "    </tr>\n",
       "    <tr>\n",
       "      <th>519</th>\n",
       "      <td>운행</td>\n",
       "      <td>1</td>\n",
       "      <td>0</td>\n",
       "      <td>1</td>\n",
       "      <td>0.00%</td>\n",
       "      <td>100.00%</td>\n",
       "    </tr>\n",
       "    <tr>\n",
       "      <th>802</th>\n",
       "      <td>패스</td>\n",
       "      <td>0</td>\n",
       "      <td>1</td>\n",
       "      <td>1</td>\n",
       "      <td>100.00%</td>\n",
       "      <td>0.00%</td>\n",
       "    </tr>\n",
       "  </tbody>\n",
       "</table>\n",
       "<p>803 rows × 6 columns</p>\n",
       "</div>"
      ],
      "text/plain": [
       "    token  경주빈도  전주빈도  빈도합     전주비율     경주비율\n",
       "0      코스   446   481  927   51.89%   48.11%\n",
       "1      추천   401   301  702   42.88%   57.12%\n",
       "3       곳   146   455  601   75.71%   24.29%\n",
       "5      맛집   120   287  407   70.52%   29.48%\n",
       "523     봉     0   354  354  100.00%    0.00%\n",
       "..    ...   ...   ...  ...      ...      ...\n",
       "521    전용     1     0    1    0.00%  100.00%\n",
       "517    권역     1     0    1    0.00%  100.00%\n",
       "518  연중무휴     1     0    1    0.00%  100.00%\n",
       "519    운행     1     0    1    0.00%  100.00%\n",
       "802    패스     0     1    1  100.00%    0.00%\n",
       "\n",
       "[803 rows x 6 columns]"
      ]
     },
     "execution_count": 41,
     "metadata": {},
     "output_type": "execute_result"
    }
   ],
   "source": [
    "df_mrg_srt['전주비율'] = df_mrg_srt['전주비율'].apply(lambda x : \"{:.2%}\".format(x))\n",
    "df_mrg_srt['경주비율'] = df_mrg_srt['경주비율'].apply(lambda x : \"{:.2%}\".format(x))\n",
    "df_mrg_srt"
   ]
  },
  {
   "cell_type": "code",
   "execution_count": 42,
   "id": "40924176",
   "metadata": {},
   "outputs": [
    {
     "data": {
      "text/html": [
       "<div>\n",
       "<style scoped>\n",
       "    .dataframe tbody tr th:only-of-type {\n",
       "        vertical-align: middle;\n",
       "    }\n",
       "\n",
       "    .dataframe tbody tr th {\n",
       "        vertical-align: top;\n",
       "    }\n",
       "\n",
       "    .dataframe thead th {\n",
       "        text-align: right;\n",
       "    }\n",
       "</style>\n",
       "<table border=\"1\" class=\"dataframe\">\n",
       "  <thead>\n",
       "    <tr style=\"text-align: right;\">\n",
       "      <th></th>\n",
       "      <th>token</th>\n",
       "      <th>경주빈도</th>\n",
       "      <th>전주빈도</th>\n",
       "      <th>빈도합</th>\n",
       "      <th>전주비율</th>\n",
       "      <th>경주비율</th>\n",
       "    </tr>\n",
       "  </thead>\n",
       "  <tbody>\n",
       "    <tr>\n",
       "      <th>0</th>\n",
       "      <td>코스</td>\n",
       "      <td>446</td>\n",
       "      <td>481</td>\n",
       "      <td>927</td>\n",
       "      <td>51.89%</td>\n",
       "      <td>48.11%</td>\n",
       "    </tr>\n",
       "    <tr>\n",
       "      <th>1</th>\n",
       "      <td>추천</td>\n",
       "      <td>401</td>\n",
       "      <td>301</td>\n",
       "      <td>702</td>\n",
       "      <td>42.88%</td>\n",
       "      <td>57.12%</td>\n",
       "    </tr>\n",
       "    <tr>\n",
       "      <th>2</th>\n",
       "      <td>곳</td>\n",
       "      <td>146</td>\n",
       "      <td>455</td>\n",
       "      <td>601</td>\n",
       "      <td>75.71%</td>\n",
       "      <td>24.29%</td>\n",
       "    </tr>\n",
       "    <tr>\n",
       "      <th>3</th>\n",
       "      <td>맛집</td>\n",
       "      <td>120</td>\n",
       "      <td>287</td>\n",
       "      <td>407</td>\n",
       "      <td>70.52%</td>\n",
       "      <td>29.48%</td>\n",
       "    </tr>\n",
       "    <tr>\n",
       "      <th>4</th>\n",
       "      <td>봉</td>\n",
       "      <td>0</td>\n",
       "      <td>354</td>\n",
       "      <td>354</td>\n",
       "      <td>100.00%</td>\n",
       "      <td>0.00%</td>\n",
       "    </tr>\n",
       "    <tr>\n",
       "      <th>...</th>\n",
       "      <td>...</td>\n",
       "      <td>...</td>\n",
       "      <td>...</td>\n",
       "      <td>...</td>\n",
       "      <td>...</td>\n",
       "      <td>...</td>\n",
       "    </tr>\n",
       "    <tr>\n",
       "      <th>798</th>\n",
       "      <td>전용</td>\n",
       "      <td>1</td>\n",
       "      <td>0</td>\n",
       "      <td>1</td>\n",
       "      <td>0.00%</td>\n",
       "      <td>100.00%</td>\n",
       "    </tr>\n",
       "    <tr>\n",
       "      <th>799</th>\n",
       "      <td>권역</td>\n",
       "      <td>1</td>\n",
       "      <td>0</td>\n",
       "      <td>1</td>\n",
       "      <td>0.00%</td>\n",
       "      <td>100.00%</td>\n",
       "    </tr>\n",
       "    <tr>\n",
       "      <th>800</th>\n",
       "      <td>연중무휴</td>\n",
       "      <td>1</td>\n",
       "      <td>0</td>\n",
       "      <td>1</td>\n",
       "      <td>0.00%</td>\n",
       "      <td>100.00%</td>\n",
       "    </tr>\n",
       "    <tr>\n",
       "      <th>801</th>\n",
       "      <td>운행</td>\n",
       "      <td>1</td>\n",
       "      <td>0</td>\n",
       "      <td>1</td>\n",
       "      <td>0.00%</td>\n",
       "      <td>100.00%</td>\n",
       "    </tr>\n",
       "    <tr>\n",
       "      <th>802</th>\n",
       "      <td>패스</td>\n",
       "      <td>0</td>\n",
       "      <td>1</td>\n",
       "      <td>1</td>\n",
       "      <td>100.00%</td>\n",
       "      <td>0.00%</td>\n",
       "    </tr>\n",
       "  </tbody>\n",
       "</table>\n",
       "<p>803 rows × 6 columns</p>\n",
       "</div>"
      ],
      "text/plain": [
       "    token  경주빈도  전주빈도  빈도합     전주비율     경주비율\n",
       "0      코스   446   481  927   51.89%   48.11%\n",
       "1      추천   401   301  702   42.88%   57.12%\n",
       "2       곳   146   455  601   75.71%   24.29%\n",
       "3      맛집   120   287  407   70.52%   29.48%\n",
       "4       봉     0   354  354  100.00%    0.00%\n",
       "..    ...   ...   ...  ...      ...      ...\n",
       "798    전용     1     0    1    0.00%  100.00%\n",
       "799    권역     1     0    1    0.00%  100.00%\n",
       "800  연중무휴     1     0    1    0.00%  100.00%\n",
       "801    운행     1     0    1    0.00%  100.00%\n",
       "802    패스     0     1    1  100.00%    0.00%\n",
       "\n",
       "[803 rows x 6 columns]"
      ]
     },
     "execution_count": 42,
     "metadata": {},
     "output_type": "execute_result"
    }
   ],
   "source": [
    "df_mrg_srt.reset_index(drop = True, inplace = True)\n",
    "df_mrg_srt"
   ]
  },
  {
   "cell_type": "code",
   "execution_count": 43,
   "id": "a8c78a3c",
   "metadata": {},
   "outputs": [],
   "source": [
    "df_mrg_srt.to_csv('data/naver_kin_pos_nouns_count.txt', sep = '\\t')"
   ]
  },
  {
   "cell_type": "markdown",
   "id": "cac53afe",
   "metadata": {},
   "source": [
    "# 5. 빈도 시각화 (워드클라우드, Text)"
   ]
  },
  {
   "cell_type": "code",
   "execution_count": 44,
   "id": "5dee5880",
   "metadata": {},
   "outputs": [
    {
     "name": "stdout",
     "output_type": "stream",
     "text": [
      "(16958, 3)\n"
     ]
    },
    {
     "data": {
      "text/html": [
       "<div>\n",
       "<style scoped>\n",
       "    .dataframe tbody tr th:only-of-type {\n",
       "        vertical-align: middle;\n",
       "    }\n",
       "\n",
       "    .dataframe tbody tr th {\n",
       "        vertical-align: top;\n",
       "    }\n",
       "\n",
       "    .dataframe thead th {\n",
       "        text-align: right;\n",
       "    }\n",
       "</style>\n",
       "<table border=\"1\" class=\"dataframe\">\n",
       "  <thead>\n",
       "    <tr style=\"text-align: right;\">\n",
       "      <th></th>\n",
       "      <th>query</th>\n",
       "      <th>token</th>\n",
       "      <th>pos</th>\n",
       "    </tr>\n",
       "  </thead>\n",
       "  <tbody>\n",
       "    <tr>\n",
       "      <th>0</th>\n",
       "      <td>전주 여행</td>\n",
       "      <td>곳</td>\n",
       "      <td>NNG</td>\n",
       "    </tr>\n",
       "    <tr>\n",
       "      <th>3000</th>\n",
       "      <td>전주 여행</td>\n",
       "      <td>달</td>\n",
       "      <td>NNG</td>\n",
       "    </tr>\n",
       "    <tr>\n",
       "      <th>6000</th>\n",
       "      <td>전주 여행</td>\n",
       "      <td>달</td>\n",
       "      <td>NNG</td>\n",
       "    </tr>\n",
       "    <tr>\n",
       "      <th>9000</th>\n",
       "      <td>전주 여행</td>\n",
       "      <td>술</td>\n",
       "      <td>NNG</td>\n",
       "    </tr>\n",
       "    <tr>\n",
       "      <th>12000</th>\n",
       "      <td>경주 여행</td>\n",
       "      <td>곳</td>\n",
       "      <td>NNG</td>\n",
       "    </tr>\n",
       "    <tr>\n",
       "      <th>15000</th>\n",
       "      <td>경주 여행</td>\n",
       "      <td>반려</td>\n",
       "      <td>NNG</td>\n",
       "    </tr>\n",
       "  </tbody>\n",
       "</table>\n",
       "</div>"
      ],
      "text/plain": [
       "       query token  pos\n",
       "0      전주 여행     곳  NNG\n",
       "3000   전주 여행     달  NNG\n",
       "6000   전주 여행     달  NNG\n",
       "9000   전주 여행     술  NNG\n",
       "12000  경주 여행     곳  NNG\n",
       "15000  경주 여행    반려  NNG"
      ]
     },
     "execution_count": 44,
     "metadata": {},
     "output_type": "execute_result"
    }
   ],
   "source": [
    "df_nouns = pd.read_csv('data/naver_kin_pos_nouns.csv', sep = '\\t')\n",
    "print(df_nouns.shape)\n",
    "df_nouns.iloc[::3000]"
   ]
  },
  {
   "cell_type": "code",
   "execution_count": 45,
   "id": "68c4e412",
   "metadata": {},
   "outputs": [
    {
     "data": {
      "text/plain": [
       "array(['NNG', 'NNP'], dtype=object)"
      ]
     },
     "execution_count": 45,
     "metadata": {},
     "output_type": "execute_result"
    }
   ],
   "source": [
    "df_nouns['pos'].unique()"
   ]
  },
  {
   "cell_type": "code",
   "execution_count": 46,
   "id": "3b3fe27c",
   "metadata": {},
   "outputs": [
    {
     "name": "stdout",
     "output_type": "stream",
     "text": [
      "['추석', '추석', '생각', '서울', '버스']\n",
      "['곳', '추천', '추억', '다양', '체험']\n",
      "추석 추석 생각 서\n",
      "곳 추천 추억 다양\n"
     ]
    }
   ],
   "source": [
    "df_gj_noun = df_nouns.loc[df_nouns['query'] == '경주 여행', 'token'].to_list()\n",
    "df_jj_noun = df_nouns.loc[df_nouns['query'] == '전주 여행', 'token'].to_list()\n",
    "print(df_gj_noun[:5])\n",
    "print(df_jj_noun[:5])\n",
    "gj = ' '.join(df_gj_noun)\n",
    "jj = ' '.join(df_jj_noun)\n",
    "print(gj[:10])\n",
    "print(jj[:10])"
   ]
  },
  {
   "cell_type": "code",
   "execution_count": 55,
   "id": "2801ff51",
   "metadata": {},
   "outputs": [],
   "source": [
    "from wordcloud import WordCloud\n",
    "import matplotlib.pyplot as plt\n",
    "\n",
    "color_map = \"Blues\""
   ]
  },
  {
   "cell_type": "code",
   "execution_count": 58,
   "id": "04b18d73",
   "metadata": {},
   "outputs": [
    {
     "data": {
      "image/png": "[encoded data removed]",
      "text/plain": [
       "<Figure size 640x480 with 1 Axes>"
      ]
     },
     "metadata": {},
     "output_type": "display_data"
    }
   ],
   "source": [
    "import numpy as np\n",
    "from PIL import Image\n",
    "\n",
    "mask = np.array(Image.open('data/heart.jpg'))\n",
    "불용어 = set(['여행'])\n",
    "wordcloud = WordCloud(\n",
    "    font_path = 'data/NanumPenScript-Regular.ttf',\n",
    "    background_color = 'white',\n",
    "    colormap = color_map,\n",
    "    collocations = True,  # 특정단어가 자주 같이 나오면 같이 뿌려 ex황리단같은거는 같이\n",
    "    max_words = 200,\n",
    "    max_font_size = 200,\n",
    "    scale = 2,  # 이미지 크기의 비율 (다운로드시 달라짐)\n",
    "    random_state = 777,\n",
    "    stopwords = 불용어,\n",
    "    mask = mask,\n",
    "    contour_color = 'blue',\n",
    "    contour_width = 1\n",
    ").generate(gj)\n",
    "plt.imshow(wordcloud, interpolation = 'bilinear')\n",
    "plt.axis('off')\n",
    "plt.show()"
   ]
  },
  {
   "cell_type": "code",
   "execution_count": 57,
   "id": "b73b1420",
   "metadata": {},
   "outputs": [
    {
     "data": {
      "text/plain": [
       "<wordcloud.wordcloud.WordCloud at 0x25b51eb0220>"
      ]
     },
     "execution_count": 57,
     "metadata": {},
     "output_type": "execute_result"
    }
   ],
   "source": [
    "# 생성된 wordcloud 저장\n",
    "\n",
    "wordcloud.to_file('data/naver_kin_경주.jpg')"
   ]
  },
  {
   "cell_type": "code",
   "execution_count": 59,
   "id": "d9d2344c",
   "metadata": {},
   "outputs": [
    {
     "data": {
      "image/png": "[encoded data removed]",
      "text/plain": [
       "<Figure size 640x480 with 1 Axes>"
      ]
     },
     "metadata": {},
     "output_type": "display_data"
    }
   ],
   "source": [
    "import numpy as np\n",
    "from PIL import Image\n",
    "\n",
    "mask = np.array(Image.open('data/korea-house-black-fill.png'))\n",
    "불용어 = set(['여행'])\n",
    "wordcloud = WordCloud(\n",
    "    font_path = 'data/NanumPenScript-Regular.ttf',\n",
    "    background_color = 'white',\n",
    "    colormap = color_map,\n",
    "    collocations = True,  # 특정단어가 자주 같이 나오면 같이 뿌려 ex황리단같은거는 같이\n",
    "    max_words = 200,\n",
    "    max_font_size = 200,\n",
    "    scale = 2,  # 이미지 크기의 비율 (다운로드시 달라짐)\n",
    "    random_state = 777,\n",
    "    stopwords = 불용어,\n",
    "    mask = mask,\n",
    "    contour_color = 'blue',\n",
    "    contour_width = 1\n",
    ").generate(gj)\n",
    "plt.imshow(wordcloud, interpolation = 'bilinear')\n",
    "plt.axis('off')\n",
    "plt.show()"
   ]
  },
  {
   "cell_type": "code",
   "execution_count": 60,
   "id": "6ed3b322",
   "metadata": {},
   "outputs": [
    {
     "data": {
      "text/plain": [
       "<wordcloud.wordcloud.WordCloud at 0x25b41351660>"
      ]
     },
     "execution_count": 60,
     "metadata": {},
     "output_type": "execute_result"
    }
   ],
   "source": [
    "# 생성된 wordcloud 저장\n",
    "\n",
    "wordcloud.to_file('data/naver_kin_전주.jpg')"
   ]
  },
  {
   "cell_type": "markdown",
   "id": "bbe892aa",
   "metadata": {},
   "source": [
    "# 6. Word2Vec"
   ]
  },
  {
   "cell_type": "code",
   "execution_count": 61,
   "id": "1baf1cf9",
   "metadata": {},
   "outputs": [
    {
     "data": {
      "text/html": [
       "<div>\n",
       "<style scoped>\n",
       "    .dataframe tbody tr th:only-of-type {\n",
       "        vertical-align: middle;\n",
       "    }\n",
       "\n",
       "    .dataframe tbody tr th {\n",
       "        vertical-align: top;\n",
       "    }\n",
       "\n",
       "    .dataframe thead th {\n",
       "        text-align: right;\n",
       "    }\n",
       "</style>\n",
       "<table border=\"1\" class=\"dataframe\">\n",
       "  <thead>\n",
       "    <tr style=\"text-align: right;\">\n",
       "      <th></th>\n",
       "      <th>query</th>\n",
       "      <th>no</th>\n",
       "      <th>title</th>\n",
       "      <th>link</th>\n",
       "      <th>description</th>\n",
       "      <th>total_text</th>\n",
       "    </tr>\n",
       "  </thead>\n",
       "  <tbody>\n",
       "    <tr>\n",
       "      <th>931</th>\n",
       "      <td>경주 여행</td>\n",
       "      <td>432</td>\n",
       "      <td>경주 여행  중 꼭 가봐야 할 맛집 리스트는 무엇인가요?</td>\n",
       "      <td>https://kin.naver.com/qna/detail.naver?d1id=4&amp;...</td>\n",
       "      <td>경주 여행 을 계획 중이며 필수 방문 맛집과 핫플레이스를 알고 싶습니다 현지인들이...</td>\n",
       "      <td>경주 여행  중 꼭 가봐야 할 맛집 리스트는 무엇인가요?  경주 여행 을 계획 중...</td>\n",
       "    </tr>\n",
       "  </tbody>\n",
       "</table>\n",
       "</div>"
      ],
      "text/plain": [
       "     query   no                             title  \\\n",
       "931  경주 여행  432   경주 여행  중 꼭 가봐야 할 맛집 리스트는 무엇인가요?   \n",
       "\n",
       "                                                  link  \\\n",
       "931  https://kin.naver.com/qna/detail.naver?d1id=4&...   \n",
       "\n",
       "                                           description  \\\n",
       "931   경주 여행 을 계획 중이며 필수 방문 맛집과 핫플레이스를 알고 싶습니다 현지인들이...   \n",
       "\n",
       "                                            total_text  \n",
       "931   경주 여행  중 꼭 가봐야 할 맛집 리스트는 무엇인가요?  경주 여행 을 계획 중...  "
      ]
     },
     "execution_count": 61,
     "metadata": {},
     "output_type": "execute_result"
    }
   ],
   "source": [
    "import pandas as pd\n",
    "\n",
    "df = pd.read_csv('data/naver_kin.csv', sep = '\\t')\n",
    "df.sample()"
   ]
  },
  {
   "cell_type": "code",
   "execution_count": 62,
   "id": "a80c6b51",
   "metadata": {},
   "outputs": [
    {
     "data": {
      "text/plain": [
       "['2박  경주여행  11월 중순에 남편과 경주여행 을 계획하고 있는데요 처음 가보는곳이라 첫날은 황남관한옥호텔 에서 1박하고 이튿날은 청공한옥스테이에서 1박 총 2박3일 계획인데요 여행스케쥴을 어떻게 ',\n",
       " ' 경주 여행 지 추천  2 부산을 벗어난 경주 여행 지 알려주세요 3 당일치기로 경주 여행 코스 밑에 자세하게 권역별로 여행코스를 소개했습니다 경주여행 이 처음이라면 대릉원 첨성대 참고로 쭈니아빠 블로그를 방문하시면 경주여행 ']"
      ]
     },
     "execution_count": 62,
     "metadata": {},
     "output_type": "execute_result"
    }
   ],
   "source": [
    "total_text_list = df['total_text'].to_list()\n",
    "total_text_list[-2:]"
   ]
  },
  {
   "cell_type": "code",
   "execution_count": 63,
   "id": "54507081",
   "metadata": {},
   "outputs": [],
   "source": [
    "select_pos = ['NNP', 'NNG']  # Komoran, Kkma, MeCab의 일반명사, 고유명사\n",
    "# select_pos = ['Noun']  # Okt의 일반명사, 고유명사\n",
    "# select_pos = ['NC', 'NQ']  # Hannanum의 보통명사, 고유명사\n",
    "불용어 = {'여행'}"
   ]
  },
  {
   "cell_type": "code",
   "execution_count": 64,
   "id": "1e4dfaef",
   "metadata": {},
   "outputs": [
    {
     "name": "stdout",
     "output_type": "stream",
     "text": [
      "CPU times: total: 672 ms\n",
      "Wall time: 692 ms\n"
     ]
    }
   ],
   "source": [
    "%%time\n",
    "\n",
    "from konlpy.tag import Komoran, Kkma, Hannanum, Okt\n",
    "from mecab import MeCab\n",
    "\n",
    "analyzer = MeCab()\n",
    "total_noun_list = []\n",
    "for total_text in total_text_list :\n",
    "    noun_list = [token for token, tag in analyzer.pos(total_text) \n",
    "                     if tag in select_pos and \n",
    "                             len(token) > 1 and\n",
    "                             token not in 불용어]  # 명사, 2글자이상, 불용어제외\n",
    "    total_noun_list.append(noun_list)"
   ]
  },
  {
   "cell_type": "code",
   "execution_count": 65,
   "id": "bcc90e23",
   "metadata": {},
   "outputs": [
    {
     "name": "stdout",
     "output_type": "stream",
     "text": [
      "[['경주', '중순', '남편', '경주', '계획', '첫날', '황남', '호텔', '이튿날', '청공', '옥스', '테이', '계획'], ['경주', '추천', '부산', '경주', '당일', '경주', '코스', '권역', '코스', '소개', '경주', '처음', '대릉원', '첨성대', '참고', '쭈니', '아빠', '블로그', '방문', '경주']]\n"
     ]
    }
   ],
   "source": [
    "print(total_noun_list[-2:])"
   ]
  },
  {
   "cell_type": "code",
   "execution_count": 66,
   "id": "9d5d8cdd",
   "metadata": {},
   "outputs": [],
   "source": [
    "from gensim.models import Word2Vec\n",
    "\n",
    "model = Word2Vec(total_noun_list, \n",
    "                 window = 10, \n",
    "                 min_count = 2, \n",
    "                 workers = -1, \n",
    "                 sg = 1)  # 소량데이터에 더 잘 맞음"
   ]
  },
  {
   "cell_type": "code",
   "execution_count": 67,
   "id": "dcc2bbeb",
   "metadata": {},
   "outputs": [
    {
     "data": {
      "text/plain": [
       "[('쿠지', 0.3641005754470825),\n",
       " ('감성', 0.21867415308952332),\n",
       " ('새벽', 0.21632219851016998),\n",
       " ('지역', 0.2159893959760666),\n",
       " ('필요', 0.21469099819660187),\n",
       " ('지난주', 0.2134207934141159),\n",
       " ('공장', 0.20914912223815918),\n",
       " ('금액', 0.20906010270118713),\n",
       " ('계절', 0.2070489227771759),\n",
       " ('안내소', 0.20607852935791016)]"
      ]
     },
     "execution_count": 67,
     "metadata": {},
     "output_type": "execute_result"
    }
   ],
   "source": [
    "model.wv.most_similar('전주')"
   ]
  },
  {
   "cell_type": "code",
   "execution_count": 68,
   "id": "25c10beb",
   "metadata": {},
   "outputs": [
    {
     "data": {
      "text/plain": [
       "[('침대', 0.3595535457134247),\n",
       " ('대중교통', 0.2897421419620514),\n",
       " ('친정', 0.275379478931427),\n",
       " ('필수', 0.2731468081474304),\n",
       " ('이동은', 0.2580290138721466),\n",
       " ('서울', 0.2295033037662506),\n",
       " ('월드', 0.22023281455039978),\n",
       " ('제주', 0.21883943676948547),\n",
       " ('일정', 0.21617142856121063),\n",
       " ('사용', 0.2135322391986847)]"
      ]
     },
     "execution_count": 68,
     "metadata": {},
     "output_type": "execute_result"
    }
   ],
   "source": [
    "model.wv.most_similar('경주')"
   ]
  },
  {
   "cell_type": "code",
   "execution_count": 73,
   "id": "8cd4826f",
   "metadata": {},
   "outputs": [
    {
     "name": "stdout",
     "output_type": "stream",
     "text": [
      "2번이상 나와서 학습된 단어들 :  ['경주', '전주', '코스', '추천', '맛집', '여수', '주달', '계획', '숙소', '일정', '한옥마을', '질문', '부탁', '티비', '국내', '답변', '제주', '전문', '봉이', '언서', '제주도', '한옥', '친구', '마을', '가족', '안녕', '참고', '당일치기', '황리', '관련', '택시', '이번', '정도', '예정', '준비', '공원', '근처', '버스', '시간', '이용', '아이', '엄마', '터미널', '가능', '장소', '날씨', '아래', '추억', '덕진', '관광지', '문화', '역사', '방문', '도움', '운전', '관광', '동선', '혼자', '남자', '식당', '시작', '이동', '갈만', '카페', '사람', '당일', '투어', '주말', '시장', '렌트', '여자', '월지', '대중교통', '동물원', '펜션', '첨성대', '불국사', '아빠', '부모', '도착', '어머니', '체험', '동궁', '감사', '비용', '가격', '박물관', '기차', '포항', '플레이스', '정보', '전라도', '수목원', '아들', '거리', '호텔', '서울', '소개', '생각', '고등학생', '가요', '도시', '도보', '학년', '처음', '강아지', '명소', '포함', '하루', '남부', '지도', '첨부', '볼거리', '루트', '국립', '위주', '추석', '야경', '특별', '얼마', '석굴암', '확인', '채택', '실패', '예약', '하우스', '평일', '완산구', '향교', '산책', '동안', '다음', '경비', '시내', '시절', '반려', '요소', '대부분', '게스트', '렌트카', '한국', '초등', '월드', '한복', '동반', '교통편', '경험', '필요', '마음', '선택', '부산', '음식', '대릉원', '블로그', '저녁', '토요일', '맞춤', '보문', '남산', '천마총', '리스트', '최소한', '여유', '블로거', '교통비', '기본', '가이드', '신라', '오후', '자차', '할머니', '인근', '의견', '전통', '빵집', '분위기', '가을', '방법', '친정', '자동차', '바닷가', '검색', '조언', '진행', '고등학교', '말씀', '벽화', '경기전', '구경', '빌라', '실내', '주신', '점심', '경북', '덕진구', '교통', '주요', '오전', '예상', '바다', '경주역', '내공', '관람', '고민', '남편', '정리', '문자', '중순', '금요일', '예보', '시외버스', '필수', '쭈니', '편안', '아침', '대표', '자만', '중간', '난장', '입장료', '소리', '현대', '엑스포', '비빔', '제공', '시대', '지난주', '전동성당', '문제', '생략', '전시회', '사이트', '수단', '무리', '방학', '호수', '순서', '복귀', '교동', '제시', '황남빵', '생활', '최고봉', '가실', '랜드', '초코파이', '대여', '부족', '사투리', '크리스마스', '계절', '고려', '예산', '커플', '오푸스', '날짜', '시기', '경주로', '궁원', '절리', '주상', '양남', '황성', '기간', '영화제', '현지인', '다면', '느낌', '대접', '미술관', '지역', '사진', '정복', '출발', '관심', '대상', '쿠지', '연령', '최적', '관광객', '요번', '주제', '문화재', '저번', '인원', '이벤트', '이상', '캐리', '어사이즈', '패딩', '위치', '캐리어', '고속버스', '그때', '어머님', '초보', '숙박', '안내', '요금', '초등학생', '보문관광단지', '본인', '사월', '단지', '책자', '조절', '애인', '완주', '중앙', '황동', '어르신', '한국도로공사', '운영', '상황', '학생', '여성', '정교', '자가용', '중요', '수원', '감성', '음식점', '추가', '목대', '경관', '자연', '여학생', '황남', '첫날', '에서', '테마', '유적지', '기상', '여행지', '어버이날', '교육', '허락', '스로', '휴가', '흐노', '당장', '전망', '금액', '천차만별', '관광공사', '주천', '조정', '기관', '세일', '요일', '데이트', '알짜배기', '케이블카', '전주국', '에도', '경로', '주목적', '조선', '대둔산', '웨이팅', '건물', '식비', '그램', '공방', '항목', '공간', '스토리', '해설', '방지', '달인', '수학', '예약금', '결제', '현장', '상당', '음료', '기프', '환급', '현재', '마감', '인당', '일식', '중식', '유명', '양식', '침대', '시설', '전통문화', '연인', '트레', '술값', '일반', '독일', '스타', '다랭이', '페스타', '변호사', '김선용', '상담', '법률', '지식', '소속', '사회', '변호', '지방', '팀조', '장단점', '광주', '결정', '하늘', '동물', '내부', '다윈', '정감', '교통수단', '보통', '가운데', '반양', '내외', '체증', '더클래식', '보리암', '선착순', '주만', '코로나', '코트', '감상', '수면', '유산', '중학교', '언니', '활동', '월드컵', '평지', '조금', '우양', '최초', '궁터', '왕자', '군요', '경량', '용시', '초반', '건강', '오랫동안', '배달', '경기도', '내년', '겨울', '비추', '경치', '마지막', '어른', '독채', '휴식', '인기', '작품', '포토', '파크', '워터', '나드리', '의미', '재미', '공부', '여행객', '잔치국수', '법주', '밀면', '움직임', '이틀', '최대한', '구체', '경험담', '예전', '가본적', '지리', '행복', '제외', '테마파크', '대공원', '원릉', '동굴', '봄바람', '객실', '개별', '바베큐', '부부', '먹거리', '구성원', '종합', '아버지', '조심', '여동생', '벚꽃', '개화', '카테고리', '선배', '학교', '작년', '여름', '가시', '열차', '정서', '출발지', '형편', '시내버스', '자전거', '안내소', '매일', '활용', '새벽', '대명', '콘도', '기림사', '분황사', '부처', '무열왕릉', '황룡', '사지', '오릉', '기온', '자녀', '시즌', '어려움', '전남', '제안', '바탕', '폴라로이드', '카메라', '구매', '렌터카', '랜드마크', '가여', '입장', '수학여행', '추도', '신상', '신축', '지인', '최근', '천군동', '입실', '그동안', '이맘때', '중학', '해결책', '식사', '황지', '지역민', '취향', '요즘', '경경', '한화', '리조트', '조사', '결과', '카카오', '실행', '자신', '주문', '편리', '소요', '태교', '주식', '전일', '슈퍼', '피큐어', '평점', '전주식', '한정식', '수구', '전라', '회관', '전주비빔밥', '고궁', '성미', '토종', '명품', '사용', '리의', '기지', '생일', '이동은', '욕조', '텍스', '애견', '플랫', '하트', '불편', '현황', '실시간', '통상', '운송', '답장', '왕복', '기차표', '월요일', '휴무', '걱정', '오픈', '군산', '새만금', '기회', '주이', '수정', '부분', '본점', '대옥', '구용', '도로공사', '갤러리', '주박', '물관', '서신동', '대학', '공연', '연극', '억양', '거북', '의외', '전라북도', '전주시', '문의', '려인', '요약', '불안', '조화', '역하', '고택', '참조', '도보이', '바람', '언덕', '체크인', '성수기', '주머니', '세염', '간식', '시티투어', '걸음', '로또', '해몽', '식대', '컴퓨터', '조립식', '가성', '접근성', '네이버', '낭비', '메뉴', '빙판길', '술집', '대한민국', '연못', '가보세요', '팔복', '예술', '공장', '중심', '공용', '평상시', '실제', '전역', '기반', '흥미', '경우', '토함산', '어린애', '세영', '내용', '공유', '직전', '개인', '집행', '중반', '신경주역', '고요', '애니', '오타쿠', '통제', '방해', '휴무일', '정상', '라면', '일본', '동네', '아중', '기상청', '뉴스', '비피', '레일바이크', '전북', '주변', '수지', '떡갈비', '모주', '소록', '스테이', '옥스', '다양', '이튿날', '청공', '테이']\n",
      "703\n"
     ]
    }
   ],
   "source": [
    "print('2번이상 나와서 학습된 단어들 : ',list(model.wv.index_to_key))\n",
    "print(len(model.wv))"
   ]
  },
  {
   "cell_type": "code",
   "execution_count": 69,
   "id": "c6576c55",
   "metadata": {},
   "outputs": [
    {
     "name": "stdout",
     "output_type": "stream",
     "text": [
      "['경주', '전주', '코스', '추천', '맛집', '여수', '주달', '계획', '숙소', '일정']\n",
      "703\n"
     ]
    }
   ],
   "source": [
    "print(list(model.wv.index_to_key[:10]))\n",
    "print(len(model.wv))"
   ]
  },
  {
   "cell_type": "code",
   "execution_count": 72,
   "id": "f59ed965",
   "metadata": {},
   "outputs": [
    {
     "name": "stdout",
     "output_type": "stream",
     "text": [
      "입력된 단어와 유사한 단어 10개를 출력합니다.\n",
      "딸\n",
      "딸 단어가 훈련 데이터에 없음\n"
     ]
    }
   ],
   "source": [
    "# 유사한 단어 출력\n",
    "\n",
    "print(\"입력된 단어와 유사한 단어 10개를 출력합니다.\")\n",
    "key = input()\n",
    "if key in model.wv :\n",
    "    print(\"{}와 유사한 단어:\".format(key))\n",
    "    print(model.wv.most_similar(key, topn = 10))\n",
    "else :\n",
    "    print(\"{} 단어가 훈련 데이터에 없음\".format(key))"
   ]
  },
  {
   "cell_type": "code",
   "execution_count": null,
   "id": "7bea3456",
   "metadata": {},
   "outputs": [],
   "source": []
  }
 ],
 "metadata": {
  "kernelspec": {
   "display_name": "ml-dl-nlp",
   "language": "python",
   "name": "ml-dl-nlp"
  },
  "language_info": {
   "codemirror_mode": {
    "name": "ipython",
    "version": 3
   },
   "file_extension": ".py",
   "mimetype": "text/x-python",
   "name": "python",
   "nbconvert_exporter": "python",
   "pygments_lexer": "ipython3",
   "version": "3.10.18"
  },
  "toc": {
   "base_numbering": 1,
   "nav_menu": {},
   "number_sections": false,
   "sideBar": true,
   "skip_h1_title": false,
   "title_cell": "Table of Contents",
   "title_sidebar": "Contents",
   "toc_cell": false,
   "toc_position": {
    "height": "calc(100% - 180px)",
    "left": "10px",
    "top": "150px",
    "width": "274.55px"
   },
   "toc_section_display": true,
   "toc_window_display": true
  }
 },
 "nbformat": 4,
 "nbformat_minor": 5
}
