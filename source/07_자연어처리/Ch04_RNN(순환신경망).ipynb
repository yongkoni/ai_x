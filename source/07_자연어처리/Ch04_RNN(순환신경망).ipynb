{
 "cells": [
  {
   "cell_type": "code",
   "execution_count": 1,
   "id": "7c8a24e3",
   "metadata": {},
   "outputs": [
    {
     "data": {
      "text/html": [
       "<style>\n",
       "div.container{width:86% !important;}\n",
       "div.cell.code_cell.rendered{width:100%;}\n",
       "div.CodeMirror {font-family:Consolas; font-size:12pt;}\n",
       "div.output {font-size:12pt; font-weight:bold;}\n",
       "div.input {font-family:Consolas; font-size:12pt;}\n",
       "div.prompt {min-width:70px;}\n",
       "div#toc-wrapper{padding-top:120px;}\n",
       "div.text_cell_render ul li{fontsize:12pt;padding:5px;}\n",
       "table.dataframe{font-size:12px;}))\n",
       "</style>\n"
      ],
      "text/plain": [
       "<IPython.core.display.HTML object>"
      ]
     },
     "metadata": {},
     "output_type": "display_data"
    }
   ],
   "source": [
    "from IPython.display import display, HTML\n",
    "display(HTML(\"\"\"<style>\n",
    "div.container{width:86% !important;}\n",
    "div.cell.code_cell.rendered{width:100%;}\n",
    "div.CodeMirror {font-family:Consolas; font-size:12pt;}\n",
    "div.output {font-size:12pt; font-weight:bold;}\n",
    "div.input {font-family:Consolas; font-size:12pt;}\n",
    "div.prompt {min-width:70px;}\n",
    "div#toc-wrapper{padding-top:120px;}\n",
    "div.text_cell_render ul li{fontsize:12pt;padding:5px;}\n",
    "table.dataframe{font-size:12px;}))\n",
    "</style>\n",
    "\"\"\"))"
   ]
  },
  {
   "cell_type": "markdown",
   "id": "08818b5f",
   "metadata": {},
   "source": [
    "# <span style = \"color:red\">ch04 RNN(Recurrent Neural Network 순환신경망)</span>"
   ]
  },
  {
   "cell_type": "markdown",
   "id": "6ee86590",
   "metadata": {},
   "source": [
    "# 1. 문맥을 이용하여 모델만들기"
   ]
  },
  {
   "cell_type": "code",
   "execution_count": 2,
   "id": "753fb921",
   "metadata": {},
   "outputs": [],
   "source": [
    "text = \"\"\"경마장에 있는 말이 뛰고 있다\n",
    "그의 말이 법이다\n",
    "가는 말이 고와야 오는 말이 곱다\"\"\"\n",
    "text1 = \"장마철이 오고 있다\""
   ]
  },
  {
   "cell_type": "code",
   "execution_count": 3,
   "id": "b96fd90c",
   "metadata": {},
   "outputs": [
    {
     "name": "stdout",
     "output_type": "stream",
     "text": [
      "[[3, 4, 1, 5, 2, 6, 1, 7, 8, 1, 9, 10, 1, 11], [12, 13, 2]]\n",
      "{'말이': 1, '있다': 2, '경마장에': 3, '있는': 4, '뛰고': 5, '그의': 6, '법이다': 7, '가는': 8, '고와야': 9, '오는': 10, '곱다': 11, '장마철이': 12, '오고': 13}\n"
     ]
    }
   ],
   "source": [
    "from keras_preprocessing.text import Tokenizer\n",
    "\n",
    "t = Tokenizer()\n",
    "t.fit_on_texts([text, text1])\n",
    "encoded = t.texts_to_sequences([text, text1])\n",
    "print(encoded)\n",
    "print(t.word_index)"
   ]
  },
  {
   "cell_type": "code",
   "execution_count": 4,
   "id": "55b4de0f",
   "metadata": {},
   "outputs": [
    {
     "name": "stdout",
     "output_type": "stream",
     "text": [
      "[[2, 3, 1, 4, 5, 6, 1, 7, 8, 1, 9, 10, 1, 11]]\n",
      "{'말이': 1, '경마장에': 2, '있는': 3, '뛰고': 4, '있다': 5, '그의': 6, '법이다': 7, '가는': 8, '고와야': 9, '오는': 10, '곱다': 11}\n"
     ]
    }
   ],
   "source": [
    "from keras_preprocessing.text import Tokenizer\n",
    "\n",
    "t = Tokenizer()\n",
    "t.fit_on_texts([text])\n",
    "encoded = t.texts_to_sequences([text])\n",
    "print(encoded)\n",
    "print(t.word_index)"
   ]
  },
  {
   "cell_type": "code",
   "execution_count": 6,
   "id": "d90ab844",
   "metadata": {},
   "outputs": [
    {
     "name": "stdout",
     "output_type": "stream",
     "text": [
      "[[2, 1, 5], [1]]\n",
      "[8, 1, 11]\n"
     ]
    }
   ],
   "source": [
    "# 문자열 리스트를 인덱스 시퀀스로 변환\n",
    "\n",
    "print(t.texts_to_sequences(['경마장에 말이 있다','말이 뛴다']))\n",
    "print(t.texts_to_sequences(['가는 말이 곱다'])[0])"
   ]
  },
  {
   "cell_type": "code",
   "execution_count": 7,
   "id": "0eb28d91",
   "metadata": {},
   "outputs": [],
   "source": [
    "text = \"\"\"경마장에 있는 말이 뛰고 있다\n",
    "그의 말이 법이다\n",
    "가는 말이 고와야 오는 말이 곱다\"\"\""
   ]
  },
  {
   "cell_type": "code",
   "execution_count": 8,
   "id": "fb5c3898",
   "metadata": {},
   "outputs": [
    {
     "name": "stdout",
     "output_type": "stream",
     "text": [
      "말이 1\n",
      "경마장에 2\n",
      "있는 3\n",
      "뛰고 4\n",
      "있다 5\n",
      "그의 6\n",
      "법이다 7\n",
      "가는 8\n",
      "고와야 9\n",
      "오는 10\n",
      "곱다 11\n"
     ]
    }
   ],
   "source": [
    "for key, value in t.word_index.items() :\n",
    "    print(key, value)"
   ]
  },
  {
   "cell_type": "code",
   "execution_count": 9,
   "id": "935d1100",
   "metadata": {},
   "outputs": [
    {
     "name": "stdout",
     "output_type": "stream",
     "text": [
      "원문장 : 경마장에 있는 말이 뛰고 있다\n",
      "encoded된 문장 : [2, 3, 1, 4, 5]\n",
      "원문장 : 그의 말이 법이다\n",
      "encoded된 문장 : [6, 1, 7]\n",
      "원문장 : 가는 말이 고와야 오는 말이 곱다\n",
      "encoded된 문장 : [8, 1, 9, 10, 1, 11]\n",
      "sequences와 해석 출력\n",
      "2:경마장에 3:있는 \n",
      "2:경마장에 3:있는 1:말이 \n",
      "2:경마장에 3:있는 1:말이 4:뛰고 \n",
      "2:경마장에 3:있는 1:말이 4:뛰고 5:있다 \n",
      "3:있는 1:말이 \n",
      "3:있는 1:말이 4:뛰고 \n",
      "3:있는 1:말이 4:뛰고 5:있다 \n",
      "1:말이 4:뛰고 \n",
      "1:말이 4:뛰고 5:있다 \n",
      "4:뛰고 5:있다 \n",
      "6:그의 1:말이 \n",
      "6:그의 1:말이 7:법이다 \n",
      "1:말이 7:법이다 \n",
      "8:가는 1:말이 \n",
      "8:가는 1:말이 9:고와야 \n",
      "8:가는 1:말이 9:고와야 10:오는 \n",
      "8:가는 1:말이 9:고와야 10:오는 1:말이 \n",
      "8:가는 1:말이 9:고와야 10:오는 1:말이 11:곱다 \n",
      "1:말이 9:고와야 \n",
      "1:말이 9:고와야 10:오는 \n",
      "1:말이 9:고와야 10:오는 1:말이 \n",
      "1:말이 9:고와야 10:오는 1:말이 11:곱다 \n",
      "9:고와야 10:오는 \n",
      "9:고와야 10:오는 1:말이 \n",
      "9:고와야 10:오는 1:말이 11:곱다 \n",
      "10:오는 1:말이 \n",
      "10:오는 1:말이 11:곱다 \n",
      "1:말이 11:곱다 \n"
     ]
    }
   ],
   "source": [
    "# 학습을 시키기 위해 ['경마장에 있는', '경마장에 있는 말이', ...]\n",
    "\n",
    "sequences = []\n",
    "for line in text.split('\\n') :\n",
    "    print('원문장 :', line)\n",
    "    encoded = t.texts_to_sequences([line])[0]\n",
    "    print('encoded된 문장 :', encoded)\n",
    "    for i in range(0, len(encoded) - 1) :  # i : 시작 index\n",
    "        for j in range(i + 2, len(encoded) + 1) :  # j : 끝나는 index바로 뒤\n",
    "            sequences.append(encoded[i:j])\n",
    "# print(sequences)\n",
    "print('sequences와 해석 출력')\n",
    "for sequence in sequences :\n",
    "    for word_seq in sequence :\n",
    "        for word, id in t.word_index.items() :\n",
    "            if word_seq == id :\n",
    "                print(\"{}:{}\".format(word_seq, word), end = ' ')\n",
    "                break\n",
    "    print()"
   ]
  },
  {
   "cell_type": "code",
   "execution_count": 10,
   "id": "2c0e538e",
   "metadata": {},
   "outputs": [
    {
     "name": "stdout",
     "output_type": "stream",
     "text": [
      "[2, 3, 4, 5, 2, 3, 4, 2, 3, 2, 2, 3, 2, 2, 3, 4, 5, 6, 2, 3, 4, 5, 2, 3, 4, 2, 3, 2]\n"
     ]
    },
    {
     "data": {
      "text/plain": [
       "6"
      ]
     },
     "execution_count": 10,
     "metadata": {},
     "output_type": "execute_result"
    }
   ],
   "source": [
    "print([len(sequence) for sequence in sequences])\n",
    "my_len = max(len(sequence) for sequence in sequences)\n",
    "my_len"
   ]
  },
  {
   "cell_type": "code",
   "execution_count": 11,
   "id": "ef6a8b29",
   "metadata": {},
   "outputs": [
    {
     "data": {
      "text/plain": [
       "((28, 6), numpy.ndarray)"
      ]
     },
     "execution_count": 11,
     "metadata": {},
     "output_type": "execute_result"
    }
   ],
   "source": [
    "# sequences를 훈련 가능하도록 모두 6개로 조정\n",
    "\n",
    "from tensorflow.keras.preprocessing.sequence import pad_sequences\n",
    "\n",
    "padded_sequences = pad_sequences(sequences = sequences,\n",
    "                                maxlen = my_len,\n",
    "                                # padding = 'post',\n",
    "                                padding = 'pre')\n",
    "padded_sequences.shape, type(padded_sequences)\n",
    "# padded_sequences"
   ]
  },
  {
   "cell_type": "code",
   "execution_count": 12,
   "id": "8af0a295",
   "metadata": {},
   "outputs": [
    {
     "data": {
      "text/plain": [
       "array([ 3,  1,  4,  5,  1,  4,  5,  4,  5,  5,  1,  7,  7,  1,  9, 10,  1,\n",
       "       11,  9, 10,  1, 11, 10,  1, 11,  1, 11, 11])"
      ]
     },
     "execution_count": 12,
     "metadata": {},
     "output_type": "execute_result"
    }
   ],
   "source": [
    "# 독립변수(X)와 타겟변수(y)로 분리\n",
    "\n",
    "X = padded_sequences[:, :-1]\n",
    "y = padded_sequences[:, -1]\n",
    "y"
   ]
  },
  {
   "cell_type": "code",
   "execution_count": 13,
   "id": "6ff5f824",
   "metadata": {},
   "outputs": [
    {
     "data": {
      "text/plain": [
       "12"
      ]
     },
     "execution_count": 13,
     "metadata": {},
     "output_type": "execute_result"
    }
   ],
   "source": [
    "# X를 엠베딩 작업할 때 필요한 입력 bit 수 (단어수 + 1)\n",
    "\n",
    "input_dim = len(t.word_index) + 1\n",
    "input_dim"
   ]
  },
  {
   "cell_type": "code",
   "execution_count": 14,
   "id": "6ea4e5c2",
   "metadata": {},
   "outputs": [
    {
     "data": {
      "text/plain": [
       "((28, 5), (28, 12), 12)"
      ]
     },
     "execution_count": 14,
     "metadata": {},
     "output_type": "execute_result"
    }
   ],
   "source": [
    "# y의 원핫인코딩\n",
    "\n",
    "from tensorflow.keras.utils import to_categorical\n",
    "\n",
    "Y = to_categorical(y, input_dim)\n",
    "X.shape, Y.shape, input_dim"
   ]
  },
  {
   "cell_type": "code",
   "execution_count": 16,
   "id": "2cfc44c0",
   "metadata": {},
   "outputs": [
    {
     "name": "stdout",
     "output_type": "stream",
     "text": [
      "Model: \"sequential\"\n",
      "_________________________________________________________________\n",
      " Layer (type)                Output Shape              Param #   \n",
      "=================================================================\n",
      " embedding (Embedding)       (None, 5, 10)             120       \n",
      "                                                                 \n",
      " simple_rnn (SimpleRNN)      (None, 32)                1376      \n",
      "                                                                 \n",
      " dense (Dense)               (None, 12)                396       \n",
      "                                                                 \n",
      "=================================================================\n",
      "Total params: 1,892\n",
      "Trainable params: 1,892\n",
      "Non-trainable params: 0\n",
      "_________________________________________________________________\n",
      "None\n"
     ]
    }
   ],
   "source": [
    "# 2. 모델 생성하기\n",
    "\n",
    "from tensorflow.keras.models import Sequential\n",
    "from tensorflow.keras.layers import Embedding  # Xi의 원핫인코딩한 희소행렬 변환\n",
    "from tensorflow.keras.layers import SimpleRNN, Dense\n",
    "import matplotlib.pyplot as plt\n",
    "\n",
    "model = Sequential()\n",
    "model.add(Embedding(input_dim = input_dim,  # 12개로 원핫인코딩\n",
    "                   output_dim = 10,  # 임베딩 출력의 갯수\n",
    "                   input_length = X.shape[1]))  # 입력(X)의 수\n",
    "model.add(SimpleRNN(units = 32))\n",
    "model.add(Dense(12, activation = 'softmax'))\n",
    "print(model.summary())"
   ]
  },
  {
   "cell_type": "code",
   "execution_count": 17,
   "id": "3b07727a",
   "metadata": {},
   "outputs": [],
   "source": [
    "# 3. 모델 학습 과정 설정\n",
    "\n",
    "model.compile(loss = 'categorical_crossentropy', \n",
    "              optimizer = 'adam',\n",
    "              metrics = ['accuracy'])"
   ]
  },
  {
   "cell_type": "code",
   "execution_count": 18,
   "id": "0fcc2332",
   "metadata": {},
   "outputs": [
    {
     "name": "stdout",
     "output_type": "stream",
     "text": [
      "Epoch 1/300\n",
      "1/1 - 1s - loss: 2.4834 - accuracy: 0.0000e+00 - 979ms/epoch - 979ms/step\n",
      "Epoch 2/300\n",
      "1/1 - 0s - loss: 2.4733 - accuracy: 0.0000e+00 - 4ms/epoch - 4ms/step\n",
      "Epoch 3/300\n",
      "1/1 - 0s - loss: 2.4630 - accuracy: 0.0357 - 5ms/epoch - 5ms/step\n",
      "Epoch 4/300\n",
      "1/1 - 0s - loss: 2.4526 - accuracy: 0.0357 - 4ms/epoch - 4ms/step\n",
      "Epoch 5/300\n",
      "1/1 - 0s - loss: 2.4420 - accuracy: 0.1071 - 5ms/epoch - 5ms/step\n",
      "Epoch 6/300\n",
      "1/1 - 0s - loss: 2.4312 - accuracy: 0.1429 - 4ms/epoch - 4ms/step\n",
      "Epoch 7/300\n",
      "1/1 - 0s - loss: 2.4199 - accuracy: 0.1429 - 4ms/epoch - 4ms/step\n",
      "Epoch 8/300\n",
      "1/1 - 0s - loss: 2.4083 - accuracy: 0.1071 - 3ms/epoch - 3ms/step\n",
      "Epoch 9/300\n",
      "1/1 - 0s - loss: 2.3962 - accuracy: 0.1786 - 5ms/epoch - 5ms/step\n",
      "Epoch 10/300\n",
      "1/1 - 0s - loss: 2.3835 - accuracy: 0.1786 - 5ms/epoch - 5ms/step\n",
      "Epoch 11/300\n",
      "1/1 - 0s - loss: 2.3703 - accuracy: 0.2143 - 6ms/epoch - 6ms/step\n",
      "Epoch 12/300\n",
      "1/1 - 0s - loss: 2.3565 - accuracy: 0.2143 - 5ms/epoch - 5ms/step\n",
      "Epoch 13/300\n",
      "1/1 - 0s - loss: 2.3420 - accuracy: 0.2143 - 4ms/epoch - 4ms/step\n",
      "Epoch 14/300\n",
      "1/1 - 0s - loss: 2.3270 - accuracy: 0.2500 - 5ms/epoch - 5ms/step\n",
      "Epoch 15/300\n",
      "1/1 - 0s - loss: 2.3113 - accuracy: 0.2857 - 4ms/epoch - 4ms/step\n",
      "Epoch 16/300\n",
      "1/1 - 0s - loss: 2.2949 - accuracy: 0.2857 - 4ms/epoch - 4ms/step\n",
      "Epoch 17/300\n",
      "1/1 - 0s - loss: 2.2780 - accuracy: 0.2857 - 6ms/epoch - 6ms/step\n",
      "Epoch 18/300\n",
      "1/1 - 0s - loss: 2.2606 - accuracy: 0.2857 - 5ms/epoch - 5ms/step\n",
      "Epoch 19/300\n",
      "1/1 - 0s - loss: 2.2428 - accuracy: 0.2857 - 5ms/epoch - 5ms/step\n",
      "Epoch 20/300\n",
      "1/1 - 0s - loss: 2.2246 - accuracy: 0.2857 - 6ms/epoch - 6ms/step\n",
      "Epoch 21/300\n",
      "1/1 - 0s - loss: 2.2062 - accuracy: 0.2857 - 5ms/epoch - 5ms/step\n",
      "Epoch 22/300\n",
      "1/1 - 0s - loss: 2.1877 - accuracy: 0.2500 - 5ms/epoch - 5ms/step\n",
      "Epoch 23/300\n",
      "1/1 - 0s - loss: 2.1691 - accuracy: 0.2500 - 5ms/epoch - 5ms/step\n",
      "Epoch 24/300\n",
      "1/1 - 0s - loss: 2.1506 - accuracy: 0.2500 - 5ms/epoch - 5ms/step\n",
      "Epoch 25/300\n",
      "1/1 - 0s - loss: 2.1323 - accuracy: 0.2500 - 5ms/epoch - 5ms/step\n",
      "Epoch 26/300\n",
      "1/1 - 0s - loss: 2.1142 - accuracy: 0.2500 - 7ms/epoch - 7ms/step\n",
      "Epoch 27/300\n",
      "1/1 - 0s - loss: 2.0965 - accuracy: 0.3214 - 5ms/epoch - 5ms/step\n",
      "Epoch 28/300\n",
      "1/1 - 0s - loss: 2.0792 - accuracy: 0.3571 - 5ms/epoch - 5ms/step\n",
      "Epoch 29/300\n",
      "1/1 - 0s - loss: 2.0624 - accuracy: 0.3571 - 5ms/epoch - 5ms/step\n",
      "Epoch 30/300\n",
      "1/1 - 0s - loss: 2.0461 - accuracy: 0.4286 - 5ms/epoch - 5ms/step\n",
      "Epoch 31/300\n",
      "1/1 - 0s - loss: 2.0305 - accuracy: 0.4286 - 6ms/epoch - 6ms/step\n",
      "Epoch 32/300\n",
      "1/1 - 0s - loss: 2.0156 - accuracy: 0.4286 - 5ms/epoch - 5ms/step\n",
      "Epoch 33/300\n",
      "1/1 - 0s - loss: 2.0015 - accuracy: 0.3571 - 6ms/epoch - 6ms/step\n",
      "Epoch 34/300\n",
      "1/1 - 0s - loss: 1.9882 - accuracy: 0.3571 - 9ms/epoch - 9ms/step\n",
      "Epoch 35/300\n",
      "1/1 - 0s - loss: 1.9757 - accuracy: 0.3571 - 6ms/epoch - 6ms/step\n",
      "Epoch 36/300\n",
      "1/1 - 0s - loss: 1.9640 - accuracy: 0.3571 - 5ms/epoch - 5ms/step\n",
      "Epoch 37/300\n",
      "1/1 - 0s - loss: 1.9530 - accuracy: 0.3214 - 5ms/epoch - 5ms/step\n",
      "Epoch 38/300\n",
      "1/1 - 0s - loss: 1.9426 - accuracy: 0.2857 - 5ms/epoch - 5ms/step\n",
      "Epoch 39/300\n",
      "1/1 - 0s - loss: 1.9326 - accuracy: 0.2857 - 4ms/epoch - 4ms/step\n",
      "Epoch 40/300\n",
      "1/1 - 0s - loss: 1.9230 - accuracy: 0.2857 - 5ms/epoch - 5ms/step\n",
      "Epoch 41/300\n",
      "1/1 - 0s - loss: 1.9136 - accuracy: 0.2857 - 6ms/epoch - 6ms/step\n",
      "Epoch 42/300\n",
      "1/1 - 0s - loss: 1.9043 - accuracy: 0.2857 - 5ms/epoch - 5ms/step\n",
      "Epoch 43/300\n",
      "1/1 - 0s - loss: 1.8951 - accuracy: 0.2857 - 6ms/epoch - 6ms/step\n",
      "Epoch 44/300\n",
      "1/1 - 0s - loss: 1.8859 - accuracy: 0.3214 - 5ms/epoch - 5ms/step\n",
      "Epoch 45/300\n",
      "1/1 - 0s - loss: 1.8767 - accuracy: 0.3214 - 3ms/epoch - 3ms/step\n",
      "Epoch 46/300\n",
      "1/1 - 0s - loss: 1.8676 - accuracy: 0.3214 - 5ms/epoch - 5ms/step\n",
      "Epoch 47/300\n",
      "1/1 - 0s - loss: 1.8586 - accuracy: 0.3571 - 5ms/epoch - 5ms/step\n",
      "Epoch 48/300\n",
      "1/1 - 0s - loss: 1.8498 - accuracy: 0.3571 - 6ms/epoch - 6ms/step\n",
      "Epoch 49/300\n",
      "1/1 - 0s - loss: 1.8411 - accuracy: 0.3571 - 4ms/epoch - 4ms/step\n",
      "Epoch 50/300\n",
      "1/1 - 0s - loss: 1.8325 - accuracy: 0.3571 - 5ms/epoch - 5ms/step\n",
      "Epoch 51/300\n",
      "1/1 - 0s - loss: 1.8241 - accuracy: 0.3929 - 4ms/epoch - 4ms/step\n",
      "Epoch 52/300\n",
      "1/1 - 0s - loss: 1.8156 - accuracy: 0.3929 - 5ms/epoch - 5ms/step\n",
      "Epoch 53/300\n",
      "1/1 - 0s - loss: 1.8071 - accuracy: 0.3929 - 5ms/epoch - 5ms/step\n",
      "Epoch 54/300\n",
      "1/1 - 0s - loss: 1.7984 - accuracy: 0.4286 - 4ms/epoch - 4ms/step\n",
      "Epoch 55/300\n",
      "1/1 - 0s - loss: 1.7897 - accuracy: 0.4286 - 5ms/epoch - 5ms/step\n",
      "Epoch 56/300\n",
      "1/1 - 0s - loss: 1.7807 - accuracy: 0.4286 - 5ms/epoch - 5ms/step\n",
      "Epoch 57/300\n",
      "1/1 - 0s - loss: 1.7714 - accuracy: 0.4643 - 4ms/epoch - 4ms/step\n",
      "Epoch 58/300\n",
      "1/1 - 0s - loss: 1.7620 - accuracy: 0.4643 - 5ms/epoch - 5ms/step\n",
      "Epoch 59/300\n",
      "1/1 - 0s - loss: 1.7524 - accuracy: 0.5000 - 4ms/epoch - 4ms/step\n",
      "Epoch 60/300\n",
      "1/1 - 0s - loss: 1.7426 - accuracy: 0.5000 - 4ms/epoch - 4ms/step\n",
      "Epoch 61/300\n",
      "1/1 - 0s - loss: 1.7326 - accuracy: 0.5000 - 5ms/epoch - 5ms/step\n",
      "Epoch 62/300\n",
      "1/1 - 0s - loss: 1.7225 - accuracy: 0.5000 - 4ms/epoch - 4ms/step\n",
      "Epoch 63/300\n",
      "1/1 - 0s - loss: 1.7121 - accuracy: 0.5000 - 4ms/epoch - 4ms/step\n",
      "Epoch 64/300\n",
      "1/1 - 0s - loss: 1.7015 - accuracy: 0.5000 - 4ms/epoch - 4ms/step\n",
      "Epoch 65/300\n",
      "1/1 - 0s - loss: 1.6906 - accuracy: 0.5000 - 4ms/epoch - 4ms/step\n",
      "Epoch 66/300\n",
      "1/1 - 0s - loss: 1.6794 - accuracy: 0.5000 - 5ms/epoch - 5ms/step\n",
      "Epoch 67/300\n",
      "1/1 - 0s - loss: 1.6678 - accuracy: 0.5000 - 5ms/epoch - 5ms/step\n",
      "Epoch 68/300\n",
      "1/1 - 0s - loss: 1.6559 - accuracy: 0.5000 - 3ms/epoch - 3ms/step\n",
      "Epoch 69/300\n",
      "1/1 - 0s - loss: 1.6437 - accuracy: 0.5000 - 5ms/epoch - 5ms/step\n",
      "Epoch 70/300\n",
      "1/1 - 0s - loss: 1.6311 - accuracy: 0.5000 - 3ms/epoch - 3ms/step\n",
      "Epoch 71/300\n",
      "1/1 - 0s - loss: 1.6181 - accuracy: 0.5000 - 6ms/epoch - 6ms/step\n",
      "Epoch 72/300\n",
      "1/1 - 0s - loss: 1.6048 - accuracy: 0.5000 - 4ms/epoch - 4ms/step\n",
      "Epoch 73/300\n",
      "1/1 - 0s - loss: 1.5912 - accuracy: 0.5357 - 5ms/epoch - 5ms/step\n",
      "Epoch 74/300\n",
      "1/1 - 0s - loss: 1.5774 - accuracy: 0.5357 - 5ms/epoch - 5ms/step\n",
      "Epoch 75/300\n",
      "1/1 - 0s - loss: 1.5632 - accuracy: 0.5357 - 3ms/epoch - 3ms/step\n",
      "Epoch 76/300\n",
      "1/1 - 0s - loss: 1.5489 - accuracy: 0.5357 - 4ms/epoch - 4ms/step\n",
      "Epoch 77/300\n",
      "1/1 - 0s - loss: 1.5343 - accuracy: 0.5357 - 6ms/epoch - 6ms/step\n",
      "Epoch 78/300\n",
      "1/1 - 0s - loss: 1.5195 - accuracy: 0.5357 - 4ms/epoch - 4ms/step\n",
      "Epoch 79/300\n",
      "1/1 - 0s - loss: 1.5045 - accuracy: 0.5357 - 5ms/epoch - 5ms/step\n",
      "Epoch 80/300\n",
      "1/1 - 0s - loss: 1.4894 - accuracy: 0.5714 - 5ms/epoch - 5ms/step\n",
      "Epoch 81/300\n",
      "1/1 - 0s - loss: 1.4741 - accuracy: 0.5714 - 5ms/epoch - 5ms/step\n",
      "Epoch 82/300\n",
      "1/1 - 0s - loss: 1.4587 - accuracy: 0.5714 - 4ms/epoch - 4ms/step\n",
      "Epoch 83/300\n",
      "1/1 - 0s - loss: 1.4433 - accuracy: 0.5714 - 5ms/epoch - 5ms/step\n",
      "Epoch 84/300\n",
      "1/1 - 0s - loss: 1.4278 - accuracy: 0.5714 - 4ms/epoch - 4ms/step\n",
      "Epoch 85/300\n",
      "1/1 - 0s - loss: 1.4123 - accuracy: 0.5714 - 5ms/epoch - 5ms/step\n",
      "Epoch 86/300\n",
      "1/1 - 0s - loss: 1.3968 - accuracy: 0.5714 - 4ms/epoch - 4ms/step\n",
      "Epoch 87/300\n",
      "1/1 - 0s - loss: 1.3813 - accuracy: 0.5714 - 4ms/epoch - 4ms/step\n",
      "Epoch 88/300\n",
      "1/1 - 0s - loss: 1.3660 - accuracy: 0.6071 - 5ms/epoch - 5ms/step\n",
      "Epoch 89/300\n",
      "1/1 - 0s - loss: 1.3507 - accuracy: 0.6071 - 5ms/epoch - 5ms/step\n",
      "Epoch 90/300\n",
      "1/1 - 0s - loss: 1.3356 - accuracy: 0.6071 - 4ms/epoch - 4ms/step\n",
      "Epoch 91/300\n",
      "1/1 - 0s - loss: 1.3206 - accuracy: 0.6071 - 5ms/epoch - 5ms/step\n",
      "Epoch 92/300\n",
      "1/1 - 0s - loss: 1.3057 - accuracy: 0.6071 - 4ms/epoch - 4ms/step\n",
      "Epoch 93/300\n",
      "1/1 - 0s - loss: 1.2911 - accuracy: 0.6071 - 3ms/epoch - 3ms/step\n",
      "Epoch 94/300\n",
      "1/1 - 0s - loss: 1.2766 - accuracy: 0.6071 - 5ms/epoch - 5ms/step\n",
      "Epoch 95/300\n",
      "1/1 - 0s - loss: 1.2623 - accuracy: 0.6071 - 5ms/epoch - 5ms/step\n",
      "Epoch 96/300\n",
      "1/1 - 0s - loss: 1.2483 - accuracy: 0.6071 - 5ms/epoch - 5ms/step\n",
      "Epoch 97/300\n",
      "1/1 - 0s - loss: 1.2344 - accuracy: 0.6071 - 4ms/epoch - 4ms/step\n",
      "Epoch 98/300\n",
      "1/1 - 0s - loss: 1.2208 - accuracy: 0.6071 - 5ms/epoch - 5ms/step\n",
      "Epoch 99/300\n",
      "1/1 - 0s - loss: 1.2073 - accuracy: 0.6071 - 4ms/epoch - 4ms/step\n",
      "Epoch 100/300\n",
      "1/1 - 0s - loss: 1.1941 - accuracy: 0.6071 - 4ms/epoch - 4ms/step\n",
      "Epoch 101/300\n",
      "1/1 - 0s - loss: 1.1812 - accuracy: 0.6071 - 3ms/epoch - 3ms/step\n",
      "Epoch 102/300\n",
      "1/1 - 0s - loss: 1.1684 - accuracy: 0.6071 - 4ms/epoch - 4ms/step\n",
      "Epoch 103/300\n",
      "1/1 - 0s - loss: 1.1558 - accuracy: 0.6071 - 4ms/epoch - 4ms/step\n",
      "Epoch 104/300\n",
      "1/1 - 0s - loss: 1.1435 - accuracy: 0.6071 - 4ms/epoch - 4ms/step\n"
     ]
    },
    {
     "name": "stdout",
     "output_type": "stream",
     "text": [
      "Epoch 105/300\n",
      "1/1 - 0s - loss: 1.1313 - accuracy: 0.6071 - 4ms/epoch - 4ms/step\n",
      "Epoch 106/300\n",
      "1/1 - 0s - loss: 1.1194 - accuracy: 0.6071 - 4ms/epoch - 4ms/step\n",
      "Epoch 107/300\n",
      "1/1 - 0s - loss: 1.1076 - accuracy: 0.6429 - 5ms/epoch - 5ms/step\n",
      "Epoch 108/300\n",
      "1/1 - 0s - loss: 1.0960 - accuracy: 0.6429 - 4ms/epoch - 4ms/step\n",
      "Epoch 109/300\n",
      "1/1 - 0s - loss: 1.0846 - accuracy: 0.6429 - 4ms/epoch - 4ms/step\n",
      "Epoch 110/300\n",
      "1/1 - 0s - loss: 1.0734 - accuracy: 0.6429 - 4ms/epoch - 4ms/step\n",
      "Epoch 111/300\n",
      "1/1 - 0s - loss: 1.0624 - accuracy: 0.6429 - 4ms/epoch - 4ms/step\n",
      "Epoch 112/300\n",
      "1/1 - 0s - loss: 1.0516 - accuracy: 0.6429 - 4ms/epoch - 4ms/step\n",
      "Epoch 113/300\n",
      "1/1 - 0s - loss: 1.0409 - accuracy: 0.6786 - 4ms/epoch - 4ms/step\n",
      "Epoch 114/300\n",
      "1/1 - 0s - loss: 1.0304 - accuracy: 0.6786 - 4ms/epoch - 4ms/step\n",
      "Epoch 115/300\n",
      "1/1 - 0s - loss: 1.0200 - accuracy: 0.6786 - 5ms/epoch - 5ms/step\n",
      "Epoch 116/300\n",
      "1/1 - 0s - loss: 1.0098 - accuracy: 0.7143 - 5ms/epoch - 5ms/step\n",
      "Epoch 117/300\n",
      "1/1 - 0s - loss: 0.9998 - accuracy: 0.7143 - 4ms/epoch - 4ms/step\n",
      "Epoch 118/300\n",
      "1/1 - 0s - loss: 0.9899 - accuracy: 0.7143 - 4ms/epoch - 4ms/step\n",
      "Epoch 119/300\n",
      "1/1 - 0s - loss: 0.9802 - accuracy: 0.7143 - 5ms/epoch - 5ms/step\n",
      "Epoch 120/300\n",
      "1/1 - 0s - loss: 0.9706 - accuracy: 0.7143 - 3ms/epoch - 3ms/step\n",
      "Epoch 121/300\n",
      "1/1 - 0s - loss: 0.9611 - accuracy: 0.7143 - 5ms/epoch - 5ms/step\n",
      "Epoch 122/300\n",
      "1/1 - 0s - loss: 0.9518 - accuracy: 0.7500 - 4ms/epoch - 4ms/step\n",
      "Epoch 123/300\n",
      "1/1 - 0s - loss: 0.9426 - accuracy: 0.7500 - 6ms/epoch - 6ms/step\n",
      "Epoch 124/300\n",
      "1/1 - 0s - loss: 0.9335 - accuracy: 0.7500 - 4ms/epoch - 4ms/step\n",
      "Epoch 125/300\n",
      "1/1 - 0s - loss: 0.9245 - accuracy: 0.7500 - 5ms/epoch - 5ms/step\n",
      "Epoch 126/300\n",
      "1/1 - 0s - loss: 0.9157 - accuracy: 0.7500 - 4ms/epoch - 4ms/step\n",
      "Epoch 127/300\n",
      "1/1 - 0s - loss: 0.9070 - accuracy: 0.7500 - 4ms/epoch - 4ms/step\n",
      "Epoch 128/300\n",
      "1/1 - 0s - loss: 0.8984 - accuracy: 0.7500 - 5ms/epoch - 5ms/step\n",
      "Epoch 129/300\n",
      "1/1 - 0s - loss: 0.8899 - accuracy: 0.7500 - 4ms/epoch - 4ms/step\n",
      "Epoch 130/300\n",
      "1/1 - 0s - loss: 0.8815 - accuracy: 0.7500 - 5ms/epoch - 5ms/step\n",
      "Epoch 131/300\n",
      "1/1 - 0s - loss: 0.8732 - accuracy: 0.7500 - 3ms/epoch - 3ms/step\n",
      "Epoch 132/300\n",
      "1/1 - 0s - loss: 0.8650 - accuracy: 0.7500 - 5ms/epoch - 5ms/step\n",
      "Epoch 133/300\n",
      "1/1 - 0s - loss: 0.8569 - accuracy: 0.7500 - 4ms/epoch - 4ms/step\n",
      "Epoch 134/300\n",
      "1/1 - 0s - loss: 0.8490 - accuracy: 0.7500 - 5ms/epoch - 5ms/step\n",
      "Epoch 135/300\n",
      "1/1 - 0s - loss: 0.8411 - accuracy: 0.7500 - 5ms/epoch - 5ms/step\n",
      "Epoch 136/300\n",
      "1/1 - 0s - loss: 0.8333 - accuracy: 0.7500 - 5ms/epoch - 5ms/step\n",
      "Epoch 137/300\n",
      "1/1 - 0s - loss: 0.8256 - accuracy: 0.7500 - 5ms/epoch - 5ms/step\n",
      "Epoch 138/300\n",
      "1/1 - 0s - loss: 0.8181 - accuracy: 0.7500 - 4ms/epoch - 4ms/step\n",
      "Epoch 139/300\n",
      "1/1 - 0s - loss: 0.8106 - accuracy: 0.7500 - 4ms/epoch - 4ms/step\n",
      "Epoch 140/300\n",
      "1/1 - 0s - loss: 0.8032 - accuracy: 0.7500 - 4ms/epoch - 4ms/step\n",
      "Epoch 141/300\n",
      "1/1 - 0s - loss: 0.7959 - accuracy: 0.7500 - 4ms/epoch - 4ms/step\n",
      "Epoch 142/300\n",
      "1/1 - 0s - loss: 0.7886 - accuracy: 0.7857 - 4ms/epoch - 4ms/step\n",
      "Epoch 143/300\n",
      "1/1 - 0s - loss: 0.7815 - accuracy: 0.7857 - 5ms/epoch - 5ms/step\n",
      "Epoch 144/300\n",
      "1/1 - 0s - loss: 0.7745 - accuracy: 0.7857 - 4ms/epoch - 4ms/step\n",
      "Epoch 145/300\n",
      "1/1 - 0s - loss: 0.7675 - accuracy: 0.7857 - 4ms/epoch - 4ms/step\n",
      "Epoch 146/300\n",
      "1/1 - 0s - loss: 0.7606 - accuracy: 0.7857 - 4ms/epoch - 4ms/step\n",
      "Epoch 147/300\n",
      "1/1 - 0s - loss: 0.7538 - accuracy: 0.7857 - 3ms/epoch - 3ms/step\n",
      "Epoch 148/300\n",
      "1/1 - 0s - loss: 0.7471 - accuracy: 0.7857 - 5ms/epoch - 5ms/step\n",
      "Epoch 149/300\n",
      "1/1 - 0s - loss: 0.7405 - accuracy: 0.7857 - 4ms/epoch - 4ms/step\n",
      "Epoch 150/300\n",
      "1/1 - 0s - loss: 0.7339 - accuracy: 0.7857 - 4ms/epoch - 4ms/step\n",
      "Epoch 151/300\n",
      "1/1 - 0s - loss: 0.7275 - accuracy: 0.7857 - 5ms/epoch - 5ms/step\n",
      "Epoch 152/300\n",
      "1/1 - 0s - loss: 0.7211 - accuracy: 0.7857 - 5ms/epoch - 5ms/step\n",
      "Epoch 153/300\n",
      "1/1 - 0s - loss: 0.7148 - accuracy: 0.7857 - 4ms/epoch - 4ms/step\n",
      "Epoch 154/300\n",
      "1/1 - 0s - loss: 0.7085 - accuracy: 0.7857 - 5ms/epoch - 5ms/step\n",
      "Epoch 155/300\n",
      "1/1 - 0s - loss: 0.7024 - accuracy: 0.8214 - 4ms/epoch - 4ms/step\n",
      "Epoch 156/300\n",
      "1/1 - 0s - loss: 0.6963 - accuracy: 0.8214 - 4ms/epoch - 4ms/step\n",
      "Epoch 157/300\n",
      "1/1 - 0s - loss: 0.6903 - accuracy: 0.8214 - 5ms/epoch - 5ms/step\n",
      "Epoch 158/300\n",
      "1/1 - 0s - loss: 0.6844 - accuracy: 0.8214 - 4ms/epoch - 4ms/step\n",
      "Epoch 159/300\n",
      "1/1 - 0s - loss: 0.6785 - accuracy: 0.8214 - 4ms/epoch - 4ms/step\n",
      "Epoch 160/300\n",
      "1/1 - 0s - loss: 0.6727 - accuracy: 0.8214 - 4ms/epoch - 4ms/step\n",
      "Epoch 161/300\n",
      "1/1 - 0s - loss: 0.6670 - accuracy: 0.8214 - 5ms/epoch - 5ms/step\n",
      "Epoch 162/300\n",
      "1/1 - 0s - loss: 0.6614 - accuracy: 0.8214 - 5ms/epoch - 5ms/step\n",
      "Epoch 163/300\n",
      "1/1 - 0s - loss: 0.6558 - accuracy: 0.8214 - 5ms/epoch - 5ms/step\n",
      "Epoch 164/300\n",
      "1/1 - 0s - loss: 0.6503 - accuracy: 0.8214 - 5ms/epoch - 5ms/step\n",
      "Epoch 165/300\n",
      "1/1 - 0s - loss: 0.6449 - accuracy: 0.8214 - 5ms/epoch - 5ms/step\n",
      "Epoch 166/300\n",
      "1/1 - 0s - loss: 0.6396 - accuracy: 0.8214 - 6ms/epoch - 6ms/step\n",
      "Epoch 167/300\n",
      "1/1 - 0s - loss: 0.6343 - accuracy: 0.8214 - 5ms/epoch - 5ms/step\n",
      "Epoch 168/300\n",
      "1/1 - 0s - loss: 0.6291 - accuracy: 0.8214 - 4ms/epoch - 4ms/step\n",
      "Epoch 169/300\n",
      "1/1 - 0s - loss: 0.6239 - accuracy: 0.8214 - 4ms/epoch - 4ms/step\n",
      "Epoch 170/300\n",
      "1/1 - 0s - loss: 0.6189 - accuracy: 0.8214 - 5ms/epoch - 5ms/step\n",
      "Epoch 171/300\n",
      "1/1 - 0s - loss: 0.6139 - accuracy: 0.8214 - 4ms/epoch - 4ms/step\n",
      "Epoch 172/300\n",
      "1/1 - 0s - loss: 0.6089 - accuracy: 0.8214 - 4ms/epoch - 4ms/step\n",
      "Epoch 173/300\n",
      "1/1 - 0s - loss: 0.6040 - accuracy: 0.8214 - 3ms/epoch - 3ms/step\n",
      "Epoch 174/300\n",
      "1/1 - 0s - loss: 0.5992 - accuracy: 0.8214 - 4ms/epoch - 4ms/step\n",
      "Epoch 175/300\n",
      "1/1 - 0s - loss: 0.5945 - accuracy: 0.8214 - 4ms/epoch - 4ms/step\n",
      "Epoch 176/300\n",
      "1/1 - 0s - loss: 0.5898 - accuracy: 0.8214 - 4ms/epoch - 4ms/step\n",
      "Epoch 177/300\n",
      "1/1 - 0s - loss: 0.5852 - accuracy: 0.8214 - 5ms/epoch - 5ms/step\n",
      "Epoch 178/300\n",
      "1/1 - 0s - loss: 0.5806 - accuracy: 0.8214 - 4ms/epoch - 4ms/step\n",
      "Epoch 179/300\n",
      "1/1 - 0s - loss: 0.5761 - accuracy: 0.8214 - 5ms/epoch - 5ms/step\n",
      "Epoch 180/300\n",
      "1/1 - 0s - loss: 0.5717 - accuracy: 0.8214 - 4ms/epoch - 4ms/step\n",
      "Epoch 181/300\n",
      "1/1 - 0s - loss: 0.5673 - accuracy: 0.8214 - 5ms/epoch - 5ms/step\n",
      "Epoch 182/300\n",
      "1/1 - 0s - loss: 0.5630 - accuracy: 0.8214 - 4ms/epoch - 4ms/step\n",
      "Epoch 183/300\n",
      "1/1 - 0s - loss: 0.5587 - accuracy: 0.8214 - 5ms/epoch - 5ms/step\n",
      "Epoch 184/300\n",
      "1/1 - 0s - loss: 0.5545 - accuracy: 0.8214 - 4ms/epoch - 4ms/step\n",
      "Epoch 185/300\n",
      "1/1 - 0s - loss: 0.5504 - accuracy: 0.8214 - 4ms/epoch - 4ms/step\n",
      "Epoch 186/300\n",
      "1/1 - 0s - loss: 0.5463 - accuracy: 0.8214 - 4ms/epoch - 4ms/step\n",
      "Epoch 187/300\n",
      "1/1 - 0s - loss: 0.5422 - accuracy: 0.8214 - 4ms/epoch - 4ms/step\n",
      "Epoch 188/300\n",
      "1/1 - 0s - loss: 0.5382 - accuracy: 0.8214 - 5ms/epoch - 5ms/step\n",
      "Epoch 189/300\n",
      "1/1 - 0s - loss: 0.5343 - accuracy: 0.8214 - 4ms/epoch - 4ms/step\n",
      "Epoch 190/300\n",
      "1/1 - 0s - loss: 0.5304 - accuracy: 0.8214 - 5ms/epoch - 5ms/step\n",
      "Epoch 191/300\n",
      "1/1 - 0s - loss: 0.5266 - accuracy: 0.8214 - 4ms/epoch - 4ms/step\n",
      "Epoch 192/300\n",
      "1/1 - 0s - loss: 0.5228 - accuracy: 0.8214 - 3ms/epoch - 3ms/step\n",
      "Epoch 193/300\n",
      "1/1 - 0s - loss: 0.5191 - accuracy: 0.8214 - 4ms/epoch - 4ms/step\n",
      "Epoch 194/300\n",
      "1/1 - 0s - loss: 0.5154 - accuracy: 0.8214 - 4ms/epoch - 4ms/step\n",
      "Epoch 195/300\n",
      "1/1 - 0s - loss: 0.5118 - accuracy: 0.8214 - 5ms/epoch - 5ms/step\n",
      "Epoch 196/300\n",
      "1/1 - 0s - loss: 0.5082 - accuracy: 0.8214 - 4ms/epoch - 4ms/step\n",
      "Epoch 197/300\n",
      "1/1 - 0s - loss: 0.5047 - accuracy: 0.8214 - 5ms/epoch - 5ms/step\n",
      "Epoch 198/300\n",
      "1/1 - 0s - loss: 0.5012 - accuracy: 0.8214 - 5ms/epoch - 5ms/step\n",
      "Epoch 199/300\n",
      "1/1 - 0s - loss: 0.4977 - accuracy: 0.8214 - 5ms/epoch - 5ms/step\n",
      "Epoch 200/300\n",
      "1/1 - 0s - loss: 0.4943 - accuracy: 0.8214 - 13ms/epoch - 13ms/step\n",
      "Epoch 201/300\n",
      "1/1 - 0s - loss: 0.4910 - accuracy: 0.8214 - 4ms/epoch - 4ms/step\n",
      "Epoch 202/300\n",
      "1/1 - 0s - loss: 0.4876 - accuracy: 0.8214 - 6ms/epoch - 6ms/step\n",
      "Epoch 203/300\n",
      "1/1 - 0s - loss: 0.4844 - accuracy: 0.8214 - 4ms/epoch - 4ms/step\n",
      "Epoch 204/300\n",
      "1/1 - 0s - loss: 0.4811 - accuracy: 0.8214 - 5ms/epoch - 5ms/step\n",
      "Epoch 205/300\n",
      "1/1 - 0s - loss: 0.4779 - accuracy: 0.8214 - 5ms/epoch - 5ms/step\n",
      "Epoch 206/300\n",
      "1/1 - 0s - loss: 0.4748 - accuracy: 0.8214 - 4ms/epoch - 4ms/step\n",
      "Epoch 207/300\n",
      "1/1 - 0s - loss: 0.4717 - accuracy: 0.8214 - 4ms/epoch - 4ms/step\n"
     ]
    },
    {
     "name": "stdout",
     "output_type": "stream",
     "text": [
      "Epoch 208/300\n",
      "1/1 - 0s - loss: 0.4686 - accuracy: 0.8214 - 4ms/epoch - 4ms/step\n",
      "Epoch 209/300\n",
      "1/1 - 0s - loss: 0.4655 - accuracy: 0.8214 - 5ms/epoch - 5ms/step\n",
      "Epoch 210/300\n",
      "1/1 - 0s - loss: 0.4625 - accuracy: 0.8571 - 4ms/epoch - 4ms/step\n",
      "Epoch 211/300\n",
      "1/1 - 0s - loss: 0.4596 - accuracy: 0.8571 - 5ms/epoch - 5ms/step\n",
      "Epoch 212/300\n",
      "1/1 - 0s - loss: 0.4566 - accuracy: 0.8571 - 5ms/epoch - 5ms/step\n",
      "Epoch 213/300\n",
      "1/1 - 0s - loss: 0.4537 - accuracy: 0.8571 - 4ms/epoch - 4ms/step\n",
      "Epoch 214/300\n",
      "1/1 - 0s - loss: 0.4509 - accuracy: 0.8571 - 5ms/epoch - 5ms/step\n",
      "Epoch 215/300\n",
      "1/1 - 0s - loss: 0.4480 - accuracy: 0.8571 - 4ms/epoch - 4ms/step\n",
      "Epoch 216/300\n",
      "1/1 - 0s - loss: 0.4452 - accuracy: 0.8571 - 5ms/epoch - 5ms/step\n",
      "Epoch 217/300\n",
      "1/1 - 0s - loss: 0.4425 - accuracy: 0.8571 - 4ms/epoch - 4ms/step\n",
      "Epoch 218/300\n",
      "1/1 - 0s - loss: 0.4398 - accuracy: 0.8571 - 6ms/epoch - 6ms/step\n",
      "Epoch 219/300\n",
      "1/1 - 0s - loss: 0.4371 - accuracy: 0.8571 - 4ms/epoch - 4ms/step\n",
      "Epoch 220/300\n",
      "1/1 - 0s - loss: 0.4344 - accuracy: 0.8571 - 5ms/epoch - 5ms/step\n",
      "Epoch 221/300\n",
      "1/1 - 0s - loss: 0.4317 - accuracy: 0.8571 - 4ms/epoch - 4ms/step\n",
      "Epoch 222/300\n",
      "1/1 - 0s - loss: 0.4291 - accuracy: 0.8571 - 3ms/epoch - 3ms/step\n",
      "Epoch 223/300\n",
      "1/1 - 0s - loss: 0.4266 - accuracy: 0.8571 - 5ms/epoch - 5ms/step\n",
      "Epoch 224/300\n",
      "1/1 - 0s - loss: 0.4240 - accuracy: 0.8571 - 3ms/epoch - 3ms/step\n",
      "Epoch 225/300\n",
      "1/1 - 0s - loss: 0.4215 - accuracy: 0.8571 - 4ms/epoch - 4ms/step\n",
      "Epoch 226/300\n",
      "1/1 - 0s - loss: 0.4190 - accuracy: 0.8571 - 4ms/epoch - 4ms/step\n",
      "Epoch 227/300\n",
      "1/1 - 0s - loss: 0.4166 - accuracy: 0.8571 - 5ms/epoch - 5ms/step\n",
      "Epoch 228/300\n",
      "1/1 - 0s - loss: 0.4141 - accuracy: 0.8571 - 4ms/epoch - 4ms/step\n",
      "Epoch 229/300\n",
      "1/1 - 0s - loss: 0.4117 - accuracy: 0.8571 - 4ms/epoch - 4ms/step\n",
      "Epoch 230/300\n",
      "1/1 - 0s - loss: 0.4093 - accuracy: 0.8929 - 3ms/epoch - 3ms/step\n",
      "Epoch 231/300\n",
      "1/1 - 0s - loss: 0.4070 - accuracy: 0.8929 - 4ms/epoch - 4ms/step\n",
      "Epoch 232/300\n",
      "1/1 - 0s - loss: 0.4047 - accuracy: 0.8929 - 4ms/epoch - 4ms/step\n",
      "Epoch 233/300\n",
      "1/1 - 0s - loss: 0.4024 - accuracy: 0.8929 - 5ms/epoch - 5ms/step\n",
      "Epoch 234/300\n",
      "1/1 - 0s - loss: 0.4001 - accuracy: 0.8929 - 4ms/epoch - 4ms/step\n",
      "Epoch 235/300\n",
      "1/1 - 0s - loss: 0.3978 - accuracy: 0.8929 - 4ms/epoch - 4ms/step\n",
      "Epoch 236/300\n",
      "1/1 - 0s - loss: 0.3956 - accuracy: 0.8929 - 4ms/epoch - 4ms/step\n",
      "Epoch 237/300\n",
      "1/1 - 0s - loss: 0.3934 - accuracy: 0.8929 - 5ms/epoch - 5ms/step\n",
      "Epoch 238/300\n",
      "1/1 - 0s - loss: 0.3912 - accuracy: 0.8929 - 5ms/epoch - 5ms/step\n",
      "Epoch 239/300\n",
      "1/1 - 0s - loss: 0.3891 - accuracy: 0.8929 - 4ms/epoch - 4ms/step\n",
      "Epoch 240/300\n",
      "1/1 - 0s - loss: 0.3870 - accuracy: 0.8929 - 4ms/epoch - 4ms/step\n",
      "Epoch 241/300\n",
      "1/1 - 0s - loss: 0.3849 - accuracy: 0.8929 - 5ms/epoch - 5ms/step\n",
      "Epoch 242/300\n",
      "1/1 - 0s - loss: 0.3828 - accuracy: 0.8929 - 4ms/epoch - 4ms/step\n",
      "Epoch 243/300\n",
      "1/1 - 0s - loss: 0.3808 - accuracy: 0.8929 - 5ms/epoch - 5ms/step\n",
      "Epoch 244/300\n",
      "1/1 - 0s - loss: 0.3787 - accuracy: 0.8929 - 5ms/epoch - 5ms/step\n",
      "Epoch 245/300\n",
      "1/1 - 0s - loss: 0.3767 - accuracy: 0.8929 - 4ms/epoch - 4ms/step\n",
      "Epoch 246/300\n",
      "1/1 - 0s - loss: 0.3747 - accuracy: 0.8929 - 4ms/epoch - 4ms/step\n",
      "Epoch 247/300\n",
      "1/1 - 0s - loss: 0.3728 - accuracy: 0.8929 - 4ms/epoch - 4ms/step\n",
      "Epoch 248/300\n",
      "1/1 - 0s - loss: 0.3708 - accuracy: 0.8929 - 5ms/epoch - 5ms/step\n",
      "Epoch 249/300\n",
      "1/1 - 0s - loss: 0.3689 - accuracy: 0.8929 - 4ms/epoch - 4ms/step\n",
      "Epoch 250/300\n",
      "1/1 - 0s - loss: 0.3670 - accuracy: 0.8929 - 5ms/epoch - 5ms/step\n",
      "Epoch 251/300\n",
      "1/1 - 0s - loss: 0.3651 - accuracy: 0.8929 - 5ms/epoch - 5ms/step\n",
      "Epoch 252/300\n",
      "1/1 - 0s - loss: 0.3633 - accuracy: 0.8929 - 5ms/epoch - 5ms/step\n",
      "Epoch 253/300\n",
      "1/1 - 0s - loss: 0.3615 - accuracy: 0.8929 - 5ms/epoch - 5ms/step\n",
      "Epoch 254/300\n",
      "1/1 - 0s - loss: 0.3597 - accuracy: 0.8929 - 4ms/epoch - 4ms/step\n",
      "Epoch 255/300\n",
      "1/1 - 0s - loss: 0.3579 - accuracy: 0.8929 - 5ms/epoch - 5ms/step\n",
      "Epoch 256/300\n",
      "1/1 - 0s - loss: 0.3561 - accuracy: 0.8929 - 3ms/epoch - 3ms/step\n",
      "Epoch 257/300\n",
      "1/1 - 0s - loss: 0.3544 - accuracy: 0.8929 - 5ms/epoch - 5ms/step\n",
      "Epoch 258/300\n",
      "1/1 - 0s - loss: 0.3526 - accuracy: 0.8929 - 4ms/epoch - 4ms/step\n",
      "Epoch 259/300\n",
      "1/1 - 0s - loss: 0.3509 - accuracy: 0.8929 - 4ms/epoch - 4ms/step\n",
      "Epoch 260/300\n",
      "1/1 - 0s - loss: 0.3492 - accuracy: 0.8929 - 6ms/epoch - 6ms/step\n",
      "Epoch 261/300\n",
      "1/1 - 0s - loss: 0.3476 - accuracy: 0.8929 - 3ms/epoch - 3ms/step\n",
      "Epoch 262/300\n",
      "1/1 - 0s - loss: 0.3459 - accuracy: 0.8929 - 5ms/epoch - 5ms/step\n",
      "Epoch 263/300\n",
      "1/1 - 0s - loss: 0.3443 - accuracy: 0.8929 - 3ms/epoch - 3ms/step\n",
      "Epoch 264/300\n",
      "1/1 - 0s - loss: 0.3427 - accuracy: 0.8929 - 5ms/epoch - 5ms/step\n",
      "Epoch 265/300\n",
      "1/1 - 0s - loss: 0.3411 - accuracy: 0.8929 - 4ms/epoch - 4ms/step\n",
      "Epoch 266/300\n",
      "1/1 - 0s - loss: 0.3395 - accuracy: 0.8929 - 4ms/epoch - 4ms/step\n",
      "Epoch 267/300\n",
      "1/1 - 0s - loss: 0.3380 - accuracy: 0.8929 - 4ms/epoch - 4ms/step\n",
      "Epoch 268/300\n",
      "1/1 - 0s - loss: 0.3365 - accuracy: 0.8929 - 5ms/epoch - 5ms/step\n",
      "Epoch 269/300\n",
      "1/1 - 0s - loss: 0.3349 - accuracy: 0.8929 - 5ms/epoch - 5ms/step\n",
      "Epoch 270/300\n",
      "1/1 - 0s - loss: 0.3334 - accuracy: 0.8929 - 3ms/epoch - 3ms/step\n",
      "Epoch 271/300\n",
      "1/1 - 0s - loss: 0.3320 - accuracy: 0.8929 - 6ms/epoch - 6ms/step\n",
      "Epoch 272/300\n",
      "1/1 - 0s - loss: 0.3305 - accuracy: 0.8929 - 4ms/epoch - 4ms/step\n",
      "Epoch 273/300\n",
      "1/1 - 0s - loss: 0.3291 - accuracy: 0.8929 - 5ms/epoch - 5ms/step\n",
      "Epoch 274/300\n",
      "1/1 - 0s - loss: 0.3276 - accuracy: 0.8929 - 4ms/epoch - 4ms/step\n",
      "Epoch 275/300\n",
      "1/1 - 0s - loss: 0.3262 - accuracy: 0.8929 - 4ms/epoch - 4ms/step\n",
      "Epoch 276/300\n",
      "1/1 - 0s - loss: 0.3248 - accuracy: 0.8929 - 4ms/epoch - 4ms/step\n",
      "Epoch 277/300\n",
      "1/1 - 0s - loss: 0.3235 - accuracy: 0.8929 - 4ms/epoch - 4ms/step\n",
      "Epoch 278/300\n",
      "1/1 - 0s - loss: 0.3221 - accuracy: 0.8929 - 5ms/epoch - 5ms/step\n",
      "Epoch 279/300\n",
      "1/1 - 0s - loss: 0.3208 - accuracy: 0.8929 - 3ms/epoch - 3ms/step\n",
      "Epoch 280/300\n",
      "1/1 - 0s - loss: 0.3194 - accuracy: 0.8929 - 5ms/epoch - 5ms/step\n",
      "Epoch 281/300\n",
      "1/1 - 0s - loss: 0.3181 - accuracy: 0.8929 - 4ms/epoch - 4ms/step\n",
      "Epoch 282/300\n",
      "1/1 - 0s - loss: 0.3168 - accuracy: 0.8929 - 5ms/epoch - 5ms/step\n",
      "Epoch 283/300\n",
      "1/1 - 0s - loss: 0.3156 - accuracy: 0.8929 - 4ms/epoch - 4ms/step\n",
      "Epoch 284/300\n",
      "1/1 - 0s - loss: 0.3143 - accuracy: 0.8929 - 6ms/epoch - 6ms/step\n",
      "Epoch 285/300\n",
      "1/1 - 0s - loss: 0.3131 - accuracy: 0.8929 - 3ms/epoch - 3ms/step\n",
      "Epoch 286/300\n",
      "1/1 - 0s - loss: 0.3118 - accuracy: 0.8929 - 5ms/epoch - 5ms/step\n",
      "Epoch 287/300\n",
      "1/1 - 0s - loss: 0.3106 - accuracy: 0.8929 - 4ms/epoch - 4ms/step\n",
      "Epoch 288/300\n",
      "1/1 - 0s - loss: 0.3094 - accuracy: 0.8929 - 5ms/epoch - 5ms/step\n",
      "Epoch 289/300\n",
      "1/1 - 0s - loss: 0.3083 - accuracy: 0.8929 - 5ms/epoch - 5ms/step\n",
      "Epoch 290/300\n",
      "1/1 - 0s - loss: 0.3071 - accuracy: 0.8929 - 4ms/epoch - 4ms/step\n",
      "Epoch 291/300\n",
      "1/1 - 0s - loss: 0.3059 - accuracy: 0.8929 - 6ms/epoch - 6ms/step\n",
      "Epoch 292/300\n",
      "1/1 - 0s - loss: 0.3048 - accuracy: 0.8929 - 10ms/epoch - 10ms/step\n",
      "Epoch 293/300\n",
      "1/1 - 0s - loss: 0.3037 - accuracy: 0.8929 - 5ms/epoch - 5ms/step\n",
      "Epoch 294/300\n",
      "1/1 - 0s - loss: 0.3026 - accuracy: 0.8929 - 4ms/epoch - 4ms/step\n",
      "Epoch 295/300\n",
      "1/1 - 0s - loss: 0.3015 - accuracy: 0.8929 - 4ms/epoch - 4ms/step\n",
      "Epoch 296/300\n",
      "1/1 - 0s - loss: 0.3004 - accuracy: 0.8929 - 5ms/epoch - 5ms/step\n",
      "Epoch 297/300\n",
      "1/1 - 0s - loss: 0.2993 - accuracy: 0.8929 - 4ms/epoch - 4ms/step\n",
      "Epoch 298/300\n",
      "1/1 - 0s - loss: 0.2983 - accuracy: 0.8929 - 5ms/epoch - 5ms/step\n",
      "Epoch 299/300\n",
      "1/1 - 0s - loss: 0.2972 - accuracy: 0.8929 - 4ms/epoch - 4ms/step\n",
      "Epoch 300/300\n",
      "1/1 - 0s - loss: 0.2962 - accuracy: 0.8929 - 5ms/epoch - 5ms/step\n"
     ]
    }
   ],
   "source": [
    "# 4. 모델 학습시키기\n",
    "\n",
    "hist = model.fit(X, Y, epochs = 300, verbose = 2)"
   ]
  },
  {
   "cell_type": "code",
   "execution_count": 19,
   "id": "39611858",
   "metadata": {},
   "outputs": [
    {
     "data": {
      "image/png": "[encoded data removed]",
      "text/plain": [
       "<Figure size 1200x600 with 2 Axes>"
      ]
     },
     "metadata": {},
     "output_type": "display_data"
    }
   ],
   "source": [
    "# 5. 모델 학습과정 시각화\n",
    "\n",
    "fig, loss_ax = plt.subplots(figsize = (12, 6))\n",
    "loss_ax.plot(hist.history['loss'], 'y', label = 'train loss')\n",
    "acc_ax = loss_ax.twinx()\n",
    "acc_ax.plot(hist.history['accuracy'], 'g', label = 'train accuracy')\n",
    "loss_ax.set_xlabel('epochs')\n",
    "loss_ax.set_ylabel('loss')\n",
    "acc_ax.set_ylabel('accuracy')\n",
    "loss_ax.legend(loc = 'center right')\n",
    "acc_ax.legend(loc = 'upper left')\n",
    "plt.show()"
   ]
  },
  {
   "cell_type": "code",
   "execution_count": 20,
   "id": "88d8465f",
   "metadata": {},
   "outputs": [
    {
     "name": "stdout",
     "output_type": "stream",
     "text": [
      "입력단어 :가는 말이\n",
      "입력데이터 : [[0 0 0 8 1]]\n",
      "예측된 단어 : 고와야\n"
     ]
    }
   ],
   "source": [
    "# 모델 사용하기 (경마장에 있는 말이 → 뛰고)\n",
    "\n",
    "input_word = input('입력단어 :')\n",
    "encoded = t.texts_to_sequences([input_word])[0]\n",
    "input_data = pad_sequences([encoded], maxlen = my_len - 1, padding = 'pre')\n",
    "print('입력데이터 :', input_data)\n",
    "result = model.predict(input_data, verbose = 0).argmax()\n",
    "word = t.index_word[result]\n",
    "print('예측된 단어 :', word)"
   ]
  },
  {
   "cell_type": "code",
   "execution_count": 21,
   "id": "5cbc6d04",
   "metadata": {},
   "outputs": [
    {
     "data": {
      "text/plain": [
       "[[]]"
      ]
     },
     "execution_count": 21,
     "metadata": {},
     "output_type": "execute_result"
    }
   ],
   "source": [
    "t.texts_to_sequences(['없는 단어'])"
   ]
  },
  {
   "cell_type": "markdown",
   "id": "a17b3031",
   "metadata": {},
   "source": [
    "# 2. 다음 문맥 예측해 보기"
   ]
  },
  {
   "cell_type": "code",
   "execution_count": 22,
   "id": "bb22040e",
   "metadata": {},
   "outputs": [
    {
     "data": {
      "text/plain": [
       "'경마장에 있는 말이 뛰고'"
      ]
     },
     "execution_count": 22,
     "metadata": {},
     "output_type": "execute_result"
    }
   ],
   "source": [
    "# \"경마장에\" 이후에 올 단어 3개 예측 → 경마장에 있는 말이 뛰고\n",
    "\n",
    "def sentence_generation(current_word, n) :\n",
    "    # print('입력된 단어 :', current_word)\n",
    "    for i in range(1, n + 1) :\n",
    "        encoded = t.texts_to_sequences([current_word])[0]\n",
    "        input_data = pad_sequences([encoded], maxlen = my_len - 1, padding = 'pre')\n",
    "        result = model.predict(input_data, verbose = 0).argmax()\n",
    "        word = t.index_word[result]\n",
    "        current_word = current_word + ' ' + word\n",
    "#         print(\"{}번째 생성 문맥 {} ({}{})\".format(i,\n",
    "#                                            current_word,\n",
    "#                                            encoded,\n",
    "#                                            result) )\n",
    "    return current_word\n",
    "sentence_generation('경마장에', 3)"
   ]
  },
  {
   "cell_type": "code",
   "execution_count": 23,
   "id": "1209e0ac",
   "metadata": {},
   "outputs": [
    {
     "data": {
      "text/plain": [
       "'가는 말이 고와야 오는 말이 곱다'"
      ]
     },
     "execution_count": 23,
     "metadata": {},
     "output_type": "execute_result"
    }
   ],
   "source": [
    "sentence_generation('가는', 5)"
   ]
  },
  {
   "cell_type": "code",
   "execution_count": null,
   "id": "4f0fac53",
   "metadata": {},
   "outputs": [],
   "source": []
  }
 ],
 "metadata": {
  "kernelspec": {
   "display_name": "ml-dl-nlp",
   "language": "python",
   "name": "ml-dl-nlp"
  },
  "language_info": {
   "codemirror_mode": {
    "name": "ipython",
    "version": 3
   },
   "file_extension": ".py",
   "mimetype": "text/x-python",
   "name": "python",
   "nbconvert_exporter": "python",
   "pygments_lexer": "ipython3",
   "version": "3.10.18"
  },
  "toc": {
   "base_numbering": 1,
   "nav_menu": {},
   "number_sections": false,
   "sideBar": true,
   "skip_h1_title": false,
   "title_cell": "Table of Contents",
   "title_sidebar": "Contents",
   "toc_cell": false,
   "toc_position": {
    "height": "calc(100% - 180px)",
    "left": "10px",
    "top": "150px",
    "width": "264.55px"
   },
   "toc_section_display": true,
   "toc_window_display": true
  }
 },
 "nbformat": 4,
 "nbformat_minor": 5
}
