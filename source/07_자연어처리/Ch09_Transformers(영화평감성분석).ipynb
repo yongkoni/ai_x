{
 "cells": [
  {
   "cell_type": "code",
   "execution_count": 1,
   "id": "16c93d63",
   "metadata": {},
   "outputs": [
    {
     "data": {
      "text/html": [
       "<style>\n",
       "div.container{width:86% !important;}\n",
       "div.cell.code_cell.rendered{width:100%;}\n",
       "div.CodeMirror {font-family:Consolas; font-size:12pt;}\n",
       "div.output {font-size:12pt; font-weight:bold;}\n",
       "div.input {font-family:Consolas; font-size:12pt;}\n",
       "div.prompt {min-width:70px;}\n",
       "div#toc-wrapper{padding-top:120px;}\n",
       "div.text_cell_render ul li{fontsize:12pt;padding:5px;}\n",
       "table.dataframe{font-size:12px;}))\n",
       "</style>\n"
      ],
      "text/plain": [
       "<IPython.core.display.HTML object>"
      ]
     },
     "metadata": {},
     "output_type": "display_data"
    }
   ],
   "source": [
    "from IPython.display import display, HTML\n",
    "display(HTML(\"\"\"<style>\n",
    "div.container{width:86% !important;}\n",
    "div.cell.code_cell.rendered{width:100%;}\n",
    "div.CodeMirror {font-family:Consolas; font-size:12pt;}\n",
    "div.output {font-size:12pt; font-weight:bold;}\n",
    "div.input {font-family:Consolas; font-size:12pt;}\n",
    "div.prompt {min-width:70px;}\n",
    "div#toc-wrapper{padding-top:120px;}\n",
    "div.text_cell_render ul li{fontsize:12pt;padding:5px;}\n",
    "table.dataframe{font-size:12px;}))\n",
    "</style>\n",
    "\"\"\"))"
   ]
  },
  {
   "cell_type": "markdown",
   "id": "554d5966",
   "metadata": {},
   "source": [
    "# <span style = \"color:red\">ch09 Transformers</span>\n",
    "\n",
    "- 인코더 층만으로 구현(입력 : 자연어, 출력 : 긍정/부정)"
   ]
  },
  {
   "cell_type": "markdown",
   "id": "c6f789ab",
   "metadata": {},
   "source": [
    "# 1. 패키지"
   ]
  },
  {
   "cell_type": "code",
   "execution_count": 1,
   "id": "04f80311",
   "metadata": {},
   "outputs": [],
   "source": [
    "import numpy as np\n",
    "from tensorflow.keras.datasets import imdb\n",
    "from tensorflow.keras.preprocessing.sequence import pad_sequences\n",
    "\n",
    "from tensorflow.keras.models import Sequential\n",
    "from tensorflow.keras.layers import Embedding, LSTM, Dense, GRU\n",
    "from time import time  # 70.1.1부터 현재까지의 밀리세컨\n",
    "\n",
    "from sklearn.metrics import confusion_matrix\n",
    "from sklearn.metrics import f1_score, precision_score, recall_score"
   ]
  },
  {
   "cell_type": "markdown",
   "id": "23ab18ae",
   "metadata": {},
   "source": [
    "# 2. 하이퍼 파리미터 설정(이 파라미터를 바꾸면 정확도나 학습 속도에 차이남)"
   ]
  },
  {
   "cell_type": "code",
   "execution_count": 2,
   "id": "fd9a200c",
   "metadata": {},
   "outputs": [],
   "source": [
    "MY_WORDS = 10000  # imdb 데이터의 단어수\n",
    "MY_LENGTH = 80  # 영화평 단어수 80개만 독립변수\n",
    "MY_EMBED = 32  # Embedding layer의 결과 차원\n",
    "MY_HIDDEN = 64  # LSTM의 units 차원\n",
    "\n",
    "MY_EPOCH = 10  # 학습 수 (fit)\n",
    "MY_BATCH = 200  # batch_size (fit시 매번 데이터를 가져오는 데이터)"
   ]
  },
  {
   "cell_type": "markdown",
   "id": "566865ea",
   "metadata": {},
   "source": [
    "# 3. 데이터 불러오기"
   ]
  },
  {
   "cell_type": "code",
   "execution_count": 3,
   "id": "d7744bd7",
   "metadata": {},
   "outputs": [],
   "source": [
    "(x_train, y_train), (x_test, y_test) = imdb.load_data(num_words = MY_WORDS)"
   ]
  },
  {
   "cell_type": "markdown",
   "id": "1e58cfb4",
   "metadata": {},
   "source": [
    "# 4. 문자단어 → 정수"
   ]
  },
  {
   "cell_type": "code",
   "execution_count": 4,
   "id": "8a927e8c",
   "metadata": {},
   "outputs": [
    {
     "name": "stdout",
     "output_type": "stream",
     "text": [
      "the\n",
      "a\n"
     ]
    }
   ],
   "source": [
    "word_to_id = imdb.get_word_index()  # {'word':id}\n",
    "id_to_word = {}  #{1:'the', 3: 'a', 16816:'sonja'}\n",
    "for word, value in word_to_id.items() :\n",
    "    id_to_word[value] = word\n",
    "print(id_to_word[1])\n",
    "print(id_to_word[3])"
   ]
  },
  {
   "cell_type": "markdown",
   "id": "57e733af",
   "metadata": {},
   "source": [
    "# 5. 숫자영화평 → 자연어 영화평 return 함수"
   ]
  },
  {
   "cell_type": "code",
   "execution_count": 5,
   "id": "8cde8a0d",
   "metadata": {},
   "outputs": [],
   "source": [
    "def decoding(review_num) :\n",
    "    decoded = [id_to_word.get(num - 3, '???') for num in review_num]\n",
    "    return ' '.join(decoded)"
   ]
  },
  {
   "cell_type": "code",
   "execution_count": 6,
   "id": "e25707d6",
   "metadata": {},
   "outputs": [
    {
     "name": "stdout",
     "output_type": "stream",
     "text": [
      "??? big hair big boobs bad music and a giant safety pin these are the words to best describe this terrible movie i love cheesy horror movies and i've seen hundreds but this had got to be on of the worst ever made the plot is paper thin and ridiculous the acting is an abomination the script is completely laughable the best is the end showdown with the cop and how he worked out who the killer is it's just so damn terribly written the clothes are sickening and funny in equal ??? the hair is big lots of boobs ??? men wear those cut ??? shirts that show off their ??? sickening that men actually wore them and the music is just ??? trash that plays over and over again in almost every scene there is trashy music boobs and ??? taking away bodies and the gym still doesn't close for ??? all joking aside this is a truly bad film whose only charm is to look back on the disaster that was the 80's and have a good old laugh at how bad everything was back then 0\n"
     ]
    }
   ],
   "source": [
    "print(decoding(x_train[1]), y_train[1])"
   ]
  },
  {
   "cell_type": "markdown",
   "id": "143e4cd0",
   "metadata": {},
   "source": [
    "# 6. 영화평 (입력변수)의 길이"
   ]
  },
  {
   "cell_type": "code",
   "execution_count": 7,
   "id": "6e672e9c",
   "metadata": {},
   "outputs": [],
   "source": [
    "def show_length(x_train) :\n",
    "    print('첫 20개 영화평 길이')\n",
    "    print([len(x_data) for x_data in x_train[:20]])"
   ]
  },
  {
   "cell_type": "code",
   "execution_count": 8,
   "id": "f9da6a7b",
   "metadata": {},
   "outputs": [
    {
     "name": "stdout",
     "output_type": "stream",
     "text": [
      "첫 20개 영화평 길이\n",
      "[218, 189, 141, 550, 147, 43, 123, 562, 233, 130, 450, 99, 117, 238, 109, 129, 163, 752, 212, 177]\n"
     ]
    }
   ],
   "source": [
    "# pad_sequence 전\n",
    "\n",
    "show_length(x_train)"
   ]
  },
  {
   "cell_type": "markdown",
   "id": "519a11f0",
   "metadata": {},
   "source": [
    "# 7. 모든 영화평 길이를 동일하게 (MY_LENGTH = 80)"
   ]
  },
  {
   "cell_type": "code",
   "execution_count": 9,
   "id": "6f275a92",
   "metadata": {},
   "outputs": [
    {
     "name": "stdout",
     "output_type": "stream",
     "text": [
      "첫 20개 영화평 길이\n",
      "[80, 80, 80, 80, 80, 80, 80, 80, 80, 80, 80, 80, 80, 80, 80, 80, 80, 80, 80, 80]\n",
      "첫 20개 영화평 길이\n",
      "[80, 80, 80, 80, 80, 80, 80, 80, 80, 80, 80, 80, 80, 80, 80, 80, 80, 80, 80, 80]\n"
     ]
    },
    {
     "data": {
      "text/plain": [
       "(None, None)"
      ]
     },
     "execution_count": 9,
     "metadata": {},
     "output_type": "execute_result"
    }
   ],
   "source": [
    "X_train = pad_sequences(x_train,\n",
    "                       padding = 'pre',\n",
    "                       truncating = 'pre',  # 뒷부분을 짜르고 앞부분을 남김\n",
    "                       maxlen = MY_LENGTH)\n",
    "X_test = pad_sequences(x_test,\n",
    "                      padding = 'pre',\n",
    "                      truncating = 'pre',\n",
    "                      maxlen = MY_LENGTH)\n",
    "show_length(X_train), show_length(X_test)"
   ]
  },
  {
   "cell_type": "markdown",
   "id": "71ee00a3",
   "metadata": {},
   "source": [
    "# 8. 최종 데이터 shape 확인"
   ]
  },
  {
   "cell_type": "code",
   "execution_count": 10,
   "id": "4d28331f",
   "metadata": {},
   "outputs": [
    {
     "data": {
      "text/plain": [
       "((25000, 80), (25000,), (25000, 80), (25000,))"
      ]
     },
     "execution_count": 10,
     "metadata": {},
     "output_type": "execute_result"
    }
   ],
   "source": [
    "X_train.shape, y_train.shape, X_test.shape, y_test.shape"
   ]
  },
  {
   "cell_type": "markdown",
   "id": "5a6346bb",
   "metadata": {},
   "source": [
    "# 9. 모델 생성(LSTM)"
   ]
  },
  {
   "cell_type": "code",
   "execution_count": 13,
   "id": "81459e10",
   "metadata": {},
   "outputs": [
    {
     "name": "stdout",
     "output_type": "stream",
     "text": [
      "Model: \"sequential\"\n",
      "_________________________________________________________________\n",
      " Layer (type)                Output Shape              Param #   \n",
      "=================================================================\n",
      " embedding (Embedding)       (None, 80, 32)            320000    \n",
      "                                                                 \n",
      " gru (GRU)                   (None, 64)                18816     \n",
      "                                                                 \n",
      " dense (Dense)               (None, 1)                 65        \n",
      "                                                                 \n",
      "=================================================================\n",
      "Total params: 338,881\n",
      "Trainable params: 338,881\n",
      "Non-trainable params: 0\n",
      "_________________________________________________________________\n"
     ]
    }
   ],
   "source": [
    "model = Sequential()\n",
    "model.add(Embedding(input_dim = MY_WORDS,  # 10000\n",
    "                   output_dim = MY_EMBED,  # 32\n",
    "                   input_length = MY_LENGTH))  # 80\n",
    "# RNN : 입력 단어의 길이 수가 너무 길면 파리미터 업데이트 안 됨\n",
    "# 개선모델 1. LSTM, 개선모델 2. GRU\n",
    "model.add(GRU(units = MY_HIDDEN,\n",
    "              input_shape = (MY_LENGTH, MY_EMBED)\n",
    "         ))\n",
    "model.add(Dense(units = 1, activation = 'sigmoid'))\n",
    "model.summary()"
   ]
  },
  {
   "cell_type": "markdown",
   "id": "f1ce6d86",
   "metadata": {},
   "source": [
    "# 9. 모델구현(Transformers)"
   ]
  },
  {
   "cell_type": "code",
   "execution_count": 11,
   "id": "088f599a",
   "metadata": {},
   "outputs": [
    {
     "name": "stdout",
     "output_type": "stream",
     "text": [
      "Model: \"model\"\n",
      "__________________________________________________________________________________________________\n",
      " Layer (type)                   Output Shape         Param #     Connected to                     \n",
      "==================================================================================================\n",
      " input_1 (InputLayer)           [(None, 80)]         0           []                               \n",
      "                                                                                                  \n",
      " embedding (Embedding)          (None, 80, 32)       320000      ['input_1[0][0]']                \n",
      "                                                                                                  \n",
      " tf.__operators__.add (TFOpLamb  (None, 80, 32)      0           ['embedding[0][0]']              \n",
      " da)                                                                                              \n",
      "                                                                                                  \n",
      " multi_head_attention (MultiHea  (None, 80, 32)      12608       ['tf.__operators__.add[0][0]',   \n",
      " dAttention)                                                      'tf.__operators__.add[0][0]']   \n",
      "                                                                                                  \n",
      " add (Add)                      (None, 80, 32)       0           ['tf.__operators__.add[0][0]',   \n",
      "                                                                  'multi_head_attention[0][0]']   \n",
      "                                                                                                  \n",
      " batch_normalization (BatchNorm  (None, 80, 32)      128         ['add[0][0]']                    \n",
      " alization)                                                                                       \n",
      "                                                                                                  \n",
      " sequential (Sequential)        (None, 80, 32)       4192        ['batch_normalization[0][0]']    \n",
      "                                                                                                  \n",
      " add_1 (Add)                    (None, 80, 32)       0           ['sequential[0][0]',             \n",
      "                                                                  'batch_normalization[0][0]']    \n",
      "                                                                                                  \n",
      " batch_normalization_1 (BatchNo  (None, 80, 32)      128         ['add_1[0][0]']                  \n",
      " rmalization)                                                                                     \n",
      "                                                                                                  \n",
      " global_average_pooling1d (Glob  (None, 32)          0           ['batch_normalization_1[0][0]']  \n",
      " alAveragePooling1D)                                                                              \n",
      "                                                                                                  \n",
      " dropout (Dropout)              (None, 32)           0           ['global_average_pooling1d[0][0]'\n",
      "                                                                 ]                                \n",
      "                                                                                                  \n",
      " dense_2 (Dense)                (None, 64)           2112        ['dropout[0][0]']                \n",
      "                                                                                                  \n",
      " dropout_1 (Dropout)            (None, 64)           0           ['dense_2[0][0]']                \n",
      "                                                                                                  \n",
      " dense_3 (Dense)                (None, 2)            130         ['dropout_1[0][0]']              \n",
      "                                                                                                  \n",
      "==================================================================================================\n",
      "Total params: 339,298\n",
      "Trainable params: 339,170\n",
      "Non-trainable params: 128\n",
      "__________________________________________________________________________________________________\n"
     ]
    }
   ],
   "source": [
    "import tensorflow as tf\n",
    "from tensorflow.keras import layers\n",
    "from tensorflow.keras.models import Sequential, Model\n",
    "\n",
    "INPUTS = layers.Input(shape = (MY_LENGTH,))  # 80\n",
    "\n",
    "INPUT_EMBEDDING = layers.Embedding(input_dim = MY_WORDS,  # 10000\n",
    "                                   output_dim = MY_EMBED)(INPUTS)  # 32\n",
    "\n",
    "# Positional Encoding\n",
    "POSITIONS = tf.range(start = 0, \n",
    "                     limit = MY_LENGTH)\n",
    "POS_ENCODING = layers.Embedding(input_dim = MY_LENGTH, output_dim = MY_EMBED)(POSITIONS)\n",
    "POS_ENC_OUTPUT = POS_ENCODING + INPUT_EMBEDDING\n",
    "\n",
    "ATTENTION_OUTPUT = layers.MultiHeadAttention(num_heads = 3, \n",
    "                                             key_dim = MY_EMBED)(POS_ENC_OUTPUT, \n",
    "                                                                 POS_ENC_OUTPUT)\n",
    "X = layers.add([POS_ENC_OUTPUT, ATTENTION_OUTPUT])\n",
    "X = layers.BatchNormalization()(X)\n",
    "\n",
    "# FeedForward Network\n",
    "FFN = Sequential([layers.Dense(MY_HIDDEN, activation = \"relu\"),\n",
    "                   layers.Dense(MY_EMBED, activation = \"relu\")])(X)\n",
    "X = layers.add([FFN, X])\n",
    "X = layers.BatchNormalization()(X)\n",
    "\n",
    "# 하나의 벡터로 압축해서 Dense로 보내줌\n",
    "X = layers.GlobalAveragePooling1D()(X) \n",
    "X = layers.Dropout(0.1)(X)\n",
    "\n",
    "X = layers.Dense(MY_HIDDEN, activation = \"relu\")(X)\n",
    "X = layers.Dropout(0.1)(X)\n",
    "\n",
    "OUTPUTS = layers.Dense(2, activation = \"softmax\")(X)\n",
    "model = Model(inputs = INPUTS, outputs = OUTPUTS)\n",
    "\n",
    "model.summary()"
   ]
  },
  {
   "cell_type": "markdown",
   "id": "c301fac9",
   "metadata": {},
   "source": [
    "# 10. 학습환경 설정 및 학습하기"
   ]
  },
  {
   "cell_type": "code",
   "execution_count": 12,
   "id": "93a7a96f",
   "metadata": {},
   "outputs": [
    {
     "name": "stdout",
     "output_type": "stream",
     "text": [
      "Epoch 1/10\n",
      "100/100 [==============================] - 16s 148ms/step - loss: 0.4736 - acc: 0.7644 - val_loss: 0.5980 - val_acc: 0.8290\n",
      "Epoch 2/10\n",
      "100/100 [==============================] - 15s 146ms/step - loss: 0.2816 - acc: 0.8860 - val_loss: 0.5539 - val_acc: 0.7744\n",
      "Epoch 3/10\n",
      "100/100 [==============================] - 15s 145ms/step - loss: 0.2180 - acc: 0.9143 - val_loss: 0.4991 - val_acc: 0.7640\n",
      "Epoch 4/10\n",
      "100/100 [==============================] - 15s 146ms/step - loss: 0.1741 - acc: 0.9275 - val_loss: 0.4111 - val_acc: 0.8100\n",
      "Epoch 5/10\n",
      "100/100 [==============================] - 14s 145ms/step - loss: 0.1353 - acc: 0.9420 - val_loss: 0.5475 - val_acc: 0.7928\n",
      "Epoch 6/10\n",
      "100/100 [==============================] - 15s 149ms/step - loss: 0.1095 - acc: 0.9490 - val_loss: 0.6363 - val_acc: 0.7998\n",
      "Epoch 7/10\n",
      "100/100 [==============================] - 15s 155ms/step - loss: 0.0929 - acc: 0.9569 - val_loss: 0.8795 - val_acc: 0.7714\n",
      "Epoch 8/10\n",
      "100/100 [==============================] - 15s 154ms/step - loss: 0.0849 - acc: 0.9646 - val_loss: 0.6171 - val_acc: 0.7382\n",
      "Epoch 9/10\n",
      "100/100 [==============================] - 16s 157ms/step - loss: 0.0648 - acc: 0.9740 - val_loss: 0.8384 - val_acc: 0.7792\n",
      "Epoch 10/10\n",
      "100/100 [==============================] - 15s 155ms/step - loss: 0.0460 - acc: 0.9822 - val_loss: 1.0375 - val_acc: 0.7532\n",
      "총 학습시간 : 150.7278642654419\n"
     ]
    }
   ],
   "source": [
    "model.compile(# loss = 'binary_crossentropy',  # 이진분류시 손실함수\n",
    "             loss = \"sparse_categorical_crossentropy\",\n",
    "             optimizer = 'adam',\n",
    "             metrics = ['acc'])\n",
    "begin = time()  # 70.1.1부터 현재까지의 초수\n",
    "hist = model.fit(X_train, y_train,\n",
    "                epochs = MY_EPOCH,\n",
    "                batch_size = MY_BATCH,\n",
    "                validation_split = 0.2,\n",
    "                verbose = 1)\n",
    "end = time()  # 70.1.1부터 이 시점까지의 초수\n",
    "print('총 학습시간 :', (end - begin))"
   ]
  },
  {
   "cell_type": "code",
   "execution_count": 13,
   "id": "9587767c",
   "metadata": {},
   "outputs": [
    {
     "data": {
      "text/plain": [
       "dict_keys(['loss', 'acc', 'val_loss', 'val_acc'])"
      ]
     },
     "execution_count": 13,
     "metadata": {},
     "output_type": "execute_result"
    }
   ],
   "source": [
    "hist.history.keys()"
   ]
  },
  {
   "cell_type": "code",
   "execution_count": 14,
   "id": "7294b569",
   "metadata": {},
   "outputs": [
    {
     "data": {
      "image/png": "[encoded data removed]",
      "text/plain": [
       "<Figure size 1200x600 with 2 Axes>"
      ]
     },
     "metadata": {},
     "output_type": "display_data"
    }
   ],
   "source": [
    "import matplotlib.pyplot as plt\n",
    "\n",
    "fig, loss_ax = plt.subplots(figsize = (12, 6))\n",
    "loss_ax.plot(hist.history['loss'], 'y', label = 'train loss')\n",
    "loss_ax.plot(hist.history['val_loss'], 'r', label = 'val loss')\n",
    "acc_ax = loss_ax.twinx()\n",
    "acc_ax.plot(hist.history['acc'], 'g', label = 'train accuracy')\n",
    "acc_ax.plot(hist.history['val_acc'], 'b', label = 'val accuracy')\n",
    "loss_ax.set_xlabel('epochs')\n",
    "loss_ax.set_ylabel('loss')\n",
    "acc_ax.set_ylabel('accuracy')\n",
    "loss_ax.legend(loc = 'center right')\n",
    "acc_ax.legend(loc = 'upper left')\n",
    "plt.show()"
   ]
  },
  {
   "cell_type": "markdown",
   "id": "58e3e6d5",
   "metadata": {},
   "source": [
    "# 11. 모델 평가"
   ]
  },
  {
   "cell_type": "code",
   "execution_count": 15,
   "id": "5792f051",
   "metadata": {},
   "outputs": [
    {
     "name": "stdout",
     "output_type": "stream",
     "text": [
      "782/782 [==============================] - 8s 11ms/step - loss: 1.0934 - acc: 0.7432\n",
      "정확도 : 0.7432000041007996\n"
     ]
    }
   ],
   "source": [
    "loss, acc = model.evaluate(X_test, y_test)\n",
    "print('정확도 :', acc)"
   ]
  },
  {
   "cell_type": "code",
   "execution_count": 16,
   "id": "b10ad9ed",
   "metadata": {},
   "outputs": [
    {
     "data": {
      "text/plain": [
       "array([1, 0, 1, ..., 0, 0, 1], dtype=int16)"
      ]
     },
     "execution_count": 16,
     "metadata": {},
     "output_type": "execute_result"
    }
   ],
   "source": [
    "yhat = (model.predict(X_test, \n",
    "                      verbose = 0) > 0.5).astype(np.int16).reshape(-1)\n",
    "yhat"
   ]
  },
  {
   "cell_type": "markdown",
   "id": "4fbc2243",
   "metadata": {},
   "source": [
    "# 12. 모델 사용하기"
   ]
  },
  {
   "cell_type": "code",
   "execution_count": 20,
   "id": "6fd4e6f9",
   "metadata": {},
   "outputs": [
    {
     "name": "stdout",
     "output_type": "stream",
     "text": [
      "[1, 4, 20, 16, 66, 1127, 5, 13, 296, 12, 469, 4, 20, 1383, 12, 586, 130, 209, 149, 4, 5431, 13, 2303, 386, 12, 12, 16, 60, 53, 221, 536, 15, 12, 100, 593, 11, 147, 113, 4, 293, 109, 16, 2252, 5, 917, 73, 38, 61, 523, 71, 654, 5, 4, 65, 16, 253] 56\n"
     ]
    }
   ],
   "source": [
    "review = \"\"\"The movie was really exciting, \n",
    "and I watched it throughout the movie hoping it wouldn't end without \n",
    "watching the clock. I strongly recommend it. \n",
    "It was even more interesting thinking that it could happen in real life. \n",
    "The main character was handsome and acted well, so my eyes were happy, \n",
    "and the story was fun @_@ㅠ.ㅠ\"\"\".lower()\n",
    "\n",
    "import re\n",
    "\n",
    "review = re.sub('[^a-zA-Z\\'\\s]', '', review)\n",
    "review = review.split()  # 단어 list\n",
    "review = [1] + [word_to_id.get(word, - 1) + 3 for word in review]\n",
    "print(review, len(review))"
   ]
  },
  {
   "cell_type": "code",
   "execution_count": 21,
   "id": "5c625f8c",
   "metadata": {},
   "outputs": [
    {
     "data": {
      "text/plain": [
       "array([[   0,    0,    0,    0,    0,    0,    0,    0,    0,    0,    0,\n",
       "           0,    0,    0,    0,    0,    0,    0,    0,    0,    0,    0,\n",
       "           0,    0,    1,    4,   20,   16,   66, 1127,    5,   13,  296,\n",
       "          12,  469,    4,   20, 1383,   12,  586,  130,  209,  149,    4,\n",
       "        5431,   13, 2303,  386,   12,   12,   16,   60,   53,  221,  536,\n",
       "          15,   12,  100,  593,   11,  147,  113,    4,  293,  109,   16,\n",
       "        2252,    5,  917,   73,   38,   61,  523,   71,  654,    5,    4,\n",
       "          65,   16,  253]])"
      ]
     },
     "execution_count": 21,
     "metadata": {},
     "output_type": "execute_result"
    }
   ],
   "source": [
    "input_data = pad_sequences([review],\n",
    "                      padding = 'pre',\n",
    "                      truncating = 'pre',\n",
    "                      maxlen = MY_LENGTH)\n",
    "input_data"
   ]
  },
  {
   "cell_type": "code",
   "execution_count": 22,
   "id": "1585b027",
   "metadata": {},
   "outputs": [
    {
     "name": "stdout",
     "output_type": "stream",
     "text": [
      "1/1 [==============================] - 0s 23ms/step\n"
     ]
    },
    {
     "data": {
      "text/plain": [
       "array([1, 0], dtype=int8)"
      ]
     },
     "execution_count": 22,
     "metadata": {},
     "output_type": "execute_result"
    }
   ],
   "source": [
    "result = (model.predict(input_data) > 0.5).astype('int8').reshape(-1)\n",
    "result"
   ]
  },
  {
   "cell_type": "code",
   "execution_count": null,
   "id": "3d6f3afc",
   "metadata": {},
   "outputs": [],
   "source": []
  }
 ],
 "metadata": {
  "kernelspec": {
   "display_name": "ml-dl-nlp",
   "language": "python",
   "name": "ml-dl-nlp"
  },
  "language_info": {
   "codemirror_mode": {
    "name": "ipython",
    "version": 3
   },
   "file_extension": ".py",
   "mimetype": "text/x-python",
   "name": "python",
   "nbconvert_exporter": "python",
   "pygments_lexer": "ipython3",
   "version": "3.10.18"
  },
  "toc": {
   "base_numbering": 1,
   "nav_menu": {},
   "number_sections": false,
   "sideBar": true,
   "skip_h1_title": false,
   "title_cell": "Table of Contents",
   "title_sidebar": "Contents",
   "toc_cell": false,
   "toc_position": {
    "height": "calc(100% - 180px)",
    "left": "10px",
    "top": "150px",
    "width": "227.818px"
   },
   "toc_section_display": true,
   "toc_window_display": true
  }
 },
 "nbformat": 4,
 "nbformat_minor": 5
}
