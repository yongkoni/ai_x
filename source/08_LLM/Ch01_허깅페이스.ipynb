{
 "cells": [
  {
   "cell_type": "code",
   "execution_count": 1,
   "id": "d049a3c5",
   "metadata": {},
   "outputs": [
    {
     "data": {
      "text/html": [
       "<style>\n",
       "div.container{width:86% !important;}\n",
       "div.cell.code_cell.rendered{width:100%;}\n",
       "div.CodeMirror {font-family:Consolas; font-size:12pt;}\n",
       "div.output {font-size:12pt; font-weight:bold;}\n",
       "div.input {font-family:Consolas; font-size:12pt;}\n",
       "div.prompt {min-width:70px;}\n",
       "div#toc-wrapper{padding-top:120px;}\n",
       "div.text_cell_render ul li{fontsize:12pt;padding:5px;}\n",
       "table.dataframe{font-size:12px;}))\n",
       "</style>\n"
      ],
      "text/plain": [
       "<IPython.core.display.HTML object>"
      ]
     },
     "metadata": {},
     "output_type": "display_data"
    }
   ],
   "source": [
    "from IPython.display import display, HTML\n",
    "display(HTML(\"\"\"<style>\n",
    "div.container{width:86% !important;}\n",
    "div.cell.code_cell.rendered{width:100%;}\n",
    "div.CodeMirror {font-family:Consolas; font-size:12pt;}\n",
    "div.output {font-size:12pt; font-weight:bold;}\n",
    "div.input {font-family:Consolas; font-size:12pt;}\n",
    "div.prompt {min-width:70px;}\n",
    "div#toc-wrapper{padding-top:120px;}\n",
    "div.text_cell_render ul li{fontsize:12pt;padding:5px;}\n",
    "table.dataframe{font-size:12px;}))\n",
    "</style>\n",
    "\"\"\"))"
   ]
  },
  {
   "cell_type": "markdown",
   "id": "e42185f0",
   "metadata": {},
   "source": [
    "# <span style=\"color:red\">ch01 허깅페이스</span>\n",
    "\n",
    "- Transformers라이브러리 내 pipeline()함수\n",
    "- Inference API : key를 사용"
   ]
  },
  {
   "cell_type": "code",
   "execution_count": 2,
   "id": "97ac51a9",
   "metadata": {},
   "outputs": [],
   "source": [
    "import warnings\n",
    "\n",
    "warnings.filterwarnings(action = 'ignore')"
   ]
  },
  {
   "cell_type": "markdown",
   "id": "fb615199",
   "metadata": {},
   "source": [
    "# 1. 텍스트 기반 감정분석(긍정/부정)"
   ]
  },
  {
   "cell_type": "code",
   "execution_count": 3,
   "id": "a62b8010",
   "metadata": {},
   "outputs": [
    {
     "name": "stderr",
     "output_type": "stream",
     "text": [
      "No model was supplied, defaulted to distilbert/distilbert-base-uncased-finetuned-sst-2-english and revision 714eb0f (https://huggingface.co/distilbert/distilbert-base-uncased-finetuned-sst-2-english).\n",
      "Using a pipeline without specifying a model name and revision in production is not recommended.\n",
      "Device set to use cpu\n"
     ]
    }
   ],
   "source": [
    "from transformers import pipeline\n",
    "\n",
    "classifier = pipeline(task = \"text-classification\")"
   ]
  },
  {
   "cell_type": "code",
   "execution_count": 4,
   "id": "88fa93c5",
   "metadata": {},
   "outputs": [
    {
     "data": {
      "text/plain": [
       "[{'label': 'POSITIVE', 'score': 0.8940554261207581}]"
      ]
     },
     "execution_count": 4,
     "metadata": {},
     "output_type": "execute_result"
    }
   ],
   "source": [
    "classifier(\"이 영화는 정말 최고였어요. 감동적이고 연기가 대단해요\")"
   ]
  },
  {
   "cell_type": "code",
   "execution_count": 5,
   "id": "171fe197",
   "metadata": {},
   "outputs": [
    {
     "data": {
      "text/plain": [
       "['POSITIVE', 'NEGATIVE']"
      ]
     },
     "execution_count": 5,
     "metadata": {},
     "output_type": "execute_result"
    }
   ],
   "source": [
    "result = classifier([\"I've been waiting for a HuggingFace course my whole life.\",\n",
    "            \"I hate this so much!\"])\n",
    "[r.get('label') for r in result]"
   ]
  },
  {
   "cell_type": "code",
   "execution_count": 6,
   "id": "d0097cc7",
   "metadata": {},
   "outputs": [
    {
     "name": "stderr",
     "output_type": "stream",
     "text": [
      "Device set to use cpu\n"
     ]
    },
    {
     "data": {
      "text/plain": [
       "[{'label': 'POSITIVE', 'score': 0.9598049521446228},\n",
       " {'label': 'NEGATIVE', 'score': 0.9994558691978455}]"
      ]
     },
     "execution_count": 6,
     "metadata": {},
     "output_type": "execute_result"
    }
   ],
   "source": [
    "classifier = pipeline(task = \"sentiment-analysis\",\n",
    "                     model = \"distilbert-base-uncased-finetuned-sst-2-english\")\n",
    "classifier([\"I've been waiting for a HuggingFace course my whole life.\",\n",
    "            \"I hate this so much!\"])"
   ]
  },
  {
   "cell_type": "markdown",
   "id": "c6ede6c9",
   "metadata": {},
   "source": [
    "# 2. 제로-샷 분류(zero-shot-classification)\n",
    "\n",
    "- 비지도학습"
   ]
  },
  {
   "cell_type": "code",
   "execution_count": 7,
   "id": "f9008caa",
   "metadata": {},
   "outputs": [
    {
     "name": "stderr",
     "output_type": "stream",
     "text": [
      "Device set to use cpu\n"
     ]
    },
    {
     "data": {
      "text/plain": [
       "{'sequence': 'I have a problem with my iphone that needs to be resolved asap!!',\n",
       " 'labels': ['urgent', 'phone', 'computer', 'tablet'],\n",
       " 'scores': [0.5049763917922974,\n",
       "  0.48007503151893616,\n",
       "  0.012633666396141052,\n",
       "  0.0023148944601416588]}"
      ]
     },
     "execution_count": 7,
     "metadata": {},
     "output_type": "execute_result"
    }
   ],
   "source": [
    "from transformers import pipeline\n",
    "\n",
    "classifier = pipeline(\"zero-shot-classification\",\n",
    "                     \"facebook/bart-large-mnli\")\n",
    "classifier(\"I have a problem with my iphone that needs to be resolved asap!!\",\n",
    "          candidate_labels=[\"phone\", \"urgent\", \"tablet\", \"computer\"])"
   ]
  },
  {
   "cell_type": "code",
   "execution_count": 8,
   "id": "166a4970",
   "metadata": {},
   "outputs": [
    {
     "data": {
      "text/plain": [
       "{'sequence': 'This is a course about the transformers library.',\n",
       " 'labels': ['education', 'business', 'politics'],\n",
       " 'scores': [0.9053581357002258, 0.07259627431631088, 0.02204558439552784]}"
      ]
     },
     "execution_count": 8,
     "metadata": {},
     "output_type": "execute_result"
    }
   ],
   "source": [
    "# 제시된 문장이 어떤 분류에 속할지 \n",
    "\n",
    "classifier(\n",
    "    \"This is a course about the transformers library.\",\n",
    "    candidate_labels=[\"education\", \"business\", \"politics\"]\n",
    ")"
   ]
  },
  {
   "cell_type": "markdown",
   "id": "5a2aee44",
   "metadata": {},
   "source": [
    "# 3. text 생성"
   ]
  },
  {
   "cell_type": "code",
   "execution_count": 16,
   "id": "09786a1c",
   "metadata": {},
   "outputs": [
    {
     "name": "stderr",
     "output_type": "stream",
     "text": [
      "Device set to use cpu\n"
     ]
    },
    {
     "data": {
      "text/plain": [
       "[{'generated_text': 'In this course. We will teach you how to solve problems that are difficult to solve yourself. This is because the problem is complex, and you will need to solve problems that are easy to solve.\\n\\nYour goal is to have a good understanding of the problem that you are trying to solve.\\n\\nHow to solve the problem\\n\\nThe goal of this course is to solve the problem.\\n\\nThe problem is very difficult to solve. The problem is even harder to solve.\\n\\nThe problem is even harder to solve. The problem is even harder to solve.\\n\\nThe problem is even harder to solve. The problem is even harder to solve.\\n\\nThe problem is even harder to solve. The problem is even harder to solve.\\n\\nThe problem is even harder to solve. The problem is even harder to solve.\\n\\nThe problem is even harder to solve. The problem is even harder to solve.\\n\\nThe problem is even harder to solve. The problem is even harder to solve.\\n\\nThe problem is even harder to solve. The problem is even harder to solve.\\n\\nThe problem is even harder to solve. The problem is even harder to solve.\\n\\nThe problem is even harder to solve. The problem is even harder to solve.\\n\\nThe problem is even'}]"
      ]
     },
     "execution_count": 16,
     "metadata": {},
     "output_type": "execute_result"
    }
   ],
   "source": [
    "generator = pipeline(task = \"text-generation\",\n",
    "                    model = \"gpt2\")  # 허깅페이스에는 gpt2까지\n",
    "generator(\"In this course. We will teach you how to\",\n",
    "         pad_token_id=generator.tokenizer.eos_token_id)"
   ]
  },
  {
   "cell_type": "code",
   "execution_count": 17,
   "id": "cbfc1020",
   "metadata": {},
   "outputs": [
    {
     "data": {
      "text/plain": [
       "[{'generated_text': '이 과정은 다음과 같은 방법을 알려드려요. 한 문말하는 수을 현반리 과 정과 같은 다음과 같은 아루은 만로요. 한 합다. 문말하는 수을 현반리 과 정과 같은 다음과 같은 아루은 만로요. 한 합다. 문말하는 수을 현반리 과 정과 같은 다음과 같은 아루은 만로요. 한 친에어�'}]"
      ]
     },
     "execution_count": 17,
     "metadata": {},
     "output_type": "execute_result"
    }
   ],
   "source": [
    "generator(\"이 과정은 다음과 같은 방법을 알려드려요. \",\n",
    "         pad_token_id=generator.tokenizer.eos_token_id)"
   ]
  },
  {
   "cell_type": "markdown",
   "id": "153d8064",
   "metadata": {},
   "source": [
    "# 4. 마스크 채우기"
   ]
  },
  {
   "cell_type": "code",
   "execution_count": 13,
   "id": "fb981d6c",
   "metadata": {},
   "outputs": [
    {
     "name": "stderr",
     "output_type": "stream",
     "text": [
      "Some weights of the model checkpoint at distilroberta-base were not used when initializing RobertaForMaskedLM: ['roberta.pooler.dense.bias', 'roberta.pooler.dense.weight']\n",
      "- This IS expected if you are initializing RobertaForMaskedLM from the checkpoint of a model trained on another task or with another architecture (e.g. initializing a BertForSequenceClassification model from a BertForPreTraining model).\n",
      "- This IS NOT expected if you are initializing RobertaForMaskedLM from the checkpoint of a model that you expect to be exactly identical (initializing a BertForSequenceClassification model from a BertForSequenceClassification model).\n",
      "Device set to use cpu\n"
     ]
    },
    {
     "data": {
      "text/plain": [
       "[{'score': 0.19275875389575958,\n",
       "  'token': 3299,\n",
       "  'token_str': ' doctor',\n",
       "  'sequence': \"I'm going to hospital and meet a doctor\"},\n",
       " {'score': 0.06794668734073639,\n",
       "  'token': 27321,\n",
       "  'token_str': ' psychiatrist',\n",
       "  'sequence': \"I'm going to hospital and meet a psychiatrist\"},\n",
       " {'score': 0.06435622274875641,\n",
       "  'token': 16308,\n",
       "  'token_str': ' surgeon',\n",
       "  'sequence': \"I'm going to hospital and meet a surgeon\"},\n",
       " {'score': 0.05912911519408226,\n",
       "  'token': 9008,\n",
       "  'token_str': ' nurse',\n",
       "  'sequence': \"I'm going to hospital and meet a nurse\"},\n",
       " {'score': 0.05705659091472626,\n",
       "  'token': 1441,\n",
       "  'token_str': ' friend',\n",
       "  'sequence': \"I'm going to hospital and meet a friend\"}]"
      ]
     },
     "execution_count": 13,
     "metadata": {},
     "output_type": "execute_result"
    }
   ],
   "source": [
    "unmasker = pipeline(\"fill-mask\", \"distilroberta-base\")\n",
    "unmasker(\"I'm going to hospital and meet a <mask>\")"
   ]
  },
  {
   "cell_type": "code",
   "execution_count": 14,
   "id": "0b5974ad",
   "metadata": {},
   "outputs": [
    {
     "data": {
      "text/plain": [
       "[{'score': 0.0361194983124733,\n",
       "  'token': 265,\n",
       "  'token_str': ' business',\n",
       "  'sequence': \"Hello, I'm a business model\"},\n",
       " {'score': 0.02683814987540245,\n",
       "  'token': 18150,\n",
       "  'token_str': ' freelance',\n",
       "  'sequence': \"Hello, I'm a freelance model\"}]"
      ]
     },
     "execution_count": 14,
     "metadata": {},
     "output_type": "execute_result"
    }
   ],
   "source": [
    "unmasker(\"Hello, I'm a <mask> model\",\n",
    "        top_k = 2)  # top_k를 안 주면 5개"
   ]
  },
  {
   "cell_type": "code",
   "execution_count": 22,
   "id": "440608a5",
   "metadata": {},
   "outputs": [
    {
     "name": "stderr",
     "output_type": "stream",
     "text": [
      "Some weights of the model checkpoint at google-bert/bert-base-uncased were not used when initializing BertForMaskedLM: ['bert.pooler.dense.bias', 'bert.pooler.dense.weight', 'cls.seq_relationship.bias', 'cls.seq_relationship.weight']\n",
      "- This IS expected if you are initializing BertForMaskedLM from the checkpoint of a model trained on another task or with another architecture (e.g. initializing a BertForSequenceClassification model from a BertForPreTraining model).\n",
      "- This IS NOT expected if you are initializing BertForMaskedLM from the checkpoint of a model that you expect to be exactly identical (initializing a BertForSequenceClassification model from a BertForSequenceClassification model).\n",
      "Device set to use cpu\n"
     ]
    },
    {
     "data": {
      "text/plain": [
       "[{'score': 0.06705890595912933,\n",
       "  'token': 4827,\n",
       "  'token_str': 'fashion',\n",
       "  'sequence': \"hello, i ' m a fashion model\"},\n",
       " {'score': 0.058972738683223724,\n",
       "  'token': 2047,\n",
       "  'token_str': 'new',\n",
       "  'sequence': \"hello, i ' m a new model\"}]"
      ]
     },
     "execution_count": 22,
     "metadata": {},
     "output_type": "execute_result"
    }
   ],
   "source": [
    "# google-bert/bert-base-uncased사용을 위해 key 발부\n",
    "\n",
    "from transformers import pipeline\n",
    "\n",
    "unmasker = pipeline(task = \"fill-mask\",\n",
    "                   model = \"google-bert/bert-base-uncased\")\n",
    "unmasker(\"Hello, I'm a [MASK] model\", top_k = 2)"
   ]
  },
  {
   "cell_type": "code",
   "execution_count": 18,
   "id": "ed6817d8",
   "metadata": {},
   "outputs": [
    {
     "data": {
      "text/plain": [
       "True"
      ]
     },
     "execution_count": 18,
     "metadata": {},
     "output_type": "execute_result"
    }
   ],
   "source": [
    "import os\n",
    "from dotenv import load_dotenv\n",
    "\n",
    "load_dotenv()\n",
    "# print(os.environ['HF_TOKEN'])"
   ]
  },
  {
   "cell_type": "code",
   "execution_count": 19,
   "id": "964f3e8c",
   "metadata": {},
   "outputs": [],
   "source": [
    "from huggingface_hub import InferenceClient\n",
    "\n",
    "client = InferenceClient(provider = \"hf-inference\",\n",
    "                        api_key = os.environ['HF_TOKEN'])\n",
    "result = client.fill_mask(\n",
    "    \"Hello, I'm a [MASK] model\",\n",
    "    model = \"google-bert/bert-base-uncased\",\n",
    "    top_k = 2\n",
    ")"
   ]
  },
  {
   "cell_type": "code",
   "execution_count": 20,
   "id": "3e9fe074",
   "metadata": {},
   "outputs": [
    {
     "data": {
      "text/plain": [
       "[\"hello, i ' m a fashion model\", \"hello, i ' m a new model\"]"
      ]
     },
     "execution_count": 20,
     "metadata": {},
     "output_type": "execute_result"
    }
   ],
   "source": [
    "[r.sequence for r in result]"
   ]
  },
  {
   "cell_type": "code",
   "execution_count": 23,
   "id": "51b81af0",
   "metadata": {},
   "outputs": [
    {
     "name": "stderr",
     "output_type": "stream",
     "text": [
      "Some weights of the model checkpoint at bert-base-multilingual-cased were not used when initializing BertForMaskedLM: ['bert.pooler.dense.bias', 'bert.pooler.dense.weight', 'cls.seq_relationship.bias', 'cls.seq_relationship.weight']\n",
      "- This IS expected if you are initializing BertForMaskedLM from the checkpoint of a model trained on another task or with another architecture (e.g. initializing a BertForSequenceClassification model from a BertForPreTraining model).\n",
      "- This IS NOT expected if you are initializing BertForMaskedLM from the checkpoint of a model that you expect to be exactly identical (initializing a BertForSequenceClassification model from a BertForSequenceClassification model).\n",
      "Device set to use cpu\n"
     ]
    }
   ],
   "source": [
    "from transformers import pipeline\n",
    "\n",
    "unmasker = pipeline(task = \"fill-mask\",\n",
    "                   model = \"bert-base-multilingual-cased\")"
   ]
  },
  {
   "cell_type": "code",
   "execution_count": 24,
   "id": "293a48db",
   "metadata": {},
   "outputs": [
    {
     "data": {
      "text/plain": [
       "[{'score': 0.14155958592891693,\n",
       "  'token': 62592,\n",
       "  'token_str': '여자',\n",
       "  'sequence': '안녕하세요? 나는 여자 모델입니다'},\n",
       " {'score': 0.13301970064640045,\n",
       "  'token': 108399,\n",
       "  'token_str': '가수',\n",
       "  'sequence': '안녕하세요? 나는 가수 모델입니다'},\n",
       " {'score': 0.08411936461925507,\n",
       "  'token': 102574,\n",
       "  'token_str': '프로',\n",
       "  'sequence': '안녕하세요? 나는 프로 모델입니다'}]"
      ]
     },
     "execution_count": 24,
     "metadata": {},
     "output_type": "execute_result"
    }
   ],
   "source": [
    "unmasker(\"안녕하세요? 나는 [MASK] 모델입니다\", top_k = 3)"
   ]
  },
  {
   "cell_type": "markdown",
   "id": "cd5ccc6b",
   "metadata": {},
   "source": [
    "# 5. 개체명 인식(NER : Named Entity REcognition)"
   ]
  },
  {
   "cell_type": "code",
   "execution_count": 40,
   "id": "5826066b",
   "metadata": {},
   "outputs": [
    {
     "name": "stderr",
     "output_type": "stream",
     "text": [
      "No model was supplied, defaulted to dbmdz/bert-large-cased-finetuned-conll03-english and revision 4c53496 (https://huggingface.co/dbmdz/bert-large-cased-finetuned-conll03-english).\n",
      "Using a pipeline without specifying a model name and revision in production is not recommended.\n",
      "Some weights of the model checkpoint at dbmdz/bert-large-cased-finetuned-conll03-english were not used when initializing BertForTokenClassification: ['bert.pooler.dense.bias', 'bert.pooler.dense.weight']\n",
      "- This IS expected if you are initializing BertForTokenClassification from the checkpoint of a model trained on another task or with another architecture (e.g. initializing a BertForSequenceClassification model from a BertForPreTraining model).\n",
      "- This IS NOT expected if you are initializing BertForTokenClassification from the checkpoint of a model that you expect to be exactly identical (initializing a BertForSequenceClassification model from a BertForSequenceClassification model).\n",
      "Device set to use cpu\n"
     ]
    }
   ],
   "source": [
    "ner = pipeline(task = \"ner\")"
   ]
  },
  {
   "cell_type": "code",
   "execution_count": 41,
   "id": "1c6b9e15",
   "metadata": {},
   "outputs": [
    {
     "data": {
      "text/plain": [
       "[{'entity': 'I-PER',\n",
       "  'score': 0.9987527,\n",
       "  'index': 4,\n",
       "  'word': 'Tom',\n",
       "  'start': 11,\n",
       "  'end': 14},\n",
       " {'entity': 'I-ORG',\n",
       "  'score': 0.9977857,\n",
       "  'index': 9,\n",
       "  'word': 'Facebook',\n",
       "  'start': 29,\n",
       "  'end': 37},\n",
       " {'entity': 'I-LOC',\n",
       "  'score': 0.9946062,\n",
       "  'index': 11,\n",
       "  'word': 'Brooklyn',\n",
       "  'start': 41,\n",
       "  'end': 49}]"
      ]
     },
     "execution_count": 41,
     "metadata": {},
     "output_type": "execute_result"
    }
   ],
   "source": [
    "ner(\"My name is Tom and I work at Facebook in Brooklyn\")"
   ]
  },
  {
   "cell_type": "markdown",
   "id": "6ea08f5b",
   "metadata": {},
   "source": [
    "# 6. 질의 응답"
   ]
  },
  {
   "cell_type": "code",
   "execution_count": 26,
   "id": "e905aa68",
   "metadata": {},
   "outputs": [
    {
     "name": "stderr",
     "output_type": "stream",
     "text": [
      "Device set to use cpu\n"
     ]
    }
   ],
   "source": [
    "from transformers import pipeline\n",
    "\n",
    "question_answer = pipeline(\"question-answering\",\n",
    "                          \"distilbert-base-cased-distilled-squad\")"
   ]
  },
  {
   "cell_type": "code",
   "execution_count": 27,
   "id": "bd02393d",
   "metadata": {},
   "outputs": [
    {
     "data": {
      "text/plain": [
       "{'score': 0.5976610779762268, 'start': 29, 'end': 37, 'answer': 'Facebook'}"
      ]
     },
     "execution_count": 27,
     "metadata": {},
     "output_type": "execute_result"
    }
   ],
   "source": [
    "question_answer(\n",
    "    question = \"Where do I work?\",\n",
    "    context = \"My name is Tom and I work at Facebook in Brooklyn\"\n",
    ")"
   ]
  },
  {
   "cell_type": "code",
   "execution_count": 29,
   "id": "651e11e5",
   "metadata": {},
   "outputs": [
    {
     "data": {
      "text/plain": [
       "'Facebook'"
      ]
     },
     "execution_count": 29,
     "metadata": {},
     "output_type": "execute_result"
    }
   ],
   "source": [
    "context = \"My name is Tom and I work at Facebook in Brooklyn\"\n",
    "context[29:37]"
   ]
  },
  {
   "cell_type": "markdown",
   "id": "af81a818",
   "metadata": {},
   "source": [
    "# 7. 문서요약\n",
    "\n",
    "- 현재 torch 2.6이상 추천"
   ]
  },
  {
   "cell_type": "code",
   "execution_count": 30,
   "id": "654769b8",
   "metadata": {},
   "outputs": [
    {
     "data": {
      "text/plain": [
       "'2.5.1'"
      ]
     },
     "execution_count": 30,
     "metadata": {},
     "output_type": "execute_result"
    }
   ],
   "source": [
    "import torch\n",
    "\n",
    "torch.__version__"
   ]
  },
  {
   "cell_type": "code",
   "execution_count": 31,
   "id": "27fddf67",
   "metadata": {},
   "outputs": [
    {
     "name": "stderr",
     "output_type": "stream",
     "text": [
      "Device set to use cpu\n"
     ]
    }
   ],
   "source": [
    "summarizer = pipeline(task = \"summarization\",\n",
    "                     model = \"facebook/bart-large-cnn\")"
   ]
  },
  {
   "cell_type": "code",
   "execution_count": 32,
   "id": "7647ea15",
   "metadata": {},
   "outputs": [
    {
     "data": {
      "text/plain": [
       "[{'summary_text': 'Six of the group’s seven members served in the army. Suga fulfilled his duty as a social service agent, an alternative form of military service. Jimin and Jung Kook were discharged a day later.'}]"
      ]
     },
     "execution_count": 32,
     "metadata": {},
     "output_type": "execute_result"
    }
   ],
   "source": [
    "summarizer(\"\"\"It is a momentous occasion for fans of the K-pop group BTS. The seven singers of the popular K-pop band plan to reunite as a group sometime in 2025 now that they’ve finished their service.\n",
    "Last week, BTS superstars RM and V were discharged from South Korea’s military after fulfilling their mandatory service. Jimin and Jung Kook were discharged a day later. All four were enlisted in December 2023.\n",
    "K-pop supergroup BTS could soon make a comeback with six out of its seven members discharged from South Korea’s military\n",
    "Six of the group’s seven members served in the army, while Suga fulfilled his duty as a social service agent, an alternative form of military service.\n",
    "Jin, the oldest BTS member, was discharged in June 2024. J-Hope was discharged in October.\n",
    "\"\"\",\n",
    "   max_length = 150,\n",
    "   min_length = 30,\n",
    "   do_sample = False  # True면 무작위 단어로 창의적으로 요약\n",
    ")"
   ]
  },
  {
   "cell_type": "markdown",
   "id": "0ce6c644",
   "metadata": {},
   "source": [
    "# 8. 번역"
   ]
  },
  {
   "cell_type": "code",
   "execution_count": 33,
   "id": "521c7657",
   "metadata": {},
   "outputs": [
    {
     "name": "stderr",
     "output_type": "stream",
     "text": [
      "All model checkpoint layers were used when initializing TFMarianMTModel.\n",
      "\n",
      "All the layers of TFMarianMTModel were initialized from the model checkpoint at Helsinki-NLP/opus-mt-ko-en.\n",
      "If your task is similar to the task the model of the checkpoint was trained on, you can already use TFMarianMTModel for predictions without further training.\n",
      "Device set to use 0\n",
      "Device set to use cpu\n"
     ]
    }
   ],
   "source": [
    "# 한 → 영\n",
    "ko2en = pipeline(\"translation\", \n",
    "                model = \"Helsinki-NLP/opus-mt-ko-en\")\n",
    "\n",
    "# 영 → 한(?)\n",
    "en2ko = pipeline(\"translation\",\n",
    "                model = \"Helsinki-NLP/opus-mt-tc-big-en-ko\")"
   ]
  },
  {
   "cell_type": "code",
   "execution_count": 34,
   "id": "f63e7411",
   "metadata": {},
   "outputs": [
    {
     "name": "stdout",
     "output_type": "stream",
     "text": [
      "한 → 영 : Please translate this sentence into English.\n",
      "영 → 한 : US  팽창식 줄.\n"
     ]
    }
   ],
   "source": [
    "# 테스트 문장\n",
    "\n",
    "ko_sentence = \"이 문장을 영어로 번역해 주세요.\"\n",
    "en_sentence = \"I enjoy learning about AI.\"\n",
    "ko_result = ko2en(ko_sentence)[0]['translation_text']\n",
    "en_result = en2ko(en_sentence)[0]['translation_text']\n",
    "print(\"한 → 영 :\", ko_result)\n",
    "print(\"영 → 한 :\", en_result)"
   ]
  },
  {
   "cell_type": "code",
   "execution_count": 35,
   "id": "c8bb93ae",
   "metadata": {},
   "outputs": [],
   "source": [
    "result = ko2en([\n",
    "    \"이 문장을 영어로 번역해 주세요.\",\n",
    "    \"내일은 드디어 LLM 시작!\",\n",
    "    \"머신러닝과 딥러닝 평가가 있어요\"\n",
    "])"
   ]
  },
  {
   "cell_type": "code",
   "execution_count": 36,
   "id": "99a3323c",
   "metadata": {},
   "outputs": [
    {
     "name": "stdout",
     "output_type": "stream",
     "text": [
      "Please translate this sentence into English.\n",
      "Tomorrow, we're finally starting the LLM!\n",
      "I've got machine-driving and deep-running evaluations.\n"
     ]
    }
   ],
   "source": [
    "print('\\n'.join([r['translation_text'] for r in result]))"
   ]
  },
  {
   "cell_type": "markdown",
   "id": "f64b3e2c",
   "metadata": {},
   "source": [
    "# 9. 이미지를 설명하는 텍스트 생성"
   ]
  },
  {
   "cell_type": "code",
   "execution_count": 37,
   "id": "c818b1d5",
   "metadata": {},
   "outputs": [
    {
     "name": "stderr",
     "output_type": "stream",
     "text": [
      "All model checkpoint layers were used when initializing TFVisionEncoderDecoderModel.\n",
      "\n",
      "All the layers of TFVisionEncoderDecoderModel were initialized from the model checkpoint at ydshieh/vit-gpt2-coco-en.\n",
      "If your task is similar to the task the model of the checkpoint was trained on, you can already use TFVisionEncoderDecoderModel for predictions without further training.\n",
      "Using a slow image processor as `use_fast` is unset and a slow processor was saved with this model. `use_fast=True` will be the default behavior in v4.52, even if the model was saved with a slow processor. This will result in minor differences in outputs. You'll still be able to use a slow processor with `use_fast=False`.\n",
      "Device set to use 0\n"
     ]
    }
   ],
   "source": [
    "imagetotext = pipeline(task = \"image-to-text\",\n",
    "                      model = \"ydshieh/vit-gpt2-coco-en\")"
   ]
  },
  {
   "cell_type": "code",
   "execution_count": 38,
   "id": "33dfb94f",
   "metadata": {},
   "outputs": [
    {
     "data": {
      "image/jpeg": "[encoded data removed]",
      "image/png": "[encoded data removed]",
      "text/plain": [
       "<PIL.Image.Image image mode=L size=150x150>"
      ]
     },
     "execution_count": 38,
     "metadata": {},
     "output_type": "execute_result"
    }
   ],
   "source": [
    "url = 'https://huggingface.co/datasets/Narsil/image_dummy/resolve/main/parrots.png'\n",
    "\n",
    "from PIL import Image\n",
    "import requests\n",
    "\n",
    "image = Image.open(requests.get(url, stream = True).raw)\n",
    "small_image = image.resize((150, 150))\n",
    "small_image"
   ]
  },
  {
   "cell_type": "code",
   "execution_count": 39,
   "id": "2a95eb56",
   "metadata": {},
   "outputs": [
    {
     "data": {
      "text/plain": [
       "[{'generated_text': 'two birds are standing next to each other '}]"
      ]
     },
     "execution_count": 39,
     "metadata": {},
     "output_type": "execute_result"
    }
   ],
   "source": [
    "imagetotext(url, max_new_tokens = 30)"
   ]
  },
  {
   "cell_type": "code",
   "execution_count": 42,
   "id": "beebec19",
   "metadata": {},
   "outputs": [
    {
     "data": {
      "text/plain": [
       "(PIL.Image.Image, PIL.PngImagePlugin.PngImageFile)"
      ]
     },
     "execution_count": 42,
     "metadata": {},
     "output_type": "execute_result"
    }
   ],
   "source": [
    "type(small_image), type(image)"
   ]
  },
  {
   "cell_type": "code",
   "execution_count": 43,
   "id": "bdc81fcb",
   "metadata": {},
   "outputs": [
    {
     "data": {
      "text/plain": [
       "[{'generated_text': 'two birds are standing next to each other '}]"
      ]
     },
     "execution_count": 43,
     "metadata": {},
     "output_type": "execute_result"
    }
   ],
   "source": [
    "imagetotext(image, max_new_tokens = 50)"
   ]
  },
  {
   "cell_type": "code",
   "execution_count": 44,
   "id": "513e2648",
   "metadata": {},
   "outputs": [
    {
     "data": {
      "image/jpeg": "[encoded data removed]",
      "image/png": "[encoded data removed]",
      "text/plain": [
       "<PIL.Image.Image image mode=RGB size=150x150>"
      ]
     },
     "execution_count": 44,
     "metadata": {},
     "output_type": "execute_result"
    }
   ],
   "source": [
    "# 내 PC의 이미지 설명\n",
    "\n",
    "image = Image.open('images/fb.jpg')\n",
    "image.resize((150, 150))"
   ]
  },
  {
   "cell_type": "code",
   "execution_count": 45,
   "id": "3f82ad35",
   "metadata": {},
   "outputs": [
    {
     "data": {
      "text/plain": [
       "[{'generated_text': 'a variety of fruits and vegetables are displayed on a table '}]"
      ]
     },
     "execution_count": 45,
     "metadata": {},
     "output_type": "execute_result"
    }
   ],
   "source": [
    "imagetotext('images/fb.jpg', max_new_tokens = 300)"
   ]
  },
  {
   "cell_type": "code",
   "execution_count": 46,
   "id": "ea27de7f",
   "metadata": {},
   "outputs": [
    {
     "data": {
      "text/plain": [
       "[{'generated_text': 'a variety of fruits and vegetables are displayed on a table '}]"
      ]
     },
     "execution_count": 46,
     "metadata": {},
     "output_type": "execute_result"
    }
   ],
   "source": [
    "imagetotext(image, max_new_tokens = 30)"
   ]
  },
  {
   "cell_type": "markdown",
   "id": "917f21dd",
   "metadata": {},
   "source": [
    "# 10. 이미지분류"
   ]
  },
  {
   "cell_type": "code",
   "execution_count": 47,
   "id": "be9a424a",
   "metadata": {},
   "outputs": [
    {
     "data": {
      "image/jpeg": "[encoded data removed]",
      "image/png": "[encoded data removed]",
      "text/plain": [
       "<PIL.Image.Image image mode=RGB size=150x150>"
      ]
     },
     "execution_count": 47,
     "metadata": {},
     "output_type": "execute_result"
    }
   ],
   "source": [
    "image = Image.open('images/cat.jpg')\n",
    "image.resize((150, 150))"
   ]
  },
  {
   "cell_type": "code",
   "execution_count": 48,
   "id": "5e307656",
   "metadata": {},
   "outputs": [
    {
     "name": "stderr",
     "output_type": "stream",
     "text": [
      "No model was supplied, defaulted to google/vit-base-patch16-224 and revision 3f49326 (https://huggingface.co/google/vit-base-patch16-224).\n",
      "Using a pipeline without specifying a model name and revision in production is not recommended.\n",
      "Fast image processor class <class 'transformers.models.vit.image_processing_vit_fast.ViTImageProcessorFast'> is available for this model. Using slow image processor class. To use the fast image processor class set `use_fast=True`.\n",
      "Device set to use cpu\n"
     ]
    }
   ],
   "source": [
    "# model명을 기입하지 않으면 task에 따라 기본 모델 자동 셋팅\n",
    "\n",
    "imgclassifier = pipeline(task = \"image-classification\")"
   ]
  },
  {
   "cell_type": "code",
   "execution_count": 49,
   "id": "bff6f8da",
   "metadata": {},
   "outputs": [
    {
     "data": {
      "text/plain": [
       "[{'label': 'Egyptian cat', 'score': 0.853131890296936},\n",
       " {'label': 'tabby, tabby cat', 'score': 0.04750382527709007},\n",
       " {'label': 'tiger cat', 'score': 0.03486616536974907},\n",
       " {'label': 'Persian cat', 'score': 0.007555846590548754},\n",
       " {'label': 'Siamese cat, Siamese', 'score': 0.003788590431213379}]"
      ]
     },
     "execution_count": 49,
     "metadata": {},
     "output_type": "execute_result"
    }
   ],
   "source": [
    "imgclassifier(image)"
   ]
  }
 ],
 "metadata": {
  "kernelspec": {
   "display_name": "ml-dl-nlp",
   "language": "python",
   "name": "ml-dl-nlp"
  },
  "language_info": {
   "codemirror_mode": {
    "name": "ipython",
    "version": 3
   },
   "file_extension": ".py",
   "mimetype": "text/x-python",
   "name": "python",
   "nbconvert_exporter": "python",
   "pygments_lexer": "ipython3",
   "version": "3.10.18"
  },
  "toc": {
   "base_numbering": 1,
   "nav_menu": {},
   "number_sections": false,
   "sideBar": true,
   "skip_h1_title": false,
   "title_cell": "Table of Contents",
   "title_sidebar": "Contents",
   "toc_cell": false,
   "toc_position": {
    "height": "calc(100% - 180px)",
    "left": "10px",
    "top": "150px",
    "width": "165px"
   },
   "toc_section_display": true,
   "toc_window_display": true
  }
 },
 "nbformat": 4,
 "nbformat_minor": 5
}
