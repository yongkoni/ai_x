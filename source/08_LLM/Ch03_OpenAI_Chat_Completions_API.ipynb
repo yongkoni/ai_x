{
 "cells": [
  {
   "cell_type": "code",
   "execution_count": 1,
   "id": "c285a315",
   "metadata": {},
   "outputs": [
    {
     "data": {
      "text/html": [
       "<style>\n",
       "div.container{width:86% !important;}\n",
       "div.cell.code_cell.rendered{width:100%;}\n",
       "div.CodeMirror {font-family:Consolas; font-size:12pt;}\n",
       "div.output {font-size:12pt; font-weight:bold;}\n",
       "div.input {font-family:Consolas; font-size:12pt;}\n",
       "div.prompt {min-width:70px;}\n",
       "div#toc-wrapper{padding-top:120px;}\n",
       "div.text_cell_render ul li{fontsize:12pt;padding:5px;}\n",
       "table.dataframe{font-size:12px;}))\n",
       "</style>\n"
      ],
      "text/plain": [
       "<IPython.core.display.HTML object>"
      ]
     },
     "metadata": {},
     "output_type": "display_data"
    }
   ],
   "source": [
    "from IPython.display import display, HTML\n",
    "display(HTML(\"\"\"<style>\n",
    "div.container{width:86% !important;}\n",
    "div.cell.code_cell.rendered{width:100%;}\n",
    "div.CodeMirror {font-family:Consolas; font-size:12pt;}\n",
    "div.output {font-size:12pt; font-weight:bold;}\n",
    "div.input {font-family:Consolas; font-size:12pt;}\n",
    "div.prompt {min-width:70px;}\n",
    "div#toc-wrapper{padding-top:120px;}\n",
    "div.text_cell_render ul li{fontsize:12pt;padding:5px;}\n",
    "table.dataframe{font-size:12px;}))\n",
    "</style>\n",
    "\"\"\"))"
   ]
  },
  {
   "cell_type": "markdown",
   "id": "ea72bc2a",
   "metadata": {},
   "source": [
    "# <span style=\"color:red\">ch03 OpenAI Chat Completions API</span>"
   ]
  },
  {
   "cell_type": "markdown",
   "id": "b5ba58a1",
   "metadata": {},
   "source": [
    "# OpenAI Chat Completions API \n",
    "\n",
    "이 튜토리얼은 OpenAI의 Chat Completions API를 활용하여 챗봇이나 AI 기능을 개발하는 방법을 단계별로 설명합니다. \n",
    "특히 OpenAI의 최신 언어 모델 중 하나인 GPT-4o를 사용하여 예제를 진행할 것입니다. \n",
    "각 섹션에는 개념 설명과 함께 실행 가능한 파이썬 코드 예제가 포함되어 있습니다."
   ]
  },
  {
   "cell_type": "markdown",
   "id": "040a7d3a",
   "metadata": {},
   "source": [
    "### 주요 학습 내용 :\n",
    "\n",
    "1. OpenAI API 소개 및 환경 설정 : OpenAI API 개요, API 키 발급 및 보안 설정, 파이썬 클라이언트 설치 및 인스턴스 생성 방법\n",
    "2. 기본적인 Chat Completions API 사용법 : 간단한 대화형 텍스트 생성 요청과 응답 처리, 프롬프트 엔지니어링 기초\n",
    "3. 스트리밍 응답 : 대화 응답을 스트리밍 방식으로 받아 실시간 처리하는 방법\n",
    "4. 시스템 메시지 활용 : 시스템 역할 메시지를 사용하여 AI의 응답 스타일이나 행동을 조정하는 방법\n",
    "5. 고급 활용법 : 토큰 최적화와 비용 절감 전략, OpenAI API 에러 처리 및 예외Handling\n",
    "6. 실전 프로젝트 예제 : 간단한 챗봇 구현 및 외부 데이터/API와 연동하여 데이터 분석 기능을 결합한 사례"
   ]
  },
  {
   "cell_type": "markdown",
   "id": "62828cf7",
   "metadata": {},
   "source": [
    "## 1. OpenAI API 소개 및 환경 설정\n",
    "\n",
    "먼저 OpenAI API와 Chat Completions에 대해 간략히 알아보고, API를 사용하기 위한 환경을 설정해보겠습니다."
   ]
  },
  {
   "cell_type": "markdown",
   "id": "b851f6bc",
   "metadata": {},
   "source": [
    "### OpenAI API 개요\n",
    "\n",
    "OpenAI API는 GPT 계열의 대규모 언어 모델을 인터넷을 통해 사용할 수 있도록 제공하는 서비스입니다. \n",
    "Chat Completions API는 챗봇과 유사한 대화형 상호작용을 할 수 있는 엔드포인트로, \n",
    "역할(role)이 부여된 메시지 목록을 입력하면 모델이 다음 대화 내용을 생성합니다. \n",
    "GPT-4o는 2025년 3월 현재 가장 강력한 모델 중 하나로, \n",
    "텍스트와 이미지 입력을 모두 처리하며 최대 128k 토큰의 긴 문맥을 다룰 수 있습니다. \n",
    "GPT-4o와 경량화 모델인 GPT-4o-mini 등이 제공되며, 요구 사항에 따라 적절한 모델을 선택할 수 있습니다. \n",
    "(GPT-4o-mini는 비용 효율이 높음)"
   ]
  },
  {
   "cell_type": "markdown",
   "id": "21f50af3",
   "metadata": {},
   "source": [
    "### API 키 발급 및 보안 설정\n",
    "\n",
    "OpenAI API를 사용하려면 먼저 OpenAI 계정에서 API 키를 발급받아야 합니다. \n",
    "OpenAI 웹사이트의 API Keys 페이지에서 새로운 비밀 키를 생성할 수 있습니다. \n",
    "발급받은 API 키는 비밀로 관리해야 하며, 소스 코드나 공개 저장소에 노출되지 않도록 주의해야 합니다. \n",
    "가장 좋은 방법은 API 키를 코드에 하드코딩하지 않고, 환경 변수나 별도의 설정 파일에 저장하는 것입니다. \n",
    "이 튜토리얼에서는 .env 파일에 키를 저장하고 파이썬에서 이를 불러오는 방식을 사용합니다. \n",
    "이를 위해 Python용 패키지 **python-dotenv** 를 활용하겠습니다.\n",
    "\n",
    "- .env 파일에 키 저장 : 프로젝트 디렉터리에 .env 파일을 만들고 아래와 같이 API 키를 저장합니다 (따옴표 없이).\n",
    "\n",
    "    OPENAI_API_KEY = 발급받은 -API키- 값\n",
    "\n",
    "- python-dotenv 사용 : 파이썬 코드에서 python-dotenv를 이용해 .env 파일의 환경 변수를 불러올 수 있습니다."
   ]
  },
  {
   "cell_type": "code",
   "execution_count": 2,
   "id": "c7c9d260",
   "metadata": {},
   "outputs": [
    {
     "data": {
      "text/plain": [
       "'1.91.0'"
      ]
     },
     "execution_count": 2,
     "metadata": {},
     "output_type": "execute_result"
    }
   ],
   "source": [
    "import openai\n",
    "\n",
    "openai.__version__"
   ]
  },
  {
   "cell_type": "code",
   "execution_count": 2,
   "id": "b3048007",
   "metadata": {},
   "outputs": [
    {
     "name": "stdout",
     "output_type": "stream",
     "text": [
      "key : sk-pr\n"
     ]
    }
   ],
   "source": [
    "import os\n",
    "from dotenv import load_dotenv\n",
    "\n",
    "load_dotenv()  # 환경변수 load\n",
    "openai_key = os.getenv('OPENAI_API_KEY')\n",
    "print('key :', openai_key[:5])"
   ]
  },
  {
   "cell_type": "code",
   "execution_count": 5,
   "id": "16b1bf54",
   "metadata": {},
   "outputs": [],
   "source": [
    "from openai import OpenAI\n",
    "\n",
    "# client = OpenAI(\n",
    "   # api_key=openai_key\n",
    "# )\n",
    "# 환경변수에 OPENAI_API_KEY가 설정되어 있다면 다음과 같이 간단히 생성 가능\n",
    "client = OpenAI()"
   ]
  },
  {
   "cell_type": "markdown",
   "id": "bafd7157",
   "metadata": {},
   "source": [
    "위 코드로 client 객체가 생성되었습니다. \n",
    "이제 이 client를 통해 OpenAI Chat Completions API를 호출할 수 있습니다. \n",
    "다음 섹션부터는 실제로 Chat Completions API를 호출하여 다양한 기능을 실습해보겠습니다."
   ]
  },
  {
   "cell_type": "markdown",
   "id": "df305586",
   "metadata": {},
   "source": [
    "## 2. 기본적인 Chat Completions API 사용법\n",
    "\n",
    "이 섹션에서는 Chat Completions API를 사용하여 가장 기본적인 대화 생성 작업을 수행해봅니다."
   ]
  },
  {
   "cell_type": "markdown",
   "id": "0f1bcfba",
   "metadata": {},
   "source": [
    "###  간단한 텍스트 생성 요청\n",
    "\n",
    "Chat Completions 엔드포인트는 메시지 목록을 입력으로 받아 다음에 이어질 메시지를 생성합니다. \n",
    "각 메시지는 role과 content 필드로 구성되어 있으며, \n",
    "일반적으로 **user (사용자 메시지), assistant (모델의 응답 메시지), system (시스템 지시 메시지)** 세 가지 역할을 사용합니다. \n",
    "가장 간단한 예제로, 사용자 역할의 메시지 하나를 모델에 보내고 응답을 받아보겠습니다. \n",
    "모델은 gpt-4.1-nano를 사용합니다."
   ]
  },
  {
   "cell_type": "code",
   "execution_count": 6,
   "id": "55b46abf",
   "metadata": {},
   "outputs": [
    {
     "data": {
      "text/plain": [
       "ChatCompletion(id='chatcmpl-BmaJRz40Cyl365gRQE5s3VJwfFvbv', choices=[Choice(finish_reason='stop', index=0, logprobs=None, message=ChatCompletionMessage(content='안녕하세요! 죄송하지만, 저는 실시간 날씨 정보를 제공할 수 없습니다. 오늘의 정확한 날씨를 확인하시려면 기상청 웹사이트나 날씨 앱을 이용해 주세요. 도움이 필요하시면 언제든 말씀해 주세요!', refusal=None, role='assistant', annotations=[], audio=None, function_call=None, tool_calls=None))], created=1750919029, model='gpt-4.1-nano-2025-04-14', object='chat.completion', service_tier='default', system_fingerprint='fp_f12167b370', usage=CompletionUsage(completion_tokens=54, prompt_tokens=18, total_tokens=72, completion_tokens_details=CompletionTokensDetails(accepted_prediction_tokens=0, audio_tokens=0, reasoning_tokens=0, rejected_prediction_tokens=0), prompt_tokens_details=PromptTokensDetails(audio_tokens=0, cached_tokens=0)))"
      ]
     },
     "execution_count": 6,
     "metadata": {},
     "output_type": "execute_result"
    }
   ],
   "source": [
    "# 사용자 메세지 구성\n",
    "\n",
    "messages = [\n",
    "    {\"role\":\"user\", \"content\":\"안녕하세요. 오늘 날씨가 어떤가요?\"}\n",
    "]\n",
    "response = client.chat.completions.create(\n",
    "    model=\"gpt-4.1-nano\",\n",
    "    messages=messages,\n",
    "    temperature = 0.7,  # 0 ~ 2 : 일관적 ~ 창의적(예측을 벗어난)\n",
    "    frequency_penalty = 0.5\n",
    ")\n",
    "response"
   ]
  },
  {
   "cell_type": "code",
   "execution_count": 7,
   "id": "fc76000d",
   "metadata": {},
   "outputs": [
    {
     "data": {
      "text/plain": [
       "'안녕하세요! 죄송하지만, 저는 실시간 날씨 정보를 제공할 수 없습니다. 오늘의 정확한 날씨를 확인하시려면 기상청 웹사이트나 날씨 앱을 이용해 주세요. 도움이 필요하시면 언제든 말씀해 주세요!'"
      ]
     },
     "execution_count": 7,
     "metadata": {},
     "output_type": "execute_result"
    }
   ],
   "source": [
    "response.choices[0].message.content"
   ]
  },
  {
   "cell_type": "code",
   "execution_count": 8,
   "id": "7ecb35f5",
   "metadata": {},
   "outputs": [
    {
     "name": "stdout",
     "output_type": "stream",
     "text": [
      "2020년 월드 시리즈에서는 워싱턴 내셔널스(워싱턴 베이스볼 클럽)가 우승했어요. 내셔널리그 챔피언으로서 토론토 블루제이스를 4-3으로 승리하며 우승을 차지했습니다. 이로써 워싱턴 내셔널스는 2019년에 이어 두 해 연속 월드 시리즈에서 우승한 팀이 되었죠.\n"
     ]
    }
   ],
   "source": [
    "response = client.chat.completions.create(\n",
    "    model = \"gpt-4.1-nano\",\n",
    "    messages = [\n",
    "        {\"role\":\"system\", \"content\":\"너는 친절하게 대답해 주는 비서야\"},  # 역할부여\n",
    "        {\"role\":\"user\", \"content\":\"2020년 월드 시리즈에서 누가 우승했어?\"},  # 질문\n",
    "    ],\n",
    "    temperature = 1,\n",
    "    frequency_penalty = 0.5\n",
    ")\n",
    "print(response.choices[0].message.content)"
   ]
  },
  {
   "cell_type": "code",
   "execution_count": 9,
   "id": "ef455cf6",
   "metadata": {},
   "outputs": [
    {
     "name": "stdout",
     "output_type": "stream",
     "text": [
      "2002년 월드컵에서 한국이 화제가 된 이유는 첫 아시아 팀으로 4강까지 진출하며 역사적인 성과를 냈기 때문입니다. 뛰어난 팀워크와 열정적인 경기력으로 많은 응원을 받았고, 특히 '붉은 악마' 응원단이 국내외 모두의 이목을 끌었습니다. 또한, 이 대회에서의 성공은 대한민국 축구 역사에 큰 의미를 남겼습니다.\n"
     ]
    }
   ],
   "source": [
    "# 이전 답변을 포함하여 답변하기\n",
    "\n",
    "response = client.chat.completions.create(\n",
    "    model = \"gpt-4.1-nano\",\n",
    "    messages = [\n",
    "        {\"role\":\"system\", \"content\":\"너는 친절하게 답변해 주는 비서야\"},  # 역할 부여\n",
    "        {\"role\":\"user\", \"content\":\"2002년 월드컵에서 가장 화제가 되었던 나라는 어디?\"},\n",
    "        {\"role\":\"assistant\", \"content\":\"바로 예상을 뚫고 4강 진출 신화를 일으킨 한국입니다\"},\n",
    "        {\"role\":\"user\", \"content\":\"화제가 된 이유를 3줄로 설명해 줘\"}\n",
    "    ],\n",
    ")\n",
    "print(response.choices[0].message.content)"
   ]
  },
  {
   "cell_type": "code",
   "execution_count": 10,
   "id": "b04f84d2",
   "metadata": {},
   "outputs": [],
   "source": [
    "# JSON 형태로 받기\n",
    "\n",
    "response = client.chat.completions.create(\n",
    "    model = \"gpt-4.1-nano\",\n",
    "    response_format = {\"type\":\"json_object\"},  # json형태로 응답\n",
    "    messages = [\n",
    "        {\"role\":\"system\", \"content\":\"You are a helpful assistant designed to output JSON\"},\n",
    "        {\"role\":\"user\", \"content\":\"Who won the world series in 2020?\"}\n",
    "    ]\n",
    ")"
   ]
  },
  {
   "cell_type": "code",
   "execution_count": 11,
   "id": "4baa3d8e",
   "metadata": {},
   "outputs": [
    {
     "name": "stdout",
     "output_type": "stream",
     "text": [
      "{\n",
      "  \"winner\": \"Los Angeles Dodgers\",\n",
      "  \"year\": 2020\n",
      "} <class 'str'>\n"
     ]
    }
   ],
   "source": [
    "result = response.choices[0].message.content\n",
    "print(result, type(result))"
   ]
  },
  {
   "cell_type": "code",
   "execution_count": 12,
   "id": "064b26df",
   "metadata": {},
   "outputs": [
    {
     "data": {
      "text/plain": [
       "{'winner': 'Los Angeles Dodgers', 'year': 2020}"
      ]
     },
     "execution_count": 12,
     "metadata": {},
     "output_type": "execute_result"
    }
   ],
   "source": [
    "import json\n",
    "\n",
    "dic_result = json.loads(result)\n",
    "dic_result"
   ]
  },
  {
   "cell_type": "code",
   "execution_count": 14,
   "id": "6dcdf5e6",
   "metadata": {},
   "outputs": [],
   "source": [
    "# 웹 예제\n",
    "\n",
    "def askGpt(prompt) :\n",
    "    \"GPT에게 prompt요청 결과 반환\"\n",
    "    client = OpenAI()\n",
    "    response = client.chat.completions.create(\n",
    "        model = \"gpt-4.1-nano\",\n",
    "        messages = [\n",
    "            {\"role\":\"system\", \n",
    "             \"content\":\"당신은 한국어로 된 텍스트를 잘 요약하는 전문 어시스턴트입니다\"\n",
    "            },\n",
    "            {\"role\":\"user\", \"content\":prompt}\n",
    "        ]\n",
    "    )\n",
    "    return response.choices[0].message.content"
   ]
  },
  {
   "cell_type": "code",
   "execution_count": 15,
   "id": "274b37c7",
   "metadata": {},
   "outputs": [
    {
     "name": "stdout",
     "output_type": "stream",
     "text": [
      "요약할 글을 입력하세요휴먼게놈 프로젝트로 인간 유전체 염기서열이 지도화된 지 20년이 지났지만 유전체의 상당 부분은 아직도 미스터리로 남아있다. DNA 염기서열은 약간만 달라져도 유전질환에 걸릴 수도 있고 환경에 대한 적응력도 바뀐다. DNA 염기서열을 분자 수준에서 정확히 해독하면 유전자에 어떤 변이가 일어났을 때 어떤 생물학적 변화가 생기는지 이해할 수 있게 된다.  국제학술지 네이처에 따르면 딥마인드는 25일(현지시간) 공식 홈페이지에 염기서열 분석 AI 모델 '알파게놈'을 공개했다. 알파게놈은 DNA 염기서열을 포괄적으로 처리해 총체적으로 이해하는 게 목표다.\n",
      "- 인간 유전체 지도화 후 20년이 지났지만 아직도 많은 유전체 부분이 미스터리로 남아있으며, DNA 염기서열 분석은 유전 질환과 적응력 이해에 중요하다.  \n",
      "- 딥마인드는 알파게놈 AI 모델을 통해 DNA 염기서열을 포괄적으로 분석하여 유전자 변이와 생물학적 변화의 이해를 목표로 하고 있다.\n"
     ]
    }
   ],
   "source": [
    "message = input('요약할 글을 입력하세요')\n",
    "if message :\n",
    "    prompt = f\"\"\"your task is to summarize the text sentences in Korean language.\n",
    "    Summarize in 2 lines. use the format of a bullet point.\n",
    "    text : {message}\"\"\"\n",
    "    result = askGpt(prompt)\n",
    "    print(result)"
   ]
  },
  {
   "cell_type": "markdown",
   "id": "9b16d214",
   "metadata": {},
   "source": [
    "## 3. 스트리밍 응답 (Streaming)\n",
    "\n",
    "기본적으로 OpenAI API는 요청에 대한 완료된 답변을 한꺼번에 반환합니다.\n",
    "그러나 긴 답변의 경우 스트리밍을 사용하면 마치 타이핑을 하듯이 토큰 단위로 차례로 응답을 받을 수 있습니다.\n",
    "스트리밍을 활용하면 사용자에게 실시간으로 응답을 표시하거나, 매우 긴 응답을 부분 부분 처리할 수 있습니다."
   ]
  },
  {
   "cell_type": "markdown",
   "id": "45dc06ac",
   "metadata": {},
   "source": [
    "### 스트리밍이 필요한 경우\n",
    "\n",
    "- 실시간 피드백 : 사용자 경험을 개선하기 위해 답변 생성을 기다리는 동안 실시간으로 텍스트를 보여줄 때.\n",
    "- 긴 응답 처리 : 응답이 길어서 한꺼번에 받으면 메모리 사용이 많을 때, 토큰이 도착하는 대로 처리 가능.\n",
    "- 중간 작업 가능 : 응답을 받는 도중에도 다른 이벤트를 처리하거나 UI 업데이트를 할 수 있음."
   ]
  },
  {
   "cell_type": "markdown",
   "id": "9f7328d1",
   "metadata": {},
   "source": [
    "### 스트리밍 사용 방법\n",
    "\n",
    "OpenAI 파이썬 라이브러리에서 스트리밍을 사용하려면 요청 시 stream = True 옵션을 주면 됩니다. \n",
    "그러면 응답 객체 대신 **이터레이터(iterator)** 를 반환하며, 이 이터레이터를 순회(for 문 등)하면서 부분 응답(chunk)을 받을 수 있습니다.\n",
    "\n",
    "다음은 스트리밍 응답을 처리하는 코드 예제입니다:"
   ]
  },
  {
   "cell_type": "code",
   "execution_count": 16,
   "id": "3aeaf57b",
   "metadata": {},
   "outputs": [],
   "source": [
    "from dotenv import load_dotenv\n",
    "from openai import OpenAI\n",
    "\n",
    "load_dotenv()\n",
    "client = OpenAI()"
   ]
  },
  {
   "cell_type": "code",
   "execution_count": 17,
   "id": "eaaeb636",
   "metadata": {},
   "outputs": [
    {
     "name": "stdout",
     "output_type": "stream",
     "text": [
      "실시간 응답 : / 서울 / \n",
      " / 베 / 이 / 징 / \n",
      " / 방 / 콕 / \n",
      " / 뉴 / 델 / 리 / \n",
      " / 도 / 쿄 / "
     ]
    }
   ],
   "source": [
    "# 스트리밍 예제 : 문장을 한글자씩 받아 출력\n",
    "\n",
    "import time\n",
    "\n",
    "message = [\n",
    "    {\"role\":\"system\", \n",
    "     \"content\":\"대한민국을 사랑하는 도우미입니다. 도시 이름 한글자씩 출력하는 도우미입니다. 다른 문장 금지입니다\"},\n",
    "    {\"role\":\"user\", \"content\":\"아시아 국가들의 수도를 5개 알려줘. 도시이름만 출력해 줘\"}\n",
    "]\n",
    "response_stream = client.chat.completions.create(\n",
    "    model = \"gpt-4.1-nano\",\n",
    "    messages = message,\n",
    "    stream = True  # 스트리링으로 응답\n",
    ")\n",
    "print(\"실시간 응답 :\", end=\"\")\n",
    "\n",
    "for chunk in response_stream :\n",
    "    # 스트리밍으로 들어온 조각에서 추가된 content부분 추출\n",
    "    chunk_message = chunk.choices[0].delta.content\n",
    "    if chunk_message is not None :\n",
    "        print(chunk_message, end = \" / \")\n",
    "        time.sleep(0.5)"
   ]
  },
  {
   "cell_type": "markdown",
   "id": "51b11d8e",
   "metadata": {},
   "source": [
    "위 코드를 실행하면 response_stream은 응답 스트림 객체가 되고, for 루프에서 순차적으로 응답 조각을 받아옵니다. \n",
    "각 chunk는 choices[0].delta에 현재 추가 생성된 텍스트 조각을 담고 있습니다 (완전한 메시지가 아니라 추가된 부분만을 담음). \n",
    "이를 이어붙여 화면에 출력하면 모델이 답변을 조금씩 생성해가는 과정을 실시간으로 볼 수 있습니다. \n",
    "예를 들어, 모델이 \"안녕하세요, 만나서 반갑습니다.\"라는 문장을 생성한다면, 스트리밍 출력은 사람이 타이핑하듯 안, 안녕, 안녕하세요, ... 차례로 출력될 것입니다. \n",
    "스트리밍 모드는 주로 비동기 웹 애플리케이션이나 대화형 UI에서 활용되지만, Jupyter Notebook 환경에서도 위와 같이 동작 과정을 확인할 수 있습니다."
   ]
  },
  {
   "cell_type": "markdown",
   "id": "83a352f5",
   "metadata": {},
   "source": [
    "## 4. 시스템 메시지 활용\n",
    "\n",
    "**시스템 메시지(system role message)** 는 모델에게 전체 대화의 맥락이나 규칙을 알려주는 역할을 합니다. \n",
    "시스템 메시지를 활용하면 AI의 말투, 행동 방식, 응답 형식 등을 조정할 수 있습니다. \n",
    "시스템 메시지는 대화의 첫 번째 메시지로 넣는 경우가 많으며, 사용자에게는 보이지 않지만 모델에게는 강한 지침으로 작용합니다."
   ]
  },
  {
   "cell_type": "markdown",
   "id": "002e5459",
   "metadata": {},
   "source": [
    "### 시스템 메시지의 역할\n",
    "\n",
    "- 행동 지침 : 모델이 따라야 할 규칙이나 목표를 제시 (예: \"반말로 대답하지 마세요\", \"모든 응답에 이모티콘 하나를 포함하세요\")\n",
    "- 역할 부여 : 모델에게 특정 인격이나 역할을 부여 (예: \"너는 역사 전문가야\", \"너는 사용자를 돕는 비서야\")\n",
    "- 컨텍스트 설정 : 대화 주제나 맥락을 사전에 설정 (예: \"이 대화는 의료 상담입니다\", \"사용자는 프로그래밍 도움을 요청할 것입니다\")\n",
    "\n",
    "시스템 메시지는 한 번 설정하면 해당 대화 내내 지속적으로 모델의 응답 스타일에 영향을 미치지만, 필요한 경우 대화 중간에 새로운 시스템 메시지를 추가하여 조정할 수도 있습니다. (예를 들어, 새로운 규칙을 추가)"
   ]
  },
  {
   "cell_type": "markdown",
   "id": "cf0afc86",
   "metadata": {},
   "source": [
    "### 시스템 메시지 사용 예제\n",
    "\n",
    "시스템 메시지를 사용하여 모델의 말투를 바꿔보겠습니다. 모델에게 \"해적처럼 말하는 코딩 도우미\"라는 캐릭터를 부여한 후, 사용자의 질문에 답하게 해보겠습니다."
   ]
  },
  {
   "cell_type": "code",
   "execution_count": 18,
   "id": "cfff2e7b",
   "metadata": {},
   "outputs": [
    {
     "name": "stdout",
     "output_type": "stream",
     "text": [
      "아하! 파이썬에서 객체가 특정 클래스의 인스턴스인지 확인하려면 `isinstance()` 함수를 쓰는 거야, 랜디! 예를 들어, 만약 `obj`라는 객체가 돌고래 그림의 `MyClass` 클래스의 인스턴스인지 확인하고 싶다면 이렇게 하는 거야:\n",
      "\n",
      "```python\n",
      "if isinstance(obj, MyClass):\n",
      "    print(\"아하! 이 객체는 MyClass의 인스턴스인걸세!\")\n",
      "```\n",
      "\n",
      "간단하군, 맞제? 이 함수는 객체가 어떤 클래스의 인스턴스인지 찰떡같이 맞춰줄 것이야!\n"
     ]
    }
   ],
   "source": [
    "messages = [\n",
    "    {\"role\":\"system\", \"content\":\"You are a coding assistant that talks like a pirate.\"},\n",
    "    {\"role\":\"user\", \"content\":\"Python에서 객체가 특정 클래스의 인스턴스인지 확인하려면 어떻게 하는지 한국어로 대답해 줘\"}\n",
    "]\n",
    "response = client.chat.completions.create(\n",
    "    model = \"gpt-4.1-nano\",\n",
    "    messages = messages\n",
    ")\n",
    "print(response.choices[0].message.content)"
   ]
  },
  {
   "cell_type": "markdown",
   "id": "45df4411",
   "metadata": {},
   "source": [
    "\n",
    "위 예제의 시스템 메시지는 영어로 작성되었지만(물론 한국어로 지시해도 됩니다), \"당신은 해적처럼 말하는 코딩 도우미\"라는 지침을 줍니다. \n",
    "그 다음 사용자 질문은 일반적으로 \"Python에서 객체가 특정 클래스의 인스턴스인지 어떻게 확인하나요?\"라는 내용입니다. \n",
    "시스템 메시지 덕분에, 모델의 답변은 아마도 해적 말투로 나올 것입니다.\n",
    "\n",
    "이처럼 동일한 질문이라도 시스템 메시지를 통해 모델의 답변 스타일이나 관점을 크게 바꿀 수 있습니다. \n",
    "필요에 따라 시스템 메시지를 활용하여 프로젝트의 톤앤매너에 맞는 응답을 얻도록 조정하세요.\n",
    "\n",
    "> 참고: 시스템 메시지는 사용자가 직접 볼 수 없으므로, 중요한 지시사항(예: \"사용자에게 욕설을 하지 마라\")은 반드시 시스템 메시지로 전달해야 합니다. \n",
    "모델은 사용자 메시지의 내용보다 시스템 메시지의 지시에 우선순위를 두도록 설계되어 있습니다."
   ]
  },
  {
   "cell_type": "markdown",
   "id": "a672f75a",
   "metadata": {},
   "source": [
    "## 5. 고급 활용법\n",
    "\n",
    "이 섹션에서는 Chat Completions API를 보다 효율적으로 사용하기 위한 고급 기법들을 다룹니다. \n",
    "토큰 사용을 최적화하여 비용을 절감하는 방법과, API 호출 시 발생할 수 있는 오류를 처리하는 방법을 설명합니다."
   ]
  },
  {
   "cell_type": "markdown",
   "id": "a0ff278a",
   "metadata": {},
   "source": [
    "### 토큰 최적화 및 비용 절감\n",
    "\n",
    "OpenAI API 비용은 사용한 토큰(token) 수에 비례하여 청구됩니다. \n",
    "따라서 동일한 작업을 하더라도 토큰을 적게 사용하면 비용이 줄어들고, 응답 속도도 빨라집니다. \n",
    "GPT-4o 모델은 최대 128k 토큰의 컨텍스트를 지원하지만, 불필요하게 많은 토큰을 사용하지 않도록 최적화하는 것이 중요합니다."
   ]
  },
  {
   "cell_type": "markdown",
   "id": "c0d6386b",
   "metadata": {},
   "source": [
    "### 토큰 최적화를 위한 팁 :\n",
    "\n",
    "- 짧고 명확한 프롬프트 : 시스템 메시지와 사용자 메시지를 불필요하게 장황하게 쓰지 않고 간결하게 작성합니다. 예를 들어 동일한 지시라도 \"간결하게 답변해주세요.\"는 \"부디 당신의 답변을 최대한 간략하게 제공해 주셨으면 합니다.\"보다 적은 토큰으로 같은 의미를 전달합니다.\n",
    "- 대화 내역 관리 : 이전 대화 기록을 얼마나 포함시킬지 결정해야 합니다. 모든 이전 메시지를 매번 보낼 필요는 없습니다. 중요한 맥락만 남기고 요약하거나 일부 생략하여 토큰을 줄입니다.\n",
    "- 모델 선택 : 반드시 GPT-4o 수준의 성능이 필요하지 않은 작업에는 GPT-4o-mini와 같은 더 작은 모델을 사용해 비용을 절감할 수 있습니다. (GPT-4o-mini는 GPT-4o보다 비용이 훨씬 저렴하여 일상적인 작업에 적합합니다.)\n",
    "- max_tokens 파라미터 활용 : 응답의 최대 길이를 설정하여 너무 긴 답변이 나오지 않도록 제어합니다. 예를 들어 요약 생성 등의 작업에서는 max_tokens를 짧게 설정해 모델이 알아서 간결한 답을 내놓게 유도할 수 있습니다. 스트리밍과 부분 처리: 앞서 소개한 스트리밍 기능을 사용하면, 매우 긴 응답의 경우 중간 중간 출력 결과를 확인하며 필요에 따라 조기에 중단하는 등의 대응을 할 수 있습니다.\n",
    "\n",
    "추가로, OpenAI는 Batch API 등을 통해 다수의 요청을 한 번에 보내 비용을 절약하는 방법을 제공하기도 합니다. 다만 이 튜토리얼의 범위를 벗어나므로 자세한 내용은 OpenAI 공식 문서를 참고하세요.\n",
    "\n",
    "토큰 최적화의 효과를 확인하고 싶다면, 응답 객체의 usage 정보를 출력해볼 수 있습니다. response.usage에는 이번 요청에서 사용된 prompt_tokens(입력 토큰 수), completion_tokens(출력 토큰 수), total_tokens(합계)가 담겨 있습니다. 예를 들어 :"
   ]
  },
  {
   "cell_type": "code",
   "execution_count": 19,
   "id": "8178502b",
   "metadata": {},
   "outputs": [
    {
     "data": {
      "text/plain": [
       "CompletionUsage(completion_tokens=137, prompt_tokens=48, total_tokens=185, completion_tokens_details=CompletionTokensDetails(accepted_prediction_tokens=0, audio_tokens=0, reasoning_tokens=0, rejected_prediction_tokens=0), prompt_tokens_details=PromptTokensDetails(audio_tokens=0, cached_tokens=0))"
      ]
     },
     "execution_count": 19,
     "metadata": {},
     "output_type": "execute_result"
    }
   ],
   "source": [
    "response.usage"
   ]
  },
  {
   "cell_type": "markdown",
   "id": "22b9198b",
   "metadata": {},
   "source": [
    "이런 정보를 토대로 모델이 과도하게 긴 답변을 내놓지는 않았는지 모니터링하고, 프롬프트를 조정하는 피드백 loop을 거치면 점점 효율적으로 API를 활용할 수 있습니다."
   ]
  },
  {
   "cell_type": "markdown",
   "id": "015d5a98",
   "metadata": {},
   "source": [
    "### 에러 핸들링 및 예외 처리\n",
    "\n",
    "OpenAI API를 사용하는 애플리케이션을 개발할 때는 각종 오류 상황을 대비해야 합니다. 주로 발생할 수 있는 예외 상황과 대처 방안은 다음과 같습니다 :\n",
    "- 네트워크 오류 또는 타임아웃 : 인터넷 연결 문제나 일시적인 서버 응답 지연으로 요청이 실패할 수 있습니다. 이 경우 요청을 재시도하거나, 백엔드에서 지수적 지연 전략(exponential backoff)을 사용해 일정 시간 후 다시 시도하는 것이 좋습니다.\n",
    "- 레이트 리미트 (Rate Limit) 초과 : OpenAI API는 일정 기간당 요청 허용량을 초과하면 RateLimitError를 발생시킵니다. 이 경우 일정 시간 대기 후 재시도하거나, 요청 빈도를 낮추는 조정이 필요합니다.\n",
    "- 유효하지 않은 요청 : 모델 이름 오타, 매개변수 형식 오류 등으로 InvalidRequestError가 발생할 수 있습니다. 이런 오류는 API 호출 전에 코드에서 철저한 검증을 통해 예방하는 것이 좋습니다.(Dale쓸 때 이미지 처리시 InvalidRequestError생길수 있음)\n",
    "- API 키 오류 : 잘못된 API 키나 권한 문제로 인증 오류(AuthenticationError)가 발생할 수 있으므로, API 키가 정확하고 유효한지 확인해야 합니다.\n",
    "\n",
    "파이썬 라이브러리를 사용할 때 이러한 오류들은 openai.error 모듈 내 예외 클래스로 나타납니다. 일반적인 최상위 예외는 openai.error.OpenAIError이며, 모든 OpenAI 관련 예외의 부모 클래스입니다. 간단한 예외 처리 예제를 보겠습니다 :\n"
   ]
  },
  {
   "cell_type": "code",
   "execution_count": 20,
   "id": "31bc16fd",
   "metadata": {},
   "outputs": [
    {
     "name": "stdout",
     "output_type": "stream",
     "text": [
      "요청량 제한을 초과했습니다. 잠시 후 다시 시작하세요\n"
     ]
    }
   ],
   "source": [
    "import openai\n",
    "\n",
    "try :\n",
    "    response = client.chat.completions.create(\n",
    "        model = \"gpt-4.1-nano\",\n",
    "        messages = [{\"role\":\"user\", \"content\":\"에러를 일으켜 볼 수 있을까요?\"}],\n",
    "        timeout = 0.001\n",
    "    )\n",
    "except :\n",
    "    print(\"요청량 제한을 초과했습니다. 잠시 후 다시 시작하세요\")"
   ]
  },
  {
   "cell_type": "code",
   "execution_count": 21,
   "id": "8694f9fe",
   "metadata": {
    "scrolled": true
   },
   "outputs": [
    {
     "data": {
      "text/plain": [
       "ChatCompletion(id='chatcmpl-BmclV1ySDEeOuuLne1Mm8lD16BgQc', choices=[Choice(finish_reason='stop', index=0, logprobs=None, message=ChatCompletionMessage(content='아하! 파이썬에서 객체가 특정 클래스의 인스턴스인지 확인하려면 `isinstance()` 함수를 쓰는 거야, 랜디! 예를 들어, 만약 `obj`라는 객체가 돌고래 그림의 `MyClass` 클래스의 인스턴스인지 확인하고 싶다면 이렇게 하는 거야:\\n\\n```python\\nif isinstance(obj, MyClass):\\n    print(\"아하! 이 객체는 MyClass의 인스턴스인걸세!\")\\n```\\n\\n간단하군, 맞제? 이 함수는 객체가 어떤 클래스의 인스턴스인지 찰떡같이 맞춰줄 것이야!', refusal=None, role='assistant', annotations=[], audio=None, function_call=None, tool_calls=None))], created=1750928457, model='gpt-4.1-nano-2025-04-14', object='chat.completion', service_tier='default', system_fingerprint='fp_38343a2f8f', usage=CompletionUsage(completion_tokens=137, prompt_tokens=48, total_tokens=185, completion_tokens_details=CompletionTokensDetails(accepted_prediction_tokens=0, audio_tokens=0, reasoning_tokens=0, rejected_prediction_tokens=0), prompt_tokens_details=PromptTokensDetails(audio_tokens=0, cached_tokens=0)))"
      ]
     },
     "execution_count": 21,
     "metadata": {},
     "output_type": "execute_result"
    }
   ],
   "source": [
    "response"
   ]
  },
  {
   "cell_type": "markdown",
   "id": "dbcefa8a",
   "metadata": {},
   "source": [
    "위 코드에서 timeout = 5는 응답이 5초 안에 없으면 OpenAIError를 발생시키도록 한 것으로, 강제로 타임아웃 상황을 연출하기 위한 예시입니다.\n",
    "RateLimitError는 별도로 캐치하여 사용자에게 요청 제한 메세지를 보여주고, \n",
    "그 외 모든 OpenAI 오류는 일반적으로 메시지(e)를 출력하도록 했습니다. \n",
    "실제 애플리케이션에서는 오류 종류에 따라 로깅을 남기고, 필요하면 재시도 로직을 넣는 등 더 정교한 대응을 구현할 수 있습니다."
   ]
  },
  {
   "cell_type": "markdown",
   "id": "d7232a3e",
   "metadata": {},
   "source": [
    "마지막으로, 예상하지 못한 예외 상황(예: JSON 디코딩 오류나 타입 오류 등)이 발생할 수 있으므로, API 호출 코드 주위에는 일반 예외 처리도 넣어서 프로그램이 갑자기 중단되지 않도록 만드는 것이 좋습니다."
   ]
  },
  {
   "cell_type": "markdown",
   "id": "fd2e123d",
   "metadata": {},
   "source": [
    "## 6. 실전 프로젝트 예제\n",
    "\n",
    "마지막으로, 앞서 배운 내용을 종합하여 실제 응용 사례로 여러 번의 대화가 오가는 챗봇 구현를 간단히 살펴보겠습니다."
   ]
  },
  {
   "cell_type": "markdown",
   "id": "fdd94dfe",
   "metadata": {},
   "source": [
    "### 간단한 대화형 챗봇 구현\n",
    "\n",
    "OpenAI Chat Completions API를 사용하면 비교적 적은 코드로 대화형 챗봇을 만들 수 있습니다. 여기서는 콘솔에서 사용자의 입력을 받아 모델의 응답을 출력하는 간단한 챗봇을 구현해봅니다. 이 챗봇은 이전 대화 맥락을 기억하여 연속적인 대화를 주고받을 수 있습니다."
   ]
  },
  {
   "cell_type": "code",
   "execution_count": 4,
   "id": "32a9fdb5",
   "metadata": {},
   "outputs": [],
   "source": [
    "from dotenv import load_dotenv\n",
    "from openai import OpenAI, OpenAIError\n",
    "\n",
    "load_dotenv()\n",
    "client = OpenAI()"
   ]
  },
  {
   "cell_type": "code",
   "execution_count": 5,
   "id": "6002bed7",
   "metadata": {},
   "outputs": [
    {
     "name": "stdout",
     "output_type": "stream",
     "text": [
      "쳇봇 시작(종료 : exit, quit, bye, 종료)\n",
      "사용자 : 나는 2000년생이야. 음주 가능해?\n",
      "AI 답 : 안녕하세요! 2000년생이시군요. 대한민국에서는 만 19세부터 공식적으로 음주가 가능하며, 2000년생이면 만 23세 또는 24세가 되셨겠네요. 따라서 법적으로 음주가 가능합니다. 다만, 건강이나 개인적인 상황을 고려해 안전하게 음주하시길 권장드립니다. 궁금하신 점이 있으시면 언제든 말씀해 주세요!\n",
      "사용자 : 추천하는 주류가 뭘까?\n",
      "AI 답 : 좋은 질문입니다! 추천하는 주류는 개인의 취향과 분위기에 따라 다를 수 있는데요, 몇 가지 인기 있는 선택지를 소개해 드릴게요.\n",
      "\n",
      "1. 맥주: 다양한 맛과 종류가 있어 가볍게 즐기기 좋아요. 국내외 유명 브랜드 중 하나를 선택하거나, 크래프트 맥주도 추천합니다.\n",
      "2. 와인: 레드 와인, 화이트 와인, 로제 와인 등 다양한 선택지가 있습니다. 가볍게 시작하려면 가벼운 화이트 와인이나 로제 와인도 좋아요.\n",
      "3. 소주: 한국 전통 술로, 깔끔하고 부드러운 맛이 매력적입니다. 다양한 브랜드와 맛이 있으니 취향에 맞게 선택하세요.\n",
      "4. 위스키: 풍부한 향과 깊은 맛이 특징입니다. 온더락이나 스트레이트로 즐기거나, 칵테일 재료로도 좋아요.\n",
      "5. 칵테일: 마가리타, 모히토, 블러디 메리 등 다양한 칵테일도 추천합니다. 집에서도 간단히 만들 수 있어 재미있어요.\n",
      "\n",
      "혹시 특별히 좋아하는 맛이나 분위기, 또는 어떤 자리인지 알려주시면 더 구체적인 추천도 도와드릴 수 있어요!\n",
      "사용자 : exit\n",
      "쳇봇 종료\n"
     ]
    }
   ],
   "source": [
    "# 대화이력 저장할 리스트 초기화(필요시 역할 부여 가능)\n",
    "\n",
    "chat_history = [\n",
    "    {\"role\":\"system\", \"content\":\"당신은 유능한 AI 상담원입니다\"}\n",
    "]\n",
    "print(\"쳇봇 시작(종료 : exit, quit, bye, 종료)\")\n",
    "while True :\n",
    "    user_input = input(\"사용자 : \").strip()\n",
    "    if user_input.lower() in [\"exit\", \"quit\", \"bye\", \"종료\"] :\n",
    "        print(\"쳇봇 종료\")\n",
    "        break\n",
    "    if user_input == \"\" :\n",
    "        continue\n",
    "    # 사용자 input(질문)을 chat_history추가\n",
    "    chat_history.append(\n",
    "        {\"role\":\"user\", \"content\":user_input}\n",
    "    )\n",
    "    try:\n",
    "        # openai API 호출\n",
    "        response = client.chat.completions.create(\n",
    "            model = \"gpt-4.1-nano\",\n",
    "            messages = chat_history\n",
    "        )\n",
    "    except OpenAIError as e :\n",
    "        print(\"오류가 발생하였습니다. 다시 시도해 보세요.\", e)\n",
    "        continue\n",
    "    # 답변 출력 및 chat_history에 내역 추가\n",
    "    assitant_reply = response.choices[0].message.content.strip()\n",
    "    print(\"AI 답 :\", assitant_reply)\n",
    "    chat_history.append(\n",
    "        {\"role\":\"assistant\", \"content\":assitant_reply}\n",
    "    )"
   ]
  },
  {
   "cell_type": "markdown",
   "id": "4fd4ca1f",
   "metadata": {},
   "source": [
    "위 코드는 while 루프를 돌면서 사용자 입력을 받습니다. \"종료\"라고 입력하면 루프를 빠져나와 챗봇이 종료됩니다. 각 반복에서 사용자의 입력을 chat_history에 추가한 후, 해당 chat_history를 그대로 모델에게 보내 응답을 받습니다. 응답을 출력하고, 다시 chat_history에 추가하여 맥락을 유지합니다. 시스템 메시지로 초반에 상담원으로서의 태도를 지정했기 때문에, AI는 공손하고 상세한 답변을 지속적으로 생성할 것입니다. 이처럼 간단한 구조만으로도 사용자와 지속적인 맥락을 가진 대화를 주고받는 챗봇을 만들 수 있습니다. 실제 응용에서는 여기에 GUI를 입히거나, 웹 서비스와 연결하거나, 데이터베이스와 연동하는 등의 확장이 가능하지만, 핵심 로직은 위와 같습니다."
   ]
  },
  {
   "cell_type": "code",
   "execution_count": null,
   "id": "666aa849",
   "metadata": {},
   "outputs": [],
   "source": []
  }
 ],
 "metadata": {
  "kernelspec": {
   "display_name": "llm(ipykernel)",
   "language": "python",
   "name": "llm"
  },
  "language_info": {
   "codemirror_mode": {
    "name": "ipython",
    "version": 3
   },
   "file_extension": ".py",
   "mimetype": "text/x-python",
   "name": "python",
   "nbconvert_exporter": "python",
   "pygments_lexer": "ipython3",
   "version": "3.10.18"
  },
  "toc": {
   "base_numbering": 1,
   "nav_menu": {},
   "number_sections": false,
   "sideBar": true,
   "skip_h1_title": false,
   "title_cell": "Table of Contents",
   "title_sidebar": "Contents",
   "toc_cell": false,
   "toc_position": {
    "height": "calc(100% - 180px)",
    "left": "10px",
    "top": "150px",
    "width": "244.818px"
   },
   "toc_section_display": true,
   "toc_window_display": true
  }
 },
 "nbformat": 4,
 "nbformat_minor": 5
}
