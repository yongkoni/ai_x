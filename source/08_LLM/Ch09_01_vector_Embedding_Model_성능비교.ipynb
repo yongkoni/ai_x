{
 "cells": [
  {
   "cell_type": "code",
   "execution_count": 1,
   "id": "febadddb",
   "metadata": {},
   "outputs": [
    {
     "data": {
      "text/html": [
       "<style>\n",
       "div.container{width:86% !important;}\n",
       "div.cell.code_cell.rendered{width:100%;}\n",
       "div.CodeMirror {font-family:Consolas; font-size:12pt;}\n",
       "div.output {font-size:12pt; font-weight:bold;}\n",
       "div.input {font-family:Consolas; font-size:12pt;}\n",
       "div.prompt {min-width:70px;}\n",
       "div#toc-wrapper{padding-top:120px;}\n",
       "div.text_cell_render ul li{fontsize:12pt;padding:5px;}\n",
       "table.dataframe{font-size:12px;}))\n",
       "</style>\n"
      ],
      "text/plain": [
       "<IPython.core.display.HTML object>"
      ]
     },
     "metadata": {},
     "output_type": "display_data"
    }
   ],
   "source": [
    "from IPython.display import display, HTML\n",
    "display(HTML(\"\"\"<style>\n",
    "div.container{width:86% !important;}\n",
    "div.cell.code_cell.rendered{width:100%;}\n",
    "div.CodeMirror {font-family:Consolas; font-size:12pt;}\n",
    "div.output {font-size:12pt; font-weight:bold;}\n",
    "div.input {font-family:Consolas; font-size:12pt;}\n",
    "div.prompt {min-width:70px;}\n",
    "div#toc-wrapper{padding-top:120px;}\n",
    "div.text_cell_render ul li{fontsize:12pt;padding:5px;}\n",
    "table.dataframe{font-size:12px;}))\n",
    "</style>\n",
    "\"\"\"))"
   ]
  },
  {
   "cell_type": "markdown",
   "id": "b184fc2b",
   "metadata": {},
   "source": [
    "# <span style=\"color:red\">ch09 01 vector Embedding Model 성능비교 </span>"
   ]
  },
  {
   "cell_type": "markdown",
   "id": "b77c8bb0",
   "metadata": {},
   "source": [
    "# 문장 → 벡터(1차원 숫자 배열 [8.1,9.1, 2, 5, 4, 3....])\n",
    "\n",
    "- openAi API : https://platform.openai.com/의 키(OPENAI_API_KEY)를 .env등록\n",
    "- upstage : https://console.upstage.ai/의 키(UPSTAGE_API_KEY)를 .env등록"
   ]
  },
  {
   "cell_type": "markdown",
   "id": "d31394c8",
   "metadata": {},
   "source": [
    "# 1. 환경변수 load"
   ]
  },
  {
   "cell_type": "code",
   "execution_count": 6,
   "id": "3f720326",
   "metadata": {},
   "outputs": [
    {
     "data": {
      "text/plain": [
       "True"
      ]
     },
     "execution_count": 6,
     "metadata": {},
     "output_type": "execute_result"
    }
   ],
   "source": [
    "from dotenv import load_dotenv\n",
    "\n",
    "load_dotenv()"
   ]
  },
  {
   "cell_type": "markdown",
   "id": "252e5fe9",
   "metadata": {},
   "source": [
    "# 2. 유사도 계산하는 방법 : https://www.pinecone.io/learn/vector-similarity\n",
    "\n",
    "    1. 유클리드 거리 : 두 벡터간의 거리가 가까운지\n",
    "    2. 코사인유사도 : 두 벡터간 방향이 유사한지\n",
    "    3. dot product : 두 벡터간의 곱을 사용하여 거리와 방향을 모두 고려"
   ]
  },
  {
   "cell_type": "code",
   "execution_count": 7,
   "id": "eaa6b9b0",
   "metadata": {},
   "outputs": [],
   "source": [
    "import numpy as np\n",
    "\n",
    "def cosine_similarity(vec1, vec2) :\n",
    "    \"\"\"두 백터 사이의 코사인 유사도 계산\"\"\"\n",
    "    dot_product = np.dot(vec1, vec2)\n",
    "    norm_vec1 = np.linalg.norm(vec1)  # 벡터의 길이\n",
    "    norm_vec2 = np.linalg.norm(vec2)\n",
    "    if norm_vec1 == 0 or norm_vec2 == 0 :\n",
    "        return 0.0\n",
    "    return dot_product / (norm_vec1 * norm_vec2)"
   ]
  },
  {
   "cell_type": "markdown",
   "id": "deedba65",
   "metadata": {},
   "source": [
    "# 3. openAI API의 embedding model 사용"
   ]
  },
  {
   "cell_type": "code",
   "execution_count": 8,
   "id": "ba28616b",
   "metadata": {},
   "outputs": [],
   "source": [
    "from openai import OpenAI\n",
    "\n",
    "openai_client = OpenAI()"
   ]
  },
  {
   "cell_type": "code",
   "execution_count": 18,
   "id": "f7839969",
   "metadata": {},
   "outputs": [],
   "source": [
    "# text-embedding-3-large\n",
    "\n",
    "response = openai_client.embeddings.create(\n",
    "    input = \"king\",\n",
    "    model = \"text-embedding-3-large\"\n",
    ")"
   ]
  },
  {
   "cell_type": "code",
   "execution_count": 19,
   "id": "58ad8b16",
   "metadata": {},
   "outputs": [
    {
     "name": "stdout",
     "output_type": "stream",
     "text": [
      "(3072,)\n",
      "[ 0.01040417  0.02499519 -0.0014776  ...  0.00835009  0.01049861\n",
      " -0.00254005]\n"
     ]
    }
   ],
   "source": [
    "import numpy as np\n",
    "\n",
    "king_vector = np.array(response.data[0].embedding)\n",
    "print(king_vector.shape)\n",
    "print(king_vector)"
   ]
  },
  {
   "cell_type": "code",
   "execution_count": 21,
   "id": "8c29affb",
   "metadata": {},
   "outputs": [],
   "source": [
    "queen_response = openai_client.embeddings.create(\n",
    "    input = \"queen\",\n",
    "    model = \"text-embedding-3-large\"\n",
    ")"
   ]
  },
  {
   "cell_type": "code",
   "execution_count": 22,
   "id": "c7ce20ad",
   "metadata": {},
   "outputs": [
    {
     "name": "stdout",
     "output_type": "stream",
     "text": [
      "[-0.01385735  0.0008602  -0.0167823  ...  0.00017693  0.01159847\n",
      "  0.00638929]\n",
      "(3072,)\n"
     ]
    }
   ],
   "source": [
    "queen_vector = np.array(queen_response.data[0].embedding)\n",
    "print(queen_vector)\n",
    "print(queen_vector.shape)"
   ]
  },
  {
   "cell_type": "code",
   "execution_count": 26,
   "id": "5b704343",
   "metadata": {},
   "outputs": [
    {
     "name": "stdout",
     "output_type": "stream",
     "text": [
      "king과 queen의 유사도 : 0.5552268369726675\n"
     ]
    }
   ],
   "source": [
    "king_queen_similarity = cosine_similarity(king_vector, queen_vector)\n",
    "print('king과 queen의 유사도 :', king_queen_similarity)"
   ]
  },
  {
   "cell_type": "code",
   "execution_count": 25,
   "id": "4fae6055",
   "metadata": {},
   "outputs": [
    {
     "name": "stdout",
     "output_type": "stream",
     "text": [
      "(3072,)\n",
      "[-0.01999537  0.00620363  0.01191717 ...  0.00094749 -0.02679118\n",
      " -0.0058524 ]\n"
     ]
    }
   ],
   "source": [
    "slave_response = openai_client.embeddings.create(\n",
    "    input = \"slave\",\n",
    "    model = \"text-embedding-3-large\"\n",
    ")\n",
    "slave_vector = np.array(slave_response.data[0].embedding)\n",
    "print(slave_vector.shape)\n",
    "print(slave_vector)"
   ]
  },
  {
   "cell_type": "code",
   "execution_count": 27,
   "id": "cb2e812d",
   "metadata": {},
   "outputs": [
    {
     "name": "stdout",
     "output_type": "stream",
     "text": [
      "king과 slave유사도 : 0.2947745074537996\n"
     ]
    }
   ],
   "source": [
    "king_slave_similarity = cosine_similarity(king_vector, slave_vector)\n",
    "print('king과 slave의 유사도 :', king_slave_similarity)"
   ]
  },
  {
   "cell_type": "code",
   "execution_count": 28,
   "id": "9288ebaa",
   "metadata": {},
   "outputs": [],
   "source": [
    "# 한국어 문장을 벡터로 바꿔도 유사도는 비슷해야 할 듯"
   ]
  },
  {
   "cell_type": "code",
   "execution_count": 29,
   "id": "5dd6b43b",
   "metadata": {},
   "outputs": [],
   "source": [
    "kor_king_response = openai_client.embeddings.create(\n",
    "    input = \"왕\",\n",
    "    model = \"text-embedding-3-large\"\n",
    ")"
   ]
  },
  {
   "cell_type": "code",
   "execution_count": 30,
   "id": "e8bea065",
   "metadata": {},
   "outputs": [
    {
     "name": "stdout",
     "output_type": "stream",
     "text": [
      "(3072,)\n"
     ]
    }
   ],
   "source": [
    "kor_king_vector = np.array(kor_king_response.data[0].embedding)\n",
    "print(kor_king_vector.shape)"
   ]
  },
  {
   "cell_type": "code",
   "execution_count": 31,
   "id": "9d02c8a4",
   "metadata": {},
   "outputs": [
    {
     "name": "stdout",
     "output_type": "stream",
     "text": [
      "(3072,)\n"
     ]
    }
   ],
   "source": [
    "kor_queen_response = openai_client.embeddings.create(\n",
    "    input = \"여왕\",\n",
    "    model = \"text-embedding-3-large\"\n",
    ")\n",
    "kor_queen_vector = np.array(kor_queen_response.data[0].embedding)\n",
    "print(kor_queen_vector.shape)"
   ]
  },
  {
   "cell_type": "code",
   "execution_count": 32,
   "id": "0fc5fa1b",
   "metadata": {},
   "outputs": [
    {
     "data": {
      "text/plain": [
       "np.float64(0.48753581462091106)"
      ]
     },
     "execution_count": 32,
     "metadata": {},
     "output_type": "execute_result"
    }
   ],
   "source": [
    "kor_king_queen_similarity = cosine_similarity(kor_king_vector, kor_queen_vector)\n",
    "print('왕과 여왕의 유사도 :', kor_king_queen_similarity)"
   ]
  },
  {
   "cell_type": "code",
   "execution_count": 33,
   "id": "8afde6bd",
   "metadata": {},
   "outputs": [
    {
     "name": "stdout",
     "output_type": "stream",
     "text": [
      "(3072,)\n"
     ]
    }
   ],
   "source": [
    "kor_slave_response = openai_client.embeddings.create(\n",
    "    input = \"거지\",\n",
    "    model = \"text-embedding-3-large\"\n",
    ")\n",
    "kor_slave_vector = np.array(kor_slave_response.data[0].embedding)\n",
    "print(kor_slave_vector.shape)"
   ]
  },
  {
   "cell_type": "code",
   "execution_count": 34,
   "id": "80bb1d3c",
   "metadata": {},
   "outputs": [
    {
     "data": {
      "text/plain": [
       "np.float64(0.2552452064791607)"
      ]
     },
     "execution_count": 34,
     "metadata": {},
     "output_type": "execute_result"
    }
   ],
   "source": [
    "kor_king_slave_similarity = cosine_similarity(kor_king_vector, kor_slave_vector)\n",
    "print('왕과 거지의 유사도 :', kor_king_slave_similarity)"
   ]
  },
  {
   "cell_type": "code",
   "execution_count": 36,
   "id": "5518b867",
   "metadata": {},
   "outputs": [
    {
     "data": {
      "text/plain": [
       "np.float64(0.5474873912140233)"
      ]
     },
     "execution_count": 36,
     "metadata": {},
     "output_type": "execute_result"
    }
   ],
   "source": [
    "kor_king_king_similarity = cosine_similarity(king_vector, kor_king_vector)\n",
    "print('king과 왕의 유사도 :', kor_king_king_similarity)"
   ]
  },
  {
   "cell_type": "markdown",
   "id": "cf58b7aa",
   "metadata": {},
   "source": [
    "# 4. upstage의 embedding model 사용\n",
    "\n",
    "- 한국에 embedding에는 openai보다 성능이 훨씬 좋다"
   ]
  },
  {
   "cell_type": "code",
   "execution_count": 39,
   "id": "c06db6c9",
   "metadata": {},
   "outputs": [],
   "source": [
    "import os\n",
    "upstage_api_key = os.getenv(\"UPSTAGE_API_KEY\")\n",
    "upstage_client = OpenAI(\n",
    "    api_key=upstage_api_key,\n",
    "    base_url=\"https://api.upstage.ai/v1\"\n",
    ")"
   ]
  },
  {
   "cell_type": "code",
   "execution_count": 41,
   "id": "8857b15c",
   "metadata": {},
   "outputs": [],
   "source": [
    "up_king_response = upstage_client.embeddings.create(\n",
    "    input = \"king\",\n",
    "    model = \"embedding-query\"\n",
    ")"
   ]
  },
  {
   "cell_type": "code",
   "execution_count": 42,
   "id": "3b56feb5",
   "metadata": {},
   "outputs": [
    {
     "name": "stdout",
     "output_type": "stream",
     "text": [
      "(4096,)\n",
      "[-0.01187134 -0.02062988 -0.00674057 ... -0.01081848  0.00247955\n",
      "  0.01520538]\n"
     ]
    }
   ],
   "source": [
    "up_king_vector = np.array(up_king_response.data[0].embedding)\n",
    "print(up_king_vector.shape)\n",
    "print(up_king_vector)"
   ]
  },
  {
   "cell_type": "code",
   "execution_count": 43,
   "id": "318367f0",
   "metadata": {},
   "outputs": [
    {
     "name": "stdout",
     "output_type": "stream",
     "text": [
      "(4096,)\n"
     ]
    }
   ],
   "source": [
    "up_queen_response = upstage_client.embeddings.create(\n",
    "    input = \"queen\",\n",
    "    model = \"embedding-query\"\n",
    ")\n",
    "up_queen_vector = np.array(up_queen_response.data[0].embedding)\n",
    "print(up_queen_vector.shape)"
   ]
  },
  {
   "cell_type": "code",
   "execution_count": 44,
   "id": "4ed5f9a8",
   "metadata": {},
   "outputs": [
    {
     "data": {
      "text/plain": [
       "np.float64(0.6279103035110143)"
      ]
     },
     "execution_count": 44,
     "metadata": {},
     "output_type": "execute_result"
    }
   ],
   "source": [
    "up_king_queen_similarity = cosine_similarity(up_king_vector, up_queen_vector)\n",
    "print('king과 queen의 유사도 :', up_king_queen_similarity)"
   ]
  },
  {
   "cell_type": "code",
   "execution_count": 45,
   "id": "d9b11a0d",
   "metadata": {},
   "outputs": [
    {
     "name": "stdout",
     "output_type": "stream",
     "text": [
      "(4096,)\n"
     ]
    }
   ],
   "source": [
    "up_kor_king_response = upstage_client.embeddings.create(\n",
    "    input = \"왕\",\n",
    "    model = \"embedding-query\"\n",
    ")\n",
    "up_kor_king_vector = np.array(up_kor_king_response.data[0].embedding)\n",
    "print(up_kor_king_vector.shape)"
   ]
  },
  {
   "cell_type": "code",
   "execution_count": 46,
   "id": "286897e6",
   "metadata": {},
   "outputs": [
    {
     "data": {
      "text/plain": [
       "np.float64(0.8522292879902242)"
      ]
     },
     "execution_count": 46,
     "metadata": {},
     "output_type": "execute_result"
    }
   ],
   "source": [
    "up_kor_king_king_similarity = cosine_similarity(up_king_vector, up_kor_king_vector)\n",
    "print('king과 왕의 유사도 :', up_kor_king_king_similarity)"
   ]
  }
 ],
 "metadata": {
  "kernelspec": {
   "display_name": "llm(ipykernel)",
   "language": "python",
   "name": "llm"
  },
  "language_info": {
   "codemirror_mode": {
    "name": "ipython",
    "version": 3
   },
   "file_extension": ".py",
   "mimetype": "text/x-python",
   "name": "python",
   "nbconvert_exporter": "python",
   "pygments_lexer": "ipython3",
   "version": "3.10.18"
  },
  "toc": {
   "base_numbering": 1,
   "nav_menu": {},
   "number_sections": false,
   "sideBar": true,
   "skip_h1_title": false,
   "title_cell": "Table of Contents",
   "title_sidebar": "Contents",
   "toc_cell": false,
   "toc_position": {
    "height": "calc(100% - 180px)",
    "left": "10px",
    "top": "150px",
    "width": "263.55px"
   },
   "toc_section_display": true,
   "toc_window_display": true
  }
 },
 "nbformat": 4,
 "nbformat_minor": 5
}
