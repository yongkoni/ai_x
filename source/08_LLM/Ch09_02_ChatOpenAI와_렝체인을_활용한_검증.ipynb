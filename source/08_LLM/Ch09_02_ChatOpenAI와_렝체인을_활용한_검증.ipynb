{
 "cells": [
  {
   "cell_type": "code",
   "execution_count": 1,
   "id": "c50cbc49",
   "metadata": {},
   "outputs": [
    {
     "data": {
      "text/html": [
       "<style>\n",
       "div.container{width:86% !important;}\n",
       "div.cell.code_cell.rendered{width:100%;}\n",
       "div.CodeMirror {font-family:Consolas; font-size:12pt;}\n",
       "div.output {font-size:12pt; font-weight:bold;}\n",
       "div.input {font-family:Consolas; font-size:12pt;}\n",
       "div.prompt {min-width:70px;}\n",
       "div#toc-wrapper{padding-top:120px;}\n",
       "div.text_cell_render ul li{fontsize:12pt;padding:5px;}\n",
       "table.dataframe{font-size:12px;}))\n",
       "</style>\n"
      ],
      "text/plain": [
       "<IPython.core.display.HTML object>"
      ]
     },
     "metadata": {},
     "output_type": "display_data"
    }
   ],
   "source": [
    "from IPython.display import display, HTML\n",
    "display(HTML(\"\"\"<style>\n",
    "div.container{width:86% !important;}\n",
    "div.cell.code_cell.rendered{width:100%;}\n",
    "div.CodeMirror {font-family:Consolas; font-size:12pt;}\n",
    "div.output {font-size:12pt; font-weight:bold;}\n",
    "div.input {font-family:Consolas; font-size:12pt;}\n",
    "div.prompt {min-width:70px;}\n",
    "div#toc-wrapper{padding-top:120px;}\n",
    "div.text_cell_render ul li{fontsize:12pt;padding:5px;}\n",
    "table.dataframe{font-size:12px;}))\n",
    "</style>\n",
    "\"\"\"))"
   ]
  },
  {
   "cell_type": "markdown",
   "id": "1625e678",
   "metadata": {},
   "source": [
    "# <span style=\"color:red\">ch09 02 ChatOpenAI와 렝체인을 활용한 검증 </span>"
   ]
  },
  {
   "cell_type": "markdown",
   "id": "fd87e9f1",
   "metadata": {},
   "source": [
    "# 1.  환경(패키지 및 환경변수)\n",
    "\n",
    "- pip install openai langchain-openai"
   ]
  },
  {
   "cell_type": "code",
   "execution_count": 2,
   "id": "e9bf5463",
   "metadata": {},
   "outputs": [
    {
     "data": {
      "text/plain": [
       "True"
      ]
     },
     "execution_count": 2,
     "metadata": {},
     "output_type": "execute_result"
    }
   ],
   "source": [
    "from dotenv import load_dotenv\n",
    "\n",
    "load_dotenv()"
   ]
  },
  {
   "cell_type": "markdown",
   "id": "34516adf",
   "metadata": {},
   "source": [
    "# 2. LLM 답변 생성"
   ]
  },
  {
   "cell_type": "markdown",
   "id": "6217249c",
   "metadata": {},
   "source": [
    "## 2.1 OpenAI SDK를 선택\n",
    "\n",
    "- 세밀한 제어가 필요할 때, 성능 최적화가 중요할 때"
   ]
  },
  {
   "cell_type": "code",
   "execution_count": 5,
   "id": "735643a5",
   "metadata": {},
   "outputs": [],
   "source": [
    "from openai import OpenAI\n",
    "\n",
    "client = OpenAI()\n",
    "response = client.chat.completions.create(\n",
    "    model = \"gpt-4.1-nano\",\n",
    "    messages = [\n",
    "        {\"role\":\"system\", \"content\":\"너는 친절하게 대답해 주는 비서야\"},\n",
    "        {\"role\":\"user\", \"content\":\"2020년 월드 시리즈 누가 우승했어?\"}\n",
    "    ]\n",
    ")"
   ]
  },
  {
   "cell_type": "code",
   "execution_count": 8,
   "id": "612a66a6",
   "metadata": {},
   "outputs": [
    {
     "data": {
      "text/plain": [
       "'2020년 월드 시리즈는 탬파베이 레이스가 우승을 차지했습니다. 그들은 휴스턴 애스트로스와 맞붙어 4승 3패로 시리즈를 끝냈습니다. 이것이 탬파베이 레이스의 최초 월드 시리즈 우승이었습니다.'"
      ]
     },
     "execution_count": 8,
     "metadata": {},
     "output_type": "execute_result"
    }
   ],
   "source": [
    "response.choices[0].message.content"
   ]
  },
  {
   "cell_type": "markdown",
   "id": "6331d118",
   "metadata": {},
   "source": [
    "## 2.2 LangChain을 선택\n",
    "\n",
    "- 내부적으로 자동 메세지 형태를 변환해 줌"
   ]
  },
  {
   "cell_type": "code",
   "execution_count": 9,
   "id": "e61663fa",
   "metadata": {},
   "outputs": [],
   "source": [
    "# .env OPEN_API_KEY가 등록\n",
    "\n",
    "from langchain_openai import ChatOpenAI\n",
    "\n",
    "llm = ChatOpenAI(\n",
    "    model = \"gpt-4.1-nano\"  # 기본 모델 : gpt-3.5-turbo\n",
    ")\n",
    "ai_message = llm.invoke(\"2020년 월드 시리즈 누가 우승했나요?\")"
   ]
  },
  {
   "cell_type": "code",
   "execution_count": 11,
   "id": "3a9dae3a",
   "metadata": {},
   "outputs": [
    {
     "data": {
      "text/plain": [
       "'2020년 월드 시리즈는 워싱턴 내셔널스가 우승했습니다. 이들은 텍사스 레인저스와의 플레이오프에서 승리한 후, 텍사스와의 월드 시리즈에서 4승 3패로 승리하여 첫 우승을 차지했습니다.'"
      ]
     },
     "execution_count": 11,
     "metadata": {},
     "output_type": "execute_result"
    }
   ],
   "source": [
    "ai_message.content"
   ]
  }
 ],
 "metadata": {
  "kernelspec": {
   "display_name": "llm(ipykernel)",
   "language": "python",
   "name": "llm"
  },
  "language_info": {
   "codemirror_mode": {
    "name": "ipython",
    "version": 3
   },
   "file_extension": ".py",
   "mimetype": "text/x-python",
   "name": "python",
   "nbconvert_exporter": "python",
   "pygments_lexer": "ipython3",
   "version": "3.10.18"
  },
  "toc": {
   "base_numbering": 1,
   "nav_menu": {},
   "number_sections": false,
   "sideBar": true,
   "skip_h1_title": false,
   "title_cell": "Table of Contents",
   "title_sidebar": "Contents",
   "toc_cell": false,
   "toc_position": {
    "height": "calc(100% - 180px)",
    "left": "10px",
    "top": "150px",
    "width": "260.55px"
   },
   "toc_section_display": true,
   "toc_window_display": true
  }
 },
 "nbformat": 4,
 "nbformat_minor": 5
}
