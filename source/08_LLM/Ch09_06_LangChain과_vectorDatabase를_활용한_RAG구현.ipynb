{
 "cells": [
  {
   "cell_type": "code",
   "execution_count": 2,
   "id": "4e33bfb2",
   "metadata": {},
   "outputs": [
    {
     "data": {
      "text/html": [
       "<style>\n",
       "div.container{width:86% !important;}\n",
       "div.cell.code_cell.rendered{width:100%;}\n",
       "div.CodeMirror {font-family:Consolas; font-size:12pt;}\n",
       "div.output {font-size:12pt; font-weight:bold;}\n",
       "div.input {font-family:Consolas; font-size:12pt;}\n",
       "div.prompt {min-width:70px;}\n",
       "div#toc-wrapper{padding-top:120px;}\n",
       "div.text_cell_render ul li{fontsize:12pt;padding:5px;}\n",
       "table.dataframe{font-size:12px;}))\n",
       "</style>\n"
      ],
      "text/plain": [
       "<IPython.core.display.HTML object>"
      ]
     },
     "metadata": {},
     "output_type": "display_data"
    }
   ],
   "source": [
    "from IPython.display import display, HTML\n",
    "display(HTML(\"\"\"<style>\n",
    "div.container{width:86% !important;}\n",
    "div.cell.code_cell.rendered{width:100%;}\n",
    "div.CodeMirror {font-family:Consolas; font-size:12pt;}\n",
    "div.output {font-size:12pt; font-weight:bold;}\n",
    "div.input {font-family:Consolas; font-size:12pt;}\n",
    "div.prompt {min-width:70px;}\n",
    "div#toc-wrapper{padding-top:120px;}\n",
    "div.text_cell_render ul li{fontsize:12pt;padding:5px;}\n",
    "table.dataframe{font-size:12px;}))\n",
    "</style>\n",
    "\"\"\"))"
   ]
  },
  {
   "cell_type": "markdown",
   "id": "a356d2d5",
   "metadata": {},
   "source": [
    "# <span style=\"color:red\">ch09 06 LangChain과 vectorDatabase를 활용한 RAG구현 </span>"
   ]
  },
  {
   "cell_type": "markdown",
   "id": "a2f5667d",
   "metadata": {},
   "source": [
    "[ RAG 구현 절차 ]\n",
    "\n",
    "```\n",
    "1. 문서의 내용을 읽는다 (document_loader를 이용)\n",
    "    1) https://python.langchain.com/v0.2/docs/integrations/document_loaders/ \n",
    "    2) https://python.langchain.com/v0.2/docs/integrations/document_loaders/microsoft_word/\n",
    "    %pip install --upgrade --quiet docx2txt\n",
    "2. 문서를 쪼갠다 (한번에 이해하고 처리할 수 있는 입력 + 출력 토큰수가 제한)\n",
    "    1) https://python.langchain.com/v0.2/docs/how_to/recursive_text_splitter/#splitting-text-from-languages-without-word-boundaries \n",
    "    %pip install -qU langchain-text-splitters\n",
    "3. 쪼갠 문서를 임베딩하여 vector database에 넣음\n",
    "    1) OpenAIEmbeddings나 UpstageEmbeddings 이용해서 임베딩\n",
    "    2) https://python.langchain.com/v0.2/docs/integrations/vectorstores/chroma/  \n",
    "    %pip install –q langchain-chroma\n",
    "4. 질문을 이용해 유사도 검색\n",
    "5. 유사도 검색한 문서를 LLM에 질문으로 전달하여 답변 얻음 (제공되는 Prompt활용)\n",
    "    1) https://python.langchain.com/v0.2/docs/tutorials/rag/\n",
    "    %pip install –q langchain langchainhub\n",
    "    http://smith.langchain.com에서 key생성 .env key(LANGCHAIN_API_KEY) 추가\n",
    "```"
   ]
  },
  {
   "cell_type": "markdown",
   "id": "cf37b8f2",
   "metadata": {},
   "source": [
    "# 0. 패키지 설치"
   ]
  },
  {
   "cell_type": "code",
   "execution_count": 3,
   "id": "80179e42",
   "metadata": {},
   "outputs": [
    {
     "name": "stdout",
     "output_type": "stream",
     "text": [
      "Note: you may need to restart the kernel to use updated packages.\n"
     ]
    }
   ],
   "source": [
    "# 문서 읽어오기\n",
    "%pip install --quiet docx2txt"
   ]
  },
  {
   "cell_type": "code",
   "execution_count": 4,
   "id": "83bb73e4",
   "metadata": {},
   "outputs": [
    {
     "name": "stdout",
     "output_type": "stream",
     "text": [
      "Note: you may need to restart the kernel to use updated packages.\n"
     ]
    }
   ],
   "source": [
    "# 텍스트를 청크로 나누는 기능만 있는 경량 모듈\n",
    "%pip install -q langchain-text-splitters"
   ]
  },
  {
   "cell_type": "code",
   "execution_count": 5,
   "id": "08fa2023",
   "metadata": {},
   "outputs": [
    {
     "name": "stdout",
     "output_type": "stream",
     "text": [
      "Note: you may need to restart the kernel to use updated packages.\n"
     ]
    }
   ],
   "source": [
    "# 벡터 DB (로컬 DB)\n",
    "%pip install -q langchain-chroma"
   ]
  },
  {
   "cell_type": "code",
   "execution_count": 6,
   "id": "09bdb5b3",
   "metadata": {},
   "outputs": [
    {
     "name": "stdout",
     "output_type": "stream",
     "text": [
      "Note: you may need to restart the kernel to use updated packages.\n"
     ]
    }
   ],
   "source": [
    "# 제공되는 prompt 사용\n",
    "%pip install -q langchain langchainhub"
   ]
  },
  {
   "cell_type": "markdown",
   "id": "5392d802",
   "metadata": {},
   "source": [
    "# 1. 문서 읽기 (X)"
   ]
  },
  {
   "cell_type": "code",
   "execution_count": 26,
   "id": "98bc541f",
   "metadata": {},
   "outputs": [
    {
     "name": "stdout",
     "output_type": "stream",
     "text": [
      "CPU times: total: 3.91 s\n",
      "Wall time: 3.9 s\n"
     ]
    }
   ],
   "source": [
    "%%time\n",
    "\n",
    "from langchain_community.document_loaders import Docx2txtLoader\n",
    "\n",
    "loader = Docx2txtLoader('./tax_docs/소득세법(법률)(제20615호)(20250701).docx')\n",
    "document = loader.load()"
   ]
  },
  {
   "cell_type": "code",
   "execution_count": 27,
   "id": "cd7e03bc",
   "metadata": {},
   "outputs": [
    {
     "data": {
      "text/plain": [
       "1"
      ]
     },
     "execution_count": 27,
     "metadata": {},
     "output_type": "execute_result"
    }
   ],
   "source": [
    "len(document)"
   ]
  },
  {
   "cell_type": "code",
   "execution_count": 28,
   "id": "3f34f699",
   "metadata": {},
   "outputs": [
    {
     "data": {
      "text/plain": [
       "'소득세법\\n\\n소득세법\\n\\n[시행 2025. 7. 1.] [법률 제20615호, 2024. 12. 31., 일부개정]\\n\\n기획재정부(재산세제과(양도소득세)) 044-215-4312\\n\\n기획재정부(소득세제과(근로소득)) 044-215-4216\\n\\n기획재정부(금융세제과(이자소득, 배당소득)) 044-215-4233\\n\\n기획재정부(소득세제과(사업소득, 기타소득)) 044-2'"
      ]
     },
     "execution_count": 28,
     "metadata": {},
     "output_type": "execute_result"
    }
   ],
   "source": [
    "document[0].page_content[:200]"
   ]
  },
  {
   "cell_type": "markdown",
   "id": "cf345be6",
   "metadata": {},
   "source": [
    "# 2. 문서를 쪼개면서 읽기 (o)"
   ]
  },
  {
   "cell_type": "code",
   "execution_count": 29,
   "id": "2d6f73ec",
   "metadata": {},
   "outputs": [
    {
     "name": "stdout",
     "output_type": "stream",
     "text": [
      "문서 쪼개면서 읽는 시간 : 4.100828647613525\n"
     ]
    }
   ],
   "source": [
    "import time\n",
    "from langchain_community.document_loaders import Docx2txtLoader\n",
    "from langchain_text_splitters import RecursiveCharacterTextSplitter\n",
    "\n",
    "start = time.time()\n",
    "loader = Docx2txtLoader('./tax_docs/소득세법(법률)(제20615호)(20250701).docx')\n",
    "text_splitter = RecursiveCharacterTextSplitter(  # 문서를 쪼개는 기준이 문자수\n",
    "    chunk_size = 1500,  # 문서를 쪼갤 때 1500글자씩\n",
    "    chunk_overlap = 200\n",
    ")\n",
    "# 1번째 chunk 1 ~ 1450글자\n",
    "# 2번째 chunk 1250 ~ 1750글자\n",
    "document = loader.load_and_split(text_splitter = text_splitter)\n",
    "runtime = time.time() - start\n",
    "print('문서 쪼개면서 읽는 시간 :', runtime)"
   ]
  },
  {
   "cell_type": "code",
   "execution_count": 30,
   "id": "bb459242",
   "metadata": {},
   "outputs": [
    {
     "data": {
      "text/plain": [
       "183"
      ]
     },
     "execution_count": 30,
     "metadata": {},
     "output_type": "execute_result"
    }
   ],
   "source": [
    "# chunk 갯수\n",
    "\n",
    "len(document)"
   ]
  },
  {
   "cell_type": "code",
   "execution_count": 31,
   "id": "cb47010e",
   "metadata": {},
   "outputs": [
    {
     "data": {
      "text/plain": [
       "1464"
      ]
     },
     "execution_count": 31,
     "metadata": {},
     "output_type": "execute_result"
    }
   ],
   "source": [
    "len(document[0].page_content)"
   ]
  },
  {
   "cell_type": "code",
   "execution_count": 32,
   "id": "25e7a3bd",
   "metadata": {},
   "outputs": [
    {
     "name": "stdout",
     "output_type": "stream",
     "text": [
      "1497\n",
      "1055\n"
     ]
    }
   ],
   "source": [
    "# chunk의 글자수들\n",
    "\n",
    "# [len(doc.page_content) for doc in document]\n",
    "print(max(len(doc.page_content) for doc in document))\n",
    "print(min(len(doc.page_content) for doc in document))"
   ]
  },
  {
   "cell_type": "markdown",
   "id": "5306334e",
   "metadata": {},
   "source": [
    "# 3. 쪼갠 문서를 임베딩 → 벡터 데이터베이스 저장\n",
    "\n",
    "- 임베딩 모델 : openAI API의 text-embedding-3-large (기본 : text-embedding-ada-002)\n",
    "- 벡터 데이터베이스 : chroma"
   ]
  },
  {
   "cell_type": "code",
   "execution_count": 33,
   "id": "67c165c3",
   "metadata": {},
   "outputs": [],
   "source": [
    "from dotenv import load_dotenv\n",
    "from langchain_openai import OpenAIEmbeddings\n",
    "\n",
    "load_dotenv()\n",
    "# https://python.langchain.com/v0.2/docs/how_to/embed_text/\n",
    "embedding = OpenAIEmbeddings(\n",
    "    model = \"text-embedding-3-large\"\n",
    ")"
   ]
  },
  {
   "cell_type": "code",
   "execution_count": 34,
   "id": "97d3e959",
   "metadata": {},
   "outputs": [
    {
     "data": {
      "text/plain": [
       "(2, 3072)"
      ]
     },
     "execution_count": 34,
     "metadata": {},
     "output_type": "execute_result"
    }
   ],
   "source": [
    "embeddings = embedding.embed_documents(\n",
    "    [\n",
    "        \"소득세법 어쩌구 저쩌구\",\n",
    "        document[0].page_content\n",
    "    ]\n",
    ")\n",
    "len(embeddings), len(embeddings[0])"
   ]
  },
  {
   "cell_type": "code",
   "execution_count": 35,
   "id": "7a371dcb",
   "metadata": {},
   "outputs": [
    {
     "data": {
      "text/plain": [
       "(2, 3072, 3072)"
      ]
     },
     "execution_count": 35,
     "metadata": {},
     "output_type": "execute_result"
    }
   ],
   "source": [
    "len(embeddings), len(embeddings[0]), len(embeddings[1])"
   ]
  },
  {
   "cell_type": "code",
   "execution_count": 36,
   "id": "e02aec4c",
   "metadata": {},
   "outputs": [
    {
     "data": {
      "text/plain": [
       "3072"
      ]
     },
     "execution_count": 36,
     "metadata": {},
     "output_type": "execute_result"
    }
   ],
   "source": [
    "len(embedding.embed_query(\"소득세\"))"
   ]
  },
  {
   "cell_type": "code",
   "execution_count": 37,
   "id": "19408294",
   "metadata": {},
   "outputs": [
    {
     "name": "stdout",
     "output_type": "stream",
     "text": [
      "CPU times: total: 31.2 ms\n",
      "Wall time: 32.4 ms\n"
     ]
    }
   ],
   "source": [
    "%%time\n",
    "\n",
    "from langchain_chroma import Chroma\n",
    "\n",
    "# 데이터를 처음 저장할 때\n",
    "# database = Chroma.from_documents(                                 \n",
    "#     documents = document,\n",
    "#     embedding = embedding,\n",
    "#     collection_name = \"tax-collection\",  # 생략 시 이름 랜덤\n",
    "#     persist_directory = './chroma'  # 생략 시 로컬데이터베이스에 저장 안됨, 프로그램 종료시 db날라감\n",
    "# )\n",
    "# 이미 저장된 vector DB를 사용할 때\n",
    "database = Chroma(\n",
    "    embedding_function = embedding,\n",
    "    collection_name = \"tax-collection\",\n",
    "    persist_directory = './chroma'\n",
    ")"
   ]
  },
  {
   "cell_type": "markdown",
   "id": "ff36273c",
   "metadata": {},
   "source": [
    "# 4. vector DB에 질문과 유사도 검색 (답변 생성을 위한 retrieval)"
   ]
  },
  {
   "cell_type": "code",
   "execution_count": 38,
   "id": "521ead95",
   "metadata": {},
   "outputs": [],
   "source": [
    "query = \"연봉 5천만원인 직장인의 소득세는 얼마인가요?\"\n",
    "retrieved_docs = database.similarity_search(query,\n",
    "                                           k = 3)  # 기본 k는 4"
   ]
  },
  {
   "cell_type": "code",
   "execution_count": 39,
   "id": "0c085de3",
   "metadata": {
    "scrolled": true
   },
   "outputs": [
    {
     "data": {
      "text/plain": [
       "[Document(id='d2f774e3-1ad2-4bf1-8697-cb93e02bad6d', metadata={'source': './tax_docs/소득세법(법률)(제20615호)(20250701).docx'}, page_content='[전문개정 2009. 12. 31.]\\n\\n\\n\\n제10조(납세지의 변경신고) 거주자나 비거주자는 제6조부터 제9조까지의 규정에 따른 납세지가 변경된 경우 변경된 날부터 15일 이내에 대통령령으로 정하는 바에 따라 그 변경 후의 납세지 관할 세무서장에게 신고하여야 한다.\\n\\n[전문개정 2009. 12. 31.]\\n\\n\\n\\n제11조(과세 관할) 소득세는 제6조부터 제10조까지의 규정에 따른 납세지를 관할하는 세무서장 또는 지방국세청장이 과세한다.\\n\\n[전문개정 2009. 12. 31.]\\n\\n\\n\\n제2장 거주자의 종합소득 및 퇴직소득에 대한 납세의무 <개정 2009. 12. 31.>\\n\\n\\n\\n제1절 비과세 <개정 2009. 12. 31.>\\n\\n\\n\\n제12조(비과세소득) 다음 각 호의 소득에 대해서는 소득세를 과세하지 아니한다. <개정 2010. 12. 27., 2011. 7. 25., 2011. 9. 15., 2012. 2. 1., 2013. 1. 1., 2013. 3. 22., 2014. 1. 1., 2014. 3. 18., 2014. 12. 23., 2015. 12. 15., 2016. 12. 20., 2018. 3. 20., 2018. 12. 31., 2019. 12. 10., 2019. 12. 31., 2020. 6. 9., 2020. 12. 29., 2022. 8. 12., 2022. 12. 31., 2023. 8. 8., 2023. 12. 31., 2024. 12. 31.>\\n\\n1. 「공익신탁법」에 따른 공익신탁의 이익\\n\\n2. 사업소득 중 다음 각 목의 어느 하나에 해당하는 소득\\n\\n가. 논ㆍ밭을 작물 생산에 이용하게 함으로써 발생하는 소득\\n\\n나. 1개의 주택을 소유하는 자의 주택임대소득(제99조에 따른 기준시가가 12억원을 초과하는 주택 및 국외에 소재하는 주택의 임대소득은 제외한다) 또는 해당 과세기간에 대통령령으로 정하는 총수입금액의 합계액이 2천만원 이하인 자의 주택임대소득(2018년 12월 31일 이전에 끝나는 과세기간까지 발생하는 소득으로 한정한다). 이 경우 주택 수의 계산 및 주택임대소득의 산정 등 필요한 사항은 대통령령으로 정한다.\\n\\n다. 대통령령으로 정하는 농어가부업소득\\n\\n라. 대통령령으로 정하는 전통주의 제조에서 발생하는 소득\\n\\n마. 조림기간 5년 이상인 임지(林地)의 임목(林木)의 벌채 또는 양도로 발생하는 소득으로서 연 600만원 이하의 금액. 이 경우 조림기간 및 세액의 계산 등 필요한 사항은 대통령령으로 정한다.\\n\\n바. 대통령령으로 정하는 작물재배업에서 발생하는 소득\\n\\n사. 대통령령으로 정하는 어로어업 또는 양식어업에서 발생하는 소득\\n\\n3. 근로소득과 퇴직소득 중 다음 각 목의 어느 하나에 해당하는 소득\\n\\n가. 대통령령으로 정하는 복무 중인 병(兵)이 받는 급여\\n\\n나. 법률에 따라 동원된 사람이 그 동원 직장에서 받는 급여'),\n",
       " Document(id='8342e399-fae3-4b74-b1cb-4e3bbaeeaf66', metadata={'source': './tax_docs/소득세법(법률)(제20615호)(20250701).docx'}, page_content='바. 「문화유산의 보존 및 활용에 관한 법률」에 따라 국가지정문화유산으로 지정된 서화ㆍ골동품의 양도로 발생하는 소득\\n\\n사. 서화ㆍ골동품을 박물관 또는 미술관에 양도함으로써 발생하는 소득\\n\\n아. 제21조제1항제26호에 따른 종교인소득 중 다음의 어느 하나에 해당하는 소득\\n\\n\\u3000\\u3000\\u3000\\u30001) 「통계법」 제22조에 따라 통계청장이 고시하는 한국표준직업분류에 따른 종교관련종사자(이하 “종교관련종사자”라 한다)가 받는 대통령령으로 정하는 학자금\\n\\n\\u3000\\u3000\\u3000\\u30002) 종교관련종사자가 받는 대통령령으로 정하는 식사 또는 식사대\\n\\n\\u3000\\u3000\\u3000\\u30003) 종교관련종사자가 받는 대통령령으로 정하는 실비변상적 성질의 지급액\\n\\n\\u3000\\u3000\\u3000\\u30004) 종교관련종사자 또는 그 배우자의 출산이나 6세 이하(해당 과세기간 개시일을 기준으로 판단한다) 자녀의 보육과 관련하여 종교단체로부터 받는 금액으로서 월 20만원 이내의 금액\\n\\n\\u3000\\u3000\\u3000\\u30005) 종교관련종사자가 기획재정부령으로 정하는 사택을 제공받아 얻는 이익\\n\\n자. 법령ㆍ조례에 따른 위원회 등의 보수를 받지 아니하는 위원(학술원 및 예술원의 회원을 포함한다) 등이 받는 수당\\n\\n[전문개정 2009. 12. 31.]\\n\\n\\n\\n제13조 삭제 <2009. 12. 31.>\\n\\n\\n\\n제2절 과세표준과 세액의 계산 <개정 2009. 12. 31.>\\n\\n\\n\\n제1관 세액계산 통칙 <개정 2009. 12. 31.>\\n\\n\\n\\n제14조(과세표준의 계산) ① 거주자의 종합소득 및 퇴직소득에 대한 과세표준은 각각 구분하여 계산한다.\\n\\n② 종합소득에 대한 과세표준(이하 “종합소득과세표준”이라 한다)은 제16조, 제17조, 제19조, 제20조, 제20조의3, 제21조, 제24조부터 제26조까지, 제27조부터 제29조까지, 제31조부터 제35조까지, 제37조, 제39조, 제41조부터 제46조까지, 제46조의2, 제47조 및 제47조의2에 따라 계산한 이자소득금액, 배당소득금액, 사업소득금액, 근로소득금액, 연금소득금액 및 기타소득금액의 합계액(이하 “종합소득금액”이라 한다)에서 제50조, 제51조, 제51조의3, 제51조의4 및 제52조에 따른 공제(이하 “종합소득공제”라 한다)를 적용한 금액으로 한다.<개정 2013. 1. 1., 2014. 1. 1.>\\n\\n③ 다음 각 호에 따른 소득의 금액은 종합소득과세표준을 계산할 때 합산하지 아니한다.<개정 2010. 12. 27., 2011. 7. 14., 2013. 1. 1., 2014. 12. 23., 2015. 12. 15., 2017. 12. 19., 2018. 12. 31., 2019. 12. 31., 2020. 12. 29., 2023. 12. 31.>\\n\\n1. 「조세특례제한법」 또는 이 법 제12조에 따라 과세되지 아니하는 소득\\n\\n2. 대통령령으로 정하는 일용근로자(이하 “일용근로자”라 한다)의 근로소득\\n\\n3. 제129조제2항의 세율에 따라 원천징수하는 이자소득 및 배당소득과 제16조제1항제10호에 따른 직장공제회 초과반환금'),\n",
       " Document(id='9e413df8-26aa-4e73-bf8d-a0c3bcafe3b8', metadata={'source': './tax_docs/소득세법(법률)(제20615호)(20250701).docx'}, page_content='소득세법\\n\\n소득세법\\n\\n[시행 2025. 7. 1.] [법률 제20615호, 2024. 12. 31., 일부개정]\\n\\n기획재정부(재산세제과(양도소득세)) 044-215-4312\\n\\n기획재정부(소득세제과(근로소득)) 044-215-4216\\n\\n기획재정부(금융세제과(이자소득, 배당소득)) 044-215-4233\\n\\n기획재정부(소득세제과(사업소득, 기타소득)) 044-215-4217\\n\\n\\n\\n제1장 총칙 <개정 2009. 12. 31.>\\n\\n\\n\\n제1조(목적) 이 법은 개인의 소득에 대하여 소득의 성격과 납세자의 부담능력 등에 따라 적정하게 과세함으로써 조세부담의 형평을 도모하고 재정수입의 원활한 조달에 이바지함을 목적으로 한다.\\n\\n[본조신설 2009. 12. 31.]\\n\\n[종전 제1조는 제2조로 이동 <2009. 12. 31.>]\\n\\n\\n\\n제1조의2(정의) ① 이 법에서 사용하는 용어의 뜻은 다음과 같다. <개정 2010. 12. 27., 2014. 12. 23., 2018. 12. 31.>\\n\\n1. “거주자”란 국내에 주소를 두거나 183일 이상의 거소(居所)를 둔 개인을 말한다.\\n\\n2. “비거주자”란 거주자가 아닌 개인을 말한다.\\n\\n3. “내국법인”이란 「법인세법」 제2조제1호에 따른 내국법인을 말한다.\\n\\n4. “외국법인”이란 「법인세법」 제2조제3호에 따른 외국법인을 말한다.\\n\\n5. “사업자”란 사업소득이 있는 거주자를 말한다.\\n\\n② 제1항에 따른 주소ㆍ거소와 거주자ㆍ비거주자의 구분은 대통령령으로 정한다.\\n\\n[본조신설 2009. 12. 31.]\\n\\n\\n\\n제2조(납세의무) ① 다음 각 호의 어느 하나에 해당하는 개인은 이 법에 따라 각자의 소득에 대한 소득세를 납부할 의무를 진다.\\n\\n1. 거주자\\n\\n2. 비거주자로서 국내원천소득(國內源泉所得)이 있는 개인\\n\\n② 다음 각 호의 어느 하나에 해당하는 자는 이 법에 따라 원천징수한 소득세를 납부할 의무를 진다.\\n\\n1. 거주자\\n\\n2. 비거주자\\n\\n3. 내국법인\\n\\n4. 외국법인의 국내지점 또는 국내영업소(출장소, 그 밖에 이에 준하는 것을 포함한다. 이하 같다)\\n\\n5. 그 밖에 이 법에서 정하는 원천징수의무자\\n\\n③ 「국세기본법」 제13조제1항에 따른 법인 아닌 단체 중 같은 조 제4항에 따른 법인으로 보는 단체(이하 “법인으로 보는 단체”라 한다) 외의 법인 아닌 단체는 국내에 주사무소 또는 사업의 실질적 관리장소를 둔 경우에는 1거주자로, 그 밖의 경우에는 1비거주자로 보아 이 법을 적용한다. 다만, 다음 각 호의 어느 하나에 해당하는 경우에는 소득구분에 따라 해당 단체의 각 구성원별로 이 법 또는 「법인세법」에 따라 소득에 대한 소득세 또는 법인세[해당 구성원이 「법인세법」에 따른 법인(법인으로 보는 단체를 포함한다)인 경우로 한정한다. 이하 이 조에서 같다]를 납부할 의무를 진다.<개정 2010. 12. 27., 2013. 1. 1., 2018. 12. 31.>\\n\\n1. 구성원 간 이익의 분배비율이 정하여져 있고 해당 구성원별로 이익의 분배비율이 확인되는 경우')]"
      ]
     },
     "execution_count": 39,
     "metadata": {},
     "output_type": "execute_result"
    }
   ],
   "source": [
    "retrieved_docs"
   ]
  },
  {
   "cell_type": "markdown",
   "id": "b5a2262e",
   "metadata": {},
   "source": [
    "# 5. 유사도 검색으로 가져온 문서를 질문과 같이 LLM 전달하여 답변 생성"
   ]
  },
  {
   "cell_type": "code",
   "execution_count": 40,
   "id": "dc5ae465",
   "metadata": {},
   "outputs": [],
   "source": [
    "from langchain_openai import ChatOpenAI\n",
    "\n",
    "llm = ChatOpenAI(model = \"gpt-4.1-nano\")"
   ]
  },
  {
   "cell_type": "code",
   "execution_count": 41,
   "id": "8312ebcf",
   "metadata": {},
   "outputs": [],
   "source": [
    "prompt = f\"\"\"[identity]\n",
    "- 당신은 최고의 한국 소득세 전문자입니다\n",
    "- [context]를 참고해서 사용자의 질문에 답변해 주세요\n",
    "[context]는 다음과 같아요\n",
    "{retrieved_docs}\n",
    "Question : {query}\"\"\""
   ]
  },
  {
   "cell_type": "code",
   "execution_count": 42,
   "id": "55171c60",
   "metadata": {},
   "outputs": [],
   "source": [
    "ai_message = llm.invoke(prompt)"
   ]
  },
  {
   "cell_type": "code",
   "execution_count": 43,
   "id": "221a2d51",
   "metadata": {},
   "outputs": [
    {
     "name": "stdout",
     "output_type": "stream",
     "text": [
      "연봉 5천만원인 직장인의 소득세를 계산하기 위해서는 먼저 과세표준과 세율을 적용해야 합니다. \n",
      "\n",
      "2025년 기준 국내의 근로소득에 대한 기본 세율 구조는 아래와 같습니다(일반적인 세율 표는 참고용입니다; 세율은 매년 조정될 수 있으니 정확한 연도 세율표를 확인하는 것이 좋습니다).\n",
      "\n",
      "| 과세표준 구간 | 세율 | 누진공제액 |\n",
      "|----------------|-------|--------------|\n",
      "| 1,200만원 이하 | 6% | 0 |\n",
      "| 1,200만원 초과 4,600만원 이하 | 15% | 108만원 |\n",
      "| 4,600만원 초과 8,800만원 이하 | 24% | 522만원 |\n",
      "| 8,800만원 초과 | 35% | 1,490만원 |\n",
      "\n",
      "먼저, 연봉이 50,000,000원인 경우 공제액(근로소득공제)을 차감해야 합니다. \n",
      "\n",
      "(참고: 2025년 기준 근로소득공제율은 다소 조정될 수 있으며, 일반적으로 일정액 또는 일정비율 공제 방식을 따릅니다. 예를 들어, 연봉 5,000만원 기준 근로소득공제는 대략 1,500만원 정도 추정됩니다.)\n",
      "\n",
      "**계산 과정:**\n",
      "\n",
      "1. **근로소득공제 적용 후 과세표준:**  \n",
      "50,000,000원 - 15,000,000원 (추정 공제액) ≈ 35,000,000원\n",
      "\n",
      "2. **세율 구간별 세금 계산:**  \n",
      "- 1,200만원까지: 12,000,000원 × 6% = 720,000원  \n",
      "- 1,200만원 초과 4,600만원 이하 구간: (35,000,000 - 12,000,000) = 23,000,000원  \n",
      "  세율 15% 적용: 23,000,000 × 15% = 3,450,000원  \n",
      "- 4,600만원 초과 구간(이 경우는 없음, 35억 이하이므로 이 단계는 생략)\n",
      "\n",
      "그러나 앞서 계산은 간단화를 위해 3단계로 나누어 계산하고, 누진공제액도 반영해야 정확합니다. \n",
      "\n",
      "**최종 세액 계산 (대략):**\n",
      "\n",
      "세액 = (12,000,000 × 6%) + (23,000,000 × 15%) - 누진공제액  \n",
      "= 720,000 + 3,450,000 - 108,000 (누진공제액)  \n",
      "= 약 4,062,000원\n",
      "\n",
      "이것은 근로소득세의 대략적인 금액입니다. \n",
      "개인의 세액은 특수공제, 인적공제(자녀공제, 보험료공제 등), 특별세액공제 등 다양한 공제 항목에 따라 차이가 날 수 있습니다.\n",
      "\n",
      "**요약:**  \n",
      "연봉 5천만원인 직장인의 예상 소득세는 약 **4백만 원 초반대**(약 4,060,000원)입니다.\n",
      "\n",
      "**참고:**  \n",
      "- 정확한 금액 산정을 위해서는 본인의 공제・공제액, 기타 소득공제 내역을 고려해야 하며, 연말정산 결과에 따라 확정됩니다.\n",
      "- 세법 개정이나 세율 세액 공제 항목이 변동될 수 있으니, 연말정산 시 회사 또는 세무 전문가와 상담하는 것이 좋습니다.\n"
     ]
    }
   ],
   "source": [
    "print(ai_message.content)"
   ]
  },
  {
   "cell_type": "markdown",
   "id": "96605312",
   "metadata": {},
   "source": [
    "# 6. Augmentation을 위한 제공되는 Prompt활용하여 langchain으로 답변 생성"
   ]
  },
  {
   "cell_type": "code",
   "execution_count": 44,
   "id": "154aec6d",
   "metadata": {},
   "outputs": [
    {
     "name": "stderr",
     "output_type": "stream",
     "text": [
      "C:\\Users\\Admin\\anaconda3\\envs\\llm\\lib\\site-packages\\langsmith\\client.py:272: LangSmithMissingAPIKeyWarning: API key must be provided when using hosted LangSmith API\n",
      "  warnings.warn(\n"
     ]
    },
    {
     "data": {
      "text/plain": [
       "ChatPromptTemplate(input_variables=['context', 'question'], input_types={}, partial_variables={}, metadata={'lc_hub_owner': 'rlm', 'lc_hub_repo': 'rag-prompt', 'lc_hub_commit_hash': '50442af133e61576e74536c6556cefe1fac147cad032f4377b60c436e6cdcb6e'}, messages=[HumanMessagePromptTemplate(prompt=PromptTemplate(input_variables=['context', 'question'], input_types={}, partial_variables={}, template=\"You are an assistant for question-answering tasks. Use the following pieces of retrieved context to answer the question. If you don't know the answer, just say that you don't know. Use three sentences maximum and keep the answer concise.\\nQuestion: {question} \\nContext: {context} \\nAnswer:\"), additional_kwargs={})])"
      ]
     },
     "execution_count": 44,
     "metadata": {},
     "output_type": "execute_result"
    }
   ],
   "source": [
    "from langchain import hub\n",
    "\n",
    "query = \"연봉 5천만원인 직장인의 소득세는 얼마인가요?\"\n",
    "\n",
    "prompt = hub.pull(\"rlm/rag-prompt\")\n",
    "prompt"
   ]
  },
  {
   "cell_type": "markdown",
   "id": "c5aad491",
   "metadata": {},
   "source": [
    "## RetrievalQA를 통해 LLM전달 (create_retrieval_chain이 대체)\n",
    "\n",
    "```\n",
    " query → retriever 전달 (백터 검색 수행) \n",
    " → retrieval문서 → prompt의 {context}에 삽입\n",
    " → query → prompt의 {question}에 삽입\n",
    "```"
   ]
  },
  {
   "cell_type": "code",
   "execution_count": 45,
   "id": "ffd587bd",
   "metadata": {},
   "outputs": [],
   "source": [
    "from langchain.chains import RetrievalQA\n",
    "\n",
    "qa_chain = RetrievalQA.from_chain_type(\n",
    "    llm,\n",
    "    retriever = database.as_retriever(search_kwargs = {'k':5}),\n",
    "    chain_type_kwargs = {\"prompt\":prompt}\n",
    ")"
   ]
  },
  {
   "cell_type": "code",
   "execution_count": 46,
   "id": "eddd9720",
   "metadata": {},
   "outputs": [],
   "source": [
    "ai_message = qa_chain.invoke({\"query\":query})"
   ]
  },
  {
   "cell_type": "code",
   "execution_count": 47,
   "id": "e33cd9e6",
   "metadata": {},
   "outputs": [
    {
     "data": {
      "text/plain": [
       "{'query': '연봉 5천만원인 직장인의 소득세는 얼마인가요?',\n",
       " 'result': '연봉 5천만원인 직장인의 소득세는 구체적인 세율과 공제 조건에 따라 달라지므로 이 자료만으로 정확한 금액을 알 수 없습니다. 일반적으로 소득세는 종합소득과 세율, 공제액 등을 고려하여 계산됩니다. 따라서 정확한 세액을 알기 위해서는 세금 계산 프로그램 또는 세무 전문가의 상담이 필요합니다.'}"
      ]
     },
     "execution_count": 47,
     "metadata": {},
     "output_type": "execute_result"
    }
   ],
   "source": [
    "ai_message"
   ]
  }
 ],
 "metadata": {
  "kernelspec": {
   "display_name": "llm(ipykernel)",
   "language": "python",
   "name": "llm"
  },
  "language_info": {
   "codemirror_mode": {
    "name": "ipython",
    "version": 3
   },
   "file_extension": ".py",
   "mimetype": "text/x-python",
   "name": "python",
   "nbconvert_exporter": "python",
   "pygments_lexer": "ipython3",
   "version": "3.10.18"
  },
  "toc": {
   "base_numbering": 1,
   "nav_menu": {},
   "number_sections": false,
   "sideBar": true,
   "skip_h1_title": false,
   "title_cell": "Table of Contents",
   "title_sidebar": "Contents",
   "toc_cell": false,
   "toc_position": {
    "height": "calc(100% - 180px)",
    "left": "10px",
    "top": "150px",
    "width": "254.55px"
   },
   "toc_section_display": true,
   "toc_window_display": true
  }
 },
 "nbformat": 4,
 "nbformat_minor": 5
}
