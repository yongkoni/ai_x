{
 "cells": [
  {
   "cell_type": "code",
   "execution_count": 1,
   "id": "1ac8f232",
   "metadata": {},
   "outputs": [
    {
     "data": {
      "text/html": [
       "<style>\n",
       "div.container{width:86% !important;}\n",
       "div.cell.code_cell.rendered{width:100%;}\n",
       "div.CodeMirror {font-family:Consolas; font-size:12pt;}\n",
       "div.output {font-size:12pt; font-weight:bold;}\n",
       "div.input {font-family:Consolas; font-size:12pt;}\n",
       "div.prompt {min-width:70px;}\n",
       "div#toc-wrapper{padding-top:120px;}\n",
       "div.text_cell_render ul li{fontsize:12pt;padding:5px;}\n",
       "table.dataframe{font-size:12px;}))\n",
       "</style>\n"
      ],
      "text/plain": [
       "<IPython.core.display.HTML object>"
      ]
     },
     "metadata": {},
     "output_type": "display_data"
    }
   ],
   "source": [
    "from IPython.display import display, HTML\n",
    "display(HTML(\"\"\"<style>\n",
    "div.container{width:86% !important;}\n",
    "div.cell.code_cell.rendered{width:100%;}\n",
    "div.CodeMirror {font-family:Consolas; font-size:12pt;}\n",
    "div.output {font-size:12pt; font-weight:bold;}\n",
    "div.input {font-family:Consolas; font-size:12pt;}\n",
    "div.prompt {min-width:70px;}\n",
    "div#toc-wrapper{padding-top:120px;}\n",
    "div.text_cell_render ul li{fontsize:12pt;padding:5px;}\n",
    "table.dataframe{font-size:12px;}))\n",
    "</style>\n",
    "\"\"\"))"
   ]
  },
  {
   "cell_type": "markdown",
   "id": "eb05f2d5",
   "metadata": {},
   "source": [
    "# <span style=\"color:red\">ch09 07 LangChain과 vectorDatabase를 활용한 RAG구현 (UpstageEmbedding) </span>"
   ]
  },
  {
   "cell_type": "markdown",
   "id": "9a33cad2",
   "metadata": {},
   "source": [
    "[ RAG 구현 절차 ]\n",
    "\n",
    "```\n",
    "1. 문서의 내용을 읽는다 (document_loader를 이용)\n",
    "    1) https://python.langchain.com/v0.2/docs/integrations/document_loaders/ \n",
    "    2) https://python.langchain.com/v0.2/docs/integrations/document_loaders/microsoft_word/\n",
    "    %pip install --upgrade --quiet docx2txt\n",
    "2. 문서를 쪼갠다 (한번에 이해하고 처리할 수 있는 입력 + 출력 토큰수가 제한)\n",
    "    1) https://python.langchain.com/v0.2/docs/how_to/recursive_text_splitter/#splitting-text-from-languages-without-word-boundaries \n",
    "    %pip install -qU langchain-text-splitters\n",
    "3. 쪼갠 문서를 임베딩하여 vector database에 넣음\n",
    "    1) OpenAIEmbeddings나 UpstageEmbeddings 이용해서 임베딩\n",
    "    2) https://python.langchain.com/v0.2/docs/integrations/vectorstores/chroma/  \n",
    "    %pip install –q langchain-chroma\n",
    "4. 질문을 이용해 유사도 검색\n",
    "5. 유사도 검색한 문서를 LLM에 질문으로 전달하여 답변 얻음 (제공되는 Prompt활용)\n",
    "    1) https://python.langchain.com/v0.2/docs/tutorials/rag/\n",
    "    %pip install –q langchain langchainhub\n",
    "    http://smith.langchain.com에서 key생성 .env key(LANGCHAIN_API_KEY) 추가\n",
    "```"
   ]
  },
  {
   "cell_type": "markdown",
   "id": "65ef5a3b",
   "metadata": {},
   "source": [
    "# 1. 문서를 쪼개면서 읽기 (o)"
   ]
  },
  {
   "cell_type": "code",
   "execution_count": 2,
   "id": "eece96b6",
   "metadata": {},
   "outputs": [
    {
     "name": "stdout",
     "output_type": "stream",
     "text": [
      "문서 쪼개면서 읽는 시간 : 5.0091798305511475\n"
     ]
    }
   ],
   "source": [
    "import time\n",
    "from langchain_community.document_loaders import Docx2txtLoader\n",
    "from langchain_text_splitters import RecursiveCharacterTextSplitter\n",
    "\n",
    "start = time.time()\n",
    "loader = Docx2txtLoader('./tax_docs/소득세법(법률)(제20615호)(20250701).docx')\n",
    "text_splitter = RecursiveCharacterTextSplitter(  # 문서를 쪼개는 기준이 문자수\n",
    "    chunk_size = 1500,  #문서를 쪼갤때 1500글자씩 쪼개\n",
    "    chunk_overlap = 200\n",
    ")\n",
    "# 1번째 chunk 1~1450글자\n",
    "# 2번째 chunk 1250~1750글자\n",
    "documents = loader.load_and_split(text_splitter = text_splitter)\n",
    "runtime = time.time() - start\n",
    "print('문서 쪼개면서 읽는 시간 :', runtime)"
   ]
  },
  {
   "cell_type": "markdown",
   "id": "0cdc946f",
   "metadata": {},
   "source": [
    "# 2. 쪼갠 문서를 임베딩 → 벡터 데이터베이스 저장\n",
    "\n",
    "- 임베딩 모델 : upstage의 text-embedding-3-large (기본 : text-embedding-ada-002)\n",
    "- 벡터 데이터베이스 : chroma"
   ]
  },
  {
   "cell_type": "code",
   "execution_count": 3,
   "id": "25d2da73",
   "metadata": {},
   "outputs": [],
   "source": [
    "# https://python.langchain.com/v0.2/docs/integrations/text_embedding/upstage\n",
    "\n",
    "from dotenv import load_dotenv\n",
    "from langchain_upstage import UpstageEmbeddings\n",
    "\n",
    "load_dotenv()\n",
    "embeddings = UpstageEmbeddings(\n",
    "    model = \"solar-embedding-1-large\"\n",
    "    # model = \"embedding-query\"\n",
    ")"
   ]
  },
  {
   "cell_type": "code",
   "execution_count": 4,
   "id": "a89fb594",
   "metadata": {},
   "outputs": [
    {
     "name": "stdout",
     "output_type": "stream",
     "text": [
      "2 4096 4096\n"
     ]
    }
   ],
   "source": [
    "doc_result = embeddings.embed_documents(\n",
    "    [\"소득세법 어쩌구 저쩌구\", documents[0].page_content]\n",
    ")\n",
    "print(len(doc_result), len(doc_result[0]), len(doc_result[1]))"
   ]
  },
  {
   "cell_type": "code",
   "execution_count": 5,
   "id": "ae2e4c23",
   "metadata": {},
   "outputs": [
    {
     "name": "stdout",
     "output_type": "stream",
     "text": [
      "CPU times: total: 8.16 s\n",
      "Wall time: 36.5 s\n"
     ]
    }
   ],
   "source": [
    "%%time\n",
    "\n",
    "from langchain_chroma import Chroma\n",
    "\n",
    "# 데이터를 처음 저장할 때\n",
    "database = Chroma.from_documents(                                 \n",
    "    documents=documents,\n",
    "    embedding=embeddings,\n",
    "    collection_name=\"tax-collection\",  # 생략시 이름 랜덤\n",
    "    persist_directory='./chroma_upstage'  # 생략시 로컬데이터베이스에 저장안됨. 프로그램 종료시 db날라감\n",
    ")\n",
    "\n",
    "# 이미 저장된 vector DB를 사용할 때\n",
    "# database = Chroma(\n",
    "#     embedding_function=embedding,\n",
    "#     collection_name = \"tax-collection\",\n",
    "#     persist_directory = './chroma'\n",
    "# )"
   ]
  },
  {
   "cell_type": "markdown",
   "id": "a48491fa",
   "metadata": {},
   "source": [
    "# 3. vector DB에 질문과 유사도 검색 (답변 생성을 위한 retrieval)"
   ]
  },
  {
   "cell_type": "code",
   "execution_count": 6,
   "id": "3cc40fea",
   "metadata": {},
   "outputs": [],
   "source": [
    "query = \"연봉 5천만원인 직장인의 소득세는 얼마인가요?\"\n",
    "retrieved_docs = database.similarity_search(query,\n",
    "                                           k = 3)  # 기본 k는 4"
   ]
  },
  {
   "cell_type": "code",
   "execution_count": 7,
   "id": "4c068b77",
   "metadata": {
    "scrolled": true
   },
   "outputs": [
    {
     "data": {
      "text/plain": [
       "[Document(id='fba1389a-6f11-483b-9ea8-5c56c7291282', metadata={'source': './tax_docs/소득세법(법률)(제20615호)(20250701).docx'}, page_content='2. 2명인 경우: 연 55만원\\n\\n3. 3명 이상인 경우: 연 55만원과 2명을 초과하는 1명당 연 40만원을 합한 금액\\n\\n② 삭제<2017. 12. 19.>\\n\\n③ 해당 과세기간에 출산하거나 입양 신고한 공제대상자녀가 있는 경우 다음 각 호의 구분에 따른 금액을 종합소득산출세액에서 공제한다.<신설 2015. 5. 13., 2016. 12. 20.>\\n\\n1. 출산하거나 입양 신고한 공제대상자녀가 첫째인 경우: 연 30만원\\n\\n2. 출산하거나 입양 신고한 공제대상자녀가 둘째인 경우: 연 50만원\\n\\n3. 출산하거나 입양 신고한 공제대상자녀가 셋째 이상인 경우: 연 70만원\\n\\n④ 제1항 및 제3항에 따른 공제를 “자녀세액공제”라 한다.<신설 2015. 5. 13., 2017. 12. 19.>\\n\\n[본조신설 2014. 1. 1.]\\n\\n[종전 제59조의2는 제59조의5로 이동 <2014. 1. 1.>]\\n\\n\\n\\n제59조의3(연금계좌세액공제) ① 종합소득이 있는 거주자가 연금계좌에 납입한 금액 중 다음 각 호에 해당하는 금액을 제외한 금액(이하 “연금계좌 납입액”이라 한다)의 100분의 12[해당 과세기간에 종합소득과세표준을 계산할 때 합산하는 종합소득금액이 4천 500만원 이하(근로소득만 있는 경우에는 총급여액 5천 500만원 이하)인 거주자에 대해서는 100분의 15]에 해당하는 금액을 해당 과세기간의 종합소득산출세액에서 공제한다. 다만, 연금계좌 중 연금저축계좌에 납입한 금액이 연 600만원을 초과하는 경우에는 그 초과하는 금액은 없는 것으로 하고, 연금저축계좌에 납입한 금액 중 600만원 이내의 금액과 퇴직연금계좌에 납입한 금액을 합한 금액이 연 900만원을 초과하는 경우에는 그 초과하는 금액은 없는 것으로 한다. <개정 2014. 12. 23., 2015. 5. 13., 2016. 12. 20., 2022. 12. 31.>\\n\\n1. 제146조제2항에 따라 소득세가 원천징수되지 아니한 퇴직소득 등 과세가 이연된 소득\\n\\n2. 연금계좌에서 다른 연금계좌로 계약을 이전함으로써 납입되는 금액\\n\\n② 제1항에 따른 공제를 “연금계좌세액공제”라 한다.\\n\\n③ 「조세특례제한법」 제91조의18에 따른 개인종합자산관리계좌의 계약기간이 만료되고 해당 계좌 잔액의 전부 또는 일부를 대통령령으로 정하는 방법으로 연금계좌로 납입한 경우 그 납입한 금액(이하 이 조에서 “전환금액”이라 한다)을 납입한 날이 속하는 과세기간의 연금계좌 납입액에 포함한다.<신설 2019. 12. 31.>\\n\\n④ 전환금액이 있는 경우에는 제1항 각 호 외의 부분 단서에도 불구하고 같은 항을 적용할 때 전환금액의 100분의 10 또는 300만원(직전 과세기간과 해당 과세기간에 걸쳐 납입한 경우에는 300만원에서 직전 과세기간에 적용된 금액을 차감한 금액으로 한다) 중 적은 금액과 제1항 각 호 외의 부분 단서에 따라 연금계좌에 납입한 금액으로 하는 금액을 합한 금액을 초과하는 금액은 없는 것으로 한다.<신설 2019. 12. 31.>'),\n",
       " Document(id='dcca29e6-b01a-46b8-95ed-4558e71512d6', metadata={'source': './tax_docs/소득세법(법률)(제20615호)(20250701).docx'}, page_content='제5관 근로소득공제ㆍ연금소득공제 및 퇴직소득공제 <개정 2009. 12. 31.>\\n\\n\\n\\n제47조(근로소득공제) ①근로소득이 있는 거주자에 대해서는 해당 과세기간에 받는 총급여액에서 다음의 금액을 공제한다. 다만, 공제액이 2천만원을 초과하는 경우에는 2천만원을 공제한다. <개정 2012. 1. 1., 2014. 1. 1., 2019. 12. 31.>\\n\\n\\n\\n② 일용근로자에 대한 공제액은 제1항에도 불구하고 1일 15만원으로 한다.<개정 2018. 12. 31.>\\n\\n③ 근로소득이 있는 거주자의 해당 과세기간의 총급여액이 제1항 또는 제2항의 공제액에 미달하는 경우에는 그 총급여액을 공제액으로 한다.\\n\\n④ 제1항부터 제3항까지의 규정에 따른 공제를 “근로소득공제”라 한다.\\n\\n⑤ 제1항의 경우에 2인 이상으로부터 근로소득을 받는 사람(일용근로자는 제외한다)에 대하여는 그 근로소득의 합계액을 총급여액으로 하여 제1항에 따라 계산한 근로소득공제액을 총급여액에서 공제한다.<개정 2010. 12. 27.>\\n\\n⑥ 삭제<2010. 12. 27.>\\n\\n[전문개정 2009. 12. 31.]\\n\\n\\n\\n제47조의2(연금소득공제) ①연금소득이 있는 거주자에 대해서는 해당 과세기간에 받은 총연금액(분리과세연금소득은 제외하며, 이하 이 항에서 같다)에서 다음 표에 규정된 금액을 공제한다. 다만, 공제액이 900만원을 초과하는 경우에는 900만원을 공제한다. <개정 2013. 1. 1.>\\n\\n\\n\\n② 제1항에 따른 공제를 “연금소득공제”라 한다.\\n\\n[전문개정 2009. 12. 31.]\\n\\n\\n\\n제48조(퇴직소득공제) ① 퇴직소득이 있는 거주자에 대해서는 해당 과세기간의 퇴직소득금액에서 제1호의 구분에 따른 금액을 공제하고, 그 금액을 근속연수(1년 미만의 기간이 있는 경우에는 이를 1년으로 보며, 제22조제1항제1호의 경우에는 대통령령으로 정하는 방법에 따라 계산한 연수를 말한다. 이하 같다)로 나누고 12를 곱한 후의 금액(이하 이 항에서 “환산급여”라 한다)에서 제2호의 구분에 따른 금액을 공제한다. <개정 2014. 12. 23., 2022. 12. 31.>\\n\\n1. 근속연수에 따라 정한 다음의 금액\\n\\n\\n\\n2. 환산급여에 따라 정한 다음의 금액\\n\\n\\n\\n② 해당 과세기간의 퇴직소득금액이 제1항제1호에 따른 공제금액에 미달하는 경우에는 그 퇴직소득금액을 공제액으로 한다.<개정 2014. 12. 23.>\\n\\n③ 제1항과 제2항에 따른 공제를 “퇴직소득공제”라 한다.\\n\\n④ 퇴직소득공제의 계산 방법에 관하여 필요한 사항은 대통령령으로 정한다.<개정 2013. 1. 1.>\\n\\n⑤ 삭제<2013. 1. 1.>\\n\\n[전문개정 2009. 12. 31.]\\n\\n\\n\\n제49조 삭제 <2006. 12. 30.>\\n\\n\\n\\n제6관 종합소득공제 <개정 2009. 12. 31.>'),\n",
       " Document(id='64fdf197-bb0c-4a7d-91a1-1dcd9bb2c7c0', metadata={'source': './tax_docs/소득세법(법률)(제20615호)(20250701).docx'}, page_content='③ 제1항에 따른 공제를 “재해손실세액공제”라 한다.\\n\\n④ 재해손실세액공제를 적용받으려는 자는 대통령령으로 정하는 바에 따라 관할 세무서장에게 신청할 수 있다.\\n\\n⑤ 관할 세무서장이 제4항의 신청을 받았을 때에는 그 공제할 세액을 결정하여 신청인에게 알려야 한다.\\n\\n⑥ 제4항의 신청이 없는 경우에도 제1항을 적용한다.\\n\\n⑦ 집단적으로 재해가 발생한 경우에는 대통령령으로 정하는 바에 따라 관할 세무서장이 조사결정한 자산상실비율에 따라 제1항을 적용한다.\\n\\n⑧ 재해손실세액공제에 관하여 필요한 사항은 대통령령으로 정한다.\\n\\n[전문개정 2009. 12. 31.]\\n\\n\\n\\n제59조(근로소득세액공제) ①근로소득이 있는 거주자에 대해서는 그 근로소득에 대한 종합소득산출세액에서 다음의 금액을 공제한다. <개정 2014. 1. 1., 2015. 5. 13.>\\n\\n\\n\\n② 제1항에도 불구하고 공제세액이 다음 각 호의 구분에 따른 금액을 초과하는 경우에 그 초과하는 금액은 없는 것으로 한다.<신설 2014. 1. 1., 2015. 5. 13., 2022. 12. 31.>\\n\\n1. 총급여액이 3천 300만원 이하인 경우: 74만원\\n\\n2. 총급여액이 3천 300만원 초과 7천만원 이하인 경우: 74만원 - [(총급여액 - 3천 300만원) × 8/1000]. 다만, 위 금액이 66만원보다 적은 경우에는 66만원으로 한다.\\n\\n3. 총급여액이 7천만원 초과 1억2천만원 이하인 경우: 66만원 - [(총급여액 - 7천만원) × 1/2]. 다만, 위 금액이 50만원보다 적은 경우에는 50만원으로 한다.\\n\\n4. 총급여액이 1억2천만원을 초과하는 경우: 50만원 - [(총급여액 - 1억2천만원) × 1/2]. 다만, 위 금액이 20만원보다 적은 경우에는 20만원으로 한다.\\n\\n③ 일용근로자의 근로소득에 대해서 제134조제3항에 따른 원천징수를 하는 경우에는 해당 근로소득에 대한 산출세액의 100분의 55에 해당하는 금액을 그 산출세액에서 공제한다.<개정 2014. 1. 1.>\\n\\n[전문개정 2012. 1. 1.]\\n\\n\\n\\n제59조의2(자녀세액공제) ①종합소득이 있는 거주자의 기본공제대상자에 해당하는 자녀(입양자 및 위탁아동을 포함하며, 이하 이 조에서 “공제대상자녀”라 한다) 및 손자녀로서 8세 이상의 사람에 대해서는 다음 각 호의 구분에 따른 금액을 종합소득산출세액에서 공제한다. <개정 2015. 5. 13., 2017. 12. 19., 2018. 12. 31., 2019. 12. 31., 2022. 12. 31., 2023. 12. 31., 2024. 12. 31.>\\n\\n1. 1명인 경우: 연 25만원\\n\\n2. 2명인 경우: 연 55만원\\n\\n3. 3명 이상인 경우: 연 55만원과 2명을 초과하는 1명당 연 40만원을 합한 금액\\n\\n② 삭제<2017. 12. 19.>\\n\\n③ 해당 과세기간에 출산하거나 입양 신고한 공제대상자녀가 있는 경우 다음 각 호의 구분에 따른 금액을 종합소득산출세액에서 공제한다.<신설 2015. 5. 13., 2016. 12. 20.>')]"
      ]
     },
     "execution_count": 7,
     "metadata": {},
     "output_type": "execute_result"
    }
   ],
   "source": [
    "retrieved_docs"
   ]
  },
  {
   "cell_type": "markdown",
   "id": "f18f8c0a",
   "metadata": {},
   "source": [
    "# 4. 유사도 검색으로 가져온 문서를 질문과 같이 LLM 전달하여 답변 생성"
   ]
  },
  {
   "cell_type": "code",
   "execution_count": 8,
   "id": "64f815c9",
   "metadata": {},
   "outputs": [],
   "source": [
    "from langchain_openai import ChatOpenAI\n",
    "\n",
    "llm = ChatOpenAI(model = \"gpt-4.1-nano\")"
   ]
  },
  {
   "cell_type": "code",
   "execution_count": 9,
   "id": "e0e59134",
   "metadata": {},
   "outputs": [],
   "source": [
    "prompt = f\"\"\"[identity]\n",
    "- 당신은 최고의 한국 소득세 전문자입니다\n",
    "- [context]를 참고해서 사용자의 질문에 답변해 주세요\n",
    "[context]는 다음과 같아요\n",
    "{retrieved_docs}\n",
    "Question : {query}\"\"\""
   ]
  },
  {
   "cell_type": "code",
   "execution_count": 10,
   "id": "0c2c34a1",
   "metadata": {},
   "outputs": [],
   "source": [
    "ai_message = llm.invoke(prompt)"
   ]
  },
  {
   "cell_type": "code",
   "execution_count": 11,
   "id": "4a8abcc5",
   "metadata": {},
   "outputs": [
    {
     "name": "stdout",
     "output_type": "stream",
     "text": [
      "연봉이 5천만원인 직장인의 소득세를 계산하기 위해서는 기본공제와 여러 공제 항목을 고려하여 과세표준을 산출하고, 그 과세표준에 따른 세율을 적용해야 합니다. 아래는 일반적인 계산 과정입니다.\n",
      "\n",
      "1. 근로소득공제 계산\n",
      "- 총급여액: 50,000,000원\n",
      "- 근로소득공제 한도: 2,000만원\n",
      "- 계산: 총급여액이 2천만원 이상이므로, 최대 공제액인 2,000만원 적용\n",
      "- 근로소득공제액: 20,000,000원\n",
      "\n",
      "2. 기타 공제 항목\n",
      "- 기본공제 (본인): 150만원\n",
      "- 자녀세액공제 등 기타 공제는 상세 정보가 없으니, 기본공제만 적용한다고 가정\n",
      "\n",
      "3. 과세표준 계산\n",
      "- 총급여액: 50,000,000원\n",
      "- 공제합계 (근로소득공제 + 기본공제): 20,000,000원 + 1,500,000원 = 21,500,000원\n",
      "- 과세표준: 50,000,000원 - 21,500,000원 = 28,500,000원\n",
      "\n",
      "4. 소득세율 적용\n",
      "- 과세표준 28,500,000원에 대한 세율은 24% 구간(1,200만원 초과 ~ 4,600만원 이하)이므로,\n",
      "- 세액: 28,500,000원 × 24% = 6,840,000원\n",
      "\n",
      "5. 세액공제 고려\n",
      "- 근로소득세액공제는 일정 금액(예: 66만원~74만원)이 있으며, 계산 시 차감\n",
      "- 예를 들어, 근로소득세액공제 66만원 적용\n",
      "- 최종 세금: 6,840,000원 - 660,000원 = 6,180,000원\n",
      "\n",
      "**요약:**  \n",
      "이 직장인의 예상 소득세는 약 6,180,000원입니다.\n",
      "\n",
      "※ 참고: 정확한 세액은 모든 공제 항목과 개별 세액공제, 세율 표에 따라 달라질 수 있으니, 국세청 홈택스의 근로소득 세액 계산기를 이용하거나 세무 전문가와 상담하시기를 권장합니다.\n"
     ]
    }
   ],
   "source": [
    "print(ai_message.content)"
   ]
  },
  {
   "cell_type": "markdown",
   "id": "caa67b36",
   "metadata": {},
   "source": [
    "# 5. Augmentation을 위한 제공되는 Prompt활용하여 langchain으로 답변 생성"
   ]
  },
  {
   "cell_type": "code",
   "execution_count": 12,
   "id": "82661e09",
   "metadata": {},
   "outputs": [
    {
     "name": "stderr",
     "output_type": "stream",
     "text": [
      "C:\\Users\\Admin\\anaconda3\\envs\\llm\\lib\\site-packages\\langsmith\\client.py:272: LangSmithMissingAPIKeyWarning: API key must be provided when using hosted LangSmith API\n",
      "  warnings.warn(\n"
     ]
    },
    {
     "data": {
      "text/plain": [
       "ChatPromptTemplate(input_variables=['context', 'question'], input_types={}, partial_variables={}, metadata={'lc_hub_owner': 'rlm', 'lc_hub_repo': 'rag-prompt', 'lc_hub_commit_hash': '50442af133e61576e74536c6556cefe1fac147cad032f4377b60c436e6cdcb6e'}, messages=[HumanMessagePromptTemplate(prompt=PromptTemplate(input_variables=['context', 'question'], input_types={}, partial_variables={}, template=\"You are an assistant for question-answering tasks. Use the following pieces of retrieved context to answer the question. If you don't know the answer, just say that you don't know. Use three sentences maximum and keep the answer concise.\\nQuestion: {question} \\nContext: {context} \\nAnswer:\"), additional_kwargs={})])"
      ]
     },
     "execution_count": 12,
     "metadata": {},
     "output_type": "execute_result"
    }
   ],
   "source": [
    "query = \"연봉 5천만원인 직장인의 소득세는 얼마인가요?\"\n",
    "\n",
    "from langchain import hub\n",
    "prompt = hub.pull(\"rlm/rag-prompt\")\n",
    "prompt"
   ]
  },
  {
   "cell_type": "markdown",
   "id": "7cf14cb5",
   "metadata": {},
   "source": [
    "## RetrievalQA를 통해 LLM전달 (create_retrieval_chain이 대체)\n",
    "\n",
    "```\n",
    " query → retriever 전달 (백터 검색 수행) \n",
    " → retrieval문서 → prompt의 {context}에 삽입\n",
    " → query → prompt의 {question}에 삽입\n",
    "```"
   ]
  },
  {
   "cell_type": "code",
   "execution_count": 13,
   "id": "6c907749",
   "metadata": {},
   "outputs": [],
   "source": [
    "from langchain.chains import RetrievalQA\n",
    "\n",
    "qa_chain = RetrievalQA.from_chain_type(\n",
    "    llm,\n",
    "    retriever = database.as_retriever(search_kwargs = {'k':5}),\n",
    "    chain_type_kwargs = {\"prompt\":prompt}\n",
    ")"
   ]
  },
  {
   "cell_type": "code",
   "execution_count": 14,
   "id": "408ec0e9",
   "metadata": {},
   "outputs": [],
   "source": [
    "ai_message = qa_chain.invoke({\"query\":query})"
   ]
  },
  {
   "cell_type": "code",
   "execution_count": 15,
   "id": "171d28f5",
   "metadata": {},
   "outputs": [
    {
     "data": {
      "text/plain": [
       "{'query': '연봉 5천만원인 직장인의 소득세는 얼마인가요?',\n",
       " 'result': '연봉 5천만원인 직장인의 소득세는 근로소득공제(최대 2천만원) 후 과세표준에 세율을 적용하여 계산하며, 세율은 소득범위에 따라 다릅니다. 구체적인 금액은 제공된 정보만으로 계산하기 어렵지만, 예를 들어 근로소득공제 후 과세표준이 일정 수준일 경우 세율에 따라 대략 1백만원 내외의 세금이 부과될 수 있습니다. 정확한 세액 계산을 위해서는 총급여액, 근로소득공제, 기타 공제액 등을 상세히 알아야 합니다.'}"
      ]
     },
     "execution_count": 15,
     "metadata": {},
     "output_type": "execute_result"
    }
   ],
   "source": [
    "ai_message"
   ]
  }
 ],
 "metadata": {
  "kernelspec": {
   "display_name": "llm(ipykernel)",
   "language": "python",
   "name": "llm"
  },
  "language_info": {
   "codemirror_mode": {
    "name": "ipython",
    "version": 3
   },
   "file_extension": ".py",
   "mimetype": "text/x-python",
   "name": "python",
   "nbconvert_exporter": "python",
   "pygments_lexer": "ipython3",
   "version": "3.10.18"
  },
  "toc": {
   "base_numbering": 1,
   "nav_menu": {},
   "number_sections": false,
   "sideBar": true,
   "skip_h1_title": false,
   "title_cell": "Table of Contents",
   "title_sidebar": "Contents",
   "toc_cell": false,
   "toc_position": {
    "height": "calc(100% - 180px)",
    "left": "10px",
    "top": "150px",
    "width": "240.55px"
   },
   "toc_section_display": true,
   "toc_window_display": true
  }
 },
 "nbformat": 4,
 "nbformat_minor": 5
}
