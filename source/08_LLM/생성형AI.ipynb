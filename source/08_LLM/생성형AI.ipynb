{
 "cells": [
  {
   "cell_type": "code",
   "execution_count": 1,
   "id": "db3f2797",
   "metadata": {},
   "outputs": [
    {
     "data": {
      "text/html": [
       "<style>\n",
       "div.container{width:86% !important;}\n",
       "div.cell.code_cell.rendered{width:100%;}\n",
       "div.CodeMirror {font-family:Consolas; font-size:12pt;}\n",
       "div.output {font-size:12pt; font-weight:bold;}\n",
       "div.input {font-family:Consolas; font-size:12pt;}\n",
       "div.prompt {min-width:70px;}\n",
       "div#toc-wrapper{padding-top:120px;}\n",
       "div.text_cell_render ul li{fontsize:12pt;padding:5px;}\n",
       "table.dataframe{font-size:12px;}))\n",
       "</style>\n"
      ],
      "text/plain": [
       "<IPython.core.display.HTML object>"
      ]
     },
     "metadata": {},
     "output_type": "display_data"
    }
   ],
   "source": [
    "from IPython.display import display, HTML\n",
    "display(HTML(\"\"\"<style>\n",
    "div.container{width:86% !important;}\n",
    "div.cell.code_cell.rendered{width:100%;}\n",
    "div.CodeMirror {font-family:Consolas; font-size:12pt;}\n",
    "div.output {font-size:12pt; font-weight:bold;}\n",
    "div.input {font-family:Consolas; font-size:12pt;}\n",
    "div.prompt {min-width:70px;}\n",
    "div#toc-wrapper{padding-top:120px;}\n",
    "div.text_cell_render ul li{fontsize:12pt;padding:5px;}\n",
    "table.dataframe{font-size:12px;}))\n",
    "</style>\n",
    "\"\"\"))"
   ]
  },
  {
   "cell_type": "code",
   "execution_count": 2,
   "id": "ca3c0fb7",
   "metadata": {},
   "outputs": [],
   "source": [
    "from langchain_ollama import ChatOllama\n",
    "from langchain_core.prompts import PromptTemplate\n",
    "from langchain_core.output_parsers import JsonOutputParser"
   ]
  },
  {
   "cell_type": "code",
   "execution_count": 3,
   "id": "36b867fc",
   "metadata": {},
   "outputs": [],
   "source": [
    "llm = ChatOllama(model = \"llama3.2:1b\", \n",
    "                 temperature = 0)"
   ]
  },
  {
   "cell_type": "code",
   "execution_count": 4,
   "id": "2a723544",
   "metadata": {},
   "outputs": [],
   "source": [
    "food_prompt = PromptTemplate(\n",
    "    template = \"\"\"Provide the following information about {country}:\n",
    "    - The most famous dish\n",
    "    Respond ONLY with a JSON dictionary in this format:\n",
    "    {{\n",
    "      \"food\":\"name of the dish\"\n",
    "    }}\n",
    "    \"\"\",\n",
    "    input_variables = [\"country\"]\n",
    ")"
   ]
  },
  {
   "cell_type": "code",
   "execution_count": 5,
   "id": "04fb6ab8",
   "metadata": {},
   "outputs": [],
   "source": [
    "recipe_prompt = PromptTemplate(\n",
    "    template = \"\"\"Given the food name '{food}', provide a detailed recipe.\n",
    "    Return ONLY a JSON dictionary with:\n",
    "    - ingredients: a list of ingredients\n",
    "    - steps: a list of preparation steps\n",
    "    \"\"\",\n",
    "    input_variables = [\"food\"]\n",
    ")"
   ]
  },
  {
   "cell_type": "code",
   "execution_count": 6,
   "id": "2afadd20",
   "metadata": {},
   "outputs": [],
   "source": [
    "json_parser = JsonOutputParser()"
   ]
  },
  {
   "cell_type": "code",
   "execution_count": 7,
   "id": "d9dfe07d",
   "metadata": {},
   "outputs": [
    {
     "name": "stdout",
     "output_type": "stream",
     "text": [
      "추천 음식 : Pasta Carbonara\n"
     ]
    }
   ],
   "source": [
    "food_data = json_parser.invoke(llm.invoke(food_prompt.invoke({\"country\":\"Italy\"})))\n",
    "print(f\"추천 음식 : {food_data['food']}\")"
   ]
  },
  {
   "cell_type": "code",
   "execution_count": 8,
   "id": "ec9b59e3",
   "metadata": {},
   "outputs": [],
   "source": [
    "recipe_data = json_parser.invoke(llm.invoke(recipe_prompt.invoke({\"food\":food_data[\"food\"]})))"
   ]
  },
  {
   "cell_type": "code",
   "execution_count": 11,
   "id": "13700653",
   "metadata": {},
   "outputs": [
    {
     "name": "stdout",
     "output_type": "stream",
     "text": [
      "레시피 재료 :\n",
      "1. {'name': 'Pancetta or Bacon', 'quantity': '4 slices'}\n",
      "2. {'name': 'Large Eggs', 'quantity': '3'}\n",
      "3. {'name': 'Grated Parmesan Cheese', 'quantity': '1 cup'}\n",
      "4. {'name': 'Pasta of Your Choice (Spaghetti or Fettuccine)', 'quantity': '12 oz'}\n"
     ]
    }
   ],
   "source": [
    "print(\"레시피 재료 :\")\n",
    "for i, ingredient in enumerate(recipe_data.get(\"ingredients\", []), 1) :\n",
    "    print(f\"{i}. {ingredient}\")"
   ]
  },
  {
   "cell_type": "code",
   "execution_count": 12,
   "id": "5f86bbcc",
   "metadata": {},
   "outputs": [
    {
     "name": "stdout",
     "output_type": "stream",
     "text": [
      "레시피 조리 단계 :\n",
      "1. Bring a large pot of salted water to a boil and cook the pasta according to package instructions until al dente. Reserve 1 cup of pasta water before draining.\n",
      "2. In a large skillet, cook the pancetta or bacon over medium heat until crispy. Remove from heat and set aside.\n",
      "3. In a medium bowl, whisk together the eggs, Parmesan cheese, and a pinch of salt and pepper.\n",
      "4. Add the cooked pasta to the bowl with the egg mixture and toss to combine, adding some reserved pasta water if the mixture seems too thick.\n",
      "5. Add the cooked pancetta or bacon to the pasta mixture and toss to combine.\n",
      "6. Season with black pepper to taste.\n"
     ]
    }
   ],
   "source": [
    "print(\"레시피 조리 단계 :\")\n",
    "for i, step in enumerate(recipe_data.get(\"steps\", []), 1):\n",
    "    print(f\"{i}. {step}\")"
   ]
  }
 ],
 "metadata": {
  "kernelspec": {
   "display_name": "llm(ipykernel)",
   "language": "python",
   "name": "llm"
  },
  "language_info": {
   "codemirror_mode": {
    "name": "ipython",
    "version": 3
   },
   "file_extension": ".py",
   "mimetype": "text/x-python",
   "name": "python",
   "nbconvert_exporter": "python",
   "pygments_lexer": "ipython3",
   "version": "3.10.18"
  },
  "toc": {
   "base_numbering": 1,
   "nav_menu": {},
   "number_sections": false,
   "sideBar": true,
   "skip_h1_title": false,
   "title_cell": "Table of Contents",
   "title_sidebar": "Contents",
   "toc_cell": false,
   "toc_position": {
    "height": "calc(100% - 180px)",
    "left": "10px",
    "top": "150px",
    "width": "185.352px"
   },
   "toc_section_display": true,
   "toc_window_display": true
  }
 },
 "nbformat": 4,
 "nbformat_minor": 5
}
