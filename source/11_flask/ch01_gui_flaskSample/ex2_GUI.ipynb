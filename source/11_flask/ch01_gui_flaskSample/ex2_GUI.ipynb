{
 "cells": [
  {
   "cell_type": "code",
   "execution_count": 1,
   "id": "ba7e34ac",
   "metadata": {},
   "outputs": [
    {
     "data": {
      "text/html": [
       "\n",
       "<style>\n",
       "div.container{width:95% !important;}\n",
       "div.cell.code_cell.rendered{width:92%;}\n",
       "div.text_cell_render.rendered_html{width:90%;}\n",
       "div.input_prompt{padding:0px;}\n",
       "div.CodeMirror {font-family:Consolas; font-size:20pt;}\n",
       "table.simpletable{font-size:18pt;}\n",
       "div.text_cell_render.rendered_html{font-size:18pt;}\n",
       "div.text_cell_render.rendered_html{font-size:18pt;}\n",
       "div.output {font-size:18pt; font-weight:bold;}\n",
       "div.input {font-family:Consolas; font-size:18pt;}\n",
       "div.prompt {min-width:70px;}\n",
       "div#toc-wrapper{padding-top:120px;}\n",
       "div.text_cell_render ul li{font-size:18pt;padding:5px;}\n",
       "table.dataframe{font-size:18px;}\n",
       "</style>\n"
      ],
      "text/plain": [
       "<IPython.core.display.HTML object>"
      ]
     },
     "metadata": {},
     "output_type": "display_data"
    }
   ],
   "source": [
    "from IPython.display import display, HTML\n",
    "display(HTML(\"\"\"\n",
    "<style>\n",
    "div.container{width:95% !important;}\n",
    "div.cell.code_cell.rendered{width:92%;}\n",
    "div.text_cell_render.rendered_html{width:90%;}\n",
    "div.input_prompt{padding:0px;}\n",
    "div.CodeMirror {font-family:Consolas; font-size:20pt;}\n",
    "table.simpletable{font-size:18pt;}\n",
    "div.text_cell_render.rendered_html{font-size:18pt;}\n",
    "div.text_cell_render.rendered_html{font-size:18pt;}\n",
    "div.output {font-size:18pt; font-weight:bold;}\n",
    "div.input {font-family:Consolas; font-size:18pt;}\n",
    "div.prompt {min-width:70px;}\n",
    "div#toc-wrapper{padding-top:120px;}\n",
    "div.text_cell_render ul li{font-size:18pt;padding:5px;}\n",
    "table.dataframe{font-size:18px;}\n",
    "</style>\n",
    "\"\"\"))"
   ]
  },
  {
   "cell_type": "markdown",
   "id": "b9208fc3",
   "metadata": {},
   "source": [
    "- 모델 load하여, GUI(윈도우즈)창을 통해 입력받은 값으로 예측한 결과 GUI창에 출력"
   ]
  },
  {
   "cell_type": "code",
   "execution_count": 2,
   "id": "f28dc3f4",
   "metadata": {},
   "outputs": [],
   "source": [
    "import joblib\n",
    "import tkinter as tk # GUI(그래픽 사용자 인터페이스 창을 띄우기 위함)"
   ]
  },
  {
   "cell_type": "code",
   "execution_count": 4,
   "id": "96e1ef7b",
   "metadata": {},
   "outputs": [],
   "source": [
    "model = joblib.load('../model/ex1_apt_price_regression.joblib')\n",
    "#model.summary()"
   ]
  },
  {
   "cell_type": "code",
   "execution_count": 15,
   "id": "5d88a543",
   "metadata": {},
   "outputs": [
    {
     "name": "stdout",
     "output_type": "stream",
     "text": [
      "예상금액 : 155,295만원입니다\n",
      "예상금액 : 150,918만원입니다\n"
     ]
    }
   ],
   "source": [
    "def on_submit(event=None):\n",
    "    '입력된 건축년도, 전용면적, 층수를 예측한 결과 출력'\n",
    "    year = int(year_entry.get())\n",
    "    square = int(square_entry.get())\n",
    "    floor  = int(floor_entry.get())\n",
    "    model = joblib.load('../model/ex1_apt_price_regression.joblib')\n",
    "    result = round(model.predict([year, square, floor, 1])[0])\n",
    "    result_msg = \"예상금액 : {}만원입니다\".format( format(result, ',') )\n",
    "    pred_label.configure(text=result_msg)\n",
    "    print(result_msg)\n",
    "    \n",
    "    # 예상 금액 출력 후 입력값 비우고 year_entry에 포커싱\n",
    "    year_entry.delete(0, len(year_entry.get())) # 비추\n",
    "    square_entry.delete(0, tk.END) \n",
    "    floor_entry.delete(0, tk.END)  \n",
    "    year_entry.focus_set()\n",
    "    \n",
    "root = tk.Tk()\n",
    "root.geometry(\"300x250\")\n",
    "year_label = tk.Label(root, text=\"건축년도\")\n",
    "year_label.pack()\n",
    "year_entry = tk.Entry(root)\n",
    "year_entry.pack(pady=5) # pady : 위아래 여백\n",
    "\n",
    "square_label = tk.Label(root, text=\"전용면적\")\n",
    "square_label.pack()\n",
    "square_entry = tk.Entry(root)\n",
    "square_entry.pack(pady=5) # pady : 위아래 여백\n",
    "\n",
    "floor_label = tk.Label(root, text=\"층 수\")\n",
    "floor_label.pack()\n",
    "floor_entry = tk.Entry(root)\n",
    "floor_entry.pack(pady=5) # pady : 위아래 여백\n",
    "\n",
    "submit_button = tk.Button(root, text=\"예측\", \n",
    "                         command=on_submit\n",
    "                         )\n",
    "submit_button.pack(pady=15)\n",
    "\n",
    "pred_label = tk.Label(root, text=\"예측 금액 출력 예정\")\n",
    "pred_label.pack(pady=10)\n",
    "\n",
    "year_entry.focus_set() # GUI창이 포커싱되면 year_entry에 자동 포커싱\n",
    "root.bind('<Return>', on_submit)\n",
    "root.mainloop()"
   ]
  },
  {
   "cell_type": "code",
   "execution_count": null,
   "id": "08e9cea3",
   "metadata": {},
   "outputs": [],
   "source": []
  },
  {
   "cell_type": "code",
   "execution_count": null,
   "id": "875c0887",
   "metadata": {},
   "outputs": [],
   "source": []
  },
  {
   "cell_type": "code",
   "execution_count": null,
   "id": "85ddc17f",
   "metadata": {},
   "outputs": [],
   "source": []
  },
  {
   "cell_type": "code",
   "execution_count": null,
   "id": "14ee7ecd",
   "metadata": {},
   "outputs": [],
   "source": []
  },
  {
   "cell_type": "code",
   "execution_count": null,
   "id": "baac9040",
   "metadata": {},
   "outputs": [],
   "source": []
  }
 ],
 "metadata": {
  "kernelspec": {
   "display_name": "Python 3 (ipykernel)",
   "language": "python",
   "name": "python3"
  },
  "language_info": {
   "codemirror_mode": {
    "name": "ipython",
    "version": 3
   },
   "file_extension": ".py",
   "mimetype": "text/x-python",
   "name": "python",
   "nbconvert_exporter": "python",
   "pygments_lexer": "ipython3",
   "version": "3.10.9"
  },
  "toc": {
   "base_numbering": 1,
   "nav_menu": {},
   "number_sections": false,
   "sideBar": true,
   "skip_h1_title": false,
   "title_cell": "Table of Contents",
   "title_sidebar": "Contents",
   "toc_cell": false,
   "toc_position": {},
   "toc_section_display": true,
   "toc_window_display": false
  }
 },
 "nbformat": 4,
 "nbformat_minor": 5
}
