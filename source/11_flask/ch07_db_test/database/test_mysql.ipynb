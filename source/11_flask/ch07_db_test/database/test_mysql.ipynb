{
 "cells": [
  {
   "cell_type": "code",
   "execution_count": 1,
   "id": "41dd56d8",
   "metadata": {},
   "outputs": [],
   "source": [
    "# pip install pymysql \n",
    "import pymysql\n",
    "conn = pymysql.connect(host=\"210.121.189.12\",\n",
    "                      user=\"remoteuser\",\n",
    "                      password=\"mbcdkzkepal0902!\",\n",
    "                      database=\"devdb\",\n",
    "                      charset=\"utf8\") "
   ]
  },
  {
   "cell_type": "code",
   "execution_count": 3,
   "id": "02152458",
   "metadata": {},
   "outputs": [
    {
     "name": "stdout",
     "output_type": "stream",
     "text": [
      "수행결과 :  1\n"
     ]
    }
   ],
   "source": [
    "cursor = conn.cursor()\n",
    "sql = \"INSERT INTO PERSONAL VALUES (%s, %s, 'ceo', null, curdate(), 9000,10,40)\"\n",
    "pno = input(\"Enter Personal No:\")\n",
    "pname = input(\"Enter Personal Name:\")\n",
    "cursor.execute(sql, (pno, pname))\n",
    "print(\"수행결과 : \", cursor.rowcount)\n",
    "# conn.commit()\n",
    "cursor.close()"
   ]
  },
  {
   "cell_type": "code",
   "execution_count": null,
   "id": "8a089a4f",
   "metadata": {},
   "outputs": [],
   "source": []
  }
 ],
 "metadata": {
  "kernelspec": {
   "display_name": ".venv",
   "language": "python",
   "name": "python3"
  },
  "language_info": {
   "codemirror_mode": {
    "name": "ipython",
    "version": 3
   },
   "file_extension": ".py",
   "mimetype": "text/x-python",
   "name": "python",
   "nbconvert_exporter": "python",
   "pygments_lexer": "ipython3",
   "version": "3.10.9"
  }
 },
 "nbformat": 4,
 "nbformat_minor": 5
}
